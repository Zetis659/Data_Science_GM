{
 "cells": [
  {
   "cell_type": "markdown",
   "source": [
    "## Использование Colab"
   ],
   "metadata": {
    "collapsed": false,
    "pycharm": {
     "name": "#%% md\n"
    }
   }
  },
  {
   "cell_type": "markdown",
   "source": [
    "#### Файл\n",
    "https://drive.google.com/file/d/1BIMGEL4dM5sTICBDQriwfWgjpdQp3Yo9/view?usp=sharing\n",
    "#### ДатаСет\n",
    "https://www.kaggle.com/datasets/arashnic/hr-analytics-job-change-of-data-scientists"
   ],
   "metadata": {
    "id": "zvj6QucflJXd"
   }
  },
  {
   "cell_type": "code",
   "source": [
    "! gdown --id 1BIMGEL4dM5sTICBDQriwfWgjpdQp3Yo9"
   ],
   "metadata": {
    "colab": {
     "base_uri": "https://localhost:8080/"
    },
    "id": "Ssm85RiSlLot",
    "executionInfo": {
     "status": "ok",
     "timestamp": 1683974086024,
     "user_tz": -180,
     "elapsed": 2912,
     "user": {
      "displayName": "Sergey Zavodun",
      "userId": "13975373041411226899"
     }
    },
    "outputId": "ee9f31dc-8429-4384-f97d-4e679b8f03a3"
   },
   "execution_count": 1,
   "outputs": [
    {
     "name": "stderr",
     "output_type": "stream",
     "text": [
      "\"gdown\" ­Ґ пў«пҐвбп ў­гваҐ­­Ґ© Ё«Ё ў­Ґи­Ґ©\n",
      "Є®¬ ­¤®©, ЁбЇ®«­пҐ¬®© Їа®Ја ¬¬®© Ё«Ё Ї ЄҐв­л¬ д ©«®¬.\n"
     ]
    }
   ]
  },
  {
   "cell_type": "code",
   "source": [
    "! unzip /content/hr-analitics.zip"
   ],
   "metadata": {
    "colab": {
     "base_uri": "https://localhost:8080/"
    },
    "id": "3fys2l3drSIF",
    "executionInfo": {
     "status": "ok",
     "timestamp": 1683974192148,
     "user_tz": -180,
     "elapsed": 278,
     "user": {
      "displayName": "Sergey Zavodun",
      "userId": "13975373041411226899"
     }
    },
    "outputId": "f25bcb57-1abc-46b9-a275-222e65962ad7",
    "pycharm": {
     "name": "#%%\n"
    }
   },
   "execution_count": 2,
   "outputs": [
    {
     "name": "stderr",
     "output_type": "stream",
     "text": [
      "\"unzip\" ­Ґ пў«пҐвбп ў­гваҐ­­Ґ© Ё«Ё ў­Ґи­Ґ©\n",
      "Є®¬ ­¤®©, ЁбЇ®«­пҐ¬®© Їа®Ја ¬¬®© Ё«Ё Ї ЄҐв­л¬ д ©«®¬.\n"
     ]
    }
   ]
  },
  {
   "cell_type": "markdown",
   "source": [
    "## Чтение данных"
   ],
   "metadata": {
    "collapsed": false,
    "pycharm": {
     "name": "#%% md\n"
    }
   }
  },
  {
   "cell_type": "markdown",
   "source": [
    "#### Датасет датасаентистов, которые хотят сменить работу (target 1)"
   ],
   "metadata": {
    "collapsed": false,
    "pycharm": {
     "name": "#%% md\n"
    }
   }
  },
  {
   "cell_type": "code",
   "execution_count": 3,
   "outputs": [],
   "source": [
    "import pandas as pd"
   ],
   "metadata": {
    "collapsed": false,
    "pycharm": {
     "name": "#%%\n"
    }
   }
  },
  {
   "cell_type": "code",
   "execution_count": 4,
   "outputs": [],
   "source": [
    "df = pd.read_csv('aug_train.csv')"
   ],
   "metadata": {
    "collapsed": false,
    "pycharm": {
     "name": "#%%\n"
    }
   }
  },
  {
   "cell_type": "code",
   "execution_count": 5,
   "outputs": [
    {
     "data": {
      "text/plain": "   enrollee_id      city  city_development_index gender  \\\n0         8949  city_103                   0.920   Male   \n1        29725   city_40                   0.776   Male   \n2        11561   city_21                   0.624    NaN   \n3        33241  city_115                   0.789    NaN   \n4          666  city_162                   0.767   Male   \n\n       relevent_experience enrolled_university education_level  \\\n0  Has relevent experience       no_enrollment        Graduate   \n1   No relevent experience       no_enrollment        Graduate   \n2   No relevent experience    Full time course        Graduate   \n3   No relevent experience                 NaN        Graduate   \n4  Has relevent experience       no_enrollment         Masters   \n\n  major_discipline experience company_size    company_type last_new_job  \\\n0             STEM        >20          NaN             NaN            1   \n1             STEM         15        50-99         Pvt Ltd           >4   \n2             STEM          5          NaN             NaN        never   \n3  Business Degree         <1          NaN         Pvt Ltd        never   \n4             STEM        >20        50-99  Funded Startup            4   \n\n   training_hours  target  \n0              36     1.0  \n1              47     0.0  \n2              83     0.0  \n3              52     1.0  \n4               8     0.0  ",
      "text/html": "<div>\n<style scoped>\n    .dataframe tbody tr th:only-of-type {\n        vertical-align: middle;\n    }\n\n    .dataframe tbody tr th {\n        vertical-align: top;\n    }\n\n    .dataframe thead th {\n        text-align: right;\n    }\n</style>\n<table border=\"1\" class=\"dataframe\">\n  <thead>\n    <tr style=\"text-align: right;\">\n      <th></th>\n      <th>enrollee_id</th>\n      <th>city</th>\n      <th>city_development_index</th>\n      <th>gender</th>\n      <th>relevent_experience</th>\n      <th>enrolled_university</th>\n      <th>education_level</th>\n      <th>major_discipline</th>\n      <th>experience</th>\n      <th>company_size</th>\n      <th>company_type</th>\n      <th>last_new_job</th>\n      <th>training_hours</th>\n      <th>target</th>\n    </tr>\n  </thead>\n  <tbody>\n    <tr>\n      <th>0</th>\n      <td>8949</td>\n      <td>city_103</td>\n      <td>0.920</td>\n      <td>Male</td>\n      <td>Has relevent experience</td>\n      <td>no_enrollment</td>\n      <td>Graduate</td>\n      <td>STEM</td>\n      <td>&gt;20</td>\n      <td>NaN</td>\n      <td>NaN</td>\n      <td>1</td>\n      <td>36</td>\n      <td>1.0</td>\n    </tr>\n    <tr>\n      <th>1</th>\n      <td>29725</td>\n      <td>city_40</td>\n      <td>0.776</td>\n      <td>Male</td>\n      <td>No relevent experience</td>\n      <td>no_enrollment</td>\n      <td>Graduate</td>\n      <td>STEM</td>\n      <td>15</td>\n      <td>50-99</td>\n      <td>Pvt Ltd</td>\n      <td>&gt;4</td>\n      <td>47</td>\n      <td>0.0</td>\n    </tr>\n    <tr>\n      <th>2</th>\n      <td>11561</td>\n      <td>city_21</td>\n      <td>0.624</td>\n      <td>NaN</td>\n      <td>No relevent experience</td>\n      <td>Full time course</td>\n      <td>Graduate</td>\n      <td>STEM</td>\n      <td>5</td>\n      <td>NaN</td>\n      <td>NaN</td>\n      <td>never</td>\n      <td>83</td>\n      <td>0.0</td>\n    </tr>\n    <tr>\n      <th>3</th>\n      <td>33241</td>\n      <td>city_115</td>\n      <td>0.789</td>\n      <td>NaN</td>\n      <td>No relevent experience</td>\n      <td>NaN</td>\n      <td>Graduate</td>\n      <td>Business Degree</td>\n      <td>&lt;1</td>\n      <td>NaN</td>\n      <td>Pvt Ltd</td>\n      <td>never</td>\n      <td>52</td>\n      <td>1.0</td>\n    </tr>\n    <tr>\n      <th>4</th>\n      <td>666</td>\n      <td>city_162</td>\n      <td>0.767</td>\n      <td>Male</td>\n      <td>Has relevent experience</td>\n      <td>no_enrollment</td>\n      <td>Masters</td>\n      <td>STEM</td>\n      <td>&gt;20</td>\n      <td>50-99</td>\n      <td>Funded Startup</td>\n      <td>4</td>\n      <td>8</td>\n      <td>0.0</td>\n    </tr>\n  </tbody>\n</table>\n</div>"
     },
     "execution_count": 5,
     "metadata": {},
     "output_type": "execute_result"
    }
   ],
   "source": [
    "df.head()"
   ],
   "metadata": {
    "collapsed": false,
    "pycharm": {
     "name": "#%%\n"
    }
   }
  },
  {
   "cell_type": "markdown",
   "source": [
    "## Основные операции с ДатаФреймом"
   ],
   "metadata": {
    "collapsed": false,
    "pycharm": {
     "name": "#%% md\n"
    }
   }
  },
  {
   "cell_type": "code",
   "execution_count": 6,
   "outputs": [
    {
     "data": {
      "text/plain": "   enrollee_id      city  city_development_index gender  \\\n0         8949  city_103                   0.920   Male   \n1        29725   city_40                   0.776   Male   \n2        11561   city_21                   0.624    NaN   \n3        33241  city_115                   0.789    NaN   \n4          666  city_162                   0.767   Male   \n\n       relevent_experience enrolled_university education_level  \\\n0  Has relevent experience       no_enrollment        Graduate   \n1   No relevent experience       no_enrollment        Graduate   \n2   No relevent experience    Full time course        Graduate   \n3   No relevent experience                 NaN        Graduate   \n4  Has relevent experience       no_enrollment         Masters   \n\n  major_discipline experience company_size    company_type last_new_job  \\\n0             STEM        >20          NaN             NaN            1   \n1             STEM         15        50-99         Pvt Ltd           >4   \n2             STEM          5          NaN             NaN        never   \n3  Business Degree         <1          NaN         Pvt Ltd        never   \n4             STEM        >20        50-99  Funded Startup            4   \n\n   training_hours  target  \n0              36     1.0  \n1              47     0.0  \n2              83     0.0  \n3              52     1.0  \n4               8     0.0  ",
      "text/html": "<div>\n<style scoped>\n    .dataframe tbody tr th:only-of-type {\n        vertical-align: middle;\n    }\n\n    .dataframe tbody tr th {\n        vertical-align: top;\n    }\n\n    .dataframe thead th {\n        text-align: right;\n    }\n</style>\n<table border=\"1\" class=\"dataframe\">\n  <thead>\n    <tr style=\"text-align: right;\">\n      <th></th>\n      <th>enrollee_id</th>\n      <th>city</th>\n      <th>city_development_index</th>\n      <th>gender</th>\n      <th>relevent_experience</th>\n      <th>enrolled_university</th>\n      <th>education_level</th>\n      <th>major_discipline</th>\n      <th>experience</th>\n      <th>company_size</th>\n      <th>company_type</th>\n      <th>last_new_job</th>\n      <th>training_hours</th>\n      <th>target</th>\n    </tr>\n  </thead>\n  <tbody>\n    <tr>\n      <th>0</th>\n      <td>8949</td>\n      <td>city_103</td>\n      <td>0.920</td>\n      <td>Male</td>\n      <td>Has relevent experience</td>\n      <td>no_enrollment</td>\n      <td>Graduate</td>\n      <td>STEM</td>\n      <td>&gt;20</td>\n      <td>NaN</td>\n      <td>NaN</td>\n      <td>1</td>\n      <td>36</td>\n      <td>1.0</td>\n    </tr>\n    <tr>\n      <th>1</th>\n      <td>29725</td>\n      <td>city_40</td>\n      <td>0.776</td>\n      <td>Male</td>\n      <td>No relevent experience</td>\n      <td>no_enrollment</td>\n      <td>Graduate</td>\n      <td>STEM</td>\n      <td>15</td>\n      <td>50-99</td>\n      <td>Pvt Ltd</td>\n      <td>&gt;4</td>\n      <td>47</td>\n      <td>0.0</td>\n    </tr>\n    <tr>\n      <th>2</th>\n      <td>11561</td>\n      <td>city_21</td>\n      <td>0.624</td>\n      <td>NaN</td>\n      <td>No relevent experience</td>\n      <td>Full time course</td>\n      <td>Graduate</td>\n      <td>STEM</td>\n      <td>5</td>\n      <td>NaN</td>\n      <td>NaN</td>\n      <td>never</td>\n      <td>83</td>\n      <td>0.0</td>\n    </tr>\n    <tr>\n      <th>3</th>\n      <td>33241</td>\n      <td>city_115</td>\n      <td>0.789</td>\n      <td>NaN</td>\n      <td>No relevent experience</td>\n      <td>NaN</td>\n      <td>Graduate</td>\n      <td>Business Degree</td>\n      <td>&lt;1</td>\n      <td>NaN</td>\n      <td>Pvt Ltd</td>\n      <td>never</td>\n      <td>52</td>\n      <td>1.0</td>\n    </tr>\n    <tr>\n      <th>4</th>\n      <td>666</td>\n      <td>city_162</td>\n      <td>0.767</td>\n      <td>Male</td>\n      <td>Has relevent experience</td>\n      <td>no_enrollment</td>\n      <td>Masters</td>\n      <td>STEM</td>\n      <td>&gt;20</td>\n      <td>50-99</td>\n      <td>Funded Startup</td>\n      <td>4</td>\n      <td>8</td>\n      <td>0.0</td>\n    </tr>\n  </tbody>\n</table>\n</div>"
     },
     "execution_count": 6,
     "metadata": {},
     "output_type": "execute_result"
    }
   ],
   "source": [
    "df.head()"
   ],
   "metadata": {
    "collapsed": false,
    "pycharm": {
     "name": "#%%\n"
    }
   }
  },
  {
   "cell_type": "code",
   "execution_count": 7,
   "outputs": [
    {
     "data": {
      "text/plain": "       enrollee_id      city  city_development_index gender  \\\n19153         7386  city_173                   0.878   Male   \n19154        31398  city_103                   0.920   Male   \n19155        24576  city_103                   0.920   Male   \n19156         5756   city_65                   0.802   Male   \n19157        23834   city_67                   0.855    NaN   \n\n           relevent_experience enrolled_university education_level  \\\n19153   No relevent experience       no_enrollment        Graduate   \n19154  Has relevent experience       no_enrollment        Graduate   \n19155  Has relevent experience       no_enrollment        Graduate   \n19156  Has relevent experience       no_enrollment     High School   \n19157   No relevent experience       no_enrollment  Primary School   \n\n      major_discipline experience company_size company_type last_new_job  \\\n19153       Humanities         14          NaN          NaN            1   \n19154             STEM         14          NaN          NaN            4   \n19155             STEM        >20        50-99      Pvt Ltd            4   \n19156              NaN         <1      500-999      Pvt Ltd            2   \n19157              NaN          2          NaN          NaN            1   \n\n       training_hours  target  \n19153              42     1.0  \n19154              52     1.0  \n19155              44     0.0  \n19156              97     0.0  \n19157             127     0.0  ",
      "text/html": "<div>\n<style scoped>\n    .dataframe tbody tr th:only-of-type {\n        vertical-align: middle;\n    }\n\n    .dataframe tbody tr th {\n        vertical-align: top;\n    }\n\n    .dataframe thead th {\n        text-align: right;\n    }\n</style>\n<table border=\"1\" class=\"dataframe\">\n  <thead>\n    <tr style=\"text-align: right;\">\n      <th></th>\n      <th>enrollee_id</th>\n      <th>city</th>\n      <th>city_development_index</th>\n      <th>gender</th>\n      <th>relevent_experience</th>\n      <th>enrolled_university</th>\n      <th>education_level</th>\n      <th>major_discipline</th>\n      <th>experience</th>\n      <th>company_size</th>\n      <th>company_type</th>\n      <th>last_new_job</th>\n      <th>training_hours</th>\n      <th>target</th>\n    </tr>\n  </thead>\n  <tbody>\n    <tr>\n      <th>19153</th>\n      <td>7386</td>\n      <td>city_173</td>\n      <td>0.878</td>\n      <td>Male</td>\n      <td>No relevent experience</td>\n      <td>no_enrollment</td>\n      <td>Graduate</td>\n      <td>Humanities</td>\n      <td>14</td>\n      <td>NaN</td>\n      <td>NaN</td>\n      <td>1</td>\n      <td>42</td>\n      <td>1.0</td>\n    </tr>\n    <tr>\n      <th>19154</th>\n      <td>31398</td>\n      <td>city_103</td>\n      <td>0.920</td>\n      <td>Male</td>\n      <td>Has relevent experience</td>\n      <td>no_enrollment</td>\n      <td>Graduate</td>\n      <td>STEM</td>\n      <td>14</td>\n      <td>NaN</td>\n      <td>NaN</td>\n      <td>4</td>\n      <td>52</td>\n      <td>1.0</td>\n    </tr>\n    <tr>\n      <th>19155</th>\n      <td>24576</td>\n      <td>city_103</td>\n      <td>0.920</td>\n      <td>Male</td>\n      <td>Has relevent experience</td>\n      <td>no_enrollment</td>\n      <td>Graduate</td>\n      <td>STEM</td>\n      <td>&gt;20</td>\n      <td>50-99</td>\n      <td>Pvt Ltd</td>\n      <td>4</td>\n      <td>44</td>\n      <td>0.0</td>\n    </tr>\n    <tr>\n      <th>19156</th>\n      <td>5756</td>\n      <td>city_65</td>\n      <td>0.802</td>\n      <td>Male</td>\n      <td>Has relevent experience</td>\n      <td>no_enrollment</td>\n      <td>High School</td>\n      <td>NaN</td>\n      <td>&lt;1</td>\n      <td>500-999</td>\n      <td>Pvt Ltd</td>\n      <td>2</td>\n      <td>97</td>\n      <td>0.0</td>\n    </tr>\n    <tr>\n      <th>19157</th>\n      <td>23834</td>\n      <td>city_67</td>\n      <td>0.855</td>\n      <td>NaN</td>\n      <td>No relevent experience</td>\n      <td>no_enrollment</td>\n      <td>Primary School</td>\n      <td>NaN</td>\n      <td>2</td>\n      <td>NaN</td>\n      <td>NaN</td>\n      <td>1</td>\n      <td>127</td>\n      <td>0.0</td>\n    </tr>\n  </tbody>\n</table>\n</div>"
     },
     "execution_count": 7,
     "metadata": {},
     "output_type": "execute_result"
    }
   ],
   "source": [
    "df.tail()"
   ],
   "metadata": {
    "collapsed": false,
    "pycharm": {
     "name": "#%%\n"
    }
   }
  },
  {
   "cell_type": "code",
   "execution_count": 8,
   "outputs": [
    {
     "data": {
      "text/plain": "0        city_103\n1         city_40\n2         city_21\n3        city_115\n4        city_162\n           ...   \n19153    city_173\n19154    city_103\n19155    city_103\n19156     city_65\n19157     city_67\nName: city, Length: 19158, dtype: object"
     },
     "execution_count": 8,
     "metadata": {},
     "output_type": "execute_result"
    }
   ],
   "source": [
    "df.city"
   ],
   "metadata": {
    "collapsed": false,
    "pycharm": {
     "name": "#%%\n"
    }
   }
  },
  {
   "cell_type": "code",
   "execution_count": 9,
   "outputs": [
    {
     "data": {
      "text/plain": "0        city_103\n1         city_40\n2         city_21\n3        city_115\n4        city_162\n           ...   \n19153    city_173\n19154    city_103\n19155    city_103\n19156     city_65\n19157     city_67\nName: city, Length: 19158, dtype: object"
     },
     "execution_count": 9,
     "metadata": {},
     "output_type": "execute_result"
    }
   ],
   "source": [
    "df['city']"
   ],
   "metadata": {
    "collapsed": false,
    "pycharm": {
     "name": "#%%\n"
    }
   }
  },
  {
   "cell_type": "code",
   "execution_count": 10,
   "outputs": [
    {
     "data": {
      "text/plain": "           city  city_development_index\n0      city_103                   0.920\n1       city_40                   0.776\n2       city_21                   0.624\n3      city_115                   0.789\n4      city_162                   0.767\n...         ...                     ...\n19153  city_173                   0.878\n19154  city_103                   0.920\n19155  city_103                   0.920\n19156   city_65                   0.802\n19157   city_67                   0.855\n\n[19158 rows x 2 columns]",
      "text/html": "<div>\n<style scoped>\n    .dataframe tbody tr th:only-of-type {\n        vertical-align: middle;\n    }\n\n    .dataframe tbody tr th {\n        vertical-align: top;\n    }\n\n    .dataframe thead th {\n        text-align: right;\n    }\n</style>\n<table border=\"1\" class=\"dataframe\">\n  <thead>\n    <tr style=\"text-align: right;\">\n      <th></th>\n      <th>city</th>\n      <th>city_development_index</th>\n    </tr>\n  </thead>\n  <tbody>\n    <tr>\n      <th>0</th>\n      <td>city_103</td>\n      <td>0.920</td>\n    </tr>\n    <tr>\n      <th>1</th>\n      <td>city_40</td>\n      <td>0.776</td>\n    </tr>\n    <tr>\n      <th>2</th>\n      <td>city_21</td>\n      <td>0.624</td>\n    </tr>\n    <tr>\n      <th>3</th>\n      <td>city_115</td>\n      <td>0.789</td>\n    </tr>\n    <tr>\n      <th>4</th>\n      <td>city_162</td>\n      <td>0.767</td>\n    </tr>\n    <tr>\n      <th>...</th>\n      <td>...</td>\n      <td>...</td>\n    </tr>\n    <tr>\n      <th>19153</th>\n      <td>city_173</td>\n      <td>0.878</td>\n    </tr>\n    <tr>\n      <th>19154</th>\n      <td>city_103</td>\n      <td>0.920</td>\n    </tr>\n    <tr>\n      <th>19155</th>\n      <td>city_103</td>\n      <td>0.920</td>\n    </tr>\n    <tr>\n      <th>19156</th>\n      <td>city_65</td>\n      <td>0.802</td>\n    </tr>\n    <tr>\n      <th>19157</th>\n      <td>city_67</td>\n      <td>0.855</td>\n    </tr>\n  </tbody>\n</table>\n<p>19158 rows × 2 columns</p>\n</div>"
     },
     "execution_count": 10,
     "metadata": {},
     "output_type": "execute_result"
    }
   ],
   "source": [
    "df[['city', 'city_development_index']]"
   ],
   "metadata": {
    "collapsed": false,
    "pycharm": {
     "name": "#%%\n"
    }
   }
  },
  {
   "cell_type": "code",
   "execution_count": 11,
   "outputs": [
    {
     "data": {
      "text/plain": "(19158, (19158, 14))"
     },
     "execution_count": 11,
     "metadata": {},
     "output_type": "execute_result"
    }
   ],
   "source": [
    "len(df), df.shape"
   ],
   "metadata": {
    "collapsed": false,
    "pycharm": {
     "name": "#%%\n"
    }
   }
  },
  {
   "cell_type": "code",
   "execution_count": 12,
   "outputs": [
    {
     "data": {
      "text/plain": "Index(['enrollee_id', 'city', 'city_development_index', 'gender',\n       'relevent_experience', 'enrolled_university', 'education_level',\n       'major_discipline', 'experience', 'company_size', 'company_type',\n       'last_new_job', 'training_hours', 'target'],\n      dtype='object')"
     },
     "execution_count": 12,
     "metadata": {},
     "output_type": "execute_result"
    }
   ],
   "source": [
    "df.columns"
   ],
   "metadata": {
    "collapsed": false,
    "pycharm": {
     "name": "#%%\n"
    }
   }
  },
  {
   "cell_type": "code",
   "execution_count": 13,
   "outputs": [
    {
     "data": {
      "text/plain": "       enrollee_id      city  city_development_index gender  \\\n0             8949  city_103                   0.920   Male   \n1            29725   city_40                   0.776   Male   \n2            11561   city_21                   0.624    NaN   \n3            33241  city_115                   0.789    NaN   \n4              666  city_162                   0.767   Male   \n...            ...       ...                     ...    ...   \n19153         7386  city_173                   0.878   Male   \n19154        31398  city_103                   0.920   Male   \n19155        24576  city_103                   0.920   Male   \n19156         5756   city_65                   0.802   Male   \n19157        23834   city_67                   0.855    NaN   \n\n           relevent_experience enrolled_university education_level  \\\n0      Has relevent experience       no_enrollment        Graduate   \n1       No relevent experience       no_enrollment        Graduate   \n2       No relevent experience    Full time course        Graduate   \n3       No relevent experience                 NaN        Graduate   \n4      Has relevent experience       no_enrollment         Masters   \n...                        ...                 ...             ...   \n19153   No relevent experience       no_enrollment        Graduate   \n19154  Has relevent experience       no_enrollment        Graduate   \n19155  Has relevent experience       no_enrollment        Graduate   \n19156  Has relevent experience       no_enrollment     High School   \n19157   No relevent experience       no_enrollment  Primary School   \n\n      major_discipline last_new_job  training_hours  target  \n0                 STEM            1              36     1.0  \n1                 STEM           >4              47     0.0  \n2                 STEM        never              83     0.0  \n3      Business Degree        never              52     1.0  \n4                 STEM            4               8     0.0  \n...                ...          ...             ...     ...  \n19153       Humanities            1              42     1.0  \n19154             STEM            4              52     1.0  \n19155             STEM            4              44     0.0  \n19156              NaN            2              97     0.0  \n19157              NaN            1             127     0.0  \n\n[19158 rows x 11 columns]",
      "text/html": "<div>\n<style scoped>\n    .dataframe tbody tr th:only-of-type {\n        vertical-align: middle;\n    }\n\n    .dataframe tbody tr th {\n        vertical-align: top;\n    }\n\n    .dataframe thead th {\n        text-align: right;\n    }\n</style>\n<table border=\"1\" class=\"dataframe\">\n  <thead>\n    <tr style=\"text-align: right;\">\n      <th></th>\n      <th>enrollee_id</th>\n      <th>city</th>\n      <th>city_development_index</th>\n      <th>gender</th>\n      <th>relevent_experience</th>\n      <th>enrolled_university</th>\n      <th>education_level</th>\n      <th>major_discipline</th>\n      <th>last_new_job</th>\n      <th>training_hours</th>\n      <th>target</th>\n    </tr>\n  </thead>\n  <tbody>\n    <tr>\n      <th>0</th>\n      <td>8949</td>\n      <td>city_103</td>\n      <td>0.920</td>\n      <td>Male</td>\n      <td>Has relevent experience</td>\n      <td>no_enrollment</td>\n      <td>Graduate</td>\n      <td>STEM</td>\n      <td>1</td>\n      <td>36</td>\n      <td>1.0</td>\n    </tr>\n    <tr>\n      <th>1</th>\n      <td>29725</td>\n      <td>city_40</td>\n      <td>0.776</td>\n      <td>Male</td>\n      <td>No relevent experience</td>\n      <td>no_enrollment</td>\n      <td>Graduate</td>\n      <td>STEM</td>\n      <td>&gt;4</td>\n      <td>47</td>\n      <td>0.0</td>\n    </tr>\n    <tr>\n      <th>2</th>\n      <td>11561</td>\n      <td>city_21</td>\n      <td>0.624</td>\n      <td>NaN</td>\n      <td>No relevent experience</td>\n      <td>Full time course</td>\n      <td>Graduate</td>\n      <td>STEM</td>\n      <td>never</td>\n      <td>83</td>\n      <td>0.0</td>\n    </tr>\n    <tr>\n      <th>3</th>\n      <td>33241</td>\n      <td>city_115</td>\n      <td>0.789</td>\n      <td>NaN</td>\n      <td>No relevent experience</td>\n      <td>NaN</td>\n      <td>Graduate</td>\n      <td>Business Degree</td>\n      <td>never</td>\n      <td>52</td>\n      <td>1.0</td>\n    </tr>\n    <tr>\n      <th>4</th>\n      <td>666</td>\n      <td>city_162</td>\n      <td>0.767</td>\n      <td>Male</td>\n      <td>Has relevent experience</td>\n      <td>no_enrollment</td>\n      <td>Masters</td>\n      <td>STEM</td>\n      <td>4</td>\n      <td>8</td>\n      <td>0.0</td>\n    </tr>\n    <tr>\n      <th>...</th>\n      <td>...</td>\n      <td>...</td>\n      <td>...</td>\n      <td>...</td>\n      <td>...</td>\n      <td>...</td>\n      <td>...</td>\n      <td>...</td>\n      <td>...</td>\n      <td>...</td>\n      <td>...</td>\n    </tr>\n    <tr>\n      <th>19153</th>\n      <td>7386</td>\n      <td>city_173</td>\n      <td>0.878</td>\n      <td>Male</td>\n      <td>No relevent experience</td>\n      <td>no_enrollment</td>\n      <td>Graduate</td>\n      <td>Humanities</td>\n      <td>1</td>\n      <td>42</td>\n      <td>1.0</td>\n    </tr>\n    <tr>\n      <th>19154</th>\n      <td>31398</td>\n      <td>city_103</td>\n      <td>0.920</td>\n      <td>Male</td>\n      <td>Has relevent experience</td>\n      <td>no_enrollment</td>\n      <td>Graduate</td>\n      <td>STEM</td>\n      <td>4</td>\n      <td>52</td>\n      <td>1.0</td>\n    </tr>\n    <tr>\n      <th>19155</th>\n      <td>24576</td>\n      <td>city_103</td>\n      <td>0.920</td>\n      <td>Male</td>\n      <td>Has relevent experience</td>\n      <td>no_enrollment</td>\n      <td>Graduate</td>\n      <td>STEM</td>\n      <td>4</td>\n      <td>44</td>\n      <td>0.0</td>\n    </tr>\n    <tr>\n      <th>19156</th>\n      <td>5756</td>\n      <td>city_65</td>\n      <td>0.802</td>\n      <td>Male</td>\n      <td>Has relevent experience</td>\n      <td>no_enrollment</td>\n      <td>High School</td>\n      <td>NaN</td>\n      <td>2</td>\n      <td>97</td>\n      <td>0.0</td>\n    </tr>\n    <tr>\n      <th>19157</th>\n      <td>23834</td>\n      <td>city_67</td>\n      <td>0.855</td>\n      <td>NaN</td>\n      <td>No relevent experience</td>\n      <td>no_enrollment</td>\n      <td>Primary School</td>\n      <td>NaN</td>\n      <td>1</td>\n      <td>127</td>\n      <td>0.0</td>\n    </tr>\n  </tbody>\n</table>\n<p>19158 rows × 11 columns</p>\n</div>"
     },
     "execution_count": 13,
     "metadata": {},
     "output_type": "execute_result"
    }
   ],
   "source": [
    "df[['enrollee_id', 'city', 'city_development_index', 'gender',\n",
    "       'relevent_experience', 'enrolled_university', 'education_level',\n",
    "       'major_discipline',\n",
    "       'last_new_job', 'training_hours', 'target']]"
   ],
   "metadata": {
    "collapsed": false,
    "pycharm": {
     "name": "#%%\n"
    }
   }
  },
  {
   "cell_type": "code",
   "execution_count": 14,
   "outputs": [],
   "source": [
    "df['new_coll'] = 1"
   ],
   "metadata": {
    "collapsed": false,
    "pycharm": {
     "name": "#%%\n"
    }
   }
  },
  {
   "cell_type": "code",
   "execution_count": 15,
   "outputs": [
    {
     "data": {
      "text/plain": "   enrollee_id      city  city_development_index gender  \\\n0         8949  city_103                   0.920   Male   \n1        29725   city_40                   0.776   Male   \n2        11561   city_21                   0.624    NaN   \n3        33241  city_115                   0.789    NaN   \n4          666  city_162                   0.767   Male   \n\n       relevent_experience enrolled_university education_level  \\\n0  Has relevent experience       no_enrollment        Graduate   \n1   No relevent experience       no_enrollment        Graduate   \n2   No relevent experience    Full time course        Graduate   \n3   No relevent experience                 NaN        Graduate   \n4  Has relevent experience       no_enrollment         Masters   \n\n  major_discipline experience company_size    company_type last_new_job  \\\n0             STEM        >20          NaN             NaN            1   \n1             STEM         15        50-99         Pvt Ltd           >4   \n2             STEM          5          NaN             NaN        never   \n3  Business Degree         <1          NaN         Pvt Ltd        never   \n4             STEM        >20        50-99  Funded Startup            4   \n\n   training_hours  target  new_coll  \n0              36     1.0         1  \n1              47     0.0         1  \n2              83     0.0         1  \n3              52     1.0         1  \n4               8     0.0         1  ",
      "text/html": "<div>\n<style scoped>\n    .dataframe tbody tr th:only-of-type {\n        vertical-align: middle;\n    }\n\n    .dataframe tbody tr th {\n        vertical-align: top;\n    }\n\n    .dataframe thead th {\n        text-align: right;\n    }\n</style>\n<table border=\"1\" class=\"dataframe\">\n  <thead>\n    <tr style=\"text-align: right;\">\n      <th></th>\n      <th>enrollee_id</th>\n      <th>city</th>\n      <th>city_development_index</th>\n      <th>gender</th>\n      <th>relevent_experience</th>\n      <th>enrolled_university</th>\n      <th>education_level</th>\n      <th>major_discipline</th>\n      <th>experience</th>\n      <th>company_size</th>\n      <th>company_type</th>\n      <th>last_new_job</th>\n      <th>training_hours</th>\n      <th>target</th>\n      <th>new_coll</th>\n    </tr>\n  </thead>\n  <tbody>\n    <tr>\n      <th>0</th>\n      <td>8949</td>\n      <td>city_103</td>\n      <td>0.920</td>\n      <td>Male</td>\n      <td>Has relevent experience</td>\n      <td>no_enrollment</td>\n      <td>Graduate</td>\n      <td>STEM</td>\n      <td>&gt;20</td>\n      <td>NaN</td>\n      <td>NaN</td>\n      <td>1</td>\n      <td>36</td>\n      <td>1.0</td>\n      <td>1</td>\n    </tr>\n    <tr>\n      <th>1</th>\n      <td>29725</td>\n      <td>city_40</td>\n      <td>0.776</td>\n      <td>Male</td>\n      <td>No relevent experience</td>\n      <td>no_enrollment</td>\n      <td>Graduate</td>\n      <td>STEM</td>\n      <td>15</td>\n      <td>50-99</td>\n      <td>Pvt Ltd</td>\n      <td>&gt;4</td>\n      <td>47</td>\n      <td>0.0</td>\n      <td>1</td>\n    </tr>\n    <tr>\n      <th>2</th>\n      <td>11561</td>\n      <td>city_21</td>\n      <td>0.624</td>\n      <td>NaN</td>\n      <td>No relevent experience</td>\n      <td>Full time course</td>\n      <td>Graduate</td>\n      <td>STEM</td>\n      <td>5</td>\n      <td>NaN</td>\n      <td>NaN</td>\n      <td>never</td>\n      <td>83</td>\n      <td>0.0</td>\n      <td>1</td>\n    </tr>\n    <tr>\n      <th>3</th>\n      <td>33241</td>\n      <td>city_115</td>\n      <td>0.789</td>\n      <td>NaN</td>\n      <td>No relevent experience</td>\n      <td>NaN</td>\n      <td>Graduate</td>\n      <td>Business Degree</td>\n      <td>&lt;1</td>\n      <td>NaN</td>\n      <td>Pvt Ltd</td>\n      <td>never</td>\n      <td>52</td>\n      <td>1.0</td>\n      <td>1</td>\n    </tr>\n    <tr>\n      <th>4</th>\n      <td>666</td>\n      <td>city_162</td>\n      <td>0.767</td>\n      <td>Male</td>\n      <td>Has relevent experience</td>\n      <td>no_enrollment</td>\n      <td>Masters</td>\n      <td>STEM</td>\n      <td>&gt;20</td>\n      <td>50-99</td>\n      <td>Funded Startup</td>\n      <td>4</td>\n      <td>8</td>\n      <td>0.0</td>\n      <td>1</td>\n    </tr>\n  </tbody>\n</table>\n</div>"
     },
     "execution_count": 15,
     "metadata": {},
     "output_type": "execute_result"
    }
   ],
   "source": [
    "df.head()"
   ],
   "metadata": {
    "collapsed": false,
    "pycharm": {
     "name": "#%%\n"
    }
   }
  },
  {
   "cell_type": "code",
   "execution_count": 16,
   "outputs": [
    {
     "ename": "KeyError",
     "evalue": "\"['new_col', 'new_call'] not found in axis\"",
     "output_type": "error",
     "traceback": [
      "\u001B[1;31m---------------------------------------------------------------------------\u001B[0m",
      "\u001B[1;31mKeyError\u001B[0m                                  Traceback (most recent call last)",
      "Cell \u001B[1;32mIn [16], line 1\u001B[0m\n\u001B[1;32m----> 1\u001B[0m df \u001B[38;5;241m=\u001B[39m \u001B[43mdf\u001B[49m\u001B[38;5;241;43m.\u001B[39;49m\u001B[43mdrop\u001B[49m\u001B[43m(\u001B[49m\u001B[43m[\u001B[49m\u001B[38;5;124;43m'\u001B[39;49m\u001B[38;5;124;43mnew_col\u001B[39;49m\u001B[38;5;124;43m'\u001B[39;49m\u001B[43m,\u001B[49m\u001B[43m \u001B[49m\u001B[38;5;124;43m'\u001B[39;49m\u001B[38;5;124;43mnew_call\u001B[39;49m\u001B[38;5;124;43m'\u001B[39;49m\u001B[43m]\u001B[49m\u001B[43m,\u001B[49m\u001B[43m \u001B[49m\u001B[43maxis\u001B[49m\u001B[38;5;241;43m=\u001B[39;49m\u001B[38;5;241;43m1\u001B[39;49m\u001B[43m)\u001B[49m\n",
      "File \u001B[1;32m~\\AppData\\Local\\Programs\\Python\\Python311\\Lib\\site-packages\\pandas\\util\\_decorators.py:331\u001B[0m, in \u001B[0;36mdeprecate_nonkeyword_arguments.<locals>.decorate.<locals>.wrapper\u001B[1;34m(*args, **kwargs)\u001B[0m\n\u001B[0;32m    325\u001B[0m \u001B[38;5;28;01mif\u001B[39;00m \u001B[38;5;28mlen\u001B[39m(args) \u001B[38;5;241m>\u001B[39m num_allow_args:\n\u001B[0;32m    326\u001B[0m     warnings\u001B[38;5;241m.\u001B[39mwarn(\n\u001B[0;32m    327\u001B[0m         msg\u001B[38;5;241m.\u001B[39mformat(arguments\u001B[38;5;241m=\u001B[39m_format_argument_list(allow_args)),\n\u001B[0;32m    328\u001B[0m         \u001B[38;5;167;01mFutureWarning\u001B[39;00m,\n\u001B[0;32m    329\u001B[0m         stacklevel\u001B[38;5;241m=\u001B[39mfind_stack_level(),\n\u001B[0;32m    330\u001B[0m     )\n\u001B[1;32m--> 331\u001B[0m \u001B[38;5;28;01mreturn\u001B[39;00m \u001B[43mfunc\u001B[49m\u001B[43m(\u001B[49m\u001B[38;5;241;43m*\u001B[39;49m\u001B[43margs\u001B[49m\u001B[43m,\u001B[49m\u001B[43m \u001B[49m\u001B[38;5;241;43m*\u001B[39;49m\u001B[38;5;241;43m*\u001B[39;49m\u001B[43mkwargs\u001B[49m\u001B[43m)\u001B[49m\n",
      "File \u001B[1;32m~\\AppData\\Local\\Programs\\Python\\Python311\\Lib\\site-packages\\pandas\\core\\frame.py:5388\u001B[0m, in \u001B[0;36mDataFrame.drop\u001B[1;34m(self, labels, axis, index, columns, level, inplace, errors)\u001B[0m\n\u001B[0;32m   5240\u001B[0m \u001B[38;5;129m@deprecate_nonkeyword_arguments\u001B[39m(version\u001B[38;5;241m=\u001B[39m\u001B[38;5;28;01mNone\u001B[39;00m, allowed_args\u001B[38;5;241m=\u001B[39m[\u001B[38;5;124m\"\u001B[39m\u001B[38;5;124mself\u001B[39m\u001B[38;5;124m\"\u001B[39m, \u001B[38;5;124m\"\u001B[39m\u001B[38;5;124mlabels\u001B[39m\u001B[38;5;124m\"\u001B[39m])\n\u001B[0;32m   5241\u001B[0m \u001B[38;5;28;01mdef\u001B[39;00m \u001B[38;5;21mdrop\u001B[39m(  \u001B[38;5;66;03m# type: ignore[override]\u001B[39;00m\n\u001B[0;32m   5242\u001B[0m     \u001B[38;5;28mself\u001B[39m,\n\u001B[1;32m   (...)\u001B[0m\n\u001B[0;32m   5249\u001B[0m     errors: IgnoreRaise \u001B[38;5;241m=\u001B[39m \u001B[38;5;124m\"\u001B[39m\u001B[38;5;124mraise\u001B[39m\u001B[38;5;124m\"\u001B[39m,\n\u001B[0;32m   5250\u001B[0m ) \u001B[38;5;241m-\u001B[39m\u001B[38;5;241m>\u001B[39m DataFrame \u001B[38;5;241m|\u001B[39m \u001B[38;5;28;01mNone\u001B[39;00m:\n\u001B[0;32m   5251\u001B[0m     \u001B[38;5;124;03m\"\"\"\u001B[39;00m\n\u001B[0;32m   5252\u001B[0m \u001B[38;5;124;03m    Drop specified labels from rows or columns.\u001B[39;00m\n\u001B[0;32m   5253\u001B[0m \n\u001B[1;32m   (...)\u001B[0m\n\u001B[0;32m   5386\u001B[0m \u001B[38;5;124;03m            weight  1.0     0.8\u001B[39;00m\n\u001B[0;32m   5387\u001B[0m \u001B[38;5;124;03m    \"\"\"\u001B[39;00m\n\u001B[1;32m-> 5388\u001B[0m     \u001B[38;5;28;01mreturn\u001B[39;00m \u001B[38;5;28;43msuper\u001B[39;49m\u001B[43m(\u001B[49m\u001B[43m)\u001B[49m\u001B[38;5;241;43m.\u001B[39;49m\u001B[43mdrop\u001B[49m\u001B[43m(\u001B[49m\n\u001B[0;32m   5389\u001B[0m \u001B[43m        \u001B[49m\u001B[43mlabels\u001B[49m\u001B[38;5;241;43m=\u001B[39;49m\u001B[43mlabels\u001B[49m\u001B[43m,\u001B[49m\n\u001B[0;32m   5390\u001B[0m \u001B[43m        \u001B[49m\u001B[43maxis\u001B[49m\u001B[38;5;241;43m=\u001B[39;49m\u001B[43maxis\u001B[49m\u001B[43m,\u001B[49m\n\u001B[0;32m   5391\u001B[0m \u001B[43m        \u001B[49m\u001B[43mindex\u001B[49m\u001B[38;5;241;43m=\u001B[39;49m\u001B[43mindex\u001B[49m\u001B[43m,\u001B[49m\n\u001B[0;32m   5392\u001B[0m \u001B[43m        \u001B[49m\u001B[43mcolumns\u001B[49m\u001B[38;5;241;43m=\u001B[39;49m\u001B[43mcolumns\u001B[49m\u001B[43m,\u001B[49m\n\u001B[0;32m   5393\u001B[0m \u001B[43m        \u001B[49m\u001B[43mlevel\u001B[49m\u001B[38;5;241;43m=\u001B[39;49m\u001B[43mlevel\u001B[49m\u001B[43m,\u001B[49m\n\u001B[0;32m   5394\u001B[0m \u001B[43m        \u001B[49m\u001B[43minplace\u001B[49m\u001B[38;5;241;43m=\u001B[39;49m\u001B[43minplace\u001B[49m\u001B[43m,\u001B[49m\n\u001B[0;32m   5395\u001B[0m \u001B[43m        \u001B[49m\u001B[43merrors\u001B[49m\u001B[38;5;241;43m=\u001B[39;49m\u001B[43merrors\u001B[49m\u001B[43m,\u001B[49m\n\u001B[0;32m   5396\u001B[0m \u001B[43m    \u001B[49m\u001B[43m)\u001B[49m\n",
      "File \u001B[1;32m~\\AppData\\Local\\Programs\\Python\\Python311\\Lib\\site-packages\\pandas\\util\\_decorators.py:331\u001B[0m, in \u001B[0;36mdeprecate_nonkeyword_arguments.<locals>.decorate.<locals>.wrapper\u001B[1;34m(*args, **kwargs)\u001B[0m\n\u001B[0;32m    325\u001B[0m \u001B[38;5;28;01mif\u001B[39;00m \u001B[38;5;28mlen\u001B[39m(args) \u001B[38;5;241m>\u001B[39m num_allow_args:\n\u001B[0;32m    326\u001B[0m     warnings\u001B[38;5;241m.\u001B[39mwarn(\n\u001B[0;32m    327\u001B[0m         msg\u001B[38;5;241m.\u001B[39mformat(arguments\u001B[38;5;241m=\u001B[39m_format_argument_list(allow_args)),\n\u001B[0;32m    328\u001B[0m         \u001B[38;5;167;01mFutureWarning\u001B[39;00m,\n\u001B[0;32m    329\u001B[0m         stacklevel\u001B[38;5;241m=\u001B[39mfind_stack_level(),\n\u001B[0;32m    330\u001B[0m     )\n\u001B[1;32m--> 331\u001B[0m \u001B[38;5;28;01mreturn\u001B[39;00m \u001B[43mfunc\u001B[49m\u001B[43m(\u001B[49m\u001B[38;5;241;43m*\u001B[39;49m\u001B[43margs\u001B[49m\u001B[43m,\u001B[49m\u001B[43m \u001B[49m\u001B[38;5;241;43m*\u001B[39;49m\u001B[38;5;241;43m*\u001B[39;49m\u001B[43mkwargs\u001B[49m\u001B[43m)\u001B[49m\n",
      "File \u001B[1;32m~\\AppData\\Local\\Programs\\Python\\Python311\\Lib\\site-packages\\pandas\\core\\generic.py:4505\u001B[0m, in \u001B[0;36mNDFrame.drop\u001B[1;34m(self, labels, axis, index, columns, level, inplace, errors)\u001B[0m\n\u001B[0;32m   4503\u001B[0m \u001B[38;5;28;01mfor\u001B[39;00m axis, labels \u001B[38;5;129;01min\u001B[39;00m axes\u001B[38;5;241m.\u001B[39mitems():\n\u001B[0;32m   4504\u001B[0m     \u001B[38;5;28;01mif\u001B[39;00m labels \u001B[38;5;129;01mis\u001B[39;00m \u001B[38;5;129;01mnot\u001B[39;00m \u001B[38;5;28;01mNone\u001B[39;00m:\n\u001B[1;32m-> 4505\u001B[0m         obj \u001B[38;5;241m=\u001B[39m \u001B[43mobj\u001B[49m\u001B[38;5;241;43m.\u001B[39;49m\u001B[43m_drop_axis\u001B[49m\u001B[43m(\u001B[49m\u001B[43mlabels\u001B[49m\u001B[43m,\u001B[49m\u001B[43m \u001B[49m\u001B[43maxis\u001B[49m\u001B[43m,\u001B[49m\u001B[43m \u001B[49m\u001B[43mlevel\u001B[49m\u001B[38;5;241;43m=\u001B[39;49m\u001B[43mlevel\u001B[49m\u001B[43m,\u001B[49m\u001B[43m \u001B[49m\u001B[43merrors\u001B[49m\u001B[38;5;241;43m=\u001B[39;49m\u001B[43merrors\u001B[49m\u001B[43m)\u001B[49m\n\u001B[0;32m   4507\u001B[0m \u001B[38;5;28;01mif\u001B[39;00m inplace:\n\u001B[0;32m   4508\u001B[0m     \u001B[38;5;28mself\u001B[39m\u001B[38;5;241m.\u001B[39m_update_inplace(obj)\n",
      "File \u001B[1;32m~\\AppData\\Local\\Programs\\Python\\Python311\\Lib\\site-packages\\pandas\\core\\generic.py:4546\u001B[0m, in \u001B[0;36mNDFrame._drop_axis\u001B[1;34m(self, labels, axis, level, errors, only_slice)\u001B[0m\n\u001B[0;32m   4544\u001B[0m         new_axis \u001B[38;5;241m=\u001B[39m axis\u001B[38;5;241m.\u001B[39mdrop(labels, level\u001B[38;5;241m=\u001B[39mlevel, errors\u001B[38;5;241m=\u001B[39merrors)\n\u001B[0;32m   4545\u001B[0m     \u001B[38;5;28;01melse\u001B[39;00m:\n\u001B[1;32m-> 4546\u001B[0m         new_axis \u001B[38;5;241m=\u001B[39m \u001B[43maxis\u001B[49m\u001B[38;5;241;43m.\u001B[39;49m\u001B[43mdrop\u001B[49m\u001B[43m(\u001B[49m\u001B[43mlabels\u001B[49m\u001B[43m,\u001B[49m\u001B[43m \u001B[49m\u001B[43merrors\u001B[49m\u001B[38;5;241;43m=\u001B[39;49m\u001B[43merrors\u001B[49m\u001B[43m)\u001B[49m\n\u001B[0;32m   4547\u001B[0m     indexer \u001B[38;5;241m=\u001B[39m axis\u001B[38;5;241m.\u001B[39mget_indexer(new_axis)\n\u001B[0;32m   4549\u001B[0m \u001B[38;5;66;03m# Case for non-unique axis\u001B[39;00m\n\u001B[0;32m   4550\u001B[0m \u001B[38;5;28;01melse\u001B[39;00m:\n",
      "File \u001B[1;32m~\\AppData\\Local\\Programs\\Python\\Python311\\Lib\\site-packages\\pandas\\core\\indexes\\base.py:6975\u001B[0m, in \u001B[0;36mIndex.drop\u001B[1;34m(self, labels, errors)\u001B[0m\n\u001B[0;32m   6973\u001B[0m \u001B[38;5;28;01mif\u001B[39;00m mask\u001B[38;5;241m.\u001B[39many():\n\u001B[0;32m   6974\u001B[0m     \u001B[38;5;28;01mif\u001B[39;00m errors \u001B[38;5;241m!=\u001B[39m \u001B[38;5;124m\"\u001B[39m\u001B[38;5;124mignore\u001B[39m\u001B[38;5;124m\"\u001B[39m:\n\u001B[1;32m-> 6975\u001B[0m         \u001B[38;5;28;01mraise\u001B[39;00m \u001B[38;5;167;01mKeyError\u001B[39;00m(\u001B[38;5;124mf\u001B[39m\u001B[38;5;124m\"\u001B[39m\u001B[38;5;132;01m{\u001B[39;00m\u001B[38;5;28mlist\u001B[39m(labels[mask])\u001B[38;5;132;01m}\u001B[39;00m\u001B[38;5;124m not found in axis\u001B[39m\u001B[38;5;124m\"\u001B[39m)\n\u001B[0;32m   6976\u001B[0m     indexer \u001B[38;5;241m=\u001B[39m indexer[\u001B[38;5;241m~\u001B[39mmask]\n\u001B[0;32m   6977\u001B[0m \u001B[38;5;28;01mreturn\u001B[39;00m \u001B[38;5;28mself\u001B[39m\u001B[38;5;241m.\u001B[39mdelete(indexer)\n",
      "\u001B[1;31mKeyError\u001B[0m: \"['new_col', 'new_call'] not found in axis\""
     ]
    }
   ],
   "source": [
    "df = df.drop(['new_col', 'new_call'], axis=1)"
   ],
   "metadata": {
    "collapsed": false,
    "pycharm": {
     "name": "#%%\n"
    }
   }
  },
  {
   "cell_type": "code",
   "execution_count": 17,
   "outputs": [
    {
     "data": {
      "text/plain": "   enrollee_id      city  city_development_index gender  \\\n0         8949  city_103                   0.920   Male   \n1        29725   city_40                   0.776   Male   \n2        11561   city_21                   0.624    NaN   \n3        33241  city_115                   0.789    NaN   \n4          666  city_162                   0.767   Male   \n\n       relevent_experience enrolled_university education_level  \\\n0  Has relevent experience       no_enrollment        Graduate   \n1   No relevent experience       no_enrollment        Graduate   \n2   No relevent experience    Full time course        Graduate   \n3   No relevent experience                 NaN        Graduate   \n4  Has relevent experience       no_enrollment         Masters   \n\n  major_discipline experience company_size    company_type last_new_job  \\\n0             STEM        >20          NaN             NaN            1   \n1             STEM         15        50-99         Pvt Ltd           >4   \n2             STEM          5          NaN             NaN        never   \n3  Business Degree         <1          NaN         Pvt Ltd        never   \n4             STEM        >20        50-99  Funded Startup            4   \n\n   training_hours  target  new_coll  \n0              36     1.0         1  \n1              47     0.0         1  \n2              83     0.0         1  \n3              52     1.0         1  \n4               8     0.0         1  ",
      "text/html": "<div>\n<style scoped>\n    .dataframe tbody tr th:only-of-type {\n        vertical-align: middle;\n    }\n\n    .dataframe tbody tr th {\n        vertical-align: top;\n    }\n\n    .dataframe thead th {\n        text-align: right;\n    }\n</style>\n<table border=\"1\" class=\"dataframe\">\n  <thead>\n    <tr style=\"text-align: right;\">\n      <th></th>\n      <th>enrollee_id</th>\n      <th>city</th>\n      <th>city_development_index</th>\n      <th>gender</th>\n      <th>relevent_experience</th>\n      <th>enrolled_university</th>\n      <th>education_level</th>\n      <th>major_discipline</th>\n      <th>experience</th>\n      <th>company_size</th>\n      <th>company_type</th>\n      <th>last_new_job</th>\n      <th>training_hours</th>\n      <th>target</th>\n      <th>new_coll</th>\n    </tr>\n  </thead>\n  <tbody>\n    <tr>\n      <th>0</th>\n      <td>8949</td>\n      <td>city_103</td>\n      <td>0.920</td>\n      <td>Male</td>\n      <td>Has relevent experience</td>\n      <td>no_enrollment</td>\n      <td>Graduate</td>\n      <td>STEM</td>\n      <td>&gt;20</td>\n      <td>NaN</td>\n      <td>NaN</td>\n      <td>1</td>\n      <td>36</td>\n      <td>1.0</td>\n      <td>1</td>\n    </tr>\n    <tr>\n      <th>1</th>\n      <td>29725</td>\n      <td>city_40</td>\n      <td>0.776</td>\n      <td>Male</td>\n      <td>No relevent experience</td>\n      <td>no_enrollment</td>\n      <td>Graduate</td>\n      <td>STEM</td>\n      <td>15</td>\n      <td>50-99</td>\n      <td>Pvt Ltd</td>\n      <td>&gt;4</td>\n      <td>47</td>\n      <td>0.0</td>\n      <td>1</td>\n    </tr>\n    <tr>\n      <th>2</th>\n      <td>11561</td>\n      <td>city_21</td>\n      <td>0.624</td>\n      <td>NaN</td>\n      <td>No relevent experience</td>\n      <td>Full time course</td>\n      <td>Graduate</td>\n      <td>STEM</td>\n      <td>5</td>\n      <td>NaN</td>\n      <td>NaN</td>\n      <td>never</td>\n      <td>83</td>\n      <td>0.0</td>\n      <td>1</td>\n    </tr>\n    <tr>\n      <th>3</th>\n      <td>33241</td>\n      <td>city_115</td>\n      <td>0.789</td>\n      <td>NaN</td>\n      <td>No relevent experience</td>\n      <td>NaN</td>\n      <td>Graduate</td>\n      <td>Business Degree</td>\n      <td>&lt;1</td>\n      <td>NaN</td>\n      <td>Pvt Ltd</td>\n      <td>never</td>\n      <td>52</td>\n      <td>1.0</td>\n      <td>1</td>\n    </tr>\n    <tr>\n      <th>4</th>\n      <td>666</td>\n      <td>city_162</td>\n      <td>0.767</td>\n      <td>Male</td>\n      <td>Has relevent experience</td>\n      <td>no_enrollment</td>\n      <td>Masters</td>\n      <td>STEM</td>\n      <td>&gt;20</td>\n      <td>50-99</td>\n      <td>Funded Startup</td>\n      <td>4</td>\n      <td>8</td>\n      <td>0.0</td>\n      <td>1</td>\n    </tr>\n  </tbody>\n</table>\n</div>"
     },
     "execution_count": 17,
     "metadata": {},
     "output_type": "execute_result"
    }
   ],
   "source": [
    "df.head()"
   ],
   "metadata": {
    "collapsed": false,
    "pycharm": {
     "name": "#%%\n"
    }
   }
  },
  {
   "cell_type": "code",
   "execution_count": 18,
   "outputs": [],
   "source": [
    "df['new_coll2'] = df['city_development_index'] / df['training_hours']"
   ],
   "metadata": {
    "collapsed": false,
    "pycharm": {
     "name": "#%%\n"
    }
   }
  },
  {
   "cell_type": "code",
   "execution_count": 19,
   "outputs": [
    {
     "data": {
      "text/plain": "   enrollee_id      city  city_development_index gender  \\\n0         8949  city_103                   0.920   Male   \n1        29725   city_40                   0.776   Male   \n2        11561   city_21                   0.624    NaN   \n3        33241  city_115                   0.789    NaN   \n4          666  city_162                   0.767   Male   \n\n       relevent_experience enrolled_university education_level  \\\n0  Has relevent experience       no_enrollment        Graduate   \n1   No relevent experience       no_enrollment        Graduate   \n2   No relevent experience    Full time course        Graduate   \n3   No relevent experience                 NaN        Graduate   \n4  Has relevent experience       no_enrollment         Masters   \n\n  major_discipline experience company_size    company_type last_new_job  \\\n0             STEM        >20          NaN             NaN            1   \n1             STEM         15        50-99         Pvt Ltd           >4   \n2             STEM          5          NaN             NaN        never   \n3  Business Degree         <1          NaN         Pvt Ltd        never   \n4             STEM        >20        50-99  Funded Startup            4   \n\n   training_hours  target  new_coll  new_coll2  \n0              36     1.0         1   0.025556  \n1              47     0.0         1   0.016511  \n2              83     0.0         1   0.007518  \n3              52     1.0         1   0.015173  \n4               8     0.0         1   0.095875  ",
      "text/html": "<div>\n<style scoped>\n    .dataframe tbody tr th:only-of-type {\n        vertical-align: middle;\n    }\n\n    .dataframe tbody tr th {\n        vertical-align: top;\n    }\n\n    .dataframe thead th {\n        text-align: right;\n    }\n</style>\n<table border=\"1\" class=\"dataframe\">\n  <thead>\n    <tr style=\"text-align: right;\">\n      <th></th>\n      <th>enrollee_id</th>\n      <th>city</th>\n      <th>city_development_index</th>\n      <th>gender</th>\n      <th>relevent_experience</th>\n      <th>enrolled_university</th>\n      <th>education_level</th>\n      <th>major_discipline</th>\n      <th>experience</th>\n      <th>company_size</th>\n      <th>company_type</th>\n      <th>last_new_job</th>\n      <th>training_hours</th>\n      <th>target</th>\n      <th>new_coll</th>\n      <th>new_coll2</th>\n    </tr>\n  </thead>\n  <tbody>\n    <tr>\n      <th>0</th>\n      <td>8949</td>\n      <td>city_103</td>\n      <td>0.920</td>\n      <td>Male</td>\n      <td>Has relevent experience</td>\n      <td>no_enrollment</td>\n      <td>Graduate</td>\n      <td>STEM</td>\n      <td>&gt;20</td>\n      <td>NaN</td>\n      <td>NaN</td>\n      <td>1</td>\n      <td>36</td>\n      <td>1.0</td>\n      <td>1</td>\n      <td>0.025556</td>\n    </tr>\n    <tr>\n      <th>1</th>\n      <td>29725</td>\n      <td>city_40</td>\n      <td>0.776</td>\n      <td>Male</td>\n      <td>No relevent experience</td>\n      <td>no_enrollment</td>\n      <td>Graduate</td>\n      <td>STEM</td>\n      <td>15</td>\n      <td>50-99</td>\n      <td>Pvt Ltd</td>\n      <td>&gt;4</td>\n      <td>47</td>\n      <td>0.0</td>\n      <td>1</td>\n      <td>0.016511</td>\n    </tr>\n    <tr>\n      <th>2</th>\n      <td>11561</td>\n      <td>city_21</td>\n      <td>0.624</td>\n      <td>NaN</td>\n      <td>No relevent experience</td>\n      <td>Full time course</td>\n      <td>Graduate</td>\n      <td>STEM</td>\n      <td>5</td>\n      <td>NaN</td>\n      <td>NaN</td>\n      <td>never</td>\n      <td>83</td>\n      <td>0.0</td>\n      <td>1</td>\n      <td>0.007518</td>\n    </tr>\n    <tr>\n      <th>3</th>\n      <td>33241</td>\n      <td>city_115</td>\n      <td>0.789</td>\n      <td>NaN</td>\n      <td>No relevent experience</td>\n      <td>NaN</td>\n      <td>Graduate</td>\n      <td>Business Degree</td>\n      <td>&lt;1</td>\n      <td>NaN</td>\n      <td>Pvt Ltd</td>\n      <td>never</td>\n      <td>52</td>\n      <td>1.0</td>\n      <td>1</td>\n      <td>0.015173</td>\n    </tr>\n    <tr>\n      <th>4</th>\n      <td>666</td>\n      <td>city_162</td>\n      <td>0.767</td>\n      <td>Male</td>\n      <td>Has relevent experience</td>\n      <td>no_enrollment</td>\n      <td>Masters</td>\n      <td>STEM</td>\n      <td>&gt;20</td>\n      <td>50-99</td>\n      <td>Funded Startup</td>\n      <td>4</td>\n      <td>8</td>\n      <td>0.0</td>\n      <td>1</td>\n      <td>0.095875</td>\n    </tr>\n  </tbody>\n</table>\n</div>"
     },
     "execution_count": 19,
     "metadata": {},
     "output_type": "execute_result"
    }
   ],
   "source": [
    "df.head()"
   ],
   "metadata": {
    "collapsed": false,
    "pycharm": {
     "name": "#%%\n"
    }
   }
  },
  {
   "cell_type": "markdown",
   "source": [
    "##### assign - добавить вспомогательный столбец, не сохраняя в Датафрейме"
   ],
   "metadata": {
    "collapsed": false,
    "pycharm": {
     "name": "#%% md\n"
    }
   }
  },
  {
   "cell_type": "code",
   "execution_count": 20,
   "outputs": [
    {
     "data": {
      "text/plain": "       enrollee_id      city  city_development_index gender  \\\n0             8949  city_103                   0.920   Male   \n1            29725   city_40                   0.776   Male   \n2            11561   city_21                   0.624    NaN   \n3            33241  city_115                   0.789    NaN   \n4              666  city_162                   0.767   Male   \n...            ...       ...                     ...    ...   \n19153         7386  city_173                   0.878   Male   \n19154        31398  city_103                   0.920   Male   \n19155        24576  city_103                   0.920   Male   \n19156         5756   city_65                   0.802   Male   \n19157        23834   city_67                   0.855    NaN   \n\n           relevent_experience enrolled_university education_level  \\\n0      Has relevent experience       no_enrollment        Graduate   \n1       No relevent experience       no_enrollment        Graduate   \n2       No relevent experience    Full time course        Graduate   \n3       No relevent experience                 NaN        Graduate   \n4      Has relevent experience       no_enrollment         Masters   \n...                        ...                 ...             ...   \n19153   No relevent experience       no_enrollment        Graduate   \n19154  Has relevent experience       no_enrollment        Graduate   \n19155  Has relevent experience       no_enrollment        Graduate   \n19156  Has relevent experience       no_enrollment     High School   \n19157   No relevent experience       no_enrollment  Primary School   \n\n      major_discipline experience company_size    company_type last_new_job  \\\n0                 STEM        >20          NaN             NaN            1   \n1                 STEM         15        50-99         Pvt Ltd           >4   \n2                 STEM          5          NaN             NaN        never   \n3      Business Degree         <1          NaN         Pvt Ltd        never   \n4                 STEM        >20        50-99  Funded Startup            4   \n...                ...        ...          ...             ...          ...   \n19153       Humanities         14          NaN             NaN            1   \n19154             STEM         14          NaN             NaN            4   \n19155             STEM        >20        50-99         Pvt Ltd            4   \n19156              NaN         <1      500-999         Pvt Ltd            2   \n19157              NaN          2          NaN             NaN            1   \n\n       training_hours  target  new_coll  new_coll2  new_coll3  \n0                  36     1.0         1   0.025556         99  \n1                  47     0.0         1   0.016511         99  \n2                  83     0.0         1   0.007518         99  \n3                  52     1.0         1   0.015173         99  \n4                   8     0.0         1   0.095875         99  \n...               ...     ...       ...        ...        ...  \n19153              42     1.0         1   0.020905         99  \n19154              52     1.0         1   0.017692         99  \n19155              44     0.0         1   0.020909         99  \n19156              97     0.0         1   0.008268         99  \n19157             127     0.0         1   0.006732         99  \n\n[19158 rows x 17 columns]",
      "text/html": "<div>\n<style scoped>\n    .dataframe tbody tr th:only-of-type {\n        vertical-align: middle;\n    }\n\n    .dataframe tbody tr th {\n        vertical-align: top;\n    }\n\n    .dataframe thead th {\n        text-align: right;\n    }\n</style>\n<table border=\"1\" class=\"dataframe\">\n  <thead>\n    <tr style=\"text-align: right;\">\n      <th></th>\n      <th>enrollee_id</th>\n      <th>city</th>\n      <th>city_development_index</th>\n      <th>gender</th>\n      <th>relevent_experience</th>\n      <th>enrolled_university</th>\n      <th>education_level</th>\n      <th>major_discipline</th>\n      <th>experience</th>\n      <th>company_size</th>\n      <th>company_type</th>\n      <th>last_new_job</th>\n      <th>training_hours</th>\n      <th>target</th>\n      <th>new_coll</th>\n      <th>new_coll2</th>\n      <th>new_coll3</th>\n    </tr>\n  </thead>\n  <tbody>\n    <tr>\n      <th>0</th>\n      <td>8949</td>\n      <td>city_103</td>\n      <td>0.920</td>\n      <td>Male</td>\n      <td>Has relevent experience</td>\n      <td>no_enrollment</td>\n      <td>Graduate</td>\n      <td>STEM</td>\n      <td>&gt;20</td>\n      <td>NaN</td>\n      <td>NaN</td>\n      <td>1</td>\n      <td>36</td>\n      <td>1.0</td>\n      <td>1</td>\n      <td>0.025556</td>\n      <td>99</td>\n    </tr>\n    <tr>\n      <th>1</th>\n      <td>29725</td>\n      <td>city_40</td>\n      <td>0.776</td>\n      <td>Male</td>\n      <td>No relevent experience</td>\n      <td>no_enrollment</td>\n      <td>Graduate</td>\n      <td>STEM</td>\n      <td>15</td>\n      <td>50-99</td>\n      <td>Pvt Ltd</td>\n      <td>&gt;4</td>\n      <td>47</td>\n      <td>0.0</td>\n      <td>1</td>\n      <td>0.016511</td>\n      <td>99</td>\n    </tr>\n    <tr>\n      <th>2</th>\n      <td>11561</td>\n      <td>city_21</td>\n      <td>0.624</td>\n      <td>NaN</td>\n      <td>No relevent experience</td>\n      <td>Full time course</td>\n      <td>Graduate</td>\n      <td>STEM</td>\n      <td>5</td>\n      <td>NaN</td>\n      <td>NaN</td>\n      <td>never</td>\n      <td>83</td>\n      <td>0.0</td>\n      <td>1</td>\n      <td>0.007518</td>\n      <td>99</td>\n    </tr>\n    <tr>\n      <th>3</th>\n      <td>33241</td>\n      <td>city_115</td>\n      <td>0.789</td>\n      <td>NaN</td>\n      <td>No relevent experience</td>\n      <td>NaN</td>\n      <td>Graduate</td>\n      <td>Business Degree</td>\n      <td>&lt;1</td>\n      <td>NaN</td>\n      <td>Pvt Ltd</td>\n      <td>never</td>\n      <td>52</td>\n      <td>1.0</td>\n      <td>1</td>\n      <td>0.015173</td>\n      <td>99</td>\n    </tr>\n    <tr>\n      <th>4</th>\n      <td>666</td>\n      <td>city_162</td>\n      <td>0.767</td>\n      <td>Male</td>\n      <td>Has relevent experience</td>\n      <td>no_enrollment</td>\n      <td>Masters</td>\n      <td>STEM</td>\n      <td>&gt;20</td>\n      <td>50-99</td>\n      <td>Funded Startup</td>\n      <td>4</td>\n      <td>8</td>\n      <td>0.0</td>\n      <td>1</td>\n      <td>0.095875</td>\n      <td>99</td>\n    </tr>\n    <tr>\n      <th>...</th>\n      <td>...</td>\n      <td>...</td>\n      <td>...</td>\n      <td>...</td>\n      <td>...</td>\n      <td>...</td>\n      <td>...</td>\n      <td>...</td>\n      <td>...</td>\n      <td>...</td>\n      <td>...</td>\n      <td>...</td>\n      <td>...</td>\n      <td>...</td>\n      <td>...</td>\n      <td>...</td>\n      <td>...</td>\n    </tr>\n    <tr>\n      <th>19153</th>\n      <td>7386</td>\n      <td>city_173</td>\n      <td>0.878</td>\n      <td>Male</td>\n      <td>No relevent experience</td>\n      <td>no_enrollment</td>\n      <td>Graduate</td>\n      <td>Humanities</td>\n      <td>14</td>\n      <td>NaN</td>\n      <td>NaN</td>\n      <td>1</td>\n      <td>42</td>\n      <td>1.0</td>\n      <td>1</td>\n      <td>0.020905</td>\n      <td>99</td>\n    </tr>\n    <tr>\n      <th>19154</th>\n      <td>31398</td>\n      <td>city_103</td>\n      <td>0.920</td>\n      <td>Male</td>\n      <td>Has relevent experience</td>\n      <td>no_enrollment</td>\n      <td>Graduate</td>\n      <td>STEM</td>\n      <td>14</td>\n      <td>NaN</td>\n      <td>NaN</td>\n      <td>4</td>\n      <td>52</td>\n      <td>1.0</td>\n      <td>1</td>\n      <td>0.017692</td>\n      <td>99</td>\n    </tr>\n    <tr>\n      <th>19155</th>\n      <td>24576</td>\n      <td>city_103</td>\n      <td>0.920</td>\n      <td>Male</td>\n      <td>Has relevent experience</td>\n      <td>no_enrollment</td>\n      <td>Graduate</td>\n      <td>STEM</td>\n      <td>&gt;20</td>\n      <td>50-99</td>\n      <td>Pvt Ltd</td>\n      <td>4</td>\n      <td>44</td>\n      <td>0.0</td>\n      <td>1</td>\n      <td>0.020909</td>\n      <td>99</td>\n    </tr>\n    <tr>\n      <th>19156</th>\n      <td>5756</td>\n      <td>city_65</td>\n      <td>0.802</td>\n      <td>Male</td>\n      <td>Has relevent experience</td>\n      <td>no_enrollment</td>\n      <td>High School</td>\n      <td>NaN</td>\n      <td>&lt;1</td>\n      <td>500-999</td>\n      <td>Pvt Ltd</td>\n      <td>2</td>\n      <td>97</td>\n      <td>0.0</td>\n      <td>1</td>\n      <td>0.008268</td>\n      <td>99</td>\n    </tr>\n    <tr>\n      <th>19157</th>\n      <td>23834</td>\n      <td>city_67</td>\n      <td>0.855</td>\n      <td>NaN</td>\n      <td>No relevent experience</td>\n      <td>no_enrollment</td>\n      <td>Primary School</td>\n      <td>NaN</td>\n      <td>2</td>\n      <td>NaN</td>\n      <td>NaN</td>\n      <td>1</td>\n      <td>127</td>\n      <td>0.0</td>\n      <td>1</td>\n      <td>0.006732</td>\n      <td>99</td>\n    </tr>\n  </tbody>\n</table>\n<p>19158 rows × 17 columns</p>\n</div>"
     },
     "execution_count": 20,
     "metadata": {},
     "output_type": "execute_result"
    }
   ],
   "source": [
    "df.assign(new_coll3=99)"
   ],
   "metadata": {
    "collapsed": false,
    "pycharm": {
     "name": "#%%\n"
    }
   }
  },
  {
   "cell_type": "code",
   "execution_count": 21,
   "outputs": [
    {
     "data": {
      "text/plain": "   enrollee_id      city  city_development_index gender  \\\n0         8949  city_103                   0.920   Male   \n1        29725   city_40                   0.776   Male   \n2        11561   city_21                   0.624    NaN   \n3        33241  city_115                   0.789    NaN   \n4          666  city_162                   0.767   Male   \n\n       relevent_experience enrolled_university education_level  \\\n0  Has relevent experience       no_enrollment        Graduate   \n1   No relevent experience       no_enrollment        Graduate   \n2   No relevent experience    Full time course        Graduate   \n3   No relevent experience                 NaN        Graduate   \n4  Has relevent experience       no_enrollment         Masters   \n\n  major_discipline experience company_size    company_type last_new_job  \\\n0             STEM        >20          NaN             NaN            1   \n1             STEM         15        50-99         Pvt Ltd           >4   \n2             STEM          5          NaN             NaN        never   \n3  Business Degree         <1          NaN         Pvt Ltd        never   \n4             STEM        >20        50-99  Funded Startup            4   \n\n   training_hours  target  new_coll  new_coll2  \n0              36     1.0         1   0.025556  \n1              47     0.0         1   0.016511  \n2              83     0.0         1   0.007518  \n3              52     1.0         1   0.015173  \n4               8     0.0         1   0.095875  ",
      "text/html": "<div>\n<style scoped>\n    .dataframe tbody tr th:only-of-type {\n        vertical-align: middle;\n    }\n\n    .dataframe tbody tr th {\n        vertical-align: top;\n    }\n\n    .dataframe thead th {\n        text-align: right;\n    }\n</style>\n<table border=\"1\" class=\"dataframe\">\n  <thead>\n    <tr style=\"text-align: right;\">\n      <th></th>\n      <th>enrollee_id</th>\n      <th>city</th>\n      <th>city_development_index</th>\n      <th>gender</th>\n      <th>relevent_experience</th>\n      <th>enrolled_university</th>\n      <th>education_level</th>\n      <th>major_discipline</th>\n      <th>experience</th>\n      <th>company_size</th>\n      <th>company_type</th>\n      <th>last_new_job</th>\n      <th>training_hours</th>\n      <th>target</th>\n      <th>new_coll</th>\n      <th>new_coll2</th>\n    </tr>\n  </thead>\n  <tbody>\n    <tr>\n      <th>0</th>\n      <td>8949</td>\n      <td>city_103</td>\n      <td>0.920</td>\n      <td>Male</td>\n      <td>Has relevent experience</td>\n      <td>no_enrollment</td>\n      <td>Graduate</td>\n      <td>STEM</td>\n      <td>&gt;20</td>\n      <td>NaN</td>\n      <td>NaN</td>\n      <td>1</td>\n      <td>36</td>\n      <td>1.0</td>\n      <td>1</td>\n      <td>0.025556</td>\n    </tr>\n    <tr>\n      <th>1</th>\n      <td>29725</td>\n      <td>city_40</td>\n      <td>0.776</td>\n      <td>Male</td>\n      <td>No relevent experience</td>\n      <td>no_enrollment</td>\n      <td>Graduate</td>\n      <td>STEM</td>\n      <td>15</td>\n      <td>50-99</td>\n      <td>Pvt Ltd</td>\n      <td>&gt;4</td>\n      <td>47</td>\n      <td>0.0</td>\n      <td>1</td>\n      <td>0.016511</td>\n    </tr>\n    <tr>\n      <th>2</th>\n      <td>11561</td>\n      <td>city_21</td>\n      <td>0.624</td>\n      <td>NaN</td>\n      <td>No relevent experience</td>\n      <td>Full time course</td>\n      <td>Graduate</td>\n      <td>STEM</td>\n      <td>5</td>\n      <td>NaN</td>\n      <td>NaN</td>\n      <td>never</td>\n      <td>83</td>\n      <td>0.0</td>\n      <td>1</td>\n      <td>0.007518</td>\n    </tr>\n    <tr>\n      <th>3</th>\n      <td>33241</td>\n      <td>city_115</td>\n      <td>0.789</td>\n      <td>NaN</td>\n      <td>No relevent experience</td>\n      <td>NaN</td>\n      <td>Graduate</td>\n      <td>Business Degree</td>\n      <td>&lt;1</td>\n      <td>NaN</td>\n      <td>Pvt Ltd</td>\n      <td>never</td>\n      <td>52</td>\n      <td>1.0</td>\n      <td>1</td>\n      <td>0.015173</td>\n    </tr>\n    <tr>\n      <th>4</th>\n      <td>666</td>\n      <td>city_162</td>\n      <td>0.767</td>\n      <td>Male</td>\n      <td>Has relevent experience</td>\n      <td>no_enrollment</td>\n      <td>Masters</td>\n      <td>STEM</td>\n      <td>&gt;20</td>\n      <td>50-99</td>\n      <td>Funded Startup</td>\n      <td>4</td>\n      <td>8</td>\n      <td>0.0</td>\n      <td>1</td>\n      <td>0.095875</td>\n    </tr>\n  </tbody>\n</table>\n</div>"
     },
     "execution_count": 21,
     "metadata": {},
     "output_type": "execute_result"
    }
   ],
   "source": [
    "df.head()"
   ],
   "metadata": {
    "collapsed": false,
    "pycharm": {
     "name": "#%%\n"
    }
   }
  },
  {
   "cell_type": "markdown",
   "source": [
    "## Фильтрация и Ворнинги"
   ],
   "metadata": {
    "collapsed": false,
    "pycharm": {
     "name": "#%% md\n"
    }
   }
  },
  {
   "cell_type": "code",
   "execution_count": 22,
   "outputs": [
    {
     "data": {
      "text/plain": "       enrollee_id     city  city_development_index gender  \\\n1            29725  city_40                   0.776   Male   \n23            7041  city_40                   0.776   Male   \n363          28229  city_40                   0.776   Male   \n461          18620  city_40                   0.776   Male   \n827           1783  city_40                   0.776   Male   \n...            ...      ...                     ...    ...   \n18032          982  city_40                   0.776    NaN   \n18061        11208  city_40                   0.776   Male   \n18191          157  city_40                   0.776   Male   \n18650        26348  city_40                   0.776   Male   \n19142        13750  city_40                   0.776   Male   \n\n           relevent_experience enrolled_university education_level  \\\n1       No relevent experience       no_enrollment        Graduate   \n23     Has relevent experience       no_enrollment        Graduate   \n363    Has relevent experience    Part time course        Graduate   \n461    Has relevent experience    Full time course        Graduate   \n827    Has relevent experience       no_enrollment         Masters   \n...                        ...                 ...             ...   \n18032   No relevent experience    Part time course        Graduate   \n18061   No relevent experience    Full time course        Graduate   \n18191  Has relevent experience    Full time course        Graduate   \n18650  Has relevent experience       no_enrollment     High School   \n19142  Has relevent experience       no_enrollment             NaN   \n\n      major_discipline experience company_size         company_type  \\\n1                 STEM         15        50-99              Pvt Ltd   \n23          Humanities         <1    1000-4999              Pvt Ltd   \n363               STEM         18      100-500       Funded Startup   \n461               STEM         14    1000-4999              Pvt Ltd   \n827               STEM          7       10000+              Pvt Ltd   \n...                ...        ...          ...                  ...   \n18032             STEM          3          NaN                  NaN   \n18061             STEM         <1          NaN                  NaN   \n18191             STEM          5       10000+              Pvt Ltd   \n18650              NaN         13        50-99              Pvt Ltd   \n19142              NaN          5        10/49  Early Stage Startup   \n\n      last_new_job  training_hours  target  new_coll  new_coll2  \n1               >4              47     0.0         1   0.016511  \n23               1              65     0.0         1   0.011938  \n363             >4              51     0.0         1   0.015216  \n461          never              52     0.0         1   0.014923  \n827              1              56     0.0         1   0.013857  \n...            ...             ...     ...       ...        ...  \n18032          NaN              34     1.0         1   0.022824  \n18061            1             127     1.0         1   0.006110  \n18191        never              42     0.0         1   0.018476  \n18650            1              10     0.0         1   0.077600  \n19142            1              26     0.0         1   0.029846  \n\n[68 rows x 16 columns]",
      "text/html": "<div>\n<style scoped>\n    .dataframe tbody tr th:only-of-type {\n        vertical-align: middle;\n    }\n\n    .dataframe tbody tr th {\n        vertical-align: top;\n    }\n\n    .dataframe thead th {\n        text-align: right;\n    }\n</style>\n<table border=\"1\" class=\"dataframe\">\n  <thead>\n    <tr style=\"text-align: right;\">\n      <th></th>\n      <th>enrollee_id</th>\n      <th>city</th>\n      <th>city_development_index</th>\n      <th>gender</th>\n      <th>relevent_experience</th>\n      <th>enrolled_university</th>\n      <th>education_level</th>\n      <th>major_discipline</th>\n      <th>experience</th>\n      <th>company_size</th>\n      <th>company_type</th>\n      <th>last_new_job</th>\n      <th>training_hours</th>\n      <th>target</th>\n      <th>new_coll</th>\n      <th>new_coll2</th>\n    </tr>\n  </thead>\n  <tbody>\n    <tr>\n      <th>1</th>\n      <td>29725</td>\n      <td>city_40</td>\n      <td>0.776</td>\n      <td>Male</td>\n      <td>No relevent experience</td>\n      <td>no_enrollment</td>\n      <td>Graduate</td>\n      <td>STEM</td>\n      <td>15</td>\n      <td>50-99</td>\n      <td>Pvt Ltd</td>\n      <td>&gt;4</td>\n      <td>47</td>\n      <td>0.0</td>\n      <td>1</td>\n      <td>0.016511</td>\n    </tr>\n    <tr>\n      <th>23</th>\n      <td>7041</td>\n      <td>city_40</td>\n      <td>0.776</td>\n      <td>Male</td>\n      <td>Has relevent experience</td>\n      <td>no_enrollment</td>\n      <td>Graduate</td>\n      <td>Humanities</td>\n      <td>&lt;1</td>\n      <td>1000-4999</td>\n      <td>Pvt Ltd</td>\n      <td>1</td>\n      <td>65</td>\n      <td>0.0</td>\n      <td>1</td>\n      <td>0.011938</td>\n    </tr>\n    <tr>\n      <th>363</th>\n      <td>28229</td>\n      <td>city_40</td>\n      <td>0.776</td>\n      <td>Male</td>\n      <td>Has relevent experience</td>\n      <td>Part time course</td>\n      <td>Graduate</td>\n      <td>STEM</td>\n      <td>18</td>\n      <td>100-500</td>\n      <td>Funded Startup</td>\n      <td>&gt;4</td>\n      <td>51</td>\n      <td>0.0</td>\n      <td>1</td>\n      <td>0.015216</td>\n    </tr>\n    <tr>\n      <th>461</th>\n      <td>18620</td>\n      <td>city_40</td>\n      <td>0.776</td>\n      <td>Male</td>\n      <td>Has relevent experience</td>\n      <td>Full time course</td>\n      <td>Graduate</td>\n      <td>STEM</td>\n      <td>14</td>\n      <td>1000-4999</td>\n      <td>Pvt Ltd</td>\n      <td>never</td>\n      <td>52</td>\n      <td>0.0</td>\n      <td>1</td>\n      <td>0.014923</td>\n    </tr>\n    <tr>\n      <th>827</th>\n      <td>1783</td>\n      <td>city_40</td>\n      <td>0.776</td>\n      <td>Male</td>\n      <td>Has relevent experience</td>\n      <td>no_enrollment</td>\n      <td>Masters</td>\n      <td>STEM</td>\n      <td>7</td>\n      <td>10000+</td>\n      <td>Pvt Ltd</td>\n      <td>1</td>\n      <td>56</td>\n      <td>0.0</td>\n      <td>1</td>\n      <td>0.013857</td>\n    </tr>\n    <tr>\n      <th>...</th>\n      <td>...</td>\n      <td>...</td>\n      <td>...</td>\n      <td>...</td>\n      <td>...</td>\n      <td>...</td>\n      <td>...</td>\n      <td>...</td>\n      <td>...</td>\n      <td>...</td>\n      <td>...</td>\n      <td>...</td>\n      <td>...</td>\n      <td>...</td>\n      <td>...</td>\n      <td>...</td>\n    </tr>\n    <tr>\n      <th>18032</th>\n      <td>982</td>\n      <td>city_40</td>\n      <td>0.776</td>\n      <td>NaN</td>\n      <td>No relevent experience</td>\n      <td>Part time course</td>\n      <td>Graduate</td>\n      <td>STEM</td>\n      <td>3</td>\n      <td>NaN</td>\n      <td>NaN</td>\n      <td>NaN</td>\n      <td>34</td>\n      <td>1.0</td>\n      <td>1</td>\n      <td>0.022824</td>\n    </tr>\n    <tr>\n      <th>18061</th>\n      <td>11208</td>\n      <td>city_40</td>\n      <td>0.776</td>\n      <td>Male</td>\n      <td>No relevent experience</td>\n      <td>Full time course</td>\n      <td>Graduate</td>\n      <td>STEM</td>\n      <td>&lt;1</td>\n      <td>NaN</td>\n      <td>NaN</td>\n      <td>1</td>\n      <td>127</td>\n      <td>1.0</td>\n      <td>1</td>\n      <td>0.006110</td>\n    </tr>\n    <tr>\n      <th>18191</th>\n      <td>157</td>\n      <td>city_40</td>\n      <td>0.776</td>\n      <td>Male</td>\n      <td>Has relevent experience</td>\n      <td>Full time course</td>\n      <td>Graduate</td>\n      <td>STEM</td>\n      <td>5</td>\n      <td>10000+</td>\n      <td>Pvt Ltd</td>\n      <td>never</td>\n      <td>42</td>\n      <td>0.0</td>\n      <td>1</td>\n      <td>0.018476</td>\n    </tr>\n    <tr>\n      <th>18650</th>\n      <td>26348</td>\n      <td>city_40</td>\n      <td>0.776</td>\n      <td>Male</td>\n      <td>Has relevent experience</td>\n      <td>no_enrollment</td>\n      <td>High School</td>\n      <td>NaN</td>\n      <td>13</td>\n      <td>50-99</td>\n      <td>Pvt Ltd</td>\n      <td>1</td>\n      <td>10</td>\n      <td>0.0</td>\n      <td>1</td>\n      <td>0.077600</td>\n    </tr>\n    <tr>\n      <th>19142</th>\n      <td>13750</td>\n      <td>city_40</td>\n      <td>0.776</td>\n      <td>Male</td>\n      <td>Has relevent experience</td>\n      <td>no_enrollment</td>\n      <td>NaN</td>\n      <td>NaN</td>\n      <td>5</td>\n      <td>10/49</td>\n      <td>Early Stage Startup</td>\n      <td>1</td>\n      <td>26</td>\n      <td>0.0</td>\n      <td>1</td>\n      <td>0.029846</td>\n    </tr>\n  </tbody>\n</table>\n<p>68 rows × 16 columns</p>\n</div>"
     },
     "execution_count": 22,
     "metadata": {},
     "output_type": "execute_result"
    }
   ],
   "source": [
    "df[df['city'] == 'city_40']"
   ],
   "metadata": {
    "collapsed": false,
    "pycharm": {
     "name": "#%%\n"
    }
   }
  },
  {
   "cell_type": "code",
   "execution_count": 23,
   "outputs": [
    {
     "data": {
      "text/plain": "       enrollee_id     city  city_development_index  gender  \\\n5625         18467  city_40                   0.776  Female   \n6385         11547  city_40                   0.776  Female   \n8032         24409  city_40                   0.776  Female   \n8046         27349  city_40                   0.776  Female   \n9923          6702  city_40                   0.776  Female   \n13871        17684  city_40                   0.776  Female   \n\n           relevent_experience enrolled_university education_level  \\\n5625   Has relevent experience       no_enrollment         Masters   \n6385   Has relevent experience       no_enrollment        Graduate   \n8032    No relevent experience       no_enrollment         Masters   \n8046    No relevent experience       no_enrollment         Masters   \n9923    No relevent experience    Full time course        Graduate   \n13871  Has relevent experience       no_enrollment        Graduate   \n\n      major_discipline experience company_size company_type last_new_job  \\\n5625              STEM         15    1000-4999      Pvt Ltd            2   \n6385              STEM          2        10/49      Pvt Ltd            1   \n8032              STEM          1          NaN          NaN            1   \n8046              STEM          1        10/49      Pvt Ltd        never   \n9923             Other          1      100-500          NaN            1   \n13871             STEM          5        50-99      Pvt Ltd            1   \n\n       training_hours  target  new_coll  new_coll2  \n5625               25     0.0         1   0.031040  \n6385               15     0.0         1   0.051733  \n8032               49     1.0         1   0.015837  \n8046               19     1.0         1   0.040842  \n9923               34     0.0         1   0.022824  \n13871             118     0.0         1   0.006576  ",
      "text/html": "<div>\n<style scoped>\n    .dataframe tbody tr th:only-of-type {\n        vertical-align: middle;\n    }\n\n    .dataframe tbody tr th {\n        vertical-align: top;\n    }\n\n    .dataframe thead th {\n        text-align: right;\n    }\n</style>\n<table border=\"1\" class=\"dataframe\">\n  <thead>\n    <tr style=\"text-align: right;\">\n      <th></th>\n      <th>enrollee_id</th>\n      <th>city</th>\n      <th>city_development_index</th>\n      <th>gender</th>\n      <th>relevent_experience</th>\n      <th>enrolled_university</th>\n      <th>education_level</th>\n      <th>major_discipline</th>\n      <th>experience</th>\n      <th>company_size</th>\n      <th>company_type</th>\n      <th>last_new_job</th>\n      <th>training_hours</th>\n      <th>target</th>\n      <th>new_coll</th>\n      <th>new_coll2</th>\n    </tr>\n  </thead>\n  <tbody>\n    <tr>\n      <th>5625</th>\n      <td>18467</td>\n      <td>city_40</td>\n      <td>0.776</td>\n      <td>Female</td>\n      <td>Has relevent experience</td>\n      <td>no_enrollment</td>\n      <td>Masters</td>\n      <td>STEM</td>\n      <td>15</td>\n      <td>1000-4999</td>\n      <td>Pvt Ltd</td>\n      <td>2</td>\n      <td>25</td>\n      <td>0.0</td>\n      <td>1</td>\n      <td>0.031040</td>\n    </tr>\n    <tr>\n      <th>6385</th>\n      <td>11547</td>\n      <td>city_40</td>\n      <td>0.776</td>\n      <td>Female</td>\n      <td>Has relevent experience</td>\n      <td>no_enrollment</td>\n      <td>Graduate</td>\n      <td>STEM</td>\n      <td>2</td>\n      <td>10/49</td>\n      <td>Pvt Ltd</td>\n      <td>1</td>\n      <td>15</td>\n      <td>0.0</td>\n      <td>1</td>\n      <td>0.051733</td>\n    </tr>\n    <tr>\n      <th>8032</th>\n      <td>24409</td>\n      <td>city_40</td>\n      <td>0.776</td>\n      <td>Female</td>\n      <td>No relevent experience</td>\n      <td>no_enrollment</td>\n      <td>Masters</td>\n      <td>STEM</td>\n      <td>1</td>\n      <td>NaN</td>\n      <td>NaN</td>\n      <td>1</td>\n      <td>49</td>\n      <td>1.0</td>\n      <td>1</td>\n      <td>0.015837</td>\n    </tr>\n    <tr>\n      <th>8046</th>\n      <td>27349</td>\n      <td>city_40</td>\n      <td>0.776</td>\n      <td>Female</td>\n      <td>No relevent experience</td>\n      <td>no_enrollment</td>\n      <td>Masters</td>\n      <td>STEM</td>\n      <td>1</td>\n      <td>10/49</td>\n      <td>Pvt Ltd</td>\n      <td>never</td>\n      <td>19</td>\n      <td>1.0</td>\n      <td>1</td>\n      <td>0.040842</td>\n    </tr>\n    <tr>\n      <th>9923</th>\n      <td>6702</td>\n      <td>city_40</td>\n      <td>0.776</td>\n      <td>Female</td>\n      <td>No relevent experience</td>\n      <td>Full time course</td>\n      <td>Graduate</td>\n      <td>Other</td>\n      <td>1</td>\n      <td>100-500</td>\n      <td>NaN</td>\n      <td>1</td>\n      <td>34</td>\n      <td>0.0</td>\n      <td>1</td>\n      <td>0.022824</td>\n    </tr>\n    <tr>\n      <th>13871</th>\n      <td>17684</td>\n      <td>city_40</td>\n      <td>0.776</td>\n      <td>Female</td>\n      <td>Has relevent experience</td>\n      <td>no_enrollment</td>\n      <td>Graduate</td>\n      <td>STEM</td>\n      <td>5</td>\n      <td>50-99</td>\n      <td>Pvt Ltd</td>\n      <td>1</td>\n      <td>118</td>\n      <td>0.0</td>\n      <td>1</td>\n      <td>0.006576</td>\n    </tr>\n  </tbody>\n</table>\n</div>"
     },
     "execution_count": 23,
     "metadata": {},
     "output_type": "execute_result"
    }
   ],
   "source": [
    "df[(df['city'] == 'city_40') & (df['gender'] == 'Female')]"
   ],
   "metadata": {
    "collapsed": false,
    "pycharm": {
     "name": "#%%\n"
    }
   }
  },
  {
   "cell_type": "code",
   "execution_count": 24,
   "outputs": [
    {
     "data": {
      "text/plain": "       enrollee_id     city  city_development_index gender  \\\n1            29725  city_40                   0.776   Male   \n23            7041  city_40                   0.776   Male   \n363          28229  city_40                   0.776   Male   \n461          18620  city_40                   0.776   Male   \n827           1783  city_40                   0.776   Male   \n998          29671  city_40                   0.776   Male   \n2916         21646  city_40                   0.776   Male   \n3636         10085  city_40                   0.776   Male   \n4251          2603  city_40                   0.776   Male   \n4346          4051  city_40                   0.776   Male   \n4526         11840  city_40                   0.776   Male   \n4588          7010  city_40                   0.776   Male   \n5156          7556  city_40                   0.776   Male   \n6330          5389  city_40                   0.776   Male   \n6483           484  city_40                   0.776   Male   \n6990         14681  city_40                   0.776   Male   \n7009          1221  city_40                   0.776   Male   \n8606         10244  city_40                   0.776   Male   \n8661          3200  city_40                   0.776   Male   \n8847         27287  city_40                   0.776   Male   \n9390         33101  city_40                   0.776   Male   \n9658         17972  city_40                   0.776   Male   \n10952        23316  city_40                   0.776   Male   \n11072        25420  city_40                   0.776   Male   \n11700        16999  city_40                   0.776   Male   \n12228        12801  city_40                   0.776   Male   \n12601         8663  city_40                   0.776   Male   \n12782        27144  city_40                   0.776   Male   \n13385         9845  city_40                   0.776   Male   \n13520        22956  city_40                   0.776   Male   \n14231         1047  city_40                   0.776   Male   \n14462         8565  city_40                   0.776   Male   \n15553        28032  city_40                   0.776   Male   \n16174        15617  city_40                   0.776   Male   \n17315        25444  city_40                   0.776   Male   \n17324        15257  city_40                   0.776   Male   \n17761        31883  city_40                   0.776   Male   \n17803        11634  city_40                   0.776   Male   \n17849        12243  city_40                   0.776   Male   \n18061        11208  city_40                   0.776   Male   \n18191          157  city_40                   0.776   Male   \n18650        26348  city_40                   0.776   Male   \n19142        13750  city_40                   0.776   Male   \n\n           relevent_experience enrolled_university education_level  \\\n1       No relevent experience       no_enrollment        Graduate   \n23     Has relevent experience       no_enrollment        Graduate   \n363    Has relevent experience    Part time course        Graduate   \n461    Has relevent experience    Full time course        Graduate   \n827    Has relevent experience       no_enrollment         Masters   \n998     No relevent experience    Full time course        Graduate   \n2916    No relevent experience    Full time course     High School   \n3636   Has relevent experience    Full time course        Graduate   \n4251   Has relevent experience       no_enrollment     High School   \n4346   Has relevent experience       no_enrollment        Graduate   \n4526   Has relevent experience    Full time course        Graduate   \n4588   Has relevent experience       no_enrollment        Graduate   \n5156    No relevent experience    Full time course        Graduate   \n6330   Has relevent experience       no_enrollment     High School   \n6483    No relevent experience    Full time course     High School   \n6990   Has relevent experience       no_enrollment     High School   \n7009   Has relevent experience       no_enrollment         Masters   \n8606   Has relevent experience       no_enrollment        Graduate   \n8661   Has relevent experience       no_enrollment        Graduate   \n8847   Has relevent experience       no_enrollment         Masters   \n9390   Has relevent experience       no_enrollment        Graduate   \n9658   Has relevent experience       no_enrollment         Masters   \n10952  Has relevent experience       no_enrollment        Graduate   \n11072  Has relevent experience       no_enrollment        Graduate   \n11700  Has relevent experience       no_enrollment        Graduate   \n12228  Has relevent experience    Part time course        Graduate   \n12601  Has relevent experience    Part time course        Graduate   \n12782  Has relevent experience       no_enrollment        Graduate   \n13385  Has relevent experience       no_enrollment         Masters   \n13520  Has relevent experience                 NaN        Graduate   \n14231  Has relevent experience       no_enrollment     High School   \n14462  Has relevent experience       no_enrollment         Masters   \n15553  Has relevent experience       no_enrollment        Graduate   \n16174  Has relevent experience       no_enrollment        Graduate   \n17315  Has relevent experience       no_enrollment         Masters   \n17324  Has relevent experience       no_enrollment        Graduate   \n17761  Has relevent experience    Part time course        Graduate   \n17803  Has relevent experience       no_enrollment        Graduate   \n17849   No relevent experience    Full time course        Graduate   \n18061   No relevent experience    Full time course        Graduate   \n18191  Has relevent experience    Full time course        Graduate   \n18650  Has relevent experience       no_enrollment     High School   \n19142  Has relevent experience       no_enrollment             NaN   \n\n      major_discipline experience company_size         company_type  \\\n1                 STEM         15        50-99              Pvt Ltd   \n23          Humanities         <1    1000-4999              Pvt Ltd   \n363               STEM         18      100-500       Funded Startup   \n461               STEM         14    1000-4999              Pvt Ltd   \n827               STEM          7       10000+              Pvt Ltd   \n998               STEM          9          NaN                  NaN   \n2916               NaN          5          NaN                  NaN   \n3636              STEM         10    1000-4999              Pvt Ltd   \n4251               NaN          3        50-99              Pvt Ltd   \n4346              STEM        >20    1000-4999              Pvt Ltd   \n4526              STEM          3        50-99              Pvt Ltd   \n4588              STEM          5          <10              Pvt Ltd   \n5156              STEM          5          NaN                  NaN   \n6330               NaN          1        10/49              Pvt Ltd   \n6483               NaN          3          NaN              Pvt Ltd   \n6990               NaN         16      100-500       Funded Startup   \n7009              STEM         10    1000-4999              Pvt Ltd   \n8606             Other          4          <10              Pvt Ltd   \n8661        Humanities        >20          NaN                  NaN   \n8847             Other         10          <10              Pvt Ltd   \n9390              STEM         10      500-999              Pvt Ltd   \n9658              STEM          6          <10              Pvt Ltd   \n10952             STEM        >20        10/49              Pvt Ltd   \n11072             STEM        >20          NaN                  NaN   \n11700         No Major          6          <10              Pvt Ltd   \n12228             STEM        >20      100-500        Public Sector   \n12601             STEM         10        10/49              Pvt Ltd   \n12782             STEM        >20          <10              Pvt Ltd   \n13385             STEM         15        50-99              Pvt Ltd   \n13520             STEM          5        50-99                  NaN   \n14231              NaN         19          NaN                  NaN   \n14462             STEM          7        50-99                  NaN   \n15553             STEM          4          NaN                  NaN   \n16174       Humanities         11        10/49              Pvt Ltd   \n17315             STEM         10      100-500              Pvt Ltd   \n17324             STEM        >20          NaN                  NaN   \n17761             STEM          5        50-99              Pvt Ltd   \n17803             STEM          4        10/49              Pvt Ltd   \n17849             STEM          7          NaN                  NaN   \n18061             STEM         <1          NaN                  NaN   \n18191             STEM          5       10000+              Pvt Ltd   \n18650              NaN         13        50-99              Pvt Ltd   \n19142              NaN          5        10/49  Early Stage Startup   \n\n      last_new_job  training_hours  target  new_coll  new_coll2  \n1               >4              47     0.0         1   0.016511  \n23               1              65     0.0         1   0.011938  \n363             >4              51     0.0         1   0.015216  \n461          never              52     0.0         1   0.014923  \n827              1              56     0.0         1   0.013857  \n998              1              50     0.0         1   0.015520  \n2916         never              56     1.0         1   0.013857  \n3636             1             104     0.0         1   0.007462  \n4251             1              28     0.0         1   0.027714  \n4346            >4              20     0.0         1   0.038800  \n4526             1               9     0.0         1   0.086222  \n4588             1               4     0.0         1   0.194000  \n5156             1             330     0.0         1   0.002352  \n6330             1              89     0.0         1   0.008719  \n6483         never              22     0.0         1   0.035273  \n6990            >4              76     0.0         1   0.010211  \n7009             1              32     0.0         1   0.024250  \n8606             1             108     0.0         1   0.007185  \n8661             4              29     0.0         1   0.026759  \n8847             2              35     0.0         1   0.022171  \n9390            >4              32     0.0         1   0.024250  \n9658             2              54     0.0         1   0.014370  \n10952            1              15     0.0         1   0.051733  \n11072           >4              22     0.0         1   0.035273  \n11700            3             144     0.0         1   0.005389  \n12228           >4              89     0.0         1   0.008719  \n12601           >4              13     0.0         1   0.059692  \n12782            1              58     0.0         1   0.013379  \n13385           >4              78     0.0         1   0.009949  \n13520            1              98     0.0         1   0.007918  \n14231            1              72     0.0         1   0.010778  \n14462            1              25     1.0         1   0.031040  \n15553            2              89     1.0         1   0.008719  \n16174            2              50     0.0         1   0.015520  \n17315            1              22     0.0         1   0.035273  \n17324            4              90     0.0         1   0.008622  \n17761            3              98     0.0         1   0.007918  \n17803            1              61     0.0         1   0.012721  \n17849        never               1     0.0         1   0.776000  \n18061            1             127     1.0         1   0.006110  \n18191        never              42     0.0         1   0.018476  \n18650            1              10     0.0         1   0.077600  \n19142            1              26     0.0         1   0.029846  ",
      "text/html": "<div>\n<style scoped>\n    .dataframe tbody tr th:only-of-type {\n        vertical-align: middle;\n    }\n\n    .dataframe tbody tr th {\n        vertical-align: top;\n    }\n\n    .dataframe thead th {\n        text-align: right;\n    }\n</style>\n<table border=\"1\" class=\"dataframe\">\n  <thead>\n    <tr style=\"text-align: right;\">\n      <th></th>\n      <th>enrollee_id</th>\n      <th>city</th>\n      <th>city_development_index</th>\n      <th>gender</th>\n      <th>relevent_experience</th>\n      <th>enrolled_university</th>\n      <th>education_level</th>\n      <th>major_discipline</th>\n      <th>experience</th>\n      <th>company_size</th>\n      <th>company_type</th>\n      <th>last_new_job</th>\n      <th>training_hours</th>\n      <th>target</th>\n      <th>new_coll</th>\n      <th>new_coll2</th>\n    </tr>\n  </thead>\n  <tbody>\n    <tr>\n      <th>1</th>\n      <td>29725</td>\n      <td>city_40</td>\n      <td>0.776</td>\n      <td>Male</td>\n      <td>No relevent experience</td>\n      <td>no_enrollment</td>\n      <td>Graduate</td>\n      <td>STEM</td>\n      <td>15</td>\n      <td>50-99</td>\n      <td>Pvt Ltd</td>\n      <td>&gt;4</td>\n      <td>47</td>\n      <td>0.0</td>\n      <td>1</td>\n      <td>0.016511</td>\n    </tr>\n    <tr>\n      <th>23</th>\n      <td>7041</td>\n      <td>city_40</td>\n      <td>0.776</td>\n      <td>Male</td>\n      <td>Has relevent experience</td>\n      <td>no_enrollment</td>\n      <td>Graduate</td>\n      <td>Humanities</td>\n      <td>&lt;1</td>\n      <td>1000-4999</td>\n      <td>Pvt Ltd</td>\n      <td>1</td>\n      <td>65</td>\n      <td>0.0</td>\n      <td>1</td>\n      <td>0.011938</td>\n    </tr>\n    <tr>\n      <th>363</th>\n      <td>28229</td>\n      <td>city_40</td>\n      <td>0.776</td>\n      <td>Male</td>\n      <td>Has relevent experience</td>\n      <td>Part time course</td>\n      <td>Graduate</td>\n      <td>STEM</td>\n      <td>18</td>\n      <td>100-500</td>\n      <td>Funded Startup</td>\n      <td>&gt;4</td>\n      <td>51</td>\n      <td>0.0</td>\n      <td>1</td>\n      <td>0.015216</td>\n    </tr>\n    <tr>\n      <th>461</th>\n      <td>18620</td>\n      <td>city_40</td>\n      <td>0.776</td>\n      <td>Male</td>\n      <td>Has relevent experience</td>\n      <td>Full time course</td>\n      <td>Graduate</td>\n      <td>STEM</td>\n      <td>14</td>\n      <td>1000-4999</td>\n      <td>Pvt Ltd</td>\n      <td>never</td>\n      <td>52</td>\n      <td>0.0</td>\n      <td>1</td>\n      <td>0.014923</td>\n    </tr>\n    <tr>\n      <th>827</th>\n      <td>1783</td>\n      <td>city_40</td>\n      <td>0.776</td>\n      <td>Male</td>\n      <td>Has relevent experience</td>\n      <td>no_enrollment</td>\n      <td>Masters</td>\n      <td>STEM</td>\n      <td>7</td>\n      <td>10000+</td>\n      <td>Pvt Ltd</td>\n      <td>1</td>\n      <td>56</td>\n      <td>0.0</td>\n      <td>1</td>\n      <td>0.013857</td>\n    </tr>\n    <tr>\n      <th>998</th>\n      <td>29671</td>\n      <td>city_40</td>\n      <td>0.776</td>\n      <td>Male</td>\n      <td>No relevent experience</td>\n      <td>Full time course</td>\n      <td>Graduate</td>\n      <td>STEM</td>\n      <td>9</td>\n      <td>NaN</td>\n      <td>NaN</td>\n      <td>1</td>\n      <td>50</td>\n      <td>0.0</td>\n      <td>1</td>\n      <td>0.015520</td>\n    </tr>\n    <tr>\n      <th>2916</th>\n      <td>21646</td>\n      <td>city_40</td>\n      <td>0.776</td>\n      <td>Male</td>\n      <td>No relevent experience</td>\n      <td>Full time course</td>\n      <td>High School</td>\n      <td>NaN</td>\n      <td>5</td>\n      <td>NaN</td>\n      <td>NaN</td>\n      <td>never</td>\n      <td>56</td>\n      <td>1.0</td>\n      <td>1</td>\n      <td>0.013857</td>\n    </tr>\n    <tr>\n      <th>3636</th>\n      <td>10085</td>\n      <td>city_40</td>\n      <td>0.776</td>\n      <td>Male</td>\n      <td>Has relevent experience</td>\n      <td>Full time course</td>\n      <td>Graduate</td>\n      <td>STEM</td>\n      <td>10</td>\n      <td>1000-4999</td>\n      <td>Pvt Ltd</td>\n      <td>1</td>\n      <td>104</td>\n      <td>0.0</td>\n      <td>1</td>\n      <td>0.007462</td>\n    </tr>\n    <tr>\n      <th>4251</th>\n      <td>2603</td>\n      <td>city_40</td>\n      <td>0.776</td>\n      <td>Male</td>\n      <td>Has relevent experience</td>\n      <td>no_enrollment</td>\n      <td>High School</td>\n      <td>NaN</td>\n      <td>3</td>\n      <td>50-99</td>\n      <td>Pvt Ltd</td>\n      <td>1</td>\n      <td>28</td>\n      <td>0.0</td>\n      <td>1</td>\n      <td>0.027714</td>\n    </tr>\n    <tr>\n      <th>4346</th>\n      <td>4051</td>\n      <td>city_40</td>\n      <td>0.776</td>\n      <td>Male</td>\n      <td>Has relevent experience</td>\n      <td>no_enrollment</td>\n      <td>Graduate</td>\n      <td>STEM</td>\n      <td>&gt;20</td>\n      <td>1000-4999</td>\n      <td>Pvt Ltd</td>\n      <td>&gt;4</td>\n      <td>20</td>\n      <td>0.0</td>\n      <td>1</td>\n      <td>0.038800</td>\n    </tr>\n    <tr>\n      <th>4526</th>\n      <td>11840</td>\n      <td>city_40</td>\n      <td>0.776</td>\n      <td>Male</td>\n      <td>Has relevent experience</td>\n      <td>Full time course</td>\n      <td>Graduate</td>\n      <td>STEM</td>\n      <td>3</td>\n      <td>50-99</td>\n      <td>Pvt Ltd</td>\n      <td>1</td>\n      <td>9</td>\n      <td>0.0</td>\n      <td>1</td>\n      <td>0.086222</td>\n    </tr>\n    <tr>\n      <th>4588</th>\n      <td>7010</td>\n      <td>city_40</td>\n      <td>0.776</td>\n      <td>Male</td>\n      <td>Has relevent experience</td>\n      <td>no_enrollment</td>\n      <td>Graduate</td>\n      <td>STEM</td>\n      <td>5</td>\n      <td>&lt;10</td>\n      <td>Pvt Ltd</td>\n      <td>1</td>\n      <td>4</td>\n      <td>0.0</td>\n      <td>1</td>\n      <td>0.194000</td>\n    </tr>\n    <tr>\n      <th>5156</th>\n      <td>7556</td>\n      <td>city_40</td>\n      <td>0.776</td>\n      <td>Male</td>\n      <td>No relevent experience</td>\n      <td>Full time course</td>\n      <td>Graduate</td>\n      <td>STEM</td>\n      <td>5</td>\n      <td>NaN</td>\n      <td>NaN</td>\n      <td>1</td>\n      <td>330</td>\n      <td>0.0</td>\n      <td>1</td>\n      <td>0.002352</td>\n    </tr>\n    <tr>\n      <th>6330</th>\n      <td>5389</td>\n      <td>city_40</td>\n      <td>0.776</td>\n      <td>Male</td>\n      <td>Has relevent experience</td>\n      <td>no_enrollment</td>\n      <td>High School</td>\n      <td>NaN</td>\n      <td>1</td>\n      <td>10/49</td>\n      <td>Pvt Ltd</td>\n      <td>1</td>\n      <td>89</td>\n      <td>0.0</td>\n      <td>1</td>\n      <td>0.008719</td>\n    </tr>\n    <tr>\n      <th>6483</th>\n      <td>484</td>\n      <td>city_40</td>\n      <td>0.776</td>\n      <td>Male</td>\n      <td>No relevent experience</td>\n      <td>Full time course</td>\n      <td>High School</td>\n      <td>NaN</td>\n      <td>3</td>\n      <td>NaN</td>\n      <td>Pvt Ltd</td>\n      <td>never</td>\n      <td>22</td>\n      <td>0.0</td>\n      <td>1</td>\n      <td>0.035273</td>\n    </tr>\n    <tr>\n      <th>6990</th>\n      <td>14681</td>\n      <td>city_40</td>\n      <td>0.776</td>\n      <td>Male</td>\n      <td>Has relevent experience</td>\n      <td>no_enrollment</td>\n      <td>High School</td>\n      <td>NaN</td>\n      <td>16</td>\n      <td>100-500</td>\n      <td>Funded Startup</td>\n      <td>&gt;4</td>\n      <td>76</td>\n      <td>0.0</td>\n      <td>1</td>\n      <td>0.010211</td>\n    </tr>\n    <tr>\n      <th>7009</th>\n      <td>1221</td>\n      <td>city_40</td>\n      <td>0.776</td>\n      <td>Male</td>\n      <td>Has relevent experience</td>\n      <td>no_enrollment</td>\n      <td>Masters</td>\n      <td>STEM</td>\n      <td>10</td>\n      <td>1000-4999</td>\n      <td>Pvt Ltd</td>\n      <td>1</td>\n      <td>32</td>\n      <td>0.0</td>\n      <td>1</td>\n      <td>0.024250</td>\n    </tr>\n    <tr>\n      <th>8606</th>\n      <td>10244</td>\n      <td>city_40</td>\n      <td>0.776</td>\n      <td>Male</td>\n      <td>Has relevent experience</td>\n      <td>no_enrollment</td>\n      <td>Graduate</td>\n      <td>Other</td>\n      <td>4</td>\n      <td>&lt;10</td>\n      <td>Pvt Ltd</td>\n      <td>1</td>\n      <td>108</td>\n      <td>0.0</td>\n      <td>1</td>\n      <td>0.007185</td>\n    </tr>\n    <tr>\n      <th>8661</th>\n      <td>3200</td>\n      <td>city_40</td>\n      <td>0.776</td>\n      <td>Male</td>\n      <td>Has relevent experience</td>\n      <td>no_enrollment</td>\n      <td>Graduate</td>\n      <td>Humanities</td>\n      <td>&gt;20</td>\n      <td>NaN</td>\n      <td>NaN</td>\n      <td>4</td>\n      <td>29</td>\n      <td>0.0</td>\n      <td>1</td>\n      <td>0.026759</td>\n    </tr>\n    <tr>\n      <th>8847</th>\n      <td>27287</td>\n      <td>city_40</td>\n      <td>0.776</td>\n      <td>Male</td>\n      <td>Has relevent experience</td>\n      <td>no_enrollment</td>\n      <td>Masters</td>\n      <td>Other</td>\n      <td>10</td>\n      <td>&lt;10</td>\n      <td>Pvt Ltd</td>\n      <td>2</td>\n      <td>35</td>\n      <td>0.0</td>\n      <td>1</td>\n      <td>0.022171</td>\n    </tr>\n    <tr>\n      <th>9390</th>\n      <td>33101</td>\n      <td>city_40</td>\n      <td>0.776</td>\n      <td>Male</td>\n      <td>Has relevent experience</td>\n      <td>no_enrollment</td>\n      <td>Graduate</td>\n      <td>STEM</td>\n      <td>10</td>\n      <td>500-999</td>\n      <td>Pvt Ltd</td>\n      <td>&gt;4</td>\n      <td>32</td>\n      <td>0.0</td>\n      <td>1</td>\n      <td>0.024250</td>\n    </tr>\n    <tr>\n      <th>9658</th>\n      <td>17972</td>\n      <td>city_40</td>\n      <td>0.776</td>\n      <td>Male</td>\n      <td>Has relevent experience</td>\n      <td>no_enrollment</td>\n      <td>Masters</td>\n      <td>STEM</td>\n      <td>6</td>\n      <td>&lt;10</td>\n      <td>Pvt Ltd</td>\n      <td>2</td>\n      <td>54</td>\n      <td>0.0</td>\n      <td>1</td>\n      <td>0.014370</td>\n    </tr>\n    <tr>\n      <th>10952</th>\n      <td>23316</td>\n      <td>city_40</td>\n      <td>0.776</td>\n      <td>Male</td>\n      <td>Has relevent experience</td>\n      <td>no_enrollment</td>\n      <td>Graduate</td>\n      <td>STEM</td>\n      <td>&gt;20</td>\n      <td>10/49</td>\n      <td>Pvt Ltd</td>\n      <td>1</td>\n      <td>15</td>\n      <td>0.0</td>\n      <td>1</td>\n      <td>0.051733</td>\n    </tr>\n    <tr>\n      <th>11072</th>\n      <td>25420</td>\n      <td>city_40</td>\n      <td>0.776</td>\n      <td>Male</td>\n      <td>Has relevent experience</td>\n      <td>no_enrollment</td>\n      <td>Graduate</td>\n      <td>STEM</td>\n      <td>&gt;20</td>\n      <td>NaN</td>\n      <td>NaN</td>\n      <td>&gt;4</td>\n      <td>22</td>\n      <td>0.0</td>\n      <td>1</td>\n      <td>0.035273</td>\n    </tr>\n    <tr>\n      <th>11700</th>\n      <td>16999</td>\n      <td>city_40</td>\n      <td>0.776</td>\n      <td>Male</td>\n      <td>Has relevent experience</td>\n      <td>no_enrollment</td>\n      <td>Graduate</td>\n      <td>No Major</td>\n      <td>6</td>\n      <td>&lt;10</td>\n      <td>Pvt Ltd</td>\n      <td>3</td>\n      <td>144</td>\n      <td>0.0</td>\n      <td>1</td>\n      <td>0.005389</td>\n    </tr>\n    <tr>\n      <th>12228</th>\n      <td>12801</td>\n      <td>city_40</td>\n      <td>0.776</td>\n      <td>Male</td>\n      <td>Has relevent experience</td>\n      <td>Part time course</td>\n      <td>Graduate</td>\n      <td>STEM</td>\n      <td>&gt;20</td>\n      <td>100-500</td>\n      <td>Public Sector</td>\n      <td>&gt;4</td>\n      <td>89</td>\n      <td>0.0</td>\n      <td>1</td>\n      <td>0.008719</td>\n    </tr>\n    <tr>\n      <th>12601</th>\n      <td>8663</td>\n      <td>city_40</td>\n      <td>0.776</td>\n      <td>Male</td>\n      <td>Has relevent experience</td>\n      <td>Part time course</td>\n      <td>Graduate</td>\n      <td>STEM</td>\n      <td>10</td>\n      <td>10/49</td>\n      <td>Pvt Ltd</td>\n      <td>&gt;4</td>\n      <td>13</td>\n      <td>0.0</td>\n      <td>1</td>\n      <td>0.059692</td>\n    </tr>\n    <tr>\n      <th>12782</th>\n      <td>27144</td>\n      <td>city_40</td>\n      <td>0.776</td>\n      <td>Male</td>\n      <td>Has relevent experience</td>\n      <td>no_enrollment</td>\n      <td>Graduate</td>\n      <td>STEM</td>\n      <td>&gt;20</td>\n      <td>&lt;10</td>\n      <td>Pvt Ltd</td>\n      <td>1</td>\n      <td>58</td>\n      <td>0.0</td>\n      <td>1</td>\n      <td>0.013379</td>\n    </tr>\n    <tr>\n      <th>13385</th>\n      <td>9845</td>\n      <td>city_40</td>\n      <td>0.776</td>\n      <td>Male</td>\n      <td>Has relevent experience</td>\n      <td>no_enrollment</td>\n      <td>Masters</td>\n      <td>STEM</td>\n      <td>15</td>\n      <td>50-99</td>\n      <td>Pvt Ltd</td>\n      <td>&gt;4</td>\n      <td>78</td>\n      <td>0.0</td>\n      <td>1</td>\n      <td>0.009949</td>\n    </tr>\n    <tr>\n      <th>13520</th>\n      <td>22956</td>\n      <td>city_40</td>\n      <td>0.776</td>\n      <td>Male</td>\n      <td>Has relevent experience</td>\n      <td>NaN</td>\n      <td>Graduate</td>\n      <td>STEM</td>\n      <td>5</td>\n      <td>50-99</td>\n      <td>NaN</td>\n      <td>1</td>\n      <td>98</td>\n      <td>0.0</td>\n      <td>1</td>\n      <td>0.007918</td>\n    </tr>\n    <tr>\n      <th>14231</th>\n      <td>1047</td>\n      <td>city_40</td>\n      <td>0.776</td>\n      <td>Male</td>\n      <td>Has relevent experience</td>\n      <td>no_enrollment</td>\n      <td>High School</td>\n      <td>NaN</td>\n      <td>19</td>\n      <td>NaN</td>\n      <td>NaN</td>\n      <td>1</td>\n      <td>72</td>\n      <td>0.0</td>\n      <td>1</td>\n      <td>0.010778</td>\n    </tr>\n    <tr>\n      <th>14462</th>\n      <td>8565</td>\n      <td>city_40</td>\n      <td>0.776</td>\n      <td>Male</td>\n      <td>Has relevent experience</td>\n      <td>no_enrollment</td>\n      <td>Masters</td>\n      <td>STEM</td>\n      <td>7</td>\n      <td>50-99</td>\n      <td>NaN</td>\n      <td>1</td>\n      <td>25</td>\n      <td>1.0</td>\n      <td>1</td>\n      <td>0.031040</td>\n    </tr>\n    <tr>\n      <th>15553</th>\n      <td>28032</td>\n      <td>city_40</td>\n      <td>0.776</td>\n      <td>Male</td>\n      <td>Has relevent experience</td>\n      <td>no_enrollment</td>\n      <td>Graduate</td>\n      <td>STEM</td>\n      <td>4</td>\n      <td>NaN</td>\n      <td>NaN</td>\n      <td>2</td>\n      <td>89</td>\n      <td>1.0</td>\n      <td>1</td>\n      <td>0.008719</td>\n    </tr>\n    <tr>\n      <th>16174</th>\n      <td>15617</td>\n      <td>city_40</td>\n      <td>0.776</td>\n      <td>Male</td>\n      <td>Has relevent experience</td>\n      <td>no_enrollment</td>\n      <td>Graduate</td>\n      <td>Humanities</td>\n      <td>11</td>\n      <td>10/49</td>\n      <td>Pvt Ltd</td>\n      <td>2</td>\n      <td>50</td>\n      <td>0.0</td>\n      <td>1</td>\n      <td>0.015520</td>\n    </tr>\n    <tr>\n      <th>17315</th>\n      <td>25444</td>\n      <td>city_40</td>\n      <td>0.776</td>\n      <td>Male</td>\n      <td>Has relevent experience</td>\n      <td>no_enrollment</td>\n      <td>Masters</td>\n      <td>STEM</td>\n      <td>10</td>\n      <td>100-500</td>\n      <td>Pvt Ltd</td>\n      <td>1</td>\n      <td>22</td>\n      <td>0.0</td>\n      <td>1</td>\n      <td>0.035273</td>\n    </tr>\n    <tr>\n      <th>17324</th>\n      <td>15257</td>\n      <td>city_40</td>\n      <td>0.776</td>\n      <td>Male</td>\n      <td>Has relevent experience</td>\n      <td>no_enrollment</td>\n      <td>Graduate</td>\n      <td>STEM</td>\n      <td>&gt;20</td>\n      <td>NaN</td>\n      <td>NaN</td>\n      <td>4</td>\n      <td>90</td>\n      <td>0.0</td>\n      <td>1</td>\n      <td>0.008622</td>\n    </tr>\n    <tr>\n      <th>17761</th>\n      <td>31883</td>\n      <td>city_40</td>\n      <td>0.776</td>\n      <td>Male</td>\n      <td>Has relevent experience</td>\n      <td>Part time course</td>\n      <td>Graduate</td>\n      <td>STEM</td>\n      <td>5</td>\n      <td>50-99</td>\n      <td>Pvt Ltd</td>\n      <td>3</td>\n      <td>98</td>\n      <td>0.0</td>\n      <td>1</td>\n      <td>0.007918</td>\n    </tr>\n    <tr>\n      <th>17803</th>\n      <td>11634</td>\n      <td>city_40</td>\n      <td>0.776</td>\n      <td>Male</td>\n      <td>Has relevent experience</td>\n      <td>no_enrollment</td>\n      <td>Graduate</td>\n      <td>STEM</td>\n      <td>4</td>\n      <td>10/49</td>\n      <td>Pvt Ltd</td>\n      <td>1</td>\n      <td>61</td>\n      <td>0.0</td>\n      <td>1</td>\n      <td>0.012721</td>\n    </tr>\n    <tr>\n      <th>17849</th>\n      <td>12243</td>\n      <td>city_40</td>\n      <td>0.776</td>\n      <td>Male</td>\n      <td>No relevent experience</td>\n      <td>Full time course</td>\n      <td>Graduate</td>\n      <td>STEM</td>\n      <td>7</td>\n      <td>NaN</td>\n      <td>NaN</td>\n      <td>never</td>\n      <td>1</td>\n      <td>0.0</td>\n      <td>1</td>\n      <td>0.776000</td>\n    </tr>\n    <tr>\n      <th>18061</th>\n      <td>11208</td>\n      <td>city_40</td>\n      <td>0.776</td>\n      <td>Male</td>\n      <td>No relevent experience</td>\n      <td>Full time course</td>\n      <td>Graduate</td>\n      <td>STEM</td>\n      <td>&lt;1</td>\n      <td>NaN</td>\n      <td>NaN</td>\n      <td>1</td>\n      <td>127</td>\n      <td>1.0</td>\n      <td>1</td>\n      <td>0.006110</td>\n    </tr>\n    <tr>\n      <th>18191</th>\n      <td>157</td>\n      <td>city_40</td>\n      <td>0.776</td>\n      <td>Male</td>\n      <td>Has relevent experience</td>\n      <td>Full time course</td>\n      <td>Graduate</td>\n      <td>STEM</td>\n      <td>5</td>\n      <td>10000+</td>\n      <td>Pvt Ltd</td>\n      <td>never</td>\n      <td>42</td>\n      <td>0.0</td>\n      <td>1</td>\n      <td>0.018476</td>\n    </tr>\n    <tr>\n      <th>18650</th>\n      <td>26348</td>\n      <td>city_40</td>\n      <td>0.776</td>\n      <td>Male</td>\n      <td>Has relevent experience</td>\n      <td>no_enrollment</td>\n      <td>High School</td>\n      <td>NaN</td>\n      <td>13</td>\n      <td>50-99</td>\n      <td>Pvt Ltd</td>\n      <td>1</td>\n      <td>10</td>\n      <td>0.0</td>\n      <td>1</td>\n      <td>0.077600</td>\n    </tr>\n    <tr>\n      <th>19142</th>\n      <td>13750</td>\n      <td>city_40</td>\n      <td>0.776</td>\n      <td>Male</td>\n      <td>Has relevent experience</td>\n      <td>no_enrollment</td>\n      <td>NaN</td>\n      <td>NaN</td>\n      <td>5</td>\n      <td>10/49</td>\n      <td>Early Stage Startup</td>\n      <td>1</td>\n      <td>26</td>\n      <td>0.0</td>\n      <td>1</td>\n      <td>0.029846</td>\n    </tr>\n  </tbody>\n</table>\n</div>"
     },
     "execution_count": 24,
     "metadata": {},
     "output_type": "execute_result"
    }
   ],
   "source": [
    "df.query('city == \"city_40\" and gender == \"Male\"')"
   ],
   "metadata": {
    "collapsed": false,
    "pycharm": {
     "name": "#%%\n"
    }
   }
  },
  {
   "cell_type": "code",
   "execution_count": 25,
   "outputs": [],
   "source": [
    "city_40_female = df[(df['city'] == 'city_40') & (df['gender'] == 'Female')]"
   ],
   "metadata": {
    "collapsed": false,
    "pycharm": {
     "name": "#%%\n"
    }
   }
  },
  {
   "cell_type": "code",
   "execution_count": 26,
   "outputs": [
    {
     "data": {
      "text/plain": "       enrollee_id     city  city_development_index  gender  \\\n5625         18467  city_40                   0.776  Female   \n6385         11547  city_40                   0.776  Female   \n8032         24409  city_40                   0.776  Female   \n8046         27349  city_40                   0.776  Female   \n9923          6702  city_40                   0.776  Female   \n13871        17684  city_40                   0.776  Female   \n\n           relevent_experience enrolled_university education_level  \\\n5625   Has relevent experience       no_enrollment         Masters   \n6385   Has relevent experience       no_enrollment        Graduate   \n8032    No relevent experience       no_enrollment         Masters   \n8046    No relevent experience       no_enrollment         Masters   \n9923    No relevent experience    Full time course        Graduate   \n13871  Has relevent experience       no_enrollment        Graduate   \n\n      major_discipline experience company_size company_type last_new_job  \\\n5625              STEM         15    1000-4999      Pvt Ltd            2   \n6385              STEM          2        10/49      Pvt Ltd            1   \n8032              STEM          1          NaN          NaN            1   \n8046              STEM          1        10/49      Pvt Ltd        never   \n9923             Other          1      100-500          NaN            1   \n13871             STEM          5        50-99      Pvt Ltd            1   \n\n       training_hours  target  new_coll  new_coll2  \n5625               25     0.0         1   0.031040  \n6385               15     0.0         1   0.051733  \n8032               49     1.0         1   0.015837  \n8046               19     1.0         1   0.040842  \n9923               34     0.0         1   0.022824  \n13871             118     0.0         1   0.006576  ",
      "text/html": "<div>\n<style scoped>\n    .dataframe tbody tr th:only-of-type {\n        vertical-align: middle;\n    }\n\n    .dataframe tbody tr th {\n        vertical-align: top;\n    }\n\n    .dataframe thead th {\n        text-align: right;\n    }\n</style>\n<table border=\"1\" class=\"dataframe\">\n  <thead>\n    <tr style=\"text-align: right;\">\n      <th></th>\n      <th>enrollee_id</th>\n      <th>city</th>\n      <th>city_development_index</th>\n      <th>gender</th>\n      <th>relevent_experience</th>\n      <th>enrolled_university</th>\n      <th>education_level</th>\n      <th>major_discipline</th>\n      <th>experience</th>\n      <th>company_size</th>\n      <th>company_type</th>\n      <th>last_new_job</th>\n      <th>training_hours</th>\n      <th>target</th>\n      <th>new_coll</th>\n      <th>new_coll2</th>\n    </tr>\n  </thead>\n  <tbody>\n    <tr>\n      <th>5625</th>\n      <td>18467</td>\n      <td>city_40</td>\n      <td>0.776</td>\n      <td>Female</td>\n      <td>Has relevent experience</td>\n      <td>no_enrollment</td>\n      <td>Masters</td>\n      <td>STEM</td>\n      <td>15</td>\n      <td>1000-4999</td>\n      <td>Pvt Ltd</td>\n      <td>2</td>\n      <td>25</td>\n      <td>0.0</td>\n      <td>1</td>\n      <td>0.031040</td>\n    </tr>\n    <tr>\n      <th>6385</th>\n      <td>11547</td>\n      <td>city_40</td>\n      <td>0.776</td>\n      <td>Female</td>\n      <td>Has relevent experience</td>\n      <td>no_enrollment</td>\n      <td>Graduate</td>\n      <td>STEM</td>\n      <td>2</td>\n      <td>10/49</td>\n      <td>Pvt Ltd</td>\n      <td>1</td>\n      <td>15</td>\n      <td>0.0</td>\n      <td>1</td>\n      <td>0.051733</td>\n    </tr>\n    <tr>\n      <th>8032</th>\n      <td>24409</td>\n      <td>city_40</td>\n      <td>0.776</td>\n      <td>Female</td>\n      <td>No relevent experience</td>\n      <td>no_enrollment</td>\n      <td>Masters</td>\n      <td>STEM</td>\n      <td>1</td>\n      <td>NaN</td>\n      <td>NaN</td>\n      <td>1</td>\n      <td>49</td>\n      <td>1.0</td>\n      <td>1</td>\n      <td>0.015837</td>\n    </tr>\n    <tr>\n      <th>8046</th>\n      <td>27349</td>\n      <td>city_40</td>\n      <td>0.776</td>\n      <td>Female</td>\n      <td>No relevent experience</td>\n      <td>no_enrollment</td>\n      <td>Masters</td>\n      <td>STEM</td>\n      <td>1</td>\n      <td>10/49</td>\n      <td>Pvt Ltd</td>\n      <td>never</td>\n      <td>19</td>\n      <td>1.0</td>\n      <td>1</td>\n      <td>0.040842</td>\n    </tr>\n    <tr>\n      <th>9923</th>\n      <td>6702</td>\n      <td>city_40</td>\n      <td>0.776</td>\n      <td>Female</td>\n      <td>No relevent experience</td>\n      <td>Full time course</td>\n      <td>Graduate</td>\n      <td>Other</td>\n      <td>1</td>\n      <td>100-500</td>\n      <td>NaN</td>\n      <td>1</td>\n      <td>34</td>\n      <td>0.0</td>\n      <td>1</td>\n      <td>0.022824</td>\n    </tr>\n    <tr>\n      <th>13871</th>\n      <td>17684</td>\n      <td>city_40</td>\n      <td>0.776</td>\n      <td>Female</td>\n      <td>Has relevent experience</td>\n      <td>no_enrollment</td>\n      <td>Graduate</td>\n      <td>STEM</td>\n      <td>5</td>\n      <td>50-99</td>\n      <td>Pvt Ltd</td>\n      <td>1</td>\n      <td>118</td>\n      <td>0.0</td>\n      <td>1</td>\n      <td>0.006576</td>\n    </tr>\n  </tbody>\n</table>\n</div>"
     },
     "execution_count": 26,
     "metadata": {},
     "output_type": "execute_result"
    }
   ],
   "source": [
    "city_40_female"
   ],
   "metadata": {
    "collapsed": false,
    "pycharm": {
     "name": "#%%\n"
    }
   }
  },
  {
   "cell_type": "markdown",
   "source": [
    "##### Данная строка вызывает ворнинг, т.к. не была создана копия ↓"
   ],
   "metadata": {
    "collapsed": false,
    "pycharm": {
     "name": "#%% md\n"
    }
   }
  },
  {
   "cell_type": "code",
   "execution_count": 27,
   "outputs": [
    {
     "name": "stderr",
     "output_type": "stream",
     "text": [
      "C:\\Users\\Zetis\\AppData\\Local\\Temp\\ipykernel_17288\\1569371169.py:1: SettingWithCopyWarning: \n",
      "A value is trying to be set on a copy of a slice from a DataFrame.\n",
      "Try using .loc[row_indexer,col_indexer] = value instead\n",
      "\n",
      "See the caveats in the documentation: https://pandas.pydata.org/pandas-docs/stable/user_guide/indexing.html#returning-a-view-versus-a-copy\n",
      "  city_40_female['new_coll3'] = 1\n"
     ]
    }
   ],
   "source": [
    "city_40_female['new_coll3'] = 1"
   ],
   "metadata": {
    "collapsed": false,
    "pycharm": {
     "name": "#%%\n"
    }
   }
  },
  {
   "cell_type": "code",
   "execution_count": 28,
   "outputs": [],
   "source": [
    "city_40_female_1 = df[(df['city'] == 'city_40') & (df['gender'] == 'Female')].copy()"
   ],
   "metadata": {
    "collapsed": false,
    "pycharm": {
     "name": "#%%\n"
    }
   }
  },
  {
   "cell_type": "markdown",
   "source": [
    "##### Теперь данння строчка ↓ не вызывает ворнинга, т.к. изменения были применены, к копии ДФ"
   ],
   "metadata": {
    "collapsed": false,
    "pycharm": {
     "name": "#%% md\n"
    }
   }
  },
  {
   "cell_type": "code",
   "execution_count": null,
   "outputs": [],
   "source": [
    "city_40_female_1['new_coll4'] = 2"
   ],
   "metadata": {
    "collapsed": false,
    "pycharm": {
     "name": "#%%\n"
    }
   }
  },
  {
   "cell_type": "markdown",
   "source": [
    "## Пропуски"
   ],
   "metadata": {
    "collapsed": false,
    "pycharm": {
     "name": "#%% md\n"
    }
   }
  },
  {
   "cell_type": "code",
   "execution_count": 29,
   "outputs": [
    {
     "data": {
      "text/plain": "   enrollee_id      city  city_development_index gender  \\\n0         8949  city_103                   0.920   Male   \n1        29725   city_40                   0.776   Male   \n2        11561   city_21                   0.624    NaN   \n3        33241  city_115                   0.789    NaN   \n4          666  city_162                   0.767   Male   \n\n       relevent_experience enrolled_university education_level  \\\n0  Has relevent experience       no_enrollment        Graduate   \n1   No relevent experience       no_enrollment        Graduate   \n2   No relevent experience    Full time course        Graduate   \n3   No relevent experience                 NaN        Graduate   \n4  Has relevent experience       no_enrollment         Masters   \n\n  major_discipline experience company_size    company_type last_new_job  \\\n0             STEM        >20          NaN             NaN            1   \n1             STEM         15        50-99         Pvt Ltd           >4   \n2             STEM          5          NaN             NaN        never   \n3  Business Degree         <1          NaN         Pvt Ltd        never   \n4             STEM        >20        50-99  Funded Startup            4   \n\n   training_hours  target  new_coll  new_coll2  \n0              36     1.0         1   0.025556  \n1              47     0.0         1   0.016511  \n2              83     0.0         1   0.007518  \n3              52     1.0         1   0.015173  \n4               8     0.0         1   0.095875  ",
      "text/html": "<div>\n<style scoped>\n    .dataframe tbody tr th:only-of-type {\n        vertical-align: middle;\n    }\n\n    .dataframe tbody tr th {\n        vertical-align: top;\n    }\n\n    .dataframe thead th {\n        text-align: right;\n    }\n</style>\n<table border=\"1\" class=\"dataframe\">\n  <thead>\n    <tr style=\"text-align: right;\">\n      <th></th>\n      <th>enrollee_id</th>\n      <th>city</th>\n      <th>city_development_index</th>\n      <th>gender</th>\n      <th>relevent_experience</th>\n      <th>enrolled_university</th>\n      <th>education_level</th>\n      <th>major_discipline</th>\n      <th>experience</th>\n      <th>company_size</th>\n      <th>company_type</th>\n      <th>last_new_job</th>\n      <th>training_hours</th>\n      <th>target</th>\n      <th>new_coll</th>\n      <th>new_coll2</th>\n    </tr>\n  </thead>\n  <tbody>\n    <tr>\n      <th>0</th>\n      <td>8949</td>\n      <td>city_103</td>\n      <td>0.920</td>\n      <td>Male</td>\n      <td>Has relevent experience</td>\n      <td>no_enrollment</td>\n      <td>Graduate</td>\n      <td>STEM</td>\n      <td>&gt;20</td>\n      <td>NaN</td>\n      <td>NaN</td>\n      <td>1</td>\n      <td>36</td>\n      <td>1.0</td>\n      <td>1</td>\n      <td>0.025556</td>\n    </tr>\n    <tr>\n      <th>1</th>\n      <td>29725</td>\n      <td>city_40</td>\n      <td>0.776</td>\n      <td>Male</td>\n      <td>No relevent experience</td>\n      <td>no_enrollment</td>\n      <td>Graduate</td>\n      <td>STEM</td>\n      <td>15</td>\n      <td>50-99</td>\n      <td>Pvt Ltd</td>\n      <td>&gt;4</td>\n      <td>47</td>\n      <td>0.0</td>\n      <td>1</td>\n      <td>0.016511</td>\n    </tr>\n    <tr>\n      <th>2</th>\n      <td>11561</td>\n      <td>city_21</td>\n      <td>0.624</td>\n      <td>NaN</td>\n      <td>No relevent experience</td>\n      <td>Full time course</td>\n      <td>Graduate</td>\n      <td>STEM</td>\n      <td>5</td>\n      <td>NaN</td>\n      <td>NaN</td>\n      <td>never</td>\n      <td>83</td>\n      <td>0.0</td>\n      <td>1</td>\n      <td>0.007518</td>\n    </tr>\n    <tr>\n      <th>3</th>\n      <td>33241</td>\n      <td>city_115</td>\n      <td>0.789</td>\n      <td>NaN</td>\n      <td>No relevent experience</td>\n      <td>NaN</td>\n      <td>Graduate</td>\n      <td>Business Degree</td>\n      <td>&lt;1</td>\n      <td>NaN</td>\n      <td>Pvt Ltd</td>\n      <td>never</td>\n      <td>52</td>\n      <td>1.0</td>\n      <td>1</td>\n      <td>0.015173</td>\n    </tr>\n    <tr>\n      <th>4</th>\n      <td>666</td>\n      <td>city_162</td>\n      <td>0.767</td>\n      <td>Male</td>\n      <td>Has relevent experience</td>\n      <td>no_enrollment</td>\n      <td>Masters</td>\n      <td>STEM</td>\n      <td>&gt;20</td>\n      <td>50-99</td>\n      <td>Funded Startup</td>\n      <td>4</td>\n      <td>8</td>\n      <td>0.0</td>\n      <td>1</td>\n      <td>0.095875</td>\n    </tr>\n  </tbody>\n</table>\n</div>"
     },
     "execution_count": 29,
     "metadata": {},
     "output_type": "execute_result"
    }
   ],
   "source": [
    "df.head()"
   ],
   "metadata": {
    "collapsed": false,
    "pycharm": {
     "name": "#%%\n"
    }
   }
  },
  {
   "cell_type": "markdown",
   "source": [
    "##### Процент пропусков по каждому столбцу"
   ],
   "metadata": {
    "collapsed": false,
    "pycharm": {
     "name": "#%% md\n"
    }
   }
  },
  {
   "cell_type": "code",
   "execution_count": 33,
   "outputs": [
    {
     "data": {
      "text/plain": "company_type              0.320493\ncompany_size              0.309949\ngender                    0.235306\nmajor_discipline          0.146832\neducation_level           0.024011\nlast_new_job              0.022080\nenrolled_university       0.020148\nexperience                0.003393\nenrollee_id               0.000000\ncity                      0.000000\ncity_development_index    0.000000\nrelevent_experience       0.000000\ntraining_hours            0.000000\ntarget                    0.000000\nnew_coll                  0.000000\nnew_coll2                 0.000000\ndtype: float64"
     },
     "execution_count": 33,
     "metadata": {},
     "output_type": "execute_result"
    }
   ],
   "source": [
    "df.isna().mean().sort_values(ascending=False)"
   ],
   "metadata": {
    "collapsed": false,
    "pycharm": {
     "name": "#%%\n"
    }
   }
  },
  {
   "cell_type": "code",
   "execution_count": 34,
   "outputs": [
    {
     "name": "stdout",
     "output_type": "stream",
     "text": [
      "<class 'pandas.core.frame.DataFrame'>\n",
      "RangeIndex: 19158 entries, 0 to 19157\n",
      "Data columns (total 16 columns):\n",
      " #   Column                  Non-Null Count  Dtype  \n",
      "---  ------                  --------------  -----  \n",
      " 0   enrollee_id             19158 non-null  int64  \n",
      " 1   city                    19158 non-null  object \n",
      " 2   city_development_index  19158 non-null  float64\n",
      " 3   gender                  14650 non-null  object \n",
      " 4   relevent_experience     19158 non-null  object \n",
      " 5   enrolled_university     18772 non-null  object \n",
      " 6   education_level         18698 non-null  object \n",
      " 7   major_discipline        16345 non-null  object \n",
      " 8   experience              19093 non-null  object \n",
      " 9   company_size            13220 non-null  object \n",
      " 10  company_type            13018 non-null  object \n",
      " 11  last_new_job            18735 non-null  object \n",
      " 12  training_hours          19158 non-null  int64  \n",
      " 13  target                  19158 non-null  float64\n",
      " 14  new_coll                19158 non-null  int64  \n",
      " 15  new_coll2               19158 non-null  float64\n",
      "dtypes: float64(3), int64(3), object(10)\n",
      "memory usage: 2.3+ MB\n"
     ]
    }
   ],
   "source": [
    "df.info()"
   ],
   "metadata": {
    "collapsed": false,
    "pycharm": {
     "name": "#%%\n"
    }
   }
  },
  {
   "cell_type": "markdown",
   "source": [
    "## Типы переменных"
   ],
   "metadata": {
    "collapsed": false,
    "pycharm": {
     "name": "#%% md\n"
    }
   }
  },
  {
   "cell_type": "markdown",
   "source": [
    "Пример: city_development_index - **непрерывная**,\n",
    " gender - **категориальная**"
   ],
   "metadata": {
    "collapsed": false,
    "pycharm": {
     "name": "#%% md\n"
    }
   }
  },
  {
   "cell_type": "code",
   "execution_count": 35,
   "outputs": [
    {
     "data": {
      "text/plain": "   enrollee_id      city  city_development_index gender  \\\n0         8949  city_103                   0.920   Male   \n1        29725   city_40                   0.776   Male   \n2        11561   city_21                   0.624    NaN   \n3        33241  city_115                   0.789    NaN   \n4          666  city_162                   0.767   Male   \n\n       relevent_experience enrolled_university education_level  \\\n0  Has relevent experience       no_enrollment        Graduate   \n1   No relevent experience       no_enrollment        Graduate   \n2   No relevent experience    Full time course        Graduate   \n3   No relevent experience                 NaN        Graduate   \n4  Has relevent experience       no_enrollment         Masters   \n\n  major_discipline experience company_size    company_type last_new_job  \\\n0             STEM        >20          NaN             NaN            1   \n1             STEM         15        50-99         Pvt Ltd           >4   \n2             STEM          5          NaN             NaN        never   \n3  Business Degree         <1          NaN         Pvt Ltd        never   \n4             STEM        >20        50-99  Funded Startup            4   \n\n   training_hours  target  new_coll  new_coll2  \n0              36     1.0         1   0.025556  \n1              47     0.0         1   0.016511  \n2              83     0.0         1   0.007518  \n3              52     1.0         1   0.015173  \n4               8     0.0         1   0.095875  ",
      "text/html": "<div>\n<style scoped>\n    .dataframe tbody tr th:only-of-type {\n        vertical-align: middle;\n    }\n\n    .dataframe tbody tr th {\n        vertical-align: top;\n    }\n\n    .dataframe thead th {\n        text-align: right;\n    }\n</style>\n<table border=\"1\" class=\"dataframe\">\n  <thead>\n    <tr style=\"text-align: right;\">\n      <th></th>\n      <th>enrollee_id</th>\n      <th>city</th>\n      <th>city_development_index</th>\n      <th>gender</th>\n      <th>relevent_experience</th>\n      <th>enrolled_university</th>\n      <th>education_level</th>\n      <th>major_discipline</th>\n      <th>experience</th>\n      <th>company_size</th>\n      <th>company_type</th>\n      <th>last_new_job</th>\n      <th>training_hours</th>\n      <th>target</th>\n      <th>new_coll</th>\n      <th>new_coll2</th>\n    </tr>\n  </thead>\n  <tbody>\n    <tr>\n      <th>0</th>\n      <td>8949</td>\n      <td>city_103</td>\n      <td>0.920</td>\n      <td>Male</td>\n      <td>Has relevent experience</td>\n      <td>no_enrollment</td>\n      <td>Graduate</td>\n      <td>STEM</td>\n      <td>&gt;20</td>\n      <td>NaN</td>\n      <td>NaN</td>\n      <td>1</td>\n      <td>36</td>\n      <td>1.0</td>\n      <td>1</td>\n      <td>0.025556</td>\n    </tr>\n    <tr>\n      <th>1</th>\n      <td>29725</td>\n      <td>city_40</td>\n      <td>0.776</td>\n      <td>Male</td>\n      <td>No relevent experience</td>\n      <td>no_enrollment</td>\n      <td>Graduate</td>\n      <td>STEM</td>\n      <td>15</td>\n      <td>50-99</td>\n      <td>Pvt Ltd</td>\n      <td>&gt;4</td>\n      <td>47</td>\n      <td>0.0</td>\n      <td>1</td>\n      <td>0.016511</td>\n    </tr>\n    <tr>\n      <th>2</th>\n      <td>11561</td>\n      <td>city_21</td>\n      <td>0.624</td>\n      <td>NaN</td>\n      <td>No relevent experience</td>\n      <td>Full time course</td>\n      <td>Graduate</td>\n      <td>STEM</td>\n      <td>5</td>\n      <td>NaN</td>\n      <td>NaN</td>\n      <td>never</td>\n      <td>83</td>\n      <td>0.0</td>\n      <td>1</td>\n      <td>0.007518</td>\n    </tr>\n    <tr>\n      <th>3</th>\n      <td>33241</td>\n      <td>city_115</td>\n      <td>0.789</td>\n      <td>NaN</td>\n      <td>No relevent experience</td>\n      <td>NaN</td>\n      <td>Graduate</td>\n      <td>Business Degree</td>\n      <td>&lt;1</td>\n      <td>NaN</td>\n      <td>Pvt Ltd</td>\n      <td>never</td>\n      <td>52</td>\n      <td>1.0</td>\n      <td>1</td>\n      <td>0.015173</td>\n    </tr>\n    <tr>\n      <th>4</th>\n      <td>666</td>\n      <td>city_162</td>\n      <td>0.767</td>\n      <td>Male</td>\n      <td>Has relevent experience</td>\n      <td>no_enrollment</td>\n      <td>Masters</td>\n      <td>STEM</td>\n      <td>&gt;20</td>\n      <td>50-99</td>\n      <td>Funded Startup</td>\n      <td>4</td>\n      <td>8</td>\n      <td>0.0</td>\n      <td>1</td>\n      <td>0.095875</td>\n    </tr>\n  </tbody>\n</table>\n</div>"
     },
     "execution_count": 35,
     "metadata": {},
     "output_type": "execute_result"
    }
   ],
   "source": [
    "df.head()"
   ],
   "metadata": {
    "collapsed": false,
    "pycharm": {
     "name": "#%%\n"
    }
   }
  },
  {
   "cell_type": "markdown",
   "source": [
    "#### Для непрерывных переменных смотрим на гистограмму"
   ],
   "metadata": {
    "collapsed": false,
    "pycharm": {
     "name": "#%% md\n"
    }
   }
  },
  {
   "cell_type": "code",
   "execution_count": 99,
   "outputs": [],
   "source": [
    "# Темная тема\n",
    "import matplotlib.pyplot as plt\n",
    "\n",
    "plt.style.use('dark_background')"
   ],
   "metadata": {
    "collapsed": false,
    "pycharm": {
     "name": "#%%\n"
    }
   }
  },
  {
   "cell_type": "code",
   "execution_count": 100,
   "outputs": [
    {
     "data": {
      "text/plain": "<Figure size 832x572 with 1 Axes>",
      "image/png": "[encoded data removed]"
     },
     "metadata": {},
     "output_type": "display_data"
    }
   ],
   "source": [
    "df.city_development_index.hist();"
   ],
   "metadata": {
    "collapsed": false,
    "pycharm": {
     "name": "#%%\n"
    }
   }
  },
  {
   "cell_type": "code",
   "execution_count": 104,
   "outputs": [
    {
     "name": "stdout",
     "output_type": "stream",
     "text": [
      "['Solarize_Light2', '_classic_test_patch', '_mpl-gallery', '_mpl-gallery-nogrid', 'bmh', 'classic', 'dark_background', 'fast', 'fivethirtyeight', 'ggplot', 'grayscale', 'seaborn-v0_8', 'seaborn-v0_8-bright', 'seaborn-v0_8-colorblind', 'seaborn-v0_8-dark', 'seaborn-v0_8-dark-palette', 'seaborn-v0_8-darkgrid', 'seaborn-v0_8-deep', 'seaborn-v0_8-muted', 'seaborn-v0_8-notebook', 'seaborn-v0_8-paper', 'seaborn-v0_8-pastel', 'seaborn-v0_8-poster', 'seaborn-v0_8-talk', 'seaborn-v0_8-ticks', 'seaborn-v0_8-white', 'seaborn-v0_8-whitegrid', 'tableau-colorblind10']\n"
     ]
    }
   ],
   "source": [
    "# Все стили\n",
    "print(plt.style.available)"
   ],
   "metadata": {
    "collapsed": false,
    "pycharm": {
     "name": "#%%\n"
    }
   }
  },
  {
   "cell_type": "markdown",
   "source": [
    "Норм стили: 'classic', 'dark_background', 'ggplot', 'seaborn-v0_8-colorblind', 'seaborn-v0_8-dark', 'seaborn-v0_8-whitegrid', 'tableau-colorblind10'"
   ],
   "metadata": {
    "collapsed": false,
    "pycharm": {
     "name": "#%% md\n"
    }
   }
  },
  {
   "cell_type": "code",
   "execution_count": 102,
   "outputs": [
    {
     "data": {
      "text/plain": "<Figure size 832x572 with 1 Axes>",
      "image/png": "[encoded data removed]"
     },
     "metadata": {},
     "output_type": "display_data"
    }
   ],
   "source": [
    "plt.style.use('dark_background')\n",
    "plt.style.use('seaborn-v0_8-colorblind')\n",
    "df.city_development_index.hist();"
   ],
   "metadata": {
    "collapsed": false,
    "pycharm": {
     "name": "#%%\n"
    }
   }
  },
  {
   "cell_type": "markdown",
   "source": [
    "##### Переменные с числовым типом данных (потенциально непрерывные)"
   ],
   "metadata": {
    "collapsed": false,
    "pycharm": {
     "name": "#%% md\n"
    }
   }
  },
  {
   "cell_type": "code",
   "execution_count": 103,
   "outputs": [
    {
     "data": {
      "text/plain": "        enrollee_id  city_development_index  training_hours        target  \\\ncount  19158.000000            19158.000000    19158.000000  19158.000000   \nmean   16875.358179                0.828848       65.366896      0.249348   \nstd     9616.292592                0.123362       60.058462      0.432647   \nmin        1.000000                0.448000        1.000000      0.000000   \n25%     8554.250000                0.740000       23.000000      0.000000   \n50%    16982.500000                0.903000       47.000000      0.000000   \n75%    25169.750000                0.920000       88.000000      0.000000   \nmax    33380.000000                0.949000      336.000000      1.000000   \n\n       new_coll     new_coll2  \ncount   19158.0  19158.000000  \nmean        1.0      0.033439  \nstd         0.0      0.051378  \nmin         1.0      0.001516  \n25%         1.0      0.009246  \n50%         1.0      0.017526  \n75%         1.0      0.035625  \nmax         1.0      0.926000  ",
      "text/html": "<div>\n<style scoped>\n    .dataframe tbody tr th:only-of-type {\n        vertical-align: middle;\n    }\n\n    .dataframe tbody tr th {\n        vertical-align: top;\n    }\n\n    .dataframe thead th {\n        text-align: right;\n    }\n</style>\n<table border=\"1\" class=\"dataframe\">\n  <thead>\n    <tr style=\"text-align: right;\">\n      <th></th>\n      <th>enrollee_id</th>\n      <th>city_development_index</th>\n      <th>training_hours</th>\n      <th>target</th>\n      <th>new_coll</th>\n      <th>new_coll2</th>\n    </tr>\n  </thead>\n  <tbody>\n    <tr>\n      <th>count</th>\n      <td>19158.000000</td>\n      <td>19158.000000</td>\n      <td>19158.000000</td>\n      <td>19158.000000</td>\n      <td>19158.0</td>\n      <td>19158.000000</td>\n    </tr>\n    <tr>\n      <th>mean</th>\n      <td>16875.358179</td>\n      <td>0.828848</td>\n      <td>65.366896</td>\n      <td>0.249348</td>\n      <td>1.0</td>\n      <td>0.033439</td>\n    </tr>\n    <tr>\n      <th>std</th>\n      <td>9616.292592</td>\n      <td>0.123362</td>\n      <td>60.058462</td>\n      <td>0.432647</td>\n      <td>0.0</td>\n      <td>0.051378</td>\n    </tr>\n    <tr>\n      <th>min</th>\n      <td>1.000000</td>\n      <td>0.448000</td>\n      <td>1.000000</td>\n      <td>0.000000</td>\n      <td>1.0</td>\n      <td>0.001516</td>\n    </tr>\n    <tr>\n      <th>25%</th>\n      <td>8554.250000</td>\n      <td>0.740000</td>\n      <td>23.000000</td>\n      <td>0.000000</td>\n      <td>1.0</td>\n      <td>0.009246</td>\n    </tr>\n    <tr>\n      <th>50%</th>\n      <td>16982.500000</td>\n      <td>0.903000</td>\n      <td>47.000000</td>\n      <td>0.000000</td>\n      <td>1.0</td>\n      <td>0.017526</td>\n    </tr>\n    <tr>\n      <th>75%</th>\n      <td>25169.750000</td>\n      <td>0.920000</td>\n      <td>88.000000</td>\n      <td>0.000000</td>\n      <td>1.0</td>\n      <td>0.035625</td>\n    </tr>\n    <tr>\n      <th>max</th>\n      <td>33380.000000</td>\n      <td>0.949000</td>\n      <td>336.000000</td>\n      <td>1.000000</td>\n      <td>1.0</td>\n      <td>0.926000</td>\n    </tr>\n  </tbody>\n</table>\n</div>"
     },
     "execution_count": 103,
     "metadata": {},
     "output_type": "execute_result"
    }
   ],
   "source": [
    "df.describe()"
   ],
   "metadata": {
    "collapsed": false,
    "pycharm": {
     "name": "#%%\n"
    }
   }
  },
  {
   "cell_type": "markdown",
   "source": [
    "#### Для категориальных переменных смотрим value_counts"
   ],
   "metadata": {
    "collapsed": false,
    "pycharm": {
     "name": "#%% md\n"
    }
   }
  },
  {
   "cell_type": "markdown",
   "source": [
    "##### по умолчанию ***сводные таблицы - игнорируют пропуски (na)***"
   ],
   "metadata": {
    "collapsed": false,
    "pycharm": {
     "name": "#%% md\n"
    }
   }
  },
  {
   "cell_type": "code",
   "execution_count": 106,
   "outputs": [
    {
     "data": {
      "text/plain": "Male      13221\nNaN        4508\nFemale     1238\nOther       191\nName: gender, dtype: int64"
     },
     "execution_count": 106,
     "metadata": {},
     "output_type": "execute_result"
    }
   ],
   "source": [
    "df.gender.value_counts(dropna=False)  # Все значения + пропуски"
   ],
   "metadata": {
    "collapsed": false,
    "pycharm": {
     "name": "#%%\n"
    }
   }
  },
  {
   "cell_type": "markdown",
   "source": [
    "## Фильтрация по квантилю (процентилю)"
   ],
   "metadata": {
    "collapsed": false,
    "pycharm": {
     "name": "#%% md\n"
    }
   }
  },
  {
   "cell_type": "code",
   "execution_count": 109,
   "outputs": [
    {
     "data": {
      "text/plain": "        enrollee_id  city_development_index  training_hours        target  \\\ncount  19158.000000            19158.000000    19158.000000  19158.000000   \nmean   16875.358179                0.828848       65.366896      0.249348   \nstd     9616.292592                0.123362       60.058462      0.432647   \nmin        1.000000                0.448000        1.000000      0.000000   \n25%     8554.250000                0.740000       23.000000      0.000000   \n50%    16982.500000                0.903000       47.000000      0.000000   \n75%    25169.750000                0.920000       88.000000      0.000000   \nmax    33380.000000                0.949000      336.000000      1.000000   \n\n       new_coll     new_coll2  \ncount   19158.0  19158.000000  \nmean        1.0      0.033439  \nstd         0.0      0.051378  \nmin         1.0      0.001516  \n25%         1.0      0.009246  \n50%         1.0      0.017526  \n75%         1.0      0.035625  \nmax         1.0      0.926000  ",
      "text/html": "<div>\n<style scoped>\n    .dataframe tbody tr th:only-of-type {\n        vertical-align: middle;\n    }\n\n    .dataframe tbody tr th {\n        vertical-align: top;\n    }\n\n    .dataframe thead th {\n        text-align: right;\n    }\n</style>\n<table border=\"1\" class=\"dataframe\">\n  <thead>\n    <tr style=\"text-align: right;\">\n      <th></th>\n      <th>enrollee_id</th>\n      <th>city_development_index</th>\n      <th>training_hours</th>\n      <th>target</th>\n      <th>new_coll</th>\n      <th>new_coll2</th>\n    </tr>\n  </thead>\n  <tbody>\n    <tr>\n      <th>count</th>\n      <td>19158.000000</td>\n      <td>19158.000000</td>\n      <td>19158.000000</td>\n      <td>19158.000000</td>\n      <td>19158.0</td>\n      <td>19158.000000</td>\n    </tr>\n    <tr>\n      <th>mean</th>\n      <td>16875.358179</td>\n      <td>0.828848</td>\n      <td>65.366896</td>\n      <td>0.249348</td>\n      <td>1.0</td>\n      <td>0.033439</td>\n    </tr>\n    <tr>\n      <th>std</th>\n      <td>9616.292592</td>\n      <td>0.123362</td>\n      <td>60.058462</td>\n      <td>0.432647</td>\n      <td>0.0</td>\n      <td>0.051378</td>\n    </tr>\n    <tr>\n      <th>min</th>\n      <td>1.000000</td>\n      <td>0.448000</td>\n      <td>1.000000</td>\n      <td>0.000000</td>\n      <td>1.0</td>\n      <td>0.001516</td>\n    </tr>\n    <tr>\n      <th>25%</th>\n      <td>8554.250000</td>\n      <td>0.740000</td>\n      <td>23.000000</td>\n      <td>0.000000</td>\n      <td>1.0</td>\n      <td>0.009246</td>\n    </tr>\n    <tr>\n      <th>50%</th>\n      <td>16982.500000</td>\n      <td>0.903000</td>\n      <td>47.000000</td>\n      <td>0.000000</td>\n      <td>1.0</td>\n      <td>0.017526</td>\n    </tr>\n    <tr>\n      <th>75%</th>\n      <td>25169.750000</td>\n      <td>0.920000</td>\n      <td>88.000000</td>\n      <td>0.000000</td>\n      <td>1.0</td>\n      <td>0.035625</td>\n    </tr>\n    <tr>\n      <th>max</th>\n      <td>33380.000000</td>\n      <td>0.949000</td>\n      <td>336.000000</td>\n      <td>1.000000</td>\n      <td>1.0</td>\n      <td>0.926000</td>\n    </tr>\n  </tbody>\n</table>\n</div>"
     },
     "execution_count": 109,
     "metadata": {},
     "output_type": "execute_result"
    }
   ],
   "source": [
    "df.describe()"
   ],
   "metadata": {
    "collapsed": false,
    "pycharm": {
     "name": "#%%\n"
    }
   }
  },
  {
   "cell_type": "code",
   "execution_count": 115,
   "outputs": [],
   "source": [
    "q = df.city_development_index.quantile(0.25)"
   ],
   "metadata": {
    "collapsed": false,
    "pycharm": {
     "name": "#%%\n"
    }
   }
  },
  {
   "cell_type": "code",
   "execution_count": 116,
   "outputs": [
    {
     "data": {
      "text/plain": "0.74"
     },
     "execution_count": 116,
     "metadata": {},
     "output_type": "execute_result"
    }
   ],
   "source": [
    "q"
   ],
   "metadata": {
    "collapsed": false,
    "pycharm": {
     "name": "#%%\n"
    }
   }
  },
  {
   "cell_type": "code",
   "execution_count": 117,
   "outputs": [
    {
     "data": {
      "text/plain": "       enrollee_id      city  city_development_index gender  \\\n2            11561   city_21                   0.624    NaN   \n10           29452   city_21                   0.624    NaN   \n13            5826   city_21                   0.624   Male   \n14            8722   city_21                   0.624    NaN   \n17            5764   city_21                   0.624    NaN   \n...            ...       ...                     ...    ...   \n19144        17191   city_21                   0.624    NaN   \n19145          155   city_44                   0.725    NaN   \n19147        21319   city_21                   0.624   Male   \n19148         9212   city_21                   0.624    NaN   \n19151        11385  city_149                   0.689   Male   \n\n           relevent_experience enrolled_university education_level  \\\n2       No relevent experience    Full time course        Graduate   \n10      No relevent experience    Full time course     High School   \n13      No relevent experience                 NaN             NaN   \n14      No relevent experience    Full time course     High School   \n17     Has relevent experience       no_enrollment        Graduate   \n...                        ...                 ...             ...   \n19144   No relevent experience    Full time course        Graduate   \n19145   No relevent experience    Full time course        Graduate   \n19147   No relevent experience    Full time course        Graduate   \n19148  Has relevent experience       no_enrollment         Masters   \n19151   No relevent experience    Full time course        Graduate   \n\n      major_discipline experience company_size company_type last_new_job  \\\n2                 STEM          5          NaN          NaN        never   \n10                 NaN          2          NaN          NaN        never   \n13                 NaN          2          NaN          NaN        never   \n14                 NaN          5          NaN          NaN        never   \n17                STEM          2    5000-9999      Pvt Ltd            2   \n...                ...        ...          ...          ...          ...   \n19144             STEM          4          NaN          NaN        never   \n19145             STEM          5          NaN      Pvt Ltd        never   \n19147             STEM          1      100-500      Pvt Ltd            1   \n19148             STEM          3      100-500      Pvt Ltd            3   \n19151              NaN          2          NaN          NaN            1   \n\n       training_hours  target  new_coll  new_coll2  \n2                  83     0.0         1   0.007518  \n10                 32     1.0         1   0.019500  \n13                 24     0.0         1   0.026000  \n14                 26     0.0         1   0.024000  \n17                  7     0.0         1   0.089143  \n...               ...     ...       ...        ...  \n19144              48     1.0         1   0.013000  \n19145             190     0.0         1   0.003816  \n19147              52     1.0         1   0.012000  \n19148              40     1.0         1   0.015600  \n19151              60     0.0         1   0.011483  \n\n[4771 rows x 16 columns]",
      "text/html": "<div>\n<style scoped>\n    .dataframe tbody tr th:only-of-type {\n        vertical-align: middle;\n    }\n\n    .dataframe tbody tr th {\n        vertical-align: top;\n    }\n\n    .dataframe thead th {\n        text-align: right;\n    }\n</style>\n<table border=\"1\" class=\"dataframe\">\n  <thead>\n    <tr style=\"text-align: right;\">\n      <th></th>\n      <th>enrollee_id</th>\n      <th>city</th>\n      <th>city_development_index</th>\n      <th>gender</th>\n      <th>relevent_experience</th>\n      <th>enrolled_university</th>\n      <th>education_level</th>\n      <th>major_discipline</th>\n      <th>experience</th>\n      <th>company_size</th>\n      <th>company_type</th>\n      <th>last_new_job</th>\n      <th>training_hours</th>\n      <th>target</th>\n      <th>new_coll</th>\n      <th>new_coll2</th>\n    </tr>\n  </thead>\n  <tbody>\n    <tr>\n      <th>2</th>\n      <td>11561</td>\n      <td>city_21</td>\n      <td>0.624</td>\n      <td>NaN</td>\n      <td>No relevent experience</td>\n      <td>Full time course</td>\n      <td>Graduate</td>\n      <td>STEM</td>\n      <td>5</td>\n      <td>NaN</td>\n      <td>NaN</td>\n      <td>never</td>\n      <td>83</td>\n      <td>0.0</td>\n      <td>1</td>\n      <td>0.007518</td>\n    </tr>\n    <tr>\n      <th>10</th>\n      <td>29452</td>\n      <td>city_21</td>\n      <td>0.624</td>\n      <td>NaN</td>\n      <td>No relevent experience</td>\n      <td>Full time course</td>\n      <td>High School</td>\n      <td>NaN</td>\n      <td>2</td>\n      <td>NaN</td>\n      <td>NaN</td>\n      <td>never</td>\n      <td>32</td>\n      <td>1.0</td>\n      <td>1</td>\n      <td>0.019500</td>\n    </tr>\n    <tr>\n      <th>13</th>\n      <td>5826</td>\n      <td>city_21</td>\n      <td>0.624</td>\n      <td>Male</td>\n      <td>No relevent experience</td>\n      <td>NaN</td>\n      <td>NaN</td>\n      <td>NaN</td>\n      <td>2</td>\n      <td>NaN</td>\n      <td>NaN</td>\n      <td>never</td>\n      <td>24</td>\n      <td>0.0</td>\n      <td>1</td>\n      <td>0.026000</td>\n    </tr>\n    <tr>\n      <th>14</th>\n      <td>8722</td>\n      <td>city_21</td>\n      <td>0.624</td>\n      <td>NaN</td>\n      <td>No relevent experience</td>\n      <td>Full time course</td>\n      <td>High School</td>\n      <td>NaN</td>\n      <td>5</td>\n      <td>NaN</td>\n      <td>NaN</td>\n      <td>never</td>\n      <td>26</td>\n      <td>0.0</td>\n      <td>1</td>\n      <td>0.024000</td>\n    </tr>\n    <tr>\n      <th>17</th>\n      <td>5764</td>\n      <td>city_21</td>\n      <td>0.624</td>\n      <td>NaN</td>\n      <td>Has relevent experience</td>\n      <td>no_enrollment</td>\n      <td>Graduate</td>\n      <td>STEM</td>\n      <td>2</td>\n      <td>5000-9999</td>\n      <td>Pvt Ltd</td>\n      <td>2</td>\n      <td>7</td>\n      <td>0.0</td>\n      <td>1</td>\n      <td>0.089143</td>\n    </tr>\n    <tr>\n      <th>...</th>\n      <td>...</td>\n      <td>...</td>\n      <td>...</td>\n      <td>...</td>\n      <td>...</td>\n      <td>...</td>\n      <td>...</td>\n      <td>...</td>\n      <td>...</td>\n      <td>...</td>\n      <td>...</td>\n      <td>...</td>\n      <td>...</td>\n      <td>...</td>\n      <td>...</td>\n      <td>...</td>\n    </tr>\n    <tr>\n      <th>19144</th>\n      <td>17191</td>\n      <td>city_21</td>\n      <td>0.624</td>\n      <td>NaN</td>\n      <td>No relevent experience</td>\n      <td>Full time course</td>\n      <td>Graduate</td>\n      <td>STEM</td>\n      <td>4</td>\n      <td>NaN</td>\n      <td>NaN</td>\n      <td>never</td>\n      <td>48</td>\n      <td>1.0</td>\n      <td>1</td>\n      <td>0.013000</td>\n    </tr>\n    <tr>\n      <th>19145</th>\n      <td>155</td>\n      <td>city_44</td>\n      <td>0.725</td>\n      <td>NaN</td>\n      <td>No relevent experience</td>\n      <td>Full time course</td>\n      <td>Graduate</td>\n      <td>STEM</td>\n      <td>5</td>\n      <td>NaN</td>\n      <td>Pvt Ltd</td>\n      <td>never</td>\n      <td>190</td>\n      <td>0.0</td>\n      <td>1</td>\n      <td>0.003816</td>\n    </tr>\n    <tr>\n      <th>19147</th>\n      <td>21319</td>\n      <td>city_21</td>\n      <td>0.624</td>\n      <td>Male</td>\n      <td>No relevent experience</td>\n      <td>Full time course</td>\n      <td>Graduate</td>\n      <td>STEM</td>\n      <td>1</td>\n      <td>100-500</td>\n      <td>Pvt Ltd</td>\n      <td>1</td>\n      <td>52</td>\n      <td>1.0</td>\n      <td>1</td>\n      <td>0.012000</td>\n    </tr>\n    <tr>\n      <th>19148</th>\n      <td>9212</td>\n      <td>city_21</td>\n      <td>0.624</td>\n      <td>NaN</td>\n      <td>Has relevent experience</td>\n      <td>no_enrollment</td>\n      <td>Masters</td>\n      <td>STEM</td>\n      <td>3</td>\n      <td>100-500</td>\n      <td>Pvt Ltd</td>\n      <td>3</td>\n      <td>40</td>\n      <td>1.0</td>\n      <td>1</td>\n      <td>0.015600</td>\n    </tr>\n    <tr>\n      <th>19151</th>\n      <td>11385</td>\n      <td>city_149</td>\n      <td>0.689</td>\n      <td>Male</td>\n      <td>No relevent experience</td>\n      <td>Full time course</td>\n      <td>Graduate</td>\n      <td>NaN</td>\n      <td>2</td>\n      <td>NaN</td>\n      <td>NaN</td>\n      <td>1</td>\n      <td>60</td>\n      <td>0.0</td>\n      <td>1</td>\n      <td>0.011483</td>\n    </tr>\n  </tbody>\n</table>\n<p>4771 rows × 16 columns</p>\n</div>"
     },
     "execution_count": 117,
     "metadata": {},
     "output_type": "execute_result"
    }
   ],
   "source": [
    "df[df['city_development_index'] < q]"
   ],
   "metadata": {
    "collapsed": false,
    "pycharm": {
     "name": "#%%\n"
    }
   }
  },
  {
   "cell_type": "markdown",
   "source": [
    "проверка 25 процентиля"
   ],
   "metadata": {
    "collapsed": false,
    "pycharm": {
     "name": "#%% md\n"
    }
   }
  },
  {
   "cell_type": "code",
   "execution_count": 127,
   "outputs": [
    {
     "data": {
      "text/plain": "0.24903434596513205"
     },
     "execution_count": 127,
     "metadata": {},
     "output_type": "execute_result"
    }
   ],
   "source": [
    "len(df[df['city_development_index']< q]) / len(df)"
   ],
   "metadata": {
    "collapsed": false,
    "pycharm": {
     "name": "#%%\n"
    }
   }
  },
  {
   "cell_type": "code",
   "execution_count": 135,
   "outputs": [
    {
     "data": {
      "text/plain": "<Figure size 832x572 with 1 Axes>",
      "image/png": "[encoded data removed]"
     },
     "metadata": {},
     "output_type": "display_data"
    }
   ],
   "source": [
    "df.city_development_index.hist(); # Гистограмма"
   ],
   "metadata": {
    "collapsed": false,
    "pycharm": {
     "name": "#%%\n"
    }
   }
  },
  {
   "cell_type": "markdown",
   "source": [
    "##### Уберём 5% процентов САМЫХ МАЛЫХ значений"
   ],
   "metadata": {
    "collapsed": false,
    "pycharm": {
     "name": "#%% md\n"
    }
   }
  },
  {
   "cell_type": "code",
   "execution_count": 149,
   "outputs": [],
   "source": [
    "q = df['city_development_index'].quantile(0.05)"
   ],
   "metadata": {
    "collapsed": false,
    "pycharm": {
     "name": "#%%\n"
    }
   }
  },
  {
   "cell_type": "code",
   "execution_count": 151,
   "outputs": [
    {
     "data": {
      "text/plain": "<Figure size 832x572 with 1 Axes>",
      "image/png": "[encoded data removed]"
     },
     "metadata": {},
     "output_type": "display_data"
    }
   ],
   "source": [
    "df[df['city_development_index'] >= q]['city_development_index'].hist();\n",
    "# В предыдущей ↑ гистограмме график начинался с 0.4, а теперь с 0.6"
   ],
   "metadata": {
    "collapsed": false,
    "pycharm": {
     "name": "#%%\n"
    }
   }
  },
  {
   "cell_type": "markdown",
   "source": [
    "##### Уберём по 15% процентов значений с каждой стороны"
   ],
   "metadata": {
    "collapsed": false,
    "pycharm": {
     "name": "#%% md\n"
    }
   }
  },
  {
   "cell_type": "code",
   "execution_count": 157,
   "outputs": [],
   "source": [
    "q1 = df['city_development_index'].quantile(0.15)\n",
    "q2 = df['city_development_index'].quantile(0.85)"
   ],
   "metadata": {
    "collapsed": false,
    "pycharm": {
     "name": "#%%\n"
    }
   }
  },
  {
   "cell_type": "code",
   "execution_count": 158,
   "outputs": [
    {
     "data": {
      "text/plain": "<Figure size 832x572 with 1 Axes>",
      "image/png": "[encoded data removed]"
     },
     "metadata": {},
     "output_type": "display_data"
    }
   ],
   "source": [
    "df[df['city_development_index'].between(q1, q2)]['city_development_index'].hist();"
   ],
   "metadata": {
    "collapsed": false,
    "pycharm": {
     "name": "#%%\n"
    }
   }
  },
  {
   "cell_type": "markdown",
   "source": [
    "## Сводники для категориальных переменных (сводные таблицы)"
   ],
   "metadata": {
    "collapsed": false,
    "pycharm": {
     "name": "#%% md\n"
    }
   }
  },
  {
   "cell_type": "code",
   "execution_count": 160,
   "outputs": [
    {
     "data": {
      "text/plain": "   enrollee_id      city  city_development_index gender  \\\n0         8949  city_103                   0.920   Male   \n1        29725   city_40                   0.776   Male   \n2        11561   city_21                   0.624    NaN   \n3        33241  city_115                   0.789    NaN   \n4          666  city_162                   0.767   Male   \n\n       relevent_experience enrolled_university education_level  \\\n0  Has relevent experience       no_enrollment        Graduate   \n1   No relevent experience       no_enrollment        Graduate   \n2   No relevent experience    Full time course        Graduate   \n3   No relevent experience                 NaN        Graduate   \n4  Has relevent experience       no_enrollment         Masters   \n\n  major_discipline experience company_size    company_type last_new_job  \\\n0             STEM        >20          NaN             NaN            1   \n1             STEM         15        50-99         Pvt Ltd           >4   \n2             STEM          5          NaN             NaN        never   \n3  Business Degree         <1          NaN         Pvt Ltd        never   \n4             STEM        >20        50-99  Funded Startup            4   \n\n   training_hours  target  new_coll  new_coll2  \n0              36     1.0         1   0.025556  \n1              47     0.0         1   0.016511  \n2              83     0.0         1   0.007518  \n3              52     1.0         1   0.015173  \n4               8     0.0         1   0.095875  ",
      "text/html": "<div>\n<style scoped>\n    .dataframe tbody tr th:only-of-type {\n        vertical-align: middle;\n    }\n\n    .dataframe tbody tr th {\n        vertical-align: top;\n    }\n\n    .dataframe thead th {\n        text-align: right;\n    }\n</style>\n<table border=\"1\" class=\"dataframe\">\n  <thead>\n    <tr style=\"text-align: right;\">\n      <th></th>\n      <th>enrollee_id</th>\n      <th>city</th>\n      <th>city_development_index</th>\n      <th>gender</th>\n      <th>relevent_experience</th>\n      <th>enrolled_university</th>\n      <th>education_level</th>\n      <th>major_discipline</th>\n      <th>experience</th>\n      <th>company_size</th>\n      <th>company_type</th>\n      <th>last_new_job</th>\n      <th>training_hours</th>\n      <th>target</th>\n      <th>new_coll</th>\n      <th>new_coll2</th>\n    </tr>\n  </thead>\n  <tbody>\n    <tr>\n      <th>0</th>\n      <td>8949</td>\n      <td>city_103</td>\n      <td>0.920</td>\n      <td>Male</td>\n      <td>Has relevent experience</td>\n      <td>no_enrollment</td>\n      <td>Graduate</td>\n      <td>STEM</td>\n      <td>&gt;20</td>\n      <td>NaN</td>\n      <td>NaN</td>\n      <td>1</td>\n      <td>36</td>\n      <td>1.0</td>\n      <td>1</td>\n      <td>0.025556</td>\n    </tr>\n    <tr>\n      <th>1</th>\n      <td>29725</td>\n      <td>city_40</td>\n      <td>0.776</td>\n      <td>Male</td>\n      <td>No relevent experience</td>\n      <td>no_enrollment</td>\n      <td>Graduate</td>\n      <td>STEM</td>\n      <td>15</td>\n      <td>50-99</td>\n      <td>Pvt Ltd</td>\n      <td>&gt;4</td>\n      <td>47</td>\n      <td>0.0</td>\n      <td>1</td>\n      <td>0.016511</td>\n    </tr>\n    <tr>\n      <th>2</th>\n      <td>11561</td>\n      <td>city_21</td>\n      <td>0.624</td>\n      <td>NaN</td>\n      <td>No relevent experience</td>\n      <td>Full time course</td>\n      <td>Graduate</td>\n      <td>STEM</td>\n      <td>5</td>\n      <td>NaN</td>\n      <td>NaN</td>\n      <td>never</td>\n      <td>83</td>\n      <td>0.0</td>\n      <td>1</td>\n      <td>0.007518</td>\n    </tr>\n    <tr>\n      <th>3</th>\n      <td>33241</td>\n      <td>city_115</td>\n      <td>0.789</td>\n      <td>NaN</td>\n      <td>No relevent experience</td>\n      <td>NaN</td>\n      <td>Graduate</td>\n      <td>Business Degree</td>\n      <td>&lt;1</td>\n      <td>NaN</td>\n      <td>Pvt Ltd</td>\n      <td>never</td>\n      <td>52</td>\n      <td>1.0</td>\n      <td>1</td>\n      <td>0.015173</td>\n    </tr>\n    <tr>\n      <th>4</th>\n      <td>666</td>\n      <td>city_162</td>\n      <td>0.767</td>\n      <td>Male</td>\n      <td>Has relevent experience</td>\n      <td>no_enrollment</td>\n      <td>Masters</td>\n      <td>STEM</td>\n      <td>&gt;20</td>\n      <td>50-99</td>\n      <td>Funded Startup</td>\n      <td>4</td>\n      <td>8</td>\n      <td>0.0</td>\n      <td>1</td>\n      <td>0.095875</td>\n    </tr>\n  </tbody>\n</table>\n</div>"
     },
     "execution_count": 160,
     "metadata": {},
     "output_type": "execute_result"
    }
   ],
   "source": [
    "df.head()"
   ],
   "metadata": {
    "collapsed": false,
    "pycharm": {
     "name": "#%%\n"
    }
   }
  },
  {
   "cell_type": "markdown",
   "source": [
    "##### Процент тех, кто хочет сменить работу"
   ],
   "metadata": {
    "collapsed": false,
    "pycharm": {
     "name": "#%% md\n"
    }
   }
  },
  {
   "cell_type": "code",
   "execution_count": 161,
   "outputs": [
    {
     "data": {
      "text/plain": "0.24934753105752167"
     },
     "execution_count": 161,
     "metadata": {},
     "output_type": "execute_result"
    }
   ],
   "source": [
    "df.target.mean()"
   ],
   "metadata": {
    "collapsed": false,
    "pycharm": {
     "name": "#%%\n"
    }
   }
  },
  {
   "cell_type": "markdown",
   "source": [
    "#### Фильтрация по гендеру"
   ],
   "metadata": {
    "collapsed": false,
    "pycharm": {
     "name": "#%% md\n"
    }
   }
  },
  {
   "cell_type": "code",
   "execution_count": 166,
   "outputs": [
    {
     "data": {
      "text/plain": "            mean  count\ngender                 \nFemale  0.263328   1238\nMale    0.227819  13221\nOther   0.261780    191",
      "text/html": "<div>\n<style scoped>\n    .dataframe tbody tr th:only-of-type {\n        vertical-align: middle;\n    }\n\n    .dataframe tbody tr th {\n        vertical-align: top;\n    }\n\n    .dataframe thead th {\n        text-align: right;\n    }\n</style>\n<table border=\"1\" class=\"dataframe\">\n  <thead>\n    <tr style=\"text-align: right;\">\n      <th></th>\n      <th>mean</th>\n      <th>count</th>\n    </tr>\n    <tr>\n      <th>gender</th>\n      <th></th>\n      <th></th>\n    </tr>\n  </thead>\n  <tbody>\n    <tr>\n      <th>Female</th>\n      <td>0.263328</td>\n      <td>1238</td>\n    </tr>\n    <tr>\n      <th>Male</th>\n      <td>0.227819</td>\n      <td>13221</td>\n    </tr>\n    <tr>\n      <th>Other</th>\n      <td>0.261780</td>\n      <td>191</td>\n    </tr>\n  </tbody>\n</table>\n</div>"
     },
     "execution_count": 166,
     "metadata": {},
     "output_type": "execute_result"
    }
   ],
   "source": [
    "df.groupby('gender').target.agg({'count', 'mean'})"
   ],
   "metadata": {
    "collapsed": false,
    "pycharm": {
     "name": "#%%\n"
    }
   }
  },
  {
   "cell_type": "code",
   "execution_count": 169,
   "outputs": [],
   "source": [
    "t = df.groupby('gender')['target'].agg({'count', 'mean'})"
   ],
   "metadata": {
    "collapsed": false,
    "pycharm": {
     "name": "#%%\n"
    }
   }
  },
  {
   "cell_type": "markdown",
   "source": [
    "##### После функции агрегации не должно быть никаких потерь!!!"
   ],
   "metadata": {
    "collapsed": false,
    "pycharm": {
     "name": "#%% md\n"
    }
   }
  },
  {
   "cell_type": "code",
   "execution_count": 173,
   "outputs": [
    {
     "data": {
      "text/plain": "            mean  count\ngender                 \nFemale  0.263328   1238\nMale    0.227819  13221\nOther   0.261780    191",
      "text/html": "<div>\n<style scoped>\n    .dataframe tbody tr th:only-of-type {\n        vertical-align: middle;\n    }\n\n    .dataframe tbody tr th {\n        vertical-align: top;\n    }\n\n    .dataframe thead th {\n        text-align: right;\n    }\n</style>\n<table border=\"1\" class=\"dataframe\">\n  <thead>\n    <tr style=\"text-align: right;\">\n      <th></th>\n      <th>mean</th>\n      <th>count</th>\n    </tr>\n    <tr>\n      <th>gender</th>\n      <th></th>\n      <th></th>\n    </tr>\n  </thead>\n  <tbody>\n    <tr>\n      <th>Female</th>\n      <td>0.263328</td>\n      <td>1238</td>\n    </tr>\n    <tr>\n      <th>Male</th>\n      <td>0.227819</td>\n      <td>13221</td>\n    </tr>\n    <tr>\n      <th>Other</th>\n      <td>0.261780</td>\n      <td>191</td>\n    </tr>\n  </tbody>\n</table>\n</div>"
     },
     "execution_count": 173,
     "metadata": {},
     "output_type": "execute_result"
    }
   ],
   "source": [
    "t"
   ],
   "metadata": {
    "collapsed": false,
    "pycharm": {
     "name": "#%%\n"
    }
   }
  },
  {
   "cell_type": "markdown",
   "source": [
    "##### Количество людей отличается, так как есть пропуски в t!!!"
   ],
   "metadata": {
    "collapsed": false,
    "pycharm": {
     "name": "#%% md\n"
    }
   }
  },
  {
   "cell_type": "code",
   "execution_count": 181,
   "outputs": [
    {
     "data": {
      "text/plain": "19158"
     },
     "execution_count": 181,
     "metadata": {},
     "output_type": "execute_result"
    }
   ],
   "source": [
    "len(df)"
   ],
   "metadata": {
    "collapsed": false,
    "pycharm": {
     "name": "#%%\n"
    }
   }
  },
  {
   "cell_type": "code",
   "execution_count": 182,
   "outputs": [
    {
     "data": {
      "text/plain": "14650"
     },
     "execution_count": 182,
     "metadata": {},
     "output_type": "execute_result"
    }
   ],
   "source": [
    "t['count'].sum()"
   ],
   "metadata": {
    "collapsed": false,
    "pycharm": {
     "name": "#%%\n"
    }
   }
  },
  {
   "cell_type": "code",
   "execution_count": 183,
   "outputs": [],
   "source": [
    "t1 = df.groupby('gender', dropna=False)['target'].agg({'count', 'mean'})"
   ],
   "metadata": {
    "collapsed": false,
    "pycharm": {
     "name": "#%%\n"
    }
   }
  },
  {
   "cell_type": "code",
   "execution_count": 184,
   "outputs": [
    {
     "data": {
      "text/plain": "            mean  count\ngender                 \nFemale  0.263328   1238\nMale    0.227819  13221\nOther   0.261780    191\nNaN     0.308119   4508",
      "text/html": "<div>\n<style scoped>\n    .dataframe tbody tr th:only-of-type {\n        vertical-align: middle;\n    }\n\n    .dataframe tbody tr th {\n        vertical-align: top;\n    }\n\n    .dataframe thead th {\n        text-align: right;\n    }\n</style>\n<table border=\"1\" class=\"dataframe\">\n  <thead>\n    <tr style=\"text-align: right;\">\n      <th></th>\n      <th>mean</th>\n      <th>count</th>\n    </tr>\n    <tr>\n      <th>gender</th>\n      <th></th>\n      <th></th>\n    </tr>\n  </thead>\n  <tbody>\n    <tr>\n      <th>Female</th>\n      <td>0.263328</td>\n      <td>1238</td>\n    </tr>\n    <tr>\n      <th>Male</th>\n      <td>0.227819</td>\n      <td>13221</td>\n    </tr>\n    <tr>\n      <th>Other</th>\n      <td>0.261780</td>\n      <td>191</td>\n    </tr>\n    <tr>\n      <th>NaN</th>\n      <td>0.308119</td>\n      <td>4508</td>\n    </tr>\n  </tbody>\n</table>\n</div>"
     },
     "execution_count": 184,
     "metadata": {},
     "output_type": "execute_result"
    }
   ],
   "source": [
    "t1"
   ],
   "metadata": {
    "collapsed": false,
    "pycharm": {
     "name": "#%%\n"
    }
   }
  },
  {
   "cell_type": "markdown",
   "source": [
    "##### В t1 - учитываются пропуски. Агрегация - ВЕРНАЯ"
   ],
   "metadata": {
    "collapsed": false,
    "pycharm": {
     "name": "#%% md\n"
    }
   }
  },
  {
   "cell_type": "code",
   "execution_count": 185,
   "outputs": [
    {
     "data": {
      "text/plain": "19158"
     },
     "execution_count": 185,
     "metadata": {},
     "output_type": "execute_result"
    }
   ],
   "source": [
    "t1['count'].sum()"
   ],
   "metadata": {
    "collapsed": false,
    "pycharm": {
     "name": "#%%\n"
    }
   }
  },
  {
   "cell_type": "code",
   "execution_count": 186,
   "outputs": [
    {
     "data": {
      "text/plain": "   enrollee_id      city  city_development_index gender  \\\n0         8949  city_103                   0.920   Male   \n1        29725   city_40                   0.776   Male   \n2        11561   city_21                   0.624    NaN   \n3        33241  city_115                   0.789    NaN   \n4          666  city_162                   0.767   Male   \n\n       relevent_experience enrolled_university education_level  \\\n0  Has relevent experience       no_enrollment        Graduate   \n1   No relevent experience       no_enrollment        Graduate   \n2   No relevent experience    Full time course        Graduate   \n3   No relevent experience                 NaN        Graduate   \n4  Has relevent experience       no_enrollment         Masters   \n\n  major_discipline experience company_size    company_type last_new_job  \\\n0             STEM        >20          NaN             NaN            1   \n1             STEM         15        50-99         Pvt Ltd           >4   \n2             STEM          5          NaN             NaN        never   \n3  Business Degree         <1          NaN         Pvt Ltd        never   \n4             STEM        >20        50-99  Funded Startup            4   \n\n   training_hours  target  new_coll  new_coll2  \n0              36     1.0         1   0.025556  \n1              47     0.0         1   0.016511  \n2              83     0.0         1   0.007518  \n3              52     1.0         1   0.015173  \n4               8     0.0         1   0.095875  ",
      "text/html": "<div>\n<style scoped>\n    .dataframe tbody tr th:only-of-type {\n        vertical-align: middle;\n    }\n\n    .dataframe tbody tr th {\n        vertical-align: top;\n    }\n\n    .dataframe thead th {\n        text-align: right;\n    }\n</style>\n<table border=\"1\" class=\"dataframe\">\n  <thead>\n    <tr style=\"text-align: right;\">\n      <th></th>\n      <th>enrollee_id</th>\n      <th>city</th>\n      <th>city_development_index</th>\n      <th>gender</th>\n      <th>relevent_experience</th>\n      <th>enrolled_university</th>\n      <th>education_level</th>\n      <th>major_discipline</th>\n      <th>experience</th>\n      <th>company_size</th>\n      <th>company_type</th>\n      <th>last_new_job</th>\n      <th>training_hours</th>\n      <th>target</th>\n      <th>new_coll</th>\n      <th>new_coll2</th>\n    </tr>\n  </thead>\n  <tbody>\n    <tr>\n      <th>0</th>\n      <td>8949</td>\n      <td>city_103</td>\n      <td>0.920</td>\n      <td>Male</td>\n      <td>Has relevent experience</td>\n      <td>no_enrollment</td>\n      <td>Graduate</td>\n      <td>STEM</td>\n      <td>&gt;20</td>\n      <td>NaN</td>\n      <td>NaN</td>\n      <td>1</td>\n      <td>36</td>\n      <td>1.0</td>\n      <td>1</td>\n      <td>0.025556</td>\n    </tr>\n    <tr>\n      <th>1</th>\n      <td>29725</td>\n      <td>city_40</td>\n      <td>0.776</td>\n      <td>Male</td>\n      <td>No relevent experience</td>\n      <td>no_enrollment</td>\n      <td>Graduate</td>\n      <td>STEM</td>\n      <td>15</td>\n      <td>50-99</td>\n      <td>Pvt Ltd</td>\n      <td>&gt;4</td>\n      <td>47</td>\n      <td>0.0</td>\n      <td>1</td>\n      <td>0.016511</td>\n    </tr>\n    <tr>\n      <th>2</th>\n      <td>11561</td>\n      <td>city_21</td>\n      <td>0.624</td>\n      <td>NaN</td>\n      <td>No relevent experience</td>\n      <td>Full time course</td>\n      <td>Graduate</td>\n      <td>STEM</td>\n      <td>5</td>\n      <td>NaN</td>\n      <td>NaN</td>\n      <td>never</td>\n      <td>83</td>\n      <td>0.0</td>\n      <td>1</td>\n      <td>0.007518</td>\n    </tr>\n    <tr>\n      <th>3</th>\n      <td>33241</td>\n      <td>city_115</td>\n      <td>0.789</td>\n      <td>NaN</td>\n      <td>No relevent experience</td>\n      <td>NaN</td>\n      <td>Graduate</td>\n      <td>Business Degree</td>\n      <td>&lt;1</td>\n      <td>NaN</td>\n      <td>Pvt Ltd</td>\n      <td>never</td>\n      <td>52</td>\n      <td>1.0</td>\n      <td>1</td>\n      <td>0.015173</td>\n    </tr>\n    <tr>\n      <th>4</th>\n      <td>666</td>\n      <td>city_162</td>\n      <td>0.767</td>\n      <td>Male</td>\n      <td>Has relevent experience</td>\n      <td>no_enrollment</td>\n      <td>Masters</td>\n      <td>STEM</td>\n      <td>&gt;20</td>\n      <td>50-99</td>\n      <td>Funded Startup</td>\n      <td>4</td>\n      <td>8</td>\n      <td>0.0</td>\n      <td>1</td>\n      <td>0.095875</td>\n    </tr>\n  </tbody>\n</table>\n</div>"
     },
     "execution_count": 186,
     "metadata": {},
     "output_type": "execute_result"
    }
   ],
   "source": [
    "df.head()"
   ],
   "metadata": {
    "collapsed": false,
    "pycharm": {
     "name": "#%%\n"
    }
   }
  },
  {
   "cell_type": "markdown",
   "source": [
    "#### Фильтрация по уровню образования"
   ],
   "metadata": {
    "collapsed": false,
    "pycharm": {
     "name": "#%% md\n"
    }
   }
  },
  {
   "cell_type": "code",
   "execution_count": 188,
   "outputs": [
    {
     "data": {
      "text/plain": "                     mean  count\neducation_level                 \nGraduate         0.279790  11598\nHigh School      0.195340   2017\nMasters          0.214400   4361\nPhd              0.140097    414\nPrimary School   0.133117    308\nNaN              0.226087    460",
      "text/html": "<div>\n<style scoped>\n    .dataframe tbody tr th:only-of-type {\n        vertical-align: middle;\n    }\n\n    .dataframe tbody tr th {\n        vertical-align: top;\n    }\n\n    .dataframe thead th {\n        text-align: right;\n    }\n</style>\n<table border=\"1\" class=\"dataframe\">\n  <thead>\n    <tr style=\"text-align: right;\">\n      <th></th>\n      <th>mean</th>\n      <th>count</th>\n    </tr>\n    <tr>\n      <th>education_level</th>\n      <th></th>\n      <th></th>\n    </tr>\n  </thead>\n  <tbody>\n    <tr>\n      <th>Graduate</th>\n      <td>0.279790</td>\n      <td>11598</td>\n    </tr>\n    <tr>\n      <th>High School</th>\n      <td>0.195340</td>\n      <td>2017</td>\n    </tr>\n    <tr>\n      <th>Masters</th>\n      <td>0.214400</td>\n      <td>4361</td>\n    </tr>\n    <tr>\n      <th>Phd</th>\n      <td>0.140097</td>\n      <td>414</td>\n    </tr>\n    <tr>\n      <th>Primary School</th>\n      <td>0.133117</td>\n      <td>308</td>\n    </tr>\n    <tr>\n      <th>NaN</th>\n      <td>0.226087</td>\n      <td>460</td>\n    </tr>\n  </tbody>\n</table>\n</div>"
     },
     "execution_count": 188,
     "metadata": {},
     "output_type": "execute_result"
    }
   ],
   "source": [
    "df.groupby('education_level', dropna=False)['target'].agg({'count', 'mean'})"
   ],
   "metadata": {
    "collapsed": false,
    "pycharm": {
     "name": "#%%\n"
    }
   }
  },
  {
   "cell_type": "markdown",
   "source": [
    "##### Столбчатая диаграмма (barchart)"
   ],
   "metadata": {
    "collapsed": false,
    "pycharm": {
     "name": "#%% md\n"
    }
   }
  },
  {
   "cell_type": "code",
   "execution_count": 194,
   "outputs": [
    {
     "data": {
      "text/plain": "<Figure size 832x572 with 1 Axes>",
      "image/png": "[encoded data removed]"
     },
     "metadata": {},
     "output_type": "display_data"
    }
   ],
   "source": [
    "df.groupby('education_level', dropna=False)['target'].mean().plot(kind='bar');"
   ],
   "metadata": {
    "collapsed": false,
    "pycharm": {
     "name": "#%%\n"
    }
   }
  },
  {
   "cell_type": "markdown",
   "source": [
    "## Сводники для непрерывных переменных"
   ],
   "metadata": {
    "collapsed": false,
    "pycharm": {
     "name": "#%% md\n"
    }
   }
  },
  {
   "cell_type": "code",
   "execution_count": null,
   "outputs": [],
   "source": [],
   "metadata": {
    "collapsed": false,
    "pycharm": {
     "name": "#%%\n"
    }
   }
  }
 ],
 "metadata": {
  "kernelspec": {
   "display_name": "Python 3",
   "language": "python",
   "name": "python3"
  },
  "language_info": {
   "codemirror_mode": {
    "name": "ipython",
    "version": 2
   },
   "file_extension": ".py",
   "mimetype": "text/x-python",
   "name": "python",
   "nbconvert_exporter": "python",
   "pygments_lexer": "ipython2",
   "version": "2.7.6"
  },
  "colab": {
   "provenance": [],
   "toc_visible": true
  }
 },
 "nbformat": 4,
 "nbformat_minor": 0
}