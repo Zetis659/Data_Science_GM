{
 "nbformat": 4,
 "nbformat_minor": 0,
 "metadata": {
  "colab": {
   "provenance": [],
   "authorship_tag": "ABX9TyMd0OGK//iz0Q2MpXn4Eooy"
  },
  "kernelspec": {
   "name": "python3",
   "display_name": "Python 3"
  },
  "language_info": {
   "name": "python"
  }
 },
 "cells": [
  {
   "cell_type": "markdown",
   "source": [
    "# Colab"
   ],
   "metadata": {
    "collapsed": false,
    "pycharm": {
     "name": "#%% md\n"
    }
   }
  },
  {
   "cell_type": "markdown",
   "source": [
    "https://drive.google.com/file/d/1P3aYu5kdMLOVxgl2K6wjzx-HtWB5J_wu/view?usp=sharing\n",
    "https://www.kaggle.com/datasets/abdelrahmankhalil/100000-uk-used-car-data-set"
   ],
   "metadata": {
    "id": "WPMd7Rj064Li"
   }
  },
  {
   "cell_type": "markdown",
   "source": [
    "#### Загрузка с гугл диска для колаб"
   ],
   "metadata": {
    "id": "UGn7ytEe77gY"
   }
  },
  {
   "cell_type": "code",
   "execution_count": 1,
   "metadata": {
    "colab": {
     "base_uri": "https://localhost:8080/"
    },
    "id": "6BBOnakx6zJu",
    "executionInfo": {
     "status": "ok",
     "timestamp": 1684229892666,
     "user_tz": -180,
     "elapsed": 5444,
     "user": {
      "displayName": "Sergey Zavodun",
      "userId": "13975373041411226899"
     }
    },
    "outputId": "03b8a8e3-f13a-4bfb-b24c-9ed370862438"
   },
   "outputs": [
    {
     "name": "stderr",
     "output_type": "stream",
     "text": [
      "\"gdown\" ­Ґ пў«пҐвбп ў­гваҐ­­Ґ© Ё«Ё ў­Ґи­Ґ©\n",
      "Є®¬ ­¤®©, ЁбЇ®«­пҐ¬®© Їа®Ја ¬¬®© Ё«Ё Ї ЄҐв­л¬ д ©«®¬.\n"
     ]
    }
   ],
   "source": [
    "! gdown --id 1P3aYu5kdMLOVxgl2K6wjzx-HtWB5J_wu"
   ]
  },
  {
   "cell_type": "markdown",
   "source": [
    "#### Разархивирование в новую папку"
   ],
   "metadata": {
    "id": "m4LomC_98CdQ"
   }
  },
  {
   "cell_type": "code",
   "source": [
    "! unzip /content/uk_used_cars.zip -d /content/uk_used_cars/"
   ],
   "metadata": {
    "colab": {
     "base_uri": "https://localhost:8080/"
    },
    "id": "FJ0ovL2N7rWk",
    "executionInfo": {
     "status": "ok",
     "timestamp": 1684230084939,
     "user_tz": -180,
     "elapsed": 376,
     "user": {
      "displayName": "Sergey Zavodun",
      "userId": "13975373041411226899"
     }
    },
    "outputId": "8b21b99e-ba6e-4477-eb11-c280763ae48b"
   },
   "execution_count": 2,
   "outputs": [
    {
     "name": "stderr",
     "output_type": "stream",
     "text": [
      "\"unzip\" ­Ґ пў«пҐвбп ў­гваҐ­­Ґ© Ё«Ё ў­Ґи­Ґ©\n",
      "Є®¬ ­¤®©, ЁбЇ®«­пҐ¬®© Їа®Ја ¬¬®© Ё«Ё Ї ЄҐв­л¬ д ©«®¬.\n"
     ]
    }
   ]
  },
  {
   "cell_type": "code",
   "source": [
    "import pandas as pd"
   ],
   "metadata": {
    "id": "oH2FJT6G75Zi",
    "executionInfo": {
     "status": "ok",
     "timestamp": 1684230254425,
     "user_tz": -180,
     "elapsed": 739,
     "user": {
      "displayName": "Sergey Zavodun",
      "userId": "13975373041411226899"
     }
    }
   },
   "execution_count": 11,
   "outputs": []
  },
  {
   "cell_type": "code",
   "execution_count": null,
   "outputs": [],
   "source": [
    "df = pd.read_csv('/content/uk_used_cars/bmw.csv')"
   ],
   "metadata": {
    "collapsed": false,
    "pycharm": {
     "name": "#%%\n"
    }
   }
  },
  {
   "cell_type": "code",
   "source": [
    "df.head()"
   ],
   "metadata": {
    "colab": {
     "base_uri": "https://localhost:8080/",
     "height": 206
    },
    "id": "iP_Oy0co80vg",
    "executionInfo": {
     "status": "ok",
     "timestamp": 1684230334093,
     "user_tz": -180,
     "elapsed": 4,
     "user": {
      "displayName": "Sergey Zavodun",
      "userId": "13975373041411226899"
     }
    },
    "outputId": "a56cc288-4f99-4afc-b77b-af1c18baaf0e"
   },
   "execution_count": 5,
   "outputs": [
    {
     "ename": "NameError",
     "evalue": "name 'df' is not defined",
     "output_type": "error",
     "traceback": [
      "\u001B[1;31m---------------------------------------------------------------------------\u001B[0m",
      "\u001B[1;31mNameError\u001B[0m                                 Traceback (most recent call last)",
      "Cell \u001B[1;32mIn [5], line 1\u001B[0m\n\u001B[1;32m----> 1\u001B[0m \u001B[43mdf\u001B[49m\u001B[38;5;241m.\u001B[39mhead()\n",
      "\u001B[1;31mNameError\u001B[0m: name 'df' is not defined"
     ]
    }
   ]
  },
  {
   "cell_type": "markdown",
   "source": [
    "# Pycharm"
   ],
   "metadata": {
    "collapsed": false
   }
  },
  {
   "cell_type": "code",
   "execution_count": 9,
   "outputs": [],
   "source": [
    "from zipfile import ZipFile\n",
    "with ZipFile('uk_used_cars.zip', 'r') as zf:\n",
    "    zf.extractall()"
   ],
   "metadata": {
    "collapsed": false,
    "pycharm": {
     "name": "#%%\n"
    }
   }
  },
  {
   "cell_type": "code",
   "execution_count": 13,
   "outputs": [],
   "source": [
    "import pandas as pd"
   ],
   "metadata": {
    "collapsed": false,
    "pycharm": {
     "name": "#%%\n"
    }
   }
  },
  {
   "cell_type": "code",
   "execution_count": 14,
   "outputs": [],
   "source": [
    "df = pd.read_csv('bmw.csv')"
   ],
   "metadata": {
    "collapsed": false,
    "pycharm": {
     "name": "#%%\n"
    }
   }
  },
  {
   "cell_type": "markdown",
   "source": [
    "#### Суть human learning в данном датасете:\n",
    "##### Создание алгоритма для определения цены по параметрам автомобиля (модель, год, пробег и т.д.)"
   ],
   "metadata": {
    "id": "MQiGMAl688UA",
    "pycharm": {
     "name": "#%% md\n"
    }
   }
  },
  {
   "cell_type": "code",
   "execution_count": 15,
   "outputs": [
    {
     "data": {
      "text/plain": "       model  year  price transmission  mileage fuelType  tax   mpg  \\\n0   5 Series  2014  11200    Automatic    67068   Diesel  125  57.6   \n1   6 Series  2018  27000    Automatic    14827   Petrol  145  42.8   \n2   5 Series  2016  16000    Automatic    62794   Diesel  160  51.4   \n3   1 Series  2017  12750    Automatic    26676   Diesel  145  72.4   \n4   7 Series  2014  14500    Automatic    39554   Diesel  160  50.4   \n\n   engineSize  \n0         2.0  \n1         2.0  \n2         3.0  \n3         1.5  \n4         3.0  ",
      "text/html": "<div>\n<style scoped>\n    .dataframe tbody tr th:only-of-type {\n        vertical-align: middle;\n    }\n\n    .dataframe tbody tr th {\n        vertical-align: top;\n    }\n\n    .dataframe thead th {\n        text-align: right;\n    }\n</style>\n<table border=\"1\" class=\"dataframe\">\n  <thead>\n    <tr style=\"text-align: right;\">\n      <th></th>\n      <th>model</th>\n      <th>year</th>\n      <th>price</th>\n      <th>transmission</th>\n      <th>mileage</th>\n      <th>fuelType</th>\n      <th>tax</th>\n      <th>mpg</th>\n      <th>engineSize</th>\n    </tr>\n  </thead>\n  <tbody>\n    <tr>\n      <th>0</th>\n      <td>5 Series</td>\n      <td>2014</td>\n      <td>11200</td>\n      <td>Automatic</td>\n      <td>67068</td>\n      <td>Diesel</td>\n      <td>125</td>\n      <td>57.6</td>\n      <td>2.0</td>\n    </tr>\n    <tr>\n      <th>1</th>\n      <td>6 Series</td>\n      <td>2018</td>\n      <td>27000</td>\n      <td>Automatic</td>\n      <td>14827</td>\n      <td>Petrol</td>\n      <td>145</td>\n      <td>42.8</td>\n      <td>2.0</td>\n    </tr>\n    <tr>\n      <th>2</th>\n      <td>5 Series</td>\n      <td>2016</td>\n      <td>16000</td>\n      <td>Automatic</td>\n      <td>62794</td>\n      <td>Diesel</td>\n      <td>160</td>\n      <td>51.4</td>\n      <td>3.0</td>\n    </tr>\n    <tr>\n      <th>3</th>\n      <td>1 Series</td>\n      <td>2017</td>\n      <td>12750</td>\n      <td>Automatic</td>\n      <td>26676</td>\n      <td>Diesel</td>\n      <td>145</td>\n      <td>72.4</td>\n      <td>1.5</td>\n    </tr>\n    <tr>\n      <th>4</th>\n      <td>7 Series</td>\n      <td>2014</td>\n      <td>14500</td>\n      <td>Automatic</td>\n      <td>39554</td>\n      <td>Diesel</td>\n      <td>160</td>\n      <td>50.4</td>\n      <td>3.0</td>\n    </tr>\n  </tbody>\n</table>\n</div>"
     },
     "execution_count": 15,
     "metadata": {},
     "output_type": "execute_result"
    }
   ],
   "source": [
    "df.head()"
   ],
   "metadata": {
    "collapsed": false,
    "pycharm": {
     "name": "#%%\n"
    }
   }
  },
  {
   "cell_type": "code",
   "execution_count": 16,
   "outputs": [
    {
     "data": {
      "text/plain": "(10781, 9)"
     },
     "execution_count": 16,
     "metadata": {},
     "output_type": "execute_result"
    }
   ],
   "source": [
    "df.shape"
   ],
   "metadata": {
    "collapsed": false,
    "pycharm": {
     "name": "#%%\n"
    }
   }
  },
  {
   "cell_type": "markdown",
   "source": [
    "## Обучающая и тестовая выборка (train and test)"
   ],
   "metadata": {
    "collapsed": false,
    "pycharm": {
     "name": "#%% md\n"
    }
   }
  },
  {
   "cell_type": "code",
   "execution_count": 17,
   "outputs": [],
   "source": [
    "from sklearn.model_selection import train_test_split"
   ],
   "metadata": {
    "collapsed": false,
    "pycharm": {
     "name": "#%%\n"
    }
   }
  },
  {
   "cell_type": "code",
   "execution_count": 23,
   "outputs": [],
   "source": [
    "# train, test = train_test_split(df, train_size=0.7)"
   ],
   "metadata": {
    "collapsed": false,
    "pycharm": {
     "name": "#%%\n"
    }
   }
  },
  {
   "cell_type": "markdown",
   "source": [
    "##### Случайное разбиение на подвыборки по дефолту\n",
    "##### random_state - фиксация рандома с помощью числа"
   ],
   "metadata": {
    "collapsed": false,
    "pycharm": {
     "name": "#%% md\n"
    }
   }
  },
  {
   "cell_type": "code",
   "execution_count": 32,
   "outputs": [],
   "source": [
    "train, test = train_test_split(df, random_state=42)  # default train_size = 0.75"
   ],
   "metadata": {
    "collapsed": false,
    "pycharm": {
     "name": "#%%\n"
    }
   }
  },
  {
   "cell_type": "code",
   "execution_count": 33,
   "outputs": [
    {
     "data": {
      "text/plain": "(8085, 2696, 10781, 10781)"
     },
     "execution_count": 33,
     "metadata": {},
     "output_type": "execute_result"
    }
   ],
   "source": [
    "len(train), len(test), len(test+train), len(df)"
   ],
   "metadata": {
    "collapsed": false,
    "pycharm": {
     "name": "#%%\n"
    }
   }
  },
  {
   "cell_type": "code",
   "execution_count": 34,
   "outputs": [
    {
     "data": {
      "text/plain": "0.2500695668305352"
     },
     "execution_count": 34,
     "metadata": {},
     "output_type": "execute_result"
    }
   ],
   "source": [
    "len(test) / len(df)"
   ],
   "metadata": {
    "collapsed": false,
    "pycharm": {
     "name": "#%%\n"
    }
   }
  },
  {
   "cell_type": "code",
   "execution_count": null,
   "outputs": [],
   "source": [],
   "metadata": {
    "collapsed": false,
    "pycharm": {
     "name": "#%%\n"
    }
   }
  }
 ]
}