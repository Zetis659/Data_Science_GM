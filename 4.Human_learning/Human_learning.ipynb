{
 "cells": [
  {
   "cell_type": "markdown",
   "source": [
    "# Human learning"
   ],
   "metadata": {
    "collapsed": false
   }
  },
  {
   "cell_type": "markdown",
   "metadata": {
    "pycharm": {
     "name": "#%% md\n"
    }
   },
   "source": [
    "# Colab"
   ]
  },
  {
   "cell_type": "markdown",
   "metadata": {
    "id": "WPMd7Rj064Li"
   },
   "source": [
    "https://drive.google.com/file/d/1P3aYu5kdMLOVxgl2K6wjzx-HtWB5J_wu/view?usp=sharing\n",
    "https://www.kaggle.com/datasets/abdelrahmankhalil/100000-uk-used-car-data-set"
   ]
  },
  {
   "cell_type": "markdown",
   "metadata": {
    "id": "UGn7ytEe77gY"
   },
   "source": [
    "#### Загрузка с гугл диска для колаб"
   ]
  },
  {
   "cell_type": "code",
   "execution_count": 1,
   "metadata": {
    "colab": {
     "base_uri": "https://localhost:8080/"
    },
    "executionInfo": {
     "elapsed": 5444,
     "status": "ok",
     "timestamp": 1684229892666,
     "user": {
      "displayName": "Sergey Zavodun",
      "userId": "13975373041411226899"
     },
     "user_tz": -180
    },
    "id": "6BBOnakx6zJu",
    "outputId": "03b8a8e3-f13a-4bfb-b24c-9ed370862438"
   },
   "outputs": [
    {
     "name": "stderr",
     "output_type": "stream",
     "text": [
      "\"gdown\" ­Ґ пў«пҐвбп ў­гваҐ­­Ґ© Ё«Ё ў­Ґи­Ґ©\n",
      "Є®¬ ­¤®©, ЁбЇ®«­пҐ¬®© Їа®Ја ¬¬®© Ё«Ё Ї ЄҐв­л¬ д ©«®¬.\n"
     ]
    }
   ],
   "source": [
    "! gdown --id 1P3aYu5kdMLOVxgl2K6wjzx-HtWB5J_wu"
   ]
  },
  {
   "cell_type": "markdown",
   "metadata": {
    "id": "m4LomC_98CdQ"
   },
   "source": [
    "#### Разархивирование в новую папку"
   ]
  },
  {
   "cell_type": "code",
   "execution_count": 2,
   "metadata": {
    "colab": {
     "base_uri": "https://localhost:8080/"
    },
    "executionInfo": {
     "elapsed": 376,
     "status": "ok",
     "timestamp": 1684230084939,
     "user": {
      "displayName": "Sergey Zavodun",
      "userId": "13975373041411226899"
     },
     "user_tz": -180
    },
    "id": "FJ0ovL2N7rWk",
    "outputId": "8b21b99e-ba6e-4477-eb11-c280763ae48b"
   },
   "outputs": [
    {
     "name": "stderr",
     "output_type": "stream",
     "text": [
      "\"unzip\" ­Ґ пў«пҐвбп ў­гваҐ­­Ґ© Ё«Ё ў­Ґи­Ґ©\n",
      "Є®¬ ­¤®©, ЁбЇ®«­пҐ¬®© Їа®Ја ¬¬®© Ё«Ё Ї ЄҐв­л¬ д ©«®¬.\n"
     ]
    }
   ],
   "source": [
    "! unzip / content / uk_used_cars.zip -d / content / uk_used_cars /"
   ]
  },
  {
   "cell_type": "code",
   "execution_count": 11,
   "metadata": {
    "executionInfo": {
     "elapsed": 739,
     "status": "ok",
     "timestamp": 1684230254425,
     "user": {
      "displayName": "Sergey Zavodun",
      "userId": "13975373041411226899"
     },
     "user_tz": -180
    },
    "id": "oH2FJT6G75Zi"
   },
   "outputs": [],
   "source": [
    "import pandas as pd"
   ]
  },
  {
   "cell_type": "code",
   "execution_count": null,
   "metadata": {
    "pycharm": {
     "name": "#%%\n"
    }
   },
   "outputs": [],
   "source": [
    "df = pd.read_csv('/content/uk_used_cars/bmw.csv')"
   ]
  },
  {
   "cell_type": "code",
   "execution_count": 5,
   "metadata": {
    "colab": {
     "base_uri": "https://localhost:8080/",
     "height": 206
    },
    "executionInfo": {
     "elapsed": 4,
     "status": "ok",
     "timestamp": 1684230334093,
     "user": {
      "displayName": "Sergey Zavodun",
      "userId": "13975373041411226899"
     },
     "user_tz": -180
    },
    "id": "iP_Oy0co80vg",
    "outputId": "a56cc288-4f99-4afc-b77b-af1c18baaf0e"
   },
   "outputs": [
    {
     "ename": "NameError",
     "evalue": "name 'df' is not defined",
     "output_type": "error",
     "traceback": [
      "\u001B[1;31m---------------------------------------------------------------------------\u001B[0m",
      "\u001B[1;31mNameError\u001B[0m                                 Traceback (most recent call last)",
      "Cell \u001B[1;32mIn [5], line 1\u001B[0m\n\u001B[1;32m----> 1\u001B[0m \u001B[43mdf\u001B[49m\u001B[38;5;241m.\u001B[39mhead()\n",
      "\u001B[1;31mNameError\u001B[0m: name 'df' is not defined"
     ]
    }
   ],
   "source": [
    "df.head()"
   ]
  },
  {
   "cell_type": "markdown",
   "metadata": {},
   "source": [
    "# Pycharm"
   ]
  },
  {
   "cell_type": "code",
   "execution_count": 1,
   "metadata": {
    "pycharm": {
     "name": "#%%\n"
    }
   },
   "outputs": [],
   "source": [
    "from zipfile import ZipFile\n",
    "\n",
    "with ZipFile('uk_used_cars.zip', 'r') as zf:\n",
    "    zf.extractall()"
   ]
  },
  {
   "cell_type": "code",
   "execution_count": 1,
   "metadata": {
    "pycharm": {
     "name": "#%%\n"
    }
   },
   "outputs": [],
   "source": [
    "import pandas as pd"
   ]
  },
  {
   "cell_type": "code",
   "execution_count": 2,
   "metadata": {
    "pycharm": {
     "name": "#%%\n"
    }
   },
   "outputs": [],
   "source": [
    "df = pd.read_csv('bmw.csv')"
   ]
  },
  {
   "cell_type": "markdown",
   "metadata": {
    "id": "MQiGMAl688UA",
    "pycharm": {
     "name": "#%% md\n"
    }
   },
   "source": [
    "#### Суть human learning в данном датасете:\n",
    "##### Создание алгоритма для определения цены по параметрам автомобиля (модель, год, пробег и т.д.)"
   ]
  },
  {
   "cell_type": "code",
   "execution_count": 3,
   "metadata": {
    "pycharm": {
     "name": "#%%\n"
    }
   },
   "outputs": [
    {
     "data": {
      "text/plain": "       model  year  price transmission  mileage fuelType  tax   mpg  \\\n0   5 Series  2014  11200    Automatic    67068   Diesel  125  57.6   \n1   6 Series  2018  27000    Automatic    14827   Petrol  145  42.8   \n2   5 Series  2016  16000    Automatic    62794   Diesel  160  51.4   \n3   1 Series  2017  12750    Automatic    26676   Diesel  145  72.4   \n4   7 Series  2014  14500    Automatic    39554   Diesel  160  50.4   \n\n   engineSize  \n0         2.0  \n1         2.0  \n2         3.0  \n3         1.5  \n4         3.0  ",
      "text/html": "<div>\n<style scoped>\n    .dataframe tbody tr th:only-of-type {\n        vertical-align: middle;\n    }\n\n    .dataframe tbody tr th {\n        vertical-align: top;\n    }\n\n    .dataframe thead th {\n        text-align: right;\n    }\n</style>\n<table border=\"1\" class=\"dataframe\">\n  <thead>\n    <tr style=\"text-align: right;\">\n      <th></th>\n      <th>model</th>\n      <th>year</th>\n      <th>price</th>\n      <th>transmission</th>\n      <th>mileage</th>\n      <th>fuelType</th>\n      <th>tax</th>\n      <th>mpg</th>\n      <th>engineSize</th>\n    </tr>\n  </thead>\n  <tbody>\n    <tr>\n      <th>0</th>\n      <td>5 Series</td>\n      <td>2014</td>\n      <td>11200</td>\n      <td>Automatic</td>\n      <td>67068</td>\n      <td>Diesel</td>\n      <td>125</td>\n      <td>57.6</td>\n      <td>2.0</td>\n    </tr>\n    <tr>\n      <th>1</th>\n      <td>6 Series</td>\n      <td>2018</td>\n      <td>27000</td>\n      <td>Automatic</td>\n      <td>14827</td>\n      <td>Petrol</td>\n      <td>145</td>\n      <td>42.8</td>\n      <td>2.0</td>\n    </tr>\n    <tr>\n      <th>2</th>\n      <td>5 Series</td>\n      <td>2016</td>\n      <td>16000</td>\n      <td>Automatic</td>\n      <td>62794</td>\n      <td>Diesel</td>\n      <td>160</td>\n      <td>51.4</td>\n      <td>3.0</td>\n    </tr>\n    <tr>\n      <th>3</th>\n      <td>1 Series</td>\n      <td>2017</td>\n      <td>12750</td>\n      <td>Automatic</td>\n      <td>26676</td>\n      <td>Diesel</td>\n      <td>145</td>\n      <td>72.4</td>\n      <td>1.5</td>\n    </tr>\n    <tr>\n      <th>4</th>\n      <td>7 Series</td>\n      <td>2014</td>\n      <td>14500</td>\n      <td>Automatic</td>\n      <td>39554</td>\n      <td>Diesel</td>\n      <td>160</td>\n      <td>50.4</td>\n      <td>3.0</td>\n    </tr>\n  </tbody>\n</table>\n</div>"
     },
     "execution_count": 3,
     "metadata": {},
     "output_type": "execute_result"
    }
   ],
   "source": [
    "df.head()"
   ]
  },
  {
   "cell_type": "code",
   "execution_count": 4,
   "metadata": {
    "pycharm": {
     "name": "#%%\n"
    }
   },
   "outputs": [
    {
     "data": {
      "text/plain": "(10781, 9)"
     },
     "execution_count": 4,
     "metadata": {},
     "output_type": "execute_result"
    }
   ],
   "source": [
    "df.shape"
   ]
  },
  {
   "cell_type": "markdown",
   "metadata": {
    "pycharm": {
     "name": "#%% md\n"
    }
   },
   "source": [
    "## Обучающая и тестовая выборка (train and test)"
   ]
  },
  {
   "cell_type": "code",
   "execution_count": 5,
   "metadata": {
    "pycharm": {
     "name": "#%%\n"
    }
   },
   "outputs": [],
   "source": [
    "from sklearn.model_selection import train_test_split"
   ]
  },
  {
   "cell_type": "code",
   "execution_count": 6,
   "metadata": {
    "pycharm": {
     "name": "#%%\n"
    }
   },
   "outputs": [],
   "source": [
    "# train, test = train_test_split(df, train_size=0.7)"
   ]
  },
  {
   "cell_type": "markdown",
   "metadata": {
    "pycharm": {
     "name": "#%% md\n"
    }
   },
   "source": [
    "##### Случайное разбиение на подвыборки по дефолту\n",
    "##### random_state - фиксация рандома с помощью числа"
   ]
  },
  {
   "cell_type": "code",
   "execution_count": 7,
   "metadata": {
    "pycharm": {
     "name": "#%%\n"
    }
   },
   "outputs": [],
   "source": [
    "train, test = train_test_split(df, random_state=42)  # default train_size = 0.75"
   ]
  },
  {
   "cell_type": "code",
   "execution_count": 8,
   "metadata": {
    "pycharm": {
     "name": "#%%\n"
    }
   },
   "outputs": [
    {
     "data": {
      "text/plain": "(8085, 2696, 10781, 10781)"
     },
     "execution_count": 8,
     "metadata": {},
     "output_type": "execute_result"
    }
   ],
   "source": [
    "len(train), len(test), len(test + train), len(df)"
   ]
  },
  {
   "cell_type": "code",
   "execution_count": 9,
   "metadata": {
    "pycharm": {
     "name": "#%%\n"
    }
   },
   "outputs": [
    {
     "data": {
      "text/plain": "0.2500695668305352"
     },
     "execution_count": 9,
     "metadata": {},
     "output_type": "execute_result"
    }
   ],
   "source": [
    "len(test) / len(df)"
   ]
  },
  {
   "cell_type": "markdown",
   "metadata": {
    "pycharm": {
     "name": "#%% md\n"
    }
   },
   "source": [
    "## Анализ данных"
   ]
  },
  {
   "cell_type": "markdown",
   "metadata": {
    "pycharm": {
     "name": "#%% md\n"
    }
   },
   "source": [
    "##### Пропуски отстутствуют"
   ]
  },
  {
   "cell_type": "code",
   "execution_count": 10,
   "metadata": {
    "pycharm": {
     "name": "#%%\n"
    }
   },
   "outputs": [
    {
     "data": {
      "text/plain": "model           0.0\nyear            0.0\nprice           0.0\ntransmission    0.0\nmileage         0.0\nfuelType        0.0\ntax             0.0\nmpg             0.0\nengineSize      0.0\ndtype: float64"
     },
     "execution_count": 10,
     "metadata": {},
     "output_type": "execute_result"
    }
   ],
   "source": [
    "train.isna().mean()"
   ]
  },
  {
   "cell_type": "code",
   "execution_count": 11,
   "metadata": {
    "pycharm": {
     "name": "#%%\n"
    }
   },
   "outputs": [
    {
     "data": {
      "text/plain": "model           0.0\nyear            0.0\nprice           0.0\ntransmission    0.0\nmileage         0.0\nfuelType        0.0\ntax             0.0\nmpg             0.0\nengineSize      0.0\ndtype: float64"
     },
     "execution_count": 11,
     "metadata": {},
     "output_type": "execute_result"
    }
   ],
   "source": [
    "df.isna().mean()"
   ]
  },
  {
   "cell_type": "code",
   "execution_count": 12,
   "metadata": {
    "pycharm": {
     "name": "#%%\n"
    }
   },
   "outputs": [
    {
     "data": {
      "text/plain": "          model  year  price transmission  mileage fuelType  tax   mpg  \\\n930    5 Series  2013  12791    Semi-Auto    55642   Diesel  145  55.4   \n4052   1 Series  2019  23995    Semi-Auto     1527   Petrol  145  43.5   \n1197         X5  2015  25995    Automatic    43344   Diesel  200  47.1   \n7893   2 Series  2019  25000    Automatic     4000   Petrol  145  47.9   \n7571   1 Series  2015  10950       Manual    33000   Diesel   20  72.4   \n\n      engineSize  \n930          2.0  \n4052         1.5  \n1197         3.0  \n7893         2.0  \n7571         1.5  ",
      "text/html": "<div>\n<style scoped>\n    .dataframe tbody tr th:only-of-type {\n        vertical-align: middle;\n    }\n\n    .dataframe tbody tr th {\n        vertical-align: top;\n    }\n\n    .dataframe thead th {\n        text-align: right;\n    }\n</style>\n<table border=\"1\" class=\"dataframe\">\n  <thead>\n    <tr style=\"text-align: right;\">\n      <th></th>\n      <th>model</th>\n      <th>year</th>\n      <th>price</th>\n      <th>transmission</th>\n      <th>mileage</th>\n      <th>fuelType</th>\n      <th>tax</th>\n      <th>mpg</th>\n      <th>engineSize</th>\n    </tr>\n  </thead>\n  <tbody>\n    <tr>\n      <th>930</th>\n      <td>5 Series</td>\n      <td>2013</td>\n      <td>12791</td>\n      <td>Semi-Auto</td>\n      <td>55642</td>\n      <td>Diesel</td>\n      <td>145</td>\n      <td>55.4</td>\n      <td>2.0</td>\n    </tr>\n    <tr>\n      <th>4052</th>\n      <td>1 Series</td>\n      <td>2019</td>\n      <td>23995</td>\n      <td>Semi-Auto</td>\n      <td>1527</td>\n      <td>Petrol</td>\n      <td>145</td>\n      <td>43.5</td>\n      <td>1.5</td>\n    </tr>\n    <tr>\n      <th>1197</th>\n      <td>X5</td>\n      <td>2015</td>\n      <td>25995</td>\n      <td>Automatic</td>\n      <td>43344</td>\n      <td>Diesel</td>\n      <td>200</td>\n      <td>47.1</td>\n      <td>3.0</td>\n    </tr>\n    <tr>\n      <th>7893</th>\n      <td>2 Series</td>\n      <td>2019</td>\n      <td>25000</td>\n      <td>Automatic</td>\n      <td>4000</td>\n      <td>Petrol</td>\n      <td>145</td>\n      <td>47.9</td>\n      <td>2.0</td>\n    </tr>\n    <tr>\n      <th>7571</th>\n      <td>1 Series</td>\n      <td>2015</td>\n      <td>10950</td>\n      <td>Manual</td>\n      <td>33000</td>\n      <td>Diesel</td>\n      <td>20</td>\n      <td>72.4</td>\n      <td>1.5</td>\n    </tr>\n  </tbody>\n</table>\n</div>"
     },
     "execution_count": 12,
     "metadata": {},
     "output_type": "execute_result"
    }
   ],
   "source": [
    "train.head()"
   ]
  },
  {
   "cell_type": "code",
   "execution_count": 13,
   "metadata": {
    "pycharm": {
     "name": "#%%\n"
    }
   },
   "outputs": [],
   "source": [
    "import matplotlib.pyplot as plt\n",
    "\n",
    "plt.style.use('dark_background')\n",
    "plt.style.use('seaborn-v0_8-colorblind')"
   ]
  },
  {
   "cell_type": "code",
   "execution_count": 14,
   "metadata": {
    "pycharm": {
     "name": "#%%\n"
    }
   },
   "outputs": [
    {
     "data": {
      "text/plain": "<Figure size 640x480 with 1 Axes>",
      "image/png": "[encoded data removed]"
     },
     "metadata": {},
     "output_type": "display_data"
    }
   ],
   "source": [
    "train.price.hist();"
   ]
  },
  {
   "cell_type": "code",
   "execution_count": 15,
   "metadata": {
    "pycharm": {
     "name": "#%%\n"
    }
   },
   "outputs": [
    {
     "data": {
      "text/plain": "count      8085.000000\nmean      22668.821645\nstd       11469.825387\nmin        1445.000000\n25%       14800.000000\n50%       20022.000000\n75%       27850.000000\nmax      123456.000000\nName: price, dtype: float64"
     },
     "execution_count": 15,
     "metadata": {},
     "output_type": "execute_result"
    }
   ],
   "source": [
    "train.price.describe()"
   ]
  },
  {
   "cell_type": "markdown",
   "metadata": {
    "pycharm": {
     "name": "#%% md\n"
    }
   },
   "source": [
    "#### Гипотеза: чем новее автомобиль, тем он дороже"
   ]
  },
  {
   "cell_type": "code",
   "execution_count": 16,
   "metadata": {
    "pycharm": {
     "name": "#%%\n"
    }
   },
   "outputs": [
    {
     "data": {
      "text/plain": "      count          mean   median\nyear                              \n1996      1   5995.000000   5995.0\n1997      1   3950.000000   3950.0\n1998      1   3950.000000   3950.0\n1999      3   3980.000000   3995.0\n2000      1   1550.000000   1550.0\n2001      3   7333.333333   5950.0\n2002      4   3893.500000   3494.5\n2003      2   9222.500000   9222.5\n2004      7   7932.857143   3495.0\n2005      6   5390.166667   4685.0\n2006     12   5445.250000   3942.5\n2007     12   5027.833333   4597.5\n2008     18   6004.666667   5272.5\n2009     22   6506.090909   5845.0\n2010     31   7374.129032   6495.0\n2011     37   8860.297297   8470.0\n2012     92   9432.923913   8990.0\n2013    253  11041.347826  10490.0\n2014    384  13411.333333  12797.5\n2015    716  15086.536313  14103.5\n2016   1398  16531.655222  15699.5\n2017   1296  19205.839506  18299.5\n2018    635  22562.450394  21000.0\n2019   2598  31066.986143  27980.0\n2020    552  35359.445652  32450.5",
      "text/html": "<div>\n<style scoped>\n    .dataframe tbody tr th:only-of-type {\n        vertical-align: middle;\n    }\n\n    .dataframe tbody tr th {\n        vertical-align: top;\n    }\n\n    .dataframe thead th {\n        text-align: right;\n    }\n</style>\n<table border=\"1\" class=\"dataframe\">\n  <thead>\n    <tr style=\"text-align: right;\">\n      <th></th>\n      <th>count</th>\n      <th>mean</th>\n      <th>median</th>\n    </tr>\n    <tr>\n      <th>year</th>\n      <th></th>\n      <th></th>\n      <th></th>\n    </tr>\n  </thead>\n  <tbody>\n    <tr>\n      <th>1996</th>\n      <td>1</td>\n      <td>5995.000000</td>\n      <td>5995.0</td>\n    </tr>\n    <tr>\n      <th>1997</th>\n      <td>1</td>\n      <td>3950.000000</td>\n      <td>3950.0</td>\n    </tr>\n    <tr>\n      <th>1998</th>\n      <td>1</td>\n      <td>3950.000000</td>\n      <td>3950.0</td>\n    </tr>\n    <tr>\n      <th>1999</th>\n      <td>3</td>\n      <td>3980.000000</td>\n      <td>3995.0</td>\n    </tr>\n    <tr>\n      <th>2000</th>\n      <td>1</td>\n      <td>1550.000000</td>\n      <td>1550.0</td>\n    </tr>\n    <tr>\n      <th>2001</th>\n      <td>3</td>\n      <td>7333.333333</td>\n      <td>5950.0</td>\n    </tr>\n    <tr>\n      <th>2002</th>\n      <td>4</td>\n      <td>3893.500000</td>\n      <td>3494.5</td>\n    </tr>\n    <tr>\n      <th>2003</th>\n      <td>2</td>\n      <td>9222.500000</td>\n      <td>9222.5</td>\n    </tr>\n    <tr>\n      <th>2004</th>\n      <td>7</td>\n      <td>7932.857143</td>\n      <td>3495.0</td>\n    </tr>\n    <tr>\n      <th>2005</th>\n      <td>6</td>\n      <td>5390.166667</td>\n      <td>4685.0</td>\n    </tr>\n    <tr>\n      <th>2006</th>\n      <td>12</td>\n      <td>5445.250000</td>\n      <td>3942.5</td>\n    </tr>\n    <tr>\n      <th>2007</th>\n      <td>12</td>\n      <td>5027.833333</td>\n      <td>4597.5</td>\n    </tr>\n    <tr>\n      <th>2008</th>\n      <td>18</td>\n      <td>6004.666667</td>\n      <td>5272.5</td>\n    </tr>\n    <tr>\n      <th>2009</th>\n      <td>22</td>\n      <td>6506.090909</td>\n      <td>5845.0</td>\n    </tr>\n    <tr>\n      <th>2010</th>\n      <td>31</td>\n      <td>7374.129032</td>\n      <td>6495.0</td>\n    </tr>\n    <tr>\n      <th>2011</th>\n      <td>37</td>\n      <td>8860.297297</td>\n      <td>8470.0</td>\n    </tr>\n    <tr>\n      <th>2012</th>\n      <td>92</td>\n      <td>9432.923913</td>\n      <td>8990.0</td>\n    </tr>\n    <tr>\n      <th>2013</th>\n      <td>253</td>\n      <td>11041.347826</td>\n      <td>10490.0</td>\n    </tr>\n    <tr>\n      <th>2014</th>\n      <td>384</td>\n      <td>13411.333333</td>\n      <td>12797.5</td>\n    </tr>\n    <tr>\n      <th>2015</th>\n      <td>716</td>\n      <td>15086.536313</td>\n      <td>14103.5</td>\n    </tr>\n    <tr>\n      <th>2016</th>\n      <td>1398</td>\n      <td>16531.655222</td>\n      <td>15699.5</td>\n    </tr>\n    <tr>\n      <th>2017</th>\n      <td>1296</td>\n      <td>19205.839506</td>\n      <td>18299.5</td>\n    </tr>\n    <tr>\n      <th>2018</th>\n      <td>635</td>\n      <td>22562.450394</td>\n      <td>21000.0</td>\n    </tr>\n    <tr>\n      <th>2019</th>\n      <td>2598</td>\n      <td>31066.986143</td>\n      <td>27980.0</td>\n    </tr>\n    <tr>\n      <th>2020</th>\n      <td>552</td>\n      <td>35359.445652</td>\n      <td>32450.5</td>\n    </tr>\n  </tbody>\n</table>\n</div>"
     },
     "execution_count": 16,
     "metadata": {},
     "output_type": "execute_result"
    }
   ],
   "source": [
    "train.groupby('year')['price'].agg(['count', 'mean', 'median'])"
   ]
  },
  {
   "cell_type": "code",
   "execution_count": 17,
   "metadata": {
    "pycharm": {
     "name": "#%%\n"
    }
   },
   "outputs": [
    {
     "data": {
      "text/plain": "<Figure size 640x480 with 1 Axes>",
      "image/png": "[encoded data removed]"
     },
     "metadata": {},
     "output_type": "display_data"
    }
   ],
   "source": [
    "train.groupby('year')['price'].median().plot();"
   ]
  },
  {
   "cell_type": "markdown",
   "metadata": {
    "pycharm": {
     "name": "#%% md\n"
    }
   },
   "source": [
    "##### График подтверждает гипотезу"
   ]
  },
  {
   "cell_type": "markdown",
   "metadata": {
    "pycharm": {
     "name": "#%% md\n"
    }
   },
   "source": [
    "## Baseline"
   ]
  },
  {
   "cell_type": "markdown",
   "metadata": {
    "pycharm": {
     "name": "#%% md\n"
    }
   },
   "source": [
    "##### Создание простейшего алгоритма, который будет сравнивать стоимость машины со средней стоимостью всех машин"
   ]
  },
  {
   "cell_type": "code",
   "execution_count": 18,
   "metadata": {
    "pycharm": {
     "name": "#%%\n"
    }
   },
   "outputs": [
    {
     "data": {
      "text/plain": "count      8085.000000\nmean      22668.821645\nstd       11469.825387\nmin        1445.000000\n25%       14800.000000\n50%       20022.000000\n75%       27850.000000\nmax      123456.000000\nName: price, dtype: float64"
     },
     "execution_count": 18,
     "metadata": {},
     "output_type": "execute_result"
    }
   ],
   "source": [
    "train.price.describe()"
   ]
  },
  {
   "cell_type": "markdown",
   "metadata": {
    "pycharm": {
     "name": "#%% md\n"
    }
   },
   "source": [
    "##### Создание колонки средней стоимости автомобиля"
   ]
  },
  {
   "cell_type": "code",
   "execution_count": 19,
   "metadata": {
    "pycharm": {
     "name": "#%%\n"
    }
   },
   "outputs": [],
   "source": [
    "train['price_pred_mean'] = train.price.mean()"
   ]
  },
  {
   "cell_type": "code",
   "execution_count": 20,
   "metadata": {
    "pycharm": {
     "name": "#%%\n"
    }
   },
   "outputs": [
    {
     "data": {
      "text/plain": "          model  year  price transmission  mileage fuelType  tax   mpg  \\\n930    5 Series  2013  12791    Semi-Auto    55642   Diesel  145  55.4   \n4052   1 Series  2019  23995    Semi-Auto     1527   Petrol  145  43.5   \n1197         X5  2015  25995    Automatic    43344   Diesel  200  47.1   \n7893   2 Series  2019  25000    Automatic     4000   Petrol  145  47.9   \n7571   1 Series  2015  10950       Manual    33000   Diesel   20  72.4   \n\n      engineSize  price_pred_mean  \n930          2.0     22668.821645  \n4052         1.5     22668.821645  \n1197         3.0     22668.821645  \n7893         2.0     22668.821645  \n7571         1.5     22668.821645  ",
      "text/html": "<div>\n<style scoped>\n    .dataframe tbody tr th:only-of-type {\n        vertical-align: middle;\n    }\n\n    .dataframe tbody tr th {\n        vertical-align: top;\n    }\n\n    .dataframe thead th {\n        text-align: right;\n    }\n</style>\n<table border=\"1\" class=\"dataframe\">\n  <thead>\n    <tr style=\"text-align: right;\">\n      <th></th>\n      <th>model</th>\n      <th>year</th>\n      <th>price</th>\n      <th>transmission</th>\n      <th>mileage</th>\n      <th>fuelType</th>\n      <th>tax</th>\n      <th>mpg</th>\n      <th>engineSize</th>\n      <th>price_pred_mean</th>\n    </tr>\n  </thead>\n  <tbody>\n    <tr>\n      <th>930</th>\n      <td>5 Series</td>\n      <td>2013</td>\n      <td>12791</td>\n      <td>Semi-Auto</td>\n      <td>55642</td>\n      <td>Diesel</td>\n      <td>145</td>\n      <td>55.4</td>\n      <td>2.0</td>\n      <td>22668.821645</td>\n    </tr>\n    <tr>\n      <th>4052</th>\n      <td>1 Series</td>\n      <td>2019</td>\n      <td>23995</td>\n      <td>Semi-Auto</td>\n      <td>1527</td>\n      <td>Petrol</td>\n      <td>145</td>\n      <td>43.5</td>\n      <td>1.5</td>\n      <td>22668.821645</td>\n    </tr>\n    <tr>\n      <th>1197</th>\n      <td>X5</td>\n      <td>2015</td>\n      <td>25995</td>\n      <td>Automatic</td>\n      <td>43344</td>\n      <td>Diesel</td>\n      <td>200</td>\n      <td>47.1</td>\n      <td>3.0</td>\n      <td>22668.821645</td>\n    </tr>\n    <tr>\n      <th>7893</th>\n      <td>2 Series</td>\n      <td>2019</td>\n      <td>25000</td>\n      <td>Automatic</td>\n      <td>4000</td>\n      <td>Petrol</td>\n      <td>145</td>\n      <td>47.9</td>\n      <td>2.0</td>\n      <td>22668.821645</td>\n    </tr>\n    <tr>\n      <th>7571</th>\n      <td>1 Series</td>\n      <td>2015</td>\n      <td>10950</td>\n      <td>Manual</td>\n      <td>33000</td>\n      <td>Diesel</td>\n      <td>20</td>\n      <td>72.4</td>\n      <td>1.5</td>\n      <td>22668.821645</td>\n    </tr>\n  </tbody>\n</table>\n</div>"
     },
     "execution_count": 20,
     "metadata": {},
     "output_type": "execute_result"
    }
   ],
   "source": [
    "train.head()"
   ]
  },
  {
   "cell_type": "markdown",
   "metadata": {
    "pycharm": {
     "name": "#%% md\n"
    }
   },
   "source": [
    "##### Создание колонки ошибки"
   ]
  },
  {
   "cell_type": "code",
   "execution_count": 21,
   "metadata": {
    "pycharm": {
     "name": "#%%\n"
    }
   },
   "outputs": [],
   "source": [
    "train['err'] = train['price_pred_mean'] - train['price']  # Ошибка - в данном случае отклонение от среднего"
   ]
  },
  {
   "cell_type": "code",
   "execution_count": 22,
   "metadata": {
    "pycharm": {
     "name": "#%%\n"
    }
   },
   "outputs": [
    {
     "data": {
      "text/plain": "          model  year  price transmission  mileage fuelType  tax   mpg  \\\n930    5 Series  2013  12791    Semi-Auto    55642   Diesel  145  55.4   \n4052   1 Series  2019  23995    Semi-Auto     1527   Petrol  145  43.5   \n1197         X5  2015  25995    Automatic    43344   Diesel  200  47.1   \n7893   2 Series  2019  25000    Automatic     4000   Petrol  145  47.9   \n7571   1 Series  2015  10950       Manual    33000   Diesel   20  72.4   \n\n      engineSize  price_pred_mean           err  \n930          2.0     22668.821645   9877.821645  \n4052         1.5     22668.821645  -1326.178355  \n1197         3.0     22668.821645  -3326.178355  \n7893         2.0     22668.821645  -2331.178355  \n7571         1.5     22668.821645  11718.821645  ",
      "text/html": "<div>\n<style scoped>\n    .dataframe tbody tr th:only-of-type {\n        vertical-align: middle;\n    }\n\n    .dataframe tbody tr th {\n        vertical-align: top;\n    }\n\n    .dataframe thead th {\n        text-align: right;\n    }\n</style>\n<table border=\"1\" class=\"dataframe\">\n  <thead>\n    <tr style=\"text-align: right;\">\n      <th></th>\n      <th>model</th>\n      <th>year</th>\n      <th>price</th>\n      <th>transmission</th>\n      <th>mileage</th>\n      <th>fuelType</th>\n      <th>tax</th>\n      <th>mpg</th>\n      <th>engineSize</th>\n      <th>price_pred_mean</th>\n      <th>err</th>\n    </tr>\n  </thead>\n  <tbody>\n    <tr>\n      <th>930</th>\n      <td>5 Series</td>\n      <td>2013</td>\n      <td>12791</td>\n      <td>Semi-Auto</td>\n      <td>55642</td>\n      <td>Diesel</td>\n      <td>145</td>\n      <td>55.4</td>\n      <td>2.0</td>\n      <td>22668.821645</td>\n      <td>9877.821645</td>\n    </tr>\n    <tr>\n      <th>4052</th>\n      <td>1 Series</td>\n      <td>2019</td>\n      <td>23995</td>\n      <td>Semi-Auto</td>\n      <td>1527</td>\n      <td>Petrol</td>\n      <td>145</td>\n      <td>43.5</td>\n      <td>1.5</td>\n      <td>22668.821645</td>\n      <td>-1326.178355</td>\n    </tr>\n    <tr>\n      <th>1197</th>\n      <td>X5</td>\n      <td>2015</td>\n      <td>25995</td>\n      <td>Automatic</td>\n      <td>43344</td>\n      <td>Diesel</td>\n      <td>200</td>\n      <td>47.1</td>\n      <td>3.0</td>\n      <td>22668.821645</td>\n      <td>-3326.178355</td>\n    </tr>\n    <tr>\n      <th>7893</th>\n      <td>2 Series</td>\n      <td>2019</td>\n      <td>25000</td>\n      <td>Automatic</td>\n      <td>4000</td>\n      <td>Petrol</td>\n      <td>145</td>\n      <td>47.9</td>\n      <td>2.0</td>\n      <td>22668.821645</td>\n      <td>-2331.178355</td>\n    </tr>\n    <tr>\n      <th>7571</th>\n      <td>1 Series</td>\n      <td>2015</td>\n      <td>10950</td>\n      <td>Manual</td>\n      <td>33000</td>\n      <td>Diesel</td>\n      <td>20</td>\n      <td>72.4</td>\n      <td>1.5</td>\n      <td>22668.821645</td>\n      <td>11718.821645</td>\n    </tr>\n  </tbody>\n</table>\n</div>"
     },
     "execution_count": 22,
     "metadata": {},
     "output_type": "execute_result"
    }
   ],
   "source": [
    "train.head()"
   ]
  },
  {
   "cell_type": "markdown",
   "metadata": {
    "pycharm": {
     "name": "#%% md\n"
    }
   },
   "source": [
    "##### Создание колонки АБСОЛЮТНОЙ ошибки"
   ]
  },
  {
   "cell_type": "code",
   "execution_count": 23,
   "metadata": {
    "pycharm": {
     "name": "#%%\n"
    }
   },
   "outputs": [],
   "source": [
    "train['err_abs'] = abs(train['err'])  # абсолютная ошибка"
   ]
  },
  {
   "cell_type": "code",
   "execution_count": 24,
   "metadata": {
    "pycharm": {
     "name": "#%%\n"
    }
   },
   "outputs": [
    {
     "data": {
      "text/plain": "          model  year  price transmission  mileage fuelType  tax   mpg  \\\n930    5 Series  2013  12791    Semi-Auto    55642   Diesel  145  55.4   \n4052   1 Series  2019  23995    Semi-Auto     1527   Petrol  145  43.5   \n1197         X5  2015  25995    Automatic    43344   Diesel  200  47.1   \n7893   2 Series  2019  25000    Automatic     4000   Petrol  145  47.9   \n7571   1 Series  2015  10950       Manual    33000   Diesel   20  72.4   \n\n      engineSize  price_pred_mean           err       err_abs  \n930          2.0     22668.821645   9877.821645   9877.821645  \n4052         1.5     22668.821645  -1326.178355   1326.178355  \n1197         3.0     22668.821645  -3326.178355   3326.178355  \n7893         2.0     22668.821645  -2331.178355   2331.178355  \n7571         1.5     22668.821645  11718.821645  11718.821645  ",
      "text/html": "<div>\n<style scoped>\n    .dataframe tbody tr th:only-of-type {\n        vertical-align: middle;\n    }\n\n    .dataframe tbody tr th {\n        vertical-align: top;\n    }\n\n    .dataframe thead th {\n        text-align: right;\n    }\n</style>\n<table border=\"1\" class=\"dataframe\">\n  <thead>\n    <tr style=\"text-align: right;\">\n      <th></th>\n      <th>model</th>\n      <th>year</th>\n      <th>price</th>\n      <th>transmission</th>\n      <th>mileage</th>\n      <th>fuelType</th>\n      <th>tax</th>\n      <th>mpg</th>\n      <th>engineSize</th>\n      <th>price_pred_mean</th>\n      <th>err</th>\n      <th>err_abs</th>\n    </tr>\n  </thead>\n  <tbody>\n    <tr>\n      <th>930</th>\n      <td>5 Series</td>\n      <td>2013</td>\n      <td>12791</td>\n      <td>Semi-Auto</td>\n      <td>55642</td>\n      <td>Diesel</td>\n      <td>145</td>\n      <td>55.4</td>\n      <td>2.0</td>\n      <td>22668.821645</td>\n      <td>9877.821645</td>\n      <td>9877.821645</td>\n    </tr>\n    <tr>\n      <th>4052</th>\n      <td>1 Series</td>\n      <td>2019</td>\n      <td>23995</td>\n      <td>Semi-Auto</td>\n      <td>1527</td>\n      <td>Petrol</td>\n      <td>145</td>\n      <td>43.5</td>\n      <td>1.5</td>\n      <td>22668.821645</td>\n      <td>-1326.178355</td>\n      <td>1326.178355</td>\n    </tr>\n    <tr>\n      <th>1197</th>\n      <td>X5</td>\n      <td>2015</td>\n      <td>25995</td>\n      <td>Automatic</td>\n      <td>43344</td>\n      <td>Diesel</td>\n      <td>200</td>\n      <td>47.1</td>\n      <td>3.0</td>\n      <td>22668.821645</td>\n      <td>-3326.178355</td>\n      <td>3326.178355</td>\n    </tr>\n    <tr>\n      <th>7893</th>\n      <td>2 Series</td>\n      <td>2019</td>\n      <td>25000</td>\n      <td>Automatic</td>\n      <td>4000</td>\n      <td>Petrol</td>\n      <td>145</td>\n      <td>47.9</td>\n      <td>2.0</td>\n      <td>22668.821645</td>\n      <td>-2331.178355</td>\n      <td>2331.178355</td>\n    </tr>\n    <tr>\n      <th>7571</th>\n      <td>1 Series</td>\n      <td>2015</td>\n      <td>10950</td>\n      <td>Manual</td>\n      <td>33000</td>\n      <td>Diesel</td>\n      <td>20</td>\n      <td>72.4</td>\n      <td>1.5</td>\n      <td>22668.821645</td>\n      <td>11718.821645</td>\n      <td>11718.821645</td>\n    </tr>\n  </tbody>\n</table>\n</div>"
     },
     "execution_count": 24,
     "metadata": {},
     "output_type": "execute_result"
    }
   ],
   "source": [
    "train.head()"
   ]
  },
  {
   "cell_type": "markdown",
   "metadata": {
    "pycharm": {
     "name": "#%% md\n"
    }
   },
   "source": []
  },
  {
   "cell_type": "markdown",
   "metadata": {
    "pycharm": {
     "name": "#%% md\n"
    }
   },
   "source": [
    "##### В среднем предсказание по ДАННОМУ алгоритму ОШИБАЕТСЯ на ≈ 8450"
   ]
  },
  {
   "cell_type": "code",
   "execution_count": 25,
   "metadata": {
    "pycharm": {
     "name": "#%%\n"
    }
   },
   "outputs": [
    {
     "data": {
      "text/plain": "8450.556631461715"
     },
     "execution_count": 25,
     "metadata": {},
     "output_type": "execute_result"
    }
   ],
   "source": [
    "train.err_abs.mean()"
   ]
  },
  {
   "cell_type": "code",
   "execution_count": 26,
   "metadata": {
    "pycharm": {
     "name": "#%%\n"
    }
   },
   "outputs": [],
   "source": [
    "train['err_abs_pct'] = (train.err_abs / train.price)"
   ]
  },
  {
   "cell_type": "code",
   "execution_count": 27,
   "metadata": {
    "pycharm": {
     "name": "#%%\n"
    }
   },
   "outputs": [
    {
     "data": {
      "text/plain": "          model  year  price transmission  mileage fuelType  tax   mpg  \\\n930    5 Series  2013  12791    Semi-Auto    55642   Diesel  145  55.4   \n4052   1 Series  2019  23995    Semi-Auto     1527   Petrol  145  43.5   \n1197         X5  2015  25995    Automatic    43344   Diesel  200  47.1   \n7893   2 Series  2019  25000    Automatic     4000   Petrol  145  47.9   \n7571   1 Series  2015  10950       Manual    33000   Diesel   20  72.4   \n\n      engineSize  price_pred_mean           err       err_abs  err_abs_pct  \n930          2.0     22668.821645   9877.821645   9877.821645     0.772248  \n4052         1.5     22668.821645  -1326.178355   1326.178355     0.055269  \n1197         3.0     22668.821645  -3326.178355   3326.178355     0.127955  \n7893         2.0     22668.821645  -2331.178355   2331.178355     0.093247  \n7571         1.5     22668.821645  11718.821645  11718.821645     1.070212  ",
      "text/html": "<div>\n<style scoped>\n    .dataframe tbody tr th:only-of-type {\n        vertical-align: middle;\n    }\n\n    .dataframe tbody tr th {\n        vertical-align: top;\n    }\n\n    .dataframe thead th {\n        text-align: right;\n    }\n</style>\n<table border=\"1\" class=\"dataframe\">\n  <thead>\n    <tr style=\"text-align: right;\">\n      <th></th>\n      <th>model</th>\n      <th>year</th>\n      <th>price</th>\n      <th>transmission</th>\n      <th>mileage</th>\n      <th>fuelType</th>\n      <th>tax</th>\n      <th>mpg</th>\n      <th>engineSize</th>\n      <th>price_pred_mean</th>\n      <th>err</th>\n      <th>err_abs</th>\n      <th>err_abs_pct</th>\n    </tr>\n  </thead>\n  <tbody>\n    <tr>\n      <th>930</th>\n      <td>5 Series</td>\n      <td>2013</td>\n      <td>12791</td>\n      <td>Semi-Auto</td>\n      <td>55642</td>\n      <td>Diesel</td>\n      <td>145</td>\n      <td>55.4</td>\n      <td>2.0</td>\n      <td>22668.821645</td>\n      <td>9877.821645</td>\n      <td>9877.821645</td>\n      <td>0.772248</td>\n    </tr>\n    <tr>\n      <th>4052</th>\n      <td>1 Series</td>\n      <td>2019</td>\n      <td>23995</td>\n      <td>Semi-Auto</td>\n      <td>1527</td>\n      <td>Petrol</td>\n      <td>145</td>\n      <td>43.5</td>\n      <td>1.5</td>\n      <td>22668.821645</td>\n      <td>-1326.178355</td>\n      <td>1326.178355</td>\n      <td>0.055269</td>\n    </tr>\n    <tr>\n      <th>1197</th>\n      <td>X5</td>\n      <td>2015</td>\n      <td>25995</td>\n      <td>Automatic</td>\n      <td>43344</td>\n      <td>Diesel</td>\n      <td>200</td>\n      <td>47.1</td>\n      <td>3.0</td>\n      <td>22668.821645</td>\n      <td>-3326.178355</td>\n      <td>3326.178355</td>\n      <td>0.127955</td>\n    </tr>\n    <tr>\n      <th>7893</th>\n      <td>2 Series</td>\n      <td>2019</td>\n      <td>25000</td>\n      <td>Automatic</td>\n      <td>4000</td>\n      <td>Petrol</td>\n      <td>145</td>\n      <td>47.9</td>\n      <td>2.0</td>\n      <td>22668.821645</td>\n      <td>-2331.178355</td>\n      <td>2331.178355</td>\n      <td>0.093247</td>\n    </tr>\n    <tr>\n      <th>7571</th>\n      <td>1 Series</td>\n      <td>2015</td>\n      <td>10950</td>\n      <td>Manual</td>\n      <td>33000</td>\n      <td>Diesel</td>\n      <td>20</td>\n      <td>72.4</td>\n      <td>1.5</td>\n      <td>22668.821645</td>\n      <td>11718.821645</td>\n      <td>11718.821645</td>\n      <td>1.070212</td>\n    </tr>\n  </tbody>\n</table>\n</div>"
     },
     "execution_count": 27,
     "metadata": {},
     "output_type": "execute_result"
    }
   ],
   "source": [
    "train.head()"
   ]
  },
  {
   "cell_type": "markdown",
   "metadata": {
    "pycharm": {
     "name": "#%% md\n"
    }
   },
   "source": [
    "##### Средний процент ошибки - 48.3%"
   ]
  },
  {
   "cell_type": "code",
   "execution_count": 28,
   "metadata": {
    "pycharm": {
     "name": "#%%\n"
    }
   },
   "outputs": [
    {
     "data": {
      "text/plain": "0.48316912602731443"
     },
     "execution_count": 28,
     "metadata": {},
     "output_type": "execute_result"
    }
   ],
   "source": [
    "train.err_abs_pct.mean()"
   ]
  },
  {
   "cell_type": "markdown",
   "source": [
    "##### Создание колонки медианной стоимости автомобиля"
   ],
   "metadata": {
    "collapsed": false,
    "pycharm": {
     "name": "#%% md\n"
    }
   }
  },
  {
   "cell_type": "code",
   "execution_count": 29,
   "metadata": {
    "pycharm": {
     "name": "#%%\n"
    }
   },
   "outputs": [],
   "source": [
    "train['price_pred_median'] = train.price.median()"
   ]
  },
  {
   "cell_type": "code",
   "execution_count": 30,
   "outputs": [
    {
     "data": {
      "text/plain": "          model  year  price transmission  mileage fuelType  tax   mpg  \\\n930    5 Series  2013  12791    Semi-Auto    55642   Diesel  145  55.4   \n4052   1 Series  2019  23995    Semi-Auto     1527   Petrol  145  43.5   \n1197         X5  2015  25995    Automatic    43344   Diesel  200  47.1   \n7893   2 Series  2019  25000    Automatic     4000   Petrol  145  47.9   \n7571   1 Series  2015  10950       Manual    33000   Diesel   20  72.4   \n\n      engineSize  price_pred_mean           err       err_abs  err_abs_pct  \\\n930          2.0     22668.821645   9877.821645   9877.821645     0.772248   \n4052         1.5     22668.821645  -1326.178355   1326.178355     0.055269   \n1197         3.0     22668.821645  -3326.178355   3326.178355     0.127955   \n7893         2.0     22668.821645  -2331.178355   2331.178355     0.093247   \n7571         1.5     22668.821645  11718.821645  11718.821645     1.070212   \n\n      price_pred_median  \n930             20022.0  \n4052            20022.0  \n1197            20022.0  \n7893            20022.0  \n7571            20022.0  ",
      "text/html": "<div>\n<style scoped>\n    .dataframe tbody tr th:only-of-type {\n        vertical-align: middle;\n    }\n\n    .dataframe tbody tr th {\n        vertical-align: top;\n    }\n\n    .dataframe thead th {\n        text-align: right;\n    }\n</style>\n<table border=\"1\" class=\"dataframe\">\n  <thead>\n    <tr style=\"text-align: right;\">\n      <th></th>\n      <th>model</th>\n      <th>year</th>\n      <th>price</th>\n      <th>transmission</th>\n      <th>mileage</th>\n      <th>fuelType</th>\n      <th>tax</th>\n      <th>mpg</th>\n      <th>engineSize</th>\n      <th>price_pred_mean</th>\n      <th>err</th>\n      <th>err_abs</th>\n      <th>err_abs_pct</th>\n      <th>price_pred_median</th>\n    </tr>\n  </thead>\n  <tbody>\n    <tr>\n      <th>930</th>\n      <td>5 Series</td>\n      <td>2013</td>\n      <td>12791</td>\n      <td>Semi-Auto</td>\n      <td>55642</td>\n      <td>Diesel</td>\n      <td>145</td>\n      <td>55.4</td>\n      <td>2.0</td>\n      <td>22668.821645</td>\n      <td>9877.821645</td>\n      <td>9877.821645</td>\n      <td>0.772248</td>\n      <td>20022.0</td>\n    </tr>\n    <tr>\n      <th>4052</th>\n      <td>1 Series</td>\n      <td>2019</td>\n      <td>23995</td>\n      <td>Semi-Auto</td>\n      <td>1527</td>\n      <td>Petrol</td>\n      <td>145</td>\n      <td>43.5</td>\n      <td>1.5</td>\n      <td>22668.821645</td>\n      <td>-1326.178355</td>\n      <td>1326.178355</td>\n      <td>0.055269</td>\n      <td>20022.0</td>\n    </tr>\n    <tr>\n      <th>1197</th>\n      <td>X5</td>\n      <td>2015</td>\n      <td>25995</td>\n      <td>Automatic</td>\n      <td>43344</td>\n      <td>Diesel</td>\n      <td>200</td>\n      <td>47.1</td>\n      <td>3.0</td>\n      <td>22668.821645</td>\n      <td>-3326.178355</td>\n      <td>3326.178355</td>\n      <td>0.127955</td>\n      <td>20022.0</td>\n    </tr>\n    <tr>\n      <th>7893</th>\n      <td>2 Series</td>\n      <td>2019</td>\n      <td>25000</td>\n      <td>Automatic</td>\n      <td>4000</td>\n      <td>Petrol</td>\n      <td>145</td>\n      <td>47.9</td>\n      <td>2.0</td>\n      <td>22668.821645</td>\n      <td>-2331.178355</td>\n      <td>2331.178355</td>\n      <td>0.093247</td>\n      <td>20022.0</td>\n    </tr>\n    <tr>\n      <th>7571</th>\n      <td>1 Series</td>\n      <td>2015</td>\n      <td>10950</td>\n      <td>Manual</td>\n      <td>33000</td>\n      <td>Diesel</td>\n      <td>20</td>\n      <td>72.4</td>\n      <td>1.5</td>\n      <td>22668.821645</td>\n      <td>11718.821645</td>\n      <td>11718.821645</td>\n      <td>1.070212</td>\n      <td>20022.0</td>\n    </tr>\n  </tbody>\n</table>\n</div>"
     },
     "execution_count": 30,
     "metadata": {},
     "output_type": "execute_result"
    }
   ],
   "source": [
    "train.head()"
   ],
   "metadata": {
    "collapsed": false,
    "pycharm": {
     "name": "#%%\n"
    }
   }
  },
  {
   "cell_type": "markdown",
   "source": [
    "##### Используем встроенные функции sklearn для вычисления ошибок"
   ],
   "metadata": {
    "collapsed": false,
    "pycharm": {
     "name": "#%% md\n"
    }
   }
  },
  {
   "cell_type": "code",
   "execution_count": 31,
   "outputs": [],
   "source": [
    "from sklearn.metrics import mean_absolute_error, mean_absolute_percentage_error"
   ],
   "metadata": {
    "collapsed": false,
    "pycharm": {
     "name": "#%%\n"
    }
   }
  },
  {
   "cell_type": "markdown",
   "source": [
    "##### Вычислим среднюю абсолютную ошибку и процент по ней, через функции"
   ],
   "metadata": {
    "collapsed": false,
    "pycharm": {
     "name": "#%% md\n"
    }
   }
  },
  {
   "cell_type": "code",
   "execution_count": 32,
   "outputs": [
    {
     "data": {
      "text/plain": "8450.556631461715"
     },
     "execution_count": 32,
     "metadata": {},
     "output_type": "execute_result"
    }
   ],
   "source": [
    "mean_absolute_error(train.price, train.price_pred_mean)"
   ],
   "metadata": {
    "collapsed": false,
    "pycharm": {
     "name": "#%%\n"
    }
   }
  },
  {
   "cell_type": "code",
   "execution_count": 33,
   "outputs": [
    {
     "data": {
      "text/plain": "0.48316912602731443"
     },
     "execution_count": 33,
     "metadata": {},
     "output_type": "execute_result"
    }
   ],
   "source": [
    "mean_absolute_percentage_error(train.price, train.price_pred_mean)"
   ],
   "metadata": {
    "collapsed": false,
    "pycharm": {
     "name": "#%%\n"
    }
   }
  },
  {
   "cell_type": "markdown",
   "source": [
    "##### Теперь посчитаем для медианы"
   ],
   "metadata": {
    "collapsed": false,
    "pycharm": {
     "name": "#%% md\n"
    }
   }
  },
  {
   "cell_type": "code",
   "execution_count": 34,
   "outputs": [
    {
     "data": {
      "text/plain": "8220.5146567718"
     },
     "execution_count": 34,
     "metadata": {},
     "output_type": "execute_result"
    }
   ],
   "source": [
    "mean_absolute_error(train.price, train.price_pred_median)"
   ],
   "metadata": {
    "collapsed": false,
    "pycharm": {
     "name": "#%%\n"
    }
   }
  },
  {
   "cell_type": "code",
   "execution_count": 35,
   "outputs": [
    {
     "data": {
      "text/plain": "0.41711111879393314"
     },
     "execution_count": 35,
     "metadata": {},
     "output_type": "execute_result"
    }
   ],
   "source": [
    "mean_absolute_percentage_error(train.price, train.price_pred_median)"
   ],
   "metadata": {
    "collapsed": false,
    "pycharm": {
     "name": "#%%\n"
    }
   }
  },
  {
   "cell_type": "markdown",
   "source": [
    "#### Для baseline`а лучше использовать медиану, т.к. она даёт меньшую ошибку, то есть лучшее качество"
   ],
   "metadata": {
    "collapsed": false,
    "pycharm": {
     "name": "#%% md\n"
    }
   }
  },
  {
   "cell_type": "markdown",
   "source": [
    "##### Попробуем спрогнозировать ошибку на тестовой части"
   ],
   "metadata": {
    "collapsed": false,
    "pycharm": {
     "name": "#%% md\n"
    }
   }
  },
  {
   "cell_type": "code",
   "execution_count": 36,
   "outputs": [],
   "source": [
    "test['price_pred_median'] = train.price.median()  # Пишем именно train, т.к. мы обучаемся на train`е"
   ],
   "metadata": {
    "collapsed": false,
    "pycharm": {
     "name": "#%%\n"
    }
   }
  },
  {
   "cell_type": "code",
   "execution_count": 37,
   "outputs": [
    {
     "data": {
      "text/plain": "          model  year  price transmission  mileage fuelType  tax   mpg  \\\n8728   1 Series  2018  15300       Manual    36469   Diesel  150  50.4   \n761    5 Series  2014  15495    Semi-Auto    51565   Diesel  160  51.4   \n7209         X3  2019  39875    Semi-Auto     8988   Diesel  150  36.7   \n6685   2 Series  2019  21730    Automatic     5054   Petrol  145  39.2   \n8548   2 Series  2018  13799       Manual    13369   Diesel  145  65.7   \n\n      engineSize  price_pred_median  \n8728         1.5            20022.0  \n761          2.0            20022.0  \n7209         3.0            20022.0  \n6685         1.5            20022.0  \n8548         1.5            20022.0  ",
      "text/html": "<div>\n<style scoped>\n    .dataframe tbody tr th:only-of-type {\n        vertical-align: middle;\n    }\n\n    .dataframe tbody tr th {\n        vertical-align: top;\n    }\n\n    .dataframe thead th {\n        text-align: right;\n    }\n</style>\n<table border=\"1\" class=\"dataframe\">\n  <thead>\n    <tr style=\"text-align: right;\">\n      <th></th>\n      <th>model</th>\n      <th>year</th>\n      <th>price</th>\n      <th>transmission</th>\n      <th>mileage</th>\n      <th>fuelType</th>\n      <th>tax</th>\n      <th>mpg</th>\n      <th>engineSize</th>\n      <th>price_pred_median</th>\n    </tr>\n  </thead>\n  <tbody>\n    <tr>\n      <th>8728</th>\n      <td>1 Series</td>\n      <td>2018</td>\n      <td>15300</td>\n      <td>Manual</td>\n      <td>36469</td>\n      <td>Diesel</td>\n      <td>150</td>\n      <td>50.4</td>\n      <td>1.5</td>\n      <td>20022.0</td>\n    </tr>\n    <tr>\n      <th>761</th>\n      <td>5 Series</td>\n      <td>2014</td>\n      <td>15495</td>\n      <td>Semi-Auto</td>\n      <td>51565</td>\n      <td>Diesel</td>\n      <td>160</td>\n      <td>51.4</td>\n      <td>2.0</td>\n      <td>20022.0</td>\n    </tr>\n    <tr>\n      <th>7209</th>\n      <td>X3</td>\n      <td>2019</td>\n      <td>39875</td>\n      <td>Semi-Auto</td>\n      <td>8988</td>\n      <td>Diesel</td>\n      <td>150</td>\n      <td>36.7</td>\n      <td>3.0</td>\n      <td>20022.0</td>\n    </tr>\n    <tr>\n      <th>6685</th>\n      <td>2 Series</td>\n      <td>2019</td>\n      <td>21730</td>\n      <td>Automatic</td>\n      <td>5054</td>\n      <td>Petrol</td>\n      <td>145</td>\n      <td>39.2</td>\n      <td>1.5</td>\n      <td>20022.0</td>\n    </tr>\n    <tr>\n      <th>8548</th>\n      <td>2 Series</td>\n      <td>2018</td>\n      <td>13799</td>\n      <td>Manual</td>\n      <td>13369</td>\n      <td>Diesel</td>\n      <td>145</td>\n      <td>65.7</td>\n      <td>1.5</td>\n      <td>20022.0</td>\n    </tr>\n  </tbody>\n</table>\n</div>"
     },
     "execution_count": 37,
     "metadata": {},
     "output_type": "execute_result"
    }
   ],
   "source": [
    "test.head()"
   ],
   "metadata": {
    "collapsed": false,
    "pycharm": {
     "name": "#%%\n"
    }
   }
  },
  {
   "cell_type": "code",
   "execution_count": 38,
   "outputs": [
    {
     "data": {
      "text/plain": "8211.845697329376"
     },
     "execution_count": 38,
     "metadata": {},
     "output_type": "execute_result"
    }
   ],
   "source": [
    "mean_absolute_error(test.price, test.price_pred_median)"
   ],
   "metadata": {
    "collapsed": false,
    "pycharm": {
     "name": "#%%\n"
    }
   }
  },
  {
   "cell_type": "code",
   "execution_count": 39,
   "outputs": [
    {
     "data": {
      "text/plain": "0.409212791738344"
     },
     "execution_count": 39,
     "metadata": {},
     "output_type": "execute_result"
    }
   ],
   "source": [
    "mean_absolute_percentage_error(test.price, test.price_pred_median)"
   ],
   "metadata": {
    "collapsed": false,
    "pycharm": {
     "name": "#%%\n"
    }
   }
  },
  {
   "cell_type": "markdown",
   "source": [
    "##### На тестовой части ошибка оказалась +- такой же как и на трейне"
   ],
   "metadata": {
    "collapsed": false,
    "pycharm": {
     "name": "#%% md\n"
    }
   }
  },
  {
   "cell_type": "markdown",
   "source": [
    "## Алгоритм на основе года"
   ],
   "metadata": {
    "collapsed": false,
    "pycharm": {
     "name": "#%% md\n"
    }
   }
  },
  {
   "cell_type": "markdown",
   "source": [
    "##### Суть: Предсказать стоимость машины на основе средней стоимости для её года"
   ],
   "metadata": {
    "collapsed": false,
    "pycharm": {
     "name": "#%% md\n"
    }
   }
  },
  {
   "cell_type": "code",
   "execution_count": 40,
   "outputs": [
    {
     "data": {
      "text/plain": "      count          mean   median\nyear                              \n1996      1   5995.000000   5995.0\n1997      1   3950.000000   3950.0\n1998      1   3950.000000   3950.0\n1999      3   3980.000000   3995.0\n2000      1   1550.000000   1550.0\n2001      3   7333.333333   5950.0\n2002      4   3893.500000   3494.5\n2003      2   9222.500000   9222.5\n2004      7   7932.857143   3495.0\n2005      6   5390.166667   4685.0\n2006     12   5445.250000   3942.5\n2007     12   5027.833333   4597.5\n2008     18   6004.666667   5272.5\n2009     22   6506.090909   5845.0\n2010     31   7374.129032   6495.0\n2011     37   8860.297297   8470.0\n2012     92   9432.923913   8990.0\n2013    253  11041.347826  10490.0\n2014    384  13411.333333  12797.5\n2015    716  15086.536313  14103.5\n2016   1398  16531.655222  15699.5\n2017   1296  19205.839506  18299.5\n2018    635  22562.450394  21000.0\n2019   2598  31066.986143  27980.0\n2020    552  35359.445652  32450.5",
      "text/html": "<div>\n<style scoped>\n    .dataframe tbody tr th:only-of-type {\n        vertical-align: middle;\n    }\n\n    .dataframe tbody tr th {\n        vertical-align: top;\n    }\n\n    .dataframe thead th {\n        text-align: right;\n    }\n</style>\n<table border=\"1\" class=\"dataframe\">\n  <thead>\n    <tr style=\"text-align: right;\">\n      <th></th>\n      <th>count</th>\n      <th>mean</th>\n      <th>median</th>\n    </tr>\n    <tr>\n      <th>year</th>\n      <th></th>\n      <th></th>\n      <th></th>\n    </tr>\n  </thead>\n  <tbody>\n    <tr>\n      <th>1996</th>\n      <td>1</td>\n      <td>5995.000000</td>\n      <td>5995.0</td>\n    </tr>\n    <tr>\n      <th>1997</th>\n      <td>1</td>\n      <td>3950.000000</td>\n      <td>3950.0</td>\n    </tr>\n    <tr>\n      <th>1998</th>\n      <td>1</td>\n      <td>3950.000000</td>\n      <td>3950.0</td>\n    </tr>\n    <tr>\n      <th>1999</th>\n      <td>3</td>\n      <td>3980.000000</td>\n      <td>3995.0</td>\n    </tr>\n    <tr>\n      <th>2000</th>\n      <td>1</td>\n      <td>1550.000000</td>\n      <td>1550.0</td>\n    </tr>\n    <tr>\n      <th>2001</th>\n      <td>3</td>\n      <td>7333.333333</td>\n      <td>5950.0</td>\n    </tr>\n    <tr>\n      <th>2002</th>\n      <td>4</td>\n      <td>3893.500000</td>\n      <td>3494.5</td>\n    </tr>\n    <tr>\n      <th>2003</th>\n      <td>2</td>\n      <td>9222.500000</td>\n      <td>9222.5</td>\n    </tr>\n    <tr>\n      <th>2004</th>\n      <td>7</td>\n      <td>7932.857143</td>\n      <td>3495.0</td>\n    </tr>\n    <tr>\n      <th>2005</th>\n      <td>6</td>\n      <td>5390.166667</td>\n      <td>4685.0</td>\n    </tr>\n    <tr>\n      <th>2006</th>\n      <td>12</td>\n      <td>5445.250000</td>\n      <td>3942.5</td>\n    </tr>\n    <tr>\n      <th>2007</th>\n      <td>12</td>\n      <td>5027.833333</td>\n      <td>4597.5</td>\n    </tr>\n    <tr>\n      <th>2008</th>\n      <td>18</td>\n      <td>6004.666667</td>\n      <td>5272.5</td>\n    </tr>\n    <tr>\n      <th>2009</th>\n      <td>22</td>\n      <td>6506.090909</td>\n      <td>5845.0</td>\n    </tr>\n    <tr>\n      <th>2010</th>\n      <td>31</td>\n      <td>7374.129032</td>\n      <td>6495.0</td>\n    </tr>\n    <tr>\n      <th>2011</th>\n      <td>37</td>\n      <td>8860.297297</td>\n      <td>8470.0</td>\n    </tr>\n    <tr>\n      <th>2012</th>\n      <td>92</td>\n      <td>9432.923913</td>\n      <td>8990.0</td>\n    </tr>\n    <tr>\n      <th>2013</th>\n      <td>253</td>\n      <td>11041.347826</td>\n      <td>10490.0</td>\n    </tr>\n    <tr>\n      <th>2014</th>\n      <td>384</td>\n      <td>13411.333333</td>\n      <td>12797.5</td>\n    </tr>\n    <tr>\n      <th>2015</th>\n      <td>716</td>\n      <td>15086.536313</td>\n      <td>14103.5</td>\n    </tr>\n    <tr>\n      <th>2016</th>\n      <td>1398</td>\n      <td>16531.655222</td>\n      <td>15699.5</td>\n    </tr>\n    <tr>\n      <th>2017</th>\n      <td>1296</td>\n      <td>19205.839506</td>\n      <td>18299.5</td>\n    </tr>\n    <tr>\n      <th>2018</th>\n      <td>635</td>\n      <td>22562.450394</td>\n      <td>21000.0</td>\n    </tr>\n    <tr>\n      <th>2019</th>\n      <td>2598</td>\n      <td>31066.986143</td>\n      <td>27980.0</td>\n    </tr>\n    <tr>\n      <th>2020</th>\n      <td>552</td>\n      <td>35359.445652</td>\n      <td>32450.5</td>\n    </tr>\n  </tbody>\n</table>\n</div>"
     },
     "execution_count": 40,
     "metadata": {},
     "output_type": "execute_result"
    }
   ],
   "source": [
    "train.groupby('year')['price'].agg(['count', 'mean', 'median'])"
   ],
   "metadata": {
    "collapsed": false,
    "pycharm": {
     "name": "#%%\n"
    }
   }
  },
  {
   "cell_type": "markdown",
   "source": [
    "##### Создание датафрейма со средней стоимостью по годам"
   ],
   "metadata": {
    "collapsed": false,
    "pycharm": {
     "name": "#%% md\n"
    }
   }
  },
  {
   "cell_type": "code",
   "execution_count": 41,
   "outputs": [],
   "source": [
    "model_year_mean = train.groupby('year').price.mean().reset_index()"
   ],
   "metadata": {
    "collapsed": false,
    "pycharm": {
     "name": "#%%\n"
    }
   }
  },
  {
   "cell_type": "code",
   "execution_count": 42,
   "outputs": [
    {
     "data": {
      "text/plain": "    year         price\n0   1996   5995.000000\n1   1997   3950.000000\n2   1998   3950.000000\n3   1999   3980.000000\n4   2000   1550.000000\n5   2001   7333.333333\n6   2002   3893.500000\n7   2003   9222.500000\n8   2004   7932.857143\n9   2005   5390.166667\n10  2006   5445.250000\n11  2007   5027.833333\n12  2008   6004.666667\n13  2009   6506.090909\n14  2010   7374.129032\n15  2011   8860.297297\n16  2012   9432.923913\n17  2013  11041.347826\n18  2014  13411.333333\n19  2015  15086.536313\n20  2016  16531.655222\n21  2017  19205.839506\n22  2018  22562.450394\n23  2019  31066.986143\n24  2020  35359.445652",
      "text/html": "<div>\n<style scoped>\n    .dataframe tbody tr th:only-of-type {\n        vertical-align: middle;\n    }\n\n    .dataframe tbody tr th {\n        vertical-align: top;\n    }\n\n    .dataframe thead th {\n        text-align: right;\n    }\n</style>\n<table border=\"1\" class=\"dataframe\">\n  <thead>\n    <tr style=\"text-align: right;\">\n      <th></th>\n      <th>year</th>\n      <th>price</th>\n    </tr>\n  </thead>\n  <tbody>\n    <tr>\n      <th>0</th>\n      <td>1996</td>\n      <td>5995.000000</td>\n    </tr>\n    <tr>\n      <th>1</th>\n      <td>1997</td>\n      <td>3950.000000</td>\n    </tr>\n    <tr>\n      <th>2</th>\n      <td>1998</td>\n      <td>3950.000000</td>\n    </tr>\n    <tr>\n      <th>3</th>\n      <td>1999</td>\n      <td>3980.000000</td>\n    </tr>\n    <tr>\n      <th>4</th>\n      <td>2000</td>\n      <td>1550.000000</td>\n    </tr>\n    <tr>\n      <th>5</th>\n      <td>2001</td>\n      <td>7333.333333</td>\n    </tr>\n    <tr>\n      <th>6</th>\n      <td>2002</td>\n      <td>3893.500000</td>\n    </tr>\n    <tr>\n      <th>7</th>\n      <td>2003</td>\n      <td>9222.500000</td>\n    </tr>\n    <tr>\n      <th>8</th>\n      <td>2004</td>\n      <td>7932.857143</td>\n    </tr>\n    <tr>\n      <th>9</th>\n      <td>2005</td>\n      <td>5390.166667</td>\n    </tr>\n    <tr>\n      <th>10</th>\n      <td>2006</td>\n      <td>5445.250000</td>\n    </tr>\n    <tr>\n      <th>11</th>\n      <td>2007</td>\n      <td>5027.833333</td>\n    </tr>\n    <tr>\n      <th>12</th>\n      <td>2008</td>\n      <td>6004.666667</td>\n    </tr>\n    <tr>\n      <th>13</th>\n      <td>2009</td>\n      <td>6506.090909</td>\n    </tr>\n    <tr>\n      <th>14</th>\n      <td>2010</td>\n      <td>7374.129032</td>\n    </tr>\n    <tr>\n      <th>15</th>\n      <td>2011</td>\n      <td>8860.297297</td>\n    </tr>\n    <tr>\n      <th>16</th>\n      <td>2012</td>\n      <td>9432.923913</td>\n    </tr>\n    <tr>\n      <th>17</th>\n      <td>2013</td>\n      <td>11041.347826</td>\n    </tr>\n    <tr>\n      <th>18</th>\n      <td>2014</td>\n      <td>13411.333333</td>\n    </tr>\n    <tr>\n      <th>19</th>\n      <td>2015</td>\n      <td>15086.536313</td>\n    </tr>\n    <tr>\n      <th>20</th>\n      <td>2016</td>\n      <td>16531.655222</td>\n    </tr>\n    <tr>\n      <th>21</th>\n      <td>2017</td>\n      <td>19205.839506</td>\n    </tr>\n    <tr>\n      <th>22</th>\n      <td>2018</td>\n      <td>22562.450394</td>\n    </tr>\n    <tr>\n      <th>23</th>\n      <td>2019</td>\n      <td>31066.986143</td>\n    </tr>\n    <tr>\n      <th>24</th>\n      <td>2020</td>\n      <td>35359.445652</td>\n    </tr>\n  </tbody>\n</table>\n</div>"
     },
     "execution_count": 42,
     "metadata": {},
     "output_type": "execute_result"
    }
   ],
   "source": [
    "model_year_mean"
   ],
   "metadata": {
    "collapsed": false,
    "pycharm": {
     "name": "#%%\n"
    }
   }
  },
  {
   "cell_type": "code",
   "execution_count": 43,
   "outputs": [
    {
     "data": {
      "text/plain": "Index(['year', 'price'], dtype='object')"
     },
     "execution_count": 43,
     "metadata": {},
     "output_type": "execute_result"
    }
   ],
   "source": [
    "model_year_mean.columns"
   ],
   "metadata": {
    "collapsed": false,
    "pycharm": {
     "name": "#%%\n"
    }
   }
  },
  {
   "cell_type": "code",
   "execution_count": 44,
   "outputs": [],
   "source": [
    "model_year_mean.columns = ['year', 'price_pred_year_mean']"
   ],
   "metadata": {
    "collapsed": false,
    "pycharm": {
     "name": "#%%\n"
    }
   }
  },
  {
   "cell_type": "code",
   "execution_count": 45,
   "outputs": [
    {
     "data": {
      "text/plain": "    year  price_pred_year_mean\n0   1996           5995.000000\n1   1997           3950.000000\n2   1998           3950.000000\n3   1999           3980.000000\n4   2000           1550.000000\n5   2001           7333.333333\n6   2002           3893.500000\n7   2003           9222.500000\n8   2004           7932.857143\n9   2005           5390.166667\n10  2006           5445.250000\n11  2007           5027.833333\n12  2008           6004.666667\n13  2009           6506.090909\n14  2010           7374.129032\n15  2011           8860.297297\n16  2012           9432.923913\n17  2013          11041.347826\n18  2014          13411.333333\n19  2015          15086.536313\n20  2016          16531.655222\n21  2017          19205.839506\n22  2018          22562.450394\n23  2019          31066.986143\n24  2020          35359.445652",
      "text/html": "<div>\n<style scoped>\n    .dataframe tbody tr th:only-of-type {\n        vertical-align: middle;\n    }\n\n    .dataframe tbody tr th {\n        vertical-align: top;\n    }\n\n    .dataframe thead th {\n        text-align: right;\n    }\n</style>\n<table border=\"1\" class=\"dataframe\">\n  <thead>\n    <tr style=\"text-align: right;\">\n      <th></th>\n      <th>year</th>\n      <th>price_pred_year_mean</th>\n    </tr>\n  </thead>\n  <tbody>\n    <tr>\n      <th>0</th>\n      <td>1996</td>\n      <td>5995.000000</td>\n    </tr>\n    <tr>\n      <th>1</th>\n      <td>1997</td>\n      <td>3950.000000</td>\n    </tr>\n    <tr>\n      <th>2</th>\n      <td>1998</td>\n      <td>3950.000000</td>\n    </tr>\n    <tr>\n      <th>3</th>\n      <td>1999</td>\n      <td>3980.000000</td>\n    </tr>\n    <tr>\n      <th>4</th>\n      <td>2000</td>\n      <td>1550.000000</td>\n    </tr>\n    <tr>\n      <th>5</th>\n      <td>2001</td>\n      <td>7333.333333</td>\n    </tr>\n    <tr>\n      <th>6</th>\n      <td>2002</td>\n      <td>3893.500000</td>\n    </tr>\n    <tr>\n      <th>7</th>\n      <td>2003</td>\n      <td>9222.500000</td>\n    </tr>\n    <tr>\n      <th>8</th>\n      <td>2004</td>\n      <td>7932.857143</td>\n    </tr>\n    <tr>\n      <th>9</th>\n      <td>2005</td>\n      <td>5390.166667</td>\n    </tr>\n    <tr>\n      <th>10</th>\n      <td>2006</td>\n      <td>5445.250000</td>\n    </tr>\n    <tr>\n      <th>11</th>\n      <td>2007</td>\n      <td>5027.833333</td>\n    </tr>\n    <tr>\n      <th>12</th>\n      <td>2008</td>\n      <td>6004.666667</td>\n    </tr>\n    <tr>\n      <th>13</th>\n      <td>2009</td>\n      <td>6506.090909</td>\n    </tr>\n    <tr>\n      <th>14</th>\n      <td>2010</td>\n      <td>7374.129032</td>\n    </tr>\n    <tr>\n      <th>15</th>\n      <td>2011</td>\n      <td>8860.297297</td>\n    </tr>\n    <tr>\n      <th>16</th>\n      <td>2012</td>\n      <td>9432.923913</td>\n    </tr>\n    <tr>\n      <th>17</th>\n      <td>2013</td>\n      <td>11041.347826</td>\n    </tr>\n    <tr>\n      <th>18</th>\n      <td>2014</td>\n      <td>13411.333333</td>\n    </tr>\n    <tr>\n      <th>19</th>\n      <td>2015</td>\n      <td>15086.536313</td>\n    </tr>\n    <tr>\n      <th>20</th>\n      <td>2016</td>\n      <td>16531.655222</td>\n    </tr>\n    <tr>\n      <th>21</th>\n      <td>2017</td>\n      <td>19205.839506</td>\n    </tr>\n    <tr>\n      <th>22</th>\n      <td>2018</td>\n      <td>22562.450394</td>\n    </tr>\n    <tr>\n      <th>23</th>\n      <td>2019</td>\n      <td>31066.986143</td>\n    </tr>\n    <tr>\n      <th>24</th>\n      <td>2020</td>\n      <td>35359.445652</td>\n    </tr>\n  </tbody>\n</table>\n</div>"
     },
     "execution_count": 45,
     "metadata": {},
     "output_type": "execute_result"
    }
   ],
   "source": [
    "model_year_mean"
   ],
   "metadata": {
    "collapsed": false,
    "pycharm": {
     "name": "#%%\n"
    }
   }
  },
  {
   "cell_type": "markdown",
   "source": [
    "##### Джойним даный датафрейм к трейну"
   ],
   "metadata": {
    "collapsed": false,
    "pycharm": {
     "name": "#%% md\n"
    }
   }
  },
  {
   "cell_type": "code",
   "source": [
    "train = train.merge(model_year_mean, how='left', on='year')"
   ],
   "metadata": {
    "collapsed": false,
    "pycharm": {
     "name": "#%%\n"
    }
   },
   "execution_count": 46,
   "outputs": []
  },
  {
   "cell_type": "code",
   "execution_count": 47,
   "outputs": [
    {
     "data": {
      "text/plain": "       model  year  price transmission  mileage fuelType  tax   mpg  \\\n0   5 Series  2013  12791    Semi-Auto    55642   Diesel  145  55.4   \n1   1 Series  2019  23995    Semi-Auto     1527   Petrol  145  43.5   \n2         X5  2015  25995    Automatic    43344   Diesel  200  47.1   \n3   2 Series  2019  25000    Automatic     4000   Petrol  145  47.9   \n4   1 Series  2015  10950       Manual    33000   Diesel   20  72.4   \n\n   engineSize  price_pred_mean           err       err_abs  err_abs_pct  \\\n0         2.0     22668.821645   9877.821645   9877.821645     0.772248   \n1         1.5     22668.821645  -1326.178355   1326.178355     0.055269   \n2         3.0     22668.821645  -3326.178355   3326.178355     0.127955   \n3         2.0     22668.821645  -2331.178355   2331.178355     0.093247   \n4         1.5     22668.821645  11718.821645  11718.821645     1.070212   \n\n   price_pred_median  price_pred_year_mean  \n0            20022.0          11041.347826  \n1            20022.0          31066.986143  \n2            20022.0          15086.536313  \n3            20022.0          31066.986143  \n4            20022.0          15086.536313  ",
      "text/html": "<div>\n<style scoped>\n    .dataframe tbody tr th:only-of-type {\n        vertical-align: middle;\n    }\n\n    .dataframe tbody tr th {\n        vertical-align: top;\n    }\n\n    .dataframe thead th {\n        text-align: right;\n    }\n</style>\n<table border=\"1\" class=\"dataframe\">\n  <thead>\n    <tr style=\"text-align: right;\">\n      <th></th>\n      <th>model</th>\n      <th>year</th>\n      <th>price</th>\n      <th>transmission</th>\n      <th>mileage</th>\n      <th>fuelType</th>\n      <th>tax</th>\n      <th>mpg</th>\n      <th>engineSize</th>\n      <th>price_pred_mean</th>\n      <th>err</th>\n      <th>err_abs</th>\n      <th>err_abs_pct</th>\n      <th>price_pred_median</th>\n      <th>price_pred_year_mean</th>\n    </tr>\n  </thead>\n  <tbody>\n    <tr>\n      <th>0</th>\n      <td>5 Series</td>\n      <td>2013</td>\n      <td>12791</td>\n      <td>Semi-Auto</td>\n      <td>55642</td>\n      <td>Diesel</td>\n      <td>145</td>\n      <td>55.4</td>\n      <td>2.0</td>\n      <td>22668.821645</td>\n      <td>9877.821645</td>\n      <td>9877.821645</td>\n      <td>0.772248</td>\n      <td>20022.0</td>\n      <td>11041.347826</td>\n    </tr>\n    <tr>\n      <th>1</th>\n      <td>1 Series</td>\n      <td>2019</td>\n      <td>23995</td>\n      <td>Semi-Auto</td>\n      <td>1527</td>\n      <td>Petrol</td>\n      <td>145</td>\n      <td>43.5</td>\n      <td>1.5</td>\n      <td>22668.821645</td>\n      <td>-1326.178355</td>\n      <td>1326.178355</td>\n      <td>0.055269</td>\n      <td>20022.0</td>\n      <td>31066.986143</td>\n    </tr>\n    <tr>\n      <th>2</th>\n      <td>X5</td>\n      <td>2015</td>\n      <td>25995</td>\n      <td>Automatic</td>\n      <td>43344</td>\n      <td>Diesel</td>\n      <td>200</td>\n      <td>47.1</td>\n      <td>3.0</td>\n      <td>22668.821645</td>\n      <td>-3326.178355</td>\n      <td>3326.178355</td>\n      <td>0.127955</td>\n      <td>20022.0</td>\n      <td>15086.536313</td>\n    </tr>\n    <tr>\n      <th>3</th>\n      <td>2 Series</td>\n      <td>2019</td>\n      <td>25000</td>\n      <td>Automatic</td>\n      <td>4000</td>\n      <td>Petrol</td>\n      <td>145</td>\n      <td>47.9</td>\n      <td>2.0</td>\n      <td>22668.821645</td>\n      <td>-2331.178355</td>\n      <td>2331.178355</td>\n      <td>0.093247</td>\n      <td>20022.0</td>\n      <td>31066.986143</td>\n    </tr>\n    <tr>\n      <th>4</th>\n      <td>1 Series</td>\n      <td>2015</td>\n      <td>10950</td>\n      <td>Manual</td>\n      <td>33000</td>\n      <td>Diesel</td>\n      <td>20</td>\n      <td>72.4</td>\n      <td>1.5</td>\n      <td>22668.821645</td>\n      <td>11718.821645</td>\n      <td>11718.821645</td>\n      <td>1.070212</td>\n      <td>20022.0</td>\n      <td>15086.536313</td>\n    </tr>\n  </tbody>\n</table>\n</div>"
     },
     "execution_count": 47,
     "metadata": {},
     "output_type": "execute_result"
    }
   ],
   "source": [
    "train.head()"
   ],
   "metadata": {
    "collapsed": false,
    "pycharm": {
     "name": "#%%\n"
    }
   }
  },
  {
   "cell_type": "markdown",
   "source": [
    "##### Ошибка значительно СНИЗИЛАСЬ относительно train baseline"
   ],
   "metadata": {
    "collapsed": false,
    "pycharm": {
     "name": "#%% md\n"
    }
   }
  },
  {
   "cell_type": "code",
   "execution_count": 48,
   "outputs": [
    {
     "data": {
      "text/plain": "5474.243598515644"
     },
     "execution_count": 48,
     "metadata": {},
     "output_type": "execute_result"
    }
   ],
   "source": [
    "mean_absolute_error(train.price, train.price_pred_year_mean)"
   ],
   "metadata": {
    "collapsed": false,
    "pycharm": {
     "name": "#%%\n"
    }
   }
  },
  {
   "cell_type": "code",
   "execution_count": 49,
   "outputs": [
    {
     "data": {
      "text/plain": "0.2447228468704618"
     },
     "execution_count": 49,
     "metadata": {},
     "output_type": "execute_result"
    }
   ],
   "source": [
    "mean_absolute_percentage_error(train.price, train.price_pred_year_mean)"
   ],
   "metadata": {
    "collapsed": false,
    "pycharm": {
     "name": "#%%\n"
    }
   }
  },
  {
   "cell_type": "markdown",
   "source": [
    "##### Проверим то же самое на тесте"
   ],
   "metadata": {
    "collapsed": false,
    "pycharm": {
     "name": "#%% md\n"
    }
   }
  },
  {
   "cell_type": "code",
   "execution_count": 50,
   "outputs": [
    {
     "data": {
      "text/plain": "          model  year  price transmission  mileage fuelType  tax   mpg  \\\n8728   1 Series  2018  15300       Manual    36469   Diesel  150  50.4   \n761    5 Series  2014  15495    Semi-Auto    51565   Diesel  160  51.4   \n7209         X3  2019  39875    Semi-Auto     8988   Diesel  150  36.7   \n6685   2 Series  2019  21730    Automatic     5054   Petrol  145  39.2   \n8548   2 Series  2018  13799       Manual    13369   Diesel  145  65.7   \n\n      engineSize  price_pred_median  \n8728         1.5            20022.0  \n761          2.0            20022.0  \n7209         3.0            20022.0  \n6685         1.5            20022.0  \n8548         1.5            20022.0  ",
      "text/html": "<div>\n<style scoped>\n    .dataframe tbody tr th:only-of-type {\n        vertical-align: middle;\n    }\n\n    .dataframe tbody tr th {\n        vertical-align: top;\n    }\n\n    .dataframe thead th {\n        text-align: right;\n    }\n</style>\n<table border=\"1\" class=\"dataframe\">\n  <thead>\n    <tr style=\"text-align: right;\">\n      <th></th>\n      <th>model</th>\n      <th>year</th>\n      <th>price</th>\n      <th>transmission</th>\n      <th>mileage</th>\n      <th>fuelType</th>\n      <th>tax</th>\n      <th>mpg</th>\n      <th>engineSize</th>\n      <th>price_pred_median</th>\n    </tr>\n  </thead>\n  <tbody>\n    <tr>\n      <th>8728</th>\n      <td>1 Series</td>\n      <td>2018</td>\n      <td>15300</td>\n      <td>Manual</td>\n      <td>36469</td>\n      <td>Diesel</td>\n      <td>150</td>\n      <td>50.4</td>\n      <td>1.5</td>\n      <td>20022.0</td>\n    </tr>\n    <tr>\n      <th>761</th>\n      <td>5 Series</td>\n      <td>2014</td>\n      <td>15495</td>\n      <td>Semi-Auto</td>\n      <td>51565</td>\n      <td>Diesel</td>\n      <td>160</td>\n      <td>51.4</td>\n      <td>2.0</td>\n      <td>20022.0</td>\n    </tr>\n    <tr>\n      <th>7209</th>\n      <td>X3</td>\n      <td>2019</td>\n      <td>39875</td>\n      <td>Semi-Auto</td>\n      <td>8988</td>\n      <td>Diesel</td>\n      <td>150</td>\n      <td>36.7</td>\n      <td>3.0</td>\n      <td>20022.0</td>\n    </tr>\n    <tr>\n      <th>6685</th>\n      <td>2 Series</td>\n      <td>2019</td>\n      <td>21730</td>\n      <td>Automatic</td>\n      <td>5054</td>\n      <td>Petrol</td>\n      <td>145</td>\n      <td>39.2</td>\n      <td>1.5</td>\n      <td>20022.0</td>\n    </tr>\n    <tr>\n      <th>8548</th>\n      <td>2 Series</td>\n      <td>2018</td>\n      <td>13799</td>\n      <td>Manual</td>\n      <td>13369</td>\n      <td>Diesel</td>\n      <td>145</td>\n      <td>65.7</td>\n      <td>1.5</td>\n      <td>20022.0</td>\n    </tr>\n  </tbody>\n</table>\n</div>"
     },
     "execution_count": 50,
     "metadata": {},
     "output_type": "execute_result"
    }
   ],
   "source": [
    "test.head()"
   ],
   "metadata": {
    "collapsed": false,
    "pycharm": {
     "name": "#%%\n"
    }
   }
  },
  {
   "cell_type": "code",
   "execution_count": 51,
   "outputs": [],
   "source": [
    "test = test.merge(model_year_mean, how='left', on='year')"
   ],
   "metadata": {
    "collapsed": false,
    "pycharm": {
     "name": "#%%\n"
    }
   }
  },
  {
   "cell_type": "code",
   "execution_count": 52,
   "outputs": [
    {
     "data": {
      "text/plain": "       model  year  price transmission  mileage fuelType  tax   mpg  \\\n0   1 Series  2018  15300       Manual    36469   Diesel  150  50.4   \n1   5 Series  2014  15495    Semi-Auto    51565   Diesel  160  51.4   \n2         X3  2019  39875    Semi-Auto     8988   Diesel  150  36.7   \n3   2 Series  2019  21730    Automatic     5054   Petrol  145  39.2   \n4   2 Series  2018  13799       Manual    13369   Diesel  145  65.7   \n\n   engineSize  price_pred_median  price_pred_year_mean  \n0         1.5            20022.0          22562.450394  \n1         2.0            20022.0          13411.333333  \n2         3.0            20022.0          31066.986143  \n3         1.5            20022.0          31066.986143  \n4         1.5            20022.0          22562.450394  ",
      "text/html": "<div>\n<style scoped>\n    .dataframe tbody tr th:only-of-type {\n        vertical-align: middle;\n    }\n\n    .dataframe tbody tr th {\n        vertical-align: top;\n    }\n\n    .dataframe thead th {\n        text-align: right;\n    }\n</style>\n<table border=\"1\" class=\"dataframe\">\n  <thead>\n    <tr style=\"text-align: right;\">\n      <th></th>\n      <th>model</th>\n      <th>year</th>\n      <th>price</th>\n      <th>transmission</th>\n      <th>mileage</th>\n      <th>fuelType</th>\n      <th>tax</th>\n      <th>mpg</th>\n      <th>engineSize</th>\n      <th>price_pred_median</th>\n      <th>price_pred_year_mean</th>\n    </tr>\n  </thead>\n  <tbody>\n    <tr>\n      <th>0</th>\n      <td>1 Series</td>\n      <td>2018</td>\n      <td>15300</td>\n      <td>Manual</td>\n      <td>36469</td>\n      <td>Diesel</td>\n      <td>150</td>\n      <td>50.4</td>\n      <td>1.5</td>\n      <td>20022.0</td>\n      <td>22562.450394</td>\n    </tr>\n    <tr>\n      <th>1</th>\n      <td>5 Series</td>\n      <td>2014</td>\n      <td>15495</td>\n      <td>Semi-Auto</td>\n      <td>51565</td>\n      <td>Diesel</td>\n      <td>160</td>\n      <td>51.4</td>\n      <td>2.0</td>\n      <td>20022.0</td>\n      <td>13411.333333</td>\n    </tr>\n    <tr>\n      <th>2</th>\n      <td>X3</td>\n      <td>2019</td>\n      <td>39875</td>\n      <td>Semi-Auto</td>\n      <td>8988</td>\n      <td>Diesel</td>\n      <td>150</td>\n      <td>36.7</td>\n      <td>3.0</td>\n      <td>20022.0</td>\n      <td>31066.986143</td>\n    </tr>\n    <tr>\n      <th>3</th>\n      <td>2 Series</td>\n      <td>2019</td>\n      <td>21730</td>\n      <td>Automatic</td>\n      <td>5054</td>\n      <td>Petrol</td>\n      <td>145</td>\n      <td>39.2</td>\n      <td>1.5</td>\n      <td>20022.0</td>\n      <td>31066.986143</td>\n    </tr>\n    <tr>\n      <th>4</th>\n      <td>2 Series</td>\n      <td>2018</td>\n      <td>13799</td>\n      <td>Manual</td>\n      <td>13369</td>\n      <td>Diesel</td>\n      <td>145</td>\n      <td>65.7</td>\n      <td>1.5</td>\n      <td>20022.0</td>\n      <td>22562.450394</td>\n    </tr>\n  </tbody>\n</table>\n</div>"
     },
     "execution_count": 52,
     "metadata": {},
     "output_type": "execute_result"
    }
   ],
   "source": [
    "test.head()"
   ],
   "metadata": {
    "collapsed": false,
    "pycharm": {
     "name": "#%%\n"
    }
   }
  },
  {
   "cell_type": "code",
   "execution_count": 53,
   "outputs": [
    {
     "data": {
      "text/plain": "model                   0.0\nyear                    0.0\nprice                   0.0\ntransmission            0.0\nmileage                 0.0\nfuelType                0.0\ntax                     0.0\nmpg                     0.0\nengineSize              0.0\nprice_pred_median       0.0\nprice_pred_year_mean    0.0\ndtype: float64"
     },
     "execution_count": 53,
     "metadata": {},
     "output_type": "execute_result"
    }
   ],
   "source": [
    "test.isna().mean()  # Проверка на пропуски"
   ],
   "metadata": {
    "collapsed": false,
    "pycharm": {
     "name": "#%%\n"
    }
   }
  },
  {
   "cell_type": "code",
   "execution_count": 54,
   "outputs": [
    {
     "data": {
      "text/plain": "5426.271071211102"
     },
     "execution_count": 54,
     "metadata": {},
     "output_type": "execute_result"
    }
   ],
   "source": [
    "mean_absolute_error(test.price, test.price_pred_year_mean)"
   ],
   "metadata": {
    "collapsed": false,
    "pycharm": {
     "name": "#%%\n"
    }
   }
  },
  {
   "cell_type": "code",
   "execution_count": 55,
   "outputs": [
    {
     "data": {
      "text/plain": "0.23933940428873632"
     },
     "execution_count": 55,
     "metadata": {},
     "output_type": "execute_result"
    }
   ],
   "source": [
    "mean_absolute_percentage_error(test.price, test.price_pred_year_mean)"
   ],
   "metadata": {
    "collapsed": false,
    "pycharm": {
     "name": "#%%\n"
    }
   }
  },
  {
   "cell_type": "markdown",
   "source": [
    "#### Большие улучшения по сравнению с test baseline↓: MAE(8211 → 5426), MAPE(0.409 → 0.239)"
   ],
   "metadata": {
    "collapsed": false
   }
  },
  {
   "cell_type": "code",
   "execution_count": 56,
   "outputs": [
    {
     "data": {
      "text/plain": "8211.845697329376"
     },
     "execution_count": 56,
     "metadata": {},
     "output_type": "execute_result"
    }
   ],
   "source": [
    "mean_absolute_error(test.price, test.price_pred_median)"
   ],
   "metadata": {
    "collapsed": false,
    "pycharm": {
     "name": "#%%\n"
    }
   }
  },
  {
   "cell_type": "code",
   "execution_count": 57,
   "outputs": [
    {
     "data": {
      "text/plain": "0.409212791738344"
     },
     "execution_count": 57,
     "metadata": {},
     "output_type": "execute_result"
    }
   ],
   "source": [
    "mean_absolute_percentage_error(test.price, test.price_pred_median)"
   ],
   "metadata": {
    "collapsed": false,
    "pycharm": {
     "name": "#%%\n"
    }
   }
  },
  {
   "cell_type": "markdown",
   "source": [
    "## Алгоритм: медиана по году"
   ],
   "metadata": {
    "collapsed": false,
    "pycharm": {
     "name": "#%% md\n"
    }
   }
  },
  {
   "cell_type": "markdown",
   "source": [
    "##### Суть: Предсказать стоимость машины на основе медианной стоимости для её года"
   ],
   "metadata": {
    "collapsed": false,
    "pycharm": {
     "name": "#%% md\n"
    }
   }
  },
  {
   "cell_type": "markdown",
   "source": [
    "##### Создание датафрейма с медианной стоимостью по годам"
   ],
   "metadata": {
    "collapsed": false,
    "pycharm": {
     "name": "#%% md\n"
    }
   }
  },
  {
   "cell_type": "code",
   "execution_count": 58,
   "outputs": [],
   "source": [
    "model_year_median = train.groupby('year')['price'].median().reset_index()"
   ],
   "metadata": {
    "collapsed": false,
    "pycharm": {
     "name": "#%%\n"
    }
   }
  },
  {
   "cell_type": "code",
   "execution_count": 59,
   "outputs": [
    {
     "data": {
      "text/plain": "    year    price\n0   1996   5995.0\n1   1997   3950.0\n2   1998   3950.0\n3   1999   3995.0\n4   2000   1550.0\n5   2001   5950.0\n6   2002   3494.5\n7   2003   9222.5\n8   2004   3495.0\n9   2005   4685.0\n10  2006   3942.5\n11  2007   4597.5\n12  2008   5272.5\n13  2009   5845.0\n14  2010   6495.0\n15  2011   8470.0\n16  2012   8990.0\n17  2013  10490.0\n18  2014  12797.5\n19  2015  14103.5\n20  2016  15699.5\n21  2017  18299.5\n22  2018  21000.0\n23  2019  27980.0\n24  2020  32450.5",
      "text/html": "<div>\n<style scoped>\n    .dataframe tbody tr th:only-of-type {\n        vertical-align: middle;\n    }\n\n    .dataframe tbody tr th {\n        vertical-align: top;\n    }\n\n    .dataframe thead th {\n        text-align: right;\n    }\n</style>\n<table border=\"1\" class=\"dataframe\">\n  <thead>\n    <tr style=\"text-align: right;\">\n      <th></th>\n      <th>year</th>\n      <th>price</th>\n    </tr>\n  </thead>\n  <tbody>\n    <tr>\n      <th>0</th>\n      <td>1996</td>\n      <td>5995.0</td>\n    </tr>\n    <tr>\n      <th>1</th>\n      <td>1997</td>\n      <td>3950.0</td>\n    </tr>\n    <tr>\n      <th>2</th>\n      <td>1998</td>\n      <td>3950.0</td>\n    </tr>\n    <tr>\n      <th>3</th>\n      <td>1999</td>\n      <td>3995.0</td>\n    </tr>\n    <tr>\n      <th>4</th>\n      <td>2000</td>\n      <td>1550.0</td>\n    </tr>\n    <tr>\n      <th>5</th>\n      <td>2001</td>\n      <td>5950.0</td>\n    </tr>\n    <tr>\n      <th>6</th>\n      <td>2002</td>\n      <td>3494.5</td>\n    </tr>\n    <tr>\n      <th>7</th>\n      <td>2003</td>\n      <td>9222.5</td>\n    </tr>\n    <tr>\n      <th>8</th>\n      <td>2004</td>\n      <td>3495.0</td>\n    </tr>\n    <tr>\n      <th>9</th>\n      <td>2005</td>\n      <td>4685.0</td>\n    </tr>\n    <tr>\n      <th>10</th>\n      <td>2006</td>\n      <td>3942.5</td>\n    </tr>\n    <tr>\n      <th>11</th>\n      <td>2007</td>\n      <td>4597.5</td>\n    </tr>\n    <tr>\n      <th>12</th>\n      <td>2008</td>\n      <td>5272.5</td>\n    </tr>\n    <tr>\n      <th>13</th>\n      <td>2009</td>\n      <td>5845.0</td>\n    </tr>\n    <tr>\n      <th>14</th>\n      <td>2010</td>\n      <td>6495.0</td>\n    </tr>\n    <tr>\n      <th>15</th>\n      <td>2011</td>\n      <td>8470.0</td>\n    </tr>\n    <tr>\n      <th>16</th>\n      <td>2012</td>\n      <td>8990.0</td>\n    </tr>\n    <tr>\n      <th>17</th>\n      <td>2013</td>\n      <td>10490.0</td>\n    </tr>\n    <tr>\n      <th>18</th>\n      <td>2014</td>\n      <td>12797.5</td>\n    </tr>\n    <tr>\n      <th>19</th>\n      <td>2015</td>\n      <td>14103.5</td>\n    </tr>\n    <tr>\n      <th>20</th>\n      <td>2016</td>\n      <td>15699.5</td>\n    </tr>\n    <tr>\n      <th>21</th>\n      <td>2017</td>\n      <td>18299.5</td>\n    </tr>\n    <tr>\n      <th>22</th>\n      <td>2018</td>\n      <td>21000.0</td>\n    </tr>\n    <tr>\n      <th>23</th>\n      <td>2019</td>\n      <td>27980.0</td>\n    </tr>\n    <tr>\n      <th>24</th>\n      <td>2020</td>\n      <td>32450.5</td>\n    </tr>\n  </tbody>\n</table>\n</div>"
     },
     "execution_count": 59,
     "metadata": {},
     "output_type": "execute_result"
    }
   ],
   "source": [
    "model_year_median"
   ],
   "metadata": {
    "collapsed": false,
    "pycharm": {
     "name": "#%%\n"
    }
   }
  },
  {
   "cell_type": "code",
   "execution_count": 60,
   "outputs": [
    {
     "data": {
      "text/plain": "Index(['year', 'price'], dtype='object')"
     },
     "execution_count": 60,
     "metadata": {},
     "output_type": "execute_result"
    }
   ],
   "source": [
    "model_year_median.columns"
   ],
   "metadata": {
    "collapsed": false,
    "pycharm": {
     "name": "#%%\n"
    }
   }
  },
  {
   "cell_type": "code",
   "execution_count": 61,
   "outputs": [],
   "source": [
    "model_year_median = model_year_median.rename({'price': 'price_pred_year_median'}, axis=1)"
   ],
   "metadata": {
    "collapsed": false,
    "pycharm": {
     "name": "#%%\n"
    }
   }
  },
  {
   "cell_type": "code",
   "execution_count": 62,
   "outputs": [
    {
     "data": {
      "text/plain": "    year  price_pred_year_median\n0   1996                  5995.0\n1   1997                  3950.0\n2   1998                  3950.0\n3   1999                  3995.0\n4   2000                  1550.0\n5   2001                  5950.0\n6   2002                  3494.5\n7   2003                  9222.5\n8   2004                  3495.0\n9   2005                  4685.0\n10  2006                  3942.5\n11  2007                  4597.5\n12  2008                  5272.5\n13  2009                  5845.0\n14  2010                  6495.0\n15  2011                  8470.0\n16  2012                  8990.0\n17  2013                 10490.0\n18  2014                 12797.5\n19  2015                 14103.5\n20  2016                 15699.5\n21  2017                 18299.5\n22  2018                 21000.0\n23  2019                 27980.0\n24  2020                 32450.5",
      "text/html": "<div>\n<style scoped>\n    .dataframe tbody tr th:only-of-type {\n        vertical-align: middle;\n    }\n\n    .dataframe tbody tr th {\n        vertical-align: top;\n    }\n\n    .dataframe thead th {\n        text-align: right;\n    }\n</style>\n<table border=\"1\" class=\"dataframe\">\n  <thead>\n    <tr style=\"text-align: right;\">\n      <th></th>\n      <th>year</th>\n      <th>price_pred_year_median</th>\n    </tr>\n  </thead>\n  <tbody>\n    <tr>\n      <th>0</th>\n      <td>1996</td>\n      <td>5995.0</td>\n    </tr>\n    <tr>\n      <th>1</th>\n      <td>1997</td>\n      <td>3950.0</td>\n    </tr>\n    <tr>\n      <th>2</th>\n      <td>1998</td>\n      <td>3950.0</td>\n    </tr>\n    <tr>\n      <th>3</th>\n      <td>1999</td>\n      <td>3995.0</td>\n    </tr>\n    <tr>\n      <th>4</th>\n      <td>2000</td>\n      <td>1550.0</td>\n    </tr>\n    <tr>\n      <th>5</th>\n      <td>2001</td>\n      <td>5950.0</td>\n    </tr>\n    <tr>\n      <th>6</th>\n      <td>2002</td>\n      <td>3494.5</td>\n    </tr>\n    <tr>\n      <th>7</th>\n      <td>2003</td>\n      <td>9222.5</td>\n    </tr>\n    <tr>\n      <th>8</th>\n      <td>2004</td>\n      <td>3495.0</td>\n    </tr>\n    <tr>\n      <th>9</th>\n      <td>2005</td>\n      <td>4685.0</td>\n    </tr>\n    <tr>\n      <th>10</th>\n      <td>2006</td>\n      <td>3942.5</td>\n    </tr>\n    <tr>\n      <th>11</th>\n      <td>2007</td>\n      <td>4597.5</td>\n    </tr>\n    <tr>\n      <th>12</th>\n      <td>2008</td>\n      <td>5272.5</td>\n    </tr>\n    <tr>\n      <th>13</th>\n      <td>2009</td>\n      <td>5845.0</td>\n    </tr>\n    <tr>\n      <th>14</th>\n      <td>2010</td>\n      <td>6495.0</td>\n    </tr>\n    <tr>\n      <th>15</th>\n      <td>2011</td>\n      <td>8470.0</td>\n    </tr>\n    <tr>\n      <th>16</th>\n      <td>2012</td>\n      <td>8990.0</td>\n    </tr>\n    <tr>\n      <th>17</th>\n      <td>2013</td>\n      <td>10490.0</td>\n    </tr>\n    <tr>\n      <th>18</th>\n      <td>2014</td>\n      <td>12797.5</td>\n    </tr>\n    <tr>\n      <th>19</th>\n      <td>2015</td>\n      <td>14103.5</td>\n    </tr>\n    <tr>\n      <th>20</th>\n      <td>2016</td>\n      <td>15699.5</td>\n    </tr>\n    <tr>\n      <th>21</th>\n      <td>2017</td>\n      <td>18299.5</td>\n    </tr>\n    <tr>\n      <th>22</th>\n      <td>2018</td>\n      <td>21000.0</td>\n    </tr>\n    <tr>\n      <th>23</th>\n      <td>2019</td>\n      <td>27980.0</td>\n    </tr>\n    <tr>\n      <th>24</th>\n      <td>2020</td>\n      <td>32450.5</td>\n    </tr>\n  </tbody>\n</table>\n</div>"
     },
     "execution_count": 62,
     "metadata": {},
     "output_type": "execute_result"
    }
   ],
   "source": [
    "model_year_median"
   ],
   "metadata": {
    "collapsed": false,
    "pycharm": {
     "name": "#%%\n"
    }
   }
  },
  {
   "cell_type": "code",
   "execution_count": 63,
   "outputs": [
    {
     "data": {
      "text/plain": "       model  year  price transmission  mileage fuelType  tax   mpg  \\\n0   5 Series  2013  12791    Semi-Auto    55642   Diesel  145  55.4   \n1   1 Series  2019  23995    Semi-Auto     1527   Petrol  145  43.5   \n2         X5  2015  25995    Automatic    43344   Diesel  200  47.1   \n3   2 Series  2019  25000    Automatic     4000   Petrol  145  47.9   \n4   1 Series  2015  10950       Manual    33000   Diesel   20  72.4   \n\n   engineSize  price_pred_mean           err       err_abs  err_abs_pct  \\\n0         2.0     22668.821645   9877.821645   9877.821645     0.772248   \n1         1.5     22668.821645  -1326.178355   1326.178355     0.055269   \n2         3.0     22668.821645  -3326.178355   3326.178355     0.127955   \n3         2.0     22668.821645  -2331.178355   2331.178355     0.093247   \n4         1.5     22668.821645  11718.821645  11718.821645     1.070212   \n\n   price_pred_median  price_pred_year_mean  \n0            20022.0          11041.347826  \n1            20022.0          31066.986143  \n2            20022.0          15086.536313  \n3            20022.0          31066.986143  \n4            20022.0          15086.536313  ",
      "text/html": "<div>\n<style scoped>\n    .dataframe tbody tr th:only-of-type {\n        vertical-align: middle;\n    }\n\n    .dataframe tbody tr th {\n        vertical-align: top;\n    }\n\n    .dataframe thead th {\n        text-align: right;\n    }\n</style>\n<table border=\"1\" class=\"dataframe\">\n  <thead>\n    <tr style=\"text-align: right;\">\n      <th></th>\n      <th>model</th>\n      <th>year</th>\n      <th>price</th>\n      <th>transmission</th>\n      <th>mileage</th>\n      <th>fuelType</th>\n      <th>tax</th>\n      <th>mpg</th>\n      <th>engineSize</th>\n      <th>price_pred_mean</th>\n      <th>err</th>\n      <th>err_abs</th>\n      <th>err_abs_pct</th>\n      <th>price_pred_median</th>\n      <th>price_pred_year_mean</th>\n    </tr>\n  </thead>\n  <tbody>\n    <tr>\n      <th>0</th>\n      <td>5 Series</td>\n      <td>2013</td>\n      <td>12791</td>\n      <td>Semi-Auto</td>\n      <td>55642</td>\n      <td>Diesel</td>\n      <td>145</td>\n      <td>55.4</td>\n      <td>2.0</td>\n      <td>22668.821645</td>\n      <td>9877.821645</td>\n      <td>9877.821645</td>\n      <td>0.772248</td>\n      <td>20022.0</td>\n      <td>11041.347826</td>\n    </tr>\n    <tr>\n      <th>1</th>\n      <td>1 Series</td>\n      <td>2019</td>\n      <td>23995</td>\n      <td>Semi-Auto</td>\n      <td>1527</td>\n      <td>Petrol</td>\n      <td>145</td>\n      <td>43.5</td>\n      <td>1.5</td>\n      <td>22668.821645</td>\n      <td>-1326.178355</td>\n      <td>1326.178355</td>\n      <td>0.055269</td>\n      <td>20022.0</td>\n      <td>31066.986143</td>\n    </tr>\n    <tr>\n      <th>2</th>\n      <td>X5</td>\n      <td>2015</td>\n      <td>25995</td>\n      <td>Automatic</td>\n      <td>43344</td>\n      <td>Diesel</td>\n      <td>200</td>\n      <td>47.1</td>\n      <td>3.0</td>\n      <td>22668.821645</td>\n      <td>-3326.178355</td>\n      <td>3326.178355</td>\n      <td>0.127955</td>\n      <td>20022.0</td>\n      <td>15086.536313</td>\n    </tr>\n    <tr>\n      <th>3</th>\n      <td>2 Series</td>\n      <td>2019</td>\n      <td>25000</td>\n      <td>Automatic</td>\n      <td>4000</td>\n      <td>Petrol</td>\n      <td>145</td>\n      <td>47.9</td>\n      <td>2.0</td>\n      <td>22668.821645</td>\n      <td>-2331.178355</td>\n      <td>2331.178355</td>\n      <td>0.093247</td>\n      <td>20022.0</td>\n      <td>31066.986143</td>\n    </tr>\n    <tr>\n      <th>4</th>\n      <td>1 Series</td>\n      <td>2015</td>\n      <td>10950</td>\n      <td>Manual</td>\n      <td>33000</td>\n      <td>Diesel</td>\n      <td>20</td>\n      <td>72.4</td>\n      <td>1.5</td>\n      <td>22668.821645</td>\n      <td>11718.821645</td>\n      <td>11718.821645</td>\n      <td>1.070212</td>\n      <td>20022.0</td>\n      <td>15086.536313</td>\n    </tr>\n  </tbody>\n</table>\n</div>"
     },
     "execution_count": 63,
     "metadata": {},
     "output_type": "execute_result"
    }
   ],
   "source": [
    "train.head()"
   ],
   "metadata": {
    "collapsed": false,
    "pycharm": {
     "name": "#%%\n"
    }
   }
  },
  {
   "cell_type": "code",
   "execution_count": 64,
   "outputs": [],
   "source": [
    "train = train.merge(model_year_median, how='left', on='year')"
   ],
   "metadata": {
    "collapsed": false,
    "pycharm": {
     "name": "#%%\n"
    }
   }
  },
  {
   "cell_type": "code",
   "execution_count": 65,
   "outputs": [
    {
     "data": {
      "text/plain": "          model  year  price transmission  mileage fuelType  tax   mpg  \\\n0      5 Series  2013  12791    Semi-Auto    55642   Diesel  145  55.4   \n1      1 Series  2019  23995    Semi-Auto     1527   Petrol  145  43.5   \n2            X5  2015  25995    Automatic    43344   Diesel  200  47.1   \n3      2 Series  2019  25000    Automatic     4000   Petrol  145  47.9   \n4      1 Series  2015  10950       Manual    33000   Diesel   20  72.4   \n...         ...   ...    ...          ...      ...      ...  ...   ...   \n8080   3 Series  2018  17995    Semi-Auto    40456   Diesel  145  64.2   \n8081   1 Series  2016  19950    Semi-Auto    23210   Petrol  200  39.8   \n8082         X2  2019  25450    Semi-Auto     5652   Diesel  145  47.9   \n8083         X1  2016  19850    Semi-Auto    14542   Diesel  125  60.1   \n8084   1 Series  2016  15745    Automatic    17237   Petrol  125  54.3   \n\n      engineSize  price_pred_mean           err       err_abs  err_abs_pct  \\\n0            2.0     22668.821645   9877.821645   9877.821645     0.772248   \n1            1.5     22668.821645  -1326.178355   1326.178355     0.055269   \n2            3.0     22668.821645  -3326.178355   3326.178355     0.127955   \n3            2.0     22668.821645  -2331.178355   2331.178355     0.093247   \n4            1.5     22668.821645  11718.821645  11718.821645     1.070212   \n...          ...              ...           ...           ...          ...   \n8080         2.0     22668.821645   4673.821645   4673.821645     0.259729   \n8081         3.0     22668.821645   2718.821645   2718.821645     0.136282   \n8082         2.0     22668.821645  -2781.178355   2781.178355     0.109280   \n8083         2.0     22668.821645   2818.821645   2818.821645     0.142006   \n8084         1.5     22668.821645   6923.821645   6923.821645     0.439747   \n\n      price_pred_median  price_pred_year_mean  price_pred_year_median  \n0               20022.0          11041.347826                 10490.0  \n1               20022.0          31066.986143                 27980.0  \n2               20022.0          15086.536313                 14103.5  \n3               20022.0          31066.986143                 27980.0  \n4               20022.0          15086.536313                 14103.5  \n...                 ...                   ...                     ...  \n8080            20022.0          22562.450394                 21000.0  \n8081            20022.0          16531.655222                 15699.5  \n8082            20022.0          31066.986143                 27980.0  \n8083            20022.0          16531.655222                 15699.5  \n8084            20022.0          16531.655222                 15699.5  \n\n[8085 rows x 16 columns]",
      "text/html": "<div>\n<style scoped>\n    .dataframe tbody tr th:only-of-type {\n        vertical-align: middle;\n    }\n\n    .dataframe tbody tr th {\n        vertical-align: top;\n    }\n\n    .dataframe thead th {\n        text-align: right;\n    }\n</style>\n<table border=\"1\" class=\"dataframe\">\n  <thead>\n    <tr style=\"text-align: right;\">\n      <th></th>\n      <th>model</th>\n      <th>year</th>\n      <th>price</th>\n      <th>transmission</th>\n      <th>mileage</th>\n      <th>fuelType</th>\n      <th>tax</th>\n      <th>mpg</th>\n      <th>engineSize</th>\n      <th>price_pred_mean</th>\n      <th>err</th>\n      <th>err_abs</th>\n      <th>err_abs_pct</th>\n      <th>price_pred_median</th>\n      <th>price_pred_year_mean</th>\n      <th>price_pred_year_median</th>\n    </tr>\n  </thead>\n  <tbody>\n    <tr>\n      <th>0</th>\n      <td>5 Series</td>\n      <td>2013</td>\n      <td>12791</td>\n      <td>Semi-Auto</td>\n      <td>55642</td>\n      <td>Diesel</td>\n      <td>145</td>\n      <td>55.4</td>\n      <td>2.0</td>\n      <td>22668.821645</td>\n      <td>9877.821645</td>\n      <td>9877.821645</td>\n      <td>0.772248</td>\n      <td>20022.0</td>\n      <td>11041.347826</td>\n      <td>10490.0</td>\n    </tr>\n    <tr>\n      <th>1</th>\n      <td>1 Series</td>\n      <td>2019</td>\n      <td>23995</td>\n      <td>Semi-Auto</td>\n      <td>1527</td>\n      <td>Petrol</td>\n      <td>145</td>\n      <td>43.5</td>\n      <td>1.5</td>\n      <td>22668.821645</td>\n      <td>-1326.178355</td>\n      <td>1326.178355</td>\n      <td>0.055269</td>\n      <td>20022.0</td>\n      <td>31066.986143</td>\n      <td>27980.0</td>\n    </tr>\n    <tr>\n      <th>2</th>\n      <td>X5</td>\n      <td>2015</td>\n      <td>25995</td>\n      <td>Automatic</td>\n      <td>43344</td>\n      <td>Diesel</td>\n      <td>200</td>\n      <td>47.1</td>\n      <td>3.0</td>\n      <td>22668.821645</td>\n      <td>-3326.178355</td>\n      <td>3326.178355</td>\n      <td>0.127955</td>\n      <td>20022.0</td>\n      <td>15086.536313</td>\n      <td>14103.5</td>\n    </tr>\n    <tr>\n      <th>3</th>\n      <td>2 Series</td>\n      <td>2019</td>\n      <td>25000</td>\n      <td>Automatic</td>\n      <td>4000</td>\n      <td>Petrol</td>\n      <td>145</td>\n      <td>47.9</td>\n      <td>2.0</td>\n      <td>22668.821645</td>\n      <td>-2331.178355</td>\n      <td>2331.178355</td>\n      <td>0.093247</td>\n      <td>20022.0</td>\n      <td>31066.986143</td>\n      <td>27980.0</td>\n    </tr>\n    <tr>\n      <th>4</th>\n      <td>1 Series</td>\n      <td>2015</td>\n      <td>10950</td>\n      <td>Manual</td>\n      <td>33000</td>\n      <td>Diesel</td>\n      <td>20</td>\n      <td>72.4</td>\n      <td>1.5</td>\n      <td>22668.821645</td>\n      <td>11718.821645</td>\n      <td>11718.821645</td>\n      <td>1.070212</td>\n      <td>20022.0</td>\n      <td>15086.536313</td>\n      <td>14103.5</td>\n    </tr>\n    <tr>\n      <th>...</th>\n      <td>...</td>\n      <td>...</td>\n      <td>...</td>\n      <td>...</td>\n      <td>...</td>\n      <td>...</td>\n      <td>...</td>\n      <td>...</td>\n      <td>...</td>\n      <td>...</td>\n      <td>...</td>\n      <td>...</td>\n      <td>...</td>\n      <td>...</td>\n      <td>...</td>\n      <td>...</td>\n    </tr>\n    <tr>\n      <th>8080</th>\n      <td>3 Series</td>\n      <td>2018</td>\n      <td>17995</td>\n      <td>Semi-Auto</td>\n      <td>40456</td>\n      <td>Diesel</td>\n      <td>145</td>\n      <td>64.2</td>\n      <td>2.0</td>\n      <td>22668.821645</td>\n      <td>4673.821645</td>\n      <td>4673.821645</td>\n      <td>0.259729</td>\n      <td>20022.0</td>\n      <td>22562.450394</td>\n      <td>21000.0</td>\n    </tr>\n    <tr>\n      <th>8081</th>\n      <td>1 Series</td>\n      <td>2016</td>\n      <td>19950</td>\n      <td>Semi-Auto</td>\n      <td>23210</td>\n      <td>Petrol</td>\n      <td>200</td>\n      <td>39.8</td>\n      <td>3.0</td>\n      <td>22668.821645</td>\n      <td>2718.821645</td>\n      <td>2718.821645</td>\n      <td>0.136282</td>\n      <td>20022.0</td>\n      <td>16531.655222</td>\n      <td>15699.5</td>\n    </tr>\n    <tr>\n      <th>8082</th>\n      <td>X2</td>\n      <td>2019</td>\n      <td>25450</td>\n      <td>Semi-Auto</td>\n      <td>5652</td>\n      <td>Diesel</td>\n      <td>145</td>\n      <td>47.9</td>\n      <td>2.0</td>\n      <td>22668.821645</td>\n      <td>-2781.178355</td>\n      <td>2781.178355</td>\n      <td>0.109280</td>\n      <td>20022.0</td>\n      <td>31066.986143</td>\n      <td>27980.0</td>\n    </tr>\n    <tr>\n      <th>8083</th>\n      <td>X1</td>\n      <td>2016</td>\n      <td>19850</td>\n      <td>Semi-Auto</td>\n      <td>14542</td>\n      <td>Diesel</td>\n      <td>125</td>\n      <td>60.1</td>\n      <td>2.0</td>\n      <td>22668.821645</td>\n      <td>2818.821645</td>\n      <td>2818.821645</td>\n      <td>0.142006</td>\n      <td>20022.0</td>\n      <td>16531.655222</td>\n      <td>15699.5</td>\n    </tr>\n    <tr>\n      <th>8084</th>\n      <td>1 Series</td>\n      <td>2016</td>\n      <td>15745</td>\n      <td>Automatic</td>\n      <td>17237</td>\n      <td>Petrol</td>\n      <td>125</td>\n      <td>54.3</td>\n      <td>1.5</td>\n      <td>22668.821645</td>\n      <td>6923.821645</td>\n      <td>6923.821645</td>\n      <td>0.439747</td>\n      <td>20022.0</td>\n      <td>16531.655222</td>\n      <td>15699.5</td>\n    </tr>\n  </tbody>\n</table>\n<p>8085 rows × 16 columns</p>\n</div>"
     },
     "execution_count": 65,
     "metadata": {},
     "output_type": "execute_result"
    }
   ],
   "source": [
    "train"
   ],
   "metadata": {
    "collapsed": false,
    "pycharm": {
     "name": "#%%\n"
    }
   }
  },
  {
   "cell_type": "code",
   "execution_count": 66,
   "outputs": [
    {
     "data": {
      "text/plain": "5232.327891156463"
     },
     "execution_count": 66,
     "metadata": {},
     "output_type": "execute_result"
    }
   ],
   "source": [
    "mean_absolute_error(train.price, train.price_pred_year_median)"
   ],
   "metadata": {
    "collapsed": false,
    "pycharm": {
     "name": "#%%\n"
    }
   }
  },
  {
   "cell_type": "code",
   "execution_count": 67,
   "outputs": [
    {
     "data": {
      "text/plain": "0.21723436816638503"
     },
     "execution_count": 67,
     "metadata": {},
     "output_type": "execute_result"
    }
   ],
   "source": [
    "mean_absolute_percentage_error(train.price, train.price_pred_year_median)"
   ],
   "metadata": {
    "collapsed": false,
    "pycharm": {
     "name": "#%%\n"
    }
   }
  },
  {
   "cell_type": "markdown",
   "source": [
    "##### Проверим то же самое на тесте"
   ],
   "metadata": {
    "collapsed": false,
    "pycharm": {
     "name": "#%% md\n"
    }
   }
  },
  {
   "cell_type": "code",
   "execution_count": 68,
   "outputs": [
    {
     "data": {
      "text/plain": "       model  year  price transmission  mileage fuelType  tax   mpg  \\\n0   1 Series  2018  15300       Manual    36469   Diesel  150  50.4   \n1   5 Series  2014  15495    Semi-Auto    51565   Diesel  160  51.4   \n2         X3  2019  39875    Semi-Auto     8988   Diesel  150  36.7   \n3   2 Series  2019  21730    Automatic     5054   Petrol  145  39.2   \n4   2 Series  2018  13799       Manual    13369   Diesel  145  65.7   \n\n   engineSize  price_pred_median  price_pred_year_mean  \n0         1.5            20022.0          22562.450394  \n1         2.0            20022.0          13411.333333  \n2         3.0            20022.0          31066.986143  \n3         1.5            20022.0          31066.986143  \n4         1.5            20022.0          22562.450394  ",
      "text/html": "<div>\n<style scoped>\n    .dataframe tbody tr th:only-of-type {\n        vertical-align: middle;\n    }\n\n    .dataframe tbody tr th {\n        vertical-align: top;\n    }\n\n    .dataframe thead th {\n        text-align: right;\n    }\n</style>\n<table border=\"1\" class=\"dataframe\">\n  <thead>\n    <tr style=\"text-align: right;\">\n      <th></th>\n      <th>model</th>\n      <th>year</th>\n      <th>price</th>\n      <th>transmission</th>\n      <th>mileage</th>\n      <th>fuelType</th>\n      <th>tax</th>\n      <th>mpg</th>\n      <th>engineSize</th>\n      <th>price_pred_median</th>\n      <th>price_pred_year_mean</th>\n    </tr>\n  </thead>\n  <tbody>\n    <tr>\n      <th>0</th>\n      <td>1 Series</td>\n      <td>2018</td>\n      <td>15300</td>\n      <td>Manual</td>\n      <td>36469</td>\n      <td>Diesel</td>\n      <td>150</td>\n      <td>50.4</td>\n      <td>1.5</td>\n      <td>20022.0</td>\n      <td>22562.450394</td>\n    </tr>\n    <tr>\n      <th>1</th>\n      <td>5 Series</td>\n      <td>2014</td>\n      <td>15495</td>\n      <td>Semi-Auto</td>\n      <td>51565</td>\n      <td>Diesel</td>\n      <td>160</td>\n      <td>51.4</td>\n      <td>2.0</td>\n      <td>20022.0</td>\n      <td>13411.333333</td>\n    </tr>\n    <tr>\n      <th>2</th>\n      <td>X3</td>\n      <td>2019</td>\n      <td>39875</td>\n      <td>Semi-Auto</td>\n      <td>8988</td>\n      <td>Diesel</td>\n      <td>150</td>\n      <td>36.7</td>\n      <td>3.0</td>\n      <td>20022.0</td>\n      <td>31066.986143</td>\n    </tr>\n    <tr>\n      <th>3</th>\n      <td>2 Series</td>\n      <td>2019</td>\n      <td>21730</td>\n      <td>Automatic</td>\n      <td>5054</td>\n      <td>Petrol</td>\n      <td>145</td>\n      <td>39.2</td>\n      <td>1.5</td>\n      <td>20022.0</td>\n      <td>31066.986143</td>\n    </tr>\n    <tr>\n      <th>4</th>\n      <td>2 Series</td>\n      <td>2018</td>\n      <td>13799</td>\n      <td>Manual</td>\n      <td>13369</td>\n      <td>Diesel</td>\n      <td>145</td>\n      <td>65.7</td>\n      <td>1.5</td>\n      <td>20022.0</td>\n      <td>22562.450394</td>\n    </tr>\n  </tbody>\n</table>\n</div>"
     },
     "execution_count": 68,
     "metadata": {},
     "output_type": "execute_result"
    }
   ],
   "source": [
    "test.head()"
   ],
   "metadata": {
    "collapsed": false,
    "pycharm": {
     "name": "#%%\n"
    }
   }
  },
  {
   "cell_type": "code",
   "execution_count": 69,
   "outputs": [],
   "source": [
    "test = test.merge(model_year_median, how='left', on='year')"
   ],
   "metadata": {
    "collapsed": false,
    "pycharm": {
     "name": "#%%\n"
    }
   }
  },
  {
   "cell_type": "code",
   "execution_count": 70,
   "outputs": [
    {
     "data": {
      "text/plain": "       model  year  price transmission  mileage fuelType  tax   mpg  \\\n0   1 Series  2018  15300       Manual    36469   Diesel  150  50.4   \n1   5 Series  2014  15495    Semi-Auto    51565   Diesel  160  51.4   \n2         X3  2019  39875    Semi-Auto     8988   Diesel  150  36.7   \n3   2 Series  2019  21730    Automatic     5054   Petrol  145  39.2   \n4   2 Series  2018  13799       Manual    13369   Diesel  145  65.7   \n\n   engineSize  price_pred_median  price_pred_year_mean  price_pred_year_median  \n0         1.5            20022.0          22562.450394                 21000.0  \n1         2.0            20022.0          13411.333333                 12797.5  \n2         3.0            20022.0          31066.986143                 27980.0  \n3         1.5            20022.0          31066.986143                 27980.0  \n4         1.5            20022.0          22562.450394                 21000.0  ",
      "text/html": "<div>\n<style scoped>\n    .dataframe tbody tr th:only-of-type {\n        vertical-align: middle;\n    }\n\n    .dataframe tbody tr th {\n        vertical-align: top;\n    }\n\n    .dataframe thead th {\n        text-align: right;\n    }\n</style>\n<table border=\"1\" class=\"dataframe\">\n  <thead>\n    <tr style=\"text-align: right;\">\n      <th></th>\n      <th>model</th>\n      <th>year</th>\n      <th>price</th>\n      <th>transmission</th>\n      <th>mileage</th>\n      <th>fuelType</th>\n      <th>tax</th>\n      <th>mpg</th>\n      <th>engineSize</th>\n      <th>price_pred_median</th>\n      <th>price_pred_year_mean</th>\n      <th>price_pred_year_median</th>\n    </tr>\n  </thead>\n  <tbody>\n    <tr>\n      <th>0</th>\n      <td>1 Series</td>\n      <td>2018</td>\n      <td>15300</td>\n      <td>Manual</td>\n      <td>36469</td>\n      <td>Diesel</td>\n      <td>150</td>\n      <td>50.4</td>\n      <td>1.5</td>\n      <td>20022.0</td>\n      <td>22562.450394</td>\n      <td>21000.0</td>\n    </tr>\n    <tr>\n      <th>1</th>\n      <td>5 Series</td>\n      <td>2014</td>\n      <td>15495</td>\n      <td>Semi-Auto</td>\n      <td>51565</td>\n      <td>Diesel</td>\n      <td>160</td>\n      <td>51.4</td>\n      <td>2.0</td>\n      <td>20022.0</td>\n      <td>13411.333333</td>\n      <td>12797.5</td>\n    </tr>\n    <tr>\n      <th>2</th>\n      <td>X3</td>\n      <td>2019</td>\n      <td>39875</td>\n      <td>Semi-Auto</td>\n      <td>8988</td>\n      <td>Diesel</td>\n      <td>150</td>\n      <td>36.7</td>\n      <td>3.0</td>\n      <td>20022.0</td>\n      <td>31066.986143</td>\n      <td>27980.0</td>\n    </tr>\n    <tr>\n      <th>3</th>\n      <td>2 Series</td>\n      <td>2019</td>\n      <td>21730</td>\n      <td>Automatic</td>\n      <td>5054</td>\n      <td>Petrol</td>\n      <td>145</td>\n      <td>39.2</td>\n      <td>1.5</td>\n      <td>20022.0</td>\n      <td>31066.986143</td>\n      <td>27980.0</td>\n    </tr>\n    <tr>\n      <th>4</th>\n      <td>2 Series</td>\n      <td>2018</td>\n      <td>13799</td>\n      <td>Manual</td>\n      <td>13369</td>\n      <td>Diesel</td>\n      <td>145</td>\n      <td>65.7</td>\n      <td>1.5</td>\n      <td>20022.0</td>\n      <td>22562.450394</td>\n      <td>21000.0</td>\n    </tr>\n  </tbody>\n</table>\n</div>"
     },
     "execution_count": 70,
     "metadata": {},
     "output_type": "execute_result"
    }
   ],
   "source": [
    "test.head()"
   ],
   "metadata": {
    "collapsed": false,
    "pycharm": {
     "name": "#%%\n"
    }
   }
  },
  {
   "cell_type": "code",
   "execution_count": 71,
   "outputs": [
    {
     "data": {
      "text/plain": "model                     0.0\nyear                      0.0\nprice                     0.0\ntransmission              0.0\nmileage                   0.0\nfuelType                  0.0\ntax                       0.0\nmpg                       0.0\nengineSize                0.0\nprice_pred_median         0.0\nprice_pred_year_mean      0.0\nprice_pred_year_median    0.0\ndtype: float64"
     },
     "execution_count": 71,
     "metadata": {},
     "output_type": "execute_result"
    }
   ],
   "source": [
    "test.isna().mean()  # Проверка на пропуски"
   ],
   "metadata": {
    "collapsed": false,
    "pycharm": {
     "name": "#%%\n"
    }
   }
  },
  {
   "cell_type": "code",
   "execution_count": 72,
   "outputs": [
    {
     "data": {
      "text/plain": "5240.677299703264"
     },
     "execution_count": 72,
     "metadata": {},
     "output_type": "execute_result"
    }
   ],
   "source": [
    "mean_absolute_error(test.price, test.price_pred_year_median)"
   ],
   "metadata": {
    "collapsed": false,
    "pycharm": {
     "name": "#%%\n"
    }
   }
  },
  {
   "cell_type": "code",
   "execution_count": 73,
   "outputs": [
    {
     "data": {
      "text/plain": "0.21478293590399475"
     },
     "execution_count": 73,
     "metadata": {},
     "output_type": "execute_result"
    }
   ],
   "source": [
    "mean_absolute_percentage_error(test.price, test.price_pred_year_median)"
   ],
   "metadata": {
    "collapsed": false,
    "pycharm": {
     "name": "#%%\n"
    }
   }
  },
  {
   "cell_type": "markdown",
   "source": [
    "#### Улучшения относительно среднего↓: MAE(5426 → 5240), MAPE(0.239 → 0.214)"
   ],
   "metadata": {
    "collapsed": false,
    "pycharm": {
     "name": "#%% md\n"
    }
   }
  },
  {
   "cell_type": "code",
   "execution_count": 74,
   "outputs": [
    {
     "data": {
      "text/plain": "5426.271071211102"
     },
     "execution_count": 74,
     "metadata": {},
     "output_type": "execute_result"
    }
   ],
   "source": [
    "mean_absolute_error(test.price, test.price_pred_year_mean)"
   ],
   "metadata": {
    "collapsed": false,
    "pycharm": {
     "name": "#%%\n"
    }
   }
  },
  {
   "cell_type": "code",
   "execution_count": 75,
   "outputs": [
    {
     "data": {
      "text/plain": "0.23933940428873632"
     },
     "execution_count": 75,
     "metadata": {},
     "output_type": "execute_result"
    }
   ],
   "source": [
    "mean_absolute_percentage_error(test.price, test.price_pred_year_mean)"
   ],
   "metadata": {
    "collapsed": false,
    "pycharm": {
     "name": "#%%\n"
    }
   }
  },
  {
   "cell_type": "markdown",
   "source": [
    "## Добавляем ещё одну переменную"
   ],
   "metadata": {
    "collapsed": false,
    "pycharm": {
     "name": "#%% md\n"
    }
   }
  },
  {
   "cell_type": "code",
   "execution_count": 76,
   "outputs": [
    {
     "data": {
      "text/plain": "       model  year  price transmission  mileage fuelType  tax   mpg  \\\n0   5 Series  2013  12791    Semi-Auto    55642   Diesel  145  55.4   \n1   1 Series  2019  23995    Semi-Auto     1527   Petrol  145  43.5   \n2         X5  2015  25995    Automatic    43344   Diesel  200  47.1   \n3   2 Series  2019  25000    Automatic     4000   Petrol  145  47.9   \n4   1 Series  2015  10950       Manual    33000   Diesel   20  72.4   \n\n   engineSize  price_pred_mean           err       err_abs  err_abs_pct  \\\n0         2.0     22668.821645   9877.821645   9877.821645     0.772248   \n1         1.5     22668.821645  -1326.178355   1326.178355     0.055269   \n2         3.0     22668.821645  -3326.178355   3326.178355     0.127955   \n3         2.0     22668.821645  -2331.178355   2331.178355     0.093247   \n4         1.5     22668.821645  11718.821645  11718.821645     1.070212   \n\n   price_pred_median  price_pred_year_mean  price_pred_year_median  \n0            20022.0          11041.347826                 10490.0  \n1            20022.0          31066.986143                 27980.0  \n2            20022.0          15086.536313                 14103.5  \n3            20022.0          31066.986143                 27980.0  \n4            20022.0          15086.536313                 14103.5  ",
      "text/html": "<div>\n<style scoped>\n    .dataframe tbody tr th:only-of-type {\n        vertical-align: middle;\n    }\n\n    .dataframe tbody tr th {\n        vertical-align: top;\n    }\n\n    .dataframe thead th {\n        text-align: right;\n    }\n</style>\n<table border=\"1\" class=\"dataframe\">\n  <thead>\n    <tr style=\"text-align: right;\">\n      <th></th>\n      <th>model</th>\n      <th>year</th>\n      <th>price</th>\n      <th>transmission</th>\n      <th>mileage</th>\n      <th>fuelType</th>\n      <th>tax</th>\n      <th>mpg</th>\n      <th>engineSize</th>\n      <th>price_pred_mean</th>\n      <th>err</th>\n      <th>err_abs</th>\n      <th>err_abs_pct</th>\n      <th>price_pred_median</th>\n      <th>price_pred_year_mean</th>\n      <th>price_pred_year_median</th>\n    </tr>\n  </thead>\n  <tbody>\n    <tr>\n      <th>0</th>\n      <td>5 Series</td>\n      <td>2013</td>\n      <td>12791</td>\n      <td>Semi-Auto</td>\n      <td>55642</td>\n      <td>Diesel</td>\n      <td>145</td>\n      <td>55.4</td>\n      <td>2.0</td>\n      <td>22668.821645</td>\n      <td>9877.821645</td>\n      <td>9877.821645</td>\n      <td>0.772248</td>\n      <td>20022.0</td>\n      <td>11041.347826</td>\n      <td>10490.0</td>\n    </tr>\n    <tr>\n      <th>1</th>\n      <td>1 Series</td>\n      <td>2019</td>\n      <td>23995</td>\n      <td>Semi-Auto</td>\n      <td>1527</td>\n      <td>Petrol</td>\n      <td>145</td>\n      <td>43.5</td>\n      <td>1.5</td>\n      <td>22668.821645</td>\n      <td>-1326.178355</td>\n      <td>1326.178355</td>\n      <td>0.055269</td>\n      <td>20022.0</td>\n      <td>31066.986143</td>\n      <td>27980.0</td>\n    </tr>\n    <tr>\n      <th>2</th>\n      <td>X5</td>\n      <td>2015</td>\n      <td>25995</td>\n      <td>Automatic</td>\n      <td>43344</td>\n      <td>Diesel</td>\n      <td>200</td>\n      <td>47.1</td>\n      <td>3.0</td>\n      <td>22668.821645</td>\n      <td>-3326.178355</td>\n      <td>3326.178355</td>\n      <td>0.127955</td>\n      <td>20022.0</td>\n      <td>15086.536313</td>\n      <td>14103.5</td>\n    </tr>\n    <tr>\n      <th>3</th>\n      <td>2 Series</td>\n      <td>2019</td>\n      <td>25000</td>\n      <td>Automatic</td>\n      <td>4000</td>\n      <td>Petrol</td>\n      <td>145</td>\n      <td>47.9</td>\n      <td>2.0</td>\n      <td>22668.821645</td>\n      <td>-2331.178355</td>\n      <td>2331.178355</td>\n      <td>0.093247</td>\n      <td>20022.0</td>\n      <td>31066.986143</td>\n      <td>27980.0</td>\n    </tr>\n    <tr>\n      <th>4</th>\n      <td>1 Series</td>\n      <td>2015</td>\n      <td>10950</td>\n      <td>Manual</td>\n      <td>33000</td>\n      <td>Diesel</td>\n      <td>20</td>\n      <td>72.4</td>\n      <td>1.5</td>\n      <td>22668.821645</td>\n      <td>11718.821645</td>\n      <td>11718.821645</td>\n      <td>1.070212</td>\n      <td>20022.0</td>\n      <td>15086.536313</td>\n      <td>14103.5</td>\n    </tr>\n  </tbody>\n</table>\n</div>"
     },
     "execution_count": 76,
     "metadata": {},
     "output_type": "execute_result"
    }
   ],
   "source": [
    "train.head()"
   ],
   "metadata": {
    "collapsed": false,
    "pycharm": {
     "name": "#%%\n"
    }
   }
  },
  {
   "cell_type": "markdown",
   "source": [
    "##### Возьмём переменную объём двигателя\n",
    "#### Гипотеза: чем больше объём двигателя, тем дороже стоит машина"
   ],
   "metadata": {
    "collapsed": false,
    "pycharm": {
     "name": "#%% md\n"
    }
   }
  },
  {
   "cell_type": "code",
   "execution_count": 77,
   "outputs": [
    {
     "data": {
      "text/plain": "            count          mean   median\nengineSize                              \n0.0            32  18469.906250  18250.0\n0.6             6  17973.333333  18200.0\n1.0             1  17400.000000  17400.0\n1.5          1146  17104.345550  15881.5\n1.6            75   9230.240000   8890.0\n1.9             5   3968.000000   3950.0\n2.0          4925  20697.721624  19792.0\n2.2             4   6010.000000   3972.5\n2.5             8   4532.375000   3892.5\n2.8             1   5995.000000   5995.0\n3.0          1818  31545.723872  27058.0\n3.2             3  16116.333333  17850.0\n3.5             1   6990.000000   6990.0\n4.0             4  18012.250000  17700.0\n4.4            54  49960.666667  45904.5\n5.0             1  12495.000000  12495.0\n6.6             1  57000.000000  57000.0",
      "text/html": "<div>\n<style scoped>\n    .dataframe tbody tr th:only-of-type {\n        vertical-align: middle;\n    }\n\n    .dataframe tbody tr th {\n        vertical-align: top;\n    }\n\n    .dataframe thead th {\n        text-align: right;\n    }\n</style>\n<table border=\"1\" class=\"dataframe\">\n  <thead>\n    <tr style=\"text-align: right;\">\n      <th></th>\n      <th>count</th>\n      <th>mean</th>\n      <th>median</th>\n    </tr>\n    <tr>\n      <th>engineSize</th>\n      <th></th>\n      <th></th>\n      <th></th>\n    </tr>\n  </thead>\n  <tbody>\n    <tr>\n      <th>0.0</th>\n      <td>32</td>\n      <td>18469.906250</td>\n      <td>18250.0</td>\n    </tr>\n    <tr>\n      <th>0.6</th>\n      <td>6</td>\n      <td>17973.333333</td>\n      <td>18200.0</td>\n    </tr>\n    <tr>\n      <th>1.0</th>\n      <td>1</td>\n      <td>17400.000000</td>\n      <td>17400.0</td>\n    </tr>\n    <tr>\n      <th>1.5</th>\n      <td>1146</td>\n      <td>17104.345550</td>\n      <td>15881.5</td>\n    </tr>\n    <tr>\n      <th>1.6</th>\n      <td>75</td>\n      <td>9230.240000</td>\n      <td>8890.0</td>\n    </tr>\n    <tr>\n      <th>1.9</th>\n      <td>5</td>\n      <td>3968.000000</td>\n      <td>3950.0</td>\n    </tr>\n    <tr>\n      <th>2.0</th>\n      <td>4925</td>\n      <td>20697.721624</td>\n      <td>19792.0</td>\n    </tr>\n    <tr>\n      <th>2.2</th>\n      <td>4</td>\n      <td>6010.000000</td>\n      <td>3972.5</td>\n    </tr>\n    <tr>\n      <th>2.5</th>\n      <td>8</td>\n      <td>4532.375000</td>\n      <td>3892.5</td>\n    </tr>\n    <tr>\n      <th>2.8</th>\n      <td>1</td>\n      <td>5995.000000</td>\n      <td>5995.0</td>\n    </tr>\n    <tr>\n      <th>3.0</th>\n      <td>1818</td>\n      <td>31545.723872</td>\n      <td>27058.0</td>\n    </tr>\n    <tr>\n      <th>3.2</th>\n      <td>3</td>\n      <td>16116.333333</td>\n      <td>17850.0</td>\n    </tr>\n    <tr>\n      <th>3.5</th>\n      <td>1</td>\n      <td>6990.000000</td>\n      <td>6990.0</td>\n    </tr>\n    <tr>\n      <th>4.0</th>\n      <td>4</td>\n      <td>18012.250000</td>\n      <td>17700.0</td>\n    </tr>\n    <tr>\n      <th>4.4</th>\n      <td>54</td>\n      <td>49960.666667</td>\n      <td>45904.5</td>\n    </tr>\n    <tr>\n      <th>5.0</th>\n      <td>1</td>\n      <td>12495.000000</td>\n      <td>12495.0</td>\n    </tr>\n    <tr>\n      <th>6.6</th>\n      <td>1</td>\n      <td>57000.000000</td>\n      <td>57000.0</td>\n    </tr>\n  </tbody>\n</table>\n</div>"
     },
     "execution_count": 77,
     "metadata": {},
     "output_type": "execute_result"
    }
   ],
   "source": [
    "train.groupby('engineSize').price.agg(['count', 'mean', 'median'])"
   ],
   "metadata": {
    "collapsed": false,
    "pycharm": {
     "name": "#%%\n"
    }
   }
  },
  {
   "cell_type": "code",
   "execution_count": 78,
   "outputs": [
    {
     "data": {
      "text/plain": "           price                         year                     \n           count          mean   median count         mean  median\nengineSize                                                        \n0.0           32  18469.906250  18250.0    32  2015.843750  2017.0\n0.6            6  17973.333333  18200.0     6  2016.333333  2016.5\n1.0            1  17400.000000  17400.0     1  2015.000000  2015.0\n1.5         1146  17104.345550  15881.5  1146  2017.582024  2017.0\n1.6           75   9230.240000   8890.0    75  2013.626667  2014.0\n1.9            5   3968.000000   3950.0     5  1998.400000  1999.0\n2.0         4925  20697.721624  19792.0  4925  2017.068629  2017.0\n2.2            4   6010.000000   3972.5     4  2003.250000  2003.0\n2.5            8   4532.375000   3892.5     8  2005.250000  2005.5\n2.8            1   5995.000000   5995.0     1  1996.000000  1996.0\n3.0         1818  31545.723872  27058.0  1818  2017.116062  2017.0\n3.2            3  16116.333333  17850.0     3  2004.333333  2004.0\n3.5            1   6990.000000   6990.0     1  2002.000000  2002.0\n4.0            4  18012.250000  17700.0     4  2010.500000  2010.0\n4.4           54  49960.666667  45904.5    54  2017.129630  2018.0\n5.0            1  12495.000000  12495.0     1  2006.000000  2006.0\n6.6            1  57000.000000  57000.0     1  2017.000000  2017.0",
      "text/html": "<div>\n<style scoped>\n    .dataframe tbody tr th:only-of-type {\n        vertical-align: middle;\n    }\n\n    .dataframe tbody tr th {\n        vertical-align: top;\n    }\n\n    .dataframe thead tr th {\n        text-align: left;\n    }\n\n    .dataframe thead tr:last-of-type th {\n        text-align: right;\n    }\n</style>\n<table border=\"1\" class=\"dataframe\">\n  <thead>\n    <tr>\n      <th></th>\n      <th colspan=\"3\" halign=\"left\">price</th>\n      <th colspan=\"3\" halign=\"left\">year</th>\n    </tr>\n    <tr>\n      <th></th>\n      <th>count</th>\n      <th>mean</th>\n      <th>median</th>\n      <th>count</th>\n      <th>mean</th>\n      <th>median</th>\n    </tr>\n    <tr>\n      <th>engineSize</th>\n      <th></th>\n      <th></th>\n      <th></th>\n      <th></th>\n      <th></th>\n      <th></th>\n    </tr>\n  </thead>\n  <tbody>\n    <tr>\n      <th>0.0</th>\n      <td>32</td>\n      <td>18469.906250</td>\n      <td>18250.0</td>\n      <td>32</td>\n      <td>2015.843750</td>\n      <td>2017.0</td>\n    </tr>\n    <tr>\n      <th>0.6</th>\n      <td>6</td>\n      <td>17973.333333</td>\n      <td>18200.0</td>\n      <td>6</td>\n      <td>2016.333333</td>\n      <td>2016.5</td>\n    </tr>\n    <tr>\n      <th>1.0</th>\n      <td>1</td>\n      <td>17400.000000</td>\n      <td>17400.0</td>\n      <td>1</td>\n      <td>2015.000000</td>\n      <td>2015.0</td>\n    </tr>\n    <tr>\n      <th>1.5</th>\n      <td>1146</td>\n      <td>17104.345550</td>\n      <td>15881.5</td>\n      <td>1146</td>\n      <td>2017.582024</td>\n      <td>2017.0</td>\n    </tr>\n    <tr>\n      <th>1.6</th>\n      <td>75</td>\n      <td>9230.240000</td>\n      <td>8890.0</td>\n      <td>75</td>\n      <td>2013.626667</td>\n      <td>2014.0</td>\n    </tr>\n    <tr>\n      <th>1.9</th>\n      <td>5</td>\n      <td>3968.000000</td>\n      <td>3950.0</td>\n      <td>5</td>\n      <td>1998.400000</td>\n      <td>1999.0</td>\n    </tr>\n    <tr>\n      <th>2.0</th>\n      <td>4925</td>\n      <td>20697.721624</td>\n      <td>19792.0</td>\n      <td>4925</td>\n      <td>2017.068629</td>\n      <td>2017.0</td>\n    </tr>\n    <tr>\n      <th>2.2</th>\n      <td>4</td>\n      <td>6010.000000</td>\n      <td>3972.5</td>\n      <td>4</td>\n      <td>2003.250000</td>\n      <td>2003.0</td>\n    </tr>\n    <tr>\n      <th>2.5</th>\n      <td>8</td>\n      <td>4532.375000</td>\n      <td>3892.5</td>\n      <td>8</td>\n      <td>2005.250000</td>\n      <td>2005.5</td>\n    </tr>\n    <tr>\n      <th>2.8</th>\n      <td>1</td>\n      <td>5995.000000</td>\n      <td>5995.0</td>\n      <td>1</td>\n      <td>1996.000000</td>\n      <td>1996.0</td>\n    </tr>\n    <tr>\n      <th>3.0</th>\n      <td>1818</td>\n      <td>31545.723872</td>\n      <td>27058.0</td>\n      <td>1818</td>\n      <td>2017.116062</td>\n      <td>2017.0</td>\n    </tr>\n    <tr>\n      <th>3.2</th>\n      <td>3</td>\n      <td>16116.333333</td>\n      <td>17850.0</td>\n      <td>3</td>\n      <td>2004.333333</td>\n      <td>2004.0</td>\n    </tr>\n    <tr>\n      <th>3.5</th>\n      <td>1</td>\n      <td>6990.000000</td>\n      <td>6990.0</td>\n      <td>1</td>\n      <td>2002.000000</td>\n      <td>2002.0</td>\n    </tr>\n    <tr>\n      <th>4.0</th>\n      <td>4</td>\n      <td>18012.250000</td>\n      <td>17700.0</td>\n      <td>4</td>\n      <td>2010.500000</td>\n      <td>2010.0</td>\n    </tr>\n    <tr>\n      <th>4.4</th>\n      <td>54</td>\n      <td>49960.666667</td>\n      <td>45904.5</td>\n      <td>54</td>\n      <td>2017.129630</td>\n      <td>2018.0</td>\n    </tr>\n    <tr>\n      <th>5.0</th>\n      <td>1</td>\n      <td>12495.000000</td>\n      <td>12495.0</td>\n      <td>1</td>\n      <td>2006.000000</td>\n      <td>2006.0</td>\n    </tr>\n    <tr>\n      <th>6.6</th>\n      <td>1</td>\n      <td>57000.000000</td>\n      <td>57000.0</td>\n      <td>1</td>\n      <td>2017.000000</td>\n      <td>2017.0</td>\n    </tr>\n  </tbody>\n</table>\n</div>"
     },
     "execution_count": 78,
     "metadata": {},
     "output_type": "execute_result"
    }
   ],
   "source": [
    "train.groupby('engineSize')[['price', 'year']].agg(['count', 'mean', 'median'])"
   ],
   "metadata": {
    "collapsed": false,
    "pycharm": {
     "name": "#%%\n"
    }
   }
  },
  {
   "cell_type": "code",
   "execution_count": 79,
   "outputs": [],
   "source": [
    "def engine_group(x):\n",
    "    if x <= 1.5:\n",
    "        return '<=1.5'\n",
    "    if x <= 2:\n",
    "        return '<=2'\n",
    "    return '>2'"
   ],
   "metadata": {
    "collapsed": false,
    "pycharm": {
     "name": "#%%\n"
    }
   }
  },
  {
   "cell_type": "code",
   "execution_count": 80,
   "outputs": [],
   "source": [
    "train['engine_group'] = train.engineSize.apply(engine_group)"
   ],
   "metadata": {
    "collapsed": false,
    "pycharm": {
     "name": "#%%\n"
    }
   }
  },
  {
   "cell_type": "code",
   "execution_count": 81,
   "outputs": [
    {
     "data": {
      "text/plain": "       model  year  price transmission  mileage fuelType  tax   mpg  \\\n0   5 Series  2013  12791    Semi-Auto    55642   Diesel  145  55.4   \n1   1 Series  2019  23995    Semi-Auto     1527   Petrol  145  43.5   \n2         X5  2015  25995    Automatic    43344   Diesel  200  47.1   \n3   2 Series  2019  25000    Automatic     4000   Petrol  145  47.9   \n4   1 Series  2015  10950       Manual    33000   Diesel   20  72.4   \n\n   engineSize  price_pred_mean           err       err_abs  err_abs_pct  \\\n0         2.0     22668.821645   9877.821645   9877.821645     0.772248   \n1         1.5     22668.821645  -1326.178355   1326.178355     0.055269   \n2         3.0     22668.821645  -3326.178355   3326.178355     0.127955   \n3         2.0     22668.821645  -2331.178355   2331.178355     0.093247   \n4         1.5     22668.821645  11718.821645  11718.821645     1.070212   \n\n   price_pred_median  price_pred_year_mean  price_pred_year_median  \\\n0            20022.0          11041.347826                 10490.0   \n1            20022.0          31066.986143                 27980.0   \n2            20022.0          15086.536313                 14103.5   \n3            20022.0          31066.986143                 27980.0   \n4            20022.0          15086.536313                 14103.5   \n\n  engine_group  \n0          <=2  \n1        <=1.5  \n2           >2  \n3          <=2  \n4        <=1.5  ",
      "text/html": "<div>\n<style scoped>\n    .dataframe tbody tr th:only-of-type {\n        vertical-align: middle;\n    }\n\n    .dataframe tbody tr th {\n        vertical-align: top;\n    }\n\n    .dataframe thead th {\n        text-align: right;\n    }\n</style>\n<table border=\"1\" class=\"dataframe\">\n  <thead>\n    <tr style=\"text-align: right;\">\n      <th></th>\n      <th>model</th>\n      <th>year</th>\n      <th>price</th>\n      <th>transmission</th>\n      <th>mileage</th>\n      <th>fuelType</th>\n      <th>tax</th>\n      <th>mpg</th>\n      <th>engineSize</th>\n      <th>price_pred_mean</th>\n      <th>err</th>\n      <th>err_abs</th>\n      <th>err_abs_pct</th>\n      <th>price_pred_median</th>\n      <th>price_pred_year_mean</th>\n      <th>price_pred_year_median</th>\n      <th>engine_group</th>\n    </tr>\n  </thead>\n  <tbody>\n    <tr>\n      <th>0</th>\n      <td>5 Series</td>\n      <td>2013</td>\n      <td>12791</td>\n      <td>Semi-Auto</td>\n      <td>55642</td>\n      <td>Diesel</td>\n      <td>145</td>\n      <td>55.4</td>\n      <td>2.0</td>\n      <td>22668.821645</td>\n      <td>9877.821645</td>\n      <td>9877.821645</td>\n      <td>0.772248</td>\n      <td>20022.0</td>\n      <td>11041.347826</td>\n      <td>10490.0</td>\n      <td>&lt;=2</td>\n    </tr>\n    <tr>\n      <th>1</th>\n      <td>1 Series</td>\n      <td>2019</td>\n      <td>23995</td>\n      <td>Semi-Auto</td>\n      <td>1527</td>\n      <td>Petrol</td>\n      <td>145</td>\n      <td>43.5</td>\n      <td>1.5</td>\n      <td>22668.821645</td>\n      <td>-1326.178355</td>\n      <td>1326.178355</td>\n      <td>0.055269</td>\n      <td>20022.0</td>\n      <td>31066.986143</td>\n      <td>27980.0</td>\n      <td>&lt;=1.5</td>\n    </tr>\n    <tr>\n      <th>2</th>\n      <td>X5</td>\n      <td>2015</td>\n      <td>25995</td>\n      <td>Automatic</td>\n      <td>43344</td>\n      <td>Diesel</td>\n      <td>200</td>\n      <td>47.1</td>\n      <td>3.0</td>\n      <td>22668.821645</td>\n      <td>-3326.178355</td>\n      <td>3326.178355</td>\n      <td>0.127955</td>\n      <td>20022.0</td>\n      <td>15086.536313</td>\n      <td>14103.5</td>\n      <td>&gt;2</td>\n    </tr>\n    <tr>\n      <th>3</th>\n      <td>2 Series</td>\n      <td>2019</td>\n      <td>25000</td>\n      <td>Automatic</td>\n      <td>4000</td>\n      <td>Petrol</td>\n      <td>145</td>\n      <td>47.9</td>\n      <td>2.0</td>\n      <td>22668.821645</td>\n      <td>-2331.178355</td>\n      <td>2331.178355</td>\n      <td>0.093247</td>\n      <td>20022.0</td>\n      <td>31066.986143</td>\n      <td>27980.0</td>\n      <td>&lt;=2</td>\n    </tr>\n    <tr>\n      <th>4</th>\n      <td>1 Series</td>\n      <td>2015</td>\n      <td>10950</td>\n      <td>Manual</td>\n      <td>33000</td>\n      <td>Diesel</td>\n      <td>20</td>\n      <td>72.4</td>\n      <td>1.5</td>\n      <td>22668.821645</td>\n      <td>11718.821645</td>\n      <td>11718.821645</td>\n      <td>1.070212</td>\n      <td>20022.0</td>\n      <td>15086.536313</td>\n      <td>14103.5</td>\n      <td>&lt;=1.5</td>\n    </tr>\n  </tbody>\n</table>\n</div>"
     },
     "execution_count": 81,
     "metadata": {},
     "output_type": "execute_result"
    }
   ],
   "source": [
    "train.head()"
   ],
   "metadata": {
    "collapsed": false,
    "pycharm": {
     "name": "#%%\n"
    }
   }
  },
  {
   "cell_type": "markdown",
   "source": [
    "#### Гипотеза оказалась верна"
   ],
   "metadata": {
    "collapsed": false
   }
  },
  {
   "cell_type": "code",
   "execution_count": 82,
   "outputs": [],
   "source": [
    "t = train.groupby('engine_group').price.agg(['count', 'mean', 'median'])"
   ],
   "metadata": {
    "collapsed": false,
    "pycharm": {
     "name": "#%%\n"
    }
   }
  },
  {
   "cell_type": "code",
   "execution_count": 83,
   "outputs": [
    {
     "data": {
      "text/plain": "              count          mean   median\nengine_group                              \n<=1.5          1185  17145.870886  15980.0\n<=2            5005  20509.168232  19499.0\n>2             1895  31826.479683  27500.0",
      "text/html": "<div>\n<style scoped>\n    .dataframe tbody tr th:only-of-type {\n        vertical-align: middle;\n    }\n\n    .dataframe tbody tr th {\n        vertical-align: top;\n    }\n\n    .dataframe thead th {\n        text-align: right;\n    }\n</style>\n<table border=\"1\" class=\"dataframe\">\n  <thead>\n    <tr style=\"text-align: right;\">\n      <th></th>\n      <th>count</th>\n      <th>mean</th>\n      <th>median</th>\n    </tr>\n    <tr>\n      <th>engine_group</th>\n      <th></th>\n      <th></th>\n      <th></th>\n    </tr>\n  </thead>\n  <tbody>\n    <tr>\n      <th>&lt;=1.5</th>\n      <td>1185</td>\n      <td>17145.870886</td>\n      <td>15980.0</td>\n    </tr>\n    <tr>\n      <th>&lt;=2</th>\n      <td>5005</td>\n      <td>20509.168232</td>\n      <td>19499.0</td>\n    </tr>\n    <tr>\n      <th>&gt;2</th>\n      <td>1895</td>\n      <td>31826.479683</td>\n      <td>27500.0</td>\n    </tr>\n  </tbody>\n</table>\n</div>"
     },
     "execution_count": 83,
     "metadata": {},
     "output_type": "execute_result"
    }
   ],
   "source": [
    "t"
   ],
   "metadata": {
    "collapsed": false,
    "pycharm": {
     "name": "#%%\n"
    }
   }
  },
  {
   "cell_type": "code",
   "execution_count": 84,
   "outputs": [
    {
     "data": {
      "text/plain": "8085"
     },
     "execution_count": 84,
     "metadata": {},
     "output_type": "execute_result"
    }
   ],
   "source": [
    "t['count'].sum()"
   ],
   "metadata": {
    "collapsed": false,
    "pycharm": {
     "name": "#%%\n"
    }
   }
  },
  {
   "cell_type": "code",
   "execution_count": 85,
   "outputs": [
    {
     "data": {
      "text/plain": "8085"
     },
     "execution_count": 85,
     "metadata": {},
     "output_type": "execute_result"
    }
   ],
   "source": [
    "len(train)"
   ],
   "metadata": {
    "collapsed": false,
    "pycharm": {
     "name": "#%%\n"
    }
   }
  },
  {
   "cell_type": "markdown",
   "source": [
    "##### Для примера, та же операция разбивки данных на группы, <=1.5, <=2 и >2 с помощью pd.cut"
   ],
   "metadata": {
    "collapsed": false,
    "pycharm": {
     "name": "#%% md\n"
    }
   }
  },
  {
   "cell_type": "code",
   "execution_count": 86,
   "outputs": [
    {
     "data": {
      "text/plain": "0       (1.5, 2.0]\n1       (0.0, 1.5]\n2       (2.0, inf]\n3       (1.5, 2.0]\n4       (0.0, 1.5]\n           ...    \n8080    (1.5, 2.0]\n8081    (2.0, inf]\n8082    (1.5, 2.0]\n8083    (1.5, 2.0]\n8084    (0.0, 1.5]\nName: engineSize, Length: 8085, dtype: category\nCategories (3, interval[float64, right]): [(0.0, 1.5] < (1.5, 2.0] < (2.0, inf]]"
     },
     "execution_count": 86,
     "metadata": {},
     "output_type": "execute_result"
    }
   ],
   "source": [
    "pd.cut(train['engineSize'], [0, 1.5, 2, float('inf')])"
   ],
   "metadata": {
    "collapsed": false,
    "pycharm": {
     "name": "#%%\n"
    }
   }
  },
  {
   "cell_type": "code",
   "execution_count": 87,
   "outputs": [
    {
     "data": {
      "text/plain": "       model  year  price transmission  mileage fuelType  tax   mpg  \\\n0   5 Series  2013  12791    Semi-Auto    55642   Diesel  145  55.4   \n1   1 Series  2019  23995    Semi-Auto     1527   Petrol  145  43.5   \n2         X5  2015  25995    Automatic    43344   Diesel  200  47.1   \n3   2 Series  2019  25000    Automatic     4000   Petrol  145  47.9   \n4   1 Series  2015  10950       Manual    33000   Diesel   20  72.4   \n\n   engineSize  price_pred_mean           err       err_abs  err_abs_pct  \\\n0         2.0     22668.821645   9877.821645   9877.821645     0.772248   \n1         1.5     22668.821645  -1326.178355   1326.178355     0.055269   \n2         3.0     22668.821645  -3326.178355   3326.178355     0.127955   \n3         2.0     22668.821645  -2331.178355   2331.178355     0.093247   \n4         1.5     22668.821645  11718.821645  11718.821645     1.070212   \n\n   price_pred_median  price_pred_year_mean  price_pred_year_median  \\\n0            20022.0          11041.347826                 10490.0   \n1            20022.0          31066.986143                 27980.0   \n2            20022.0          15086.536313                 14103.5   \n3            20022.0          31066.986143                 27980.0   \n4            20022.0          15086.536313                 14103.5   \n\n  engine_group  \n0          <=2  \n1        <=1.5  \n2           >2  \n3          <=2  \n4        <=1.5  ",
      "text/html": "<div>\n<style scoped>\n    .dataframe tbody tr th:only-of-type {\n        vertical-align: middle;\n    }\n\n    .dataframe tbody tr th {\n        vertical-align: top;\n    }\n\n    .dataframe thead th {\n        text-align: right;\n    }\n</style>\n<table border=\"1\" class=\"dataframe\">\n  <thead>\n    <tr style=\"text-align: right;\">\n      <th></th>\n      <th>model</th>\n      <th>year</th>\n      <th>price</th>\n      <th>transmission</th>\n      <th>mileage</th>\n      <th>fuelType</th>\n      <th>tax</th>\n      <th>mpg</th>\n      <th>engineSize</th>\n      <th>price_pred_mean</th>\n      <th>err</th>\n      <th>err_abs</th>\n      <th>err_abs_pct</th>\n      <th>price_pred_median</th>\n      <th>price_pred_year_mean</th>\n      <th>price_pred_year_median</th>\n      <th>engine_group</th>\n    </tr>\n  </thead>\n  <tbody>\n    <tr>\n      <th>0</th>\n      <td>5 Series</td>\n      <td>2013</td>\n      <td>12791</td>\n      <td>Semi-Auto</td>\n      <td>55642</td>\n      <td>Diesel</td>\n      <td>145</td>\n      <td>55.4</td>\n      <td>2.0</td>\n      <td>22668.821645</td>\n      <td>9877.821645</td>\n      <td>9877.821645</td>\n      <td>0.772248</td>\n      <td>20022.0</td>\n      <td>11041.347826</td>\n      <td>10490.0</td>\n      <td>&lt;=2</td>\n    </tr>\n    <tr>\n      <th>1</th>\n      <td>1 Series</td>\n      <td>2019</td>\n      <td>23995</td>\n      <td>Semi-Auto</td>\n      <td>1527</td>\n      <td>Petrol</td>\n      <td>145</td>\n      <td>43.5</td>\n      <td>1.5</td>\n      <td>22668.821645</td>\n      <td>-1326.178355</td>\n      <td>1326.178355</td>\n      <td>0.055269</td>\n      <td>20022.0</td>\n      <td>31066.986143</td>\n      <td>27980.0</td>\n      <td>&lt;=1.5</td>\n    </tr>\n    <tr>\n      <th>2</th>\n      <td>X5</td>\n      <td>2015</td>\n      <td>25995</td>\n      <td>Automatic</td>\n      <td>43344</td>\n      <td>Diesel</td>\n      <td>200</td>\n      <td>47.1</td>\n      <td>3.0</td>\n      <td>22668.821645</td>\n      <td>-3326.178355</td>\n      <td>3326.178355</td>\n      <td>0.127955</td>\n      <td>20022.0</td>\n      <td>15086.536313</td>\n      <td>14103.5</td>\n      <td>&gt;2</td>\n    </tr>\n    <tr>\n      <th>3</th>\n      <td>2 Series</td>\n      <td>2019</td>\n      <td>25000</td>\n      <td>Automatic</td>\n      <td>4000</td>\n      <td>Petrol</td>\n      <td>145</td>\n      <td>47.9</td>\n      <td>2.0</td>\n      <td>22668.821645</td>\n      <td>-2331.178355</td>\n      <td>2331.178355</td>\n      <td>0.093247</td>\n      <td>20022.0</td>\n      <td>31066.986143</td>\n      <td>27980.0</td>\n      <td>&lt;=2</td>\n    </tr>\n    <tr>\n      <th>4</th>\n      <td>1 Series</td>\n      <td>2015</td>\n      <td>10950</td>\n      <td>Manual</td>\n      <td>33000</td>\n      <td>Diesel</td>\n      <td>20</td>\n      <td>72.4</td>\n      <td>1.5</td>\n      <td>22668.821645</td>\n      <td>11718.821645</td>\n      <td>11718.821645</td>\n      <td>1.070212</td>\n      <td>20022.0</td>\n      <td>15086.536313</td>\n      <td>14103.5</td>\n      <td>&lt;=1.5</td>\n    </tr>\n  </tbody>\n</table>\n</div>"
     },
     "execution_count": 87,
     "metadata": {},
     "output_type": "execute_result"
    }
   ],
   "source": [
    "train.head()"
   ],
   "metadata": {
    "collapsed": false,
    "pycharm": {
     "name": "#%%\n"
    }
   }
  },
  {
   "cell_type": "code",
   "execution_count": 88,
   "outputs": [],
   "source": [
    "train['engine_group2'] = pd.cut(train['engineSize'], [-float('inf'), 1.5, 2, float('inf')])"
   ],
   "metadata": {
    "collapsed": false,
    "pycharm": {
     "name": "#%%\n"
    }
   }
  },
  {
   "cell_type": "code",
   "execution_count": 89,
   "outputs": [
    {
     "data": {
      "text/plain": "       model  year  price transmission  mileage fuelType  tax   mpg  \\\n0   5 Series  2013  12791    Semi-Auto    55642   Diesel  145  55.4   \n1   1 Series  2019  23995    Semi-Auto     1527   Petrol  145  43.5   \n2         X5  2015  25995    Automatic    43344   Diesel  200  47.1   \n3   2 Series  2019  25000    Automatic     4000   Petrol  145  47.9   \n4   1 Series  2015  10950       Manual    33000   Diesel   20  72.4   \n\n   engineSize  price_pred_mean           err       err_abs  err_abs_pct  \\\n0         2.0     22668.821645   9877.821645   9877.821645     0.772248   \n1         1.5     22668.821645  -1326.178355   1326.178355     0.055269   \n2         3.0     22668.821645  -3326.178355   3326.178355     0.127955   \n3         2.0     22668.821645  -2331.178355   2331.178355     0.093247   \n4         1.5     22668.821645  11718.821645  11718.821645     1.070212   \n\n   price_pred_median  price_pred_year_mean  price_pred_year_median  \\\n0            20022.0          11041.347826                 10490.0   \n1            20022.0          31066.986143                 27980.0   \n2            20022.0          15086.536313                 14103.5   \n3            20022.0          31066.986143                 27980.0   \n4            20022.0          15086.536313                 14103.5   \n\n  engine_group engine_group2  \n0          <=2    (1.5, 2.0]  \n1        <=1.5   (-inf, 1.5]  \n2           >2    (2.0, inf]  \n3          <=2    (1.5, 2.0]  \n4        <=1.5   (-inf, 1.5]  ",
      "text/html": "<div>\n<style scoped>\n    .dataframe tbody tr th:only-of-type {\n        vertical-align: middle;\n    }\n\n    .dataframe tbody tr th {\n        vertical-align: top;\n    }\n\n    .dataframe thead th {\n        text-align: right;\n    }\n</style>\n<table border=\"1\" class=\"dataframe\">\n  <thead>\n    <tr style=\"text-align: right;\">\n      <th></th>\n      <th>model</th>\n      <th>year</th>\n      <th>price</th>\n      <th>transmission</th>\n      <th>mileage</th>\n      <th>fuelType</th>\n      <th>tax</th>\n      <th>mpg</th>\n      <th>engineSize</th>\n      <th>price_pred_mean</th>\n      <th>err</th>\n      <th>err_abs</th>\n      <th>err_abs_pct</th>\n      <th>price_pred_median</th>\n      <th>price_pred_year_mean</th>\n      <th>price_pred_year_median</th>\n      <th>engine_group</th>\n      <th>engine_group2</th>\n    </tr>\n  </thead>\n  <tbody>\n    <tr>\n      <th>0</th>\n      <td>5 Series</td>\n      <td>2013</td>\n      <td>12791</td>\n      <td>Semi-Auto</td>\n      <td>55642</td>\n      <td>Diesel</td>\n      <td>145</td>\n      <td>55.4</td>\n      <td>2.0</td>\n      <td>22668.821645</td>\n      <td>9877.821645</td>\n      <td>9877.821645</td>\n      <td>0.772248</td>\n      <td>20022.0</td>\n      <td>11041.347826</td>\n      <td>10490.0</td>\n      <td>&lt;=2</td>\n      <td>(1.5, 2.0]</td>\n    </tr>\n    <tr>\n      <th>1</th>\n      <td>1 Series</td>\n      <td>2019</td>\n      <td>23995</td>\n      <td>Semi-Auto</td>\n      <td>1527</td>\n      <td>Petrol</td>\n      <td>145</td>\n      <td>43.5</td>\n      <td>1.5</td>\n      <td>22668.821645</td>\n      <td>-1326.178355</td>\n      <td>1326.178355</td>\n      <td>0.055269</td>\n      <td>20022.0</td>\n      <td>31066.986143</td>\n      <td>27980.0</td>\n      <td>&lt;=1.5</td>\n      <td>(-inf, 1.5]</td>\n    </tr>\n    <tr>\n      <th>2</th>\n      <td>X5</td>\n      <td>2015</td>\n      <td>25995</td>\n      <td>Automatic</td>\n      <td>43344</td>\n      <td>Diesel</td>\n      <td>200</td>\n      <td>47.1</td>\n      <td>3.0</td>\n      <td>22668.821645</td>\n      <td>-3326.178355</td>\n      <td>3326.178355</td>\n      <td>0.127955</td>\n      <td>20022.0</td>\n      <td>15086.536313</td>\n      <td>14103.5</td>\n      <td>&gt;2</td>\n      <td>(2.0, inf]</td>\n    </tr>\n    <tr>\n      <th>3</th>\n      <td>2 Series</td>\n      <td>2019</td>\n      <td>25000</td>\n      <td>Automatic</td>\n      <td>4000</td>\n      <td>Petrol</td>\n      <td>145</td>\n      <td>47.9</td>\n      <td>2.0</td>\n      <td>22668.821645</td>\n      <td>-2331.178355</td>\n      <td>2331.178355</td>\n      <td>0.093247</td>\n      <td>20022.0</td>\n      <td>31066.986143</td>\n      <td>27980.0</td>\n      <td>&lt;=2</td>\n      <td>(1.5, 2.0]</td>\n    </tr>\n    <tr>\n      <th>4</th>\n      <td>1 Series</td>\n      <td>2015</td>\n      <td>10950</td>\n      <td>Manual</td>\n      <td>33000</td>\n      <td>Diesel</td>\n      <td>20</td>\n      <td>72.4</td>\n      <td>1.5</td>\n      <td>22668.821645</td>\n      <td>11718.821645</td>\n      <td>11718.821645</td>\n      <td>1.070212</td>\n      <td>20022.0</td>\n      <td>15086.536313</td>\n      <td>14103.5</td>\n      <td>&lt;=1.5</td>\n      <td>(-inf, 1.5]</td>\n    </tr>\n  </tbody>\n</table>\n</div>"
     },
     "execution_count": 89,
     "metadata": {},
     "output_type": "execute_result"
    }
   ],
   "source": [
    "train.head()"
   ],
   "metadata": {
    "collapsed": false,
    "pycharm": {
     "name": "#%%\n"
    }
   }
  },
  {
   "cell_type": "markdown",
   "source": [
    "##### Результат один и тот же"
   ],
   "metadata": {
    "collapsed": false,
    "pycharm": {
     "name": "#%% md\n"
    }
   }
  },
  {
   "cell_type": "code",
   "execution_count": 90,
   "outputs": [
    {
     "data": {
      "text/plain": "               count          mean   median\nengine_group2                              \n(-inf, 1.5]     1185  17145.870886  15980.0\n(1.5, 2.0]      5005  20509.168232  19499.0\n(2.0, inf]      1895  31826.479683  27500.0",
      "text/html": "<div>\n<style scoped>\n    .dataframe tbody tr th:only-of-type {\n        vertical-align: middle;\n    }\n\n    .dataframe tbody tr th {\n        vertical-align: top;\n    }\n\n    .dataframe thead th {\n        text-align: right;\n    }\n</style>\n<table border=\"1\" class=\"dataframe\">\n  <thead>\n    <tr style=\"text-align: right;\">\n      <th></th>\n      <th>count</th>\n      <th>mean</th>\n      <th>median</th>\n    </tr>\n    <tr>\n      <th>engine_group2</th>\n      <th></th>\n      <th></th>\n      <th></th>\n    </tr>\n  </thead>\n  <tbody>\n    <tr>\n      <th>(-inf, 1.5]</th>\n      <td>1185</td>\n      <td>17145.870886</td>\n      <td>15980.0</td>\n    </tr>\n    <tr>\n      <th>(1.5, 2.0]</th>\n      <td>5005</td>\n      <td>20509.168232</td>\n      <td>19499.0</td>\n    </tr>\n    <tr>\n      <th>(2.0, inf]</th>\n      <td>1895</td>\n      <td>31826.479683</td>\n      <td>27500.0</td>\n    </tr>\n  </tbody>\n</table>\n</div>"
     },
     "execution_count": 90,
     "metadata": {},
     "output_type": "execute_result"
    }
   ],
   "source": [
    "train.groupby('engine_group2').price.agg(['count', 'mean', 'median'])"
   ],
   "metadata": {
    "collapsed": false,
    "pycharm": {
     "name": "#%%\n"
    }
   }
  },
  {
   "cell_type": "code",
   "execution_count": 91,
   "outputs": [
    {
     "data": {
      "text/plain": "              count          mean   median\nengine_group                              \n<=1.5          1185  17145.870886  15980.0\n<=2            5005  20509.168232  19499.0\n>2             1895  31826.479683  27500.0",
      "text/html": "<div>\n<style scoped>\n    .dataframe tbody tr th:only-of-type {\n        vertical-align: middle;\n    }\n\n    .dataframe tbody tr th {\n        vertical-align: top;\n    }\n\n    .dataframe thead th {\n        text-align: right;\n    }\n</style>\n<table border=\"1\" class=\"dataframe\">\n  <thead>\n    <tr style=\"text-align: right;\">\n      <th></th>\n      <th>count</th>\n      <th>mean</th>\n      <th>median</th>\n    </tr>\n    <tr>\n      <th>engine_group</th>\n      <th></th>\n      <th></th>\n      <th></th>\n    </tr>\n  </thead>\n  <tbody>\n    <tr>\n      <th>&lt;=1.5</th>\n      <td>1185</td>\n      <td>17145.870886</td>\n      <td>15980.0</td>\n    </tr>\n    <tr>\n      <th>&lt;=2</th>\n      <td>5005</td>\n      <td>20509.168232</td>\n      <td>19499.0</td>\n    </tr>\n    <tr>\n      <th>&gt;2</th>\n      <td>1895</td>\n      <td>31826.479683</td>\n      <td>27500.0</td>\n    </tr>\n  </tbody>\n</table>\n</div>"
     },
     "execution_count": 91,
     "metadata": {},
     "output_type": "execute_result"
    }
   ],
   "source": [
    "t"
   ],
   "metadata": {
    "collapsed": false,
    "pycharm": {
     "name": "#%%\n"
    }
   }
  },
  {
   "cell_type": "markdown",
   "source": [
    "##### Создание датафрейма с медианной стоимостью по годам и по объёму двигателя"
   ],
   "metadata": {
    "collapsed": false,
    "pycharm": {
     "name": "#%% md\n"
    }
   }
  },
  {
   "cell_type": "code",
   "execution_count": 92,
   "outputs": [],
   "source": [
    "model_year_engine_median = train.groupby(['year', 'engine_group'])['price'].median().reset_index()"
   ],
   "metadata": {
    "collapsed": false,
    "pycharm": {
     "name": "#%%\n"
    }
   }
  },
  {
   "cell_type": "code",
   "execution_count": 93,
   "outputs": [
    {
     "data": {
      "text/plain": "    year engine_group    price\n0   1996           >2   5995.0\n1   1997          <=2   3950.0\n2   1998          <=2   3950.0\n3   1999          <=2   3995.0\n4   2000           >2   1550.0\n5   2001        <=1.5  13000.0\n6   2001           >2   4500.0\n7   2002          <=2   3999.0\n8   2002           >2   2990.0\n9   2003           >2   9222.5\n10  2004          <=2   1970.0\n11  2004           >2   8750.0\n12  2005          <=2   4375.0\n13  2005           >2   4995.0\n14  2006          <=2   2992.5\n15  2006           >2   5344.5\n16  2007          <=2   3495.0\n17  2007           >2   5994.0\n18  2008          <=2   3992.5\n19  2008           >2   7642.5\n20  2009          <=2   4740.0\n21  2009           >2   9490.0\n22  2010          <=2   5995.0\n23  2010           >2   9125.0\n24  2011          <=2   7624.0\n25  2011           >2  10500.0\n26  2012          <=2   8500.0\n27  2012           >2  12970.0\n28  2013          <=2   9990.0\n29  2013           >2  15895.5\n30  2014        <=1.5  14972.5\n31  2014          <=2  11945.0\n32  2014           >2  16656.0\n33  2015        <=1.5  10999.0\n34  2015          <=2  13490.0\n35  2015           >2  18144.5\n36  2016        <=1.5  11809.0\n37  2016          <=2  15500.0\n38  2016           >2  19996.5\n39  2017        <=1.5  14292.5\n40  2017          <=2  17625.0\n41  2017           >2  22980.5\n42  2018        <=1.5  16500.0\n43  2018          <=2  20750.0\n44  2018           >2  27980.0\n45  2019        <=1.5  20980.0\n46  2019          <=2  27294.0\n47  2019           >2  45980.0\n48  2020        <=1.5  23995.0\n49  2020          <=2  30995.0\n50  2020           >2  48560.0",
      "text/html": "<div>\n<style scoped>\n    .dataframe tbody tr th:only-of-type {\n        vertical-align: middle;\n    }\n\n    .dataframe tbody tr th {\n        vertical-align: top;\n    }\n\n    .dataframe thead th {\n        text-align: right;\n    }\n</style>\n<table border=\"1\" class=\"dataframe\">\n  <thead>\n    <tr style=\"text-align: right;\">\n      <th></th>\n      <th>year</th>\n      <th>engine_group</th>\n      <th>price</th>\n    </tr>\n  </thead>\n  <tbody>\n    <tr>\n      <th>0</th>\n      <td>1996</td>\n      <td>&gt;2</td>\n      <td>5995.0</td>\n    </tr>\n    <tr>\n      <th>1</th>\n      <td>1997</td>\n      <td>&lt;=2</td>\n      <td>3950.0</td>\n    </tr>\n    <tr>\n      <th>2</th>\n      <td>1998</td>\n      <td>&lt;=2</td>\n      <td>3950.0</td>\n    </tr>\n    <tr>\n      <th>3</th>\n      <td>1999</td>\n      <td>&lt;=2</td>\n      <td>3995.0</td>\n    </tr>\n    <tr>\n      <th>4</th>\n      <td>2000</td>\n      <td>&gt;2</td>\n      <td>1550.0</td>\n    </tr>\n    <tr>\n      <th>5</th>\n      <td>2001</td>\n      <td>&lt;=1.5</td>\n      <td>13000.0</td>\n    </tr>\n    <tr>\n      <th>6</th>\n      <td>2001</td>\n      <td>&gt;2</td>\n      <td>4500.0</td>\n    </tr>\n    <tr>\n      <th>7</th>\n      <td>2002</td>\n      <td>&lt;=2</td>\n      <td>3999.0</td>\n    </tr>\n    <tr>\n      <th>8</th>\n      <td>2002</td>\n      <td>&gt;2</td>\n      <td>2990.0</td>\n    </tr>\n    <tr>\n      <th>9</th>\n      <td>2003</td>\n      <td>&gt;2</td>\n      <td>9222.5</td>\n    </tr>\n    <tr>\n      <th>10</th>\n      <td>2004</td>\n      <td>&lt;=2</td>\n      <td>1970.0</td>\n    </tr>\n    <tr>\n      <th>11</th>\n      <td>2004</td>\n      <td>&gt;2</td>\n      <td>8750.0</td>\n    </tr>\n    <tr>\n      <th>12</th>\n      <td>2005</td>\n      <td>&lt;=2</td>\n      <td>4375.0</td>\n    </tr>\n    <tr>\n      <th>13</th>\n      <td>2005</td>\n      <td>&gt;2</td>\n      <td>4995.0</td>\n    </tr>\n    <tr>\n      <th>14</th>\n      <td>2006</td>\n      <td>&lt;=2</td>\n      <td>2992.5</td>\n    </tr>\n    <tr>\n      <th>15</th>\n      <td>2006</td>\n      <td>&gt;2</td>\n      <td>5344.5</td>\n    </tr>\n    <tr>\n      <th>16</th>\n      <td>2007</td>\n      <td>&lt;=2</td>\n      <td>3495.0</td>\n    </tr>\n    <tr>\n      <th>17</th>\n      <td>2007</td>\n      <td>&gt;2</td>\n      <td>5994.0</td>\n    </tr>\n    <tr>\n      <th>18</th>\n      <td>2008</td>\n      <td>&lt;=2</td>\n      <td>3992.5</td>\n    </tr>\n    <tr>\n      <th>19</th>\n      <td>2008</td>\n      <td>&gt;2</td>\n      <td>7642.5</td>\n    </tr>\n    <tr>\n      <th>20</th>\n      <td>2009</td>\n      <td>&lt;=2</td>\n      <td>4740.0</td>\n    </tr>\n    <tr>\n      <th>21</th>\n      <td>2009</td>\n      <td>&gt;2</td>\n      <td>9490.0</td>\n    </tr>\n    <tr>\n      <th>22</th>\n      <td>2010</td>\n      <td>&lt;=2</td>\n      <td>5995.0</td>\n    </tr>\n    <tr>\n      <th>23</th>\n      <td>2010</td>\n      <td>&gt;2</td>\n      <td>9125.0</td>\n    </tr>\n    <tr>\n      <th>24</th>\n      <td>2011</td>\n      <td>&lt;=2</td>\n      <td>7624.0</td>\n    </tr>\n    <tr>\n      <th>25</th>\n      <td>2011</td>\n      <td>&gt;2</td>\n      <td>10500.0</td>\n    </tr>\n    <tr>\n      <th>26</th>\n      <td>2012</td>\n      <td>&lt;=2</td>\n      <td>8500.0</td>\n    </tr>\n    <tr>\n      <th>27</th>\n      <td>2012</td>\n      <td>&gt;2</td>\n      <td>12970.0</td>\n    </tr>\n    <tr>\n      <th>28</th>\n      <td>2013</td>\n      <td>&lt;=2</td>\n      <td>9990.0</td>\n    </tr>\n    <tr>\n      <th>29</th>\n      <td>2013</td>\n      <td>&gt;2</td>\n      <td>15895.5</td>\n    </tr>\n    <tr>\n      <th>30</th>\n      <td>2014</td>\n      <td>&lt;=1.5</td>\n      <td>14972.5</td>\n    </tr>\n    <tr>\n      <th>31</th>\n      <td>2014</td>\n      <td>&lt;=2</td>\n      <td>11945.0</td>\n    </tr>\n    <tr>\n      <th>32</th>\n      <td>2014</td>\n      <td>&gt;2</td>\n      <td>16656.0</td>\n    </tr>\n    <tr>\n      <th>33</th>\n      <td>2015</td>\n      <td>&lt;=1.5</td>\n      <td>10999.0</td>\n    </tr>\n    <tr>\n      <th>34</th>\n      <td>2015</td>\n      <td>&lt;=2</td>\n      <td>13490.0</td>\n    </tr>\n    <tr>\n      <th>35</th>\n      <td>2015</td>\n      <td>&gt;2</td>\n      <td>18144.5</td>\n    </tr>\n    <tr>\n      <th>36</th>\n      <td>2016</td>\n      <td>&lt;=1.5</td>\n      <td>11809.0</td>\n    </tr>\n    <tr>\n      <th>37</th>\n      <td>2016</td>\n      <td>&lt;=2</td>\n      <td>15500.0</td>\n    </tr>\n    <tr>\n      <th>38</th>\n      <td>2016</td>\n      <td>&gt;2</td>\n      <td>19996.5</td>\n    </tr>\n    <tr>\n      <th>39</th>\n      <td>2017</td>\n      <td>&lt;=1.5</td>\n      <td>14292.5</td>\n    </tr>\n    <tr>\n      <th>40</th>\n      <td>2017</td>\n      <td>&lt;=2</td>\n      <td>17625.0</td>\n    </tr>\n    <tr>\n      <th>41</th>\n      <td>2017</td>\n      <td>&gt;2</td>\n      <td>22980.5</td>\n    </tr>\n    <tr>\n      <th>42</th>\n      <td>2018</td>\n      <td>&lt;=1.5</td>\n      <td>16500.0</td>\n    </tr>\n    <tr>\n      <th>43</th>\n      <td>2018</td>\n      <td>&lt;=2</td>\n      <td>20750.0</td>\n    </tr>\n    <tr>\n      <th>44</th>\n      <td>2018</td>\n      <td>&gt;2</td>\n      <td>27980.0</td>\n    </tr>\n    <tr>\n      <th>45</th>\n      <td>2019</td>\n      <td>&lt;=1.5</td>\n      <td>20980.0</td>\n    </tr>\n    <tr>\n      <th>46</th>\n      <td>2019</td>\n      <td>&lt;=2</td>\n      <td>27294.0</td>\n    </tr>\n    <tr>\n      <th>47</th>\n      <td>2019</td>\n      <td>&gt;2</td>\n      <td>45980.0</td>\n    </tr>\n    <tr>\n      <th>48</th>\n      <td>2020</td>\n      <td>&lt;=1.5</td>\n      <td>23995.0</td>\n    </tr>\n    <tr>\n      <th>49</th>\n      <td>2020</td>\n      <td>&lt;=2</td>\n      <td>30995.0</td>\n    </tr>\n    <tr>\n      <th>50</th>\n      <td>2020</td>\n      <td>&gt;2</td>\n      <td>48560.0</td>\n    </tr>\n  </tbody>\n</table>\n</div>"
     },
     "execution_count": 93,
     "metadata": {},
     "output_type": "execute_result"
    }
   ],
   "source": [
    "model_year_engine_median"
   ],
   "metadata": {
    "collapsed": false,
    "pycharm": {
     "name": "#%%\n"
    }
   }
  },
  {
   "cell_type": "markdown",
   "source": [
    "##### В старых годах представленны не все движки"
   ],
   "metadata": {
    "collapsed": false,
    "pycharm": {
     "name": "#%% md\n"
    }
   }
  },
  {
   "cell_type": "code",
   "execution_count": 94,
   "outputs": [
    {
     "data": {
      "text/plain": "year  engine_group\n1996  >2                 1\n1997  <=2                1\n1998  <=2                1\n1999  <=2                3\n2000  >2                 1\n2001  <=1.5              1\n      >2                 2\n2002  <=2                1\n      >2                 3\n2003  >2                 2\n2004  <=2                2\n      >2                 5\n2005  <=2                3\n      >2                 3\n2006  <=2                6\n      >2                 6\n2007  <=2                7\n      >2                 5\n2008  <=2               10\n      >2                 8\n2009  <=2               15\n      >2                 7\n2010  <=2               21\n      >2                10\n2011  <=2               28\n      >2                 9\n2012  <=2               75\n      >2                17\n2013  <=2              211\n      >2                42\n2014  <=1.5              4\n      <=2              290\n      >2                90\n2015  <=1.5             83\n      <=2              453\n      >2               180\n2016  <=1.5            286\n      <=2              816\n      >2               296\n2017  <=1.5            236\n      <=2              732\n      >2               328\n2018  <=1.5            113\n      <=2              375\n      >2               147\n2019  <=1.5            395\n      <=2             1606\n      >2               597\n2020  <=1.5             67\n      <=2              349\n      >2               136\nName: price, dtype: int64"
     },
     "execution_count": 94,
     "metadata": {},
     "output_type": "execute_result"
    }
   ],
   "source": [
    "train.groupby(['year', 'engine_group'])['price'].count()"
   ],
   "metadata": {
    "collapsed": false,
    "pycharm": {
     "name": "#%%\n"
    }
   }
  },
  {
   "cell_type": "markdown",
   "source": [
    "##### Создание сводника"
   ],
   "metadata": {
    "collapsed": false,
    "pycharm": {
     "name": "#%% md\n"
    }
   }
  },
  {
   "cell_type": "code",
   "execution_count": 95,
   "outputs": [
    {
     "data": {
      "text/plain": "engine_group    <=1.5      <=2       >2\nyear                                   \n1996              NaN      NaN   5995.0\n1997              NaN   3950.0      NaN\n1998              NaN   3950.0      NaN\n1999              NaN   3995.0      NaN\n2000              NaN      NaN   1550.0\n2001          13000.0      NaN   4500.0\n2002              NaN   3999.0   2990.0\n2003              NaN      NaN   9222.5\n2004              NaN   1970.0   8750.0\n2005              NaN   4375.0   4995.0\n2006              NaN   2992.5   5344.5\n2007              NaN   3495.0   5994.0\n2008              NaN   3992.5   7642.5\n2009              NaN   4740.0   9490.0\n2010              NaN   5995.0   9125.0\n2011              NaN   7624.0  10500.0\n2012              NaN   8500.0  12970.0\n2013              NaN   9990.0  15895.5\n2014          14972.5  11945.0  16656.0\n2015          10999.0  13490.0  18144.5\n2016          11809.0  15500.0  19996.5\n2017          14292.5  17625.0  22980.5\n2018          16500.0  20750.0  27980.0\n2019          20980.0  27294.0  45980.0\n2020          23995.0  30995.0  48560.0",
      "text/html": "<div>\n<style scoped>\n    .dataframe tbody tr th:only-of-type {\n        vertical-align: middle;\n    }\n\n    .dataframe tbody tr th {\n        vertical-align: top;\n    }\n\n    .dataframe thead th {\n        text-align: right;\n    }\n</style>\n<table border=\"1\" class=\"dataframe\">\n  <thead>\n    <tr style=\"text-align: right;\">\n      <th>engine_group</th>\n      <th>&lt;=1.5</th>\n      <th>&lt;=2</th>\n      <th>&gt;2</th>\n    </tr>\n    <tr>\n      <th>year</th>\n      <th></th>\n      <th></th>\n      <th></th>\n    </tr>\n  </thead>\n  <tbody>\n    <tr>\n      <th>1996</th>\n      <td>NaN</td>\n      <td>NaN</td>\n      <td>5995.0</td>\n    </tr>\n    <tr>\n      <th>1997</th>\n      <td>NaN</td>\n      <td>3950.0</td>\n      <td>NaN</td>\n    </tr>\n    <tr>\n      <th>1998</th>\n      <td>NaN</td>\n      <td>3950.0</td>\n      <td>NaN</td>\n    </tr>\n    <tr>\n      <th>1999</th>\n      <td>NaN</td>\n      <td>3995.0</td>\n      <td>NaN</td>\n    </tr>\n    <tr>\n      <th>2000</th>\n      <td>NaN</td>\n      <td>NaN</td>\n      <td>1550.0</td>\n    </tr>\n    <tr>\n      <th>2001</th>\n      <td>13000.0</td>\n      <td>NaN</td>\n      <td>4500.0</td>\n    </tr>\n    <tr>\n      <th>2002</th>\n      <td>NaN</td>\n      <td>3999.0</td>\n      <td>2990.0</td>\n    </tr>\n    <tr>\n      <th>2003</th>\n      <td>NaN</td>\n      <td>NaN</td>\n      <td>9222.5</td>\n    </tr>\n    <tr>\n      <th>2004</th>\n      <td>NaN</td>\n      <td>1970.0</td>\n      <td>8750.0</td>\n    </tr>\n    <tr>\n      <th>2005</th>\n      <td>NaN</td>\n      <td>4375.0</td>\n      <td>4995.0</td>\n    </tr>\n    <tr>\n      <th>2006</th>\n      <td>NaN</td>\n      <td>2992.5</td>\n      <td>5344.5</td>\n    </tr>\n    <tr>\n      <th>2007</th>\n      <td>NaN</td>\n      <td>3495.0</td>\n      <td>5994.0</td>\n    </tr>\n    <tr>\n      <th>2008</th>\n      <td>NaN</td>\n      <td>3992.5</td>\n      <td>7642.5</td>\n    </tr>\n    <tr>\n      <th>2009</th>\n      <td>NaN</td>\n      <td>4740.0</td>\n      <td>9490.0</td>\n    </tr>\n    <tr>\n      <th>2010</th>\n      <td>NaN</td>\n      <td>5995.0</td>\n      <td>9125.0</td>\n    </tr>\n    <tr>\n      <th>2011</th>\n      <td>NaN</td>\n      <td>7624.0</td>\n      <td>10500.0</td>\n    </tr>\n    <tr>\n      <th>2012</th>\n      <td>NaN</td>\n      <td>8500.0</td>\n      <td>12970.0</td>\n    </tr>\n    <tr>\n      <th>2013</th>\n      <td>NaN</td>\n      <td>9990.0</td>\n      <td>15895.5</td>\n    </tr>\n    <tr>\n      <th>2014</th>\n      <td>14972.5</td>\n      <td>11945.0</td>\n      <td>16656.0</td>\n    </tr>\n    <tr>\n      <th>2015</th>\n      <td>10999.0</td>\n      <td>13490.0</td>\n      <td>18144.5</td>\n    </tr>\n    <tr>\n      <th>2016</th>\n      <td>11809.0</td>\n      <td>15500.0</td>\n      <td>19996.5</td>\n    </tr>\n    <tr>\n      <th>2017</th>\n      <td>14292.5</td>\n      <td>17625.0</td>\n      <td>22980.5</td>\n    </tr>\n    <tr>\n      <th>2018</th>\n      <td>16500.0</td>\n      <td>20750.0</td>\n      <td>27980.0</td>\n    </tr>\n    <tr>\n      <th>2019</th>\n      <td>20980.0</td>\n      <td>27294.0</td>\n      <td>45980.0</td>\n    </tr>\n    <tr>\n      <th>2020</th>\n      <td>23995.0</td>\n      <td>30995.0</td>\n      <td>48560.0</td>\n    </tr>\n  </tbody>\n</table>\n</div>"
     },
     "execution_count": 95,
     "metadata": {},
     "output_type": "execute_result"
    }
   ],
   "source": [
    "train.pivot_table(index='year', columns='engine_group', values='price', aggfunc='median')"
   ],
   "metadata": {
    "collapsed": false,
    "pycharm": {
     "name": "#%%\n"
    }
   }
  },
  {
   "cell_type": "markdown",
   "source": [
    "##### Для лучшего восприятия создадим heatmap"
   ],
   "metadata": {
    "collapsed": false,
    "pycharm": {
     "name": "#%% md\n"
    }
   }
  },
  {
   "cell_type": "code",
   "execution_count": 96,
   "outputs": [],
   "source": [
    "import seaborn as sns"
   ],
   "metadata": {
    "collapsed": false,
    "pycharm": {
     "name": "#%%\n"
    }
   }
  },
  {
   "cell_type": "code",
   "execution_count": 97,
   "outputs": [
    {
     "data": {
      "text/plain": "<Figure size 640x480 with 2 Axes>",
      "image/png": "[encoded data removed]"
     },
     "metadata": {},
     "output_type": "display_data"
    }
   ],
   "source": [
    "sns.heatmap(train.pivot_table(index='year', columns='engine_group', values='price', aggfunc='median'));"
   ],
   "metadata": {
    "collapsed": false,
    "pycharm": {
     "name": "#%%\n"
    }
   }
  },
  {
   "cell_type": "markdown",
   "source": [
    "##### Модель работает верно: чем новее автомобиль и чем больше объём двигателя, тем выше его стоимость"
   ],
   "metadata": {
    "collapsed": false,
    "pycharm": {
     "name": "#%% md\n"
    }
   }
  },
  {
   "cell_type": "code",
   "execution_count": 98,
   "outputs": [],
   "source": [
    "model_year_engine_median = model_year_engine_median.rename({'price': 'price_pred_year_engine_median'}, axis=1)"
   ],
   "metadata": {
    "collapsed": false,
    "pycharm": {
     "name": "#%%\n"
    }
   }
  },
  {
   "cell_type": "code",
   "execution_count": 99,
   "outputs": [
    {
     "data": {
      "text/plain": "    year engine_group  price_pred_year_engine_median\n0   1996           >2                         5995.0\n1   1997          <=2                         3950.0\n2   1998          <=2                         3950.0\n3   1999          <=2                         3995.0\n4   2000           >2                         1550.0\n5   2001        <=1.5                        13000.0\n6   2001           >2                         4500.0\n7   2002          <=2                         3999.0\n8   2002           >2                         2990.0\n9   2003           >2                         9222.5\n10  2004          <=2                         1970.0\n11  2004           >2                         8750.0\n12  2005          <=2                         4375.0\n13  2005           >2                         4995.0\n14  2006          <=2                         2992.5\n15  2006           >2                         5344.5\n16  2007          <=2                         3495.0\n17  2007           >2                         5994.0\n18  2008          <=2                         3992.5\n19  2008           >2                         7642.5\n20  2009          <=2                         4740.0\n21  2009           >2                         9490.0\n22  2010          <=2                         5995.0\n23  2010           >2                         9125.0\n24  2011          <=2                         7624.0\n25  2011           >2                        10500.0\n26  2012          <=2                         8500.0\n27  2012           >2                        12970.0\n28  2013          <=2                         9990.0\n29  2013           >2                        15895.5\n30  2014        <=1.5                        14972.5\n31  2014          <=2                        11945.0\n32  2014           >2                        16656.0\n33  2015        <=1.5                        10999.0\n34  2015          <=2                        13490.0\n35  2015           >2                        18144.5\n36  2016        <=1.5                        11809.0\n37  2016          <=2                        15500.0\n38  2016           >2                        19996.5\n39  2017        <=1.5                        14292.5\n40  2017          <=2                        17625.0\n41  2017           >2                        22980.5\n42  2018        <=1.5                        16500.0\n43  2018          <=2                        20750.0\n44  2018           >2                        27980.0\n45  2019        <=1.5                        20980.0\n46  2019          <=2                        27294.0\n47  2019           >2                        45980.0\n48  2020        <=1.5                        23995.0\n49  2020          <=2                        30995.0\n50  2020           >2                        48560.0",
      "text/html": "<div>\n<style scoped>\n    .dataframe tbody tr th:only-of-type {\n        vertical-align: middle;\n    }\n\n    .dataframe tbody tr th {\n        vertical-align: top;\n    }\n\n    .dataframe thead th {\n        text-align: right;\n    }\n</style>\n<table border=\"1\" class=\"dataframe\">\n  <thead>\n    <tr style=\"text-align: right;\">\n      <th></th>\n      <th>year</th>\n      <th>engine_group</th>\n      <th>price_pred_year_engine_median</th>\n    </tr>\n  </thead>\n  <tbody>\n    <tr>\n      <th>0</th>\n      <td>1996</td>\n      <td>&gt;2</td>\n      <td>5995.0</td>\n    </tr>\n    <tr>\n      <th>1</th>\n      <td>1997</td>\n      <td>&lt;=2</td>\n      <td>3950.0</td>\n    </tr>\n    <tr>\n      <th>2</th>\n      <td>1998</td>\n      <td>&lt;=2</td>\n      <td>3950.0</td>\n    </tr>\n    <tr>\n      <th>3</th>\n      <td>1999</td>\n      <td>&lt;=2</td>\n      <td>3995.0</td>\n    </tr>\n    <tr>\n      <th>4</th>\n      <td>2000</td>\n      <td>&gt;2</td>\n      <td>1550.0</td>\n    </tr>\n    <tr>\n      <th>5</th>\n      <td>2001</td>\n      <td>&lt;=1.5</td>\n      <td>13000.0</td>\n    </tr>\n    <tr>\n      <th>6</th>\n      <td>2001</td>\n      <td>&gt;2</td>\n      <td>4500.0</td>\n    </tr>\n    <tr>\n      <th>7</th>\n      <td>2002</td>\n      <td>&lt;=2</td>\n      <td>3999.0</td>\n    </tr>\n    <tr>\n      <th>8</th>\n      <td>2002</td>\n      <td>&gt;2</td>\n      <td>2990.0</td>\n    </tr>\n    <tr>\n      <th>9</th>\n      <td>2003</td>\n      <td>&gt;2</td>\n      <td>9222.5</td>\n    </tr>\n    <tr>\n      <th>10</th>\n      <td>2004</td>\n      <td>&lt;=2</td>\n      <td>1970.0</td>\n    </tr>\n    <tr>\n      <th>11</th>\n      <td>2004</td>\n      <td>&gt;2</td>\n      <td>8750.0</td>\n    </tr>\n    <tr>\n      <th>12</th>\n      <td>2005</td>\n      <td>&lt;=2</td>\n      <td>4375.0</td>\n    </tr>\n    <tr>\n      <th>13</th>\n      <td>2005</td>\n      <td>&gt;2</td>\n      <td>4995.0</td>\n    </tr>\n    <tr>\n      <th>14</th>\n      <td>2006</td>\n      <td>&lt;=2</td>\n      <td>2992.5</td>\n    </tr>\n    <tr>\n      <th>15</th>\n      <td>2006</td>\n      <td>&gt;2</td>\n      <td>5344.5</td>\n    </tr>\n    <tr>\n      <th>16</th>\n      <td>2007</td>\n      <td>&lt;=2</td>\n      <td>3495.0</td>\n    </tr>\n    <tr>\n      <th>17</th>\n      <td>2007</td>\n      <td>&gt;2</td>\n      <td>5994.0</td>\n    </tr>\n    <tr>\n      <th>18</th>\n      <td>2008</td>\n      <td>&lt;=2</td>\n      <td>3992.5</td>\n    </tr>\n    <tr>\n      <th>19</th>\n      <td>2008</td>\n      <td>&gt;2</td>\n      <td>7642.5</td>\n    </tr>\n    <tr>\n      <th>20</th>\n      <td>2009</td>\n      <td>&lt;=2</td>\n      <td>4740.0</td>\n    </tr>\n    <tr>\n      <th>21</th>\n      <td>2009</td>\n      <td>&gt;2</td>\n      <td>9490.0</td>\n    </tr>\n    <tr>\n      <th>22</th>\n      <td>2010</td>\n      <td>&lt;=2</td>\n      <td>5995.0</td>\n    </tr>\n    <tr>\n      <th>23</th>\n      <td>2010</td>\n      <td>&gt;2</td>\n      <td>9125.0</td>\n    </tr>\n    <tr>\n      <th>24</th>\n      <td>2011</td>\n      <td>&lt;=2</td>\n      <td>7624.0</td>\n    </tr>\n    <tr>\n      <th>25</th>\n      <td>2011</td>\n      <td>&gt;2</td>\n      <td>10500.0</td>\n    </tr>\n    <tr>\n      <th>26</th>\n      <td>2012</td>\n      <td>&lt;=2</td>\n      <td>8500.0</td>\n    </tr>\n    <tr>\n      <th>27</th>\n      <td>2012</td>\n      <td>&gt;2</td>\n      <td>12970.0</td>\n    </tr>\n    <tr>\n      <th>28</th>\n      <td>2013</td>\n      <td>&lt;=2</td>\n      <td>9990.0</td>\n    </tr>\n    <tr>\n      <th>29</th>\n      <td>2013</td>\n      <td>&gt;2</td>\n      <td>15895.5</td>\n    </tr>\n    <tr>\n      <th>30</th>\n      <td>2014</td>\n      <td>&lt;=1.5</td>\n      <td>14972.5</td>\n    </tr>\n    <tr>\n      <th>31</th>\n      <td>2014</td>\n      <td>&lt;=2</td>\n      <td>11945.0</td>\n    </tr>\n    <tr>\n      <th>32</th>\n      <td>2014</td>\n      <td>&gt;2</td>\n      <td>16656.0</td>\n    </tr>\n    <tr>\n      <th>33</th>\n      <td>2015</td>\n      <td>&lt;=1.5</td>\n      <td>10999.0</td>\n    </tr>\n    <tr>\n      <th>34</th>\n      <td>2015</td>\n      <td>&lt;=2</td>\n      <td>13490.0</td>\n    </tr>\n    <tr>\n      <th>35</th>\n      <td>2015</td>\n      <td>&gt;2</td>\n      <td>18144.5</td>\n    </tr>\n    <tr>\n      <th>36</th>\n      <td>2016</td>\n      <td>&lt;=1.5</td>\n      <td>11809.0</td>\n    </tr>\n    <tr>\n      <th>37</th>\n      <td>2016</td>\n      <td>&lt;=2</td>\n      <td>15500.0</td>\n    </tr>\n    <tr>\n      <th>38</th>\n      <td>2016</td>\n      <td>&gt;2</td>\n      <td>19996.5</td>\n    </tr>\n    <tr>\n      <th>39</th>\n      <td>2017</td>\n      <td>&lt;=1.5</td>\n      <td>14292.5</td>\n    </tr>\n    <tr>\n      <th>40</th>\n      <td>2017</td>\n      <td>&lt;=2</td>\n      <td>17625.0</td>\n    </tr>\n    <tr>\n      <th>41</th>\n      <td>2017</td>\n      <td>&gt;2</td>\n      <td>22980.5</td>\n    </tr>\n    <tr>\n      <th>42</th>\n      <td>2018</td>\n      <td>&lt;=1.5</td>\n      <td>16500.0</td>\n    </tr>\n    <tr>\n      <th>43</th>\n      <td>2018</td>\n      <td>&lt;=2</td>\n      <td>20750.0</td>\n    </tr>\n    <tr>\n      <th>44</th>\n      <td>2018</td>\n      <td>&gt;2</td>\n      <td>27980.0</td>\n    </tr>\n    <tr>\n      <th>45</th>\n      <td>2019</td>\n      <td>&lt;=1.5</td>\n      <td>20980.0</td>\n    </tr>\n    <tr>\n      <th>46</th>\n      <td>2019</td>\n      <td>&lt;=2</td>\n      <td>27294.0</td>\n    </tr>\n    <tr>\n      <th>47</th>\n      <td>2019</td>\n      <td>&gt;2</td>\n      <td>45980.0</td>\n    </tr>\n    <tr>\n      <th>48</th>\n      <td>2020</td>\n      <td>&lt;=1.5</td>\n      <td>23995.0</td>\n    </tr>\n    <tr>\n      <th>49</th>\n      <td>2020</td>\n      <td>&lt;=2</td>\n      <td>30995.0</td>\n    </tr>\n    <tr>\n      <th>50</th>\n      <td>2020</td>\n      <td>&gt;2</td>\n      <td>48560.0</td>\n    </tr>\n  </tbody>\n</table>\n</div>"
     },
     "execution_count": 99,
     "metadata": {},
     "output_type": "execute_result"
    }
   ],
   "source": [
    "model_year_engine_median"
   ],
   "metadata": {
    "collapsed": false,
    "pycharm": {
     "name": "#%%\n"
    }
   }
  },
  {
   "cell_type": "markdown",
   "source": [
    "##### Смёрджим новую таблицу с трейном"
   ],
   "metadata": {
    "collapsed": false,
    "pycharm": {
     "name": "#%% md\n"
    }
   }
  },
  {
   "cell_type": "code",
   "execution_count": 100,
   "outputs": [],
   "source": [
    "train = train.merge(model_year_engine_median, how='left', on=['year', 'engine_group'])"
   ],
   "metadata": {
    "collapsed": false,
    "pycharm": {
     "name": "#%%\n"
    }
   }
  },
  {
   "cell_type": "code",
   "execution_count": 101,
   "outputs": [
    {
     "data": {
      "text/plain": "       model  year  price transmission  mileage fuelType  tax   mpg  \\\n0   5 Series  2013  12791    Semi-Auto    55642   Diesel  145  55.4   \n1   1 Series  2019  23995    Semi-Auto     1527   Petrol  145  43.5   \n2         X5  2015  25995    Automatic    43344   Diesel  200  47.1   \n3   2 Series  2019  25000    Automatic     4000   Petrol  145  47.9   \n4   1 Series  2015  10950       Manual    33000   Diesel   20  72.4   \n\n   engineSize  price_pred_mean           err       err_abs  err_abs_pct  \\\n0         2.0     22668.821645   9877.821645   9877.821645     0.772248   \n1         1.5     22668.821645  -1326.178355   1326.178355     0.055269   \n2         3.0     22668.821645  -3326.178355   3326.178355     0.127955   \n3         2.0     22668.821645  -2331.178355   2331.178355     0.093247   \n4         1.5     22668.821645  11718.821645  11718.821645     1.070212   \n\n   price_pred_median  price_pred_year_mean  price_pred_year_median  \\\n0            20022.0          11041.347826                 10490.0   \n1            20022.0          31066.986143                 27980.0   \n2            20022.0          15086.536313                 14103.5   \n3            20022.0          31066.986143                 27980.0   \n4            20022.0          15086.536313                 14103.5   \n\n  engine_group engine_group2  price_pred_year_engine_median  \n0          <=2    (1.5, 2.0]                         9990.0  \n1        <=1.5   (-inf, 1.5]                        20980.0  \n2           >2    (2.0, inf]                        18144.5  \n3          <=2    (1.5, 2.0]                        27294.0  \n4        <=1.5   (-inf, 1.5]                        10999.0  ",
      "text/html": "<div>\n<style scoped>\n    .dataframe tbody tr th:only-of-type {\n        vertical-align: middle;\n    }\n\n    .dataframe tbody tr th {\n        vertical-align: top;\n    }\n\n    .dataframe thead th {\n        text-align: right;\n    }\n</style>\n<table border=\"1\" class=\"dataframe\">\n  <thead>\n    <tr style=\"text-align: right;\">\n      <th></th>\n      <th>model</th>\n      <th>year</th>\n      <th>price</th>\n      <th>transmission</th>\n      <th>mileage</th>\n      <th>fuelType</th>\n      <th>tax</th>\n      <th>mpg</th>\n      <th>engineSize</th>\n      <th>price_pred_mean</th>\n      <th>err</th>\n      <th>err_abs</th>\n      <th>err_abs_pct</th>\n      <th>price_pred_median</th>\n      <th>price_pred_year_mean</th>\n      <th>price_pred_year_median</th>\n      <th>engine_group</th>\n      <th>engine_group2</th>\n      <th>price_pred_year_engine_median</th>\n    </tr>\n  </thead>\n  <tbody>\n    <tr>\n      <th>0</th>\n      <td>5 Series</td>\n      <td>2013</td>\n      <td>12791</td>\n      <td>Semi-Auto</td>\n      <td>55642</td>\n      <td>Diesel</td>\n      <td>145</td>\n      <td>55.4</td>\n      <td>2.0</td>\n      <td>22668.821645</td>\n      <td>9877.821645</td>\n      <td>9877.821645</td>\n      <td>0.772248</td>\n      <td>20022.0</td>\n      <td>11041.347826</td>\n      <td>10490.0</td>\n      <td>&lt;=2</td>\n      <td>(1.5, 2.0]</td>\n      <td>9990.0</td>\n    </tr>\n    <tr>\n      <th>1</th>\n      <td>1 Series</td>\n      <td>2019</td>\n      <td>23995</td>\n      <td>Semi-Auto</td>\n      <td>1527</td>\n      <td>Petrol</td>\n      <td>145</td>\n      <td>43.5</td>\n      <td>1.5</td>\n      <td>22668.821645</td>\n      <td>-1326.178355</td>\n      <td>1326.178355</td>\n      <td>0.055269</td>\n      <td>20022.0</td>\n      <td>31066.986143</td>\n      <td>27980.0</td>\n      <td>&lt;=1.5</td>\n      <td>(-inf, 1.5]</td>\n      <td>20980.0</td>\n    </tr>\n    <tr>\n      <th>2</th>\n      <td>X5</td>\n      <td>2015</td>\n      <td>25995</td>\n      <td>Automatic</td>\n      <td>43344</td>\n      <td>Diesel</td>\n      <td>200</td>\n      <td>47.1</td>\n      <td>3.0</td>\n      <td>22668.821645</td>\n      <td>-3326.178355</td>\n      <td>3326.178355</td>\n      <td>0.127955</td>\n      <td>20022.0</td>\n      <td>15086.536313</td>\n      <td>14103.5</td>\n      <td>&gt;2</td>\n      <td>(2.0, inf]</td>\n      <td>18144.5</td>\n    </tr>\n    <tr>\n      <th>3</th>\n      <td>2 Series</td>\n      <td>2019</td>\n      <td>25000</td>\n      <td>Automatic</td>\n      <td>4000</td>\n      <td>Petrol</td>\n      <td>145</td>\n      <td>47.9</td>\n      <td>2.0</td>\n      <td>22668.821645</td>\n      <td>-2331.178355</td>\n      <td>2331.178355</td>\n      <td>0.093247</td>\n      <td>20022.0</td>\n      <td>31066.986143</td>\n      <td>27980.0</td>\n      <td>&lt;=2</td>\n      <td>(1.5, 2.0]</td>\n      <td>27294.0</td>\n    </tr>\n    <tr>\n      <th>4</th>\n      <td>1 Series</td>\n      <td>2015</td>\n      <td>10950</td>\n      <td>Manual</td>\n      <td>33000</td>\n      <td>Diesel</td>\n      <td>20</td>\n      <td>72.4</td>\n      <td>1.5</td>\n      <td>22668.821645</td>\n      <td>11718.821645</td>\n      <td>11718.821645</td>\n      <td>1.070212</td>\n      <td>20022.0</td>\n      <td>15086.536313</td>\n      <td>14103.5</td>\n      <td>&lt;=1.5</td>\n      <td>(-inf, 1.5]</td>\n      <td>10999.0</td>\n    </tr>\n  </tbody>\n</table>\n</div>"
     },
     "execution_count": 101,
     "metadata": {},
     "output_type": "execute_result"
    }
   ],
   "source": [
    "train.head()"
   ],
   "metadata": {
    "collapsed": false,
    "pycharm": {
     "name": "#%%\n"
    }
   }
  },
  {
   "cell_type": "code",
   "execution_count": 102,
   "outputs": [
    {
     "data": {
      "text/plain": "3659.774273345702"
     },
     "execution_count": 102,
     "metadata": {},
     "output_type": "execute_result"
    }
   ],
   "source": [
    "mean_absolute_error(train.price, train.price_pred_year_engine_median)"
   ],
   "metadata": {
    "collapsed": false,
    "pycharm": {
     "name": "#%%\n"
    }
   }
  },
  {
   "cell_type": "code",
   "execution_count": 103,
   "outputs": [
    {
     "data": {
      "text/plain": "0.1582922021242831"
     },
     "execution_count": 103,
     "metadata": {},
     "output_type": "execute_result"
    }
   ],
   "source": [
    "mean_absolute_percentage_error(train.price, train.price_pred_year_engine_median)"
   ],
   "metadata": {
    "collapsed": false,
    "pycharm": {
     "name": "#%%\n"
    }
   }
  },
  {
   "cell_type": "markdown",
   "source": [
    "##### Проверим то же на тесте"
   ],
   "metadata": {
    "collapsed": false,
    "pycharm": {
     "name": "#%% md\n"
    }
   }
  },
  {
   "cell_type": "code",
   "execution_count": 104,
   "outputs": [
    {
     "data": {
      "text/plain": "       model  year  price transmission  mileage fuelType  tax   mpg  \\\n0   1 Series  2018  15300       Manual    36469   Diesel  150  50.4   \n1   5 Series  2014  15495    Semi-Auto    51565   Diesel  160  51.4   \n2         X3  2019  39875    Semi-Auto     8988   Diesel  150  36.7   \n3   2 Series  2019  21730    Automatic     5054   Petrol  145  39.2   \n4   2 Series  2018  13799       Manual    13369   Diesel  145  65.7   \n\n   engineSize  price_pred_median  price_pred_year_mean  price_pred_year_median  \n0         1.5            20022.0          22562.450394                 21000.0  \n1         2.0            20022.0          13411.333333                 12797.5  \n2         3.0            20022.0          31066.986143                 27980.0  \n3         1.5            20022.0          31066.986143                 27980.0  \n4         1.5            20022.0          22562.450394                 21000.0  ",
      "text/html": "<div>\n<style scoped>\n    .dataframe tbody tr th:only-of-type {\n        vertical-align: middle;\n    }\n\n    .dataframe tbody tr th {\n        vertical-align: top;\n    }\n\n    .dataframe thead th {\n        text-align: right;\n    }\n</style>\n<table border=\"1\" class=\"dataframe\">\n  <thead>\n    <tr style=\"text-align: right;\">\n      <th></th>\n      <th>model</th>\n      <th>year</th>\n      <th>price</th>\n      <th>transmission</th>\n      <th>mileage</th>\n      <th>fuelType</th>\n      <th>tax</th>\n      <th>mpg</th>\n      <th>engineSize</th>\n      <th>price_pred_median</th>\n      <th>price_pred_year_mean</th>\n      <th>price_pred_year_median</th>\n    </tr>\n  </thead>\n  <tbody>\n    <tr>\n      <th>0</th>\n      <td>1 Series</td>\n      <td>2018</td>\n      <td>15300</td>\n      <td>Manual</td>\n      <td>36469</td>\n      <td>Diesel</td>\n      <td>150</td>\n      <td>50.4</td>\n      <td>1.5</td>\n      <td>20022.0</td>\n      <td>22562.450394</td>\n      <td>21000.0</td>\n    </tr>\n    <tr>\n      <th>1</th>\n      <td>5 Series</td>\n      <td>2014</td>\n      <td>15495</td>\n      <td>Semi-Auto</td>\n      <td>51565</td>\n      <td>Diesel</td>\n      <td>160</td>\n      <td>51.4</td>\n      <td>2.0</td>\n      <td>20022.0</td>\n      <td>13411.333333</td>\n      <td>12797.5</td>\n    </tr>\n    <tr>\n      <th>2</th>\n      <td>X3</td>\n      <td>2019</td>\n      <td>39875</td>\n      <td>Semi-Auto</td>\n      <td>8988</td>\n      <td>Diesel</td>\n      <td>150</td>\n      <td>36.7</td>\n      <td>3.0</td>\n      <td>20022.0</td>\n      <td>31066.986143</td>\n      <td>27980.0</td>\n    </tr>\n    <tr>\n      <th>3</th>\n      <td>2 Series</td>\n      <td>2019</td>\n      <td>21730</td>\n      <td>Automatic</td>\n      <td>5054</td>\n      <td>Petrol</td>\n      <td>145</td>\n      <td>39.2</td>\n      <td>1.5</td>\n      <td>20022.0</td>\n      <td>31066.986143</td>\n      <td>27980.0</td>\n    </tr>\n    <tr>\n      <th>4</th>\n      <td>2 Series</td>\n      <td>2018</td>\n      <td>13799</td>\n      <td>Manual</td>\n      <td>13369</td>\n      <td>Diesel</td>\n      <td>145</td>\n      <td>65.7</td>\n      <td>1.5</td>\n      <td>20022.0</td>\n      <td>22562.450394</td>\n      <td>21000.0</td>\n    </tr>\n  </tbody>\n</table>\n</div>"
     },
     "execution_count": 104,
     "metadata": {},
     "output_type": "execute_result"
    }
   ],
   "source": [
    "test.head()"
   ],
   "metadata": {
    "collapsed": false,
    "pycharm": {
     "name": "#%%\n"
    }
   }
  },
  {
   "cell_type": "markdown",
   "source": [
    "##### Сначала добавим engine_group в test"
   ],
   "metadata": {
    "collapsed": false,
    "pycharm": {
     "name": "#%% md\n"
    }
   }
  },
  {
   "cell_type": "code",
   "execution_count": 105,
   "outputs": [],
   "source": [
    "test['engine_group'] = test.engineSize.apply(engine_group)"
   ],
   "metadata": {
    "collapsed": false,
    "pycharm": {
     "name": "#%%\n"
    }
   }
  },
  {
   "cell_type": "code",
   "execution_count": 106,
   "outputs": [
    {
     "data": {
      "text/plain": "       model  year  price transmission  mileage fuelType  tax   mpg  \\\n0   1 Series  2018  15300       Manual    36469   Diesel  150  50.4   \n1   5 Series  2014  15495    Semi-Auto    51565   Diesel  160  51.4   \n2         X3  2019  39875    Semi-Auto     8988   Diesel  150  36.7   \n3   2 Series  2019  21730    Automatic     5054   Petrol  145  39.2   \n4   2 Series  2018  13799       Manual    13369   Diesel  145  65.7   \n\n   engineSize  price_pred_median  price_pred_year_mean  \\\n0         1.5            20022.0          22562.450394   \n1         2.0            20022.0          13411.333333   \n2         3.0            20022.0          31066.986143   \n3         1.5            20022.0          31066.986143   \n4         1.5            20022.0          22562.450394   \n\n   price_pred_year_median engine_group  \n0                 21000.0        <=1.5  \n1                 12797.5          <=2  \n2                 27980.0           >2  \n3                 27980.0        <=1.5  \n4                 21000.0        <=1.5  ",
      "text/html": "<div>\n<style scoped>\n    .dataframe tbody tr th:only-of-type {\n        vertical-align: middle;\n    }\n\n    .dataframe tbody tr th {\n        vertical-align: top;\n    }\n\n    .dataframe thead th {\n        text-align: right;\n    }\n</style>\n<table border=\"1\" class=\"dataframe\">\n  <thead>\n    <tr style=\"text-align: right;\">\n      <th></th>\n      <th>model</th>\n      <th>year</th>\n      <th>price</th>\n      <th>transmission</th>\n      <th>mileage</th>\n      <th>fuelType</th>\n      <th>tax</th>\n      <th>mpg</th>\n      <th>engineSize</th>\n      <th>price_pred_median</th>\n      <th>price_pred_year_mean</th>\n      <th>price_pred_year_median</th>\n      <th>engine_group</th>\n    </tr>\n  </thead>\n  <tbody>\n    <tr>\n      <th>0</th>\n      <td>1 Series</td>\n      <td>2018</td>\n      <td>15300</td>\n      <td>Manual</td>\n      <td>36469</td>\n      <td>Diesel</td>\n      <td>150</td>\n      <td>50.4</td>\n      <td>1.5</td>\n      <td>20022.0</td>\n      <td>22562.450394</td>\n      <td>21000.0</td>\n      <td>&lt;=1.5</td>\n    </tr>\n    <tr>\n      <th>1</th>\n      <td>5 Series</td>\n      <td>2014</td>\n      <td>15495</td>\n      <td>Semi-Auto</td>\n      <td>51565</td>\n      <td>Diesel</td>\n      <td>160</td>\n      <td>51.4</td>\n      <td>2.0</td>\n      <td>20022.0</td>\n      <td>13411.333333</td>\n      <td>12797.5</td>\n      <td>&lt;=2</td>\n    </tr>\n    <tr>\n      <th>2</th>\n      <td>X3</td>\n      <td>2019</td>\n      <td>39875</td>\n      <td>Semi-Auto</td>\n      <td>8988</td>\n      <td>Diesel</td>\n      <td>150</td>\n      <td>36.7</td>\n      <td>3.0</td>\n      <td>20022.0</td>\n      <td>31066.986143</td>\n      <td>27980.0</td>\n      <td>&gt;2</td>\n    </tr>\n    <tr>\n      <th>3</th>\n      <td>2 Series</td>\n      <td>2019</td>\n      <td>21730</td>\n      <td>Automatic</td>\n      <td>5054</td>\n      <td>Petrol</td>\n      <td>145</td>\n      <td>39.2</td>\n      <td>1.5</td>\n      <td>20022.0</td>\n      <td>31066.986143</td>\n      <td>27980.0</td>\n      <td>&lt;=1.5</td>\n    </tr>\n    <tr>\n      <th>4</th>\n      <td>2 Series</td>\n      <td>2018</td>\n      <td>13799</td>\n      <td>Manual</td>\n      <td>13369</td>\n      <td>Diesel</td>\n      <td>145</td>\n      <td>65.7</td>\n      <td>1.5</td>\n      <td>20022.0</td>\n      <td>22562.450394</td>\n      <td>21000.0</td>\n      <td>&lt;=1.5</td>\n    </tr>\n  </tbody>\n</table>\n</div>"
     },
     "execution_count": 106,
     "metadata": {},
     "output_type": "execute_result"
    }
   ],
   "source": [
    "test.head()"
   ],
   "metadata": {
    "collapsed": false,
    "pycharm": {
     "name": "#%%\n"
    }
   }
  },
  {
   "cell_type": "code",
   "execution_count": 107,
   "outputs": [],
   "source": [
    "test = test.merge(model_year_engine_median, how='left', on=['year', 'engine_group'])"
   ],
   "metadata": {
    "collapsed": false,
    "pycharm": {
     "name": "#%%\n"
    }
   }
  },
  {
   "cell_type": "code",
   "execution_count": 108,
   "outputs": [
    {
     "data": {
      "text/plain": "       model  year  price transmission  mileage fuelType  tax   mpg  \\\n0   1 Series  2018  15300       Manual    36469   Diesel  150  50.4   \n1   5 Series  2014  15495    Semi-Auto    51565   Diesel  160  51.4   \n2         X3  2019  39875    Semi-Auto     8988   Diesel  150  36.7   \n3   2 Series  2019  21730    Automatic     5054   Petrol  145  39.2   \n4   2 Series  2018  13799       Manual    13369   Diesel  145  65.7   \n\n   engineSize  price_pred_median  price_pred_year_mean  \\\n0         1.5            20022.0          22562.450394   \n1         2.0            20022.0          13411.333333   \n2         3.0            20022.0          31066.986143   \n3         1.5            20022.0          31066.986143   \n4         1.5            20022.0          22562.450394   \n\n   price_pred_year_median engine_group  price_pred_year_engine_median  \n0                 21000.0        <=1.5                        16500.0  \n1                 12797.5          <=2                        11945.0  \n2                 27980.0           >2                        45980.0  \n3                 27980.0        <=1.5                        20980.0  \n4                 21000.0        <=1.5                        16500.0  ",
      "text/html": "<div>\n<style scoped>\n    .dataframe tbody tr th:only-of-type {\n        vertical-align: middle;\n    }\n\n    .dataframe tbody tr th {\n        vertical-align: top;\n    }\n\n    .dataframe thead th {\n        text-align: right;\n    }\n</style>\n<table border=\"1\" class=\"dataframe\">\n  <thead>\n    <tr style=\"text-align: right;\">\n      <th></th>\n      <th>model</th>\n      <th>year</th>\n      <th>price</th>\n      <th>transmission</th>\n      <th>mileage</th>\n      <th>fuelType</th>\n      <th>tax</th>\n      <th>mpg</th>\n      <th>engineSize</th>\n      <th>price_pred_median</th>\n      <th>price_pred_year_mean</th>\n      <th>price_pred_year_median</th>\n      <th>engine_group</th>\n      <th>price_pred_year_engine_median</th>\n    </tr>\n  </thead>\n  <tbody>\n    <tr>\n      <th>0</th>\n      <td>1 Series</td>\n      <td>2018</td>\n      <td>15300</td>\n      <td>Manual</td>\n      <td>36469</td>\n      <td>Diesel</td>\n      <td>150</td>\n      <td>50.4</td>\n      <td>1.5</td>\n      <td>20022.0</td>\n      <td>22562.450394</td>\n      <td>21000.0</td>\n      <td>&lt;=1.5</td>\n      <td>16500.0</td>\n    </tr>\n    <tr>\n      <th>1</th>\n      <td>5 Series</td>\n      <td>2014</td>\n      <td>15495</td>\n      <td>Semi-Auto</td>\n      <td>51565</td>\n      <td>Diesel</td>\n      <td>160</td>\n      <td>51.4</td>\n      <td>2.0</td>\n      <td>20022.0</td>\n      <td>13411.333333</td>\n      <td>12797.5</td>\n      <td>&lt;=2</td>\n      <td>11945.0</td>\n    </tr>\n    <tr>\n      <th>2</th>\n      <td>X3</td>\n      <td>2019</td>\n      <td>39875</td>\n      <td>Semi-Auto</td>\n      <td>8988</td>\n      <td>Diesel</td>\n      <td>150</td>\n      <td>36.7</td>\n      <td>3.0</td>\n      <td>20022.0</td>\n      <td>31066.986143</td>\n      <td>27980.0</td>\n      <td>&gt;2</td>\n      <td>45980.0</td>\n    </tr>\n    <tr>\n      <th>3</th>\n      <td>2 Series</td>\n      <td>2019</td>\n      <td>21730</td>\n      <td>Automatic</td>\n      <td>5054</td>\n      <td>Petrol</td>\n      <td>145</td>\n      <td>39.2</td>\n      <td>1.5</td>\n      <td>20022.0</td>\n      <td>31066.986143</td>\n      <td>27980.0</td>\n      <td>&lt;=1.5</td>\n      <td>20980.0</td>\n    </tr>\n    <tr>\n      <th>4</th>\n      <td>2 Series</td>\n      <td>2018</td>\n      <td>13799</td>\n      <td>Manual</td>\n      <td>13369</td>\n      <td>Diesel</td>\n      <td>145</td>\n      <td>65.7</td>\n      <td>1.5</td>\n      <td>20022.0</td>\n      <td>22562.450394</td>\n      <td>21000.0</td>\n      <td>&lt;=1.5</td>\n      <td>16500.0</td>\n    </tr>\n  </tbody>\n</table>\n</div>"
     },
     "execution_count": 108,
     "metadata": {},
     "output_type": "execute_result"
    }
   ],
   "source": [
    "test.head()"
   ],
   "metadata": {
    "collapsed": false,
    "pycharm": {
     "name": "#%%\n"
    }
   }
  },
  {
   "cell_type": "markdown",
   "source": [
    "#### В тесте обнаружились пропуски, это значит, что в тесте не было автомобиля такого года/объёма двигателя, которые были в обучающей выборке"
   ],
   "metadata": {
    "collapsed": false,
    "pycharm": {
     "name": "#%% md\n"
    }
   }
  },
  {
   "cell_type": "code",
   "execution_count": 109,
   "outputs": [
    {
     "data": {
      "text/plain": "model                            0.000000\nyear                             0.000000\nprice                            0.000000\ntransmission                     0.000000\nmileage                          0.000000\nfuelType                         0.000000\ntax                              0.000000\nmpg                              0.000000\nengineSize                       0.000000\nprice_pred_median                0.000000\nprice_pred_year_mean             0.000000\nprice_pred_year_median           0.000000\nengine_group                     0.000000\nprice_pred_year_engine_median    0.000742\ndtype: float64"
     },
     "execution_count": 109,
     "metadata": {},
     "output_type": "execute_result"
    }
   ],
   "source": [
    "test.isna().mean()"
   ],
   "metadata": {
    "collapsed": false,
    "pycharm": {
     "name": "#%%\n"
    }
   }
  },
  {
   "cell_type": "markdown",
   "source": [
    "##### Поиск пропущенных значений"
   ],
   "metadata": {
    "collapsed": false,
    "pycharm": {
     "name": "#%% md\n"
    }
   }
  },
  {
   "cell_type": "code",
   "execution_count": 110,
   "outputs": [
    {
     "data": {
      "text/plain": "          model  year  price transmission  mileage fuelType  tax   mpg  \\\n415    3 Series  1999   1200    Automatic    82000   Petrol  245  31.0   \n2255   5 Series  2000   1699       Manual    99209   Petrol  265  29.4   \n\n      engineSize  price_pred_median  price_pred_year_mean  \\\n415          2.8            20022.0                3980.0   \n2255         2.0            20022.0                1550.0   \n\n      price_pred_year_median engine_group  price_pred_year_engine_median  \n415                   3995.0           >2                            NaN  \n2255                  1550.0          <=2                            NaN  ",
      "text/html": "<div>\n<style scoped>\n    .dataframe tbody tr th:only-of-type {\n        vertical-align: middle;\n    }\n\n    .dataframe tbody tr th {\n        vertical-align: top;\n    }\n\n    .dataframe thead th {\n        text-align: right;\n    }\n</style>\n<table border=\"1\" class=\"dataframe\">\n  <thead>\n    <tr style=\"text-align: right;\">\n      <th></th>\n      <th>model</th>\n      <th>year</th>\n      <th>price</th>\n      <th>transmission</th>\n      <th>mileage</th>\n      <th>fuelType</th>\n      <th>tax</th>\n      <th>mpg</th>\n      <th>engineSize</th>\n      <th>price_pred_median</th>\n      <th>price_pred_year_mean</th>\n      <th>price_pred_year_median</th>\n      <th>engine_group</th>\n      <th>price_pred_year_engine_median</th>\n    </tr>\n  </thead>\n  <tbody>\n    <tr>\n      <th>415</th>\n      <td>3 Series</td>\n      <td>1999</td>\n      <td>1200</td>\n      <td>Automatic</td>\n      <td>82000</td>\n      <td>Petrol</td>\n      <td>245</td>\n      <td>31.0</td>\n      <td>2.8</td>\n      <td>20022.0</td>\n      <td>3980.0</td>\n      <td>3995.0</td>\n      <td>&gt;2</td>\n      <td>NaN</td>\n    </tr>\n    <tr>\n      <th>2255</th>\n      <td>5 Series</td>\n      <td>2000</td>\n      <td>1699</td>\n      <td>Manual</td>\n      <td>99209</td>\n      <td>Petrol</td>\n      <td>265</td>\n      <td>29.4</td>\n      <td>2.0</td>\n      <td>20022.0</td>\n      <td>1550.0</td>\n      <td>1550.0</td>\n      <td>&lt;=2</td>\n      <td>NaN</td>\n    </tr>\n  </tbody>\n</table>\n</div>"
     },
     "execution_count": 110,
     "metadata": {},
     "output_type": "execute_result"
    }
   ],
   "source": [
    "test[test.price_pred_year_engine_median.isna()]"
   ],
   "metadata": {
    "collapsed": false,
    "pycharm": {
     "name": "#%%\n"
    }
   }
  },
  {
   "cell_type": "code",
   "execution_count": 110,
   "outputs": [],
   "source": [],
   "metadata": {
    "collapsed": false,
    "pycharm": {
     "name": "#%%\n"
    }
   }
  },
  {
   "cell_type": "markdown",
   "source": [
    "##### Создадим функцию, чтобы каждый раз не копировать одни и те же ячейки"
   ],
   "metadata": {
    "collapsed": false,
    "pycharm": {
     "name": "#%% md\n"
    }
   }
  },
  {
   "cell_type": "code",
   "execution_count": 111,
   "outputs": [],
   "source": [
    "def error(y_true, y_pred):\n",
    "    print(mean_absolute_error(y_true, y_pred))\n",
    "    print(mean_absolute_percentage_error(y_true, y_pred))"
   ],
   "metadata": {
    "collapsed": false,
    "pycharm": {
     "name": "#%%\n"
    }
   }
  },
  {
   "cell_type": "markdown",
   "source": [
    "##### Тестирование функции, сверим значения функции и предыдущих ячеек"
   ],
   "metadata": {
    "collapsed": false,
    "pycharm": {
     "name": "#%% md\n"
    }
   }
  },
  {
   "cell_type": "code",
   "execution_count": 112,
   "outputs": [
    {
     "name": "stdout",
     "output_type": "stream",
     "text": [
      "3659.774273345702\n",
      "0.1582922021242831\n"
     ]
    }
   ],
   "source": [
    "error(train.price, train.price_pred_year_engine_median)"
   ],
   "metadata": {
    "collapsed": false,
    "pycharm": {
     "name": "#%%\n"
    }
   }
  },
  {
   "cell_type": "code",
   "execution_count": 113,
   "outputs": [
    {
     "data": {
      "text/plain": "3659.774273345702"
     },
     "execution_count": 113,
     "metadata": {},
     "output_type": "execute_result"
    }
   ],
   "source": [
    "mean_absolute_error(train.price, train.price_pred_year_engine_median)"
   ],
   "metadata": {
    "collapsed": false,
    "pycharm": {
     "name": "#%%\n"
    }
   }
  },
  {
   "cell_type": "code",
   "execution_count": 114,
   "outputs": [
    {
     "data": {
      "text/plain": "0.1582922021242831"
     },
     "execution_count": 114,
     "metadata": {},
     "output_type": "execute_result"
    }
   ],
   "source": [
    "mean_absolute_percentage_error(train.price, train.price_pred_year_engine_median)"
   ],
   "metadata": {
    "collapsed": false,
    "pycharm": {
     "name": "#%%\n"
    }
   }
  },
  {
   "cell_type": "markdown",
   "source": [
    "##### Теперь будем использовать функцию для теста.\n",
    "##### Т.к. в данных теста было 2 пропуска, их придётся убрать из датасета.\n",
    "##### Создадим доп. датасет без пропусков"
   ],
   "metadata": {
    "collapsed": false,
    "pycharm": {
     "name": "#%% md\n"
    }
   }
  },
  {
   "cell_type": "code",
   "execution_count": 115,
   "outputs": [],
   "source": [
    "test_no_nan = test.dropna().copy()"
   ],
   "metadata": {
    "collapsed": false,
    "pycharm": {
     "name": "#%%\n"
    }
   }
  },
  {
   "cell_type": "code",
   "execution_count": 116,
   "outputs": [
    {
     "data": {
      "text/plain": "((2696, 14), (2694, 14))"
     },
     "execution_count": 116,
     "metadata": {},
     "output_type": "execute_result"
    }
   ],
   "source": [
    "test.shape, test_no_nan.shape  # Видим как дропнулись 2 пропущенных значения"
   ],
   "metadata": {
    "collapsed": false,
    "pycharm": {
     "name": "#%%\n"
    }
   }
  },
  {
   "cell_type": "code",
   "execution_count": 117,
   "outputs": [
    {
     "name": "stdout",
     "output_type": "stream",
     "text": [
      "3790.014291017075\n",
      "0.16270961023342095\n"
     ]
    }
   ],
   "source": [
    "error(test_no_nan.price, test_no_nan.price_pred_year_engine_median)"
   ],
   "metadata": {
    "collapsed": false,
    "pycharm": {
     "name": "#%%\n"
    }
   }
  },
  {
   "cell_type": "markdown",
   "source": [
    "#### Улучшения относительно медианы по году↓: MAE(5240 → 3790), MAPE(0.214 → 0.162)"
   ],
   "metadata": {
    "collapsed": false,
    "pycharm": {
     "name": "#%% md\n"
    }
   }
  },
  {
   "cell_type": "code",
   "source": [
    "error(test.price, test.price_pred_year_median)"
   ],
   "metadata": {
    "collapsed": false,
    "pycharm": {
     "name": "#%%\n"
    }
   },
   "execution_count": 118,
   "outputs": [
    {
     "name": "stdout",
     "output_type": "stream",
     "text": [
      "5240.677299703264\n",
      "0.21478293590399475\n"
     ]
    }
   ]
  },
  {
   "cell_type": "markdown",
   "source": [
    "## Улучшение модели"
   ],
   "metadata": {
    "collapsed": false,
    "pycharm": {
     "name": "#%% md\n"
    }
   }
  },
  {
   "cell_type": "code",
   "source": [
    "train.head()"
   ],
   "metadata": {
    "collapsed": false,
    "pycharm": {
     "name": "#%%\n"
    }
   },
   "execution_count": 119,
   "outputs": [
    {
     "data": {
      "text/plain": "       model  year  price transmission  mileage fuelType  tax   mpg  \\\n0   5 Series  2013  12791    Semi-Auto    55642   Diesel  145  55.4   \n1   1 Series  2019  23995    Semi-Auto     1527   Petrol  145  43.5   \n2         X5  2015  25995    Automatic    43344   Diesel  200  47.1   \n3   2 Series  2019  25000    Automatic     4000   Petrol  145  47.9   \n4   1 Series  2015  10950       Manual    33000   Diesel   20  72.4   \n\n   engineSize  price_pred_mean           err       err_abs  err_abs_pct  \\\n0         2.0     22668.821645   9877.821645   9877.821645     0.772248   \n1         1.5     22668.821645  -1326.178355   1326.178355     0.055269   \n2         3.0     22668.821645  -3326.178355   3326.178355     0.127955   \n3         2.0     22668.821645  -2331.178355   2331.178355     0.093247   \n4         1.5     22668.821645  11718.821645  11718.821645     1.070212   \n\n   price_pred_median  price_pred_year_mean  price_pred_year_median  \\\n0            20022.0          11041.347826                 10490.0   \n1            20022.0          31066.986143                 27980.0   \n2            20022.0          15086.536313                 14103.5   \n3            20022.0          31066.986143                 27980.0   \n4            20022.0          15086.536313                 14103.5   \n\n  engine_group engine_group2  price_pred_year_engine_median  \n0          <=2    (1.5, 2.0]                         9990.0  \n1        <=1.5   (-inf, 1.5]                        20980.0  \n2           >2    (2.0, inf]                        18144.5  \n3          <=2    (1.5, 2.0]                        27294.0  \n4        <=1.5   (-inf, 1.5]                        10999.0  ",
      "text/html": "<div>\n<style scoped>\n    .dataframe tbody tr th:only-of-type {\n        vertical-align: middle;\n    }\n\n    .dataframe tbody tr th {\n        vertical-align: top;\n    }\n\n    .dataframe thead th {\n        text-align: right;\n    }\n</style>\n<table border=\"1\" class=\"dataframe\">\n  <thead>\n    <tr style=\"text-align: right;\">\n      <th></th>\n      <th>model</th>\n      <th>year</th>\n      <th>price</th>\n      <th>transmission</th>\n      <th>mileage</th>\n      <th>fuelType</th>\n      <th>tax</th>\n      <th>mpg</th>\n      <th>engineSize</th>\n      <th>price_pred_mean</th>\n      <th>err</th>\n      <th>err_abs</th>\n      <th>err_abs_pct</th>\n      <th>price_pred_median</th>\n      <th>price_pred_year_mean</th>\n      <th>price_pred_year_median</th>\n      <th>engine_group</th>\n      <th>engine_group2</th>\n      <th>price_pred_year_engine_median</th>\n    </tr>\n  </thead>\n  <tbody>\n    <tr>\n      <th>0</th>\n      <td>5 Series</td>\n      <td>2013</td>\n      <td>12791</td>\n      <td>Semi-Auto</td>\n      <td>55642</td>\n      <td>Diesel</td>\n      <td>145</td>\n      <td>55.4</td>\n      <td>2.0</td>\n      <td>22668.821645</td>\n      <td>9877.821645</td>\n      <td>9877.821645</td>\n      <td>0.772248</td>\n      <td>20022.0</td>\n      <td>11041.347826</td>\n      <td>10490.0</td>\n      <td>&lt;=2</td>\n      <td>(1.5, 2.0]</td>\n      <td>9990.0</td>\n    </tr>\n    <tr>\n      <th>1</th>\n      <td>1 Series</td>\n      <td>2019</td>\n      <td>23995</td>\n      <td>Semi-Auto</td>\n      <td>1527</td>\n      <td>Petrol</td>\n      <td>145</td>\n      <td>43.5</td>\n      <td>1.5</td>\n      <td>22668.821645</td>\n      <td>-1326.178355</td>\n      <td>1326.178355</td>\n      <td>0.055269</td>\n      <td>20022.0</td>\n      <td>31066.986143</td>\n      <td>27980.0</td>\n      <td>&lt;=1.5</td>\n      <td>(-inf, 1.5]</td>\n      <td>20980.0</td>\n    </tr>\n    <tr>\n      <th>2</th>\n      <td>X5</td>\n      <td>2015</td>\n      <td>25995</td>\n      <td>Automatic</td>\n      <td>43344</td>\n      <td>Diesel</td>\n      <td>200</td>\n      <td>47.1</td>\n      <td>3.0</td>\n      <td>22668.821645</td>\n      <td>-3326.178355</td>\n      <td>3326.178355</td>\n      <td>0.127955</td>\n      <td>20022.0</td>\n      <td>15086.536313</td>\n      <td>14103.5</td>\n      <td>&gt;2</td>\n      <td>(2.0, inf]</td>\n      <td>18144.5</td>\n    </tr>\n    <tr>\n      <th>3</th>\n      <td>2 Series</td>\n      <td>2019</td>\n      <td>25000</td>\n      <td>Automatic</td>\n      <td>4000</td>\n      <td>Petrol</td>\n      <td>145</td>\n      <td>47.9</td>\n      <td>2.0</td>\n      <td>22668.821645</td>\n      <td>-2331.178355</td>\n      <td>2331.178355</td>\n      <td>0.093247</td>\n      <td>20022.0</td>\n      <td>31066.986143</td>\n      <td>27980.0</td>\n      <td>&lt;=2</td>\n      <td>(1.5, 2.0]</td>\n      <td>27294.0</td>\n    </tr>\n    <tr>\n      <th>4</th>\n      <td>1 Series</td>\n      <td>2015</td>\n      <td>10950</td>\n      <td>Manual</td>\n      <td>33000</td>\n      <td>Diesel</td>\n      <td>20</td>\n      <td>72.4</td>\n      <td>1.5</td>\n      <td>22668.821645</td>\n      <td>11718.821645</td>\n      <td>11718.821645</td>\n      <td>1.070212</td>\n      <td>20022.0</td>\n      <td>15086.536313</td>\n      <td>14103.5</td>\n      <td>&lt;=1.5</td>\n      <td>(-inf, 1.5]</td>\n      <td>10999.0</td>\n    </tr>\n  </tbody>\n</table>\n</div>"
     },
     "execution_count": 119,
     "metadata": {},
     "output_type": "execute_result"
    }
   ]
  },
  {
   "cell_type": "markdown",
   "source": [
    "##### В данной модели уже 51 условие. А если добавить трансмиссию, то будет около 150 условий\n",
    "##### Выборка содержит мало автомобилей старше ≈2010 года, по этому имеет смысл разделить автомобили на несколько групп по годам"
   ],
   "metadata": {
    "collapsed": false,
    "pycharm": {
     "name": "#%% md\n"
    }
   }
  },
  {
   "cell_type": "code",
   "source": [
    "train.groupby('transmission').price.agg(['count', 'mean', 'median'])"
   ],
   "metadata": {
    "collapsed": false,
    "pycharm": {
     "name": "#%%\n"
    }
   },
   "execution_count": 120,
   "outputs": [
    {
     "data": {
      "text/plain": "              count          mean   median\ntransmission                              \nAutomatic      2698  22413.452187  19392.0\nManual         1925  14557.851429  13450.0\nSemi-Auto      3462  27377.835066  24990.0",
      "text/html": "<div>\n<style scoped>\n    .dataframe tbody tr th:only-of-type {\n        vertical-align: middle;\n    }\n\n    .dataframe tbody tr th {\n        vertical-align: top;\n    }\n\n    .dataframe thead th {\n        text-align: right;\n    }\n</style>\n<table border=\"1\" class=\"dataframe\">\n  <thead>\n    <tr style=\"text-align: right;\">\n      <th></th>\n      <th>count</th>\n      <th>mean</th>\n      <th>median</th>\n    </tr>\n    <tr>\n      <th>transmission</th>\n      <th></th>\n      <th></th>\n      <th></th>\n    </tr>\n  </thead>\n  <tbody>\n    <tr>\n      <th>Automatic</th>\n      <td>2698</td>\n      <td>22413.452187</td>\n      <td>19392.0</td>\n    </tr>\n    <tr>\n      <th>Manual</th>\n      <td>1925</td>\n      <td>14557.851429</td>\n      <td>13450.0</td>\n    </tr>\n    <tr>\n      <th>Semi-Auto</th>\n      <td>3462</td>\n      <td>27377.835066</td>\n      <td>24990.0</td>\n    </tr>\n  </tbody>\n</table>\n</div>"
     },
     "execution_count": 120,
     "metadata": {},
     "output_type": "execute_result"
    }
   ]
  },
  {
   "cell_type": "code",
   "source": [
    "train.groupby('year').price.agg(['count', 'median'])"
   ],
   "metadata": {
    "collapsed": false,
    "pycharm": {
     "name": "#%%\n"
    }
   },
   "execution_count": 121,
   "outputs": [
    {
     "data": {
      "text/plain": "      count   median\nyear                \n1996      1   5995.0\n1997      1   3950.0\n1998      1   3950.0\n1999      3   3995.0\n2000      1   1550.0\n2001      3   5950.0\n2002      4   3494.5\n2003      2   9222.5\n2004      7   3495.0\n2005      6   4685.0\n2006     12   3942.5\n2007     12   4597.5\n2008     18   5272.5\n2009     22   5845.0\n2010     31   6495.0\n2011     37   8470.0\n2012     92   8990.0\n2013    253  10490.0\n2014    384  12797.5\n2015    716  14103.5\n2016   1398  15699.5\n2017   1296  18299.5\n2018    635  21000.0\n2019   2598  27980.0\n2020    552  32450.5",
      "text/html": "<div>\n<style scoped>\n    .dataframe tbody tr th:only-of-type {\n        vertical-align: middle;\n    }\n\n    .dataframe tbody tr th {\n        vertical-align: top;\n    }\n\n    .dataframe thead th {\n        text-align: right;\n    }\n</style>\n<table border=\"1\" class=\"dataframe\">\n  <thead>\n    <tr style=\"text-align: right;\">\n      <th></th>\n      <th>count</th>\n      <th>median</th>\n    </tr>\n    <tr>\n      <th>year</th>\n      <th></th>\n      <th></th>\n    </tr>\n  </thead>\n  <tbody>\n    <tr>\n      <th>1996</th>\n      <td>1</td>\n      <td>5995.0</td>\n    </tr>\n    <tr>\n      <th>1997</th>\n      <td>1</td>\n      <td>3950.0</td>\n    </tr>\n    <tr>\n      <th>1998</th>\n      <td>1</td>\n      <td>3950.0</td>\n    </tr>\n    <tr>\n      <th>1999</th>\n      <td>3</td>\n      <td>3995.0</td>\n    </tr>\n    <tr>\n      <th>2000</th>\n      <td>1</td>\n      <td>1550.0</td>\n    </tr>\n    <tr>\n      <th>2001</th>\n      <td>3</td>\n      <td>5950.0</td>\n    </tr>\n    <tr>\n      <th>2002</th>\n      <td>4</td>\n      <td>3494.5</td>\n    </tr>\n    <tr>\n      <th>2003</th>\n      <td>2</td>\n      <td>9222.5</td>\n    </tr>\n    <tr>\n      <th>2004</th>\n      <td>7</td>\n      <td>3495.0</td>\n    </tr>\n    <tr>\n      <th>2005</th>\n      <td>6</td>\n      <td>4685.0</td>\n    </tr>\n    <tr>\n      <th>2006</th>\n      <td>12</td>\n      <td>3942.5</td>\n    </tr>\n    <tr>\n      <th>2007</th>\n      <td>12</td>\n      <td>4597.5</td>\n    </tr>\n    <tr>\n      <th>2008</th>\n      <td>18</td>\n      <td>5272.5</td>\n    </tr>\n    <tr>\n      <th>2009</th>\n      <td>22</td>\n      <td>5845.0</td>\n    </tr>\n    <tr>\n      <th>2010</th>\n      <td>31</td>\n      <td>6495.0</td>\n    </tr>\n    <tr>\n      <th>2011</th>\n      <td>37</td>\n      <td>8470.0</td>\n    </tr>\n    <tr>\n      <th>2012</th>\n      <td>92</td>\n      <td>8990.0</td>\n    </tr>\n    <tr>\n      <th>2013</th>\n      <td>253</td>\n      <td>10490.0</td>\n    </tr>\n    <tr>\n      <th>2014</th>\n      <td>384</td>\n      <td>12797.5</td>\n    </tr>\n    <tr>\n      <th>2015</th>\n      <td>716</td>\n      <td>14103.5</td>\n    </tr>\n    <tr>\n      <th>2016</th>\n      <td>1398</td>\n      <td>15699.5</td>\n    </tr>\n    <tr>\n      <th>2017</th>\n      <td>1296</td>\n      <td>18299.5</td>\n    </tr>\n    <tr>\n      <th>2018</th>\n      <td>635</td>\n      <td>21000.0</td>\n    </tr>\n    <tr>\n      <th>2019</th>\n      <td>2598</td>\n      <td>27980.0</td>\n    </tr>\n    <tr>\n      <th>2020</th>\n      <td>552</td>\n      <td>32450.5</td>\n    </tr>\n  </tbody>\n</table>\n</div>"
     },
     "execution_count": 121,
     "metadata": {},
     "output_type": "execute_result"
    }
   ]
  },
  {
   "cell_type": "markdown",
   "source": [
    "##### Разделим ДФ на группы по годам"
   ],
   "metadata": {
    "collapsed": false,
    "pycharm": {
     "name": "#%% md\n"
    }
   }
  },
  {
   "cell_type": "code",
   "source": [
    "train['year_group'] = pd.cut(train['year'], [0, 2010, 2012, 2014, 2016, 2018, float('inf')])"
   ],
   "metadata": {
    "collapsed": false,
    "pycharm": {
     "name": "#%%\n"
    }
   },
   "execution_count": 122,
   "outputs": []
  },
  {
   "cell_type": "code",
   "source": [
    "train.head()"
   ],
   "metadata": {
    "collapsed": false,
    "pycharm": {
     "name": "#%%\n"
    }
   },
   "execution_count": 123,
   "outputs": [
    {
     "data": {
      "text/plain": "       model  year  price transmission  mileage fuelType  tax   mpg  \\\n0   5 Series  2013  12791    Semi-Auto    55642   Diesel  145  55.4   \n1   1 Series  2019  23995    Semi-Auto     1527   Petrol  145  43.5   \n2         X5  2015  25995    Automatic    43344   Diesel  200  47.1   \n3   2 Series  2019  25000    Automatic     4000   Petrol  145  47.9   \n4   1 Series  2015  10950       Manual    33000   Diesel   20  72.4   \n\n   engineSize  price_pred_mean           err       err_abs  err_abs_pct  \\\n0         2.0     22668.821645   9877.821645   9877.821645     0.772248   \n1         1.5     22668.821645  -1326.178355   1326.178355     0.055269   \n2         3.0     22668.821645  -3326.178355   3326.178355     0.127955   \n3         2.0     22668.821645  -2331.178355   2331.178355     0.093247   \n4         1.5     22668.821645  11718.821645  11718.821645     1.070212   \n\n   price_pred_median  price_pred_year_mean  price_pred_year_median  \\\n0            20022.0          11041.347826                 10490.0   \n1            20022.0          31066.986143                 27980.0   \n2            20022.0          15086.536313                 14103.5   \n3            20022.0          31066.986143                 27980.0   \n4            20022.0          15086.536313                 14103.5   \n\n  engine_group engine_group2  price_pred_year_engine_median        year_group  \n0          <=2    (1.5, 2.0]                         9990.0  (2012.0, 2014.0]  \n1        <=1.5   (-inf, 1.5]                        20980.0     (2018.0, inf]  \n2           >2    (2.0, inf]                        18144.5  (2014.0, 2016.0]  \n3          <=2    (1.5, 2.0]                        27294.0     (2018.0, inf]  \n4        <=1.5   (-inf, 1.5]                        10999.0  (2014.0, 2016.0]  ",
      "text/html": "<div>\n<style scoped>\n    .dataframe tbody tr th:only-of-type {\n        vertical-align: middle;\n    }\n\n    .dataframe tbody tr th {\n        vertical-align: top;\n    }\n\n    .dataframe thead th {\n        text-align: right;\n    }\n</style>\n<table border=\"1\" class=\"dataframe\">\n  <thead>\n    <tr style=\"text-align: right;\">\n      <th></th>\n      <th>model</th>\n      <th>year</th>\n      <th>price</th>\n      <th>transmission</th>\n      <th>mileage</th>\n      <th>fuelType</th>\n      <th>tax</th>\n      <th>mpg</th>\n      <th>engineSize</th>\n      <th>price_pred_mean</th>\n      <th>err</th>\n      <th>err_abs</th>\n      <th>err_abs_pct</th>\n      <th>price_pred_median</th>\n      <th>price_pred_year_mean</th>\n      <th>price_pred_year_median</th>\n      <th>engine_group</th>\n      <th>engine_group2</th>\n      <th>price_pred_year_engine_median</th>\n      <th>year_group</th>\n    </tr>\n  </thead>\n  <tbody>\n    <tr>\n      <th>0</th>\n      <td>5 Series</td>\n      <td>2013</td>\n      <td>12791</td>\n      <td>Semi-Auto</td>\n      <td>55642</td>\n      <td>Diesel</td>\n      <td>145</td>\n      <td>55.4</td>\n      <td>2.0</td>\n      <td>22668.821645</td>\n      <td>9877.821645</td>\n      <td>9877.821645</td>\n      <td>0.772248</td>\n      <td>20022.0</td>\n      <td>11041.347826</td>\n      <td>10490.0</td>\n      <td>&lt;=2</td>\n      <td>(1.5, 2.0]</td>\n      <td>9990.0</td>\n      <td>(2012.0, 2014.0]</td>\n    </tr>\n    <tr>\n      <th>1</th>\n      <td>1 Series</td>\n      <td>2019</td>\n      <td>23995</td>\n      <td>Semi-Auto</td>\n      <td>1527</td>\n      <td>Petrol</td>\n      <td>145</td>\n      <td>43.5</td>\n      <td>1.5</td>\n      <td>22668.821645</td>\n      <td>-1326.178355</td>\n      <td>1326.178355</td>\n      <td>0.055269</td>\n      <td>20022.0</td>\n      <td>31066.986143</td>\n      <td>27980.0</td>\n      <td>&lt;=1.5</td>\n      <td>(-inf, 1.5]</td>\n      <td>20980.0</td>\n      <td>(2018.0, inf]</td>\n    </tr>\n    <tr>\n      <th>2</th>\n      <td>X5</td>\n      <td>2015</td>\n      <td>25995</td>\n      <td>Automatic</td>\n      <td>43344</td>\n      <td>Diesel</td>\n      <td>200</td>\n      <td>47.1</td>\n      <td>3.0</td>\n      <td>22668.821645</td>\n      <td>-3326.178355</td>\n      <td>3326.178355</td>\n      <td>0.127955</td>\n      <td>20022.0</td>\n      <td>15086.536313</td>\n      <td>14103.5</td>\n      <td>&gt;2</td>\n      <td>(2.0, inf]</td>\n      <td>18144.5</td>\n      <td>(2014.0, 2016.0]</td>\n    </tr>\n    <tr>\n      <th>3</th>\n      <td>2 Series</td>\n      <td>2019</td>\n      <td>25000</td>\n      <td>Automatic</td>\n      <td>4000</td>\n      <td>Petrol</td>\n      <td>145</td>\n      <td>47.9</td>\n      <td>2.0</td>\n      <td>22668.821645</td>\n      <td>-2331.178355</td>\n      <td>2331.178355</td>\n      <td>0.093247</td>\n      <td>20022.0</td>\n      <td>31066.986143</td>\n      <td>27980.0</td>\n      <td>&lt;=2</td>\n      <td>(1.5, 2.0]</td>\n      <td>27294.0</td>\n      <td>(2018.0, inf]</td>\n    </tr>\n    <tr>\n      <th>4</th>\n      <td>1 Series</td>\n      <td>2015</td>\n      <td>10950</td>\n      <td>Manual</td>\n      <td>33000</td>\n      <td>Diesel</td>\n      <td>20</td>\n      <td>72.4</td>\n      <td>1.5</td>\n      <td>22668.821645</td>\n      <td>11718.821645</td>\n      <td>11718.821645</td>\n      <td>1.070212</td>\n      <td>20022.0</td>\n      <td>15086.536313</td>\n      <td>14103.5</td>\n      <td>&lt;=1.5</td>\n      <td>(-inf, 1.5]</td>\n      <td>10999.0</td>\n      <td>(2014.0, 2016.0]</td>\n    </tr>\n  </tbody>\n</table>\n</div>"
     },
     "execution_count": 123,
     "metadata": {},
     "output_type": "execute_result"
    }
   ]
  },
  {
   "cell_type": "code",
   "source": [
    "train.groupby('year_group').price.agg(['count', 'mean', 'median'])"
   ],
   "metadata": {
    "collapsed": false,
    "pycharm": {
     "name": "#%%\n"
    }
   },
   "execution_count": 124,
   "outputs": [
    {
     "data": {
      "text/plain": "                  count          mean   median\nyear_group                                    \n(0.0, 2010.0]       124   6264.258065   5584.0\n(2010.0, 2012.0]    129   9268.682171   8985.0\n(2012.0, 2014.0]    637  12470.036107  11695.0\n(2014.0, 2016.0]   2114  16042.201514  15080.5\n(2016.0, 2018.0]   1931  20309.644744  19370.0\n(2018.0, inf]      3150  31819.188571  28867.5",
      "text/html": "<div>\n<style scoped>\n    .dataframe tbody tr th:only-of-type {\n        vertical-align: middle;\n    }\n\n    .dataframe tbody tr th {\n        vertical-align: top;\n    }\n\n    .dataframe thead th {\n        text-align: right;\n    }\n</style>\n<table border=\"1\" class=\"dataframe\">\n  <thead>\n    <tr style=\"text-align: right;\">\n      <th></th>\n      <th>count</th>\n      <th>mean</th>\n      <th>median</th>\n    </tr>\n    <tr>\n      <th>year_group</th>\n      <th></th>\n      <th></th>\n      <th></th>\n    </tr>\n  </thead>\n  <tbody>\n    <tr>\n      <th>(0.0, 2010.0]</th>\n      <td>124</td>\n      <td>6264.258065</td>\n      <td>5584.0</td>\n    </tr>\n    <tr>\n      <th>(2010.0, 2012.0]</th>\n      <td>129</td>\n      <td>9268.682171</td>\n      <td>8985.0</td>\n    </tr>\n    <tr>\n      <th>(2012.0, 2014.0]</th>\n      <td>637</td>\n      <td>12470.036107</td>\n      <td>11695.0</td>\n    </tr>\n    <tr>\n      <th>(2014.0, 2016.0]</th>\n      <td>2114</td>\n      <td>16042.201514</td>\n      <td>15080.5</td>\n    </tr>\n    <tr>\n      <th>(2016.0, 2018.0]</th>\n      <td>1931</td>\n      <td>20309.644744</td>\n      <td>19370.0</td>\n    </tr>\n    <tr>\n      <th>(2018.0, inf]</th>\n      <td>3150</td>\n      <td>31819.188571</td>\n      <td>28867.5</td>\n    </tr>\n  </tbody>\n</table>\n</div>"
     },
     "execution_count": 124,
     "metadata": {},
     "output_type": "execute_result"
    }
   ]
  },
  {
   "cell_type": "code",
   "execution_count": 125,
   "outputs": [
    {
     "data": {
      "text/plain": "                               count   median\nyear_group       engine_group                \n(0.0, 2010.0]    <=1.5             1  13000.0\n                 <=2              70   4097.0\n                 >2               53   6990.0\n(2010.0, 2012.0] <=1.5             0      NaN\n                 <=2             103   8470.0\n                 >2               26  12245.0\n(2012.0, 2014.0] <=1.5             4  14972.5\n                 <=2             501  10998.0\n                 >2              132  16345.0\n(2014.0, 2016.0] <=1.5           369  11557.0\n                 <=2            1269  14800.0\n                 >2              476  19497.5\n(2016.0, 2018.0] <=1.5           349  14999.0\n                 <=2            1107  18980.0\n                 >2              475  24480.0\n(2018.0, inf]    <=1.5           462  21500.0\n                 <=2            1955  27990.0\n                 >2              733  46000.0",
      "text/html": "<div>\n<style scoped>\n    .dataframe tbody tr th:only-of-type {\n        vertical-align: middle;\n    }\n\n    .dataframe tbody tr th {\n        vertical-align: top;\n    }\n\n    .dataframe thead th {\n        text-align: right;\n    }\n</style>\n<table border=\"1\" class=\"dataframe\">\n  <thead>\n    <tr style=\"text-align: right;\">\n      <th></th>\n      <th></th>\n      <th>count</th>\n      <th>median</th>\n    </tr>\n    <tr>\n      <th>year_group</th>\n      <th>engine_group</th>\n      <th></th>\n      <th></th>\n    </tr>\n  </thead>\n  <tbody>\n    <tr>\n      <th rowspan=\"3\" valign=\"top\">(0.0, 2010.0]</th>\n      <th>&lt;=1.5</th>\n      <td>1</td>\n      <td>13000.0</td>\n    </tr>\n    <tr>\n      <th>&lt;=2</th>\n      <td>70</td>\n      <td>4097.0</td>\n    </tr>\n    <tr>\n      <th>&gt;2</th>\n      <td>53</td>\n      <td>6990.0</td>\n    </tr>\n    <tr>\n      <th rowspan=\"3\" valign=\"top\">(2010.0, 2012.0]</th>\n      <th>&lt;=1.5</th>\n      <td>0</td>\n      <td>NaN</td>\n    </tr>\n    <tr>\n      <th>&lt;=2</th>\n      <td>103</td>\n      <td>8470.0</td>\n    </tr>\n    <tr>\n      <th>&gt;2</th>\n      <td>26</td>\n      <td>12245.0</td>\n    </tr>\n    <tr>\n      <th rowspan=\"3\" valign=\"top\">(2012.0, 2014.0]</th>\n      <th>&lt;=1.5</th>\n      <td>4</td>\n      <td>14972.5</td>\n    </tr>\n    <tr>\n      <th>&lt;=2</th>\n      <td>501</td>\n      <td>10998.0</td>\n    </tr>\n    <tr>\n      <th>&gt;2</th>\n      <td>132</td>\n      <td>16345.0</td>\n    </tr>\n    <tr>\n      <th rowspan=\"3\" valign=\"top\">(2014.0, 2016.0]</th>\n      <th>&lt;=1.5</th>\n      <td>369</td>\n      <td>11557.0</td>\n    </tr>\n    <tr>\n      <th>&lt;=2</th>\n      <td>1269</td>\n      <td>14800.0</td>\n    </tr>\n    <tr>\n      <th>&gt;2</th>\n      <td>476</td>\n      <td>19497.5</td>\n    </tr>\n    <tr>\n      <th rowspan=\"3\" valign=\"top\">(2016.0, 2018.0]</th>\n      <th>&lt;=1.5</th>\n      <td>349</td>\n      <td>14999.0</td>\n    </tr>\n    <tr>\n      <th>&lt;=2</th>\n      <td>1107</td>\n      <td>18980.0</td>\n    </tr>\n    <tr>\n      <th>&gt;2</th>\n      <td>475</td>\n      <td>24480.0</td>\n    </tr>\n    <tr>\n      <th rowspan=\"3\" valign=\"top\">(2018.0, inf]</th>\n      <th>&lt;=1.5</th>\n      <td>462</td>\n      <td>21500.0</td>\n    </tr>\n    <tr>\n      <th>&lt;=2</th>\n      <td>1955</td>\n      <td>27990.0</td>\n    </tr>\n    <tr>\n      <th>&gt;2</th>\n      <td>733</td>\n      <td>46000.0</td>\n    </tr>\n  </tbody>\n</table>\n</div>"
     },
     "execution_count": 125,
     "metadata": {},
     "output_type": "execute_result"
    }
   ],
   "source": [
    "train.groupby(['year_group', 'engine_group']).price.agg(['count', 'median'])"
   ],
   "metadata": {
    "collapsed": false,
    "pycharm": {
     "name": "#%%\n"
    }
   }
  },
  {
   "cell_type": "markdown",
   "source": [
    "##### Создадим новый ДС с группировкой по годам и двигателям"
   ],
   "metadata": {
    "collapsed": false,
    "pycharm": {
     "name": "#%% md\n"
    }
   }
  },
  {
   "cell_type": "code",
   "execution_count": 126,
   "outputs": [],
   "source": [
    "model_year_engine_group_median = train.groupby(['year_group', 'engine_group']).price.median().reset_index()"
   ],
   "metadata": {
    "collapsed": false,
    "pycharm": {
     "name": "#%%\n"
    }
   }
  },
  {
   "cell_type": "code",
   "execution_count": 127,
   "outputs": [
    {
     "data": {
      "text/plain": "          year_group engine_group    price\n0      (0.0, 2010.0]        <=1.5  13000.0\n1      (0.0, 2010.0]          <=2   4097.0\n2      (0.0, 2010.0]           >2   6990.0\n3   (2010.0, 2012.0]        <=1.5      NaN\n4   (2010.0, 2012.0]          <=2   8470.0\n5   (2010.0, 2012.0]           >2  12245.0\n6   (2012.0, 2014.0]        <=1.5  14972.5\n7   (2012.0, 2014.0]          <=2  10998.0\n8   (2012.0, 2014.0]           >2  16345.0\n9   (2014.0, 2016.0]        <=1.5  11557.0\n10  (2014.0, 2016.0]          <=2  14800.0\n11  (2014.0, 2016.0]           >2  19497.5\n12  (2016.0, 2018.0]        <=1.5  14999.0\n13  (2016.0, 2018.0]          <=2  18980.0\n14  (2016.0, 2018.0]           >2  24480.0\n15     (2018.0, inf]        <=1.5  21500.0\n16     (2018.0, inf]          <=2  27990.0\n17     (2018.0, inf]           >2  46000.0",
      "text/html": "<div>\n<style scoped>\n    .dataframe tbody tr th:only-of-type {\n        vertical-align: middle;\n    }\n\n    .dataframe tbody tr th {\n        vertical-align: top;\n    }\n\n    .dataframe thead th {\n        text-align: right;\n    }\n</style>\n<table border=\"1\" class=\"dataframe\">\n  <thead>\n    <tr style=\"text-align: right;\">\n      <th></th>\n      <th>year_group</th>\n      <th>engine_group</th>\n      <th>price</th>\n    </tr>\n  </thead>\n  <tbody>\n    <tr>\n      <th>0</th>\n      <td>(0.0, 2010.0]</td>\n      <td>&lt;=1.5</td>\n      <td>13000.0</td>\n    </tr>\n    <tr>\n      <th>1</th>\n      <td>(0.0, 2010.0]</td>\n      <td>&lt;=2</td>\n      <td>4097.0</td>\n    </tr>\n    <tr>\n      <th>2</th>\n      <td>(0.0, 2010.0]</td>\n      <td>&gt;2</td>\n      <td>6990.0</td>\n    </tr>\n    <tr>\n      <th>3</th>\n      <td>(2010.0, 2012.0]</td>\n      <td>&lt;=1.5</td>\n      <td>NaN</td>\n    </tr>\n    <tr>\n      <th>4</th>\n      <td>(2010.0, 2012.0]</td>\n      <td>&lt;=2</td>\n      <td>8470.0</td>\n    </tr>\n    <tr>\n      <th>5</th>\n      <td>(2010.0, 2012.0]</td>\n      <td>&gt;2</td>\n      <td>12245.0</td>\n    </tr>\n    <tr>\n      <th>6</th>\n      <td>(2012.0, 2014.0]</td>\n      <td>&lt;=1.5</td>\n      <td>14972.5</td>\n    </tr>\n    <tr>\n      <th>7</th>\n      <td>(2012.0, 2014.0]</td>\n      <td>&lt;=2</td>\n      <td>10998.0</td>\n    </tr>\n    <tr>\n      <th>8</th>\n      <td>(2012.0, 2014.0]</td>\n      <td>&gt;2</td>\n      <td>16345.0</td>\n    </tr>\n    <tr>\n      <th>9</th>\n      <td>(2014.0, 2016.0]</td>\n      <td>&lt;=1.5</td>\n      <td>11557.0</td>\n    </tr>\n    <tr>\n      <th>10</th>\n      <td>(2014.0, 2016.0]</td>\n      <td>&lt;=2</td>\n      <td>14800.0</td>\n    </tr>\n    <tr>\n      <th>11</th>\n      <td>(2014.0, 2016.0]</td>\n      <td>&gt;2</td>\n      <td>19497.5</td>\n    </tr>\n    <tr>\n      <th>12</th>\n      <td>(2016.0, 2018.0]</td>\n      <td>&lt;=1.5</td>\n      <td>14999.0</td>\n    </tr>\n    <tr>\n      <th>13</th>\n      <td>(2016.0, 2018.0]</td>\n      <td>&lt;=2</td>\n      <td>18980.0</td>\n    </tr>\n    <tr>\n      <th>14</th>\n      <td>(2016.0, 2018.0]</td>\n      <td>&gt;2</td>\n      <td>24480.0</td>\n    </tr>\n    <tr>\n      <th>15</th>\n      <td>(2018.0, inf]</td>\n      <td>&lt;=1.5</td>\n      <td>21500.0</td>\n    </tr>\n    <tr>\n      <th>16</th>\n      <td>(2018.0, inf]</td>\n      <td>&lt;=2</td>\n      <td>27990.0</td>\n    </tr>\n    <tr>\n      <th>17</th>\n      <td>(2018.0, inf]</td>\n      <td>&gt;2</td>\n      <td>46000.0</td>\n    </tr>\n  </tbody>\n</table>\n</div>"
     },
     "execution_count": 127,
     "metadata": {},
     "output_type": "execute_result"
    }
   ],
   "source": [
    "model_year_engine_group_median"
   ],
   "metadata": {
    "collapsed": false,
    "pycharm": {
     "name": "#%%\n"
    }
   }
  },
  {
   "cell_type": "markdown",
   "source": [
    "##### Переименнуем переменную в датасете во избежание повторений при мёрдже"
   ],
   "metadata": {
    "collapsed": false,
    "pycharm": {
     "name": "#%% md\n"
    }
   }
  },
  {
   "cell_type": "code",
   "execution_count": 128,
   "outputs": [],
   "source": [
    "model_year_engine_group_median = model_year_engine_group_median.rename({'price': 'price_year_engine_group_median'},\n",
    "                                                                       axis=1)"
   ],
   "metadata": {
    "collapsed": false,
    "pycharm": {
     "name": "#%%\n"
    }
   }
  },
  {
   "cell_type": "code",
   "execution_count": 129,
   "outputs": [
    {
     "data": {
      "text/plain": "          year_group engine_group  price_year_engine_group_median\n0      (0.0, 2010.0]        <=1.5                         13000.0\n1      (0.0, 2010.0]          <=2                          4097.0\n2      (0.0, 2010.0]           >2                          6990.0\n3   (2010.0, 2012.0]        <=1.5                             NaN\n4   (2010.0, 2012.0]          <=2                          8470.0\n5   (2010.0, 2012.0]           >2                         12245.0\n6   (2012.0, 2014.0]        <=1.5                         14972.5\n7   (2012.0, 2014.0]          <=2                         10998.0\n8   (2012.0, 2014.0]           >2                         16345.0\n9   (2014.0, 2016.0]        <=1.5                         11557.0\n10  (2014.0, 2016.0]          <=2                         14800.0\n11  (2014.0, 2016.0]           >2                         19497.5\n12  (2016.0, 2018.0]        <=1.5                         14999.0\n13  (2016.0, 2018.0]          <=2                         18980.0\n14  (2016.0, 2018.0]           >2                         24480.0\n15     (2018.0, inf]        <=1.5                         21500.0\n16     (2018.0, inf]          <=2                         27990.0\n17     (2018.0, inf]           >2                         46000.0",
      "text/html": "<div>\n<style scoped>\n    .dataframe tbody tr th:only-of-type {\n        vertical-align: middle;\n    }\n\n    .dataframe tbody tr th {\n        vertical-align: top;\n    }\n\n    .dataframe thead th {\n        text-align: right;\n    }\n</style>\n<table border=\"1\" class=\"dataframe\">\n  <thead>\n    <tr style=\"text-align: right;\">\n      <th></th>\n      <th>year_group</th>\n      <th>engine_group</th>\n      <th>price_year_engine_group_median</th>\n    </tr>\n  </thead>\n  <tbody>\n    <tr>\n      <th>0</th>\n      <td>(0.0, 2010.0]</td>\n      <td>&lt;=1.5</td>\n      <td>13000.0</td>\n    </tr>\n    <tr>\n      <th>1</th>\n      <td>(0.0, 2010.0]</td>\n      <td>&lt;=2</td>\n      <td>4097.0</td>\n    </tr>\n    <tr>\n      <th>2</th>\n      <td>(0.0, 2010.0]</td>\n      <td>&gt;2</td>\n      <td>6990.0</td>\n    </tr>\n    <tr>\n      <th>3</th>\n      <td>(2010.0, 2012.0]</td>\n      <td>&lt;=1.5</td>\n      <td>NaN</td>\n    </tr>\n    <tr>\n      <th>4</th>\n      <td>(2010.0, 2012.0]</td>\n      <td>&lt;=2</td>\n      <td>8470.0</td>\n    </tr>\n    <tr>\n      <th>5</th>\n      <td>(2010.0, 2012.0]</td>\n      <td>&gt;2</td>\n      <td>12245.0</td>\n    </tr>\n    <tr>\n      <th>6</th>\n      <td>(2012.0, 2014.0]</td>\n      <td>&lt;=1.5</td>\n      <td>14972.5</td>\n    </tr>\n    <tr>\n      <th>7</th>\n      <td>(2012.0, 2014.0]</td>\n      <td>&lt;=2</td>\n      <td>10998.0</td>\n    </tr>\n    <tr>\n      <th>8</th>\n      <td>(2012.0, 2014.0]</td>\n      <td>&gt;2</td>\n      <td>16345.0</td>\n    </tr>\n    <tr>\n      <th>9</th>\n      <td>(2014.0, 2016.0]</td>\n      <td>&lt;=1.5</td>\n      <td>11557.0</td>\n    </tr>\n    <tr>\n      <th>10</th>\n      <td>(2014.0, 2016.0]</td>\n      <td>&lt;=2</td>\n      <td>14800.0</td>\n    </tr>\n    <tr>\n      <th>11</th>\n      <td>(2014.0, 2016.0]</td>\n      <td>&gt;2</td>\n      <td>19497.5</td>\n    </tr>\n    <tr>\n      <th>12</th>\n      <td>(2016.0, 2018.0]</td>\n      <td>&lt;=1.5</td>\n      <td>14999.0</td>\n    </tr>\n    <tr>\n      <th>13</th>\n      <td>(2016.0, 2018.0]</td>\n      <td>&lt;=2</td>\n      <td>18980.0</td>\n    </tr>\n    <tr>\n      <th>14</th>\n      <td>(2016.0, 2018.0]</td>\n      <td>&gt;2</td>\n      <td>24480.0</td>\n    </tr>\n    <tr>\n      <th>15</th>\n      <td>(2018.0, inf]</td>\n      <td>&lt;=1.5</td>\n      <td>21500.0</td>\n    </tr>\n    <tr>\n      <th>16</th>\n      <td>(2018.0, inf]</td>\n      <td>&lt;=2</td>\n      <td>27990.0</td>\n    </tr>\n    <tr>\n      <th>17</th>\n      <td>(2018.0, inf]</td>\n      <td>&gt;2</td>\n      <td>46000.0</td>\n    </tr>\n  </tbody>\n</table>\n</div>"
     },
     "execution_count": 129,
     "metadata": {},
     "output_type": "execute_result"
    }
   ],
   "source": [
    "model_year_engine_group_median"
   ],
   "metadata": {
    "collapsed": false,
    "pycharm": {
     "name": "#%%\n"
    }
   }
  },
  {
   "cell_type": "markdown",
   "source": [
    "##### Смёрждим датасет"
   ],
   "metadata": {
    "collapsed": false,
    "pycharm": {
     "name": "#%% md\n"
    }
   }
  },
  {
   "cell_type": "code",
   "execution_count": 130,
   "outputs": [],
   "source": [
    "train = train.merge(model_year_engine_group_median, how='left', on=['year_group', 'engine_group'])"
   ],
   "metadata": {
    "collapsed": false,
    "pycharm": {
     "name": "#%%\n"
    }
   }
  },
  {
   "cell_type": "code",
   "execution_count": 131,
   "outputs": [
    {
     "data": {
      "text/plain": "       model  year  price transmission  mileage fuelType  tax   mpg  \\\n0   5 Series  2013  12791    Semi-Auto    55642   Diesel  145  55.4   \n1   1 Series  2019  23995    Semi-Auto     1527   Petrol  145  43.5   \n2         X5  2015  25995    Automatic    43344   Diesel  200  47.1   \n3   2 Series  2019  25000    Automatic     4000   Petrol  145  47.9   \n4   1 Series  2015  10950       Manual    33000   Diesel   20  72.4   \n\n   engineSize  price_pred_mean  ...       err_abs  err_abs_pct  \\\n0         2.0     22668.821645  ...   9877.821645     0.772248   \n1         1.5     22668.821645  ...   1326.178355     0.055269   \n2         3.0     22668.821645  ...   3326.178355     0.127955   \n3         2.0     22668.821645  ...   2331.178355     0.093247   \n4         1.5     22668.821645  ...  11718.821645     1.070212   \n\n   price_pred_median  price_pred_year_mean  price_pred_year_median  \\\n0            20022.0          11041.347826                 10490.0   \n1            20022.0          31066.986143                 27980.0   \n2            20022.0          15086.536313                 14103.5   \n3            20022.0          31066.986143                 27980.0   \n4            20022.0          15086.536313                 14103.5   \n\n   engine_group engine_group2 price_pred_year_engine_median        year_group  \\\n0           <=2    (1.5, 2.0]                        9990.0  (2012.0, 2014.0]   \n1         <=1.5   (-inf, 1.5]                       20980.0     (2018.0, inf]   \n2            >2    (2.0, inf]                       18144.5  (2014.0, 2016.0]   \n3           <=2    (1.5, 2.0]                       27294.0     (2018.0, inf]   \n4         <=1.5   (-inf, 1.5]                       10999.0  (2014.0, 2016.0]   \n\n  price_year_engine_group_median  \n0                        10998.0  \n1                        21500.0  \n2                        19497.5  \n3                        27990.0  \n4                        11557.0  \n\n[5 rows x 21 columns]",
      "text/html": "<div>\n<style scoped>\n    .dataframe tbody tr th:only-of-type {\n        vertical-align: middle;\n    }\n\n    .dataframe tbody tr th {\n        vertical-align: top;\n    }\n\n    .dataframe thead th {\n        text-align: right;\n    }\n</style>\n<table border=\"1\" class=\"dataframe\">\n  <thead>\n    <tr style=\"text-align: right;\">\n      <th></th>\n      <th>model</th>\n      <th>year</th>\n      <th>price</th>\n      <th>transmission</th>\n      <th>mileage</th>\n      <th>fuelType</th>\n      <th>tax</th>\n      <th>mpg</th>\n      <th>engineSize</th>\n      <th>price_pred_mean</th>\n      <th>...</th>\n      <th>err_abs</th>\n      <th>err_abs_pct</th>\n      <th>price_pred_median</th>\n      <th>price_pred_year_mean</th>\n      <th>price_pred_year_median</th>\n      <th>engine_group</th>\n      <th>engine_group2</th>\n      <th>price_pred_year_engine_median</th>\n      <th>year_group</th>\n      <th>price_year_engine_group_median</th>\n    </tr>\n  </thead>\n  <tbody>\n    <tr>\n      <th>0</th>\n      <td>5 Series</td>\n      <td>2013</td>\n      <td>12791</td>\n      <td>Semi-Auto</td>\n      <td>55642</td>\n      <td>Diesel</td>\n      <td>145</td>\n      <td>55.4</td>\n      <td>2.0</td>\n      <td>22668.821645</td>\n      <td>...</td>\n      <td>9877.821645</td>\n      <td>0.772248</td>\n      <td>20022.0</td>\n      <td>11041.347826</td>\n      <td>10490.0</td>\n      <td>&lt;=2</td>\n      <td>(1.5, 2.0]</td>\n      <td>9990.0</td>\n      <td>(2012.0, 2014.0]</td>\n      <td>10998.0</td>\n    </tr>\n    <tr>\n      <th>1</th>\n      <td>1 Series</td>\n      <td>2019</td>\n      <td>23995</td>\n      <td>Semi-Auto</td>\n      <td>1527</td>\n      <td>Petrol</td>\n      <td>145</td>\n      <td>43.5</td>\n      <td>1.5</td>\n      <td>22668.821645</td>\n      <td>...</td>\n      <td>1326.178355</td>\n      <td>0.055269</td>\n      <td>20022.0</td>\n      <td>31066.986143</td>\n      <td>27980.0</td>\n      <td>&lt;=1.5</td>\n      <td>(-inf, 1.5]</td>\n      <td>20980.0</td>\n      <td>(2018.0, inf]</td>\n      <td>21500.0</td>\n    </tr>\n    <tr>\n      <th>2</th>\n      <td>X5</td>\n      <td>2015</td>\n      <td>25995</td>\n      <td>Automatic</td>\n      <td>43344</td>\n      <td>Diesel</td>\n      <td>200</td>\n      <td>47.1</td>\n      <td>3.0</td>\n      <td>22668.821645</td>\n      <td>...</td>\n      <td>3326.178355</td>\n      <td>0.127955</td>\n      <td>20022.0</td>\n      <td>15086.536313</td>\n      <td>14103.5</td>\n      <td>&gt;2</td>\n      <td>(2.0, inf]</td>\n      <td>18144.5</td>\n      <td>(2014.0, 2016.0]</td>\n      <td>19497.5</td>\n    </tr>\n    <tr>\n      <th>3</th>\n      <td>2 Series</td>\n      <td>2019</td>\n      <td>25000</td>\n      <td>Automatic</td>\n      <td>4000</td>\n      <td>Petrol</td>\n      <td>145</td>\n      <td>47.9</td>\n      <td>2.0</td>\n      <td>22668.821645</td>\n      <td>...</td>\n      <td>2331.178355</td>\n      <td>0.093247</td>\n      <td>20022.0</td>\n      <td>31066.986143</td>\n      <td>27980.0</td>\n      <td>&lt;=2</td>\n      <td>(1.5, 2.0]</td>\n      <td>27294.0</td>\n      <td>(2018.0, inf]</td>\n      <td>27990.0</td>\n    </tr>\n    <tr>\n      <th>4</th>\n      <td>1 Series</td>\n      <td>2015</td>\n      <td>10950</td>\n      <td>Manual</td>\n      <td>33000</td>\n      <td>Diesel</td>\n      <td>20</td>\n      <td>72.4</td>\n      <td>1.5</td>\n      <td>22668.821645</td>\n      <td>...</td>\n      <td>11718.821645</td>\n      <td>1.070212</td>\n      <td>20022.0</td>\n      <td>15086.536313</td>\n      <td>14103.5</td>\n      <td>&lt;=1.5</td>\n      <td>(-inf, 1.5]</td>\n      <td>10999.0</td>\n      <td>(2014.0, 2016.0]</td>\n      <td>11557.0</td>\n    </tr>\n  </tbody>\n</table>\n<p>5 rows × 21 columns</p>\n</div>"
     },
     "execution_count": 131,
     "metadata": {},
     "output_type": "execute_result"
    }
   ],
   "source": [
    "train.head()"
   ],
   "metadata": {
    "collapsed": false,
    "pycharm": {
     "name": "#%%\n"
    }
   }
  },
  {
   "cell_type": "code",
   "execution_count": 132,
   "outputs": [],
   "source": [
    "# train = train.drop(['price_year_engine_group_median_x', 'price_year_engine_group_median_y'], axis=1)"
   ],
   "metadata": {
    "collapsed": false,
    "pycharm": {
     "name": "#%%\n"
    }
   }
  },
  {
   "cell_type": "markdown",
   "source": [
    "##### Теряем в качестве на трейне, т.к. стало меньше групп\n",
    "inf - 2010, 2010 - 2015, 2015 - inf. MAE 6252, MAPE 0.283\n",
    "inf - 2010, каждые 2 года, 2018 - inf. MAE 3827 MAPE 0.169"
   ],
   "metadata": {
    "collapsed": false,
    "pycharm": {
     "name": "#%% md\n"
    }
   }
  },
  {
   "cell_type": "markdown",
   "source": [
    "##### После того, как данные были разбиты на достаточное количество групп, модель сильно упростилась, но при этом почти не потеряла в качестве"
   ],
   "metadata": {
    "collapsed": false,
    "pycharm": {
     "name": "#%% md\n"
    }
   }
  },
  {
   "cell_type": "code",
   "source": [
    "error(train.price, train.price_year_engine_group_median)"
   ],
   "metadata": {
    "collapsed": false,
    "pycharm": {
     "name": "#%%\n"
    }
   },
   "execution_count": 133,
   "outputs": [
    {
     "name": "stdout",
     "output_type": "stream",
     "text": [
      "3827.4336425479282\n",
      "0.1693848259731495\n"
     ]
    }
   ]
  },
  {
   "cell_type": "code",
   "execution_count": 134,
   "outputs": [
    {
     "name": "stdout",
     "output_type": "stream",
     "text": [
      "3659.774273345702\n",
      "0.1582922021242831\n"
     ]
    }
   ],
   "source": [
    "error(train.price, train.price_pred_year_engine_median)  # Вариант без группировки по годам"
   ],
   "metadata": {
    "collapsed": false,
    "pycharm": {
     "name": "#%%\n"
    }
   }
  },
  {
   "cell_type": "markdown",
   "source": [
    "##### Для улучшения модели добавим группировку по трансмиссии"
   ],
   "metadata": {
    "collapsed": false,
    "pycharm": {
     "name": "#%% md\n"
    }
   }
  },
  {
   "cell_type": "code",
   "execution_count": 135,
   "outputs": [],
   "source": [
    "model_year_engine_trn_group_median = (train.groupby(['year_group', 'engine_group', 'transmission'])\n",
    "                                      .price.median()\n",
    "                                      .reset_index())"
   ],
   "metadata": {
    "collapsed": false,
    "pycharm": {
     "name": "#%%\n"
    }
   }
  },
  {
   "cell_type": "code",
   "execution_count": 136,
   "outputs": [
    {
     "data": {
      "text/plain": "          year_group engine_group transmission    price\n0      (0.0, 2010.0]        <=1.5    Automatic      NaN\n1      (0.0, 2010.0]        <=1.5       Manual  13000.0\n2      (0.0, 2010.0]        <=1.5    Semi-Auto      NaN\n3      (0.0, 2010.0]          <=2    Automatic   5982.5\n4      (0.0, 2010.0]          <=2       Manual   3995.0\n5      (0.0, 2010.0]          <=2    Semi-Auto   5695.0\n6      (0.0, 2010.0]           >2    Automatic   5997.0\n7      (0.0, 2010.0]           >2       Manual   8800.0\n8      (0.0, 2010.0]           >2    Semi-Auto  10995.0\n9   (2010.0, 2012.0]        <=1.5    Automatic      NaN\n10  (2010.0, 2012.0]        <=1.5       Manual      NaN\n11  (2010.0, 2012.0]        <=1.5    Semi-Auto      NaN\n12  (2010.0, 2012.0]          <=2    Automatic   9440.0\n13  (2010.0, 2012.0]          <=2       Manual   7490.0\n14  (2010.0, 2012.0]          <=2    Semi-Auto      NaN\n15  (2010.0, 2012.0]           >2    Automatic  12245.0\n16  (2010.0, 2012.0]           >2       Manual      NaN\n17  (2010.0, 2012.0]           >2    Semi-Auto      NaN\n18  (2012.0, 2014.0]        <=1.5    Automatic  14972.5\n19  (2012.0, 2014.0]        <=1.5       Manual      NaN\n20  (2012.0, 2014.0]        <=1.5    Semi-Auto      NaN\n21  (2012.0, 2014.0]          <=2    Automatic  11499.0\n22  (2012.0, 2014.0]          <=2       Manual   9940.0\n23  (2012.0, 2014.0]          <=2    Semi-Auto  12655.5\n24  (2012.0, 2014.0]           >2    Automatic  16990.0\n25  (2012.0, 2014.0]           >2       Manual  13898.5\n26  (2012.0, 2014.0]           >2    Semi-Auto  15991.0\n27  (2014.0, 2016.0]        <=1.5    Automatic  14285.0\n28  (2014.0, 2016.0]        <=1.5       Manual  11000.5\n29  (2014.0, 2016.0]        <=1.5    Semi-Auto  14107.5\n30  (2014.0, 2016.0]          <=2    Automatic  14985.0\n31  (2014.0, 2016.0]          <=2       Manual  12999.0\n32  (2014.0, 2016.0]          <=2    Semi-Auto  16990.0\n33  (2014.0, 2016.0]           >2    Automatic  19245.0\n34  (2014.0, 2016.0]           >2       Manual  17480.0\n35  (2014.0, 2016.0]           >2    Semi-Auto  19898.0\n36  (2016.0, 2018.0]        <=1.5    Automatic  16449.5\n37  (2016.0, 2018.0]        <=1.5       Manual  13980.0\n38  (2016.0, 2018.0]        <=1.5    Semi-Auto  16480.0\n39  (2016.0, 2018.0]          <=2    Automatic  18690.0\n40  (2016.0, 2018.0]          <=2       Manual  15400.0\n41  (2016.0, 2018.0]          <=2    Semi-Auto  19995.0\n42  (2016.0, 2018.0]           >2    Automatic  24686.0\n43  (2016.0, 2018.0]           >2       Manual  20491.0\n44  (2016.0, 2018.0]           >2    Semi-Auto  24495.0\n45     (2018.0, inf]        <=1.5    Automatic  21450.0\n46     (2018.0, inf]        <=1.5       Manual  21225.0\n47     (2018.0, inf]        <=1.5    Semi-Auto  21950.0\n48     (2018.0, inf]          <=2    Automatic  28850.0\n49     (2018.0, inf]          <=2       Manual  24775.0\n50     (2018.0, inf]          <=2    Semi-Auto  27995.0\n51     (2018.0, inf]           >2    Automatic  44130.5\n52     (2018.0, inf]           >2       Manual  46000.0\n53     (2018.0, inf]           >2    Semi-Auto  46991.0",
      "text/html": "<div>\n<style scoped>\n    .dataframe tbody tr th:only-of-type {\n        vertical-align: middle;\n    }\n\n    .dataframe tbody tr th {\n        vertical-align: top;\n    }\n\n    .dataframe thead th {\n        text-align: right;\n    }\n</style>\n<table border=\"1\" class=\"dataframe\">\n  <thead>\n    <tr style=\"text-align: right;\">\n      <th></th>\n      <th>year_group</th>\n      <th>engine_group</th>\n      <th>transmission</th>\n      <th>price</th>\n    </tr>\n  </thead>\n  <tbody>\n    <tr>\n      <th>0</th>\n      <td>(0.0, 2010.0]</td>\n      <td>&lt;=1.5</td>\n      <td>Automatic</td>\n      <td>NaN</td>\n    </tr>\n    <tr>\n      <th>1</th>\n      <td>(0.0, 2010.0]</td>\n      <td>&lt;=1.5</td>\n      <td>Manual</td>\n      <td>13000.0</td>\n    </tr>\n    <tr>\n      <th>2</th>\n      <td>(0.0, 2010.0]</td>\n      <td>&lt;=1.5</td>\n      <td>Semi-Auto</td>\n      <td>NaN</td>\n    </tr>\n    <tr>\n      <th>3</th>\n      <td>(0.0, 2010.0]</td>\n      <td>&lt;=2</td>\n      <td>Automatic</td>\n      <td>5982.5</td>\n    </tr>\n    <tr>\n      <th>4</th>\n      <td>(0.0, 2010.0]</td>\n      <td>&lt;=2</td>\n      <td>Manual</td>\n      <td>3995.0</td>\n    </tr>\n    <tr>\n      <th>5</th>\n      <td>(0.0, 2010.0]</td>\n      <td>&lt;=2</td>\n      <td>Semi-Auto</td>\n      <td>5695.0</td>\n    </tr>\n    <tr>\n      <th>6</th>\n      <td>(0.0, 2010.0]</td>\n      <td>&gt;2</td>\n      <td>Automatic</td>\n      <td>5997.0</td>\n    </tr>\n    <tr>\n      <th>7</th>\n      <td>(0.0, 2010.0]</td>\n      <td>&gt;2</td>\n      <td>Manual</td>\n      <td>8800.0</td>\n    </tr>\n    <tr>\n      <th>8</th>\n      <td>(0.0, 2010.0]</td>\n      <td>&gt;2</td>\n      <td>Semi-Auto</td>\n      <td>10995.0</td>\n    </tr>\n    <tr>\n      <th>9</th>\n      <td>(2010.0, 2012.0]</td>\n      <td>&lt;=1.5</td>\n      <td>Automatic</td>\n      <td>NaN</td>\n    </tr>\n    <tr>\n      <th>10</th>\n      <td>(2010.0, 2012.0]</td>\n      <td>&lt;=1.5</td>\n      <td>Manual</td>\n      <td>NaN</td>\n    </tr>\n    <tr>\n      <th>11</th>\n      <td>(2010.0, 2012.0]</td>\n      <td>&lt;=1.5</td>\n      <td>Semi-Auto</td>\n      <td>NaN</td>\n    </tr>\n    <tr>\n      <th>12</th>\n      <td>(2010.0, 2012.0]</td>\n      <td>&lt;=2</td>\n      <td>Automatic</td>\n      <td>9440.0</td>\n    </tr>\n    <tr>\n      <th>13</th>\n      <td>(2010.0, 2012.0]</td>\n      <td>&lt;=2</td>\n      <td>Manual</td>\n      <td>7490.0</td>\n    </tr>\n    <tr>\n      <th>14</th>\n      <td>(2010.0, 2012.0]</td>\n      <td>&lt;=2</td>\n      <td>Semi-Auto</td>\n      <td>NaN</td>\n    </tr>\n    <tr>\n      <th>15</th>\n      <td>(2010.0, 2012.0]</td>\n      <td>&gt;2</td>\n      <td>Automatic</td>\n      <td>12245.0</td>\n    </tr>\n    <tr>\n      <th>16</th>\n      <td>(2010.0, 2012.0]</td>\n      <td>&gt;2</td>\n      <td>Manual</td>\n      <td>NaN</td>\n    </tr>\n    <tr>\n      <th>17</th>\n      <td>(2010.0, 2012.0]</td>\n      <td>&gt;2</td>\n      <td>Semi-Auto</td>\n      <td>NaN</td>\n    </tr>\n    <tr>\n      <th>18</th>\n      <td>(2012.0, 2014.0]</td>\n      <td>&lt;=1.5</td>\n      <td>Automatic</td>\n      <td>14972.5</td>\n    </tr>\n    <tr>\n      <th>19</th>\n      <td>(2012.0, 2014.0]</td>\n      <td>&lt;=1.5</td>\n      <td>Manual</td>\n      <td>NaN</td>\n    </tr>\n    <tr>\n      <th>20</th>\n      <td>(2012.0, 2014.0]</td>\n      <td>&lt;=1.5</td>\n      <td>Semi-Auto</td>\n      <td>NaN</td>\n    </tr>\n    <tr>\n      <th>21</th>\n      <td>(2012.0, 2014.0]</td>\n      <td>&lt;=2</td>\n      <td>Automatic</td>\n      <td>11499.0</td>\n    </tr>\n    <tr>\n      <th>22</th>\n      <td>(2012.0, 2014.0]</td>\n      <td>&lt;=2</td>\n      <td>Manual</td>\n      <td>9940.0</td>\n    </tr>\n    <tr>\n      <th>23</th>\n      <td>(2012.0, 2014.0]</td>\n      <td>&lt;=2</td>\n      <td>Semi-Auto</td>\n      <td>12655.5</td>\n    </tr>\n    <tr>\n      <th>24</th>\n      <td>(2012.0, 2014.0]</td>\n      <td>&gt;2</td>\n      <td>Automatic</td>\n      <td>16990.0</td>\n    </tr>\n    <tr>\n      <th>25</th>\n      <td>(2012.0, 2014.0]</td>\n      <td>&gt;2</td>\n      <td>Manual</td>\n      <td>13898.5</td>\n    </tr>\n    <tr>\n      <th>26</th>\n      <td>(2012.0, 2014.0]</td>\n      <td>&gt;2</td>\n      <td>Semi-Auto</td>\n      <td>15991.0</td>\n    </tr>\n    <tr>\n      <th>27</th>\n      <td>(2014.0, 2016.0]</td>\n      <td>&lt;=1.5</td>\n      <td>Automatic</td>\n      <td>14285.0</td>\n    </tr>\n    <tr>\n      <th>28</th>\n      <td>(2014.0, 2016.0]</td>\n      <td>&lt;=1.5</td>\n      <td>Manual</td>\n      <td>11000.5</td>\n    </tr>\n    <tr>\n      <th>29</th>\n      <td>(2014.0, 2016.0]</td>\n      <td>&lt;=1.5</td>\n      <td>Semi-Auto</td>\n      <td>14107.5</td>\n    </tr>\n    <tr>\n      <th>30</th>\n      <td>(2014.0, 2016.0]</td>\n      <td>&lt;=2</td>\n      <td>Automatic</td>\n      <td>14985.0</td>\n    </tr>\n    <tr>\n      <th>31</th>\n      <td>(2014.0, 2016.0]</td>\n      <td>&lt;=2</td>\n      <td>Manual</td>\n      <td>12999.0</td>\n    </tr>\n    <tr>\n      <th>32</th>\n      <td>(2014.0, 2016.0]</td>\n      <td>&lt;=2</td>\n      <td>Semi-Auto</td>\n      <td>16990.0</td>\n    </tr>\n    <tr>\n      <th>33</th>\n      <td>(2014.0, 2016.0]</td>\n      <td>&gt;2</td>\n      <td>Automatic</td>\n      <td>19245.0</td>\n    </tr>\n    <tr>\n      <th>34</th>\n      <td>(2014.0, 2016.0]</td>\n      <td>&gt;2</td>\n      <td>Manual</td>\n      <td>17480.0</td>\n    </tr>\n    <tr>\n      <th>35</th>\n      <td>(2014.0, 2016.0]</td>\n      <td>&gt;2</td>\n      <td>Semi-Auto</td>\n      <td>19898.0</td>\n    </tr>\n    <tr>\n      <th>36</th>\n      <td>(2016.0, 2018.0]</td>\n      <td>&lt;=1.5</td>\n      <td>Automatic</td>\n      <td>16449.5</td>\n    </tr>\n    <tr>\n      <th>37</th>\n      <td>(2016.0, 2018.0]</td>\n      <td>&lt;=1.5</td>\n      <td>Manual</td>\n      <td>13980.0</td>\n    </tr>\n    <tr>\n      <th>38</th>\n      <td>(2016.0, 2018.0]</td>\n      <td>&lt;=1.5</td>\n      <td>Semi-Auto</td>\n      <td>16480.0</td>\n    </tr>\n    <tr>\n      <th>39</th>\n      <td>(2016.0, 2018.0]</td>\n      <td>&lt;=2</td>\n      <td>Automatic</td>\n      <td>18690.0</td>\n    </tr>\n    <tr>\n      <th>40</th>\n      <td>(2016.0, 2018.0]</td>\n      <td>&lt;=2</td>\n      <td>Manual</td>\n      <td>15400.0</td>\n    </tr>\n    <tr>\n      <th>41</th>\n      <td>(2016.0, 2018.0]</td>\n      <td>&lt;=2</td>\n      <td>Semi-Auto</td>\n      <td>19995.0</td>\n    </tr>\n    <tr>\n      <th>42</th>\n      <td>(2016.0, 2018.0]</td>\n      <td>&gt;2</td>\n      <td>Automatic</td>\n      <td>24686.0</td>\n    </tr>\n    <tr>\n      <th>43</th>\n      <td>(2016.0, 2018.0]</td>\n      <td>&gt;2</td>\n      <td>Manual</td>\n      <td>20491.0</td>\n    </tr>\n    <tr>\n      <th>44</th>\n      <td>(2016.0, 2018.0]</td>\n      <td>&gt;2</td>\n      <td>Semi-Auto</td>\n      <td>24495.0</td>\n    </tr>\n    <tr>\n      <th>45</th>\n      <td>(2018.0, inf]</td>\n      <td>&lt;=1.5</td>\n      <td>Automatic</td>\n      <td>21450.0</td>\n    </tr>\n    <tr>\n      <th>46</th>\n      <td>(2018.0, inf]</td>\n      <td>&lt;=1.5</td>\n      <td>Manual</td>\n      <td>21225.0</td>\n    </tr>\n    <tr>\n      <th>47</th>\n      <td>(2018.0, inf]</td>\n      <td>&lt;=1.5</td>\n      <td>Semi-Auto</td>\n      <td>21950.0</td>\n    </tr>\n    <tr>\n      <th>48</th>\n      <td>(2018.0, inf]</td>\n      <td>&lt;=2</td>\n      <td>Automatic</td>\n      <td>28850.0</td>\n    </tr>\n    <tr>\n      <th>49</th>\n      <td>(2018.0, inf]</td>\n      <td>&lt;=2</td>\n      <td>Manual</td>\n      <td>24775.0</td>\n    </tr>\n    <tr>\n      <th>50</th>\n      <td>(2018.0, inf]</td>\n      <td>&lt;=2</td>\n      <td>Semi-Auto</td>\n      <td>27995.0</td>\n    </tr>\n    <tr>\n      <th>51</th>\n      <td>(2018.0, inf]</td>\n      <td>&gt;2</td>\n      <td>Automatic</td>\n      <td>44130.5</td>\n    </tr>\n    <tr>\n      <th>52</th>\n      <td>(2018.0, inf]</td>\n      <td>&gt;2</td>\n      <td>Manual</td>\n      <td>46000.0</td>\n    </tr>\n    <tr>\n      <th>53</th>\n      <td>(2018.0, inf]</td>\n      <td>&gt;2</td>\n      <td>Semi-Auto</td>\n      <td>46991.0</td>\n    </tr>\n  </tbody>\n</table>\n</div>"
     },
     "execution_count": 136,
     "metadata": {},
     "output_type": "execute_result"
    }
   ],
   "source": [
    "model_year_engine_trn_group_median"
   ],
   "metadata": {
    "collapsed": false,
    "pycharm": {
     "name": "#%%\n"
    }
   }
  },
  {
   "cell_type": "code",
   "execution_count": 137,
   "outputs": [],
   "source": [
    "# pd.options.display.max_rows = 999  # Настройка вывода количества строк для Colab"
   ],
   "metadata": {
    "collapsed": false,
    "pycharm": {
     "name": "#%%\n"
    }
   }
  },
  {
   "cell_type": "markdown",
   "source": [
    "##### Nan\\`ы появляются из-за интервальной переменной, если же сделать группировку по годам, то Nan`ов не будет"
   ],
   "metadata": {
    "collapsed": false,
    "pycharm": {
     "name": "#%% md\n"
    }
   }
  },
  {
   "cell_type": "code",
   "execution_count": 138,
   "outputs": [
    {
     "data": {
      "text/plain": "     year engine_group transmission    price\n0    1996           >2    Automatic   5995.0\n1    1997          <=2       Manual   3950.0\n2    1998          <=2       Manual   3950.0\n3    1999          <=2       Manual   3995.0\n4    2000           >2    Automatic   1550.0\n..    ...          ...          ...      ...\n107  2020          <=2    Automatic  34550.0\n108  2020          <=2       Manual  24240.0\n109  2020          <=2    Semi-Auto  31233.0\n110  2020           >2    Automatic  44899.0\n111  2020           >2    Semi-Auto  49490.0\n\n[112 rows x 4 columns]",
      "text/html": "<div>\n<style scoped>\n    .dataframe tbody tr th:only-of-type {\n        vertical-align: middle;\n    }\n\n    .dataframe tbody tr th {\n        vertical-align: top;\n    }\n\n    .dataframe thead th {\n        text-align: right;\n    }\n</style>\n<table border=\"1\" class=\"dataframe\">\n  <thead>\n    <tr style=\"text-align: right;\">\n      <th></th>\n      <th>year</th>\n      <th>engine_group</th>\n      <th>transmission</th>\n      <th>price</th>\n    </tr>\n  </thead>\n  <tbody>\n    <tr>\n      <th>0</th>\n      <td>1996</td>\n      <td>&gt;2</td>\n      <td>Automatic</td>\n      <td>5995.0</td>\n    </tr>\n    <tr>\n      <th>1</th>\n      <td>1997</td>\n      <td>&lt;=2</td>\n      <td>Manual</td>\n      <td>3950.0</td>\n    </tr>\n    <tr>\n      <th>2</th>\n      <td>1998</td>\n      <td>&lt;=2</td>\n      <td>Manual</td>\n      <td>3950.0</td>\n    </tr>\n    <tr>\n      <th>3</th>\n      <td>1999</td>\n      <td>&lt;=2</td>\n      <td>Manual</td>\n      <td>3995.0</td>\n    </tr>\n    <tr>\n      <th>4</th>\n      <td>2000</td>\n      <td>&gt;2</td>\n      <td>Automatic</td>\n      <td>1550.0</td>\n    </tr>\n    <tr>\n      <th>...</th>\n      <td>...</td>\n      <td>...</td>\n      <td>...</td>\n      <td>...</td>\n    </tr>\n    <tr>\n      <th>107</th>\n      <td>2020</td>\n      <td>&lt;=2</td>\n      <td>Automatic</td>\n      <td>34550.0</td>\n    </tr>\n    <tr>\n      <th>108</th>\n      <td>2020</td>\n      <td>&lt;=2</td>\n      <td>Manual</td>\n      <td>24240.0</td>\n    </tr>\n    <tr>\n      <th>109</th>\n      <td>2020</td>\n      <td>&lt;=2</td>\n      <td>Semi-Auto</td>\n      <td>31233.0</td>\n    </tr>\n    <tr>\n      <th>110</th>\n      <td>2020</td>\n      <td>&gt;2</td>\n      <td>Automatic</td>\n      <td>44899.0</td>\n    </tr>\n    <tr>\n      <th>111</th>\n      <td>2020</td>\n      <td>&gt;2</td>\n      <td>Semi-Auto</td>\n      <td>49490.0</td>\n    </tr>\n  </tbody>\n</table>\n<p>112 rows × 4 columns</p>\n</div>"
     },
     "execution_count": 138,
     "metadata": {},
     "output_type": "execute_result"
    }
   ],
   "source": [
    "(train.groupby(['year',\n",
    "                'engine_group',\n",
    "                'transmission'])\n",
    " .price.median()\n",
    " .reset_index())"
   ],
   "metadata": {
    "collapsed": false,
    "pycharm": {
     "name": "#%%\n"
    }
   }
  },
  {
   "cell_type": "markdown",
   "source": [
    "##### Переименнуем прайс во избежания повторений (_x, _y)"
   ],
   "metadata": {
    "collapsed": false,
    "pycharm": {
     "name": "#%% md\n"
    }
   }
  },
  {
   "cell_type": "code",
   "execution_count": 139,
   "outputs": [],
   "source": [
    "model_year_engine_trn_group_median = (model_year_engine_trn_group_median\n",
    "                                      .rename({'price': 'price_pred_year_engine_trn_median'}, axis=1))"
   ],
   "metadata": {
    "collapsed": false,
    "pycharm": {
     "name": "#%%\n"
    }
   }
  },
  {
   "cell_type": "code",
   "execution_count": 140,
   "outputs": [
    {
     "data": {
      "text/plain": "          year_group engine_group transmission  \\\n0      (0.0, 2010.0]        <=1.5    Automatic   \n1      (0.0, 2010.0]        <=1.5       Manual   \n2      (0.0, 2010.0]        <=1.5    Semi-Auto   \n3      (0.0, 2010.0]          <=2    Automatic   \n4      (0.0, 2010.0]          <=2       Manual   \n5      (0.0, 2010.0]          <=2    Semi-Auto   \n6      (0.0, 2010.0]           >2    Automatic   \n7      (0.0, 2010.0]           >2       Manual   \n8      (0.0, 2010.0]           >2    Semi-Auto   \n9   (2010.0, 2012.0]        <=1.5    Automatic   \n10  (2010.0, 2012.0]        <=1.5       Manual   \n11  (2010.0, 2012.0]        <=1.5    Semi-Auto   \n12  (2010.0, 2012.0]          <=2    Automatic   \n13  (2010.0, 2012.0]          <=2       Manual   \n14  (2010.0, 2012.0]          <=2    Semi-Auto   \n15  (2010.0, 2012.0]           >2    Automatic   \n16  (2010.0, 2012.0]           >2       Manual   \n17  (2010.0, 2012.0]           >2    Semi-Auto   \n18  (2012.0, 2014.0]        <=1.5    Automatic   \n19  (2012.0, 2014.0]        <=1.5       Manual   \n20  (2012.0, 2014.0]        <=1.5    Semi-Auto   \n21  (2012.0, 2014.0]          <=2    Automatic   \n22  (2012.0, 2014.0]          <=2       Manual   \n23  (2012.0, 2014.0]          <=2    Semi-Auto   \n24  (2012.0, 2014.0]           >2    Automatic   \n25  (2012.0, 2014.0]           >2       Manual   \n26  (2012.0, 2014.0]           >2    Semi-Auto   \n27  (2014.0, 2016.0]        <=1.5    Automatic   \n28  (2014.0, 2016.0]        <=1.5       Manual   \n29  (2014.0, 2016.0]        <=1.5    Semi-Auto   \n30  (2014.0, 2016.0]          <=2    Automatic   \n31  (2014.0, 2016.0]          <=2       Manual   \n32  (2014.0, 2016.0]          <=2    Semi-Auto   \n33  (2014.0, 2016.0]           >2    Automatic   \n34  (2014.0, 2016.0]           >2       Manual   \n35  (2014.0, 2016.0]           >2    Semi-Auto   \n36  (2016.0, 2018.0]        <=1.5    Automatic   \n37  (2016.0, 2018.0]        <=1.5       Manual   \n38  (2016.0, 2018.0]        <=1.5    Semi-Auto   \n39  (2016.0, 2018.0]          <=2    Automatic   \n40  (2016.0, 2018.0]          <=2       Manual   \n41  (2016.0, 2018.0]          <=2    Semi-Auto   \n42  (2016.0, 2018.0]           >2    Automatic   \n43  (2016.0, 2018.0]           >2       Manual   \n44  (2016.0, 2018.0]           >2    Semi-Auto   \n45     (2018.0, inf]        <=1.5    Automatic   \n46     (2018.0, inf]        <=1.5       Manual   \n47     (2018.0, inf]        <=1.5    Semi-Auto   \n48     (2018.0, inf]          <=2    Automatic   \n49     (2018.0, inf]          <=2       Manual   \n50     (2018.0, inf]          <=2    Semi-Auto   \n51     (2018.0, inf]           >2    Automatic   \n52     (2018.0, inf]           >2       Manual   \n53     (2018.0, inf]           >2    Semi-Auto   \n\n    price_pred_year_engine_trn_median  \n0                                 NaN  \n1                             13000.0  \n2                                 NaN  \n3                              5982.5  \n4                              3995.0  \n5                              5695.0  \n6                              5997.0  \n7                              8800.0  \n8                             10995.0  \n9                                 NaN  \n10                                NaN  \n11                                NaN  \n12                             9440.0  \n13                             7490.0  \n14                                NaN  \n15                            12245.0  \n16                                NaN  \n17                                NaN  \n18                            14972.5  \n19                                NaN  \n20                                NaN  \n21                            11499.0  \n22                             9940.0  \n23                            12655.5  \n24                            16990.0  \n25                            13898.5  \n26                            15991.0  \n27                            14285.0  \n28                            11000.5  \n29                            14107.5  \n30                            14985.0  \n31                            12999.0  \n32                            16990.0  \n33                            19245.0  \n34                            17480.0  \n35                            19898.0  \n36                            16449.5  \n37                            13980.0  \n38                            16480.0  \n39                            18690.0  \n40                            15400.0  \n41                            19995.0  \n42                            24686.0  \n43                            20491.0  \n44                            24495.0  \n45                            21450.0  \n46                            21225.0  \n47                            21950.0  \n48                            28850.0  \n49                            24775.0  \n50                            27995.0  \n51                            44130.5  \n52                            46000.0  \n53                            46991.0  ",
      "text/html": "<div>\n<style scoped>\n    .dataframe tbody tr th:only-of-type {\n        vertical-align: middle;\n    }\n\n    .dataframe tbody tr th {\n        vertical-align: top;\n    }\n\n    .dataframe thead th {\n        text-align: right;\n    }\n</style>\n<table border=\"1\" class=\"dataframe\">\n  <thead>\n    <tr style=\"text-align: right;\">\n      <th></th>\n      <th>year_group</th>\n      <th>engine_group</th>\n      <th>transmission</th>\n      <th>price_pred_year_engine_trn_median</th>\n    </tr>\n  </thead>\n  <tbody>\n    <tr>\n      <th>0</th>\n      <td>(0.0, 2010.0]</td>\n      <td>&lt;=1.5</td>\n      <td>Automatic</td>\n      <td>NaN</td>\n    </tr>\n    <tr>\n      <th>1</th>\n      <td>(0.0, 2010.0]</td>\n      <td>&lt;=1.5</td>\n      <td>Manual</td>\n      <td>13000.0</td>\n    </tr>\n    <tr>\n      <th>2</th>\n      <td>(0.0, 2010.0]</td>\n      <td>&lt;=1.5</td>\n      <td>Semi-Auto</td>\n      <td>NaN</td>\n    </tr>\n    <tr>\n      <th>3</th>\n      <td>(0.0, 2010.0]</td>\n      <td>&lt;=2</td>\n      <td>Automatic</td>\n      <td>5982.5</td>\n    </tr>\n    <tr>\n      <th>4</th>\n      <td>(0.0, 2010.0]</td>\n      <td>&lt;=2</td>\n      <td>Manual</td>\n      <td>3995.0</td>\n    </tr>\n    <tr>\n      <th>5</th>\n      <td>(0.0, 2010.0]</td>\n      <td>&lt;=2</td>\n      <td>Semi-Auto</td>\n      <td>5695.0</td>\n    </tr>\n    <tr>\n      <th>6</th>\n      <td>(0.0, 2010.0]</td>\n      <td>&gt;2</td>\n      <td>Automatic</td>\n      <td>5997.0</td>\n    </tr>\n    <tr>\n      <th>7</th>\n      <td>(0.0, 2010.0]</td>\n      <td>&gt;2</td>\n      <td>Manual</td>\n      <td>8800.0</td>\n    </tr>\n    <tr>\n      <th>8</th>\n      <td>(0.0, 2010.0]</td>\n      <td>&gt;2</td>\n      <td>Semi-Auto</td>\n      <td>10995.0</td>\n    </tr>\n    <tr>\n      <th>9</th>\n      <td>(2010.0, 2012.0]</td>\n      <td>&lt;=1.5</td>\n      <td>Automatic</td>\n      <td>NaN</td>\n    </tr>\n    <tr>\n      <th>10</th>\n      <td>(2010.0, 2012.0]</td>\n      <td>&lt;=1.5</td>\n      <td>Manual</td>\n      <td>NaN</td>\n    </tr>\n    <tr>\n      <th>11</th>\n      <td>(2010.0, 2012.0]</td>\n      <td>&lt;=1.5</td>\n      <td>Semi-Auto</td>\n      <td>NaN</td>\n    </tr>\n    <tr>\n      <th>12</th>\n      <td>(2010.0, 2012.0]</td>\n      <td>&lt;=2</td>\n      <td>Automatic</td>\n      <td>9440.0</td>\n    </tr>\n    <tr>\n      <th>13</th>\n      <td>(2010.0, 2012.0]</td>\n      <td>&lt;=2</td>\n      <td>Manual</td>\n      <td>7490.0</td>\n    </tr>\n    <tr>\n      <th>14</th>\n      <td>(2010.0, 2012.0]</td>\n      <td>&lt;=2</td>\n      <td>Semi-Auto</td>\n      <td>NaN</td>\n    </tr>\n    <tr>\n      <th>15</th>\n      <td>(2010.0, 2012.0]</td>\n      <td>&gt;2</td>\n      <td>Automatic</td>\n      <td>12245.0</td>\n    </tr>\n    <tr>\n      <th>16</th>\n      <td>(2010.0, 2012.0]</td>\n      <td>&gt;2</td>\n      <td>Manual</td>\n      <td>NaN</td>\n    </tr>\n    <tr>\n      <th>17</th>\n      <td>(2010.0, 2012.0]</td>\n      <td>&gt;2</td>\n      <td>Semi-Auto</td>\n      <td>NaN</td>\n    </tr>\n    <tr>\n      <th>18</th>\n      <td>(2012.0, 2014.0]</td>\n      <td>&lt;=1.5</td>\n      <td>Automatic</td>\n      <td>14972.5</td>\n    </tr>\n    <tr>\n      <th>19</th>\n      <td>(2012.0, 2014.0]</td>\n      <td>&lt;=1.5</td>\n      <td>Manual</td>\n      <td>NaN</td>\n    </tr>\n    <tr>\n      <th>20</th>\n      <td>(2012.0, 2014.0]</td>\n      <td>&lt;=1.5</td>\n      <td>Semi-Auto</td>\n      <td>NaN</td>\n    </tr>\n    <tr>\n      <th>21</th>\n      <td>(2012.0, 2014.0]</td>\n      <td>&lt;=2</td>\n      <td>Automatic</td>\n      <td>11499.0</td>\n    </tr>\n    <tr>\n      <th>22</th>\n      <td>(2012.0, 2014.0]</td>\n      <td>&lt;=2</td>\n      <td>Manual</td>\n      <td>9940.0</td>\n    </tr>\n    <tr>\n      <th>23</th>\n      <td>(2012.0, 2014.0]</td>\n      <td>&lt;=2</td>\n      <td>Semi-Auto</td>\n      <td>12655.5</td>\n    </tr>\n    <tr>\n      <th>24</th>\n      <td>(2012.0, 2014.0]</td>\n      <td>&gt;2</td>\n      <td>Automatic</td>\n      <td>16990.0</td>\n    </tr>\n    <tr>\n      <th>25</th>\n      <td>(2012.0, 2014.0]</td>\n      <td>&gt;2</td>\n      <td>Manual</td>\n      <td>13898.5</td>\n    </tr>\n    <tr>\n      <th>26</th>\n      <td>(2012.0, 2014.0]</td>\n      <td>&gt;2</td>\n      <td>Semi-Auto</td>\n      <td>15991.0</td>\n    </tr>\n    <tr>\n      <th>27</th>\n      <td>(2014.0, 2016.0]</td>\n      <td>&lt;=1.5</td>\n      <td>Automatic</td>\n      <td>14285.0</td>\n    </tr>\n    <tr>\n      <th>28</th>\n      <td>(2014.0, 2016.0]</td>\n      <td>&lt;=1.5</td>\n      <td>Manual</td>\n      <td>11000.5</td>\n    </tr>\n    <tr>\n      <th>29</th>\n      <td>(2014.0, 2016.0]</td>\n      <td>&lt;=1.5</td>\n      <td>Semi-Auto</td>\n      <td>14107.5</td>\n    </tr>\n    <tr>\n      <th>30</th>\n      <td>(2014.0, 2016.0]</td>\n      <td>&lt;=2</td>\n      <td>Automatic</td>\n      <td>14985.0</td>\n    </tr>\n    <tr>\n      <th>31</th>\n      <td>(2014.0, 2016.0]</td>\n      <td>&lt;=2</td>\n      <td>Manual</td>\n      <td>12999.0</td>\n    </tr>\n    <tr>\n      <th>32</th>\n      <td>(2014.0, 2016.0]</td>\n      <td>&lt;=2</td>\n      <td>Semi-Auto</td>\n      <td>16990.0</td>\n    </tr>\n    <tr>\n      <th>33</th>\n      <td>(2014.0, 2016.0]</td>\n      <td>&gt;2</td>\n      <td>Automatic</td>\n      <td>19245.0</td>\n    </tr>\n    <tr>\n      <th>34</th>\n      <td>(2014.0, 2016.0]</td>\n      <td>&gt;2</td>\n      <td>Manual</td>\n      <td>17480.0</td>\n    </tr>\n    <tr>\n      <th>35</th>\n      <td>(2014.0, 2016.0]</td>\n      <td>&gt;2</td>\n      <td>Semi-Auto</td>\n      <td>19898.0</td>\n    </tr>\n    <tr>\n      <th>36</th>\n      <td>(2016.0, 2018.0]</td>\n      <td>&lt;=1.5</td>\n      <td>Automatic</td>\n      <td>16449.5</td>\n    </tr>\n    <tr>\n      <th>37</th>\n      <td>(2016.0, 2018.0]</td>\n      <td>&lt;=1.5</td>\n      <td>Manual</td>\n      <td>13980.0</td>\n    </tr>\n    <tr>\n      <th>38</th>\n      <td>(2016.0, 2018.0]</td>\n      <td>&lt;=1.5</td>\n      <td>Semi-Auto</td>\n      <td>16480.0</td>\n    </tr>\n    <tr>\n      <th>39</th>\n      <td>(2016.0, 2018.0]</td>\n      <td>&lt;=2</td>\n      <td>Automatic</td>\n      <td>18690.0</td>\n    </tr>\n    <tr>\n      <th>40</th>\n      <td>(2016.0, 2018.0]</td>\n      <td>&lt;=2</td>\n      <td>Manual</td>\n      <td>15400.0</td>\n    </tr>\n    <tr>\n      <th>41</th>\n      <td>(2016.0, 2018.0]</td>\n      <td>&lt;=2</td>\n      <td>Semi-Auto</td>\n      <td>19995.0</td>\n    </tr>\n    <tr>\n      <th>42</th>\n      <td>(2016.0, 2018.0]</td>\n      <td>&gt;2</td>\n      <td>Automatic</td>\n      <td>24686.0</td>\n    </tr>\n    <tr>\n      <th>43</th>\n      <td>(2016.0, 2018.0]</td>\n      <td>&gt;2</td>\n      <td>Manual</td>\n      <td>20491.0</td>\n    </tr>\n    <tr>\n      <th>44</th>\n      <td>(2016.0, 2018.0]</td>\n      <td>&gt;2</td>\n      <td>Semi-Auto</td>\n      <td>24495.0</td>\n    </tr>\n    <tr>\n      <th>45</th>\n      <td>(2018.0, inf]</td>\n      <td>&lt;=1.5</td>\n      <td>Automatic</td>\n      <td>21450.0</td>\n    </tr>\n    <tr>\n      <th>46</th>\n      <td>(2018.0, inf]</td>\n      <td>&lt;=1.5</td>\n      <td>Manual</td>\n      <td>21225.0</td>\n    </tr>\n    <tr>\n      <th>47</th>\n      <td>(2018.0, inf]</td>\n      <td>&lt;=1.5</td>\n      <td>Semi-Auto</td>\n      <td>21950.0</td>\n    </tr>\n    <tr>\n      <th>48</th>\n      <td>(2018.0, inf]</td>\n      <td>&lt;=2</td>\n      <td>Automatic</td>\n      <td>28850.0</td>\n    </tr>\n    <tr>\n      <th>49</th>\n      <td>(2018.0, inf]</td>\n      <td>&lt;=2</td>\n      <td>Manual</td>\n      <td>24775.0</td>\n    </tr>\n    <tr>\n      <th>50</th>\n      <td>(2018.0, inf]</td>\n      <td>&lt;=2</td>\n      <td>Semi-Auto</td>\n      <td>27995.0</td>\n    </tr>\n    <tr>\n      <th>51</th>\n      <td>(2018.0, inf]</td>\n      <td>&gt;2</td>\n      <td>Automatic</td>\n      <td>44130.5</td>\n    </tr>\n    <tr>\n      <th>52</th>\n      <td>(2018.0, inf]</td>\n      <td>&gt;2</td>\n      <td>Manual</td>\n      <td>46000.0</td>\n    </tr>\n    <tr>\n      <th>53</th>\n      <td>(2018.0, inf]</td>\n      <td>&gt;2</td>\n      <td>Semi-Auto</td>\n      <td>46991.0</td>\n    </tr>\n  </tbody>\n</table>\n</div>"
     },
     "execution_count": 140,
     "metadata": {},
     "output_type": "execute_result"
    }
   ],
   "source": [
    "model_year_engine_trn_group_median"
   ],
   "metadata": {
    "collapsed": false,
    "pycharm": {
     "name": "#%%\n"
    }
   }
  },
  {
   "cell_type": "markdown",
   "source": [
    "##### Мёрджим ДФ на трейне"
   ],
   "metadata": {
    "collapsed": false,
    "pycharm": {
     "name": "#%% md\n"
    }
   }
  },
  {
   "cell_type": "code",
   "execution_count": 141,
   "outputs": [],
   "source": [
    "train = train.merge(model_year_engine_trn_group_median, how='left', on=['year_group',\n",
    "                                                                'engine_group',\n",
    "                                                                'transmission'])"
   ],
   "metadata": {
    "collapsed": false,
    "pycharm": {
     "name": "#%%\n"
    }
   }
  },
  {
   "cell_type": "code",
   "execution_count": 142,
   "outputs": [
    {
     "data": {
      "text/plain": "       model  year  price transmission  mileage fuelType  tax   mpg  \\\n0   5 Series  2013  12791    Semi-Auto    55642   Diesel  145  55.4   \n1   1 Series  2019  23995    Semi-Auto     1527   Petrol  145  43.5   \n2         X5  2015  25995    Automatic    43344   Diesel  200  47.1   \n3   2 Series  2019  25000    Automatic     4000   Petrol  145  47.9   \n4   1 Series  2015  10950       Manual    33000   Diesel   20  72.4   \n\n   engineSize  price_pred_mean  ...  err_abs_pct  price_pred_median  \\\n0         2.0     22668.821645  ...     0.772248            20022.0   \n1         1.5     22668.821645  ...     0.055269            20022.0   \n2         3.0     22668.821645  ...     0.127955            20022.0   \n3         2.0     22668.821645  ...     0.093247            20022.0   \n4         1.5     22668.821645  ...     1.070212            20022.0   \n\n   price_pred_year_mean  price_pred_year_median  engine_group  engine_group2  \\\n0          11041.347826                 10490.0           <=2     (1.5, 2.0]   \n1          31066.986143                 27980.0         <=1.5    (-inf, 1.5]   \n2          15086.536313                 14103.5            >2     (2.0, inf]   \n3          31066.986143                 27980.0           <=2     (1.5, 2.0]   \n4          15086.536313                 14103.5         <=1.5    (-inf, 1.5]   \n\n  price_pred_year_engine_median        year_group  \\\n0                        9990.0  (2012.0, 2014.0]   \n1                       20980.0     (2018.0, inf]   \n2                       18144.5  (2014.0, 2016.0]   \n3                       27294.0     (2018.0, inf]   \n4                       10999.0  (2014.0, 2016.0]   \n\n   price_year_engine_group_median price_pred_year_engine_trn_median  \n0                         10998.0                           12655.5  \n1                         21500.0                           21950.0  \n2                         19497.5                           19245.0  \n3                         27990.0                           28850.0  \n4                         11557.0                           11000.5  \n\n[5 rows x 22 columns]",
      "text/html": "<div>\n<style scoped>\n    .dataframe tbody tr th:only-of-type {\n        vertical-align: middle;\n    }\n\n    .dataframe tbody tr th {\n        vertical-align: top;\n    }\n\n    .dataframe thead th {\n        text-align: right;\n    }\n</style>\n<table border=\"1\" class=\"dataframe\">\n  <thead>\n    <tr style=\"text-align: right;\">\n      <th></th>\n      <th>model</th>\n      <th>year</th>\n      <th>price</th>\n      <th>transmission</th>\n      <th>mileage</th>\n      <th>fuelType</th>\n      <th>tax</th>\n      <th>mpg</th>\n      <th>engineSize</th>\n      <th>price_pred_mean</th>\n      <th>...</th>\n      <th>err_abs_pct</th>\n      <th>price_pred_median</th>\n      <th>price_pred_year_mean</th>\n      <th>price_pred_year_median</th>\n      <th>engine_group</th>\n      <th>engine_group2</th>\n      <th>price_pred_year_engine_median</th>\n      <th>year_group</th>\n      <th>price_year_engine_group_median</th>\n      <th>price_pred_year_engine_trn_median</th>\n    </tr>\n  </thead>\n  <tbody>\n    <tr>\n      <th>0</th>\n      <td>5 Series</td>\n      <td>2013</td>\n      <td>12791</td>\n      <td>Semi-Auto</td>\n      <td>55642</td>\n      <td>Diesel</td>\n      <td>145</td>\n      <td>55.4</td>\n      <td>2.0</td>\n      <td>22668.821645</td>\n      <td>...</td>\n      <td>0.772248</td>\n      <td>20022.0</td>\n      <td>11041.347826</td>\n      <td>10490.0</td>\n      <td>&lt;=2</td>\n      <td>(1.5, 2.0]</td>\n      <td>9990.0</td>\n      <td>(2012.0, 2014.0]</td>\n      <td>10998.0</td>\n      <td>12655.5</td>\n    </tr>\n    <tr>\n      <th>1</th>\n      <td>1 Series</td>\n      <td>2019</td>\n      <td>23995</td>\n      <td>Semi-Auto</td>\n      <td>1527</td>\n      <td>Petrol</td>\n      <td>145</td>\n      <td>43.5</td>\n      <td>1.5</td>\n      <td>22668.821645</td>\n      <td>...</td>\n      <td>0.055269</td>\n      <td>20022.0</td>\n      <td>31066.986143</td>\n      <td>27980.0</td>\n      <td>&lt;=1.5</td>\n      <td>(-inf, 1.5]</td>\n      <td>20980.0</td>\n      <td>(2018.0, inf]</td>\n      <td>21500.0</td>\n      <td>21950.0</td>\n    </tr>\n    <tr>\n      <th>2</th>\n      <td>X5</td>\n      <td>2015</td>\n      <td>25995</td>\n      <td>Automatic</td>\n      <td>43344</td>\n      <td>Diesel</td>\n      <td>200</td>\n      <td>47.1</td>\n      <td>3.0</td>\n      <td>22668.821645</td>\n      <td>...</td>\n      <td>0.127955</td>\n      <td>20022.0</td>\n      <td>15086.536313</td>\n      <td>14103.5</td>\n      <td>&gt;2</td>\n      <td>(2.0, inf]</td>\n      <td>18144.5</td>\n      <td>(2014.0, 2016.0]</td>\n      <td>19497.5</td>\n      <td>19245.0</td>\n    </tr>\n    <tr>\n      <th>3</th>\n      <td>2 Series</td>\n      <td>2019</td>\n      <td>25000</td>\n      <td>Automatic</td>\n      <td>4000</td>\n      <td>Petrol</td>\n      <td>145</td>\n      <td>47.9</td>\n      <td>2.0</td>\n      <td>22668.821645</td>\n      <td>...</td>\n      <td>0.093247</td>\n      <td>20022.0</td>\n      <td>31066.986143</td>\n      <td>27980.0</td>\n      <td>&lt;=2</td>\n      <td>(1.5, 2.0]</td>\n      <td>27294.0</td>\n      <td>(2018.0, inf]</td>\n      <td>27990.0</td>\n      <td>28850.0</td>\n    </tr>\n    <tr>\n      <th>4</th>\n      <td>1 Series</td>\n      <td>2015</td>\n      <td>10950</td>\n      <td>Manual</td>\n      <td>33000</td>\n      <td>Diesel</td>\n      <td>20</td>\n      <td>72.4</td>\n      <td>1.5</td>\n      <td>22668.821645</td>\n      <td>...</td>\n      <td>1.070212</td>\n      <td>20022.0</td>\n      <td>15086.536313</td>\n      <td>14103.5</td>\n      <td>&lt;=1.5</td>\n      <td>(-inf, 1.5]</td>\n      <td>10999.0</td>\n      <td>(2014.0, 2016.0]</td>\n      <td>11557.0</td>\n      <td>11000.5</td>\n    </tr>\n  </tbody>\n</table>\n<p>5 rows × 22 columns</p>\n</div>"
     },
     "execution_count": 142,
     "metadata": {},
     "output_type": "execute_result"
    }
   ],
   "source": [
    "train.head()"
   ],
   "metadata": {
    "collapsed": false,
    "pycharm": {
     "name": "#%%\n"
    }
   }
  },
  {
   "cell_type": "markdown",
   "source": [
    "##### Небольшое улучшение на трейне, относительно варианта без группировки по годам и без трансмиссии"
   ],
   "metadata": {
    "collapsed": false,
    "pycharm": {
     "name": "#%% md\n"
    }
   }
  },
  {
   "cell_type": "code",
   "execution_count": 143,
   "outputs": [
    {
     "name": "stdout",
     "output_type": "stream",
     "text": [
      "3635.5412492269634\n",
      "0.1561691679065392\n"
     ]
    }
   ],
   "source": [
    "error(train.price, train.price_pred_year_engine_trn_median)  # Вариант группировка + трансмиссия"
   ],
   "metadata": {
    "collapsed": false,
    "pycharm": {
     "name": "#%%\n"
    }
   }
  },
  {
   "cell_type": "code",
   "execution_count": 144,
   "outputs": [
    {
     "name": "stdout",
     "output_type": "stream",
     "text": [
      "3659.774273345702\n",
      "0.1582922021242831\n"
     ]
    }
   ],
   "source": [
    "error(train.price, train.price_pred_year_engine_median)  # Вариант без группировки по годам"
   ],
   "metadata": {
    "collapsed": false,
    "pycharm": {
     "name": "#%%\n"
    }
   }
  },
  {
   "cell_type": "markdown",
   "source": [
    "##### Проверим то же самое на тесте\n",
    "##### Для этого нужно добавить группы по годам в тест"
   ],
   "metadata": {
    "collapsed": false,
    "pycharm": {
     "name": "#%% md\n"
    }
   }
  },
  {
   "cell_type": "code",
   "execution_count": 145,
   "outputs": [
    {
     "data": {
      "text/plain": "       model  year  price transmission  mileage fuelType  tax   mpg  \\\n0   1 Series  2018  15300       Manual    36469   Diesel  150  50.4   \n1   5 Series  2014  15495    Semi-Auto    51565   Diesel  160  51.4   \n2         X3  2019  39875    Semi-Auto     8988   Diesel  150  36.7   \n3   2 Series  2019  21730    Automatic     5054   Petrol  145  39.2   \n4   2 Series  2018  13799       Manual    13369   Diesel  145  65.7   \n\n   engineSize  price_pred_median  price_pred_year_mean  \\\n0         1.5            20022.0          22562.450394   \n1         2.0            20022.0          13411.333333   \n2         3.0            20022.0          31066.986143   \n3         1.5            20022.0          31066.986143   \n4         1.5            20022.0          22562.450394   \n\n   price_pred_year_median engine_group  price_pred_year_engine_median  \n0                 21000.0        <=1.5                        16500.0  \n1                 12797.5          <=2                        11945.0  \n2                 27980.0           >2                        45980.0  \n3                 27980.0        <=1.5                        20980.0  \n4                 21000.0        <=1.5                        16500.0  ",
      "text/html": "<div>\n<style scoped>\n    .dataframe tbody tr th:only-of-type {\n        vertical-align: middle;\n    }\n\n    .dataframe tbody tr th {\n        vertical-align: top;\n    }\n\n    .dataframe thead th {\n        text-align: right;\n    }\n</style>\n<table border=\"1\" class=\"dataframe\">\n  <thead>\n    <tr style=\"text-align: right;\">\n      <th></th>\n      <th>model</th>\n      <th>year</th>\n      <th>price</th>\n      <th>transmission</th>\n      <th>mileage</th>\n      <th>fuelType</th>\n      <th>tax</th>\n      <th>mpg</th>\n      <th>engineSize</th>\n      <th>price_pred_median</th>\n      <th>price_pred_year_mean</th>\n      <th>price_pred_year_median</th>\n      <th>engine_group</th>\n      <th>price_pred_year_engine_median</th>\n    </tr>\n  </thead>\n  <tbody>\n    <tr>\n      <th>0</th>\n      <td>1 Series</td>\n      <td>2018</td>\n      <td>15300</td>\n      <td>Manual</td>\n      <td>36469</td>\n      <td>Diesel</td>\n      <td>150</td>\n      <td>50.4</td>\n      <td>1.5</td>\n      <td>20022.0</td>\n      <td>22562.450394</td>\n      <td>21000.0</td>\n      <td>&lt;=1.5</td>\n      <td>16500.0</td>\n    </tr>\n    <tr>\n      <th>1</th>\n      <td>5 Series</td>\n      <td>2014</td>\n      <td>15495</td>\n      <td>Semi-Auto</td>\n      <td>51565</td>\n      <td>Diesel</td>\n      <td>160</td>\n      <td>51.4</td>\n      <td>2.0</td>\n      <td>20022.0</td>\n      <td>13411.333333</td>\n      <td>12797.5</td>\n      <td>&lt;=2</td>\n      <td>11945.0</td>\n    </tr>\n    <tr>\n      <th>2</th>\n      <td>X3</td>\n      <td>2019</td>\n      <td>39875</td>\n      <td>Semi-Auto</td>\n      <td>8988</td>\n      <td>Diesel</td>\n      <td>150</td>\n      <td>36.7</td>\n      <td>3.0</td>\n      <td>20022.0</td>\n      <td>31066.986143</td>\n      <td>27980.0</td>\n      <td>&gt;2</td>\n      <td>45980.0</td>\n    </tr>\n    <tr>\n      <th>3</th>\n      <td>2 Series</td>\n      <td>2019</td>\n      <td>21730</td>\n      <td>Automatic</td>\n      <td>5054</td>\n      <td>Petrol</td>\n      <td>145</td>\n      <td>39.2</td>\n      <td>1.5</td>\n      <td>20022.0</td>\n      <td>31066.986143</td>\n      <td>27980.0</td>\n      <td>&lt;=1.5</td>\n      <td>20980.0</td>\n    </tr>\n    <tr>\n      <th>4</th>\n      <td>2 Series</td>\n      <td>2018</td>\n      <td>13799</td>\n      <td>Manual</td>\n      <td>13369</td>\n      <td>Diesel</td>\n      <td>145</td>\n      <td>65.7</td>\n      <td>1.5</td>\n      <td>20022.0</td>\n      <td>22562.450394</td>\n      <td>21000.0</td>\n      <td>&lt;=1.5</td>\n      <td>16500.0</td>\n    </tr>\n  </tbody>\n</table>\n</div>"
     },
     "execution_count": 145,
     "metadata": {},
     "output_type": "execute_result"
    }
   ],
   "source": [
    "test.head()"
   ],
   "metadata": {
    "collapsed": false,
    "pycharm": {
     "name": "#%%\n"
    }
   }
  },
  {
   "cell_type": "code",
   "execution_count": 146,
   "outputs": [],
   "source": [
    "test['year_group'] = pd.cut(test['year'], [0, 2010, 2012, 2014, 2016, 2018, float('inf')])"
   ],
   "metadata": {
    "collapsed": false,
    "pycharm": {
     "name": "#%%\n"
    }
   }
  },
  {
   "cell_type": "code",
   "execution_count": 147,
   "outputs": [
    {
     "data": {
      "text/plain": "       model  year  price transmission  mileage fuelType  tax   mpg  \\\n0   1 Series  2018  15300       Manual    36469   Diesel  150  50.4   \n1   5 Series  2014  15495    Semi-Auto    51565   Diesel  160  51.4   \n2         X3  2019  39875    Semi-Auto     8988   Diesel  150  36.7   \n3   2 Series  2019  21730    Automatic     5054   Petrol  145  39.2   \n4   2 Series  2018  13799       Manual    13369   Diesel  145  65.7   \n\n   engineSize  price_pred_median  price_pred_year_mean  \\\n0         1.5            20022.0          22562.450394   \n1         2.0            20022.0          13411.333333   \n2         3.0            20022.0          31066.986143   \n3         1.5            20022.0          31066.986143   \n4         1.5            20022.0          22562.450394   \n\n   price_pred_year_median engine_group  price_pred_year_engine_median  \\\n0                 21000.0        <=1.5                        16500.0   \n1                 12797.5          <=2                        11945.0   \n2                 27980.0           >2                        45980.0   \n3                 27980.0        <=1.5                        20980.0   \n4                 21000.0        <=1.5                        16500.0   \n\n         year_group  \n0  (2016.0, 2018.0]  \n1  (2012.0, 2014.0]  \n2     (2018.0, inf]  \n3     (2018.0, inf]  \n4  (2016.0, 2018.0]  ",
      "text/html": "<div>\n<style scoped>\n    .dataframe tbody tr th:only-of-type {\n        vertical-align: middle;\n    }\n\n    .dataframe tbody tr th {\n        vertical-align: top;\n    }\n\n    .dataframe thead th {\n        text-align: right;\n    }\n</style>\n<table border=\"1\" class=\"dataframe\">\n  <thead>\n    <tr style=\"text-align: right;\">\n      <th></th>\n      <th>model</th>\n      <th>year</th>\n      <th>price</th>\n      <th>transmission</th>\n      <th>mileage</th>\n      <th>fuelType</th>\n      <th>tax</th>\n      <th>mpg</th>\n      <th>engineSize</th>\n      <th>price_pred_median</th>\n      <th>price_pred_year_mean</th>\n      <th>price_pred_year_median</th>\n      <th>engine_group</th>\n      <th>price_pred_year_engine_median</th>\n      <th>year_group</th>\n    </tr>\n  </thead>\n  <tbody>\n    <tr>\n      <th>0</th>\n      <td>1 Series</td>\n      <td>2018</td>\n      <td>15300</td>\n      <td>Manual</td>\n      <td>36469</td>\n      <td>Diesel</td>\n      <td>150</td>\n      <td>50.4</td>\n      <td>1.5</td>\n      <td>20022.0</td>\n      <td>22562.450394</td>\n      <td>21000.0</td>\n      <td>&lt;=1.5</td>\n      <td>16500.0</td>\n      <td>(2016.0, 2018.0]</td>\n    </tr>\n    <tr>\n      <th>1</th>\n      <td>5 Series</td>\n      <td>2014</td>\n      <td>15495</td>\n      <td>Semi-Auto</td>\n      <td>51565</td>\n      <td>Diesel</td>\n      <td>160</td>\n      <td>51.4</td>\n      <td>2.0</td>\n      <td>20022.0</td>\n      <td>13411.333333</td>\n      <td>12797.5</td>\n      <td>&lt;=2</td>\n      <td>11945.0</td>\n      <td>(2012.0, 2014.0]</td>\n    </tr>\n    <tr>\n      <th>2</th>\n      <td>X3</td>\n      <td>2019</td>\n      <td>39875</td>\n      <td>Semi-Auto</td>\n      <td>8988</td>\n      <td>Diesel</td>\n      <td>150</td>\n      <td>36.7</td>\n      <td>3.0</td>\n      <td>20022.0</td>\n      <td>31066.986143</td>\n      <td>27980.0</td>\n      <td>&gt;2</td>\n      <td>45980.0</td>\n      <td>(2018.0, inf]</td>\n    </tr>\n    <tr>\n      <th>3</th>\n      <td>2 Series</td>\n      <td>2019</td>\n      <td>21730</td>\n      <td>Automatic</td>\n      <td>5054</td>\n      <td>Petrol</td>\n      <td>145</td>\n      <td>39.2</td>\n      <td>1.5</td>\n      <td>20022.0</td>\n      <td>31066.986143</td>\n      <td>27980.0</td>\n      <td>&lt;=1.5</td>\n      <td>20980.0</td>\n      <td>(2018.0, inf]</td>\n    </tr>\n    <tr>\n      <th>4</th>\n      <td>2 Series</td>\n      <td>2018</td>\n      <td>13799</td>\n      <td>Manual</td>\n      <td>13369</td>\n      <td>Diesel</td>\n      <td>145</td>\n      <td>65.7</td>\n      <td>1.5</td>\n      <td>20022.0</td>\n      <td>22562.450394</td>\n      <td>21000.0</td>\n      <td>&lt;=1.5</td>\n      <td>16500.0</td>\n      <td>(2016.0, 2018.0]</td>\n    </tr>\n  </tbody>\n</table>\n</div>"
     },
     "execution_count": 147,
     "metadata": {},
     "output_type": "execute_result"
    }
   ],
   "source": [
    "test.head()"
   ],
   "metadata": {
    "collapsed": false,
    "pycharm": {
     "name": "#%%\n"
    }
   }
  },
  {
   "cell_type": "markdown",
   "source": [
    "##### Мёрджим ДФ с тестом"
   ],
   "metadata": {
    "collapsed": false,
    "pycharm": {
     "name": "#%% md\n"
    }
   }
  },
  {
   "cell_type": "code",
   "execution_count": 148,
   "outputs": [],
   "source": [
    "test = test.merge(model_year_engine_trn_group_median, how='left', on=['year_group',\n",
    "                                                                'engine_group',\n",
    "                                                                'transmission'])"
   ],
   "metadata": {
    "collapsed": false,
    "pycharm": {
     "name": "#%%\n"
    }
   }
  },
  {
   "cell_type": "code",
   "execution_count": 149,
   "outputs": [
    {
     "data": {
      "text/plain": "       model  year  price transmission  mileage fuelType  tax   mpg  \\\n0   1 Series  2018  15300       Manual    36469   Diesel  150  50.4   \n1   5 Series  2014  15495    Semi-Auto    51565   Diesel  160  51.4   \n2         X3  2019  39875    Semi-Auto     8988   Diesel  150  36.7   \n3   2 Series  2019  21730    Automatic     5054   Petrol  145  39.2   \n4   2 Series  2018  13799       Manual    13369   Diesel  145  65.7   \n\n   engineSize  price_pred_median  price_pred_year_mean  \\\n0         1.5            20022.0          22562.450394   \n1         2.0            20022.0          13411.333333   \n2         3.0            20022.0          31066.986143   \n3         1.5            20022.0          31066.986143   \n4         1.5            20022.0          22562.450394   \n\n   price_pred_year_median engine_group  price_pred_year_engine_median  \\\n0                 21000.0        <=1.5                        16500.0   \n1                 12797.5          <=2                        11945.0   \n2                 27980.0           >2                        45980.0   \n3                 27980.0        <=1.5                        20980.0   \n4                 21000.0        <=1.5                        16500.0   \n\n         year_group  price_pred_year_engine_trn_median  \n0  (2016.0, 2018.0]                            13980.0  \n1  (2012.0, 2014.0]                            12655.5  \n2     (2018.0, inf]                            46991.0  \n3     (2018.0, inf]                            21450.0  \n4  (2016.0, 2018.0]                            13980.0  ",
      "text/html": "<div>\n<style scoped>\n    .dataframe tbody tr th:only-of-type {\n        vertical-align: middle;\n    }\n\n    .dataframe tbody tr th {\n        vertical-align: top;\n    }\n\n    .dataframe thead th {\n        text-align: right;\n    }\n</style>\n<table border=\"1\" class=\"dataframe\">\n  <thead>\n    <tr style=\"text-align: right;\">\n      <th></th>\n      <th>model</th>\n      <th>year</th>\n      <th>price</th>\n      <th>transmission</th>\n      <th>mileage</th>\n      <th>fuelType</th>\n      <th>tax</th>\n      <th>mpg</th>\n      <th>engineSize</th>\n      <th>price_pred_median</th>\n      <th>price_pred_year_mean</th>\n      <th>price_pred_year_median</th>\n      <th>engine_group</th>\n      <th>price_pred_year_engine_median</th>\n      <th>year_group</th>\n      <th>price_pred_year_engine_trn_median</th>\n    </tr>\n  </thead>\n  <tbody>\n    <tr>\n      <th>0</th>\n      <td>1 Series</td>\n      <td>2018</td>\n      <td>15300</td>\n      <td>Manual</td>\n      <td>36469</td>\n      <td>Diesel</td>\n      <td>150</td>\n      <td>50.4</td>\n      <td>1.5</td>\n      <td>20022.0</td>\n      <td>22562.450394</td>\n      <td>21000.0</td>\n      <td>&lt;=1.5</td>\n      <td>16500.0</td>\n      <td>(2016.0, 2018.0]</td>\n      <td>13980.0</td>\n    </tr>\n    <tr>\n      <th>1</th>\n      <td>5 Series</td>\n      <td>2014</td>\n      <td>15495</td>\n      <td>Semi-Auto</td>\n      <td>51565</td>\n      <td>Diesel</td>\n      <td>160</td>\n      <td>51.4</td>\n      <td>2.0</td>\n      <td>20022.0</td>\n      <td>13411.333333</td>\n      <td>12797.5</td>\n      <td>&lt;=2</td>\n      <td>11945.0</td>\n      <td>(2012.0, 2014.0]</td>\n      <td>12655.5</td>\n    </tr>\n    <tr>\n      <th>2</th>\n      <td>X3</td>\n      <td>2019</td>\n      <td>39875</td>\n      <td>Semi-Auto</td>\n      <td>8988</td>\n      <td>Diesel</td>\n      <td>150</td>\n      <td>36.7</td>\n      <td>3.0</td>\n      <td>20022.0</td>\n      <td>31066.986143</td>\n      <td>27980.0</td>\n      <td>&gt;2</td>\n      <td>45980.0</td>\n      <td>(2018.0, inf]</td>\n      <td>46991.0</td>\n    </tr>\n    <tr>\n      <th>3</th>\n      <td>2 Series</td>\n      <td>2019</td>\n      <td>21730</td>\n      <td>Automatic</td>\n      <td>5054</td>\n      <td>Petrol</td>\n      <td>145</td>\n      <td>39.2</td>\n      <td>1.5</td>\n      <td>20022.0</td>\n      <td>31066.986143</td>\n      <td>27980.0</td>\n      <td>&lt;=1.5</td>\n      <td>20980.0</td>\n      <td>(2018.0, inf]</td>\n      <td>21450.0</td>\n    </tr>\n    <tr>\n      <th>4</th>\n      <td>2 Series</td>\n      <td>2018</td>\n      <td>13799</td>\n      <td>Manual</td>\n      <td>13369</td>\n      <td>Diesel</td>\n      <td>145</td>\n      <td>65.7</td>\n      <td>1.5</td>\n      <td>20022.0</td>\n      <td>22562.450394</td>\n      <td>21000.0</td>\n      <td>&lt;=1.5</td>\n      <td>16500.0</td>\n      <td>(2016.0, 2018.0]</td>\n      <td>13980.0</td>\n    </tr>\n  </tbody>\n</table>\n</div>"
     },
     "execution_count": 149,
     "metadata": {},
     "output_type": "execute_result"
    }
   ],
   "source": [
    "test.head()"
   ],
   "metadata": {
    "collapsed": false,
    "pycharm": {
     "name": "#%%\n"
    }
   }
  },
  {
   "cell_type": "markdown",
   "source": [
    "##### Проверка на пропуски"
   ],
   "metadata": {
    "collapsed": false,
    "pycharm": {
     "name": "#%% md\n"
    }
   }
  },
  {
   "cell_type": "code",
   "execution_count": 150,
   "outputs": [
    {
     "data": {
      "text/plain": "model                                0.000000\nyear                                 0.000000\nprice                                0.000000\ntransmission                         0.000000\nmileage                              0.000000\nfuelType                             0.000000\ntax                                  0.000000\nmpg                                  0.000000\nengineSize                           0.000000\nprice_pred_median                    0.000000\nprice_pred_year_mean                 0.000000\nprice_pred_year_median               0.000000\nengine_group                         0.000000\nprice_pred_year_engine_median        0.000742\nyear_group                           0.000000\nprice_pred_year_engine_trn_median    0.001113\ndtype: float64"
     },
     "execution_count": 150,
     "metadata": {},
     "output_type": "execute_result"
    }
   ],
   "source": [
    "test.isna().mean()"
   ],
   "metadata": {
    "collapsed": false,
    "pycharm": {
     "name": "#%%\n"
    }
   }
  },
  {
   "cell_type": "code",
   "execution_count": 151,
   "outputs": [
    {
     "data": {
      "text/plain": "          model  year  price transmission  mileage fuelType  tax   mpg  \\\n248    1 Series  2011  20999       Manual    14200   Petrol  145  36.2   \n692          Z4  2011  10450       Manual    64250   Petrol  305  33.2   \n2099         Z4  2011  12995       Manual    26000   Petrol  300  33.2   \n\n      engineSize  price_pred_median  price_pred_year_mean  \\\n248          3.0            20022.0           8860.297297   \n692          2.5            20022.0           8860.297297   \n2099         2.5            20022.0           8860.297297   \n\n      price_pred_year_median engine_group  price_pred_year_engine_median  \\\n248                   8470.0           >2                        10500.0   \n692                   8470.0           >2                        10500.0   \n2099                  8470.0           >2                        10500.0   \n\n            year_group  price_pred_year_engine_trn_median  \n248   (2010.0, 2012.0]                                NaN  \n692   (2010.0, 2012.0]                                NaN  \n2099  (2010.0, 2012.0]                                NaN  ",
      "text/html": "<div>\n<style scoped>\n    .dataframe tbody tr th:only-of-type {\n        vertical-align: middle;\n    }\n\n    .dataframe tbody tr th {\n        vertical-align: top;\n    }\n\n    .dataframe thead th {\n        text-align: right;\n    }\n</style>\n<table border=\"1\" class=\"dataframe\">\n  <thead>\n    <tr style=\"text-align: right;\">\n      <th></th>\n      <th>model</th>\n      <th>year</th>\n      <th>price</th>\n      <th>transmission</th>\n      <th>mileage</th>\n      <th>fuelType</th>\n      <th>tax</th>\n      <th>mpg</th>\n      <th>engineSize</th>\n      <th>price_pred_median</th>\n      <th>price_pred_year_mean</th>\n      <th>price_pred_year_median</th>\n      <th>engine_group</th>\n      <th>price_pred_year_engine_median</th>\n      <th>year_group</th>\n      <th>price_pred_year_engine_trn_median</th>\n    </tr>\n  </thead>\n  <tbody>\n    <tr>\n      <th>248</th>\n      <td>1 Series</td>\n      <td>2011</td>\n      <td>20999</td>\n      <td>Manual</td>\n      <td>14200</td>\n      <td>Petrol</td>\n      <td>145</td>\n      <td>36.2</td>\n      <td>3.0</td>\n      <td>20022.0</td>\n      <td>8860.297297</td>\n      <td>8470.0</td>\n      <td>&gt;2</td>\n      <td>10500.0</td>\n      <td>(2010.0, 2012.0]</td>\n      <td>NaN</td>\n    </tr>\n    <tr>\n      <th>692</th>\n      <td>Z4</td>\n      <td>2011</td>\n      <td>10450</td>\n      <td>Manual</td>\n      <td>64250</td>\n      <td>Petrol</td>\n      <td>305</td>\n      <td>33.2</td>\n      <td>2.5</td>\n      <td>20022.0</td>\n      <td>8860.297297</td>\n      <td>8470.0</td>\n      <td>&gt;2</td>\n      <td>10500.0</td>\n      <td>(2010.0, 2012.0]</td>\n      <td>NaN</td>\n    </tr>\n    <tr>\n      <th>2099</th>\n      <td>Z4</td>\n      <td>2011</td>\n      <td>12995</td>\n      <td>Manual</td>\n      <td>26000</td>\n      <td>Petrol</td>\n      <td>300</td>\n      <td>33.2</td>\n      <td>2.5</td>\n      <td>20022.0</td>\n      <td>8860.297297</td>\n      <td>8470.0</td>\n      <td>&gt;2</td>\n      <td>10500.0</td>\n      <td>(2010.0, 2012.0]</td>\n      <td>NaN</td>\n    </tr>\n  </tbody>\n</table>\n</div>"
     },
     "execution_count": 151,
     "metadata": {},
     "output_type": "execute_result"
    }
   ],
   "source": [
    "test[test.price_pred_year_engine_trn_median.isna()]"
   ],
   "metadata": {
    "collapsed": false,
    "pycharm": {
     "name": "#%%\n"
    }
   }
  },
  {
   "cell_type": "code",
   "execution_count": 152,
   "outputs": [
    {
     "data": {
      "text/plain": "          model  year  price transmission  mileage fuelType  tax   mpg  \\\n415    3 Series  1999   1200    Automatic    82000   Petrol  245  31.0   \n2255   5 Series  2000   1699       Manual    99209   Petrol  265  29.4   \n\n      engineSize  price_pred_median  price_pred_year_mean  \\\n415          2.8            20022.0                3980.0   \n2255         2.0            20022.0                1550.0   \n\n      price_pred_year_median engine_group  price_pred_year_engine_median  \\\n415                   3995.0           >2                            NaN   \n2255                  1550.0          <=2                            NaN   \n\n         year_group  price_pred_year_engine_trn_median  \n415   (0.0, 2010.0]                             5997.0  \n2255  (0.0, 2010.0]                             3995.0  ",
      "text/html": "<div>\n<style scoped>\n    .dataframe tbody tr th:only-of-type {\n        vertical-align: middle;\n    }\n\n    .dataframe tbody tr th {\n        vertical-align: top;\n    }\n\n    .dataframe thead th {\n        text-align: right;\n    }\n</style>\n<table border=\"1\" class=\"dataframe\">\n  <thead>\n    <tr style=\"text-align: right;\">\n      <th></th>\n      <th>model</th>\n      <th>year</th>\n      <th>price</th>\n      <th>transmission</th>\n      <th>mileage</th>\n      <th>fuelType</th>\n      <th>tax</th>\n      <th>mpg</th>\n      <th>engineSize</th>\n      <th>price_pred_median</th>\n      <th>price_pred_year_mean</th>\n      <th>price_pred_year_median</th>\n      <th>engine_group</th>\n      <th>price_pred_year_engine_median</th>\n      <th>year_group</th>\n      <th>price_pred_year_engine_trn_median</th>\n    </tr>\n  </thead>\n  <tbody>\n    <tr>\n      <th>415</th>\n      <td>3 Series</td>\n      <td>1999</td>\n      <td>1200</td>\n      <td>Automatic</td>\n      <td>82000</td>\n      <td>Petrol</td>\n      <td>245</td>\n      <td>31.0</td>\n      <td>2.8</td>\n      <td>20022.0</td>\n      <td>3980.0</td>\n      <td>3995.0</td>\n      <td>&gt;2</td>\n      <td>NaN</td>\n      <td>(0.0, 2010.0]</td>\n      <td>5997.0</td>\n    </tr>\n    <tr>\n      <th>2255</th>\n      <td>5 Series</td>\n      <td>2000</td>\n      <td>1699</td>\n      <td>Manual</td>\n      <td>99209</td>\n      <td>Petrol</td>\n      <td>265</td>\n      <td>29.4</td>\n      <td>2.0</td>\n      <td>20022.0</td>\n      <td>1550.0</td>\n      <td>1550.0</td>\n      <td>&lt;=2</td>\n      <td>NaN</td>\n      <td>(0.0, 2010.0]</td>\n      <td>3995.0</td>\n    </tr>\n  </tbody>\n</table>\n</div>"
     },
     "execution_count": 152,
     "metadata": {},
     "output_type": "execute_result"
    }
   ],
   "source": [
    "test[test.price_pred_year_engine_median.isna()]"
   ],
   "metadata": {
    "collapsed": false,
    "pycharm": {
     "name": "#%%\n"
    }
   }
  },
  {
   "cell_type": "markdown",
   "source": [
    "##### Т.к. пропущенных значений мало (всего 5), то имеет смысл их дропнуть"
   ],
   "metadata": {
    "collapsed": false,
    "pycharm": {
     "name": "#%% md\n"
    }
   }
  },
  {
   "cell_type": "code",
   "execution_count": 153,
   "outputs": [],
   "source": [
    "test_no_na = test.dropna().copy()"
   ],
   "metadata": {
    "collapsed": false,
    "pycharm": {
     "name": "#%%\n"
    }
   }
  },
  {
   "cell_type": "markdown",
   "source": [
    "##### Посчитаем ошибку на тесте"
   ],
   "metadata": {
    "collapsed": false,
    "pycharm": {
     "name": "#%% md\n"
    }
   }
  },
  {
   "cell_type": "code",
   "execution_count": 154,
   "outputs": [
    {
     "name": "stdout",
     "output_type": "stream",
     "text": [
      "3777.5172798216277\n",
      "0.16037327734163415\n"
     ]
    }
   ],
   "source": [
    "error(test_no_na.price, test_no_na.price_pred_year_engine_trn_median)"
   ],
   "metadata": {
    "collapsed": false,
    "pycharm": {
     "name": "#%%\n"
    }
   }
  },
  {
   "cell_type": "markdown",
   "source": [
    "#### Незначительные улучшения относительно варианта без группировки и трансмиссии ↓: MAE(3789 → 3777), MAPE(0.1626 → 0.1603)"
   ],
   "metadata": {
    "collapsed": false,
    "pycharm": {
     "name": "#%% md\n"
    }
   }
  },
  {
   "cell_type": "code",
   "execution_count": 155,
   "outputs": [
    {
     "name": "stdout",
     "output_type": "stream",
     "text": [
      "3789.392233370494\n",
      "0.1626320818166501\n"
     ]
    }
   ],
   "source": [
    "error(test_no_na.price, test_no_na.price_pred_year_engine_median) # Вариант без группировки по годам"
   ],
   "metadata": {
    "collapsed": false,
    "pycharm": {
     "name": "#%%\n"
    }
   }
  },
  {
   "cell_type": "markdown",
   "source": [
    "## Итого:\n",
    "#### В данном примере был показан принцип создания ручных моделей (rule based), т.к. Модели основаны на простых правилах (закономерностях), например в данном ДС: чем новее машина, тем она дороже и чем больше объём двигателя, тем дороже машина.\n",
    "### Результат: Baseline модель основанная на средней стоимости автомобиля могла предсказать стоимость автомобиля с абсолютной ошибкой MAE в 8450 £ и MAPE 0.483, то есть абсолютная ошибка в процентах составила 48.3% от стоимости автомобиля.\n",
    "### Доработанная модель, основанная на: медианной стоимости, объёме двигателя, разбивке по годам (раз в 2 года с 2010) и типе трансмиссии могла предсказать стоимость автомобиля с абсолютной ошибкой MAE 3777 £ и MAPE 0.1603, то есть абсолютная ошибка в процентах составила 16.03%  от стоимости автомобиля.\n",
    "\n",
    "## Суть человеческого обучения - самостоятельный анализ данных, построение графиков, поиск закономерностей и на основе этих закономерностей придумываем правила, по которым например определяем стоимость автомобиля."
   ],
   "metadata": {
    "collapsed": false,
    "pycharm": {
     "name": "#%% md\n"
    }
   }
  },
  {
   "cell_type": "code",
   "execution_count": null,
   "outputs": [],
   "source": [],
   "metadata": {
    "collapsed": false,
    "pycharm": {
     "name": "#%%\n"
    }
   }
  }
 ],
 "metadata": {
  "colab": {
   "authorship_tag": "ABX9TyMd0OGK//iz0Q2MpXn4Eooy",
   "provenance": []
  },
  "kernelspec": {
   "display_name": "Python 3 (ipykernel)",
   "language": "python",
   "name": "python3"
  },
  "language_info": {
   "codemirror_mode": {
    "name": "ipython",
    "version": 3
   },
   "file_extension": ".py",
   "mimetype": "text/x-python",
   "name": "python",
   "nbconvert_exporter": "python",
   "pygments_lexer": "ipython3",
   "version": "3.11.1"
  }
 },
 "nbformat": 4,
 "nbformat_minor": 1
}