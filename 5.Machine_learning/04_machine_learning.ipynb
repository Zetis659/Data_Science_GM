{
 "nbformat": 4,
 "nbformat_minor": 0,
 "metadata": {
  "colab": {
   "name": "04-machine-learning.ipynb",
   "provenance": [],
   "collapsed_sections": [],
   "authorship_tag": "ABX9TyOCH5/k7An/aLsVDxpIMRD/",
   "include_colab_link": true
  },
  "kernelspec": {
   "name": "python3",
   "display_name": "Python 3"
  },
  "language_info": {
   "name": "python"
  }
 },
 "cells": [
  {
   "cell_type": "markdown",
   "metadata": {
    "id": "view-in-github",
    "colab_type": "text"
   },
   "source": [
    "<a href=\"https://colab.research.google.com/github/glebmikha/ds-course/blob/main/04_machine_learning.ipynb\" target=\"_parent\"><img src=\"https://colab.research.google.com/assets/colab-badge.svg\" alt=\"Open In Colab\"/></a>"
   ]
  },
  {
   "cell_type": "markdown",
   "source": [
    "Мой Telegram-канал: https://t.me/mikhaylovgleb"
   ],
   "metadata": {
    "id": "N9ekqV59Rm-N"
   }
  },
  {
   "cell_type": "markdown",
   "source": [
    "# Загрузка данных"
   ],
   "metadata": {
    "id": "QjnDKUMWXTVi"
   }
  },
  {
   "cell_type": "markdown",
   "source": [
    "https://www.kaggle.com/adityadesai13/used-car-dataset-ford-and-mercedes?select=bmw.csv"
   ],
   "metadata": {
    "id": "VO_RfNT4WXSA"
   }
  },
  {
   "cell_type": "markdown",
   "source": [
    "https://drive.google.com/file/d/10pq7rvk_FtY-ulQ8ldVM4QAtaR6LWt-j/view?usp=sharing"
   ],
   "metadata": {
    "id": "ih8Zfx5ISnnz"
   }
  },
  {
   "cell_type": "code",
   "source": [
    "! gdown --id 10pq7rvk_FtY-ulQ8ldVM4QAtaR6LWt-j"
   ],
   "metadata": {
    "colab": {
     "base_uri": "https://localhost:8080/"
    },
    "id": "onpHOXMMWSoA",
    "outputId": "d2644955-b8a7-4d8d-cb9e-597fa795c599"
   },
   "execution_count": null,
   "outputs": [
    {
     "output_type": "stream",
     "name": "stdout",
     "text": [
      "Downloading...\n",
      "From: https://drive.google.com/uc?id=10pq7rvk_FtY-ulQ8ldVM4QAtaR6LWt-j\n",
      "To: /content/uk-used-cars.zip\n",
      "\r  0% 0.00/1.15M [00:00<?, ?B/s]\r100% 1.15M/1.15M [00:00<00:00, 23.3MB/s]\n"
     ]
    }
   ]
  },
  {
   "cell_type": "code",
   "source": [
    "! unzip /content/uk-used-cars.zip -d /content/uk-used-cars"
   ],
   "metadata": {
    "colab": {
     "base_uri": "https://localhost:8080/"
    },
    "id": "5lC9LcS-WVBf",
    "outputId": "d1ed20b8-6c7a-4d7e-b55f-92d45bd3a359"
   },
   "execution_count": null,
   "outputs": [
    {
     "output_type": "stream",
     "name": "stdout",
     "text": [
      "Archive:  /content/uk-used-cars.zip\n",
      "  inflating: /content/uk-used-cars/audi.csv  \n",
      "  inflating: /content/uk-used-cars/bmw.csv  \n",
      "  inflating: /content/uk-used-cars/cclass.csv  \n",
      "  inflating: /content/uk-used-cars/focus.csv  \n",
      "  inflating: /content/uk-used-cars/ford.csv  \n",
      "  inflating: /content/uk-used-cars/hyundi.csv  \n",
      "  inflating: /content/uk-used-cars/merc.csv  \n",
      "  inflating: /content/uk-used-cars/skoda.csv  \n",
      "  inflating: /content/uk-used-cars/toyota.csv  \n",
      "  inflating: /content/uk-used-cars/unclean cclass.csv  \n",
      "  inflating: /content/uk-used-cars/unclean focus.csv  \n",
      "  inflating: /content/uk-used-cars/vauxhall.csv  \n",
      "  inflating: /content/uk-used-cars/vw.csv  \n"
     ]
    }
   ]
  },
  {
   "cell_type": "code",
   "source": [
    "import pandas as pd"
   ],
   "metadata": {
    "id": "B2Lh6HYoWk1e"
   },
   "execution_count": 1,
   "outputs": []
  },
  {
   "cell_type": "code",
   "source": [
    "df = pd.read_csv(r'C:\\PyCharm\\Python\\Data_Science_GM\\4.Human_learning\\bmw.csv')"
   ],
   "metadata": {
    "id": "dmyCkv_WWvSo"
   },
   "execution_count": 3,
   "outputs": []
  },
  {
   "cell_type": "code",
   "source": [
    "df.head()"
   ],
   "metadata": {
    "colab": {
     "base_uri": "https://localhost:8080/",
     "height": 206
    },
    "id": "EHNRg1ksWxzw",
    "outputId": "d803890f-ebf1-4028-d360-e4b01f0b6d62"
   },
   "execution_count": 4,
   "outputs": [
    {
     "data": {
      "text/plain": "       model  year  price transmission  mileage fuelType  tax   mpg  \\\n0   5 Series  2014  11200    Automatic    67068   Diesel  125  57.6   \n1   6 Series  2018  27000    Automatic    14827   Petrol  145  42.8   \n2   5 Series  2016  16000    Automatic    62794   Diesel  160  51.4   \n3   1 Series  2017  12750    Automatic    26676   Diesel  145  72.4   \n4   7 Series  2014  14500    Automatic    39554   Diesel  160  50.4   \n\n   engineSize  \n0         2.0  \n1         2.0  \n2         3.0  \n3         1.5  \n4         3.0  ",
      "text/html": "<div>\n<style scoped>\n    .dataframe tbody tr th:only-of-type {\n        vertical-align: middle;\n    }\n\n    .dataframe tbody tr th {\n        vertical-align: top;\n    }\n\n    .dataframe thead th {\n        text-align: right;\n    }\n</style>\n<table border=\"1\" class=\"dataframe\">\n  <thead>\n    <tr style=\"text-align: right;\">\n      <th></th>\n      <th>model</th>\n      <th>year</th>\n      <th>price</th>\n      <th>transmission</th>\n      <th>mileage</th>\n      <th>fuelType</th>\n      <th>tax</th>\n      <th>mpg</th>\n      <th>engineSize</th>\n    </tr>\n  </thead>\n  <tbody>\n    <tr>\n      <th>0</th>\n      <td>5 Series</td>\n      <td>2014</td>\n      <td>11200</td>\n      <td>Automatic</td>\n      <td>67068</td>\n      <td>Diesel</td>\n      <td>125</td>\n      <td>57.6</td>\n      <td>2.0</td>\n    </tr>\n    <tr>\n      <th>1</th>\n      <td>6 Series</td>\n      <td>2018</td>\n      <td>27000</td>\n      <td>Automatic</td>\n      <td>14827</td>\n      <td>Petrol</td>\n      <td>145</td>\n      <td>42.8</td>\n      <td>2.0</td>\n    </tr>\n    <tr>\n      <th>2</th>\n      <td>5 Series</td>\n      <td>2016</td>\n      <td>16000</td>\n      <td>Automatic</td>\n      <td>62794</td>\n      <td>Diesel</td>\n      <td>160</td>\n      <td>51.4</td>\n      <td>3.0</td>\n    </tr>\n    <tr>\n      <th>3</th>\n      <td>1 Series</td>\n      <td>2017</td>\n      <td>12750</td>\n      <td>Automatic</td>\n      <td>26676</td>\n      <td>Diesel</td>\n      <td>145</td>\n      <td>72.4</td>\n      <td>1.5</td>\n    </tr>\n    <tr>\n      <th>4</th>\n      <td>7 Series</td>\n      <td>2014</td>\n      <td>14500</td>\n      <td>Automatic</td>\n      <td>39554</td>\n      <td>Diesel</td>\n      <td>160</td>\n      <td>50.4</td>\n      <td>3.0</td>\n    </tr>\n  </tbody>\n</table>\n</div>"
     },
     "execution_count": 4,
     "metadata": {},
     "output_type": "execute_result"
    }
   ]
  },
  {
   "cell_type": "markdown",
   "source": [
    "# Обучающая и тестовая выборка (train and test)"
   ],
   "metadata": {
    "id": "KDbbspT8W0HE"
   }
  },
  {
   "cell_type": "code",
   "source": [
    "from sklearn.model_selection import train_test_split"
   ],
   "metadata": {
    "id": "ZVKWDXi7nCzX"
   },
   "execution_count": 5,
   "outputs": []
  },
  {
   "cell_type": "code",
   "source": [
    "train, test = train_test_split(df,train_size=0.6,random_state=42)"
   ],
   "metadata": {
    "id": "dqPPX1HOqROI"
   },
   "execution_count": 6,
   "outputs": []
  },
  {
   "cell_type": "markdown",
   "source": [
    "# Валидационная выборка"
   ],
   "metadata": {
    "id": "Jp6MOuZC6Ge0"
   }
  },
  {
   "cell_type": "code",
   "source": [
    "len(train) / len(df)"
   ],
   "metadata": {
    "colab": {
     "base_uri": "https://localhost:8080/"
    },
    "id": "WwW5-FMr7BSY",
    "outputId": "d57043b5-b037-4a60-90fa-5042c23d49ff"
   },
   "execution_count": 7,
   "outputs": [
    {
     "data": {
      "text/plain": "0.5999443465355718"
     },
     "execution_count": 7,
     "metadata": {},
     "output_type": "execute_result"
    }
   ]
  },
  {
   "cell_type": "code",
   "source": [
    "len(test) / len(df)"
   ],
   "metadata": {
    "colab": {
     "base_uri": "https://localhost:8080/"
    },
    "id": "uXNtpGy5-FCJ",
    "outputId": "e88b2f0a-f61b-4a1d-95c1-10325d68cd68"
   },
   "execution_count": 8,
   "outputs": [
    {
     "data": {
      "text/plain": "0.4000556534644282"
     },
     "execution_count": 8,
     "metadata": {},
     "output_type": "execute_result"
    }
   ]
  },
  {
   "cell_type": "code",
   "source": [
    "val, test = train_test_split(test,train_size=0.5,random_state=42)"
   ],
   "metadata": {
    "id": "qJMAgflu-L7X"
   },
   "execution_count": 9,
   "outputs": []
  },
  {
   "cell_type": "code",
   "source": [
    "len(train) / len(df)"
   ],
   "metadata": {
    "colab": {
     "base_uri": "https://localhost:8080/"
    },
    "id": "Ptyk1lB4-VFB",
    "outputId": "ac07046f-2320-414b-dbff-a8a70ef0e515"
   },
   "execution_count": 10,
   "outputs": [
    {
     "data": {
      "text/plain": "0.5999443465355718"
     },
     "execution_count": 10,
     "metadata": {},
     "output_type": "execute_result"
    }
   ]
  },
  {
   "cell_type": "code",
   "source": [
    "len(val) / len(df)"
   ],
   "metadata": {
    "colab": {
     "base_uri": "https://localhost:8080/"
    },
    "id": "EcO0ebng-XqK",
    "outputId": "8528557a-d028-4b9f-b218-29311d6d5135"
   },
   "execution_count": 11,
   "outputs": [
    {
     "data": {
      "text/plain": "0.19998144884519062"
     },
     "execution_count": 11,
     "metadata": {},
     "output_type": "execute_result"
    }
   ]
  },
  {
   "cell_type": "code",
   "source": [
    "len(test) / len(df)"
   ],
   "metadata": {
    "colab": {
     "base_uri": "https://localhost:8080/"
    },
    "id": "vTJcSKeE-YZ8",
    "outputId": "a43c7a2c-3421-429a-ae30-6b644e027751"
   },
   "execution_count": 12,
   "outputs": [
    {
     "data": {
      "text/plain": "0.20007420461923756"
     },
     "execution_count": 12,
     "metadata": {},
     "output_type": "execute_result"
    }
   ]
  },
  {
   "cell_type": "markdown",
   "source": [
    "# Список фичей"
   ],
   "metadata": {
    "id": "L55NB-VH-Zkv"
   }
  },
  {
   "cell_type": "code",
   "source": [
    "train.columns"
   ],
   "metadata": {
    "colab": {
     "base_uri": "https://localhost:8080/"
    },
    "id": "oLur8oM6C03y",
    "outputId": "34b44739-2f81-4f3b-bdfd-6fbc18a68589"
   },
   "execution_count": 13,
   "outputs": [
    {
     "data": {
      "text/plain": "Index(['model', 'year', 'price', 'transmission', 'mileage', 'fuelType', 'tax',\n       'mpg', 'engineSize'],\n      dtype='object')"
     },
     "execution_count": 13,
     "metadata": {},
     "output_type": "execute_result"
    }
   ]
  },
  {
   "cell_type": "code",
   "source": [
    "train"
   ],
   "metadata": {
    "colab": {
     "base_uri": "https://localhost:8080/",
     "height": 423
    },
    "id": "VjKdgjqPD3Ux",
    "outputId": "6579e02e-124b-415f-b63b-4e2b650a1d45"
   },
   "execution_count": 14,
   "outputs": [
    {
     "data": {
      "text/plain": "          model  year  price transmission  mileage fuelType  tax   mpg  \\\n5133         X6  2015  25000    Semi-Auto    26100   Diesel  205  45.6   \n2121         X2  2019  31980    Automatic     4804   Petrol  145  34.0   \n6576         X2  2018  22995    Semi-Auto    24136   Petrol  145  38.7   \n8330   3 Series  2016  12999       Manual    52224   Diesel  125  62.8   \n3161         X3  2019  32980    Semi-Auto     1961   Diesel  150  54.3   \n...         ...   ...    ...          ...      ...      ...  ...   ...   \n5734   3 Series  2018  17995    Semi-Auto    40456   Diesel  145  64.2   \n5191   1 Series  2016  19950    Semi-Auto    23210   Petrol  200  39.8   \n5390         X2  2019  25450    Semi-Auto     5652   Diesel  145  47.9   \n860          X1  2016  19850    Semi-Auto    14542   Diesel  125  60.1   \n7270   1 Series  2016  15745    Automatic    17237   Petrol  125  54.3   \n\n      engineSize  \n5133         3.0  \n2121         2.0  \n6576         2.0  \n8330         2.0  \n3161         2.0  \n...          ...  \n5734         2.0  \n5191         3.0  \n5390         2.0  \n860          2.0  \n7270         1.5  \n\n[6468 rows x 9 columns]",
      "text/html": "<div>\n<style scoped>\n    .dataframe tbody tr th:only-of-type {\n        vertical-align: middle;\n    }\n\n    .dataframe tbody tr th {\n        vertical-align: top;\n    }\n\n    .dataframe thead th {\n        text-align: right;\n    }\n</style>\n<table border=\"1\" class=\"dataframe\">\n  <thead>\n    <tr style=\"text-align: right;\">\n      <th></th>\n      <th>model</th>\n      <th>year</th>\n      <th>price</th>\n      <th>transmission</th>\n      <th>mileage</th>\n      <th>fuelType</th>\n      <th>tax</th>\n      <th>mpg</th>\n      <th>engineSize</th>\n    </tr>\n  </thead>\n  <tbody>\n    <tr>\n      <th>5133</th>\n      <td>X6</td>\n      <td>2015</td>\n      <td>25000</td>\n      <td>Semi-Auto</td>\n      <td>26100</td>\n      <td>Diesel</td>\n      <td>205</td>\n      <td>45.6</td>\n      <td>3.0</td>\n    </tr>\n    <tr>\n      <th>2121</th>\n      <td>X2</td>\n      <td>2019</td>\n      <td>31980</td>\n      <td>Automatic</td>\n      <td>4804</td>\n      <td>Petrol</td>\n      <td>145</td>\n      <td>34.0</td>\n      <td>2.0</td>\n    </tr>\n    <tr>\n      <th>6576</th>\n      <td>X2</td>\n      <td>2018</td>\n      <td>22995</td>\n      <td>Semi-Auto</td>\n      <td>24136</td>\n      <td>Petrol</td>\n      <td>145</td>\n      <td>38.7</td>\n      <td>2.0</td>\n    </tr>\n    <tr>\n      <th>8330</th>\n      <td>3 Series</td>\n      <td>2016</td>\n      <td>12999</td>\n      <td>Manual</td>\n      <td>52224</td>\n      <td>Diesel</td>\n      <td>125</td>\n      <td>62.8</td>\n      <td>2.0</td>\n    </tr>\n    <tr>\n      <th>3161</th>\n      <td>X3</td>\n      <td>2019</td>\n      <td>32980</td>\n      <td>Semi-Auto</td>\n      <td>1961</td>\n      <td>Diesel</td>\n      <td>150</td>\n      <td>54.3</td>\n      <td>2.0</td>\n    </tr>\n    <tr>\n      <th>...</th>\n      <td>...</td>\n      <td>...</td>\n      <td>...</td>\n      <td>...</td>\n      <td>...</td>\n      <td>...</td>\n      <td>...</td>\n      <td>...</td>\n      <td>...</td>\n    </tr>\n    <tr>\n      <th>5734</th>\n      <td>3 Series</td>\n      <td>2018</td>\n      <td>17995</td>\n      <td>Semi-Auto</td>\n      <td>40456</td>\n      <td>Diesel</td>\n      <td>145</td>\n      <td>64.2</td>\n      <td>2.0</td>\n    </tr>\n    <tr>\n      <th>5191</th>\n      <td>1 Series</td>\n      <td>2016</td>\n      <td>19950</td>\n      <td>Semi-Auto</td>\n      <td>23210</td>\n      <td>Petrol</td>\n      <td>200</td>\n      <td>39.8</td>\n      <td>3.0</td>\n    </tr>\n    <tr>\n      <th>5390</th>\n      <td>X2</td>\n      <td>2019</td>\n      <td>25450</td>\n      <td>Semi-Auto</td>\n      <td>5652</td>\n      <td>Diesel</td>\n      <td>145</td>\n      <td>47.9</td>\n      <td>2.0</td>\n    </tr>\n    <tr>\n      <th>860</th>\n      <td>X1</td>\n      <td>2016</td>\n      <td>19850</td>\n      <td>Semi-Auto</td>\n      <td>14542</td>\n      <td>Diesel</td>\n      <td>125</td>\n      <td>60.1</td>\n      <td>2.0</td>\n    </tr>\n    <tr>\n      <th>7270</th>\n      <td>1 Series</td>\n      <td>2016</td>\n      <td>15745</td>\n      <td>Automatic</td>\n      <td>17237</td>\n      <td>Petrol</td>\n      <td>125</td>\n      <td>54.3</td>\n      <td>1.5</td>\n    </tr>\n  </tbody>\n</table>\n<p>6468 rows × 9 columns</p>\n</div>"
     },
     "execution_count": 14,
     "metadata": {},
     "output_type": "execute_result"
    }
   ]
  },
  {
   "cell_type": "code",
   "source": [
    "X = ['model', 'year', 'transmission', 'mileage', 'fuelType', 'tax',\n",
    "       'mpg', 'engineSize']\n",
    "\n",
    "cat_features = ['model', 'transmission', 'fuelType']\n",
    "\n",
    "y = ['price']"
   ],
   "metadata": {
    "id": "BVxkHvWqDkWf"
   },
   "execution_count": 15,
   "outputs": []
  },
  {
   "cell_type": "markdown",
   "source": [
    "# Принцип преобразования категориальных фичей"
   ],
   "metadata": {
    "id": "yFjgPssBF-2Z"
   }
  },
  {
   "cell_type": "code",
   "source": [
    "train['transmission']"
   ],
   "metadata": {
    "colab": {
     "base_uri": "https://localhost:8080/"
    },
    "id": "zhwp089cpQWC",
    "outputId": "5ee30a6a-4d62-412a-c018-c6bd19383ab9"
   },
   "execution_count": 16,
   "outputs": [
    {
     "data": {
      "text/plain": "5133    Semi-Auto\n2121    Automatic\n6576    Semi-Auto\n8330       Manual\n3161    Semi-Auto\n          ...    \n5734    Semi-Auto\n5191    Semi-Auto\n5390    Semi-Auto\n860     Semi-Auto\n7270    Automatic\nName: transmission, Length: 6468, dtype: object"
     },
     "execution_count": 16,
     "metadata": {},
     "output_type": "execute_result"
    }
   ]
  },
  {
   "cell_type": "code",
   "source": [
    "pd.get_dummies(train['transmission'])"
   ],
   "metadata": {
    "colab": {
     "base_uri": "https://localhost:8080/",
     "height": 423
    },
    "id": "sYpDtnFIKQJ0",
    "outputId": "7187854a-94a7-489f-d003-9e3845087482"
   },
   "execution_count": 17,
   "outputs": [
    {
     "data": {
      "text/plain": "      Automatic  Manual  Semi-Auto\n5133          0       0          1\n2121          1       0          0\n6576          0       0          1\n8330          0       1          0\n3161          0       0          1\n...         ...     ...        ...\n5734          0       0          1\n5191          0       0          1\n5390          0       0          1\n860           0       0          1\n7270          1       0          0\n\n[6468 rows x 3 columns]",
      "text/html": "<div>\n<style scoped>\n    .dataframe tbody tr th:only-of-type {\n        vertical-align: middle;\n    }\n\n    .dataframe tbody tr th {\n        vertical-align: top;\n    }\n\n    .dataframe thead th {\n        text-align: right;\n    }\n</style>\n<table border=\"1\" class=\"dataframe\">\n  <thead>\n    <tr style=\"text-align: right;\">\n      <th></th>\n      <th>Automatic</th>\n      <th>Manual</th>\n      <th>Semi-Auto</th>\n    </tr>\n  </thead>\n  <tbody>\n    <tr>\n      <th>5133</th>\n      <td>0</td>\n      <td>0</td>\n      <td>1</td>\n    </tr>\n    <tr>\n      <th>2121</th>\n      <td>1</td>\n      <td>0</td>\n      <td>0</td>\n    </tr>\n    <tr>\n      <th>6576</th>\n      <td>0</td>\n      <td>0</td>\n      <td>1</td>\n    </tr>\n    <tr>\n      <th>8330</th>\n      <td>0</td>\n      <td>1</td>\n      <td>0</td>\n    </tr>\n    <tr>\n      <th>3161</th>\n      <td>0</td>\n      <td>0</td>\n      <td>1</td>\n    </tr>\n    <tr>\n      <th>...</th>\n      <td>...</td>\n      <td>...</td>\n      <td>...</td>\n    </tr>\n    <tr>\n      <th>5734</th>\n      <td>0</td>\n      <td>0</td>\n      <td>1</td>\n    </tr>\n    <tr>\n      <th>5191</th>\n      <td>0</td>\n      <td>0</td>\n      <td>1</td>\n    </tr>\n    <tr>\n      <th>5390</th>\n      <td>0</td>\n      <td>0</td>\n      <td>1</td>\n    </tr>\n    <tr>\n      <th>860</th>\n      <td>0</td>\n      <td>0</td>\n      <td>1</td>\n    </tr>\n    <tr>\n      <th>7270</th>\n      <td>1</td>\n      <td>0</td>\n      <td>0</td>\n    </tr>\n  </tbody>\n</table>\n<p>6468 rows × 3 columns</p>\n</div>"
     },
     "execution_count": 17,
     "metadata": {},
     "output_type": "execute_result"
    }
   ]
  },
  {
   "cell_type": "markdown",
   "source": [
    "https://catboost.ai/en/docs/concepts/algorithm-main-stages_cat-to-numberic"
   ],
   "metadata": {
    "id": "SJtmBKRqpNVC"
   }
  },
  {
   "cell_type": "markdown",
   "source": [
    "# Первый запуск Кэтбуста"
   ],
   "metadata": {
    "id": "Ii424d3UqOHc"
   }
  },
  {
   "cell_type": "code",
   "source": [
    "! pip install catboost"
   ],
   "metadata": {
    "colab": {
     "base_uri": "https://localhost:8080/"
    },
    "id": "Al4ucYmEu8OY",
    "outputId": "92d3f453-1d4b-4980-8723-f3c389dcc022"
   },
   "execution_count": 18,
   "outputs": [
    {
     "name": "stdout",
     "output_type": "stream",
     "text": [
      "Requirement already satisfied: catboost in c:\\users\\zetis\\appdata\\local\\programs\\python\\python311\\lib\\site-packages (1.2)\n",
      "Requirement already satisfied: graphviz in c:\\users\\zetis\\appdata\\local\\programs\\python\\python311\\lib\\site-packages (from catboost) (0.20.1)\n",
      "Requirement already satisfied: matplotlib in c:\\users\\zetis\\appdata\\local\\programs\\python\\python311\\lib\\site-packages (from catboost) (3.6.2)\n",
      "Requirement already satisfied: numpy>=1.16.0 in c:\\users\\zetis\\appdata\\local\\programs\\python\\python311\\lib\\site-packages (from catboost) (1.23.5)\n",
      "Requirement already satisfied: pandas>=0.24 in c:\\users\\zetis\\appdata\\local\\programs\\python\\python311\\lib\\site-packages (from catboost) (1.5.1)\n",
      "Requirement already satisfied: scipy in c:\\users\\zetis\\appdata\\local\\programs\\python\\python311\\lib\\site-packages (from catboost) (1.9.3)\n",
      "Requirement already satisfied: plotly in c:\\users\\zetis\\appdata\\local\\programs\\python\\python311\\lib\\site-packages (from catboost) (5.13.1)\n",
      "Requirement already satisfied: six in c:\\users\\zetis\\appdata\\local\\programs\\python\\python311\\lib\\site-packages (from catboost) (1.16.0)\n",
      "Requirement already satisfied: python-dateutil>=2.8.1 in c:\\users\\zetis\\appdata\\local\\programs\\python\\python311\\lib\\site-packages (from pandas>=0.24->catboost) (2.8.2)\n",
      "Requirement already satisfied: pytz>=2020.1 in c:\\users\\zetis\\appdata\\local\\programs\\python\\python311\\lib\\site-packages (from pandas>=0.24->catboost) (2022.6)\n",
      "Requirement already satisfied: contourpy>=1.0.1 in c:\\users\\zetis\\appdata\\local\\programs\\python\\python311\\lib\\site-packages (from matplotlib->catboost) (1.0.6)\n",
      "Requirement already satisfied: cycler>=0.10 in c:\\users\\zetis\\appdata\\local\\programs\\python\\python311\\lib\\site-packages (from matplotlib->catboost) (0.11.0)\n",
      "Requirement already satisfied: fonttools>=4.22.0 in c:\\users\\zetis\\appdata\\local\\programs\\python\\python311\\lib\\site-packages (from matplotlib->catboost) (4.38.0)\n",
      "Requirement already satisfied: kiwisolver>=1.0.1 in c:\\users\\zetis\\appdata\\local\\programs\\python\\python311\\lib\\site-packages (from matplotlib->catboost) (1.4.4)\n",
      "Requirement already satisfied: packaging>=20.0 in c:\\users\\zetis\\appdata\\local\\programs\\python\\python311\\lib\\site-packages (from matplotlib->catboost) (21.3)\n",
      "Requirement already satisfied: pillow>=6.2.0 in c:\\users\\zetis\\appdata\\local\\programs\\python\\python311\\lib\\site-packages (from matplotlib->catboost) (9.3.0)\n",
      "Requirement already satisfied: pyparsing>=2.2.1 in c:\\users\\zetis\\appdata\\local\\programs\\python\\python311\\lib\\site-packages (from matplotlib->catboost) (3.0.9)\n",
      "Requirement already satisfied: tenacity>=6.2.0 in c:\\users\\zetis\\appdata\\local\\programs\\python\\python311\\lib\\site-packages (from plotly->catboost) (8.2.2)\n"
     ]
    },
    {
     "name": "stderr",
     "output_type": "stream",
     "text": [
      "\n",
      "[notice] A new release of pip is available: 23.1 -> 23.1.2\n",
      "[notice] To update, run: c:\\Users\\Zetis\\AppData\\Local\\Programs\\Python\\Python311\\python.exe -m pip install --upgrade pip\n"
     ]
    }
   ]
  },
  {
   "cell_type": "code",
   "source": [
    "train"
   ],
   "metadata": {
    "colab": {
     "base_uri": "https://localhost:8080/",
     "height": 423
    },
    "id": "Te36rcJfvt9H",
    "outputId": "399d3b11-1ccc-4feb-980f-4df508f02462"
   },
   "execution_count": 19,
   "outputs": [
    {
     "data": {
      "text/plain": "          model  year  price transmission  mileage fuelType  tax   mpg  \\\n5133         X6  2015  25000    Semi-Auto    26100   Diesel  205  45.6   \n2121         X2  2019  31980    Automatic     4804   Petrol  145  34.0   \n6576         X2  2018  22995    Semi-Auto    24136   Petrol  145  38.7   \n8330   3 Series  2016  12999       Manual    52224   Diesel  125  62.8   \n3161         X3  2019  32980    Semi-Auto     1961   Diesel  150  54.3   \n...         ...   ...    ...          ...      ...      ...  ...   ...   \n5734   3 Series  2018  17995    Semi-Auto    40456   Diesel  145  64.2   \n5191   1 Series  2016  19950    Semi-Auto    23210   Petrol  200  39.8   \n5390         X2  2019  25450    Semi-Auto     5652   Diesel  145  47.9   \n860          X1  2016  19850    Semi-Auto    14542   Diesel  125  60.1   \n7270   1 Series  2016  15745    Automatic    17237   Petrol  125  54.3   \n\n      engineSize  \n5133         3.0  \n2121         2.0  \n6576         2.0  \n8330         2.0  \n3161         2.0  \n...          ...  \n5734         2.0  \n5191         3.0  \n5390         2.0  \n860          2.0  \n7270         1.5  \n\n[6468 rows x 9 columns]",
      "text/html": "<div>\n<style scoped>\n    .dataframe tbody tr th:only-of-type {\n        vertical-align: middle;\n    }\n\n    .dataframe tbody tr th {\n        vertical-align: top;\n    }\n\n    .dataframe thead th {\n        text-align: right;\n    }\n</style>\n<table border=\"1\" class=\"dataframe\">\n  <thead>\n    <tr style=\"text-align: right;\">\n      <th></th>\n      <th>model</th>\n      <th>year</th>\n      <th>price</th>\n      <th>transmission</th>\n      <th>mileage</th>\n      <th>fuelType</th>\n      <th>tax</th>\n      <th>mpg</th>\n      <th>engineSize</th>\n    </tr>\n  </thead>\n  <tbody>\n    <tr>\n      <th>5133</th>\n      <td>X6</td>\n      <td>2015</td>\n      <td>25000</td>\n      <td>Semi-Auto</td>\n      <td>26100</td>\n      <td>Diesel</td>\n      <td>205</td>\n      <td>45.6</td>\n      <td>3.0</td>\n    </tr>\n    <tr>\n      <th>2121</th>\n      <td>X2</td>\n      <td>2019</td>\n      <td>31980</td>\n      <td>Automatic</td>\n      <td>4804</td>\n      <td>Petrol</td>\n      <td>145</td>\n      <td>34.0</td>\n      <td>2.0</td>\n    </tr>\n    <tr>\n      <th>6576</th>\n      <td>X2</td>\n      <td>2018</td>\n      <td>22995</td>\n      <td>Semi-Auto</td>\n      <td>24136</td>\n      <td>Petrol</td>\n      <td>145</td>\n      <td>38.7</td>\n      <td>2.0</td>\n    </tr>\n    <tr>\n      <th>8330</th>\n      <td>3 Series</td>\n      <td>2016</td>\n      <td>12999</td>\n      <td>Manual</td>\n      <td>52224</td>\n      <td>Diesel</td>\n      <td>125</td>\n      <td>62.8</td>\n      <td>2.0</td>\n    </tr>\n    <tr>\n      <th>3161</th>\n      <td>X3</td>\n      <td>2019</td>\n      <td>32980</td>\n      <td>Semi-Auto</td>\n      <td>1961</td>\n      <td>Diesel</td>\n      <td>150</td>\n      <td>54.3</td>\n      <td>2.0</td>\n    </tr>\n    <tr>\n      <th>...</th>\n      <td>...</td>\n      <td>...</td>\n      <td>...</td>\n      <td>...</td>\n      <td>...</td>\n      <td>...</td>\n      <td>...</td>\n      <td>...</td>\n      <td>...</td>\n    </tr>\n    <tr>\n      <th>5734</th>\n      <td>3 Series</td>\n      <td>2018</td>\n      <td>17995</td>\n      <td>Semi-Auto</td>\n      <td>40456</td>\n      <td>Diesel</td>\n      <td>145</td>\n      <td>64.2</td>\n      <td>2.0</td>\n    </tr>\n    <tr>\n      <th>5191</th>\n      <td>1 Series</td>\n      <td>2016</td>\n      <td>19950</td>\n      <td>Semi-Auto</td>\n      <td>23210</td>\n      <td>Petrol</td>\n      <td>200</td>\n      <td>39.8</td>\n      <td>3.0</td>\n    </tr>\n    <tr>\n      <th>5390</th>\n      <td>X2</td>\n      <td>2019</td>\n      <td>25450</td>\n      <td>Semi-Auto</td>\n      <td>5652</td>\n      <td>Diesel</td>\n      <td>145</td>\n      <td>47.9</td>\n      <td>2.0</td>\n    </tr>\n    <tr>\n      <th>860</th>\n      <td>X1</td>\n      <td>2016</td>\n      <td>19850</td>\n      <td>Semi-Auto</td>\n      <td>14542</td>\n      <td>Diesel</td>\n      <td>125</td>\n      <td>60.1</td>\n      <td>2.0</td>\n    </tr>\n    <tr>\n      <th>7270</th>\n      <td>1 Series</td>\n      <td>2016</td>\n      <td>15745</td>\n      <td>Automatic</td>\n      <td>17237</td>\n      <td>Petrol</td>\n      <td>125</td>\n      <td>54.3</td>\n      <td>1.5</td>\n    </tr>\n  </tbody>\n</table>\n<p>6468 rows × 9 columns</p>\n</div>"
     },
     "execution_count": 19,
     "metadata": {},
     "output_type": "execute_result"
    }
   ]
  },
  {
   "cell_type": "code",
   "source": [
    "from catboost import CatBoostRegressor"
   ],
   "metadata": {
    "id": "MDJCcQFnvb8H"
   },
   "execution_count": 20,
   "outputs": []
  },
  {
   "cell_type": "code",
   "source": [
    "X = ['year', 'transmission', 'engineSize']\n",
    "\n",
    "cat_features = ['transmission']\n",
    "\n",
    "y = ['price']"
   ],
   "metadata": {
    "id": "FgEFO3yuwcf_"
   },
   "execution_count": 21,
   "outputs": []
  },
  {
   "cell_type": "markdown",
   "source": [
    "https://catboost.ai/en/docs/references/custom-metric__supported-metrics"
   ],
   "metadata": {
    "id": "Rctimum_xJnh"
   }
  },
  {
   "cell_type": "code",
   "source": [
    "model = CatBoostRegressor(cat_features=cat_features,\n",
    "                          eval_metric='MAPE',\n",
    "                          random_seed=42,\n",
    "                          verbose=100)"
   ],
   "metadata": {
    "id": "IygLToXEwJ5g"
   },
   "execution_count": 22,
   "outputs": []
  },
  {
   "cell_type": "code",
   "source": [
    "model.fit(train[X],train[y],eval_set=(val[X],val[y]))"
   ],
   "metadata": {
    "colab": {
     "base_uri": "https://localhost:8080/"
    },
    "id": "beebw89UxSIm",
    "outputId": "72ef8055-f7e8-47e5-dd1a-eb9961ae0cd7"
   },
   "execution_count": 23,
   "outputs": [
    {
     "name": "stdout",
     "output_type": "stream",
     "text": [
      "Learning rate set to 0.068263\n",
      "0:\tlearn: 0.4603375\ttest: 0.4555509\tbest: 0.4555509 (0)\ttotal: 155ms\tremaining: 2m 35s\n",
      "100:\tlearn: 0.1546393\ttest: 0.1529687\tbest: 0.1529687 (100)\ttotal: 2.12s\tremaining: 18.9s\n",
      "200:\tlearn: 0.1528213\ttest: 0.1517332\tbest: 0.1517332 (200)\ttotal: 3.73s\tremaining: 14.8s\n",
      "300:\tlearn: 0.1517532\ttest: 0.1514386\tbest: 0.1514000 (288)\ttotal: 5.33s\tremaining: 12.4s\n",
      "400:\tlearn: 0.1509722\ttest: 0.1515508\tbest: 0.1514000 (288)\ttotal: 7.03s\tremaining: 10.5s\n",
      "500:\tlearn: 0.1502967\ttest: 0.1516166\tbest: 0.1514000 (288)\ttotal: 8.68s\tremaining: 8.65s\n",
      "600:\tlearn: 0.1499412\ttest: 0.1516849\tbest: 0.1514000 (288)\ttotal: 10.3s\tremaining: 6.84s\n",
      "700:\tlearn: 0.1494768\ttest: 0.1516928\tbest: 0.1514000 (288)\ttotal: 11.9s\tremaining: 5.09s\n",
      "800:\tlearn: 0.1490851\ttest: 0.1518297\tbest: 0.1514000 (288)\ttotal: 13.6s\tremaining: 3.37s\n",
      "900:\tlearn: 0.1487173\ttest: 0.1519119\tbest: 0.1514000 (288)\ttotal: 15.2s\tremaining: 1.67s\n",
      "999:\tlearn: 0.1483869\ttest: 0.1519628\tbest: 0.1514000 (288)\ttotal: 17s\tremaining: 0us\n",
      "\n",
      "bestTest = 0.1514000297\n",
      "bestIteration = 288\n",
      "\n",
      "Shrink model to first 289 iterations.\n"
     ]
    },
    {
     "data": {
      "text/plain": "<catboost.core.CatBoostRegressor at 0x22e19070b50>"
     },
     "execution_count": 23,
     "metadata": {},
     "output_type": "execute_result"
    }
   ]
  },
  {
   "cell_type": "code",
   "source": [
    "model.predict(test[X])"
   ],
   "metadata": {
    "colab": {
     "base_uri": "https://localhost:8080/"
    },
    "id": "mEL1Yq7axlOI",
    "outputId": "4b77c528-b440-4842-880b-0f7c2f1c5616"
   },
   "execution_count": 24,
   "outputs": [
    {
     "data": {
      "text/plain": "array([45436.28801924, 21738.83525716, 16205.32627896, ...,\n       28444.11570854, 16205.32627896, 27824.78614511])"
     },
     "execution_count": 24,
     "metadata": {},
     "output_type": "execute_result"
    }
   ]
  },
  {
   "cell_type": "code",
   "source": [
    "test['price_pred'] = model.predict(test[X])"
   ],
   "metadata": {
    "id": "CSjnsxj8yn8O"
   },
   "execution_count": 25,
   "outputs": []
  },
  {
   "cell_type": "code",
   "source": [
    "test"
   ],
   "metadata": {
    "colab": {
     "base_uri": "https://localhost:8080/",
     "height": 423
    },
    "id": "_I9kU5Pcyvsm",
    "outputId": "755c1c1b-461d-4006-ab8d-6db2588490b5"
   },
   "execution_count": 26,
   "outputs": [
    {
     "data": {
      "text/plain": "          model  year  price transmission  mileage fuelType  tax    mpg  \\\n4984         X6  2019  52990    Semi-Auto     3086   Diesel  145   34.9   \n4880         X1  2018  24081    Semi-Auto    13245   Diesel  150   60.1   \n9132   1 Series  2016  12999    Automatic    68949   Petrol  200   43.5   \n6451   1 Series  2020  11995    Semi-Auto       10   Petrol  150   34.5   \n7199   3 Series  2020  29875    Semi-Auto      150   Petrol  145   42.2   \n...         ...   ...    ...          ...      ...      ...  ...    ...   \n9627   3 Series  2015  14999    Automatic    78680   Diesel  160   52.3   \n6096   4 Series  2019  29676    Automatic     7365   Petrol  145   41.5   \n1747   5 Series  2019  30570    Automatic     3067   Hybrid  145   49.6   \n4023   3 Series  2016  14999    Automatic    70054   Hybrid    0  148.7   \n4372   2 Series  2019  24590    Semi-Auto     3300   Diesel  145   48.7   \n\n      engineSize    price_pred  \n4984         3.0  45436.288019  \n4880         2.0  21738.835257  \n9132         2.0  16205.326279  \n6451         2.0  32088.707415  \n7199         2.0  32088.707415  \n...          ...           ...  \n9627         3.0  19357.530409  \n6096         3.0  44808.449332  \n1747         2.0  28444.115709  \n4023         2.0  16205.326279  \n4372         2.0  27824.786145  \n\n[2157 rows x 10 columns]",
      "text/html": "<div>\n<style scoped>\n    .dataframe tbody tr th:only-of-type {\n        vertical-align: middle;\n    }\n\n    .dataframe tbody tr th {\n        vertical-align: top;\n    }\n\n    .dataframe thead th {\n        text-align: right;\n    }\n</style>\n<table border=\"1\" class=\"dataframe\">\n  <thead>\n    <tr style=\"text-align: right;\">\n      <th></th>\n      <th>model</th>\n      <th>year</th>\n      <th>price</th>\n      <th>transmission</th>\n      <th>mileage</th>\n      <th>fuelType</th>\n      <th>tax</th>\n      <th>mpg</th>\n      <th>engineSize</th>\n      <th>price_pred</th>\n    </tr>\n  </thead>\n  <tbody>\n    <tr>\n      <th>4984</th>\n      <td>X6</td>\n      <td>2019</td>\n      <td>52990</td>\n      <td>Semi-Auto</td>\n      <td>3086</td>\n      <td>Diesel</td>\n      <td>145</td>\n      <td>34.9</td>\n      <td>3.0</td>\n      <td>45436.288019</td>\n    </tr>\n    <tr>\n      <th>4880</th>\n      <td>X1</td>\n      <td>2018</td>\n      <td>24081</td>\n      <td>Semi-Auto</td>\n      <td>13245</td>\n      <td>Diesel</td>\n      <td>150</td>\n      <td>60.1</td>\n      <td>2.0</td>\n      <td>21738.835257</td>\n    </tr>\n    <tr>\n      <th>9132</th>\n      <td>1 Series</td>\n      <td>2016</td>\n      <td>12999</td>\n      <td>Automatic</td>\n      <td>68949</td>\n      <td>Petrol</td>\n      <td>200</td>\n      <td>43.5</td>\n      <td>2.0</td>\n      <td>16205.326279</td>\n    </tr>\n    <tr>\n      <th>6451</th>\n      <td>1 Series</td>\n      <td>2020</td>\n      <td>11995</td>\n      <td>Semi-Auto</td>\n      <td>10</td>\n      <td>Petrol</td>\n      <td>150</td>\n      <td>34.5</td>\n      <td>2.0</td>\n      <td>32088.707415</td>\n    </tr>\n    <tr>\n      <th>7199</th>\n      <td>3 Series</td>\n      <td>2020</td>\n      <td>29875</td>\n      <td>Semi-Auto</td>\n      <td>150</td>\n      <td>Petrol</td>\n      <td>145</td>\n      <td>42.2</td>\n      <td>2.0</td>\n      <td>32088.707415</td>\n    </tr>\n    <tr>\n      <th>...</th>\n      <td>...</td>\n      <td>...</td>\n      <td>...</td>\n      <td>...</td>\n      <td>...</td>\n      <td>...</td>\n      <td>...</td>\n      <td>...</td>\n      <td>...</td>\n      <td>...</td>\n    </tr>\n    <tr>\n      <th>9627</th>\n      <td>3 Series</td>\n      <td>2015</td>\n      <td>14999</td>\n      <td>Automatic</td>\n      <td>78680</td>\n      <td>Diesel</td>\n      <td>160</td>\n      <td>52.3</td>\n      <td>3.0</td>\n      <td>19357.530409</td>\n    </tr>\n    <tr>\n      <th>6096</th>\n      <td>4 Series</td>\n      <td>2019</td>\n      <td>29676</td>\n      <td>Automatic</td>\n      <td>7365</td>\n      <td>Petrol</td>\n      <td>145</td>\n      <td>41.5</td>\n      <td>3.0</td>\n      <td>44808.449332</td>\n    </tr>\n    <tr>\n      <th>1747</th>\n      <td>5 Series</td>\n      <td>2019</td>\n      <td>30570</td>\n      <td>Automatic</td>\n      <td>3067</td>\n      <td>Hybrid</td>\n      <td>145</td>\n      <td>49.6</td>\n      <td>2.0</td>\n      <td>28444.115709</td>\n    </tr>\n    <tr>\n      <th>4023</th>\n      <td>3 Series</td>\n      <td>2016</td>\n      <td>14999</td>\n      <td>Automatic</td>\n      <td>70054</td>\n      <td>Hybrid</td>\n      <td>0</td>\n      <td>148.7</td>\n      <td>2.0</td>\n      <td>16205.326279</td>\n    </tr>\n    <tr>\n      <th>4372</th>\n      <td>2 Series</td>\n      <td>2019</td>\n      <td>24590</td>\n      <td>Semi-Auto</td>\n      <td>3300</td>\n      <td>Diesel</td>\n      <td>145</td>\n      <td>48.7</td>\n      <td>2.0</td>\n      <td>27824.786145</td>\n    </tr>\n  </tbody>\n</table>\n<p>2157 rows × 10 columns</p>\n</div>"
     },
     "execution_count": 26,
     "metadata": {},
     "output_type": "execute_result"
    }
   ]
  },
  {
   "cell_type": "code",
   "source": [
    "from sklearn.metrics import mean_absolute_error, mean_absolute_percentage_error"
   ],
   "metadata": {
    "id": "RPjbPXvIy3JD"
   },
   "execution_count": 27,
   "outputs": []
  },
  {
   "cell_type": "code",
   "source": [
    "def error(y_true,y_pred):\n",
    "  print(mean_absolute_error(y_true,y_pred))\n",
    "  print(mean_absolute_percentage_error(y_true,y_pred))"
   ],
   "metadata": {
    "id": "-on6IXGWywMR"
   },
   "execution_count": 28,
   "outputs": []
  },
  {
   "cell_type": "code",
   "source": [
    "error(test['price'],test['price_pred'])"
   ],
   "metadata": {
    "colab": {
     "base_uri": "https://localhost:8080/"
    },
    "id": "2BzcNjWfy7de",
    "outputId": "a00cdba5-dd42-4533-babc-3b77217aded4"
   },
   "execution_count": 29,
   "outputs": [
    {
     "name": "stdout",
     "output_type": "stream",
     "text": [
      "3366.679482256595\n",
      "0.15363582890850797\n"
     ]
    }
   ]
  },
  {
   "cell_type": "markdown",
   "source": [
    "# Обучаемся на всех фичах"
   ],
   "metadata": {
    "id": "UrCbCIvey_tY"
   }
  },
  {
   "cell_type": "code",
   "source": [
    "X = ['model', 'year', 'transmission', 'mileage', 'fuelType', 'tax',\n",
    "       'mpg', 'engineSize']\n",
    "\n",
    "cat_features = ['model', 'transmission', 'fuelType']\n",
    "\n",
    "y = ['price']"
   ],
   "metadata": {
    "id": "x7ysdwOl3A07"
   },
   "execution_count": 30,
   "outputs": []
  },
  {
   "cell_type": "code",
   "source": [
    "parameters = {'cat_features': cat_features,\n",
    "              'eval_metric': 'MAPE',\n",
    "              'random_seed':42,\n",
    "              'verbose':100}"
   ],
   "metadata": {
    "id": "4Uyy9EBs3RNi"
   },
   "execution_count": 31,
   "outputs": []
  },
  {
   "cell_type": "code",
   "source": [
    "model = CatBoostRegressor(**parameters)"
   ],
   "metadata": {
    "id": "RiGfFWfK3Nt_"
   },
   "execution_count": 32,
   "outputs": []
  },
  {
   "cell_type": "code",
   "source": [
    "model.fit(train[X],train[y],eval_set=(val[X],val[y]))"
   ],
   "metadata": {
    "colab": {
     "base_uri": "https://localhost:8080/"
    },
    "id": "pt8TfXk23kCM",
    "outputId": "5e4174d8-affa-46f7-9f31-2b0105daa80d"
   },
   "execution_count": 33,
   "outputs": [
    {
     "name": "stdout",
     "output_type": "stream",
     "text": [
      "Learning rate set to 0.068263\n",
      "0:\tlearn: 0.4607438\ttest: 0.4563750\tbest: 0.4563750 (0)\ttotal: 22.4ms\tremaining: 22.4s\n",
      "100:\tlearn: 0.0904302\ttest: 0.0896388\tbest: 0.0896388 (100)\ttotal: 1.93s\tremaining: 17.2s\n",
      "200:\tlearn: 0.0781784\ttest: 0.0803125\tbest: 0.0803125 (200)\ttotal: 3.87s\tremaining: 15.4s\n",
      "300:\tlearn: 0.0729925\ttest: 0.0764506\tbest: 0.0764506 (300)\ttotal: 5.79s\tremaining: 13.5s\n",
      "400:\tlearn: 0.0695552\ttest: 0.0744676\tbest: 0.0744553 (399)\ttotal: 7.62s\tremaining: 11.4s\n",
      "500:\tlearn: 0.0670683\ttest: 0.0732827\tbest: 0.0732827 (500)\ttotal: 9.75s\tremaining: 9.71s\n",
      "600:\tlearn: 0.0652835\ttest: 0.0726170\tbest: 0.0726128 (597)\ttotal: 11.6s\tremaining: 7.7s\n",
      "700:\tlearn: 0.0636320\ttest: 0.0720622\tbest: 0.0720500 (695)\ttotal: 13.4s\tremaining: 5.71s\n",
      "800:\tlearn: 0.0623408\ttest: 0.0714586\tbest: 0.0714329 (794)\ttotal: 15.2s\tremaining: 3.78s\n",
      "900:\tlearn: 0.0611487\ttest: 0.0711564\tbest: 0.0711321 (898)\ttotal: 17.2s\tremaining: 1.89s\n",
      "999:\tlearn: 0.0601407\ttest: 0.0708439\tbest: 0.0708403 (998)\ttotal: 19.1s\tremaining: 0us\n",
      "\n",
      "bestTest = 0.07084025495\n",
      "bestIteration = 998\n",
      "\n",
      "Shrink model to first 999 iterations.\n"
     ]
    },
    {
     "data": {
      "text/plain": "<catboost.core.CatBoostRegressor at 0x22e19087690>"
     },
     "execution_count": 33,
     "metadata": {},
     "output_type": "execute_result"
    }
   ]
  },
  {
   "cell_type": "code",
   "source": [
    "test['price_pred_all'] = model.predict(test[X])"
   ],
   "metadata": {
    "id": "h3JloOf43ofs"
   },
   "execution_count": 34,
   "outputs": []
  },
  {
   "cell_type": "code",
   "source": [
    "error(test['price'],test['price_pred_all'])"
   ],
   "metadata": {
    "colab": {
     "base_uri": "https://localhost:8080/"
    },
    "id": "hVJH_t-C382v",
    "outputId": "fb6aeeb7-9444-4ac1-cfb4-74fd47e10506"
   },
   "execution_count": 35,
   "outputs": [
    {
     "name": "stdout",
     "output_type": "stream",
     "text": [
      "1556.5378327680894\n",
      "0.07367840910148211\n"
     ]
    }
   ]
  },
  {
   "cell_type": "markdown",
   "source": [
    "# Количество итераций и learning rate"
   ],
   "metadata": {
    "id": "i2aDWXEglZ2K"
   }
  },
  {
   "cell_type": "markdown",
   "source": [
    "## Уменьшим learning rate"
   ],
   "metadata": {
    "id": "EAMu4vuhuWbX"
   }
  },
  {
   "cell_type": "code",
   "source": [
    "X = ['year', 'transmission', 'engineSize']\n",
    "\n",
    "cat_features = ['transmission']\n",
    "\n",
    "y = ['price']"
   ],
   "metadata": {
    "id": "4SKQWGJKtEqo"
   },
   "execution_count": 36,
   "outputs": []
  },
  {
   "cell_type": "code",
   "source": [
    "model = CatBoostRegressor(cat_features=cat_features,\n",
    "                          learning_rate = 0.03,\n",
    "                          eval_metric='MAPE',\n",
    "                          random_seed=42,\n",
    "                          verbose=100)"
   ],
   "metadata": {
    "id": "7d-5xEIvtEqo"
   },
   "execution_count": 37,
   "outputs": []
  },
  {
   "cell_type": "code",
   "source": [
    "model.fit(train[X],train[y],eval_set=(val[X],val[y]))"
   ],
   "metadata": {
    "colab": {
     "base_uri": "https://localhost:8080/"
    },
    "outputId": "5a35831f-ef40-4be1-c31b-9ddb4f5312e6",
    "id": "3_FnOpTetEqo"
   },
   "execution_count": 38,
   "outputs": [
    {
     "name": "stdout",
     "output_type": "stream",
     "text": [
      "0:\tlearn: 0.4746987\ttest: 0.4699730\tbest: 0.4699730 (0)\ttotal: 17.7ms\tremaining: 17.7s\n",
      "100:\tlearn: 0.1681230\ttest: 0.1638970\tbest: 0.1638970 (100)\ttotal: 1.69s\tremaining: 15.1s\n",
      "200:\tlearn: 0.1561398\ttest: 0.1538311\tbest: 0.1538311 (200)\ttotal: 3.17s\tremaining: 12.6s\n",
      "300:\tlearn: 0.1543096\ttest: 0.1525317\tbest: 0.1525309 (299)\ttotal: 4.48s\tremaining: 10.4s\n",
      "400:\tlearn: 0.1534465\ttest: 0.1519221\tbest: 0.1519198 (397)\ttotal: 5.79s\tremaining: 8.66s\n",
      "500:\tlearn: 0.1527824\ttest: 0.1516330\tbest: 0.1516164 (480)\ttotal: 7.38s\tremaining: 7.35s\n",
      "600:\tlearn: 0.1522590\ttest: 0.1514284\tbest: 0.1514284 (600)\ttotal: 8.95s\tremaining: 5.94s\n",
      "700:\tlearn: 0.1518052\ttest: 0.1513704\tbest: 0.1513673 (689)\ttotal: 10.6s\tremaining: 4.5s\n",
      "800:\tlearn: 0.1514495\ttest: 0.1513967\tbest: 0.1513651 (703)\ttotal: 12.1s\tremaining: 3.01s\n",
      "900:\tlearn: 0.1510958\ttest: 0.1513657\tbest: 0.1513489 (873)\ttotal: 13.8s\tremaining: 1.51s\n",
      "999:\tlearn: 0.1508297\ttest: 0.1513297\tbest: 0.1513168 (992)\ttotal: 15.4s\tremaining: 0us\n",
      "\n",
      "bestTest = 0.1513167711\n",
      "bestIteration = 992\n",
      "\n",
      "Shrink model to first 993 iterations.\n"
     ]
    },
    {
     "data": {
      "text/plain": "<catboost.core.CatBoostRegressor at 0x22e19096d10>"
     },
     "execution_count": 38,
     "metadata": {},
     "output_type": "execute_result"
    }
   ]
  },
  {
   "cell_type": "markdown",
   "source": [
    "## Увеличим learning rate"
   ],
   "metadata": {
    "id": "LIJalFUBtKyC"
   }
  },
  {
   "cell_type": "code",
   "source": [
    "X = ['model', 'year', 'transmission', 'mileage', 'fuelType', 'tax',\n",
    "       'mpg', 'engineSize']\n",
    "\n",
    "cat_features = ['model', 'transmission', 'fuelType']\n",
    "\n",
    "y = ['price']"
   ],
   "metadata": {
    "id": "V9Po9tOMtghh"
   },
   "execution_count": 39,
   "outputs": []
  },
  {
   "cell_type": "code",
   "source": [
    "parameters = {'cat_features': cat_features,\n",
    "              'eval_metric': 'MAPE',\n",
    "              'learning_rate': 0.08,\n",
    "              'random_seed':42,\n",
    "              'verbose':100}"
   ],
   "metadata": {
    "id": "qXuRWTOytghi"
   },
   "execution_count": 40,
   "outputs": []
  },
  {
   "cell_type": "code",
   "source": [
    "model = CatBoostRegressor(**parameters)"
   ],
   "metadata": {
    "id": "zYsPugnJtghi"
   },
   "execution_count": 41,
   "outputs": []
  },
  {
   "cell_type": "code",
   "source": [
    "model.fit(train[X],train[y],eval_set=(val[X],val[y]))"
   ],
   "metadata": {
    "colab": {
     "base_uri": "https://localhost:8080/"
    },
    "outputId": "c5997279-3659-4ec3-875a-51805e3041ae",
    "id": "ZR3nlVDitghi"
   },
   "execution_count": 42,
   "outputs": [
    {
     "name": "stdout",
     "output_type": "stream",
     "text": [
      "0:\tlearn: 0.4564416\ttest: 0.4521294\tbest: 0.4521294 (0)\ttotal: 19.2ms\tremaining: 19.2s\n",
      "100:\tlearn: 0.0875290\ttest: 0.0867329\tbest: 0.0867329 (100)\ttotal: 1.88s\tremaining: 16.8s\n",
      "200:\tlearn: 0.0760834\ttest: 0.0779235\tbest: 0.0779235 (200)\ttotal: 3.91s\tremaining: 15.5s\n",
      "300:\tlearn: 0.0708670\ttest: 0.0740290\tbest: 0.0740290 (300)\ttotal: 5.76s\tremaining: 13.4s\n",
      "400:\tlearn: 0.0676240\ttest: 0.0718814\tbest: 0.0718814 (400)\ttotal: 7.61s\tremaining: 11.4s\n",
      "500:\tlearn: 0.0654070\ttest: 0.0709221\tbest: 0.0708594 (496)\ttotal: 9.5s\tremaining: 9.46s\n",
      "600:\tlearn: 0.0638577\ttest: 0.0704606\tbest: 0.0704490 (599)\ttotal: 11.3s\tremaining: 7.52s\n",
      "700:\tlearn: 0.0622969\ttest: 0.0698226\tbest: 0.0698226 (700)\ttotal: 13.1s\tremaining: 5.59s\n",
      "800:\tlearn: 0.0609583\ttest: 0.0694169\tbest: 0.0694004 (791)\ttotal: 15s\tremaining: 3.74s\n",
      "900:\tlearn: 0.0596089\ttest: 0.0689968\tbest: 0.0689945 (895)\ttotal: 17s\tremaining: 1.87s\n",
      "999:\tlearn: 0.0584626\ttest: 0.0686829\tbest: 0.0686377 (993)\ttotal: 18.9s\tremaining: 0us\n",
      "\n",
      "bestTest = 0.06863774536\n",
      "bestIteration = 993\n",
      "\n",
      "Shrink model to first 994 iterations.\n"
     ]
    },
    {
     "data": {
      "text/plain": "<catboost.core.CatBoostRegressor at 0x22e190965d0>"
     },
     "execution_count": 42,
     "metadata": {},
     "output_type": "execute_result"
    }
   ]
  },
  {
   "cell_type": "markdown",
   "source": [
    "## Останавливаем если нет улучшения"
   ],
   "metadata": {
    "id": "gMkVBDuStm58"
   }
  },
  {
   "cell_type": "code",
   "source": [
    "X = ['year', 'transmission', 'engineSize']\n",
    "\n",
    "cat_features = ['transmission']\n",
    "\n",
    "y = ['price']"
   ],
   "metadata": {
    "id": "he_tpD5wuAMH"
   },
   "execution_count": 43,
   "outputs": []
  },
  {
   "cell_type": "code",
   "source": [
    "model = CatBoostRegressor(cat_features=cat_features,\n",
    "                          early_stopping_rounds=200,\n",
    "                          eval_metric='MAPE',\n",
    "                          random_seed=42,\n",
    "                          verbose=100)"
   ],
   "metadata": {
    "id": "831Aup5TuAMH"
   },
   "execution_count": 44,
   "outputs": []
  },
  {
   "cell_type": "code",
   "source": [
    "model.fit(train[X],train[y],eval_set=(val[X],val[y]))"
   ],
   "metadata": {
    "colab": {
     "base_uri": "https://localhost:8080/"
    },
    "outputId": "f7196802-b39c-4d50-c5bc-58958f8123d9",
    "id": "_asoT3nQuAMH"
   },
   "execution_count": 45,
   "outputs": [
    {
     "name": "stdout",
     "output_type": "stream",
     "text": [
      "Learning rate set to 0.068263\n",
      "0:\tlearn: 0.4603375\ttest: 0.4555509\tbest: 0.4555509 (0)\ttotal: 18.2ms\tremaining: 18.1s\n",
      "100:\tlearn: 0.1546393\ttest: 0.1529687\tbest: 0.1529687 (100)\ttotal: 1.71s\tremaining: 15.2s\n",
      "200:\tlearn: 0.1528213\ttest: 0.1517332\tbest: 0.1517332 (200)\ttotal: 3.19s\tremaining: 12.7s\n",
      "300:\tlearn: 0.1517532\ttest: 0.1514386\tbest: 0.1514000 (288)\ttotal: 4.79s\tremaining: 11.1s\n",
      "400:\tlearn: 0.1509722\ttest: 0.1515508\tbest: 0.1514000 (288)\ttotal: 6.43s\tremaining: 9.61s\n",
      "Stopped by overfitting detector  (200 iterations wait)\n",
      "\n",
      "bestTest = 0.1514000297\n",
      "bestIteration = 288\n",
      "\n",
      "Shrink model to first 289 iterations.\n"
     ]
    },
    {
     "data": {
      "text/plain": "<catboost.core.CatBoostRegressor at 0x22e17926e50>"
     },
     "execution_count": 45,
     "metadata": {},
     "output_type": "execute_result"
    }
   ]
  },
  {
   "cell_type": "markdown",
   "source": [
    "# Обучаемся на всех данных"
   ],
   "metadata": {
    "id": "M_D1PRRtupGR"
   }
  },
  {
   "cell_type": "code",
   "source": [
    "len(train)"
   ],
   "metadata": {
    "colab": {
     "base_uri": "https://localhost:8080/"
    },
    "id": "hQtkZPsFQPVV",
    "outputId": "00a043dc-1c77-4145-e912-ce7110d19efd"
   },
   "execution_count": 46,
   "outputs": [
    {
     "data": {
      "text/plain": "6468"
     },
     "execution_count": 46,
     "metadata": {},
     "output_type": "execute_result"
    }
   ]
  },
  {
   "cell_type": "code",
   "source": [
    "len(val)"
   ],
   "metadata": {
    "colab": {
     "base_uri": "https://localhost:8080/"
    },
    "id": "FzXda_VSQsch",
    "outputId": "cc19ab66-feaa-4f26-ff61-45113db16510"
   },
   "execution_count": 47,
   "outputs": [
    {
     "data": {
      "text/plain": "2156"
     },
     "execution_count": 47,
     "metadata": {},
     "output_type": "execute_result"
    }
   ]
  },
  {
   "cell_type": "code",
   "source": [
    "len(train) + len(val)"
   ],
   "metadata": {
    "colab": {
     "base_uri": "https://localhost:8080/"
    },
    "id": "x-6kxuOqQsy4",
    "outputId": "49e4bb5f-65c3-49a5-f436-c10d76164212"
   },
   "execution_count": 48,
   "outputs": [
    {
     "data": {
      "text/plain": "8624"
     },
     "execution_count": 48,
     "metadata": {},
     "output_type": "execute_result"
    }
   ]
  },
  {
   "cell_type": "code",
   "source": [
    "train_full = pd.concat([train,val])"
   ],
   "metadata": {
    "id": "KOGiEkCtQvyF"
   },
   "execution_count": 49,
   "outputs": []
  },
  {
   "cell_type": "code",
   "source": [
    "X = ['model', 'year', 'transmission', 'mileage', 'fuelType', 'tax',\n",
    "       'mpg', 'engineSize']\n",
    "\n",
    "cat_features = ['model', 'transmission', 'fuelType']\n",
    "\n",
    "y = ['price']"
   ],
   "metadata": {
    "id": "Y5H-bjOFQ_Tf"
   },
   "execution_count": 50,
   "outputs": []
  },
  {
   "cell_type": "code",
   "source": [
    "parameters = {'cat_features': cat_features,\n",
    "              'eval_metric': 'MAPE',\n",
    "              'learning_rate': 0.08,\n",
    "              'random_seed':42,\n",
    "              'verbose':100}"
   ],
   "metadata": {
    "id": "UlmK5522Q_Tf"
   },
   "execution_count": 51,
   "outputs": []
  },
  {
   "cell_type": "code",
   "source": [
    "model = CatBoostRegressor(**parameters)"
   ],
   "metadata": {
    "id": "4XyaBfOCQ_Tf"
   },
   "execution_count": 52,
   "outputs": []
  },
  {
   "cell_type": "code",
   "source": [
    "model.fit(train[X],train[y],eval_set=(val[X],val[y]))"
   ],
   "metadata": {
    "colab": {
     "base_uri": "https://localhost:8080/"
    },
    "outputId": "fd9fb6fa-447c-4c4c-b861-72797b35cc92",
    "id": "3fOJFUG3Q_Tg"
   },
   "execution_count": 53,
   "outputs": [
    {
     "name": "stdout",
     "output_type": "stream",
     "text": [
      "0:\tlearn: 0.4564416\ttest: 0.4521294\tbest: 0.4521294 (0)\ttotal: 17.9ms\tremaining: 17.9s\n",
      "100:\tlearn: 0.0875290\ttest: 0.0867329\tbest: 0.0867329 (100)\ttotal: 1.87s\tremaining: 16.6s\n",
      "200:\tlearn: 0.0760834\ttest: 0.0779235\tbest: 0.0779235 (200)\ttotal: 3.75s\tremaining: 14.9s\n",
      "300:\tlearn: 0.0708670\ttest: 0.0740290\tbest: 0.0740290 (300)\ttotal: 5.79s\tremaining: 13.4s\n",
      "400:\tlearn: 0.0676240\ttest: 0.0718814\tbest: 0.0718814 (400)\ttotal: 7.59s\tremaining: 11.3s\n",
      "500:\tlearn: 0.0654070\ttest: 0.0709221\tbest: 0.0708594 (496)\ttotal: 9.42s\tremaining: 9.39s\n",
      "600:\tlearn: 0.0638577\ttest: 0.0704606\tbest: 0.0704490 (599)\ttotal: 11.2s\tremaining: 7.45s\n",
      "700:\tlearn: 0.0622969\ttest: 0.0698226\tbest: 0.0698226 (700)\ttotal: 13.2s\tremaining: 5.61s\n",
      "800:\tlearn: 0.0609583\ttest: 0.0694169\tbest: 0.0694004 (791)\ttotal: 15s\tremaining: 3.72s\n",
      "900:\tlearn: 0.0596089\ttest: 0.0689968\tbest: 0.0689945 (895)\ttotal: 16.7s\tremaining: 1.84s\n",
      "999:\tlearn: 0.0584626\ttest: 0.0686829\tbest: 0.0686377 (993)\ttotal: 18.5s\tremaining: 0us\n",
      "\n",
      "bestTest = 0.06863774536\n",
      "bestIteration = 993\n",
      "\n",
      "Shrink model to first 994 iterations.\n"
     ]
    },
    {
     "data": {
      "text/plain": "<catboost.core.CatBoostRegressor at 0x22e1909d6d0>"
     },
     "execution_count": 53,
     "metadata": {},
     "output_type": "execute_result"
    }
   ]
  },
  {
   "cell_type": "code",
   "source": [
    "model.best_iteration_"
   ],
   "metadata": {
    "colab": {
     "base_uri": "https://localhost:8080/"
    },
    "id": "7z9G-LdiRBEh",
    "outputId": "0f67fc24-7828-4cd0-d7cd-545c7ae8408b"
   },
   "execution_count": 54,
   "outputs": [
    {
     "data": {
      "text/plain": "993"
     },
     "execution_count": 54,
     "metadata": {},
     "output_type": "execute_result"
    }
   ]
  },
  {
   "cell_type": "code",
   "source": [
    "parameters = {'iterations': model.best_iteration_ + 1,\n",
    "              'cat_features': cat_features,\n",
    "              'eval_metric': 'MAPE',\n",
    "              'learning_rate': 0.08,\n",
    "              'random_seed':42,\n",
    "              'verbose':100}"
   ],
   "metadata": {
    "id": "N9ZLT7gvRK_x"
   },
   "execution_count": 55,
   "outputs": []
  },
  {
   "cell_type": "code",
   "source": [
    "parameters"
   ],
   "metadata": {
    "colab": {
     "base_uri": "https://localhost:8080/"
    },
    "id": "hwNLjuMXRSAB",
    "outputId": "7615a2bd-4f0e-4699-e880-5ce59efafcf1"
   },
   "execution_count": 56,
   "outputs": [
    {
     "data": {
      "text/plain": "{'iterations': 994,\n 'cat_features': ['model', 'transmission', 'fuelType'],\n 'eval_metric': 'MAPE',\n 'learning_rate': 0.08,\n 'random_seed': 42,\n 'verbose': 100}"
     },
     "execution_count": 56,
     "metadata": {},
     "output_type": "execute_result"
    }
   ]
  },
  {
   "cell_type": "code",
   "source": [
    "model = CatBoostRegressor(**parameters)"
   ],
   "metadata": {
    "id": "nzJLO0PpRK_x"
   },
   "execution_count": 57,
   "outputs": []
  },
  {
   "cell_type": "code",
   "source": [
    "model.fit(train_full[X],train_full[y])"
   ],
   "metadata": {
    "colab": {
     "base_uri": "https://localhost:8080/"
    },
    "id": "aQ7jZQjvRVxX",
    "outputId": "0b137d69-f32f-46ac-cfd4-ca03ee4c5ad8"
   },
   "execution_count": 58,
   "outputs": [
    {
     "name": "stdout",
     "output_type": "stream",
     "text": [
      "0:\tlearn: 0.4538016\ttotal: 18.6ms\tremaining: 18.5s\n",
      "100:\tlearn: 0.0854178\ttotal: 1.86s\tremaining: 16.5s\n",
      "200:\tlearn: 0.0745022\ttotal: 3.72s\tremaining: 14.7s\n",
      "300:\tlearn: 0.0701717\ttotal: 5.74s\tremaining: 13.2s\n",
      "400:\tlearn: 0.0676577\ttotal: 7.67s\tremaining: 11.3s\n",
      "500:\tlearn: 0.0656926\ttotal: 9.49s\tremaining: 9.34s\n",
      "600:\tlearn: 0.0638104\ttotal: 11.3s\tremaining: 7.39s\n",
      "700:\tlearn: 0.0624302\ttotal: 13.1s\tremaining: 5.49s\n",
      "800:\tlearn: 0.0612275\ttotal: 15.1s\tremaining: 3.63s\n",
      "900:\tlearn: 0.0599823\ttotal: 16.9s\tremaining: 1.75s\n",
      "993:\tlearn: 0.0590330\ttotal: 18.6s\tremaining: 0us\n"
     ]
    },
    {
     "data": {
      "text/plain": "<catboost.core.CatBoostRegressor at 0x22e00515b10>"
     },
     "execution_count": 58,
     "metadata": {},
     "output_type": "execute_result"
    }
   ]
  },
  {
   "cell_type": "code",
   "source": [
    "test['price_pred_all_features_and_data'] = model.predict(test[X])"
   ],
   "metadata": {
    "id": "2SjpaZPaRdNI"
   },
   "execution_count": 59,
   "outputs": []
  },
  {
   "cell_type": "code",
   "source": [
    "error(test['price'],test['price_pred_all'])"
   ],
   "metadata": {
    "colab": {
     "base_uri": "https://localhost:8080/"
    },
    "id": "kJse0HcYRljk",
    "outputId": "4ffef947-5471-4ecc-a44c-9db374c4defd"
   },
   "execution_count": 60,
   "outputs": [
    {
     "name": "stdout",
     "output_type": "stream",
     "text": [
      "1556.5378327680894\n",
      "0.07367840910148211\n"
     ]
    }
   ]
  },
  {
   "cell_type": "code",
   "source": [
    "error(test['price'],test['price_pred_all_features_and_data'])"
   ],
   "metadata": {
    "colab": {
     "base_uri": "https://localhost:8080/"
    },
    "id": "bgtEpTC9Rwbc",
    "outputId": "fce8f61b-7ada-4bbb-c18d-9732f6c35575"
   },
   "execution_count": 61,
   "outputs": [
    {
     "name": "stdout",
     "output_type": "stream",
     "text": [
      "1512.6160783572977\n",
      "0.07305203023986592\n"
     ]
    }
   ]
  },
  {
   "cell_type": "markdown",
   "source": [
    "# Метрики регрессии"
   ],
   "metadata": {
    "id": "i4Y-CkASRx7S"
   }
  },
  {
   "cell_type": "markdown",
   "source": [
    "https://catboost.ai/en/docs/concepts/loss-functions-regression#objectives-and-metrics"
   ],
   "metadata": {
    "id": "0THocIr7SLKg"
   }
  },
  {
   "cell_type": "markdown",
   "source": [
    "# Меняем функцию оптимизации"
   ],
   "metadata": {
    "id": "mNf6WhgcSN6O"
   }
  },
  {
   "cell_type": "code",
   "source": [
    "X = ['model', 'year', 'transmission', 'mileage', 'fuelType', 'tax',\n",
    "       'mpg', 'engineSize']\n",
    "\n",
    "cat_features = ['model', 'transmission', 'fuelType']\n",
    "\n",
    "y = ['price']"
   ],
   "metadata": {
    "id": "s3tZ5GviWQH_"
   },
   "execution_count": 62,
   "outputs": []
  },
  {
   "cell_type": "code",
   "source": [
    "parameters = {'cat_features': cat_features,\n",
    "              'loss_function': 'MAE',\n",
    "              'eval_metric': 'MAPE',\n",
    "              'learning_rate': 0.1,\n",
    "              'random_seed':42,\n",
    "              'verbose':100}"
   ],
   "metadata": {
    "id": "6WD60lGnWQIL"
   },
   "execution_count": 63,
   "outputs": []
  },
  {
   "cell_type": "code",
   "source": [
    "model = CatBoostRegressor(**parameters)"
   ],
   "metadata": {
    "id": "4X17fibcWQIL"
   },
   "execution_count": 64,
   "outputs": []
  },
  {
   "cell_type": "code",
   "source": [
    "model.fit(train[X],train[y],eval_set=(val[X],val[y]))"
   ],
   "metadata": {
    "colab": {
     "base_uri": "https://localhost:8080/"
    },
    "outputId": "36429b24-389e-436f-fd8c-dd20f516dc95",
    "id": "SqkO5H0rWQIM"
   },
   "execution_count": 65,
   "outputs": [
    {
     "name": "stdout",
     "output_type": "stream",
     "text": [
      "0:\tlearn: 0.3849345\ttest: 0.3793341\tbest: 0.3793341 (0)\ttotal: 23.1ms\tremaining: 23.1s\n",
      "100:\tlearn: 0.0764009\ttest: 0.0774578\tbest: 0.0774578 (100)\ttotal: 1.83s\tremaining: 16.3s\n",
      "200:\tlearn: 0.0666216\ttest: 0.0706498\tbest: 0.0706498 (200)\ttotal: 3.68s\tremaining: 14.6s\n",
      "300:\tlearn: 0.0628577\ttest: 0.0695086\tbest: 0.0694924 (298)\ttotal: 5.5s\tremaining: 12.8s\n",
      "400:\tlearn: 0.0605748\ttest: 0.0687890\tbest: 0.0687826 (399)\ttotal: 7.29s\tremaining: 10.9s\n",
      "500:\tlearn: 0.0589764\ttest: 0.0683467\tbest: 0.0683222 (490)\ttotal: 9.12s\tremaining: 9.09s\n",
      "600:\tlearn: 0.0579201\ttest: 0.0680567\tbest: 0.0680567 (600)\ttotal: 10.9s\tremaining: 7.23s\n",
      "700:\tlearn: 0.0570454\ttest: 0.0678671\tbest: 0.0678659 (681)\ttotal: 12.7s\tremaining: 5.41s\n",
      "800:\tlearn: 0.0563072\ttest: 0.0676018\tbest: 0.0676018 (800)\ttotal: 14.6s\tremaining: 3.63s\n",
      "900:\tlearn: 0.0555798\ttest: 0.0674500\tbest: 0.0674384 (889)\ttotal: 16.4s\tremaining: 1.8s\n",
      "999:\tlearn: 0.0548863\ttest: 0.0673326\tbest: 0.0672972 (972)\ttotal: 18.2s\tremaining: 0us\n",
      "\n",
      "bestTest = 0.0672972276\n",
      "bestIteration = 972\n",
      "\n",
      "Shrink model to first 973 iterations.\n"
     ]
    },
    {
     "data": {
      "text/plain": "<catboost.core.CatBoostRegressor at 0x22e190abd50>"
     },
     "execution_count": 65,
     "metadata": {},
     "output_type": "execute_result"
    }
   ]
  },
  {
   "cell_type": "markdown",
   "source": [
    "Мой Telegram-канал: https://t.me/mikhaylovgleb"
   ],
   "metadata": {
    "id": "pRJMypKVWJlx"
   }
  }
 ]
}