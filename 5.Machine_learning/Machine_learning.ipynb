{
 "cells": [
  {
   "cell_type": "markdown",
   "metadata": {
    "collapsed": true,
    "pycharm": {
     "name": "#%% md\n"
    }
   },
   "source": [
    "## Загрузка данных\n",
    "#### Данные беру из Human_learning"
   ]
  },
  {
   "cell_type": "markdown",
   "source": [
    "# Colab"
   ],
   "metadata": {
    "collapsed": false
   }
  },
  {
   "cell_type": "code",
   "execution_count": 1,
   "outputs": [
    {
     "name": "stderr",
     "output_type": "stream",
     "text": [
      "\"gdown\" ­Ґ пў«пҐвбп ў­гваҐ­­Ґ© Ё«Ё ў­Ґи­Ґ©\n",
      "Є®¬ ­¤®©, ЁбЇ®«­пҐ¬®© Їа®Ја ¬¬®© Ё«Ё Ї ЄҐв­л¬ д ©«®¬.\n"
     ]
    }
   ],
   "source": [
    "! gdown --id 1P3aYu5kdMLOVxgl2K6wjzx-HtWB5J_wu"
   ],
   "metadata": {
    "collapsed": false,
    "pycharm": {
     "name": "#%%\n"
    }
   }
  },
  {
   "cell_type": "code",
   "execution_count": 2,
   "outputs": [
    {
     "name": "stderr",
     "output_type": "stream",
     "text": [
      "\"unzip\" ­Ґ пў«пҐвбп ў­гваҐ­­Ґ© Ё«Ё ў­Ґи­Ґ©\n",
      "Є®¬ ­¤®©, ЁбЇ®«­пҐ¬®© Їа®Ја ¬¬®© Ё«Ё Ї ЄҐв­л¬ д ©«®¬.\n"
     ]
    }
   ],
   "source": [
    "! unzip / content / uk_used_cars.zip -d / content / uk_used_cars /"
   ],
   "metadata": {
    "collapsed": false,
    "pycharm": {
     "name": "#%%\n"
    }
   }
  },
  {
   "cell_type": "code",
   "execution_count": 11,
   "outputs": [],
   "source": [
    "import pandas as pd"
   ],
   "metadata": {
    "collapsed": false,
    "pycharm": {
     "name": "#%%\n"
    }
   }
  },
  {
   "cell_type": "code",
   "execution_count": null,
   "outputs": [],
   "source": [
    "df = pd.read_csv('/content/uk_used_cars/bmw.csv')"
   ],
   "metadata": {
    "collapsed": false,
    "pycharm": {
     "name": "#%%\n"
    }
   }
  },
  {
   "cell_type": "code",
   "execution_count": 5,
   "outputs": [
    {
     "ename": "NameError",
     "evalue": "name 'df' is not defined",
     "output_type": "error",
     "traceback": [
      "\u001B[1;31m---------------------------------------------------------------------------\u001B[0m",
      "\u001B[1;31mNameError\u001B[0m                                 Traceback (most recent call last)",
      "Cell \u001B[1;32mIn [5], line 1\u001B[0m\n\u001B[1;32m----> 1\u001B[0m \u001B[43mdf\u001B[49m\u001B[38;5;241m.\u001B[39mhead()\n",
      "\u001B[1;31mNameError\u001B[0m: name 'df' is not defined"
     ]
    }
   ],
   "source": [
    "df.head()"
   ],
   "metadata": {
    "collapsed": false,
    "pycharm": {
     "name": "#%%\n"
    }
   }
  },
  {
   "cell_type": "markdown",
   "source": [
    "# Pycharm"
   ],
   "metadata": {
    "collapsed": false
   }
  },
  {
   "cell_type": "code",
   "execution_count": 1,
   "outputs": [],
   "source": [
    "from zipfile import ZipFile\n",
    "\n",
    "with ZipFile('uk_used_cars.zip', 'r') as zf:\n",
    "    zf.extractall()"
   ],
   "metadata": {
    "collapsed": false,
    "pycharm": {
     "name": "#%%\n"
    }
   }
  },
  {
   "cell_type": "code",
   "execution_count": 1,
   "outputs": [],
   "source": [
    "import pandas as pd"
   ],
   "metadata": {
    "collapsed": false,
    "pycharm": {
     "name": "#%%\n"
    }
   }
  },
  {
   "cell_type": "code",
   "execution_count": 97,
   "outputs": [],
   "source": [
    "df = pd.read_csv(r'C:\\PyCharm\\Python\\Data_Science_GM\\4.Human_learning\\bmw.csv')"
   ],
   "metadata": {
    "collapsed": false,
    "pycharm": {
     "name": "#%%\n"
    }
   }
  },
  {
   "cell_type": "code",
   "execution_count": 98,
   "outputs": [
    {
     "data": {
      "text/plain": "       model  year  price transmission  mileage fuelType  tax   mpg  \\\n0   5 Series  2014  11200    Automatic    67068   Diesel  125  57.6   \n1   6 Series  2018  27000    Automatic    14827   Petrol  145  42.8   \n2   5 Series  2016  16000    Automatic    62794   Diesel  160  51.4   \n3   1 Series  2017  12750    Automatic    26676   Diesel  145  72.4   \n4   7 Series  2014  14500    Automatic    39554   Diesel  160  50.4   \n\n   engineSize  \n0         2.0  \n1         2.0  \n2         3.0  \n3         1.5  \n4         3.0  ",
      "text/html": "<div>\n<style scoped>\n    .dataframe tbody tr th:only-of-type {\n        vertical-align: middle;\n    }\n\n    .dataframe tbody tr th {\n        vertical-align: top;\n    }\n\n    .dataframe thead th {\n        text-align: right;\n    }\n</style>\n<table border=\"1\" class=\"dataframe\">\n  <thead>\n    <tr style=\"text-align: right;\">\n      <th></th>\n      <th>model</th>\n      <th>year</th>\n      <th>price</th>\n      <th>transmission</th>\n      <th>mileage</th>\n      <th>fuelType</th>\n      <th>tax</th>\n      <th>mpg</th>\n      <th>engineSize</th>\n    </tr>\n  </thead>\n  <tbody>\n    <tr>\n      <th>0</th>\n      <td>5 Series</td>\n      <td>2014</td>\n      <td>11200</td>\n      <td>Automatic</td>\n      <td>67068</td>\n      <td>Diesel</td>\n      <td>125</td>\n      <td>57.6</td>\n      <td>2.0</td>\n    </tr>\n    <tr>\n      <th>1</th>\n      <td>6 Series</td>\n      <td>2018</td>\n      <td>27000</td>\n      <td>Automatic</td>\n      <td>14827</td>\n      <td>Petrol</td>\n      <td>145</td>\n      <td>42.8</td>\n      <td>2.0</td>\n    </tr>\n    <tr>\n      <th>2</th>\n      <td>5 Series</td>\n      <td>2016</td>\n      <td>16000</td>\n      <td>Automatic</td>\n      <td>62794</td>\n      <td>Diesel</td>\n      <td>160</td>\n      <td>51.4</td>\n      <td>3.0</td>\n    </tr>\n    <tr>\n      <th>3</th>\n      <td>1 Series</td>\n      <td>2017</td>\n      <td>12750</td>\n      <td>Automatic</td>\n      <td>26676</td>\n      <td>Diesel</td>\n      <td>145</td>\n      <td>72.4</td>\n      <td>1.5</td>\n    </tr>\n    <tr>\n      <th>4</th>\n      <td>7 Series</td>\n      <td>2014</td>\n      <td>14500</td>\n      <td>Automatic</td>\n      <td>39554</td>\n      <td>Diesel</td>\n      <td>160</td>\n      <td>50.4</td>\n      <td>3.0</td>\n    </tr>\n  </tbody>\n</table>\n</div>"
     },
     "execution_count": 98,
     "metadata": {},
     "output_type": "execute_result"
    }
   ],
   "source": [
    "df.head()"
   ],
   "metadata": {
    "collapsed": false,
    "pycharm": {
     "name": "#%%\n"
    }
   }
  },
  {
   "cell_type": "code",
   "execution_count": 99,
   "outputs": [
    {
     "data": {
      "text/plain": "(10781, 9)"
     },
     "execution_count": 99,
     "metadata": {},
     "output_type": "execute_result"
    }
   ],
   "source": [
    "df.shape"
   ],
   "metadata": {
    "collapsed": false,
    "pycharm": {
     "name": "#%%\n"
    }
   }
  },
  {
   "cell_type": "markdown",
   "source": [
    "## Обучающая и тестовая выборка (train and test)"
   ],
   "metadata": {
    "collapsed": false
   }
  },
  {
   "cell_type": "code",
   "execution_count": 100,
   "outputs": [],
   "source": [
    "from sklearn.model_selection import train_test_split"
   ],
   "metadata": {
    "collapsed": false,
    "pycharm": {
     "name": "#%%\n"
    }
   }
  },
  {
   "cell_type": "code",
   "execution_count": 101,
   "outputs": [],
   "source": [
    "# train, test = train_test_split(df, train_size=0.7)"
   ],
   "metadata": {
    "collapsed": false,
    "pycharm": {
     "name": "#%%\n"
    }
   }
  },
  {
   "cell_type": "code",
   "execution_count": 102,
   "outputs": [],
   "source": [
    "train, test = train_test_split(df, random_state=42, train_size=0.6)  # default train_size = 0.75"
   ],
   "metadata": {
    "collapsed": false,
    "pycharm": {
     "name": "#%%\n"
    }
   }
  },
  {
   "cell_type": "code",
   "execution_count": 103,
   "outputs": [
    {
     "data": {
      "text/plain": "(6468, 4313, 10781, 10781)"
     },
     "execution_count": 103,
     "metadata": {},
     "output_type": "execute_result"
    }
   ],
   "source": [
    "len(train), len(test), len(test + train), len(df)"
   ],
   "metadata": {
    "collapsed": false,
    "pycharm": {
     "name": "#%%\n"
    }
   }
  },
  {
   "cell_type": "code",
   "execution_count": 104,
   "outputs": [
    {
     "data": {
      "text/plain": "0.4000556534644282"
     },
     "execution_count": 104,
     "metadata": {},
     "output_type": "execute_result"
    }
   ],
   "source": [
    "len(test) / len(df)"
   ],
   "metadata": {
    "collapsed": false,
    "pycharm": {
     "name": "#%%\n"
    }
   }
  },
  {
   "cell_type": "markdown",
   "source": [
    "## Валидационная выборка"
   ],
   "metadata": {
    "collapsed": false,
    "pycharm": {
     "name": "#%% md\n"
    }
   }
  },
  {
   "cell_type": "markdown",
   "source": [
    "##### Для получения валидационной выборки нужно разбить тестовую часть пополам, на валидационную и тестовую"
   ],
   "metadata": {
    "collapsed": false,
    "pycharm": {
     "name": "#%% md\n"
    }
   }
  },
  {
   "cell_type": "code",
   "execution_count": 105,
   "outputs": [],
   "source": [
    "val, test = train_test_split(test, random_state=42, train_size=0.5)"
   ],
   "metadata": {
    "collapsed": false,
    "pycharm": {
     "name": "#%%\n"
    }
   }
  },
  {
   "cell_type": "code",
   "execution_count": 106,
   "outputs": [
    {
     "data": {
      "text/plain": "0.5999443465355718"
     },
     "execution_count": 106,
     "metadata": {},
     "output_type": "execute_result"
    }
   ],
   "source": [
    "len(train) / len(df)"
   ],
   "metadata": {
    "collapsed": false,
    "pycharm": {
     "name": "#%%\n"
    }
   }
  },
  {
   "cell_type": "code",
   "execution_count": 107,
   "outputs": [
    {
     "data": {
      "text/plain": "0.19998144884519062"
     },
     "execution_count": 107,
     "metadata": {},
     "output_type": "execute_result"
    }
   ],
   "source": [
    "len(val) / len(df)"
   ],
   "metadata": {
    "collapsed": false,
    "pycharm": {
     "name": "#%%\n"
    }
   }
  },
  {
   "cell_type": "code",
   "execution_count": 108,
   "outputs": [
    {
     "data": {
      "text/plain": "0.20007420461923756"
     },
     "execution_count": 108,
     "metadata": {},
     "output_type": "execute_result"
    }
   ],
   "source": [
    "len(test) / len(df)"
   ],
   "metadata": {
    "collapsed": false,
    "pycharm": {
     "name": "#%%\n"
    }
   }
  },
  {
   "cell_type": "markdown",
   "source": [
    "## Список фичей"
   ],
   "metadata": {
    "collapsed": false,
    "pycharm": {
     "name": "#%% md\n"
    }
   }
  },
  {
   "cell_type": "code",
   "execution_count": 109,
   "outputs": [
    {
     "data": {
      "text/plain": "Index(['model', 'year', 'price', 'transmission', 'mileage', 'fuelType', 'tax',\n       'mpg', 'engineSize'],\n      dtype='object')"
     },
     "execution_count": 109,
     "metadata": {},
     "output_type": "execute_result"
    }
   ],
   "source": [
    "train.columns"
   ],
   "metadata": {
    "collapsed": false,
    "pycharm": {
     "name": "#%%\n"
    }
   }
  },
  {
   "cell_type": "code",
   "execution_count": 110,
   "outputs": [
    {
     "data": {
      "text/plain": "          model  year  price transmission  mileage fuelType  tax   mpg  \\\n5133         X6  2015  25000    Semi-Auto    26100   Diesel  205  45.6   \n2121         X2  2019  31980    Automatic     4804   Petrol  145  34.0   \n6576         X2  2018  22995    Semi-Auto    24136   Petrol  145  38.7   \n8330   3 Series  2016  12999       Manual    52224   Diesel  125  62.8   \n3161         X3  2019  32980    Semi-Auto     1961   Diesel  150  54.3   \n\n      engineSize  \n5133         3.0  \n2121         2.0  \n6576         2.0  \n8330         2.0  \n3161         2.0  ",
      "text/html": "<div>\n<style scoped>\n    .dataframe tbody tr th:only-of-type {\n        vertical-align: middle;\n    }\n\n    .dataframe tbody tr th {\n        vertical-align: top;\n    }\n\n    .dataframe thead th {\n        text-align: right;\n    }\n</style>\n<table border=\"1\" class=\"dataframe\">\n  <thead>\n    <tr style=\"text-align: right;\">\n      <th></th>\n      <th>model</th>\n      <th>year</th>\n      <th>price</th>\n      <th>transmission</th>\n      <th>mileage</th>\n      <th>fuelType</th>\n      <th>tax</th>\n      <th>mpg</th>\n      <th>engineSize</th>\n    </tr>\n  </thead>\n  <tbody>\n    <tr>\n      <th>5133</th>\n      <td>X6</td>\n      <td>2015</td>\n      <td>25000</td>\n      <td>Semi-Auto</td>\n      <td>26100</td>\n      <td>Diesel</td>\n      <td>205</td>\n      <td>45.6</td>\n      <td>3.0</td>\n    </tr>\n    <tr>\n      <th>2121</th>\n      <td>X2</td>\n      <td>2019</td>\n      <td>31980</td>\n      <td>Automatic</td>\n      <td>4804</td>\n      <td>Petrol</td>\n      <td>145</td>\n      <td>34.0</td>\n      <td>2.0</td>\n    </tr>\n    <tr>\n      <th>6576</th>\n      <td>X2</td>\n      <td>2018</td>\n      <td>22995</td>\n      <td>Semi-Auto</td>\n      <td>24136</td>\n      <td>Petrol</td>\n      <td>145</td>\n      <td>38.7</td>\n      <td>2.0</td>\n    </tr>\n    <tr>\n      <th>8330</th>\n      <td>3 Series</td>\n      <td>2016</td>\n      <td>12999</td>\n      <td>Manual</td>\n      <td>52224</td>\n      <td>Diesel</td>\n      <td>125</td>\n      <td>62.8</td>\n      <td>2.0</td>\n    </tr>\n    <tr>\n      <th>3161</th>\n      <td>X3</td>\n      <td>2019</td>\n      <td>32980</td>\n      <td>Semi-Auto</td>\n      <td>1961</td>\n      <td>Diesel</td>\n      <td>150</td>\n      <td>54.3</td>\n      <td>2.0</td>\n    </tr>\n  </tbody>\n</table>\n</div>"
     },
     "execution_count": 110,
     "metadata": {},
     "output_type": "execute_result"
    }
   ],
   "source": [
    "train.head()"
   ],
   "metadata": {
    "collapsed": false,
    "pycharm": {
     "name": "#%%\n"
    }
   }
  },
  {
   "cell_type": "markdown",
   "source": [
    "## Принцип преобразования категориальных фичей"
   ],
   "metadata": {
    "collapsed": false,
    "pycharm": {
     "name": "#%% md\n"
    }
   }
  },
  {
   "cell_type": "markdown",
   "source": [
    "##### Метод OneHotEncoding"
   ],
   "metadata": {
    "collapsed": false,
    "pycharm": {
     "name": "#%% md\n"
    }
   }
  },
  {
   "cell_type": "code",
   "execution_count": 111,
   "outputs": [
    {
     "data": {
      "text/plain": "5133    Semi-Auto\n2121    Automatic\n6576    Semi-Auto\n8330       Manual\n3161    Semi-Auto\n          ...    \n5734    Semi-Auto\n5191    Semi-Auto\n5390    Semi-Auto\n860     Semi-Auto\n7270    Automatic\nName: transmission, Length: 6468, dtype: object"
     },
     "execution_count": 111,
     "metadata": {},
     "output_type": "execute_result"
    }
   ],
   "source": [
    "train.transmission"
   ],
   "metadata": {
    "collapsed": false,
    "pycharm": {
     "name": "#%%\n"
    }
   }
  },
  {
   "cell_type": "code",
   "execution_count": 112,
   "outputs": [
    {
     "data": {
      "text/plain": "      Automatic  Manual  Semi-Auto\n5133          0       0          1\n2121          1       0          0\n6576          0       0          1\n8330          0       1          0\n3161          0       0          1\n...         ...     ...        ...\n5734          0       0          1\n5191          0       0          1\n5390          0       0          1\n860           0       0          1\n7270          1       0          0\n\n[6468 rows x 3 columns]",
      "text/html": "<div>\n<style scoped>\n    .dataframe tbody tr th:only-of-type {\n        vertical-align: middle;\n    }\n\n    .dataframe tbody tr th {\n        vertical-align: top;\n    }\n\n    .dataframe thead th {\n        text-align: right;\n    }\n</style>\n<table border=\"1\" class=\"dataframe\">\n  <thead>\n    <tr style=\"text-align: right;\">\n      <th></th>\n      <th>Automatic</th>\n      <th>Manual</th>\n      <th>Semi-Auto</th>\n    </tr>\n  </thead>\n  <tbody>\n    <tr>\n      <th>5133</th>\n      <td>0</td>\n      <td>0</td>\n      <td>1</td>\n    </tr>\n    <tr>\n      <th>2121</th>\n      <td>1</td>\n      <td>0</td>\n      <td>0</td>\n    </tr>\n    <tr>\n      <th>6576</th>\n      <td>0</td>\n      <td>0</td>\n      <td>1</td>\n    </tr>\n    <tr>\n      <th>8330</th>\n      <td>0</td>\n      <td>1</td>\n      <td>0</td>\n    </tr>\n    <tr>\n      <th>3161</th>\n      <td>0</td>\n      <td>0</td>\n      <td>1</td>\n    </tr>\n    <tr>\n      <th>...</th>\n      <td>...</td>\n      <td>...</td>\n      <td>...</td>\n    </tr>\n    <tr>\n      <th>5734</th>\n      <td>0</td>\n      <td>0</td>\n      <td>1</td>\n    </tr>\n    <tr>\n      <th>5191</th>\n      <td>0</td>\n      <td>0</td>\n      <td>1</td>\n    </tr>\n    <tr>\n      <th>5390</th>\n      <td>0</td>\n      <td>0</td>\n      <td>1</td>\n    </tr>\n    <tr>\n      <th>860</th>\n      <td>0</td>\n      <td>0</td>\n      <td>1</td>\n    </tr>\n    <tr>\n      <th>7270</th>\n      <td>1</td>\n      <td>0</td>\n      <td>0</td>\n    </tr>\n  </tbody>\n</table>\n<p>6468 rows × 3 columns</p>\n</div>"
     },
     "execution_count": 112,
     "metadata": {},
     "output_type": "execute_result"
    }
   ],
   "source": [
    "pd.get_dummies(train['transmission'])"
   ],
   "metadata": {
    "collapsed": false,
    "pycharm": {
     "name": "#%%\n"
    }
   }
  },
  {
   "cell_type": "markdown",
   "source": [
    "## Первый запуск Кэтбуста"
   ],
   "metadata": {
    "collapsed": false,
    "pycharm": {
     "name": "#%% md\n"
    }
   }
  },
  {
   "cell_type": "code",
   "execution_count": 113,
   "outputs": [],
   "source": [
    "from catboost import CatBoostRegressor"
   ],
   "metadata": {
    "collapsed": false,
    "pycharm": {
     "name": "#%%\n"
    }
   }
  },
  {
   "cell_type": "markdown",
   "source": [
    "##### В первом запуске катбуста, поставим те же фичи, что были в хьюман лёрнинг и сравним результаты"
   ],
   "metadata": {
    "collapsed": false,
    "pycharm": {
     "name": "#%% md\n"
    }
   }
  },
  {
   "cell_type": "code",
   "execution_count": 114,
   "outputs": [],
   "source": [
    "all_features = ['model', 'year', 'transmission', 'mileage', 'fuelType', 'tax',\n",
    "     'mpg', 'engineSize']\n",
    "\n",
    "X = ['year', 'transmission', 'engineSize']\n",
    "\n",
    "cat_features = ['transmission']\n",
    "\n",
    "y = ['price']"
   ],
   "metadata": {
    "collapsed": false,
    "pycharm": {
     "name": "#%%\n"
    }
   }
  },
  {
   "cell_type": "markdown",
   "source": [
    "##### Catboost support metrics\n",
    "https://catboost.ai/en/docs/references/custom-metric__supported-metrics"
   ],
   "metadata": {
    "collapsed": false,
    "pycharm": {
     "name": "#%% md\n"
    }
   }
  },
  {
   "cell_type": "markdown",
   "source": [
    "##### Создаём модель и настраиваем её параметры"
   ],
   "metadata": {
    "collapsed": false,
    "pycharm": {
     "name": "#%% md\n"
    }
   }
  },
  {
   "cell_type": "code",
   "execution_count": 115,
   "outputs": [],
   "source": [
    "model = CatBoostRegressor(cat_features=cat_features,\n",
    "                          eval_metric='MAPE',\n",
    "                          random_state=42,\n",
    "                          verbose=100)\n",
    "# verbose - выводить каждую n-ую итерацию"
   ],
   "metadata": {
    "collapsed": false,
    "pycharm": {
     "name": "#%%\n"
    }
   }
  },
  {
   "cell_type": "code",
   "execution_count": 116,
   "outputs": [
    {
     "data": {
      "text/plain": "      year transmission  engineSize\n5133  2015    Semi-Auto         3.0\n2121  2019    Automatic         2.0\n6576  2018    Semi-Auto         2.0\n8330  2016       Manual         2.0\n3161  2019    Semi-Auto         2.0",
      "text/html": "<div>\n<style scoped>\n    .dataframe tbody tr th:only-of-type {\n        vertical-align: middle;\n    }\n\n    .dataframe tbody tr th {\n        vertical-align: top;\n    }\n\n    .dataframe thead th {\n        text-align: right;\n    }\n</style>\n<table border=\"1\" class=\"dataframe\">\n  <thead>\n    <tr style=\"text-align: right;\">\n      <th></th>\n      <th>year</th>\n      <th>transmission</th>\n      <th>engineSize</th>\n    </tr>\n  </thead>\n  <tbody>\n    <tr>\n      <th>5133</th>\n      <td>2015</td>\n      <td>Semi-Auto</td>\n      <td>3.0</td>\n    </tr>\n    <tr>\n      <th>2121</th>\n      <td>2019</td>\n      <td>Automatic</td>\n      <td>2.0</td>\n    </tr>\n    <tr>\n      <th>6576</th>\n      <td>2018</td>\n      <td>Semi-Auto</td>\n      <td>2.0</td>\n    </tr>\n    <tr>\n      <th>8330</th>\n      <td>2016</td>\n      <td>Manual</td>\n      <td>2.0</td>\n    </tr>\n    <tr>\n      <th>3161</th>\n      <td>2019</td>\n      <td>Semi-Auto</td>\n      <td>2.0</td>\n    </tr>\n  </tbody>\n</table>\n</div>"
     },
     "execution_count": 116,
     "metadata": {},
     "output_type": "execute_result"
    }
   ],
   "source": [
    "train[X].head()"
   ],
   "metadata": {
    "collapsed": false,
    "pycharm": {
     "name": "#%%\n"
    }
   }
  },
  {
   "cell_type": "code",
   "execution_count": 117,
   "outputs": [
    {
     "data": {
      "text/plain": "      price\n5133  25000\n2121  31980\n6576  22995\n8330  12999\n3161  32980",
      "text/html": "<div>\n<style scoped>\n    .dataframe tbody tr th:only-of-type {\n        vertical-align: middle;\n    }\n\n    .dataframe tbody tr th {\n        vertical-align: top;\n    }\n\n    .dataframe thead th {\n        text-align: right;\n    }\n</style>\n<table border=\"1\" class=\"dataframe\">\n  <thead>\n    <tr style=\"text-align: right;\">\n      <th></th>\n      <th>price</th>\n    </tr>\n  </thead>\n  <tbody>\n    <tr>\n      <th>5133</th>\n      <td>25000</td>\n    </tr>\n    <tr>\n      <th>2121</th>\n      <td>31980</td>\n    </tr>\n    <tr>\n      <th>6576</th>\n      <td>22995</td>\n    </tr>\n    <tr>\n      <th>8330</th>\n      <td>12999</td>\n    </tr>\n    <tr>\n      <th>3161</th>\n      <td>32980</td>\n    </tr>\n  </tbody>\n</table>\n</div>"
     },
     "execution_count": 117,
     "metadata": {},
     "output_type": "execute_result"
    }
   ],
   "source": [
    "train[y].head()"
   ],
   "metadata": {
    "collapsed": false,
    "pycharm": {
     "name": "#%%\n"
    }
   }
  },
  {
   "cell_type": "markdown",
   "source": [
    "##### Обучение модели"
   ],
   "metadata": {
    "collapsed": false,
    "pycharm": {
     "name": "#%% md\n"
    }
   }
  },
  {
   "cell_type": "code",
   "execution_count": 118,
   "outputs": [
    {
     "name": "stdout",
     "output_type": "stream",
     "text": [
      "Learning rate set to 0.068263\n",
      "0:\tlearn: 0.4603375\ttest: 0.4555509\tbest: 0.4555509 (0)\ttotal: 18.1ms\tremaining: 18.1s\n",
      "100:\tlearn: 0.1546393\ttest: 0.1529687\tbest: 0.1529687 (100)\ttotal: 1.7s\tremaining: 15.1s\n",
      "200:\tlearn: 0.1528213\ttest: 0.1517332\tbest: 0.1517332 (200)\ttotal: 3.15s\tremaining: 12.5s\n",
      "300:\tlearn: 0.1517532\ttest: 0.1514386\tbest: 0.1514000 (288)\ttotal: 4.75s\tremaining: 11s\n",
      "400:\tlearn: 0.1509722\ttest: 0.1515508\tbest: 0.1514000 (288)\ttotal: 6.33s\tremaining: 9.46s\n",
      "500:\tlearn: 0.1502967\ttest: 0.1516166\tbest: 0.1514000 (288)\ttotal: 7.96s\tremaining: 7.93s\n",
      "600:\tlearn: 0.1499412\ttest: 0.1516849\tbest: 0.1514000 (288)\ttotal: 9.58s\tremaining: 6.36s\n",
      "700:\tlearn: 0.1494768\ttest: 0.1516928\tbest: 0.1514000 (288)\ttotal: 11.2s\tremaining: 4.79s\n",
      "800:\tlearn: 0.1490851\ttest: 0.1518297\tbest: 0.1514000 (288)\ttotal: 12.8s\tremaining: 3.18s\n",
      "900:\tlearn: 0.1487173\ttest: 0.1519119\tbest: 0.1514000 (288)\ttotal: 14.4s\tremaining: 1.58s\n",
      "999:\tlearn: 0.1483869\ttest: 0.1519628\tbest: 0.1514000 (288)\ttotal: 15.9s\tremaining: 0us\n",
      "\n",
      "bestTest = 0.1514000297\n",
      "bestIteration = 288\n",
      "\n",
      "Shrink model to first 289 iterations.\n"
     ]
    },
    {
     "data": {
      "text/plain": "<catboost.core.CatBoostRegressor at 0x257a8df00d0>"
     },
     "execution_count": 118,
     "metadata": {},
     "output_type": "execute_result"
    }
   ],
   "source": [
    "model.fit(train[X], train[y], eval_set=(val[X], val[y]))"
   ],
   "metadata": {
    "collapsed": false,
    "pycharm": {
     "name": "#%%\n"
    }
   }
  },
  {
   "cell_type": "markdown",
   "source": [
    "##### Ошибка катбуста MAPE: 0.15118\n",
    "##### Моя ошибка в human learning на том же пресете (год, двигатель, трансмиссия) MAPE: 0.16037"
   ],
   "metadata": {
    "collapsed": false,
    "pycharm": {
     "name": "#%% md\n"
    }
   }
  },
  {
   "cell_type": "markdown",
   "source": [
    "##### Для подтверждения победы машинного обучения над человеческим проверим на тестовой выборке (уже проверили на валидационной)"
   ],
   "metadata": {
    "collapsed": false,
    "pycharm": {
     "name": "#%% md\n"
    }
   }
  },
  {
   "cell_type": "code",
   "execution_count": 119,
   "outputs": [
    {
     "data": {
      "text/plain": "array([45436.28801924, 21738.83525716, 16205.32627896, ...,\n       28444.11570854, 16205.32627896, 27824.78614511])"
     },
     "execution_count": 119,
     "metadata": {},
     "output_type": "execute_result"
    }
   ],
   "source": [
    "model.predict(test[X])"
   ],
   "metadata": {
    "collapsed": false,
    "pycharm": {
     "name": "#%%\n"
    }
   }
  },
  {
   "cell_type": "code",
   "execution_count": 120,
   "outputs": [],
   "source": [
    "test['price_pred'] = model.predict(test[X])"
   ],
   "metadata": {
    "collapsed": false,
    "pycharm": {
     "name": "#%%\n"
    }
   }
  },
  {
   "cell_type": "code",
   "execution_count": 121,
   "outputs": [
    {
     "data": {
      "text/plain": "          model  year  price transmission  mileage fuelType  tax   mpg  \\\n4984         X6  2019  52990    Semi-Auto     3086   Diesel  145  34.9   \n4880         X1  2018  24081    Semi-Auto    13245   Diesel  150  60.1   \n9132   1 Series  2016  12999    Automatic    68949   Petrol  200  43.5   \n6451   1 Series  2020  11995    Semi-Auto       10   Petrol  150  34.5   \n7199   3 Series  2020  29875    Semi-Auto      150   Petrol  145  42.2   \n\n      engineSize    price_pred  \n4984         3.0  45436.288019  \n4880         2.0  21738.835257  \n9132         2.0  16205.326279  \n6451         2.0  32088.707415  \n7199         2.0  32088.707415  ",
      "text/html": "<div>\n<style scoped>\n    .dataframe tbody tr th:only-of-type {\n        vertical-align: middle;\n    }\n\n    .dataframe tbody tr th {\n        vertical-align: top;\n    }\n\n    .dataframe thead th {\n        text-align: right;\n    }\n</style>\n<table border=\"1\" class=\"dataframe\">\n  <thead>\n    <tr style=\"text-align: right;\">\n      <th></th>\n      <th>model</th>\n      <th>year</th>\n      <th>price</th>\n      <th>transmission</th>\n      <th>mileage</th>\n      <th>fuelType</th>\n      <th>tax</th>\n      <th>mpg</th>\n      <th>engineSize</th>\n      <th>price_pred</th>\n    </tr>\n  </thead>\n  <tbody>\n    <tr>\n      <th>4984</th>\n      <td>X6</td>\n      <td>2019</td>\n      <td>52990</td>\n      <td>Semi-Auto</td>\n      <td>3086</td>\n      <td>Diesel</td>\n      <td>145</td>\n      <td>34.9</td>\n      <td>3.0</td>\n      <td>45436.288019</td>\n    </tr>\n    <tr>\n      <th>4880</th>\n      <td>X1</td>\n      <td>2018</td>\n      <td>24081</td>\n      <td>Semi-Auto</td>\n      <td>13245</td>\n      <td>Diesel</td>\n      <td>150</td>\n      <td>60.1</td>\n      <td>2.0</td>\n      <td>21738.835257</td>\n    </tr>\n    <tr>\n      <th>9132</th>\n      <td>1 Series</td>\n      <td>2016</td>\n      <td>12999</td>\n      <td>Automatic</td>\n      <td>68949</td>\n      <td>Petrol</td>\n      <td>200</td>\n      <td>43.5</td>\n      <td>2.0</td>\n      <td>16205.326279</td>\n    </tr>\n    <tr>\n      <th>6451</th>\n      <td>1 Series</td>\n      <td>2020</td>\n      <td>11995</td>\n      <td>Semi-Auto</td>\n      <td>10</td>\n      <td>Petrol</td>\n      <td>150</td>\n      <td>34.5</td>\n      <td>2.0</td>\n      <td>32088.707415</td>\n    </tr>\n    <tr>\n      <th>7199</th>\n      <td>3 Series</td>\n      <td>2020</td>\n      <td>29875</td>\n      <td>Semi-Auto</td>\n      <td>150</td>\n      <td>Petrol</td>\n      <td>145</td>\n      <td>42.2</td>\n      <td>2.0</td>\n      <td>32088.707415</td>\n    </tr>\n  </tbody>\n</table>\n</div>"
     },
     "execution_count": 121,
     "metadata": {},
     "output_type": "execute_result"
    }
   ],
   "source": [
    "test.head()"
   ],
   "metadata": {
    "collapsed": false,
    "pycharm": {
     "name": "#%%\n"
    }
   }
  },
  {
   "cell_type": "markdown",
   "source": [
    "##### Импортируем библиотеку для расчёта ошибок"
   ],
   "metadata": {
    "collapsed": false,
    "pycharm": {
     "name": "#%% md\n"
    }
   }
  },
  {
   "cell_type": "code",
   "execution_count": 122,
   "outputs": [],
   "source": [
    "from sklearn.metrics import  mean_absolute_error, mean_absolute_percentage_error"
   ],
   "metadata": {
    "collapsed": false,
    "pycharm": {
     "name": "#%%\n"
    }
   }
  },
  {
   "cell_type": "code",
   "execution_count": 123,
   "outputs": [],
   "source": [
    "def error(y_true, y_pred):\n",
    "    print(mean_absolute_error(y_true, y_pred))\n",
    "    print(mean_absolute_percentage_error(y_true, y_pred))"
   ],
   "metadata": {
    "collapsed": false,
    "pycharm": {
     "name": "#%%\n"
    }
   }
  },
  {
   "cell_type": "code",
   "execution_count": 124,
   "outputs": [
    {
     "name": "stdout",
     "output_type": "stream",
     "text": [
      "3366.679482256595\n",
      "0.15363582890850797\n"
     ]
    }
   ],
   "source": [
    "error(test.price, test.price_pred)"
   ],
   "metadata": {
    "collapsed": false,
    "pycharm": {
     "name": "#%%\n"
    }
   }
  },
  {
   "cell_type": "markdown",
   "source": [
    "#### Катбуст выдал лучший результат против Human learning:\n",
    "#### catboost MAPE: 0.15166607293455014 | Human learning MAPE: 0.16037327734163415\n",
    "#### catboost MAE: 3345.7246072100406   | Human learning MAE: 3777.5172798216277"
   ],
   "metadata": {
    "collapsed": false,
    "pycharm": {
     "name": "#%% md\n"
    }
   }
  },
  {
   "cell_type": "markdown",
   "source": [
    "## Обучение на всех фичах"
   ],
   "metadata": {
    "collapsed": false,
    "pycharm": {
     "name": "#%% md\n"
    }
   }
  },
  {
   "cell_type": "code",
   "execution_count": 125,
   "outputs": [],
   "source": [
    "X = ['model', 'year', 'transmission', 'mileage', 'fuelType', 'tax',\n",
    "       'mpg', 'engineSize']\n",
    "\n",
    "cat_features = ['model', 'transmission', 'fuelType']\n",
    "\n",
    "y = ['price']"
   ],
   "metadata": {
    "collapsed": false,
    "pycharm": {
     "name": "#%%\n"
    }
   }
  },
  {
   "cell_type": "code",
   "execution_count": 126,
   "outputs": [],
   "source": [
    "parameters = {'cat_features': cat_features,\n",
    "              'eval_metric': 'MAPE',\n",
    "              'random_seed': 42,\n",
    "              'verbose':100}"
   ],
   "metadata": {
    "collapsed": false,
    "pycharm": {
     "name": "#%%\n"
    }
   }
  },
  {
   "cell_type": "code",
   "execution_count": 127,
   "outputs": [],
   "source": [
    "model = CatBoostRegressor(**parameters)"
   ],
   "metadata": {
    "collapsed": false,
    "pycharm": {
     "name": "#%%\n"
    }
   }
  },
  {
   "cell_type": "code",
   "execution_count": 128,
   "outputs": [
    {
     "name": "stdout",
     "output_type": "stream",
     "text": [
      "Learning rate set to 0.068263\n",
      "0:\tlearn: 0.4607438\ttest: 0.4563750\tbest: 0.4563750 (0)\ttotal: 19.2ms\tremaining: 19.2s\n",
      "100:\tlearn: 0.0904302\ttest: 0.0896388\tbest: 0.0896388 (100)\ttotal: 1.78s\tremaining: 15.8s\n",
      "200:\tlearn: 0.0781784\ttest: 0.0803125\tbest: 0.0803125 (200)\ttotal: 3.55s\tremaining: 14.1s\n",
      "300:\tlearn: 0.0729925\ttest: 0.0764506\tbest: 0.0764506 (300)\ttotal: 5.43s\tremaining: 12.6s\n",
      "400:\tlearn: 0.0695552\ttest: 0.0744676\tbest: 0.0744553 (399)\ttotal: 7.31s\tremaining: 10.9s\n",
      "500:\tlearn: 0.0670683\ttest: 0.0732827\tbest: 0.0732827 (500)\ttotal: 9.2s\tremaining: 9.16s\n",
      "600:\tlearn: 0.0652835\ttest: 0.0726170\tbest: 0.0726128 (597)\ttotal: 11s\tremaining: 7.28s\n",
      "700:\tlearn: 0.0636320\ttest: 0.0720622\tbest: 0.0720500 (695)\ttotal: 12.7s\tremaining: 5.43s\n",
      "800:\tlearn: 0.0623408\ttest: 0.0714586\tbest: 0.0714329 (794)\ttotal: 14.7s\tremaining: 3.64s\n",
      "900:\tlearn: 0.0611487\ttest: 0.0711564\tbest: 0.0711321 (898)\ttotal: 16.4s\tremaining: 1.81s\n",
      "999:\tlearn: 0.0601407\ttest: 0.0708439\tbest: 0.0708403 (998)\ttotal: 18.2s\tremaining: 0us\n",
      "\n",
      "bestTest = 0.07084025495\n",
      "bestIteration = 998\n",
      "\n",
      "Shrink model to first 999 iterations.\n"
     ]
    },
    {
     "data": {
      "text/plain": "<catboost.core.CatBoostRegressor at 0x257a8c65550>"
     },
     "execution_count": 128,
     "metadata": {},
     "output_type": "execute_result"
    }
   ],
   "source": [
    "model.fit(train[X],train[y],eval_set=(val[X],val[y]))"
   ],
   "metadata": {
    "collapsed": false,
    "pycharm": {
     "name": "#%%\n"
    }
   }
  },
  {
   "cell_type": "markdown",
   "source": [
    "##### На 3 фичах в Human learning лучший результат был 16.03%, а в Catboost на всех фичах 7.08%"
   ],
   "metadata": {
    "collapsed": false,
    "pycharm": {
     "name": "#%% md\n"
    }
   }
  },
  {
   "cell_type": "markdown",
   "source": [
    "##### Сделаем предикт на тесте"
   ],
   "metadata": {
    "collapsed": false,
    "pycharm": {
     "name": "#%% md\n"
    }
   }
  },
  {
   "cell_type": "code",
   "execution_count": 129,
   "outputs": [
    {
     "data": {
      "text/plain": "array([57417.53972205, 22003.56027391, 13461.40876567, ...,\n       30553.87789981, 13818.32099473, 24849.36058457])"
     },
     "execution_count": 129,
     "metadata": {},
     "output_type": "execute_result"
    }
   ],
   "source": [
    "model.predict(test[X])"
   ],
   "metadata": {
    "collapsed": false,
    "pycharm": {
     "name": "#%%\n"
    }
   }
  },
  {
   "cell_type": "code",
   "execution_count": 130,
   "outputs": [],
   "source": [
    "test['price_pred_all'] = model.predict(test[X])"
   ],
   "metadata": {
    "collapsed": false,
    "pycharm": {
     "name": "#%%\n"
    }
   }
  },
  {
   "cell_type": "code",
   "execution_count": 131,
   "outputs": [
    {
     "data": {
      "text/plain": "          model  year  price transmission  mileage fuelType  tax   mpg  \\\n4984         X6  2019  52990    Semi-Auto     3086   Diesel  145  34.9   \n4880         X1  2018  24081    Semi-Auto    13245   Diesel  150  60.1   \n9132   1 Series  2016  12999    Automatic    68949   Petrol  200  43.5   \n6451   1 Series  2020  11995    Semi-Auto       10   Petrol  150  34.5   \n7199   3 Series  2020  29875    Semi-Auto      150   Petrol  145  42.2   \n\n      engineSize    price_pred  price_pred_all  \n4984         3.0  45436.288019    57417.539722  \n4880         2.0  21738.835257    22003.560274  \n9132         2.0  16205.326279    13461.408766  \n6451         2.0  32088.707415    32149.002131  \n7199         2.0  32088.707415    35100.139852  ",
      "text/html": "<div>\n<style scoped>\n    .dataframe tbody tr th:only-of-type {\n        vertical-align: middle;\n    }\n\n    .dataframe tbody tr th {\n        vertical-align: top;\n    }\n\n    .dataframe thead th {\n        text-align: right;\n    }\n</style>\n<table border=\"1\" class=\"dataframe\">\n  <thead>\n    <tr style=\"text-align: right;\">\n      <th></th>\n      <th>model</th>\n      <th>year</th>\n      <th>price</th>\n      <th>transmission</th>\n      <th>mileage</th>\n      <th>fuelType</th>\n      <th>tax</th>\n      <th>mpg</th>\n      <th>engineSize</th>\n      <th>price_pred</th>\n      <th>price_pred_all</th>\n    </tr>\n  </thead>\n  <tbody>\n    <tr>\n      <th>4984</th>\n      <td>X6</td>\n      <td>2019</td>\n      <td>52990</td>\n      <td>Semi-Auto</td>\n      <td>3086</td>\n      <td>Diesel</td>\n      <td>145</td>\n      <td>34.9</td>\n      <td>3.0</td>\n      <td>45436.288019</td>\n      <td>57417.539722</td>\n    </tr>\n    <tr>\n      <th>4880</th>\n      <td>X1</td>\n      <td>2018</td>\n      <td>24081</td>\n      <td>Semi-Auto</td>\n      <td>13245</td>\n      <td>Diesel</td>\n      <td>150</td>\n      <td>60.1</td>\n      <td>2.0</td>\n      <td>21738.835257</td>\n      <td>22003.560274</td>\n    </tr>\n    <tr>\n      <th>9132</th>\n      <td>1 Series</td>\n      <td>2016</td>\n      <td>12999</td>\n      <td>Automatic</td>\n      <td>68949</td>\n      <td>Petrol</td>\n      <td>200</td>\n      <td>43.5</td>\n      <td>2.0</td>\n      <td>16205.326279</td>\n      <td>13461.408766</td>\n    </tr>\n    <tr>\n      <th>6451</th>\n      <td>1 Series</td>\n      <td>2020</td>\n      <td>11995</td>\n      <td>Semi-Auto</td>\n      <td>10</td>\n      <td>Petrol</td>\n      <td>150</td>\n      <td>34.5</td>\n      <td>2.0</td>\n      <td>32088.707415</td>\n      <td>32149.002131</td>\n    </tr>\n    <tr>\n      <th>7199</th>\n      <td>3 Series</td>\n      <td>2020</td>\n      <td>29875</td>\n      <td>Semi-Auto</td>\n      <td>150</td>\n      <td>Petrol</td>\n      <td>145</td>\n      <td>42.2</td>\n      <td>2.0</td>\n      <td>32088.707415</td>\n      <td>35100.139852</td>\n    </tr>\n  </tbody>\n</table>\n</div>"
     },
     "execution_count": 131,
     "metadata": {},
     "output_type": "execute_result"
    }
   ],
   "source": [
    "test.head()"
   ],
   "metadata": {
    "collapsed": false,
    "pycharm": {
     "name": "#%%\n"
    }
   }
  },
  {
   "cell_type": "code",
   "execution_count": 132,
   "outputs": [
    {
     "name": "stdout",
     "output_type": "stream",
     "text": [
      "1556.5378327680894\n",
      "0.07367840910148211\n"
     ]
    }
   ],
   "source": [
    "error(test.price, test.price_pred_all)"
   ],
   "metadata": {
    "collapsed": false,
    "pycharm": {
     "name": "#%%\n"
    }
   }
  },
  {
   "cell_type": "markdown",
   "source": [
    "### НА всех фичах ошибка 7.36% в catboost"
   ],
   "metadata": {
    "collapsed": false,
    "pycharm": {
     "name": "#%% md\n"
    }
   }
  },
  {
   "cell_type": "markdown",
   "source": [
    "## Количество итераций и learning rate"
   ],
   "metadata": {
    "collapsed": false,
    "pycharm": {
     "name": "#%% md\n"
    }
   }
  },
  {
   "cell_type": "markdown",
   "source": [
    "##### Желательно, чтобы лучший результат достигался ближе к концу обучения, для более тщательного обучения, но если лучший результат приходится, на одну из последних итераций, то можно увеличить learning rate\n",
    "##### Можно уменьшить learning rate, что бы модель училась не так быстро\n",
    "##### НА 3 фичах:"
   ],
   "metadata": {
    "collapsed": false,
    "pycharm": {
     "name": "#%% md\n"
    }
   }
  },
  {
   "cell_type": "code",
   "execution_count": 139,
   "outputs": [],
   "source": [
    "X = ['year', 'transmission', 'engineSize']\n",
    "\n",
    "cat_features = ['transmission']\n",
    "\n",
    "y = ['price']"
   ],
   "metadata": {
    "collapsed": false,
    "pycharm": {
     "name": "#%%\n"
    }
   }
  },
  {
   "cell_type": "code",
   "execution_count": 137,
   "outputs": [],
   "source": [
    "model = CatBoostRegressor(cat_features=cat_features,\n",
    "                          learning_rate=0.03,\n",
    "                          eval_metric='MAPE',\n",
    "                          random_state=42,\n",
    "                          verbose=100)\n",
    "# verbose - выводить каждую n-ую итерацию"
   ],
   "metadata": {
    "collapsed": false,
    "pycharm": {
     "name": "#%%\n"
    }
   }
  },
  {
   "cell_type": "code",
   "execution_count": 138,
   "outputs": [
    {
     "name": "stdout",
     "output_type": "stream",
     "text": [
      "0:\tlearn: 0.4746987\ttest: 0.4699730\tbest: 0.4699730 (0)\ttotal: 23.5ms\tremaining: 23.5s\n",
      "100:\tlearn: 0.1681230\ttest: 0.1638970\tbest: 0.1638970 (100)\ttotal: 1.84s\tremaining: 16.4s\n",
      "200:\tlearn: 0.1561398\ttest: 0.1538311\tbest: 0.1538311 (200)\ttotal: 3.31s\tremaining: 13.2s\n",
      "300:\tlearn: 0.1543096\ttest: 0.1525317\tbest: 0.1525309 (299)\ttotal: 4.67s\tremaining: 10.8s\n",
      "400:\tlearn: 0.1534465\ttest: 0.1519221\tbest: 0.1519198 (397)\ttotal: 6.16s\tremaining: 9.21s\n",
      "500:\tlearn: 0.1527824\ttest: 0.1516330\tbest: 0.1516164 (480)\ttotal: 7.79s\tremaining: 7.75s\n",
      "600:\tlearn: 0.1522590\ttest: 0.1514284\tbest: 0.1514284 (600)\ttotal: 9.4s\tremaining: 6.24s\n",
      "700:\tlearn: 0.1518052\ttest: 0.1513704\tbest: 0.1513673 (689)\ttotal: 11s\tremaining: 4.7s\n",
      "800:\tlearn: 0.1514495\ttest: 0.1513967\tbest: 0.1513651 (703)\ttotal: 12.6s\tremaining: 3.13s\n",
      "900:\tlearn: 0.1510958\ttest: 0.1513657\tbest: 0.1513489 (873)\ttotal: 14.3s\tremaining: 1.57s\n",
      "999:\tlearn: 0.1508297\ttest: 0.1513297\tbest: 0.1513168 (992)\ttotal: 15.9s\tremaining: 0us\n",
      "\n",
      "bestTest = 0.1513167711\n",
      "bestIteration = 992\n",
      "\n",
      "Shrink model to first 993 iterations.\n"
     ]
    },
    {
     "data": {
      "text/plain": "<catboost.core.CatBoostRegressor at 0x257a8c9f410>"
     },
     "execution_count": 138,
     "metadata": {},
     "output_type": "execute_result"
    }
   ],
   "source": [
    "model.fit(train[X], train[y], eval_set=(val[X], val[y]))"
   ],
   "metadata": {
    "collapsed": false,
    "pycharm": {
     "name": "#%%\n"
    }
   }
  },
  {
   "cell_type": "markdown",
   "source": [
    "##### На всех фичах:"
   ],
   "metadata": {
    "collapsed": false,
    "pycharm": {
     "name": "#%% md\n"
    }
   }
  },
  {
   "cell_type": "code",
   "execution_count": 144,
   "outputs": [],
   "source": [
    "X = ['model', 'year', 'transmission', 'mileage', 'fuelType', 'tax',\n",
    "       'mpg', 'engineSize']\n",
    "\n",
    "cat_features = ['model', 'transmission', 'fuelType']\n",
    "\n",
    "y = ['price']"
   ],
   "metadata": {
    "collapsed": false,
    "pycharm": {
     "name": "#%%\n"
    }
   }
  },
  {
   "cell_type": "code",
   "execution_count": 148,
   "outputs": [],
   "source": [
    "parameters = {'cat_features': cat_features,\n",
    "              'learning_rate': 0.075,\n",
    "              'eval_metric': 'MAPE',\n",
    "              'random_seed': 42,\n",
    "              'verbose':100}"
   ],
   "metadata": {
    "collapsed": false,
    "pycharm": {
     "name": "#%%\n"
    }
   }
  },
  {
   "cell_type": "code",
   "execution_count": 149,
   "outputs": [],
   "source": [
    "model = CatBoostRegressor(**parameters)"
   ],
   "metadata": {
    "collapsed": false,
    "pycharm": {
     "name": "#%%\n"
    }
   }
  },
  {
   "cell_type": "code",
   "execution_count": 150,
   "outputs": [
    {
     "name": "stdout",
     "output_type": "stream",
     "text": [
      "0:\tlearn: 0.4582738\ttest: 0.4539380\tbest: 0.4539380 (0)\ttotal: 18.2ms\tremaining: 18.2s\n",
      "100:\tlearn: 0.0876480\ttest: 0.0862924\tbest: 0.0862924 (100)\ttotal: 1.91s\tremaining: 17s\n",
      "200:\tlearn: 0.0773759\ttest: 0.0790647\tbest: 0.0790404 (198)\ttotal: 3.7s\tremaining: 14.7s\n",
      "300:\tlearn: 0.0719070\ttest: 0.0753211\tbest: 0.0753211 (300)\ttotal: 5.54s\tremaining: 12.9s\n",
      "400:\tlearn: 0.0687633\ttest: 0.0735751\tbest: 0.0735751 (400)\ttotal: 7.38s\tremaining: 11s\n",
      "500:\tlearn: 0.0664724\ttest: 0.0725579\tbest: 0.0725579 (500)\ttotal: 9.21s\tremaining: 9.17s\n",
      "600:\tlearn: 0.0645872\ttest: 0.0717504\tbest: 0.0717504 (600)\ttotal: 11s\tremaining: 7.33s\n",
      "700:\tlearn: 0.0627572\ttest: 0.0710084\tbest: 0.0710084 (700)\ttotal: 12.9s\tremaining: 5.49s\n",
      "800:\tlearn: 0.0613750\ttest: 0.0704878\tbest: 0.0704878 (800)\ttotal: 14.7s\tremaining: 3.65s\n",
      "900:\tlearn: 0.0599069\ttest: 0.0698996\tbest: 0.0698936 (896)\ttotal: 16.5s\tremaining: 1.82s\n",
      "999:\tlearn: 0.0587290\ttest: 0.0697822\tbest: 0.0696893 (998)\ttotal: 18.3s\tremaining: 0us\n",
      "\n",
      "bestTest = 0.0696892648\n",
      "bestIteration = 998\n",
      "\n",
      "Shrink model to first 999 iterations.\n"
     ]
    },
    {
     "data": {
      "text/plain": "<catboost.core.CatBoostRegressor at 0x257a8df2310>"
     },
     "execution_count": 150,
     "metadata": {},
     "output_type": "execute_result"
    }
   ],
   "source": [
    "model.fit(train[X],train[y],eval_set=(val[X],val[y]))"
   ],
   "metadata": {
    "collapsed": false,
    "pycharm": {
     "name": "#%%\n"
    }
   }
  },
  {
   "cell_type": "markdown",
   "source": [
    "##### Модель улучшила результат за счёт Learning rate"
   ],
   "metadata": {
    "collapsed": false,
    "pycharm": {
     "name": "#%% md\n"
    }
   }
  },
  {
   "cell_type": "code",
   "execution_count": 152,
   "outputs": [],
   "source": [
    "parameters = {'cat_features': cat_features,\n",
    "              'learning_rate': 0.08,\n",
    "              'eval_metric': 'MAPE',\n",
    "              'random_seed': 42,\n",
    "              'verbose':100}"
   ],
   "metadata": {
    "collapsed": false,
    "pycharm": {
     "name": "#%%\n"
    }
   }
  },
  {
   "cell_type": "code",
   "execution_count": 153,
   "outputs": [],
   "source": [
    "model = CatBoostRegressor(**parameters)"
   ],
   "metadata": {
    "collapsed": false,
    "pycharm": {
     "name": "#%%\n"
    }
   }
  },
  {
   "cell_type": "code",
   "execution_count": 154,
   "outputs": [
    {
     "name": "stdout",
     "output_type": "stream",
     "text": [
      "0:\tlearn: 0.4564416\ttest: 0.4521294\tbest: 0.4521294 (0)\ttotal: 26.4ms\tremaining: 26.4s\n",
      "100:\tlearn: 0.0875290\ttest: 0.0867329\tbest: 0.0867329 (100)\ttotal: 1.88s\tremaining: 16.7s\n",
      "200:\tlearn: 0.0760834\ttest: 0.0779235\tbest: 0.0779235 (200)\ttotal: 3.68s\tremaining: 14.6s\n",
      "300:\tlearn: 0.0708670\ttest: 0.0740290\tbest: 0.0740290 (300)\ttotal: 5.48s\tremaining: 12.7s\n",
      "400:\tlearn: 0.0676240\ttest: 0.0718814\tbest: 0.0718814 (400)\ttotal: 7.26s\tremaining: 10.9s\n",
      "500:\tlearn: 0.0654070\ttest: 0.0709221\tbest: 0.0708594 (496)\ttotal: 9.06s\tremaining: 9.02s\n",
      "600:\tlearn: 0.0638577\ttest: 0.0704606\tbest: 0.0704490 (599)\ttotal: 10.8s\tremaining: 7.2s\n",
      "700:\tlearn: 0.0622969\ttest: 0.0698226\tbest: 0.0698226 (700)\ttotal: 12.6s\tremaining: 5.38s\n",
      "800:\tlearn: 0.0609583\ttest: 0.0694169\tbest: 0.0694004 (791)\ttotal: 14.5s\tremaining: 3.6s\n",
      "900:\tlearn: 0.0596089\ttest: 0.0689968\tbest: 0.0689945 (895)\ttotal: 16.3s\tremaining: 1.79s\n",
      "999:\tlearn: 0.0584626\ttest: 0.0686829\tbest: 0.0686377 (993)\ttotal: 18.2s\tremaining: 0us\n",
      "\n",
      "bestTest = 0.06863774536\n",
      "bestIteration = 993\n",
      "\n",
      "Shrink model to first 994 iterations.\n"
     ]
    },
    {
     "data": {
      "text/plain": "<catboost.core.CatBoostRegressor at 0x257a6005c90>"
     },
     "execution_count": 154,
     "metadata": {},
     "output_type": "execute_result"
    }
   ],
   "source": [
    "model.fit(train[X],train[y],eval_set=(val[X],val[y]))"
   ],
   "metadata": {
    "collapsed": false,
    "pycharm": {
     "name": "#%%\n"
    }
   }
  },
  {
   "cell_type": "markdown",
   "source": [
    "#### Early_stopping_rounds - помогает не перебирать всю 1000 вариантов, а останваливать обучение, если не происходит улучшений в течении n итераций"
   ],
   "metadata": {
    "collapsed": false,
    "pycharm": {
     "name": "#%% md\n"
    }
   }
  },
  {
   "cell_type": "code",
   "execution_count": 155,
   "outputs": [],
   "source": [
    "X = ['year', 'transmission', 'engineSize']\n",
    "\n",
    "cat_features = ['transmission']\n",
    "\n",
    "y = ['price']"
   ],
   "metadata": {
    "collapsed": false,
    "pycharm": {
     "name": "#%%\n"
    }
   }
  },
  {
   "cell_type": "code",
   "execution_count": 156,
   "outputs": [],
   "source": [
    "model = CatBoostRegressor(cat_features=cat_features,\n",
    "                          early_stopping_rounds=200,\n",
    "                          eval_metric='MAPE',\n",
    "                          random_state=42,\n",
    "                          verbose=100)\n",
    "# verbose - выводить каждую n-ую итерацию"
   ],
   "metadata": {
    "collapsed": false,
    "pycharm": {
     "name": "#%%\n"
    }
   }
  },
  {
   "cell_type": "code",
   "execution_count": 157,
   "outputs": [
    {
     "name": "stdout",
     "output_type": "stream",
     "text": [
      "Learning rate set to 0.068263\n",
      "0:\tlearn: 0.4603375\ttest: 0.4555509\tbest: 0.4555509 (0)\ttotal: 19.4ms\tremaining: 19.4s\n",
      "100:\tlearn: 0.1546393\ttest: 0.1529687\tbest: 0.1529687 (100)\ttotal: 1.58s\tremaining: 14.1s\n",
      "200:\tlearn: 0.1528213\ttest: 0.1517332\tbest: 0.1517332 (200)\ttotal: 2.9s\tremaining: 11.5s\n",
      "300:\tlearn: 0.1517532\ttest: 0.1514386\tbest: 0.1514000 (288)\ttotal: 4.41s\tremaining: 10.2s\n",
      "400:\tlearn: 0.1509722\ttest: 0.1515508\tbest: 0.1514000 (288)\ttotal: 5.92s\tremaining: 8.85s\n",
      "Stopped by overfitting detector  (200 iterations wait)\n",
      "\n",
      "bestTest = 0.1514000297\n",
      "bestIteration = 288\n",
      "\n",
      "Shrink model to first 289 iterations.\n"
     ]
    },
    {
     "data": {
      "text/plain": "<catboost.core.CatBoostRegressor at 0x257a4c128d0>"
     },
     "execution_count": 157,
     "metadata": {},
     "output_type": "execute_result"
    }
   ],
   "source": [
    "model.fit(train[X], train[y], eval_set=(val[X], val[y]))"
   ],
   "metadata": {
    "collapsed": false,
    "pycharm": {
     "name": "#%%\n"
    }
   }
  },
  {
   "cell_type": "code",
   "execution_count": null,
   "outputs": [],
   "source": [],
   "metadata": {
    "collapsed": false,
    "pycharm": {
     "name": "#%%\n"
    }
   }
  }
 ],
 "metadata": {
  "kernelspec": {
   "display_name": "Python 3",
   "language": "python",
   "name": "python3"
  },
  "language_info": {
   "codemirror_mode": {
    "name": "ipython",
    "version": 2
   },
   "file_extension": ".py",
   "mimetype": "text/x-python",
   "name": "python",
   "nbconvert_exporter": "python",
   "pygments_lexer": "ipython2",
   "version": "2.7.6"
  }
 },
 "nbformat": 4,
 "nbformat_minor": 0
}