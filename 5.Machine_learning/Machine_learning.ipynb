{
 "cells": [
  {
   "cell_type": "markdown",
   "source": [
    "# Machine learning"
   ],
   "metadata": {
    "collapsed": false
   }
  },
  {
   "cell_type": "markdown",
   "metadata": {
    "collapsed": true,
    "pycharm": {
     "name": "#%% md\n"
    }
   },
   "source": [
    "## Загрузка данных\n",
    "#### Данные беру из Human_learning"
   ]
  },
  {
   "cell_type": "markdown",
   "source": [
    "# Colab"
   ],
   "metadata": {
    "collapsed": false
   }
  },
  {
   "cell_type": "code",
   "execution_count": 1,
   "outputs": [
    {
     "name": "stderr",
     "output_type": "stream",
     "text": [
      "\"gdown\" ­Ґ пў«пҐвбп ў­гваҐ­­Ґ© Ё«Ё ў­Ґи­Ґ©\n",
      "Є®¬ ­¤®©, ЁбЇ®«­пҐ¬®© Їа®Ја ¬¬®© Ё«Ё Ї ЄҐв­л¬ д ©«®¬.\n"
     ]
    }
   ],
   "source": [
    "! gdown --id 1P3aYu5kdMLOVxgl2K6wjzx-HtWB5J_wu"
   ],
   "metadata": {
    "collapsed": false,
    "pycharm": {
     "name": "#%%\n"
    }
   }
  },
  {
   "cell_type": "code",
   "execution_count": 2,
   "outputs": [
    {
     "name": "stderr",
     "output_type": "stream",
     "text": [
      "\"unzip\" ­Ґ пў«пҐвбп ў­гваҐ­­Ґ© Ё«Ё ў­Ґи­Ґ©\n",
      "Є®¬ ­¤®©, ЁбЇ®«­пҐ¬®© Їа®Ја ¬¬®© Ё«Ё Ї ЄҐв­л¬ д ©«®¬.\n"
     ]
    }
   ],
   "source": [
    "! unzip / content / uk_used_cars.zip -d / content / uk_used_cars /"
   ],
   "metadata": {
    "collapsed": false,
    "pycharm": {
     "name": "#%%\n"
    }
   }
  },
  {
   "cell_type": "code",
   "execution_count": 11,
   "outputs": [],
   "source": [
    "import pandas as pd"
   ],
   "metadata": {
    "collapsed": false,
    "pycharm": {
     "name": "#%%\n"
    }
   }
  },
  {
   "cell_type": "code",
   "execution_count": null,
   "outputs": [],
   "source": [
    "df = pd.read_csv('/content/uk_used_cars/bmw.csv')"
   ],
   "metadata": {
    "collapsed": false,
    "pycharm": {
     "name": "#%%\n"
    }
   }
  },
  {
   "cell_type": "code",
   "execution_count": 5,
   "outputs": [
    {
     "ename": "NameError",
     "evalue": "name 'df' is not defined",
     "output_type": "error",
     "traceback": [
      "\u001B[1;31m---------------------------------------------------------------------------\u001B[0m",
      "\u001B[1;31mNameError\u001B[0m                                 Traceback (most recent call last)",
      "Cell \u001B[1;32mIn [5], line 1\u001B[0m\n\u001B[1;32m----> 1\u001B[0m \u001B[43mdf\u001B[49m\u001B[38;5;241m.\u001B[39mhead()\n",
      "\u001B[1;31mNameError\u001B[0m: name 'df' is not defined"
     ]
    }
   ],
   "source": [
    "df.head()"
   ],
   "metadata": {
    "collapsed": false,
    "pycharm": {
     "name": "#%%\n"
    }
   }
  },
  {
   "cell_type": "markdown",
   "source": [
    "# Pycharm"
   ],
   "metadata": {
    "collapsed": false
   }
  },
  {
   "cell_type": "code",
   "execution_count": 1,
   "outputs": [],
   "source": [
    "from zipfile import ZipFile\n",
    "\n",
    "with ZipFile('uk_used_cars.zip', 'r') as zf:\n",
    "    zf.extractall()"
   ],
   "metadata": {
    "collapsed": false,
    "pycharm": {
     "name": "#%%\n"
    }
   }
  },
  {
   "cell_type": "code",
   "execution_count": 1,
   "outputs": [],
   "source": [
    "import pandas as pd"
   ],
   "metadata": {
    "collapsed": false,
    "pycharm": {
     "name": "#%%\n"
    }
   }
  },
  {
   "cell_type": "code",
   "execution_count": 2,
   "outputs": [],
   "source": [
    "df = pd.read_csv(r'C:\\PyCharm\\Python\\Data_Science_GM\\4.Human_learning\\bmw.csv')"
   ],
   "metadata": {
    "collapsed": false,
    "pycharm": {
     "name": "#%%\n"
    }
   }
  },
  {
   "cell_type": "code",
   "execution_count": 3,
   "outputs": [
    {
     "data": {
      "text/plain": "       model  year  price transmission  mileage fuelType  tax   mpg  \\\n0   5 Series  2014  11200    Automatic    67068   Diesel  125  57.6   \n1   6 Series  2018  27000    Automatic    14827   Petrol  145  42.8   \n2   5 Series  2016  16000    Automatic    62794   Diesel  160  51.4   \n3   1 Series  2017  12750    Automatic    26676   Diesel  145  72.4   \n4   7 Series  2014  14500    Automatic    39554   Diesel  160  50.4   \n\n   engineSize  \n0         2.0  \n1         2.0  \n2         3.0  \n3         1.5  \n4         3.0  ",
      "text/html": "<div>\n<style scoped>\n    .dataframe tbody tr th:only-of-type {\n        vertical-align: middle;\n    }\n\n    .dataframe tbody tr th {\n        vertical-align: top;\n    }\n\n    .dataframe thead th {\n        text-align: right;\n    }\n</style>\n<table border=\"1\" class=\"dataframe\">\n  <thead>\n    <tr style=\"text-align: right;\">\n      <th></th>\n      <th>model</th>\n      <th>year</th>\n      <th>price</th>\n      <th>transmission</th>\n      <th>mileage</th>\n      <th>fuelType</th>\n      <th>tax</th>\n      <th>mpg</th>\n      <th>engineSize</th>\n    </tr>\n  </thead>\n  <tbody>\n    <tr>\n      <th>0</th>\n      <td>5 Series</td>\n      <td>2014</td>\n      <td>11200</td>\n      <td>Automatic</td>\n      <td>67068</td>\n      <td>Diesel</td>\n      <td>125</td>\n      <td>57.6</td>\n      <td>2.0</td>\n    </tr>\n    <tr>\n      <th>1</th>\n      <td>6 Series</td>\n      <td>2018</td>\n      <td>27000</td>\n      <td>Automatic</td>\n      <td>14827</td>\n      <td>Petrol</td>\n      <td>145</td>\n      <td>42.8</td>\n      <td>2.0</td>\n    </tr>\n    <tr>\n      <th>2</th>\n      <td>5 Series</td>\n      <td>2016</td>\n      <td>16000</td>\n      <td>Automatic</td>\n      <td>62794</td>\n      <td>Diesel</td>\n      <td>160</td>\n      <td>51.4</td>\n      <td>3.0</td>\n    </tr>\n    <tr>\n      <th>3</th>\n      <td>1 Series</td>\n      <td>2017</td>\n      <td>12750</td>\n      <td>Automatic</td>\n      <td>26676</td>\n      <td>Diesel</td>\n      <td>145</td>\n      <td>72.4</td>\n      <td>1.5</td>\n    </tr>\n    <tr>\n      <th>4</th>\n      <td>7 Series</td>\n      <td>2014</td>\n      <td>14500</td>\n      <td>Automatic</td>\n      <td>39554</td>\n      <td>Diesel</td>\n      <td>160</td>\n      <td>50.4</td>\n      <td>3.0</td>\n    </tr>\n  </tbody>\n</table>\n</div>"
     },
     "execution_count": 3,
     "metadata": {},
     "output_type": "execute_result"
    }
   ],
   "source": [
    "df.head()"
   ],
   "metadata": {
    "collapsed": false,
    "pycharm": {
     "name": "#%%\n"
    }
   }
  },
  {
   "cell_type": "code",
   "execution_count": 4,
   "outputs": [
    {
     "data": {
      "text/plain": "(10781, 9)"
     },
     "execution_count": 4,
     "metadata": {},
     "output_type": "execute_result"
    }
   ],
   "source": [
    "df.shape"
   ],
   "metadata": {
    "collapsed": false,
    "pycharm": {
     "name": "#%%\n"
    }
   }
  },
  {
   "cell_type": "markdown",
   "source": [
    "## Обучающая и тестовая выборка (train and test)"
   ],
   "metadata": {
    "collapsed": false
   }
  },
  {
   "cell_type": "code",
   "execution_count": 5,
   "outputs": [],
   "source": [
    "from sklearn.model_selection import train_test_split"
   ],
   "metadata": {
    "collapsed": false,
    "pycharm": {
     "name": "#%%\n"
    }
   }
  },
  {
   "cell_type": "code",
   "execution_count": 6,
   "outputs": [],
   "source": [
    "# train, test = train_test_split(df, train_size=0.7)"
   ],
   "metadata": {
    "collapsed": false,
    "pycharm": {
     "name": "#%%\n"
    }
   }
  },
  {
   "cell_type": "code",
   "execution_count": 7,
   "outputs": [],
   "source": [
    "train, test = train_test_split(df, random_state=42, train_size=0.6)  # default train_size = 0.75"
   ],
   "metadata": {
    "collapsed": false,
    "pycharm": {
     "name": "#%%\n"
    }
   }
  },
  {
   "cell_type": "code",
   "execution_count": 8,
   "outputs": [
    {
     "data": {
      "text/plain": "(6468, 4313, 10781, 10781)"
     },
     "execution_count": 8,
     "metadata": {},
     "output_type": "execute_result"
    }
   ],
   "source": [
    "len(train), len(test), len(test + train), len(df)"
   ],
   "metadata": {
    "collapsed": false,
    "pycharm": {
     "name": "#%%\n"
    }
   }
  },
  {
   "cell_type": "code",
   "execution_count": 9,
   "outputs": [
    {
     "data": {
      "text/plain": "0.4000556534644282"
     },
     "execution_count": 9,
     "metadata": {},
     "output_type": "execute_result"
    }
   ],
   "source": [
    "len(test) / len(df)"
   ],
   "metadata": {
    "collapsed": false,
    "pycharm": {
     "name": "#%%\n"
    }
   }
  },
  {
   "cell_type": "markdown",
   "source": [
    "## Валидационная выборка"
   ],
   "metadata": {
    "collapsed": false,
    "pycharm": {
     "name": "#%% md\n"
    }
   }
  },
  {
   "cell_type": "markdown",
   "source": [
    "##### Для получения валидационной выборки нужно разбить тестовую часть пополам, на валидационную и тестовую"
   ],
   "metadata": {
    "collapsed": false,
    "pycharm": {
     "name": "#%% md\n"
    }
   }
  },
  {
   "cell_type": "code",
   "execution_count": 10,
   "outputs": [],
   "source": [
    "val, test = train_test_split(test, random_state=42, train_size=0.5)"
   ],
   "metadata": {
    "collapsed": false,
    "pycharm": {
     "name": "#%%\n"
    }
   }
  },
  {
   "cell_type": "code",
   "execution_count": 11,
   "outputs": [
    {
     "data": {
      "text/plain": "0.5999443465355718"
     },
     "execution_count": 11,
     "metadata": {},
     "output_type": "execute_result"
    }
   ],
   "source": [
    "len(train) / len(df)"
   ],
   "metadata": {
    "collapsed": false,
    "pycharm": {
     "name": "#%%\n"
    }
   }
  },
  {
   "cell_type": "code",
   "execution_count": 12,
   "outputs": [
    {
     "data": {
      "text/plain": "0.19998144884519062"
     },
     "execution_count": 12,
     "metadata": {},
     "output_type": "execute_result"
    }
   ],
   "source": [
    "len(val) / len(df)"
   ],
   "metadata": {
    "collapsed": false,
    "pycharm": {
     "name": "#%%\n"
    }
   }
  },
  {
   "cell_type": "code",
   "execution_count": 13,
   "outputs": [
    {
     "data": {
      "text/plain": "0.20007420461923756"
     },
     "execution_count": 13,
     "metadata": {},
     "output_type": "execute_result"
    }
   ],
   "source": [
    "len(test) / len(df)"
   ],
   "metadata": {
    "collapsed": false,
    "pycharm": {
     "name": "#%%\n"
    }
   }
  },
  {
   "cell_type": "markdown",
   "source": [
    "## Список фичей"
   ],
   "metadata": {
    "collapsed": false,
    "pycharm": {
     "name": "#%% md\n"
    }
   }
  },
  {
   "cell_type": "code",
   "execution_count": 14,
   "outputs": [
    {
     "data": {
      "text/plain": "Index(['model', 'year', 'price', 'transmission', 'mileage', 'fuelType', 'tax',\n       'mpg', 'engineSize'],\n      dtype='object')"
     },
     "execution_count": 14,
     "metadata": {},
     "output_type": "execute_result"
    }
   ],
   "source": [
    "train.columns"
   ],
   "metadata": {
    "collapsed": false,
    "pycharm": {
     "name": "#%%\n"
    }
   }
  },
  {
   "cell_type": "code",
   "execution_count": 15,
   "outputs": [
    {
     "data": {
      "text/plain": "          model  year  price transmission  mileage fuelType  tax   mpg  \\\n5133         X6  2015  25000    Semi-Auto    26100   Diesel  205  45.6   \n2121         X2  2019  31980    Automatic     4804   Petrol  145  34.0   \n6576         X2  2018  22995    Semi-Auto    24136   Petrol  145  38.7   \n8330   3 Series  2016  12999       Manual    52224   Diesel  125  62.8   \n3161         X3  2019  32980    Semi-Auto     1961   Diesel  150  54.3   \n\n      engineSize  \n5133         3.0  \n2121         2.0  \n6576         2.0  \n8330         2.0  \n3161         2.0  ",
      "text/html": "<div>\n<style scoped>\n    .dataframe tbody tr th:only-of-type {\n        vertical-align: middle;\n    }\n\n    .dataframe tbody tr th {\n        vertical-align: top;\n    }\n\n    .dataframe thead th {\n        text-align: right;\n    }\n</style>\n<table border=\"1\" class=\"dataframe\">\n  <thead>\n    <tr style=\"text-align: right;\">\n      <th></th>\n      <th>model</th>\n      <th>year</th>\n      <th>price</th>\n      <th>transmission</th>\n      <th>mileage</th>\n      <th>fuelType</th>\n      <th>tax</th>\n      <th>mpg</th>\n      <th>engineSize</th>\n    </tr>\n  </thead>\n  <tbody>\n    <tr>\n      <th>5133</th>\n      <td>X6</td>\n      <td>2015</td>\n      <td>25000</td>\n      <td>Semi-Auto</td>\n      <td>26100</td>\n      <td>Diesel</td>\n      <td>205</td>\n      <td>45.6</td>\n      <td>3.0</td>\n    </tr>\n    <tr>\n      <th>2121</th>\n      <td>X2</td>\n      <td>2019</td>\n      <td>31980</td>\n      <td>Automatic</td>\n      <td>4804</td>\n      <td>Petrol</td>\n      <td>145</td>\n      <td>34.0</td>\n      <td>2.0</td>\n    </tr>\n    <tr>\n      <th>6576</th>\n      <td>X2</td>\n      <td>2018</td>\n      <td>22995</td>\n      <td>Semi-Auto</td>\n      <td>24136</td>\n      <td>Petrol</td>\n      <td>145</td>\n      <td>38.7</td>\n      <td>2.0</td>\n    </tr>\n    <tr>\n      <th>8330</th>\n      <td>3 Series</td>\n      <td>2016</td>\n      <td>12999</td>\n      <td>Manual</td>\n      <td>52224</td>\n      <td>Diesel</td>\n      <td>125</td>\n      <td>62.8</td>\n      <td>2.0</td>\n    </tr>\n    <tr>\n      <th>3161</th>\n      <td>X3</td>\n      <td>2019</td>\n      <td>32980</td>\n      <td>Semi-Auto</td>\n      <td>1961</td>\n      <td>Diesel</td>\n      <td>150</td>\n      <td>54.3</td>\n      <td>2.0</td>\n    </tr>\n  </tbody>\n</table>\n</div>"
     },
     "execution_count": 15,
     "metadata": {},
     "output_type": "execute_result"
    }
   ],
   "source": [
    "train.head()"
   ],
   "metadata": {
    "collapsed": false,
    "pycharm": {
     "name": "#%%\n"
    }
   }
  },
  {
   "cell_type": "markdown",
   "source": [
    "## Принцип преобразования категориальных фичей"
   ],
   "metadata": {
    "collapsed": false,
    "pycharm": {
     "name": "#%% md\n"
    }
   }
  },
  {
   "cell_type": "markdown",
   "source": [
    "##### Метод OneHotEncoding"
   ],
   "metadata": {
    "collapsed": false,
    "pycharm": {
     "name": "#%% md\n"
    }
   }
  },
  {
   "cell_type": "code",
   "execution_count": 16,
   "outputs": [
    {
     "data": {
      "text/plain": "5133    Semi-Auto\n2121    Automatic\n6576    Semi-Auto\n8330       Manual\n3161    Semi-Auto\n          ...    \n5734    Semi-Auto\n5191    Semi-Auto\n5390    Semi-Auto\n860     Semi-Auto\n7270    Automatic\nName: transmission, Length: 6468, dtype: object"
     },
     "execution_count": 16,
     "metadata": {},
     "output_type": "execute_result"
    }
   ],
   "source": [
    "train.transmission"
   ],
   "metadata": {
    "collapsed": false,
    "pycharm": {
     "name": "#%%\n"
    }
   }
  },
  {
   "cell_type": "code",
   "execution_count": 17,
   "outputs": [
    {
     "data": {
      "text/plain": "      Automatic  Manual  Semi-Auto\n5133          0       0          1\n2121          1       0          0\n6576          0       0          1\n8330          0       1          0\n3161          0       0          1\n...         ...     ...        ...\n5734          0       0          1\n5191          0       0          1\n5390          0       0          1\n860           0       0          1\n7270          1       0          0\n\n[6468 rows x 3 columns]",
      "text/html": "<div>\n<style scoped>\n    .dataframe tbody tr th:only-of-type {\n        vertical-align: middle;\n    }\n\n    .dataframe tbody tr th {\n        vertical-align: top;\n    }\n\n    .dataframe thead th {\n        text-align: right;\n    }\n</style>\n<table border=\"1\" class=\"dataframe\">\n  <thead>\n    <tr style=\"text-align: right;\">\n      <th></th>\n      <th>Automatic</th>\n      <th>Manual</th>\n      <th>Semi-Auto</th>\n    </tr>\n  </thead>\n  <tbody>\n    <tr>\n      <th>5133</th>\n      <td>0</td>\n      <td>0</td>\n      <td>1</td>\n    </tr>\n    <tr>\n      <th>2121</th>\n      <td>1</td>\n      <td>0</td>\n      <td>0</td>\n    </tr>\n    <tr>\n      <th>6576</th>\n      <td>0</td>\n      <td>0</td>\n      <td>1</td>\n    </tr>\n    <tr>\n      <th>8330</th>\n      <td>0</td>\n      <td>1</td>\n      <td>0</td>\n    </tr>\n    <tr>\n      <th>3161</th>\n      <td>0</td>\n      <td>0</td>\n      <td>1</td>\n    </tr>\n    <tr>\n      <th>...</th>\n      <td>...</td>\n      <td>...</td>\n      <td>...</td>\n    </tr>\n    <tr>\n      <th>5734</th>\n      <td>0</td>\n      <td>0</td>\n      <td>1</td>\n    </tr>\n    <tr>\n      <th>5191</th>\n      <td>0</td>\n      <td>0</td>\n      <td>1</td>\n    </tr>\n    <tr>\n      <th>5390</th>\n      <td>0</td>\n      <td>0</td>\n      <td>1</td>\n    </tr>\n    <tr>\n      <th>860</th>\n      <td>0</td>\n      <td>0</td>\n      <td>1</td>\n    </tr>\n    <tr>\n      <th>7270</th>\n      <td>1</td>\n      <td>0</td>\n      <td>0</td>\n    </tr>\n  </tbody>\n</table>\n<p>6468 rows × 3 columns</p>\n</div>"
     },
     "execution_count": 17,
     "metadata": {},
     "output_type": "execute_result"
    }
   ],
   "source": [
    "pd.get_dummies(train['transmission'])"
   ],
   "metadata": {
    "collapsed": false,
    "pycharm": {
     "name": "#%%\n"
    }
   }
  },
  {
   "cell_type": "markdown",
   "source": [
    "## Первый запуск Кэтбуста"
   ],
   "metadata": {
    "collapsed": false,
    "pycharm": {
     "name": "#%% md\n"
    }
   }
  },
  {
   "cell_type": "code",
   "execution_count": 18,
   "outputs": [],
   "source": [
    "from catboost import CatBoostRegressor"
   ],
   "metadata": {
    "collapsed": false,
    "pycharm": {
     "name": "#%%\n"
    }
   }
  },
  {
   "cell_type": "markdown",
   "source": [
    "##### В первом запуске катбуста, поставим те же фичи, что были в хьюман лёрнинг и сравним результаты"
   ],
   "metadata": {
    "collapsed": false,
    "pycharm": {
     "name": "#%% md\n"
    }
   }
  },
  {
   "cell_type": "code",
   "execution_count": 19,
   "outputs": [],
   "source": [
    "all_features = ['model', 'year', 'transmission', 'mileage', 'fuelType', 'tax',\n",
    "     'mpg', 'engineSize']\n",
    "\n",
    "X = ['year', 'transmission', 'engineSize']\n",
    "\n",
    "cat_features = ['transmission']  # Список категориальных фичей для кэтбуста, который прописывается отдельно\n",
    "\n",
    "y = ['price']"
   ],
   "metadata": {
    "collapsed": false,
    "pycharm": {
     "name": "#%%\n"
    }
   }
  },
  {
   "cell_type": "markdown",
   "source": [
    "##### Catboost support metrics\n",
    "https://catboost.ai/en/docs/references/custom-metric__supported-metrics"
   ],
   "metadata": {
    "collapsed": false,
    "pycharm": {
     "name": "#%% md\n"
    }
   }
  },
  {
   "cell_type": "markdown",
   "source": [
    "##### Создаём модель и настраиваем её параметры"
   ],
   "metadata": {
    "collapsed": false,
    "pycharm": {
     "name": "#%% md\n"
    }
   }
  },
  {
   "cell_type": "code",
   "execution_count": 20,
   "outputs": [],
   "source": [
    "model = CatBoostRegressor(cat_features=cat_features,\n",
    "                          eval_metric='MAPE',\n",
    "                          random_state=42,\n",
    "                          verbose=100)\n",
    "# verbose - выводить каждую n-ую итерацию"
   ],
   "metadata": {
    "collapsed": false,
    "pycharm": {
     "name": "#%%\n"
    }
   }
  },
  {
   "cell_type": "code",
   "execution_count": 21,
   "outputs": [
    {
     "data": {
      "text/plain": "      year transmission  engineSize\n5133  2015    Semi-Auto         3.0\n2121  2019    Automatic         2.0\n6576  2018    Semi-Auto         2.0\n8330  2016       Manual         2.0\n3161  2019    Semi-Auto         2.0",
      "text/html": "<div>\n<style scoped>\n    .dataframe tbody tr th:only-of-type {\n        vertical-align: middle;\n    }\n\n    .dataframe tbody tr th {\n        vertical-align: top;\n    }\n\n    .dataframe thead th {\n        text-align: right;\n    }\n</style>\n<table border=\"1\" class=\"dataframe\">\n  <thead>\n    <tr style=\"text-align: right;\">\n      <th></th>\n      <th>year</th>\n      <th>transmission</th>\n      <th>engineSize</th>\n    </tr>\n  </thead>\n  <tbody>\n    <tr>\n      <th>5133</th>\n      <td>2015</td>\n      <td>Semi-Auto</td>\n      <td>3.0</td>\n    </tr>\n    <tr>\n      <th>2121</th>\n      <td>2019</td>\n      <td>Automatic</td>\n      <td>2.0</td>\n    </tr>\n    <tr>\n      <th>6576</th>\n      <td>2018</td>\n      <td>Semi-Auto</td>\n      <td>2.0</td>\n    </tr>\n    <tr>\n      <th>8330</th>\n      <td>2016</td>\n      <td>Manual</td>\n      <td>2.0</td>\n    </tr>\n    <tr>\n      <th>3161</th>\n      <td>2019</td>\n      <td>Semi-Auto</td>\n      <td>2.0</td>\n    </tr>\n  </tbody>\n</table>\n</div>"
     },
     "execution_count": 21,
     "metadata": {},
     "output_type": "execute_result"
    }
   ],
   "source": [
    "train[X].head()"
   ],
   "metadata": {
    "collapsed": false,
    "pycharm": {
     "name": "#%%\n"
    }
   }
  },
  {
   "cell_type": "code",
   "execution_count": 22,
   "outputs": [
    {
     "data": {
      "text/plain": "      price\n5133  25000\n2121  31980\n6576  22995\n8330  12999\n3161  32980",
      "text/html": "<div>\n<style scoped>\n    .dataframe tbody tr th:only-of-type {\n        vertical-align: middle;\n    }\n\n    .dataframe tbody tr th {\n        vertical-align: top;\n    }\n\n    .dataframe thead th {\n        text-align: right;\n    }\n</style>\n<table border=\"1\" class=\"dataframe\">\n  <thead>\n    <tr style=\"text-align: right;\">\n      <th></th>\n      <th>price</th>\n    </tr>\n  </thead>\n  <tbody>\n    <tr>\n      <th>5133</th>\n      <td>25000</td>\n    </tr>\n    <tr>\n      <th>2121</th>\n      <td>31980</td>\n    </tr>\n    <tr>\n      <th>6576</th>\n      <td>22995</td>\n    </tr>\n    <tr>\n      <th>8330</th>\n      <td>12999</td>\n    </tr>\n    <tr>\n      <th>3161</th>\n      <td>32980</td>\n    </tr>\n  </tbody>\n</table>\n</div>"
     },
     "execution_count": 22,
     "metadata": {},
     "output_type": "execute_result"
    }
   ],
   "source": [
    "train[y].head()"
   ],
   "metadata": {
    "collapsed": false,
    "pycharm": {
     "name": "#%%\n"
    }
   }
  },
  {
   "cell_type": "markdown",
   "source": [],
   "metadata": {
    "collapsed": false
   }
  },
  {
   "cell_type": "markdown",
   "source": [
    "##### Обучение модели"
   ],
   "metadata": {
    "collapsed": false,
    "pycharm": {
     "name": "#%% md\n"
    }
   }
  },
  {
   "cell_type": "code",
   "execution_count": 23,
   "outputs": [
    {
     "name": "stdout",
     "output_type": "stream",
     "text": [
      "Learning rate set to 0.068263\n",
      "0:\tlearn: 0.4603375\ttest: 0.4555509\tbest: 0.4555509 (0)\ttotal: 157ms\tremaining: 2m 36s\n",
      "100:\tlearn: 0.1546393\ttest: 0.1529687\tbest: 0.1529687 (100)\ttotal: 1.9s\tremaining: 16.9s\n",
      "200:\tlearn: 0.1528213\ttest: 0.1517332\tbest: 0.1517332 (200)\ttotal: 3.4s\tremaining: 13.5s\n",
      "300:\tlearn: 0.1517532\ttest: 0.1514386\tbest: 0.1514000 (288)\ttotal: 5.43s\tremaining: 12.6s\n",
      "400:\tlearn: 0.1509722\ttest: 0.1515508\tbest: 0.1514000 (288)\ttotal: 7.58s\tremaining: 11.3s\n",
      "500:\tlearn: 0.1502967\ttest: 0.1516166\tbest: 0.1514000 (288)\ttotal: 9.42s\tremaining: 9.39s\n",
      "600:\tlearn: 0.1499412\ttest: 0.1516849\tbest: 0.1514000 (288)\ttotal: 11.3s\tremaining: 7.47s\n",
      "700:\tlearn: 0.1494768\ttest: 0.1516928\tbest: 0.1514000 (288)\ttotal: 13s\tremaining: 5.53s\n",
      "800:\tlearn: 0.1490851\ttest: 0.1518297\tbest: 0.1514000 (288)\ttotal: 14.8s\tremaining: 3.67s\n",
      "900:\tlearn: 0.1487173\ttest: 0.1519119\tbest: 0.1514000 (288)\ttotal: 16.5s\tremaining: 1.81s\n",
      "999:\tlearn: 0.1483869\ttest: 0.1519628\tbest: 0.1514000 (288)\ttotal: 18.2s\tremaining: 0us\n",
      "\n",
      "bestTest = 0.1514000297\n",
      "bestIteration = 288\n",
      "\n",
      "Shrink model to first 289 iterations.\n"
     ]
    },
    {
     "data": {
      "text/plain": "<catboost.core.CatBoostRegressor at 0x2010219c990>"
     },
     "execution_count": 23,
     "metadata": {},
     "output_type": "execute_result"
    }
   ],
   "source": [
    "model.fit(train[X], train[y], eval_set=(val[X], val[y]))"
   ],
   "metadata": {
    "collapsed": false,
    "pycharm": {
     "name": "#%%\n"
    }
   }
  },
  {
   "cell_type": "markdown",
   "source": [
    "##### Ошибка катбуста MAPE: 0.15118\n",
    "##### Моя ошибка в human learning на том же пресете (год, двигатель, трансмиссия) MAPE: 0.16037"
   ],
   "metadata": {
    "collapsed": false,
    "pycharm": {
     "name": "#%% md\n"
    }
   }
  },
  {
   "cell_type": "markdown",
   "source": [
    "##### Для подтверждения победы машинного обучения над человеческим проверим на тестовой выборке (уже проверили на валидационной)"
   ],
   "metadata": {
    "collapsed": false,
    "pycharm": {
     "name": "#%% md\n"
    }
   }
  },
  {
   "cell_type": "code",
   "execution_count": 24,
   "outputs": [
    {
     "data": {
      "text/plain": "array([45436.28801924, 21738.83525716, 16205.32627896, ...,\n       28444.11570854, 16205.32627896, 27824.78614511])"
     },
     "execution_count": 24,
     "metadata": {},
     "output_type": "execute_result"
    }
   ],
   "source": [
    "model.predict(test[X])"
   ],
   "metadata": {
    "collapsed": false,
    "pycharm": {
     "name": "#%%\n"
    }
   }
  },
  {
   "cell_type": "code",
   "execution_count": 25,
   "outputs": [],
   "source": [
    "test['price_pred'] = model.predict(test[X])"
   ],
   "metadata": {
    "collapsed": false,
    "pycharm": {
     "name": "#%%\n"
    }
   }
  },
  {
   "cell_type": "code",
   "execution_count": 26,
   "outputs": [
    {
     "data": {
      "text/plain": "          model  year  price transmission  mileage fuelType  tax   mpg  \\\n4984         X6  2019  52990    Semi-Auto     3086   Diesel  145  34.9   \n4880         X1  2018  24081    Semi-Auto    13245   Diesel  150  60.1   \n9132   1 Series  2016  12999    Automatic    68949   Petrol  200  43.5   \n6451   1 Series  2020  11995    Semi-Auto       10   Petrol  150  34.5   \n7199   3 Series  2020  29875    Semi-Auto      150   Petrol  145  42.2   \n\n      engineSize    price_pred  \n4984         3.0  45436.288019  \n4880         2.0  21738.835257  \n9132         2.0  16205.326279  \n6451         2.0  32088.707415  \n7199         2.0  32088.707415  ",
      "text/html": "<div>\n<style scoped>\n    .dataframe tbody tr th:only-of-type {\n        vertical-align: middle;\n    }\n\n    .dataframe tbody tr th {\n        vertical-align: top;\n    }\n\n    .dataframe thead th {\n        text-align: right;\n    }\n</style>\n<table border=\"1\" class=\"dataframe\">\n  <thead>\n    <tr style=\"text-align: right;\">\n      <th></th>\n      <th>model</th>\n      <th>year</th>\n      <th>price</th>\n      <th>transmission</th>\n      <th>mileage</th>\n      <th>fuelType</th>\n      <th>tax</th>\n      <th>mpg</th>\n      <th>engineSize</th>\n      <th>price_pred</th>\n    </tr>\n  </thead>\n  <tbody>\n    <tr>\n      <th>4984</th>\n      <td>X6</td>\n      <td>2019</td>\n      <td>52990</td>\n      <td>Semi-Auto</td>\n      <td>3086</td>\n      <td>Diesel</td>\n      <td>145</td>\n      <td>34.9</td>\n      <td>3.0</td>\n      <td>45436.288019</td>\n    </tr>\n    <tr>\n      <th>4880</th>\n      <td>X1</td>\n      <td>2018</td>\n      <td>24081</td>\n      <td>Semi-Auto</td>\n      <td>13245</td>\n      <td>Diesel</td>\n      <td>150</td>\n      <td>60.1</td>\n      <td>2.0</td>\n      <td>21738.835257</td>\n    </tr>\n    <tr>\n      <th>9132</th>\n      <td>1 Series</td>\n      <td>2016</td>\n      <td>12999</td>\n      <td>Automatic</td>\n      <td>68949</td>\n      <td>Petrol</td>\n      <td>200</td>\n      <td>43.5</td>\n      <td>2.0</td>\n      <td>16205.326279</td>\n    </tr>\n    <tr>\n      <th>6451</th>\n      <td>1 Series</td>\n      <td>2020</td>\n      <td>11995</td>\n      <td>Semi-Auto</td>\n      <td>10</td>\n      <td>Petrol</td>\n      <td>150</td>\n      <td>34.5</td>\n      <td>2.0</td>\n      <td>32088.707415</td>\n    </tr>\n    <tr>\n      <th>7199</th>\n      <td>3 Series</td>\n      <td>2020</td>\n      <td>29875</td>\n      <td>Semi-Auto</td>\n      <td>150</td>\n      <td>Petrol</td>\n      <td>145</td>\n      <td>42.2</td>\n      <td>2.0</td>\n      <td>32088.707415</td>\n    </tr>\n  </tbody>\n</table>\n</div>"
     },
     "execution_count": 26,
     "metadata": {},
     "output_type": "execute_result"
    }
   ],
   "source": [
    "test.head()"
   ],
   "metadata": {
    "collapsed": false,
    "pycharm": {
     "name": "#%%\n"
    }
   }
  },
  {
   "cell_type": "markdown",
   "source": [
    "##### Импортируем библиотеку для расчёта ошибок"
   ],
   "metadata": {
    "collapsed": false,
    "pycharm": {
     "name": "#%% md\n"
    }
   }
  },
  {
   "cell_type": "code",
   "execution_count": 27,
   "outputs": [],
   "source": [
    "from sklearn.metrics import  mean_absolute_error, mean_absolute_percentage_error"
   ],
   "metadata": {
    "collapsed": false,
    "pycharm": {
     "name": "#%%\n"
    }
   }
  },
  {
   "cell_type": "code",
   "execution_count": 28,
   "outputs": [],
   "source": [
    "def error(y_true, y_pred):\n",
    "    print(mean_absolute_error(y_true, y_pred))\n",
    "    print(mean_absolute_percentage_error(y_true, y_pred))"
   ],
   "metadata": {
    "collapsed": false,
    "pycharm": {
     "name": "#%%\n"
    }
   }
  },
  {
   "cell_type": "code",
   "execution_count": 29,
   "outputs": [
    {
     "name": "stdout",
     "output_type": "stream",
     "text": [
      "3366.679482256595\n",
      "0.15363582890850797\n"
     ]
    }
   ],
   "source": [
    "error(test.price, test.price_pred)"
   ],
   "metadata": {
    "collapsed": false,
    "pycharm": {
     "name": "#%%\n"
    }
   }
  },
  {
   "cell_type": "markdown",
   "source": [
    "#### Катбуст выдал лучший результат против Human learning:\n",
    "#### catboost MAPE: 0.15166607293455014 | Human learning MAPE: 0.16037327734163415\n",
    "#### catboost MAE: 3345.7246072100406   | Human learning MAE: 3777.5172798216277"
   ],
   "metadata": {
    "collapsed": false,
    "pycharm": {
     "name": "#%% md\n"
    }
   }
  },
  {
   "cell_type": "markdown",
   "source": [
    "## Обучение на всех фичах"
   ],
   "metadata": {
    "collapsed": false,
    "pycharm": {
     "name": "#%% md\n"
    }
   }
  },
  {
   "cell_type": "code",
   "execution_count": 30,
   "outputs": [],
   "source": [
    "X = ['model', 'year', 'transmission', 'mileage', 'fuelType', 'tax',\n",
    "       'mpg', 'engineSize']\n",
    "\n",
    "cat_features = ['model', 'transmission', 'fuelType']\n",
    "\n",
    "y = ['price']"
   ],
   "metadata": {
    "collapsed": false,
    "pycharm": {
     "name": "#%%\n"
    }
   }
  },
  {
   "cell_type": "code",
   "execution_count": 31,
   "outputs": [],
   "source": [
    "parameters = {'cat_features': cat_features,\n",
    "              'eval_metric': 'MAPE',\n",
    "              'random_seed': 42,\n",
    "              'verbose':100}"
   ],
   "metadata": {
    "collapsed": false,
    "pycharm": {
     "name": "#%%\n"
    }
   }
  },
  {
   "cell_type": "code",
   "execution_count": 32,
   "outputs": [],
   "source": [
    "model = CatBoostRegressor(**parameters)"
   ],
   "metadata": {
    "collapsed": false,
    "pycharm": {
     "name": "#%%\n"
    }
   }
  },
  {
   "cell_type": "code",
   "execution_count": 33,
   "outputs": [
    {
     "name": "stdout",
     "output_type": "stream",
     "text": [
      "Learning rate set to 0.068263\n",
      "0:\tlearn: 0.4607438\ttest: 0.4563750\tbest: 0.4563750 (0)\ttotal: 21.5ms\tremaining: 21.5s\n",
      "100:\tlearn: 0.0904302\ttest: 0.0896388\tbest: 0.0896388 (100)\ttotal: 1.9s\tremaining: 16.9s\n",
      "200:\tlearn: 0.0781784\ttest: 0.0803125\tbest: 0.0803125 (200)\ttotal: 3.94s\tremaining: 15.7s\n",
      "300:\tlearn: 0.0729925\ttest: 0.0764506\tbest: 0.0764506 (300)\ttotal: 6.33s\tremaining: 14.7s\n",
      "400:\tlearn: 0.0695552\ttest: 0.0744676\tbest: 0.0744553 (399)\ttotal: 8.55s\tremaining: 12.8s\n",
      "500:\tlearn: 0.0670683\ttest: 0.0732827\tbest: 0.0732827 (500)\ttotal: 10.7s\tremaining: 10.7s\n",
      "600:\tlearn: 0.0652835\ttest: 0.0726170\tbest: 0.0726128 (597)\ttotal: 12.7s\tremaining: 8.4s\n",
      "700:\tlearn: 0.0636320\ttest: 0.0720622\tbest: 0.0720500 (695)\ttotal: 14.6s\tremaining: 6.21s\n",
      "800:\tlearn: 0.0623408\ttest: 0.0714586\tbest: 0.0714329 (794)\ttotal: 16.6s\tremaining: 4.11s\n",
      "900:\tlearn: 0.0611487\ttest: 0.0711564\tbest: 0.0711321 (898)\ttotal: 18.4s\tremaining: 2.02s\n",
      "999:\tlearn: 0.0601407\ttest: 0.0708439\tbest: 0.0708403 (998)\ttotal: 20.2s\tremaining: 0us\n",
      "\n",
      "bestTest = 0.07084025495\n",
      "bestIteration = 998\n",
      "\n",
      "Shrink model to first 999 iterations.\n"
     ]
    },
    {
     "data": {
      "text/plain": "<catboost.core.CatBoostRegressor at 0x201021a5250>"
     },
     "execution_count": 33,
     "metadata": {},
     "output_type": "execute_result"
    }
   ],
   "source": [
    "model.fit(train[X],train[y],eval_set=(val[X],val[y]))"
   ],
   "metadata": {
    "collapsed": false,
    "pycharm": {
     "name": "#%%\n"
    }
   }
  },
  {
   "cell_type": "markdown",
   "source": [
    "##### На 3 фичах в Human learning лучший результат был 16.03%, а в Catboost на всех фичах 7.08%"
   ],
   "metadata": {
    "collapsed": false,
    "pycharm": {
     "name": "#%% md\n"
    }
   }
  },
  {
   "cell_type": "markdown",
   "source": [
    "##### Сделаем предикт на тесте"
   ],
   "metadata": {
    "collapsed": false,
    "pycharm": {
     "name": "#%% md\n"
    }
   }
  },
  {
   "cell_type": "code",
   "execution_count": 34,
   "outputs": [
    {
     "data": {
      "text/plain": "array([57417.53972205, 22003.56027391, 13461.40876567, ...,\n       30553.87789981, 13818.32099473, 24849.36058457])"
     },
     "execution_count": 34,
     "metadata": {},
     "output_type": "execute_result"
    }
   ],
   "source": [
    "model.predict(test[X])"
   ],
   "metadata": {
    "collapsed": false,
    "pycharm": {
     "name": "#%%\n"
    }
   }
  },
  {
   "cell_type": "code",
   "execution_count": 35,
   "outputs": [],
   "source": [
    "test['price_pred_all'] = model.predict(test[X])"
   ],
   "metadata": {
    "collapsed": false,
    "pycharm": {
     "name": "#%%\n"
    }
   }
  },
  {
   "cell_type": "code",
   "execution_count": 36,
   "outputs": [
    {
     "data": {
      "text/plain": "          model  year  price transmission  mileage fuelType  tax   mpg  \\\n4984         X6  2019  52990    Semi-Auto     3086   Diesel  145  34.9   \n4880         X1  2018  24081    Semi-Auto    13245   Diesel  150  60.1   \n9132   1 Series  2016  12999    Automatic    68949   Petrol  200  43.5   \n6451   1 Series  2020  11995    Semi-Auto       10   Petrol  150  34.5   \n7199   3 Series  2020  29875    Semi-Auto      150   Petrol  145  42.2   \n\n      engineSize    price_pred  price_pred_all  \n4984         3.0  45436.288019    57417.539722  \n4880         2.0  21738.835257    22003.560274  \n9132         2.0  16205.326279    13461.408766  \n6451         2.0  32088.707415    32149.002131  \n7199         2.0  32088.707415    35100.139852  ",
      "text/html": "<div>\n<style scoped>\n    .dataframe tbody tr th:only-of-type {\n        vertical-align: middle;\n    }\n\n    .dataframe tbody tr th {\n        vertical-align: top;\n    }\n\n    .dataframe thead th {\n        text-align: right;\n    }\n</style>\n<table border=\"1\" class=\"dataframe\">\n  <thead>\n    <tr style=\"text-align: right;\">\n      <th></th>\n      <th>model</th>\n      <th>year</th>\n      <th>price</th>\n      <th>transmission</th>\n      <th>mileage</th>\n      <th>fuelType</th>\n      <th>tax</th>\n      <th>mpg</th>\n      <th>engineSize</th>\n      <th>price_pred</th>\n      <th>price_pred_all</th>\n    </tr>\n  </thead>\n  <tbody>\n    <tr>\n      <th>4984</th>\n      <td>X6</td>\n      <td>2019</td>\n      <td>52990</td>\n      <td>Semi-Auto</td>\n      <td>3086</td>\n      <td>Diesel</td>\n      <td>145</td>\n      <td>34.9</td>\n      <td>3.0</td>\n      <td>45436.288019</td>\n      <td>57417.539722</td>\n    </tr>\n    <tr>\n      <th>4880</th>\n      <td>X1</td>\n      <td>2018</td>\n      <td>24081</td>\n      <td>Semi-Auto</td>\n      <td>13245</td>\n      <td>Diesel</td>\n      <td>150</td>\n      <td>60.1</td>\n      <td>2.0</td>\n      <td>21738.835257</td>\n      <td>22003.560274</td>\n    </tr>\n    <tr>\n      <th>9132</th>\n      <td>1 Series</td>\n      <td>2016</td>\n      <td>12999</td>\n      <td>Automatic</td>\n      <td>68949</td>\n      <td>Petrol</td>\n      <td>200</td>\n      <td>43.5</td>\n      <td>2.0</td>\n      <td>16205.326279</td>\n      <td>13461.408766</td>\n    </tr>\n    <tr>\n      <th>6451</th>\n      <td>1 Series</td>\n      <td>2020</td>\n      <td>11995</td>\n      <td>Semi-Auto</td>\n      <td>10</td>\n      <td>Petrol</td>\n      <td>150</td>\n      <td>34.5</td>\n      <td>2.0</td>\n      <td>32088.707415</td>\n      <td>32149.002131</td>\n    </tr>\n    <tr>\n      <th>7199</th>\n      <td>3 Series</td>\n      <td>2020</td>\n      <td>29875</td>\n      <td>Semi-Auto</td>\n      <td>150</td>\n      <td>Petrol</td>\n      <td>145</td>\n      <td>42.2</td>\n      <td>2.0</td>\n      <td>32088.707415</td>\n      <td>35100.139852</td>\n    </tr>\n  </tbody>\n</table>\n</div>"
     },
     "execution_count": 36,
     "metadata": {},
     "output_type": "execute_result"
    }
   ],
   "source": [
    "test.head()"
   ],
   "metadata": {
    "collapsed": false,
    "pycharm": {
     "name": "#%%\n"
    }
   }
  },
  {
   "cell_type": "code",
   "execution_count": 37,
   "outputs": [
    {
     "name": "stdout",
     "output_type": "stream",
     "text": [
      "1556.5378327680894\n",
      "0.07367840910148211\n"
     ]
    }
   ],
   "source": [
    "error(test.price, test.price_pred_all)"
   ],
   "metadata": {
    "collapsed": false,
    "pycharm": {
     "name": "#%%\n"
    }
   }
  },
  {
   "cell_type": "markdown",
   "source": [
    "### НА всех фичах ошибка 7.36% в catboost"
   ],
   "metadata": {
    "collapsed": false,
    "pycharm": {
     "name": "#%% md\n"
    }
   }
  },
  {
   "cell_type": "markdown",
   "source": [
    "## Количество итераций и learning rate"
   ],
   "metadata": {
    "collapsed": false,
    "pycharm": {
     "name": "#%% md\n"
    }
   }
  },
  {
   "cell_type": "markdown",
   "source": [
    "##### Желательно, чтобы лучший результат достигался ближе к концу обучения, для более тщательного обучения, но если лучший результат приходится, на одну из последних итераций, то можно увеличить learning rate\n",
    "##### Можно уменьшить learning rate, что бы модель училась не так быстро\n",
    "##### НА 3 фичах:"
   ],
   "metadata": {
    "collapsed": false,
    "pycharm": {
     "name": "#%% md\n"
    }
   }
  },
  {
   "cell_type": "code",
   "execution_count": 38,
   "outputs": [],
   "source": [
    "X = ['year', 'transmission', 'engineSize']\n",
    "\n",
    "cat_features = ['transmission']\n",
    "\n",
    "y = ['price']"
   ],
   "metadata": {
    "collapsed": false,
    "pycharm": {
     "name": "#%%\n"
    }
   }
  },
  {
   "cell_type": "code",
   "execution_count": 39,
   "outputs": [],
   "source": [
    "model = CatBoostRegressor(cat_features=cat_features,\n",
    "                          learning_rate=0.03,\n",
    "                          eval_metric='MAPE',\n",
    "                          random_state=42,\n",
    "                          verbose=100)\n",
    "# verbose - выводить каждую n-ую итерацию"
   ],
   "metadata": {
    "collapsed": false,
    "pycharm": {
     "name": "#%%\n"
    }
   }
  },
  {
   "cell_type": "code",
   "execution_count": 40,
   "outputs": [
    {
     "name": "stdout",
     "output_type": "stream",
     "text": [
      "0:\tlearn: 0.4746987\ttest: 0.4699730\tbest: 0.4699730 (0)\ttotal: 21.2ms\tremaining: 21.2s\n",
      "100:\tlearn: 0.1681230\ttest: 0.1638970\tbest: 0.1638970 (100)\ttotal: 1.83s\tremaining: 16.3s\n",
      "200:\tlearn: 0.1561398\ttest: 0.1538311\tbest: 0.1538311 (200)\ttotal: 3.47s\tremaining: 13.8s\n",
      "300:\tlearn: 0.1543096\ttest: 0.1525317\tbest: 0.1525309 (299)\ttotal: 4.91s\tremaining: 11.4s\n",
      "400:\tlearn: 0.1534465\ttest: 0.1519221\tbest: 0.1519198 (397)\ttotal: 6.61s\tremaining: 9.87s\n",
      "500:\tlearn: 0.1527824\ttest: 0.1516330\tbest: 0.1516164 (480)\ttotal: 8.25s\tremaining: 8.21s\n",
      "600:\tlearn: 0.1522590\ttest: 0.1514284\tbest: 0.1514284 (600)\ttotal: 9.94s\tremaining: 6.6s\n",
      "700:\tlearn: 0.1518052\ttest: 0.1513704\tbest: 0.1513673 (689)\ttotal: 11.6s\tremaining: 4.94s\n",
      "800:\tlearn: 0.1514495\ttest: 0.1513967\tbest: 0.1513651 (703)\ttotal: 13.2s\tremaining: 3.28s\n",
      "900:\tlearn: 0.1510958\ttest: 0.1513657\tbest: 0.1513489 (873)\ttotal: 15s\tremaining: 1.65s\n",
      "999:\tlearn: 0.1508297\ttest: 0.1513297\tbest: 0.1513168 (992)\ttotal: 16.7s\tremaining: 0us\n",
      "\n",
      "bestTest = 0.1513167711\n",
      "bestIteration = 992\n",
      "\n",
      "Shrink model to first 993 iterations.\n"
     ]
    },
    {
     "data": {
      "text/plain": "<catboost.core.CatBoostRegressor at 0x201021c3a50>"
     },
     "execution_count": 40,
     "metadata": {},
     "output_type": "execute_result"
    }
   ],
   "source": [
    "model.fit(train[X], train[y], eval_set=(val[X], val[y]))"
   ],
   "metadata": {
    "collapsed": false,
    "pycharm": {
     "name": "#%%\n"
    }
   }
  },
  {
   "cell_type": "markdown",
   "source": [
    "##### На всех фичах:"
   ],
   "metadata": {
    "collapsed": false,
    "pycharm": {
     "name": "#%% md\n"
    }
   }
  },
  {
   "cell_type": "code",
   "execution_count": 41,
   "outputs": [],
   "source": [
    "X = ['model', 'year', 'transmission', 'mileage', 'fuelType', 'tax',\n",
    "       'mpg', 'engineSize']\n",
    "\n",
    "cat_features = ['model', 'transmission', 'fuelType']\n",
    "\n",
    "y = ['price']"
   ],
   "metadata": {
    "collapsed": false,
    "pycharm": {
     "name": "#%%\n"
    }
   }
  },
  {
   "cell_type": "code",
   "execution_count": 42,
   "outputs": [],
   "source": [
    "parameters = {'cat_features': cat_features,\n",
    "              'learning_rate': 0.075,\n",
    "              'eval_metric': 'MAPE',\n",
    "              'random_seed': 42,\n",
    "              'verbose':100}"
   ],
   "metadata": {
    "collapsed": false,
    "pycharm": {
     "name": "#%%\n"
    }
   }
  },
  {
   "cell_type": "code",
   "execution_count": 43,
   "outputs": [],
   "source": [
    "model = CatBoostRegressor(**parameters)"
   ],
   "metadata": {
    "collapsed": false,
    "pycharm": {
     "name": "#%%\n"
    }
   }
  },
  {
   "cell_type": "code",
   "execution_count": 44,
   "outputs": [
    {
     "name": "stdout",
     "output_type": "stream",
     "text": [
      "0:\tlearn: 0.4582738\ttest: 0.4539380\tbest: 0.4539380 (0)\ttotal: 19.2ms\tremaining: 19.2s\n",
      "100:\tlearn: 0.0876480\ttest: 0.0862924\tbest: 0.0862924 (100)\ttotal: 1.93s\tremaining: 17.2s\n",
      "200:\tlearn: 0.0773759\ttest: 0.0790647\tbest: 0.0790404 (198)\ttotal: 3.83s\tremaining: 15.2s\n",
      "300:\tlearn: 0.0719070\ttest: 0.0753211\tbest: 0.0753211 (300)\ttotal: 5.73s\tremaining: 13.3s\n",
      "400:\tlearn: 0.0687633\ttest: 0.0735751\tbest: 0.0735751 (400)\ttotal: 7.63s\tremaining: 11.4s\n",
      "500:\tlearn: 0.0664724\ttest: 0.0725579\tbest: 0.0725579 (500)\ttotal: 9.58s\tremaining: 9.54s\n",
      "600:\tlearn: 0.0645872\ttest: 0.0717504\tbest: 0.0717504 (600)\ttotal: 11.5s\tremaining: 7.63s\n",
      "700:\tlearn: 0.0627572\ttest: 0.0710084\tbest: 0.0710084 (700)\ttotal: 13.4s\tremaining: 5.71s\n",
      "800:\tlearn: 0.0613750\ttest: 0.0704878\tbest: 0.0704878 (800)\ttotal: 15.3s\tremaining: 3.8s\n",
      "900:\tlearn: 0.0599069\ttest: 0.0698996\tbest: 0.0698936 (896)\ttotal: 17.3s\tremaining: 1.9s\n",
      "999:\tlearn: 0.0587290\ttest: 0.0697822\tbest: 0.0696893 (998)\ttotal: 19.2s\tremaining: 0us\n",
      "\n",
      "bestTest = 0.0696892648\n",
      "bestIteration = 998\n",
      "\n",
      "Shrink model to first 999 iterations.\n"
     ]
    },
    {
     "data": {
      "text/plain": "<catboost.core.CatBoostRegressor at 0x2017ec20b50>"
     },
     "execution_count": 44,
     "metadata": {},
     "output_type": "execute_result"
    }
   ],
   "source": [
    "model.fit(train[X],train[y],eval_set=(val[X],val[y]))"
   ],
   "metadata": {
    "collapsed": false,
    "pycharm": {
     "name": "#%%\n"
    }
   }
  },
  {
   "cell_type": "markdown",
   "source": [
    "##### Модель улучшила результат за счёт Learning rate"
   ],
   "metadata": {
    "collapsed": false,
    "pycharm": {
     "name": "#%% md\n"
    }
   }
  },
  {
   "cell_type": "code",
   "execution_count": 45,
   "outputs": [],
   "source": [
    "parameters = {'cat_features': cat_features,\n",
    "              'learning_rate': 0.08,\n",
    "              'eval_metric': 'MAPE',\n",
    "              'random_seed': 42,\n",
    "              'verbose':100}"
   ],
   "metadata": {
    "collapsed": false,
    "pycharm": {
     "name": "#%%\n"
    }
   }
  },
  {
   "cell_type": "code",
   "execution_count": 46,
   "outputs": [],
   "source": [
    "model = CatBoostRegressor(**parameters)"
   ],
   "metadata": {
    "collapsed": false,
    "pycharm": {
     "name": "#%%\n"
    }
   }
  },
  {
   "cell_type": "code",
   "execution_count": 47,
   "outputs": [
    {
     "name": "stdout",
     "output_type": "stream",
     "text": [
      "0:\tlearn: 0.4564416\ttest: 0.4521294\tbest: 0.4521294 (0)\ttotal: 21.6ms\tremaining: 21.6s\n",
      "100:\tlearn: 0.0875290\ttest: 0.0867329\tbest: 0.0867329 (100)\ttotal: 2.1s\tremaining: 18.7s\n",
      "200:\tlearn: 0.0760834\ttest: 0.0779235\tbest: 0.0779235 (200)\ttotal: 4.29s\tremaining: 17s\n",
      "300:\tlearn: 0.0708670\ttest: 0.0740290\tbest: 0.0740290 (300)\ttotal: 6.14s\tremaining: 14.2s\n",
      "400:\tlearn: 0.0676240\ttest: 0.0718814\tbest: 0.0718814 (400)\ttotal: 8.02s\tremaining: 12s\n",
      "500:\tlearn: 0.0654070\ttest: 0.0709221\tbest: 0.0708594 (496)\ttotal: 10.7s\tremaining: 10.6s\n",
      "600:\tlearn: 0.0638577\ttest: 0.0704606\tbest: 0.0704490 (599)\ttotal: 12.7s\tremaining: 8.41s\n",
      "700:\tlearn: 0.0622969\ttest: 0.0698226\tbest: 0.0698226 (700)\ttotal: 14.6s\tremaining: 6.22s\n",
      "800:\tlearn: 0.0609583\ttest: 0.0694169\tbest: 0.0694004 (791)\ttotal: 16.5s\tremaining: 4.1s\n",
      "900:\tlearn: 0.0596089\ttest: 0.0689968\tbest: 0.0689945 (895)\ttotal: 18.5s\tremaining: 2.03s\n",
      "999:\tlearn: 0.0584626\ttest: 0.0686829\tbest: 0.0686377 (993)\ttotal: 20.4s\tremaining: 0us\n",
      "\n",
      "bestTest = 0.06863774536\n",
      "bestIteration = 993\n",
      "\n",
      "Shrink model to first 994 iterations.\n"
     ]
    },
    {
     "data": {
      "text/plain": "<catboost.core.CatBoostRegressor at 0x20151344750>"
     },
     "execution_count": 47,
     "metadata": {},
     "output_type": "execute_result"
    }
   ],
   "source": [
    "model.fit(train[X],train[y],eval_set=(val[X],val[y]))"
   ],
   "metadata": {
    "collapsed": false,
    "pycharm": {
     "name": "#%%\n"
    }
   }
  },
  {
   "cell_type": "markdown",
   "source": [
    "## Останавливаем, если нет улучшений"
   ],
   "metadata": {
    "collapsed": false,
    "pycharm": {
     "name": "#%% md\n"
    }
   }
  },
  {
   "cell_type": "markdown",
   "source": [
    "#### Early_stopping_rounds - помогает не перебирать всю 1000 вариантов, а останавливать обучение, если не происходит улучшений в течении n итераций"
   ],
   "metadata": {
    "collapsed": false
   }
  },
  {
   "cell_type": "code",
   "execution_count": 48,
   "outputs": [],
   "source": [
    "X = ['year', 'transmission', 'engineSize']\n",
    "\n",
    "cat_features = ['transmission']\n",
    "\n",
    "y = ['price']"
   ],
   "metadata": {
    "collapsed": false,
    "pycharm": {
     "name": "#%%\n"
    }
   }
  },
  {
   "cell_type": "code",
   "execution_count": 49,
   "outputs": [],
   "source": [
    "model = CatBoostRegressor(cat_features=cat_features,\n",
    "                          early_stopping_rounds=200,\n",
    "                          eval_metric='MAPE',\n",
    "                          random_state=42,\n",
    "                          verbose=100)\n",
    "# verbose - выводить каждую n-ую итерацию"
   ],
   "metadata": {
    "collapsed": false,
    "pycharm": {
     "name": "#%%\n"
    }
   }
  },
  {
   "cell_type": "code",
   "execution_count": 50,
   "outputs": [
    {
     "name": "stdout",
     "output_type": "stream",
     "text": [
      "Learning rate set to 0.068263\n",
      "0:\tlearn: 0.4603375\ttest: 0.4555509\tbest: 0.4555509 (0)\ttotal: 19.1ms\tremaining: 19.1s\n",
      "100:\tlearn: 0.1546393\ttest: 0.1529687\tbest: 0.1529687 (100)\ttotal: 1.7s\tremaining: 15.1s\n",
      "200:\tlearn: 0.1528213\ttest: 0.1517332\tbest: 0.1517332 (200)\ttotal: 3.21s\tremaining: 12.8s\n",
      "300:\tlearn: 0.1517532\ttest: 0.1514386\tbest: 0.1514000 (288)\ttotal: 4.98s\tremaining: 11.6s\n",
      "400:\tlearn: 0.1509722\ttest: 0.1515508\tbest: 0.1514000 (288)\ttotal: 6.7s\tremaining: 10s\n",
      "Stopped by overfitting detector  (200 iterations wait)\n",
      "\n",
      "bestTest = 0.1514000297\n",
      "bestIteration = 288\n",
      "\n",
      "Shrink model to first 289 iterations.\n"
     ]
    },
    {
     "data": {
      "text/plain": "<catboost.core.CatBoostRegressor at 0x201021c2790>"
     },
     "execution_count": 50,
     "metadata": {},
     "output_type": "execute_result"
    }
   ],
   "source": [
    "model.fit(train[X], train[y], eval_set=(val[X], val[y]))"
   ],
   "metadata": {
    "collapsed": false,
    "pycharm": {
     "name": "#%%\n"
    }
   }
  },
  {
   "cell_type": "markdown",
   "source": [
    "## Обучаемся на всех данных (train + val)"
   ],
   "metadata": {
    "collapsed": false,
    "pycharm": {
     "name": "#%% md\n"
    }
   }
  },
  {
   "cell_type": "markdown",
   "source": [
    "##### После того, как с помощью Val были найдены параметры, при которых модель выдаёт лучший результат, можно обучить модель на train + val, для улучшения результата"
   ],
   "metadata": {
    "collapsed": false,
    "pycharm": {
     "name": "#%% md\n"
    }
   }
  },
  {
   "cell_type": "code",
   "execution_count": 55,
   "outputs": [
    {
     "data": {
      "text/plain": "(6468, 2156, 8624)"
     },
     "execution_count": 55,
     "metadata": {},
     "output_type": "execute_result"
    }
   ],
   "source": [
    "len(train), len(val), len(train + val)"
   ],
   "metadata": {
    "collapsed": false,
    "pycharm": {
     "name": "#%%\n"
    }
   }
  },
  {
   "cell_type": "markdown",
   "source": [
    "##### Функция конкат объединяет (конкатенирует) данные датафреймов"
   ],
   "metadata": {
    "collapsed": false,
    "pycharm": {
     "name": "#%% md\n"
    }
   }
  },
  {
   "cell_type": "code",
   "execution_count": 60,
   "outputs": [],
   "source": [
    "train_full = pd.concat([train, val])"
   ],
   "metadata": {
    "collapsed": false,
    "pycharm": {
     "name": "#%%\n"
    }
   }
  },
  {
   "cell_type": "code",
   "execution_count": 61,
   "outputs": [
    {
     "data": {
      "text/plain": "          model  year  price transmission  mileage fuelType  tax   mpg  \\\n5133         X6  2015  25000    Semi-Auto    26100   Diesel  205  45.6   \n2121         X2  2019  31980    Automatic     4804   Petrol  145  34.0   \n6576         X2  2018  22995    Semi-Auto    24136   Petrol  145  38.7   \n8330   3 Series  2016  12999       Manual    52224   Diesel  125  62.8   \n3161         X3  2019  32980    Semi-Auto     1961   Diesel  150  54.3   \n\n      engineSize  \n5133         3.0  \n2121         2.0  \n6576         2.0  \n8330         2.0  \n3161         2.0  ",
      "text/html": "<div>\n<style scoped>\n    .dataframe tbody tr th:only-of-type {\n        vertical-align: middle;\n    }\n\n    .dataframe tbody tr th {\n        vertical-align: top;\n    }\n\n    .dataframe thead th {\n        text-align: right;\n    }\n</style>\n<table border=\"1\" class=\"dataframe\">\n  <thead>\n    <tr style=\"text-align: right;\">\n      <th></th>\n      <th>model</th>\n      <th>year</th>\n      <th>price</th>\n      <th>transmission</th>\n      <th>mileage</th>\n      <th>fuelType</th>\n      <th>tax</th>\n      <th>mpg</th>\n      <th>engineSize</th>\n    </tr>\n  </thead>\n  <tbody>\n    <tr>\n      <th>5133</th>\n      <td>X6</td>\n      <td>2015</td>\n      <td>25000</td>\n      <td>Semi-Auto</td>\n      <td>26100</td>\n      <td>Diesel</td>\n      <td>205</td>\n      <td>45.6</td>\n      <td>3.0</td>\n    </tr>\n    <tr>\n      <th>2121</th>\n      <td>X2</td>\n      <td>2019</td>\n      <td>31980</td>\n      <td>Automatic</td>\n      <td>4804</td>\n      <td>Petrol</td>\n      <td>145</td>\n      <td>34.0</td>\n      <td>2.0</td>\n    </tr>\n    <tr>\n      <th>6576</th>\n      <td>X2</td>\n      <td>2018</td>\n      <td>22995</td>\n      <td>Semi-Auto</td>\n      <td>24136</td>\n      <td>Petrol</td>\n      <td>145</td>\n      <td>38.7</td>\n      <td>2.0</td>\n    </tr>\n    <tr>\n      <th>8330</th>\n      <td>3 Series</td>\n      <td>2016</td>\n      <td>12999</td>\n      <td>Manual</td>\n      <td>52224</td>\n      <td>Diesel</td>\n      <td>125</td>\n      <td>62.8</td>\n      <td>2.0</td>\n    </tr>\n    <tr>\n      <th>3161</th>\n      <td>X3</td>\n      <td>2019</td>\n      <td>32980</td>\n      <td>Semi-Auto</td>\n      <td>1961</td>\n      <td>Diesel</td>\n      <td>150</td>\n      <td>54.3</td>\n      <td>2.0</td>\n    </tr>\n  </tbody>\n</table>\n</div>"
     },
     "execution_count": 61,
     "metadata": {},
     "output_type": "execute_result"
    }
   ],
   "source": [
    "train_full.head()"
   ],
   "metadata": {
    "collapsed": false,
    "pycharm": {
     "name": "#%%\n"
    }
   }
  },
  {
   "cell_type": "markdown",
   "source": [
    "##### Смотрим лучший предыдущий результат"
   ],
   "metadata": {
    "collapsed": false,
    "pycharm": {
     "name": "#%% md\n"
    }
   }
  },
  {
   "cell_type": "code",
   "execution_count": 68,
   "outputs": [],
   "source": [
    "X = ['model', 'year', 'transmission', 'mileage', 'fuelType', 'tax',\n",
    "       'mpg', 'engineSize']\n",
    "\n",
    "cat_features = ['model', 'transmission', 'fuelType']\n",
    "\n",
    "y = ['price']"
   ],
   "metadata": {
    "collapsed": false,
    "pycharm": {
     "name": "#%%\n"
    }
   }
  },
  {
   "cell_type": "code",
   "execution_count": 72,
   "outputs": [],
   "source": [
    "parameters = {'cat_features': cat_features,\n",
    "              'learning_rate': 0.08,\n",
    "              'eval_metric': 'MAPE',\n",
    "              'random_seed': 42,\n",
    "              'verbose':100}"
   ],
   "metadata": {
    "collapsed": false,
    "pycharm": {
     "name": "#%%\n"
    }
   }
  },
  {
   "cell_type": "code",
   "execution_count": 73,
   "outputs": [],
   "source": [
    "model = CatBoostRegressor(**parameters)"
   ],
   "metadata": {
    "collapsed": false,
    "pycharm": {
     "name": "#%%\n"
    }
   }
  },
  {
   "cell_type": "code",
   "execution_count": 74,
   "outputs": [
    {
     "name": "stdout",
     "output_type": "stream",
     "text": [
      "0:\tlearn: 0.4564416\ttest: 0.4521294\tbest: 0.4521294 (0)\ttotal: 19.8ms\tremaining: 19.8s\n",
      "100:\tlearn: 0.0875290\ttest: 0.0867329\tbest: 0.0867329 (100)\ttotal: 1.79s\tremaining: 16s\n",
      "200:\tlearn: 0.0760834\ttest: 0.0779235\tbest: 0.0779235 (200)\ttotal: 3.57s\tremaining: 14.2s\n",
      "300:\tlearn: 0.0708670\ttest: 0.0740290\tbest: 0.0740290 (300)\ttotal: 5.35s\tremaining: 12.4s\n",
      "400:\tlearn: 0.0676240\ttest: 0.0718814\tbest: 0.0718814 (400)\ttotal: 7.14s\tremaining: 10.7s\n",
      "500:\tlearn: 0.0654070\ttest: 0.0709221\tbest: 0.0708594 (496)\ttotal: 8.94s\tremaining: 8.9s\n",
      "600:\tlearn: 0.0638577\ttest: 0.0704606\tbest: 0.0704490 (599)\ttotal: 10.8s\tremaining: 7.17s\n",
      "700:\tlearn: 0.0622969\ttest: 0.0698226\tbest: 0.0698226 (700)\ttotal: 12.6s\tremaining: 5.36s\n",
      "800:\tlearn: 0.0609583\ttest: 0.0694169\tbest: 0.0694004 (791)\ttotal: 14.4s\tremaining: 3.56s\n",
      "900:\tlearn: 0.0596089\ttest: 0.0689968\tbest: 0.0689945 (895)\ttotal: 16.1s\tremaining: 1.77s\n",
      "999:\tlearn: 0.0584626\ttest: 0.0686829\tbest: 0.0686377 (993)\ttotal: 17.9s\tremaining: 0us\n",
      "\n",
      "bestTest = 0.06863774536\n",
      "bestIteration = 993\n",
      "\n",
      "Shrink model to first 994 iterations.\n"
     ]
    },
    {
     "data": {
      "text/plain": "<catboost.core.CatBoostRegressor at 0x201687fb150>"
     },
     "execution_count": 74,
     "metadata": {},
     "output_type": "execute_result"
    }
   ],
   "source": [
    "model.fit(train[X],train[y],eval_set=(val[X],val[y]))"
   ],
   "metadata": {
    "collapsed": false,
    "pycharm": {
     "name": "#%%\n"
    }
   }
  },
  {
   "cell_type": "code",
   "execution_count": 77,
   "outputs": [
    {
     "data": {
      "text/plain": "994"
     },
     "execution_count": 77,
     "metadata": {},
     "output_type": "execute_result"
    }
   ],
   "source": [
    "model.best_iteration_ + 1\n",
    "# Прибавляем 1, т.к. Shrink model to first 994 iterations."
   ],
   "metadata": {
    "collapsed": false,
    "pycharm": {
     "name": "#%%\n"
    }
   }
  },
  {
   "cell_type": "markdown",
   "source": [
    "##### Создадим модель с параметрами лучшего результата ↑"
   ],
   "metadata": {
    "collapsed": false,
    "pycharm": {
     "name": "#%% md\n"
    }
   }
  },
  {
   "cell_type": "code",
   "execution_count": 78,
   "outputs": [],
   "source": [
    "parameters = {'iterations': model.best_iteration_ + 1,\n",
    "              'cat_features': cat_features,\n",
    "              'learning_rate': 0.08,\n",
    "              'eval_metric': 'MAPE',\n",
    "              'random_seed': 42,\n",
    "              'verbose':100}"
   ],
   "metadata": {
    "collapsed": false,
    "pycharm": {
     "name": "#%%\n"
    }
   }
  },
  {
   "cell_type": "code",
   "execution_count": 79,
   "outputs": [],
   "source": [
    "model = CatBoostRegressor(**parameters)"
   ],
   "metadata": {
    "collapsed": false,
    "pycharm": {
     "name": "#%%\n"
    }
   }
  },
  {
   "cell_type": "markdown",
   "source": [
    "##### Обучаем модель уже на полных данных (train + val)"
   ],
   "metadata": {
    "collapsed": false,
    "pycharm": {
     "name": "#%% md\n"
    }
   }
  },
  {
   "cell_type": "code",
   "execution_count": 80,
   "outputs": [
    {
     "name": "stdout",
     "output_type": "stream",
     "text": [
      "0:\tlearn: 0.4538016\ttotal: 21ms\tremaining: 20.8s\n",
      "100:\tlearn: 0.0854178\ttotal: 1.93s\tremaining: 17s\n",
      "200:\tlearn: 0.0745022\ttotal: 3.75s\tremaining: 14.8s\n",
      "300:\tlearn: 0.0701717\ttotal: 5.57s\tremaining: 12.8s\n",
      "400:\tlearn: 0.0676577\ttotal: 7.38s\tremaining: 10.9s\n",
      "500:\tlearn: 0.0656926\ttotal: 9.21s\tremaining: 9.06s\n",
      "600:\tlearn: 0.0638104\ttotal: 11s\tremaining: 7.2s\n",
      "700:\tlearn: 0.0624302\ttotal: 12.8s\tremaining: 5.37s\n",
      "800:\tlearn: 0.0612275\ttotal: 14.7s\tremaining: 3.53s\n",
      "900:\tlearn: 0.0599823\ttotal: 16.5s\tremaining: 1.71s\n",
      "993:\tlearn: 0.0590330\ttotal: 18.2s\tremaining: 0us\n"
     ]
    },
    {
     "data": {
      "text/plain": "<catboost.core.CatBoostRegressor at 0x20103428a50>"
     },
     "execution_count": 80,
     "metadata": {},
     "output_type": "execute_result"
    }
   ],
   "source": [
    "model.fit(train_full[X], train_full[y])"
   ],
   "metadata": {
    "collapsed": false,
    "pycharm": {
     "name": "#%%\n"
    }
   }
  },
  {
   "cell_type": "markdown",
   "source": [],
   "metadata": {
    "collapsed": false,
    "pycharm": {
     "name": "#%% md\n"
    }
   }
  },
  {
   "cell_type": "markdown",
   "source": [
    "##### Прогнозируем результат"
   ],
   "metadata": {
    "collapsed": false,
    "pycharm": {
     "name": "#%% md\n"
    }
   }
  },
  {
   "cell_type": "code",
   "execution_count": 82,
   "outputs": [
    {
     "data": {
      "text/plain": "          model  year  price transmission  mileage fuelType  tax   mpg  \\\n4984         X6  2019  52990    Semi-Auto     3086   Diesel  145  34.9   \n4880         X1  2018  24081    Semi-Auto    13245   Diesel  150  60.1   \n9132   1 Series  2016  12999    Automatic    68949   Petrol  200  43.5   \n6451   1 Series  2020  11995    Semi-Auto       10   Petrol  150  34.5   \n7199   3 Series  2020  29875    Semi-Auto      150   Petrol  145  42.2   \n\n      engineSize    price_pred  price_pred_all  \n4984         3.0  45436.288019    57417.539722  \n4880         2.0  21738.835257    22003.560274  \n9132         2.0  16205.326279    13461.408766  \n6451         2.0  32088.707415    32149.002131  \n7199         2.0  32088.707415    35100.139852  ",
      "text/html": "<div>\n<style scoped>\n    .dataframe tbody tr th:only-of-type {\n        vertical-align: middle;\n    }\n\n    .dataframe tbody tr th {\n        vertical-align: top;\n    }\n\n    .dataframe thead th {\n        text-align: right;\n    }\n</style>\n<table border=\"1\" class=\"dataframe\">\n  <thead>\n    <tr style=\"text-align: right;\">\n      <th></th>\n      <th>model</th>\n      <th>year</th>\n      <th>price</th>\n      <th>transmission</th>\n      <th>mileage</th>\n      <th>fuelType</th>\n      <th>tax</th>\n      <th>mpg</th>\n      <th>engineSize</th>\n      <th>price_pred</th>\n      <th>price_pred_all</th>\n    </tr>\n  </thead>\n  <tbody>\n    <tr>\n      <th>4984</th>\n      <td>X6</td>\n      <td>2019</td>\n      <td>52990</td>\n      <td>Semi-Auto</td>\n      <td>3086</td>\n      <td>Diesel</td>\n      <td>145</td>\n      <td>34.9</td>\n      <td>3.0</td>\n      <td>45436.288019</td>\n      <td>57417.539722</td>\n    </tr>\n    <tr>\n      <th>4880</th>\n      <td>X1</td>\n      <td>2018</td>\n      <td>24081</td>\n      <td>Semi-Auto</td>\n      <td>13245</td>\n      <td>Diesel</td>\n      <td>150</td>\n      <td>60.1</td>\n      <td>2.0</td>\n      <td>21738.835257</td>\n      <td>22003.560274</td>\n    </tr>\n    <tr>\n      <th>9132</th>\n      <td>1 Series</td>\n      <td>2016</td>\n      <td>12999</td>\n      <td>Automatic</td>\n      <td>68949</td>\n      <td>Petrol</td>\n      <td>200</td>\n      <td>43.5</td>\n      <td>2.0</td>\n      <td>16205.326279</td>\n      <td>13461.408766</td>\n    </tr>\n    <tr>\n      <th>6451</th>\n      <td>1 Series</td>\n      <td>2020</td>\n      <td>11995</td>\n      <td>Semi-Auto</td>\n      <td>10</td>\n      <td>Petrol</td>\n      <td>150</td>\n      <td>34.5</td>\n      <td>2.0</td>\n      <td>32088.707415</td>\n      <td>32149.002131</td>\n    </tr>\n    <tr>\n      <th>7199</th>\n      <td>3 Series</td>\n      <td>2020</td>\n      <td>29875</td>\n      <td>Semi-Auto</td>\n      <td>150</td>\n      <td>Petrol</td>\n      <td>145</td>\n      <td>42.2</td>\n      <td>2.0</td>\n      <td>32088.707415</td>\n      <td>35100.139852</td>\n    </tr>\n  </tbody>\n</table>\n</div>"
     },
     "execution_count": 82,
     "metadata": {},
     "output_type": "execute_result"
    }
   ],
   "source": [
    "test.head()"
   ],
   "metadata": {
    "collapsed": false,
    "pycharm": {
     "name": "#%%\n"
    }
   }
  },
  {
   "cell_type": "code",
   "execution_count": 83,
   "outputs": [],
   "source": [
    "test['price_pred_all_features_and_data'] = model.predict(test[X])"
   ],
   "metadata": {
    "collapsed": false,
    "pycharm": {
     "name": "#%%\n"
    }
   }
  },
  {
   "cell_type": "code",
   "execution_count": 84,
   "outputs": [
    {
     "data": {
      "text/plain": "          model  year  price transmission  mileage fuelType  tax   mpg  \\\n4984         X6  2019  52990    Semi-Auto     3086   Diesel  145  34.9   \n4880         X1  2018  24081    Semi-Auto    13245   Diesel  150  60.1   \n9132   1 Series  2016  12999    Automatic    68949   Petrol  200  43.5   \n6451   1 Series  2020  11995    Semi-Auto       10   Petrol  150  34.5   \n7199   3 Series  2020  29875    Semi-Auto      150   Petrol  145  42.2   \n\n      engineSize    price_pred  price_pred_all  \\\n4984         3.0  45436.288019    57417.539722   \n4880         2.0  21738.835257    22003.560274   \n9132         2.0  16205.326279    13461.408766   \n6451         2.0  32088.707415    32149.002131   \n7199         2.0  32088.707415    35100.139852   \n\n      price_pred_all_features_and_data  \n4984                      56423.500928  \n4880                      22686.544371  \n9132                      13469.047523  \n6451                      32571.236568  \n7199                      34371.930881  ",
      "text/html": "<div>\n<style scoped>\n    .dataframe tbody tr th:only-of-type {\n        vertical-align: middle;\n    }\n\n    .dataframe tbody tr th {\n        vertical-align: top;\n    }\n\n    .dataframe thead th {\n        text-align: right;\n    }\n</style>\n<table border=\"1\" class=\"dataframe\">\n  <thead>\n    <tr style=\"text-align: right;\">\n      <th></th>\n      <th>model</th>\n      <th>year</th>\n      <th>price</th>\n      <th>transmission</th>\n      <th>mileage</th>\n      <th>fuelType</th>\n      <th>tax</th>\n      <th>mpg</th>\n      <th>engineSize</th>\n      <th>price_pred</th>\n      <th>price_pred_all</th>\n      <th>price_pred_all_features_and_data</th>\n    </tr>\n  </thead>\n  <tbody>\n    <tr>\n      <th>4984</th>\n      <td>X6</td>\n      <td>2019</td>\n      <td>52990</td>\n      <td>Semi-Auto</td>\n      <td>3086</td>\n      <td>Diesel</td>\n      <td>145</td>\n      <td>34.9</td>\n      <td>3.0</td>\n      <td>45436.288019</td>\n      <td>57417.539722</td>\n      <td>56423.500928</td>\n    </tr>\n    <tr>\n      <th>4880</th>\n      <td>X1</td>\n      <td>2018</td>\n      <td>24081</td>\n      <td>Semi-Auto</td>\n      <td>13245</td>\n      <td>Diesel</td>\n      <td>150</td>\n      <td>60.1</td>\n      <td>2.0</td>\n      <td>21738.835257</td>\n      <td>22003.560274</td>\n      <td>22686.544371</td>\n    </tr>\n    <tr>\n      <th>9132</th>\n      <td>1 Series</td>\n      <td>2016</td>\n      <td>12999</td>\n      <td>Automatic</td>\n      <td>68949</td>\n      <td>Petrol</td>\n      <td>200</td>\n      <td>43.5</td>\n      <td>2.0</td>\n      <td>16205.326279</td>\n      <td>13461.408766</td>\n      <td>13469.047523</td>\n    </tr>\n    <tr>\n      <th>6451</th>\n      <td>1 Series</td>\n      <td>2020</td>\n      <td>11995</td>\n      <td>Semi-Auto</td>\n      <td>10</td>\n      <td>Petrol</td>\n      <td>150</td>\n      <td>34.5</td>\n      <td>2.0</td>\n      <td>32088.707415</td>\n      <td>32149.002131</td>\n      <td>32571.236568</td>\n    </tr>\n    <tr>\n      <th>7199</th>\n      <td>3 Series</td>\n      <td>2020</td>\n      <td>29875</td>\n      <td>Semi-Auto</td>\n      <td>150</td>\n      <td>Petrol</td>\n      <td>145</td>\n      <td>42.2</td>\n      <td>2.0</td>\n      <td>32088.707415</td>\n      <td>35100.139852</td>\n      <td>34371.930881</td>\n    </tr>\n  </tbody>\n</table>\n</div>"
     },
     "execution_count": 84,
     "metadata": {},
     "output_type": "execute_result"
    }
   ],
   "source": [
    "test.head()"
   ],
   "metadata": {
    "collapsed": false,
    "pycharm": {
     "name": "#%%\n"
    }
   }
  },
  {
   "cell_type": "code",
   "execution_count": 85,
   "outputs": [
    {
     "name": "stdout",
     "output_type": "stream",
     "text": [
      "1512.6160783572977\n",
      "0.07305203023986592\n"
     ]
    }
   ],
   "source": [
    "error(test.price, test.price_pred_all_features_and_data)"
   ],
   "metadata": {
    "collapsed": false,
    "pycharm": {
     "name": "#%%\n"
    }
   }
  },
  {
   "cell_type": "markdown",
   "source": [
    "##### Сравнение с предыдущем результатом на тесте (совсем незначительные улучшения)"
   ],
   "metadata": {
    "collapsed": false,
    "pycharm": {
     "name": "#%% md\n"
    }
   }
  },
  {
   "cell_type": "code",
   "execution_count": 86,
   "outputs": [
    {
     "name": "stdout",
     "output_type": "stream",
     "text": [
      "1556.5378327680894\n",
      "0.07367840910148211\n"
     ]
    }
   ],
   "source": [
    "error(test.price, test.price_pred_all)"
   ],
   "metadata": {
    "collapsed": false,
    "pycharm": {
     "name": "#%%\n"
    }
   }
  },
  {
   "cell_type": "markdown",
   "source": [
    "## Метрики регрессии"
   ],
   "metadata": {
    "collapsed": false,
    "pycharm": {
     "name": "#%% md\n"
    }
   }
  },
  {
   "cell_type": "markdown",
   "source": [
    "##### Работая над данной задачей были использованы 2 метрики оценки качества: MAE (средняя абсолютная ошибка) и MAPE (Средняя абсолютная ошибка в процентах)"
   ],
   "metadata": {
    "collapsed": false,
    "pycharm": {
     "name": "#%% md\n"
    }
   }
  },
  {
   "cell_type": "markdown",
   "source": [
    "## Меняем функцию оптимизации"
   ],
   "metadata": {
    "collapsed": false,
    "pycharm": {
     "name": "#%% md\n"
    }
   }
  },
  {
   "cell_type": "code",
   "execution_count": 87,
   "outputs": [],
   "source": [
    "X = ['model', 'year', 'transmission', 'mileage', 'fuelType', 'tax',\n",
    "       'mpg', 'engineSize']\n",
    "\n",
    "cat_features = ['model', 'transmission', 'fuelType']\n",
    "\n",
    "y = ['price']"
   ],
   "metadata": {
    "collapsed": false,
    "pycharm": {
     "name": "#%%\n"
    }
   }
  },
  {
   "cell_type": "code",
   "execution_count": 88,
   "outputs": [],
   "source": [
    "parameters = {'cat_features': cat_features,\n",
    "              'loss_function': 'MAE',\n",
    "              'learning_rate': 0.08,\n",
    "              'eval_metric': 'MAPE',\n",
    "              'random_seed': 42,\n",
    "              'verbose':100}\n",
    "# eval_metric - функция, для того чтобы ВО ВРЕМЯ ОСТАНОВИТЬСЯ НА ОБУЧЕНИИ И ПРЕДОТВРАТИТЬ ПЕРЕОБУЧЕНИЕ\n",
    "# loss_function - функция потерь, используется для того, чтобы ИДТИ К ТОЧКЕ МИНИМУМА"
   ],
   "metadata": {
    "collapsed": false,
    "pycharm": {
     "name": "#%%\n"
    }
   }
  },
  {
   "cell_type": "code",
   "execution_count": 89,
   "outputs": [],
   "source": [
    "model = CatBoostRegressor(**parameters)"
   ],
   "metadata": {
    "collapsed": false,
    "pycharm": {
     "name": "#%%\n"
    }
   }
  },
  {
   "cell_type": "markdown",
   "source": [
    "##### Лучшая итерация - 999, это значит, что за 1000 итераций лучшая итерация найдена не была, это означает, что модель обучается слишком медленно"
   ],
   "metadata": {
    "collapsed": false,
    "pycharm": {
     "name": "#%% md\n"
    }
   }
  },
  {
   "cell_type": "code",
   "execution_count": 90,
   "outputs": [
    {
     "name": "stdout",
     "output_type": "stream",
     "text": [
      "0:\tlearn: 0.3912371\ttest: 0.3856407\tbest: 0.3856407 (0)\ttotal: 20ms\tremaining: 20s\n",
      "100:\tlearn: 0.0797723\ttest: 0.0802746\tbest: 0.0802746 (100)\ttotal: 1.95s\tremaining: 17.3s\n",
      "200:\tlearn: 0.0692002\ttest: 0.0725640\tbest: 0.0725640 (200)\ttotal: 3.78s\tremaining: 15s\n",
      "300:\tlearn: 0.0643397\ttest: 0.0698855\tbest: 0.0698854 (299)\ttotal: 5.64s\tremaining: 13.1s\n",
      "400:\tlearn: 0.0616214\ttest: 0.0689923\tbest: 0.0689923 (399)\ttotal: 7.45s\tremaining: 11.1s\n",
      "500:\tlearn: 0.0598443\ttest: 0.0682766\tbest: 0.0682766 (500)\ttotal: 9.26s\tremaining: 9.22s\n",
      "600:\tlearn: 0.0585666\ttest: 0.0678695\tbest: 0.0678684 (588)\ttotal: 11.1s\tremaining: 7.35s\n",
      "700:\tlearn: 0.0574898\ttest: 0.0674187\tbest: 0.0674184 (699)\ttotal: 13s\tremaining: 5.53s\n",
      "800:\tlearn: 0.0564617\ttest: 0.0671087\tbest: 0.0671087 (800)\ttotal: 14.8s\tremaining: 3.67s\n",
      "900:\tlearn: 0.0557284\ttest: 0.0669531\tbest: 0.0669348 (888)\ttotal: 16.8s\tremaining: 1.84s\n",
      "999:\tlearn: 0.0550304\ttest: 0.0667791\tbest: 0.0667791 (999)\ttotal: 18.7s\tremaining: 0us\n",
      "\n",
      "bestTest = 0.06677914508\n",
      "bestIteration = 999\n",
      "\n"
     ]
    },
    {
     "data": {
      "text/plain": "<catboost.core.CatBoostRegressor at 0x2010343b210>"
     },
     "execution_count": 90,
     "metadata": {},
     "output_type": "execute_result"
    }
   ],
   "source": [
    "model.fit(train[X],train[y],eval_set=(val[X],val[y]))"
   ],
   "metadata": {
    "collapsed": false,
    "pycharm": {
     "name": "#%%\n"
    }
   }
  },
  {
   "cell_type": "markdown",
   "source": [
    "##### Увеличим learning rate для увеличения скорости обучения"
   ],
   "metadata": {
    "collapsed": false,
    "pycharm": {
     "name": "#%% md\n"
    }
   }
  },
  {
   "cell_type": "code",
   "execution_count": 93,
   "outputs": [],
   "source": [
    "parameters = {'cat_features': cat_features,\n",
    "              'loss_function': 'MAE',\n",
    "              'learning_rate': 0.1,\n",
    "              'eval_metric': 'MAPE',\n",
    "              'random_seed': 42,\n",
    "              'verbose':100}\n",
    "# eval_metric - функция, для того чтобы ВО ВРЕМЯ ОСТАНОВИТЬСЯ НА ОБУЧЕНИИ И ПРЕДОТВРАТИТЬ ПЕРЕОБУЧЕНИЕ\n",
    "# loss_function - функция потерь, используется для того, чтобы ИДТИ К ТОЧКЕ МИНИМУМА"
   ],
   "metadata": {
    "collapsed": false,
    "pycharm": {
     "name": "#%%\n"
    }
   }
  },
  {
   "cell_type": "code",
   "execution_count": 94,
   "outputs": [],
   "source": [
    "model = CatBoostRegressor(**parameters)"
   ],
   "metadata": {
    "collapsed": false,
    "pycharm": {
     "name": "#%%\n"
    }
   }
  },
  {
   "cell_type": "markdown",
   "source": [
    "##### При изменении функции потерь разница получилась очень маленькая и нет смысла проверять это на тестовой выборке"
   ],
   "metadata": {
    "collapsed": false,
    "pycharm": {
     "name": "#%% md\n"
    }
   }
  },
  {
   "cell_type": "code",
   "execution_count": 95,
   "outputs": [
    {
     "name": "stdout",
     "output_type": "stream",
     "text": [
      "0:\tlearn: 0.3849345\ttest: 0.3793341\tbest: 0.3793341 (0)\ttotal: 39ms\tremaining: 39s\n",
      "100:\tlearn: 0.0764009\ttest: 0.0774578\tbest: 0.0774578 (100)\ttotal: 2.03s\tremaining: 18.1s\n",
      "200:\tlearn: 0.0666216\ttest: 0.0706498\tbest: 0.0706498 (200)\ttotal: 3.92s\tremaining: 15.6s\n",
      "300:\tlearn: 0.0628577\ttest: 0.0695086\tbest: 0.0694924 (298)\ttotal: 5.72s\tremaining: 13.3s\n",
      "400:\tlearn: 0.0605748\ttest: 0.0687890\tbest: 0.0687826 (399)\ttotal: 7.53s\tremaining: 11.2s\n",
      "500:\tlearn: 0.0589764\ttest: 0.0683467\tbest: 0.0683222 (490)\ttotal: 9.33s\tremaining: 9.3s\n",
      "600:\tlearn: 0.0579201\ttest: 0.0680567\tbest: 0.0680567 (600)\ttotal: 11.1s\tremaining: 7.39s\n",
      "700:\tlearn: 0.0570454\ttest: 0.0678671\tbest: 0.0678659 (681)\ttotal: 12.9s\tremaining: 5.51s\n",
      "800:\tlearn: 0.0563072\ttest: 0.0676018\tbest: 0.0676018 (800)\ttotal: 14.7s\tremaining: 3.66s\n",
      "900:\tlearn: 0.0555798\ttest: 0.0674500\tbest: 0.0674384 (889)\ttotal: 16.6s\tremaining: 1.82s\n",
      "999:\tlearn: 0.0548863\ttest: 0.0673326\tbest: 0.0672972 (972)\ttotal: 18.4s\tremaining: 0us\n",
      "\n",
      "bestTest = 0.0672972276\n",
      "bestIteration = 972\n",
      "\n",
      "Shrink model to first 973 iterations.\n"
     ]
    },
    {
     "data": {
      "text/plain": "<catboost.core.CatBoostRegressor at 0x2010342e8d0>"
     },
     "execution_count": 95,
     "metadata": {},
     "output_type": "execute_result"
    }
   ],
   "source": [
    "model.fit(train[X],train[y],eval_set=(val[X],val[y]))"
   ],
   "metadata": {
    "collapsed": false,
    "pycharm": {
     "name": "#%%\n"
    }
   }
  },
  {
   "cell_type": "code",
   "execution_count": null,
   "outputs": [],
   "source": [],
   "metadata": {
    "collapsed": false,
    "pycharm": {
     "name": "#%%\n"
    }
   }
  }
 ],
 "metadata": {
  "kernelspec": {
   "display_name": "Python 3",
   "language": "python",
   "name": "python3"
  },
  "language_info": {
   "codemirror_mode": {
    "name": "ipython",
    "version": 2
   },
   "file_extension": ".py",
   "mimetype": "text/x-python",
   "name": "python",
   "nbconvert_exporter": "python",
   "pygments_lexer": "ipython2",
   "version": "2.7.6"
  }
 },
 "nbformat": 4,
 "nbformat_minor": 0
}