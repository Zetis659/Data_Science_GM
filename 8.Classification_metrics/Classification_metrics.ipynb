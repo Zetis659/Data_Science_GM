{
 "cells": [
  {
   "cell_type": "markdown",
   "source": [
    "# Classification metrics"
   ],
   "metadata": {
    "collapsed": false,
    "pycharm": {
     "name": "#%% md\n"
    }
   }
  },
  {
   "cell_type": "markdown",
   "source": [
    "## Загрузка данных\n",
    "#### Данные беру из Churn_modeling.zip"
   ],
   "metadata": {
    "collapsed": false
   }
  },
  {
   "cell_type": "markdown",
   "source": [
    "# Colab"
   ],
   "metadata": {
    "collapsed": false
   }
  },
  {
   "cell_type": "markdown",
   "source": [
    "https://drive.google.com/file/d/1ilb0iIuToOiuFSQpfWQvTCG4jl8I6hOx/view?usp=sharing"
   ],
   "metadata": {
    "collapsed": false
   }
  },
  {
   "cell_type": "code",
   "execution_count": 1,
   "outputs": [
    {
     "name": "stderr",
     "output_type": "stream",
     "text": [
      "\"gdown\" ­Ґ пў«пҐвбп ў­гваҐ­­Ґ© Ё«Ё ў­Ґи­Ґ©\n",
      "Є®¬ ­¤®©, ЁбЇ®«­пҐ¬®© Їа®Ја ¬¬®© Ё«Ё Ї ЄҐв­л¬ д ©«®¬.\n"
     ]
    }
   ],
   "source": [
    "! gdown --id 1ilb0iIuToOiuFSQpfWQvTCG4jl8I6hOx"
   ],
   "metadata": {
    "collapsed": false,
    "pycharm": {
     "name": "#%%\n"
    }
   }
  },
  {
   "cell_type": "markdown",
   "source": [
    "! unzip /content/churn_modeling.zip -d /content/churn_modeling/"
   ],
   "metadata": {
    "collapsed": false
   }
  },
  {
   "cell_type": "code",
   "execution_count": 9,
   "outputs": [
    {
     "name": "stderr",
     "output_type": "stream",
     "text": [
      "\"unzip\" ­Ґ пў«пҐвбп ў­гваҐ­­Ґ© Ё«Ё ў­Ґи­Ґ©\n",
      "Є®¬ ­¤®©, ЁбЇ®«­пҐ¬®© Їа®Ја ¬¬®© Ё«Ё Ї ЄҐв­л¬ д ©«®¬.\n"
     ]
    }
   ],
   "source": [
    "! unzip / content / churn_modeling.zip -d / content / churn_modeling /"
   ],
   "metadata": {
    "collapsed": false,
    "pycharm": {
     "name": "#%%\n"
    }
   }
  },
  {
   "cell_type": "code",
   "execution_count": 1,
   "outputs": [],
   "source": [
    "import pandas as pd"
   ],
   "metadata": {
    "collapsed": false,
    "pycharm": {
     "name": "#%%\n"
    }
   }
  },
  {
   "cell_type": "code",
   "execution_count": 8,
   "outputs": [
    {
     "ename": "FileNotFoundError",
     "evalue": "[Errno 2] No such file or directory: '/content/churn_modeling/Churn_Modelling.csv'",
     "output_type": "error",
     "traceback": [
      "\u001B[1;31m---------------------------------------------------------------------------\u001B[0m",
      "\u001B[1;31mFileNotFoundError\u001B[0m                         Traceback (most recent call last)",
      "Cell \u001B[1;32mIn[8], line 1\u001B[0m\n\u001B[1;32m----> 1\u001B[0m df \u001B[38;5;241m=\u001B[39m \u001B[43mpd\u001B[49m\u001B[38;5;241;43m.\u001B[39;49m\u001B[43mread_csv\u001B[49m\u001B[43m(\u001B[49m\u001B[38;5;124;43m'\u001B[39;49m\u001B[38;5;124;43m/content/churn_modeling/Churn_Modelling.csv\u001B[39;49m\u001B[38;5;124;43m'\u001B[39;49m\u001B[43m)\u001B[49m\n",
      "File \u001B[1;32m~\\AppData\\Local\\Programs\\Python\\Python310\\lib\\site-packages\\pandas\\util\\_decorators.py:211\u001B[0m, in \u001B[0;36mdeprecate_kwarg.<locals>._deprecate_kwarg.<locals>.wrapper\u001B[1;34m(*args, **kwargs)\u001B[0m\n\u001B[0;32m    209\u001B[0m     \u001B[38;5;28;01melse\u001B[39;00m:\n\u001B[0;32m    210\u001B[0m         kwargs[new_arg_name] \u001B[38;5;241m=\u001B[39m new_arg_value\n\u001B[1;32m--> 211\u001B[0m \u001B[38;5;28;01mreturn\u001B[39;00m func(\u001B[38;5;241m*\u001B[39margs, \u001B[38;5;241m*\u001B[39m\u001B[38;5;241m*\u001B[39mkwargs)\n",
      "File \u001B[1;32m~\\AppData\\Local\\Programs\\Python\\Python310\\lib\\site-packages\\pandas\\util\\_decorators.py:331\u001B[0m, in \u001B[0;36mdeprecate_nonkeyword_arguments.<locals>.decorate.<locals>.wrapper\u001B[1;34m(*args, **kwargs)\u001B[0m\n\u001B[0;32m    325\u001B[0m \u001B[38;5;28;01mif\u001B[39;00m \u001B[38;5;28mlen\u001B[39m(args) \u001B[38;5;241m>\u001B[39m num_allow_args:\n\u001B[0;32m    326\u001B[0m     warnings\u001B[38;5;241m.\u001B[39mwarn(\n\u001B[0;32m    327\u001B[0m         msg\u001B[38;5;241m.\u001B[39mformat(arguments\u001B[38;5;241m=\u001B[39m_format_argument_list(allow_args)),\n\u001B[0;32m    328\u001B[0m         \u001B[38;5;167;01mFutureWarning\u001B[39;00m,\n\u001B[0;32m    329\u001B[0m         stacklevel\u001B[38;5;241m=\u001B[39mfind_stack_level(),\n\u001B[0;32m    330\u001B[0m     )\n\u001B[1;32m--> 331\u001B[0m \u001B[38;5;28;01mreturn\u001B[39;00m func(\u001B[38;5;241m*\u001B[39margs, \u001B[38;5;241m*\u001B[39m\u001B[38;5;241m*\u001B[39mkwargs)\n",
      "File \u001B[1;32m~\\AppData\\Local\\Programs\\Python\\Python310\\lib\\site-packages\\pandas\\io\\parsers\\readers.py:950\u001B[0m, in \u001B[0;36mread_csv\u001B[1;34m(filepath_or_buffer, sep, delimiter, header, names, index_col, usecols, squeeze, prefix, mangle_dupe_cols, dtype, engine, converters, true_values, false_values, skipinitialspace, skiprows, skipfooter, nrows, na_values, keep_default_na, na_filter, verbose, skip_blank_lines, parse_dates, infer_datetime_format, keep_date_col, date_parser, dayfirst, cache_dates, iterator, chunksize, compression, thousands, decimal, lineterminator, quotechar, quoting, doublequote, escapechar, comment, encoding, encoding_errors, dialect, error_bad_lines, warn_bad_lines, on_bad_lines, delim_whitespace, low_memory, memory_map, float_precision, storage_options)\u001B[0m\n\u001B[0;32m    935\u001B[0m kwds_defaults \u001B[38;5;241m=\u001B[39m _refine_defaults_read(\n\u001B[0;32m    936\u001B[0m     dialect,\n\u001B[0;32m    937\u001B[0m     delimiter,\n\u001B[1;32m   (...)\u001B[0m\n\u001B[0;32m    946\u001B[0m     defaults\u001B[38;5;241m=\u001B[39m{\u001B[38;5;124m\"\u001B[39m\u001B[38;5;124mdelimiter\u001B[39m\u001B[38;5;124m\"\u001B[39m: \u001B[38;5;124m\"\u001B[39m\u001B[38;5;124m,\u001B[39m\u001B[38;5;124m\"\u001B[39m},\n\u001B[0;32m    947\u001B[0m )\n\u001B[0;32m    948\u001B[0m kwds\u001B[38;5;241m.\u001B[39mupdate(kwds_defaults)\n\u001B[1;32m--> 950\u001B[0m \u001B[38;5;28;01mreturn\u001B[39;00m \u001B[43m_read\u001B[49m\u001B[43m(\u001B[49m\u001B[43mfilepath_or_buffer\u001B[49m\u001B[43m,\u001B[49m\u001B[43m \u001B[49m\u001B[43mkwds\u001B[49m\u001B[43m)\u001B[49m\n",
      "File \u001B[1;32m~\\AppData\\Local\\Programs\\Python\\Python310\\lib\\site-packages\\pandas\\io\\parsers\\readers.py:605\u001B[0m, in \u001B[0;36m_read\u001B[1;34m(filepath_or_buffer, kwds)\u001B[0m\n\u001B[0;32m    602\u001B[0m _validate_names(kwds\u001B[38;5;241m.\u001B[39mget(\u001B[38;5;124m\"\u001B[39m\u001B[38;5;124mnames\u001B[39m\u001B[38;5;124m\"\u001B[39m, \u001B[38;5;28;01mNone\u001B[39;00m))\n\u001B[0;32m    604\u001B[0m \u001B[38;5;66;03m# Create the parser.\u001B[39;00m\n\u001B[1;32m--> 605\u001B[0m parser \u001B[38;5;241m=\u001B[39m TextFileReader(filepath_or_buffer, \u001B[38;5;241m*\u001B[39m\u001B[38;5;241m*\u001B[39mkwds)\n\u001B[0;32m    607\u001B[0m \u001B[38;5;28;01mif\u001B[39;00m chunksize \u001B[38;5;129;01mor\u001B[39;00m iterator:\n\u001B[0;32m    608\u001B[0m     \u001B[38;5;28;01mreturn\u001B[39;00m parser\n",
      "File \u001B[1;32m~\\AppData\\Local\\Programs\\Python\\Python310\\lib\\site-packages\\pandas\\io\\parsers\\readers.py:1442\u001B[0m, in \u001B[0;36mTextFileReader.__init__\u001B[1;34m(self, f, engine, **kwds)\u001B[0m\n\u001B[0;32m   1439\u001B[0m     \u001B[38;5;28mself\u001B[39m\u001B[38;5;241m.\u001B[39moptions[\u001B[38;5;124m\"\u001B[39m\u001B[38;5;124mhas_index_names\u001B[39m\u001B[38;5;124m\"\u001B[39m] \u001B[38;5;241m=\u001B[39m kwds[\u001B[38;5;124m\"\u001B[39m\u001B[38;5;124mhas_index_names\u001B[39m\u001B[38;5;124m\"\u001B[39m]\n\u001B[0;32m   1441\u001B[0m \u001B[38;5;28mself\u001B[39m\u001B[38;5;241m.\u001B[39mhandles: IOHandles \u001B[38;5;241m|\u001B[39m \u001B[38;5;28;01mNone\u001B[39;00m \u001B[38;5;241m=\u001B[39m \u001B[38;5;28;01mNone\u001B[39;00m\n\u001B[1;32m-> 1442\u001B[0m \u001B[38;5;28mself\u001B[39m\u001B[38;5;241m.\u001B[39m_engine \u001B[38;5;241m=\u001B[39m \u001B[38;5;28;43mself\u001B[39;49m\u001B[38;5;241;43m.\u001B[39;49m\u001B[43m_make_engine\u001B[49m\u001B[43m(\u001B[49m\u001B[43mf\u001B[49m\u001B[43m,\u001B[49m\u001B[43m \u001B[49m\u001B[38;5;28;43mself\u001B[39;49m\u001B[38;5;241;43m.\u001B[39;49m\u001B[43mengine\u001B[49m\u001B[43m)\u001B[49m\n",
      "File \u001B[1;32m~\\AppData\\Local\\Programs\\Python\\Python310\\lib\\site-packages\\pandas\\io\\parsers\\readers.py:1735\u001B[0m, in \u001B[0;36mTextFileReader._make_engine\u001B[1;34m(self, f, engine)\u001B[0m\n\u001B[0;32m   1733\u001B[0m     \u001B[38;5;28;01mif\u001B[39;00m \u001B[38;5;124m\"\u001B[39m\u001B[38;5;124mb\u001B[39m\u001B[38;5;124m\"\u001B[39m \u001B[38;5;129;01mnot\u001B[39;00m \u001B[38;5;129;01min\u001B[39;00m mode:\n\u001B[0;32m   1734\u001B[0m         mode \u001B[38;5;241m+\u001B[39m\u001B[38;5;241m=\u001B[39m \u001B[38;5;124m\"\u001B[39m\u001B[38;5;124mb\u001B[39m\u001B[38;5;124m\"\u001B[39m\n\u001B[1;32m-> 1735\u001B[0m \u001B[38;5;28mself\u001B[39m\u001B[38;5;241m.\u001B[39mhandles \u001B[38;5;241m=\u001B[39m \u001B[43mget_handle\u001B[49m\u001B[43m(\u001B[49m\n\u001B[0;32m   1736\u001B[0m \u001B[43m    \u001B[49m\u001B[43mf\u001B[49m\u001B[43m,\u001B[49m\n\u001B[0;32m   1737\u001B[0m \u001B[43m    \u001B[49m\u001B[43mmode\u001B[49m\u001B[43m,\u001B[49m\n\u001B[0;32m   1738\u001B[0m \u001B[43m    \u001B[49m\u001B[43mencoding\u001B[49m\u001B[38;5;241;43m=\u001B[39;49m\u001B[38;5;28;43mself\u001B[39;49m\u001B[38;5;241;43m.\u001B[39;49m\u001B[43moptions\u001B[49m\u001B[38;5;241;43m.\u001B[39;49m\u001B[43mget\u001B[49m\u001B[43m(\u001B[49m\u001B[38;5;124;43m\"\u001B[39;49m\u001B[38;5;124;43mencoding\u001B[39;49m\u001B[38;5;124;43m\"\u001B[39;49m\u001B[43m,\u001B[49m\u001B[43m \u001B[49m\u001B[38;5;28;43;01mNone\u001B[39;49;00m\u001B[43m)\u001B[49m\u001B[43m,\u001B[49m\n\u001B[0;32m   1739\u001B[0m \u001B[43m    \u001B[49m\u001B[43mcompression\u001B[49m\u001B[38;5;241;43m=\u001B[39;49m\u001B[38;5;28;43mself\u001B[39;49m\u001B[38;5;241;43m.\u001B[39;49m\u001B[43moptions\u001B[49m\u001B[38;5;241;43m.\u001B[39;49m\u001B[43mget\u001B[49m\u001B[43m(\u001B[49m\u001B[38;5;124;43m\"\u001B[39;49m\u001B[38;5;124;43mcompression\u001B[39;49m\u001B[38;5;124;43m\"\u001B[39;49m\u001B[43m,\u001B[49m\u001B[43m \u001B[49m\u001B[38;5;28;43;01mNone\u001B[39;49;00m\u001B[43m)\u001B[49m\u001B[43m,\u001B[49m\n\u001B[0;32m   1740\u001B[0m \u001B[43m    \u001B[49m\u001B[43mmemory_map\u001B[49m\u001B[38;5;241;43m=\u001B[39;49m\u001B[38;5;28;43mself\u001B[39;49m\u001B[38;5;241;43m.\u001B[39;49m\u001B[43moptions\u001B[49m\u001B[38;5;241;43m.\u001B[39;49m\u001B[43mget\u001B[49m\u001B[43m(\u001B[49m\u001B[38;5;124;43m\"\u001B[39;49m\u001B[38;5;124;43mmemory_map\u001B[39;49m\u001B[38;5;124;43m\"\u001B[39;49m\u001B[43m,\u001B[49m\u001B[43m \u001B[49m\u001B[38;5;28;43;01mFalse\u001B[39;49;00m\u001B[43m)\u001B[49m\u001B[43m,\u001B[49m\n\u001B[0;32m   1741\u001B[0m \u001B[43m    \u001B[49m\u001B[43mis_text\u001B[49m\u001B[38;5;241;43m=\u001B[39;49m\u001B[43mis_text\u001B[49m\u001B[43m,\u001B[49m\n\u001B[0;32m   1742\u001B[0m \u001B[43m    \u001B[49m\u001B[43merrors\u001B[49m\u001B[38;5;241;43m=\u001B[39;49m\u001B[38;5;28;43mself\u001B[39;49m\u001B[38;5;241;43m.\u001B[39;49m\u001B[43moptions\u001B[49m\u001B[38;5;241;43m.\u001B[39;49m\u001B[43mget\u001B[49m\u001B[43m(\u001B[49m\u001B[38;5;124;43m\"\u001B[39;49m\u001B[38;5;124;43mencoding_errors\u001B[39;49m\u001B[38;5;124;43m\"\u001B[39;49m\u001B[43m,\u001B[49m\u001B[43m \u001B[49m\u001B[38;5;124;43m\"\u001B[39;49m\u001B[38;5;124;43mstrict\u001B[39;49m\u001B[38;5;124;43m\"\u001B[39;49m\u001B[43m)\u001B[49m\u001B[43m,\u001B[49m\n\u001B[0;32m   1743\u001B[0m \u001B[43m    \u001B[49m\u001B[43mstorage_options\u001B[49m\u001B[38;5;241;43m=\u001B[39;49m\u001B[38;5;28;43mself\u001B[39;49m\u001B[38;5;241;43m.\u001B[39;49m\u001B[43moptions\u001B[49m\u001B[38;5;241;43m.\u001B[39;49m\u001B[43mget\u001B[49m\u001B[43m(\u001B[49m\u001B[38;5;124;43m\"\u001B[39;49m\u001B[38;5;124;43mstorage_options\u001B[39;49m\u001B[38;5;124;43m\"\u001B[39;49m\u001B[43m,\u001B[49m\u001B[43m \u001B[49m\u001B[38;5;28;43;01mNone\u001B[39;49;00m\u001B[43m)\u001B[49m\u001B[43m,\u001B[49m\n\u001B[0;32m   1744\u001B[0m \u001B[43m\u001B[49m\u001B[43m)\u001B[49m\n\u001B[0;32m   1745\u001B[0m \u001B[38;5;28;01massert\u001B[39;00m \u001B[38;5;28mself\u001B[39m\u001B[38;5;241m.\u001B[39mhandles \u001B[38;5;129;01mis\u001B[39;00m \u001B[38;5;129;01mnot\u001B[39;00m \u001B[38;5;28;01mNone\u001B[39;00m\n\u001B[0;32m   1746\u001B[0m f \u001B[38;5;241m=\u001B[39m \u001B[38;5;28mself\u001B[39m\u001B[38;5;241m.\u001B[39mhandles\u001B[38;5;241m.\u001B[39mhandle\n",
      "File \u001B[1;32m~\\AppData\\Local\\Programs\\Python\\Python310\\lib\\site-packages\\pandas\\io\\common.py:856\u001B[0m, in \u001B[0;36mget_handle\u001B[1;34m(path_or_buf, mode, encoding, compression, memory_map, is_text, errors, storage_options)\u001B[0m\n\u001B[0;32m    851\u001B[0m \u001B[38;5;28;01melif\u001B[39;00m \u001B[38;5;28misinstance\u001B[39m(handle, \u001B[38;5;28mstr\u001B[39m):\n\u001B[0;32m    852\u001B[0m     \u001B[38;5;66;03m# Check whether the filename is to be opened in binary mode.\u001B[39;00m\n\u001B[0;32m    853\u001B[0m     \u001B[38;5;66;03m# Binary mode does not support 'encoding' and 'newline'.\u001B[39;00m\n\u001B[0;32m    854\u001B[0m     \u001B[38;5;28;01mif\u001B[39;00m ioargs\u001B[38;5;241m.\u001B[39mencoding \u001B[38;5;129;01mand\u001B[39;00m \u001B[38;5;124m\"\u001B[39m\u001B[38;5;124mb\u001B[39m\u001B[38;5;124m\"\u001B[39m \u001B[38;5;129;01mnot\u001B[39;00m \u001B[38;5;129;01min\u001B[39;00m ioargs\u001B[38;5;241m.\u001B[39mmode:\n\u001B[0;32m    855\u001B[0m         \u001B[38;5;66;03m# Encoding\u001B[39;00m\n\u001B[1;32m--> 856\u001B[0m         handle \u001B[38;5;241m=\u001B[39m \u001B[38;5;28;43mopen\u001B[39;49m\u001B[43m(\u001B[49m\n\u001B[0;32m    857\u001B[0m \u001B[43m            \u001B[49m\u001B[43mhandle\u001B[49m\u001B[43m,\u001B[49m\n\u001B[0;32m    858\u001B[0m \u001B[43m            \u001B[49m\u001B[43mioargs\u001B[49m\u001B[38;5;241;43m.\u001B[39;49m\u001B[43mmode\u001B[49m\u001B[43m,\u001B[49m\n\u001B[0;32m    859\u001B[0m \u001B[43m            \u001B[49m\u001B[43mencoding\u001B[49m\u001B[38;5;241;43m=\u001B[39;49m\u001B[43mioargs\u001B[49m\u001B[38;5;241;43m.\u001B[39;49m\u001B[43mencoding\u001B[49m\u001B[43m,\u001B[49m\n\u001B[0;32m    860\u001B[0m \u001B[43m            \u001B[49m\u001B[43merrors\u001B[49m\u001B[38;5;241;43m=\u001B[39;49m\u001B[43merrors\u001B[49m\u001B[43m,\u001B[49m\n\u001B[0;32m    861\u001B[0m \u001B[43m            \u001B[49m\u001B[43mnewline\u001B[49m\u001B[38;5;241;43m=\u001B[39;49m\u001B[38;5;124;43m\"\u001B[39;49m\u001B[38;5;124;43m\"\u001B[39;49m\u001B[43m,\u001B[49m\n\u001B[0;32m    862\u001B[0m \u001B[43m        \u001B[49m\u001B[43m)\u001B[49m\n\u001B[0;32m    863\u001B[0m     \u001B[38;5;28;01melse\u001B[39;00m:\n\u001B[0;32m    864\u001B[0m         \u001B[38;5;66;03m# Binary mode\u001B[39;00m\n\u001B[0;32m    865\u001B[0m         handle \u001B[38;5;241m=\u001B[39m \u001B[38;5;28mopen\u001B[39m(handle, ioargs\u001B[38;5;241m.\u001B[39mmode)\n",
      "\u001B[1;31mFileNotFoundError\u001B[0m: [Errno 2] No such file or directory: '/content/churn_modeling/Churn_Modelling.csv'"
     ]
    }
   ],
   "source": [
    "df = pd.read_csv('/content/churn_modeling/Churn_Modelling.csv')"
   ],
   "metadata": {
    "collapsed": false,
    "pycharm": {
     "name": "#%%\n"
    }
   }
  },
  {
   "cell_type": "code",
   "execution_count": null,
   "outputs": [],
   "source": [
    "df.head()"
   ],
   "metadata": {
    "collapsed": false,
    "pycharm": {
     "name": "#%%\n"
    }
   }
  },
  {
   "cell_type": "markdown",
   "source": [
    "# Pycharm"
   ],
   "metadata": {
    "collapsed": false,
    "pycharm": {
     "name": "#%% md\n"
    }
   }
  },
  {
   "cell_type": "code",
   "execution_count": 5,
   "outputs": [],
   "source": [
    "from zipfile import ZipFile\n",
    "\n",
    "with ZipFile(r'C:\\PyCharm\\Python\\Data_Science_GM\\7.Classification\\churn_modeling.zip', 'r') as zf:\n",
    "    zf.extractall()"
   ],
   "metadata": {
    "collapsed": false,
    "pycharm": {
     "name": "#%%\n"
    }
   }
  },
  {
   "cell_type": "code",
   "execution_count": 1,
   "outputs": [],
   "source": [
    "import pandas as pd"
   ],
   "metadata": {
    "collapsed": false,
    "pycharm": {
     "name": "#%%\n"
    }
   }
  },
  {
   "cell_type": "code",
   "execution_count": 2,
   "outputs": [],
   "source": [
    "df = pd.read_csv('Churn_Modelling.csv')"
   ],
   "metadata": {
    "collapsed": false,
    "pycharm": {
     "name": "#%%\n"
    }
   }
  },
  {
   "cell_type": "code",
   "execution_count": 3,
   "outputs": [
    {
     "data": {
      "text/plain": "   RowNumber  CustomerId   Surname  CreditScore Geography  Gender  Age  \\\n0          1    15634602  Hargrave          619    France  Female   42   \n1          2    15647311      Hill          608     Spain  Female   41   \n2          3    15619304      Onio          502    France  Female   42   \n3          4    15701354      Boni          699    France  Female   39   \n4          5    15737888  Mitchell          850     Spain  Female   43   \n\n   Tenure    Balance  NumOfProducts  HasCrCard  IsActiveMember  \\\n0       2       0.00              1          1               1   \n1       1   83807.86              1          0               1   \n2       8  159660.80              3          1               0   \n3       1       0.00              2          0               0   \n4       2  125510.82              1          1               1   \n\n   EstimatedSalary  Exited  \n0        101348.88       1  \n1        112542.58       0  \n2        113931.57       1  \n3         93826.63       0  \n4         79084.10       0  ",
      "text/html": "<div>\n<style scoped>\n    .dataframe tbody tr th:only-of-type {\n        vertical-align: middle;\n    }\n\n    .dataframe tbody tr th {\n        vertical-align: top;\n    }\n\n    .dataframe thead th {\n        text-align: right;\n    }\n</style>\n<table border=\"1\" class=\"dataframe\">\n  <thead>\n    <tr style=\"text-align: right;\">\n      <th></th>\n      <th>RowNumber</th>\n      <th>CustomerId</th>\n      <th>Surname</th>\n      <th>CreditScore</th>\n      <th>Geography</th>\n      <th>Gender</th>\n      <th>Age</th>\n      <th>Tenure</th>\n      <th>Balance</th>\n      <th>NumOfProducts</th>\n      <th>HasCrCard</th>\n      <th>IsActiveMember</th>\n      <th>EstimatedSalary</th>\n      <th>Exited</th>\n    </tr>\n  </thead>\n  <tbody>\n    <tr>\n      <th>0</th>\n      <td>1</td>\n      <td>15634602</td>\n      <td>Hargrave</td>\n      <td>619</td>\n      <td>France</td>\n      <td>Female</td>\n      <td>42</td>\n      <td>2</td>\n      <td>0.00</td>\n      <td>1</td>\n      <td>1</td>\n      <td>1</td>\n      <td>101348.88</td>\n      <td>1</td>\n    </tr>\n    <tr>\n      <th>1</th>\n      <td>2</td>\n      <td>15647311</td>\n      <td>Hill</td>\n      <td>608</td>\n      <td>Spain</td>\n      <td>Female</td>\n      <td>41</td>\n      <td>1</td>\n      <td>83807.86</td>\n      <td>1</td>\n      <td>0</td>\n      <td>1</td>\n      <td>112542.58</td>\n      <td>0</td>\n    </tr>\n    <tr>\n      <th>2</th>\n      <td>3</td>\n      <td>15619304</td>\n      <td>Onio</td>\n      <td>502</td>\n      <td>France</td>\n      <td>Female</td>\n      <td>42</td>\n      <td>8</td>\n      <td>159660.80</td>\n      <td>3</td>\n      <td>1</td>\n      <td>0</td>\n      <td>113931.57</td>\n      <td>1</td>\n    </tr>\n    <tr>\n      <th>3</th>\n      <td>4</td>\n      <td>15701354</td>\n      <td>Boni</td>\n      <td>699</td>\n      <td>France</td>\n      <td>Female</td>\n      <td>39</td>\n      <td>1</td>\n      <td>0.00</td>\n      <td>2</td>\n      <td>0</td>\n      <td>0</td>\n      <td>93826.63</td>\n      <td>0</td>\n    </tr>\n    <tr>\n      <th>4</th>\n      <td>5</td>\n      <td>15737888</td>\n      <td>Mitchell</td>\n      <td>850</td>\n      <td>Spain</td>\n      <td>Female</td>\n      <td>43</td>\n      <td>2</td>\n      <td>125510.82</td>\n      <td>1</td>\n      <td>1</td>\n      <td>1</td>\n      <td>79084.10</td>\n      <td>0</td>\n    </tr>\n  </tbody>\n</table>\n</div>"
     },
     "execution_count": 3,
     "metadata": {},
     "output_type": "execute_result"
    }
   ],
   "source": [
    "df.head()"
   ],
   "metadata": {
    "collapsed": false,
    "pycharm": {
     "name": "#%%\n"
    }
   }
  },
  {
   "cell_type": "markdown",
   "source": [
    "## Обучающая, валидационная и тестовая выборки"
   ],
   "metadata": {
    "collapsed": false
   }
  },
  {
   "cell_type": "code",
   "execution_count": 4,
   "outputs": [],
   "source": [
    "from sklearn.model_selection import train_test_split"
   ],
   "metadata": {
    "collapsed": false,
    "pycharm": {
     "name": "#%%\n"
    }
   }
  },
  {
   "cell_type": "code",
   "execution_count": 5,
   "outputs": [],
   "source": [
    "train, test = train_test_split(df, random_state=42, train_size=0.6, stratify=df.Exited)"
   ],
   "metadata": {
    "collapsed": false,
    "pycharm": {
     "name": "#%%\n"
    }
   }
  },
  {
   "cell_type": "code",
   "execution_count": 6,
   "outputs": [],
   "source": [
    "val, test = train_test_split(test, random_state=42, train_size=0.5, stratify=test.Exited)"
   ],
   "metadata": {
    "collapsed": false,
    "pycharm": {
     "name": "#%%\n"
    }
   }
  },
  {
   "cell_type": "markdown",
   "source": [
    "проверка разбивки"
   ],
   "metadata": {
    "collapsed": false
   }
  },
  {
   "cell_type": "code",
   "execution_count": 7,
   "outputs": [
    {
     "data": {
      "text/plain": "(0.204, 0.2035, 0.20366666666666666)"
     },
     "execution_count": 7,
     "metadata": {},
     "output_type": "execute_result"
    }
   ],
   "source": [
    "val.Exited.mean(), test.Exited.mean(), train.Exited.mean()"
   ],
   "metadata": {
    "collapsed": false,
    "pycharm": {
     "name": "#%%\n"
    }
   }
  },
  {
   "cell_type": "markdown",
   "source": [
    "## Human learning"
   ],
   "metadata": {
    "collapsed": false,
    "pycharm": {
     "name": "#%% md\n"
    }
   }
  },
  {
   "cell_type": "code",
   "execution_count": 8,
   "outputs": [],
   "source": [
    "train['age_group'] = pd.cut(train.Age, [0, 31, 35, 40, 46, float('inf')])"
   ],
   "metadata": {
    "collapsed": false,
    "pycharm": {
     "name": "#%%\n"
    }
   }
  },
  {
   "cell_type": "code",
   "execution_count": 9,
   "outputs": [],
   "source": [
    "model = train.groupby(['NumOfProducts', 'age_group']).Exited.mean().reset_index()"
   ],
   "metadata": {
    "collapsed": false,
    "pycharm": {
     "name": "#%%\n"
    }
   }
  },
  {
   "cell_type": "code",
   "execution_count": 10,
   "outputs": [],
   "source": [
    "model = model.rename({'Exited': 'score_prod_age'}, axis=1)"
   ],
   "metadata": {
    "collapsed": false,
    "pycharm": {
     "name": "#%%\n"
    }
   }
  },
  {
   "cell_type": "code",
   "execution_count": 11,
   "outputs": [],
   "source": [
    "train = train.merge(model, how='left', on=['NumOfProducts', 'age_group'])"
   ],
   "metadata": {
    "collapsed": false,
    "pycharm": {
     "name": "#%%\n"
    }
   }
  },
  {
   "cell_type": "code",
   "execution_count": 12,
   "outputs": [],
   "source": [
    "test['age_group'] = pd.cut(test.Age, [0, 31, 35, 40, 46, float('inf')])"
   ],
   "metadata": {
    "collapsed": false,
    "pycharm": {
     "name": "#%%\n"
    }
   }
  },
  {
   "cell_type": "code",
   "execution_count": 13,
   "outputs": [],
   "source": [
    "test = test.merge(model, how='left', on=['NumOfProducts', 'age_group'])"
   ],
   "metadata": {
    "collapsed": false,
    "pycharm": {
     "name": "#%%\n"
    }
   }
  },
  {
   "cell_type": "markdown",
   "source": [
    "## Machine learning"
   ],
   "metadata": {
    "collapsed": false,
    "pycharm": {
     "name": "#%% md\n"
    }
   }
  },
  {
   "cell_type": "code",
   "execution_count": 14,
   "outputs": [],
   "source": [
    "# Для Colab\n",
    "# ! pip install catboost"
   ],
   "metadata": {
    "collapsed": false,
    "pycharm": {
     "name": "#%%\n"
    }
   }
  },
  {
   "cell_type": "code",
   "execution_count": 15,
   "outputs": [],
   "source": [
    "from catboost import CatBoostClassifier"
   ],
   "metadata": {
    "collapsed": false,
    "pycharm": {
     "name": "#%%\n"
    }
   }
  },
  {
   "cell_type": "code",
   "execution_count": 16,
   "outputs": [],
   "source": [
    "X = ['CustomerId', 'CreditScore', 'Age', 'Tenure', 'Balance', 'NumOfProducts', 'HasCrCard',\n",
    "     'IsActiveMember', 'EstimatedSalary', 'Geography', 'Gender']\n",
    "cat_features = ['Geography', 'Gender']\n",
    "\n",
    "y = ['Exited']"
   ],
   "metadata": {
    "collapsed": false,
    "pycharm": {
     "name": "#%%\n"
    }
   }
  },
  {
   "cell_type": "code",
   "execution_count": 17,
   "outputs": [],
   "source": [
    "from catboost import Pool\n",
    "\n",
    "train_data = Pool(data=train[X],\n",
    "                  label=train[y],\n",
    "                  cat_features=cat_features\n",
    "                  )\n",
    "\n",
    "valid_data = Pool(data=val[X],\n",
    "                  label=val[y],\n",
    "                  cat_features=cat_features\n",
    "                  )"
   ],
   "metadata": {
    "collapsed": false,
    "pycharm": {
     "name": "#%%\n"
    }
   }
  },
  {
   "cell_type": "code",
   "execution_count": 18,
   "outputs": [],
   "source": [
    "params = {'verbose': 100,\n",
    "          'random_seed': 42,\n",
    "          'learning_rate': 0.01}"
   ],
   "metadata": {
    "collapsed": false,
    "pycharm": {
     "name": "#%%\n"
    }
   }
  },
  {
   "cell_type": "code",
   "execution_count": 19,
   "outputs": [],
   "source": [
    "model = CatBoostClassifier(**params)"
   ],
   "metadata": {
    "collapsed": false,
    "pycharm": {
     "name": "#%%\n"
    }
   }
  },
  {
   "cell_type": "code",
   "execution_count": 20,
   "outputs": [
    {
     "name": "stdout",
     "output_type": "stream",
     "text": [
      "0:\tlearn: 0.6848575\ttest: 0.6849145\tbest: 0.6849145 (0)\ttotal: 172ms\tremaining: 2m 51s\n",
      "100:\tlearn: 0.3908412\ttest: 0.3894043\tbest: 0.3894043 (100)\ttotal: 2.53s\tremaining: 22.5s\n",
      "200:\tlearn: 0.3457312\ttest: 0.3445503\tbest: 0.3445503 (200)\ttotal: 4.61s\tremaining: 18.3s\n",
      "300:\tlearn: 0.3288071\ttest: 0.3307084\tbest: 0.3307084 (300)\ttotal: 6.52s\tremaining: 15.1s\n",
      "400:\tlearn: 0.3192987\ttest: 0.3252459\tbest: 0.3252459 (400)\ttotal: 8.46s\tremaining: 12.6s\n",
      "500:\tlearn: 0.3120470\ttest: 0.3221057\tbest: 0.3221057 (500)\ttotal: 10.4s\tremaining: 10.4s\n",
      "600:\tlearn: 0.3054735\ttest: 0.3204300\tbest: 0.3204300 (600)\ttotal: 12.6s\tremaining: 8.33s\n",
      "700:\tlearn: 0.2997053\ttest: 0.3192377\tbest: 0.3192377 (700)\ttotal: 15s\tremaining: 6.38s\n",
      "800:\tlearn: 0.2946934\ttest: 0.3188206\tbest: 0.3187917 (794)\ttotal: 17.2s\tremaining: 4.28s\n",
      "900:\tlearn: 0.2890177\ttest: 0.3185731\tbest: 0.3185731 (900)\ttotal: 19.5s\tremaining: 2.15s\n",
      "999:\tlearn: 0.2831978\ttest: 0.3186396\tbest: 0.3185004 (978)\ttotal: 21.9s\tremaining: 0us\n",
      "\n",
      "bestTest = 0.3185003702\n",
      "bestIteration = 978\n",
      "\n",
      "Shrink model to first 979 iterations.\n"
     ]
    },
    {
     "data": {
      "text/plain": "<catboost.core.CatBoostClassifier at 0x28a0e99b4c0>"
     },
     "execution_count": 20,
     "metadata": {},
     "output_type": "execute_result"
    }
   ],
   "source": [
    "model.fit(train_data, eval_set=valid_data)"
   ],
   "metadata": {
    "collapsed": false,
    "pycharm": {
     "name": "#%%\n"
    }
   }
  },
  {
   "cell_type": "code",
   "execution_count": 21,
   "outputs": [],
   "source": [
    "test['score_catboost'] = model.predict_proba(test[X])[0:, 1]"
   ],
   "metadata": {
    "collapsed": false,
    "pycharm": {
     "name": "#%%\n"
    }
   }
  },
  {
   "cell_type": "markdown",
   "source": [
    "## Скор и пороги\n",
    "В данном ноутбуке 2 скора: первый Hl - 2 фичи (score_prod_age), а второй catboost - все фичи (score_catboost)\n",
    "Чем выше скор, тем более человек склонен к оттоку\n",
    "Скор всегда нормированый, то есть от 0 до 1\n",
    "Для того чтобы понять отточный клиент или нет, нужно разделить клиентов на классы, а для этого нужно придумать какой-то порог, например: я считаю, что если скор клиента > 0.5 то человек уйдёт в отток\n"
   ],
   "metadata": {
    "collapsed": false,
    "pycharm": {
     "name": "#%% md\n"
    }
   }
  },
  {
   "cell_type": "code",
   "execution_count": 22,
   "outputs": [
    {
     "data": {
      "text/plain": "   RowNumber  CustomerId  Surname  CreditScore Geography  Gender  Age  Tenure  \\\n0       9168    15645353    Chubb          607    France    Male   26       1   \n1       9388    15594576  Zhdanov          524    France    Male   32       1   \n2       6860    15811927  Marcelo          733    France  Female   38       3   \n3       3501    15675675    Slate          850    France  Female   32       5   \n4       6234    15682914   Bolton          850    France    Male   34       2   \n\n     Balance  NumOfProducts  HasCrCard  IsActiveMember  EstimatedSalary  \\\n0       0.00              1          1               0         29818.20   \n1  144875.71              1          0               0        187740.04   \n2  157658.36              1          0               0         19658.43   \n3  106290.64              1          1               0        121982.73   \n4   72079.71              1          1               1        115767.93   \n\n   Exited     age_group  score_prod_age  score_catboost  \n0       0   (0.0, 31.0]        0.110764        0.131844  \n1       0  (31.0, 35.0]        0.140449        0.074020  \n2       0  (35.0, 40.0]        0.209337        0.186876  \n3       0  (31.0, 35.0]        0.140449        0.087403  \n4       0  (31.0, 35.0]        0.140449        0.056658  ",
      "text/html": "<div>\n<style scoped>\n    .dataframe tbody tr th:only-of-type {\n        vertical-align: middle;\n    }\n\n    .dataframe tbody tr th {\n        vertical-align: top;\n    }\n\n    .dataframe thead th {\n        text-align: right;\n    }\n</style>\n<table border=\"1\" class=\"dataframe\">\n  <thead>\n    <tr style=\"text-align: right;\">\n      <th></th>\n      <th>RowNumber</th>\n      <th>CustomerId</th>\n      <th>Surname</th>\n      <th>CreditScore</th>\n      <th>Geography</th>\n      <th>Gender</th>\n      <th>Age</th>\n      <th>Tenure</th>\n      <th>Balance</th>\n      <th>NumOfProducts</th>\n      <th>HasCrCard</th>\n      <th>IsActiveMember</th>\n      <th>EstimatedSalary</th>\n      <th>Exited</th>\n      <th>age_group</th>\n      <th>score_prod_age</th>\n      <th>score_catboost</th>\n    </tr>\n  </thead>\n  <tbody>\n    <tr>\n      <th>0</th>\n      <td>9168</td>\n      <td>15645353</td>\n      <td>Chubb</td>\n      <td>607</td>\n      <td>France</td>\n      <td>Male</td>\n      <td>26</td>\n      <td>1</td>\n      <td>0.00</td>\n      <td>1</td>\n      <td>1</td>\n      <td>0</td>\n      <td>29818.20</td>\n      <td>0</td>\n      <td>(0.0, 31.0]</td>\n      <td>0.110764</td>\n      <td>0.131844</td>\n    </tr>\n    <tr>\n      <th>1</th>\n      <td>9388</td>\n      <td>15594576</td>\n      <td>Zhdanov</td>\n      <td>524</td>\n      <td>France</td>\n      <td>Male</td>\n      <td>32</td>\n      <td>1</td>\n      <td>144875.71</td>\n      <td>1</td>\n      <td>0</td>\n      <td>0</td>\n      <td>187740.04</td>\n      <td>0</td>\n      <td>(31.0, 35.0]</td>\n      <td>0.140449</td>\n      <td>0.074020</td>\n    </tr>\n    <tr>\n      <th>2</th>\n      <td>6860</td>\n      <td>15811927</td>\n      <td>Marcelo</td>\n      <td>733</td>\n      <td>France</td>\n      <td>Female</td>\n      <td>38</td>\n      <td>3</td>\n      <td>157658.36</td>\n      <td>1</td>\n      <td>0</td>\n      <td>0</td>\n      <td>19658.43</td>\n      <td>0</td>\n      <td>(35.0, 40.0]</td>\n      <td>0.209337</td>\n      <td>0.186876</td>\n    </tr>\n    <tr>\n      <th>3</th>\n      <td>3501</td>\n      <td>15675675</td>\n      <td>Slate</td>\n      <td>850</td>\n      <td>France</td>\n      <td>Female</td>\n      <td>32</td>\n      <td>5</td>\n      <td>106290.64</td>\n      <td>1</td>\n      <td>1</td>\n      <td>0</td>\n      <td>121982.73</td>\n      <td>0</td>\n      <td>(31.0, 35.0]</td>\n      <td>0.140449</td>\n      <td>0.087403</td>\n    </tr>\n    <tr>\n      <th>4</th>\n      <td>6234</td>\n      <td>15682914</td>\n      <td>Bolton</td>\n      <td>850</td>\n      <td>France</td>\n      <td>Male</td>\n      <td>34</td>\n      <td>2</td>\n      <td>72079.71</td>\n      <td>1</td>\n      <td>1</td>\n      <td>1</td>\n      <td>115767.93</td>\n      <td>0</td>\n      <td>(31.0, 35.0]</td>\n      <td>0.140449</td>\n      <td>0.056658</td>\n    </tr>\n  </tbody>\n</table>\n</div>"
     },
     "execution_count": 22,
     "metadata": {},
     "output_type": "execute_result"
    }
   ],
   "source": [
    "test.head()"
   ],
   "metadata": {
    "collapsed": false,
    "pycharm": {
     "name": "#%%\n"
    }
   }
  },
  {
   "cell_type": "code",
   "execution_count": 23,
   "outputs": [],
   "source": [
    "import matplotlib.pyplot as plt\n",
    "\n",
    "plt.style.use('dark_background')\n",
    "plt.style.use('seaborn-v0_8-colorblind')"
   ],
   "metadata": {
    "collapsed": false,
    "pycharm": {
     "name": "#%%\n"
    }
   }
  },
  {
   "cell_type": "code",
   "execution_count": 24,
   "outputs": [
    {
     "data": {
      "text/plain": "<Figure size 640x480 with 1 Axes>",
      "image/png": "[encoded data removed]"
     },
     "metadata": {},
     "output_type": "display_data"
    }
   ],
   "source": [
    "test.score_catboost.hist();"
   ],
   "metadata": {
    "collapsed": false,
    "pycharm": {
     "name": "#%%\n"
    }
   }
  },
  {
   "cell_type": "markdown",
   "source": [
    "Только 20% склонны к оттоку"
   ],
   "metadata": {
    "collapsed": false,
    "pycharm": {
     "name": "#%% md\n"
    }
   }
  },
  {
   "cell_type": "code",
   "execution_count": 25,
   "outputs": [
    {
     "data": {
      "text/plain": "0.20366666666666666"
     },
     "execution_count": 25,
     "metadata": {},
     "output_type": "execute_result"
    }
   ],
   "source": [
    "train.Exited.mean()"
   ],
   "metadata": {
    "collapsed": false,
    "pycharm": {
     "name": "#%%\n"
    }
   }
  },
  {
   "cell_type": "markdown",
   "source": [
    "Посмотрим на пользователей, вероятность оттока которых > 0.5\n",
    "Для того, чтобы Pandas выдал нам 0 и 1, а не False и True, нужно умножить на 1"
   ],
   "metadata": {
    "collapsed": false,
    "pycharm": {
     "name": "#%% md\n"
    }
   }
  },
  {
   "cell_type": "code",
   "execution_count": 26,
   "outputs": [],
   "source": [
    "test['y_pred'] = (test['score_catboost'] > 0.5) * 1"
   ],
   "metadata": {
    "collapsed": false,
    "pycharm": {
     "name": "#%%\n"
    }
   }
  },
  {
   "cell_type": "code",
   "execution_count": 27,
   "outputs": [
    {
     "data": {
      "text/plain": "   RowNumber  CustomerId  Surname  CreditScore Geography  Gender  Age  Tenure  \\\n0       9168    15645353    Chubb          607    France    Male   26       1   \n1       9388    15594576  Zhdanov          524    France    Male   32       1   \n2       6860    15811927  Marcelo          733    France  Female   38       3   \n3       3501    15675675    Slate          850    France  Female   32       5   \n4       6234    15682914   Bolton          850    France    Male   34       2   \n\n     Balance  NumOfProducts  HasCrCard  IsActiveMember  EstimatedSalary  \\\n0       0.00              1          1               0         29818.20   \n1  144875.71              1          0               0        187740.04   \n2  157658.36              1          0               0         19658.43   \n3  106290.64              1          1               0        121982.73   \n4   72079.71              1          1               1        115767.93   \n\n   Exited     age_group  score_prod_age  score_catboost  y_pred  \n0       0   (0.0, 31.0]        0.110764        0.131844       0  \n1       0  (31.0, 35.0]        0.140449        0.074020       0  \n2       0  (35.0, 40.0]        0.209337        0.186876       0  \n3       0  (31.0, 35.0]        0.140449        0.087403       0  \n4       0  (31.0, 35.0]        0.140449        0.056658       0  ",
      "text/html": "<div>\n<style scoped>\n    .dataframe tbody tr th:only-of-type {\n        vertical-align: middle;\n    }\n\n    .dataframe tbody tr th {\n        vertical-align: top;\n    }\n\n    .dataframe thead th {\n        text-align: right;\n    }\n</style>\n<table border=\"1\" class=\"dataframe\">\n  <thead>\n    <tr style=\"text-align: right;\">\n      <th></th>\n      <th>RowNumber</th>\n      <th>CustomerId</th>\n      <th>Surname</th>\n      <th>CreditScore</th>\n      <th>Geography</th>\n      <th>Gender</th>\n      <th>Age</th>\n      <th>Tenure</th>\n      <th>Balance</th>\n      <th>NumOfProducts</th>\n      <th>HasCrCard</th>\n      <th>IsActiveMember</th>\n      <th>EstimatedSalary</th>\n      <th>Exited</th>\n      <th>age_group</th>\n      <th>score_prod_age</th>\n      <th>score_catboost</th>\n      <th>y_pred</th>\n    </tr>\n  </thead>\n  <tbody>\n    <tr>\n      <th>0</th>\n      <td>9168</td>\n      <td>15645353</td>\n      <td>Chubb</td>\n      <td>607</td>\n      <td>France</td>\n      <td>Male</td>\n      <td>26</td>\n      <td>1</td>\n      <td>0.00</td>\n      <td>1</td>\n      <td>1</td>\n      <td>0</td>\n      <td>29818.20</td>\n      <td>0</td>\n      <td>(0.0, 31.0]</td>\n      <td>0.110764</td>\n      <td>0.131844</td>\n      <td>0</td>\n    </tr>\n    <tr>\n      <th>1</th>\n      <td>9388</td>\n      <td>15594576</td>\n      <td>Zhdanov</td>\n      <td>524</td>\n      <td>France</td>\n      <td>Male</td>\n      <td>32</td>\n      <td>1</td>\n      <td>144875.71</td>\n      <td>1</td>\n      <td>0</td>\n      <td>0</td>\n      <td>187740.04</td>\n      <td>0</td>\n      <td>(31.0, 35.0]</td>\n      <td>0.140449</td>\n      <td>0.074020</td>\n      <td>0</td>\n    </tr>\n    <tr>\n      <th>2</th>\n      <td>6860</td>\n      <td>15811927</td>\n      <td>Marcelo</td>\n      <td>733</td>\n      <td>France</td>\n      <td>Female</td>\n      <td>38</td>\n      <td>3</td>\n      <td>157658.36</td>\n      <td>1</td>\n      <td>0</td>\n      <td>0</td>\n      <td>19658.43</td>\n      <td>0</td>\n      <td>(35.0, 40.0]</td>\n      <td>0.209337</td>\n      <td>0.186876</td>\n      <td>0</td>\n    </tr>\n    <tr>\n      <th>3</th>\n      <td>3501</td>\n      <td>15675675</td>\n      <td>Slate</td>\n      <td>850</td>\n      <td>France</td>\n      <td>Female</td>\n      <td>32</td>\n      <td>5</td>\n      <td>106290.64</td>\n      <td>1</td>\n      <td>1</td>\n      <td>0</td>\n      <td>121982.73</td>\n      <td>0</td>\n      <td>(31.0, 35.0]</td>\n      <td>0.140449</td>\n      <td>0.087403</td>\n      <td>0</td>\n    </tr>\n    <tr>\n      <th>4</th>\n      <td>6234</td>\n      <td>15682914</td>\n      <td>Bolton</td>\n      <td>850</td>\n      <td>France</td>\n      <td>Male</td>\n      <td>34</td>\n      <td>2</td>\n      <td>72079.71</td>\n      <td>1</td>\n      <td>1</td>\n      <td>1</td>\n      <td>115767.93</td>\n      <td>0</td>\n      <td>(31.0, 35.0]</td>\n      <td>0.140449</td>\n      <td>0.056658</td>\n      <td>0</td>\n    </tr>\n  </tbody>\n</table>\n</div>"
     },
     "execution_count": 27,
     "metadata": {},
     "output_type": "execute_result"
    }
   ],
   "source": [
    "test.head()"
   ],
   "metadata": {
    "collapsed": false,
    "pycharm": {
     "name": "#%%\n"
    }
   }
  },
  {
   "cell_type": "code",
   "execution_count": 28,
   "outputs": [
    {
     "data": {
      "text/plain": "0.1225"
     },
     "execution_count": 28,
     "metadata": {},
     "output_type": "execute_result"
    }
   ],
   "source": [
    "test.y_pred.mean()"
   ],
   "metadata": {
    "collapsed": false,
    "pycharm": {
     "name": "#%%\n"
    }
   }
  },
  {
   "cell_type": "code",
   "execution_count": 29,
   "outputs": [],
   "source": [
    "from sklearn.metrics import confusion_matrix"
   ],
   "metadata": {
    "collapsed": false,
    "pycharm": {
     "name": "#%%\n"
    }
   }
  },
  {
   "cell_type": "markdown",
   "source": [
    "#### Анализируя матрицу путаницы (ошибок) получаем:\n",
    "В целом в большинстве случаев модель правильно определила отточных и неотточных клиентов.\n",
    "1537 клиентов не было отточными и модель предсказала, что они не отточные TN - Верно\n",
    "218 клиентов были отточные, а модель предскзала, что они не оттчные FN - ошибки\n",
    "56 клиентов не были отточными, а модель предсказала, что они отточные FP - шибки\n",
    "189 клиентов были отточными и модель также предсказала, что они отточные - Верно"
   ],
   "metadata": {
    "collapsed": false,
    "pycharm": {
     "name": "#%% md\n"
    }
   }
  },
  {
   "cell_type": "code",
   "execution_count": 30,
   "outputs": [
    {
     "data": {
      "text/plain": "array([[1537,   56],\n       [ 218,  189]], dtype=int64)"
     },
     "execution_count": 30,
     "metadata": {},
     "output_type": "execute_result"
    }
   ],
   "source": [
    "confusion_matrix(test.Exited, test.y_pred)"
   ],
   "metadata": {
    "collapsed": false,
    "pycharm": {
     "name": "#%%\n"
    }
   }
  },
  {
   "cell_type": "code",
   "execution_count": 31,
   "outputs": [],
   "source": [
    "tn, fp, fn, tp = confusion_matrix(test.Exited, test.y_pred).ravel()"
   ],
   "metadata": {
    "collapsed": false,
    "pycharm": {
     "name": "#%%\n"
    }
   }
  },
  {
   "cell_type": "code",
   "execution_count": 32,
   "outputs": [
    {
     "data": {
      "text/plain": "(1537, 56, 218, 189)"
     },
     "execution_count": 32,
     "metadata": {},
     "output_type": "execute_result"
    }
   ],
   "source": [
    "tn, fp, fn, tp"
   ],
   "metadata": {
    "collapsed": false,
    "pycharm": {
     "name": "#%%\n"
    }
   }
  },
  {
   "cell_type": "markdown",
   "source": [
    "## Recall (полнота)\n",
    "recall - процент 1-иц, которые модель определила как 1-цы\n",
    "На сколько хорошо модель может подстветить отточного клиента (в задаче оттока)"
   ],
   "metadata": {
    "collapsed": false,
    "pycharm": {
     "name": "#%% md\n"
    }
   }
  },
  {
   "cell_type": "code",
   "execution_count": 33,
   "outputs": [],
   "source": [
    "recall = tp / (tp + fn)"
   ],
   "metadata": {
    "collapsed": false,
    "pycharm": {
     "name": "#%%\n"
    }
   }
  },
  {
   "cell_type": "code",
   "execution_count": 34,
   "outputs": [
    {
     "data": {
      "text/plain": "0.4643734643734644"
     },
     "execution_count": 34,
     "metadata": {},
     "output_type": "execute_result"
    }
   ],
   "source": [
    "recall"
   ],
   "metadata": {
    "collapsed": false,
    "pycharm": {
     "name": "#%%\n"
    }
   }
  },
  {
   "cell_type": "markdown",
   "source": [
    "Рекол = 0.46 или 46%. То есть если мы покажем модели 100 отточных клиентов, то она распознает только 46"
   ],
   "metadata": {
    "collapsed": false,
    "pycharm": {
     "name": "#%% md\n"
    }
   }
  },
  {
   "cell_type": "code",
   "execution_count": 35,
   "outputs": [],
   "source": [
    "from sklearn.metrics import recall_score"
   ],
   "metadata": {
    "collapsed": false,
    "pycharm": {
     "name": "#%%\n"
    }
   }
  },
  {
   "cell_type": "code",
   "execution_count": 36,
   "outputs": [
    {
     "data": {
      "text/plain": "0.4643734643734644"
     },
     "execution_count": 36,
     "metadata": {},
     "output_type": "execute_result"
    }
   ],
   "source": [
    "recall_score(test.Exited, test.y_pred)"
   ],
   "metadata": {
    "collapsed": false,
    "pycharm": {
     "name": "#%%\n"
    }
   }
  },
  {
   "cell_type": "markdown",
   "source": [
    "## Precision (точность)\n",
    "Показывает ПРОЦЕНТ ПРАВИЛЬНЫХ 1-иц, среди всех предсказанных 1-иц."
   ],
   "metadata": {
    "collapsed": false,
    "pycharm": {
     "name": "#%% md\n"
    }
   }
  },
  {
   "cell_type": "code",
   "execution_count": 37,
   "outputs": [],
   "source": [
    "precision = tp / (tp + fp)"
   ],
   "metadata": {
    "collapsed": false,
    "pycharm": {
     "name": "#%%\n"
    }
   }
  },
  {
   "cell_type": "code",
   "execution_count": 38,
   "outputs": [
    {
     "data": {
      "text/plain": "0.7714285714285715"
     },
     "execution_count": 38,
     "metadata": {},
     "output_type": "execute_result"
    }
   ],
   "source": [
    "precision"
   ],
   "metadata": {
    "collapsed": false,
    "pycharm": {
     "name": "#%%\n"
    }
   }
  },
  {
   "cell_type": "code",
   "execution_count": 39,
   "outputs": [],
   "source": [
    "from sklearn.metrics import precision_score"
   ],
   "metadata": {
    "collapsed": false,
    "pycharm": {
     "name": "#%%\n"
    }
   }
  },
  {
   "cell_type": "code",
   "execution_count": 40,
   "outputs": [
    {
     "data": {
      "text/plain": "0.7714285714285715"
     },
     "execution_count": 40,
     "metadata": {},
     "output_type": "execute_result"
    }
   ],
   "source": [
    "precision_score(test.Exited, test.y_pred)"
   ],
   "metadata": {
    "collapsed": false,
    "pycharm": {
     "name": "#%%\n"
    }
   }
  },
  {
   "cell_type": "markdown",
   "source": [
    "## F1\n",
    "F1 - среднее значине precision и recall.\n",
    "Существует несколько f мер"
   ],
   "metadata": {
    "collapsed": false,
    "pycharm": {
     "name": "#%% md\n"
    }
   }
  },
  {
   "cell_type": "code",
   "execution_count": 41,
   "outputs": [],
   "source": [
    "f1 = (2 * recall * precision) / (recall + precision)"
   ],
   "metadata": {
    "collapsed": false,
    "pycharm": {
     "name": "#%%\n"
    }
   }
  },
  {
   "cell_type": "code",
   "execution_count": 42,
   "outputs": [
    {
     "data": {
      "text/plain": "0.5797546012269938"
     },
     "execution_count": 42,
     "metadata": {},
     "output_type": "execute_result"
    }
   ],
   "source": [
    "f1"
   ],
   "metadata": {
    "collapsed": false,
    "pycharm": {
     "name": "#%%\n"
    }
   }
  },
  {
   "cell_type": "code",
   "execution_count": 43,
   "outputs": [],
   "source": [
    "from sklearn.metrics import f1_score"
   ],
   "metadata": {
    "collapsed": false,
    "pycharm": {
     "name": "#%%\n"
    }
   }
  },
  {
   "cell_type": "code",
   "execution_count": 44,
   "outputs": [
    {
     "data": {
      "text/plain": "0.5797546012269938"
     },
     "execution_count": 44,
     "metadata": {},
     "output_type": "execute_result"
    }
   ],
   "source": [
    "f1_score(test.Exited, test.y_pred)"
   ],
   "metadata": {
    "collapsed": false,
    "pycharm": {
     "name": "#%%\n"
    }
   }
  },
  {
   "cell_type": "markdown",
   "source": [
    "## Accuracy (процент правильных ответов)\n",
    "Accuracy - в скольких процентах случаев модель правильно угадала класс\n",
    "Не верно отображает суть при дисбалансе классов. Чаще всего дисбаланс классов присутствует."
   ],
   "metadata": {
    "collapsed": false,
    "pycharm": {
     "name": "#%% md\n"
    }
   }
  },
  {
   "cell_type": "code",
   "execution_count": 45,
   "outputs": [
    {
     "data": {
      "text/plain": "0.863"
     },
     "execution_count": 45,
     "metadata": {},
     "output_type": "execute_result"
    }
   ],
   "source": [
    "(test.Exited == test.y_pred).mean()"
   ],
   "metadata": {
    "collapsed": false,
    "pycharm": {
     "name": "#%%\n"
    }
   }
  },
  {
   "cell_type": "code",
   "execution_count": 46,
   "outputs": [
    {
     "data": {
      "text/plain": "0.863"
     },
     "execution_count": 46,
     "metadata": {},
     "output_type": "execute_result"
    }
   ],
   "source": [
    "(tp + tn) / (tp + tn + fp + fn)"
   ],
   "metadata": {
    "collapsed": false,
    "pycharm": {
     "name": "#%%\n"
    }
   }
  },
  {
   "cell_type": "code",
   "execution_count": 47,
   "outputs": [],
   "source": [
    "from sklearn.metrics import accuracy_score"
   ],
   "metadata": {
    "collapsed": false,
    "pycharm": {
     "name": "#%%\n"
    }
   }
  },
  {
   "cell_type": "code",
   "execution_count": 48,
   "outputs": [
    {
     "data": {
      "text/plain": "0.863"
     },
     "execution_count": 48,
     "metadata": {},
     "output_type": "execute_result"
    }
   ],
   "source": [
    "accuracy_score(test.Exited, test.y_pred)"
   ],
   "metadata": {
    "collapsed": false,
    "pycharm": {
     "name": "#%%\n"
    }
   }
  },
  {
   "cell_type": "markdown",
   "source": [
    "В данном случае имеем дисбаланс классов: 1 класс - 20% и 0 класс - 80%"
   ],
   "metadata": {
    "collapsed": false,
    "pycharm": {
     "name": "#%% md\n"
    }
   }
  },
  {
   "cell_type": "code",
   "execution_count": 49,
   "outputs": [
    {
     "data": {
      "text/plain": "0.2035"
     },
     "execution_count": 49,
     "metadata": {},
     "output_type": "execute_result"
    }
   ],
   "source": [
    "test.Exited.mean()"
   ],
   "metadata": {
    "collapsed": false,
    "pycharm": {
     "name": "#%%\n"
    }
   }
  },
  {
   "cell_type": "markdown",
   "source": [
    "## Classification report"
   ],
   "metadata": {
    "collapsed": false,
    "pycharm": {
     "name": "#%% md\n"
    }
   }
  },
  {
   "cell_type": "code",
   "execution_count": 50,
   "outputs": [],
   "source": [
    "from sklearn.metrics import classification_report"
   ],
   "metadata": {
    "collapsed": false,
    "pycharm": {
     "name": "#%%\n"
    }
   }
  },
  {
   "cell_type": "code",
   "execution_count": 51,
   "outputs": [
    {
     "name": "stdout",
     "output_type": "stream",
     "text": [
      "              precision    recall  f1-score   support\n",
      "\n",
      "           0       0.88      0.96      0.92      1593\n",
      "           1       0.77      0.46      0.58       407\n",
      "\n",
      "    accuracy                           0.86      2000\n",
      "   macro avg       0.82      0.71      0.75      2000\n",
      "weighted avg       0.85      0.86      0.85      2000\n",
      "\n"
     ]
    }
   ],
   "source": [
    "print(classification_report(test.Exited, test.y_pred))"
   ],
   "metadata": {
    "collapsed": false,
    "pycharm": {
     "name": "#%%\n"
    }
   }
  },
  {
   "cell_type": "code",
   "source": [
    "precision, recall, f1, accuracy_score(test.Exited, test.y_pred)"
   ],
   "metadata": {
    "collapsed": false,
    "pycharm": {
     "name": "#%%\n"
    }
   },
   "execution_count": 52,
   "outputs": [
    {
     "data": {
      "text/plain": "(0.7714285714285715, 0.4643734643734644, 0.5797546012269938, 0.863)"
     },
     "execution_count": 52,
     "metadata": {},
     "output_type": "execute_result"
    }
   ]
  },
  {
   "cell_type": "markdown",
   "source": [
    "#### Пробелема данных результатов в том, что они были посчитаны для одного порога, а именно 0.5"
   ],
   "metadata": {
    "collapsed": false,
    "pycharm": {
     "name": "#%% md\n"
    }
   }
  },
  {
   "cell_type": "code",
   "execution_count": 53,
   "outputs": [],
   "source": [
    "# test['y_pred'] = (test['score_catboost'] > 0.5) * 1"
   ],
   "metadata": {
    "collapsed": false,
    "pycharm": {
     "name": "#%%\n"
    }
   }
  },
  {
   "cell_type": "markdown",
   "source": [
    "#### Можно выбрать любой порог.\n",
    "#### Число порогов для модели = количество уникальных скоров + 1"
   ],
   "metadata": {
    "collapsed": false,
    "pycharm": {
     "name": "#%% md\n"
    }
   }
  },
  {
   "cell_type": "markdown",
   "source": [
    "## Предикт с другим порогом\n",
    "Возьмём порог 0.4"
   ],
   "metadata": {
    "collapsed": false,
    "pycharm": {
     "name": "#%% md\n"
    }
   }
  },
  {
   "cell_type": "code",
   "execution_count": 54,
   "outputs": [],
   "source": [
    "test['y_pred_new'] = (test['score_catboost'] > 0.4) * 1"
   ],
   "metadata": {
    "collapsed": false,
    "pycharm": {
     "name": "#%%\n"
    }
   }
  },
  {
   "cell_type": "code",
   "execution_count": 55,
   "outputs": [
    {
     "data": {
      "text/plain": "   RowNumber  CustomerId  Surname  CreditScore Geography  Gender  Age  Tenure  \\\n0       9168    15645353    Chubb          607    France    Male   26       1   \n1       9388    15594576  Zhdanov          524    France    Male   32       1   \n2       6860    15811927  Marcelo          733    France  Female   38       3   \n3       3501    15675675    Slate          850    France  Female   32       5   \n4       6234    15682914   Bolton          850    France    Male   34       2   \n\n     Balance  NumOfProducts  HasCrCard  IsActiveMember  EstimatedSalary  \\\n0       0.00              1          1               0         29818.20   \n1  144875.71              1          0               0        187740.04   \n2  157658.36              1          0               0         19658.43   \n3  106290.64              1          1               0        121982.73   \n4   72079.71              1          1               1        115767.93   \n\n   Exited     age_group  score_prod_age  score_catboost  y_pred  y_pred_new  \n0       0   (0.0, 31.0]        0.110764        0.131844       0           0  \n1       0  (31.0, 35.0]        0.140449        0.074020       0           0  \n2       0  (35.0, 40.0]        0.209337        0.186876       0           0  \n3       0  (31.0, 35.0]        0.140449        0.087403       0           0  \n4       0  (31.0, 35.0]        0.140449        0.056658       0           0  ",
      "text/html": "<div>\n<style scoped>\n    .dataframe tbody tr th:only-of-type {\n        vertical-align: middle;\n    }\n\n    .dataframe tbody tr th {\n        vertical-align: top;\n    }\n\n    .dataframe thead th {\n        text-align: right;\n    }\n</style>\n<table border=\"1\" class=\"dataframe\">\n  <thead>\n    <tr style=\"text-align: right;\">\n      <th></th>\n      <th>RowNumber</th>\n      <th>CustomerId</th>\n      <th>Surname</th>\n      <th>CreditScore</th>\n      <th>Geography</th>\n      <th>Gender</th>\n      <th>Age</th>\n      <th>Tenure</th>\n      <th>Balance</th>\n      <th>NumOfProducts</th>\n      <th>HasCrCard</th>\n      <th>IsActiveMember</th>\n      <th>EstimatedSalary</th>\n      <th>Exited</th>\n      <th>age_group</th>\n      <th>score_prod_age</th>\n      <th>score_catboost</th>\n      <th>y_pred</th>\n      <th>y_pred_new</th>\n    </tr>\n  </thead>\n  <tbody>\n    <tr>\n      <th>0</th>\n      <td>9168</td>\n      <td>15645353</td>\n      <td>Chubb</td>\n      <td>607</td>\n      <td>France</td>\n      <td>Male</td>\n      <td>26</td>\n      <td>1</td>\n      <td>0.00</td>\n      <td>1</td>\n      <td>1</td>\n      <td>0</td>\n      <td>29818.20</td>\n      <td>0</td>\n      <td>(0.0, 31.0]</td>\n      <td>0.110764</td>\n      <td>0.131844</td>\n      <td>0</td>\n      <td>0</td>\n    </tr>\n    <tr>\n      <th>1</th>\n      <td>9388</td>\n      <td>15594576</td>\n      <td>Zhdanov</td>\n      <td>524</td>\n      <td>France</td>\n      <td>Male</td>\n      <td>32</td>\n      <td>1</td>\n      <td>144875.71</td>\n      <td>1</td>\n      <td>0</td>\n      <td>0</td>\n      <td>187740.04</td>\n      <td>0</td>\n      <td>(31.0, 35.0]</td>\n      <td>0.140449</td>\n      <td>0.074020</td>\n      <td>0</td>\n      <td>0</td>\n    </tr>\n    <tr>\n      <th>2</th>\n      <td>6860</td>\n      <td>15811927</td>\n      <td>Marcelo</td>\n      <td>733</td>\n      <td>France</td>\n      <td>Female</td>\n      <td>38</td>\n      <td>3</td>\n      <td>157658.36</td>\n      <td>1</td>\n      <td>0</td>\n      <td>0</td>\n      <td>19658.43</td>\n      <td>0</td>\n      <td>(35.0, 40.0]</td>\n      <td>0.209337</td>\n      <td>0.186876</td>\n      <td>0</td>\n      <td>0</td>\n    </tr>\n    <tr>\n      <th>3</th>\n      <td>3501</td>\n      <td>15675675</td>\n      <td>Slate</td>\n      <td>850</td>\n      <td>France</td>\n      <td>Female</td>\n      <td>32</td>\n      <td>5</td>\n      <td>106290.64</td>\n      <td>1</td>\n      <td>1</td>\n      <td>0</td>\n      <td>121982.73</td>\n      <td>0</td>\n      <td>(31.0, 35.0]</td>\n      <td>0.140449</td>\n      <td>0.087403</td>\n      <td>0</td>\n      <td>0</td>\n    </tr>\n    <tr>\n      <th>4</th>\n      <td>6234</td>\n      <td>15682914</td>\n      <td>Bolton</td>\n      <td>850</td>\n      <td>France</td>\n      <td>Male</td>\n      <td>34</td>\n      <td>2</td>\n      <td>72079.71</td>\n      <td>1</td>\n      <td>1</td>\n      <td>1</td>\n      <td>115767.93</td>\n      <td>0</td>\n      <td>(31.0, 35.0]</td>\n      <td>0.140449</td>\n      <td>0.056658</td>\n      <td>0</td>\n      <td>0</td>\n    </tr>\n  </tbody>\n</table>\n</div>"
     },
     "execution_count": 55,
     "metadata": {},
     "output_type": "execute_result"
    }
   ],
   "source": [
    "test.head()"
   ],
   "metadata": {
    "collapsed": false,
    "pycharm": {
     "name": "#%%\n"
    }
   }
  },
  {
   "cell_type": "markdown",
   "source": [
    "F1 для порога 0.4"
   ],
   "metadata": {
    "collapsed": false,
    "pycharm": {
     "name": "#%% md\n"
    }
   }
  },
  {
   "cell_type": "code",
   "execution_count": 56,
   "outputs": [
    {
     "data": {
      "text/plain": "0.6104972375690608"
     },
     "execution_count": 56,
     "metadata": {},
     "output_type": "execute_result"
    }
   ],
   "source": [
    "f1_score(test.Exited, test.y_pred_new)"
   ],
   "metadata": {
    "collapsed": false,
    "pycharm": {
     "name": "#%%\n"
    }
   }
  },
  {
   "cell_type": "markdown",
   "source": [
    "F1 для порога 0.5"
   ],
   "metadata": {
    "collapsed": false,
    "pycharm": {
     "name": "#%% md\n"
    }
   }
  },
  {
   "cell_type": "code",
   "execution_count": 57,
   "outputs": [
    {
     "data": {
      "text/plain": "0.5797546012269938"
     },
     "execution_count": 57,
     "metadata": {},
     "output_type": "execute_result"
    }
   ],
   "source": [
    "f1_score(test.Exited, test.y_pred)"
   ],
   "metadata": {
    "collapsed": false,
    "pycharm": {
     "name": "#%%\n"
    }
   }
  },
  {
   "cell_type": "markdown",
   "source": [
    "#### Подсчитаем F1 для всех возможных порогов и найдём порог с максимальным F1"
   ],
   "metadata": {
    "collapsed": false,
    "pycharm": {
     "name": "#%% md\n"
    }
   }
  },
  {
   "cell_type": "markdown",
   "source": [
    "Имеем 2000 уникальных скоров, т.к. мы добавляли шум"
   ],
   "metadata": {
    "collapsed": false,
    "pycharm": {
     "name": "#%% md\n"
    }
   }
  },
  {
   "cell_type": "code",
   "execution_count": 58,
   "outputs": [
    {
     "data": {
      "text/plain": "2000"
     },
     "execution_count": 58,
     "metadata": {},
     "output_type": "execute_result"
    }
   ],
   "source": [
    "test.score_catboost.nunique()"
   ],
   "metadata": {
    "collapsed": false,
    "pycharm": {
     "name": "#%%\n"
    }
   }
  },
  {
   "cell_type": "markdown",
   "source": [
    "Конвертируем np.array в лист\n",
    "thrs - сокращение threshold (порог)"
   ],
   "metadata": {
    "collapsed": false,
    "pycharm": {
     "name": "#%% md\n"
    }
   }
  },
  {
   "cell_type": "code",
   "execution_count": 59,
   "outputs": [],
   "source": [
    "thrs = list(test.score_catboost.unique())"
   ],
   "metadata": {
    "collapsed": false,
    "pycharm": {
     "name": "#%%\n"
    }
   }
  },
  {
   "cell_type": "markdown",
   "source": [
    "Первые 20 порогов"
   ],
   "metadata": {
    "collapsed": false,
    "pycharm": {
     "name": "#%% md\n"
    }
   }
  },
  {
   "cell_type": "code",
   "execution_count": 60,
   "outputs": [
    {
     "data": {
      "text/plain": "[0.13184386080460456,\n 0.07401954387476312,\n 0.186875674742704,\n 0.08740349387157287,\n 0.056658162909274626,\n 0.06161072773132969,\n 0.5563161171624524,\n 0.20388734500811354,\n 0.04555554026765728,\n 0.3665912024509706,\n 0.05285404501123435,\n 0.02389861383169527,\n 0.025687510422433397,\n 0.16369028198188673,\n 0.25392676705939893,\n 0.7564224487666255,\n 0.018690614421304177,\n 0.5052261796760975,\n 0.07183857505482741,\n 0.03570904305594995]"
     },
     "execution_count": 60,
     "metadata": {},
     "output_type": "execute_result"
    }
   ],
   "source": [
    "thrs[:20]"
   ],
   "metadata": {
    "collapsed": false,
    "pycharm": {
     "name": "#%%\n"
    }
   }
  },
  {
   "cell_type": "markdown",
   "source": [
    "Посмотрим минимальный порог и добавим 1 дополнительный порог, ниже минимального т.к. Число порогов для модели = количество уникальных скоров + 1"
   ],
   "metadata": {
    "collapsed": false,
    "pycharm": {
     "name": "#%% md\n"
    }
   }
  },
  {
   "cell_type": "code",
   "execution_count": 61,
   "outputs": [
    {
     "data": {
      "text/plain": "0.00937121856820433"
     },
     "execution_count": 61,
     "metadata": {},
     "output_type": "execute_result"
    }
   ],
   "source": [
    "min(thrs)"
   ],
   "metadata": {
    "collapsed": false,
    "pycharm": {
     "name": "#%%\n"
    }
   }
  },
  {
   "cell_type": "code",
   "execution_count": 62,
   "outputs": [],
   "source": [
    "thrs = [0] + list(test.score_catboost.unique())"
   ],
   "metadata": {
    "collapsed": false,
    "pycharm": {
     "name": "#%%\n"
    }
   }
  },
  {
   "cell_type": "code",
   "execution_count": 63,
   "outputs": [
    {
     "data": {
      "text/plain": "0"
     },
     "execution_count": 63,
     "metadata": {},
     "output_type": "execute_result"
    }
   ],
   "source": [
    "min(thrs)"
   ],
   "metadata": {
    "collapsed": false,
    "pycharm": {
     "name": "#%%\n"
    }
   }
  },
  {
   "cell_type": "code",
   "execution_count": 64,
   "outputs": [
    {
     "data": {
      "text/plain": "2001"
     },
     "execution_count": 64,
     "metadata": {},
     "output_type": "execute_result"
    }
   ],
   "source": [
    "len(thrs)"
   ],
   "metadata": {
    "collapsed": false,
    "pycharm": {
     "name": "#%%\n"
    }
   }
  },
  {
   "cell_type": "markdown",
   "source": [
    "Теперь есть все минимальные пороги, при которых можно посчитать F1"
   ],
   "metadata": {
    "collapsed": false,
    "pycharm": {
     "name": "#%% md\n"
    }
   }
  },
  {
   "cell_type": "code",
   "execution_count": 65,
   "outputs": [],
   "source": [
    "from tqdm.notebook import tqdm"
   ],
   "metadata": {
    "collapsed": false,
    "pycharm": {
     "name": "#%%\n"
    }
   }
  },
  {
   "cell_type": "code",
   "execution_count": 66,
   "outputs": [
    {
     "data": {
      "text/plain": "  0%|          | 0/2001 [00:00<?, ?it/s]",
      "application/vnd.jupyter.widget-view+json": {
       "version_major": 2,
       "version_minor": 0,
       "model_id": "97545b88c6664f778c0420fb40391f0f"
      }
     },
     "metadata": {},
     "output_type": "display_data"
    }
   ],
   "source": [
    "result = []\n",
    "for thr in tqdm(thrs):\n",
    "    test['y_pred_new'] = (test['score_catboost'] > thr) * 1\n",
    "    result.append((thr, f1_score(test.Exited, test.y_pred_new)))"
   ],
   "metadata": {
    "collapsed": false,
    "pycharm": {
     "name": "#%%\n"
    }
   }
  },
  {
   "cell_type": "code",
   "execution_count": 67,
   "outputs": [
    {
     "data": {
      "text/plain": "[(0, 0.3381803074366431),\n (0.13184386080460456, 0.5536277602523659),\n (0.07401954387476312, 0.47174447174447176),\n (0.186875674742704, 0.5938069216757741),\n (0.08740349387157287, 0.4940239043824701),\n (0.056658162909274626, 0.43680709534368073),\n (0.06161072773132969, 0.44610091743119257),\n (0.5563161171624524, 0.5544871794871795),\n (0.20388734500811354, 0.6096153846153847),\n (0.04555554026765728, 0.40841457157516675),\n (0.3665912024509706, 0.6176084099868594),\n (0.05285404501123435, 0.42741500269832705),\n (0.02389861383169527, 0.3655234657039711),\n (0.025687510422433397, 0.3702010968921389),\n (0.16369028198188673, 0.5795356835769561),\n (0.25392676705939893, 0.6299892125134844),\n (0.7564224487666255, 0.43478260869565216),\n (0.018690614421304177, 0.3532490187527257),\n (0.5052261796760975, 0.576271186440678),\n (0.07183857505482741, 0.4677222898903776)]"
     },
     "execution_count": 67,
     "metadata": {},
     "output_type": "execute_result"
    }
   ],
   "source": [
    "result[:20]"
   ],
   "metadata": {
    "collapsed": false,
    "pycharm": {
     "name": "#%%\n"
    }
   }
  },
  {
   "cell_type": "code",
   "execution_count": 68,
   "outputs": [
    {
     "data": {
      "text/plain": "(0.9973175459581187, 0.0)"
     },
     "execution_count": 68,
     "metadata": {},
     "output_type": "execute_result"
    }
   ],
   "source": [
    "max(result)"
   ],
   "metadata": {
    "collapsed": false,
    "pycharm": {
     "name": "#%%\n"
    }
   }
  },
  {
   "cell_type": "code",
   "execution_count": 69,
   "outputs": [],
   "source": [
    "t = pd.DataFrame(result, columns=['thr', 'f1'])"
   ],
   "metadata": {
    "collapsed": false,
    "pycharm": {
     "name": "#%%\n"
    }
   }
  },
  {
   "cell_type": "code",
   "execution_count": 70,
   "outputs": [
    {
     "data": {
      "text/plain": "        thr        f1\n0  0.000000  0.338180\n1  0.131844  0.553628\n2  0.074020  0.471744\n3  0.186876  0.593807\n4  0.087403  0.494024",
      "text/html": "<div>\n<style scoped>\n    .dataframe tbody tr th:only-of-type {\n        vertical-align: middle;\n    }\n\n    .dataframe tbody tr th {\n        vertical-align: top;\n    }\n\n    .dataframe thead th {\n        text-align: right;\n    }\n</style>\n<table border=\"1\" class=\"dataframe\">\n  <thead>\n    <tr style=\"text-align: right;\">\n      <th></th>\n      <th>thr</th>\n      <th>f1</th>\n    </tr>\n  </thead>\n  <tbody>\n    <tr>\n      <th>0</th>\n      <td>0.000000</td>\n      <td>0.338180</td>\n    </tr>\n    <tr>\n      <th>1</th>\n      <td>0.131844</td>\n      <td>0.553628</td>\n    </tr>\n    <tr>\n      <th>2</th>\n      <td>0.074020</td>\n      <td>0.471744</td>\n    </tr>\n    <tr>\n      <th>3</th>\n      <td>0.186876</td>\n      <td>0.593807</td>\n    </tr>\n    <tr>\n      <th>4</th>\n      <td>0.087403</td>\n      <td>0.494024</td>\n    </tr>\n  </tbody>\n</table>\n</div>"
     },
     "execution_count": 70,
     "metadata": {},
     "output_type": "execute_result"
    }
   ],
   "source": [
    "t.head()"
   ],
   "metadata": {
    "collapsed": false,
    "pycharm": {
     "name": "#%%\n"
    }
   }
  },
  {
   "cell_type": "code",
   "execution_count": 71,
   "outputs": [
    {
     "data": {
      "text/plain": "           thr        f1\n640   0.277932  0.636771\n623   0.280837  0.636569\n1343  0.276637  0.636058\n1756  0.331582  0.636025\n1228  0.278005  0.635955\n...        ...       ...\n238   0.992916  0.019465\n315   0.993195  0.014634\n180   0.994941  0.009780\n1205  0.997245  0.004902\n206   0.997318  0.000000\n\n[2001 rows x 2 columns]",
      "text/html": "<div>\n<style scoped>\n    .dataframe tbody tr th:only-of-type {\n        vertical-align: middle;\n    }\n\n    .dataframe tbody tr th {\n        vertical-align: top;\n    }\n\n    .dataframe thead th {\n        text-align: right;\n    }\n</style>\n<table border=\"1\" class=\"dataframe\">\n  <thead>\n    <tr style=\"text-align: right;\">\n      <th></th>\n      <th>thr</th>\n      <th>f1</th>\n    </tr>\n  </thead>\n  <tbody>\n    <tr>\n      <th>640</th>\n      <td>0.277932</td>\n      <td>0.636771</td>\n    </tr>\n    <tr>\n      <th>623</th>\n      <td>0.280837</td>\n      <td>0.636569</td>\n    </tr>\n    <tr>\n      <th>1343</th>\n      <td>0.276637</td>\n      <td>0.636058</td>\n    </tr>\n    <tr>\n      <th>1756</th>\n      <td>0.331582</td>\n      <td>0.636025</td>\n    </tr>\n    <tr>\n      <th>1228</th>\n      <td>0.278005</td>\n      <td>0.635955</td>\n    </tr>\n    <tr>\n      <th>...</th>\n      <td>...</td>\n      <td>...</td>\n    </tr>\n    <tr>\n      <th>238</th>\n      <td>0.992916</td>\n      <td>0.019465</td>\n    </tr>\n    <tr>\n      <th>315</th>\n      <td>0.993195</td>\n      <td>0.014634</td>\n    </tr>\n    <tr>\n      <th>180</th>\n      <td>0.994941</td>\n      <td>0.009780</td>\n    </tr>\n    <tr>\n      <th>1205</th>\n      <td>0.997245</td>\n      <td>0.004902</td>\n    </tr>\n    <tr>\n      <th>206</th>\n      <td>0.997318</td>\n      <td>0.000000</td>\n    </tr>\n  </tbody>\n</table>\n<p>2001 rows × 2 columns</p>\n</div>"
     },
     "execution_count": 71,
     "metadata": {},
     "output_type": "execute_result"
    }
   ],
   "source": [
    "t.sort_values('f1', ascending=False)"
   ],
   "metadata": {
    "collapsed": false,
    "pycharm": {
     "name": "#%%\n"
    }
   }
  },
  {
   "cell_type": "code",
   "execution_count": 72,
   "outputs": [
    {
     "data": {
      "text/plain": "          thr        f1\n640  0.277932  0.636771",
      "text/html": "<div>\n<style scoped>\n    .dataframe tbody tr th:only-of-type {\n        vertical-align: middle;\n    }\n\n    .dataframe tbody tr th {\n        vertical-align: top;\n    }\n\n    .dataframe thead th {\n        text-align: right;\n    }\n</style>\n<table border=\"1\" class=\"dataframe\">\n  <thead>\n    <tr style=\"text-align: right;\">\n      <th></th>\n      <th>thr</th>\n      <th>f1</th>\n    </tr>\n  </thead>\n  <tbody>\n    <tr>\n      <th>640</th>\n      <td>0.277932</td>\n      <td>0.636771</td>\n    </tr>\n  </tbody>\n</table>\n</div>"
     },
     "execution_count": 72,
     "metadata": {},
     "output_type": "execute_result"
    }
   ],
   "source": [
    "t[t['f1'] == t['f1'].max()]"
   ],
   "metadata": {
    "collapsed": false,
    "pycharm": {
     "name": "#%%\n"
    }
   }
  },
  {
   "cell_type": "markdown",
   "source": [
    "#### Проделаем то же самое но для скора рассчитанного HL с 2 фичами, а не catboos`ом со всеми фичами"
   ],
   "metadata": {
    "collapsed": false,
    "pycharm": {
     "name": "#%% md\n"
    }
   }
  },
  {
   "cell_type": "code",
   "execution_count": 72,
   "outputs": [],
   "source": [],
   "metadata": {
    "collapsed": false,
    "pycharm": {
     "name": "#%%\n"
    }
   }
  },
  {
   "cell_type": "code",
   "execution_count": 73,
   "outputs": [],
   "source": [
    "thrs = [0] + list(test.score_prod_age.unique())"
   ],
   "metadata": {
    "collapsed": false,
    "pycharm": {
     "name": "#%%\n"
    }
   }
  },
  {
   "cell_type": "code",
   "execution_count": 74,
   "outputs": [
    {
     "data": {
      "text/plain": "0"
     },
     "execution_count": 74,
     "metadata": {},
     "output_type": "execute_result"
    }
   ],
   "source": [
    "min(thrs)"
   ],
   "metadata": {
    "collapsed": false,
    "pycharm": {
     "name": "#%%\n"
    }
   }
  },
  {
   "cell_type": "code",
   "execution_count": 75,
   "outputs": [
    {
     "data": {
      "text/plain": "17"
     },
     "execution_count": 75,
     "metadata": {},
     "output_type": "execute_result"
    }
   ],
   "source": [
    "len(thrs)"
   ],
   "metadata": {
    "collapsed": false,
    "pycharm": {
     "name": "#%%\n"
    }
   }
  },
  {
   "cell_type": "markdown",
   "source": [
    "Теперь есть все минимальные пороги, при которых можно посчитать F1"
   ],
   "metadata": {
    "collapsed": false
   }
  },
  {
   "cell_type": "code",
   "execution_count": 76,
   "outputs": [
    {
     "data": {
      "text/plain": "  0%|          | 0/17 [00:00<?, ?it/s]",
      "application/vnd.jupyter.widget-view+json": {
       "version_major": 2,
       "version_minor": 0,
       "model_id": "79221fd755eb4b4ea83a6e0594255d0a"
      }
     },
     "metadata": {},
     "output_type": "display_data"
    }
   ],
   "source": [
    "result = []\n",
    "for thr in tqdm(thrs):\n",
    "    test['y_pred_new'] = (test['score_prod_age'] > thr) * 1\n",
    "    result.append((thr, f1_score(test.Exited, test.y_pred_new)))"
   ],
   "metadata": {
    "collapsed": false,
    "pycharm": {
     "name": "#%%\n"
    }
   }
  },
  {
   "cell_type": "code",
   "execution_count": 77,
   "outputs": [
    {
     "data": {
      "text/plain": "[(0, 0.3381803074366431),\n (0.11076443057722309, 0.4838940586972082),\n (0.1404494382022472, 0.5156507413509062),\n (0.20933734939759036, 0.5372233400402414),\n (0.5276073619631901, 0.21888412017167383),\n (0.10864745011086474, 0.45387453874538747),\n (0.028037383177570093, 0.3596608656849621),\n (0.061068702290076333, 0.43132803632236094),\n (0.23636363636363636, 0.5594405594405594),\n (0.033288948069241014, 0.3991995997999),\n (0.3704414587332054, 0.5195936139332366),\n (0.5925925925925926, 0.19340659340659339),\n (0.5714285714285714, 0.20434782608695654),\n (0.75, 0.15765765765765766),\n (0.9636363636363636, 0.057279236276849645),\n (1.0, 0.0),\n (0.8958333333333334, 0.11547344110854503)]"
     },
     "execution_count": 77,
     "metadata": {},
     "output_type": "execute_result"
    }
   ],
   "source": [
    "result[:20]"
   ],
   "metadata": {
    "collapsed": false,
    "pycharm": {
     "name": "#%%\n"
    }
   }
  },
  {
   "cell_type": "code",
   "execution_count": 78,
   "outputs": [],
   "source": [
    "t = pd.DataFrame(result, columns=['thr', 'f1'])"
   ],
   "metadata": {
    "collapsed": false,
    "pycharm": {
     "name": "#%%\n"
    }
   }
  },
  {
   "cell_type": "code",
   "execution_count": 79,
   "outputs": [
    {
     "data": {
      "text/plain": "        thr        f1\n0  0.000000  0.338180\n1  0.110764  0.483894\n2  0.140449  0.515651\n3  0.209337  0.537223\n4  0.527607  0.218884",
      "text/html": "<div>\n<style scoped>\n    .dataframe tbody tr th:only-of-type {\n        vertical-align: middle;\n    }\n\n    .dataframe tbody tr th {\n        vertical-align: top;\n    }\n\n    .dataframe thead th {\n        text-align: right;\n    }\n</style>\n<table border=\"1\" class=\"dataframe\">\n  <thead>\n    <tr style=\"text-align: right;\">\n      <th></th>\n      <th>thr</th>\n      <th>f1</th>\n    </tr>\n  </thead>\n  <tbody>\n    <tr>\n      <th>0</th>\n      <td>0.000000</td>\n      <td>0.338180</td>\n    </tr>\n    <tr>\n      <th>1</th>\n      <td>0.110764</td>\n      <td>0.483894</td>\n    </tr>\n    <tr>\n      <th>2</th>\n      <td>0.140449</td>\n      <td>0.515651</td>\n    </tr>\n    <tr>\n      <th>3</th>\n      <td>0.209337</td>\n      <td>0.537223</td>\n    </tr>\n    <tr>\n      <th>4</th>\n      <td>0.527607</td>\n      <td>0.218884</td>\n    </tr>\n  </tbody>\n</table>\n</div>"
     },
     "execution_count": 79,
     "metadata": {},
     "output_type": "execute_result"
    }
   ],
   "source": [
    "t.head()"
   ],
   "metadata": {
    "collapsed": false,
    "pycharm": {
     "name": "#%%\n"
    }
   }
  },
  {
   "cell_type": "code",
   "execution_count": 80,
   "outputs": [
    {
     "data": {
      "text/plain": "         thr        f1\n8   0.236364  0.559441\n3   0.209337  0.537223\n10  0.370441  0.519594\n2   0.140449  0.515651\n1   0.110764  0.483894\n5   0.108647  0.453875\n7   0.061069  0.431328\n9   0.033289  0.399200\n6   0.028037  0.359661\n0   0.000000  0.338180\n4   0.527607  0.218884\n12  0.571429  0.204348\n11  0.592593  0.193407\n13  0.750000  0.157658\n16  0.895833  0.115473\n14  0.963636  0.057279\n15  1.000000  0.000000",
      "text/html": "<div>\n<style scoped>\n    .dataframe tbody tr th:only-of-type {\n        vertical-align: middle;\n    }\n\n    .dataframe tbody tr th {\n        vertical-align: top;\n    }\n\n    .dataframe thead th {\n        text-align: right;\n    }\n</style>\n<table border=\"1\" class=\"dataframe\">\n  <thead>\n    <tr style=\"text-align: right;\">\n      <th></th>\n      <th>thr</th>\n      <th>f1</th>\n    </tr>\n  </thead>\n  <tbody>\n    <tr>\n      <th>8</th>\n      <td>0.236364</td>\n      <td>0.559441</td>\n    </tr>\n    <tr>\n      <th>3</th>\n      <td>0.209337</td>\n      <td>0.537223</td>\n    </tr>\n    <tr>\n      <th>10</th>\n      <td>0.370441</td>\n      <td>0.519594</td>\n    </tr>\n    <tr>\n      <th>2</th>\n      <td>0.140449</td>\n      <td>0.515651</td>\n    </tr>\n    <tr>\n      <th>1</th>\n      <td>0.110764</td>\n      <td>0.483894</td>\n    </tr>\n    <tr>\n      <th>5</th>\n      <td>0.108647</td>\n      <td>0.453875</td>\n    </tr>\n    <tr>\n      <th>7</th>\n      <td>0.061069</td>\n      <td>0.431328</td>\n    </tr>\n    <tr>\n      <th>9</th>\n      <td>0.033289</td>\n      <td>0.399200</td>\n    </tr>\n    <tr>\n      <th>6</th>\n      <td>0.028037</td>\n      <td>0.359661</td>\n    </tr>\n    <tr>\n      <th>0</th>\n      <td>0.000000</td>\n      <td>0.338180</td>\n    </tr>\n    <tr>\n      <th>4</th>\n      <td>0.527607</td>\n      <td>0.218884</td>\n    </tr>\n    <tr>\n      <th>12</th>\n      <td>0.571429</td>\n      <td>0.204348</td>\n    </tr>\n    <tr>\n      <th>11</th>\n      <td>0.592593</td>\n      <td>0.193407</td>\n    </tr>\n    <tr>\n      <th>13</th>\n      <td>0.750000</td>\n      <td>0.157658</td>\n    </tr>\n    <tr>\n      <th>16</th>\n      <td>0.895833</td>\n      <td>0.115473</td>\n    </tr>\n    <tr>\n      <th>14</th>\n      <td>0.963636</td>\n      <td>0.057279</td>\n    </tr>\n    <tr>\n      <th>15</th>\n      <td>1.000000</td>\n      <td>0.000000</td>\n    </tr>\n  </tbody>\n</table>\n</div>"
     },
     "execution_count": 80,
     "metadata": {},
     "output_type": "execute_result"
    }
   ],
   "source": [
    "t.sort_values('f1', ascending=False)"
   ],
   "metadata": {
    "collapsed": false,
    "pycharm": {
     "name": "#%%\n"
    }
   }
  },
  {
   "cell_type": "code",
   "execution_count": 81,
   "outputs": [
    {
     "data": {
      "text/plain": "        thr        f1\n8  0.236364  0.559441",
      "text/html": "<div>\n<style scoped>\n    .dataframe tbody tr th:only-of-type {\n        vertical-align: middle;\n    }\n\n    .dataframe tbody tr th {\n        vertical-align: top;\n    }\n\n    .dataframe thead th {\n        text-align: right;\n    }\n</style>\n<table border=\"1\" class=\"dataframe\">\n  <thead>\n    <tr style=\"text-align: right;\">\n      <th></th>\n      <th>thr</th>\n      <th>f1</th>\n    </tr>\n  </thead>\n  <tbody>\n    <tr>\n      <th>8</th>\n      <td>0.236364</td>\n      <td>0.559441</td>\n    </tr>\n  </tbody>\n</table>\n</div>"
     },
     "execution_count": 81,
     "metadata": {},
     "output_type": "execute_result"
    }
   ],
   "source": [
    "t[t['f1'] == t['f1'].max()]"
   ],
   "metadata": {
    "collapsed": false,
    "pycharm": {
     "name": "#%%\n"
    }
   }
  },
  {
   "cell_type": "markdown",
   "source": [
    "#### В результате: ручная HL (2 фичи) модель проигрывает катбусту в f1 мере: 0.636 VS 0.559\n",
    "#### Таким образом можно выбирать наилучшую модель: сравнивать разные метрики на оптимальном пороге"
   ],
   "metadata": {
    "collapsed": false,
    "pycharm": {
     "name": "#%% md\n"
    }
   }
  },
  {
   "cell_type": "markdown",
   "source": [
    "## ROC\n",
    "Данная метрика используется, чтобы оценивать сразу все пороги"
   ],
   "metadata": {
    "collapsed": false,
    "pycharm": {
     "name": "#%% md\n"
    }
   }
  },
  {
   "cell_type": "code",
   "execution_count": 82,
   "outputs": [],
   "source": [
    "from sklearn.metrics import roc_curve"
   ],
   "metadata": {
    "collapsed": false,
    "pycharm": {
     "name": "#%%\n"
    }
   }
  },
  {
   "cell_type": "code",
   "execution_count": 83,
   "outputs": [],
   "source": [
    "fprs, tprs, thrs = roc_curve(test.Exited, test.score_catboost)"
   ],
   "metadata": {
    "collapsed": false,
    "pycharm": {
     "name": "#%%\n"
    }
   }
  },
  {
   "cell_type": "code",
   "execution_count": 84,
   "outputs": [],
   "source": [
    "roc = pd.DataFrame({'fpr': fprs, 'tpr': tprs, 'ths': thrs})"
   ],
   "metadata": {
    "collapsed": false,
    "pycharm": {
     "name": "#%%\n"
    }
   }
  },
  {
   "cell_type": "code",
   "execution_count": 85,
   "outputs": [
    {
     "data": {
      "text/plain": "          fpr       tpr       ths\n0    0.000000  0.000000  1.997318\n1    0.000000  0.002457  0.997318\n2    0.000000  0.061425  0.933737\n3    0.000628  0.061425  0.933203\n4    0.000628  0.120393  0.891551\n..        ...       ...       ...\n391  0.979912  0.995086  0.012212\n392  0.979912  0.997543  0.012198\n393  0.998745  0.997543  0.009886\n394  0.998745  1.000000  0.009809\n395  1.000000  1.000000  0.009371\n\n[396 rows x 3 columns]",
      "text/html": "<div>\n<style scoped>\n    .dataframe tbody tr th:only-of-type {\n        vertical-align: middle;\n    }\n\n    .dataframe tbody tr th {\n        vertical-align: top;\n    }\n\n    .dataframe thead th {\n        text-align: right;\n    }\n</style>\n<table border=\"1\" class=\"dataframe\">\n  <thead>\n    <tr style=\"text-align: right;\">\n      <th></th>\n      <th>fpr</th>\n      <th>tpr</th>\n      <th>ths</th>\n    </tr>\n  </thead>\n  <tbody>\n    <tr>\n      <th>0</th>\n      <td>0.000000</td>\n      <td>0.000000</td>\n      <td>1.997318</td>\n    </tr>\n    <tr>\n      <th>1</th>\n      <td>0.000000</td>\n      <td>0.002457</td>\n      <td>0.997318</td>\n    </tr>\n    <tr>\n      <th>2</th>\n      <td>0.000000</td>\n      <td>0.061425</td>\n      <td>0.933737</td>\n    </tr>\n    <tr>\n      <th>3</th>\n      <td>0.000628</td>\n      <td>0.061425</td>\n      <td>0.933203</td>\n    </tr>\n    <tr>\n      <th>4</th>\n      <td>0.000628</td>\n      <td>0.120393</td>\n      <td>0.891551</td>\n    </tr>\n    <tr>\n      <th>...</th>\n      <td>...</td>\n      <td>...</td>\n      <td>...</td>\n    </tr>\n    <tr>\n      <th>391</th>\n      <td>0.979912</td>\n      <td>0.995086</td>\n      <td>0.012212</td>\n    </tr>\n    <tr>\n      <th>392</th>\n      <td>0.979912</td>\n      <td>0.997543</td>\n      <td>0.012198</td>\n    </tr>\n    <tr>\n      <th>393</th>\n      <td>0.998745</td>\n      <td>0.997543</td>\n      <td>0.009886</td>\n    </tr>\n    <tr>\n      <th>394</th>\n      <td>0.998745</td>\n      <td>1.000000</td>\n      <td>0.009809</td>\n    </tr>\n    <tr>\n      <th>395</th>\n      <td>1.000000</td>\n      <td>1.000000</td>\n      <td>0.009371</td>\n    </tr>\n  </tbody>\n</table>\n<p>396 rows × 3 columns</p>\n</div>"
     },
     "execution_count": 85,
     "metadata": {},
     "output_type": "execute_result"
    }
   ],
   "source": [
    "roc"
   ],
   "metadata": {
    "collapsed": false,
    "pycharm": {
     "name": "#%%\n"
    }
   }
  },
  {
   "cell_type": "code",
   "execution_count": 86,
   "outputs": [
    {
     "data": {
      "text/plain": "<Figure size 600x600 with 1 Axes>",
      "image/png": "[encoded data removed]"
     },
     "metadata": {},
     "output_type": "display_data"
    }
   ],
   "source": [
    "roc.set_index('fpr').tpr.plot(figsize=(6,6));"
   ],
   "metadata": {
    "collapsed": false,
    "pycharm": {
     "name": "#%%\n"
    }
   }
  },
  {
   "cell_type": "code",
   "execution_count": 87,
   "outputs": [
    {
     "data": {
      "text/plain": "<Figure size 600x600 with 1 Axes>",
      "image/png": "[encoded data removed]"
     },
     "metadata": {},
     "output_type": "display_data"
    }
   ],
   "source": [
    "roc.plot(x='fpr', y='tpr', figsize=(6,6), grid=True);"
   ],
   "metadata": {
    "collapsed": false,
    "pycharm": {
     "name": "#%%\n"
    }
   }
  },
  {
   "cell_type": "code",
   "execution_count": 88,
   "outputs": [],
   "source": [
    "roc['random'] = roc['fpr']"
   ],
   "metadata": {
    "collapsed": false,
    "pycharm": {
     "name": "#%%\n"
    }
   }
  },
  {
   "cell_type": "code",
   "execution_count": 89,
   "outputs": [
    {
     "data": {
      "text/plain": "<Figure size 600x600 with 1 Axes>",
      "image/png": "[encoded data removed]"
     },
     "metadata": {},
     "output_type": "display_data"
    }
   ],
   "source": [
    "roc.plot(x='fpr', y=['tpr', 'random'], figsize=(6,6), grid=True);"
   ],
   "metadata": {
    "collapsed": false,
    "pycharm": {
     "name": "#%%\n"
    }
   }
  },
  {
   "cell_type": "code",
   "execution_count": 90,
   "outputs": [],
   "source": [
    "roc['ideal'] = 1"
   ],
   "metadata": {
    "collapsed": false,
    "pycharm": {
     "name": "#%%\n"
    }
   }
  },
  {
   "cell_type": "code",
   "execution_count": 91,
   "outputs": [
    {
     "data": {
      "text/plain": "<Figure size 600x600 with 1 Axes>",
      "image/png": "[encoded data removed]"
     },
     "metadata": {},
     "output_type": "display_data"
    }
   ],
   "source": [
    "roc.plot(x='fpr', y=['tpr', 'random', 'ideal'], figsize=(6,6), grid=True);"
   ],
   "metadata": {
    "collapsed": false,
    "pycharm": {
     "name": "#%%\n"
    }
   }
  },
  {
   "cell_type": "markdown",
   "source": [
    "Посмотрим на ROC со стаковерфлоу"
   ],
   "metadata": {
    "collapsed": false,
    "pycharm": {
     "name": "#%% md\n"
    }
   }
  },
  {
   "cell_type": "code",
   "execution_count": 92,
   "outputs": [
    {
     "data": {
      "text/plain": "<Figure size 640x480 with 1 Axes>",
      "image/png": "[encoded data removed]"
     },
     "metadata": {},
     "output_type": "display_data"
    }
   ],
   "source": [
    "import sklearn.metrics as metrics\n",
    "# calculate the fpr and tpr for all thresholds of the classification\n",
    "fpr, tpr, threshold = metrics.roc_curve(test.Exited, test.score_catboost)\n",
    "roc_auc = metrics.auc(fpr, tpr)\n",
    "\n",
    "# method I: plt\n",
    "import matplotlib.pyplot as plt\n",
    "plt.title('Receiver Operating Characteristic')\n",
    "plt.plot(fpr, tpr, 'b', label = 'AUC = %0.2f' % roc_auc)\n",
    "plt.legend(loc = 'lower right')\n",
    "plt.plot([0, 1], [0, 1],'r--')\n",
    "plt.xlim([0, 1])\n",
    "plt.ylim([0, 1])\n",
    "plt.ylabel('True Positive Rate')\n",
    "plt.xlabel('False Positive Rate')\n",
    "plt.show()\n"
   ],
   "metadata": {
    "collapsed": false,
    "pycharm": {
     "name": "#%%\n"
    }
   }
  },
  {
   "cell_type": "markdown",
   "source": [],
   "metadata": {
    "collapsed": false
   }
  },
  {
   "cell_type": "code",
   "execution_count": 93,
   "outputs": [],
   "source": [
    "from catboost.utils import get_roc_curve"
   ],
   "metadata": {
    "collapsed": false,
    "pycharm": {
     "name": "#%%\n"
    }
   }
  },
  {
   "cell_type": "code",
   "execution_count": 94,
   "outputs": [],
   "source": [
    "test_data = Pool(data=test[X],\n",
    "                  label=test[y],\n",
    "                  cat_features=cat_features\n",
    "                  )"
   ],
   "metadata": {
    "collapsed": false,
    "pycharm": {
     "name": "#%%\n"
    }
   }
  },
  {
   "cell_type": "code",
   "execution_count": 95,
   "outputs": [
    {
     "data": {
      "text/plain": "<Figure size 1600x800 with 1 Axes>",
      "image/png": "[encoded data removed]"
     },
     "metadata": {},
     "output_type": "display_data"
    }
   ],
   "source": [
    "get_roc_curve(model, test_data, plot=True);"
   ],
   "metadata": {
    "collapsed": false,
    "pycharm": {
     "name": "#%%\n"
    }
   }
  },
  {
   "cell_type": "markdown",
   "source": [
    "## AUC\n",
    "Метрика показывает площадь под кривой ROC\n",
    "Чем ближе площадь к 1-це, тем лучше модель"
   ],
   "metadata": {
    "collapsed": false,
    "pycharm": {
     "name": "#%% md\n"
    }
   }
  },
  {
   "cell_type": "code",
   "execution_count": 96,
   "outputs": [],
   "source": [
    "from sklearn.metrics import roc_auc_score"
   ],
   "metadata": {
    "collapsed": false,
    "pycharm": {
     "name": "#%%\n"
    }
   }
  },
  {
   "cell_type": "code",
   "execution_count": 97,
   "outputs": [
    {
     "data": {
      "text/plain": "0.8703063618317854"
     },
     "execution_count": 97,
     "metadata": {},
     "output_type": "execute_result"
    }
   ],
   "source": [
    "roc_auc_score(test.Exited, test.score_catboost)"
   ],
   "metadata": {
    "collapsed": false,
    "pycharm": {
     "name": "#%%\n"
    }
   }
  },
  {
   "cell_type": "markdown",
   "source": [
    "Для примера: можно поменять метрику по умолчанию logloss на auc при валидации модели"
   ],
   "metadata": {
    "collapsed": false,
    "pycharm": {
     "name": "#%% md\n"
    }
   }
  },
  {
   "cell_type": "code",
   "execution_count": 98,
   "outputs": [],
   "source": [
    "params = {'verbose': 100,\n",
    "          'eval_metric': 'AUC',\n",
    "          'random_seed': 42,\n",
    "          'learning_rate': 0.01}"
   ],
   "metadata": {
    "collapsed": false,
    "pycharm": {
     "name": "#%%\n"
    }
   }
  },
  {
   "cell_type": "code",
   "execution_count": 99,
   "outputs": [],
   "source": [
    "model = CatBoostClassifier(**params)"
   ],
   "metadata": {
    "collapsed": false,
    "pycharm": {
     "name": "#%%\n"
    }
   }
  },
  {
   "cell_type": "markdown",
   "source": [
    "На валидации ROC получился 0.883, а на тесте 0.87"
   ],
   "metadata": {
    "collapsed": false,
    "pycharm": {
     "name": "#%% md\n"
    }
   }
  },
  {
   "cell_type": "code",
   "execution_count": 100,
   "outputs": [
    {
     "name": "stdout",
     "output_type": "stream",
     "text": [
      "0:\ttest: 0.8338545\tbest: 0.8338545 (0)\ttotal: 23.8ms\tremaining: 23.8s\n",
      "100:\ttest: 0.8725090\tbest: 0.8725090 (100)\ttotal: 2.28s\tremaining: 20.3s\n",
      "200:\ttest: 0.8784656\tbest: 0.8784656 (200)\ttotal: 4.58s\tremaining: 18.2s\n",
      "300:\ttest: 0.8812676\tbest: 0.8812676 (300)\ttotal: 6.78s\tremaining: 15.8s\n",
      "400:\ttest: 0.8823868\tbest: 0.8824376 (390)\ttotal: 8.76s\tremaining: 13.1s\n",
      "500:\ttest: 0.8834491\tbest: 0.8834522 (498)\ttotal: 10.7s\tremaining: 10.6s\n",
      "600:\ttest: 0.8834737\tbest: 0.8836554 (564)\ttotal: 12.7s\tremaining: 8.43s\n",
      "700:\ttest: 0.8837847\tbest: 0.8838694 (685)\ttotal: 14.7s\tremaining: 6.25s\n",
      "800:\ttest: 0.8834383\tbest: 0.8838694 (685)\ttotal: 16.5s\tremaining: 4.11s\n",
      "900:\ttest: 0.8829318\tbest: 0.8838694 (685)\ttotal: 18.5s\tremaining: 2.03s\n",
      "999:\ttest: 0.8822744\tbest: 0.8838694 (685)\ttotal: 20.4s\tremaining: 0us\n",
      "\n",
      "bestTest = 0.8838694083\n",
      "bestIteration = 685\n",
      "\n",
      "Shrink model to first 686 iterations.\n"
     ]
    },
    {
     "data": {
      "text/plain": "<catboost.core.CatBoostClassifier at 0x28a13d594e0>"
     },
     "execution_count": 100,
     "metadata": {},
     "output_type": "execute_result"
    }
   ],
   "source": [
    "model.fit(train_data, eval_set=valid_data)"
   ],
   "metadata": {
    "collapsed": false,
    "pycharm": {
     "name": "#%%\n"
    }
   }
  },
  {
   "cell_type": "markdown",
   "source": [
    "## ROC AUC при сильно несбалансированных классах"
   ],
   "metadata": {
    "collapsed": false,
    "pycharm": {
     "name": "#%% md\n"
    }
   }
  },
  {
   "cell_type": "markdown",
   "source": [
    "Для примера создадим ДФ, где будет 990 нулей и 10 единиц, то есть сильно несбалансированный ДС"
   ],
   "metadata": {
    "collapsed": false,
    "pycharm": {
     "name": "#%% md\n"
    }
   }
  },
  {
   "cell_type": "code",
   "execution_count": 101,
   "outputs": [],
   "source": [
    "t = pd.DataFrame({'y_true': [0]*990 + [1]*10})"
   ],
   "metadata": {
    "collapsed": false,
    "pycharm": {
     "name": "#%%\n"
    }
   }
  },
  {
   "cell_type": "code",
   "execution_count": 102,
   "outputs": [
    {
     "data": {
      "text/plain": "     y_true\n0         0\n1         0\n2         0\n3         0\n4         0\n..      ...\n995       1\n996       1\n997       1\n998       1\n999       1\n\n[1000 rows x 1 columns]",
      "text/html": "<div>\n<style scoped>\n    .dataframe tbody tr th:only-of-type {\n        vertical-align: middle;\n    }\n\n    .dataframe tbody tr th {\n        vertical-align: top;\n    }\n\n    .dataframe thead th {\n        text-align: right;\n    }\n</style>\n<table border=\"1\" class=\"dataframe\">\n  <thead>\n    <tr style=\"text-align: right;\">\n      <th></th>\n      <th>y_true</th>\n    </tr>\n  </thead>\n  <tbody>\n    <tr>\n      <th>0</th>\n      <td>0</td>\n    </tr>\n    <tr>\n      <th>1</th>\n      <td>0</td>\n    </tr>\n    <tr>\n      <th>2</th>\n      <td>0</td>\n    </tr>\n    <tr>\n      <th>3</th>\n      <td>0</td>\n    </tr>\n    <tr>\n      <th>4</th>\n      <td>0</td>\n    </tr>\n    <tr>\n      <th>...</th>\n      <td>...</td>\n    </tr>\n    <tr>\n      <th>995</th>\n      <td>1</td>\n    </tr>\n    <tr>\n      <th>996</th>\n      <td>1</td>\n    </tr>\n    <tr>\n      <th>997</th>\n      <td>1</td>\n    </tr>\n    <tr>\n      <th>998</th>\n      <td>1</td>\n    </tr>\n    <tr>\n      <th>999</th>\n      <td>1</td>\n    </tr>\n  </tbody>\n</table>\n<p>1000 rows × 1 columns</p>\n</div>"
     },
     "execution_count": 102,
     "metadata": {},
     "output_type": "execute_result"
    }
   ],
   "source": [
    "t"
   ],
   "metadata": {
    "collapsed": false,
    "pycharm": {
     "name": "#%%\n"
    }
   }
  },
  {
   "cell_type": "code",
   "execution_count": 103,
   "outputs": [
    {
     "data": {
      "text/plain": "0.01"
     },
     "execution_count": 103,
     "metadata": {},
     "output_type": "execute_result"
    }
   ],
   "source": [
    "t.y_true.mean()"
   ],
   "metadata": {
    "collapsed": false,
    "pycharm": {
     "name": "#%%\n"
    }
   }
  },
  {
   "cell_type": "code",
   "execution_count": 104,
   "outputs": [],
   "source": [
    "import numpy as np"
   ],
   "metadata": {
    "collapsed": false,
    "pycharm": {
     "name": "#%%\n"
    }
   }
  },
  {
   "cell_type": "code",
   "execution_count": 105,
   "outputs": [
    {
     "data": {
      "text/plain": "0.14320618955878334"
     },
     "execution_count": 105,
     "metadata": {},
     "output_type": "execute_result"
    }
   ],
   "source": [
    "np.random.uniform(0, 0.2)"
   ],
   "metadata": {
    "collapsed": false,
    "pycharm": {
     "name": "#%%\n"
    }
   }
  },
  {
   "cell_type": "code",
   "execution_count": 106,
   "outputs": [
    {
     "data": {
      "text/plain": "0.96005762137971"
     },
     "execution_count": 106,
     "metadata": {},
     "output_type": "execute_result"
    }
   ],
   "source": [
    "np.random.uniform(0.8, 1)"
   ],
   "metadata": {
    "collapsed": false,
    "pycharm": {
     "name": "#%%\n"
    }
   }
  },
  {
   "cell_type": "code",
   "execution_count": 107,
   "outputs": [
    {
     "data": {
      "text/plain": "array([0.10241336, 0.13366566, 0.93503455, 0.9174543 , 0.80878138])"
     },
     "execution_count": 107,
     "metadata": {},
     "output_type": "execute_result"
    }
   ],
   "source": [
    "np.concatenate([np.random.uniform(0, 0.2, size=2),np.random.uniform(0.8, 1, size=3)])"
   ],
   "metadata": {
    "collapsed": false,
    "pycharm": {
     "name": "#%%\n"
    }
   }
  },
  {
   "cell_type": "markdown",
   "source": [
    "Создадим искуственный ДФ с 970 нулями и 30 1-ами.\n",
    "Добавим в них шум"
   ],
   "metadata": {
    "collapsed": false,
    "pycharm": {
     "name": "#%% md\n"
    }
   }
  },
  {
   "cell_type": "code",
   "execution_count": 108,
   "outputs": [],
   "source": [
    "t = pd.DataFrame({'y_true': [0]*990 + [1]*10})"
   ],
   "metadata": {
    "collapsed": false,
    "pycharm": {
     "name": "#%%\n"
    }
   }
  },
  {
   "cell_type": "code",
   "execution_count": 109,
   "outputs": [],
   "source": [
    "np.random.seed(42)\n",
    "t['y_score1'] = np.concatenate([np.random.uniform(0, 0.2, size=970),  # TN\n",
    "                                np.random.uniform(0.8, 1, size=20),  # FP\n",
    "                                np.random.uniform(0, 0.2, size=5),  # FN\n",
    "                                np.random.uniform(0.8, 1, size=5)])  # TP"
   ],
   "metadata": {
    "collapsed": false,
    "pycharm": {
     "name": "#%%\n"
    }
   }
  },
  {
   "cell_type": "code",
   "execution_count": 110,
   "outputs": [
    {
     "data": {
      "text/plain": "   y_true  y_score1\n0       0  0.074908\n1       0  0.190143\n2       0  0.146399\n3       0  0.119732\n4       0  0.031204",
      "text/html": "<div>\n<style scoped>\n    .dataframe tbody tr th:only-of-type {\n        vertical-align: middle;\n    }\n\n    .dataframe tbody tr th {\n        vertical-align: top;\n    }\n\n    .dataframe thead th {\n        text-align: right;\n    }\n</style>\n<table border=\"1\" class=\"dataframe\">\n  <thead>\n    <tr style=\"text-align: right;\">\n      <th></th>\n      <th>y_true</th>\n      <th>y_score1</th>\n    </tr>\n  </thead>\n  <tbody>\n    <tr>\n      <th>0</th>\n      <td>0</td>\n      <td>0.074908</td>\n    </tr>\n    <tr>\n      <th>1</th>\n      <td>0</td>\n      <td>0.190143</td>\n    </tr>\n    <tr>\n      <th>2</th>\n      <td>0</td>\n      <td>0.146399</td>\n    </tr>\n    <tr>\n      <th>3</th>\n      <td>0</td>\n      <td>0.119732</td>\n    </tr>\n    <tr>\n      <th>4</th>\n      <td>0</td>\n      <td>0.031204</td>\n    </tr>\n  </tbody>\n</table>\n</div>"
     },
     "execution_count": 110,
     "metadata": {},
     "output_type": "execute_result"
    }
   ],
   "source": [
    "t.head()"
   ],
   "metadata": {
    "collapsed": false,
    "pycharm": {
     "name": "#%%\n"
    }
   }
  },
  {
   "cell_type": "code",
   "execution_count": 111,
   "outputs": [
    {
     "data": {
      "text/plain": "0.7664646464646465"
     },
     "execution_count": 111,
     "metadata": {},
     "output_type": "execute_result"
    }
   ],
   "source": [
    "roc_auc_score(t.y_true, t.y_score1)"
   ],
   "metadata": {
    "collapsed": false,
    "pycharm": {
     "name": "#%%\n"
    }
   }
  },
  {
   "cell_type": "markdown",
   "source": [
    "Создадим ещё 1 скор"
   ],
   "metadata": {
    "collapsed": false,
    "pycharm": {
     "name": "#%% md\n"
    }
   }
  },
  {
   "cell_type": "code",
   "execution_count": 112,
   "outputs": [],
   "source": [
    "np.random.seed(42)\n",
    "t['y_score2'] = np.concatenate([np.random.uniform(0, 0.2, size=930),  # TN\n",
    "                                np.random.uniform(0.8, 1, size=60),  # FP\n",
    "                                np.random.uniform(0, 0.2, size=2),  # FN\n",
    "                                np.random.uniform(0.8, 1, size=8)])  # TP"
   ],
   "metadata": {
    "collapsed": false,
    "pycharm": {
     "name": "#%%\n"
    }
   }
  },
  {
   "cell_type": "code",
   "execution_count": 113,
   "outputs": [
    {
     "data": {
      "text/plain": "0.9166666666666667"
     },
     "execution_count": 113,
     "metadata": {},
     "output_type": "execute_result"
    }
   ],
   "source": [
    "roc_auc_score(t.y_true, t.y_score2)"
   ],
   "metadata": {
    "collapsed": false,
    "pycharm": {
     "name": "#%%\n"
    }
   }
  },
  {
   "cell_type": "markdown",
   "source": [
    "#### При сильно несбалансированных классах ROC перестаёт обращать внимание на FP, а если важны FP, то это проблема"
   ],
   "metadata": {
    "collapsed": false,
    "pycharm": {
     "name": "#%% md\n"
    }
   }
  },
  {
   "cell_type": "markdown",
   "source": [
    "## Precision recall curve\n",
    "В ситуациях с несбалансированными классами нужно использовать average_precision_score - аналог ROC_AUC для Precision и Recall"
   ],
   "metadata": {
    "collapsed": false,
    "pycharm": {
     "name": "#%% md\n"
    }
   }
  },
  {
   "cell_type": "code",
   "execution_count": 114,
   "outputs": [
    {
     "data": {
      "text/plain": "<Figure size 640x480 with 1 Axes>",
      "image/png": "[encoded data removed]"
     },
     "metadata": {},
     "output_type": "display_data"
    }
   ],
   "source": [
    "# example of a precision-recall curve for a predictive model\n",
    "from sklearn.datasets import make_classification\n",
    "from sklearn.linear_model import LogisticRegression\n",
    "from sklearn.model_selection import train_test_split\n",
    "from sklearn.metrics import precision_recall_curve\n",
    "from matplotlib import pyplot\n",
    "\n",
    "\n",
    "\n",
    "# calculate model precision-recall curve\n",
    "precision1, recall1, _ = precision_recall_curve(t.y_true, t.y_score1)\n",
    "precision2, recall2, _ = precision_recall_curve(t.y_true, t.y_score2)\n",
    "# plot the model precision-recall curve\n",
    "pyplot.plot(recall1, precision1, marker='.', label='score1')\n",
    "pyplot.plot(recall2, precision2, marker='.', label='score2')\n",
    "# axis labels\n",
    "pyplot.xlabel('Recall')\n",
    "pyplot.ylabel('Precision')\n",
    "# show the legend\n",
    "pyplot.legend()\n",
    "# show the plot\n",
    "pyplot.show()"
   ],
   "metadata": {
    "collapsed": false,
    "pycharm": {
     "name": "#%%\n"
    }
   }
  },
  {
   "cell_type": "code",
   "execution_count": 115,
   "outputs": [],
   "source": [
    "from sklearn.metrics import average_precision_score"
   ],
   "metadata": {
    "collapsed": false,
    "pycharm": {
     "name": "#%%\n"
    }
   }
  },
  {
   "cell_type": "code",
   "execution_count": 116,
   "outputs": [
    {
     "data": {
      "text/plain": "0.2404742335681647"
     },
     "execution_count": 116,
     "metadata": {},
     "output_type": "execute_result"
    }
   ],
   "source": [
    "average_precision_score(t.y_true, t.y_score1)"
   ],
   "metadata": {
    "collapsed": false,
    "pycharm": {
     "name": "#%%\n"
    }
   }
  },
  {
   "cell_type": "code",
   "execution_count": 117,
   "outputs": [
    {
     "data": {
      "text/plain": "0.1797651767227378"
     },
     "execution_count": 117,
     "metadata": {},
     "output_type": "execute_result"
    }
   ],
   "source": [
    "average_precision_score(t.y_true, t.y_score2)"
   ],
   "metadata": {
    "collapsed": false,
    "pycharm": {
     "name": "#%%\n"
    }
   }
  },
  {
   "cell_type": "markdown",
   "source": [
    "#### В результате: если важен FPR нужно пользоваться Precision recall curve (PRC) т.к. метрика ROC AUC у скора 1 = 0.766, а у скора 2 = 0.916, но при этом из-за несбалансированности классов в скоре 2 много FP и в следствии этого Aveage Precision Score (APS) скора 1 = 0.24, а скора 2 = 0.179"
   ],
   "metadata": {
    "collapsed": false,
    "pycharm": {
     "name": "#%% md\n"
    }
   }
  },
  {
   "cell_type": "markdown",
   "source": [
    "## Сравним HL и ML с помощью ROC и PRC"
   ],
   "metadata": {
    "collapsed": false,
    "pycharm": {
     "name": "#%% md\n"
    }
   }
  },
  {
   "cell_type": "markdown",
   "source": [
    "Посмотрим на график ROC"
   ],
   "metadata": {
    "collapsed": false,
    "pycharm": {
     "name": "#%% md\n"
    }
   }
  },
  {
   "cell_type": "code",
   "execution_count": 118,
   "outputs": [
    {
     "data": {
      "text/plain": "<Figure size 640x480 with 1 Axes>",
      "image/png": "[encoded data removed]"
     },
     "metadata": {},
     "output_type": "display_data"
    }
   ],
   "source": [
    "# calculate model precision-recall curve\n",
    "fpr1, tpr1, _ = roc_curve(test.Exited, test.score_prod_age)\n",
    "fpr2, tpr2, _ = roc_curve(test.Exited, test.score_catboost)\n",
    "# plot the model precision-recall curve\n",
    "pyplot.plot(fpr1, tpr1,marker='.', label='Human learning')\n",
    "pyplot.plot(fpr2, tpr2, marker='.', label='Machine learning')\n",
    "# axis labels\n",
    "pyplot.xlabel('FRP')\n",
    "pyplot.ylabel('TPR')\n",
    "# show the legend\n",
    "pyplot.legend()\n",
    "# show the plot\n",
    "pyplot.show()"
   ],
   "metadata": {
    "collapsed": false,
    "pycharm": {
     "name": "#%%\n"
    }
   }
  },
  {
   "cell_type": "markdown",
   "source": [
    "ROC AUC для HL и ML"
   ],
   "metadata": {
    "collapsed": false,
    "pycharm": {
     "name": "#%% md\n"
    }
   }
  },
  {
   "cell_type": "code",
   "execution_count": 119,
   "outputs": [
    {
     "data": {
      "text/plain": "0.8115241589817861"
     },
     "execution_count": 119,
     "metadata": {},
     "output_type": "execute_result"
    }
   ],
   "source": [
    "roc_auc_score(test.Exited, test.score_prod_age)"
   ],
   "metadata": {
    "collapsed": false,
    "pycharm": {
     "name": "#%%\n"
    }
   }
  },
  {
   "cell_type": "code",
   "execution_count": 120,
   "outputs": [
    {
     "data": {
      "text/plain": "0.8703063618317854"
     },
     "execution_count": 120,
     "metadata": {},
     "output_type": "execute_result"
    }
   ],
   "source": [
    "roc_auc_score(test.Exited, test.score_catboost)"
   ],
   "metadata": {
    "collapsed": false,
    "pycharm": {
     "name": "#%%\n"
    }
   }
  },
  {
   "cell_type": "markdown",
   "source": [
    "Посмотрим на график Precision и Recall"
   ],
   "metadata": {
    "collapsed": false,
    "pycharm": {
     "name": "#%% md\n"
    }
   }
  },
  {
   "cell_type": "code",
   "execution_count": 121,
   "outputs": [
    {
     "data": {
      "text/plain": "<Figure size 640x480 with 1 Axes>",
      "image/png": "[encoded data removed]"
     },
     "metadata": {},
     "output_type": "display_data"
    }
   ],
   "source": [
    "# calculate model precision-recall curve\n",
    "precision1, recall1, _ = precision_recall_curve(test.Exited, test.score_prod_age)\n",
    "precision2, recall2, _ = precision_recall_curve(test.Exited, test.score_catboost)\n",
    "# plot the model precision-recall curve\n",
    "pyplot.plot(recall1, precision1, marker='.', label='Human learning')\n",
    "pyplot.plot(recall2, precision2, marker='.', label='Machine learning')\n",
    "# axis labels\n",
    "pyplot.xlabel('Recall')\n",
    "pyplot.ylabel('Precision')\n",
    "# show the legend\n",
    "pyplot.legend()\n",
    "# show the plot\n",
    "pyplot.show()"
   ],
   "metadata": {
    "collapsed": false,
    "pycharm": {
     "name": "#%%\n"
    }
   }
  },
  {
   "cell_type": "markdown",
   "source": [
    "APS для HL и ML"
   ],
   "metadata": {
    "collapsed": false,
    "pycharm": {
     "name": "#%% md\n"
    }
   }
  },
  {
   "cell_type": "code",
   "execution_count": 122,
   "outputs": [
    {
     "data": {
      "text/plain": "0.539602947873155"
     },
     "execution_count": 122,
     "metadata": {},
     "output_type": "execute_result"
    }
   ],
   "source": [
    "average_precision_score(test.Exited, test.score_prod_age)"
   ],
   "metadata": {
    "collapsed": false,
    "pycharm": {
     "name": "#%%\n"
    }
   }
  },
  {
   "cell_type": "code",
   "execution_count": 123,
   "outputs": [
    {
     "data": {
      "text/plain": "0.7138074084585948"
     },
     "execution_count": 123,
     "metadata": {},
     "output_type": "execute_result"
    }
   ],
   "source": [
    "average_precision_score(test.Exited, test.score_catboost)"
   ],
   "metadata": {
    "collapsed": false,
    "pycharm": {
     "name": "#%%\n"
    }
   }
  },
  {
   "cell_type": "markdown",
   "source": [
    "#### С точки зрения precision, ML очень сильно выигрывает.\n",
    "#### Это не было так заметно на ROC AUC, по этому надо строить PRC и смотреть результат APS"
   ],
   "metadata": {
    "collapsed": false,
    "pycharm": {
     "name": "#%% md\n"
    }
   }
  },
  {
   "cell_type": "markdown",
   "source": [
    "## Дисбаланс классов не проблема\n",
    "В реальных данных классы почти всегда несбалансированны, по этому бороться с дисбалансом классов не нужно, а нужно лишь уметь с ними работать\n",
    "Но при необходимости можно бороться с дисбалансом классов."
   ],
   "metadata": {
    "collapsed": false,
    "pycharm": {
     "name": "#%% md\n"
    }
   }
  },
  {
   "cell_type": "markdown",
   "source": [
    "#### Способы борьбы с дисбалансом классов:\n",
    "1. Андерсемплинг - выкинуть часть наблюдений из бОльшего класса\n",
    "2. Оверсемплинг - генерация объектов 1-ого класса и дополняют выборку этими объектами\n",
    "3. Регуляция весами при обучении"
   ],
   "metadata": {
    "collapsed": false,
    "pycharm": {
     "name": "#%% md\n"
    }
   }
  },
  {
   "cell_type": "markdown",
   "source": [
    "Пример регуляции весами при обучении:\n",
    "помимо регуляции будем смотреть метрику по AUC"
   ],
   "metadata": {
    "collapsed": false,
    "pycharm": {
     "name": "#%% md\n"
    }
   }
  },
  {
   "cell_type": "code",
   "execution_count": 124,
   "outputs": [],
   "source": [
    "params = {'verbose': 100,\n",
    "          'auto_class_weights': 'Balanced',\n",
    "          'eval_metric': 'AUC',\n",
    "          'random_seed': 42,\n",
    "          'learning_rate': 0.01}"
   ],
   "metadata": {
    "collapsed": false,
    "pycharm": {
     "name": "#%%\n"
    }
   }
  },
  {
   "cell_type": "code",
   "execution_count": 125,
   "outputs": [],
   "source": [
    "model = CatBoostClassifier(**params)"
   ],
   "metadata": {
    "collapsed": false,
    "pycharm": {
     "name": "#%%\n"
    }
   }
  },
  {
   "cell_type": "code",
   "execution_count": 126,
   "outputs": [
    {
     "name": "stdout",
     "output_type": "stream",
     "text": [
      "0:\ttest: 0.8310171\tbest: 0.8310171 (0)\ttotal: 24.4ms\tremaining: 24.4s\n",
      "100:\ttest: 0.8726691\tbest: 0.8727215 (99)\ttotal: 1.99s\tremaining: 17.7s\n",
      "200:\ttest: 0.8780837\tbest: 0.8781684 (199)\ttotal: 3.88s\tremaining: 15.4s\n",
      "300:\ttest: 0.8805532\tbest: 0.8806579 (293)\ttotal: 5.69s\tremaining: 13.2s\n",
      "400:\ttest: 0.8818510\tbest: 0.8818649 (397)\ttotal: 7.49s\tremaining: 11.2s\n",
      "500:\ttest: 0.8821682\tbest: 0.8822452 (481)\ttotal: 9.27s\tremaining: 9.23s\n",
      "600:\ttest: 0.8824284\tbest: 0.8826070 (561)\ttotal: 11.1s\tremaining: 7.34s\n",
      "700:\ttest: 0.8823145\tbest: 0.8826070 (561)\ttotal: 12.9s\tremaining: 5.51s\n",
      "800:\ttest: 0.8819619\tbest: 0.8826070 (561)\ttotal: 15s\tremaining: 3.71s\n",
      "900:\ttest: 0.8814015\tbest: 0.8826070 (561)\ttotal: 16.8s\tremaining: 1.84s\n",
      "999:\ttest: 0.8803392\tbest: 0.8826070 (561)\ttotal: 18.7s\tremaining: 0us\n",
      "\n",
      "bestTest = 0.8826069687\n",
      "bestIteration = 561\n",
      "\n",
      "Shrink model to first 562 iterations.\n"
     ]
    },
    {
     "data": {
      "text/plain": "<catboost.core.CatBoostClassifier at 0x28a13fee650>"
     },
     "execution_count": 126,
     "metadata": {},
     "output_type": "execute_result"
    }
   ],
   "source": [
    "model.fit(train_data, eval_set=valid_data)"
   ],
   "metadata": {
    "collapsed": false,
    "pycharm": {
     "name": "#%%\n"
    }
   }
  },
  {
   "cell_type": "markdown",
   "source": [
    "В явном виде регуляция никак не повляла на скоры. Как был AUC 88, так и остался"
   ],
   "metadata": {
    "collapsed": false,
    "pycharm": {
     "name": "#%% md\n"
    }
   }
  },
  {
   "cell_type": "markdown",
   "source": [
    "Распределение скоров без регуляции дисбаланса классов"
   ],
   "metadata": {
    "collapsed": false,
    "pycharm": {
     "name": "#%% md\n"
    }
   }
  },
  {
   "cell_type": "code",
   "execution_count": 132,
   "outputs": [
    {
     "data": {
      "text/plain": "<Figure size 640x480 with 1 Axes>",
      "image/png": "[encoded data removed]"
     },
     "metadata": {},
     "output_type": "display_data"
    }
   ],
   "source": [
    "test.score_catboost.hist();"
   ],
   "metadata": {
    "collapsed": false,
    "pycharm": {
     "name": "#%%\n"
    }
   }
  },
  {
   "cell_type": "markdown",
   "source": [
    "Распределение скоров с регуляцией дисбаланса классов"
   ],
   "metadata": {
    "collapsed": false,
    "pycharm": {
     "name": "#%% md\n"
    }
   }
  },
  {
   "cell_type": "code",
   "execution_count": 131,
   "outputs": [
    {
     "data": {
      "text/plain": "<Figure size 640x480 with 1 Axes>",
      "image/png": "[encoded data removed]"
     },
     "metadata": {},
     "output_type": "display_data"
    }
   ],
   "source": [
    "pd.Series(model.predict_proba(test[X])[:,1]).hist();"
   ],
   "metadata": {
    "collapsed": false,
    "pycharm": {
     "name": "#%%\n"
    }
   }
  },
  {
   "cell_type": "markdown",
   "source": [
    "Разобьём на части распределения и посмотрим сводники\n",
    "Сводник для несбалансированной модели:"
   ],
   "metadata": {
    "collapsed": false,
    "pycharm": {
     "name": "#%% md\n"
    }
   }
  },
  {
   "cell_type": "code",
   "execution_count": 133,
   "outputs": [],
   "source": [
    "test['score_cat_non_balanced_bins'] = pd.cut(test['score_catboost'], 10)"
   ],
   "metadata": {
    "collapsed": false,
    "pycharm": {
     "name": "#%%\n"
    }
   }
  },
  {
   "cell_type": "code",
   "execution_count": 134,
   "outputs": [
    {
     "data": {
      "text/plain": "                             count      mean\nscore_cat_non_balanced_bins                 \n(0.00838, 0.108]              1032  0.043605\n(0.108, 0.207]                 343  0.142857\n(0.207, 0.306]                 184  0.260870\n(0.306, 0.405]                 128  0.359375\n(0.405, 0.503]                  69  0.434783\n(0.503, 0.602]                  49  0.530612\n(0.602, 0.701]                  42  0.595238\n(0.701, 0.8]                    59  0.830508\n(0.8, 0.899]                    45  0.911111\n(0.899, 0.997]                  49  0.979592",
      "text/html": "<div>\n<style scoped>\n    .dataframe tbody tr th:only-of-type {\n        vertical-align: middle;\n    }\n\n    .dataframe tbody tr th {\n        vertical-align: top;\n    }\n\n    .dataframe thead th {\n        text-align: right;\n    }\n</style>\n<table border=\"1\" class=\"dataframe\">\n  <thead>\n    <tr style=\"text-align: right;\">\n      <th></th>\n      <th>count</th>\n      <th>mean</th>\n    </tr>\n    <tr>\n      <th>score_cat_non_balanced_bins</th>\n      <th></th>\n      <th></th>\n    </tr>\n  </thead>\n  <tbody>\n    <tr>\n      <th>(0.00838, 0.108]</th>\n      <td>1032</td>\n      <td>0.043605</td>\n    </tr>\n    <tr>\n      <th>(0.108, 0.207]</th>\n      <td>343</td>\n      <td>0.142857</td>\n    </tr>\n    <tr>\n      <th>(0.207, 0.306]</th>\n      <td>184</td>\n      <td>0.260870</td>\n    </tr>\n    <tr>\n      <th>(0.306, 0.405]</th>\n      <td>128</td>\n      <td>0.359375</td>\n    </tr>\n    <tr>\n      <th>(0.405, 0.503]</th>\n      <td>69</td>\n      <td>0.434783</td>\n    </tr>\n    <tr>\n      <th>(0.503, 0.602]</th>\n      <td>49</td>\n      <td>0.530612</td>\n    </tr>\n    <tr>\n      <th>(0.602, 0.701]</th>\n      <td>42</td>\n      <td>0.595238</td>\n    </tr>\n    <tr>\n      <th>(0.701, 0.8]</th>\n      <td>59</td>\n      <td>0.830508</td>\n    </tr>\n    <tr>\n      <th>(0.8, 0.899]</th>\n      <td>45</td>\n      <td>0.911111</td>\n    </tr>\n    <tr>\n      <th>(0.899, 0.997]</th>\n      <td>49</td>\n      <td>0.979592</td>\n    </tr>\n  </tbody>\n</table>\n</div>"
     },
     "execution_count": 134,
     "metadata": {},
     "output_type": "execute_result"
    }
   ],
   "source": [
    "test.groupby('score_cat_non_balanced_bins').Exited.agg(['count', 'mean'])"
   ],
   "metadata": {
    "collapsed": false,
    "pycharm": {
     "name": "#%%\n"
    }
   }
  },
  {
   "cell_type": "markdown",
   "source": [
    "Сводник для сбалансированной модели:"
   ],
   "metadata": {
    "collapsed": false,
    "pycharm": {
     "name": "#%% md\n"
    }
   }
  },
  {
   "cell_type": "code",
   "execution_count": 135,
   "outputs": [],
   "source": [
    "test['score_catboost_balanced'] = model.predict_proba(test[X])[:,1]"
   ],
   "metadata": {
    "collapsed": false,
    "pycharm": {
     "name": "#%%\n"
    }
   }
  },
  {
   "cell_type": "code",
   "execution_count": 136,
   "outputs": [],
   "source": [
    "test['score_cat_balanced_bins'] = pd.cut(test['score_catboost_balanced'], 10)"
   ],
   "metadata": {
    "collapsed": false,
    "pycharm": {
     "name": "#%%\n"
    }
   }
  },
  {
   "cell_type": "code",
   "execution_count": 137,
   "outputs": [
    {
     "data": {
      "text/plain": "                         count      mean\nscore_cat_balanced_bins                 \n(0.0404, 0.137]            340  0.011765\n(0.137, 0.232]             387  0.036176\n(0.232, 0.328]             327  0.082569\n(0.328, 0.423]             187  0.139037\n(0.423, 0.518]             190  0.210526\n(0.518, 0.614]             146  0.191781\n(0.614, 0.709]             125  0.464000\n(0.709, 0.805]              85  0.447059\n(0.805, 0.9]                97  0.670103\n(0.9, 0.995]               116  0.922414",
      "text/html": "<div>\n<style scoped>\n    .dataframe tbody tr th:only-of-type {\n        vertical-align: middle;\n    }\n\n    .dataframe tbody tr th {\n        vertical-align: top;\n    }\n\n    .dataframe thead th {\n        text-align: right;\n    }\n</style>\n<table border=\"1\" class=\"dataframe\">\n  <thead>\n    <tr style=\"text-align: right;\">\n      <th></th>\n      <th>count</th>\n      <th>mean</th>\n    </tr>\n    <tr>\n      <th>score_cat_balanced_bins</th>\n      <th></th>\n      <th></th>\n    </tr>\n  </thead>\n  <tbody>\n    <tr>\n      <th>(0.0404, 0.137]</th>\n      <td>340</td>\n      <td>0.011765</td>\n    </tr>\n    <tr>\n      <th>(0.137, 0.232]</th>\n      <td>387</td>\n      <td>0.036176</td>\n    </tr>\n    <tr>\n      <th>(0.232, 0.328]</th>\n      <td>327</td>\n      <td>0.082569</td>\n    </tr>\n    <tr>\n      <th>(0.328, 0.423]</th>\n      <td>187</td>\n      <td>0.139037</td>\n    </tr>\n    <tr>\n      <th>(0.423, 0.518]</th>\n      <td>190</td>\n      <td>0.210526</td>\n    </tr>\n    <tr>\n      <th>(0.518, 0.614]</th>\n      <td>146</td>\n      <td>0.191781</td>\n    </tr>\n    <tr>\n      <th>(0.614, 0.709]</th>\n      <td>125</td>\n      <td>0.464000</td>\n    </tr>\n    <tr>\n      <th>(0.709, 0.805]</th>\n      <td>85</td>\n      <td>0.447059</td>\n    </tr>\n    <tr>\n      <th>(0.805, 0.9]</th>\n      <td>97</td>\n      <td>0.670103</td>\n    </tr>\n    <tr>\n      <th>(0.9, 0.995]</th>\n      <td>116</td>\n      <td>0.922414</td>\n    </tr>\n  </tbody>\n</table>\n</div>"
     },
     "execution_count": 137,
     "metadata": {},
     "output_type": "execute_result"
    }
   ],
   "source": [
    "test.groupby('score_cat_balanced_bins').Exited.agg(['count', 'mean'])"
   ],
   "metadata": {
    "collapsed": false,
    "pycharm": {
     "name": "#%%\n"
    }
   }
  },
  {
   "cell_type": "markdown",
   "source": [
    "Теперь данный скор ↑ не соответствует вероятности, его нельзя интерпретировать как вероятность"
   ],
   "metadata": {
    "collapsed": false,
    "pycharm": {
     "name": "#%% md\n"
    }
   }
  },
  {
   "cell_type": "markdown",
   "source": [
    "#### Результат: в случае с катбустом, балансировка классов не сильно помогает.\n",
    "#### Ожидать от неё улучшения качества в подавляющем большенстве не стоит, но в некоторых ситуациях её можно использовать"
   ],
   "metadata": {
    "collapsed": false,
    "pycharm": {
     "name": "#%% md\n"
    }
   }
  },
  {
   "cell_type": "markdown",
   "source": [
    "## Мультикласс"
   ],
   "metadata": {
    "collapsed": false,
    "pycharm": {
     "name": "#%% md\n"
    }
   }
  },
  {
   "cell_type": "markdown",
   "source": [
    "\n",
    "https://towardsdatascience.com/comprehensive-guide-on-multiclass-classification-metrics-af94cfb83fbd"
   ],
   "metadata": {
    "collapsed": false
   }
  },
  {
   "cell_type": "markdown",
   "source": [
    "https://towardsdatascience.com/multiclass-classification-evaluation-with-roc-curves-and-roc-auc-294fd4617e3a"
   ],
   "metadata": {
    "collapsed": false
   }
  },
  {
   "cell_type": "markdown",
   "source": [
    "https://github.com/catboost/tutorials/blob/master/classification/classification_tutorial.ipynb"
   ],
   "metadata": {
    "collapsed": false
   }
  }
 ],
 "metadata": {
  "kernelspec": {
   "display_name": "Python 3",
   "language": "python",
   "name": "python3"
  },
  "language_info": {
   "codemirror_mode": {
    "name": "ipython",
    "version": 2
   },
   "file_extension": ".py",
   "mimetype": "text/x-python",
   "name": "python",
   "nbconvert_exporter": "python",
   "pygments_lexer": "ipython2",
   "version": "2.7.6"
  }
 },
 "nbformat": 4,
 "nbformat_minor": 0
}