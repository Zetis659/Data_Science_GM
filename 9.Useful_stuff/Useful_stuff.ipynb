{
 "cells": [
  {
   "cell_type": "markdown",
   "source": [
    "# Useful stuff: CV"
   ],
   "metadata": {
    "collapsed": false,
    "pycharm": {
     "name": "#%% md\n"
    }
   }
  },
  {
   "cell_type": "markdown",
   "source": [
    "## Загрузка данных\n",
    "#### Данные беру из Churn_modeling.zip"
   ],
   "metadata": {
    "collapsed": false,
    "pycharm": {
     "name": "#%% md\n"
    }
   }
  },
  {
   "cell_type": "markdown",
   "source": [
    "# Colab"
   ],
   "metadata": {
    "collapsed": false,
    "pycharm": {
     "name": "#%% md\n"
    }
   }
  },
  {
   "cell_type": "markdown",
   "source": [
    "https://drive.google.com/file/d/1ilb0iIuToOiuFSQpfWQvTCG4jl8I6hOx/view?usp=sharing"
   ],
   "metadata": {
    "collapsed": false,
    "pycharm": {
     "name": "#%% md\n"
    }
   }
  },
  {
   "cell_type": "code",
   "execution_count": 1,
   "outputs": [
    {
     "name": "stderr",
     "output_type": "stream",
     "text": [
      "\"gdown\" ­Ґ пў«пҐвбп ў­гваҐ­­Ґ© Ё«Ё ў­Ґи­Ґ©\n",
      "Є®¬ ­¤®©, ЁбЇ®«­пҐ¬®© Їа®Ја ¬¬®© Ё«Ё Ї ЄҐв­л¬ д ©«®¬.\n"
     ]
    }
   ],
   "source": [
    "! gdown --id 1ilb0iIuToOiuFSQpfWQvTCG4jl8I6hOx"
   ],
   "metadata": {
    "collapsed": false,
    "pycharm": {
     "name": "#%%\n"
    }
   }
  },
  {
   "cell_type": "markdown",
   "source": [
    "! unzip /content/churn_modeling.zip -d /content/churn_modeling/"
   ],
   "metadata": {
    "collapsed": false,
    "pycharm": {
     "name": "#%% md\n"
    }
   }
  },
  {
   "cell_type": "code",
   "execution_count": 9,
   "outputs": [
    {
     "name": "stderr",
     "output_type": "stream",
     "text": [
      "\"unzip\" ­Ґ пў«пҐвбп ў­гваҐ­­Ґ© Ё«Ё ў­Ґи­Ґ©\n",
      "Є®¬ ­¤®©, ЁбЇ®«­пҐ¬®© Їа®Ја ¬¬®© Ё«Ё Ї ЄҐв­л¬ д ©«®¬.\n"
     ]
    }
   ],
   "source": [
    "! unzip / content / churn_modeling.zip -d / content / churn_modeling /"
   ],
   "metadata": {
    "collapsed": false,
    "pycharm": {
     "name": "#%%\n"
    }
   }
  },
  {
   "cell_type": "code",
   "execution_count": 1,
   "outputs": [],
   "source": [
    "import pandas as pd"
   ],
   "metadata": {
    "collapsed": false,
    "pycharm": {
     "name": "#%%\n"
    }
   }
  },
  {
   "cell_type": "code",
   "execution_count": 8,
   "outputs": [
    {
     "ename": "FileNotFoundError",
     "evalue": "[Errno 2] No such file or directory: '/content/churn_modeling/Churn_Modelling.csv'",
     "output_type": "error",
     "traceback": [
      "\u001B[1;31m---------------------------------------------------------------------------\u001B[0m",
      "\u001B[1;31mFileNotFoundError\u001B[0m                         Traceback (most recent call last)",
      "Cell \u001B[1;32mIn[8], line 1\u001B[0m\n\u001B[1;32m----> 1\u001B[0m df \u001B[38;5;241m=\u001B[39m \u001B[43mpd\u001B[49m\u001B[38;5;241;43m.\u001B[39;49m\u001B[43mread_csv\u001B[49m\u001B[43m(\u001B[49m\u001B[38;5;124;43m'\u001B[39;49m\u001B[38;5;124;43m/content/churn_modeling/Churn_Modelling.csv\u001B[39;49m\u001B[38;5;124;43m'\u001B[39;49m\u001B[43m)\u001B[49m\n",
      "File \u001B[1;32m~\\AppData\\Local\\Programs\\Python\\Python310\\lib\\site-packages\\pandas\\util\\_decorators.py:211\u001B[0m, in \u001B[0;36mdeprecate_kwarg.<locals>._deprecate_kwarg.<locals>.wrapper\u001B[1;34m(*args, **kwargs)\u001B[0m\n\u001B[0;32m    209\u001B[0m     \u001B[38;5;28;01melse\u001B[39;00m:\n\u001B[0;32m    210\u001B[0m         kwargs[new_arg_name] \u001B[38;5;241m=\u001B[39m new_arg_value\n\u001B[1;32m--> 211\u001B[0m \u001B[38;5;28;01mreturn\u001B[39;00m func(\u001B[38;5;241m*\u001B[39margs, \u001B[38;5;241m*\u001B[39m\u001B[38;5;241m*\u001B[39mkwargs)\n",
      "File \u001B[1;32m~\\AppData\\Local\\Programs\\Python\\Python310\\lib\\site-packages\\pandas\\util\\_decorators.py:331\u001B[0m, in \u001B[0;36mdeprecate_nonkeyword_arguments.<locals>.decorate.<locals>.wrapper\u001B[1;34m(*args, **kwargs)\u001B[0m\n\u001B[0;32m    325\u001B[0m \u001B[38;5;28;01mif\u001B[39;00m \u001B[38;5;28mlen\u001B[39m(args) \u001B[38;5;241m>\u001B[39m num_allow_args:\n\u001B[0;32m    326\u001B[0m     warnings\u001B[38;5;241m.\u001B[39mwarn(\n\u001B[0;32m    327\u001B[0m         msg\u001B[38;5;241m.\u001B[39mformat(arguments\u001B[38;5;241m=\u001B[39m_format_argument_list(allow_args)),\n\u001B[0;32m    328\u001B[0m         \u001B[38;5;167;01mFutureWarning\u001B[39;00m,\n\u001B[0;32m    329\u001B[0m         stacklevel\u001B[38;5;241m=\u001B[39mfind_stack_level(),\n\u001B[0;32m    330\u001B[0m     )\n\u001B[1;32m--> 331\u001B[0m \u001B[38;5;28;01mreturn\u001B[39;00m func(\u001B[38;5;241m*\u001B[39margs, \u001B[38;5;241m*\u001B[39m\u001B[38;5;241m*\u001B[39mkwargs)\n",
      "File \u001B[1;32m~\\AppData\\Local\\Programs\\Python\\Python310\\lib\\site-packages\\pandas\\io\\parsers\\readers.py:950\u001B[0m, in \u001B[0;36mread_csv\u001B[1;34m(filepath_or_buffer, sep, delimiter, header, names, index_col, usecols, squeeze, prefix, mangle_dupe_cols, dtype, engine, converters, true_values, false_values, skipinitialspace, skiprows, skipfooter, nrows, na_values, keep_default_na, na_filter, verbose, skip_blank_lines, parse_dates, infer_datetime_format, keep_date_col, date_parser, dayfirst, cache_dates, iterator, chunksize, compression, thousands, decimal, lineterminator, quotechar, quoting, doublequote, escapechar, comment, encoding, encoding_errors, dialect, error_bad_lines, warn_bad_lines, on_bad_lines, delim_whitespace, low_memory, memory_map, float_precision, storage_options)\u001B[0m\n\u001B[0;32m    935\u001B[0m kwds_defaults \u001B[38;5;241m=\u001B[39m _refine_defaults_read(\n\u001B[0;32m    936\u001B[0m     dialect,\n\u001B[0;32m    937\u001B[0m     delimiter,\n\u001B[1;32m   (...)\u001B[0m\n\u001B[0;32m    946\u001B[0m     defaults\u001B[38;5;241m=\u001B[39m{\u001B[38;5;124m\"\u001B[39m\u001B[38;5;124mdelimiter\u001B[39m\u001B[38;5;124m\"\u001B[39m: \u001B[38;5;124m\"\u001B[39m\u001B[38;5;124m,\u001B[39m\u001B[38;5;124m\"\u001B[39m},\n\u001B[0;32m    947\u001B[0m )\n\u001B[0;32m    948\u001B[0m kwds\u001B[38;5;241m.\u001B[39mupdate(kwds_defaults)\n\u001B[1;32m--> 950\u001B[0m \u001B[38;5;28;01mreturn\u001B[39;00m \u001B[43m_read\u001B[49m\u001B[43m(\u001B[49m\u001B[43mfilepath_or_buffer\u001B[49m\u001B[43m,\u001B[49m\u001B[43m \u001B[49m\u001B[43mkwds\u001B[49m\u001B[43m)\u001B[49m\n",
      "File \u001B[1;32m~\\AppData\\Local\\Programs\\Python\\Python310\\lib\\site-packages\\pandas\\io\\parsers\\readers.py:605\u001B[0m, in \u001B[0;36m_read\u001B[1;34m(filepath_or_buffer, kwds)\u001B[0m\n\u001B[0;32m    602\u001B[0m _validate_names(kwds\u001B[38;5;241m.\u001B[39mget(\u001B[38;5;124m\"\u001B[39m\u001B[38;5;124mnames\u001B[39m\u001B[38;5;124m\"\u001B[39m, \u001B[38;5;28;01mNone\u001B[39;00m))\n\u001B[0;32m    604\u001B[0m \u001B[38;5;66;03m# Create the parser.\u001B[39;00m\n\u001B[1;32m--> 605\u001B[0m parser \u001B[38;5;241m=\u001B[39m TextFileReader(filepath_or_buffer, \u001B[38;5;241m*\u001B[39m\u001B[38;5;241m*\u001B[39mkwds)\n\u001B[0;32m    607\u001B[0m \u001B[38;5;28;01mif\u001B[39;00m chunksize \u001B[38;5;129;01mor\u001B[39;00m iterator:\n\u001B[0;32m    608\u001B[0m     \u001B[38;5;28;01mreturn\u001B[39;00m parser\n",
      "File \u001B[1;32m~\\AppData\\Local\\Programs\\Python\\Python310\\lib\\site-packages\\pandas\\io\\parsers\\readers.py:1442\u001B[0m, in \u001B[0;36mTextFileReader.__init__\u001B[1;34m(self, f, engine, **kwds)\u001B[0m\n\u001B[0;32m   1439\u001B[0m     \u001B[38;5;28mself\u001B[39m\u001B[38;5;241m.\u001B[39moptions[\u001B[38;5;124m\"\u001B[39m\u001B[38;5;124mhas_index_names\u001B[39m\u001B[38;5;124m\"\u001B[39m] \u001B[38;5;241m=\u001B[39m kwds[\u001B[38;5;124m\"\u001B[39m\u001B[38;5;124mhas_index_names\u001B[39m\u001B[38;5;124m\"\u001B[39m]\n\u001B[0;32m   1441\u001B[0m \u001B[38;5;28mself\u001B[39m\u001B[38;5;241m.\u001B[39mhandles: IOHandles \u001B[38;5;241m|\u001B[39m \u001B[38;5;28;01mNone\u001B[39;00m \u001B[38;5;241m=\u001B[39m \u001B[38;5;28;01mNone\u001B[39;00m\n\u001B[1;32m-> 1442\u001B[0m \u001B[38;5;28mself\u001B[39m\u001B[38;5;241m.\u001B[39m_engine \u001B[38;5;241m=\u001B[39m \u001B[38;5;28;43mself\u001B[39;49m\u001B[38;5;241;43m.\u001B[39;49m\u001B[43m_make_engine\u001B[49m\u001B[43m(\u001B[49m\u001B[43mf\u001B[49m\u001B[43m,\u001B[49m\u001B[43m \u001B[49m\u001B[38;5;28;43mself\u001B[39;49m\u001B[38;5;241;43m.\u001B[39;49m\u001B[43mengine\u001B[49m\u001B[43m)\u001B[49m\n",
      "File \u001B[1;32m~\\AppData\\Local\\Programs\\Python\\Python310\\lib\\site-packages\\pandas\\io\\parsers\\readers.py:1735\u001B[0m, in \u001B[0;36mTextFileReader._make_engine\u001B[1;34m(self, f, engine)\u001B[0m\n\u001B[0;32m   1733\u001B[0m     \u001B[38;5;28;01mif\u001B[39;00m \u001B[38;5;124m\"\u001B[39m\u001B[38;5;124mb\u001B[39m\u001B[38;5;124m\"\u001B[39m \u001B[38;5;129;01mnot\u001B[39;00m \u001B[38;5;129;01min\u001B[39;00m mode:\n\u001B[0;32m   1734\u001B[0m         mode \u001B[38;5;241m+\u001B[39m\u001B[38;5;241m=\u001B[39m \u001B[38;5;124m\"\u001B[39m\u001B[38;5;124mb\u001B[39m\u001B[38;5;124m\"\u001B[39m\n\u001B[1;32m-> 1735\u001B[0m \u001B[38;5;28mself\u001B[39m\u001B[38;5;241m.\u001B[39mhandles \u001B[38;5;241m=\u001B[39m \u001B[43mget_handle\u001B[49m\u001B[43m(\u001B[49m\n\u001B[0;32m   1736\u001B[0m \u001B[43m    \u001B[49m\u001B[43mf\u001B[49m\u001B[43m,\u001B[49m\n\u001B[0;32m   1737\u001B[0m \u001B[43m    \u001B[49m\u001B[43mmode\u001B[49m\u001B[43m,\u001B[49m\n\u001B[0;32m   1738\u001B[0m \u001B[43m    \u001B[49m\u001B[43mencoding\u001B[49m\u001B[38;5;241;43m=\u001B[39;49m\u001B[38;5;28;43mself\u001B[39;49m\u001B[38;5;241;43m.\u001B[39;49m\u001B[43moptions\u001B[49m\u001B[38;5;241;43m.\u001B[39;49m\u001B[43mget\u001B[49m\u001B[43m(\u001B[49m\u001B[38;5;124;43m\"\u001B[39;49m\u001B[38;5;124;43mencoding\u001B[39;49m\u001B[38;5;124;43m\"\u001B[39;49m\u001B[43m,\u001B[49m\u001B[43m \u001B[49m\u001B[38;5;28;43;01mNone\u001B[39;49;00m\u001B[43m)\u001B[49m\u001B[43m,\u001B[49m\n\u001B[0;32m   1739\u001B[0m \u001B[43m    \u001B[49m\u001B[43mcompression\u001B[49m\u001B[38;5;241;43m=\u001B[39;49m\u001B[38;5;28;43mself\u001B[39;49m\u001B[38;5;241;43m.\u001B[39;49m\u001B[43moptions\u001B[49m\u001B[38;5;241;43m.\u001B[39;49m\u001B[43mget\u001B[49m\u001B[43m(\u001B[49m\u001B[38;5;124;43m\"\u001B[39;49m\u001B[38;5;124;43mcompression\u001B[39;49m\u001B[38;5;124;43m\"\u001B[39;49m\u001B[43m,\u001B[49m\u001B[43m \u001B[49m\u001B[38;5;28;43;01mNone\u001B[39;49;00m\u001B[43m)\u001B[49m\u001B[43m,\u001B[49m\n\u001B[0;32m   1740\u001B[0m \u001B[43m    \u001B[49m\u001B[43mmemory_map\u001B[49m\u001B[38;5;241;43m=\u001B[39;49m\u001B[38;5;28;43mself\u001B[39;49m\u001B[38;5;241;43m.\u001B[39;49m\u001B[43moptions\u001B[49m\u001B[38;5;241;43m.\u001B[39;49m\u001B[43mget\u001B[49m\u001B[43m(\u001B[49m\u001B[38;5;124;43m\"\u001B[39;49m\u001B[38;5;124;43mmemory_map\u001B[39;49m\u001B[38;5;124;43m\"\u001B[39;49m\u001B[43m,\u001B[49m\u001B[43m \u001B[49m\u001B[38;5;28;43;01mFalse\u001B[39;49;00m\u001B[43m)\u001B[49m\u001B[43m,\u001B[49m\n\u001B[0;32m   1741\u001B[0m \u001B[43m    \u001B[49m\u001B[43mis_text\u001B[49m\u001B[38;5;241;43m=\u001B[39;49m\u001B[43mis_text\u001B[49m\u001B[43m,\u001B[49m\n\u001B[0;32m   1742\u001B[0m \u001B[43m    \u001B[49m\u001B[43merrors\u001B[49m\u001B[38;5;241;43m=\u001B[39;49m\u001B[38;5;28;43mself\u001B[39;49m\u001B[38;5;241;43m.\u001B[39;49m\u001B[43moptions\u001B[49m\u001B[38;5;241;43m.\u001B[39;49m\u001B[43mget\u001B[49m\u001B[43m(\u001B[49m\u001B[38;5;124;43m\"\u001B[39;49m\u001B[38;5;124;43mencoding_errors\u001B[39;49m\u001B[38;5;124;43m\"\u001B[39;49m\u001B[43m,\u001B[49m\u001B[43m \u001B[49m\u001B[38;5;124;43m\"\u001B[39;49m\u001B[38;5;124;43mstrict\u001B[39;49m\u001B[38;5;124;43m\"\u001B[39;49m\u001B[43m)\u001B[49m\u001B[43m,\u001B[49m\n\u001B[0;32m   1743\u001B[0m \u001B[43m    \u001B[49m\u001B[43mstorage_options\u001B[49m\u001B[38;5;241;43m=\u001B[39;49m\u001B[38;5;28;43mself\u001B[39;49m\u001B[38;5;241;43m.\u001B[39;49m\u001B[43moptions\u001B[49m\u001B[38;5;241;43m.\u001B[39;49m\u001B[43mget\u001B[49m\u001B[43m(\u001B[49m\u001B[38;5;124;43m\"\u001B[39;49m\u001B[38;5;124;43mstorage_options\u001B[39;49m\u001B[38;5;124;43m\"\u001B[39;49m\u001B[43m,\u001B[49m\u001B[43m \u001B[49m\u001B[38;5;28;43;01mNone\u001B[39;49;00m\u001B[43m)\u001B[49m\u001B[43m,\u001B[49m\n\u001B[0;32m   1744\u001B[0m \u001B[43m\u001B[49m\u001B[43m)\u001B[49m\n\u001B[0;32m   1745\u001B[0m \u001B[38;5;28;01massert\u001B[39;00m \u001B[38;5;28mself\u001B[39m\u001B[38;5;241m.\u001B[39mhandles \u001B[38;5;129;01mis\u001B[39;00m \u001B[38;5;129;01mnot\u001B[39;00m \u001B[38;5;28;01mNone\u001B[39;00m\n\u001B[0;32m   1746\u001B[0m f \u001B[38;5;241m=\u001B[39m \u001B[38;5;28mself\u001B[39m\u001B[38;5;241m.\u001B[39mhandles\u001B[38;5;241m.\u001B[39mhandle\n",
      "File \u001B[1;32m~\\AppData\\Local\\Programs\\Python\\Python310\\lib\\site-packages\\pandas\\io\\common.py:856\u001B[0m, in \u001B[0;36mget_handle\u001B[1;34m(path_or_buf, mode, encoding, compression, memory_map, is_text, errors, storage_options)\u001B[0m\n\u001B[0;32m    851\u001B[0m \u001B[38;5;28;01melif\u001B[39;00m \u001B[38;5;28misinstance\u001B[39m(handle, \u001B[38;5;28mstr\u001B[39m):\n\u001B[0;32m    852\u001B[0m     \u001B[38;5;66;03m# Check whether the filename is to be opened in binary mode.\u001B[39;00m\n\u001B[0;32m    853\u001B[0m     \u001B[38;5;66;03m# Binary mode does not support 'encoding' and 'newline'.\u001B[39;00m\n\u001B[0;32m    854\u001B[0m     \u001B[38;5;28;01mif\u001B[39;00m ioargs\u001B[38;5;241m.\u001B[39mencoding \u001B[38;5;129;01mand\u001B[39;00m \u001B[38;5;124m\"\u001B[39m\u001B[38;5;124mb\u001B[39m\u001B[38;5;124m\"\u001B[39m \u001B[38;5;129;01mnot\u001B[39;00m \u001B[38;5;129;01min\u001B[39;00m ioargs\u001B[38;5;241m.\u001B[39mmode:\n\u001B[0;32m    855\u001B[0m         \u001B[38;5;66;03m# Encoding\u001B[39;00m\n\u001B[1;32m--> 856\u001B[0m         handle \u001B[38;5;241m=\u001B[39m \u001B[38;5;28;43mopen\u001B[39;49m\u001B[43m(\u001B[49m\n\u001B[0;32m    857\u001B[0m \u001B[43m            \u001B[49m\u001B[43mhandle\u001B[49m\u001B[43m,\u001B[49m\n\u001B[0;32m    858\u001B[0m \u001B[43m            \u001B[49m\u001B[43mioargs\u001B[49m\u001B[38;5;241;43m.\u001B[39;49m\u001B[43mmode\u001B[49m\u001B[43m,\u001B[49m\n\u001B[0;32m    859\u001B[0m \u001B[43m            \u001B[49m\u001B[43mencoding\u001B[49m\u001B[38;5;241;43m=\u001B[39;49m\u001B[43mioargs\u001B[49m\u001B[38;5;241;43m.\u001B[39;49m\u001B[43mencoding\u001B[49m\u001B[43m,\u001B[49m\n\u001B[0;32m    860\u001B[0m \u001B[43m            \u001B[49m\u001B[43merrors\u001B[49m\u001B[38;5;241;43m=\u001B[39;49m\u001B[43merrors\u001B[49m\u001B[43m,\u001B[49m\n\u001B[0;32m    861\u001B[0m \u001B[43m            \u001B[49m\u001B[43mnewline\u001B[49m\u001B[38;5;241;43m=\u001B[39;49m\u001B[38;5;124;43m\"\u001B[39;49m\u001B[38;5;124;43m\"\u001B[39;49m\u001B[43m,\u001B[49m\n\u001B[0;32m    862\u001B[0m \u001B[43m        \u001B[49m\u001B[43m)\u001B[49m\n\u001B[0;32m    863\u001B[0m     \u001B[38;5;28;01melse\u001B[39;00m:\n\u001B[0;32m    864\u001B[0m         \u001B[38;5;66;03m# Binary mode\u001B[39;00m\n\u001B[0;32m    865\u001B[0m         handle \u001B[38;5;241m=\u001B[39m \u001B[38;5;28mopen\u001B[39m(handle, ioargs\u001B[38;5;241m.\u001B[39mmode)\n",
      "\u001B[1;31mFileNotFoundError\u001B[0m: [Errno 2] No such file or directory: '/content/churn_modeling/Churn_Modelling.csv'"
     ]
    }
   ],
   "source": [
    "df = pd.read_csv('/content/churn_modeling/Churn_Modelling.csv')"
   ],
   "metadata": {
    "collapsed": false,
    "pycharm": {
     "name": "#%%\n"
    }
   }
  },
  {
   "cell_type": "code",
   "execution_count": null,
   "outputs": [],
   "source": [
    "df.head()"
   ],
   "metadata": {
    "collapsed": false,
    "pycharm": {
     "name": "#%%\n"
    }
   }
  },
  {
   "cell_type": "markdown",
   "source": [
    "# Pycharm"
   ],
   "metadata": {
    "collapsed": false,
    "pycharm": {
     "name": "#%% md\n"
    }
   }
  },
  {
   "cell_type": "code",
   "execution_count": 1,
   "outputs": [],
   "source": [
    "from zipfile import ZipFile\n",
    "\n",
    "with ZipFile(r'C:\\PyCharm\\Python\\Data_Science_GM\\7.Classification\\churn_modeling.zip', 'r') as zf:\n",
    "    zf.extractall()"
   ],
   "metadata": {
    "collapsed": false,
    "pycharm": {
     "name": "#%%\n"
    }
   }
  },
  {
   "cell_type": "code",
   "execution_count": 1,
   "outputs": [],
   "source": [
    "import pandas as pd"
   ],
   "metadata": {
    "collapsed": false,
    "pycharm": {
     "name": "#%%\n"
    }
   }
  },
  {
   "cell_type": "code",
   "execution_count": 2,
   "outputs": [],
   "source": [
    "df = pd.read_csv('Churn_Modelling.csv')"
   ],
   "metadata": {
    "collapsed": false,
    "pycharm": {
     "name": "#%%\n"
    }
   }
  },
  {
   "cell_type": "code",
   "execution_count": 3,
   "outputs": [
    {
     "data": {
      "text/plain": "   RowNumber  CustomerId   Surname  CreditScore Geography  Gender  Age  \\\n0          1    15634602  Hargrave          619    France  Female   42   \n1          2    15647311      Hill          608     Spain  Female   41   \n2          3    15619304      Onio          502    France  Female   42   \n3          4    15701354      Boni          699    France  Female   39   \n4          5    15737888  Mitchell          850     Spain  Female   43   \n\n   Tenure    Balance  NumOfProducts  HasCrCard  IsActiveMember  \\\n0       2       0.00              1          1               1   \n1       1   83807.86              1          0               1   \n2       8  159660.80              3          1               0   \n3       1       0.00              2          0               0   \n4       2  125510.82              1          1               1   \n\n   EstimatedSalary  Exited  \n0        101348.88       1  \n1        112542.58       0  \n2        113931.57       1  \n3         93826.63       0  \n4         79084.10       0  ",
      "text/html": "<div>\n<style scoped>\n    .dataframe tbody tr th:only-of-type {\n        vertical-align: middle;\n    }\n\n    .dataframe tbody tr th {\n        vertical-align: top;\n    }\n\n    .dataframe thead th {\n        text-align: right;\n    }\n</style>\n<table border=\"1\" class=\"dataframe\">\n  <thead>\n    <tr style=\"text-align: right;\">\n      <th></th>\n      <th>RowNumber</th>\n      <th>CustomerId</th>\n      <th>Surname</th>\n      <th>CreditScore</th>\n      <th>Geography</th>\n      <th>Gender</th>\n      <th>Age</th>\n      <th>Tenure</th>\n      <th>Balance</th>\n      <th>NumOfProducts</th>\n      <th>HasCrCard</th>\n      <th>IsActiveMember</th>\n      <th>EstimatedSalary</th>\n      <th>Exited</th>\n    </tr>\n  </thead>\n  <tbody>\n    <tr>\n      <th>0</th>\n      <td>1</td>\n      <td>15634602</td>\n      <td>Hargrave</td>\n      <td>619</td>\n      <td>France</td>\n      <td>Female</td>\n      <td>42</td>\n      <td>2</td>\n      <td>0.00</td>\n      <td>1</td>\n      <td>1</td>\n      <td>1</td>\n      <td>101348.88</td>\n      <td>1</td>\n    </tr>\n    <tr>\n      <th>1</th>\n      <td>2</td>\n      <td>15647311</td>\n      <td>Hill</td>\n      <td>608</td>\n      <td>Spain</td>\n      <td>Female</td>\n      <td>41</td>\n      <td>1</td>\n      <td>83807.86</td>\n      <td>1</td>\n      <td>0</td>\n      <td>1</td>\n      <td>112542.58</td>\n      <td>0</td>\n    </tr>\n    <tr>\n      <th>2</th>\n      <td>3</td>\n      <td>15619304</td>\n      <td>Onio</td>\n      <td>502</td>\n      <td>France</td>\n      <td>Female</td>\n      <td>42</td>\n      <td>8</td>\n      <td>159660.80</td>\n      <td>3</td>\n      <td>1</td>\n      <td>0</td>\n      <td>113931.57</td>\n      <td>1</td>\n    </tr>\n    <tr>\n      <th>3</th>\n      <td>4</td>\n      <td>15701354</td>\n      <td>Boni</td>\n      <td>699</td>\n      <td>France</td>\n      <td>Female</td>\n      <td>39</td>\n      <td>1</td>\n      <td>0.00</td>\n      <td>2</td>\n      <td>0</td>\n      <td>0</td>\n      <td>93826.63</td>\n      <td>0</td>\n    </tr>\n    <tr>\n      <th>4</th>\n      <td>5</td>\n      <td>15737888</td>\n      <td>Mitchell</td>\n      <td>850</td>\n      <td>Spain</td>\n      <td>Female</td>\n      <td>43</td>\n      <td>2</td>\n      <td>125510.82</td>\n      <td>1</td>\n      <td>1</td>\n      <td>1</td>\n      <td>79084.10</td>\n      <td>0</td>\n    </tr>\n  </tbody>\n</table>\n</div>"
     },
     "execution_count": 3,
     "metadata": {},
     "output_type": "execute_result"
    }
   ],
   "source": [
    "df.head()"
   ],
   "metadata": {
    "collapsed": false,
    "pycharm": {
     "name": "#%%\n"
    }
   }
  },
  {
   "cell_type": "markdown",
   "source": [
    "## Обучающая, валидационная и тестовая выборки"
   ],
   "metadata": {
    "collapsed": false,
    "pycharm": {
     "name": "#%% md\n"
    }
   }
  },
  {
   "cell_type": "code",
   "execution_count": 4,
   "outputs": [],
   "source": [
    "from sklearn.model_selection import train_test_split"
   ],
   "metadata": {
    "collapsed": false,
    "pycharm": {
     "name": "#%%\n"
    }
   }
  },
  {
   "cell_type": "code",
   "execution_count": 5,
   "outputs": [],
   "source": [
    "train, test = train_test_split(df, random_state=42, train_size=0.6, stratify=df.Exited)"
   ],
   "metadata": {
    "collapsed": false,
    "pycharm": {
     "name": "#%%\n"
    }
   }
  },
  {
   "cell_type": "code",
   "execution_count": 6,
   "outputs": [],
   "source": [
    "val, test = train_test_split(test, random_state=42, train_size=0.5, stratify=test.Exited)"
   ],
   "metadata": {
    "collapsed": false,
    "pycharm": {
     "name": "#%%\n"
    }
   }
  },
  {
   "cell_type": "code",
   "execution_count": 9,
   "outputs": [
    {
     "data": {
      "text/plain": "9167    0\n9387    0\n6859    0\n3500    0\n6233    0\nName: Exited, dtype: int64"
     },
     "execution_count": 9,
     "metadata": {},
     "output_type": "execute_result"
    }
   ],
   "source": [
    "test.Exited.head()"
   ],
   "metadata": {
    "collapsed": false,
    "pycharm": {
     "name": "#%%\n"
    }
   }
  },
  {
   "cell_type": "markdown",
   "source": [
    "## Machine learning"
   ],
   "metadata": {
    "collapsed": false,
    "pycharm": {
     "name": "#%% md\n"
    }
   }
  },
  {
   "cell_type": "code",
   "execution_count": 7,
   "outputs": [],
   "source": [
    "# Для Colab\n",
    "# ! pip install catboost"
   ],
   "metadata": {
    "collapsed": false,
    "pycharm": {
     "name": "#%%\n"
    }
   }
  },
  {
   "cell_type": "code",
   "execution_count": 8,
   "outputs": [],
   "source": [
    "from catboost import CatBoostClassifier"
   ],
   "metadata": {
    "collapsed": false,
    "pycharm": {
     "name": "#%%\n"
    }
   }
  },
  {
   "cell_type": "code",
   "execution_count": 9,
   "outputs": [],
   "source": [
    "X = ['CustomerId', 'CreditScore', 'Age', 'Tenure', 'Balance', 'NumOfProducts', 'HasCrCard',\n",
    "     'IsActiveMember', 'EstimatedSalary', 'Geography', 'Gender']\n",
    "cat_features = ['Geography', 'Gender']\n",
    "\n",
    "y = ['Exited']"
   ],
   "metadata": {
    "collapsed": false,
    "pycharm": {
     "name": "#%%\n"
    }
   }
  },
  {
   "cell_type": "code",
   "execution_count": 10,
   "outputs": [],
   "source": [
    "from catboost import Pool\n",
    "\n",
    "train_data = Pool(data=train[X],\n",
    "                  label=train[y],\n",
    "                  cat_features=cat_features\n",
    "                  )\n",
    "\n",
    "valid_data = Pool(data=val[X],\n",
    "                  label=val[y],\n",
    "                  cat_features=cat_features\n",
    "                  )\n",
    "test_data = Pool(data=test[X],\n",
    "                  label=test[y],\n",
    "                  cat_features=cat_features\n",
    "                  )"
   ],
   "metadata": {
    "collapsed": false,
    "pycharm": {
     "name": "#%%\n"
    }
   }
  },
  {
   "cell_type": "code",
   "execution_count": 18,
   "outputs": [],
   "source": [
    "params = {'verbose': 100,\n",
    "          'eval_metric': 'AUC',\n",
    "          'loss_function': 'Logloss',\n",
    "          'random_seed': 42,\n",
    "          'learning_rate': 0.01}"
   ],
   "metadata": {
    "collapsed": false,
    "pycharm": {
     "name": "#%%\n"
    }
   }
  },
  {
   "cell_type": "code",
   "execution_count": 19,
   "outputs": [],
   "source": [
    "model = CatBoostClassifier(**params)"
   ],
   "metadata": {
    "collapsed": false,
    "pycharm": {
     "name": "#%%\n"
    }
   }
  },
  {
   "cell_type": "code",
   "execution_count": 20,
   "outputs": [
    {
     "name": "stdout",
     "output_type": "stream",
     "text": [
      "0:\ttest: 0.8338545\tbest: 0.8338545 (0)\ttotal: 20.4ms\tremaining: 20.3s\n",
      "100:\ttest: 0.8725090\tbest: 0.8725090 (100)\ttotal: 2.71s\tremaining: 24.1s\n",
      "200:\ttest: 0.8784656\tbest: 0.8784656 (200)\ttotal: 5.25s\tremaining: 20.9s\n",
      "300:\ttest: 0.8812676\tbest: 0.8812676 (300)\ttotal: 7.77s\tremaining: 18s\n",
      "400:\ttest: 0.8823868\tbest: 0.8824376 (390)\ttotal: 10.3s\tremaining: 15.4s\n",
      "500:\ttest: 0.8834491\tbest: 0.8834522 (498)\ttotal: 12.9s\tremaining: 12.9s\n",
      "600:\ttest: 0.8834737\tbest: 0.8836554 (564)\ttotal: 15.4s\tremaining: 10.2s\n",
      "700:\ttest: 0.8837847\tbest: 0.8838694 (685)\ttotal: 17.8s\tremaining: 7.58s\n",
      "800:\ttest: 0.8834383\tbest: 0.8838694 (685)\ttotal: 20s\tremaining: 4.97s\n",
      "900:\ttest: 0.8829318\tbest: 0.8838694 (685)\ttotal: 22.4s\tremaining: 2.46s\n",
      "999:\ttest: 0.8822744\tbest: 0.8838694 (685)\ttotal: 24.8s\tremaining: 0us\n",
      "\n",
      "bestTest = 0.8838694083\n",
      "bestIteration = 685\n",
      "\n",
      "Shrink model to first 686 iterations.\n",
      "CPU times: total: 54.1 s\n",
      "Wall time: 25 s\n"
     ]
    },
    {
     "data": {
      "text/plain": "<catboost.core.CatBoostClassifier at 0x2a8d2d42590>"
     },
     "execution_count": 20,
     "metadata": {},
     "output_type": "execute_result"
    }
   ],
   "source": [
    "%%time\n",
    "model.fit(train_data, eval_set=valid_data)"
   ],
   "metadata": {
    "collapsed": false,
    "pycharm": {
     "name": "#%%\n"
    }
   }
  },
  {
   "cell_type": "markdown",
   "source": [
    "------------------------------------------------"
   ],
   "metadata": {
    "collapsed": false,
    "pycharm": {
     "name": "#%% md\n"
    }
   }
  },
  {
   "cell_type": "markdown",
   "source": [
    "Обучение на всех данных"
   ],
   "metadata": {
    "collapsed": false,
    "pycharm": {
     "name": "#%% md\n"
    }
   }
  },
  {
   "cell_type": "code",
   "execution_count": 15,
   "outputs": [],
   "source": [
    "n_iters = model.best_iteration_ + 1"
   ],
   "metadata": {
    "collapsed": false,
    "pycharm": {
     "name": "#%%\n"
    }
   }
  },
  {
   "cell_type": "code",
   "execution_count": 16,
   "outputs": [],
   "source": [
    "params = {'verbose': n_iters,\n",
    "          'eval_metric': 'AUC',\n",
    "          'loss_function': 'Logloss',\n",
    "          'random_seed': 42,\n",
    "          'learning_rate': 0.01}"
   ],
   "metadata": {
    "collapsed": false,
    "pycharm": {
     "name": "#%%\n"
    }
   }
  },
  {
   "cell_type": "code",
   "execution_count": 17,
   "outputs": [],
   "source": [
    "model = CatBoostClassifier(**params)"
   ],
   "metadata": {
    "collapsed": false,
    "pycharm": {
     "name": "#%%\n"
    }
   }
  },
  {
   "cell_type": "markdown",
   "source": [
    "Объединение трейн и вал"
   ],
   "metadata": {
    "collapsed": false,
    "pycharm": {
     "name": "#%% md\n"
    }
   }
  },
  {
   "cell_type": "code",
   "execution_count": 18,
   "outputs": [],
   "source": [
    "train_full = pd.concat([train, val])"
   ],
   "metadata": {
    "collapsed": false,
    "pycharm": {
     "name": "#%%\n"
    }
   }
  },
  {
   "cell_type": "code",
   "execution_count": 19,
   "outputs": [],
   "source": [
    "train_full_data = Pool(train_full[X],\n",
    "                       label=train_full[y],\n",
    "                       cat_features=cat_features)"
   ],
   "metadata": {
    "collapsed": false,
    "pycharm": {
     "name": "#%%\n"
    }
   }
  },
  {
   "cell_type": "code",
   "source": [
    "model.fit(train_full_data)"
   ],
   "metadata": {
    "collapsed": false,
    "pycharm": {
     "name": "#%%\n"
    }
   },
   "execution_count": 20,
   "outputs": [
    {
     "name": "stdout",
     "output_type": "stream",
     "text": [
      "0:\ttotal: 23.5ms\tremaining: 23.4s\n",
      "686:\ttotal: 16.2s\tremaining: 7.39s\n",
      "999:\ttotal: 22.8s\tremaining: 0us\n"
     ]
    },
    {
     "data": {
      "text/plain": "<catboost.core.CatBoostClassifier at 0x26ab50b2ec0>"
     },
     "execution_count": 20,
     "metadata": {},
     "output_type": "execute_result"
    }
   ]
  },
  {
   "cell_type": "code",
   "execution_count": 21,
   "outputs": [],
   "source": [
    "test['y_score_no_cross_val'] = model.predict_proba(test_data)[:,1]"
   ],
   "metadata": {
    "collapsed": false,
    "pycharm": {
     "name": "#%%\n"
    }
   }
  },
  {
   "cell_type": "code",
   "execution_count": 22,
   "outputs": [],
   "source": [
    "from sklearn.metrics import roc_auc_score"
   ],
   "metadata": {
    "collapsed": false,
    "pycharm": {
     "name": "#%%\n"
    }
   }
  },
  {
   "cell_type": "code",
   "execution_count": 23,
   "outputs": [
    {
     "data": {
      "text/plain": "0.8719335668488212"
     },
     "execution_count": 23,
     "metadata": {},
     "output_type": "execute_result"
    }
   ],
   "source": [
    "roc_auc_score(test.Exited, test['y_score_no_cross_val'])"
   ],
   "metadata": {
    "collapsed": false,
    "pycharm": {
     "name": "#%%\n"
    }
   }
  },
  {
   "cell_type": "markdown",
   "source": [
    "## Кросс-валидация"
   ],
   "metadata": {
    "collapsed": false,
    "pycharm": {
     "name": "#%% md\n"
    }
   }
  },
  {
   "cell_type": "markdown",
   "source": [
    "https://github.com/catboost/tutorials/blob/master/classification/classification_tutorial.ipynb"
   ],
   "metadata": {
    "collapsed": false,
    "pycharm": {
     "name": "#%% md\n"
    }
   }
  },
  {
   "cell_type": "code",
   "execution_count": 24,
   "outputs": [],
   "source": [
    "from catboost import cv"
   ],
   "metadata": {
    "collapsed": false,
    "pycharm": {
     "name": "#%%\n"
    }
   }
  },
  {
   "cell_type": "code",
   "execution_count": 26,
   "outputs": [],
   "source": [
    "params = {'eval_metric': 'AUC',\n",
    "          'loss_function': 'Logloss',\n",
    "          'random_seed': 42,\n",
    "          'learning_rate': 0.01}"
   ],
   "metadata": {
    "collapsed": false,
    "pycharm": {
     "name": "#%%\n"
    }
   }
  },
  {
   "cell_type": "code",
   "execution_count": 27,
   "outputs": [
    {
     "name": "stdout",
     "output_type": "stream",
     "text": [
      "Training on fold [0/5]\n",
      "\n",
      "bestTest = 0.866360207\n",
      "bestIteration = 881\n",
      "\n",
      "Training on fold [1/5]\n",
      "\n",
      "bestTest = 0.8716621864\n",
      "bestIteration = 998\n",
      "\n",
      "Training on fold [2/5]\n",
      "\n",
      "bestTest = 0.8695412245\n",
      "bestIteration = 540\n",
      "\n",
      "Training on fold [3/5]\n",
      "\n",
      "bestTest = 0.8795945701\n",
      "bestIteration = 942\n",
      "\n",
      "Training on fold [4/5]\n",
      "\n",
      "bestTest = 0.8586794872\n",
      "bestIteration = 750\n",
      "\n"
     ]
    }
   ],
   "source": [
    "cv_data = cv(\n",
    "    params = params,\n",
    "    pool = train_full_data,\n",
    "    fold_count=5,\n",
    "    shuffle=True,\n",
    "    partition_random_seed=0,\n",
    "    stratified=False,\n",
    "    verbose=False\n",
    ")"
   ],
   "metadata": {
    "collapsed": false,
    "pycharm": {
     "name": "#%%\n"
    }
   }
  },
  {
   "cell_type": "code",
   "execution_count": 28,
   "outputs": [
    {
     "data": {
      "text/plain": "     iterations  test-AUC-mean  test-AUC-std  test-Logloss-mean  \\\n0             0       0.818479      0.009480           0.685020   \n1             1       0.823848      0.010334           0.677216   \n2             2       0.831819      0.009265           0.668989   \n3             3       0.834559      0.008771           0.662008   \n4             4       0.834483      0.008218           0.654599   \n..          ...            ...           ...                ...   \n995         995       0.868703      0.007809           0.329986   \n996         996       0.868715      0.007781           0.329972   \n997         997       0.868718      0.007804           0.329972   \n998         998       0.868725      0.007777           0.329969   \n999         999       0.868729      0.007779           0.329964   \n\n     test-Logloss-std  train-Logloss-mean  train-Logloss-std  \n0            0.000209            0.684939           0.000262  \n1            0.000374            0.677055           0.000503  \n2            0.000472            0.668799           0.000751  \n3            0.001326            0.661753           0.000689  \n4            0.001429            0.654270           0.000898  \n..                ...                 ...                ...  \n995          0.016873            0.284097           0.003644  \n996          0.016875            0.284057           0.003631  \n997          0.016876            0.284003           0.003636  \n998          0.016855            0.283943           0.003613  \n999          0.016869            0.283886           0.003601  \n\n[1000 rows x 7 columns]",
      "text/html": "<div>\n<style scoped>\n    .dataframe tbody tr th:only-of-type {\n        vertical-align: middle;\n    }\n\n    .dataframe tbody tr th {\n        vertical-align: top;\n    }\n\n    .dataframe thead th {\n        text-align: right;\n    }\n</style>\n<table border=\"1\" class=\"dataframe\">\n  <thead>\n    <tr style=\"text-align: right;\">\n      <th></th>\n      <th>iterations</th>\n      <th>test-AUC-mean</th>\n      <th>test-AUC-std</th>\n      <th>test-Logloss-mean</th>\n      <th>test-Logloss-std</th>\n      <th>train-Logloss-mean</th>\n      <th>train-Logloss-std</th>\n    </tr>\n  </thead>\n  <tbody>\n    <tr>\n      <th>0</th>\n      <td>0</td>\n      <td>0.818479</td>\n      <td>0.009480</td>\n      <td>0.685020</td>\n      <td>0.000209</td>\n      <td>0.684939</td>\n      <td>0.000262</td>\n    </tr>\n    <tr>\n      <th>1</th>\n      <td>1</td>\n      <td>0.823848</td>\n      <td>0.010334</td>\n      <td>0.677216</td>\n      <td>0.000374</td>\n      <td>0.677055</td>\n      <td>0.000503</td>\n    </tr>\n    <tr>\n      <th>2</th>\n      <td>2</td>\n      <td>0.831819</td>\n      <td>0.009265</td>\n      <td>0.668989</td>\n      <td>0.000472</td>\n      <td>0.668799</td>\n      <td>0.000751</td>\n    </tr>\n    <tr>\n      <th>3</th>\n      <td>3</td>\n      <td>0.834559</td>\n      <td>0.008771</td>\n      <td>0.662008</td>\n      <td>0.001326</td>\n      <td>0.661753</td>\n      <td>0.000689</td>\n    </tr>\n    <tr>\n      <th>4</th>\n      <td>4</td>\n      <td>0.834483</td>\n      <td>0.008218</td>\n      <td>0.654599</td>\n      <td>0.001429</td>\n      <td>0.654270</td>\n      <td>0.000898</td>\n    </tr>\n    <tr>\n      <th>...</th>\n      <td>...</td>\n      <td>...</td>\n      <td>...</td>\n      <td>...</td>\n      <td>...</td>\n      <td>...</td>\n      <td>...</td>\n    </tr>\n    <tr>\n      <th>995</th>\n      <td>995</td>\n      <td>0.868703</td>\n      <td>0.007809</td>\n      <td>0.329986</td>\n      <td>0.016873</td>\n      <td>0.284097</td>\n      <td>0.003644</td>\n    </tr>\n    <tr>\n      <th>996</th>\n      <td>996</td>\n      <td>0.868715</td>\n      <td>0.007781</td>\n      <td>0.329972</td>\n      <td>0.016875</td>\n      <td>0.284057</td>\n      <td>0.003631</td>\n    </tr>\n    <tr>\n      <th>997</th>\n      <td>997</td>\n      <td>0.868718</td>\n      <td>0.007804</td>\n      <td>0.329972</td>\n      <td>0.016876</td>\n      <td>0.284003</td>\n      <td>0.003636</td>\n    </tr>\n    <tr>\n      <th>998</th>\n      <td>998</td>\n      <td>0.868725</td>\n      <td>0.007777</td>\n      <td>0.329969</td>\n      <td>0.016855</td>\n      <td>0.283943</td>\n      <td>0.003613</td>\n    </tr>\n    <tr>\n      <th>999</th>\n      <td>999</td>\n      <td>0.868729</td>\n      <td>0.007779</td>\n      <td>0.329964</td>\n      <td>0.016869</td>\n      <td>0.283886</td>\n      <td>0.003601</td>\n    </tr>\n  </tbody>\n</table>\n<p>1000 rows × 7 columns</p>\n</div>"
     },
     "execution_count": 28,
     "metadata": {},
     "output_type": "execute_result"
    }
   ],
   "source": [
    "cv_data"
   ],
   "metadata": {
    "collapsed": false,
    "pycharm": {
     "name": "#%%\n"
    }
   }
  },
  {
   "cell_type": "code",
   "execution_count": 30,
   "outputs": [
    {
     "data": {
      "text/plain": "     iterations  test-AUC-mean  test-AUC-std  test-Logloss-mean  \\\n741         741       0.868822      0.007457           0.330818   \n\n     test-Logloss-std  train-Logloss-mean  train-Logloss-std  \n741          0.017005            0.297428           0.004326  ",
      "text/html": "<div>\n<style scoped>\n    .dataframe tbody tr th:only-of-type {\n        vertical-align: middle;\n    }\n\n    .dataframe tbody tr th {\n        vertical-align: top;\n    }\n\n    .dataframe thead th {\n        text-align: right;\n    }\n</style>\n<table border=\"1\" class=\"dataframe\">\n  <thead>\n    <tr style=\"text-align: right;\">\n      <th></th>\n      <th>iterations</th>\n      <th>test-AUC-mean</th>\n      <th>test-AUC-std</th>\n      <th>test-Logloss-mean</th>\n      <th>test-Logloss-std</th>\n      <th>train-Logloss-mean</th>\n      <th>train-Logloss-std</th>\n    </tr>\n  </thead>\n  <tbody>\n    <tr>\n      <th>741</th>\n      <td>741</td>\n      <td>0.868822</td>\n      <td>0.007457</td>\n      <td>0.330818</td>\n      <td>0.017005</td>\n      <td>0.297428</td>\n      <td>0.004326</td>\n    </tr>\n  </tbody>\n</table>\n</div>"
     },
     "execution_count": 30,
     "metadata": {},
     "output_type": "execute_result"
    }
   ],
   "source": [
    "cv_data[cv_data['test-AUC-mean'] == cv_data['test-AUC-mean'].max()]"
   ],
   "metadata": {
    "collapsed": false,
    "pycharm": {
     "name": "#%%\n"
    }
   }
  },
  {
   "cell_type": "code",
   "execution_count": 36,
   "outputs": [],
   "source": [
    "n_iters = cv_data[cv_data['test-AUC-mean'] == cv_data['test-AUC-mean'].max()]['iterations'].values[0]"
   ],
   "metadata": {
    "collapsed": false,
    "pycharm": {
     "name": "#%%\n"
    }
   }
  },
  {
   "cell_type": "code",
   "execution_count": 40,
   "outputs": [
    {
     "data": {
      "text/plain": "741"
     },
     "execution_count": 40,
     "metadata": {},
     "output_type": "execute_result"
    }
   ],
   "source": [
    "n_iters"
   ],
   "metadata": {
    "collapsed": false,
    "pycharm": {
     "name": "#%%\n"
    }
   }
  },
  {
   "cell_type": "code",
   "execution_count": 37,
   "outputs": [],
   "source": [
    "params = {'verbose': 100,\n",
    "          'iterations': n_iters,\n",
    "          'eval_metric': 'AUC',\n",
    "          'loss_function': 'Logloss',\n",
    "          'random_seed': 42,\n",
    "          'learning_rate': 0.01}"
   ],
   "metadata": {
    "collapsed": false,
    "pycharm": {
     "name": "#%%\n"
    }
   }
  },
  {
   "cell_type": "code",
   "execution_count": 38,
   "outputs": [],
   "source": [
    "model = CatBoostClassifier(**params)"
   ],
   "metadata": {
    "collapsed": false,
    "pycharm": {
     "name": "#%%\n"
    }
   }
  },
  {
   "cell_type": "code",
   "source": [
    "model.fit(train_full_data)"
   ],
   "metadata": {
    "collapsed": false,
    "pycharm": {
     "name": "#%%\n"
    }
   },
   "execution_count": 39,
   "outputs": [
    {
     "name": "stdout",
     "output_type": "stream",
     "text": [
      "0:\ttotal: 23.5ms\tremaining: 17.4s\n",
      "100:\ttotal: 2.36s\tremaining: 15s\n",
      "200:\ttotal: 4.75s\tremaining: 12.8s\n",
      "300:\ttotal: 7.05s\tremaining: 10.3s\n",
      "400:\ttotal: 9.46s\tremaining: 8.02s\n",
      "500:\ttotal: 11.7s\tremaining: 5.61s\n",
      "600:\ttotal: 14s\tremaining: 3.27s\n",
      "700:\ttotal: 16.4s\tremaining: 938ms\n",
      "740:\ttotal: 17.3s\tremaining: 0us\n"
     ]
    },
    {
     "data": {
      "text/plain": "<catboost.core.CatBoostClassifier at 0x26ab46f6290>"
     },
     "execution_count": 39,
     "metadata": {},
     "output_type": "execute_result"
    }
   ]
  },
  {
   "cell_type": "code",
   "execution_count": 44,
   "outputs": [],
   "source": [
    "test['y_score_cross_val'] = model.predict_proba(test_data)[:,1]"
   ],
   "metadata": {
    "collapsed": false,
    "pycharm": {
     "name": "#%%\n"
    }
   }
  },
  {
   "cell_type": "code",
   "execution_count": 45,
   "outputs": [],
   "source": [
    "from sklearn.metrics import roc_auc_score"
   ],
   "metadata": {
    "collapsed": false,
    "pycharm": {
     "name": "#%%\n"
    }
   }
  },
  {
   "cell_type": "code",
   "execution_count": 46,
   "outputs": [
    {
     "data": {
      "text/plain": "0.8737196364315009"
     },
     "execution_count": 46,
     "metadata": {},
     "output_type": "execute_result"
    }
   ],
   "source": [
    "roc_auc_score(test.Exited, test.y_score_cross_val)"
   ],
   "metadata": {
    "collapsed": false,
    "pycharm": {
     "name": "#%%\n"
    }
   }
  },
  {
   "cell_type": "markdown",
   "source": [
    "#### Без кросс-валидации результат был 0.8719, а с CV - 0.8737\n",
    "В данном случае CV не дала большого прироста, но данный подход помогает получать более точные и уверенные результаты"
   ],
   "metadata": {
    "collapsed": false,
    "pycharm": {
     "name": "#%% md\n"
    }
   }
  },
  {
   "cell_type": "markdown",
   "source": [
    "## Подбор гиперпараметров"
   ],
   "metadata": {
    "collapsed": false,
    "pycharm": {
     "name": "#%% md\n"
    }
   }
  },
  {
   "cell_type": "markdown",
   "source": [
    "https://github.com/catboost/catboost/blob/master/catboost/tutorials/events/2020_06_04_catboost_tutorial/catboost_features.ipynb"
   ],
   "metadata": {
    "collapsed": false,
    "pycharm": {
     "name": "#%% md\n"
    }
   }
  },
  {
   "cell_type": "markdown",
   "source": [
    "https://youtu.be/ZaP5qFSIcIw?t=2043"
   ],
   "metadata": {
    "collapsed": false,
    "pycharm": {
     "name": "#%% md\n"
    }
   }
  },
  {
   "cell_type": "markdown",
   "source": [
    "https://github.com/catboost/catboost/blob/master/catboost/tutorials/hyperparameters_tuning/hyperparameters_tuning.ipynb"
   ],
   "metadata": {
    "collapsed": false,
    "pycharm": {
     "name": "#%% md\n"
    }
   }
  },
  {
   "cell_type": "code",
   "execution_count": 47,
   "outputs": [
    {
     "data": {
      "text/plain": "{'nan_mode': 'Min',\n 'eval_metric': 'AUC',\n 'combinations_ctr': ['Borders:CtrBorderCount=15:CtrBorderType=Uniform:TargetBorderCount=1:TargetBorderType=MinEntropy:Prior=0/1:Prior=0.5/1:Prior=1/1',\n  'Counter:CtrBorderCount=15:CtrBorderType=Uniform:Prior=0/1'],\n 'iterations': 741,\n 'sampling_frequency': 'PerTree',\n 'fold_permutation_block': 0,\n 'leaf_estimation_method': 'Newton',\n 'counter_calc_method': 'SkipTest',\n 'grow_policy': 'SymmetricTree',\n 'penalties_coefficient': 1,\n 'boosting_type': 'Plain',\n 'model_shrink_mode': 'Constant',\n 'feature_border_type': 'GreedyLogSum',\n 'ctr_leaf_count_limit': 18446744073709551615,\n 'bayesian_matrix_reg': 0.10000000149011612,\n 'one_hot_max_size': 2,\n 'eval_fraction': 0,\n 'force_unit_auto_pair_weights': False,\n 'l2_leaf_reg': 3,\n 'random_strength': 1,\n 'rsm': 1,\n 'boost_from_average': False,\n 'max_ctr_complexity': 4,\n 'model_size_reg': 0.5,\n 'simple_ctr': ['Borders:CtrBorderCount=15:CtrBorderType=Uniform:TargetBorderCount=1:TargetBorderType=MinEntropy:Prior=0/1:Prior=0.5/1:Prior=1/1',\n  'Counter:CtrBorderCount=15:CtrBorderType=Uniform:Prior=0/1'],\n 'pool_metainfo_options': {'tags': {}},\n 'subsample': 0.800000011920929,\n 'use_best_model': False,\n 'class_names': [0, 1],\n 'random_seed': 42,\n 'depth': 6,\n 'ctr_target_border_count': 1,\n 'posterior_sampling': False,\n 'has_time': False,\n 'store_all_simple_ctr': False,\n 'border_count': 254,\n 'classes_count': 0,\n 'auto_class_weights': 'None',\n 'sparse_features_conflict_fraction': 0,\n 'leaf_estimation_backtracking': 'AnyImprovement',\n 'best_model_min_trees': 1,\n 'model_shrink_rate': 0,\n 'min_data_in_leaf': 1,\n 'loss_function': 'Logloss',\n 'learning_rate': 0.009999999776482582,\n 'score_function': 'Cosine',\n 'task_type': 'CPU',\n 'leaf_estimation_iterations': 10,\n 'bootstrap_type': 'MVS',\n 'max_leaves': 64,\n 'permutation_count': 4}"
     },
     "execution_count": 47,
     "metadata": {},
     "output_type": "execute_result"
    }
   ],
   "source": [
    "model.get_all_params()"
   ],
   "metadata": {
    "collapsed": false,
    "pycharm": {
     "name": "#%%\n"
    }
   }
  },
  {
   "cell_type": "code",
   "execution_count": 48,
   "outputs": [],
   "source": [
    "params = {'verbose': 100,\n",
    "          'eval_metric': 'AUC',\n",
    "          'loss_function': 'Logloss',\n",
    "          'random_seed': 42}"
   ],
   "metadata": {
    "collapsed": false,
    "pycharm": {
     "name": "#%%\n"
    }
   }
  },
  {
   "cell_type": "code",
   "execution_count": 49,
   "outputs": [],
   "source": [
    "model = CatBoostClassifier(**params)"
   ],
   "metadata": {
    "collapsed": false,
    "pycharm": {
     "name": "#%%\n"
    }
   }
  },
  {
   "cell_type": "code",
   "execution_count": 50,
   "outputs": [],
   "source": [
    "grid = {'learning_rate': [0.01, 0.1],\n",
    "        'depth': [5, 6]}"
   ],
   "metadata": {
    "collapsed": false,
    "pycharm": {
     "name": "#%%\n"
    }
   }
  },
  {
   "cell_type": "code",
   "execution_count": 51,
   "outputs": [
    {
     "name": "stdout",
     "output_type": "stream",
     "text": [
      "0:\ttest: 0.7811641\tbest: 0.7811641 (0)\ttotal: 17.6ms\tremaining: 17.6s\n",
      "100:\ttest: 0.8435462\tbest: 0.8435769 (99)\ttotal: 2.15s\tremaining: 19.1s\n",
      "200:\ttest: 0.8508923\tbest: 0.8508923 (200)\ttotal: 4.2s\tremaining: 16.7s\n",
      "300:\ttest: 0.8547897\tbest: 0.8547897 (300)\ttotal: 6.24s\tremaining: 14.5s\n",
      "400:\ttest: 0.8569385\tbest: 0.8569385 (400)\ttotal: 8.43s\tremaining: 12.6s\n",
      "500:\ttest: 0.8576410\tbest: 0.8576410 (500)\ttotal: 10.5s\tremaining: 10.5s\n",
      "600:\ttest: 0.8585538\tbest: 0.8585538 (600)\ttotal: 12.6s\tremaining: 8.33s\n",
      "700:\ttest: 0.8590923\tbest: 0.8591487 (694)\ttotal: 14.4s\tremaining: 6.13s\n",
      "800:\ttest: 0.8593590\tbest: 0.8595564 (749)\ttotal: 16.2s\tremaining: 4.02s\n",
      "900:\ttest: 0.8593282\tbest: 0.8595564 (749)\ttotal: 18s\tremaining: 1.97s\n",
      "999:\ttest: 0.8593897\tbest: 0.8595974 (986)\ttotal: 19.7s\tremaining: 0us\n",
      "\n",
      "bestTest = 0.8595974359\n",
      "bestIteration = 986\n",
      "\n",
      "Metric AUC is not calculated on train by default. To calculate this metric on train, add hints=skip_train~false to metric parameters.\n",
      "0:\ttest: 0.7811641\tbest: 0.7811641 (0)\ttotal: 16.9ms\tremaining: 16.8s\n",
      "100:\ttest: 0.8601513\tbest: 0.8604077 (89)\ttotal: 1.84s\tremaining: 16.4s\n",
      "200:\ttest: 0.8557769\tbest: 0.8609103 (111)\ttotal: 3.8s\tremaining: 15.1s\n",
      "300:\ttest: 0.8521564\tbest: 0.8609103 (111)\ttotal: 6.18s\tremaining: 14.4s\n",
      "400:\ttest: 0.8456949\tbest: 0.8609103 (111)\ttotal: 8.35s\tremaining: 12.5s\n",
      "500:\ttest: 0.8432923\tbest: 0.8609103 (111)\ttotal: 10.5s\tremaining: 10.5s\n",
      "600:\ttest: 0.8407359\tbest: 0.8609103 (111)\ttotal: 12.7s\tremaining: 8.42s\n",
      "700:\ttest: 0.8388282\tbest: 0.8609103 (111)\ttotal: 14.8s\tremaining: 6.33s\n",
      "800:\ttest: 0.8358282\tbest: 0.8609103 (111)\ttotal: 17s\tremaining: 4.22s\n",
      "900:\ttest: 0.8356949\tbest: 0.8609103 (111)\ttotal: 19.2s\tremaining: 2.11s\n",
      "999:\ttest: 0.8335590\tbest: 0.8609103 (111)\ttotal: 21.1s\tremaining: 0us\n",
      "\n",
      "bestTest = 0.8609102564\n",
      "bestIteration = 111\n",
      "\n",
      "Metric AUC is not calculated on train by default. To calculate this metric on train, add hints=skip_train~false to metric parameters.\n",
      "0:\ttest: 0.8068872\tbest: 0.8068872 (0)\ttotal: 20.3ms\tremaining: 20.3s\n",
      "100:\ttest: 0.8455590\tbest: 0.8455590 (100)\ttotal: 2.12s\tremaining: 18.8s\n",
      "200:\ttest: 0.8530923\tbest: 0.8530923 (200)\ttotal: 4.23s\tremaining: 16.8s\n",
      "300:\ttest: 0.8563026\tbest: 0.8563410 (292)\ttotal: 6.31s\tremaining: 14.7s\n",
      "400:\ttest: 0.8578000\tbest: 0.8578385 (398)\ttotal: 8.52s\tremaining: 12.7s\n",
      "500:\ttest: 0.8583872\tbest: 0.8584821 (476)\ttotal: 10.7s\tremaining: 10.6s\n",
      "600:\ttest: 0.8588821\tbest: 0.8589487 (593)\ttotal: 12.8s\tremaining: 8.51s\n",
      "700:\ttest: 0.8587308\tbest: 0.8590282 (605)\ttotal: 14.9s\tremaining: 6.36s\n",
      "800:\ttest: 0.8584744\tbest: 0.8590282 (605)\ttotal: 17.1s\tremaining: 4.25s\n",
      "900:\ttest: 0.8583590\tbest: 0.8590282 (605)\ttotal: 19.3s\tremaining: 2.12s\n",
      "999:\ttest: 0.8581103\tbest: 0.8590282 (605)\ttotal: 21.4s\tremaining: 0us\n",
      "\n",
      "bestTest = 0.8590282051\n",
      "bestIteration = 605\n",
      "\n",
      "Metric AUC is not calculated on train by default. To calculate this metric on train, add hints=skip_train~false to metric parameters.\n",
      "0:\ttest: 0.8068872\tbest: 0.8068872 (0)\ttotal: 20ms\tremaining: 20s\n",
      "100:\ttest: 0.8554795\tbest: 0.8574051 (69)\ttotal: 2.12s\tremaining: 18.9s\n",
      "200:\ttest: 0.8486359\tbest: 0.8574051 (69)\ttotal: 4.32s\tremaining: 17.2s\n",
      "300:\ttest: 0.8455051\tbest: 0.8574051 (69)\ttotal: 6.55s\tremaining: 15.2s\n",
      "400:\ttest: 0.8399846\tbest: 0.8574051 (69)\ttotal: 8.77s\tremaining: 13.1s\n",
      "500:\ttest: 0.8388077\tbest: 0.8574051 (69)\ttotal: 11s\tremaining: 11s\n",
      "600:\ttest: 0.8364026\tbest: 0.8574051 (69)\ttotal: 13.3s\tremaining: 8.8s\n",
      "700:\ttest: 0.8340974\tbest: 0.8574051 (69)\ttotal: 15.5s\tremaining: 6.61s\n",
      "800:\ttest: 0.8320769\tbest: 0.8574051 (69)\ttotal: 17.7s\tremaining: 4.4s\n",
      "900:\ttest: 0.8298923\tbest: 0.8574051 (69)\ttotal: 20.1s\tremaining: 2.2s\n",
      "999:\ttest: 0.8302846\tbest: 0.8574051 (69)\ttotal: 22.3s\tremaining: 0us\n",
      "\n",
      "bestTest = 0.8574051282\n",
      "bestIteration = 69\n",
      "\n",
      "Metric AUC is not calculated on train by default. To calculate this metric on train, add hints=skip_train~false to metric parameters.\n",
      "Training on fold [0/3]\n",
      "0:\ttest: 0.8023131\tbest: 0.8023131 (0)\ttotal: 16.5ms\tremaining: 16.4s\n",
      "100:\ttest: 0.8696792\tbest: 0.8705039 (90)\ttotal: 1.82s\tremaining: 16.2s\n",
      "200:\ttest: 0.8691616\tbest: 0.8705039 (90)\ttotal: 3.66s\tremaining: 14.6s\n",
      "300:\ttest: 0.8649927\tbest: 0.8705039 (90)\ttotal: 5.58s\tremaining: 13s\n",
      "400:\ttest: 0.8618130\tbest: 0.8705039 (90)\ttotal: 7.42s\tremaining: 11.1s\n",
      "500:\ttest: 0.8585372\tbest: 0.8705039 (90)\ttotal: 9.27s\tremaining: 9.24s\n",
      "600:\ttest: 0.8561217\tbest: 0.8705039 (90)\ttotal: 11.1s\tremaining: 7.36s\n",
      "700:\ttest: 0.8537443\tbest: 0.8705039 (90)\ttotal: 13.1s\tremaining: 5.58s\n",
      "800:\ttest: 0.8515755\tbest: 0.8705039 (90)\ttotal: 14.9s\tremaining: 3.71s\n",
      "900:\ttest: 0.8499874\tbest: 0.8705039 (90)\ttotal: 16.8s\tremaining: 1.84s\n",
      "999:\ttest: 0.8487870\tbest: 0.8705039 (90)\ttotal: 18.6s\tremaining: 0us\n",
      "\n",
      "bestTest = 0.8705039396\n",
      "bestIteration = 90\n",
      "\n",
      "Training on fold [1/3]\n",
      "0:\ttest: 0.7921723\tbest: 0.7921723 (0)\ttotal: 17.3ms\tremaining: 17.3s\n",
      "100:\ttest: 0.8705982\tbest: 0.8712713 (94)\ttotal: 1.8s\tremaining: 16.1s\n",
      "200:\ttest: 0.8665098\tbest: 0.8712713 (94)\ttotal: 3.61s\tremaining: 14.4s\n",
      "300:\ttest: 0.8628075\tbest: 0.8712713 (94)\ttotal: 5.41s\tremaining: 12.6s\n",
      "400:\ttest: 0.8613719\tbest: 0.8712713 (94)\ttotal: 7.21s\tremaining: 10.8s\n",
      "500:\ttest: 0.8585821\tbest: 0.8712713 (94)\ttotal: 9.09s\tremaining: 9.05s\n",
      "600:\ttest: 0.8555946\tbest: 0.8712713 (94)\ttotal: 10.9s\tremaining: 7.25s\n",
      "700:\ttest: 0.8536896\tbest: 0.8712713 (94)\ttotal: 12.8s\tremaining: 5.47s\n",
      "800:\ttest: 0.8512494\tbest: 0.8712713 (94)\ttotal: 14.7s\tremaining: 3.66s\n",
      "900:\ttest: 0.8498849\tbest: 0.8712713 (94)\ttotal: 16.6s\tremaining: 1.83s\n",
      "999:\ttest: 0.8473563\tbest: 0.8712713 (94)\ttotal: 18.4s\tremaining: 0us\n",
      "\n",
      "bestTest = 0.8712713255\n",
      "bestIteration = 94\n",
      "\n",
      "Training on fold [2/3]\n",
      "0:\ttest: 0.7876129\tbest: 0.7876129 (0)\ttotal: 16.3ms\tremaining: 16.3s\n",
      "100:\ttest: 0.8656068\tbest: 0.8656805 (98)\ttotal: 1.77s\tremaining: 15.7s\n",
      "200:\ttest: 0.8618255\tbest: 0.8657300 (108)\ttotal: 3.58s\tremaining: 14.2s\n",
      "300:\ttest: 0.8583852\tbest: 0.8657300 (108)\ttotal: 5.52s\tremaining: 12.8s\n",
      "400:\ttest: 0.8567639\tbest: 0.8657300 (108)\ttotal: 7.49s\tremaining: 11.2s\n",
      "500:\ttest: 0.8542379\tbest: 0.8657300 (108)\ttotal: 9.65s\tremaining: 9.62s\n",
      "600:\ttest: 0.8524682\tbest: 0.8657300 (108)\ttotal: 12s\tremaining: 7.94s\n",
      "700:\ttest: 0.8516927\tbest: 0.8657300 (108)\ttotal: 14.1s\tremaining: 6s\n",
      "800:\ttest: 0.8481899\tbest: 0.8657300 (108)\ttotal: 16.2s\tremaining: 4.02s\n",
      "900:\ttest: 0.8458981\tbest: 0.8657300 (108)\ttotal: 18.5s\tremaining: 2.03s\n",
      "999:\ttest: 0.8452310\tbest: 0.8657300 (108)\ttotal: 20.7s\tremaining: 0us\n",
      "\n",
      "bestTest = 0.8657299818\n",
      "bestIteration = 108\n",
      "\n"
     ]
    }
   ],
   "source": [
    "result = model.grid_search(grid, train_full_data, verbose=False)"
   ],
   "metadata": {
    "collapsed": false,
    "pycharm": {
     "name": "#%%\n"
    }
   }
  },
  {
   "cell_type": "code",
   "execution_count": 52,
   "outputs": [
    {
     "data": {
      "text/plain": "{'depth': 5, 'learning_rate': 0.1}"
     },
     "execution_count": 52,
     "metadata": {},
     "output_type": "execute_result"
    }
   ],
   "source": [
    "result['params']"
   ],
   "metadata": {
    "collapsed": false,
    "pycharm": {
     "name": "#%%\n"
    }
   }
  },
  {
   "cell_type": "code",
   "execution_count": 53,
   "outputs": [
    {
     "data": {
      "text/plain": "0.8689660773549619"
     },
     "execution_count": 53,
     "metadata": {},
     "output_type": "execute_result"
    }
   ],
   "source": [
    "pd.DataFrame(result['cv_results'])['test-AUC-mean'].max()"
   ],
   "metadata": {
    "collapsed": false,
    "pycharm": {
     "name": "#%%\n"
    }
   }
  },
  {
   "cell_type": "markdown",
   "source": [
    "## Принципы sklearn"
   ],
   "metadata": {
    "collapsed": false,
    "pycharm": {
     "name": "#%% md\n"
    }
   }
  },
  {
   "cell_type": "markdown",
   "source": [
    "https://towardsdatascience.com/how-to-use-sklearn-pipelines-for-ridiculously-neat-code-a61ab66ca90d"
   ],
   "metadata": {
    "collapsed": false,
    "pycharm": {
     "name": "#%% md\n"
    }
   }
  },
  {
   "cell_type": "markdown",
   "source": [
    "## Предобработка и Фиченжениринг\n",
    "Для катбуста не обязательно масштабировать признаки"
   ],
   "metadata": {
    "collapsed": false,
    "pycharm": {
     "name": "#%% md\n"
    }
   }
  },
  {
   "cell_type": "markdown",
   "source": [
    "https://catboost.ai/en/docs/concepts/quantization"
   ],
   "metadata": {
    "collapsed": false,
    "pycharm": {
     "name": "#%% md\n"
    }
   }
  },
  {
   "cell_type": "markdown",
   "source": [
    "https://www.kaggle.com/learn/feature-engineering"
   ],
   "metadata": {
    "collapsed": false,
    "pycharm": {
     "name": "#%% md\n"
    }
   }
  },
  {
   "cell_type": "markdown",
   "source": [
    "# Калибровка"
   ],
   "metadata": {
    "collapsed": false,
    "pycharm": {
     "name": "#%% md\n"
    }
   }
  },
  {
   "cell_type": "markdown",
   "source": [
    "https://www.kaggle.com/residentmario/notes-on-classification-probability-calibration"
   ],
   "metadata": {
    "collapsed": false,
    "pycharm": {
     "name": "#%% md\n"
    }
   }
  },
  {
   "cell_type": "markdown",
   "source": [
    "# Catboost, тексты и эмбеддинги"
   ],
   "metadata": {
    "collapsed": false,
    "pycharm": {
     "name": "#%% md\n"
    }
   }
  },
  {
   "cell_type": "markdown",
   "source": [
    "https://github.com/catboost/catboost/blob/master/catboost/tutorials/events/2020_06_04_catboost_tutorial/text_features.ipynb"
   ],
   "metadata": {
    "collapsed": false,
    "pycharm": {
     "name": "#%% md\n"
    }
   }
  },
  {
   "cell_type": "markdown",
   "source": [
    "https://youtu.be/ZaP5qFSIcIw?t=3802"
   ],
   "metadata": {
    "collapsed": false,
    "pycharm": {
     "name": "#%% md\n"
    }
   }
  },
  {
   "cell_type": "markdown",
   "source": [
    "# Главные навыки для аналитика"
   ],
   "metadata": {
    "collapsed": false,
    "pycharm": {
     "name": "#%% md\n"
    }
   }
  },
  {
   "cell_type": "markdown",
   "source": [
    "- SQL\n",
    "- pandas\n",
    "- Основы статистики (AB тесты)"
   ],
   "metadata": {
    "collapsed": false,
    "pycharm": {
     "name": "#%% md\n"
    }
   }
  },
  {
   "cell_type": "markdown",
   "source": [
    "# Главные навыки для Дата Саентиста"
   ],
   "metadata": {
    "collapsed": false,
    "pycharm": {
     "name": "#%% md\n"
    }
   }
  },
  {
   "cell_type": "markdown",
   "source": [
    "- Все то же, что и у аналитика\n",
    "- Машинное обучение (sklearn, catboost)\n",
    "- более продвинутый python (основы ООП)\n",
    "- linux, git, docker, веб-сервисы"
   ],
   "metadata": {
    "collapsed": false,
    "pycharm": {
     "name": "#%% md\n"
    }
   }
  },
  {
   "cell_type": "markdown",
   "source": [
    "# Как развиваться дальше?"
   ],
   "metadata": {
    "collapsed": false,
    "pycharm": {
     "name": "#%% md\n"
    }
   }
  },
  {
   "cell_type": "markdown",
   "source": [
    "- [Прикладное машинное обучение с помощью Scikit-Learn, Keras и TensorFlow: концепции, инструменты и техники для создания интеллектуальных систем, 2-е издание | Жерон Орельен](https://www.ozon.ru/product/prikladnoe-mashinnoe-obuchenie-s-pomoshchyu-scikit-learn-keras-i-tensorflow-kontseptsii-207392052/?sh=HC92ZQyhUQ)\n",
    "- Задачи на kaggle, вот [список](https://www.kaggle.com/getting-started/114864) для начинающих\n",
    "- Откликайся на вакансии и решай тестовые. Можешь смотреть [тестовые по дс у меня на канале](https://www.youtube.com/playlist?list=PLQJ7ptkRY-xbefSg1XN3FA-SdSRFcCQfn)\n",
    "- [Мой курс по статистике](https://www.youtube.com/playlist?list=PLQJ7ptkRY-xbHLLI66KdscKp_FJt0FsIi)\n",
    "- Задачи по pandas и sql на [StrataScratch](https://www.stratascratch.com/?via=gleb)\n",
    "- [Мой курс по SQL](https://www.udemy.com/course/sql-with-gleb/?referralCode=C99EC81AE75FEC9F50A2)\n",
    "- Задачи на [itresume](https://itresume.ru/)\n",
    "- Задачи на [Checkio](https://checkio.org/)\n",
    "- Задачи на [Leetcode](https://leetcode.com/) вот по этому [списку](https://seanprashad.com/leetcode-patterns/)\n",
    "- Мой [плейлист](https://www.youtube.com/playlist?list=PLQJ7ptkRY-xZ4qiXlmQQLgAPyXJhQ7HxZ) по основам Linux\n",
    "- [Основы Git](https://youtu.be/0cGIiA0AjNw)\n",
    "- [Основы докера](https://www.youtube.com/playlist?list=PLQJ7ptkRY-xbR0ka2TUxJkXna40XWu92m)\n",
    "- [Основы веб-сервисов](https://www.youtube.com/playlist?list=PLQJ7ptkRY-xYLEAC5Y_sKqrJ9RA-U7Dja)"
   ],
   "metadata": {
    "collapsed": false,
    "pycharm": {
     "name": "#%% md\n"
    }
   }
  },
  {
   "cell_type": "markdown",
   "source": [
    "# Дополнительные материалы"
   ],
   "metadata": {
    "collapsed": false,
    "pycharm": {
     "name": "#%% md\n"
    }
   }
  },
  {
   "cell_type": "markdown",
   "source": [
    "- [Как работает градиентный бустинг](https://youtu.be/ZNJ3lKyI-EY)\n",
    "- [Как учить английский](https://youtu.be/f9Q4Mwvd5pc)\n",
    "- [Как искать работу](https://deepnote.com/@gleb-mikhaylov-15d6/blog-posts-nXDqO5CTQYOreNE53H3y-A)"
   ],
   "metadata": {
    "collapsed": false,
    "pycharm": {
     "name": "#%% md\n"
    }
   }
  },
  {
   "cell_type": "code",
   "execution_count": null,
   "outputs": [],
   "source": [],
   "metadata": {
    "collapsed": false,
    "pycharm": {
     "name": "#%%\n"
    }
   }
  }
 ],
 "metadata": {
  "kernelspec": {
   "display_name": "Python 3",
   "language": "python",
   "name": "python3"
  },
  "language_info": {
   "codemirror_mode": {
    "name": "ipython",
    "version": 2
   },
   "file_extension": ".py",
   "mimetype": "text/x-python",
   "name": "python",
   "nbconvert_exporter": "python",
   "pygments_lexer": "ipython2",
   "version": "2.7.6"
  }
 },
 "nbformat": 4,
 "nbformat_minor": 0
}