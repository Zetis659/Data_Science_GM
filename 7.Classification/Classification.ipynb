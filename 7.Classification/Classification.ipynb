{
 "cells": [
  {
   "cell_type": "markdown",
   "source": [
    "## Загрузка данных\n",
    "#### Данные беру из Churn_modeling.zip"
   ],
   "metadata": {
    "collapsed": false
   }
  },
  {
   "cell_type": "markdown",
   "source": [
    "# Colab"
   ],
   "metadata": {
    "collapsed": false
   }
  },
  {
   "cell_type": "markdown",
   "source": [
    "https://drive.google.com/file/d/1ilb0iIuToOiuFSQpfWQvTCG4jl8I6hOx/view?usp=sharing"
   ],
   "metadata": {
    "collapsed": false,
    "pycharm": {
     "name": "#%% md\n"
    }
   }
  },
  {
   "cell_type": "code",
   "execution_count": 1,
   "outputs": [
    {
     "name": "stderr",
     "output_type": "stream",
     "text": [
      "\"gdown\" ­Ґ пў«пҐвбп ў­гваҐ­­Ґ© Ё«Ё ў­Ґи­Ґ©\n",
      "Є®¬ ­¤®©, ЁбЇ®«­пҐ¬®© Їа®Ја ¬¬®© Ё«Ё Ї ЄҐв­л¬ д ©«®¬.\n"
     ]
    }
   ],
   "source": [
    "! gdown --id 1ilb0iIuToOiuFSQpfWQvTCG4jl8I6hOx"
   ],
   "metadata": {
    "collapsed": false,
    "pycharm": {
     "name": "#%%\n"
    }
   }
  },
  {
   "cell_type": "markdown",
   "source": [
    "! unzip /content/churn_modeling.zip -d /content/churn_modeling/"
   ],
   "metadata": {
    "collapsed": false
   }
  },
  {
   "cell_type": "code",
   "execution_count": 9,
   "outputs": [
    {
     "name": "stderr",
     "output_type": "stream",
     "text": [
      "\"unzip\" ­Ґ пў«пҐвбп ў­гваҐ­­Ґ© Ё«Ё ў­Ґи­Ґ©\n",
      "Є®¬ ­¤®©, ЁбЇ®«­пҐ¬®© Їа®Ја ¬¬®© Ё«Ё Ї ЄҐв­л¬ д ©«®¬.\n"
     ]
    }
   ],
   "source": [
    "! unzip /content/churn_modeling.zip -d /content/churn_modeling/"
   ],
   "metadata": {
    "collapsed": false,
    "pycharm": {
     "name": "#%%\n"
    }
   }
  },
  {
   "cell_type": "code",
   "execution_count": 1,
   "outputs": [],
   "source": [
    "import pandas as pd"
   ],
   "metadata": {
    "collapsed": false,
    "pycharm": {
     "name": "#%%\n"
    }
   }
  },
  {
   "cell_type": "code",
   "execution_count": 8,
   "outputs": [
    {
     "ename": "FileNotFoundError",
     "evalue": "[Errno 2] No such file or directory: '/content/churn_modeling/Churn_Modelling.csv'",
     "output_type": "error",
     "traceback": [
      "\u001B[1;31m---------------------------------------------------------------------------\u001B[0m",
      "\u001B[1;31mFileNotFoundError\u001B[0m                         Traceback (most recent call last)",
      "Cell \u001B[1;32mIn[8], line 1\u001B[0m\n\u001B[1;32m----> 1\u001B[0m df \u001B[38;5;241m=\u001B[39m \u001B[43mpd\u001B[49m\u001B[38;5;241;43m.\u001B[39;49m\u001B[43mread_csv\u001B[49m\u001B[43m(\u001B[49m\u001B[38;5;124;43m'\u001B[39;49m\u001B[38;5;124;43m/content/churn_modeling/Churn_Modelling.csv\u001B[39;49m\u001B[38;5;124;43m'\u001B[39;49m\u001B[43m)\u001B[49m\n",
      "File \u001B[1;32m~\\AppData\\Local\\Programs\\Python\\Python310\\lib\\site-packages\\pandas\\util\\_decorators.py:211\u001B[0m, in \u001B[0;36mdeprecate_kwarg.<locals>._deprecate_kwarg.<locals>.wrapper\u001B[1;34m(*args, **kwargs)\u001B[0m\n\u001B[0;32m    209\u001B[0m     \u001B[38;5;28;01melse\u001B[39;00m:\n\u001B[0;32m    210\u001B[0m         kwargs[new_arg_name] \u001B[38;5;241m=\u001B[39m new_arg_value\n\u001B[1;32m--> 211\u001B[0m \u001B[38;5;28;01mreturn\u001B[39;00m func(\u001B[38;5;241m*\u001B[39margs, \u001B[38;5;241m*\u001B[39m\u001B[38;5;241m*\u001B[39mkwargs)\n",
      "File \u001B[1;32m~\\AppData\\Local\\Programs\\Python\\Python310\\lib\\site-packages\\pandas\\util\\_decorators.py:331\u001B[0m, in \u001B[0;36mdeprecate_nonkeyword_arguments.<locals>.decorate.<locals>.wrapper\u001B[1;34m(*args, **kwargs)\u001B[0m\n\u001B[0;32m    325\u001B[0m \u001B[38;5;28;01mif\u001B[39;00m \u001B[38;5;28mlen\u001B[39m(args) \u001B[38;5;241m>\u001B[39m num_allow_args:\n\u001B[0;32m    326\u001B[0m     warnings\u001B[38;5;241m.\u001B[39mwarn(\n\u001B[0;32m    327\u001B[0m         msg\u001B[38;5;241m.\u001B[39mformat(arguments\u001B[38;5;241m=\u001B[39m_format_argument_list(allow_args)),\n\u001B[0;32m    328\u001B[0m         \u001B[38;5;167;01mFutureWarning\u001B[39;00m,\n\u001B[0;32m    329\u001B[0m         stacklevel\u001B[38;5;241m=\u001B[39mfind_stack_level(),\n\u001B[0;32m    330\u001B[0m     )\n\u001B[1;32m--> 331\u001B[0m \u001B[38;5;28;01mreturn\u001B[39;00m func(\u001B[38;5;241m*\u001B[39margs, \u001B[38;5;241m*\u001B[39m\u001B[38;5;241m*\u001B[39mkwargs)\n",
      "File \u001B[1;32m~\\AppData\\Local\\Programs\\Python\\Python310\\lib\\site-packages\\pandas\\io\\parsers\\readers.py:950\u001B[0m, in \u001B[0;36mread_csv\u001B[1;34m(filepath_or_buffer, sep, delimiter, header, names, index_col, usecols, squeeze, prefix, mangle_dupe_cols, dtype, engine, converters, true_values, false_values, skipinitialspace, skiprows, skipfooter, nrows, na_values, keep_default_na, na_filter, verbose, skip_blank_lines, parse_dates, infer_datetime_format, keep_date_col, date_parser, dayfirst, cache_dates, iterator, chunksize, compression, thousands, decimal, lineterminator, quotechar, quoting, doublequote, escapechar, comment, encoding, encoding_errors, dialect, error_bad_lines, warn_bad_lines, on_bad_lines, delim_whitespace, low_memory, memory_map, float_precision, storage_options)\u001B[0m\n\u001B[0;32m    935\u001B[0m kwds_defaults \u001B[38;5;241m=\u001B[39m _refine_defaults_read(\n\u001B[0;32m    936\u001B[0m     dialect,\n\u001B[0;32m    937\u001B[0m     delimiter,\n\u001B[1;32m   (...)\u001B[0m\n\u001B[0;32m    946\u001B[0m     defaults\u001B[38;5;241m=\u001B[39m{\u001B[38;5;124m\"\u001B[39m\u001B[38;5;124mdelimiter\u001B[39m\u001B[38;5;124m\"\u001B[39m: \u001B[38;5;124m\"\u001B[39m\u001B[38;5;124m,\u001B[39m\u001B[38;5;124m\"\u001B[39m},\n\u001B[0;32m    947\u001B[0m )\n\u001B[0;32m    948\u001B[0m kwds\u001B[38;5;241m.\u001B[39mupdate(kwds_defaults)\n\u001B[1;32m--> 950\u001B[0m \u001B[38;5;28;01mreturn\u001B[39;00m \u001B[43m_read\u001B[49m\u001B[43m(\u001B[49m\u001B[43mfilepath_or_buffer\u001B[49m\u001B[43m,\u001B[49m\u001B[43m \u001B[49m\u001B[43mkwds\u001B[49m\u001B[43m)\u001B[49m\n",
      "File \u001B[1;32m~\\AppData\\Local\\Programs\\Python\\Python310\\lib\\site-packages\\pandas\\io\\parsers\\readers.py:605\u001B[0m, in \u001B[0;36m_read\u001B[1;34m(filepath_or_buffer, kwds)\u001B[0m\n\u001B[0;32m    602\u001B[0m _validate_names(kwds\u001B[38;5;241m.\u001B[39mget(\u001B[38;5;124m\"\u001B[39m\u001B[38;5;124mnames\u001B[39m\u001B[38;5;124m\"\u001B[39m, \u001B[38;5;28;01mNone\u001B[39;00m))\n\u001B[0;32m    604\u001B[0m \u001B[38;5;66;03m# Create the parser.\u001B[39;00m\n\u001B[1;32m--> 605\u001B[0m parser \u001B[38;5;241m=\u001B[39m TextFileReader(filepath_or_buffer, \u001B[38;5;241m*\u001B[39m\u001B[38;5;241m*\u001B[39mkwds)\n\u001B[0;32m    607\u001B[0m \u001B[38;5;28;01mif\u001B[39;00m chunksize \u001B[38;5;129;01mor\u001B[39;00m iterator:\n\u001B[0;32m    608\u001B[0m     \u001B[38;5;28;01mreturn\u001B[39;00m parser\n",
      "File \u001B[1;32m~\\AppData\\Local\\Programs\\Python\\Python310\\lib\\site-packages\\pandas\\io\\parsers\\readers.py:1442\u001B[0m, in \u001B[0;36mTextFileReader.__init__\u001B[1;34m(self, f, engine, **kwds)\u001B[0m\n\u001B[0;32m   1439\u001B[0m     \u001B[38;5;28mself\u001B[39m\u001B[38;5;241m.\u001B[39moptions[\u001B[38;5;124m\"\u001B[39m\u001B[38;5;124mhas_index_names\u001B[39m\u001B[38;5;124m\"\u001B[39m] \u001B[38;5;241m=\u001B[39m kwds[\u001B[38;5;124m\"\u001B[39m\u001B[38;5;124mhas_index_names\u001B[39m\u001B[38;5;124m\"\u001B[39m]\n\u001B[0;32m   1441\u001B[0m \u001B[38;5;28mself\u001B[39m\u001B[38;5;241m.\u001B[39mhandles: IOHandles \u001B[38;5;241m|\u001B[39m \u001B[38;5;28;01mNone\u001B[39;00m \u001B[38;5;241m=\u001B[39m \u001B[38;5;28;01mNone\u001B[39;00m\n\u001B[1;32m-> 1442\u001B[0m \u001B[38;5;28mself\u001B[39m\u001B[38;5;241m.\u001B[39m_engine \u001B[38;5;241m=\u001B[39m \u001B[38;5;28;43mself\u001B[39;49m\u001B[38;5;241;43m.\u001B[39;49m\u001B[43m_make_engine\u001B[49m\u001B[43m(\u001B[49m\u001B[43mf\u001B[49m\u001B[43m,\u001B[49m\u001B[43m \u001B[49m\u001B[38;5;28;43mself\u001B[39;49m\u001B[38;5;241;43m.\u001B[39;49m\u001B[43mengine\u001B[49m\u001B[43m)\u001B[49m\n",
      "File \u001B[1;32m~\\AppData\\Local\\Programs\\Python\\Python310\\lib\\site-packages\\pandas\\io\\parsers\\readers.py:1735\u001B[0m, in \u001B[0;36mTextFileReader._make_engine\u001B[1;34m(self, f, engine)\u001B[0m\n\u001B[0;32m   1733\u001B[0m     \u001B[38;5;28;01mif\u001B[39;00m \u001B[38;5;124m\"\u001B[39m\u001B[38;5;124mb\u001B[39m\u001B[38;5;124m\"\u001B[39m \u001B[38;5;129;01mnot\u001B[39;00m \u001B[38;5;129;01min\u001B[39;00m mode:\n\u001B[0;32m   1734\u001B[0m         mode \u001B[38;5;241m+\u001B[39m\u001B[38;5;241m=\u001B[39m \u001B[38;5;124m\"\u001B[39m\u001B[38;5;124mb\u001B[39m\u001B[38;5;124m\"\u001B[39m\n\u001B[1;32m-> 1735\u001B[0m \u001B[38;5;28mself\u001B[39m\u001B[38;5;241m.\u001B[39mhandles \u001B[38;5;241m=\u001B[39m \u001B[43mget_handle\u001B[49m\u001B[43m(\u001B[49m\n\u001B[0;32m   1736\u001B[0m \u001B[43m    \u001B[49m\u001B[43mf\u001B[49m\u001B[43m,\u001B[49m\n\u001B[0;32m   1737\u001B[0m \u001B[43m    \u001B[49m\u001B[43mmode\u001B[49m\u001B[43m,\u001B[49m\n\u001B[0;32m   1738\u001B[0m \u001B[43m    \u001B[49m\u001B[43mencoding\u001B[49m\u001B[38;5;241;43m=\u001B[39;49m\u001B[38;5;28;43mself\u001B[39;49m\u001B[38;5;241;43m.\u001B[39;49m\u001B[43moptions\u001B[49m\u001B[38;5;241;43m.\u001B[39;49m\u001B[43mget\u001B[49m\u001B[43m(\u001B[49m\u001B[38;5;124;43m\"\u001B[39;49m\u001B[38;5;124;43mencoding\u001B[39;49m\u001B[38;5;124;43m\"\u001B[39;49m\u001B[43m,\u001B[49m\u001B[43m \u001B[49m\u001B[38;5;28;43;01mNone\u001B[39;49;00m\u001B[43m)\u001B[49m\u001B[43m,\u001B[49m\n\u001B[0;32m   1739\u001B[0m \u001B[43m    \u001B[49m\u001B[43mcompression\u001B[49m\u001B[38;5;241;43m=\u001B[39;49m\u001B[38;5;28;43mself\u001B[39;49m\u001B[38;5;241;43m.\u001B[39;49m\u001B[43moptions\u001B[49m\u001B[38;5;241;43m.\u001B[39;49m\u001B[43mget\u001B[49m\u001B[43m(\u001B[49m\u001B[38;5;124;43m\"\u001B[39;49m\u001B[38;5;124;43mcompression\u001B[39;49m\u001B[38;5;124;43m\"\u001B[39;49m\u001B[43m,\u001B[49m\u001B[43m \u001B[49m\u001B[38;5;28;43;01mNone\u001B[39;49;00m\u001B[43m)\u001B[49m\u001B[43m,\u001B[49m\n\u001B[0;32m   1740\u001B[0m \u001B[43m    \u001B[49m\u001B[43mmemory_map\u001B[49m\u001B[38;5;241;43m=\u001B[39;49m\u001B[38;5;28;43mself\u001B[39;49m\u001B[38;5;241;43m.\u001B[39;49m\u001B[43moptions\u001B[49m\u001B[38;5;241;43m.\u001B[39;49m\u001B[43mget\u001B[49m\u001B[43m(\u001B[49m\u001B[38;5;124;43m\"\u001B[39;49m\u001B[38;5;124;43mmemory_map\u001B[39;49m\u001B[38;5;124;43m\"\u001B[39;49m\u001B[43m,\u001B[49m\u001B[43m \u001B[49m\u001B[38;5;28;43;01mFalse\u001B[39;49;00m\u001B[43m)\u001B[49m\u001B[43m,\u001B[49m\n\u001B[0;32m   1741\u001B[0m \u001B[43m    \u001B[49m\u001B[43mis_text\u001B[49m\u001B[38;5;241;43m=\u001B[39;49m\u001B[43mis_text\u001B[49m\u001B[43m,\u001B[49m\n\u001B[0;32m   1742\u001B[0m \u001B[43m    \u001B[49m\u001B[43merrors\u001B[49m\u001B[38;5;241;43m=\u001B[39;49m\u001B[38;5;28;43mself\u001B[39;49m\u001B[38;5;241;43m.\u001B[39;49m\u001B[43moptions\u001B[49m\u001B[38;5;241;43m.\u001B[39;49m\u001B[43mget\u001B[49m\u001B[43m(\u001B[49m\u001B[38;5;124;43m\"\u001B[39;49m\u001B[38;5;124;43mencoding_errors\u001B[39;49m\u001B[38;5;124;43m\"\u001B[39;49m\u001B[43m,\u001B[49m\u001B[43m \u001B[49m\u001B[38;5;124;43m\"\u001B[39;49m\u001B[38;5;124;43mstrict\u001B[39;49m\u001B[38;5;124;43m\"\u001B[39;49m\u001B[43m)\u001B[49m\u001B[43m,\u001B[49m\n\u001B[0;32m   1743\u001B[0m \u001B[43m    \u001B[49m\u001B[43mstorage_options\u001B[49m\u001B[38;5;241;43m=\u001B[39;49m\u001B[38;5;28;43mself\u001B[39;49m\u001B[38;5;241;43m.\u001B[39;49m\u001B[43moptions\u001B[49m\u001B[38;5;241;43m.\u001B[39;49m\u001B[43mget\u001B[49m\u001B[43m(\u001B[49m\u001B[38;5;124;43m\"\u001B[39;49m\u001B[38;5;124;43mstorage_options\u001B[39;49m\u001B[38;5;124;43m\"\u001B[39;49m\u001B[43m,\u001B[49m\u001B[43m \u001B[49m\u001B[38;5;28;43;01mNone\u001B[39;49;00m\u001B[43m)\u001B[49m\u001B[43m,\u001B[49m\n\u001B[0;32m   1744\u001B[0m \u001B[43m\u001B[49m\u001B[43m)\u001B[49m\n\u001B[0;32m   1745\u001B[0m \u001B[38;5;28;01massert\u001B[39;00m \u001B[38;5;28mself\u001B[39m\u001B[38;5;241m.\u001B[39mhandles \u001B[38;5;129;01mis\u001B[39;00m \u001B[38;5;129;01mnot\u001B[39;00m \u001B[38;5;28;01mNone\u001B[39;00m\n\u001B[0;32m   1746\u001B[0m f \u001B[38;5;241m=\u001B[39m \u001B[38;5;28mself\u001B[39m\u001B[38;5;241m.\u001B[39mhandles\u001B[38;5;241m.\u001B[39mhandle\n",
      "File \u001B[1;32m~\\AppData\\Local\\Programs\\Python\\Python310\\lib\\site-packages\\pandas\\io\\common.py:856\u001B[0m, in \u001B[0;36mget_handle\u001B[1;34m(path_or_buf, mode, encoding, compression, memory_map, is_text, errors, storage_options)\u001B[0m\n\u001B[0;32m    851\u001B[0m \u001B[38;5;28;01melif\u001B[39;00m \u001B[38;5;28misinstance\u001B[39m(handle, \u001B[38;5;28mstr\u001B[39m):\n\u001B[0;32m    852\u001B[0m     \u001B[38;5;66;03m# Check whether the filename is to be opened in binary mode.\u001B[39;00m\n\u001B[0;32m    853\u001B[0m     \u001B[38;5;66;03m# Binary mode does not support 'encoding' and 'newline'.\u001B[39;00m\n\u001B[0;32m    854\u001B[0m     \u001B[38;5;28;01mif\u001B[39;00m ioargs\u001B[38;5;241m.\u001B[39mencoding \u001B[38;5;129;01mand\u001B[39;00m \u001B[38;5;124m\"\u001B[39m\u001B[38;5;124mb\u001B[39m\u001B[38;5;124m\"\u001B[39m \u001B[38;5;129;01mnot\u001B[39;00m \u001B[38;5;129;01min\u001B[39;00m ioargs\u001B[38;5;241m.\u001B[39mmode:\n\u001B[0;32m    855\u001B[0m         \u001B[38;5;66;03m# Encoding\u001B[39;00m\n\u001B[1;32m--> 856\u001B[0m         handle \u001B[38;5;241m=\u001B[39m \u001B[38;5;28;43mopen\u001B[39;49m\u001B[43m(\u001B[49m\n\u001B[0;32m    857\u001B[0m \u001B[43m            \u001B[49m\u001B[43mhandle\u001B[49m\u001B[43m,\u001B[49m\n\u001B[0;32m    858\u001B[0m \u001B[43m            \u001B[49m\u001B[43mioargs\u001B[49m\u001B[38;5;241;43m.\u001B[39;49m\u001B[43mmode\u001B[49m\u001B[43m,\u001B[49m\n\u001B[0;32m    859\u001B[0m \u001B[43m            \u001B[49m\u001B[43mencoding\u001B[49m\u001B[38;5;241;43m=\u001B[39;49m\u001B[43mioargs\u001B[49m\u001B[38;5;241;43m.\u001B[39;49m\u001B[43mencoding\u001B[49m\u001B[43m,\u001B[49m\n\u001B[0;32m    860\u001B[0m \u001B[43m            \u001B[49m\u001B[43merrors\u001B[49m\u001B[38;5;241;43m=\u001B[39;49m\u001B[43merrors\u001B[49m\u001B[43m,\u001B[49m\n\u001B[0;32m    861\u001B[0m \u001B[43m            \u001B[49m\u001B[43mnewline\u001B[49m\u001B[38;5;241;43m=\u001B[39;49m\u001B[38;5;124;43m\"\u001B[39;49m\u001B[38;5;124;43m\"\u001B[39;49m\u001B[43m,\u001B[49m\n\u001B[0;32m    862\u001B[0m \u001B[43m        \u001B[49m\u001B[43m)\u001B[49m\n\u001B[0;32m    863\u001B[0m     \u001B[38;5;28;01melse\u001B[39;00m:\n\u001B[0;32m    864\u001B[0m         \u001B[38;5;66;03m# Binary mode\u001B[39;00m\n\u001B[0;32m    865\u001B[0m         handle \u001B[38;5;241m=\u001B[39m \u001B[38;5;28mopen\u001B[39m(handle, ioargs\u001B[38;5;241m.\u001B[39mmode)\n",
      "\u001B[1;31mFileNotFoundError\u001B[0m: [Errno 2] No such file or directory: '/content/churn_modeling/Churn_Modelling.csv'"
     ]
    }
   ],
   "source": [
    "df = pd.read_csv('/content/churn_modeling/Churn_Modelling.csv')"
   ],
   "metadata": {
    "collapsed": false,
    "pycharm": {
     "name": "#%%\n"
    }
   }
  },
  {
   "cell_type": "code",
   "execution_count": null,
   "outputs": [],
   "source": [
    "df.head()"
   ],
   "metadata": {
    "collapsed": false,
    "pycharm": {
     "name": "#%%\n"
    }
   }
  },
  {
   "cell_type": "markdown",
   "source": [
    "# Pycharm"
   ],
   "metadata": {
    "collapsed": false
   }
  },
  {
   "cell_type": "code",
   "execution_count": 4,
   "outputs": [],
   "source": [
    "from zipfile import ZipFile\n",
    "\n",
    "with ZipFile('churn_modeling.zip', 'r') as zf:\n",
    "    zf.extractall()"
   ],
   "metadata": {
    "collapsed": false,
    "pycharm": {
     "name": "#%%\n"
    }
   }
  },
  {
   "cell_type": "code",
   "execution_count": 2,
   "outputs": [
    {
     "data": {
      "text/plain": "'---------------------------------------------'"
     },
     "execution_count": 2,
     "metadata": {},
     "output_type": "execute_result"
    }
   ],
   "source": [
    "'---------------------------------------------'"
   ],
   "metadata": {
    "collapsed": false,
    "pycharm": {
     "name": "#%%\n"
    }
   }
  },
  {
   "cell_type": "code",
   "execution_count": 1,
   "outputs": [],
   "source": [
    "import pandas as pd"
   ],
   "metadata": {
    "collapsed": false,
    "pycharm": {
     "name": "#%%\n"
    }
   }
  },
  {
   "cell_type": "code",
   "execution_count": 2,
   "outputs": [],
   "source": [
    "df = pd.read_csv('Churn_Modelling.csv')"
   ],
   "metadata": {
    "collapsed": false,
    "pycharm": {
     "name": "#%%\n"
    }
   }
  },
  {
   "cell_type": "code",
   "execution_count": 3,
   "outputs": [
    {
     "data": {
      "text/plain": "   RowNumber  CustomerId   Surname  CreditScore Geography  Gender  Age  \\\n0          1    15634602  Hargrave          619    France  Female   42   \n1          2    15647311      Hill          608     Spain  Female   41   \n2          3    15619304      Onio          502    France  Female   42   \n3          4    15701354      Boni          699    France  Female   39   \n4          5    15737888  Mitchell          850     Spain  Female   43   \n\n   Tenure    Balance  NumOfProducts  HasCrCard  IsActiveMember  \\\n0       2       0.00              1          1               1   \n1       1   83807.86              1          0               1   \n2       8  159660.80              3          1               0   \n3       1       0.00              2          0               0   \n4       2  125510.82              1          1               1   \n\n   EstimatedSalary  Exited  \n0        101348.88       1  \n1        112542.58       0  \n2        113931.57       1  \n3         93826.63       0  \n4         79084.10       0  ",
      "text/html": "<div>\n<style scoped>\n    .dataframe tbody tr th:only-of-type {\n        vertical-align: middle;\n    }\n\n    .dataframe tbody tr th {\n        vertical-align: top;\n    }\n\n    .dataframe thead th {\n        text-align: right;\n    }\n</style>\n<table border=\"1\" class=\"dataframe\">\n  <thead>\n    <tr style=\"text-align: right;\">\n      <th></th>\n      <th>RowNumber</th>\n      <th>CustomerId</th>\n      <th>Surname</th>\n      <th>CreditScore</th>\n      <th>Geography</th>\n      <th>Gender</th>\n      <th>Age</th>\n      <th>Tenure</th>\n      <th>Balance</th>\n      <th>NumOfProducts</th>\n      <th>HasCrCard</th>\n      <th>IsActiveMember</th>\n      <th>EstimatedSalary</th>\n      <th>Exited</th>\n    </tr>\n  </thead>\n  <tbody>\n    <tr>\n      <th>0</th>\n      <td>1</td>\n      <td>15634602</td>\n      <td>Hargrave</td>\n      <td>619</td>\n      <td>France</td>\n      <td>Female</td>\n      <td>42</td>\n      <td>2</td>\n      <td>0.00</td>\n      <td>1</td>\n      <td>1</td>\n      <td>1</td>\n      <td>101348.88</td>\n      <td>1</td>\n    </tr>\n    <tr>\n      <th>1</th>\n      <td>2</td>\n      <td>15647311</td>\n      <td>Hill</td>\n      <td>608</td>\n      <td>Spain</td>\n      <td>Female</td>\n      <td>41</td>\n      <td>1</td>\n      <td>83807.86</td>\n      <td>1</td>\n      <td>0</td>\n      <td>1</td>\n      <td>112542.58</td>\n      <td>0</td>\n    </tr>\n    <tr>\n      <th>2</th>\n      <td>3</td>\n      <td>15619304</td>\n      <td>Onio</td>\n      <td>502</td>\n      <td>France</td>\n      <td>Female</td>\n      <td>42</td>\n      <td>8</td>\n      <td>159660.80</td>\n      <td>3</td>\n      <td>1</td>\n      <td>0</td>\n      <td>113931.57</td>\n      <td>1</td>\n    </tr>\n    <tr>\n      <th>3</th>\n      <td>4</td>\n      <td>15701354</td>\n      <td>Boni</td>\n      <td>699</td>\n      <td>France</td>\n      <td>Female</td>\n      <td>39</td>\n      <td>1</td>\n      <td>0.00</td>\n      <td>2</td>\n      <td>0</td>\n      <td>0</td>\n      <td>93826.63</td>\n      <td>0</td>\n    </tr>\n    <tr>\n      <th>4</th>\n      <td>5</td>\n      <td>15737888</td>\n      <td>Mitchell</td>\n      <td>850</td>\n      <td>Spain</td>\n      <td>Female</td>\n      <td>43</td>\n      <td>2</td>\n      <td>125510.82</td>\n      <td>1</td>\n      <td>1</td>\n      <td>1</td>\n      <td>79084.10</td>\n      <td>0</td>\n    </tr>\n  </tbody>\n</table>\n</div>"
     },
     "execution_count": 3,
     "metadata": {},
     "output_type": "execute_result"
    }
   ],
   "source": [
    "df.head()"
   ],
   "metadata": {
    "collapsed": false,
    "pycharm": {
     "name": "#%%\n"
    }
   }
  },
  {
   "cell_type": "markdown",
   "source": [
    "## Анализ данных (быстрый)"
   ],
   "metadata": {
    "collapsed": false,
    "pycharm": {
     "name": "#%% md\n"
    }
   }
  },
  {
   "cell_type": "code",
   "execution_count": 4,
   "outputs": [
    {
     "data": {
      "text/plain": "(10000, 14)"
     },
     "execution_count": 4,
     "metadata": {},
     "output_type": "execute_result"
    }
   ],
   "source": [
    "df.shape"
   ],
   "metadata": {
    "collapsed": false,
    "pycharm": {
     "name": "#%%\n"
    }
   }
  },
  {
   "cell_type": "code",
   "execution_count": 5,
   "outputs": [
    {
     "data": {
      "text/plain": "RowNumber          0.0\nCustomerId         0.0\nSurname            0.0\nCreditScore        0.0\nGeography          0.0\nGender             0.0\nAge                0.0\nTenure             0.0\nBalance            0.0\nNumOfProducts      0.0\nHasCrCard          0.0\nIsActiveMember     0.0\nEstimatedSalary    0.0\nExited             0.0\ndtype: float64"
     },
     "execution_count": 5,
     "metadata": {},
     "output_type": "execute_result"
    }
   ],
   "source": [
    "df.isna().mean()"
   ],
   "metadata": {
    "collapsed": false,
    "pycharm": {
     "name": "#%%\n"
    }
   }
  },
  {
   "cell_type": "code",
   "execution_count": 6,
   "outputs": [
    {
     "name": "stdout",
     "output_type": "stream",
     "text": [
      "<class 'pandas.core.frame.DataFrame'>\n",
      "RangeIndex: 10000 entries, 0 to 9999\n",
      "Data columns (total 14 columns):\n",
      " #   Column           Non-Null Count  Dtype  \n",
      "---  ------           --------------  -----  \n",
      " 0   RowNumber        10000 non-null  int64  \n",
      " 1   CustomerId       10000 non-null  int64  \n",
      " 2   Surname          10000 non-null  object \n",
      " 3   CreditScore      10000 non-null  int64  \n",
      " 4   Geography        10000 non-null  object \n",
      " 5   Gender           10000 non-null  object \n",
      " 6   Age              10000 non-null  int64  \n",
      " 7   Tenure           10000 non-null  int64  \n",
      " 8   Balance          10000 non-null  float64\n",
      " 9   NumOfProducts    10000 non-null  int64  \n",
      " 10  HasCrCard        10000 non-null  int64  \n",
      " 11  IsActiveMember   10000 non-null  int64  \n",
      " 12  EstimatedSalary  10000 non-null  float64\n",
      " 13  Exited           10000 non-null  int64  \n",
      "dtypes: float64(2), int64(9), object(3)\n",
      "memory usage: 1.1+ MB\n"
     ]
    }
   ],
   "source": [
    "df.info()"
   ],
   "metadata": {
    "collapsed": false,
    "pycharm": {
     "name": "#%%\n"
    }
   }
  },
  {
   "cell_type": "code",
   "execution_count": 7,
   "outputs": [
    {
     "data": {
      "text/plain": "0    7963\n1    2037\nName: Exited, dtype: int64"
     },
     "execution_count": 7,
     "metadata": {},
     "output_type": "execute_result"
    }
   ],
   "source": [
    "df.Exited.value_counts()"
   ],
   "metadata": {
    "collapsed": false,
    "pycharm": {
     "name": "#%%\n"
    }
   }
  },
  {
   "cell_type": "code",
   "execution_count": 8,
   "outputs": [
    {
     "data": {
      "text/plain": "0    0.7963\n1    0.2037\nName: Exited, dtype: float64"
     },
     "execution_count": 8,
     "metadata": {},
     "output_type": "execute_result"
    }
   ],
   "source": [
    "df.Exited.value_counts(normalize=True)  # value counts в процентах\n",
    "# 20% клиентов ушли"
   ],
   "metadata": {
    "collapsed": false,
    "pycharm": {
     "name": "#%%\n"
    }
   }
  },
  {
   "cell_type": "markdown",
   "source": [
    "## Обучающая, валидационная и тестовая выборки"
   ],
   "metadata": {
    "collapsed": false,
    "pycharm": {
     "name": "#%% md\n"
    }
   }
  },
  {
   "cell_type": "code",
   "execution_count": 9,
   "outputs": [],
   "source": [
    "from sklearn.model_selection import  train_test_split"
   ],
   "metadata": {
    "collapsed": false,
    "pycharm": {
     "name": "#%%\n"
    }
   }
  },
  {
   "cell_type": "markdown",
   "source": [
    "Будем использовать стратификацию, для более ровной разбивки данных, т.к. маленькая выборка"
   ],
   "metadata": {
    "collapsed": false,
    "pycharm": {
     "name": "#%% md\n"
    }
   }
  },
  {
   "cell_type": "code",
   "execution_count": 10,
   "outputs": [],
   "source": [
    "train, test = train_test_split(df, random_state=42, train_size=0.6, stratify=df.Exited)"
   ],
   "metadata": {
    "collapsed": false,
    "pycharm": {
     "name": "#%%\n"
    }
   }
  },
  {
   "cell_type": "code",
   "execution_count": 11,
   "outputs": [],
   "source": [
    "val, test = train_test_split(test, random_state=42, train_size=0.5, stratify=test.Exited)"
   ],
   "metadata": {
    "collapsed": false,
    "pycharm": {
     "name": "#%%\n"
    }
   }
  },
  {
   "cell_type": "markdown",
   "source": [
    "проверка разбивки"
   ],
   "metadata": {
    "collapsed": false,
    "pycharm": {
     "name": "#%% md\n"
    }
   }
  },
  {
   "cell_type": "code",
   "execution_count": 12,
   "outputs": [
    {
     "data": {
      "text/plain": "(0.204, 0.2035, 0.20366666666666666)"
     },
     "execution_count": 12,
     "metadata": {},
     "output_type": "execute_result"
    }
   ],
   "source": [
    "val.Exited.mean(), test.Exited.mean(), train.Exited.mean()"
   ],
   "metadata": {
    "collapsed": false,
    "pycharm": {
     "name": "#%%\n"
    }
   }
  },
  {
   "cell_type": "markdown",
   "source": [
    "## Phik"
   ],
   "metadata": {
    "collapsed": false,
    "pycharm": {
     "name": "#%% md\n"
    }
   }
  },
  {
   "cell_type": "markdown",
   "source": [
    "С помощью Phik отберём наиболее важные переменные (по мнению Phik), тем самым сократить работу по анализу\n",
    "Для человеческого обучения val не нужна, по этому можно обучиться на полном трейне"
   ],
   "metadata": {
    "collapsed": false,
    "pycharm": {
     "name": "#%% md\n"
    }
   }
  },
  {
   "cell_type": "code",
   "execution_count": 13,
   "outputs": [],
   "source": [
    "train_full = pd.concat([train, val])"
   ],
   "metadata": {
    "collapsed": false,
    "pycharm": {
     "name": "#%%\n"
    }
   }
  },
  {
   "cell_type": "code",
   "execution_count": 14,
   "outputs": [
    {
     "data": {
      "text/plain": "      RowNumber  CustomerId     Surname  CreditScore Geography  Gender  Age  \\\n6851       6852    15779103  Cantamessa          527   Germany  Female   39   \n7026       7027    15588123      Horton          677    France  Female   27   \n5705       5706    15698703     Doherty          628   Germany    Male   40   \n9058       9059    15802560       Moran          470     Spain  Female   48   \n9415       9416    15750407        Hunt          768   Germany  Female   43   \n\n      Tenure    Balance  NumOfProducts  HasCrCard  IsActiveMember  \\\n6851       9   96748.89              2          1               0   \n7026       2       0.00              2          0               1   \n5705       5  181768.32              2          1               1   \n9058       6  140576.11              1          1               1   \n9415       2  129264.05              2          0               0   \n\n      EstimatedSalary  Exited  \n6851         94711.43       0  \n7026        114685.92       0  \n5705        129107.97       0  \n9058        116971.05       0  \n9415         19150.14       0  ",
      "text/html": "<div>\n<style scoped>\n    .dataframe tbody tr th:only-of-type {\n        vertical-align: middle;\n    }\n\n    .dataframe tbody tr th {\n        vertical-align: top;\n    }\n\n    .dataframe thead th {\n        text-align: right;\n    }\n</style>\n<table border=\"1\" class=\"dataframe\">\n  <thead>\n    <tr style=\"text-align: right;\">\n      <th></th>\n      <th>RowNumber</th>\n      <th>CustomerId</th>\n      <th>Surname</th>\n      <th>CreditScore</th>\n      <th>Geography</th>\n      <th>Gender</th>\n      <th>Age</th>\n      <th>Tenure</th>\n      <th>Balance</th>\n      <th>NumOfProducts</th>\n      <th>HasCrCard</th>\n      <th>IsActiveMember</th>\n      <th>EstimatedSalary</th>\n      <th>Exited</th>\n    </tr>\n  </thead>\n  <tbody>\n    <tr>\n      <th>6851</th>\n      <td>6852</td>\n      <td>15779103</td>\n      <td>Cantamessa</td>\n      <td>527</td>\n      <td>Germany</td>\n      <td>Female</td>\n      <td>39</td>\n      <td>9</td>\n      <td>96748.89</td>\n      <td>2</td>\n      <td>1</td>\n      <td>0</td>\n      <td>94711.43</td>\n      <td>0</td>\n    </tr>\n    <tr>\n      <th>7026</th>\n      <td>7027</td>\n      <td>15588123</td>\n      <td>Horton</td>\n      <td>677</td>\n      <td>France</td>\n      <td>Female</td>\n      <td>27</td>\n      <td>2</td>\n      <td>0.00</td>\n      <td>2</td>\n      <td>0</td>\n      <td>1</td>\n      <td>114685.92</td>\n      <td>0</td>\n    </tr>\n    <tr>\n      <th>5705</th>\n      <td>5706</td>\n      <td>15698703</td>\n      <td>Doherty</td>\n      <td>628</td>\n      <td>Germany</td>\n      <td>Male</td>\n      <td>40</td>\n      <td>5</td>\n      <td>181768.32</td>\n      <td>2</td>\n      <td>1</td>\n      <td>1</td>\n      <td>129107.97</td>\n      <td>0</td>\n    </tr>\n    <tr>\n      <th>9058</th>\n      <td>9059</td>\n      <td>15802560</td>\n      <td>Moran</td>\n      <td>470</td>\n      <td>Spain</td>\n      <td>Female</td>\n      <td>48</td>\n      <td>6</td>\n      <td>140576.11</td>\n      <td>1</td>\n      <td>1</td>\n      <td>1</td>\n      <td>116971.05</td>\n      <td>0</td>\n    </tr>\n    <tr>\n      <th>9415</th>\n      <td>9416</td>\n      <td>15750407</td>\n      <td>Hunt</td>\n      <td>768</td>\n      <td>Germany</td>\n      <td>Female</td>\n      <td>43</td>\n      <td>2</td>\n      <td>129264.05</td>\n      <td>2</td>\n      <td>0</td>\n      <td>0</td>\n      <td>19150.14</td>\n      <td>0</td>\n    </tr>\n  </tbody>\n</table>\n</div>"
     },
     "execution_count": 14,
     "metadata": {},
     "output_type": "execute_result"
    }
   ],
   "source": [
    "train_full.head()"
   ],
   "metadata": {
    "collapsed": false,
    "pycharm": {
     "name": "#%%\n"
    }
   }
  },
  {
   "cell_type": "code",
   "execution_count": 15,
   "outputs": [
    {
     "data": {
      "text/plain": "(8000, 14)"
     },
     "execution_count": 15,
     "metadata": {},
     "output_type": "execute_result"
    }
   ],
   "source": [
    "train_full.shape"
   ],
   "metadata": {
    "collapsed": false,
    "pycharm": {
     "name": "#%%\n"
    }
   }
  },
  {
   "cell_type": "code",
   "execution_count": 16,
   "outputs": [],
   "source": [
    "import phik"
   ],
   "metadata": {
    "collapsed": false,
    "pycharm": {
     "name": "#%%\n"
    }
   }
  },
  {
   "cell_type": "code",
   "execution_count": 17,
   "outputs": [
    {
     "name": "stdout",
     "output_type": "stream",
     "text": [
      "interval columns not set, guessing: ['RowNumber', 'CustomerId', 'CreditScore', 'Age', 'Tenure', 'Balance', 'NumOfProducts', 'HasCrCard', 'IsActiveMember', 'EstimatedSalary', 'Exited']\n"
     ]
    },
    {
     "name": "stderr",
     "output_type": "stream",
     "text": [
      "C:\\Users\\Zetis\\AppData\\Local\\Programs\\Python\\Python310\\lib\\site-packages\\phik\\data_quality.py:59: UserWarning: The number of unique values of variable Surname is large: 2591. Are you sure this is not an interval variable? Analysis for pairs of variables including Surname can be slow.\n",
      "  warnings.warn(\n"
     ]
    }
   ],
   "source": [
    "phik_overview = train_full.phik_matrix()"
   ],
   "metadata": {
    "collapsed": false,
    "pycharm": {
     "name": "#%%\n"
    }
   }
  },
  {
   "cell_type": "markdown",
   "source": [
    "Отсортированные переменные по влиянию на модель, по мнению Phik\n",
    "Для Human learning можно взять 3 самых важных признака исключая целевой (target = Exited)"
   ],
   "metadata": {
    "collapsed": false,
    "pycharm": {
     "name": "#%% md\n"
    }
   }
  },
  {
   "cell_type": "code",
   "execution_count": 18,
   "outputs": [
    {
     "data": {
      "text/plain": "Exited             1.000000\nNumOfProducts      0.564969\nAge                0.498768\nIsActiveMember     0.237244\nBalance            0.167823\nGender             0.165231\nCreditScore        0.105371\nGeography          0.104047\nCustomerId         0.035477\nTenure             0.030333\nRowNumber          0.000000\nSurname            0.000000\nHasCrCard          0.000000\nEstimatedSalary    0.000000\nName: Exited, dtype: float64"
     },
     "execution_count": 18,
     "metadata": {},
     "output_type": "execute_result"
    }
   ],
   "source": [
    "phik_overview.Exited.sort_values(ascending=False)"
   ],
   "metadata": {
    "collapsed": false,
    "pycharm": {
     "name": "#%%\n"
    }
   }
  },
  {
   "cell_type": "markdown",
   "source": [
    "## Human learning"
   ],
   "metadata": {
    "collapsed": false,
    "pycharm": {
     "name": "#%% md\n"
    }
   }
  },
  {
   "cell_type": "markdown",
   "source": [
    "Левая колонка - кол-во продуктов у клиента, центральная - к-во клиентов, правая - Score, то есть оценка склонности (вероятность) клиента к чему либо\n",
    "Если у клиента - 1 продукт, то он склонен к оттоку (27.5%)\n",
    "Если у клиента - 2 продукта, то он менее склонен к оттоку (7.7%)\n",
    "Если у клиента - 3 продукта, то он сильно склонен к оттоку (82.6%)"
   ],
   "metadata": {
    "collapsed": false,
    "pycharm": {
     "name": "#%% md\n"
    }
   }
  },
  {
   "cell_type": "markdown",
   "source": [
    "##### ! Score НЕ всегда равен вероятности !"
   ],
   "metadata": {
    "collapsed": false,
    "pycharm": {
     "name": "#%% md\n"
    }
   }
  },
  {
   "cell_type": "code",
   "execution_count": 19,
   "outputs": [
    {
     "data": {
      "text/plain": "               count      mean\nNumOfProducts                 \n1               4060  0.275369\n2               3673  0.077049\n3                219  0.826484\n4                 48  1.000000",
      "text/html": "<div>\n<style scoped>\n    .dataframe tbody tr th:only-of-type {\n        vertical-align: middle;\n    }\n\n    .dataframe tbody tr th {\n        vertical-align: top;\n    }\n\n    .dataframe thead th {\n        text-align: right;\n    }\n</style>\n<table border=\"1\" class=\"dataframe\">\n  <thead>\n    <tr style=\"text-align: right;\">\n      <th></th>\n      <th>count</th>\n      <th>mean</th>\n    </tr>\n    <tr>\n      <th>NumOfProducts</th>\n      <th></th>\n      <th></th>\n    </tr>\n  </thead>\n  <tbody>\n    <tr>\n      <th>1</th>\n      <td>4060</td>\n      <td>0.275369</td>\n    </tr>\n    <tr>\n      <th>2</th>\n      <td>3673</td>\n      <td>0.077049</td>\n    </tr>\n    <tr>\n      <th>3</th>\n      <td>219</td>\n      <td>0.826484</td>\n    </tr>\n    <tr>\n      <th>4</th>\n      <td>48</td>\n      <td>1.000000</td>\n    </tr>\n  </tbody>\n</table>\n</div>"
     },
     "execution_count": 19,
     "metadata": {},
     "output_type": "execute_result"
    }
   ],
   "source": [
    "train_full.groupby('NumOfProducts').Exited.agg(['count', 'mean'])"
   ],
   "metadata": {
    "collapsed": false,
    "pycharm": {
     "name": "#%%\n"
    }
   }
  },
  {
   "cell_type": "code",
   "execution_count": 20,
   "outputs": [
    {
     "data": {
      "text/plain": "      RowNumber  CustomerId     Surname  CreditScore Geography  Gender  Age  \\\n6851       6852    15779103  Cantamessa          527   Germany  Female   39   \n7026       7027    15588123      Horton          677    France  Female   27   \n5705       5706    15698703     Doherty          628   Germany    Male   40   \n9058       9059    15802560       Moran          470     Spain  Female   48   \n9415       9416    15750407        Hunt          768   Germany  Female   43   \n\n      Tenure    Balance  NumOfProducts  HasCrCard  IsActiveMember  \\\n6851       9   96748.89              2          1               0   \n7026       2       0.00              2          0               1   \n5705       5  181768.32              2          1               1   \n9058       6  140576.11              1          1               1   \n9415       2  129264.05              2          0               0   \n\n      EstimatedSalary  Exited  \n6851         94711.43       0  \n7026        114685.92       0  \n5705        129107.97       0  \n9058        116971.05       0  \n9415         19150.14       0  ",
      "text/html": "<div>\n<style scoped>\n    .dataframe tbody tr th:only-of-type {\n        vertical-align: middle;\n    }\n\n    .dataframe tbody tr th {\n        vertical-align: top;\n    }\n\n    .dataframe thead th {\n        text-align: right;\n    }\n</style>\n<table border=\"1\" class=\"dataframe\">\n  <thead>\n    <tr style=\"text-align: right;\">\n      <th></th>\n      <th>RowNumber</th>\n      <th>CustomerId</th>\n      <th>Surname</th>\n      <th>CreditScore</th>\n      <th>Geography</th>\n      <th>Gender</th>\n      <th>Age</th>\n      <th>Tenure</th>\n      <th>Balance</th>\n      <th>NumOfProducts</th>\n      <th>HasCrCard</th>\n      <th>IsActiveMember</th>\n      <th>EstimatedSalary</th>\n      <th>Exited</th>\n    </tr>\n  </thead>\n  <tbody>\n    <tr>\n      <th>6851</th>\n      <td>6852</td>\n      <td>15779103</td>\n      <td>Cantamessa</td>\n      <td>527</td>\n      <td>Germany</td>\n      <td>Female</td>\n      <td>39</td>\n      <td>9</td>\n      <td>96748.89</td>\n      <td>2</td>\n      <td>1</td>\n      <td>0</td>\n      <td>94711.43</td>\n      <td>0</td>\n    </tr>\n    <tr>\n      <th>7026</th>\n      <td>7027</td>\n      <td>15588123</td>\n      <td>Horton</td>\n      <td>677</td>\n      <td>France</td>\n      <td>Female</td>\n      <td>27</td>\n      <td>2</td>\n      <td>0.00</td>\n      <td>2</td>\n      <td>0</td>\n      <td>1</td>\n      <td>114685.92</td>\n      <td>0</td>\n    </tr>\n    <tr>\n      <th>5705</th>\n      <td>5706</td>\n      <td>15698703</td>\n      <td>Doherty</td>\n      <td>628</td>\n      <td>Germany</td>\n      <td>Male</td>\n      <td>40</td>\n      <td>5</td>\n      <td>181768.32</td>\n      <td>2</td>\n      <td>1</td>\n      <td>1</td>\n      <td>129107.97</td>\n      <td>0</td>\n    </tr>\n    <tr>\n      <th>9058</th>\n      <td>9059</td>\n      <td>15802560</td>\n      <td>Moran</td>\n      <td>470</td>\n      <td>Spain</td>\n      <td>Female</td>\n      <td>48</td>\n      <td>6</td>\n      <td>140576.11</td>\n      <td>1</td>\n      <td>1</td>\n      <td>1</td>\n      <td>116971.05</td>\n      <td>0</td>\n    </tr>\n    <tr>\n      <th>9415</th>\n      <td>9416</td>\n      <td>15750407</td>\n      <td>Hunt</td>\n      <td>768</td>\n      <td>Germany</td>\n      <td>Female</td>\n      <td>43</td>\n      <td>2</td>\n      <td>129264.05</td>\n      <td>2</td>\n      <td>0</td>\n      <td>0</td>\n      <td>19150.14</td>\n      <td>0</td>\n    </tr>\n  </tbody>\n</table>\n</div>"
     },
     "execution_count": 20,
     "metadata": {},
     "output_type": "execute_result"
    }
   ],
   "source": [
    "train_full.head()"
   ],
   "metadata": {
    "collapsed": false,
    "pycharm": {
     "name": "#%%\n"
    }
   }
  },
  {
   "cell_type": "code",
   "execution_count": 21,
   "outputs": [],
   "source": [
    "model = train_full.groupby('NumOfProducts').Exited.mean().reset_index()"
   ],
   "metadata": {
    "collapsed": false,
    "pycharm": {
     "name": "#%%\n"
    }
   }
  },
  {
   "cell_type": "code",
   "execution_count": 22,
   "outputs": [
    {
     "data": {
      "text/plain": "   NumOfProducts    Exited\n0              1  0.275369\n1              2  0.077049\n2              3  0.826484\n3              4  1.000000",
      "text/html": "<div>\n<style scoped>\n    .dataframe tbody tr th:only-of-type {\n        vertical-align: middle;\n    }\n\n    .dataframe tbody tr th {\n        vertical-align: top;\n    }\n\n    .dataframe thead th {\n        text-align: right;\n    }\n</style>\n<table border=\"1\" class=\"dataframe\">\n  <thead>\n    <tr style=\"text-align: right;\">\n      <th></th>\n      <th>NumOfProducts</th>\n      <th>Exited</th>\n    </tr>\n  </thead>\n  <tbody>\n    <tr>\n      <th>0</th>\n      <td>1</td>\n      <td>0.275369</td>\n    </tr>\n    <tr>\n      <th>1</th>\n      <td>2</td>\n      <td>0.077049</td>\n    </tr>\n    <tr>\n      <th>2</th>\n      <td>3</td>\n      <td>0.826484</td>\n    </tr>\n    <tr>\n      <th>3</th>\n      <td>4</td>\n      <td>1.000000</td>\n    </tr>\n  </tbody>\n</table>\n</div>"
     },
     "execution_count": 22,
     "metadata": {},
     "output_type": "execute_result"
    }
   ],
   "source": [
    "model.head()"
   ],
   "metadata": {
    "collapsed": false,
    "pycharm": {
     "name": "#%%\n"
    }
   }
  },
  {
   "cell_type": "code",
   "execution_count": 23,
   "outputs": [],
   "source": [
    "model = model.rename({'Exited': 'score_prod'}, axis=1)"
   ],
   "metadata": {
    "collapsed": false,
    "pycharm": {
     "name": "#%%\n"
    }
   }
  },
  {
   "cell_type": "code",
   "source": [
    "model.head()"
   ],
   "metadata": {
    "collapsed": false,
    "pycharm": {
     "name": "#%%\n"
    }
   },
   "execution_count": 24,
   "outputs": [
    {
     "data": {
      "text/plain": "   NumOfProducts  score_prod\n0              1    0.275369\n1              2    0.077049\n2              3    0.826484\n3              4    1.000000",
      "text/html": "<div>\n<style scoped>\n    .dataframe tbody tr th:only-of-type {\n        vertical-align: middle;\n    }\n\n    .dataframe tbody tr th {\n        vertical-align: top;\n    }\n\n    .dataframe thead th {\n        text-align: right;\n    }\n</style>\n<table border=\"1\" class=\"dataframe\">\n  <thead>\n    <tr style=\"text-align: right;\">\n      <th></th>\n      <th>NumOfProducts</th>\n      <th>score_prod</th>\n    </tr>\n  </thead>\n  <tbody>\n    <tr>\n      <th>0</th>\n      <td>1</td>\n      <td>0.275369</td>\n    </tr>\n    <tr>\n      <th>1</th>\n      <td>2</td>\n      <td>0.077049</td>\n    </tr>\n    <tr>\n      <th>2</th>\n      <td>3</td>\n      <td>0.826484</td>\n    </tr>\n    <tr>\n      <th>3</th>\n      <td>4</td>\n      <td>1.000000</td>\n    </tr>\n  </tbody>\n</table>\n</div>"
     },
     "execution_count": 24,
     "metadata": {},
     "output_type": "execute_result"
    }
   ]
  },
  {
   "cell_type": "markdown",
   "source": [
    "Приджойним даблицу к фул трейн"
   ],
   "metadata": {
    "collapsed": false,
    "pycharm": {
     "name": "#%% md\n"
    }
   }
  },
  {
   "cell_type": "code",
   "execution_count": 25,
   "outputs": [],
   "source": [
    "train_full = train_full.merge(model, how='left', on='NumOfProducts')"
   ],
   "metadata": {
    "collapsed": false,
    "pycharm": {
     "name": "#%%\n"
    }
   }
  },
  {
   "cell_type": "code",
   "execution_count": 26,
   "outputs": [
    {
     "data": {
      "text/plain": "   RowNumber  CustomerId     Surname  CreditScore Geography  Gender  Age  \\\n0       6852    15779103  Cantamessa          527   Germany  Female   39   \n1       7027    15588123      Horton          677    France  Female   27   \n2       5706    15698703     Doherty          628   Germany    Male   40   \n3       9059    15802560       Moran          470     Spain  Female   48   \n4       9416    15750407        Hunt          768   Germany  Female   43   \n\n   Tenure    Balance  NumOfProducts  HasCrCard  IsActiveMember  \\\n0       9   96748.89              2          1               0   \n1       2       0.00              2          0               1   \n2       5  181768.32              2          1               1   \n3       6  140576.11              1          1               1   \n4       2  129264.05              2          0               0   \n\n   EstimatedSalary  Exited  score_prod  \n0         94711.43       0    0.077049  \n1        114685.92       0    0.077049  \n2        129107.97       0    0.077049  \n3        116971.05       0    0.275369  \n4         19150.14       0    0.077049  ",
      "text/html": "<div>\n<style scoped>\n    .dataframe tbody tr th:only-of-type {\n        vertical-align: middle;\n    }\n\n    .dataframe tbody tr th {\n        vertical-align: top;\n    }\n\n    .dataframe thead th {\n        text-align: right;\n    }\n</style>\n<table border=\"1\" class=\"dataframe\">\n  <thead>\n    <tr style=\"text-align: right;\">\n      <th></th>\n      <th>RowNumber</th>\n      <th>CustomerId</th>\n      <th>Surname</th>\n      <th>CreditScore</th>\n      <th>Geography</th>\n      <th>Gender</th>\n      <th>Age</th>\n      <th>Tenure</th>\n      <th>Balance</th>\n      <th>NumOfProducts</th>\n      <th>HasCrCard</th>\n      <th>IsActiveMember</th>\n      <th>EstimatedSalary</th>\n      <th>Exited</th>\n      <th>score_prod</th>\n    </tr>\n  </thead>\n  <tbody>\n    <tr>\n      <th>0</th>\n      <td>6852</td>\n      <td>15779103</td>\n      <td>Cantamessa</td>\n      <td>527</td>\n      <td>Germany</td>\n      <td>Female</td>\n      <td>39</td>\n      <td>9</td>\n      <td>96748.89</td>\n      <td>2</td>\n      <td>1</td>\n      <td>0</td>\n      <td>94711.43</td>\n      <td>0</td>\n      <td>0.077049</td>\n    </tr>\n    <tr>\n      <th>1</th>\n      <td>7027</td>\n      <td>15588123</td>\n      <td>Horton</td>\n      <td>677</td>\n      <td>France</td>\n      <td>Female</td>\n      <td>27</td>\n      <td>2</td>\n      <td>0.00</td>\n      <td>2</td>\n      <td>0</td>\n      <td>1</td>\n      <td>114685.92</td>\n      <td>0</td>\n      <td>0.077049</td>\n    </tr>\n    <tr>\n      <th>2</th>\n      <td>5706</td>\n      <td>15698703</td>\n      <td>Doherty</td>\n      <td>628</td>\n      <td>Germany</td>\n      <td>Male</td>\n      <td>40</td>\n      <td>5</td>\n      <td>181768.32</td>\n      <td>2</td>\n      <td>1</td>\n      <td>1</td>\n      <td>129107.97</td>\n      <td>0</td>\n      <td>0.077049</td>\n    </tr>\n    <tr>\n      <th>3</th>\n      <td>9059</td>\n      <td>15802560</td>\n      <td>Moran</td>\n      <td>470</td>\n      <td>Spain</td>\n      <td>Female</td>\n      <td>48</td>\n      <td>6</td>\n      <td>140576.11</td>\n      <td>1</td>\n      <td>1</td>\n      <td>1</td>\n      <td>116971.05</td>\n      <td>0</td>\n      <td>0.275369</td>\n    </tr>\n    <tr>\n      <th>4</th>\n      <td>9416</td>\n      <td>15750407</td>\n      <td>Hunt</td>\n      <td>768</td>\n      <td>Germany</td>\n      <td>Female</td>\n      <td>43</td>\n      <td>2</td>\n      <td>129264.05</td>\n      <td>2</td>\n      <td>0</td>\n      <td>0</td>\n      <td>19150.14</td>\n      <td>0</td>\n      <td>0.077049</td>\n    </tr>\n  </tbody>\n</table>\n</div>"
     },
     "execution_count": 26,
     "metadata": {},
     "output_type": "execute_result"
    }
   ],
   "source": [
    "train_full.head()"
   ],
   "metadata": {
    "collapsed": false,
    "pycharm": {
     "name": "#%%\n"
    }
   }
  },
  {
   "cell_type": "markdown",
   "source": [
    "На фул трейне получим те же цифры, т.к. мы на них и обучались"
   ],
   "metadata": {
    "collapsed": false,
    "pycharm": {
     "name": "#%% md\n"
    }
   }
  },
  {
   "cell_type": "code",
   "execution_count": 27,
   "outputs": [
    {
     "data": {
      "text/plain": "            count      mean\nscore_prod                 \n0.077049     3673  0.077049\n0.275369     4060  0.275369\n0.826484      219  0.826484\n1.000000       48  1.000000",
      "text/html": "<div>\n<style scoped>\n    .dataframe tbody tr th:only-of-type {\n        vertical-align: middle;\n    }\n\n    .dataframe tbody tr th {\n        vertical-align: top;\n    }\n\n    .dataframe thead th {\n        text-align: right;\n    }\n</style>\n<table border=\"1\" class=\"dataframe\">\n  <thead>\n    <tr style=\"text-align: right;\">\n      <th></th>\n      <th>count</th>\n      <th>mean</th>\n    </tr>\n    <tr>\n      <th>score_prod</th>\n      <th></th>\n      <th></th>\n    </tr>\n  </thead>\n  <tbody>\n    <tr>\n      <th>0.077049</th>\n      <td>3673</td>\n      <td>0.077049</td>\n    </tr>\n    <tr>\n      <th>0.275369</th>\n      <td>4060</td>\n      <td>0.275369</td>\n    </tr>\n    <tr>\n      <th>0.826484</th>\n      <td>219</td>\n      <td>0.826484</td>\n    </tr>\n    <tr>\n      <th>1.000000</th>\n      <td>48</td>\n      <td>1.000000</td>\n    </tr>\n  </tbody>\n</table>\n</div>"
     },
     "execution_count": 27,
     "metadata": {},
     "output_type": "execute_result"
    }
   ],
   "source": [
    "train_full.groupby('score_prod').Exited.agg(['count', 'mean'])"
   ],
   "metadata": {
    "collapsed": false,
    "pycharm": {
     "name": "#%%\n"
    }
   }
  },
  {
   "cell_type": "markdown",
   "source": [
    "Для того, чтобы выбрать 0 или 1 в target из scor`a нужно придумать (выбрать) какое нибудь отсечение"
   ],
   "metadata": {
    "collapsed": false,
    "pycharm": {
     "name": "#%% md\n"
    }
   }
  },
  {
   "cell_type": "markdown",
   "source": [
    "## Baseline"
   ],
   "metadata": {
    "collapsed": false,
    "pycharm": {
     "name": "#%% md\n"
    }
   }
  },
  {
   "cell_type": "markdown",
   "source": [
    "Для бейзлайна возьмём среднее\n",
    "Это будет доля клиентов, которые оттекли"
   ],
   "metadata": {
    "collapsed": false,
    "pycharm": {
     "name": "#%% md\n"
    }
   }
  },
  {
   "cell_type": "markdown",
   "source": [
    "Вероятность того, что клиент оттечёт 20.3% по всей выборке"
   ],
   "metadata": {
    "collapsed": false,
    "pycharm": {
     "name": "#%% md\n"
    }
   }
  },
  {
   "cell_type": "code",
   "execution_count": 28,
   "outputs": [],
   "source": [
    "train_full['score_mean'] = train_full.Exited.mean()"
   ],
   "metadata": {
    "collapsed": false,
    "pycharm": {
     "name": "#%%\n"
    }
   }
  },
  {
   "cell_type": "code",
   "execution_count": 29,
   "outputs": [
    {
     "data": {
      "text/plain": "   RowNumber  CustomerId     Surname  CreditScore Geography  Gender  Age  \\\n0       6852    15779103  Cantamessa          527   Germany  Female   39   \n1       7027    15588123      Horton          677    France  Female   27   \n2       5706    15698703     Doherty          628   Germany    Male   40   \n3       9059    15802560       Moran          470     Spain  Female   48   \n4       9416    15750407        Hunt          768   Germany  Female   43   \n\n   Tenure    Balance  NumOfProducts  HasCrCard  IsActiveMember  \\\n0       9   96748.89              2          1               0   \n1       2       0.00              2          0               1   \n2       5  181768.32              2          1               1   \n3       6  140576.11              1          1               1   \n4       2  129264.05              2          0               0   \n\n   EstimatedSalary  Exited  score_prod  score_mean  \n0         94711.43       0    0.077049     0.20375  \n1        114685.92       0    0.077049     0.20375  \n2        129107.97       0    0.077049     0.20375  \n3        116971.05       0    0.275369     0.20375  \n4         19150.14       0    0.077049     0.20375  ",
      "text/html": "<div>\n<style scoped>\n    .dataframe tbody tr th:only-of-type {\n        vertical-align: middle;\n    }\n\n    .dataframe tbody tr th {\n        vertical-align: top;\n    }\n\n    .dataframe thead th {\n        text-align: right;\n    }\n</style>\n<table border=\"1\" class=\"dataframe\">\n  <thead>\n    <tr style=\"text-align: right;\">\n      <th></th>\n      <th>RowNumber</th>\n      <th>CustomerId</th>\n      <th>Surname</th>\n      <th>CreditScore</th>\n      <th>Geography</th>\n      <th>Gender</th>\n      <th>Age</th>\n      <th>Tenure</th>\n      <th>Balance</th>\n      <th>NumOfProducts</th>\n      <th>HasCrCard</th>\n      <th>IsActiveMember</th>\n      <th>EstimatedSalary</th>\n      <th>Exited</th>\n      <th>score_prod</th>\n      <th>score_mean</th>\n    </tr>\n  </thead>\n  <tbody>\n    <tr>\n      <th>0</th>\n      <td>6852</td>\n      <td>15779103</td>\n      <td>Cantamessa</td>\n      <td>527</td>\n      <td>Germany</td>\n      <td>Female</td>\n      <td>39</td>\n      <td>9</td>\n      <td>96748.89</td>\n      <td>2</td>\n      <td>1</td>\n      <td>0</td>\n      <td>94711.43</td>\n      <td>0</td>\n      <td>0.077049</td>\n      <td>0.20375</td>\n    </tr>\n    <tr>\n      <th>1</th>\n      <td>7027</td>\n      <td>15588123</td>\n      <td>Horton</td>\n      <td>677</td>\n      <td>France</td>\n      <td>Female</td>\n      <td>27</td>\n      <td>2</td>\n      <td>0.00</td>\n      <td>2</td>\n      <td>0</td>\n      <td>1</td>\n      <td>114685.92</td>\n      <td>0</td>\n      <td>0.077049</td>\n      <td>0.20375</td>\n    </tr>\n    <tr>\n      <th>2</th>\n      <td>5706</td>\n      <td>15698703</td>\n      <td>Doherty</td>\n      <td>628</td>\n      <td>Germany</td>\n      <td>Male</td>\n      <td>40</td>\n      <td>5</td>\n      <td>181768.32</td>\n      <td>2</td>\n      <td>1</td>\n      <td>1</td>\n      <td>129107.97</td>\n      <td>0</td>\n      <td>0.077049</td>\n      <td>0.20375</td>\n    </tr>\n    <tr>\n      <th>3</th>\n      <td>9059</td>\n      <td>15802560</td>\n      <td>Moran</td>\n      <td>470</td>\n      <td>Spain</td>\n      <td>Female</td>\n      <td>48</td>\n      <td>6</td>\n      <td>140576.11</td>\n      <td>1</td>\n      <td>1</td>\n      <td>1</td>\n      <td>116971.05</td>\n      <td>0</td>\n      <td>0.275369</td>\n      <td>0.20375</td>\n    </tr>\n    <tr>\n      <th>4</th>\n      <td>9416</td>\n      <td>15750407</td>\n      <td>Hunt</td>\n      <td>768</td>\n      <td>Germany</td>\n      <td>Female</td>\n      <td>43</td>\n      <td>2</td>\n      <td>129264.05</td>\n      <td>2</td>\n      <td>0</td>\n      <td>0</td>\n      <td>19150.14</td>\n      <td>0</td>\n      <td>0.077049</td>\n      <td>0.20375</td>\n    </tr>\n  </tbody>\n</table>\n</div>"
     },
     "execution_count": 29,
     "metadata": {},
     "output_type": "execute_result"
    }
   ],
   "source": [
    "train_full.head()"
   ],
   "metadata": {
    "collapsed": false,
    "pycharm": {
     "name": "#%%\n"
    }
   }
  },
  {
   "cell_type": "markdown",
   "source": [
    "Метрика log loss не интерпретируется, по этому данная метрика редко используется для анализа моделей, чаще используется для оптимизации (поиска минимума функции ошибки)"
   ],
   "metadata": {
    "collapsed": false,
    "pycharm": {
     "name": "#%% md\n"
    }
   }
  },
  {
   "cell_type": "code",
   "execution_count": 30,
   "outputs": [],
   "source": [
    "from sklearn.metrics import log_loss"
   ],
   "metadata": {
    "collapsed": false,
    "pycharm": {
     "name": "#%%\n"
    }
   }
  },
  {
   "cell_type": "markdown",
   "source": [
    "посчитаем логлос на основе средней ошибки"
   ],
   "metadata": {
    "collapsed": false,
    "pycharm": {
     "name": "#%% md\n"
    }
   }
  },
  {
   "cell_type": "code",
   "execution_count": 31,
   "outputs": [
    {
     "data": {
      "text/plain": "0.5055572860042145"
     },
     "execution_count": 31,
     "metadata": {},
     "output_type": "execute_result"
    }
   ],
   "source": [
    "log_loss(train_full.Exited, train_full.score_mean)"
   ],
   "metadata": {
    "collapsed": false,
    "pycharm": {
     "name": "#%%\n"
    }
   }
  },
  {
   "cell_type": "code",
   "execution_count": 32,
   "outputs": [
    {
     "data": {
      "text/plain": "0.4359616823203511"
     },
     "execution_count": 32,
     "metadata": {},
     "output_type": "execute_result"
    }
   ],
   "source": [
    "log_loss(train_full.Exited, train_full.score_prod)"
   ],
   "metadata": {
    "collapsed": false,
    "pycharm": {
     "name": "#%%\n"
    }
   }
  },
  {
   "cell_type": "markdown",
   "source": [
    "Ошибка score prod меньше и лучше чем baseline"
   ],
   "metadata": {
    "collapsed": false,
    "pycharm": {
     "name": "#%% md\n"
    }
   }
  },
  {
   "cell_type": "markdown",
   "source": [
    "## Uplift"
   ],
   "metadata": {
    "collapsed": false,
    "pycharm": {
     "name": "#%% md\n"
    }
   }
  },
  {
   "cell_type": "code",
   "execution_count": 33,
   "outputs": [
    {
     "data": {
      "text/plain": "   RowNumber  CustomerId     Surname  CreditScore Geography  Gender  Age  \\\n0       6852    15779103  Cantamessa          527   Germany  Female   39   \n1       7027    15588123      Horton          677    France  Female   27   \n2       5706    15698703     Doherty          628   Germany    Male   40   \n3       9059    15802560       Moran          470     Spain  Female   48   \n4       9416    15750407        Hunt          768   Germany  Female   43   \n\n   Tenure    Balance  NumOfProducts  HasCrCard  IsActiveMember  \\\n0       9   96748.89              2          1               0   \n1       2       0.00              2          0               1   \n2       5  181768.32              2          1               1   \n3       6  140576.11              1          1               1   \n4       2  129264.05              2          0               0   \n\n   EstimatedSalary  Exited  score_prod  score_mean  \n0         94711.43       0    0.077049     0.20375  \n1        114685.92       0    0.077049     0.20375  \n2        129107.97       0    0.077049     0.20375  \n3        116971.05       0    0.275369     0.20375  \n4         19150.14       0    0.077049     0.20375  ",
      "text/html": "<div>\n<style scoped>\n    .dataframe tbody tr th:only-of-type {\n        vertical-align: middle;\n    }\n\n    .dataframe tbody tr th {\n        vertical-align: top;\n    }\n\n    .dataframe thead th {\n        text-align: right;\n    }\n</style>\n<table border=\"1\" class=\"dataframe\">\n  <thead>\n    <tr style=\"text-align: right;\">\n      <th></th>\n      <th>RowNumber</th>\n      <th>CustomerId</th>\n      <th>Surname</th>\n      <th>CreditScore</th>\n      <th>Geography</th>\n      <th>Gender</th>\n      <th>Age</th>\n      <th>Tenure</th>\n      <th>Balance</th>\n      <th>NumOfProducts</th>\n      <th>HasCrCard</th>\n      <th>IsActiveMember</th>\n      <th>EstimatedSalary</th>\n      <th>Exited</th>\n      <th>score_prod</th>\n      <th>score_mean</th>\n    </tr>\n  </thead>\n  <tbody>\n    <tr>\n      <th>0</th>\n      <td>6852</td>\n      <td>15779103</td>\n      <td>Cantamessa</td>\n      <td>527</td>\n      <td>Germany</td>\n      <td>Female</td>\n      <td>39</td>\n      <td>9</td>\n      <td>96748.89</td>\n      <td>2</td>\n      <td>1</td>\n      <td>0</td>\n      <td>94711.43</td>\n      <td>0</td>\n      <td>0.077049</td>\n      <td>0.20375</td>\n    </tr>\n    <tr>\n      <th>1</th>\n      <td>7027</td>\n      <td>15588123</td>\n      <td>Horton</td>\n      <td>677</td>\n      <td>France</td>\n      <td>Female</td>\n      <td>27</td>\n      <td>2</td>\n      <td>0.00</td>\n      <td>2</td>\n      <td>0</td>\n      <td>1</td>\n      <td>114685.92</td>\n      <td>0</td>\n      <td>0.077049</td>\n      <td>0.20375</td>\n    </tr>\n    <tr>\n      <th>2</th>\n      <td>5706</td>\n      <td>15698703</td>\n      <td>Doherty</td>\n      <td>628</td>\n      <td>Germany</td>\n      <td>Male</td>\n      <td>40</td>\n      <td>5</td>\n      <td>181768.32</td>\n      <td>2</td>\n      <td>1</td>\n      <td>1</td>\n      <td>129107.97</td>\n      <td>0</td>\n      <td>0.077049</td>\n      <td>0.20375</td>\n    </tr>\n    <tr>\n      <th>3</th>\n      <td>9059</td>\n      <td>15802560</td>\n      <td>Moran</td>\n      <td>470</td>\n      <td>Spain</td>\n      <td>Female</td>\n      <td>48</td>\n      <td>6</td>\n      <td>140576.11</td>\n      <td>1</td>\n      <td>1</td>\n      <td>1</td>\n      <td>116971.05</td>\n      <td>0</td>\n      <td>0.275369</td>\n      <td>0.20375</td>\n    </tr>\n    <tr>\n      <th>4</th>\n      <td>9416</td>\n      <td>15750407</td>\n      <td>Hunt</td>\n      <td>768</td>\n      <td>Germany</td>\n      <td>Female</td>\n      <td>43</td>\n      <td>2</td>\n      <td>129264.05</td>\n      <td>2</td>\n      <td>0</td>\n      <td>0</td>\n      <td>19150.14</td>\n      <td>0</td>\n      <td>0.077049</td>\n      <td>0.20375</td>\n    </tr>\n  </tbody>\n</table>\n</div>"
     },
     "execution_count": 33,
     "metadata": {},
     "output_type": "execute_result"
    }
   ],
   "source": [
    "train_full.head()"
   ],
   "metadata": {
    "collapsed": false,
    "pycharm": {
     "name": "#%%\n"
    }
   }
  },
  {
   "cell_type": "markdown",
   "source": [
    "Средний отток во всей выборке ≈20%"
   ],
   "metadata": {
    "collapsed": false,
    "pycharm": {
     "name": "#%% md\n"
    }
   }
  },
  {
   "cell_type": "code",
   "execution_count": 34,
   "outputs": [
    {
     "data": {
      "text/plain": "0.20375"
     },
     "execution_count": 34,
     "metadata": {},
     "output_type": "execute_result"
    }
   ],
   "source": [
    "train_full.Exited.mean()"
   ],
   "metadata": {
    "collapsed": false,
    "pycharm": {
     "name": "#%%\n"
    }
   }
  },
  {
   "cell_type": "markdown",
   "source": [
    "Средний отток по случайным 10% от выборки"
   ],
   "metadata": {
    "collapsed": false,
    "pycharm": {
     "name": "#%% md\n"
    }
   }
  },
  {
   "cell_type": "code",
   "execution_count": 35,
   "outputs": [
    {
     "data": {
      "text/plain": "0.20625"
     },
     "execution_count": 35,
     "metadata": {},
     "output_type": "execute_result"
    }
   ],
   "source": [
    "train_full.Exited.sample(frac=0.1, random_state=42).mean()"
   ],
   "metadata": {
    "collapsed": false,
    "pycharm": {
     "name": "#%%\n"
    }
   }
  },
  {
   "cell_type": "markdown",
   "source": [
    "Средний ототок по 20%, 30%, 50% выборки"
   ],
   "metadata": {
    "collapsed": false,
    "pycharm": {
     "name": "#%% md\n"
    }
   }
  },
  {
   "cell_type": "markdown",
   "source": [
    "Средний отток по случайной подвыборке будет всегда +- 20% т.к. во всей выборке средний отток 20%"
   ],
   "metadata": {
    "collapsed": false,
    "pycharm": {
     "name": "#%% md\n"
    }
   }
  },
  {
   "cell_type": "code",
   "execution_count": 36,
   "outputs": [
    {
     "data": {
      "text/plain": "(0.210625, 0.20333333333333334, 0.20675)"
     },
     "execution_count": 36,
     "metadata": {},
     "output_type": "execute_result"
    }
   ],
   "source": [
    "train_full.Exited.sample(frac=0.2, random_state=42).mean(), train_full.Exited.sample(frac=0.3, random_state=42).mean(), train_full.Exited.sample(frac=0.5, random_state=42).mean()"
   ],
   "metadata": {
    "collapsed": false,
    "pycharm": {
     "name": "#%%\n"
    }
   }
  },
  {
   "cell_type": "markdown",
   "source": [
    "всего в выборке отточных клиентов:"
   ],
   "metadata": {
    "collapsed": false,
    "pycharm": {
     "name": "#%% md\n"
    }
   }
  },
  {
   "cell_type": "code",
   "execution_count": 37,
   "outputs": [],
   "source": [
    "exited_all = train_full.Exited.sum()"
   ],
   "metadata": {
    "collapsed": false,
    "pycharm": {
     "name": "#%%\n"
    }
   }
  },
  {
   "cell_type": "code",
   "execution_count": 38,
   "outputs": [
    {
     "data": {
      "text/plain": "1630"
     },
     "execution_count": 38,
     "metadata": {},
     "output_type": "execute_result"
    }
   ],
   "source": [
    "exited_all"
   ],
   "metadata": {
    "collapsed": false,
    "pycharm": {
     "name": "#%%\n"
    }
   }
  },
  {
   "cell_type": "markdown",
   "source": [
    "Можно замерить какой процент оттока будет в каждой подвыборке.\n",
    "Получается что в 20% случайной подвыборке 337 отточных пользователей"
   ],
   "metadata": {
    "collapsed": false
   }
  },
  {
   "cell_type": "code",
   "execution_count": 39,
   "outputs": [
    {
     "data": {
      "text/plain": "337"
     },
     "execution_count": 39,
     "metadata": {},
     "output_type": "execute_result"
    }
   ],
   "source": [
    "train_full.Exited.sample(frac=0.2, random_state=42).sum()"
   ],
   "metadata": {
    "collapsed": false,
    "pycharm": {
     "name": "#%%\n"
    }
   }
  },
  {
   "cell_type": "markdown",
   "source": [
    "Если взять 20% выборки и поделить на количество отточных пользователей в ней, то получится тоже 20%"
   ],
   "metadata": {
    "collapsed": false,
    "pycharm": {
     "name": "#%% md\n"
    }
   }
  },
  {
   "cell_type": "code",
   "execution_count": 40,
   "outputs": [
    {
     "data": {
      "text/plain": "0.2067484662576687"
     },
     "execution_count": 40,
     "metadata": {},
     "output_type": "execute_result"
    }
   ],
   "source": [
    "train_full.Exited.sample(frac=0.2, random_state=42).sum() / exited_all"
   ],
   "metadata": {
    "collapsed": false,
    "pycharm": {
     "name": "#%%\n"
    }
   }
  },
  {
   "cell_type": "markdown",
   "source": [
    "##### !!! Доля отточников при случайной сортировке пропорциональна размеру выборки !!!\n",
    "такая сортировка не даёт никакого профита"
   ],
   "metadata": {
    "collapsed": false,
    "pycharm": {
     "name": "#%% md\n"
    }
   }
  },
  {
   "cell_type": "markdown",
   "source": [
    "Отсортируем клиентов по scor`у"
   ],
   "metadata": {
    "collapsed": false,
    "pycharm": {
     "name": "#%% md\n"
    }
   }
  },
  {
   "cell_type": "code",
   "execution_count": 41,
   "outputs": [],
   "source": [
    "train_full = train_full.sort_values('score_prod', ascending=False)"
   ],
   "metadata": {
    "collapsed": false,
    "pycharm": {
     "name": "#%%\n"
    }
   }
  },
  {
   "cell_type": "markdown",
   "source": [
    "Возьмём 20% из всей выборки"
   ],
   "metadata": {
    "collapsed": false,
    "pycharm": {
     "name": "#%% md\n"
    }
   }
  },
  {
   "cell_type": "code",
   "execution_count": 42,
   "outputs": [
    {
     "data": {
      "text/plain": "1600"
     },
     "execution_count": 42,
     "metadata": {},
     "output_type": "execute_result"
    }
   ],
   "source": [
    "round(len(train_full) * 0.2)"
   ],
   "metadata": {
    "collapsed": false,
    "pycharm": {
     "name": "#%%\n"
    }
   }
  },
  {
   "cell_type": "markdown",
   "source": [
    "Суммарное количество отточников в верхних 20%"
   ],
   "metadata": {
    "collapsed": false,
    "pycharm": {
     "name": "#%% md\n"
    }
   }
  },
  {
   "cell_type": "code",
   "execution_count": 43,
   "outputs": [
    {
     "data": {
      "text/plain": "583"
     },
     "execution_count": 43,
     "metadata": {},
     "output_type": "execute_result"
    }
   ],
   "source": [
    "train_full.head(round(len(train_full) * 0.2)).Exited.sum()"
   ],
   "metadata": {
    "collapsed": false,
    "pycharm": {
     "name": "#%%\n"
    }
   }
  },
  {
   "cell_type": "markdown",
   "source": [
    "Процент отточников в верхних 20% выборки - выше 35% провтив 20% в случайной подвыборке"
   ],
   "metadata": {
    "collapsed": false,
    "pycharm": {
     "name": "#%% md\n"
    }
   }
  },
  {
   "cell_type": "code",
   "execution_count": 44,
   "outputs": [
    {
     "data": {
      "text/plain": "0.3576687116564417"
     },
     "execution_count": 44,
     "metadata": {},
     "output_type": "execute_result"
    }
   ],
   "source": [
    "train_full.head(round(len(train_full) * 0.2)).Exited.sum() / exited_all"
   ],
   "metadata": {
    "collapsed": false,
    "pycharm": {
     "name": "#%%\n"
    }
   }
  },
  {
   "cell_type": "markdown",
   "source": [
    "Посчитаем Uplift: ≈35% / ≈20%\n",
    "Получается, что данный uplift лучше чем рандом в 1.75 раз"
   ],
   "metadata": {
    "collapsed": false,
    "pycharm": {
     "name": "#%% md\n"
    }
   }
  },
  {
   "cell_type": "code",
   "execution_count": 45,
   "outputs": [
    {
     "data": {
      "text/plain": "1.7560240963855422"
     },
     "execution_count": 45,
     "metadata": {},
     "output_type": "execute_result"
    }
   ],
   "source": [
    "(train_full.head(round(len(train_full) * 0.2)).Exited.sum() / exited_all) / (train_full.Exited.sample(frac=0.2, random_state=42).sum() / exited_all)"
   ],
   "metadata": {
    "collapsed": false,
    "pycharm": {
     "name": "#%%\n"
    }
   }
  },
  {
   "cell_type": "markdown",
   "source": [
    "## Добавим шум"
   ],
   "metadata": {
    "collapsed": false,
    "pycharm": {
     "name": "#%% md\n"
    }
   }
  },
  {
   "cell_type": "code",
   "execution_count": 46,
   "outputs": [],
   "source": [
    "import numpy as np"
   ],
   "metadata": {
    "collapsed": false,
    "pycharm": {
     "name": "#%%\n"
    }
   }
  },
  {
   "cell_type": "code",
   "execution_count": 47,
   "outputs": [
    {
     "data": {
      "text/plain": "array([0.00037454, 0.00095071, 0.00073199, ..., 0.00045533, 0.00090844,\n       0.00010448])"
     },
     "execution_count": 47,
     "metadata": {},
     "output_type": "execute_result"
    }
   ],
   "source": [
    "np.random.seed(42)  # Фиксируем случайность\n",
    "np.random.uniform(0, 0.001, size=len(train_full))  # распределение шума от 0 до 0.001"
   ],
   "metadata": {
    "collapsed": false,
    "pycharm": {
     "name": "#%%\n"
    }
   }
  },
  {
   "cell_type": "markdown",
   "source": [
    "В скоре прод - 4 уникальных значения"
   ],
   "metadata": {
    "collapsed": false,
    "pycharm": {
     "name": "#%% md\n"
    }
   }
  },
  {
   "cell_type": "code",
   "execution_count": 48,
   "outputs": [
    {
     "data": {
      "text/plain": "4"
     },
     "execution_count": 48,
     "metadata": {},
     "output_type": "execute_result"
    }
   ],
   "source": [
    "train_full.score_prod.nunique()"
   ],
   "metadata": {
    "collapsed": false,
    "pycharm": {
     "name": "#%%\n"
    }
   }
  },
  {
   "cell_type": "markdown",
   "source": [
    "Внесём шум в данные"
   ],
   "metadata": {
    "collapsed": false
   }
  },
  {
   "cell_type": "code",
   "execution_count": 49,
   "outputs": [],
   "source": [
    "np.random.seed(42)\n",
    "train_full['score_prod'] = train_full['score_prod'] - np.random.uniform(0, 0.001, size=len(train_full))"
   ],
   "metadata": {
    "collapsed": false,
    "pycharm": {
     "name": "#%%\n"
    }
   }
  },
  {
   "cell_type": "code",
   "execution_count": 50,
   "outputs": [
    {
     "data": {
      "text/plain": "      RowNumber  CustomerId     Surname  CreditScore Geography  Gender  Age  \\\n6946       6876    15665283     Brookes          610    France  Female   57   \n1245       3153    15724161      Sutton          644    France  Female   40   \n7056       2542    15679770       Smith          611    France  Female   61   \n7847       1702    15605279     Francis          792    France    Male   50   \n693        7568    15750545  Chidiebere          629    France    Male   44   \n\n      Tenure    Balance  NumOfProducts  HasCrCard  IsActiveMember  \\\n6946       7   72092.95              4          0               1   \n1245       9  137285.26              4          1               0   \n7056       3  131583.59              4          0               1   \n7847       9       0.00              4          1               1   \n693        5       0.00              4          0               0   \n\n      EstimatedSalary  Exited  score_prod  score_mean  \n6946        113228.82       1    0.999625     0.20375  \n1245         77063.63       1    0.999049     0.20375  \n7056         66238.23       1    0.999268     0.20375  \n7847        194700.81       1    0.999401     0.20375  \n693         117572.59       1    0.999844     0.20375  ",
      "text/html": "<div>\n<style scoped>\n    .dataframe tbody tr th:only-of-type {\n        vertical-align: middle;\n    }\n\n    .dataframe tbody tr th {\n        vertical-align: top;\n    }\n\n    .dataframe thead th {\n        text-align: right;\n    }\n</style>\n<table border=\"1\" class=\"dataframe\">\n  <thead>\n    <tr style=\"text-align: right;\">\n      <th></th>\n      <th>RowNumber</th>\n      <th>CustomerId</th>\n      <th>Surname</th>\n      <th>CreditScore</th>\n      <th>Geography</th>\n      <th>Gender</th>\n      <th>Age</th>\n      <th>Tenure</th>\n      <th>Balance</th>\n      <th>NumOfProducts</th>\n      <th>HasCrCard</th>\n      <th>IsActiveMember</th>\n      <th>EstimatedSalary</th>\n      <th>Exited</th>\n      <th>score_prod</th>\n      <th>score_mean</th>\n    </tr>\n  </thead>\n  <tbody>\n    <tr>\n      <th>6946</th>\n      <td>6876</td>\n      <td>15665283</td>\n      <td>Brookes</td>\n      <td>610</td>\n      <td>France</td>\n      <td>Female</td>\n      <td>57</td>\n      <td>7</td>\n      <td>72092.95</td>\n      <td>4</td>\n      <td>0</td>\n      <td>1</td>\n      <td>113228.82</td>\n      <td>1</td>\n      <td>0.999625</td>\n      <td>0.20375</td>\n    </tr>\n    <tr>\n      <th>1245</th>\n      <td>3153</td>\n      <td>15724161</td>\n      <td>Sutton</td>\n      <td>644</td>\n      <td>France</td>\n      <td>Female</td>\n      <td>40</td>\n      <td>9</td>\n      <td>137285.26</td>\n      <td>4</td>\n      <td>1</td>\n      <td>0</td>\n      <td>77063.63</td>\n      <td>1</td>\n      <td>0.999049</td>\n      <td>0.20375</td>\n    </tr>\n    <tr>\n      <th>7056</th>\n      <td>2542</td>\n      <td>15679770</td>\n      <td>Smith</td>\n      <td>611</td>\n      <td>France</td>\n      <td>Female</td>\n      <td>61</td>\n      <td>3</td>\n      <td>131583.59</td>\n      <td>4</td>\n      <td>0</td>\n      <td>1</td>\n      <td>66238.23</td>\n      <td>1</td>\n      <td>0.999268</td>\n      <td>0.20375</td>\n    </tr>\n    <tr>\n      <th>7847</th>\n      <td>1702</td>\n      <td>15605279</td>\n      <td>Francis</td>\n      <td>792</td>\n      <td>France</td>\n      <td>Male</td>\n      <td>50</td>\n      <td>9</td>\n      <td>0.00</td>\n      <td>4</td>\n      <td>1</td>\n      <td>1</td>\n      <td>194700.81</td>\n      <td>1</td>\n      <td>0.999401</td>\n      <td>0.20375</td>\n    </tr>\n    <tr>\n      <th>693</th>\n      <td>7568</td>\n      <td>15750545</td>\n      <td>Chidiebere</td>\n      <td>629</td>\n      <td>France</td>\n      <td>Male</td>\n      <td>44</td>\n      <td>5</td>\n      <td>0.00</td>\n      <td>4</td>\n      <td>0</td>\n      <td>0</td>\n      <td>117572.59</td>\n      <td>1</td>\n      <td>0.999844</td>\n      <td>0.20375</td>\n    </tr>\n  </tbody>\n</table>\n</div>"
     },
     "execution_count": 50,
     "metadata": {},
     "output_type": "execute_result"
    }
   ],
   "source": [
    "train_full.head()"
   ],
   "metadata": {
    "collapsed": false,
    "pycharm": {
     "name": "#%%\n"
    }
   }
  },
  {
   "cell_type": "markdown",
   "source": [
    "Теперь в скоре прод ВСЕ значения - искусственно уникальные"
   ],
   "metadata": {
    "collapsed": false,
    "pycharm": {
     "name": "#%% md\n"
    }
   }
  },
  {
   "cell_type": "code",
   "execution_count": 51,
   "outputs": [
    {
     "data": {
      "text/plain": "8000"
     },
     "execution_count": 51,
     "metadata": {},
     "output_type": "execute_result"
    }
   ],
   "source": [
    "train_full.score_prod.nunique()"
   ],
   "metadata": {
    "collapsed": false,
    "pycharm": {
     "name": "#%%\n"
    }
   }
  },
  {
   "cell_type": "markdown",
   "source": [
    "## Функция для uplift"
   ],
   "metadata": {
    "collapsed": false,
    "pycharm": {
     "name": "#%% md\n"
    }
   }
  },
  {
   "cell_type": "code",
   "execution_count": 53,
   "outputs": [],
   "source": [
    "def uplift(df, score, pct):\n",
    "    exited_all = df.Exited.sum()\n",
    "    df = df.sort_values(score, ascending=False)\n",
    "    exited_found = df.head(round(len(df) * pct)).Exited.sum()\n",
    "    return (exited_found / exited_all) / pct"
   ],
   "metadata": {
    "collapsed": false,
    "pycharm": {
     "name": "#%%\n"
    }
   }
  },
  {
   "cell_type": "code",
   "execution_count": 54,
   "outputs": [
    {
     "data": {
      "text/plain": "1.9079754601226995"
     },
     "execution_count": 54,
     "metadata": {},
     "output_type": "execute_result"
    }
   ],
   "source": [
    "uplift(train_full, 'score_prod', 0.2)"
   ],
   "metadata": {
    "collapsed": false,
    "pycharm": {
     "name": "#%%\n"
    }
   }
  },
  {
   "cell_type": "markdown",
   "source": [
    "Проверим Uplift, на уже известных значениях"
   ],
   "metadata": {
    "collapsed": false
   }
  },
  {
   "cell_type": "code",
   "execution_count": 65,
   "outputs": [],
   "source": [
    "exited_all = train_full.Exited.sum()"
   ],
   "metadata": {
    "collapsed": false,
    "pycharm": {
     "name": "#%%\n"
    }
   }
  },
  {
   "cell_type": "code",
   "execution_count": 71,
   "outputs": [],
   "source": [
    "train_full = train_full.sort_values('score_prod', ascending=False)"
   ],
   "metadata": {
    "collapsed": false,
    "pycharm": {
     "name": "#%%\n"
    }
   }
  },
  {
   "cell_type": "code",
   "execution_count": 74,
   "outputs": [
    {
     "data": {
      "text/plain": "0.3815950920245399"
     },
     "execution_count": 74,
     "metadata": {},
     "output_type": "execute_result"
    }
   ],
   "source": [
    "train_full.head(round(len(train_full) * 0.2)).Exited.sum() / exited_all"
   ],
   "metadata": {
    "collapsed": false,
    "pycharm": {
     "name": "#%%\n"
    }
   }
  },
  {
   "cell_type": "code",
   "execution_count": 76,
   "outputs": [
    {
     "data": {
      "text/plain": "1.9079754601226995"
     },
     "execution_count": 76,
     "metadata": {},
     "output_type": "execute_result"
    }
   ],
   "source": [
    "train_full.head(round(len(train_full) * 0.2)).Exited.sum() / exited_all / 0.2"
   ],
   "metadata": {
    "collapsed": false,
    "pycharm": {
     "name": "#%%\n"
    }
   }
  },
  {
   "cell_type": "markdown",
   "source": [
    "Проверим Uplift для теста"
   ],
   "metadata": {
    "collapsed": false,
    "pycharm": {
     "name": "#%% md\n"
    }
   }
  },
  {
   "cell_type": "code",
   "execution_count": 79,
   "outputs": [],
   "source": [
    "test = test.merge(model, on='NumOfProducts', how='left')"
   ],
   "metadata": {
    "collapsed": false,
    "pycharm": {
     "name": "#%%\n"
    }
   }
  },
  {
   "cell_type": "code",
   "execution_count": 81,
   "outputs": [
    {
     "data": {
      "text/plain": "   RowNumber  CustomerId  Surname  CreditScore Geography  Gender  Age  Tenure  \\\n0       9168    15645353    Chubb          607    France    Male   26       1   \n1       9388    15594576  Zhdanov          524    France    Male   32       1   \n2       6860    15811927  Marcelo          733    France  Female   38       3   \n3       3501    15675675    Slate          850    France  Female   32       5   \n4       6234    15682914   Bolton          850    France    Male   34       2   \n\n     Balance  NumOfProducts  HasCrCard  IsActiveMember  EstimatedSalary  \\\n0       0.00              1          1               0         29818.20   \n1  144875.71              1          0               0        187740.04   \n2  157658.36              1          0               0         19658.43   \n3  106290.64              1          1               0        121982.73   \n4   72079.71              1          1               1        115767.93   \n\n   Exited  score_prod  \n0       0    0.275369  \n1       0    0.275369  \n2       0    0.275369  \n3       0    0.275369  \n4       0    0.275369  ",
      "text/html": "<div>\n<style scoped>\n    .dataframe tbody tr th:only-of-type {\n        vertical-align: middle;\n    }\n\n    .dataframe tbody tr th {\n        vertical-align: top;\n    }\n\n    .dataframe thead th {\n        text-align: right;\n    }\n</style>\n<table border=\"1\" class=\"dataframe\">\n  <thead>\n    <tr style=\"text-align: right;\">\n      <th></th>\n      <th>RowNumber</th>\n      <th>CustomerId</th>\n      <th>Surname</th>\n      <th>CreditScore</th>\n      <th>Geography</th>\n      <th>Gender</th>\n      <th>Age</th>\n      <th>Tenure</th>\n      <th>Balance</th>\n      <th>NumOfProducts</th>\n      <th>HasCrCard</th>\n      <th>IsActiveMember</th>\n      <th>EstimatedSalary</th>\n      <th>Exited</th>\n      <th>score_prod</th>\n    </tr>\n  </thead>\n  <tbody>\n    <tr>\n      <th>0</th>\n      <td>9168</td>\n      <td>15645353</td>\n      <td>Chubb</td>\n      <td>607</td>\n      <td>France</td>\n      <td>Male</td>\n      <td>26</td>\n      <td>1</td>\n      <td>0.00</td>\n      <td>1</td>\n      <td>1</td>\n      <td>0</td>\n      <td>29818.20</td>\n      <td>0</td>\n      <td>0.275369</td>\n    </tr>\n    <tr>\n      <th>1</th>\n      <td>9388</td>\n      <td>15594576</td>\n      <td>Zhdanov</td>\n      <td>524</td>\n      <td>France</td>\n      <td>Male</td>\n      <td>32</td>\n      <td>1</td>\n      <td>144875.71</td>\n      <td>1</td>\n      <td>0</td>\n      <td>0</td>\n      <td>187740.04</td>\n      <td>0</td>\n      <td>0.275369</td>\n    </tr>\n    <tr>\n      <th>2</th>\n      <td>6860</td>\n      <td>15811927</td>\n      <td>Marcelo</td>\n      <td>733</td>\n      <td>France</td>\n      <td>Female</td>\n      <td>38</td>\n      <td>3</td>\n      <td>157658.36</td>\n      <td>1</td>\n      <td>0</td>\n      <td>0</td>\n      <td>19658.43</td>\n      <td>0</td>\n      <td>0.275369</td>\n    </tr>\n    <tr>\n      <th>3</th>\n      <td>3501</td>\n      <td>15675675</td>\n      <td>Slate</td>\n      <td>850</td>\n      <td>France</td>\n      <td>Female</td>\n      <td>32</td>\n      <td>5</td>\n      <td>106290.64</td>\n      <td>1</td>\n      <td>1</td>\n      <td>0</td>\n      <td>121982.73</td>\n      <td>0</td>\n      <td>0.275369</td>\n    </tr>\n    <tr>\n      <th>4</th>\n      <td>6234</td>\n      <td>15682914</td>\n      <td>Bolton</td>\n      <td>850</td>\n      <td>France</td>\n      <td>Male</td>\n      <td>34</td>\n      <td>2</td>\n      <td>72079.71</td>\n      <td>1</td>\n      <td>1</td>\n      <td>1</td>\n      <td>115767.93</td>\n      <td>0</td>\n      <td>0.275369</td>\n    </tr>\n  </tbody>\n</table>\n</div>"
     },
     "execution_count": 81,
     "metadata": {},
     "output_type": "execute_result"
    }
   ],
   "source": [
    "test.head()"
   ],
   "metadata": {
    "collapsed": false,
    "pycharm": {
     "name": "#%%\n"
    }
   }
  },
  {
   "cell_type": "markdown",
   "source": [
    "Добавим шум в тест\n",
    "При добавлении шума обязательно указывать random seed, для сопоставления результатов"
   ],
   "metadata": {
    "collapsed": false,
    "pycharm": {
     "name": "#%% md\n"
    }
   }
  },
  {
   "cell_type": "code",
   "execution_count": 92,
   "outputs": [],
   "source": [
    "np.random.seed(42)\n",
    "test['score_prod'] = test['score_prod'] - np.random.uniform(0, 0.001, size=len(test))"
   ],
   "metadata": {
    "collapsed": false,
    "pycharm": {
     "name": "#%%\n"
    }
   }
  },
  {
   "cell_type": "code",
   "execution_count": 93,
   "outputs": [
    {
     "data": {
      "text/plain": "2000"
     },
     "execution_count": 93,
     "metadata": {},
     "output_type": "execute_result"
    }
   ],
   "source": [
    "test.score_prod.nunique()"
   ],
   "metadata": {
    "collapsed": false,
    "pycharm": {
     "name": "#%%\n"
    }
   }
  },
  {
   "cell_type": "code",
   "execution_count": 94,
   "outputs": [
    {
     "data": {
      "text/plain": "   RowNumber  CustomerId  Surname  CreditScore Geography  Gender  Age  Tenure  \\\n0       9168    15645353    Chubb          607    France    Male   26       1   \n1       9388    15594576  Zhdanov          524    France    Male   32       1   \n2       6860    15811927  Marcelo          733    France  Female   38       3   \n3       3501    15675675    Slate          850    France  Female   32       5   \n4       6234    15682914   Bolton          850    France    Male   34       2   \n\n     Balance  NumOfProducts  HasCrCard  IsActiveMember  EstimatedSalary  \\\n0       0.00              1          1               0         29818.20   \n1  144875.71              1          0               0        187740.04   \n2  157658.36              1          0               0         19658.43   \n3  106290.64              1          1               0        121982.73   \n4   72079.71              1          1               1        115767.93   \n\n   Exited  score_prod  \n0       0    0.274991  \n1       0    0.274418  \n2       0    0.274165  \n3       0    0.274742  \n4       0    0.274239  ",
      "text/html": "<div>\n<style scoped>\n    .dataframe tbody tr th:only-of-type {\n        vertical-align: middle;\n    }\n\n    .dataframe tbody tr th {\n        vertical-align: top;\n    }\n\n    .dataframe thead th {\n        text-align: right;\n    }\n</style>\n<table border=\"1\" class=\"dataframe\">\n  <thead>\n    <tr style=\"text-align: right;\">\n      <th></th>\n      <th>RowNumber</th>\n      <th>CustomerId</th>\n      <th>Surname</th>\n      <th>CreditScore</th>\n      <th>Geography</th>\n      <th>Gender</th>\n      <th>Age</th>\n      <th>Tenure</th>\n      <th>Balance</th>\n      <th>NumOfProducts</th>\n      <th>HasCrCard</th>\n      <th>IsActiveMember</th>\n      <th>EstimatedSalary</th>\n      <th>Exited</th>\n      <th>score_prod</th>\n    </tr>\n  </thead>\n  <tbody>\n    <tr>\n      <th>0</th>\n      <td>9168</td>\n      <td>15645353</td>\n      <td>Chubb</td>\n      <td>607</td>\n      <td>France</td>\n      <td>Male</td>\n      <td>26</td>\n      <td>1</td>\n      <td>0.00</td>\n      <td>1</td>\n      <td>1</td>\n      <td>0</td>\n      <td>29818.20</td>\n      <td>0</td>\n      <td>0.274991</td>\n    </tr>\n    <tr>\n      <th>1</th>\n      <td>9388</td>\n      <td>15594576</td>\n      <td>Zhdanov</td>\n      <td>524</td>\n      <td>France</td>\n      <td>Male</td>\n      <td>32</td>\n      <td>1</td>\n      <td>144875.71</td>\n      <td>1</td>\n      <td>0</td>\n      <td>0</td>\n      <td>187740.04</td>\n      <td>0</td>\n      <td>0.274418</td>\n    </tr>\n    <tr>\n      <th>2</th>\n      <td>6860</td>\n      <td>15811927</td>\n      <td>Marcelo</td>\n      <td>733</td>\n      <td>France</td>\n      <td>Female</td>\n      <td>38</td>\n      <td>3</td>\n      <td>157658.36</td>\n      <td>1</td>\n      <td>0</td>\n      <td>0</td>\n      <td>19658.43</td>\n      <td>0</td>\n      <td>0.274165</td>\n    </tr>\n    <tr>\n      <th>3</th>\n      <td>3501</td>\n      <td>15675675</td>\n      <td>Slate</td>\n      <td>850</td>\n      <td>France</td>\n      <td>Female</td>\n      <td>32</td>\n      <td>5</td>\n      <td>106290.64</td>\n      <td>1</td>\n      <td>1</td>\n      <td>0</td>\n      <td>121982.73</td>\n      <td>0</td>\n      <td>0.274742</td>\n    </tr>\n    <tr>\n      <th>4</th>\n      <td>6234</td>\n      <td>15682914</td>\n      <td>Bolton</td>\n      <td>850</td>\n      <td>France</td>\n      <td>Male</td>\n      <td>34</td>\n      <td>2</td>\n      <td>72079.71</td>\n      <td>1</td>\n      <td>1</td>\n      <td>1</td>\n      <td>115767.93</td>\n      <td>0</td>\n      <td>0.274239</td>\n    </tr>\n  </tbody>\n</table>\n</div>"
     },
     "execution_count": 94,
     "metadata": {},
     "output_type": "execute_result"
    }
   ],
   "source": [
    "test.head()"
   ],
   "metadata": {
    "collapsed": false,
    "pycharm": {
     "name": "#%%\n"
    }
   }
  },
  {
   "cell_type": "markdown",
   "source": [
    "Посчитаем logloss для трейна и теста"
   ],
   "metadata": {
    "collapsed": false,
    "pycharm": {
     "name": "#%% md\n"
    }
   }
  },
  {
   "cell_type": "code",
   "execution_count": 95,
   "outputs": [
    {
     "data": {
      "text/plain": "0.4359717821616623"
     },
     "execution_count": 95,
     "metadata": {},
     "output_type": "execute_result"
    }
   ],
   "source": [
    "log_loss(train_full.Exited, train_full.score_prod)"
   ],
   "metadata": {
    "collapsed": false,
    "pycharm": {
     "name": "#%%\n"
    }
   }
  },
  {
   "cell_type": "code",
   "execution_count": 96,
   "outputs": [
    {
     "data": {
      "text/plain": "0.43387748203155946"
     },
     "execution_count": 96,
     "metadata": {},
     "output_type": "execute_result"
    }
   ],
   "source": [
    "log_loss(test.Exited, test.score_prod)"
   ],
   "metadata": {
    "collapsed": false,
    "pycharm": {
     "name": "#%%\n"
    }
   }
  },
  {
   "cell_type": "markdown",
   "source": [
    "Посчитаем Uplift"
   ],
   "metadata": {
    "collapsed": false,
    "pycharm": {
     "name": "#%% md\n"
    }
   }
  },
  {
   "cell_type": "code",
   "execution_count": 97,
   "outputs": [
    {
     "data": {
      "text/plain": "1.9079754601226995"
     },
     "execution_count": 97,
     "metadata": {},
     "output_type": "execute_result"
    }
   ],
   "source": [
    "uplift(train_full, 'score_prod', 0.2)"
   ],
   "metadata": {
    "collapsed": false,
    "pycharm": {
     "name": "#%%\n"
    }
   }
  },
  {
   "cell_type": "code",
   "execution_count": 98,
   "outputs": [
    {
     "data": {
      "text/plain": "1.8427518427518426"
     },
     "execution_count": 98,
     "metadata": {},
     "output_type": "execute_result"
    }
   ],
   "source": [
    "uplift(test, 'score_prod', 0.2)"
   ],
   "metadata": {
    "collapsed": false,
    "pycharm": {
     "name": "#%%\n"
    }
   }
  },
  {
   "cell_type": "markdown",
   "source": [
    "## Добавим возраст\n",
    "т.к. это следующая по значимости переменная по версии Phik"
   ],
   "metadata": {
    "collapsed": false,
    "pycharm": {
     "name": "#%% md\n"
    }
   }
  },
  {
   "cell_type": "code",
   "execution_count": 100,
   "outputs": [],
   "source": [
    "import matplotlib.pyplot as plt\n",
    "\n",
    "plt.style.use('dark_background')\n",
    "plt.style.use('seaborn-v0_8-colorblind')"
   ],
   "metadata": {
    "collapsed": false,
    "pycharm": {
     "name": "#%%\n"
    }
   }
  },
  {
   "cell_type": "code",
   "execution_count": 101,
   "outputs": [
    {
     "data": {
      "text/plain": "<Figure size 640x480 with 1 Axes>",
      "image/png": "[encoded data removed]"
     },
     "metadata": {},
     "output_type": "display_data"
    }
   ],
   "source": [
    "train_full.Age.hist();"
   ],
   "metadata": {
    "collapsed": false,
    "pycharm": {
     "name": "#%%\n"
    }
   }
  },
  {
   "cell_type": "markdown",
   "source": [
    "Создадим интервалы для груп по возрасту"
   ],
   "metadata": {
    "collapsed": false,
    "pycharm": {
     "name": "#%% md\n"
    }
   }
  },
  {
   "cell_type": "code",
   "execution_count": 102,
   "outputs": [],
   "source": [
    "train_full['age_group'] = pd.qcut(train_full.Age, 5)"
   ],
   "metadata": {
    "collapsed": false,
    "pycharm": {
     "name": "#%%\n"
    }
   }
  },
  {
   "cell_type": "code",
   "execution_count": 103,
   "outputs": [
    {
     "data": {
      "text/plain": "      RowNumber  CustomerId     Surname  CreditScore Geography  Gender  Age  \\\n257        4512    15568006  Ukaegbunam          634    France  Female   45   \n3036       4655    15593976     Swanson          578   Germany  Female   31   \n4054       4404    15616859     Bonwick          602   Germany  Female   43   \n3202       9412    15796115      Forbes          689   Germany  Female   40   \n1874          8    15656148      Obinna          376   Germany  Female   29   \n\n      Tenure    Balance  NumOfProducts  HasCrCard  IsActiveMember  \\\n257        2       0.00              4          1               0   \n3036       5  102088.68              4          0               0   \n4054       2  113641.49              4          1               0   \n3202       4   78119.59              4          1               0   \n1874       4  115046.74              4          1               0   \n\n      EstimatedSalary  Exited  score_prod  score_mean       age_group  \n257         101039.53       1    0.999979     0.20375    (40.0, 46.0]  \n3036        187866.21       1    0.999966     0.20375  (17.999, 31.0]  \n4054        115116.35       1    0.999954     0.20375    (40.0, 46.0]  \n3202        119259.34       1    0.999942     0.20375    (35.0, 40.0]  \n1874        119346.88       1    0.999935     0.20375  (17.999, 31.0]  ",
      "text/html": "<div>\n<style scoped>\n    .dataframe tbody tr th:only-of-type {\n        vertical-align: middle;\n    }\n\n    .dataframe tbody tr th {\n        vertical-align: top;\n    }\n\n    .dataframe thead th {\n        text-align: right;\n    }\n</style>\n<table border=\"1\" class=\"dataframe\">\n  <thead>\n    <tr style=\"text-align: right;\">\n      <th></th>\n      <th>RowNumber</th>\n      <th>CustomerId</th>\n      <th>Surname</th>\n      <th>CreditScore</th>\n      <th>Geography</th>\n      <th>Gender</th>\n      <th>Age</th>\n      <th>Tenure</th>\n      <th>Balance</th>\n      <th>NumOfProducts</th>\n      <th>HasCrCard</th>\n      <th>IsActiveMember</th>\n      <th>EstimatedSalary</th>\n      <th>Exited</th>\n      <th>score_prod</th>\n      <th>score_mean</th>\n      <th>age_group</th>\n    </tr>\n  </thead>\n  <tbody>\n    <tr>\n      <th>257</th>\n      <td>4512</td>\n      <td>15568006</td>\n      <td>Ukaegbunam</td>\n      <td>634</td>\n      <td>France</td>\n      <td>Female</td>\n      <td>45</td>\n      <td>2</td>\n      <td>0.00</td>\n      <td>4</td>\n      <td>1</td>\n      <td>0</td>\n      <td>101039.53</td>\n      <td>1</td>\n      <td>0.999979</td>\n      <td>0.20375</td>\n      <td>(40.0, 46.0]</td>\n    </tr>\n    <tr>\n      <th>3036</th>\n      <td>4655</td>\n      <td>15593976</td>\n      <td>Swanson</td>\n      <td>578</td>\n      <td>Germany</td>\n      <td>Female</td>\n      <td>31</td>\n      <td>5</td>\n      <td>102088.68</td>\n      <td>4</td>\n      <td>0</td>\n      <td>0</td>\n      <td>187866.21</td>\n      <td>1</td>\n      <td>0.999966</td>\n      <td>0.20375</td>\n      <td>(17.999, 31.0]</td>\n    </tr>\n    <tr>\n      <th>4054</th>\n      <td>4404</td>\n      <td>15616859</td>\n      <td>Bonwick</td>\n      <td>602</td>\n      <td>Germany</td>\n      <td>Female</td>\n      <td>43</td>\n      <td>2</td>\n      <td>113641.49</td>\n      <td>4</td>\n      <td>1</td>\n      <td>0</td>\n      <td>115116.35</td>\n      <td>1</td>\n      <td>0.999954</td>\n      <td>0.20375</td>\n      <td>(40.0, 46.0]</td>\n    </tr>\n    <tr>\n      <th>3202</th>\n      <td>9412</td>\n      <td>15796115</td>\n      <td>Forbes</td>\n      <td>689</td>\n      <td>Germany</td>\n      <td>Female</td>\n      <td>40</td>\n      <td>4</td>\n      <td>78119.59</td>\n      <td>4</td>\n      <td>1</td>\n      <td>0</td>\n      <td>119259.34</td>\n      <td>1</td>\n      <td>0.999942</td>\n      <td>0.20375</td>\n      <td>(35.0, 40.0]</td>\n    </tr>\n    <tr>\n      <th>1874</th>\n      <td>8</td>\n      <td>15656148</td>\n      <td>Obinna</td>\n      <td>376</td>\n      <td>Germany</td>\n      <td>Female</td>\n      <td>29</td>\n      <td>4</td>\n      <td>115046.74</td>\n      <td>4</td>\n      <td>1</td>\n      <td>0</td>\n      <td>119346.88</td>\n      <td>1</td>\n      <td>0.999935</td>\n      <td>0.20375</td>\n      <td>(17.999, 31.0]</td>\n    </tr>\n  </tbody>\n</table>\n</div>"
     },
     "execution_count": 103,
     "metadata": {},
     "output_type": "execute_result"
    }
   ],
   "source": [
    "train_full.head()"
   ],
   "metadata": {
    "collapsed": false,
    "pycharm": {
     "name": "#%%\n"
    }
   }
  },
  {
   "cell_type": "markdown",
   "source": [
    "Чем старше клиент, тем больше вероятность того, что он уйдёт"
   ],
   "metadata": {
    "collapsed": false,
    "pycharm": {
     "name": "#%% md\n"
    }
   }
  },
  {
   "cell_type": "code",
   "execution_count": 106,
   "outputs": [
    {
     "data": {
      "text/plain": "                count      mean\nage_group                      \n(17.999, 31.0]   1896  0.075422\n(31.0, 35.0]     1424  0.091994\n(35.0, 40.0]     1797  0.146912\n(40.0, 46.0]     1376  0.289971\n(46.0, 92.0]     1507  0.459854",
      "text/html": "<div>\n<style scoped>\n    .dataframe tbody tr th:only-of-type {\n        vertical-align: middle;\n    }\n\n    .dataframe tbody tr th {\n        vertical-align: top;\n    }\n\n    .dataframe thead th {\n        text-align: right;\n    }\n</style>\n<table border=\"1\" class=\"dataframe\">\n  <thead>\n    <tr style=\"text-align: right;\">\n      <th></th>\n      <th>count</th>\n      <th>mean</th>\n    </tr>\n    <tr>\n      <th>age_group</th>\n      <th></th>\n      <th></th>\n    </tr>\n  </thead>\n  <tbody>\n    <tr>\n      <th>(17.999, 31.0]</th>\n      <td>1896</td>\n      <td>0.075422</td>\n    </tr>\n    <tr>\n      <th>(31.0, 35.0]</th>\n      <td>1424</td>\n      <td>0.091994</td>\n    </tr>\n    <tr>\n      <th>(35.0, 40.0]</th>\n      <td>1797</td>\n      <td>0.146912</td>\n    </tr>\n    <tr>\n      <th>(40.0, 46.0]</th>\n      <td>1376</td>\n      <td>0.289971</td>\n    </tr>\n    <tr>\n      <th>(46.0, 92.0]</th>\n      <td>1507</td>\n      <td>0.459854</td>\n    </tr>\n  </tbody>\n</table>\n</div>"
     },
     "execution_count": 106,
     "metadata": {},
     "output_type": "execute_result"
    }
   ],
   "source": [
    "train_full.groupby('age_group').Exited.agg(['count', 'mean'])"
   ],
   "metadata": {
    "collapsed": false,
    "pycharm": {
     "name": "#%%\n"
    }
   }
  },
  {
   "cell_type": "markdown",
   "source": [
    "Нельзя применять qcut для другой выборки (тестовой) т.к. она может разделиться по другому. ПО этому будем использовать cut"
   ],
   "metadata": {
    "collapsed": false,
    "pycharm": {
     "name": "#%% md\n"
    }
   }
  },
  {
   "cell_type": "code",
   "execution_count": 110,
   "outputs": [],
   "source": [
    "train_full['age_group'] = pd.cut(train_full.Age, [0, 31, 35, 40, 46, float('inf')])"
   ],
   "metadata": {
    "collapsed": false,
    "pycharm": {
     "name": "#%%\n"
    }
   }
  },
  {
   "cell_type": "code",
   "execution_count": 111,
   "outputs": [
    {
     "data": {
      "text/plain": "      RowNumber  CustomerId     Surname  CreditScore Geography  Gender  Age  \\\n257        4512    15568006  Ukaegbunam          634    France  Female   45   \n3036       4655    15593976     Swanson          578   Germany  Female   31   \n4054       4404    15616859     Bonwick          602   Germany  Female   43   \n3202       9412    15796115      Forbes          689   Germany  Female   40   \n1874          8    15656148      Obinna          376   Germany  Female   29   \n\n      Tenure    Balance  NumOfProducts  HasCrCard  IsActiveMember  \\\n257        2       0.00              4          1               0   \n3036       5  102088.68              4          0               0   \n4054       2  113641.49              4          1               0   \n3202       4   78119.59              4          1               0   \n1874       4  115046.74              4          1               0   \n\n      EstimatedSalary  Exited  score_prod  score_mean     age_group  \n257         101039.53       1    0.999979     0.20375  (40.0, 46.0]  \n3036        187866.21       1    0.999966     0.20375   (0.0, 31.0]  \n4054        115116.35       1    0.999954     0.20375  (40.0, 46.0]  \n3202        119259.34       1    0.999942     0.20375  (35.0, 40.0]  \n1874        119346.88       1    0.999935     0.20375   (0.0, 31.0]  ",
      "text/html": "<div>\n<style scoped>\n    .dataframe tbody tr th:only-of-type {\n        vertical-align: middle;\n    }\n\n    .dataframe tbody tr th {\n        vertical-align: top;\n    }\n\n    .dataframe thead th {\n        text-align: right;\n    }\n</style>\n<table border=\"1\" class=\"dataframe\">\n  <thead>\n    <tr style=\"text-align: right;\">\n      <th></th>\n      <th>RowNumber</th>\n      <th>CustomerId</th>\n      <th>Surname</th>\n      <th>CreditScore</th>\n      <th>Geography</th>\n      <th>Gender</th>\n      <th>Age</th>\n      <th>Tenure</th>\n      <th>Balance</th>\n      <th>NumOfProducts</th>\n      <th>HasCrCard</th>\n      <th>IsActiveMember</th>\n      <th>EstimatedSalary</th>\n      <th>Exited</th>\n      <th>score_prod</th>\n      <th>score_mean</th>\n      <th>age_group</th>\n    </tr>\n  </thead>\n  <tbody>\n    <tr>\n      <th>257</th>\n      <td>4512</td>\n      <td>15568006</td>\n      <td>Ukaegbunam</td>\n      <td>634</td>\n      <td>France</td>\n      <td>Female</td>\n      <td>45</td>\n      <td>2</td>\n      <td>0.00</td>\n      <td>4</td>\n      <td>1</td>\n      <td>0</td>\n      <td>101039.53</td>\n      <td>1</td>\n      <td>0.999979</td>\n      <td>0.20375</td>\n      <td>(40.0, 46.0]</td>\n    </tr>\n    <tr>\n      <th>3036</th>\n      <td>4655</td>\n      <td>15593976</td>\n      <td>Swanson</td>\n      <td>578</td>\n      <td>Germany</td>\n      <td>Female</td>\n      <td>31</td>\n      <td>5</td>\n      <td>102088.68</td>\n      <td>4</td>\n      <td>0</td>\n      <td>0</td>\n      <td>187866.21</td>\n      <td>1</td>\n      <td>0.999966</td>\n      <td>0.20375</td>\n      <td>(0.0, 31.0]</td>\n    </tr>\n    <tr>\n      <th>4054</th>\n      <td>4404</td>\n      <td>15616859</td>\n      <td>Bonwick</td>\n      <td>602</td>\n      <td>Germany</td>\n      <td>Female</td>\n      <td>43</td>\n      <td>2</td>\n      <td>113641.49</td>\n      <td>4</td>\n      <td>1</td>\n      <td>0</td>\n      <td>115116.35</td>\n      <td>1</td>\n      <td>0.999954</td>\n      <td>0.20375</td>\n      <td>(40.0, 46.0]</td>\n    </tr>\n    <tr>\n      <th>3202</th>\n      <td>9412</td>\n      <td>15796115</td>\n      <td>Forbes</td>\n      <td>689</td>\n      <td>Germany</td>\n      <td>Female</td>\n      <td>40</td>\n      <td>4</td>\n      <td>78119.59</td>\n      <td>4</td>\n      <td>1</td>\n      <td>0</td>\n      <td>119259.34</td>\n      <td>1</td>\n      <td>0.999942</td>\n      <td>0.20375</td>\n      <td>(35.0, 40.0]</td>\n    </tr>\n    <tr>\n      <th>1874</th>\n      <td>8</td>\n      <td>15656148</td>\n      <td>Obinna</td>\n      <td>376</td>\n      <td>Germany</td>\n      <td>Female</td>\n      <td>29</td>\n      <td>4</td>\n      <td>115046.74</td>\n      <td>4</td>\n      <td>1</td>\n      <td>0</td>\n      <td>119346.88</td>\n      <td>1</td>\n      <td>0.999935</td>\n      <td>0.20375</td>\n      <td>(0.0, 31.0]</td>\n    </tr>\n  </tbody>\n</table>\n</div>"
     },
     "execution_count": 111,
     "metadata": {},
     "output_type": "execute_result"
    }
   ],
   "source": [
    "train_full.head()"
   ],
   "metadata": {
    "collapsed": false,
    "pycharm": {
     "name": "#%%\n"
    }
   }
  },
  {
   "cell_type": "code",
   "execution_count": 112,
   "outputs": [
    {
     "data": {
      "text/plain": "              count      mean\nage_group                    \n(0.0, 31.0]    1896  0.075422\n(31.0, 35.0]   1424  0.091994\n(35.0, 40.0]   1797  0.146912\n(40.0, 46.0]   1376  0.289971\n(46.0, inf]    1507  0.459854",
      "text/html": "<div>\n<style scoped>\n    .dataframe tbody tr th:only-of-type {\n        vertical-align: middle;\n    }\n\n    .dataframe tbody tr th {\n        vertical-align: top;\n    }\n\n    .dataframe thead th {\n        text-align: right;\n    }\n</style>\n<table border=\"1\" class=\"dataframe\">\n  <thead>\n    <tr style=\"text-align: right;\">\n      <th></th>\n      <th>count</th>\n      <th>mean</th>\n    </tr>\n    <tr>\n      <th>age_group</th>\n      <th></th>\n      <th></th>\n    </tr>\n  </thead>\n  <tbody>\n    <tr>\n      <th>(0.0, 31.0]</th>\n      <td>1896</td>\n      <td>0.075422</td>\n    </tr>\n    <tr>\n      <th>(31.0, 35.0]</th>\n      <td>1424</td>\n      <td>0.091994</td>\n    </tr>\n    <tr>\n      <th>(35.0, 40.0]</th>\n      <td>1797</td>\n      <td>0.146912</td>\n    </tr>\n    <tr>\n      <th>(40.0, 46.0]</th>\n      <td>1376</td>\n      <td>0.289971</td>\n    </tr>\n    <tr>\n      <th>(46.0, inf]</th>\n      <td>1507</td>\n      <td>0.459854</td>\n    </tr>\n  </tbody>\n</table>\n</div>"
     },
     "execution_count": 112,
     "metadata": {},
     "output_type": "execute_result"
    }
   ],
   "source": [
    "train_full.groupby('age_group').Exited.agg(['count', 'mean'])"
   ],
   "metadata": {
    "collapsed": false,
    "pycharm": {
     "name": "#%%\n"
    }
   }
  },
  {
   "cell_type": "markdown",
   "source": [
    "помимо num of products добавим в модель age groups"
   ],
   "metadata": {
    "collapsed": false,
    "pycharm": {
     "name": "#%% md\n"
    }
   }
  },
  {
   "cell_type": "code",
   "execution_count": 114,
   "outputs": [],
   "source": [
    "model = train_full.groupby(['NumOfProducts', 'age_group']).Exited.mean().reset_index()"
   ],
   "metadata": {
    "collapsed": false,
    "pycharm": {
     "name": "#%%\n"
    }
   }
  },
  {
   "cell_type": "code",
   "execution_count": 115,
   "outputs": [],
   "source": [
    "model = model.rename({'Exited': 'score_prod_age'}, axis=1)"
   ],
   "metadata": {
    "collapsed": false,
    "pycharm": {
     "name": "#%%\n"
    }
   }
  },
  {
   "cell_type": "code",
   "execution_count": 116,
   "outputs": [
    {
     "data": {
      "text/plain": "   NumOfProducts     age_group  score_prod_age\n0              1   (0.0, 31.0]        0.106774\n1              1  (31.0, 35.0]        0.135908\n2              1  (35.0, 40.0]        0.198646\n3              1  (40.0, 46.0]        0.378873\n4              1   (46.0, inf]        0.542506",
      "text/html": "<div>\n<style scoped>\n    .dataframe tbody tr th:only-of-type {\n        vertical-align: middle;\n    }\n\n    .dataframe tbody tr th {\n        vertical-align: top;\n    }\n\n    .dataframe thead th {\n        text-align: right;\n    }\n</style>\n<table border=\"1\" class=\"dataframe\">\n  <thead>\n    <tr style=\"text-align: right;\">\n      <th></th>\n      <th>NumOfProducts</th>\n      <th>age_group</th>\n      <th>score_prod_age</th>\n    </tr>\n  </thead>\n  <tbody>\n    <tr>\n      <th>0</th>\n      <td>1</td>\n      <td>(0.0, 31.0]</td>\n      <td>0.106774</td>\n    </tr>\n    <tr>\n      <th>1</th>\n      <td>1</td>\n      <td>(31.0, 35.0]</td>\n      <td>0.135908</td>\n    </tr>\n    <tr>\n      <th>2</th>\n      <td>1</td>\n      <td>(35.0, 40.0]</td>\n      <td>0.198646</td>\n    </tr>\n    <tr>\n      <th>3</th>\n      <td>1</td>\n      <td>(40.0, 46.0]</td>\n      <td>0.378873</td>\n    </tr>\n    <tr>\n      <th>4</th>\n      <td>1</td>\n      <td>(46.0, inf]</td>\n      <td>0.542506</td>\n    </tr>\n  </tbody>\n</table>\n</div>"
     },
     "execution_count": 116,
     "metadata": {},
     "output_type": "execute_result"
    }
   ],
   "source": [
    "model.head()"
   ],
   "metadata": {
    "collapsed": false,
    "pycharm": {
     "name": "#%%\n"
    }
   }
  },
  {
   "cell_type": "code",
   "execution_count": 118,
   "outputs": [],
   "source": [
    "train_full = train_full.merge(model, how='left', on=['NumOfProducts', 'age_group'])"
   ],
   "metadata": {
    "collapsed": false,
    "pycharm": {
     "name": "#%%\n"
    }
   }
  },
  {
   "cell_type": "code",
   "execution_count": 119,
   "outputs": [
    {
     "data": {
      "text/plain": "   RowNumber  CustomerId     Surname  CreditScore Geography  Gender  Age  \\\n0       4512    15568006  Ukaegbunam          634    France  Female   45   \n1       4655    15593976     Swanson          578   Germany  Female   31   \n2       4404    15616859     Bonwick          602   Germany  Female   43   \n3       9412    15796115      Forbes          689   Germany  Female   40   \n4          8    15656148      Obinna          376   Germany  Female   29   \n\n   Tenure    Balance  NumOfProducts  HasCrCard  IsActiveMember  \\\n0       2       0.00              4          1               0   \n1       5  102088.68              4          0               0   \n2       2  113641.49              4          1               0   \n3       4   78119.59              4          1               0   \n4       4  115046.74              4          1               0   \n\n   EstimatedSalary  Exited  score_prod  score_mean     age_group  \\\n0        101039.53       1    0.999979     0.20375  (40.0, 46.0]   \n1        187866.21       1    0.999966     0.20375   (0.0, 31.0]   \n2        115116.35       1    0.999954     0.20375  (40.0, 46.0]   \n3        119259.34       1    0.999942     0.20375  (35.0, 40.0]   \n4        119346.88       1    0.999935     0.20375   (0.0, 31.0]   \n\n   score_prod_age  \n0             1.0  \n1             1.0  \n2             1.0  \n3             1.0  \n4             1.0  ",
      "text/html": "<div>\n<style scoped>\n    .dataframe tbody tr th:only-of-type {\n        vertical-align: middle;\n    }\n\n    .dataframe tbody tr th {\n        vertical-align: top;\n    }\n\n    .dataframe thead th {\n        text-align: right;\n    }\n</style>\n<table border=\"1\" class=\"dataframe\">\n  <thead>\n    <tr style=\"text-align: right;\">\n      <th></th>\n      <th>RowNumber</th>\n      <th>CustomerId</th>\n      <th>Surname</th>\n      <th>CreditScore</th>\n      <th>Geography</th>\n      <th>Gender</th>\n      <th>Age</th>\n      <th>Tenure</th>\n      <th>Balance</th>\n      <th>NumOfProducts</th>\n      <th>HasCrCard</th>\n      <th>IsActiveMember</th>\n      <th>EstimatedSalary</th>\n      <th>Exited</th>\n      <th>score_prod</th>\n      <th>score_mean</th>\n      <th>age_group</th>\n      <th>score_prod_age</th>\n    </tr>\n  </thead>\n  <tbody>\n    <tr>\n      <th>0</th>\n      <td>4512</td>\n      <td>15568006</td>\n      <td>Ukaegbunam</td>\n      <td>634</td>\n      <td>France</td>\n      <td>Female</td>\n      <td>45</td>\n      <td>2</td>\n      <td>0.00</td>\n      <td>4</td>\n      <td>1</td>\n      <td>0</td>\n      <td>101039.53</td>\n      <td>1</td>\n      <td>0.999979</td>\n      <td>0.20375</td>\n      <td>(40.0, 46.0]</td>\n      <td>1.0</td>\n    </tr>\n    <tr>\n      <th>1</th>\n      <td>4655</td>\n      <td>15593976</td>\n      <td>Swanson</td>\n      <td>578</td>\n      <td>Germany</td>\n      <td>Female</td>\n      <td>31</td>\n      <td>5</td>\n      <td>102088.68</td>\n      <td>4</td>\n      <td>0</td>\n      <td>0</td>\n      <td>187866.21</td>\n      <td>1</td>\n      <td>0.999966</td>\n      <td>0.20375</td>\n      <td>(0.0, 31.0]</td>\n      <td>1.0</td>\n    </tr>\n    <tr>\n      <th>2</th>\n      <td>4404</td>\n      <td>15616859</td>\n      <td>Bonwick</td>\n      <td>602</td>\n      <td>Germany</td>\n      <td>Female</td>\n      <td>43</td>\n      <td>2</td>\n      <td>113641.49</td>\n      <td>4</td>\n      <td>1</td>\n      <td>0</td>\n      <td>115116.35</td>\n      <td>1</td>\n      <td>0.999954</td>\n      <td>0.20375</td>\n      <td>(40.0, 46.0]</td>\n      <td>1.0</td>\n    </tr>\n    <tr>\n      <th>3</th>\n      <td>9412</td>\n      <td>15796115</td>\n      <td>Forbes</td>\n      <td>689</td>\n      <td>Germany</td>\n      <td>Female</td>\n      <td>40</td>\n      <td>4</td>\n      <td>78119.59</td>\n      <td>4</td>\n      <td>1</td>\n      <td>0</td>\n      <td>119259.34</td>\n      <td>1</td>\n      <td>0.999942</td>\n      <td>0.20375</td>\n      <td>(35.0, 40.0]</td>\n      <td>1.0</td>\n    </tr>\n    <tr>\n      <th>4</th>\n      <td>8</td>\n      <td>15656148</td>\n      <td>Obinna</td>\n      <td>376</td>\n      <td>Germany</td>\n      <td>Female</td>\n      <td>29</td>\n      <td>4</td>\n      <td>115046.74</td>\n      <td>4</td>\n      <td>1</td>\n      <td>0</td>\n      <td>119346.88</td>\n      <td>1</td>\n      <td>0.999935</td>\n      <td>0.20375</td>\n      <td>(0.0, 31.0]</td>\n      <td>1.0</td>\n    </tr>\n  </tbody>\n</table>\n</div>"
     },
     "execution_count": 119,
     "metadata": {},
     "output_type": "execute_result"
    }
   ],
   "source": [
    "train_full.head()"
   ],
   "metadata": {
    "collapsed": false,
    "pycharm": {
     "name": "#%%\n"
    }
   }
  },
  {
   "cell_type": "markdown",
   "source": [
    "Сравним метрики loglos\n",
    "предыдущие метрики:"
   ],
   "metadata": {
    "collapsed": false,
    "pycharm": {
     "name": "#%% md\n"
    }
   }
  },
  {
   "cell_type": "code",
   "execution_count": 125,
   "outputs": [
    {
     "data": {
      "text/plain": "0.4359717821616623"
     },
     "execution_count": 125,
     "metadata": {},
     "output_type": "execute_result"
    }
   ],
   "source": [
    "log_loss(train_full.Exited, train_full.score_prod)"
   ],
   "metadata": {
    "collapsed": false,
    "pycharm": {
     "name": "#%%\n"
    }
   }
  },
  {
   "cell_type": "code",
   "execution_count": 126,
   "outputs": [
    {
     "data": {
      "text/plain": "1.9079754601226995"
     },
     "execution_count": 126,
     "metadata": {},
     "output_type": "execute_result"
    }
   ],
   "source": [
    "uplift(train_full, 'score_prod', 0.2)"
   ],
   "metadata": {
    "collapsed": false,
    "pycharm": {
     "name": "#%%\n"
    }
   }
  },
  {
   "cell_type": "markdown",
   "source": [
    "Новые метрики:\n",
    "На первых 20% uplift лучше в 2.7 раз чем рандом"
   ],
   "metadata": {
    "collapsed": false,
    "pycharm": {
     "name": "#%% md\n"
    }
   }
  },
  {
   "cell_type": "code",
   "execution_count": 128,
   "outputs": [
    {
     "data": {
      "text/plain": "0.3866695862492173"
     },
     "execution_count": 128,
     "metadata": {},
     "output_type": "execute_result"
    }
   ],
   "source": [
    "log_loss(train_full.Exited, train_full.score_prod_age)"
   ],
   "metadata": {
    "collapsed": false,
    "pycharm": {
     "name": "#%%\n"
    }
   }
  },
  {
   "cell_type": "code",
   "execution_count": 129,
   "outputs": [
    {
     "data": {
      "text/plain": "2.702453987730061"
     },
     "execution_count": 129,
     "metadata": {},
     "output_type": "execute_result"
    }
   ],
   "source": [
    "uplift(train_full, 'score_prod_age', 0.2)"
   ],
   "metadata": {
    "collapsed": false,
    "pycharm": {
     "name": "#%%\n"
    }
   }
  },
  {
   "cell_type": "markdown",
   "source": [
    "Посчитаем эти же показатели для теста:"
   ],
   "metadata": {
    "collapsed": false,
    "pycharm": {
     "name": "#%% md\n"
    }
   }
  },
  {
   "cell_type": "code",
   "execution_count": 130,
   "outputs": [],
   "source": [
    "test['age_group'] = pd.cut(test.Age, [0, 31, 35, 40, 46, float('inf')])"
   ],
   "metadata": {
    "collapsed": false,
    "pycharm": {
     "name": "#%%\n"
    }
   }
  },
  {
   "cell_type": "code",
   "execution_count": 131,
   "outputs": [],
   "source": [
    "test = test.merge(model, how='left', on=['NumOfProducts', 'age_group'])"
   ],
   "metadata": {
    "collapsed": false,
    "pycharm": {
     "name": "#%%\n"
    }
   }
  },
  {
   "cell_type": "code",
   "execution_count": 132,
   "outputs": [
    {
     "data": {
      "text/plain": "0.3870707514157596"
     },
     "execution_count": 132,
     "metadata": {},
     "output_type": "execute_result"
    }
   ],
   "source": [
    "log_loss(test.Exited, test.score_prod_age)"
   ],
   "metadata": {
    "collapsed": false,
    "pycharm": {
     "name": "#%%\n"
    }
   }
  },
  {
   "cell_type": "code",
   "execution_count": 133,
   "outputs": [
    {
     "data": {
      "text/plain": "2.7518427518427515"
     },
     "execution_count": 133,
     "metadata": {},
     "output_type": "execute_result"
    }
   ],
   "source": [
    "uplift(test, 'score_prod_age', 0.2)"
   ],
   "metadata": {
    "collapsed": false,
    "pycharm": {
     "name": "#%%\n"
    }
   }
  },
  {
   "cell_type": "code",
   "execution_count": null,
   "outputs": [],
   "source": [],
   "metadata": {
    "collapsed": false,
    "pycharm": {
     "name": "#%%\n"
    }
   }
  }
 ],
 "metadata": {
  "kernelspec": {
   "display_name": "Python 3",
   "language": "python",
   "name": "python3"
  },
  "language_info": {
   "codemirror_mode": {
    "name": "ipython",
    "version": 2
   },
   "file_extension": ".py",
   "mimetype": "text/x-python",
   "name": "python",
   "nbconvert_exporter": "python",
   "pygments_lexer": "ipython2",
   "version": "2.7.6"
  }
 },
 "nbformat": 4,
 "nbformat_minor": 0
}