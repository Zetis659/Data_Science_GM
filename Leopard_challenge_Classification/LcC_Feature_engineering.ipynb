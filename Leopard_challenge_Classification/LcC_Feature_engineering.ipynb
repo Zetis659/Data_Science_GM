{
 "cells": [
  {
   "cell_type": "markdown",
   "source": [
    "# Leopard challenge Classification"
   ],
   "metadata": {
    "collapsed": false,
    "pycharm": {
     "name": "#%% md\n"
    }
   }
  },
  {
   "cell_type": "markdown",
   "source": [
    "## Загрузка данных\n",
    "Данные беру из leopard-challenge-classification.zip\n",
    "https://drive.google.com/file/d/1OYjGYeYQzKI3mE02ymtkrbRJb5EurpL7/view?usp=sharing"
   ],
   "metadata": {
    "collapsed": false,
    "pycharm": {
     "name": "#%% md\n"
    }
   }
  },
  {
   "cell_type": "markdown",
   "source": [
    "# Colab"
   ],
   "metadata": {
    "collapsed": false,
    "pycharm": {
     "name": "#%% md\n"
    }
   }
  },
  {
   "cell_type": "code",
   "execution_count": null,
   "outputs": [],
   "source": [
    "! gdown --id 1OYjGYeYQzKI3mE02ymtkrbRJb5EurpL7"
   ],
   "metadata": {
    "collapsed": false,
    "pycharm": {
     "name": "#%%\n"
    }
   }
  },
  {
   "cell_type": "markdown",
   "source": [
    "! unzip /content/leopard-challenge-classification.zip -d /content/leopard-challenge-classification/"
   ],
   "metadata": {
    "collapsed": false,
    "pycharm": {
     "name": "#%% md\n"
    }
   }
  },
  {
   "cell_type": "code",
   "execution_count": null,
   "outputs": [],
   "source": [
    "! unzip / content / leopard-challenge-classification.zip -d / content / leopard_challenge_classification /"
   ],
   "metadata": {
    "collapsed": false,
    "pycharm": {
     "name": "#%%\n"
    }
   }
  },
  {
   "cell_type": "code",
   "execution_count": null,
   "outputs": [],
   "source": [
    "import pandas as pd"
   ],
   "metadata": {
    "collapsed": false,
    "pycharm": {
     "name": "#%%\n"
    }
   }
  },
  {
   "cell_type": "code",
   "execution_count": null,
   "outputs": [],
   "source": [
    "df = pd.read_csv('/content/leopard_challenge_classification/train.csv')"
   ],
   "metadata": {
    "collapsed": false,
    "pycharm": {
     "name": "#%%\n"
    }
   }
  },
  {
   "cell_type": "code",
   "execution_count": null,
   "outputs": [],
   "source": [
    "df.head()"
   ],
   "metadata": {
    "collapsed": false,
    "pycharm": {
     "name": "#%%\n"
    }
   }
  },
  {
   "cell_type": "code",
   "execution_count": null,
   "outputs": [],
   "source": [
    "!pip install phik\n",
    "\n",
    "!pip install feature_engine\n",
    "\n",
    "!pip install catboost"
   ],
   "metadata": {
    "collapsed": false,
    "pycharm": {
     "name": "#%%\n"
    }
   }
  },
  {
   "cell_type": "markdown",
   "source": [
    "# Pycharm"
   ],
   "metadata": {
    "collapsed": false,
    "pycharm": {
     "name": "#%% md\n"
    }
   }
  },
  {
   "cell_type": "code",
   "execution_count": null,
   "outputs": [],
   "source": [
    "from zipfile import ZipFile\n",
    "\n",
    "with ZipFile('leopard-challenge-classification.zip', 'r') as zf:\n",
    "    zf.extractall()"
   ],
   "metadata": {
    "collapsed": false,
    "pycharm": {
     "name": "#%%\n"
    }
   }
  },
  {
   "cell_type": "markdown",
   "source": [
    "# 1. Задача"
   ],
   "metadata": {
    "collapsed": false,
    "pycharm": {
     "name": "#%% md\n"
    }
   }
  },
  {
   "cell_type": "markdown",
   "source": [
    "Дан набор данных с основными клиническими показателями людей.\n",
    "Каждая строчка в датасете - клинические показатели одного человека - рост, вес, зрение и т.д.\n",
    "**Задача:** Определить, курит человек или нет, на основании его показателей."
   ],
   "metadata": {
    "collapsed": false,
    "pycharm": {
     "name": "#%% md\n"
    }
   }
  },
  {
   "cell_type": "markdown",
   "source": [
    "# 2. Импорт библиотек"
   ],
   "metadata": {
    "collapsed": false,
    "pycharm": {
     "name": "#%% md\n"
    }
   }
  },
  {
   "cell_type": "code",
   "execution_count": 2,
   "outputs": [],
   "source": [
    "import pandas as pd\n",
    "import seaborn as sns\n",
    "import matplotlib.pyplot as plt\n",
    "import numpy as np\n",
    "import missingno as msno\n",
    "import phik\n",
    "import folium\n",
    "from feature_engine.selection import SmartCorrelatedSelection\n",
    "from feature_engine.imputation import RandomSampleImputer\n",
    "from sklearn.metrics import mean_absolute_percentage_error, mean_absolute_error, log_loss\n",
    "from sklearn.model_selection import train_test_split\n",
    "from catboost import CatBoostClassifier, Pool, cv\n",
    "import joblib\n",
    "from sklearn.model_selection import GridSearchCV\n",
    "from sklearn.ensemble import RandomForestClassifier\n",
    "import warnings\n",
    "\n",
    "warnings.filterwarnings(\"ignore\")\n",
    "# plt.style.use('dark_background')\n",
    "plt.style.use('seaborn-colorblind')\n",
    "pd.set_option('display.max_columns', 100)"
   ],
   "metadata": {
    "collapsed": false,
    "pycharm": {
     "name": "#%%\n"
    }
   }
  },
  {
   "cell_type": "markdown",
   "source": [
    "# 3. Загрузка Датасета"
   ],
   "metadata": {
    "collapsed": false,
    "pycharm": {
     "name": "#%% md\n"
    }
   }
  },
  {
   "cell_type": "code",
   "execution_count": 3,
   "outputs": [],
   "source": [
    "df = pd.read_csv('train.csv')"
   ],
   "metadata": {
    "collapsed": false,
    "pycharm": {
     "name": "#%%\n"
    }
   }
  },
  {
   "cell_type": "code",
   "execution_count": 4,
   "outputs": [
    {
     "data": {
      "text/plain": "      ID  age  height(cm)  weight(kg)  waist(cm)  eyesight(left)  \\\n0   2791   65         170          75       91.0             0.6   \n1  18280   35         170          85       97.0             1.5   \n2   1618   70         165          55       75.0             0.8   \n3  16856   35         180          85       83.0             1.2   \n4   5885   25         170          65       80.0             1.5   \n\n   eyesight(right)  hearing(left)  hearing(right)  systolic  relaxation  \\\n0              0.9            1.0             1.0     122.0        79.0   \n1              1.5            1.0             1.0     138.0        88.0   \n2              1.0            1.0             1.0     115.0        63.0   \n3              1.0            1.0             1.0     130.0        80.0   \n4              1.2            1.0             1.0     135.0        75.0   \n\n   fasting blood sugar  Cholesterol  triglyceride   HDL    LDL  hemoglobin  \\\n0                107.0        119.0          51.0  71.0   52.0        14.0   \n1                117.0        204.0         239.0  46.0  120.0        14.6   \n2                128.0        165.0          60.0  68.0   85.0        14.7   \n3                100.0        209.0         155.0  53.0  125.0        17.2   \n4                 94.0        153.0          73.0  58.0   80.0        16.5   \n\n   Urine protein  serum creatinine   AST   ALT    Gtp oral  dental caries  \\\n0            3.0               1.2  20.0  16.0  122.0    Y              0   \n1            1.0               0.7  20.0  25.0   40.0    Y              0   \n2            1.0               0.7  15.0  13.0   19.0    Y              0   \n3            1.0               0.8  22.0  18.0   17.0    Y              0   \n4            1.0               1.0  20.0  13.0   14.0    Y              0   \n\n  tartar  smoking  \n0      N        0  \n1      Y        1  \n2      Y        0  \n3      Y        0  \n4      Y        1  ",
      "text/html": "<div>\n<style scoped>\n    .dataframe tbody tr th:only-of-type {\n        vertical-align: middle;\n    }\n\n    .dataframe tbody tr th {\n        vertical-align: top;\n    }\n\n    .dataframe thead th {\n        text-align: right;\n    }\n</style>\n<table border=\"1\" class=\"dataframe\">\n  <thead>\n    <tr style=\"text-align: right;\">\n      <th></th>\n      <th>ID</th>\n      <th>age</th>\n      <th>height(cm)</th>\n      <th>weight(kg)</th>\n      <th>waist(cm)</th>\n      <th>eyesight(left)</th>\n      <th>eyesight(right)</th>\n      <th>hearing(left)</th>\n      <th>hearing(right)</th>\n      <th>systolic</th>\n      <th>relaxation</th>\n      <th>fasting blood sugar</th>\n      <th>Cholesterol</th>\n      <th>triglyceride</th>\n      <th>HDL</th>\n      <th>LDL</th>\n      <th>hemoglobin</th>\n      <th>Urine protein</th>\n      <th>serum creatinine</th>\n      <th>AST</th>\n      <th>ALT</th>\n      <th>Gtp</th>\n      <th>oral</th>\n      <th>dental caries</th>\n      <th>tartar</th>\n      <th>smoking</th>\n    </tr>\n  </thead>\n  <tbody>\n    <tr>\n      <th>0</th>\n      <td>2791</td>\n      <td>65</td>\n      <td>170</td>\n      <td>75</td>\n      <td>91.0</td>\n      <td>0.6</td>\n      <td>0.9</td>\n      <td>1.0</td>\n      <td>1.0</td>\n      <td>122.0</td>\n      <td>79.0</td>\n      <td>107.0</td>\n      <td>119.0</td>\n      <td>51.0</td>\n      <td>71.0</td>\n      <td>52.0</td>\n      <td>14.0</td>\n      <td>3.0</td>\n      <td>1.2</td>\n      <td>20.0</td>\n      <td>16.0</td>\n      <td>122.0</td>\n      <td>Y</td>\n      <td>0</td>\n      <td>N</td>\n      <td>0</td>\n    </tr>\n    <tr>\n      <th>1</th>\n      <td>18280</td>\n      <td>35</td>\n      <td>170</td>\n      <td>85</td>\n      <td>97.0</td>\n      <td>1.5</td>\n      <td>1.5</td>\n      <td>1.0</td>\n      <td>1.0</td>\n      <td>138.0</td>\n      <td>88.0</td>\n      <td>117.0</td>\n      <td>204.0</td>\n      <td>239.0</td>\n      <td>46.0</td>\n      <td>120.0</td>\n      <td>14.6</td>\n      <td>1.0</td>\n      <td>0.7</td>\n      <td>20.0</td>\n      <td>25.0</td>\n      <td>40.0</td>\n      <td>Y</td>\n      <td>0</td>\n      <td>Y</td>\n      <td>1</td>\n    </tr>\n    <tr>\n      <th>2</th>\n      <td>1618</td>\n      <td>70</td>\n      <td>165</td>\n      <td>55</td>\n      <td>75.0</td>\n      <td>0.8</td>\n      <td>1.0</td>\n      <td>1.0</td>\n      <td>1.0</td>\n      <td>115.0</td>\n      <td>63.0</td>\n      <td>128.0</td>\n      <td>165.0</td>\n      <td>60.0</td>\n      <td>68.0</td>\n      <td>85.0</td>\n      <td>14.7</td>\n      <td>1.0</td>\n      <td>0.7</td>\n      <td>15.0</td>\n      <td>13.0</td>\n      <td>19.0</td>\n      <td>Y</td>\n      <td>0</td>\n      <td>Y</td>\n      <td>0</td>\n    </tr>\n    <tr>\n      <th>3</th>\n      <td>16856</td>\n      <td>35</td>\n      <td>180</td>\n      <td>85</td>\n      <td>83.0</td>\n      <td>1.2</td>\n      <td>1.0</td>\n      <td>1.0</td>\n      <td>1.0</td>\n      <td>130.0</td>\n      <td>80.0</td>\n      <td>100.0</td>\n      <td>209.0</td>\n      <td>155.0</td>\n      <td>53.0</td>\n      <td>125.0</td>\n      <td>17.2</td>\n      <td>1.0</td>\n      <td>0.8</td>\n      <td>22.0</td>\n      <td>18.0</td>\n      <td>17.0</td>\n      <td>Y</td>\n      <td>0</td>\n      <td>Y</td>\n      <td>0</td>\n    </tr>\n    <tr>\n      <th>4</th>\n      <td>5885</td>\n      <td>25</td>\n      <td>170</td>\n      <td>65</td>\n      <td>80.0</td>\n      <td>1.5</td>\n      <td>1.2</td>\n      <td>1.0</td>\n      <td>1.0</td>\n      <td>135.0</td>\n      <td>75.0</td>\n      <td>94.0</td>\n      <td>153.0</td>\n      <td>73.0</td>\n      <td>58.0</td>\n      <td>80.0</td>\n      <td>16.5</td>\n      <td>1.0</td>\n      <td>1.0</td>\n      <td>20.0</td>\n      <td>13.0</td>\n      <td>14.0</td>\n      <td>Y</td>\n      <td>0</td>\n      <td>Y</td>\n      <td>1</td>\n    </tr>\n  </tbody>\n</table>\n</div>"
     },
     "execution_count": 4,
     "metadata": {},
     "output_type": "execute_result"
    }
   ],
   "source": [
    "df.head()"
   ],
   "metadata": {
    "collapsed": false,
    "pycharm": {
     "name": "#%%\n"
    }
   }
  },
  {
   "cell_type": "code",
   "execution_count": 5,
   "outputs": [
    {
     "data": {
      "text/plain": "(13863, 26)"
     },
     "execution_count": 5,
     "metadata": {},
     "output_type": "execute_result"
    }
   ],
   "source": [
    "df.shape"
   ],
   "metadata": {
    "collapsed": false,
    "pycharm": {
     "name": "#%%\n"
    }
   }
  },
  {
   "cell_type": "code",
   "execution_count": 6,
   "outputs": [],
   "source": [
    "df_test = pd.read_csv('test.csv')"
   ],
   "metadata": {
    "collapsed": false,
    "pycharm": {
     "name": "#%%\n"
    }
   }
  },
  {
   "cell_type": "code",
   "execution_count": 7,
   "outputs": [
    {
     "data": {
      "text/plain": "      ID  age  height(cm)  weight(kg)  waist(cm)  eyesight(left)  \\\n0   2791   65         170          75       91.0             0.6   \n1  18280   35         170          85       97.0             1.5   \n2   1618   70         165          55       75.0             0.8   \n3  16856   35         180          85       83.0             1.2   \n4   5885   25         170          65       80.0             1.5   \n\n   eyesight(right)  hearing(left)  hearing(right)  systolic  relaxation  \\\n0              0.9            1.0             1.0     122.0        79.0   \n1              1.5            1.0             1.0     138.0        88.0   \n2              1.0            1.0             1.0     115.0        63.0   \n3              1.0            1.0             1.0     130.0        80.0   \n4              1.2            1.0             1.0     135.0        75.0   \n\n   fasting blood sugar  Cholesterol  triglyceride   HDL    LDL  hemoglobin  \\\n0                107.0        119.0          51.0  71.0   52.0        14.0   \n1                117.0        204.0         239.0  46.0  120.0        14.6   \n2                128.0        165.0          60.0  68.0   85.0        14.7   \n3                100.0        209.0         155.0  53.0  125.0        17.2   \n4                 94.0        153.0          73.0  58.0   80.0        16.5   \n\n   Urine protein  serum creatinine   AST   ALT    Gtp oral  dental caries  \\\n0            3.0               1.2  20.0  16.0  122.0    Y              0   \n1            1.0               0.7  20.0  25.0   40.0    Y              0   \n2            1.0               0.7  15.0  13.0   19.0    Y              0   \n3            1.0               0.8  22.0  18.0   17.0    Y              0   \n4            1.0               1.0  20.0  13.0   14.0    Y              0   \n\n  tartar  smoking  \n0      N        0  \n1      Y        1  \n2      Y        0  \n3      Y        0  \n4      Y        1  ",
      "text/html": "<div>\n<style scoped>\n    .dataframe tbody tr th:only-of-type {\n        vertical-align: middle;\n    }\n\n    .dataframe tbody tr th {\n        vertical-align: top;\n    }\n\n    .dataframe thead th {\n        text-align: right;\n    }\n</style>\n<table border=\"1\" class=\"dataframe\">\n  <thead>\n    <tr style=\"text-align: right;\">\n      <th></th>\n      <th>ID</th>\n      <th>age</th>\n      <th>height(cm)</th>\n      <th>weight(kg)</th>\n      <th>waist(cm)</th>\n      <th>eyesight(left)</th>\n      <th>eyesight(right)</th>\n      <th>hearing(left)</th>\n      <th>hearing(right)</th>\n      <th>systolic</th>\n      <th>relaxation</th>\n      <th>fasting blood sugar</th>\n      <th>Cholesterol</th>\n      <th>triglyceride</th>\n      <th>HDL</th>\n      <th>LDL</th>\n      <th>hemoglobin</th>\n      <th>Urine protein</th>\n      <th>serum creatinine</th>\n      <th>AST</th>\n      <th>ALT</th>\n      <th>Gtp</th>\n      <th>oral</th>\n      <th>dental caries</th>\n      <th>tartar</th>\n      <th>smoking</th>\n    </tr>\n  </thead>\n  <tbody>\n    <tr>\n      <th>0</th>\n      <td>2791</td>\n      <td>65</td>\n      <td>170</td>\n      <td>75</td>\n      <td>91.0</td>\n      <td>0.6</td>\n      <td>0.9</td>\n      <td>1.0</td>\n      <td>1.0</td>\n      <td>122.0</td>\n      <td>79.0</td>\n      <td>107.0</td>\n      <td>119.0</td>\n      <td>51.0</td>\n      <td>71.0</td>\n      <td>52.0</td>\n      <td>14.0</td>\n      <td>3.0</td>\n      <td>1.2</td>\n      <td>20.0</td>\n      <td>16.0</td>\n      <td>122.0</td>\n      <td>Y</td>\n      <td>0</td>\n      <td>N</td>\n      <td>0</td>\n    </tr>\n    <tr>\n      <th>1</th>\n      <td>18280</td>\n      <td>35</td>\n      <td>170</td>\n      <td>85</td>\n      <td>97.0</td>\n      <td>1.5</td>\n      <td>1.5</td>\n      <td>1.0</td>\n      <td>1.0</td>\n      <td>138.0</td>\n      <td>88.0</td>\n      <td>117.0</td>\n      <td>204.0</td>\n      <td>239.0</td>\n      <td>46.0</td>\n      <td>120.0</td>\n      <td>14.6</td>\n      <td>1.0</td>\n      <td>0.7</td>\n      <td>20.0</td>\n      <td>25.0</td>\n      <td>40.0</td>\n      <td>Y</td>\n      <td>0</td>\n      <td>Y</td>\n      <td>1</td>\n    </tr>\n    <tr>\n      <th>2</th>\n      <td>1618</td>\n      <td>70</td>\n      <td>165</td>\n      <td>55</td>\n      <td>75.0</td>\n      <td>0.8</td>\n      <td>1.0</td>\n      <td>1.0</td>\n      <td>1.0</td>\n      <td>115.0</td>\n      <td>63.0</td>\n      <td>128.0</td>\n      <td>165.0</td>\n      <td>60.0</td>\n      <td>68.0</td>\n      <td>85.0</td>\n      <td>14.7</td>\n      <td>1.0</td>\n      <td>0.7</td>\n      <td>15.0</td>\n      <td>13.0</td>\n      <td>19.0</td>\n      <td>Y</td>\n      <td>0</td>\n      <td>Y</td>\n      <td>0</td>\n    </tr>\n    <tr>\n      <th>3</th>\n      <td>16856</td>\n      <td>35</td>\n      <td>180</td>\n      <td>85</td>\n      <td>83.0</td>\n      <td>1.2</td>\n      <td>1.0</td>\n      <td>1.0</td>\n      <td>1.0</td>\n      <td>130.0</td>\n      <td>80.0</td>\n      <td>100.0</td>\n      <td>209.0</td>\n      <td>155.0</td>\n      <td>53.0</td>\n      <td>125.0</td>\n      <td>17.2</td>\n      <td>1.0</td>\n      <td>0.8</td>\n      <td>22.0</td>\n      <td>18.0</td>\n      <td>17.0</td>\n      <td>Y</td>\n      <td>0</td>\n      <td>Y</td>\n      <td>0</td>\n    </tr>\n    <tr>\n      <th>4</th>\n      <td>5885</td>\n      <td>25</td>\n      <td>170</td>\n      <td>65</td>\n      <td>80.0</td>\n      <td>1.5</td>\n      <td>1.2</td>\n      <td>1.0</td>\n      <td>1.0</td>\n      <td>135.0</td>\n      <td>75.0</td>\n      <td>94.0</td>\n      <td>153.0</td>\n      <td>73.0</td>\n      <td>58.0</td>\n      <td>80.0</td>\n      <td>16.5</td>\n      <td>1.0</td>\n      <td>1.0</td>\n      <td>20.0</td>\n      <td>13.0</td>\n      <td>14.0</td>\n      <td>Y</td>\n      <td>0</td>\n      <td>Y</td>\n      <td>1</td>\n    </tr>\n  </tbody>\n</table>\n</div>"
     },
     "execution_count": 7,
     "metadata": {},
     "output_type": "execute_result"
    }
   ],
   "source": [
    "df.head()"
   ],
   "metadata": {
    "collapsed": false,
    "pycharm": {
     "name": "#%%\n"
    }
   }
  },
  {
   "cell_type": "code",
   "execution_count": 8,
   "outputs": [
    {
     "data": {
      "text/plain": "(5942, 25)"
     },
     "execution_count": 8,
     "metadata": {},
     "output_type": "execute_result"
    }
   ],
   "source": [
    "df_test.shape"
   ],
   "metadata": {
    "collapsed": false,
    "pycharm": {
     "name": "#%%\n"
    }
   }
  },
  {
   "cell_type": "markdown",
   "source": [
    "# 4. Получение информации о Датасете"
   ],
   "metadata": {
    "collapsed": false,
    "pycharm": {
     "name": "#%% md\n"
    }
   }
  },
  {
   "cell_type": "markdown",
   "source": [
    "## 4.1 Подготовка таблиц"
   ],
   "metadata": {
    "collapsed": false,
    "pycharm": {
     "name": "#%% md\n"
    }
   }
  },
  {
   "cell_type": "markdown",
   "source": [
    "### Перевод названий колонок в строчные буквы и замена пробелов"
   ],
   "metadata": {
    "collapsed": false,
    "pycharm": {
     "name": "#%% md\n"
    }
   }
  },
  {
   "cell_type": "code",
   "execution_count": 9,
   "outputs": [
    {
     "data": {
      "text/plain": "      ID  age  height(cm)  weight(kg)  waist(cm)  eyesight(left)  \\\n0   2791   65         170          75       91.0             0.6   \n1  18280   35         170          85       97.0             1.5   \n2   1618   70         165          55       75.0             0.8   \n3  16856   35         180          85       83.0             1.2   \n4   5885   25         170          65       80.0             1.5   \n\n   eyesight(right)  hearing(left)  hearing(right)  systolic  relaxation  \\\n0              0.9            1.0             1.0     122.0        79.0   \n1              1.5            1.0             1.0     138.0        88.0   \n2              1.0            1.0             1.0     115.0        63.0   \n3              1.0            1.0             1.0     130.0        80.0   \n4              1.2            1.0             1.0     135.0        75.0   \n\n   fasting blood sugar  Cholesterol  triglyceride   HDL    LDL  hemoglobin  \\\n0                107.0        119.0          51.0  71.0   52.0        14.0   \n1                117.0        204.0         239.0  46.0  120.0        14.6   \n2                128.0        165.0          60.0  68.0   85.0        14.7   \n3                100.0        209.0         155.0  53.0  125.0        17.2   \n4                 94.0        153.0          73.0  58.0   80.0        16.5   \n\n   Urine protein  serum creatinine   AST   ALT    Gtp oral  dental caries  \\\n0            3.0               1.2  20.0  16.0  122.0    Y              0   \n1            1.0               0.7  20.0  25.0   40.0    Y              0   \n2            1.0               0.7  15.0  13.0   19.0    Y              0   \n3            1.0               0.8  22.0  18.0   17.0    Y              0   \n4            1.0               1.0  20.0  13.0   14.0    Y              0   \n\n  tartar  smoking  \n0      N        0  \n1      Y        1  \n2      Y        0  \n3      Y        0  \n4      Y        1  ",
      "text/html": "<div>\n<style scoped>\n    .dataframe tbody tr th:only-of-type {\n        vertical-align: middle;\n    }\n\n    .dataframe tbody tr th {\n        vertical-align: top;\n    }\n\n    .dataframe thead th {\n        text-align: right;\n    }\n</style>\n<table border=\"1\" class=\"dataframe\">\n  <thead>\n    <tr style=\"text-align: right;\">\n      <th></th>\n      <th>ID</th>\n      <th>age</th>\n      <th>height(cm)</th>\n      <th>weight(kg)</th>\n      <th>waist(cm)</th>\n      <th>eyesight(left)</th>\n      <th>eyesight(right)</th>\n      <th>hearing(left)</th>\n      <th>hearing(right)</th>\n      <th>systolic</th>\n      <th>relaxation</th>\n      <th>fasting blood sugar</th>\n      <th>Cholesterol</th>\n      <th>triglyceride</th>\n      <th>HDL</th>\n      <th>LDL</th>\n      <th>hemoglobin</th>\n      <th>Urine protein</th>\n      <th>serum creatinine</th>\n      <th>AST</th>\n      <th>ALT</th>\n      <th>Gtp</th>\n      <th>oral</th>\n      <th>dental caries</th>\n      <th>tartar</th>\n      <th>smoking</th>\n    </tr>\n  </thead>\n  <tbody>\n    <tr>\n      <th>0</th>\n      <td>2791</td>\n      <td>65</td>\n      <td>170</td>\n      <td>75</td>\n      <td>91.0</td>\n      <td>0.6</td>\n      <td>0.9</td>\n      <td>1.0</td>\n      <td>1.0</td>\n      <td>122.0</td>\n      <td>79.0</td>\n      <td>107.0</td>\n      <td>119.0</td>\n      <td>51.0</td>\n      <td>71.0</td>\n      <td>52.0</td>\n      <td>14.0</td>\n      <td>3.0</td>\n      <td>1.2</td>\n      <td>20.0</td>\n      <td>16.0</td>\n      <td>122.0</td>\n      <td>Y</td>\n      <td>0</td>\n      <td>N</td>\n      <td>0</td>\n    </tr>\n    <tr>\n      <th>1</th>\n      <td>18280</td>\n      <td>35</td>\n      <td>170</td>\n      <td>85</td>\n      <td>97.0</td>\n      <td>1.5</td>\n      <td>1.5</td>\n      <td>1.0</td>\n      <td>1.0</td>\n      <td>138.0</td>\n      <td>88.0</td>\n      <td>117.0</td>\n      <td>204.0</td>\n      <td>239.0</td>\n      <td>46.0</td>\n      <td>120.0</td>\n      <td>14.6</td>\n      <td>1.0</td>\n      <td>0.7</td>\n      <td>20.0</td>\n      <td>25.0</td>\n      <td>40.0</td>\n      <td>Y</td>\n      <td>0</td>\n      <td>Y</td>\n      <td>1</td>\n    </tr>\n    <tr>\n      <th>2</th>\n      <td>1618</td>\n      <td>70</td>\n      <td>165</td>\n      <td>55</td>\n      <td>75.0</td>\n      <td>0.8</td>\n      <td>1.0</td>\n      <td>1.0</td>\n      <td>1.0</td>\n      <td>115.0</td>\n      <td>63.0</td>\n      <td>128.0</td>\n      <td>165.0</td>\n      <td>60.0</td>\n      <td>68.0</td>\n      <td>85.0</td>\n      <td>14.7</td>\n      <td>1.0</td>\n      <td>0.7</td>\n      <td>15.0</td>\n      <td>13.0</td>\n      <td>19.0</td>\n      <td>Y</td>\n      <td>0</td>\n      <td>Y</td>\n      <td>0</td>\n    </tr>\n    <tr>\n      <th>3</th>\n      <td>16856</td>\n      <td>35</td>\n      <td>180</td>\n      <td>85</td>\n      <td>83.0</td>\n      <td>1.2</td>\n      <td>1.0</td>\n      <td>1.0</td>\n      <td>1.0</td>\n      <td>130.0</td>\n      <td>80.0</td>\n      <td>100.0</td>\n      <td>209.0</td>\n      <td>155.0</td>\n      <td>53.0</td>\n      <td>125.0</td>\n      <td>17.2</td>\n      <td>1.0</td>\n      <td>0.8</td>\n      <td>22.0</td>\n      <td>18.0</td>\n      <td>17.0</td>\n      <td>Y</td>\n      <td>0</td>\n      <td>Y</td>\n      <td>0</td>\n    </tr>\n    <tr>\n      <th>4</th>\n      <td>5885</td>\n      <td>25</td>\n      <td>170</td>\n      <td>65</td>\n      <td>80.0</td>\n      <td>1.5</td>\n      <td>1.2</td>\n      <td>1.0</td>\n      <td>1.0</td>\n      <td>135.0</td>\n      <td>75.0</td>\n      <td>94.0</td>\n      <td>153.0</td>\n      <td>73.0</td>\n      <td>58.0</td>\n      <td>80.0</td>\n      <td>16.5</td>\n      <td>1.0</td>\n      <td>1.0</td>\n      <td>20.0</td>\n      <td>13.0</td>\n      <td>14.0</td>\n      <td>Y</td>\n      <td>0</td>\n      <td>Y</td>\n      <td>1</td>\n    </tr>\n  </tbody>\n</table>\n</div>"
     },
     "execution_count": 9,
     "metadata": {},
     "output_type": "execute_result"
    }
   ],
   "source": [
    "df.head()"
   ],
   "metadata": {
    "collapsed": false,
    "pycharm": {
     "name": "#%%\n"
    }
   }
  },
  {
   "cell_type": "code",
   "execution_count": 10,
   "outputs": [],
   "source": [
    "df.columns = df.columns.str.replace(' ', '_').str.replace('(', '_').str.replace(')', '_').str.lower()\n",
    "df_test.columns = df_test.columns.str.replace(' ', '_').str.replace('(', '_').str.replace(')', '_').str.lower()"
   ],
   "metadata": {
    "collapsed": false,
    "pycharm": {
     "name": "#%%\n"
    }
   }
  },
  {
   "cell_type": "markdown",
   "source": [
    "## 4.2 Основная информация о датасете"
   ],
   "metadata": {
    "collapsed": false,
    "pycharm": {
     "name": "#%% md\n"
    }
   }
  },
  {
   "cell_type": "code",
   "execution_count": 11,
   "outputs": [
    {
     "name": "stdout",
     "output_type": "stream",
     "text": [
      "<class 'pandas.core.frame.DataFrame'>\n",
      "RangeIndex: 13863 entries, 0 to 13862\n",
      "Data columns (total 26 columns):\n",
      " #   Column               Non-Null Count  Dtype  \n",
      "---  ------               --------------  -----  \n",
      " 0   id                   13863 non-null  int64  \n",
      " 1   age                  13863 non-null  int64  \n",
      " 2   height_cm_           13863 non-null  int64  \n",
      " 3   weight_kg_           13863 non-null  int64  \n",
      " 4   waist_cm_            13863 non-null  float64\n",
      " 5   eyesight_left_       13863 non-null  float64\n",
      " 6   eyesight_right_      13863 non-null  float64\n",
      " 7   hearing_left_        13863 non-null  float64\n",
      " 8   hearing_right_       13863 non-null  float64\n",
      " 9   systolic             13863 non-null  float64\n",
      " 10  relaxation           13863 non-null  float64\n",
      " 11  fasting_blood_sugar  13863 non-null  float64\n",
      " 12  cholesterol          13863 non-null  float64\n",
      " 13  triglyceride         13863 non-null  float64\n",
      " 14  hdl                  13863 non-null  float64\n",
      " 15  ldl                  13863 non-null  float64\n",
      " 16  hemoglobin           13863 non-null  float64\n",
      " 17  urine_protein        13863 non-null  float64\n",
      " 18  serum_creatinine     13863 non-null  float64\n",
      " 19  ast                  13863 non-null  float64\n",
      " 20  alt                  13863 non-null  float64\n",
      " 21  gtp                  13863 non-null  float64\n",
      " 22  oral                 13863 non-null  object \n",
      " 23  dental_caries        13863 non-null  int64  \n",
      " 24  tartar               13863 non-null  object \n",
      " 25  smoking              13863 non-null  int64  \n",
      "dtypes: float64(18), int64(6), object(2)\n",
      "memory usage: 2.8+ MB\n"
     ]
    }
   ],
   "source": [
    "df.info()"
   ],
   "metadata": {
    "collapsed": false,
    "pycharm": {
     "name": "#%%\n"
    }
   }
  },
  {
   "cell_type": "code",
   "execution_count": 12,
   "outputs": [
    {
     "name": "stdout",
     "output_type": "stream",
     "text": [
      "<class 'pandas.core.frame.DataFrame'>\n",
      "RangeIndex: 5942 entries, 0 to 5941\n",
      "Data columns (total 25 columns):\n",
      " #   Column               Non-Null Count  Dtype  \n",
      "---  ------               --------------  -----  \n",
      " 0   id                   5942 non-null   int64  \n",
      " 1   age                  5942 non-null   int64  \n",
      " 2   height_cm_           5942 non-null   int64  \n",
      " 3   weight_kg_           5942 non-null   int64  \n",
      " 4   waist_cm_            5942 non-null   float64\n",
      " 5   eyesight_left_       5942 non-null   float64\n",
      " 6   eyesight_right_      5942 non-null   float64\n",
      " 7   hearing_left_        5942 non-null   float64\n",
      " 8   hearing_right_       5942 non-null   float64\n",
      " 9   systolic             5942 non-null   float64\n",
      " 10  relaxation           5942 non-null   float64\n",
      " 11  fasting_blood_sugar  5942 non-null   float64\n",
      " 12  cholesterol          5942 non-null   float64\n",
      " 13  triglyceride         5942 non-null   float64\n",
      " 14  hdl                  5942 non-null   float64\n",
      " 15  ldl                  5942 non-null   float64\n",
      " 16  hemoglobin           5942 non-null   float64\n",
      " 17  urine_protein        5942 non-null   float64\n",
      " 18  serum_creatinine     5942 non-null   float64\n",
      " 19  ast                  5942 non-null   float64\n",
      " 20  alt                  5942 non-null   float64\n",
      " 21  gtp                  5942 non-null   float64\n",
      " 22  oral                 5942 non-null   object \n",
      " 23  dental_caries        5942 non-null   int64  \n",
      " 24  tartar               5942 non-null   object \n",
      "dtypes: float64(18), int64(5), object(2)\n",
      "memory usage: 1.1+ MB\n"
     ]
    }
   ],
   "source": [
    "df_test.info()"
   ],
   "metadata": {
    "collapsed": false,
    "pycharm": {
     "name": "#%%\n"
    }
   }
  },
  {
   "cell_type": "markdown",
   "source": [
    "## 4.3 Пропущенные значения"
   ],
   "metadata": {
    "collapsed": false,
    "pycharm": {
     "name": "#%% md\n"
    }
   }
  },
  {
   "cell_type": "code",
   "execution_count": 13,
   "outputs": [
    {
     "data": {
      "text/plain": "id                     0.0\nage                    0.0\ntartar                 0.0\ndental_caries          0.0\noral                   0.0\ngtp                    0.0\nalt                    0.0\nast                    0.0\nserum_creatinine       0.0\nurine_protein          0.0\nhemoglobin             0.0\nldl                    0.0\nhdl                    0.0\ntriglyceride           0.0\ncholesterol            0.0\nfasting_blood_sugar    0.0\nrelaxation             0.0\nsystolic               0.0\nhearing_right_         0.0\nhearing_left_          0.0\neyesight_right_        0.0\neyesight_left_         0.0\nwaist_cm_              0.0\nweight_kg_             0.0\nheight_cm_             0.0\nsmoking                0.0\ndtype: float64"
     },
     "execution_count": 13,
     "metadata": {},
     "output_type": "execute_result"
    }
   ],
   "source": [
    "df.isna().mean().sort_values(ascending=False)"
   ],
   "metadata": {
    "collapsed": false,
    "pycharm": {
     "name": "#%%\n"
    }
   }
  },
  {
   "cell_type": "code",
   "execution_count": 14,
   "outputs": [
    {
     "data": {
      "text/plain": "id                     0.0\ntriglyceride           0.0\ndental_caries          0.0\noral                   0.0\ngtp                    0.0\nalt                    0.0\nast                    0.0\nserum_creatinine       0.0\nurine_protein          0.0\nhemoglobin             0.0\nldl                    0.0\nhdl                    0.0\ncholesterol            0.0\nage                    0.0\nfasting_blood_sugar    0.0\nrelaxation             0.0\nsystolic               0.0\nhearing_right_         0.0\nhearing_left_          0.0\neyesight_right_        0.0\neyesight_left_         0.0\nwaist_cm_              0.0\nweight_kg_             0.0\nheight_cm_             0.0\ntartar                 0.0\ndtype: float64"
     },
     "execution_count": 14,
     "metadata": {},
     "output_type": "execute_result"
    }
   ],
   "source": [
    "df_test.isna().mean().sort_values(ascending=False)"
   ],
   "metadata": {
    "collapsed": false,
    "pycharm": {
     "name": "#%%\n"
    }
   }
  },
  {
   "cell_type": "markdown",
   "source": [
    "**Пропуски в данных отсутствуют!!**"
   ],
   "metadata": {
    "collapsed": false,
    "pycharm": {
     "name": "#%% md\n"
    }
   }
  },
  {
   "cell_type": "markdown",
   "source": [
    "## 4.4 Дубликаты"
   ],
   "metadata": {
    "collapsed": false,
    "pycharm": {
     "name": "#%% md\n"
    }
   }
  },
  {
   "cell_type": "code",
   "execution_count": 15,
   "outputs": [
    {
     "data": {
      "text/plain": "0"
     },
     "execution_count": 15,
     "metadata": {},
     "output_type": "execute_result"
    }
   ],
   "source": [
    "df.duplicated().sum()"
   ],
   "metadata": {
    "collapsed": false,
    "pycharm": {
     "name": "#%%\n"
    }
   }
  },
  {
   "cell_type": "code",
   "execution_count": 16,
   "outputs": [
    {
     "data": {
      "text/plain": "0"
     },
     "execution_count": 16,
     "metadata": {},
     "output_type": "execute_result"
    }
   ],
   "source": [
    "df_test.duplicated().sum()"
   ],
   "metadata": {
    "collapsed": false,
    "pycharm": {
     "name": "#%%\n"
    }
   }
  },
  {
   "cell_type": "markdown",
   "source": [
    "**Дубликаты отсутствуют!**"
   ],
   "metadata": {
    "collapsed": false,
    "pycharm": {
     "name": "#%% md\n"
    }
   }
  },
  {
   "cell_type": "markdown",
   "source": [
    "## 4.5 Числовые переменные"
   ],
   "metadata": {
    "collapsed": false,
    "pycharm": {
     "name": "#%% md\n"
    }
   }
  },
  {
   "cell_type": "markdown",
   "source": [
    "## 4.6 Категориальные переменные"
   ],
   "metadata": {
    "collapsed": false,
    "pycharm": {
     "name": "#%% md\n"
    }
   }
  },
  {
   "cell_type": "markdown",
   "source": [
    "# 5.EDA"
   ],
   "metadata": {
    "collapsed": false,
    "pycharm": {
     "name": "#%% md\n"
    }
   }
  },
  {
   "cell_type": "markdown",
   "source": [
    "## 5.1 Phik взаимосвязь"
   ],
   "metadata": {
    "collapsed": false,
    "pycharm": {
     "name": "#%% md\n"
    }
   }
  },
  {
   "cell_type": "markdown",
   "source": [
    "## 5.2 Корреляция признаков"
   ],
   "metadata": {
    "collapsed": false,
    "pycharm": {
     "name": "#%% md\n"
    }
   }
  },
  {
   "cell_type": "markdown",
   "source": [
    "## 5.3 Количественные признаки"
   ],
   "metadata": {
    "collapsed": false,
    "pycharm": {
     "name": "#%% md\n"
    }
   }
  },
  {
   "cell_type": "markdown",
   "source": [
    "#### Функция гистограммы и описания для количественных признаков"
   ],
   "metadata": {
    "collapsed": false,
    "pycharm": {
     "name": "#%% md\n"
    }
   }
  },
  {
   "cell_type": "code",
   "execution_count": 17,
   "outputs": [],
   "source": [
    "def hist_box_describe_num(ds, x):\n",
    "    print(ds[x].describe())\n",
    "    plt.figure(figsize=(15, 5))\n",
    "    plt.subplot(1, 2, 1)\n",
    "    sns.histplot(data=ds, x=ds[x], kde=True);\n",
    "    plt.subplot(1, 2, 2)\n",
    "    sns.boxplot(data=ds, y=ds[x]);"
   ],
   "metadata": {
    "collapsed": false,
    "pycharm": {
     "name": "#%%\n"
    }
   }
  },
  {
   "cell_type": "markdown",
   "source": [
    "## 5.4 Категориальные переменные"
   ],
   "metadata": {
    "collapsed": false,
    "pycharm": {
     "name": "#%% md\n"
    }
   }
  },
  {
   "cell_type": "markdown",
   "source": [
    "# 6. Preprocessing"
   ],
   "metadata": {
    "collapsed": false,
    "pycharm": {
     "name": "#%% md\n"
    }
   }
  },
  {
   "cell_type": "markdown",
   "source": [
    "## 6.1 Удаление выбросов"
   ],
   "metadata": {
    "collapsed": false,
    "pycharm": {
     "name": "#%% md\n"
    }
   }
  },
  {
   "cell_type": "markdown",
   "source": [
    "### Waist - окружность талии"
   ],
   "metadata": {
    "collapsed": false,
    "pycharm": {
     "name": "#%% md\n"
    }
   }
  },
  {
   "cell_type": "markdown",
   "source": [
    "У половины пациентов окружность талии составляет от 79 до 90 см\n",
    "**Выбросы в сравнении с тестом:** 2 пациента > 121"
   ],
   "metadata": {
    "collapsed": false,
    "pycharm": {
     "name": "#%% md\n"
    }
   }
  },
  {
   "cell_type": "code",
   "execution_count": 18,
   "outputs": [],
   "source": [
    "df = df.query('waist_cm_ < 121')"
   ],
   "metadata": {
    "collapsed": false,
    "pycharm": {
     "name": "#%%\n"
    }
   }
  },
  {
   "cell_type": "markdown",
   "source": [
    "### Systolic - систолическое давление"
   ],
   "metadata": {
    "collapsed": false,
    "pycharm": {
     "name": "#%% md\n"
    }
   }
  },
  {
   "cell_type": "markdown",
   "source": [
    "У половины пациентов систолическое давление находится в пределах от 115 до 131\n",
    "**Выбросы в сравнении с тестом:** ВСЕГО 3 - 1 пациент > 200, 2 пациента < 85"
   ],
   "metadata": {
    "collapsed": false,
    "pycharm": {
     "name": "#%% md\n"
    }
   }
  },
  {
   "cell_type": "code",
   "execution_count": 19,
   "outputs": [],
   "source": [
    "df = df.query('systolic < 200 & systolic > 85')"
   ],
   "metadata": {
    "collapsed": false,
    "pycharm": {
     "name": "#%%\n"
    }
   }
  },
  {
   "cell_type": "markdown",
   "source": [
    "У половины пациентов диастолическое давление находится в пределах от 70 до 83\n",
    "**Выбросы в сравнении с тестом:** ВСЕГО 2 - 1 пациент > 133, 1 пациент < 45"
   ],
   "metadata": {
    "collapsed": false,
    "pycharm": {
     "name": "#%% md\n"
    }
   }
  },
  {
   "cell_type": "code",
   "execution_count": 20,
   "outputs": [],
   "source": [
    "df = df.query('relaxation < 135 & relaxation > 45')"
   ],
   "metadata": {
    "collapsed": false,
    "pycharm": {
     "name": "#%%\n"
    }
   }
  },
  {
   "cell_type": "markdown",
   "source": [
    "### Fasting blood sugar - Сахар в крови"
   ],
   "metadata": {
    "collapsed": false,
    "pycharm": {
     "name": "#%% md\n"
    }
   }
  },
  {
   "cell_type": "markdown",
   "source": [
    "У половины пациентов сахар в крови находится в пределах от 90 до 104\n",
    "**Выбросы в сравнении с тестом:** Всего 2 - 1 пациент > 400, 1 пациент < 50"
   ],
   "metadata": {
    "collapsed": false,
    "pycharm": {
     "name": "#%% md\n"
    }
   }
  },
  {
   "cell_type": "code",
   "execution_count": 21,
   "outputs": [],
   "source": [
    "df = df.query('fasting_blood_sugar < 400 & fasting_blood_sugar > 50')"
   ],
   "metadata": {
    "collapsed": false,
    "pycharm": {
     "name": "#%%\n"
    }
   }
  },
  {
   "cell_type": "markdown",
   "source": [
    "### Cholesterol - холестерин"
   ],
   "metadata": {
    "collapsed": false,
    "pycharm": {
     "name": "#%% md\n"
    }
   }
  },
  {
   "cell_type": "markdown",
   "source": [
    "У половины пациентов холестерин находится в пределах от 169 до 216\n",
    "**Выбросы в сравнении с тестом:** 2 пациента > 400,"
   ],
   "metadata": {
    "collapsed": false,
    "pycharm": {
     "name": "#%% md\n"
    }
   }
  },
  {
   "cell_type": "code",
   "execution_count": 22,
   "outputs": [],
   "source": [
    "df = df.query('cholesterol < 400')"
   ],
   "metadata": {
    "collapsed": false,
    "pycharm": {
     "name": "#%%\n"
    }
   }
  },
  {
   "cell_type": "markdown",
   "source": [
    "### Triglyceride - триглицерид"
   ],
   "metadata": {
    "collapsed": false,
    "pycharm": {
     "name": "#%% md\n"
    }
   }
  },
  {
   "cell_type": "markdown",
   "source": [
    "У половины пациентов триглицерид находится в пределах от 78 до 166\n",
    "**Выбросы в сравнении с тестом:** 6 пациентов < 20,"
   ],
   "metadata": {
    "collapsed": false,
    "pycharm": {
     "name": "#%% md\n"
    }
   }
  },
  {
   "cell_type": "code",
   "execution_count": 23,
   "outputs": [],
   "source": [
    "df = df.query('triglyceride > 20')"
   ],
   "metadata": {
    "collapsed": false,
    "pycharm": {
     "name": "#%%\n"
    }
   }
  },
  {
   "cell_type": "markdown",
   "source": [
    "### HDL - холестерин липопротеинов высокой плотности"
   ],
   "metadata": {
    "collapsed": false,
    "pycharm": {
     "name": "#%% md\n"
    }
   }
  },
  {
   "cell_type": "markdown",
   "source": [
    "У половины пациентов холестерин липопротеинов находится в пределах от 45 до 61\n",
    "**Выбросы в сравнении с тестом:** Всего 4 - 1 пациент > 160, 3 пациента < 20,"
   ],
   "metadata": {
    "collapsed": false,
    "pycharm": {
     "name": "#%% md\n"
    }
   }
  },
  {
   "cell_type": "code",
   "execution_count": 24,
   "outputs": [],
   "source": [
    "df = df.query('hdl < 160 & hdl > 20')"
   ],
   "metadata": {
    "collapsed": false,
    "pycharm": {
     "name": "#%%\n"
    }
   }
  },
  {
   "cell_type": "markdown",
   "source": [
    "### LDL - липопротеины низкой плотности"
   ],
   "metadata": {
    "collapsed": false,
    "pycharm": {
     "name": "#%% md\n"
    }
   }
  },
  {
   "cell_type": "markdown",
   "source": [
    "У половины пациентов липопротеины находится в пределах от 91 до 135\n",
    "**Выбросы в сравнении с тестом:** Всего 9 - 6 пациентов > 1100, 3 пациента < 10,"
   ],
   "metadata": {
    "collapsed": false,
    "pycharm": {
     "name": "#%% md\n"
    }
   }
  },
  {
   "cell_type": "code",
   "execution_count": 25,
   "outputs": [],
   "source": [
    "df = df.query('ldl < 1100 & ldl > 10')"
   ],
   "metadata": {
    "collapsed": false,
    "pycharm": {
     "name": "#%%\n"
    }
   }
  },
  {
   "cell_type": "markdown",
   "source": [
    "### Hemoglobin - гемоглобин"
   ],
   "metadata": {
    "collapsed": false,
    "pycharm": {
     "name": "#%% md\n"
    }
   }
  },
  {
   "cell_type": "markdown",
   "source": [
    "У половины пациентов гемоглобин находится в пределах от 14.8 до 16.1\n",
    "**Выбросы в сравнении с тестом:** Всего 9 - 3 пациента > 19.4, 6 пациентов < 8.6,"
   ],
   "metadata": {
    "collapsed": false,
    "pycharm": {
     "name": "#%% md\n"
    }
   }
  },
  {
   "cell_type": "code",
   "execution_count": 26,
   "outputs": [],
   "source": [
    "df = df.query('hemoglobin < 19.4 & hemoglobin > 8.6')"
   ],
   "metadata": {
    "collapsed": false,
    "pycharm": {
     "name": "#%%\n"
    }
   }
  },
  {
   "cell_type": "markdown",
   "source": [
    "### Serum creatinine - Сывороточный креатинин"
   ],
   "metadata": {
    "collapsed": false,
    "pycharm": {
     "name": "#%% md\n"
    }
   }
  },
  {
   "cell_type": "markdown",
   "source": [
    "У половины пациентов сывороточный креатинин находится в пределах от 0.9 до 1.1\n",
    "**Выбросы в сравнении с тестом:** 10 пациентов > 2.6"
   ],
   "metadata": {
    "collapsed": false,
    "pycharm": {
     "name": "#%% md\n"
    }
   }
  },
  {
   "cell_type": "code",
   "execution_count": 27,
   "outputs": [],
   "source": [
    "df = df.query('serum_creatinine < 2.6')"
   ],
   "metadata": {
    "collapsed": false,
    "pycharm": {
     "name": "#%%\n"
    }
   }
  },
  {
   "cell_type": "markdown",
   "source": [
    "### AST - Аспартатаминотрансфераз"
   ],
   "metadata": {
    "collapsed": false,
    "pycharm": {
     "name": "#%% md\n"
    }
   }
  },
  {
   "cell_type": "markdown",
   "source": [
    "У половины пациентов Аспартатаминотрансфераз находится в пределах от 20 до 30\n",
    "**Выбросы в сравнении с тестом:** Всего 4 - 3 пациента > 600, 1 пациент < 8"
   ],
   "metadata": {
    "collapsed": false,
    "pycharm": {
     "name": "#%% md\n"
    }
   }
  },
  {
   "cell_type": "code",
   "execution_count": 28,
   "outputs": [],
   "source": [
    "df = df.query('ast < 600 & ast > 8')"
   ],
   "metadata": {
    "collapsed": false,
    "pycharm": {
     "name": "#%%\n"
    }
   }
  },
  {
   "cell_type": "markdown",
   "source": [
    "### ALT - Аланинаминотрансфераза"
   ],
   "metadata": {
    "collapsed": false,
    "pycharm": {
     "name": "#%% md\n"
    }
   }
  },
  {
   "cell_type": "markdown",
   "source": [
    "У половины пациентов Аланинаминотрансфераза находится в пределах от 18 до 35\n",
    "**Выбросы в сравнении с тестом:** Всего 3 - 1 пациента > 1600, 2 пациента < 3"
   ],
   "metadata": {
    "collapsed": false,
    "pycharm": {
     "name": "#%% md\n"
    }
   }
  },
  {
   "cell_type": "code",
   "execution_count": 29,
   "outputs": [],
   "source": [
    "df = df.query('alt < 1600 & alt > 3')"
   ],
   "metadata": {
    "collapsed": false,
    "pycharm": {
     "name": "#%%\n"
    }
   }
  },
  {
   "cell_type": "markdown",
   "source": [
    "### Итого:"
   ],
   "metadata": {
    "collapsed": false,
    "pycharm": {
     "name": "#%% md\n"
    }
   }
  },
  {
   "cell_type": "markdown",
   "source": [
    "Из обучающего выборки было дропнуто 54 переменные, что составляет 0.3% от обучающей выборки."
   ],
   "metadata": {
    "collapsed": false,
    "pycharm": {
     "name": "#%% md\n"
    }
   }
  },
  {
   "cell_type": "code",
   "execution_count": 30,
   "outputs": [
    {
     "data": {
      "text/plain": "(13809, 26)"
     },
     "execution_count": 30,
     "metadata": {},
     "output_type": "execute_result"
    }
   ],
   "source": [
    "df.shape"
   ],
   "metadata": {
    "collapsed": false,
    "pycharm": {
     "name": "#%%\n"
    }
   }
  },
  {
   "cell_type": "markdown",
   "source": [
    "## 6.2 Список всех фич"
   ],
   "metadata": {
    "collapsed": false,
    "pycharm": {
     "name": "#%% md\n"
    }
   }
  },
  {
   "cell_type": "markdown",
   "source": [
    "Сразу удаляю фичу oral, т.к. она не несёт полезной информации"
   ],
   "metadata": {
    "collapsed": false,
    "pycharm": {
     "name": "#%% md\n"
    }
   }
  },
  {
   "cell_type": "code",
   "execution_count": 31,
   "outputs": [],
   "source": [
    "X = df.drop(['oral', 'smoking'], axis=1)\n",
    "y = df.smoking\n",
    "cat_features = ['tartar']\n",
    "df_test = df_test.drop('oral', axis=1)"
   ],
   "metadata": {
    "collapsed": false,
    "pycharm": {
     "name": "#%%\n"
    }
   }
  },
  {
   "cell_type": "code",
   "execution_count": 32,
   "outputs": [
    {
     "data": {
      "text/plain": "      id  age  height_cm_  weight_kg_  waist_cm_  eyesight_left_  \\\n0   2791   65         170          75       91.0             0.6   \n1  18280   35         170          85       97.0             1.5   \n2   1618   70         165          55       75.0             0.8   \n3  16856   35         180          85       83.0             1.2   \n4   5885   25         170          65       80.0             1.5   \n\n   eyesight_right_  hearing_left_  hearing_right_  systolic  relaxation  \\\n0              0.9            1.0             1.0     122.0        79.0   \n1              1.5            1.0             1.0     138.0        88.0   \n2              1.0            1.0             1.0     115.0        63.0   \n3              1.0            1.0             1.0     130.0        80.0   \n4              1.2            1.0             1.0     135.0        75.0   \n\n   fasting_blood_sugar  cholesterol  triglyceride   hdl    ldl  hemoglobin  \\\n0                107.0        119.0          51.0  71.0   52.0        14.0   \n1                117.0        204.0         239.0  46.0  120.0        14.6   \n2                128.0        165.0          60.0  68.0   85.0        14.7   \n3                100.0        209.0         155.0  53.0  125.0        17.2   \n4                 94.0        153.0          73.0  58.0   80.0        16.5   \n\n   urine_protein  serum_creatinine   ast   alt    gtp  dental_caries tartar  \n0            3.0               1.2  20.0  16.0  122.0              0      N  \n1            1.0               0.7  20.0  25.0   40.0              0      Y  \n2            1.0               0.7  15.0  13.0   19.0              0      Y  \n3            1.0               0.8  22.0  18.0   17.0              0      Y  \n4            1.0               1.0  20.0  13.0   14.0              0      Y  ",
      "text/html": "<div>\n<style scoped>\n    .dataframe tbody tr th:only-of-type {\n        vertical-align: middle;\n    }\n\n    .dataframe tbody tr th {\n        vertical-align: top;\n    }\n\n    .dataframe thead th {\n        text-align: right;\n    }\n</style>\n<table border=\"1\" class=\"dataframe\">\n  <thead>\n    <tr style=\"text-align: right;\">\n      <th></th>\n      <th>id</th>\n      <th>age</th>\n      <th>height_cm_</th>\n      <th>weight_kg_</th>\n      <th>waist_cm_</th>\n      <th>eyesight_left_</th>\n      <th>eyesight_right_</th>\n      <th>hearing_left_</th>\n      <th>hearing_right_</th>\n      <th>systolic</th>\n      <th>relaxation</th>\n      <th>fasting_blood_sugar</th>\n      <th>cholesterol</th>\n      <th>triglyceride</th>\n      <th>hdl</th>\n      <th>ldl</th>\n      <th>hemoglobin</th>\n      <th>urine_protein</th>\n      <th>serum_creatinine</th>\n      <th>ast</th>\n      <th>alt</th>\n      <th>gtp</th>\n      <th>dental_caries</th>\n      <th>tartar</th>\n    </tr>\n  </thead>\n  <tbody>\n    <tr>\n      <th>0</th>\n      <td>2791</td>\n      <td>65</td>\n      <td>170</td>\n      <td>75</td>\n      <td>91.0</td>\n      <td>0.6</td>\n      <td>0.9</td>\n      <td>1.0</td>\n      <td>1.0</td>\n      <td>122.0</td>\n      <td>79.0</td>\n      <td>107.0</td>\n      <td>119.0</td>\n      <td>51.0</td>\n      <td>71.0</td>\n      <td>52.0</td>\n      <td>14.0</td>\n      <td>3.0</td>\n      <td>1.2</td>\n      <td>20.0</td>\n      <td>16.0</td>\n      <td>122.0</td>\n      <td>0</td>\n      <td>N</td>\n    </tr>\n    <tr>\n      <th>1</th>\n      <td>18280</td>\n      <td>35</td>\n      <td>170</td>\n      <td>85</td>\n      <td>97.0</td>\n      <td>1.5</td>\n      <td>1.5</td>\n      <td>1.0</td>\n      <td>1.0</td>\n      <td>138.0</td>\n      <td>88.0</td>\n      <td>117.0</td>\n      <td>204.0</td>\n      <td>239.0</td>\n      <td>46.0</td>\n      <td>120.0</td>\n      <td>14.6</td>\n      <td>1.0</td>\n      <td>0.7</td>\n      <td>20.0</td>\n      <td>25.0</td>\n      <td>40.0</td>\n      <td>0</td>\n      <td>Y</td>\n    </tr>\n    <tr>\n      <th>2</th>\n      <td>1618</td>\n      <td>70</td>\n      <td>165</td>\n      <td>55</td>\n      <td>75.0</td>\n      <td>0.8</td>\n      <td>1.0</td>\n      <td>1.0</td>\n      <td>1.0</td>\n      <td>115.0</td>\n      <td>63.0</td>\n      <td>128.0</td>\n      <td>165.0</td>\n      <td>60.0</td>\n      <td>68.0</td>\n      <td>85.0</td>\n      <td>14.7</td>\n      <td>1.0</td>\n      <td>0.7</td>\n      <td>15.0</td>\n      <td>13.0</td>\n      <td>19.0</td>\n      <td>0</td>\n      <td>Y</td>\n    </tr>\n    <tr>\n      <th>3</th>\n      <td>16856</td>\n      <td>35</td>\n      <td>180</td>\n      <td>85</td>\n      <td>83.0</td>\n      <td>1.2</td>\n      <td>1.0</td>\n      <td>1.0</td>\n      <td>1.0</td>\n      <td>130.0</td>\n      <td>80.0</td>\n      <td>100.0</td>\n      <td>209.0</td>\n      <td>155.0</td>\n      <td>53.0</td>\n      <td>125.0</td>\n      <td>17.2</td>\n      <td>1.0</td>\n      <td>0.8</td>\n      <td>22.0</td>\n      <td>18.0</td>\n      <td>17.0</td>\n      <td>0</td>\n      <td>Y</td>\n    </tr>\n    <tr>\n      <th>4</th>\n      <td>5885</td>\n      <td>25</td>\n      <td>170</td>\n      <td>65</td>\n      <td>80.0</td>\n      <td>1.5</td>\n      <td>1.2</td>\n      <td>1.0</td>\n      <td>1.0</td>\n      <td>135.0</td>\n      <td>75.0</td>\n      <td>94.0</td>\n      <td>153.0</td>\n      <td>73.0</td>\n      <td>58.0</td>\n      <td>80.0</td>\n      <td>16.5</td>\n      <td>1.0</td>\n      <td>1.0</td>\n      <td>20.0</td>\n      <td>13.0</td>\n      <td>14.0</td>\n      <td>0</td>\n      <td>Y</td>\n    </tr>\n  </tbody>\n</table>\n</div>"
     },
     "execution_count": 32,
     "metadata": {},
     "output_type": "execute_result"
    }
   ],
   "source": [
    "X.head()"
   ],
   "metadata": {
    "collapsed": false,
    "pycharm": {
     "name": "#%%\n"
    }
   }
  },
  {
   "cell_type": "code",
   "execution_count": 33,
   "outputs": [
    {
     "data": {
      "text/plain": "0    0\n1    1\n2    0\n3    0\n4    1\nName: smoking, dtype: int64"
     },
     "execution_count": 33,
     "metadata": {},
     "output_type": "execute_result"
    }
   ],
   "source": [
    "y.head()"
   ],
   "metadata": {
    "collapsed": false,
    "pycharm": {
     "name": "#%%\n"
    }
   }
  },
  {
   "cell_type": "code",
   "execution_count": 34,
   "outputs": [
    {
     "data": {
      "text/plain": "['tartar']"
     },
     "execution_count": 34,
     "metadata": {},
     "output_type": "execute_result"
    }
   ],
   "source": [
    "cat_features"
   ],
   "metadata": {
    "collapsed": false,
    "pycharm": {
     "name": "#%%\n"
    }
   }
  },
  {
   "cell_type": "markdown",
   "source": [
    "# 7. Modeling"
   ],
   "metadata": {
    "collapsed": false,
    "pycharm": {
     "name": "#%% md\n"
    }
   }
  },
  {
   "cell_type": "markdown",
   "source": [
    "## Baseline catboost"
   ],
   "metadata": {
    "collapsed": false,
    "pycharm": {
     "name": "#%% md\n"
    }
   }
  },
  {
   "cell_type": "markdown",
   "source": [
    "### Обучающая и тестовая выборки"
   ],
   "metadata": {
    "collapsed": false,
    "pycharm": {
     "name": "#%% md\n"
    }
   }
  },
  {
   "cell_type": "code",
   "execution_count": 35,
   "outputs": [],
   "source": [
    "X_train, X_test, y_train, y_test = train_test_split(X, y, test_size=0.2, random_state=659)"
   ],
   "metadata": {
    "collapsed": false,
    "pycharm": {
     "name": "#%%\n"
    }
   }
  },
  {
   "cell_type": "markdown",
   "source": [
    "### Составаляю список фичей\n",
    "В baselin`е оставлю все фичи"
   ],
   "metadata": {
    "collapsed": false,
    "pycharm": {
     "name": "#%% md\n"
    }
   }
  },
  {
   "cell_type": "code",
   "execution_count": 36,
   "outputs": [
    {
     "data": {
      "text/plain": "      id  age  height_cm_  weight_kg_  waist_cm_  eyesight_left_  \\\n0   2791   65         170          75       91.0             0.6   \n1  18280   35         170          85       97.0             1.5   \n2   1618   70         165          55       75.0             0.8   \n3  16856   35         180          85       83.0             1.2   \n4   5885   25         170          65       80.0             1.5   \n\n   eyesight_right_  hearing_left_  hearing_right_  systolic  relaxation  \\\n0              0.9            1.0             1.0     122.0        79.0   \n1              1.5            1.0             1.0     138.0        88.0   \n2              1.0            1.0             1.0     115.0        63.0   \n3              1.0            1.0             1.0     130.0        80.0   \n4              1.2            1.0             1.0     135.0        75.0   \n\n   fasting_blood_sugar  cholesterol  triglyceride   hdl    ldl  hemoglobin  \\\n0                107.0        119.0          51.0  71.0   52.0        14.0   \n1                117.0        204.0         239.0  46.0  120.0        14.6   \n2                128.0        165.0          60.0  68.0   85.0        14.7   \n3                100.0        209.0         155.0  53.0  125.0        17.2   \n4                 94.0        153.0          73.0  58.0   80.0        16.5   \n\n   urine_protein  serum_creatinine   ast   alt    gtp  dental_caries tartar  \n0            3.0               1.2  20.0  16.0  122.0              0      N  \n1            1.0               0.7  20.0  25.0   40.0              0      Y  \n2            1.0               0.7  15.0  13.0   19.0              0      Y  \n3            1.0               0.8  22.0  18.0   17.0              0      Y  \n4            1.0               1.0  20.0  13.0   14.0              0      Y  ",
      "text/html": "<div>\n<style scoped>\n    .dataframe tbody tr th:only-of-type {\n        vertical-align: middle;\n    }\n\n    .dataframe tbody tr th {\n        vertical-align: top;\n    }\n\n    .dataframe thead th {\n        text-align: right;\n    }\n</style>\n<table border=\"1\" class=\"dataframe\">\n  <thead>\n    <tr style=\"text-align: right;\">\n      <th></th>\n      <th>id</th>\n      <th>age</th>\n      <th>height_cm_</th>\n      <th>weight_kg_</th>\n      <th>waist_cm_</th>\n      <th>eyesight_left_</th>\n      <th>eyesight_right_</th>\n      <th>hearing_left_</th>\n      <th>hearing_right_</th>\n      <th>systolic</th>\n      <th>relaxation</th>\n      <th>fasting_blood_sugar</th>\n      <th>cholesterol</th>\n      <th>triglyceride</th>\n      <th>hdl</th>\n      <th>ldl</th>\n      <th>hemoglobin</th>\n      <th>urine_protein</th>\n      <th>serum_creatinine</th>\n      <th>ast</th>\n      <th>alt</th>\n      <th>gtp</th>\n      <th>dental_caries</th>\n      <th>tartar</th>\n    </tr>\n  </thead>\n  <tbody>\n    <tr>\n      <th>0</th>\n      <td>2791</td>\n      <td>65</td>\n      <td>170</td>\n      <td>75</td>\n      <td>91.0</td>\n      <td>0.6</td>\n      <td>0.9</td>\n      <td>1.0</td>\n      <td>1.0</td>\n      <td>122.0</td>\n      <td>79.0</td>\n      <td>107.0</td>\n      <td>119.0</td>\n      <td>51.0</td>\n      <td>71.0</td>\n      <td>52.0</td>\n      <td>14.0</td>\n      <td>3.0</td>\n      <td>1.2</td>\n      <td>20.0</td>\n      <td>16.0</td>\n      <td>122.0</td>\n      <td>0</td>\n      <td>N</td>\n    </tr>\n    <tr>\n      <th>1</th>\n      <td>18280</td>\n      <td>35</td>\n      <td>170</td>\n      <td>85</td>\n      <td>97.0</td>\n      <td>1.5</td>\n      <td>1.5</td>\n      <td>1.0</td>\n      <td>1.0</td>\n      <td>138.0</td>\n      <td>88.0</td>\n      <td>117.0</td>\n      <td>204.0</td>\n      <td>239.0</td>\n      <td>46.0</td>\n      <td>120.0</td>\n      <td>14.6</td>\n      <td>1.0</td>\n      <td>0.7</td>\n      <td>20.0</td>\n      <td>25.0</td>\n      <td>40.0</td>\n      <td>0</td>\n      <td>Y</td>\n    </tr>\n    <tr>\n      <th>2</th>\n      <td>1618</td>\n      <td>70</td>\n      <td>165</td>\n      <td>55</td>\n      <td>75.0</td>\n      <td>0.8</td>\n      <td>1.0</td>\n      <td>1.0</td>\n      <td>1.0</td>\n      <td>115.0</td>\n      <td>63.0</td>\n      <td>128.0</td>\n      <td>165.0</td>\n      <td>60.0</td>\n      <td>68.0</td>\n      <td>85.0</td>\n      <td>14.7</td>\n      <td>1.0</td>\n      <td>0.7</td>\n      <td>15.0</td>\n      <td>13.0</td>\n      <td>19.0</td>\n      <td>0</td>\n      <td>Y</td>\n    </tr>\n    <tr>\n      <th>3</th>\n      <td>16856</td>\n      <td>35</td>\n      <td>180</td>\n      <td>85</td>\n      <td>83.0</td>\n      <td>1.2</td>\n      <td>1.0</td>\n      <td>1.0</td>\n      <td>1.0</td>\n      <td>130.0</td>\n      <td>80.0</td>\n      <td>100.0</td>\n      <td>209.0</td>\n      <td>155.0</td>\n      <td>53.0</td>\n      <td>125.0</td>\n      <td>17.2</td>\n      <td>1.0</td>\n      <td>0.8</td>\n      <td>22.0</td>\n      <td>18.0</td>\n      <td>17.0</td>\n      <td>0</td>\n      <td>Y</td>\n    </tr>\n    <tr>\n      <th>4</th>\n      <td>5885</td>\n      <td>25</td>\n      <td>170</td>\n      <td>65</td>\n      <td>80.0</td>\n      <td>1.5</td>\n      <td>1.2</td>\n      <td>1.0</td>\n      <td>1.0</td>\n      <td>135.0</td>\n      <td>75.0</td>\n      <td>94.0</td>\n      <td>153.0</td>\n      <td>73.0</td>\n      <td>58.0</td>\n      <td>80.0</td>\n      <td>16.5</td>\n      <td>1.0</td>\n      <td>1.0</td>\n      <td>20.0</td>\n      <td>13.0</td>\n      <td>14.0</td>\n      <td>0</td>\n      <td>Y</td>\n    </tr>\n  </tbody>\n</table>\n</div>"
     },
     "execution_count": 36,
     "metadata": {},
     "output_type": "execute_result"
    }
   ],
   "source": [
    "X.head()"
   ],
   "metadata": {
    "collapsed": false,
    "pycharm": {
     "name": "#%%\n"
    }
   }
  },
  {
   "cell_type": "code",
   "execution_count": 37,
   "outputs": [
    {
     "data": {
      "text/plain": "0    0\n1    1\n2    0\n3    0\n4    1\nName: smoking, dtype: int64"
     },
     "execution_count": 37,
     "metadata": {},
     "output_type": "execute_result"
    }
   ],
   "source": [
    "y.head()"
   ],
   "metadata": {
    "collapsed": false,
    "pycharm": {
     "name": "#%%\n"
    }
   }
  },
  {
   "cell_type": "code",
   "execution_count": 38,
   "outputs": [
    {
     "data": {
      "text/plain": "['tartar']"
     },
     "execution_count": 38,
     "metadata": {},
     "output_type": "execute_result"
    }
   ],
   "source": [
    "cat_features"
   ],
   "metadata": {
    "collapsed": false,
    "pycharm": {
     "name": "#%%\n"
    }
   }
  },
  {
   "cell_type": "markdown",
   "source": [
    "### Создание Pool`ов для модели"
   ],
   "metadata": {
    "collapsed": false,
    "pycharm": {
     "name": "#%% md\n"
    }
   }
  },
  {
   "cell_type": "code",
   "execution_count": 39,
   "outputs": [],
   "source": [
    "train_data = Pool(X_train, y_train, cat_features=cat_features)\n",
    "test_data = Pool(X_test, y_test, cat_features=cat_features)\n",
    "full_data = Pool(X, y, cat_features=cat_features)"
   ],
   "metadata": {
    "collapsed": false,
    "pycharm": {
     "name": "#%%\n"
    }
   }
  },
  {
   "cell_type": "code",
   "execution_count": null,
   "outputs": [],
   "source": [],
   "metadata": {
    "collapsed": false,
    "pycharm": {
     "name": "#%%\n"
    }
   }
  },
  {
   "cell_type": "markdown",
   "source": [
    "## Feature engineering"
   ],
   "metadata": {
    "collapsed": false,
    "pycharm": {
     "name": "#%% md\n"
    }
   }
  },
  {
   "cell_type": "markdown",
   "source": [
    "Создам новый ДФ для feature engineering"
   ],
   "metadata": {
    "collapsed": false,
    "pycharm": {
     "name": "#%% md\n"
    }
   }
  },
  {
   "cell_type": "code",
   "execution_count": 40,
   "outputs": [],
   "source": [
    "df_copy = df.copy()"
   ],
   "metadata": {
    "collapsed": false,
    "pycharm": {
     "name": "#%%\n"
    }
   }
  },
  {
   "cell_type": "markdown",
   "source": [
    "### Age - есть зависимость"
   ],
   "metadata": {
    "collapsed": false,
    "pycharm": {
     "name": "#%% md\n"
    }
   }
  },
  {
   "cell_type": "code",
   "execution_count": 41,
   "outputs": [],
   "source": [
    "df_copy['age_group'] = pd.qcut(df_copy['age'], 5)"
   ],
   "metadata": {
    "collapsed": false,
    "pycharm": {
     "name": "#%%\n"
    }
   }
  },
  {
   "cell_type": "code",
   "execution_count": 42,
   "outputs": [
    {
     "data": {
      "text/plain": "                count      mean\nage_group                      \n(35.0, 40.0]     2652  0.276395\n(40.0, 55.0]     3207  0.249143\n(30.0, 35.0]     1757  0.171315\n(19.999, 30.0]   3916  0.165730\n(55.0, 85.0]     2277  0.135266",
      "text/html": "<div>\n<style scoped>\n    .dataframe tbody tr th:only-of-type {\n        vertical-align: middle;\n    }\n\n    .dataframe tbody tr th {\n        vertical-align: top;\n    }\n\n    .dataframe thead th {\n        text-align: right;\n    }\n</style>\n<table border=\"1\" class=\"dataframe\">\n  <thead>\n    <tr style=\"text-align: right;\">\n      <th></th>\n      <th>count</th>\n      <th>mean</th>\n    </tr>\n    <tr>\n      <th>age_group</th>\n      <th></th>\n      <th></th>\n    </tr>\n  </thead>\n  <tbody>\n    <tr>\n      <th>(35.0, 40.0]</th>\n      <td>2652</td>\n      <td>0.276395</td>\n    </tr>\n    <tr>\n      <th>(40.0, 55.0]</th>\n      <td>3207</td>\n      <td>0.249143</td>\n    </tr>\n    <tr>\n      <th>(30.0, 35.0]</th>\n      <td>1757</td>\n      <td>0.171315</td>\n    </tr>\n    <tr>\n      <th>(19.999, 30.0]</th>\n      <td>3916</td>\n      <td>0.165730</td>\n    </tr>\n    <tr>\n      <th>(55.0, 85.0]</th>\n      <td>2277</td>\n      <td>0.135266</td>\n    </tr>\n  </tbody>\n</table>\n</div>"
     },
     "execution_count": 42,
     "metadata": {},
     "output_type": "execute_result"
    }
   ],
   "source": [
    "df_copy.groupby('age_group').smoking.agg(['count', 'mean']).sort_values('mean', ascending=False)"
   ],
   "metadata": {
    "collapsed": false,
    "pycharm": {
     "name": "#%%\n"
    }
   }
  },
  {
   "cell_type": "code",
   "execution_count": 43,
   "outputs": [
    {
     "data": {
      "text/plain": "<Figure size 640x480 with 1 Axes>",
      "image/png": "[encoded data removed]"
     },
     "metadata": {},
     "output_type": "display_data"
    }
   ],
   "source": [
    "df_copy.groupby('age_group').smoking.mean().plot();"
   ],
   "metadata": {
    "collapsed": false,
    "pycharm": {
     "name": "#%%\n"
    }
   }
  },
  {
   "cell_type": "markdown",
   "source": [
    "Курят больше людей в возрасте 35-40, те кто моложе и старше - меньше"
   ],
   "metadata": {
    "collapsed": false,
    "pycharm": {
     "name": "#%% md\n"
    }
   }
  },
  {
   "cell_type": "markdown",
   "source": [
    "### height - НЕТ зависимости"
   ],
   "metadata": {
    "collapsed": false,
    "pycharm": {
     "name": "#%% md\n"
    }
   }
  },
  {
   "cell_type": "code",
   "execution_count": 72,
   "outputs": [],
   "source": [
    "df_copy['height_group'] = pd.qcut(df_copy['height_cm_'], 5, duplicates='drop')"
   ],
   "metadata": {
    "collapsed": false,
    "pycharm": {
     "name": "#%%\n"
    }
   }
  },
  {
   "cell_type": "code",
   "execution_count": 84,
   "outputs": [
    {
     "data": {
      "text/plain": "                  count      mean\nheight_group                     \n(170.0, 175.0]     3013  0.222038\n(165.0, 170.0]     4222  0.211748\n(175.0, 190.0]     1505  0.194020\n(144.999, 165.0]   5069  0.184455",
      "text/html": "<div>\n<style scoped>\n    .dataframe tbody tr th:only-of-type {\n        vertical-align: middle;\n    }\n\n    .dataframe tbody tr th {\n        vertical-align: top;\n    }\n\n    .dataframe thead th {\n        text-align: right;\n    }\n</style>\n<table border=\"1\" class=\"dataframe\">\n  <thead>\n    <tr style=\"text-align: right;\">\n      <th></th>\n      <th>count</th>\n      <th>mean</th>\n    </tr>\n    <tr>\n      <th>height_group</th>\n      <th></th>\n      <th></th>\n    </tr>\n  </thead>\n  <tbody>\n    <tr>\n      <th>(170.0, 175.0]</th>\n      <td>3013</td>\n      <td>0.222038</td>\n    </tr>\n    <tr>\n      <th>(165.0, 170.0]</th>\n      <td>4222</td>\n      <td>0.211748</td>\n    </tr>\n    <tr>\n      <th>(175.0, 190.0]</th>\n      <td>1505</td>\n      <td>0.194020</td>\n    </tr>\n    <tr>\n      <th>(144.999, 165.0]</th>\n      <td>5069</td>\n      <td>0.184455</td>\n    </tr>\n  </tbody>\n</table>\n</div>"
     },
     "execution_count": 84,
     "metadata": {},
     "output_type": "execute_result"
    }
   ],
   "source": [
    "df_copy.groupby('height_group').smoking.agg(['count', 'mean']).sort_values('mean', ascending=False)"
   ],
   "metadata": {
    "collapsed": false,
    "pycharm": {
     "name": "#%%\n"
    }
   }
  },
  {
   "cell_type": "code",
   "execution_count": 73,
   "outputs": [
    {
     "data": {
      "text/plain": "<Figure size 640x480 with 1 Axes>",
      "image/png": "[encoded data removed]"
     },
     "metadata": {},
     "output_type": "display_data"
    }
   ],
   "source": [
    "# plt.figure(figsize=(16, 5))\n",
    "df_copy.groupby('height_group').smoking.mean().plot();"
   ],
   "metadata": {
    "collapsed": false,
    "pycharm": {
     "name": "#%%\n"
    }
   }
  },
  {
   "cell_type": "code",
   "execution_count": 74,
   "outputs": [
    {
     "data": {
      "text/plain": "<Figure size 640x480 with 1 Axes>",
      "image/png": "[encoded data removed]"
     },
     "metadata": {},
     "output_type": "display_data"
    }
   ],
   "source": [
    "df_copy.height_cm_.hist();"
   ],
   "metadata": {
    "collapsed": false,
    "pycharm": {
     "name": "#%%\n"
    }
   }
  },
  {
   "cell_type": "markdown",
   "source": [
    "### Weight - есть зависимость"
   ],
   "metadata": {
    "collapsed": false,
    "pycharm": {
     "name": "#%% md\n"
    }
   }
  },
  {
   "cell_type": "code",
   "execution_count": 82,
   "outputs": [],
   "source": [
    "df_copy['weight_group'] = pd.qcut(df_copy['weight_kg_'], 5, duplicates='drop')"
   ],
   "metadata": {
    "collapsed": false,
    "pycharm": {
     "name": "#%%\n"
    }
   }
  },
  {
   "cell_type": "code",
   "execution_count": 85,
   "outputs": [
    {
     "data": {
      "text/plain": "                count      mean\nweight_group                   \n(80.0, 130.0]    2009  0.230463\n(75.0, 80.0]     1478  0.206360\n(39.999, 60.0]   2924  0.201436\n(60.0, 70.0]     5193  0.195841\n(70.0, 75.0]     2205  0.188662",
      "text/html": "<div>\n<style scoped>\n    .dataframe tbody tr th:only-of-type {\n        vertical-align: middle;\n    }\n\n    .dataframe tbody tr th {\n        vertical-align: top;\n    }\n\n    .dataframe thead th {\n        text-align: right;\n    }\n</style>\n<table border=\"1\" class=\"dataframe\">\n  <thead>\n    <tr style=\"text-align: right;\">\n      <th></th>\n      <th>count</th>\n      <th>mean</th>\n    </tr>\n    <tr>\n      <th>weight_group</th>\n      <th></th>\n      <th></th>\n    </tr>\n  </thead>\n  <tbody>\n    <tr>\n      <th>(80.0, 130.0]</th>\n      <td>2009</td>\n      <td>0.230463</td>\n    </tr>\n    <tr>\n      <th>(75.0, 80.0]</th>\n      <td>1478</td>\n      <td>0.206360</td>\n    </tr>\n    <tr>\n      <th>(39.999, 60.0]</th>\n      <td>2924</td>\n      <td>0.201436</td>\n    </tr>\n    <tr>\n      <th>(60.0, 70.0]</th>\n      <td>5193</td>\n      <td>0.195841</td>\n    </tr>\n    <tr>\n      <th>(70.0, 75.0]</th>\n      <td>2205</td>\n      <td>0.188662</td>\n    </tr>\n  </tbody>\n</table>\n</div>"
     },
     "execution_count": 85,
     "metadata": {},
     "output_type": "execute_result"
    }
   ],
   "source": [
    "df_copy.groupby('weight_group').smoking.agg(['count', 'mean']).sort_values('mean', ascending=False)"
   ],
   "metadata": {
    "collapsed": false,
    "pycharm": {
     "name": "#%%\n"
    }
   }
  },
  {
   "cell_type": "code",
   "execution_count": 83,
   "outputs": [
    {
     "data": {
      "text/plain": "<Figure size 640x480 with 1 Axes>",
      "image/png": "[encoded data removed]"
     },
     "metadata": {},
     "output_type": "display_data"
    }
   ],
   "source": [
    "df_copy.groupby('weight_group').smoking.mean().plot();"
   ],
   "metadata": {
    "collapsed": false,
    "pycharm": {
     "name": "#%%\n"
    }
   }
  },
  {
   "cell_type": "markdown",
   "source": [
    "Люди с большим весом чаще курят"
   ],
   "metadata": {
    "collapsed": false,
    "pycharm": {
     "name": "#%% md\n"
    }
   }
  },
  {
   "cell_type": "markdown",
   "source": [
    "### Waist - есть зависимость"
   ],
   "metadata": {
    "collapsed": false,
    "pycharm": {
     "name": "#%% md\n"
    }
   }
  },
  {
   "cell_type": "code",
   "execution_count": 86,
   "outputs": [],
   "source": [
    "df_copy['waist_group'] = pd.qcut(df_copy['waist_cm_'], 5, duplicates='drop')"
   ],
   "metadata": {
    "collapsed": false,
    "pycharm": {
     "name": "#%%\n"
    }
   }
  },
  {
   "cell_type": "code",
   "execution_count": 87,
   "outputs": [
    {
     "data": {
      "text/plain": "                count      mean\nwaist_group                    \n(91.0, 120.9]    2727  0.222956\n(50.999, 78.0]   2879  0.204585\n(86.2, 91.0]     2792  0.203797\n(78.0, 82.5]     2717  0.190283\n(82.5, 86.2]     2694  0.188196",
      "text/html": "<div>\n<style scoped>\n    .dataframe tbody tr th:only-of-type {\n        vertical-align: middle;\n    }\n\n    .dataframe tbody tr th {\n        vertical-align: top;\n    }\n\n    .dataframe thead th {\n        text-align: right;\n    }\n</style>\n<table border=\"1\" class=\"dataframe\">\n  <thead>\n    <tr style=\"text-align: right;\">\n      <th></th>\n      <th>count</th>\n      <th>mean</th>\n    </tr>\n    <tr>\n      <th>waist_group</th>\n      <th></th>\n      <th></th>\n    </tr>\n  </thead>\n  <tbody>\n    <tr>\n      <th>(91.0, 120.9]</th>\n      <td>2727</td>\n      <td>0.222956</td>\n    </tr>\n    <tr>\n      <th>(50.999, 78.0]</th>\n      <td>2879</td>\n      <td>0.204585</td>\n    </tr>\n    <tr>\n      <th>(86.2, 91.0]</th>\n      <td>2792</td>\n      <td>0.203797</td>\n    </tr>\n    <tr>\n      <th>(78.0, 82.5]</th>\n      <td>2717</td>\n      <td>0.190283</td>\n    </tr>\n    <tr>\n      <th>(82.5, 86.2]</th>\n      <td>2694</td>\n      <td>0.188196</td>\n    </tr>\n  </tbody>\n</table>\n</div>"
     },
     "execution_count": 87,
     "metadata": {},
     "output_type": "execute_result"
    }
   ],
   "source": [
    "df_copy.groupby('waist_group').smoking.agg(['count', 'mean']).sort_values('mean', ascending=False)"
   ],
   "metadata": {
    "collapsed": false,
    "pycharm": {
     "name": "#%%\n"
    }
   }
  },
  {
   "cell_type": "code",
   "execution_count": 88,
   "outputs": [
    {
     "data": {
      "text/plain": "<Figure size 640x480 with 1 Axes>",
      "image/png": "[encoded data removed]"
     },
     "metadata": {},
     "output_type": "display_data"
    }
   ],
   "source": [
    "df_copy.groupby('waist_group').smoking.mean().plot();"
   ],
   "metadata": {
    "collapsed": false,
    "pycharm": {
     "name": "#%%\n"
    }
   }
  },
  {
   "cell_type": "markdown",
   "source": [
    "Люди с большей талией чаще курят"
   ],
   "metadata": {
    "collapsed": false,
    "pycharm": {
     "name": "#%% md\n"
    }
   }
  },
  {
   "cell_type": "markdown",
   "source": [
    "### Eyesight right - НЕТ зависимости"
   ],
   "metadata": {
    "collapsed": false,
    "pycharm": {
     "name": "#%% md\n"
    }
   }
  },
  {
   "cell_type": "code",
   "execution_count": 90,
   "outputs": [],
   "source": [
    "df_copy['eyesight_right_group'] = pd.qcut(df_copy['eyesight_right_'], 5, duplicates='drop')"
   ],
   "metadata": {
    "collapsed": false,
    "pycharm": {
     "name": "#%%\n"
    }
   }
  },
  {
   "cell_type": "code",
   "execution_count": 91,
   "outputs": [
    {
     "data": {
      "text/plain": "                      count      mean\neyesight_right_group                 \n(1.2, 9.9]             2473  0.207440\n(0.8, 1.0]             4331  0.201570\n(0.099, 0.8]           3593  0.201503\n(1.0, 1.2]             3412  0.199297",
      "text/html": "<div>\n<style scoped>\n    .dataframe tbody tr th:only-of-type {\n        vertical-align: middle;\n    }\n\n    .dataframe tbody tr th {\n        vertical-align: top;\n    }\n\n    .dataframe thead th {\n        text-align: right;\n    }\n</style>\n<table border=\"1\" class=\"dataframe\">\n  <thead>\n    <tr style=\"text-align: right;\">\n      <th></th>\n      <th>count</th>\n      <th>mean</th>\n    </tr>\n    <tr>\n      <th>eyesight_right_group</th>\n      <th></th>\n      <th></th>\n    </tr>\n  </thead>\n  <tbody>\n    <tr>\n      <th>(1.2, 9.9]</th>\n      <td>2473</td>\n      <td>0.207440</td>\n    </tr>\n    <tr>\n      <th>(0.8, 1.0]</th>\n      <td>4331</td>\n      <td>0.201570</td>\n    </tr>\n    <tr>\n      <th>(0.099, 0.8]</th>\n      <td>3593</td>\n      <td>0.201503</td>\n    </tr>\n    <tr>\n      <th>(1.0, 1.2]</th>\n      <td>3412</td>\n      <td>0.199297</td>\n    </tr>\n  </tbody>\n</table>\n</div>"
     },
     "execution_count": 91,
     "metadata": {},
     "output_type": "execute_result"
    }
   ],
   "source": [
    "df_copy.groupby('eyesight_right_group').smoking.agg(['count', 'mean']).sort_values('mean', ascending=False)"
   ],
   "metadata": {
    "collapsed": false,
    "pycharm": {
     "name": "#%%\n"
    }
   }
  },
  {
   "cell_type": "code",
   "execution_count": 92,
   "outputs": [
    {
     "data": {
      "text/plain": "<Figure size 640x480 with 1 Axes>",
      "image/png": "[encoded data removed]"
     },
     "metadata": {},
     "output_type": "display_data"
    }
   ],
   "source": [
    "df_copy.groupby('eyesight_right_group').smoking.mean().plot();"
   ],
   "metadata": {
    "collapsed": false,
    "pycharm": {
     "name": "#%%\n"
    }
   }
  },
  {
   "cell_type": "markdown",
   "source": [
    "### Eyesight left - НЕТ зависимости"
   ],
   "metadata": {
    "collapsed": false,
    "pycharm": {
     "name": "#%% md\n"
    }
   }
  },
  {
   "cell_type": "code",
   "execution_count": 93,
   "outputs": [],
   "source": [
    "df_copy['eyesight_left_group'] = pd.qcut(df_copy['eyesight_left_'], 5, duplicates='drop')"
   ],
   "metadata": {
    "collapsed": false,
    "pycharm": {
     "name": "#%%\n"
    }
   }
  },
  {
   "cell_type": "code",
   "execution_count": 94,
   "outputs": [
    {
     "data": {
      "text/plain": "                     count      mean\neyesight_left_group                 \n(1.0, 1.2]            3549  0.204001\n(0.099, 0.8]          3569  0.202578\n(0.8, 1.0]            4194  0.201001\n(1.2, 9.9]            2497  0.200240",
      "text/html": "<div>\n<style scoped>\n    .dataframe tbody tr th:only-of-type {\n        vertical-align: middle;\n    }\n\n    .dataframe tbody tr th {\n        vertical-align: top;\n    }\n\n    .dataframe thead th {\n        text-align: right;\n    }\n</style>\n<table border=\"1\" class=\"dataframe\">\n  <thead>\n    <tr style=\"text-align: right;\">\n      <th></th>\n      <th>count</th>\n      <th>mean</th>\n    </tr>\n    <tr>\n      <th>eyesight_left_group</th>\n      <th></th>\n      <th></th>\n    </tr>\n  </thead>\n  <tbody>\n    <tr>\n      <th>(1.0, 1.2]</th>\n      <td>3549</td>\n      <td>0.204001</td>\n    </tr>\n    <tr>\n      <th>(0.099, 0.8]</th>\n      <td>3569</td>\n      <td>0.202578</td>\n    </tr>\n    <tr>\n      <th>(0.8, 1.0]</th>\n      <td>4194</td>\n      <td>0.201001</td>\n    </tr>\n    <tr>\n      <th>(1.2, 9.9]</th>\n      <td>2497</td>\n      <td>0.200240</td>\n    </tr>\n  </tbody>\n</table>\n</div>"
     },
     "execution_count": 94,
     "metadata": {},
     "output_type": "execute_result"
    }
   ],
   "source": [
    "df_copy.groupby('eyesight_left_group').smoking.agg(['count', 'mean']).sort_values('mean', ascending=False)"
   ],
   "metadata": {
    "collapsed": false,
    "pycharm": {
     "name": "#%%\n"
    }
   }
  },
  {
   "cell_type": "code",
   "execution_count": 95,
   "outputs": [
    {
     "data": {
      "text/plain": "<Figure size 640x480 with 1 Axes>",
      "image/png": "[encoded data removed]"
     },
     "metadata": {},
     "output_type": "display_data"
    }
   ],
   "source": [
    "df_copy.groupby('eyesight_left_group').smoking.mean().plot();"
   ],
   "metadata": {
    "collapsed": false,
    "pycharm": {
     "name": "#%%\n"
    }
   }
  },
  {
   "cell_type": "markdown",
   "source": [
    "### Urine protein - НЕТ зависимости"
   ],
   "metadata": {
    "collapsed": false,
    "pycharm": {
     "name": "#%% md\n"
    }
   }
  },
  {
   "cell_type": "code",
   "execution_count": 101,
   "outputs": [],
   "source": [
    "df_copy['urine_protein_group'] = pd.qcut(df_copy['urine_protein'], 2, duplicates='drop')"
   ],
   "metadata": {
    "collapsed": false,
    "pycharm": {
     "name": "#%%\n"
    }
   }
  },
  {
   "cell_type": "code",
   "execution_count": 102,
   "outputs": [
    {
     "data": {
      "text/plain": "                     count      mean\nurine_protein_group                 \n(0.999, 6.0]         13809  0.202042",
      "text/html": "<div>\n<style scoped>\n    .dataframe tbody tr th:only-of-type {\n        vertical-align: middle;\n    }\n\n    .dataframe tbody tr th {\n        vertical-align: top;\n    }\n\n    .dataframe thead th {\n        text-align: right;\n    }\n</style>\n<table border=\"1\" class=\"dataframe\">\n  <thead>\n    <tr style=\"text-align: right;\">\n      <th></th>\n      <th>count</th>\n      <th>mean</th>\n    </tr>\n    <tr>\n      <th>urine_protein_group</th>\n      <th></th>\n      <th></th>\n    </tr>\n  </thead>\n  <tbody>\n    <tr>\n      <th>(0.999, 6.0]</th>\n      <td>13809</td>\n      <td>0.202042</td>\n    </tr>\n  </tbody>\n</table>\n</div>"
     },
     "execution_count": 102,
     "metadata": {},
     "output_type": "execute_result"
    }
   ],
   "source": [
    "df_copy.groupby('urine_protein_group').smoking.agg(['count', 'mean']).sort_values('mean', ascending=False)"
   ],
   "metadata": {
    "collapsed": false,
    "pycharm": {
     "name": "#%%\n"
    }
   }
  },
  {
   "cell_type": "code",
   "execution_count": 103,
   "outputs": [
    {
     "data": {
      "text/plain": "<Figure size 640x480 with 1 Axes>",
      "image/png": "[encoded data removed]"
     },
     "metadata": {},
     "output_type": "display_data"
    }
   ],
   "source": [
    "df_copy.groupby('urine_protein_group').smoking.mean().plot();"
   ],
   "metadata": {
    "collapsed": false,
    "pycharm": {
     "name": "#%%\n"
    }
   }
  },
  {
   "cell_type": "markdown",
   "source": [
    "### Dental caries - НЕТ зависимости"
   ],
   "metadata": {
    "collapsed": false,
    "pycharm": {
     "name": "#%% md\n"
    }
   }
  },
  {
   "cell_type": "code",
   "execution_count": 112,
   "outputs": [],
   "source": [
    "df_copy['dental_caries_group'] = pd.qcut(df_copy['dental_caries'], 2, duplicates='drop')"
   ],
   "metadata": {
    "collapsed": false,
    "pycharm": {
     "name": "#%%\n"
    }
   }
  },
  {
   "cell_type": "code",
   "execution_count": 113,
   "outputs": [
    {
     "data": {
      "text/plain": "                     count      mean\ndental_caries_group                 \n(-0.001, 1.0]        13809  0.202042",
      "text/html": "<div>\n<style scoped>\n    .dataframe tbody tr th:only-of-type {\n        vertical-align: middle;\n    }\n\n    .dataframe tbody tr th {\n        vertical-align: top;\n    }\n\n    .dataframe thead th {\n        text-align: right;\n    }\n</style>\n<table border=\"1\" class=\"dataframe\">\n  <thead>\n    <tr style=\"text-align: right;\">\n      <th></th>\n      <th>count</th>\n      <th>mean</th>\n    </tr>\n    <tr>\n      <th>dental_caries_group</th>\n      <th></th>\n      <th></th>\n    </tr>\n  </thead>\n  <tbody>\n    <tr>\n      <th>(-0.001, 1.0]</th>\n      <td>13809</td>\n      <td>0.202042</td>\n    </tr>\n  </tbody>\n</table>\n</div>"
     },
     "execution_count": 113,
     "metadata": {},
     "output_type": "execute_result"
    }
   ],
   "source": [
    "df_copy.groupby('dental_caries_group').smoking.agg(['count', 'mean']).sort_values('mean', ascending=False)"
   ],
   "metadata": {
    "collapsed": false,
    "pycharm": {
     "name": "#%%\n"
    }
   }
  },
  {
   "cell_type": "code",
   "execution_count": 115,
   "outputs": [
    {
     "data": {
      "text/plain": "dental_caries\n0    0.190275\n1    0.245734\nName: smoking, dtype: float64"
     },
     "execution_count": 115,
     "metadata": {},
     "output_type": "execute_result"
    }
   ],
   "source": [
    "df_copy.groupby('dental_caries').smoking.mean()"
   ],
   "metadata": {
    "collapsed": false,
    "pycharm": {
     "name": "#%%\n"
    }
   }
  },
  {
   "cell_type": "code",
   "execution_count": 109,
   "outputs": [
    {
     "data": {
      "text/plain": "<Figure size 640x480 with 1 Axes>",
      "image/png": "[encoded data removed]"
     },
     "metadata": {},
     "output_type": "display_data"
    }
   ],
   "source": [
    "df_copy.dental_caries.hist();"
   ],
   "metadata": {
    "collapsed": false,
    "pycharm": {
     "name": "#%%\n"
    }
   }
  },
  {
   "cell_type": "code",
   "execution_count": 124,
   "outputs": [
    {
     "data": {
      "text/plain": "<Figure size 640x480 with 1 Axes>",
      "image/png": "[encoded data removed]"
     },
     "metadata": {},
     "output_type": "display_data"
    }
   ],
   "source": [
    "df_copy.query('smoking == 1').dental_caries.hist();"
   ],
   "metadata": {
    "collapsed": false,
    "pycharm": {
     "name": "#%%\n"
    }
   }
  },
  {
   "cell_type": "code",
   "execution_count": 125,
   "outputs": [
    {
     "data": {
      "text/plain": "<Figure size 640x480 with 1 Axes>",
      "image/png": "[encoded data removed]"
     },
     "metadata": {},
     "output_type": "display_data"
    }
   ],
   "source": [
    "df_copy.query('smoking == 0').dental_caries.hist();"
   ],
   "metadata": {
    "collapsed": false,
    "pycharm": {
     "name": "#%%\n"
    }
   }
  },
  {
   "cell_type": "markdown",
   "source": [
    "### tartar - НЕТ зависимости"
   ],
   "metadata": {
    "collapsed": false,
    "pycharm": {
     "name": "#%% md\n"
    }
   }
  },
  {
   "cell_type": "code",
   "execution_count": 119,
   "outputs": [
    {
     "data": {
      "text/plain": "      id  age  height_cm_  weight_kg_  waist_cm_  eyesight_left_  \\\n0   2791   65         170          75       91.0             0.6   \n1  18280   35         170          85       97.0             1.5   \n2   1618   70         165          55       75.0             0.8   \n3  16856   35         180          85       83.0             1.2   \n4   5885   25         170          65       80.0             1.5   \n\n   eyesight_right_  hearing_left_  hearing_right_  systolic  relaxation  \\\n0              0.9            1.0             1.0     122.0        79.0   \n1              1.5            1.0             1.0     138.0        88.0   \n2              1.0            1.0             1.0     115.0        63.0   \n3              1.0            1.0             1.0     130.0        80.0   \n4              1.2            1.0             1.0     135.0        75.0   \n\n   fasting_blood_sugar  cholesterol  triglyceride   hdl    ldl  hemoglobin  \\\n0                107.0        119.0          51.0  71.0   52.0        14.0   \n1                117.0        204.0         239.0  46.0  120.0        14.6   \n2                128.0        165.0          60.0  68.0   85.0        14.7   \n3                100.0        209.0         155.0  53.0  125.0        17.2   \n4                 94.0        153.0          73.0  58.0   80.0        16.5   \n\n   urine_protein  serum_creatinine   ast   alt    gtp oral  dental_caries  \\\n0            3.0               1.2  20.0  16.0  122.0    Y              0   \n1            1.0               0.7  20.0  25.0   40.0    Y              0   \n2            1.0               0.7  15.0  13.0   19.0    Y              0   \n3            1.0               0.8  22.0  18.0   17.0    Y              0   \n4            1.0               1.0  20.0  13.0   14.0    Y              0   \n\n  tartar  smoking  \n0      N        0  \n1      Y        1  \n2      Y        0  \n3      Y        0  \n4      Y        1  ",
      "text/html": "<div>\n<style scoped>\n    .dataframe tbody tr th:only-of-type {\n        vertical-align: middle;\n    }\n\n    .dataframe tbody tr th {\n        vertical-align: top;\n    }\n\n    .dataframe thead th {\n        text-align: right;\n    }\n</style>\n<table border=\"1\" class=\"dataframe\">\n  <thead>\n    <tr style=\"text-align: right;\">\n      <th></th>\n      <th>id</th>\n      <th>age</th>\n      <th>height_cm_</th>\n      <th>weight_kg_</th>\n      <th>waist_cm_</th>\n      <th>eyesight_left_</th>\n      <th>eyesight_right_</th>\n      <th>hearing_left_</th>\n      <th>hearing_right_</th>\n      <th>systolic</th>\n      <th>relaxation</th>\n      <th>fasting_blood_sugar</th>\n      <th>cholesterol</th>\n      <th>triglyceride</th>\n      <th>hdl</th>\n      <th>ldl</th>\n      <th>hemoglobin</th>\n      <th>urine_protein</th>\n      <th>serum_creatinine</th>\n      <th>ast</th>\n      <th>alt</th>\n      <th>gtp</th>\n      <th>oral</th>\n      <th>dental_caries</th>\n      <th>tartar</th>\n      <th>smoking</th>\n    </tr>\n  </thead>\n  <tbody>\n    <tr>\n      <th>0</th>\n      <td>2791</td>\n      <td>65</td>\n      <td>170</td>\n      <td>75</td>\n      <td>91.0</td>\n      <td>0.6</td>\n      <td>0.9</td>\n      <td>1.0</td>\n      <td>1.0</td>\n      <td>122.0</td>\n      <td>79.0</td>\n      <td>107.0</td>\n      <td>119.0</td>\n      <td>51.0</td>\n      <td>71.0</td>\n      <td>52.0</td>\n      <td>14.0</td>\n      <td>3.0</td>\n      <td>1.2</td>\n      <td>20.0</td>\n      <td>16.0</td>\n      <td>122.0</td>\n      <td>Y</td>\n      <td>0</td>\n      <td>N</td>\n      <td>0</td>\n    </tr>\n    <tr>\n      <th>1</th>\n      <td>18280</td>\n      <td>35</td>\n      <td>170</td>\n      <td>85</td>\n      <td>97.0</td>\n      <td>1.5</td>\n      <td>1.5</td>\n      <td>1.0</td>\n      <td>1.0</td>\n      <td>138.0</td>\n      <td>88.0</td>\n      <td>117.0</td>\n      <td>204.0</td>\n      <td>239.0</td>\n      <td>46.0</td>\n      <td>120.0</td>\n      <td>14.6</td>\n      <td>1.0</td>\n      <td>0.7</td>\n      <td>20.0</td>\n      <td>25.0</td>\n      <td>40.0</td>\n      <td>Y</td>\n      <td>0</td>\n      <td>Y</td>\n      <td>1</td>\n    </tr>\n    <tr>\n      <th>2</th>\n      <td>1618</td>\n      <td>70</td>\n      <td>165</td>\n      <td>55</td>\n      <td>75.0</td>\n      <td>0.8</td>\n      <td>1.0</td>\n      <td>1.0</td>\n      <td>1.0</td>\n      <td>115.0</td>\n      <td>63.0</td>\n      <td>128.0</td>\n      <td>165.0</td>\n      <td>60.0</td>\n      <td>68.0</td>\n      <td>85.0</td>\n      <td>14.7</td>\n      <td>1.0</td>\n      <td>0.7</td>\n      <td>15.0</td>\n      <td>13.0</td>\n      <td>19.0</td>\n      <td>Y</td>\n      <td>0</td>\n      <td>Y</td>\n      <td>0</td>\n    </tr>\n    <tr>\n      <th>3</th>\n      <td>16856</td>\n      <td>35</td>\n      <td>180</td>\n      <td>85</td>\n      <td>83.0</td>\n      <td>1.2</td>\n      <td>1.0</td>\n      <td>1.0</td>\n      <td>1.0</td>\n      <td>130.0</td>\n      <td>80.0</td>\n      <td>100.0</td>\n      <td>209.0</td>\n      <td>155.0</td>\n      <td>53.0</td>\n      <td>125.0</td>\n      <td>17.2</td>\n      <td>1.0</td>\n      <td>0.8</td>\n      <td>22.0</td>\n      <td>18.0</td>\n      <td>17.0</td>\n      <td>Y</td>\n      <td>0</td>\n      <td>Y</td>\n      <td>0</td>\n    </tr>\n    <tr>\n      <th>4</th>\n      <td>5885</td>\n      <td>25</td>\n      <td>170</td>\n      <td>65</td>\n      <td>80.0</td>\n      <td>1.5</td>\n      <td>1.2</td>\n      <td>1.0</td>\n      <td>1.0</td>\n      <td>135.0</td>\n      <td>75.0</td>\n      <td>94.0</td>\n      <td>153.0</td>\n      <td>73.0</td>\n      <td>58.0</td>\n      <td>80.0</td>\n      <td>16.5</td>\n      <td>1.0</td>\n      <td>1.0</td>\n      <td>20.0</td>\n      <td>13.0</td>\n      <td>14.0</td>\n      <td>Y</td>\n      <td>0</td>\n      <td>Y</td>\n      <td>1</td>\n    </tr>\n  </tbody>\n</table>\n</div>"
     },
     "execution_count": 119,
     "metadata": {},
     "output_type": "execute_result"
    }
   ],
   "source": [
    "df.head()"
   ],
   "metadata": {
    "collapsed": false,
    "pycharm": {
     "name": "#%%\n"
    }
   }
  },
  {
   "cell_type": "code",
   "execution_count": 116,
   "outputs": [
    {
     "data": {
      "text/plain": "tartar\nN    0.172736\nY    0.226745\nName: smoking, dtype: float64"
     },
     "execution_count": 116,
     "metadata": {},
     "output_type": "execute_result"
    }
   ],
   "source": [
    "df_copy.groupby('tartar').smoking.mean()"
   ],
   "metadata": {
    "collapsed": false,
    "pycharm": {
     "name": "#%%\n"
    }
   }
  },
  {
   "cell_type": "code",
   "execution_count": 117,
   "outputs": [
    {
     "data": {
      "text/plain": "<Figure size 640x480 with 1 Axes>",
      "image/png": "[encoded data removed]"
     },
     "metadata": {},
     "output_type": "display_data"
    }
   ],
   "source": [
    "df_copy.tartar.hist();"
   ],
   "metadata": {
    "collapsed": false,
    "pycharm": {
     "name": "#%%\n"
    }
   }
  },
  {
   "cell_type": "code",
   "execution_count": 122,
   "outputs": [
    {
     "data": {
      "text/plain": "<Figure size 640x480 with 1 Axes>",
      "image/png": "[encoded data removed]"
     },
     "metadata": {},
     "output_type": "display_data"
    }
   ],
   "source": [
    "df_copy.query('smoking == 1').tartar.hist();"
   ],
   "metadata": {
    "collapsed": false,
    "pycharm": {
     "name": "#%%\n"
    }
   }
  },
  {
   "cell_type": "code",
   "execution_count": 123,
   "outputs": [
    {
     "data": {
      "text/plain": "<Figure size 640x480 with 1 Axes>",
      "image/png": "[encoded data removed]"
     },
     "metadata": {},
     "output_type": "display_data"
    }
   ],
   "source": [
    "df_copy.query('smoking == 0').tartar.hist();"
   ],
   "metadata": {
    "collapsed": false,
    "pycharm": {
     "name": "#%%\n"
    }
   }
  },
  {
   "cell_type": "code",
   "execution_count": null,
   "outputs": [],
   "source": [],
   "metadata": {
    "collapsed": false,
    "pycharm": {
     "name": "#%%\n"
    }
   }
  }
 ],
 "metadata": {
  "kernelspec": {
   "display_name": "Python 3",
   "language": "python",
   "name": "python3"
  },
  "language_info": {
   "codemirror_mode": {
    "name": "ipython",
    "version": 2
   },
   "file_extension": ".py",
   "mimetype": "text/x-python",
   "name": "python",
   "nbconvert_exporter": "python",
   "pygments_lexer": "ipython2",
   "version": "2.7.6"
  }
 },
 "nbformat": 4,
 "nbformat_minor": 0
}