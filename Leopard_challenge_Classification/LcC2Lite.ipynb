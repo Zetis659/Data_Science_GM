{
 "cells": [
  {
   "cell_type": "markdown",
   "metadata": {
    "pycharm": {
     "name": "#%% md\n"
    }
   },
   "source": [
    "# Leopard challenge Classification"
   ]
  },
  {
   "cell_type": "markdown",
   "metadata": {
    "pycharm": {
     "name": "#%% md\n"
    }
   },
   "source": [
    "## Загрузка данных\n",
    "Данные беру из leopard-challenge-classification.zip\n",
    "https://drive.google.com/file/d/1OYjGYeYQzKI3mE02ymtkrbRJb5EurpL7/view?usp=sharing"
   ]
  },
  {
   "cell_type": "markdown",
   "metadata": {
    "pycharm": {
     "name": "#%% md\n"
    }
   },
   "source": [
    "# Colab"
   ]
  },
  {
   "cell_type": "code",
   "execution_count": 1,
   "metadata": {
    "pycharm": {
     "name": "#%%\n"
    }
   },
   "outputs": [
    {
     "name": "stderr",
     "output_type": "stream",
     "text": [
      "\"gdown\" ­Ґ пў«пҐвбп ў­гваҐ­­Ґ© Ё«Ё ў­Ґи­Ґ©\n",
      "Є®¬ ­¤®©, ЁбЇ®«­пҐ¬®© Їа®Ја ¬¬®© Ё«Ё Ї ЄҐв­л¬ д ©«®¬.\n"
     ]
    }
   ],
   "source": [
    "! gdown --id 1OYjGYeYQzKI3mE02ymtkrbRJb5EurpL7"
   ]
  },
  {
   "cell_type": "markdown",
   "metadata": {
    "pycharm": {
     "name": "#%% md\n"
    }
   },
   "source": [
    "! unzip /content/leopard-challenge-classification.zip -d /content/leopard-challenge-classification/"
   ]
  },
  {
   "cell_type": "code",
   "execution_count": 9,
   "metadata": {
    "pycharm": {
     "name": "#%%\n"
    }
   },
   "outputs": [
    {
     "name": "stderr",
     "output_type": "stream",
     "text": [
      "\"unzip\" ­Ґ пў«пҐвбп ў­гваҐ­­Ґ© Ё«Ё ў­Ґи­Ґ©\n",
      "Є®¬ ­¤®©, ЁбЇ®«­пҐ¬®© Їа®Ја ¬¬®© Ё«Ё Ї ЄҐв­л¬ д ©«®¬.\n"
     ]
    }
   ],
   "source": [
    "! unzip / content / leopard-challenge-classification.zip -d / content / leopard_challenge_classification /"
   ]
  },
  {
   "cell_type": "code",
   "execution_count": 32,
   "metadata": {
    "pycharm": {
     "name": "#%%\n"
    }
   },
   "outputs": [],
   "source": [
    "import pandas as pd"
   ]
  },
  {
   "cell_type": "code",
   "execution_count": 1,
   "metadata": {
    "pycharm": {
     "name": "#%%\n"
    }
   },
   "outputs": [
    {
     "ename": "NameError",
     "evalue": "name 'pd' is not defined",
     "output_type": "error",
     "traceback": [
      "\u001B[1;31m---------------------------------------------------------------------------\u001B[0m",
      "\u001B[1;31mNameError\u001B[0m                                 Traceback (most recent call last)",
      "Cell \u001B[1;32mIn[1], line 1\u001B[0m\n\u001B[1;32m----> 1\u001B[0m train \u001B[38;5;241m=\u001B[39m \u001B[43mpd\u001B[49m\u001B[38;5;241m.\u001B[39mread_csv(\u001B[38;5;124m'\u001B[39m\u001B[38;5;124m/content/leopard_challenge_regression/train.csv\u001B[39m\u001B[38;5;124m'\u001B[39m)\n",
      "\u001B[1;31mNameError\u001B[0m: name 'pd' is not defined"
     ]
    }
   ],
   "source": [
    "df = pd.read_csv('/content/leopard_challenge_classification/train.csv')"
   ]
  },
  {
   "cell_type": "code",
   "execution_count": 1,
   "metadata": {
    "pycharm": {
     "name": "#%%\n"
    }
   },
   "outputs": [
    {
     "ename": "NameError",
     "evalue": "name 'train' is not defined",
     "output_type": "error",
     "traceback": [
      "\u001B[1;31m---------------------------------------------------------------------------\u001B[0m",
      "\u001B[1;31mNameError\u001B[0m                                 Traceback (most recent call last)",
      "Cell \u001B[1;32mIn[1], line 1\u001B[0m\n\u001B[1;32m----> 1\u001B[0m \u001B[43mtrain\u001B[49m\u001B[38;5;241m.\u001B[39mhead()\n",
      "\u001B[1;31mNameError\u001B[0m: name 'train' is not defined"
     ]
    }
   ],
   "source": [
    "df.head()"
   ]
  },
  {
   "cell_type": "code",
   "execution_count": null,
   "metadata": {
    "pycharm": {
     "name": "#%%\n"
    }
   },
   "outputs": [],
   "source": [
    "!pip install phik\n",
    "\n",
    "!pip install feature_engine\n",
    "\n",
    "!pip install catboost"
   ]
  },
  {
   "cell_type": "markdown",
   "metadata": {
    "pycharm": {
     "name": "#%% md\n"
    }
   },
   "source": [
    "# Pycharm"
   ]
  },
  {
   "cell_type": "code",
   "execution_count": 1,
   "metadata": {
    "pycharm": {
     "name": "#%%\n"
    }
   },
   "outputs": [],
   "source": [
    "from zipfile import ZipFile\n",
    "\n",
    "with ZipFile('leopard-challenge-classification.zip', 'r') as zf:\n",
    "    zf.extractall()"
   ]
  },
  {
   "cell_type": "markdown",
   "metadata": {
    "pycharm": {
     "name": "#%% md\n"
    }
   },
   "source": [
    "# 1. Задача"
   ]
  },
  {
   "cell_type": "markdown",
   "metadata": {
    "pycharm": {
     "name": "#%% md\n"
    }
   },
   "source": [
    "Дан набор данных с основными клиническими показателями людей.\n",
    "Каждая строчка в датасете - клинические показатели одного человека - рост, вес, зрение и т.д.\n",
    "**Задача:** Определить, курит человек или нет, на основании его показателей."
   ]
  },
  {
   "cell_type": "markdown",
   "metadata": {
    "pycharm": {
     "name": "#%% md\n"
    }
   },
   "source": [
    "# 2. Импорт библиотек"
   ]
  },
  {
   "cell_type": "code",
   "execution_count": 1,
   "metadata": {
    "pycharm": {
     "name": "#%%\n"
    }
   },
   "outputs": [],
   "source": [
    "import pandas as pd\n",
    "import seaborn as sns\n",
    "import matplotlib.pyplot as plt\n",
    "import numpy as np\n",
    "import missingno as msno\n",
    "import phik\n",
    "import folium\n",
    "from feature_engine.selection import SmartCorrelatedSelection\n",
    "from feature_engine.imputation import RandomSampleImputer\n",
    "from sklearn.metrics import mean_absolute_percentage_error, mean_absolute_error, log_loss\n",
    "from sklearn.model_selection import train_test_split\n",
    "from catboost import CatBoostClassifier, Pool, cv\n",
    "import joblib\n",
    "from sklearn.model_selection import GridSearchCV\n",
    "from sklearn.ensemble import RandomForestClassifier\n",
    "import warnings\n",
    "\n",
    "warnings.filterwarnings(\"ignore\")\n",
    "# plt.style.use('dark_background')\n",
    "plt.style.use('seaborn-colorblind')\n",
    "pd.set_option('display.max_columns', 100)"
   ]
  },
  {
   "cell_type": "markdown",
   "metadata": {
    "pycharm": {
     "name": "#%% md\n"
    }
   },
   "source": [
    "# 3. Загрузка Датасета"
   ]
  },
  {
   "cell_type": "code",
   "execution_count": 2,
   "metadata": {
    "pycharm": {
     "name": "#%%\n"
    }
   },
   "outputs": [],
   "source": [
    "df = pd.read_csv('train.csv')"
   ]
  },
  {
   "cell_type": "code",
   "execution_count": 3,
   "metadata": {
    "pycharm": {
     "name": "#%%\n"
    }
   },
   "outputs": [
    {
     "data": {
      "text/plain": "      ID  age  height(cm)  weight(kg)  waist(cm)  eyesight(left)  \\\n0   2791   65         170          75       91.0             0.6   \n1  18280   35         170          85       97.0             1.5   \n2   1618   70         165          55       75.0             0.8   \n3  16856   35         180          85       83.0             1.2   \n4   5885   25         170          65       80.0             1.5   \n\n   eyesight(right)  hearing(left)  hearing(right)  systolic  relaxation  \\\n0              0.9            1.0             1.0     122.0        79.0   \n1              1.5            1.0             1.0     138.0        88.0   \n2              1.0            1.0             1.0     115.0        63.0   \n3              1.0            1.0             1.0     130.0        80.0   \n4              1.2            1.0             1.0     135.0        75.0   \n\n   fasting blood sugar  Cholesterol  triglyceride   HDL    LDL  hemoglobin  \\\n0                107.0        119.0          51.0  71.0   52.0        14.0   \n1                117.0        204.0         239.0  46.0  120.0        14.6   \n2                128.0        165.0          60.0  68.0   85.0        14.7   \n3                100.0        209.0         155.0  53.0  125.0        17.2   \n4                 94.0        153.0          73.0  58.0   80.0        16.5   \n\n   Urine protein  serum creatinine   AST   ALT    Gtp oral  dental caries  \\\n0            3.0               1.2  20.0  16.0  122.0    Y              0   \n1            1.0               0.7  20.0  25.0   40.0    Y              0   \n2            1.0               0.7  15.0  13.0   19.0    Y              0   \n3            1.0               0.8  22.0  18.0   17.0    Y              0   \n4            1.0               1.0  20.0  13.0   14.0    Y              0   \n\n  tartar  smoking  \n0      N        0  \n1      Y        1  \n2      Y        0  \n3      Y        0  \n4      Y        1  ",
      "text/html": "<div>\n<style scoped>\n    .dataframe tbody tr th:only-of-type {\n        vertical-align: middle;\n    }\n\n    .dataframe tbody tr th {\n        vertical-align: top;\n    }\n\n    .dataframe thead th {\n        text-align: right;\n    }\n</style>\n<table border=\"1\" class=\"dataframe\">\n  <thead>\n    <tr style=\"text-align: right;\">\n      <th></th>\n      <th>ID</th>\n      <th>age</th>\n      <th>height(cm)</th>\n      <th>weight(kg)</th>\n      <th>waist(cm)</th>\n      <th>eyesight(left)</th>\n      <th>eyesight(right)</th>\n      <th>hearing(left)</th>\n      <th>hearing(right)</th>\n      <th>systolic</th>\n      <th>relaxation</th>\n      <th>fasting blood sugar</th>\n      <th>Cholesterol</th>\n      <th>triglyceride</th>\n      <th>HDL</th>\n      <th>LDL</th>\n      <th>hemoglobin</th>\n      <th>Urine protein</th>\n      <th>serum creatinine</th>\n      <th>AST</th>\n      <th>ALT</th>\n      <th>Gtp</th>\n      <th>oral</th>\n      <th>dental caries</th>\n      <th>tartar</th>\n      <th>smoking</th>\n    </tr>\n  </thead>\n  <tbody>\n    <tr>\n      <th>0</th>\n      <td>2791</td>\n      <td>65</td>\n      <td>170</td>\n      <td>75</td>\n      <td>91.0</td>\n      <td>0.6</td>\n      <td>0.9</td>\n      <td>1.0</td>\n      <td>1.0</td>\n      <td>122.0</td>\n      <td>79.0</td>\n      <td>107.0</td>\n      <td>119.0</td>\n      <td>51.0</td>\n      <td>71.0</td>\n      <td>52.0</td>\n      <td>14.0</td>\n      <td>3.0</td>\n      <td>1.2</td>\n      <td>20.0</td>\n      <td>16.0</td>\n      <td>122.0</td>\n      <td>Y</td>\n      <td>0</td>\n      <td>N</td>\n      <td>0</td>\n    </tr>\n    <tr>\n      <th>1</th>\n      <td>18280</td>\n      <td>35</td>\n      <td>170</td>\n      <td>85</td>\n      <td>97.0</td>\n      <td>1.5</td>\n      <td>1.5</td>\n      <td>1.0</td>\n      <td>1.0</td>\n      <td>138.0</td>\n      <td>88.0</td>\n      <td>117.0</td>\n      <td>204.0</td>\n      <td>239.0</td>\n      <td>46.0</td>\n      <td>120.0</td>\n      <td>14.6</td>\n      <td>1.0</td>\n      <td>0.7</td>\n      <td>20.0</td>\n      <td>25.0</td>\n      <td>40.0</td>\n      <td>Y</td>\n      <td>0</td>\n      <td>Y</td>\n      <td>1</td>\n    </tr>\n    <tr>\n      <th>2</th>\n      <td>1618</td>\n      <td>70</td>\n      <td>165</td>\n      <td>55</td>\n      <td>75.0</td>\n      <td>0.8</td>\n      <td>1.0</td>\n      <td>1.0</td>\n      <td>1.0</td>\n      <td>115.0</td>\n      <td>63.0</td>\n      <td>128.0</td>\n      <td>165.0</td>\n      <td>60.0</td>\n      <td>68.0</td>\n      <td>85.0</td>\n      <td>14.7</td>\n      <td>1.0</td>\n      <td>0.7</td>\n      <td>15.0</td>\n      <td>13.0</td>\n      <td>19.0</td>\n      <td>Y</td>\n      <td>0</td>\n      <td>Y</td>\n      <td>0</td>\n    </tr>\n    <tr>\n      <th>3</th>\n      <td>16856</td>\n      <td>35</td>\n      <td>180</td>\n      <td>85</td>\n      <td>83.0</td>\n      <td>1.2</td>\n      <td>1.0</td>\n      <td>1.0</td>\n      <td>1.0</td>\n      <td>130.0</td>\n      <td>80.0</td>\n      <td>100.0</td>\n      <td>209.0</td>\n      <td>155.0</td>\n      <td>53.0</td>\n      <td>125.0</td>\n      <td>17.2</td>\n      <td>1.0</td>\n      <td>0.8</td>\n      <td>22.0</td>\n      <td>18.0</td>\n      <td>17.0</td>\n      <td>Y</td>\n      <td>0</td>\n      <td>Y</td>\n      <td>0</td>\n    </tr>\n    <tr>\n      <th>4</th>\n      <td>5885</td>\n      <td>25</td>\n      <td>170</td>\n      <td>65</td>\n      <td>80.0</td>\n      <td>1.5</td>\n      <td>1.2</td>\n      <td>1.0</td>\n      <td>1.0</td>\n      <td>135.0</td>\n      <td>75.0</td>\n      <td>94.0</td>\n      <td>153.0</td>\n      <td>73.0</td>\n      <td>58.0</td>\n      <td>80.0</td>\n      <td>16.5</td>\n      <td>1.0</td>\n      <td>1.0</td>\n      <td>20.0</td>\n      <td>13.0</td>\n      <td>14.0</td>\n      <td>Y</td>\n      <td>0</td>\n      <td>Y</td>\n      <td>1</td>\n    </tr>\n  </tbody>\n</table>\n</div>"
     },
     "execution_count": 3,
     "metadata": {},
     "output_type": "execute_result"
    }
   ],
   "source": [
    "df.head()"
   ]
  },
  {
   "cell_type": "code",
   "execution_count": 4,
   "metadata": {
    "pycharm": {
     "name": "#%%\n"
    }
   },
   "outputs": [
    {
     "data": {
      "text/plain": "(13863, 26)"
     },
     "execution_count": 4,
     "metadata": {},
     "output_type": "execute_result"
    }
   ],
   "source": [
    "df.shape"
   ]
  },
  {
   "cell_type": "code",
   "execution_count": 5,
   "metadata": {
    "pycharm": {
     "name": "#%%\n"
    }
   },
   "outputs": [],
   "source": [
    "df_test = pd.read_csv('test.csv')"
   ]
  },
  {
   "cell_type": "code",
   "execution_count": 6,
   "metadata": {
    "pycharm": {
     "name": "#%%\n"
    }
   },
   "outputs": [
    {
     "data": {
      "text/plain": "      ID  age  height(cm)  weight(kg)  waist(cm)  eyesight(left)  \\\n0   2791   65         170          75       91.0             0.6   \n1  18280   35         170          85       97.0             1.5   \n2   1618   70         165          55       75.0             0.8   \n3  16856   35         180          85       83.0             1.2   \n4   5885   25         170          65       80.0             1.5   \n\n   eyesight(right)  hearing(left)  hearing(right)  systolic  relaxation  \\\n0              0.9            1.0             1.0     122.0        79.0   \n1              1.5            1.0             1.0     138.0        88.0   \n2              1.0            1.0             1.0     115.0        63.0   \n3              1.0            1.0             1.0     130.0        80.0   \n4              1.2            1.0             1.0     135.0        75.0   \n\n   fasting blood sugar  Cholesterol  triglyceride   HDL    LDL  hemoglobin  \\\n0                107.0        119.0          51.0  71.0   52.0        14.0   \n1                117.0        204.0         239.0  46.0  120.0        14.6   \n2                128.0        165.0          60.0  68.0   85.0        14.7   \n3                100.0        209.0         155.0  53.0  125.0        17.2   \n4                 94.0        153.0          73.0  58.0   80.0        16.5   \n\n   Urine protein  serum creatinine   AST   ALT    Gtp oral  dental caries  \\\n0            3.0               1.2  20.0  16.0  122.0    Y              0   \n1            1.0               0.7  20.0  25.0   40.0    Y              0   \n2            1.0               0.7  15.0  13.0   19.0    Y              0   \n3            1.0               0.8  22.0  18.0   17.0    Y              0   \n4            1.0               1.0  20.0  13.0   14.0    Y              0   \n\n  tartar  smoking  \n0      N        0  \n1      Y        1  \n2      Y        0  \n3      Y        0  \n4      Y        1  ",
      "text/html": "<div>\n<style scoped>\n    .dataframe tbody tr th:only-of-type {\n        vertical-align: middle;\n    }\n\n    .dataframe tbody tr th {\n        vertical-align: top;\n    }\n\n    .dataframe thead th {\n        text-align: right;\n    }\n</style>\n<table border=\"1\" class=\"dataframe\">\n  <thead>\n    <tr style=\"text-align: right;\">\n      <th></th>\n      <th>ID</th>\n      <th>age</th>\n      <th>height(cm)</th>\n      <th>weight(kg)</th>\n      <th>waist(cm)</th>\n      <th>eyesight(left)</th>\n      <th>eyesight(right)</th>\n      <th>hearing(left)</th>\n      <th>hearing(right)</th>\n      <th>systolic</th>\n      <th>relaxation</th>\n      <th>fasting blood sugar</th>\n      <th>Cholesterol</th>\n      <th>triglyceride</th>\n      <th>HDL</th>\n      <th>LDL</th>\n      <th>hemoglobin</th>\n      <th>Urine protein</th>\n      <th>serum creatinine</th>\n      <th>AST</th>\n      <th>ALT</th>\n      <th>Gtp</th>\n      <th>oral</th>\n      <th>dental caries</th>\n      <th>tartar</th>\n      <th>smoking</th>\n    </tr>\n  </thead>\n  <tbody>\n    <tr>\n      <th>0</th>\n      <td>2791</td>\n      <td>65</td>\n      <td>170</td>\n      <td>75</td>\n      <td>91.0</td>\n      <td>0.6</td>\n      <td>0.9</td>\n      <td>1.0</td>\n      <td>1.0</td>\n      <td>122.0</td>\n      <td>79.0</td>\n      <td>107.0</td>\n      <td>119.0</td>\n      <td>51.0</td>\n      <td>71.0</td>\n      <td>52.0</td>\n      <td>14.0</td>\n      <td>3.0</td>\n      <td>1.2</td>\n      <td>20.0</td>\n      <td>16.0</td>\n      <td>122.0</td>\n      <td>Y</td>\n      <td>0</td>\n      <td>N</td>\n      <td>0</td>\n    </tr>\n    <tr>\n      <th>1</th>\n      <td>18280</td>\n      <td>35</td>\n      <td>170</td>\n      <td>85</td>\n      <td>97.0</td>\n      <td>1.5</td>\n      <td>1.5</td>\n      <td>1.0</td>\n      <td>1.0</td>\n      <td>138.0</td>\n      <td>88.0</td>\n      <td>117.0</td>\n      <td>204.0</td>\n      <td>239.0</td>\n      <td>46.0</td>\n      <td>120.0</td>\n      <td>14.6</td>\n      <td>1.0</td>\n      <td>0.7</td>\n      <td>20.0</td>\n      <td>25.0</td>\n      <td>40.0</td>\n      <td>Y</td>\n      <td>0</td>\n      <td>Y</td>\n      <td>1</td>\n    </tr>\n    <tr>\n      <th>2</th>\n      <td>1618</td>\n      <td>70</td>\n      <td>165</td>\n      <td>55</td>\n      <td>75.0</td>\n      <td>0.8</td>\n      <td>1.0</td>\n      <td>1.0</td>\n      <td>1.0</td>\n      <td>115.0</td>\n      <td>63.0</td>\n      <td>128.0</td>\n      <td>165.0</td>\n      <td>60.0</td>\n      <td>68.0</td>\n      <td>85.0</td>\n      <td>14.7</td>\n      <td>1.0</td>\n      <td>0.7</td>\n      <td>15.0</td>\n      <td>13.0</td>\n      <td>19.0</td>\n      <td>Y</td>\n      <td>0</td>\n      <td>Y</td>\n      <td>0</td>\n    </tr>\n    <tr>\n      <th>3</th>\n      <td>16856</td>\n      <td>35</td>\n      <td>180</td>\n      <td>85</td>\n      <td>83.0</td>\n      <td>1.2</td>\n      <td>1.0</td>\n      <td>1.0</td>\n      <td>1.0</td>\n      <td>130.0</td>\n      <td>80.0</td>\n      <td>100.0</td>\n      <td>209.0</td>\n      <td>155.0</td>\n      <td>53.0</td>\n      <td>125.0</td>\n      <td>17.2</td>\n      <td>1.0</td>\n      <td>0.8</td>\n      <td>22.0</td>\n      <td>18.0</td>\n      <td>17.0</td>\n      <td>Y</td>\n      <td>0</td>\n      <td>Y</td>\n      <td>0</td>\n    </tr>\n    <tr>\n      <th>4</th>\n      <td>5885</td>\n      <td>25</td>\n      <td>170</td>\n      <td>65</td>\n      <td>80.0</td>\n      <td>1.5</td>\n      <td>1.2</td>\n      <td>1.0</td>\n      <td>1.0</td>\n      <td>135.0</td>\n      <td>75.0</td>\n      <td>94.0</td>\n      <td>153.0</td>\n      <td>73.0</td>\n      <td>58.0</td>\n      <td>80.0</td>\n      <td>16.5</td>\n      <td>1.0</td>\n      <td>1.0</td>\n      <td>20.0</td>\n      <td>13.0</td>\n      <td>14.0</td>\n      <td>Y</td>\n      <td>0</td>\n      <td>Y</td>\n      <td>1</td>\n    </tr>\n  </tbody>\n</table>\n</div>"
     },
     "execution_count": 6,
     "metadata": {},
     "output_type": "execute_result"
    }
   ],
   "source": [
    "df.head()"
   ]
  },
  {
   "cell_type": "code",
   "execution_count": 7,
   "metadata": {
    "pycharm": {
     "name": "#%%\n"
    }
   },
   "outputs": [
    {
     "data": {
      "text/plain": "(5942, 25)"
     },
     "execution_count": 7,
     "metadata": {},
     "output_type": "execute_result"
    }
   ],
   "source": [
    "df_test.shape"
   ]
  },
  {
   "cell_type": "markdown",
   "metadata": {
    "pycharm": {
     "name": "#%% md\n"
    }
   },
   "source": [
    "# 4. Получение информации о Датасете"
   ]
  },
  {
   "cell_type": "markdown",
   "metadata": {
    "pycharm": {
     "name": "#%% md\n"
    }
   },
   "source": [
    "## 4.1 Подготовка таблиц"
   ]
  },
  {
   "cell_type": "markdown",
   "metadata": {
    "pycharm": {
     "name": "#%% md\n"
    }
   },
   "source": [
    "### Перевод названий колонок в строчные буквы и замена пробелов"
   ]
  },
  {
   "cell_type": "code",
   "execution_count": 8,
   "metadata": {
    "pycharm": {
     "name": "#%%\n"
    }
   },
   "outputs": [
    {
     "data": {
      "text/plain": "      ID  age  height(cm)  weight(kg)  waist(cm)  eyesight(left)  \\\n0   2791   65         170          75       91.0             0.6   \n1  18280   35         170          85       97.0             1.5   \n2   1618   70         165          55       75.0             0.8   \n3  16856   35         180          85       83.0             1.2   \n4   5885   25         170          65       80.0             1.5   \n\n   eyesight(right)  hearing(left)  hearing(right)  systolic  relaxation  \\\n0              0.9            1.0             1.0     122.0        79.0   \n1              1.5            1.0             1.0     138.0        88.0   \n2              1.0            1.0             1.0     115.0        63.0   \n3              1.0            1.0             1.0     130.0        80.0   \n4              1.2            1.0             1.0     135.0        75.0   \n\n   fasting blood sugar  Cholesterol  triglyceride   HDL    LDL  hemoglobin  \\\n0                107.0        119.0          51.0  71.0   52.0        14.0   \n1                117.0        204.0         239.0  46.0  120.0        14.6   \n2                128.0        165.0          60.0  68.0   85.0        14.7   \n3                100.0        209.0         155.0  53.0  125.0        17.2   \n4                 94.0        153.0          73.0  58.0   80.0        16.5   \n\n   Urine protein  serum creatinine   AST   ALT    Gtp oral  dental caries  \\\n0            3.0               1.2  20.0  16.0  122.0    Y              0   \n1            1.0               0.7  20.0  25.0   40.0    Y              0   \n2            1.0               0.7  15.0  13.0   19.0    Y              0   \n3            1.0               0.8  22.0  18.0   17.0    Y              0   \n4            1.0               1.0  20.0  13.0   14.0    Y              0   \n\n  tartar  smoking  \n0      N        0  \n1      Y        1  \n2      Y        0  \n3      Y        0  \n4      Y        1  ",
      "text/html": "<div>\n<style scoped>\n    .dataframe tbody tr th:only-of-type {\n        vertical-align: middle;\n    }\n\n    .dataframe tbody tr th {\n        vertical-align: top;\n    }\n\n    .dataframe thead th {\n        text-align: right;\n    }\n</style>\n<table border=\"1\" class=\"dataframe\">\n  <thead>\n    <tr style=\"text-align: right;\">\n      <th></th>\n      <th>ID</th>\n      <th>age</th>\n      <th>height(cm)</th>\n      <th>weight(kg)</th>\n      <th>waist(cm)</th>\n      <th>eyesight(left)</th>\n      <th>eyesight(right)</th>\n      <th>hearing(left)</th>\n      <th>hearing(right)</th>\n      <th>systolic</th>\n      <th>relaxation</th>\n      <th>fasting blood sugar</th>\n      <th>Cholesterol</th>\n      <th>triglyceride</th>\n      <th>HDL</th>\n      <th>LDL</th>\n      <th>hemoglobin</th>\n      <th>Urine protein</th>\n      <th>serum creatinine</th>\n      <th>AST</th>\n      <th>ALT</th>\n      <th>Gtp</th>\n      <th>oral</th>\n      <th>dental caries</th>\n      <th>tartar</th>\n      <th>smoking</th>\n    </tr>\n  </thead>\n  <tbody>\n    <tr>\n      <th>0</th>\n      <td>2791</td>\n      <td>65</td>\n      <td>170</td>\n      <td>75</td>\n      <td>91.0</td>\n      <td>0.6</td>\n      <td>0.9</td>\n      <td>1.0</td>\n      <td>1.0</td>\n      <td>122.0</td>\n      <td>79.0</td>\n      <td>107.0</td>\n      <td>119.0</td>\n      <td>51.0</td>\n      <td>71.0</td>\n      <td>52.0</td>\n      <td>14.0</td>\n      <td>3.0</td>\n      <td>1.2</td>\n      <td>20.0</td>\n      <td>16.0</td>\n      <td>122.0</td>\n      <td>Y</td>\n      <td>0</td>\n      <td>N</td>\n      <td>0</td>\n    </tr>\n    <tr>\n      <th>1</th>\n      <td>18280</td>\n      <td>35</td>\n      <td>170</td>\n      <td>85</td>\n      <td>97.0</td>\n      <td>1.5</td>\n      <td>1.5</td>\n      <td>1.0</td>\n      <td>1.0</td>\n      <td>138.0</td>\n      <td>88.0</td>\n      <td>117.0</td>\n      <td>204.0</td>\n      <td>239.0</td>\n      <td>46.0</td>\n      <td>120.0</td>\n      <td>14.6</td>\n      <td>1.0</td>\n      <td>0.7</td>\n      <td>20.0</td>\n      <td>25.0</td>\n      <td>40.0</td>\n      <td>Y</td>\n      <td>0</td>\n      <td>Y</td>\n      <td>1</td>\n    </tr>\n    <tr>\n      <th>2</th>\n      <td>1618</td>\n      <td>70</td>\n      <td>165</td>\n      <td>55</td>\n      <td>75.0</td>\n      <td>0.8</td>\n      <td>1.0</td>\n      <td>1.0</td>\n      <td>1.0</td>\n      <td>115.0</td>\n      <td>63.0</td>\n      <td>128.0</td>\n      <td>165.0</td>\n      <td>60.0</td>\n      <td>68.0</td>\n      <td>85.0</td>\n      <td>14.7</td>\n      <td>1.0</td>\n      <td>0.7</td>\n      <td>15.0</td>\n      <td>13.0</td>\n      <td>19.0</td>\n      <td>Y</td>\n      <td>0</td>\n      <td>Y</td>\n      <td>0</td>\n    </tr>\n    <tr>\n      <th>3</th>\n      <td>16856</td>\n      <td>35</td>\n      <td>180</td>\n      <td>85</td>\n      <td>83.0</td>\n      <td>1.2</td>\n      <td>1.0</td>\n      <td>1.0</td>\n      <td>1.0</td>\n      <td>130.0</td>\n      <td>80.0</td>\n      <td>100.0</td>\n      <td>209.0</td>\n      <td>155.0</td>\n      <td>53.0</td>\n      <td>125.0</td>\n      <td>17.2</td>\n      <td>1.0</td>\n      <td>0.8</td>\n      <td>22.0</td>\n      <td>18.0</td>\n      <td>17.0</td>\n      <td>Y</td>\n      <td>0</td>\n      <td>Y</td>\n      <td>0</td>\n    </tr>\n    <tr>\n      <th>4</th>\n      <td>5885</td>\n      <td>25</td>\n      <td>170</td>\n      <td>65</td>\n      <td>80.0</td>\n      <td>1.5</td>\n      <td>1.2</td>\n      <td>1.0</td>\n      <td>1.0</td>\n      <td>135.0</td>\n      <td>75.0</td>\n      <td>94.0</td>\n      <td>153.0</td>\n      <td>73.0</td>\n      <td>58.0</td>\n      <td>80.0</td>\n      <td>16.5</td>\n      <td>1.0</td>\n      <td>1.0</td>\n      <td>20.0</td>\n      <td>13.0</td>\n      <td>14.0</td>\n      <td>Y</td>\n      <td>0</td>\n      <td>Y</td>\n      <td>1</td>\n    </tr>\n  </tbody>\n</table>\n</div>"
     },
     "execution_count": 8,
     "metadata": {},
     "output_type": "execute_result"
    }
   ],
   "source": [
    "df.head()"
   ]
  },
  {
   "cell_type": "code",
   "execution_count": 9,
   "metadata": {
    "pycharm": {
     "name": "#%%\n"
    }
   },
   "outputs": [],
   "source": [
    "df.columns = df.columns.str.replace(' ', '_').str.replace('(', '_').str.replace(')', '_').str.lower()\n",
    "df_test.columns = df_test.columns.str.replace(' ', '_').str.replace('(', '_').str.replace(')', '_').str.lower()"
   ]
  },
  {
   "cell_type": "markdown",
   "metadata": {
    "pycharm": {
     "name": "#%% md\n"
    }
   },
   "source": [
    "## 4.2 Основная информация о датасете"
   ]
  },
  {
   "cell_type": "code",
   "execution_count": 10,
   "metadata": {
    "pycharm": {
     "name": "#%%\n"
    }
   },
   "outputs": [
    {
     "name": "stdout",
     "output_type": "stream",
     "text": [
      "<class 'pandas.core.frame.DataFrame'>\n",
      "RangeIndex: 13863 entries, 0 to 13862\n",
      "Data columns (total 26 columns):\n",
      " #   Column               Non-Null Count  Dtype  \n",
      "---  ------               --------------  -----  \n",
      " 0   id                   13863 non-null  int64  \n",
      " 1   age                  13863 non-null  int64  \n",
      " 2   height_cm_           13863 non-null  int64  \n",
      " 3   weight_kg_           13863 non-null  int64  \n",
      " 4   waist_cm_            13863 non-null  float64\n",
      " 5   eyesight_left_       13863 non-null  float64\n",
      " 6   eyesight_right_      13863 non-null  float64\n",
      " 7   hearing_left_        13863 non-null  float64\n",
      " 8   hearing_right_       13863 non-null  float64\n",
      " 9   systolic             13863 non-null  float64\n",
      " 10  relaxation           13863 non-null  float64\n",
      " 11  fasting_blood_sugar  13863 non-null  float64\n",
      " 12  cholesterol          13863 non-null  float64\n",
      " 13  triglyceride         13863 non-null  float64\n",
      " 14  hdl                  13863 non-null  float64\n",
      " 15  ldl                  13863 non-null  float64\n",
      " 16  hemoglobin           13863 non-null  float64\n",
      " 17  urine_protein        13863 non-null  float64\n",
      " 18  serum_creatinine     13863 non-null  float64\n",
      " 19  ast                  13863 non-null  float64\n",
      " 20  alt                  13863 non-null  float64\n",
      " 21  gtp                  13863 non-null  float64\n",
      " 22  oral                 13863 non-null  object \n",
      " 23  dental_caries        13863 non-null  int64  \n",
      " 24  tartar               13863 non-null  object \n",
      " 25  smoking              13863 non-null  int64  \n",
      "dtypes: float64(18), int64(6), object(2)\n",
      "memory usage: 2.8+ MB\n"
     ]
    }
   ],
   "source": [
    "df.info()"
   ]
  },
  {
   "cell_type": "code",
   "execution_count": 11,
   "metadata": {
    "pycharm": {
     "name": "#%%\n"
    }
   },
   "outputs": [
    {
     "name": "stdout",
     "output_type": "stream",
     "text": [
      "<class 'pandas.core.frame.DataFrame'>\n",
      "RangeIndex: 5942 entries, 0 to 5941\n",
      "Data columns (total 25 columns):\n",
      " #   Column               Non-Null Count  Dtype  \n",
      "---  ------               --------------  -----  \n",
      " 0   id                   5942 non-null   int64  \n",
      " 1   age                  5942 non-null   int64  \n",
      " 2   height_cm_           5942 non-null   int64  \n",
      " 3   weight_kg_           5942 non-null   int64  \n",
      " 4   waist_cm_            5942 non-null   float64\n",
      " 5   eyesight_left_       5942 non-null   float64\n",
      " 6   eyesight_right_      5942 non-null   float64\n",
      " 7   hearing_left_        5942 non-null   float64\n",
      " 8   hearing_right_       5942 non-null   float64\n",
      " 9   systolic             5942 non-null   float64\n",
      " 10  relaxation           5942 non-null   float64\n",
      " 11  fasting_blood_sugar  5942 non-null   float64\n",
      " 12  cholesterol          5942 non-null   float64\n",
      " 13  triglyceride         5942 non-null   float64\n",
      " 14  hdl                  5942 non-null   float64\n",
      " 15  ldl                  5942 non-null   float64\n",
      " 16  hemoglobin           5942 non-null   float64\n",
      " 17  urine_protein        5942 non-null   float64\n",
      " 18  serum_creatinine     5942 non-null   float64\n",
      " 19  ast                  5942 non-null   float64\n",
      " 20  alt                  5942 non-null   float64\n",
      " 21  gtp                  5942 non-null   float64\n",
      " 22  oral                 5942 non-null   object \n",
      " 23  dental_caries        5942 non-null   int64  \n",
      " 24  tartar               5942 non-null   object \n",
      "dtypes: float64(18), int64(5), object(2)\n",
      "memory usage: 1.1+ MB\n"
     ]
    }
   ],
   "source": [
    "df_test.info()"
   ]
  },
  {
   "cell_type": "markdown",
   "metadata": {
    "pycharm": {
     "name": "#%% md\n"
    }
   },
   "source": [
    "## 4.3 Пропущенные значения"
   ]
  },
  {
   "cell_type": "code",
   "execution_count": 12,
   "metadata": {
    "pycharm": {
     "name": "#%%\n"
    }
   },
   "outputs": [
    {
     "data": {
      "text/plain": "id                     0.0\nage                    0.0\ntartar                 0.0\ndental_caries          0.0\noral                   0.0\ngtp                    0.0\nalt                    0.0\nast                    0.0\nserum_creatinine       0.0\nurine_protein          0.0\nhemoglobin             0.0\nldl                    0.0\nhdl                    0.0\ntriglyceride           0.0\ncholesterol            0.0\nfasting_blood_sugar    0.0\nrelaxation             0.0\nsystolic               0.0\nhearing_right_         0.0\nhearing_left_          0.0\neyesight_right_        0.0\neyesight_left_         0.0\nwaist_cm_              0.0\nweight_kg_             0.0\nheight_cm_             0.0\nsmoking                0.0\ndtype: float64"
     },
     "execution_count": 12,
     "metadata": {},
     "output_type": "execute_result"
    }
   ],
   "source": [
    "df.isna().mean().sort_values(ascending=False)"
   ]
  },
  {
   "cell_type": "code",
   "execution_count": 13,
   "metadata": {
    "pycharm": {
     "name": "#%%\n"
    }
   },
   "outputs": [
    {
     "data": {
      "text/plain": "id                     0.0\ntriglyceride           0.0\ndental_caries          0.0\noral                   0.0\ngtp                    0.0\nalt                    0.0\nast                    0.0\nserum_creatinine       0.0\nurine_protein          0.0\nhemoglobin             0.0\nldl                    0.0\nhdl                    0.0\ncholesterol            0.0\nage                    0.0\nfasting_blood_sugar    0.0\nrelaxation             0.0\nsystolic               0.0\nhearing_right_         0.0\nhearing_left_          0.0\neyesight_right_        0.0\neyesight_left_         0.0\nwaist_cm_              0.0\nweight_kg_             0.0\nheight_cm_             0.0\ntartar                 0.0\ndtype: float64"
     },
     "execution_count": 13,
     "metadata": {},
     "output_type": "execute_result"
    }
   ],
   "source": [
    "df_test.isna().mean().sort_values(ascending=False)"
   ]
  },
  {
   "cell_type": "markdown",
   "metadata": {
    "pycharm": {
     "name": "#%% md\n"
    }
   },
   "source": [
    "**Пропуски в данных отсутствуют!!**"
   ]
  },
  {
   "cell_type": "markdown",
   "metadata": {
    "pycharm": {
     "name": "#%% md\n"
    }
   },
   "source": [
    "## 4.4 Дубликаты"
   ]
  },
  {
   "cell_type": "code",
   "execution_count": 14,
   "metadata": {
    "pycharm": {
     "name": "#%%\n"
    }
   },
   "outputs": [
    {
     "data": {
      "text/plain": "0"
     },
     "execution_count": 14,
     "metadata": {},
     "output_type": "execute_result"
    }
   ],
   "source": [
    "df.duplicated().sum()"
   ]
  },
  {
   "cell_type": "code",
   "execution_count": 15,
   "metadata": {
    "pycharm": {
     "name": "#%%\n"
    }
   },
   "outputs": [
    {
     "data": {
      "text/plain": "0"
     },
     "execution_count": 15,
     "metadata": {},
     "output_type": "execute_result"
    }
   ],
   "source": [
    "df_test.duplicated().sum()"
   ]
  },
  {
   "cell_type": "markdown",
   "metadata": {
    "pycharm": {
     "name": "#%% md\n"
    }
   },
   "source": [
    "**Дубликаты отсутствуют!**"
   ]
  },
  {
   "cell_type": "markdown",
   "metadata": {
    "pycharm": {
     "name": "#%% md\n"
    }
   },
   "source": [
    "## 4.5 Числовые переменные"
   ]
  },
  {
   "cell_type": "markdown",
   "metadata": {
    "pycharm": {
     "name": "#%% md\n"
    }
   },
   "source": [
    "## 4.6 Категориальные переменные"
   ]
  },
  {
   "cell_type": "markdown",
   "metadata": {
    "pycharm": {
     "name": "#%% md\n"
    }
   },
   "source": [
    "# 5.EDA"
   ]
  },
  {
   "cell_type": "markdown",
   "metadata": {
    "pycharm": {
     "name": "#%% md\n"
    }
   },
   "source": [
    "## 5.1 Phik взаимосвязь"
   ]
  },
  {
   "cell_type": "markdown",
   "metadata": {
    "pycharm": {
     "name": "#%% md\n"
    }
   },
   "source": [
    "## 5.2 Корреляция признаков"
   ]
  },
  {
   "cell_type": "markdown",
   "metadata": {
    "pycharm": {
     "name": "#%% md\n"
    }
   },
   "source": [
    "## 5.3 Количественные признаки"
   ]
  },
  {
   "cell_type": "markdown",
   "metadata": {
    "pycharm": {
     "name": "#%% md\n"
    }
   },
   "source": [
    "#### Функция гистограммы и описания для количественных признаков"
   ]
  },
  {
   "cell_type": "code",
   "execution_count": 16,
   "metadata": {
    "pycharm": {
     "name": "#%%\n"
    }
   },
   "outputs": [],
   "source": [
    "def hist_box_describe_num(ds, x):\n",
    "    print(ds[x].describe())\n",
    "    plt.figure(figsize=(15, 5))\n",
    "    plt.subplot(1, 2, 1)\n",
    "    sns.histplot(data=ds, x=ds[x], kde=True);\n",
    "    plt.subplot(1, 2, 2)\n",
    "    sns.boxplot(data=ds, y=ds[x]);"
   ]
  },
  {
   "cell_type": "markdown",
   "metadata": {
    "pycharm": {
     "name": "#%% md\n"
    }
   },
   "source": [
    "## 5.4 Категориальные переменные"
   ]
  },
  {
   "cell_type": "markdown",
   "metadata": {
    "pycharm": {
     "name": "#%% md\n"
    }
   },
   "source": [
    "# 6. Preprocessing"
   ]
  },
  {
   "cell_type": "markdown",
   "metadata": {
    "pycharm": {
     "name": "#%% md\n"
    }
   },
   "source": [
    "## 6.1 Удаление выбросов"
   ]
  },
  {
   "cell_type": "markdown",
   "metadata": {
    "pycharm": {
     "name": "#%% md\n"
    }
   },
   "source": [
    "### Waist - окружность талии"
   ]
  },
  {
   "cell_type": "markdown",
   "metadata": {
    "pycharm": {
     "name": "#%% md\n"
    }
   },
   "source": [
    "У половины пациентов окружность талии составляет от 79 до 90 см\n",
    "**Выбросы в сравнении с тестом:** 2 пациента > 121"
   ]
  },
  {
   "cell_type": "code",
   "execution_count": 17,
   "metadata": {
    "pycharm": {
     "name": "#%%\n"
    }
   },
   "outputs": [],
   "source": [
    "df = df.query('waist_cm_ < 121')"
   ]
  },
  {
   "cell_type": "markdown",
   "metadata": {
    "pycharm": {
     "name": "#%% md\n"
    }
   },
   "source": [
    "### Systolic - систолическое давление"
   ]
  },
  {
   "cell_type": "markdown",
   "metadata": {
    "pycharm": {
     "name": "#%% md\n"
    }
   },
   "source": [
    "У половины пациентов систолическое давление находится в пределах от 115 до 131\n",
    "**Выбросы в сравнении с тестом:** ВСЕГО 3 - 1 пациент > 200, 2 пациента < 85"
   ]
  },
  {
   "cell_type": "code",
   "execution_count": 18,
   "metadata": {
    "pycharm": {
     "name": "#%%\n"
    }
   },
   "outputs": [],
   "source": [
    "df = df.query('systolic < 200 & systolic > 85')"
   ]
  },
  {
   "cell_type": "markdown",
   "metadata": {
    "pycharm": {
     "name": "#%% md\n"
    }
   },
   "source": [
    "У половины пациентов диастолическое давление находится в пределах от 70 до 83\n",
    "**Выбросы в сравнении с тестом:** ВСЕГО 2 - 1 пациент > 133, 1 пациент < 45"
   ]
  },
  {
   "cell_type": "code",
   "execution_count": 19,
   "metadata": {
    "pycharm": {
     "name": "#%%\n"
    }
   },
   "outputs": [],
   "source": [
    "df = df.query('relaxation < 135 & relaxation > 45')"
   ]
  },
  {
   "cell_type": "markdown",
   "metadata": {
    "pycharm": {
     "name": "#%% md\n"
    }
   },
   "source": [
    "### Fasting blood sugar - Сахар в крови"
   ]
  },
  {
   "cell_type": "markdown",
   "metadata": {
    "pycharm": {
     "name": "#%% md\n"
    }
   },
   "source": [
    "У половины пациентов сахар в крови находится в пределах от 90 до 104\n",
    "**Выбросы в сравнении с тестом:** Всего 2 - 1 пациент > 400, 1 пациент < 50"
   ]
  },
  {
   "cell_type": "code",
   "execution_count": 20,
   "metadata": {
    "pycharm": {
     "name": "#%%\n"
    }
   },
   "outputs": [],
   "source": [
    "df = df.query('fasting_blood_sugar < 400 & fasting_blood_sugar > 50')"
   ]
  },
  {
   "cell_type": "markdown",
   "metadata": {
    "pycharm": {
     "name": "#%% md\n"
    }
   },
   "source": [
    "### Cholesterol - холестерин"
   ]
  },
  {
   "cell_type": "markdown",
   "metadata": {
    "pycharm": {
     "name": "#%% md\n"
    }
   },
   "source": [
    "У половины пациентов холестерин находится в пределах от 169 до 216\n",
    "**Выбросы в сравнении с тестом:** 2 пациента > 400,"
   ]
  },
  {
   "cell_type": "code",
   "execution_count": 21,
   "metadata": {
    "pycharm": {
     "name": "#%%\n"
    }
   },
   "outputs": [],
   "source": [
    "df = df.query('cholesterol < 400')"
   ]
  },
  {
   "cell_type": "markdown",
   "metadata": {
    "pycharm": {
     "name": "#%% md\n"
    }
   },
   "source": [
    "### Triglyceride - триглицерид"
   ]
  },
  {
   "cell_type": "markdown",
   "metadata": {
    "pycharm": {
     "name": "#%% md\n"
    }
   },
   "source": [
    "У половины пациентов триглицерид находится в пределах от 78 до 166\n",
    "**Выбросы в сравнении с тестом:** 6 пациентов < 20,"
   ]
  },
  {
   "cell_type": "code",
   "execution_count": 22,
   "metadata": {
    "pycharm": {
     "name": "#%%\n"
    }
   },
   "outputs": [],
   "source": [
    "df = df.query('triglyceride > 20')"
   ]
  },
  {
   "cell_type": "markdown",
   "metadata": {
    "pycharm": {
     "name": "#%% md\n"
    }
   },
   "source": [
    "### HDL - холестерин липопротеинов высокой плотности"
   ]
  },
  {
   "cell_type": "markdown",
   "metadata": {
    "pycharm": {
     "name": "#%% md\n"
    }
   },
   "source": [
    "У половины пациентов холестерин липопротеинов находится в пределах от 45 до 61\n",
    "**Выбросы в сравнении с тестом:** Всего 4 - 1 пациент > 160, 3 пациента < 20,"
   ]
  },
  {
   "cell_type": "code",
   "execution_count": 23,
   "metadata": {
    "pycharm": {
     "name": "#%%\n"
    }
   },
   "outputs": [],
   "source": [
    "df = df.query('hdl < 160 & hdl > 20')"
   ]
  },
  {
   "cell_type": "markdown",
   "metadata": {
    "pycharm": {
     "name": "#%% md\n"
    }
   },
   "source": [
    "### LDL - липопротеины низкой плотности"
   ]
  },
  {
   "cell_type": "markdown",
   "metadata": {
    "pycharm": {
     "name": "#%% md\n"
    }
   },
   "source": [
    "У половины пациентов липопротеины находится в пределах от 91 до 135\n",
    "**Выбросы в сравнении с тестом:** Всего 9 - 6 пациентов > 1100, 3 пациента < 10,"
   ]
  },
  {
   "cell_type": "code",
   "execution_count": 24,
   "metadata": {
    "pycharm": {
     "name": "#%%\n"
    }
   },
   "outputs": [],
   "source": [
    "df = df.query('ldl < 1100 & ldl > 10')"
   ]
  },
  {
   "cell_type": "markdown",
   "metadata": {
    "pycharm": {
     "name": "#%% md\n"
    }
   },
   "source": [
    "### Hemoglobin - гемоглобин"
   ]
  },
  {
   "cell_type": "markdown",
   "metadata": {
    "pycharm": {
     "name": "#%% md\n"
    }
   },
   "source": [
    "У половины пациентов гемоглобин находится в пределах от 14.8 до 16.1\n",
    "**Выбросы в сравнении с тестом:** Всего 9 - 3 пациента > 19.4, 6 пациентов < 8.6,"
   ]
  },
  {
   "cell_type": "code",
   "execution_count": 25,
   "metadata": {
    "pycharm": {
     "name": "#%%\n"
    }
   },
   "outputs": [],
   "source": [
    "df = df.query('hemoglobin < 19.4 & hemoglobin > 8.6')"
   ]
  },
  {
   "cell_type": "markdown",
   "metadata": {
    "pycharm": {
     "name": "#%% md\n"
    }
   },
   "source": [
    "### Serum creatinine - Сывороточный креатинин"
   ]
  },
  {
   "cell_type": "markdown",
   "metadata": {
    "pycharm": {
     "name": "#%% md\n"
    }
   },
   "source": [
    "У половины пациентов сывороточный креатинин находится в пределах от 0.9 до 1.1\n",
    "**Выбросы в сравнении с тестом:** 10 пациентов > 2.6"
   ]
  },
  {
   "cell_type": "code",
   "execution_count": 26,
   "metadata": {
    "pycharm": {
     "name": "#%%\n"
    }
   },
   "outputs": [],
   "source": [
    "df = df.query('serum_creatinine < 2.6')"
   ]
  },
  {
   "cell_type": "markdown",
   "metadata": {
    "pycharm": {
     "name": "#%% md\n"
    }
   },
   "source": [
    "### AST - Аспартатаминотрансфераз"
   ]
  },
  {
   "cell_type": "markdown",
   "metadata": {
    "pycharm": {
     "name": "#%% md\n"
    }
   },
   "source": [
    "У половины пациентов Аспартатаминотрансфераз находится в пределах от 20 до 30\n",
    "**Выбросы в сравнении с тестом:** Всего 4 - 3 пациента > 600, 1 пациент < 8"
   ]
  },
  {
   "cell_type": "code",
   "execution_count": 27,
   "metadata": {
    "pycharm": {
     "name": "#%%\n"
    }
   },
   "outputs": [],
   "source": [
    "df = df.query('ast < 600 & ast > 8')"
   ]
  },
  {
   "cell_type": "markdown",
   "metadata": {
    "pycharm": {
     "name": "#%% md\n"
    }
   },
   "source": [
    "### ALT - Аланинаминотрансфераза"
   ]
  },
  {
   "cell_type": "markdown",
   "metadata": {
    "pycharm": {
     "name": "#%% md\n"
    }
   },
   "source": [
    "У половины пациентов Аланинаминотрансфераза находится в пределах от 18 до 35\n",
    "**Выбросы в сравнении с тестом:** Всего 3 - 1 пациента > 1600, 2 пациента < 3"
   ]
  },
  {
   "cell_type": "code",
   "execution_count": 28,
   "metadata": {
    "pycharm": {
     "name": "#%%\n"
    }
   },
   "outputs": [],
   "source": [
    "df = df.query('alt < 1600 & alt > 3')"
   ]
  },
  {
   "cell_type": "markdown",
   "metadata": {
    "pycharm": {
     "name": "#%% md\n"
    }
   },
   "source": [
    "### Итого:"
   ]
  },
  {
   "cell_type": "markdown",
   "metadata": {
    "pycharm": {
     "name": "#%% md\n"
    }
   },
   "source": [
    "Из обучающего выборки было дропнуто 54 переменные, что составляет 0.3% от обучающей выборки."
   ]
  },
  {
   "cell_type": "code",
   "execution_count": 29,
   "metadata": {
    "pycharm": {
     "name": "#%%\n"
    }
   },
   "outputs": [
    {
     "data": {
      "text/plain": "(13809, 26)"
     },
     "execution_count": 29,
     "metadata": {},
     "output_type": "execute_result"
    }
   ],
   "source": [
    "df.shape"
   ]
  },
  {
   "cell_type": "code",
   "execution_count": 30,
   "outputs": [
    {
     "ename": "NameError",
     "evalue": "name 'ddddddddddddddddd' is not defined",
     "output_type": "error",
     "traceback": [
      "\u001B[1;31m---------------------------------------------------------------------------\u001B[0m",
      "\u001B[1;31mNameError\u001B[0m                                 Traceback (most recent call last)",
      "Cell \u001B[1;32mIn[30], line 1\u001B[0m\n\u001B[1;32m----> 1\u001B[0m \u001B[43mddddddddddddddddd\u001B[49m\n",
      "\u001B[1;31mNameError\u001B[0m: name 'ddddddddddddddddd' is not defined"
     ]
    }
   ],
   "source": [
    "ddddddddddddddddd"
   ],
   "metadata": {
    "collapsed": false,
    "pycharm": {
     "name": "#%%\n"
    }
   }
  },
  {
   "cell_type": "markdown",
   "metadata": {
    "pycharm": {
     "name": "#%% md\n"
    }
   },
   "source": [
    "## 6.2 Список всех фич"
   ]
  },
  {
   "cell_type": "markdown",
   "metadata": {
    "pycharm": {
     "name": "#%% md\n"
    }
   },
   "source": [
    "Сразу удаляю фичу oral, т.к. она не несёт полезной информации"
   ]
  },
  {
   "cell_type": "code",
   "execution_count": null,
   "metadata": {
    "pycharm": {
     "name": "#%%\n"
    }
   },
   "outputs": [],
   "source": [
    "X = df.drop(['oral', 'smoking'], axis=1)\n",
    "y = df.smoking\n",
    "cat_features = ['tartar']\n",
    "df_test = df_test.drop('oral', axis=1)"
   ]
  },
  {
   "cell_type": "code",
   "execution_count": null,
   "metadata": {
    "pycharm": {
     "name": "#%%\n"
    }
   },
   "outputs": [],
   "source": [
    "X.head()"
   ]
  },
  {
   "cell_type": "code",
   "execution_count": null,
   "metadata": {
    "pycharm": {
     "name": "#%%\n"
    }
   },
   "outputs": [],
   "source": [
    "y.head()"
   ]
  },
  {
   "cell_type": "code",
   "execution_count": null,
   "metadata": {
    "pycharm": {
     "name": "#%%\n"
    }
   },
   "outputs": [],
   "source": [
    "cat_features"
   ]
  },
  {
   "cell_type": "markdown",
   "metadata": {
    "pycharm": {
     "name": "#%% md\n"
    }
   },
   "source": [
    "# 7. Modeling"
   ]
  },
  {
   "cell_type": "markdown",
   "metadata": {
    "pycharm": {
     "name": "#%% md\n"
    }
   },
   "source": [
    "## Baseline catboost"
   ]
  },
  {
   "cell_type": "markdown",
   "metadata": {
    "pycharm": {
     "name": "#%% md\n"
    }
   },
   "source": [
    "### Обучающая и тестовая выборки"
   ]
  },
  {
   "cell_type": "code",
   "execution_count": null,
   "metadata": {
    "pycharm": {
     "name": "#%%\n"
    }
   },
   "outputs": [],
   "source": [
    "X_train, X_test, y_train, y_test = train_test_split(X, y, test_size=0.2, random_state=659)"
   ]
  },
  {
   "cell_type": "markdown",
   "metadata": {
    "pycharm": {
     "name": "#%% md\n"
    }
   },
   "source": [
    "### Составаляю список фичей\n",
    "В baselin`е оставлю все фичи"
   ]
  },
  {
   "cell_type": "code",
   "execution_count": null,
   "metadata": {
    "pycharm": {
     "name": "#%%\n"
    }
   },
   "outputs": [],
   "source": [
    "X.head()"
   ]
  },
  {
   "cell_type": "code",
   "execution_count": null,
   "metadata": {
    "pycharm": {
     "name": "#%%\n"
    }
   },
   "outputs": [],
   "source": [
    "y.head()"
   ]
  },
  {
   "cell_type": "code",
   "execution_count": null,
   "metadata": {
    "pycharm": {
     "name": "#%%\n"
    }
   },
   "outputs": [],
   "source": [
    "cat_features"
   ]
  },
  {
   "cell_type": "markdown",
   "metadata": {
    "pycharm": {
     "name": "#%% md\n"
    }
   },
   "source": [
    "### Создание Pool`ов для модели"
   ]
  },
  {
   "cell_type": "code",
   "execution_count": null,
   "metadata": {
    "pycharm": {
     "name": "#%%\n"
    }
   },
   "outputs": [],
   "source": [
    "train_data = Pool(X_train, y_train, cat_features=cat_features)\n",
    "test_data = Pool(X_test, y_test, cat_features=cat_features)\n",
    "full_data = Pool(X, y, cat_features=cat_features)"
   ]
  },
  {
   "cell_type": "code",
   "execution_count": null,
   "metadata": {
    "pycharm": {
     "name": "#%%\n"
    }
   },
   "outputs": [],
   "source": [
    "ввввввввввввввввввввввввв"
   ]
  },
  {
   "cell_type": "markdown",
   "metadata": {
    "pycharm": {
     "name": "#%% md\n"
    }
   },
   "source": [
    "### Baseline model"
   ]
  },
  {
   "cell_type": "markdown",
   "metadata": {
    "pycharm": {
     "name": "#%% md\n"
    }
   },
   "source": [
    "### Настройка гиперпараметров"
   ]
  },
  {
   "cell_type": "code",
   "execution_count": null,
   "metadata": {
    "pycharm": {
     "name": "#%%\n"
    }
   },
   "outputs": [],
   "source": [
    "parameters = {'cat_features': cat_features,\n",
    "              'eval_metric': 'F1',\n",
    "              'loss_function': 'Logloss',\n",
    "              'random_seed': 659,\n",
    "              'verbose': 100}"
   ]
  },
  {
   "cell_type": "code",
   "execution_count": null,
   "metadata": {
    "pycharm": {
     "name": "#%%\n"
    }
   },
   "outputs": [],
   "source": [
    "model = CatBoostClassifier(**parameters)"
   ]
  },
  {
   "cell_type": "markdown",
   "metadata": {
    "pycharm": {
     "name": "#%% md\n"
    }
   },
   "source": [
    "### Обучение модели"
   ]
  },
  {
   "cell_type": "code",
   "execution_count": null,
   "metadata": {
    "pycharm": {
     "name": "#%%\n"
    }
   },
   "outputs": [],
   "source": [
    "model.fit(train_data, eval_set=test_data, plot=True)"
   ]
  },
  {
   "cell_type": "markdown",
   "metadata": {
    "pycharm": {
     "name": "#%% md\n"
    }
   },
   "source": [
    "### Feature importance"
   ]
  },
  {
   "cell_type": "code",
   "execution_count": null,
   "metadata": {
    "pycharm": {
     "name": "#%%\n"
    }
   },
   "outputs": [],
   "source": [
    "base = model.get_feature_importance(prettified=True)"
   ]
  },
  {
   "cell_type": "code",
   "execution_count": null,
   "outputs": [],
   "source": [
    "base"
   ],
   "metadata": {
    "collapsed": false,
    "pycharm": {
     "name": "#%%\n"
    }
   }
  },
  {
   "cell_type": "markdown",
   "metadata": {
    "pycharm": {
     "name": "#%% md\n"
    }
   },
   "source": [
    "### Прогнозирование"
   ]
  },
  {
   "cell_type": "markdown",
   "metadata": {
    "pycharm": {
     "name": "#%% md\n"
    }
   },
   "source": [
    "#### Скоры"
   ]
  },
  {
   "cell_type": "code",
   "execution_count": null,
   "metadata": {
    "pycharm": {
     "name": "#%%\n"
    }
   },
   "outputs": [],
   "source": [
    "df_test.head()"
   ]
  },
  {
   "cell_type": "markdown",
   "metadata": {
    "pycharm": {
     "name": "#%% md\n"
    }
   },
   "source": [
    "Создаю колонку для baseline catboost скора"
   ]
  },
  {
   "cell_type": "code",
   "execution_count": null,
   "metadata": {
    "pycharm": {
     "name": "#%%\n"
    }
   },
   "outputs": [],
   "source": [
    "df_test['baseline_cat_score'] = model.predict_proba(df_test)[:, 1]"
   ]
  },
  {
   "cell_type": "code",
   "execution_count": null,
   "metadata": {
    "pycharm": {
     "name": "#%%\n"
    }
   },
   "outputs": [],
   "source": [
    "df_test.baseline_cat_score"
   ]
  },
  {
   "cell_type": "markdown",
   "metadata": {
    "pycharm": {
     "name": "#%% md\n"
    }
   },
   "source": [
    "Распределение вероятностей (Score) курит или не курит"
   ]
  },
  {
   "cell_type": "code",
   "execution_count": null,
   "metadata": {
    "pycharm": {
     "name": "#%%\n"
    }
   },
   "outputs": [],
   "source": [
    "df_test.baseline_cat_score.hist();"
   ]
  },
  {
   "cell_type": "markdown",
   "metadata": {
    "pycharm": {
     "name": "#%% md\n"
    }
   },
   "source": [
    "#### Пороги"
   ]
  },
  {
   "cell_type": "markdown",
   "metadata": {
    "pycharm": {
     "name": "#%% md\n"
    }
   },
   "source": [
    "Посмотрю на пользователей вероятность курения которых > 0.5\n",
    "Для вывода 0-ей и 1-иц нужно домножить на 1 иначе будет True и False"
   ]
  },
  {
   "cell_type": "code",
   "execution_count": null,
   "metadata": {
    "pycharm": {
     "name": "#%%\n"
    }
   },
   "outputs": [],
   "source": [
    "((df_test.baseline_cat_score > 0.5) * 1).mean()"
   ]
  },
  {
   "cell_type": "markdown",
   "metadata": {
    "pycharm": {
     "name": "#%% md\n"
    }
   },
   "source": [
    "Такая же вероятность у метода predict, т.к. порог по умолчанию = 0.5"
   ]
  },
  {
   "cell_type": "code",
   "execution_count": null,
   "metadata": {
    "pycharm": {
     "name": "#%%\n"
    }
   },
   "outputs": [],
   "source": [
    "model.predict(df_test).mean()"
   ]
  },
  {
   "cell_type": "markdown",
   "metadata": {
    "pycharm": {
     "name": "#%% md\n"
    }
   },
   "source": [
    "В обучающем ДФ процент курильщиков ≈20% что существенно выше, чем получилось в тестовом ≈5% при пороге 0.5. ПО этому есть смысл понижать порог, но в Baselin`е оставлю порог по умолчанию"
   ]
  },
  {
   "cell_type": "code",
   "execution_count": null,
   "metadata": {
    "pycharm": {
     "name": "#%%\n"
    }
   },
   "outputs": [],
   "source": [
    "df.smoking.mean()"
   ]
  },
  {
   "cell_type": "markdown",
   "metadata": {
    "pycharm": {
     "name": "#%% md\n"
    }
   },
   "source": []
  },
  {
   "cell_type": "code",
   "execution_count": null,
   "metadata": {
    "pycharm": {
     "name": "#%%\n"
    }
   },
   "outputs": [],
   "source": [
    "df_test['baseline_cat_pred'] = (df_test.baseline_cat_score > 0.5) * 1"
   ]
  },
  {
   "cell_type": "code",
   "execution_count": null,
   "metadata": {
    "pycharm": {
     "name": "#%%\n"
    }
   },
   "outputs": [],
   "source": [
    "df_test.head()"
   ]
  },
  {
   "cell_type": "markdown",
   "metadata": {
    "pycharm": {
     "name": "#%% md\n"
    }
   },
   "source": [
    "### Сохранение результатов"
   ]
  },
  {
   "cell_type": "code",
   "execution_count": null,
   "metadata": {
    "pycharm": {
     "name": "#%%\n"
    }
   },
   "outputs": [],
   "source": [
    "submission = pd.DataFrame(df_test['id'])\n",
    "submission['smoking'] = df_test.baseline_cat_pred\n",
    "submission.to_csv('Baseline_LR_0.47.csv', index=False)"
   ]
  },
  {
   "cell_type": "code",
   "execution_count": null,
   "metadata": {
    "pycharm": {
     "name": "#%%\n"
    }
   },
   "outputs": [],
   "source": [
    "submission.head()"
   ]
  },
  {
   "cell_type": "markdown",
   "metadata": {
    "pycharm": {
     "name": "#%% md\n"
    }
   },
   "source": [
    "**Kaggle result:** 0.23 LR=auto, 0.3117 LR = 0.45"
   ]
  },
  {
   "cell_type": "markdown",
   "metadata": {
    "pycharm": {
     "name": "#%% md\n"
    }
   },
   "source": [
    "## Catboost V2 Thresholds"
   ]
  },
  {
   "cell_type": "markdown",
   "metadata": {
    "pycharm": {
     "name": "#%% md\n"
    }
   },
   "source": [
    "### Изменение порога"
   ]
  },
  {
   "cell_type": "markdown",
   "metadata": {
    "pycharm": {
     "name": "#%% md\n"
    }
   },
   "source": [
    "Изменю порог с 0.5 на 0.25"
   ]
  },
  {
   "cell_type": "code",
   "execution_count": null,
   "metadata": {
    "pycharm": {
     "name": "#%%\n"
    }
   },
   "outputs": [],
   "source": [
    "((df_test.baseline_cat_score > 0.25) * 1).mean()"
   ]
  },
  {
   "cell_type": "markdown",
   "metadata": {
    "pycharm": {
     "name": "#%% md\n"
    }
   },
   "source": [
    "### Сохранение результатов"
   ]
  },
  {
   "cell_type": "code",
   "execution_count": null,
   "metadata": {
    "pycharm": {
     "name": "#%%\n"
    }
   },
   "outputs": [],
   "source": [
    "submission = pd.DataFrame(df_test['id'])\n",
    "submission['smoking'] = (df_test.baseline_cat_score > 0.25) * 1\n",
    "submission.to_csv('Baseline_threshold0.25_LR1.csv', index=False)"
   ]
  },
  {
   "cell_type": "code",
   "execution_count": null,
   "metadata": {
    "pycharm": {
     "name": "#%%\n"
    }
   },
   "outputs": [],
   "source": [
    "submission.head()"
   ]
  },
  {
   "cell_type": "markdown",
   "metadata": {
    "pycharm": {
     "name": "#%% md\n"
    }
   },
   "source": [
    "**Kaggle result:** 0.4175 ↑ LR = 0.45"
   ]
  },
  {
   "cell_type": "markdown",
   "metadata": {
    "pycharm": {
     "name": "#%% md\n"
    }
   },
   "source": [
    "### Изменение порога"
   ]
  },
  {
   "cell_type": "markdown",
   "metadata": {
    "pycharm": {
     "name": "#%% md\n"
    }
   },
   "source": [
    "Изменю порог с 0.25 на 0.2"
   ]
  },
  {
   "cell_type": "code",
   "execution_count": null,
   "metadata": {
    "pycharm": {
     "name": "#%%\n"
    }
   },
   "outputs": [],
   "source": [
    "((df_test.baseline_cat_score > 0.20) * 1).mean()"
   ]
  },
  {
   "cell_type": "markdown",
   "metadata": {
    "pycharm": {
     "name": "#%% md\n"
    }
   },
   "source": [
    "### Сохранение результатов"
   ]
  },
  {
   "cell_type": "code",
   "execution_count": null,
   "metadata": {
    "pycharm": {
     "name": "#%%\n"
    }
   },
   "outputs": [],
   "source": [
    "submission = pd.DataFrame(df_test['id'])\n",
    "submission['smoking'] = (df_test.baseline_cat_score > 0.2) * 1\n",
    "submission.to_csv('Baseline_threshold0.2_LR0.47.csv', index=False)"
   ]
  },
  {
   "cell_type": "code",
   "execution_count": null,
   "metadata": {
    "pycharm": {
     "name": "#%%\n"
    }
   },
   "outputs": [],
   "source": [
    "submission.head()"
   ]
  },
  {
   "cell_type": "markdown",
   "metadata": {
    "pycharm": {
     "name": "#%% md\n"
    }
   },
   "source": [
    "**Kaggle result:** 0.42861 ↑↑↑ LR = 0.45"
   ]
  },
  {
   "cell_type": "markdown",
   "metadata": {
    "pycharm": {
     "name": "#%% md\n"
    }
   },
   "source": [
    "### Изменение порога"
   ]
  },
  {
   "cell_type": "markdown",
   "metadata": {
    "pycharm": {
     "name": "#%% md\n"
    }
   },
   "source": [
    "Изменю порог с 0.2 на 0.1"
   ]
  },
  {
   "cell_type": "code",
   "execution_count": null,
   "metadata": {
    "pycharm": {
     "name": "#%%\n"
    }
   },
   "outputs": [],
   "source": [
    "((df_test.baseline_cat_score > 0.1) * 1).mean()"
   ]
  },
  {
   "cell_type": "markdown",
   "metadata": {
    "pycharm": {
     "name": "#%% md\n"
    }
   },
   "source": [
    "### Сохранение результатов"
   ]
  },
  {
   "cell_type": "code",
   "execution_count": null,
   "metadata": {
    "pycharm": {
     "name": "#%%\n"
    }
   },
   "outputs": [],
   "source": [
    "submission = pd.DataFrame(df_test['id'])\n",
    "submission['smoking'] = (df_test.baseline_cat_score > 0.1) * 1\n",
    "submission.to_csv('Baseline_threshold0.1.csv', index=False)"
   ]
  },
  {
   "cell_type": "code",
   "execution_count": null,
   "metadata": {
    "pycharm": {
     "name": "#%%\n"
    }
   },
   "outputs": [],
   "source": [
    "submission.head()"
   ]
  },
  {
   "cell_type": "markdown",
   "metadata": {
    "pycharm": {
     "name": "#%% md\n"
    }
   },
   "source": [
    "**Kaggle result:** 0.40293 ↓ LR = 0.45"
   ]
  },
  {
   "cell_type": "markdown",
   "metadata": {
    "pycharm": {
     "name": "#%% md\n"
    }
   },
   "source": [
    "### Изменение порога"
   ]
  },
  {
   "cell_type": "markdown",
   "metadata": {
    "pycharm": {
     "name": "#%% md\n"
    }
   },
   "source": [
    "Изменю порог с 0.1 на 0.15"
   ]
  },
  {
   "cell_type": "code",
   "execution_count": null,
   "metadata": {
    "pycharm": {
     "name": "#%%\n"
    }
   },
   "outputs": [],
   "source": [
    "((df_test.baseline_cat_score > 0.15) * 1).mean()"
   ]
  },
  {
   "cell_type": "markdown",
   "metadata": {
    "pycharm": {
     "name": "#%% md\n"
    }
   },
   "source": [
    "### Сохранение результатов"
   ]
  },
  {
   "cell_type": "code",
   "execution_count": null,
   "metadata": {
    "pycharm": {
     "name": "#%%\n"
    }
   },
   "outputs": [],
   "source": [
    "submission = pd.DataFrame(df_test['id'])\n",
    "submission['smoking'] = (df_test.baseline_cat_score > 0.15) * 1\n",
    "submission.to_csv('Baseline_threshold0.15.csv', index=False)"
   ]
  },
  {
   "cell_type": "code",
   "execution_count": null,
   "metadata": {
    "pycharm": {
     "name": "#%%\n"
    }
   },
   "outputs": [],
   "source": [
    "submission.head()"
   ]
  },
  {
   "cell_type": "markdown",
   "metadata": {
    "pycharm": {
     "name": "#%% md\n"
    }
   },
   "source": [
    "**Kaggle result:** 0.4259 ↑ LR = 0.45"
   ]
  },
  {
   "cell_type": "markdown",
   "metadata": {
    "pycharm": {
     "name": "#%% md\n"
    }
   },
   "source": [
    "### Итого"
   ]
  },
  {
   "cell_type": "markdown",
   "metadata": {
    "pycharm": {
     "name": "#%% md\n"
    }
   },
   "source": [
    "Наилучший порог для Baseline ≈ 0.2, F1 = 0.4286"
   ]
  },
  {
   "cell_type": "markdown",
   "metadata": {
    "pycharm": {
     "name": "#%% md\n"
    }
   },
   "source": [
    "## Catboost CV"
   ]
  },
  {
   "cell_type": "code",
   "execution_count": null,
   "metadata": {
    "pycharm": {
     "name": "#%%\n"
    }
   },
   "outputs": [],
   "source": [
    "parameters = {'eval_metric': 'F1',\n",
    "              'loss_function': 'Logloss',\n",
    "              'random_seed': 659,\n",
    "              'iterations': 1000}"
   ]
  },
  {
   "cell_type": "code",
   "execution_count": null,
   "metadata": {
    "pycharm": {
     "name": "#%%\n"
    }
   },
   "outputs": [],
   "source": [
    "%%time\n",
    "cv_data = cv(\n",
    "    params=parameters,\n",
    "    pool=full_data,\n",
    "    fold_count=5,\n",
    "    shuffle=True,\n",
    "    partition_random_seed=0,\n",
    "    stratified=False,\n",
    "    verbose=500,\n",
    "    plot=True\n",
    ")"
   ]
  },
  {
   "cell_type": "code",
   "execution_count": null,
   "metadata": {
    "pycharm": {
     "name": "#%%\n"
    }
   },
   "outputs": [],
   "source": [
    "best_value = np.max(cv_data['test-F1-mean'])\n",
    "best_iter = np.argmax(cv_data['test-F1-mean'])"
   ]
  },
  {
   "cell_type": "code",
   "execution_count": null,
   "metadata": {
    "pycharm": {
     "name": "#%%\n"
    }
   },
   "outputs": [],
   "source": [
    "best_iter, best_value"
   ]
  },
  {
   "cell_type": "markdown",
   "metadata": {
    "pycharm": {
     "name": "#%% md\n"
    }
   },
   "source": [
    "### Best iteration"
   ]
  },
  {
   "cell_type": "code",
   "execution_count": null,
   "metadata": {
    "pycharm": {
     "name": "#%%\n"
    }
   },
   "outputs": [],
   "source": [
    "parameters = {'eval_metric': 'F1',\n",
    "              'loss_function': 'Logloss',\n",
    "              'random_seed': 659,\n",
    "              'iterations': best_iter,\n",
    "              'verbose': 100}"
   ]
  },
  {
   "cell_type": "code",
   "execution_count": null,
   "metadata": {
    "pycharm": {
     "name": "#%%\n"
    }
   },
   "outputs": [],
   "source": [
    "model = CatBoostClassifier(**parameters)"
   ]
  },
  {
   "cell_type": "code",
   "execution_count": null,
   "metadata": {
    "pycharm": {
     "name": "#%%\n"
    }
   },
   "outputs": [],
   "source": [
    "model.fit(full_data, plot=True)"
   ]
  },
  {
   "cell_type": "markdown",
   "source": [
    "### Feature importance"
   ],
   "metadata": {
    "collapsed": false,
    "pycharm": {
     "name": "#%% md\n"
    }
   }
  },
  {
   "cell_type": "code",
   "execution_count": null,
   "outputs": [],
   "source": [
    "base_cv = model.get_feature_importance(prettified=True)"
   ],
   "metadata": {
    "collapsed": false,
    "pycharm": {
     "name": "#%%\n"
    }
   }
  },
  {
   "cell_type": "code",
   "execution_count": null,
   "outputs": [],
   "source": [
    "base_cv"
   ],
   "metadata": {
    "collapsed": false,
    "pycharm": {
     "name": "#%%\n"
    }
   }
  },
  {
   "cell_type": "code",
   "execution_count": null,
   "metadata": {
    "pycharm": {
     "name": "#%%\n"
    }
   },
   "outputs": [],
   "source": [
    "model.get_params()"
   ]
  },
  {
   "cell_type": "markdown",
   "metadata": {
    "pycharm": {
     "name": "#%% md\n"
    }
   },
   "source": [
    "### Прогноз"
   ]
  },
  {
   "cell_type": "markdown",
   "metadata": {
    "pycharm": {
     "name": "#%% md\n"
    }
   },
   "source": [
    "Создаю колонку для baseline catboost скора"
   ]
  },
  {
   "cell_type": "code",
   "execution_count": null,
   "metadata": {
    "pycharm": {
     "name": "#%%\n"
    }
   },
   "outputs": [],
   "source": [
    "df_test['baseline_cat_cv_score'] = model.predict_proba(df_test)[:, 1]"
   ]
  },
  {
   "cell_type": "code",
   "execution_count": null,
   "metadata": {
    "pycharm": {
     "name": "#%%\n"
    }
   },
   "outputs": [],
   "source": [
    "df_test.baseline_cat_cv_score"
   ]
  },
  {
   "cell_type": "code",
   "execution_count": null,
   "metadata": {
    "pycharm": {
     "name": "#%%\n"
    }
   },
   "outputs": [],
   "source": [
    "df_test.baseline_cat_cv_score.hist();"
   ]
  },
  {
   "cell_type": "markdown",
   "metadata": {
    "pycharm": {
     "name": "#%% md\n"
    }
   },
   "source": [
    "Средний процент курильщиков в тесте ≈19.3%"
   ]
  },
  {
   "cell_type": "code",
   "execution_count": null,
   "metadata": {
    "pycharm": {
     "name": "#%%\n"
    }
   },
   "outputs": [],
   "source": [
    "df_test.baseline_cat_cv_score.mean()"
   ]
  },
  {
   "cell_type": "markdown",
   "metadata": {
    "pycharm": {
     "name": "#%% md\n"
    }
   },
   "source": [
    "По порогу 0.5 вероятность ≈3.3%, что сильно меньше чем 20% в обучающей выборке. Есть смысл снижать порог."
   ]
  },
  {
   "cell_type": "code",
   "execution_count": null,
   "metadata": {
    "pycharm": {
     "name": "#%%\n"
    }
   },
   "outputs": [],
   "source": [
    "((df_test.baseline_cat_cv_score > 0.5) * 1).mean()"
   ]
  },
  {
   "cell_type": "code",
   "execution_count": null,
   "metadata": {
    "pycharm": {
     "name": "#%%\n"
    }
   },
   "outputs": [],
   "source": [
    "model.predict(df_test).mean()"
   ]
  },
  {
   "cell_type": "code",
   "execution_count": null,
   "metadata": {
    "pycharm": {
     "name": "#%%\n"
    }
   },
   "outputs": [],
   "source": [
    "(df_test.baseline_cat_cv_score > 0.5) * 1"
   ]
  },
  {
   "cell_type": "code",
   "execution_count": null,
   "metadata": {
    "pycharm": {
     "name": "#%%\n"
    }
   },
   "outputs": [],
   "source": [
    "df_test['baseline_cat_cv_pred'] = (df_test.baseline_cat_cv_score > 0.5) * 1"
   ]
  },
  {
   "cell_type": "code",
   "execution_count": null,
   "metadata": {
    "pycharm": {
     "name": "#%%\n"
    }
   },
   "outputs": [],
   "source": [
    "df_test.head()"
   ]
  },
  {
   "cell_type": "markdown",
   "metadata": {
    "pycharm": {
     "name": "#%% md\n"
    }
   },
   "source": [
    "### Сохранение результатов"
   ]
  },
  {
   "cell_type": "code",
   "execution_count": null,
   "metadata": {
    "pycharm": {
     "name": "#%%\n"
    }
   },
   "outputs": [],
   "source": [
    "submission = pd.DataFrame(df_test['id'])\n",
    "submission['smoking'] = df_test.baseline_cat_cv_pred\n",
    "submission.to_csv('Cat_CV_LR_auto_THRS_0.5.csv', index=False)"
   ]
  },
  {
   "cell_type": "code",
   "execution_count": null,
   "metadata": {
    "pycharm": {
     "name": "#%%\n"
    }
   },
   "outputs": [],
   "source": [
    "submission.head()"
   ]
  },
  {
   "cell_type": "markdown",
   "metadata": {
    "pycharm": {
     "name": "#%% md\n"
    }
   },
   "source": [
    "**Kaggle result:** 0.16893 ↓ LR=auto, хуже чем Baseline (0.23)"
   ]
  },
  {
   "cell_type": "markdown",
   "metadata": {
    "pycharm": {
     "name": "#%% md\n"
    }
   },
   "source": [
    "#### Изменяю порог до 0.2"
   ]
  },
  {
   "cell_type": "markdown",
   "metadata": {
    "pycharm": {
     "name": "#%% md\n"
    }
   },
   "source": [
    "По порогу 0.2 процент курильщиков ≈37.4, что выше чем в обучающей выборке"
   ]
  },
  {
   "cell_type": "code",
   "execution_count": null,
   "metadata": {
    "pycharm": {
     "name": "#%%\n"
    }
   },
   "outputs": [],
   "source": [
    "((df_test.baseline_cat_cv_score > 0.2) * 1).mean()"
   ]
  },
  {
   "cell_type": "code",
   "execution_count": null,
   "metadata": {
    "pycharm": {
     "name": "#%%\n"
    }
   },
   "outputs": [],
   "source": [
    "submission = pd.DataFrame(df_test['id'])\n",
    "submission['smoking'] = (df_test.baseline_cat_cv_score > 0.2) * 1\n",
    "submission.to_csv('Cat_CV_THRS02_LR_auto.csv', index=False)"
   ]
  },
  {
   "cell_type": "code",
   "execution_count": null,
   "metadata": {
    "pycharm": {
     "name": "#%%\n"
    }
   },
   "outputs": [],
   "source": [
    "submission.head()"
   ]
  },
  {
   "cell_type": "markdown",
   "metadata": {
    "pycharm": {
     "name": "#%% md\n"
    }
   },
   "source": [
    "**Kaggle result:** 0.43257 ↑ LR = auto - лучше, чем Baseline THRS 0.2"
   ]
  },
  {
   "cell_type": "markdown",
   "metadata": {
    "pycharm": {
     "name": "#%% md\n"
    }
   },
   "source": [
    "#### Изменяю порог до 0.19"
   ]
  },
  {
   "cell_type": "code",
   "execution_count": null,
   "metadata": {
    "pycharm": {
     "name": "#%%\n"
    }
   },
   "outputs": [],
   "source": [
    "((df_test.baseline_cat_cv_score > 0.19) * 1).mean()"
   ]
  },
  {
   "cell_type": "code",
   "execution_count": null,
   "metadata": {
    "pycharm": {
     "name": "#%%\n"
    }
   },
   "outputs": [],
   "source": [
    "submission = pd.DataFrame(df_test['id'])\n",
    "submission['smoking'] = (df_test.baseline_cat_cv_score > 0.19) * 1\n",
    "submission.to_csv('Cat_CV_THRS0.19_LR_auto.csv', index=False)"
   ]
  },
  {
   "cell_type": "code",
   "execution_count": null,
   "metadata": {
    "pycharm": {
     "name": "#%%\n"
    }
   },
   "outputs": [],
   "source": [
    "submission.head()"
   ]
  },
  {
   "cell_type": "markdown",
   "metadata": {
    "pycharm": {
     "name": "#%% md\n"
    }
   },
   "source": [
    "**Kaggle result:** 0.43509 ↑ LR = auto - лучше, чем CV THRS 0.2"
   ]
  },
  {
   "cell_type": "markdown",
   "metadata": {
    "pycharm": {
     "name": "#%% md\n"
    }
   },
   "source": [
    "#### Изменяю порог до 0.18"
   ]
  },
  {
   "cell_type": "code",
   "execution_count": null,
   "metadata": {
    "pycharm": {
     "name": "#%%\n"
    }
   },
   "outputs": [],
   "source": [
    "((df_test.baseline_cat_cv_score > 0.18) * 1).mean()"
   ]
  },
  {
   "cell_type": "code",
   "execution_count": null,
   "metadata": {
    "pycharm": {
     "name": "#%%\n"
    }
   },
   "outputs": [],
   "source": [
    "submission = pd.DataFrame(df_test['id'])\n",
    "submission['smoking'] = (df_test.baseline_cat_cv_score > 0.18) * 1\n",
    "submission.to_csv('Cat_CV_THRS0.18_LR_auto.csv', index=False)"
   ]
  },
  {
   "cell_type": "code",
   "execution_count": null,
   "metadata": {
    "pycharm": {
     "name": "#%%\n"
    }
   },
   "outputs": [],
   "source": [
    "submission.head()"
   ]
  },
  {
   "cell_type": "markdown",
   "metadata": {
    "pycharm": {
     "name": "#%% md\n"
    }
   },
   "source": [
    "**Kaggle result:** 0.43323 ↑ LR = auto - хужу, чем CV THRS 0.19"
   ]
  },
  {
   "cell_type": "markdown",
   "metadata": {
    "pycharm": {
     "name": "#%% md\n"
    }
   },
   "source": [
    "## Grid Search"
   ]
  },
  {
   "cell_type": "code",
   "execution_count": null,
   "metadata": {
    "pycharm": {
     "name": "#%%\n"
    }
   },
   "outputs": [],
   "source": [
    "pool = Pool(data=X_train, label=y_train, cat_features=cat_features)\n",
    "model = CatBoostClassifier(iterations=1000, eval_metric='F1', verbose = 350, random_state=659)\n",
    "grid = {'learning_rate': [0.01, 0.05, 0.1, 0.15, 0.2, 0.25, 0.3, 0.35, 0.4, 0.45, 0.5, 0.55, 0.6, 0.65, 0.7, 0.75, 0.8, 0.85, 0.9, 0.95, 1]}"
   ]
  },
  {
   "cell_type": "code",
   "execution_count": null,
   "metadata": {
    "pycharm": {
     "name": "#%%\n"
    },
    "scrolled": true
   },
   "outputs": [],
   "source": [
    "%%time\n",
    "model.grid_search(grid, pool, plot=True)"
   ]
  },
  {
   "cell_type": "code",
   "execution_count": null,
   "metadata": {
    "pycharm": {
     "name": "#%%\n"
    }
   },
   "outputs": [],
   "source": [
    "model.get_params()"
   ]
  },
  {
   "cell_type": "markdown",
   "metadata": {
    "pycharm": {
     "name": "#%% md\n"
    }
   },
   "source": [
    "Best F1 = 0.3484, Best LR = 0.75"
   ]
  },
  {
   "cell_type": "code",
   "execution_count": null,
   "metadata": {
    "pycharm": {
     "name": "#%%\n"
    }
   },
   "outputs": [],
   "source": [
    "pool = Pool(data=X_train, label=y_train, cat_features=cat_features)\n",
    "model = CatBoostClassifier(iterations=1000, eval_metric='F1', verbose = 350, random_state=659)\n",
    "grid = {'learning_rate': [0.51, 0.53, 0.55, 0.57, 0.59, 0.61, 0.63, 0.65, 0.67, 0.69, 0.71, 0.73, 0.75, 0.77, 0.79, 0.81, 0.83, 0.85]}"
   ]
  },
  {
   "cell_type": "code",
   "execution_count": null,
   "metadata": {
    "pycharm": {
     "name": "#%%\n"
    },
    "scrolled": true
   },
   "outputs": [],
   "source": [
    "%%time\n",
    "model.grid_search(grid, pool, plot=True)"
   ]
  },
  {
   "cell_type": "code",
   "execution_count": null,
   "metadata": {
    "pycharm": {
     "name": "#%%\n"
    }
   },
   "outputs": [],
   "source": [
    "model.get_params()"
   ]
  },
  {
   "cell_type": "markdown",
   "metadata": {
    "pycharm": {
     "name": "#%% md\n"
    }
   },
   "source": [
    "Best F1 = 0.3484, Best LR = 0.75"
   ]
  },
  {
   "cell_type": "markdown",
   "metadata": {
    "pycharm": {
     "name": "#%% md\n"
    }
   },
   "source": [
    "#### Итого"
   ]
  },
  {
   "cell_type": "markdown",
   "metadata": {
    "pycharm": {
     "name": "#%% md\n"
    }
   },
   "source": [
    "Лучший Learning rate ≈ 0.75\n",
    "F1 ≈ 0.3484"
   ]
  },
  {
   "cell_type": "markdown",
   "metadata": {
    "pycharm": {
     "name": "#%% md\n"
    }
   },
   "source": [
    "## Catboost model comparison"
   ]
  },
  {
   "cell_type": "code",
   "execution_count": null,
   "metadata": {
    "pycharm": {
     "name": "#%%\n"
    }
   },
   "outputs": [],
   "source": [
    "%%time\n",
    "model1 = CatBoostClassifier(\n",
    "    learning_rate=0.05,\n",
    "    iterations=1000,\n",
    "    random_state=659,\n",
    "    train_dir='learning_rate_0.05',\n",
    "    custom_metric=['F1', 'AUC']\n",
    ")\n",
    "\n",
    "model2 = CatBoostClassifier(\n",
    "    learning_rate=0.15,\n",
    "    iterations=1000,\n",
    "    random_state=659,\n",
    "    train_dir='learning_rate_0.15',\n",
    "    custom_metric=['F1', 'AUC']\n",
    ")\n",
    "\n",
    "model3 = CatBoostClassifier(\n",
    "    learning_rate=0.25,\n",
    "    iterations=1000,\n",
    "    random_state=659,\n",
    "    train_dir='learning_rate_0.25',\n",
    "    custom_metric=['F1', 'AUC']\n",
    ")\n",
    "\n",
    "model4 = CatBoostClassifier(\n",
    "    learning_rate=0.35,\n",
    "    iterations=1000,\n",
    "    random_state=659,\n",
    "    train_dir='learning_rate_0.35',\n",
    "    custom_metric=['F1', 'AUC']\n",
    ")\n",
    "\n",
    "model5 = CatBoostClassifier(\n",
    "    learning_rate=0.47,\n",
    "    iterations=1000,\n",
    "    random_state=659,\n",
    "    train_dir='learning_rate_0.47',\n",
    "    custom_metric=['F1', 'AUC']\n",
    ")\n",
    "\n",
    "model6 = CatBoostClassifier(\n",
    "    learning_rate=0.55,\n",
    "    iterations=1000,\n",
    "    random_state=659,\n",
    "    train_dir='learning_rate_0.55',\n",
    "    custom_metric=['F1', 'AUC']\n",
    ")\n",
    "\n",
    "model7 = CatBoostClassifier(\n",
    "    learning_rate=0.65,\n",
    "    iterations=1000,\n",
    "    random_state=659,\n",
    "    train_dir='learning_rate_0.65',\n",
    "    custom_metric=['F1', 'AUC']\n",
    ")\n",
    "\n",
    "model8 = CatBoostClassifier(\n",
    "    learning_rate=0.75,\n",
    "    iterations=1000,\n",
    "    random_state=659,\n",
    "    train_dir='learning_rate_0.75',\n",
    "    custom_metric=['F1', 'AUC']\n",
    ")\n",
    "\n",
    "model9 = CatBoostClassifier(\n",
    "    learning_rate=0.85,\n",
    "    iterations=1000,\n",
    "    random_state=659,\n",
    "    train_dir='learning_rate_0.85',\n",
    "    custom_metric=['F1', 'AUC']\n",
    ")\n",
    "\n",
    "model10 = CatBoostClassifier(\n",
    "    learning_rate=0.95,\n",
    "    iterations=1000,\n",
    "    random_state=659,\n",
    "    train_dir='learning_rate_0.95',\n",
    "    custom_metric=['F1', 'AUC']\n",
    ")\n",
    "model1.fit(\n",
    "    X_train, y_train,\n",
    "    eval_set=(X_test, y_test),\n",
    "    cat_features=cat_features,\n",
    "    verbose=False\n",
    ")\n",
    "model2.fit(\n",
    "    X_train, y_train,\n",
    "    eval_set=(X_test, y_test),\n",
    "    cat_features=cat_features,\n",
    "    verbose=False\n",
    ")\n",
    "model3.fit(\n",
    "    X_train, y_train,\n",
    "    eval_set=(X_test, y_test),\n",
    "    cat_features=cat_features,\n",
    "    verbose=False\n",
    ")\n",
    "model4.fit(\n",
    "    X_train, y_train,\n",
    "    eval_set=(X_test, y_test),\n",
    "    cat_features=cat_features,\n",
    "    verbose=False\n",
    ")\n",
    "model5.fit(\n",
    "    X_train, y_train,\n",
    "    eval_set=(X_test, y_test),\n",
    "    cat_features=cat_features,\n",
    "    verbose=False\n",
    ")\n",
    "model6.fit(\n",
    "    X_train, y_train,\n",
    "    eval_set=(X_test, y_test),\n",
    "    cat_features=cat_features,\n",
    "    verbose=False\n",
    ")\n",
    "model7.fit(\n",
    "    X_train, y_train,\n",
    "    eval_set=(X_test, y_test),\n",
    "    cat_features=cat_features,\n",
    "    verbose=False\n",
    ")\n",
    "model8.fit(\n",
    "    X_train, y_train,\n",
    "    eval_set=(X_test, y_test),\n",
    "    cat_features=cat_features,\n",
    "    verbose=False\n",
    ")\n",
    "model9.fit(\n",
    "    X_train, y_train,\n",
    "    eval_set=(X_test, y_test),\n",
    "    cat_features=cat_features,\n",
    "    verbose=False\n",
    ")\n",
    "model10.fit(\n",
    "    X_train, y_train,\n",
    "    eval_set=(X_test, y_test),\n",
    "    cat_features=cat_features,\n",
    "    verbose=False\n",
    ")"
   ]
  },
  {
   "cell_type": "code",
   "execution_count": null,
   "metadata": {
    "pycharm": {
     "name": "#%%\n"
    }
   },
   "outputs": [],
   "source": [
    "%%time\n",
    "from catboost import MetricVisualizer\n",
    "\n",
    "MetricVisualizer(['learning_rate_0.05', 'learning_rate_0.15', 'learning_rate_0.25', 'learning_rate_0.35', 'learning_rate_0.47', 'learning_rate_0.55', 'learning_rate_0.65', 'learning_rate_0.75', 'learning_rate_0.85', 'learning_rate_0.95']).start()"
   ]
  },
  {
   "cell_type": "markdown",
   "metadata": {
    "pycharm": {
     "name": "#%% md\n"
    }
   },
   "source": [
    "Best F`s: F1 = 0.3434 LR = 0.65, F1 = 0.3318 LR = 0.75, F1 = 0.3452 LR = 0.95???"
   ]
  },
  {
   "cell_type": "code",
   "execution_count": null,
   "metadata": {
    "pycharm": {
     "name": "#%%\n"
    }
   },
   "outputs": [],
   "source": [
    "%%time\n",
    "model1 = CatBoostClassifier(\n",
    "    learning_rate=0.57,\n",
    "    iterations=1000,\n",
    "    random_state=659,\n",
    "    train_dir='learning_rate_0.57',\n",
    "    custom_metric=['F1', 'AUC']\n",
    ")\n",
    "\n",
    "model2 = CatBoostClassifier(\n",
    "    learning_rate=0.59,\n",
    "    iterations=1000,\n",
    "    random_state=659,\n",
    "    train_dir='learning_rate_0.59',\n",
    "    custom_metric=['F1', 'AUC']\n",
    ")\n",
    "\n",
    "model3 = CatBoostClassifier(\n",
    "    learning_rate=0.61,\n",
    "    iterations=1000,\n",
    "    random_state=659,\n",
    "    train_dir='learning_rate_0.61',\n",
    "    custom_metric=['F1', 'AUC']\n",
    ")\n",
    "\n",
    "model4 = CatBoostClassifier(\n",
    "    learning_rate=0.63,\n",
    "    iterations=1000,\n",
    "    random_state=659,\n",
    "    train_dir='learning_rate_0.63',\n",
    "    custom_metric=['F1', 'AUC']\n",
    ")\n",
    "\n",
    "model5 = CatBoostClassifier(\n",
    "    learning_rate=0.67,\n",
    "    iterations=1000,\n",
    "    random_state=659,\n",
    "    train_dir='learning_rate_0.67',\n",
    "    custom_metric=['F1', 'AUC']\n",
    ")\n",
    "\n",
    "model6 = CatBoostClassifier(\n",
    "    learning_rate=0.69,\n",
    "    iterations=1000,\n",
    "    random_state=659,\n",
    "    train_dir='learning_rate_0.69',\n",
    "    custom_metric=['F1', 'AUC']\n",
    ")\n",
    "\n",
    "model7 = CatBoostClassifier(\n",
    "    learning_rate=0.65,\n",
    "    iterations=1000,\n",
    "    random_state=659,\n",
    "    train_dir='learning_rate_0.65',\n",
    "    custom_metric=['F1', 'AUC']\n",
    ")\n",
    "\n",
    "model8 = CatBoostClassifier(\n",
    "    learning_rate=0.71,\n",
    "    iterations=1000,\n",
    "    random_state=659,\n",
    "    train_dir='learning_rate_0.71',\n",
    "    custom_metric=['F1', 'AUC']\n",
    ")\n",
    "\n",
    "model9 = CatBoostClassifier(\n",
    "    learning_rate=0.73,\n",
    "    iterations=1000,\n",
    "    random_state=659,\n",
    "    train_dir='learning_rate_0.73',\n",
    "    custom_metric=['F1', 'AUC']\n",
    ")\n",
    "\n",
    "model10 = CatBoostClassifier(\n",
    "    learning_rate=0.75,\n",
    "    iterations=1000,\n",
    "    random_state=659,\n",
    "    train_dir='learning_rate_0.75',\n",
    "    custom_metric=['F1', 'AUC']\n",
    ")\n",
    "\n",
    "model11 = CatBoostClassifier(\n",
    "    learning_rate=0.77,\n",
    "    iterations=1000,\n",
    "    random_state=659,\n",
    "    train_dir='learning_rate_0.77',\n",
    "    custom_metric=['F1', 'AUC']\n",
    ")\n",
    "\n",
    "model12 = CatBoostClassifier(\n",
    "    learning_rate=0.79,\n",
    "    iterations=1000,\n",
    "    random_state=659,\n",
    "    train_dir='learning_rate_0.79',\n",
    "    custom_metric=['F1', 'AUC']\n",
    ")\n",
    "model13 = CatBoostClassifier(\n",
    "    learning_rate=0.81,\n",
    "    iterations=1000,\n",
    "    random_state=659,\n",
    "    train_dir='learning_rate_0.81',\n",
    "    custom_metric=['F1', 'AUC']\n",
    ")\n",
    "\n",
    "model14 = CatBoostClassifier(\n",
    "    learning_rate=0.83,\n",
    "    iterations=1000,\n",
    "    random_state=659,\n",
    "    train_dir='learning_rate_0.83',\n",
    "    custom_metric=['F1', 'AUC']\n",
    ")\n",
    "\n",
    "model15 = CatBoostClassifier(\n",
    "    learning_rate=0.85,\n",
    "    iterations=1000,\n",
    "    random_state=659,\n",
    "    train_dir='learning_rate_0.85',\n",
    "    custom_metric=['F1', 'AUC']\n",
    ")\n",
    "model1.fit(\n",
    "    X_train, y_train,\n",
    "    eval_set=(X_test, y_test),\n",
    "    cat_features=cat_features,\n",
    "    verbose=False\n",
    ")\n",
    "model2.fit(\n",
    "    X_train, y_train,\n",
    "    eval_set=(X_test, y_test),\n",
    "    cat_features=cat_features,\n",
    "    verbose=False\n",
    ")\n",
    "model3.fit(\n",
    "    X_train, y_train,\n",
    "    eval_set=(X_test, y_test),\n",
    "    cat_features=cat_features,\n",
    "    verbose=False\n",
    ")\n",
    "model4.fit(\n",
    "    X_train, y_train,\n",
    "    eval_set=(X_test, y_test),\n",
    "    cat_features=cat_features,\n",
    "    verbose=False\n",
    ")\n",
    "model5.fit(\n",
    "    X_train, y_train,\n",
    "    eval_set=(X_test, y_test),\n",
    "    cat_features=cat_features,\n",
    "    verbose=False\n",
    ")\n",
    "model6.fit(\n",
    "    X_train, y_train,\n",
    "    eval_set=(X_test, y_test),\n",
    "    cat_features=cat_features,\n",
    "    verbose=False\n",
    ")\n",
    "model7.fit(\n",
    "    X_train, y_train,\n",
    "    eval_set=(X_test, y_test),\n",
    "    cat_features=cat_features,\n",
    "    verbose=False\n",
    ")\n",
    "model8.fit(\n",
    "    X_train, y_train,\n",
    "    eval_set=(X_test, y_test),\n",
    "    cat_features=cat_features,\n",
    "    verbose=False\n",
    ")\n",
    "model9.fit(\n",
    "    X_train, y_train,\n",
    "    eval_set=(X_test, y_test),\n",
    "    cat_features=cat_features,\n",
    "    verbose=False\n",
    ")\n",
    "model10.fit(\n",
    "    X_train, y_train,\n",
    "    eval_set=(X_test, y_test),\n",
    "    cat_features=cat_features,\n",
    "    verbose=False\n",
    ")\n",
    "model11.fit(\n",
    "    X_train, y_train,\n",
    "    eval_set=(X_test, y_test),\n",
    "    cat_features=cat_features,\n",
    "    verbose=False\n",
    ")\n",
    "model12.fit(\n",
    "    X_train, y_train,\n",
    "    eval_set=(X_test, y_test),\n",
    "    cat_features=cat_features,\n",
    "    verbose=False\n",
    ")\n",
    "model13.fit(\n",
    "    X_train, y_train,\n",
    "    eval_set=(X_test, y_test),\n",
    "    cat_features=cat_features,\n",
    "    verbose=False\n",
    ")\n",
    "model14.fit(\n",
    "    X_train, y_train,\n",
    "    eval_set=(X_test, y_test),\n",
    "    cat_features=cat_features,\n",
    "    verbose=False\n",
    ")\n",
    "model15.fit(\n",
    "    X_train, y_train,\n",
    "    eval_set=(X_test, y_test),\n",
    "    cat_features=cat_features,\n",
    "    verbose=False\n",
    ")"
   ]
  },
  {
   "cell_type": "code",
   "execution_count": null,
   "metadata": {
    "pycharm": {
     "name": "#%%\n"
    }
   },
   "outputs": [],
   "source": [
    "%%time\n",
    "from catboost import MetricVisualizer\n",
    "\n",
    "MetricVisualizer(['learning_rate_0.57', 'learning_rate_0.59', 'learning_rate_0.61', 'learning_rate_0.63', 'learning_rate_0.65', 'learning_rate_0.67', 'learning_rate_0.69', 'learning_rate_0.71', 'learning_rate_0.73', 'learning_rate_0.75', 'learning_rate_0.77', 'learning_rate_0.79', 'learning_rate_0.81', 'learning_rate_0.83', 'learning_rate_0.85']).start()"
   ]
  },
  {
   "cell_type": "markdown",
   "metadata": {
    "pycharm": {
     "name": "#%% md\n"
    }
   },
   "source": [
    "Best F`s: F1 = 0.3470 LR = 0.77,  F1 = 0.3470 LR = 0.69, F1 = 0.3434 LR = 0.65"
   ]
  },
  {
   "cell_type": "code",
   "execution_count": null,
   "metadata": {
    "pycharm": {
     "name": "#%%\n"
    }
   },
   "outputs": [],
   "source": [
    "model.get_feature_importance(prettified=True)"
   ]
  },
  {
   "cell_type": "markdown",
   "metadata": {
    "pycharm": {
     "name": "#%% md\n"
    }
   },
   "source": [
    "#### Итого\n",
    "Лучший Learning rate ≈ 0.77\n",
    "F1 ≈ 0.3470"
   ]
  },
  {
   "cell_type": "markdown",
   "metadata": {
    "pycharm": {
     "name": "#%% md\n"
    }
   },
   "source": [
    "## Catboost CV Grid search & model comparison"
   ]
  },
  {
   "cell_type": "code",
   "execution_count": null,
   "metadata": {
    "pycharm": {
     "name": "#%%\n"
    }
   },
   "outputs": [],
   "source": [
    "parameters = {'eval_metric': 'F1',\n",
    "              'loss_function': 'Logloss',\n",
    "              'learning_rate': 0.75,\n",
    "              'random_state': 659,\n",
    "              'iterations': 1000}"
   ]
  },
  {
   "cell_type": "code",
   "execution_count": null,
   "metadata": {
    "pycharm": {
     "name": "#%%\n"
    }
   },
   "outputs": [],
   "source": [
    "%%time\n",
    "cv_data = cv(\n",
    "    params=parameters,\n",
    "    pool=full_data,\n",
    "    fold_count=5,\n",
    "    shuffle=True,\n",
    "    partition_random_seed=0,\n",
    "    stratified=False,\n",
    "    verbose=500,\n",
    "    plot=True\n",
    ")"
   ]
  },
  {
   "cell_type": "code",
   "execution_count": null,
   "metadata": {
    "pycharm": {
     "name": "#%%\n"
    }
   },
   "outputs": [],
   "source": [
    "best_value = np.max(cv_data['test-F1-mean'])\n",
    "best_iter = np.argmax(cv_data['test-F1-mean'])"
   ]
  },
  {
   "cell_type": "code",
   "execution_count": null,
   "metadata": {
    "pycharm": {
     "name": "#%%\n"
    }
   },
   "outputs": [],
   "source": [
    "best_iter, best_value"
   ]
  },
  {
   "cell_type": "markdown",
   "metadata": {
    "pycharm": {
     "name": "#%% md\n"
    }
   },
   "source": [
    "### Feature importance"
   ]
  },
  {
   "cell_type": "code",
   "execution_count": null,
   "metadata": {
    "pycharm": {
     "name": "#%%\n"
    }
   },
   "outputs": [],
   "source": [
    "model.get_feature_importance(prettified=True)"
   ]
  },
  {
   "cell_type": "markdown",
   "metadata": {
    "pycharm": {
     "name": "#%% md\n"
    }
   },
   "source": [
    "### Best iteration"
   ]
  },
  {
   "cell_type": "code",
   "execution_count": null,
   "metadata": {
    "pycharm": {
     "name": "#%%\n"
    }
   },
   "outputs": [],
   "source": [
    "parameters = {'eval_metric': 'F1',\n",
    "              'loss_function': 'Logloss',\n",
    "              'learning_rate': 0.75,\n",
    "              'random_seed': 659,\n",
    "              'iterations': best_iter,\n",
    "              'verbose': 100}"
   ]
  },
  {
   "cell_type": "code",
   "execution_count": null,
   "metadata": {
    "pycharm": {
     "name": "#%%\n"
    }
   },
   "outputs": [],
   "source": [
    "model = CatBoostClassifier(**parameters)"
   ]
  },
  {
   "cell_type": "code",
   "execution_count": null,
   "metadata": {
    "pycharm": {
     "name": "#%%\n"
    }
   },
   "outputs": [],
   "source": [
    "model.fit(full_data, plot=True)"
   ]
  },
  {
   "cell_type": "code",
   "execution_count": null,
   "metadata": {
    "pycharm": {
     "name": "#%%\n"
    }
   },
   "outputs": [],
   "source": [
    "model.get_params()"
   ]
  },
  {
   "cell_type": "markdown",
   "metadata": {
    "pycharm": {
     "name": "#%% md\n"
    }
   },
   "source": [
    "### Прогноз"
   ]
  },
  {
   "cell_type": "markdown",
   "metadata": {
    "pycharm": {
     "name": "#%% md\n"
    }
   },
   "source": [
    "Создаю колонку для baseline catboost скора"
   ]
  },
  {
   "cell_type": "code",
   "execution_count": null,
   "metadata": {
    "pycharm": {
     "name": "#%%\n"
    }
   },
   "outputs": [],
   "source": [
    "df_test['cat_cv_gs_score'] = model.predict_proba(df_test)[:, 1]"
   ]
  },
  {
   "cell_type": "code",
   "execution_count": null,
   "metadata": {
    "pycharm": {
     "name": "#%%\n"
    }
   },
   "outputs": [],
   "source": [
    "df_test.cat_cv_gs_score"
   ]
  },
  {
   "cell_type": "code",
   "execution_count": null,
   "metadata": {
    "pycharm": {
     "name": "#%%\n"
    }
   },
   "outputs": [],
   "source": [
    "df_test.cat_cv_gs_score.hist();"
   ]
  },
  {
   "cell_type": "markdown",
   "metadata": {
    "pycharm": {
     "name": "#%% md\n"
    }
   },
   "source": [
    "В данном прогнозе модели курит ≈14.4% людей, что ниже, чем в обучающей выборке (≈20%)"
   ]
  },
  {
   "cell_type": "code",
   "execution_count": null,
   "metadata": {
    "pycharm": {
     "name": "#%%\n"
    }
   },
   "outputs": [],
   "source": [
    "df_test.cat_cv_gs_score.mean()"
   ]
  },
  {
   "cell_type": "markdown",
   "metadata": {
    "pycharm": {
     "name": "#%% md\n"
    }
   },
   "source": [
    "По порогу 0.5 - 11.2%"
   ]
  },
  {
   "cell_type": "code",
   "execution_count": null,
   "metadata": {
    "pycharm": {
     "name": "#%%\n"
    }
   },
   "outputs": [],
   "source": [
    "((df_test.cat_cv_gs_score > 0.5) * 1).mean()"
   ]
  },
  {
   "cell_type": "code",
   "execution_count": null,
   "metadata": {
    "pycharm": {
     "name": "#%%\n"
    }
   },
   "outputs": [],
   "source": [
    "model.predict(df_test).mean()"
   ]
  },
  {
   "cell_type": "code",
   "execution_count": null,
   "metadata": {
    "pycharm": {
     "name": "#%%\n"
    }
   },
   "outputs": [],
   "source": [
    "df_test['cat_cv_gs_pred'] = (df_test.cat_cv_gs_score > 0.5) * 1"
   ]
  },
  {
   "cell_type": "code",
   "execution_count": null,
   "metadata": {
    "pycharm": {
     "name": "#%%\n"
    }
   },
   "outputs": [],
   "source": [
    "df_test.head()"
   ]
  },
  {
   "cell_type": "markdown",
   "metadata": {
    "pycharm": {
     "name": "#%% md\n"
    }
   },
   "source": [
    "### Сохранение результатов"
   ]
  },
  {
   "cell_type": "code",
   "execution_count": null,
   "metadata": {
    "pycharm": {
     "name": "#%%\n"
    }
   },
   "outputs": [],
   "source": [
    "submission = pd.DataFrame(df_test['id'])\n",
    "submission['smoking'] = df_test.cat_cv_gs_pred\n",
    "submission.to_csv('Cat_CV_LR_0.75_THRS_0.5.csv', index=False)"
   ]
  },
  {
   "cell_type": "code",
   "execution_count": null,
   "metadata": {
    "pycharm": {
     "name": "#%%\n"
    }
   },
   "outputs": [],
   "source": [
    "submission.head()"
   ]
  },
  {
   "cell_type": "markdown",
   "metadata": {
    "pycharm": {
     "name": "#%% md\n"
    }
   },
   "source": [
    "**Kaggle result:** 0.3165 ↓ LR=0.75, лучше чем Baseline (0.23) и CV (0.16), но хуже CV THRSH (0.43)"
   ]
  },
  {
   "cell_type": "markdown",
   "metadata": {
    "pycharm": {
     "name": "#%% md\n"
    }
   },
   "source": [
    "#### Изменяю порог до 0.2"
   ]
  },
  {
   "cell_type": "markdown",
   "metadata": {
    "pycharm": {
     "name": "#%% md\n"
    }
   },
   "source": [
    "По порогу 0.2 процент курильщиков ≈20, что примерно равно количеству в обучающей выборке"
   ]
  },
  {
   "cell_type": "code",
   "execution_count": null,
   "metadata": {
    "pycharm": {
     "name": "#%%\n"
    }
   },
   "outputs": [],
   "source": [
    "((df_test.cat_cv_gs_score > 0.2) * 1).mean()"
   ]
  },
  {
   "cell_type": "code",
   "execution_count": null,
   "metadata": {
    "pycharm": {
     "name": "#%%\n"
    }
   },
   "outputs": [],
   "source": [
    "submission = pd.DataFrame(df_test['id'])\n",
    "submission['smoking'] = (df_test.cat_cv_gs_score > 0.2) * 1\n",
    "submission.to_csv('Cat_CV_THRS02_LR_0.75.csv', index=False)"
   ]
  },
  {
   "cell_type": "code",
   "execution_count": null,
   "metadata": {
    "pycharm": {
     "name": "#%%\n"
    }
   },
   "outputs": [],
   "source": [
    "submission.head()"
   ]
  },
  {
   "cell_type": "markdown",
   "metadata": {
    "pycharm": {
     "name": "#%% md\n"
    }
   },
   "source": [
    "**Kaggle result:** 0.381 ↑ LR = 0.75- лучше, чем CV THRSH=0.5 (0.31), но хуже CV THRSH=0.2,LR=auto (0.4350)"
   ]
  },
  {
   "cell_type": "markdown",
   "metadata": {
    "pycharm": {
     "name": "#%% md\n"
    }
   },
   "source": [
    "#### Изменяю порог до 0.1"
   ]
  },
  {
   "cell_type": "markdown",
   "metadata": {
    "pycharm": {
     "name": "#%% md\n"
    }
   },
   "source": [
    "По порогу 0.1 процент курильщиков ≈28%, что больше, чем в обучающей выборке"
   ]
  },
  {
   "cell_type": "code",
   "execution_count": null,
   "metadata": {
    "pycharm": {
     "name": "#%%\n"
    }
   },
   "outputs": [],
   "source": [
    "((df_test.cat_cv_gs_score > 0.1) * 1).mean()"
   ]
  },
  {
   "cell_type": "code",
   "execution_count": null,
   "metadata": {
    "pycharm": {
     "name": "#%%\n"
    }
   },
   "outputs": [],
   "source": [
    "submission = pd.DataFrame(df_test['id'])\n",
    "submission['smoking'] = (df_test.cat_cv_gs_score > 0.1) * 1\n",
    "submission.to_csv('Cat_CV_THRS01_LR_0.75.csv', index=False)"
   ]
  },
  {
   "cell_type": "code",
   "execution_count": null,
   "metadata": {
    "pycharm": {
     "name": "#%%\n"
    }
   },
   "outputs": [],
   "source": [
    "submission.head()"
   ]
  },
  {
   "cell_type": "markdown",
   "metadata": {
    "pycharm": {
     "name": "#%% md\n"
    }
   },
   "source": [
    "**Kaggle result:** 0.397 ↑ LR = 0.75- лучше, чем CV THRSH=0.2 (0.381), но хуже CV THRSH=0.19,LR=auto (0.4350)"
   ]
  },
  {
   "cell_type": "markdown",
   "metadata": {
    "pycharm": {
     "name": "#%% md\n"
    }
   },
   "source": [
    "#### Изменяю порог до 0.04"
   ]
  },
  {
   "cell_type": "markdown",
   "metadata": {
    "pycharm": {
     "name": "#%% md\n"
    }
   },
   "source": [
    "По порогу 0.04 процент курильщиков ≈39.4%, что больше, чем в обучающей выборке"
   ]
  },
  {
   "cell_type": "code",
   "execution_count": null,
   "metadata": {
    "pycharm": {
     "name": "#%%\n"
    }
   },
   "outputs": [],
   "source": [
    "((df_test.cat_cv_gs_score > 0.04) * 1).mean()"
   ]
  },
  {
   "cell_type": "code",
   "execution_count": null,
   "metadata": {
    "pycharm": {
     "name": "#%%\n"
    }
   },
   "outputs": [],
   "source": [
    "submission = pd.DataFrame(df_test['id'])\n",
    "submission['smoking'] = (df_test.cat_cv_gs_score > 0.04) * 1\n",
    "submission.to_csv('Cat_CV_THRS004_LR_0.75.csv', index=False)"
   ]
  },
  {
   "cell_type": "code",
   "execution_count": null,
   "metadata": {
    "pycharm": {
     "name": "#%%\n"
    }
   },
   "outputs": [],
   "source": [
    "submission.head()"
   ]
  },
  {
   "cell_type": "markdown",
   "metadata": {
    "pycharm": {
     "name": "#%% md\n"
    }
   },
   "source": [
    "**Kaggle result:** 0.4005 ↑ LR = 0.75- лучше, чем CV THRSH=0.1 (0.397), но хуже CV THRSH=0.19,LR=auto (0.4350)"
   ]
  },
  {
   "cell_type": "markdown",
   "metadata": {
    "pycharm": {
     "name": "#%% md\n"
    }
   },
   "source": [
    "#### Изменяю порог до 0.025"
   ]
  },
  {
   "cell_type": "markdown",
   "metadata": {
    "pycharm": {
     "name": "#%% md\n"
    }
   },
   "source": [
    "По порогу 0.025 процент курильщиков ≈46.3%, что больше, чем в обучающей выборке"
   ]
  },
  {
   "cell_type": "code",
   "execution_count": null,
   "metadata": {
    "pycharm": {
     "name": "#%%\n"
    }
   },
   "outputs": [],
   "source": [
    "((df_test.cat_cv_gs_score > 0.025) * 1).mean()"
   ]
  },
  {
   "cell_type": "code",
   "execution_count": null,
   "metadata": {
    "pycharm": {
     "name": "#%%\n"
    }
   },
   "outputs": [],
   "source": [
    "submission = pd.DataFrame(df_test['id'])\n",
    "submission['smoking'] = (df_test.cat_cv_gs_score > 0.025) * 1\n",
    "submission.to_csv('Cat_CV_THRS0025_LR_0.75.csv', index=False)"
   ]
  },
  {
   "cell_type": "code",
   "execution_count": null,
   "metadata": {
    "pycharm": {
     "name": "#%%\n"
    }
   },
   "outputs": [],
   "source": [
    "submission.head()"
   ]
  },
  {
   "cell_type": "markdown",
   "metadata": {
    "pycharm": {
     "name": "#%% md\n"
    }
   },
   "source": [
    "**Kaggle result:** 0.397 ↑ LR = 0.75- хуже, чем CV THRSH=0.04 (0.4005) и хуже CV THRSH=0.19,LR=auto (0.4350)"
   ]
  },
  {
   "cell_type": "markdown",
   "metadata": {
    "pycharm": {
     "name": "#%% md\n"
    }
   },
   "source": [
    "## Baseline + ACW"
   ]
  },
  {
   "cell_type": "code",
   "execution_count": null,
   "metadata": {
    "pycharm": {
     "name": "#%%\n"
    }
   },
   "outputs": [],
   "source": [
    "parameters = {'cat_features': cat_features,\n",
    "              'eval_metric': 'F1',\n",
    "              'loss_function': 'Logloss',\n",
    "              'random_seed': 659,\n",
    "              'verbose': 100,\n",
    "              'auto_class_weights': 'Balanced'}"
   ]
  },
  {
   "cell_type": "code",
   "execution_count": null,
   "metadata": {
    "pycharm": {
     "name": "#%%\n"
    }
   },
   "outputs": [],
   "source": [
    "model = CatBoostClassifier(**parameters)"
   ]
  },
  {
   "cell_type": "code",
   "execution_count": null,
   "metadata": {
    "pycharm": {
     "name": "#%%\n"
    }
   },
   "outputs": [],
   "source": [
    "model.fit(train_data, eval_set=test_data, plot=True)"
   ]
  },
  {
   "cell_type": "markdown",
   "source": [
    "### Feature importance"
   ],
   "metadata": {
    "collapsed": false,
    "pycharm": {
     "name": "#%% md\n"
    }
   }
  },
  {
   "cell_type": "code",
   "execution_count": null,
   "metadata": {
    "pycharm": {
     "name": "#%%\n"
    }
   },
   "outputs": [],
   "source": [
    "acw = model.get_feature_importance(prettified=True)"
   ]
  },
  {
   "cell_type": "code",
   "execution_count": null,
   "outputs": [],
   "source": [
    "acw"
   ],
   "metadata": {
    "collapsed": false,
    "pycharm": {
     "name": "#%%\n"
    }
   }
  },
  {
   "cell_type": "code",
   "execution_count": null,
   "outputs": [],
   "source": [],
   "metadata": {
    "collapsed": false,
    "pycharm": {
     "name": "#%%\n"
    }
   }
  },
  {
   "cell_type": "code",
   "execution_count": null,
   "metadata": {
    "pycharm": {
     "name": "#%%\n"
    }
   },
   "outputs": [],
   "source": [
    "df_test['baseline_cat_score_acw'] = model.predict_proba(df_test)[:, 1]"
   ]
  },
  {
   "cell_type": "code",
   "execution_count": null,
   "metadata": {
    "pycharm": {
     "name": "#%%\n"
    }
   },
   "outputs": [],
   "source": [
    "df_test.baseline_cat_score_acw"
   ]
  },
  {
   "cell_type": "code",
   "execution_count": null,
   "metadata": {
    "pycharm": {
     "name": "#%%\n"
    }
   },
   "outputs": [],
   "source": [
    "df_test.baseline_cat_score_acw.hist();"
   ]
  },
  {
   "cell_type": "code",
   "execution_count": null,
   "metadata": {
    "pycharm": {
     "name": "#%%\n"
    }
   },
   "outputs": [],
   "source": [
    "((df_test.baseline_cat_score_acw > 0.5) * 1).mean()"
   ]
  },
  {
   "cell_type": "code",
   "execution_count": null,
   "metadata": {
    "pycharm": {
     "name": "#%%\n"
    }
   },
   "outputs": [],
   "source": [
    "model.predict(df_test).mean()"
   ]
  },
  {
   "cell_type": "code",
   "execution_count": null,
   "metadata": {
    "pycharm": {
     "name": "#%%\n"
    }
   },
   "outputs": [],
   "source": [
    "df_test['baseline_cat_pred_acw'] = (df_test.baseline_cat_score_acw > 0.5) * 1"
   ]
  },
  {
   "cell_type": "code",
   "execution_count": null,
   "metadata": {
    "pycharm": {
     "name": "#%%\n"
    }
   },
   "outputs": [],
   "source": [
    "df_test.head()"
   ]
  },
  {
   "cell_type": "markdown",
   "metadata": {
    "pycharm": {
     "name": "#%% md\n"
    }
   },
   "source": [
    "### Сохранение результатов"
   ]
  },
  {
   "cell_type": "code",
   "execution_count": null,
   "metadata": {
    "pycharm": {
     "name": "#%%\n"
    }
   },
   "outputs": [],
   "source": [
    "submission = pd.DataFrame(df_test['id'])\n",
    "submission['smoking'] = df_test.baseline_cat_pred_acw\n",
    "submission.to_csv('Baseline_ACW_LR_auto.csv', index=False)"
   ]
  },
  {
   "cell_type": "code",
   "execution_count": null,
   "metadata": {
    "pycharm": {
     "name": "#%%\n"
    }
   },
   "outputs": [],
   "source": [
    "submission['smoking'].mean()"
   ]
  },
  {
   "cell_type": "markdown",
   "metadata": {
    "pycharm": {
     "name": "#%% md\n"
    }
   },
   "source": [
    "**Kaggle result:** 0.43467 LR=auto + ACW"
   ]
  },
  {
   "cell_type": "markdown",
   "metadata": {
    "pycharm": {
     "name": "#%% md\n"
    }
   },
   "source": [
    "### Изменение порога"
   ]
  },
  {
   "cell_type": "code",
   "execution_count": null,
   "metadata": {
    "pycharm": {
     "name": "#%%\n"
    }
   },
   "outputs": [],
   "source": [
    "((df_test.baseline_cat_score_acw > 0.53) * 1).mean()"
   ]
  },
  {
   "cell_type": "code",
   "execution_count": null,
   "metadata": {
    "pycharm": {
     "name": "#%%\n"
    }
   },
   "outputs": [],
   "source": [
    "submission = pd.DataFrame(df_test['id'])\n",
    "submission['smoking'] = (df_test.baseline_cat_score_acw > 0.53) * 1\n",
    "submission.to_csv('Baseline_ACW_threshold0.53_LRauto.csv', index=False)"
   ]
  },
  {
   "cell_type": "code",
   "execution_count": null,
   "metadata": {
    "pycharm": {
     "name": "#%%\n"
    }
   },
   "outputs": [],
   "source": [
    "submission.head()"
   ]
  },
  {
   "cell_type": "code",
   "execution_count": null,
   "metadata": {
    "pycharm": {
     "name": "#%%\n"
    }
   },
   "outputs": [],
   "source": [
    "submission['smoking'].mean()"
   ]
  },
  {
   "cell_type": "markdown",
   "metadata": {
    "pycharm": {
     "name": "#%% md\n"
    }
   },
   "source": [
    "**Kaggle result:** 0.41734 ↓ LR = 0.057 auto,"
   ]
  },
  {
   "cell_type": "markdown",
   "metadata": {
    "pycharm": {
     "name": "#%% md\n"
    }
   },
   "source": [
    "### Grid Search"
   ]
  },
  {
   "cell_type": "code",
   "execution_count": null,
   "metadata": {
    "pycharm": {
     "name": "#%%\n"
    }
   },
   "outputs": [],
   "source": [
    "pool = Pool(data=X_train, label=y_train, cat_features=cat_features)\n",
    "model = CatBoostClassifier(iterations=1000, eval_metric='F1', verbose = 350,  auto_class_weights='Balanced', random_state=659)\n",
    "grid = {'learning_rate': [0.01, 0.05, 0.1, 0.15, 0.2, 0.25, 0.3, 0.35, 0.4, 0.45, 0.5, 0.55, 0.6, 0.65, 0.7, 0.75, 0.8, 0.85, 0.9, 0.95, 1]}"
   ]
  },
  {
   "cell_type": "code",
   "execution_count": null,
   "metadata": {
    "pycharm": {
     "name": "#%%\n"
    },
    "scrolled": true
   },
   "outputs": [],
   "source": [
    "%%time\n",
    "model.grid_search(grid, pool, plot=True)"
   ]
  },
  {
   "cell_type": "code",
   "execution_count": null,
   "metadata": {
    "pycharm": {
     "name": "#%%\n"
    }
   },
   "outputs": [],
   "source": [
    "model.get_params()"
   ]
  },
  {
   "cell_type": "code",
   "execution_count": null,
   "metadata": {
    "pycharm": {
     "name": "#%%\n"
    }
   },
   "outputs": [],
   "source": []
  },
  {
   "cell_type": "code",
   "execution_count": null,
   "metadata": {
    "pycharm": {
     "name": "#%%\n"
    }
   },
   "outputs": [],
   "source": [
    "%%time\n",
    "model1 = CatBoostClassifier(\n",
    "    learning_rate=0.65,\n",
    "    iterations=1000,\n",
    "    random_state=659,\n",
    "    train_dir='learning_rate_0.65',\n",
    "    custom_metric=['F1', 'AUC'],\n",
    "    auto_class_weights='Balanced'\n",
    ")\n",
    "\n",
    "model2 = CatBoostClassifier(\n",
    "    learning_rate=0.5,\n",
    "    iterations=1000,\n",
    "    random_state=659,\n",
    "    train_dir='learning_rate_0.5',\n",
    "    custom_metric=['F1', 'AUC'],\n",
    "    auto_class_weights='Balanced'\n",
    ")\n",
    "\n",
    "model3 = CatBoostClassifier(\n",
    "    learning_rate=0.05,\n",
    "    iterations=1000,\n",
    "    random_state=659,\n",
    "    train_dir='learning_rate_0.05',\n",
    "    custom_metric=['F1', 'AUC'],\n",
    "    auto_class_weights='Balanced'\n",
    ")\n",
    "\n",
    "model1.fit(\n",
    "    X_train, y_train,\n",
    "    eval_set=(X_test, y_test),\n",
    "    cat_features=cat_features,\n",
    "    verbose=False\n",
    ")\n",
    "model2.fit(\n",
    "    X_train, y_train,\n",
    "    eval_set=(X_test, y_test),\n",
    "    cat_features=cat_features,\n",
    "    verbose=False\n",
    ")\n",
    "model3.fit(\n",
    "    X_train, y_train,\n",
    "    eval_set=(X_test, y_test),\n",
    "    cat_features=cat_features,\n",
    "    verbose=False\n",
    ")"
   ]
  },
  {
   "cell_type": "code",
   "execution_count": null,
   "metadata": {
    "pycharm": {
     "name": "#%%\n"
    }
   },
   "outputs": [],
   "source": [
    "%%time\n",
    "from catboost import MetricVisualizer\n",
    "\n",
    "MetricVisualizer(['learning_rate_0.05', 'learning_rate_0.5', 'learning_rate_0.65']).start()"
   ]
  },
  {
   "cell_type": "code",
   "execution_count": null,
   "metadata": {
    "pycharm": {
     "name": "#%%\n"
    }
   },
   "outputs": [],
   "source": []
  },
  {
   "cell_type": "markdown",
   "source": [
    "## Catboost CV + ACW"
   ],
   "metadata": {
    "collapsed": false,
    "pycharm": {
     "name": "#%% md\n"
    }
   }
  },
  {
   "cell_type": "code",
   "execution_count": null,
   "outputs": [],
   "source": [
    "parameters = {'eval_metric': 'F1',\n",
    "              'loss_function': 'Logloss',\n",
    "              'random_seed': 659,\n",
    "              'iterations': 1000,\n",
    "              'auto_class_weights': 'Balanced'}"
   ],
   "metadata": {
    "collapsed": false,
    "pycharm": {
     "name": "#%%\n"
    }
   }
  },
  {
   "cell_type": "code",
   "execution_count": null,
   "outputs": [],
   "source": [
    "%%time\n",
    "cv_data = cv(\n",
    "    params=parameters,\n",
    "    pool=full_data,\n",
    "    fold_count=5,\n",
    "    shuffle=True,\n",
    "    partition_random_seed=0,\n",
    "    stratified=False,\n",
    "    verbose=500,\n",
    "    plot=True\n",
    ")"
   ],
   "metadata": {
    "collapsed": false,
    "pycharm": {
     "name": "#%%\n"
    }
   }
  },
  {
   "cell_type": "code",
   "execution_count": null,
   "outputs": [],
   "source": [
    "best_value = np.max(cv_data['test-F1-mean'])\n",
    "best_iter = np.argmax(cv_data['test-F1-mean'])"
   ],
   "metadata": {
    "collapsed": false,
    "pycharm": {
     "name": "#%%\n"
    }
   }
  },
  {
   "cell_type": "code",
   "execution_count": null,
   "outputs": [],
   "source": [
    "best_iter, best_value"
   ],
   "metadata": {
    "collapsed": false,
    "pycharm": {
     "name": "#%%\n"
    }
   }
  },
  {
   "cell_type": "markdown",
   "source": [
    "### Feature importance"
   ],
   "metadata": {
    "collapsed": false,
    "pycharm": {
     "name": "#%% md\n"
    }
   }
  },
  {
   "cell_type": "code",
   "execution_count": null,
   "outputs": [],
   "source": [
    "model.get_feature_importance(prettified=True)"
   ],
   "metadata": {
    "collapsed": false,
    "pycharm": {
     "name": "#%%\n"
    }
   }
  },
  {
   "cell_type": "markdown",
   "source": [
    "### Best iteration"
   ],
   "metadata": {
    "collapsed": false,
    "pycharm": {
     "name": "#%% md\n"
    }
   }
  },
  {
   "cell_type": "code",
   "execution_count": null,
   "outputs": [],
   "source": [
    "parameters = {'eval_metric': 'F1',\n",
    "              'loss_function': 'Logloss',\n",
    "              'random_seed': 659,\n",
    "              'iterations': best_iter,\n",
    "              'verbose': 100,\n",
    "              'auto_class_weights': 'Balanced'}"
   ],
   "metadata": {
    "collapsed": false,
    "pycharm": {
     "name": "#%%\n"
    }
   }
  },
  {
   "cell_type": "code",
   "execution_count": null,
   "outputs": [],
   "source": [
    "model = CatBoostClassifier(**parameters)"
   ],
   "metadata": {
    "collapsed": false,
    "pycharm": {
     "name": "#%%\n"
    }
   }
  },
  {
   "cell_type": "code",
   "execution_count": null,
   "outputs": [],
   "source": [
    "model.fit(full_data, plot=True)"
   ],
   "metadata": {
    "collapsed": false,
    "pycharm": {
     "name": "#%%\n"
    }
   }
  },
  {
   "cell_type": "code",
   "execution_count": null,
   "outputs": [],
   "source": [
    "model.get_params()"
   ],
   "metadata": {
    "collapsed": false,
    "pycharm": {
     "name": "#%%\n"
    }
   }
  },
  {
   "cell_type": "code",
   "execution_count": null,
   "outputs": [],
   "source": [
    "model.get_feature_importance(prettified=True)"
   ],
   "metadata": {
    "collapsed": false,
    "pycharm": {
     "name": "#%%\n"
    }
   }
  },
  {
   "cell_type": "markdown",
   "source": [
    "### Прогноз"
   ],
   "metadata": {
    "collapsed": false,
    "pycharm": {
     "name": "#%% md\n"
    }
   }
  },
  {
   "cell_type": "markdown",
   "source": [
    "Создаю колонку для baseline catboost скора"
   ],
   "metadata": {
    "collapsed": false,
    "pycharm": {
     "name": "#%% md\n"
    }
   }
  },
  {
   "cell_type": "code",
   "execution_count": null,
   "outputs": [],
   "source": [
    "df_test['cat_cv_acw_score'] = model.predict_proba(df_test)[:, 1]"
   ],
   "metadata": {
    "collapsed": false,
    "pycharm": {
     "name": "#%%\n"
    }
   }
  },
  {
   "cell_type": "code",
   "execution_count": null,
   "outputs": [],
   "source": [
    "df_test.cat_cv_acw_score"
   ],
   "metadata": {
    "collapsed": false,
    "pycharm": {
     "name": "#%%\n"
    }
   }
  },
  {
   "cell_type": "code",
   "execution_count": null,
   "outputs": [],
   "source": [
    "df_test.cat_cv_acw_score.hist();"
   ],
   "metadata": {
    "collapsed": false,
    "pycharm": {
     "name": "#%%\n"
    }
   }
  },
  {
   "cell_type": "markdown",
   "source": [
    "Средний процент курильщиков в тесте ≈39.8%, что выше, чем в обучающей выборке"
   ],
   "metadata": {
    "collapsed": false,
    "pycharm": {
     "name": "#%% md\n"
    }
   }
  },
  {
   "cell_type": "code",
   "execution_count": null,
   "outputs": [],
   "source": [
    "df_test.cat_cv_acw_score.mean()"
   ],
   "metadata": {
    "collapsed": false,
    "pycharm": {
     "name": "#%%\n"
    }
   }
  },
  {
   "cell_type": "markdown",
   "source": [
    "По порогу 0.5 вероятность ≈3.6%, что сильно меньше чем 20% в обучающей выборке. Есть смысл снижать порог."
   ],
   "metadata": {
    "collapsed": false,
    "pycharm": {
     "name": "#%% md\n"
    }
   }
  },
  {
   "cell_type": "code",
   "execution_count": null,
   "outputs": [],
   "source": [
    "((df_test.cat_cv_acw_score > 0.5) * 1).mean()"
   ],
   "metadata": {
    "collapsed": false,
    "pycharm": {
     "name": "#%%\n"
    }
   }
  },
  {
   "cell_type": "code",
   "execution_count": null,
   "outputs": [],
   "source": [
    "model.predict(df_test).mean()"
   ],
   "metadata": {
    "collapsed": false,
    "pycharm": {
     "name": "#%%\n"
    }
   }
  },
  {
   "cell_type": "code",
   "execution_count": null,
   "outputs": [],
   "source": [
    "df_test['cat_cv_pred_acw'] = (df_test.cat_cv_acw_score > 0.5) * 1"
   ],
   "metadata": {
    "collapsed": false,
    "pycharm": {
     "name": "#%%\n"
    }
   }
  },
  {
   "cell_type": "code",
   "execution_count": null,
   "outputs": [],
   "source": [
    "df_test.head()"
   ],
   "metadata": {
    "collapsed": false,
    "pycharm": {
     "name": "#%%\n"
    }
   }
  },
  {
   "cell_type": "markdown",
   "source": [
    "### Сохранение результатов"
   ],
   "metadata": {
    "collapsed": false,
    "pycharm": {
     "name": "#%% md\n"
    }
   }
  },
  {
   "cell_type": "code",
   "execution_count": null,
   "outputs": [],
   "source": [
    "submission = pd.DataFrame(df_test['id'])\n",
    "submission['smoking'] = df_test.cat_cv_pred_acw\n",
    "submission.to_csv('Cat_CV_ACW_LR_auto_THRS_0.5.csv', index=False)"
   ],
   "metadata": {
    "collapsed": false,
    "pycharm": {
     "name": "#%%\n"
    }
   }
  },
  {
   "cell_type": "code",
   "execution_count": null,
   "outputs": [],
   "source": [
    "submission.head()"
   ],
   "metadata": {
    "collapsed": false,
    "pycharm": {
     "name": "#%%\n"
    }
   }
  },
  {
   "cell_type": "markdown",
   "source": [
    "**Kaggle result:** 0.42341 ↓ LR=auto, хуже чем Baseline + ACW (0.43467)"
   ],
   "metadata": {
    "collapsed": false,
    "pycharm": {
     "name": "#%% md\n"
    }
   }
  },
  {
   "cell_type": "markdown",
   "source": [
    "#### Изменяю порог до 0.2"
   ],
   "metadata": {
    "collapsed": false,
    "pycharm": {
     "name": "#%% md\n"
    }
   }
  },
  {
   "cell_type": "markdown",
   "source": [
    "По порогу 0.2 процент курильщиков ≈37.4, что выше чем в обучающей выборке"
   ],
   "metadata": {
    "collapsed": false,
    "pycharm": {
     "name": "#%% md\n"
    }
   }
  },
  {
   "cell_type": "code",
   "execution_count": null,
   "outputs": [],
   "source": [
    "((df_test.cat_cv_acw_score > 0.45) * 1).mean()"
   ],
   "metadata": {
    "collapsed": false,
    "pycharm": {
     "name": "#%%\n"
    }
   }
  },
  {
   "cell_type": "code",
   "execution_count": null,
   "outputs": [],
   "source": [
    "submission = pd.DataFrame(df_test['id'])\n",
    "submission['smoking'] = (df_test.cat_cv_acw_score > 0.45) * 1\n",
    "submission.to_csv('Cat_CV_THRS045_LR_auto.csv', index=False)"
   ],
   "metadata": {
    "collapsed": false,
    "pycharm": {
     "name": "#%%\n"
    }
   }
  },
  {
   "cell_type": "code",
   "execution_count": null,
   "outputs": [],
   "source": [
    "submission.head()"
   ],
   "metadata": {
    "collapsed": false,
    "pycharm": {
     "name": "#%%\n"
    }
   }
  },
  {
   "cell_type": "markdown",
   "source": [
    "**Kaggle result:** 0.42051 ↓ LR = auto - хуже, чем Baseline + ACW"
   ],
   "metadata": {
    "collapsed": false,
    "pycharm": {
     "name": "#%% md\n"
    }
   }
  },
  {
   "cell_type": "markdown",
   "source": [
    "## Catboost CV drop features"
   ],
   "metadata": {
    "collapsed": false,
    "pycharm": {
     "name": "#%% md\n"
    }
   }
  },
  {
   "cell_type": "markdown",
   "source": [
    "Создам новый ДФ для feature engineering"
   ],
   "metadata": {
    "collapsed": false,
    "pycharm": {
     "name": "#%% md\n"
    }
   }
  },
  {
   "cell_type": "code",
   "execution_count": 31,
   "outputs": [],
   "source": [
    "df_copy = df.copy()\n",
    "df_test_copy = df_test.copy()"
   ],
   "metadata": {
    "collapsed": false,
    "pycharm": {
     "name": "#%%\n"
    }
   }
  },
  {
   "cell_type": "code",
   "execution_count": null,
   "outputs": [],
   "source": [
    "df.head()"
   ],
   "metadata": {
    "collapsed": false,
    "pycharm": {
     "name": "#%%\n"
    }
   }
  },
  {
   "cell_type": "markdown",
   "source": [
    "Посмотрю Feature importance у разных моделей:\n",
    "1. Baseline\n",
    "2. CV\n",
    "3. Baseline + ACW"
   ],
   "metadata": {
    "collapsed": false,
    "pycharm": {
     "name": "#%% md\n"
    }
   }
  },
  {
   "cell_type": "code",
   "execution_count": null,
   "outputs": [],
   "source": [
    "base"
   ],
   "metadata": {
    "collapsed": false,
    "pycharm": {
     "name": "#%%\n"
    }
   }
  },
  {
   "cell_type": "code",
   "execution_count": null,
   "outputs": [],
   "source": [
    "base_cv"
   ],
   "metadata": {
    "collapsed": false,
    "pycharm": {
     "name": "#%%\n"
    }
   }
  },
  {
   "cell_type": "code",
   "execution_count": null,
   "outputs": [],
   "source": [
    "acw"
   ],
   "metadata": {
    "collapsed": false,
    "pycharm": {
     "name": "#%%\n"
    }
   }
  },
  {
   "cell_type": "markdown",
   "source": [
    "Дропну фичи которые не влияют или практически не влияют на модель"
   ],
   "metadata": {
    "collapsed": false,
    "pycharm": {
     "name": "#%% md\n"
    }
   }
  },
  {
   "cell_type": "code",
   "execution_count": 32,
   "outputs": [],
   "source": [
    "X = df.drop(['hearing_left_', 'hearing_right_', 'id', 'urine_protein', 'eyesight_left_', 'eyesight_right_', 'height_cm_', 'dental_caries', 'smoking', 'oral'], axis=1)\n",
    "y = df.smoking\n",
    "cat_features = ['tartar']\n",
    "df_test_copy = df_test_copy.drop(['hearing_left_', 'hearing_right_', 'id', 'urine_protein', 'eyesight_left_', 'eyesight_right_', 'height_cm_', 'dental_caries', 'oral'], axis=1)"
   ],
   "metadata": {
    "collapsed": false,
    "pycharm": {
     "name": "#%%\n"
    }
   }
  },
  {
   "cell_type": "code",
   "execution_count": 33,
   "outputs": [],
   "source": [
    "X_train, X_test, y_train, y_test = train_test_split(X, y, test_size=0.2, random_state=659)"
   ],
   "metadata": {
    "collapsed": false,
    "pycharm": {
     "name": "#%%\n"
    }
   }
  },
  {
   "cell_type": "code",
   "execution_count": 34,
   "outputs": [],
   "source": [
    "train_data = Pool(X_train, y_train, cat_features=cat_features)\n",
    "test_data = Pool(X_test, y_test, cat_features=cat_features)\n",
    "full_data = Pool(X, y, cat_features=cat_features)"
   ],
   "metadata": {
    "collapsed": false,
    "pycharm": {
     "name": "#%%\n"
    }
   }
  },
  {
   "cell_type": "markdown",
   "source": [
    "### Baseline model"
   ],
   "metadata": {
    "collapsed": false,
    "pycharm": {
     "name": "#%% md\n"
    }
   }
  },
  {
   "cell_type": "markdown",
   "source": [
    "### Настройка гиперпараметров"
   ],
   "metadata": {
    "collapsed": false,
    "pycharm": {
     "name": "#%% md\n"
    }
   }
  },
  {
   "cell_type": "code",
   "execution_count": 35,
   "outputs": [],
   "source": [
    "parameters = {'cat_features': cat_features,\n",
    "              'eval_metric': 'F1',\n",
    "              'loss_function': 'Logloss',\n",
    "              'random_seed': 659,\n",
    "              'verbose': 100}"
   ],
   "metadata": {
    "collapsed": false,
    "pycharm": {
     "name": "#%%\n"
    }
   }
  },
  {
   "cell_type": "code",
   "execution_count": 36,
   "outputs": [],
   "source": [
    "model = CatBoostClassifier(**parameters)"
   ],
   "metadata": {
    "collapsed": false,
    "pycharm": {
     "name": "#%%\n"
    }
   }
  },
  {
   "cell_type": "code",
   "execution_count": 37,
   "outputs": [
    {
     "data": {
      "text/plain": "MetricVisualizer(layout=Layout(align_self='stretch', height='500px'))",
      "application/vnd.jupyter.widget-view+json": {
       "version_major": 2,
       "version_minor": 0,
       "model_id": "1f97988790064e5ab0651d9e86263eb3"
      }
     },
     "metadata": {},
     "output_type": "display_data"
    },
    {
     "name": "stdout",
     "output_type": "stream",
     "text": [
      "Learning rate set to 0.057358\n",
      "0:\tlearn: 0.0106336\ttest: 0.0000000\tbest: 0.0000000 (0)\ttotal: 151ms\tremaining: 2m 30s\n",
      "100:\tlearn: 0.1373355\ttest: 0.0913706\tbest: 0.0913706 (99)\ttotal: 1.05s\tremaining: 9.33s\n",
      "200:\tlearn: 0.2562929\ttest: 0.1533546\tbest: 0.1570513 (193)\ttotal: 1.79s\tremaining: 7.13s\n",
      "300:\tlearn: 0.3506869\ttest: 0.1593750\tbest: 0.1710731 (295)\ttotal: 2.53s\tremaining: 5.88s\n",
      "400:\tlearn: 0.4291135\ttest: 0.1843318\tbest: 0.1871166 (398)\ttotal: 3.29s\tremaining: 4.91s\n",
      "500:\tlearn: 0.4879840\ttest: 0.1957831\tbest: 0.1987768 (421)\ttotal: 4.06s\tremaining: 4.04s\n",
      "600:\tlearn: 0.5458642\ttest: 0.2065868\tbest: 0.2068966 (580)\ttotal: 4.79s\tremaining: 3.18s\n",
      "700:\tlearn: 0.5922693\ttest: 0.2170088\tbest: 0.2176471 (690)\ttotal: 5.54s\tremaining: 2.36s\n",
      "800:\tlearn: 0.6297872\ttest: 0.2318841\tbest: 0.2322206 (773)\ttotal: 6.3s\tremaining: 1.57s\n",
      "900:\tlearn: 0.6692240\ttest: 0.2413793\tbest: 0.2424242 (856)\ttotal: 7.07s\tremaining: 777ms\n",
      "999:\tlearn: 0.6973380\ttest: 0.2378223\tbest: 0.2478632 (915)\ttotal: 7.82s\tremaining: 0us\n",
      "\n",
      "bestTest = 0.2478632479\n",
      "bestIteration = 915\n",
      "\n",
      "Shrink model to first 916 iterations.\n"
     ]
    },
    {
     "data": {
      "text/plain": "<catboost.core.CatBoostClassifier at 0x1c62a9ae290>"
     },
     "execution_count": 37,
     "metadata": {},
     "output_type": "execute_result"
    }
   ],
   "source": [
    "model.fit(train_data, eval_set=test_data, plot=True)"
   ],
   "metadata": {
    "collapsed": false,
    "pycharm": {
     "name": "#%%\n"
    }
   }
  },
  {
   "cell_type": "code",
   "execution_count": 38,
   "outputs": [
    {
     "data": {
      "text/plain": "             Feature Id  Importances\n0                   gtp     9.822146\n1          triglyceride     9.593389\n2                   age     7.495763\n3             waist_cm_     7.416420\n4                   alt     7.315613\n5            hemoglobin     7.200620\n6                   ldl     7.052737\n7           cholesterol     6.600658\n8   fasting_blood_sugar     6.364575\n9              systolic     5.961822\n10                  hdl     5.940467\n11                  ast     5.483319\n12           relaxation     5.033340\n13     serum_creatinine     3.819710\n14           weight_kg_     3.196969\n15               tartar     1.702452",
      "text/html": "<div>\n<style scoped>\n    .dataframe tbody tr th:only-of-type {\n        vertical-align: middle;\n    }\n\n    .dataframe tbody tr th {\n        vertical-align: top;\n    }\n\n    .dataframe thead th {\n        text-align: right;\n    }\n</style>\n<table border=\"1\" class=\"dataframe\">\n  <thead>\n    <tr style=\"text-align: right;\">\n      <th></th>\n      <th>Feature Id</th>\n      <th>Importances</th>\n    </tr>\n  </thead>\n  <tbody>\n    <tr>\n      <th>0</th>\n      <td>gtp</td>\n      <td>9.822146</td>\n    </tr>\n    <tr>\n      <th>1</th>\n      <td>triglyceride</td>\n      <td>9.593389</td>\n    </tr>\n    <tr>\n      <th>2</th>\n      <td>age</td>\n      <td>7.495763</td>\n    </tr>\n    <tr>\n      <th>3</th>\n      <td>waist_cm_</td>\n      <td>7.416420</td>\n    </tr>\n    <tr>\n      <th>4</th>\n      <td>alt</td>\n      <td>7.315613</td>\n    </tr>\n    <tr>\n      <th>5</th>\n      <td>hemoglobin</td>\n      <td>7.200620</td>\n    </tr>\n    <tr>\n      <th>6</th>\n      <td>ldl</td>\n      <td>7.052737</td>\n    </tr>\n    <tr>\n      <th>7</th>\n      <td>cholesterol</td>\n      <td>6.600658</td>\n    </tr>\n    <tr>\n      <th>8</th>\n      <td>fasting_blood_sugar</td>\n      <td>6.364575</td>\n    </tr>\n    <tr>\n      <th>9</th>\n      <td>systolic</td>\n      <td>5.961822</td>\n    </tr>\n    <tr>\n      <th>10</th>\n      <td>hdl</td>\n      <td>5.940467</td>\n    </tr>\n    <tr>\n      <th>11</th>\n      <td>ast</td>\n      <td>5.483319</td>\n    </tr>\n    <tr>\n      <th>12</th>\n      <td>relaxation</td>\n      <td>5.033340</td>\n    </tr>\n    <tr>\n      <th>13</th>\n      <td>serum_creatinine</td>\n      <td>3.819710</td>\n    </tr>\n    <tr>\n      <th>14</th>\n      <td>weight_kg_</td>\n      <td>3.196969</td>\n    </tr>\n    <tr>\n      <th>15</th>\n      <td>tartar</td>\n      <td>1.702452</td>\n    </tr>\n  </tbody>\n</table>\n</div>"
     },
     "execution_count": 38,
     "metadata": {},
     "output_type": "execute_result"
    }
   ],
   "source": [
    "model.get_feature_importance(prettified=True)"
   ],
   "metadata": {
    "collapsed": false,
    "pycharm": {
     "name": "#%%\n"
    }
   }
  },
  {
   "cell_type": "markdown",
   "source": [
    "Создаю колонку для baseline catboost скора"
   ],
   "metadata": {
    "collapsed": false,
    "pycharm": {
     "name": "#%% md\n"
    }
   }
  },
  {
   "cell_type": "code",
   "execution_count": 40,
   "outputs": [],
   "source": [
    "df_test_copy['cat_score_drop1'] = model.predict_proba(df_test_copy)[:, 1]"
   ],
   "metadata": {
    "collapsed": false,
    "pycharm": {
     "name": "#%%\n"
    }
   }
  },
  {
   "cell_type": "code",
   "execution_count": 41,
   "outputs": [
    {
     "data": {
      "text/plain": "0       0.283389\n1       0.003200\n2       0.086899\n3       0.086367\n4       0.154906\n          ...   \n5937    0.146306\n5938    0.112120\n5939    0.064106\n5940    0.142221\n5941    0.222115\nName: cat_score_drop1, Length: 5942, dtype: float64"
     },
     "execution_count": 41,
     "metadata": {},
     "output_type": "execute_result"
    }
   ],
   "source": [
    "df_test_copy.cat_score_drop1"
   ],
   "metadata": {
    "collapsed": false,
    "pycharm": {
     "name": "#%%\n"
    }
   }
  },
  {
   "cell_type": "markdown",
   "source": [
    "#### Пороги"
   ],
   "metadata": {
    "collapsed": false,
    "pycharm": {
     "name": "#%% md\n"
    }
   }
  },
  {
   "cell_type": "code",
   "execution_count": 42,
   "outputs": [
    {
     "data": {
      "text/plain": "0.05301245371928644"
     },
     "execution_count": 42,
     "metadata": {},
     "output_type": "execute_result"
    }
   ],
   "source": [
    "((df_test_copy.cat_score_drop1 > 0.5) * 1).mean()"
   ],
   "metadata": {
    "collapsed": false,
    "pycharm": {
     "name": "#%%\n"
    }
   }
  },
  {
   "cell_type": "code",
   "execution_count": 43,
   "outputs": [
    {
     "data": {
      "text/plain": "0.05301245371928644"
     },
     "execution_count": 43,
     "metadata": {},
     "output_type": "execute_result"
    }
   ],
   "source": [
    "model.predict(df_test_copy).mean()"
   ],
   "metadata": {
    "collapsed": false,
    "pycharm": {
     "name": "#%%\n"
    }
   }
  },
  {
   "cell_type": "code",
   "execution_count": 44,
   "outputs": [],
   "source": [
    "df_test_copy['cat_pred_drop1'] = (df_test_copy.cat_score_drop1 > 0.5) * 1"
   ],
   "metadata": {
    "collapsed": false,
    "pycharm": {
     "name": "#%%\n"
    }
   }
  },
  {
   "cell_type": "code",
   "execution_count": 45,
   "outputs": [
    {
     "data": {
      "text/plain": "   age  weight_kg_  waist_cm_  systolic  relaxation  fasting_blood_sugar  \\\n0   40          75       87.0     140.0        90.0                131.0   \n1   25          65       78.4     118.0        78.0                101.0   \n2   50         105      109.3     130.0        90.0                 96.0   \n3   60          60       81.0     118.0        76.0                 97.0   \n4   45          70       83.0     130.0        80.0                100.0   \n\n   cholesterol  triglyceride   hdl    ldl  hemoglobin  serum_creatinine   ast  \\\n0        225.0         216.0  52.0  129.0        16.4               1.1  25.0   \n1        170.0          33.0  72.0   91.0        11.9               0.9  33.0   \n2        162.0         144.0  71.0   62.0        15.4               0.9  19.0   \n3        172.0          91.0  46.0  108.0        16.2               1.2  34.0   \n4        191.0         365.0  34.0   84.0        15.2               0.7  27.0   \n\n    alt   gtp tartar  cat_score_drop1  cat_pred_drop1  \n0  58.0  43.0      Y         0.283389               0  \n1  66.0  22.0      N         0.003200               0  \n2  24.0  32.0      Y         0.086899               0  \n3  37.0  26.0      Y         0.086367               0  \n4  25.0  26.0      N         0.154906               0  ",
      "text/html": "<div>\n<style scoped>\n    .dataframe tbody tr th:only-of-type {\n        vertical-align: middle;\n    }\n\n    .dataframe tbody tr th {\n        vertical-align: top;\n    }\n\n    .dataframe thead th {\n        text-align: right;\n    }\n</style>\n<table border=\"1\" class=\"dataframe\">\n  <thead>\n    <tr style=\"text-align: right;\">\n      <th></th>\n      <th>age</th>\n      <th>weight_kg_</th>\n      <th>waist_cm_</th>\n      <th>systolic</th>\n      <th>relaxation</th>\n      <th>fasting_blood_sugar</th>\n      <th>cholesterol</th>\n      <th>triglyceride</th>\n      <th>hdl</th>\n      <th>ldl</th>\n      <th>hemoglobin</th>\n      <th>serum_creatinine</th>\n      <th>ast</th>\n      <th>alt</th>\n      <th>gtp</th>\n      <th>tartar</th>\n      <th>cat_score_drop1</th>\n      <th>cat_pred_drop1</th>\n    </tr>\n  </thead>\n  <tbody>\n    <tr>\n      <th>0</th>\n      <td>40</td>\n      <td>75</td>\n      <td>87.0</td>\n      <td>140.0</td>\n      <td>90.0</td>\n      <td>131.0</td>\n      <td>225.0</td>\n      <td>216.0</td>\n      <td>52.0</td>\n      <td>129.0</td>\n      <td>16.4</td>\n      <td>1.1</td>\n      <td>25.0</td>\n      <td>58.0</td>\n      <td>43.0</td>\n      <td>Y</td>\n      <td>0.283389</td>\n      <td>0</td>\n    </tr>\n    <tr>\n      <th>1</th>\n      <td>25</td>\n      <td>65</td>\n      <td>78.4</td>\n      <td>118.0</td>\n      <td>78.0</td>\n      <td>101.0</td>\n      <td>170.0</td>\n      <td>33.0</td>\n      <td>72.0</td>\n      <td>91.0</td>\n      <td>11.9</td>\n      <td>0.9</td>\n      <td>33.0</td>\n      <td>66.0</td>\n      <td>22.0</td>\n      <td>N</td>\n      <td>0.003200</td>\n      <td>0</td>\n    </tr>\n    <tr>\n      <th>2</th>\n      <td>50</td>\n      <td>105</td>\n      <td>109.3</td>\n      <td>130.0</td>\n      <td>90.0</td>\n      <td>96.0</td>\n      <td>162.0</td>\n      <td>144.0</td>\n      <td>71.0</td>\n      <td>62.0</td>\n      <td>15.4</td>\n      <td>0.9</td>\n      <td>19.0</td>\n      <td>24.0</td>\n      <td>32.0</td>\n      <td>Y</td>\n      <td>0.086899</td>\n      <td>0</td>\n    </tr>\n    <tr>\n      <th>3</th>\n      <td>60</td>\n      <td>60</td>\n      <td>81.0</td>\n      <td>118.0</td>\n      <td>76.0</td>\n      <td>97.0</td>\n      <td>172.0</td>\n      <td>91.0</td>\n      <td>46.0</td>\n      <td>108.0</td>\n      <td>16.2</td>\n      <td>1.2</td>\n      <td>34.0</td>\n      <td>37.0</td>\n      <td>26.0</td>\n      <td>Y</td>\n      <td>0.086367</td>\n      <td>0</td>\n    </tr>\n    <tr>\n      <th>4</th>\n      <td>45</td>\n      <td>70</td>\n      <td>83.0</td>\n      <td>130.0</td>\n      <td>80.0</td>\n      <td>100.0</td>\n      <td>191.0</td>\n      <td>365.0</td>\n      <td>34.0</td>\n      <td>84.0</td>\n      <td>15.2</td>\n      <td>0.7</td>\n      <td>27.0</td>\n      <td>25.0</td>\n      <td>26.0</td>\n      <td>N</td>\n      <td>0.154906</td>\n      <td>0</td>\n    </tr>\n  </tbody>\n</table>\n</div>"
     },
     "execution_count": 45,
     "metadata": {},
     "output_type": "execute_result"
    }
   ],
   "source": [
    "df_test_copy.head()"
   ],
   "metadata": {
    "collapsed": false,
    "pycharm": {
     "name": "#%%\n"
    }
   }
  },
  {
   "cell_type": "markdown",
   "source": [
    "### Сохранение результатов"
   ],
   "metadata": {
    "collapsed": false,
    "pycharm": {
     "name": "#%% md\n"
    }
   }
  },
  {
   "cell_type": "code",
   "execution_count": 46,
   "outputs": [],
   "source": [
    "submission = pd.DataFrame(df_test['id'])\n",
    "submission['smoking'] = df_test_copy['cat_pred_drop1']\n",
    "submission.to_csv('Cat_LR_auto_drop1.csv', index=False)"
   ],
   "metadata": {
    "collapsed": false,
    "pycharm": {
     "name": "#%%\n"
    }
   }
  },
  {
   "cell_type": "code",
   "execution_count": 47,
   "outputs": [
    {
     "data": {
      "text/plain": "      id  smoking\n0  19200        0\n1   7784        0\n2  11682        0\n3   9949        0\n4   9378        0",
      "text/html": "<div>\n<style scoped>\n    .dataframe tbody tr th:only-of-type {\n        vertical-align: middle;\n    }\n\n    .dataframe tbody tr th {\n        vertical-align: top;\n    }\n\n    .dataframe thead th {\n        text-align: right;\n    }\n</style>\n<table border=\"1\" class=\"dataframe\">\n  <thead>\n    <tr style=\"text-align: right;\">\n      <th></th>\n      <th>id</th>\n      <th>smoking</th>\n    </tr>\n  </thead>\n  <tbody>\n    <tr>\n      <th>0</th>\n      <td>19200</td>\n      <td>0</td>\n    </tr>\n    <tr>\n      <th>1</th>\n      <td>7784</td>\n      <td>0</td>\n    </tr>\n    <tr>\n      <th>2</th>\n      <td>11682</td>\n      <td>0</td>\n    </tr>\n    <tr>\n      <th>3</th>\n      <td>9949</td>\n      <td>0</td>\n    </tr>\n    <tr>\n      <th>4</th>\n      <td>9378</td>\n      <td>0</td>\n    </tr>\n  </tbody>\n</table>\n</div>"
     },
     "execution_count": 47,
     "metadata": {},
     "output_type": "execute_result"
    }
   ],
   "source": [
    "submission.head()"
   ],
   "metadata": {
    "collapsed": false,
    "pycharm": {
     "name": "#%%\n"
    }
   }
  },
  {
   "cell_type": "markdown",
   "source": [
    "**Kaggle result:** 0.2297 LR=auto"
   ],
   "metadata": {
    "collapsed": false,
    "pycharm": {
     "name": "#%% md\n"
    }
   }
  },
  {
   "cell_type": "markdown",
   "source": [
    "Изменю порог на 0.2"
   ],
   "metadata": {
    "collapsed": false,
    "pycharm": {
     "name": "#%% md\n"
    }
   }
  },
  {
   "cell_type": "code",
   "execution_count": 62,
   "outputs": [
    {
     "data": {
      "text/plain": "0.3419723998653652"
     },
     "execution_count": 62,
     "metadata": {},
     "output_type": "execute_result"
    }
   ],
   "source": [
    "((df_test_copy.cat_score_drop1 > 0.20) * 1).mean()"
   ],
   "metadata": {
    "collapsed": false,
    "pycharm": {
     "name": "#%%\n"
    }
   }
  },
  {
   "cell_type": "markdown",
   "source": [
    "### Сохранение результатов"
   ],
   "metadata": {
    "collapsed": false,
    "pycharm": {
     "name": "#%% md\n"
    }
   }
  },
  {
   "cell_type": "code",
   "execution_count": 63,
   "outputs": [],
   "source": [
    "submission = pd.DataFrame(df_test['id'])\n",
    "submission['smoking'] = (df_test_copy.cat_score_drop1 > 0.20) * 1\n",
    "submission.to_csv('Cat_LR_auto_THRSH_02_drop1.csv', index=False)"
   ],
   "metadata": {
    "collapsed": false,
    "pycharm": {
     "name": "#%%\n"
    }
   }
  },
  {
   "cell_type": "code",
   "execution_count": 64,
   "outputs": [
    {
     "data": {
      "text/plain": "      id  smoking\n0  19200        1\n1   7784        0\n2  11682        0\n3   9949        0\n4   9378        0",
      "text/html": "<div>\n<style scoped>\n    .dataframe tbody tr th:only-of-type {\n        vertical-align: middle;\n    }\n\n    .dataframe tbody tr th {\n        vertical-align: top;\n    }\n\n    .dataframe thead th {\n        text-align: right;\n    }\n</style>\n<table border=\"1\" class=\"dataframe\">\n  <thead>\n    <tr style=\"text-align: right;\">\n      <th></th>\n      <th>id</th>\n      <th>smoking</th>\n    </tr>\n  </thead>\n  <tbody>\n    <tr>\n      <th>0</th>\n      <td>19200</td>\n      <td>1</td>\n    </tr>\n    <tr>\n      <th>1</th>\n      <td>7784</td>\n      <td>0</td>\n    </tr>\n    <tr>\n      <th>2</th>\n      <td>11682</td>\n      <td>0</td>\n    </tr>\n    <tr>\n      <th>3</th>\n      <td>9949</td>\n      <td>0</td>\n    </tr>\n    <tr>\n      <th>4</th>\n      <td>9378</td>\n      <td>0</td>\n    </tr>\n  </tbody>\n</table>\n</div>"
     },
     "execution_count": 64,
     "metadata": {},
     "output_type": "execute_result"
    }
   ],
   "source": [
    "submission.head()"
   ],
   "metadata": {
    "collapsed": false,
    "pycharm": {
     "name": "#%%\n"
    }
   }
  },
  {
   "cell_type": "markdown",
   "source": [
    "**Kaggle result:** 0.43254 ↑↑↑"
   ],
   "metadata": {
    "collapsed": false,
    "pycharm": {
     "name": "#%% md\n"
    }
   }
  },
  {
   "cell_type": "markdown",
   "source": [
    "Изменю порог на 0.175"
   ],
   "metadata": {
    "collapsed": false,
    "pycharm": {
     "name": "#%% md\n"
    }
   }
  },
  {
   "cell_type": "code",
   "execution_count": 67,
   "outputs": [
    {
     "data": {
      "text/plain": "0.4000336587007742"
     },
     "execution_count": 67,
     "metadata": {},
     "output_type": "execute_result"
    }
   ],
   "source": [
    "((df_test_copy.cat_score_drop1 > 0.175) * 1).mean()"
   ],
   "metadata": {
    "collapsed": false,
    "pycharm": {
     "name": "#%%\n"
    }
   }
  },
  {
   "cell_type": "markdown",
   "source": [
    "### Сохранение результатов"
   ],
   "metadata": {
    "collapsed": false,
    "pycharm": {
     "name": "#%% md\n"
    }
   }
  },
  {
   "cell_type": "code",
   "execution_count": 68,
   "outputs": [],
   "source": [
    "submission = pd.DataFrame(df_test['id'])\n",
    "submission['smoking'] = (df_test_copy.cat_score_drop1 > 0.175) * 1\n",
    "submission.to_csv('Cat_LR_auto_THRSH_0175_drop1.csv', index=False)"
   ],
   "metadata": {
    "collapsed": false,
    "pycharm": {
     "name": "#%%\n"
    }
   }
  },
  {
   "cell_type": "code",
   "execution_count": 69,
   "outputs": [
    {
     "data": {
      "text/plain": "      id  smoking\n0  19200        1\n1   7784        0\n2  11682        0\n3   9949        0\n4   9378        0",
      "text/html": "<div>\n<style scoped>\n    .dataframe tbody tr th:only-of-type {\n        vertical-align: middle;\n    }\n\n    .dataframe tbody tr th {\n        vertical-align: top;\n    }\n\n    .dataframe thead th {\n        text-align: right;\n    }\n</style>\n<table border=\"1\" class=\"dataframe\">\n  <thead>\n    <tr style=\"text-align: right;\">\n      <th></th>\n      <th>id</th>\n      <th>smoking</th>\n    </tr>\n  </thead>\n  <tbody>\n    <tr>\n      <th>0</th>\n      <td>19200</td>\n      <td>1</td>\n    </tr>\n    <tr>\n      <th>1</th>\n      <td>7784</td>\n      <td>0</td>\n    </tr>\n    <tr>\n      <th>2</th>\n      <td>11682</td>\n      <td>0</td>\n    </tr>\n    <tr>\n      <th>3</th>\n      <td>9949</td>\n      <td>0</td>\n    </tr>\n    <tr>\n      <th>4</th>\n      <td>9378</td>\n      <td>0</td>\n    </tr>\n  </tbody>\n</table>\n</div>"
     },
     "execution_count": 69,
     "metadata": {},
     "output_type": "execute_result"
    }
   ],
   "source": [
    "submission.head()"
   ],
   "metadata": {
    "collapsed": false,
    "pycharm": {
     "name": "#%%\n"
    }
   }
  },
  {
   "cell_type": "markdown",
   "source": [
    "**Kaggle result:** 0.42996 ↓"
   ],
   "metadata": {
    "collapsed": false,
    "pycharm": {
     "name": "#%% md\n"
    }
   }
  },
  {
   "cell_type": "code",
   "execution_count": null,
   "outputs": [],
   "source": [],
   "metadata": {
    "collapsed": false,
    "pycharm": {
     "name": "#%%\n"
    }
   }
  },
  {
   "cell_type": "markdown",
   "source": [
    "### Baseline + ACW"
   ],
   "metadata": {
    "collapsed": false,
    "pycharm": {
     "name": "#%% md\n"
    }
   }
  },
  {
   "cell_type": "code",
   "execution_count": 70,
   "outputs": [],
   "source": [
    "parameters = {'cat_features': cat_features,\n",
    "              'eval_metric': 'F1',\n",
    "              'loss_function': 'Logloss',\n",
    "              'random_seed': 659,\n",
    "              'verbose': 100,\n",
    "              'auto_class_weights': 'Balanced'}"
   ],
   "metadata": {
    "collapsed": false,
    "pycharm": {
     "name": "#%%\n"
    }
   }
  },
  {
   "cell_type": "code",
   "execution_count": 71,
   "outputs": [],
   "source": [
    "model = CatBoostClassifier(**parameters)"
   ],
   "metadata": {
    "collapsed": false,
    "pycharm": {
     "name": "#%%\n"
    }
   }
  },
  {
   "cell_type": "code",
   "execution_count": 72,
   "outputs": [
    {
     "data": {
      "text/plain": "MetricVisualizer(layout=Layout(align_self='stretch', height='500px'))",
      "application/vnd.jupyter.widget-view+json": {
       "version_major": 2,
       "version_minor": 0,
       "model_id": "a455c40719624e1087f70fa96a92ebd0"
      }
     },
     "metadata": {},
     "output_type": "display_data"
    },
    {
     "name": "stdout",
     "output_type": "stream",
     "text": [
      "Learning rate set to 0.057358\n",
      "0:\tlearn: 0.5573270\ttest: 0.5268990\tbest: 0.5268990 (0)\ttotal: 8.85ms\tremaining: 8.84s\n",
      "100:\tlearn: 0.6950685\ttest: 0.6159664\tbest: 0.6199543 (81)\ttotal: 797ms\tremaining: 7.1s\n",
      "200:\tlearn: 0.7373025\ttest: 0.6109041\tbest: 0.6213382 (173)\ttotal: 1.6s\tremaining: 6.34s\n",
      "300:\tlearn: 0.7934771\ttest: 0.5961230\tbest: 0.6213382 (173)\ttotal: 2.39s\tremaining: 5.55s\n",
      "400:\tlearn: 0.8337373\ttest: 0.5973695\tbest: 0.6213382 (173)\ttotal: 3.2s\tremaining: 4.78s\n",
      "500:\tlearn: 0.8641488\ttest: 0.5923690\tbest: 0.6213382 (173)\ttotal: 3.98s\tremaining: 3.96s\n",
      "600:\tlearn: 0.8895608\ttest: 0.5862766\tbest: 0.6213382 (173)\ttotal: 4.74s\tremaining: 3.15s\n",
      "700:\tlearn: 0.9099351\ttest: 0.5805892\tbest: 0.6213382 (173)\ttotal: 5.52s\tremaining: 2.35s\n",
      "800:\tlearn: 0.9248023\ttest: 0.5695163\tbest: 0.6213382 (173)\ttotal: 6.33s\tremaining: 1.57s\n",
      "900:\tlearn: 0.9393582\ttest: 0.5700470\tbest: 0.6213382 (173)\ttotal: 7.15s\tremaining: 785ms\n",
      "999:\tlearn: 0.9481947\ttest: 0.5626597\tbest: 0.6213382 (173)\ttotal: 7.92s\tremaining: 0us\n",
      "\n",
      "bestTest = 0.6213381502\n",
      "bestIteration = 173\n",
      "\n",
      "Shrink model to first 174 iterations.\n"
     ]
    },
    {
     "data": {
      "text/plain": "<catboost.core.CatBoostClassifier at 0x1c62d1f47c0>"
     },
     "execution_count": 72,
     "metadata": {},
     "output_type": "execute_result"
    }
   ],
   "source": [
    "model.fit(train_data, eval_set=test_data, plot=True)"
   ],
   "metadata": {
    "collapsed": false,
    "pycharm": {
     "name": "#%%\n"
    }
   }
  },
  {
   "cell_type": "markdown",
   "source": [
    "### Feature importance"
   ],
   "metadata": {
    "collapsed": false,
    "pycharm": {
     "name": "#%% md\n"
    }
   }
  },
  {
   "cell_type": "code",
   "execution_count": 74,
   "outputs": [
    {
     "data": {
      "text/plain": "             Feature Id  Importances\n0                   gtp    14.847841\n1                   age    13.469570\n2          triglyceride     9.389170\n3                   alt     7.828248\n4            hemoglobin     7.141270\n5             waist_cm_     6.238297\n6                   ldl     5.911721\n7      serum_creatinine     4.949016\n8                   hdl     4.698051\n9                tartar     4.404200\n10                  ast     4.362405\n11             systolic     4.101678\n12  fasting_blood_sugar     3.826047\n13           weight_kg_     3.176314\n14           relaxation     2.952666\n15          cholesterol     2.703506",
      "text/html": "<div>\n<style scoped>\n    .dataframe tbody tr th:only-of-type {\n        vertical-align: middle;\n    }\n\n    .dataframe tbody tr th {\n        vertical-align: top;\n    }\n\n    .dataframe thead th {\n        text-align: right;\n    }\n</style>\n<table border=\"1\" class=\"dataframe\">\n  <thead>\n    <tr style=\"text-align: right;\">\n      <th></th>\n      <th>Feature Id</th>\n      <th>Importances</th>\n    </tr>\n  </thead>\n  <tbody>\n    <tr>\n      <th>0</th>\n      <td>gtp</td>\n      <td>14.847841</td>\n    </tr>\n    <tr>\n      <th>1</th>\n      <td>age</td>\n      <td>13.469570</td>\n    </tr>\n    <tr>\n      <th>2</th>\n      <td>triglyceride</td>\n      <td>9.389170</td>\n    </tr>\n    <tr>\n      <th>3</th>\n      <td>alt</td>\n      <td>7.828248</td>\n    </tr>\n    <tr>\n      <th>4</th>\n      <td>hemoglobin</td>\n      <td>7.141270</td>\n    </tr>\n    <tr>\n      <th>5</th>\n      <td>waist_cm_</td>\n      <td>6.238297</td>\n    </tr>\n    <tr>\n      <th>6</th>\n      <td>ldl</td>\n      <td>5.911721</td>\n    </tr>\n    <tr>\n      <th>7</th>\n      <td>serum_creatinine</td>\n      <td>4.949016</td>\n    </tr>\n    <tr>\n      <th>8</th>\n      <td>hdl</td>\n      <td>4.698051</td>\n    </tr>\n    <tr>\n      <th>9</th>\n      <td>tartar</td>\n      <td>4.404200</td>\n    </tr>\n    <tr>\n      <th>10</th>\n      <td>ast</td>\n      <td>4.362405</td>\n    </tr>\n    <tr>\n      <th>11</th>\n      <td>systolic</td>\n      <td>4.101678</td>\n    </tr>\n    <tr>\n      <th>12</th>\n      <td>fasting_blood_sugar</td>\n      <td>3.826047</td>\n    </tr>\n    <tr>\n      <th>13</th>\n      <td>weight_kg_</td>\n      <td>3.176314</td>\n    </tr>\n    <tr>\n      <th>14</th>\n      <td>relaxation</td>\n      <td>2.952666</td>\n    </tr>\n    <tr>\n      <th>15</th>\n      <td>cholesterol</td>\n      <td>2.703506</td>\n    </tr>\n  </tbody>\n</table>\n</div>"
     },
     "execution_count": 74,
     "metadata": {},
     "output_type": "execute_result"
    }
   ],
   "source": [
    "model.get_feature_importance(prettified=True)"
   ],
   "metadata": {
    "collapsed": false,
    "pycharm": {
     "name": "#%%\n"
    }
   }
  },
  {
   "cell_type": "code",
   "execution_count": 75,
   "outputs": [],
   "source": [
    "df_test_copy['cat_score_acw_drop1'] = model.predict_proba(df_test_copy)[:, 1]"
   ],
   "metadata": {
    "collapsed": false,
    "pycharm": {
     "name": "#%%\n"
    }
   }
  },
  {
   "cell_type": "code",
   "execution_count": 77,
   "outputs": [
    {
     "data": {
      "text/plain": "0       0.579439\n1       0.118867\n2       0.478128\n3       0.264404\n4       0.490135\n          ...   \n5937    0.338735\n5938    0.367915\n5939    0.272691\n5940    0.400105\n5941    0.528485\nName: cat_score_acw_drop1, Length: 5942, dtype: float64"
     },
     "execution_count": 77,
     "metadata": {},
     "output_type": "execute_result"
    }
   ],
   "source": [
    "df_test_copy.cat_score_acw_drop1"
   ],
   "metadata": {
    "collapsed": false,
    "pycharm": {
     "name": "#%%\n"
    }
   }
  },
  {
   "cell_type": "code",
   "execution_count": 79,
   "outputs": [
    {
     "data": {
      "text/plain": "<Figure size 640x480 with 1 Axes>",
      "image/png": "[encoded data removed]"
     },
     "metadata": {},
     "output_type": "display_data"
    }
   ],
   "source": [
    "df_test_copy.cat_score_acw_drop1.hist();"
   ],
   "metadata": {
    "collapsed": false,
    "pycharm": {
     "name": "#%%\n"
    }
   }
  },
  {
   "cell_type": "code",
   "execution_count": 81,
   "outputs": [
    {
     "data": {
      "text/plain": "0.36368226186469205"
     },
     "execution_count": 81,
     "metadata": {},
     "output_type": "execute_result"
    }
   ],
   "source": [
    "((df_test_copy.cat_score_acw_drop1 > 0.5) * 1).mean()"
   ],
   "metadata": {
    "collapsed": false,
    "pycharm": {
     "name": "#%%\n"
    }
   }
  },
  {
   "cell_type": "code",
   "execution_count": 83,
   "outputs": [
    {
     "data": {
      "text/plain": "0.36368226186469205"
     },
     "execution_count": 83,
     "metadata": {},
     "output_type": "execute_result"
    }
   ],
   "source": [
    "model.predict(df_test_copy).mean()"
   ],
   "metadata": {
    "collapsed": false,
    "pycharm": {
     "name": "#%%\n"
    }
   }
  },
  {
   "cell_type": "code",
   "execution_count": 84,
   "outputs": [],
   "source": [
    "df_test['cat_pred_acw_drop1'] = (df_test_copy.cat_score_acw_drop1 > 0.5) * 1"
   ],
   "metadata": {
    "collapsed": false,
    "pycharm": {
     "name": "#%%\n"
    }
   }
  },
  {
   "cell_type": "code",
   "execution_count": 85,
   "outputs": [
    {
     "data": {
      "text/plain": "      id  age  height_cm_  weight_kg_  waist_cm_  eyesight_left_  \\\n0  19200   40         170          75       87.0             1.2   \n1   7784   25         170          65       78.4             0.9   \n2  11682   50         180         105      109.3             0.9   \n3   9949   60         160          60       81.0             0.5   \n4   9378   45         175          70       83.0             0.9   \n\n   eyesight_right_  hearing_left_  hearing_right_  systolic  relaxation  \\\n0              1.0            1.0             1.0     140.0        90.0   \n1              0.9            1.0             1.0     118.0        78.0   \n2              1.0            1.0             1.0     130.0        90.0   \n3              0.5            1.0             1.0     118.0        76.0   \n4              1.0            1.0             1.0     130.0        80.0   \n\n   fasting_blood_sugar  cholesterol  triglyceride   hdl    ldl  hemoglobin  \\\n0                131.0        225.0         216.0  52.0  129.0        16.4   \n1                101.0        170.0          33.0  72.0   91.0        11.9   \n2                 96.0        162.0         144.0  71.0   62.0        15.4   \n3                 97.0        172.0          91.0  46.0  108.0        16.2   \n4                100.0        191.0         365.0  34.0   84.0        15.2   \n\n   urine_protein  serum_creatinine   ast   alt   gtp oral  dental_caries  \\\n0            1.0               1.1  25.0  58.0  43.0    Y              0   \n1            1.0               0.9  33.0  66.0  22.0    Y              0   \n2            1.0               0.9  19.0  24.0  32.0    Y              0   \n3            1.0               1.2  34.0  37.0  26.0    Y              0   \n4            1.0               0.7  27.0  25.0  26.0    Y              0   \n\n  tartar  cat_pred_acw_drop1  \n0      Y                   1  \n1      N                   0  \n2      Y                   0  \n3      Y                   0  \n4      N                   0  ",
      "text/html": "<div>\n<style scoped>\n    .dataframe tbody tr th:only-of-type {\n        vertical-align: middle;\n    }\n\n    .dataframe tbody tr th {\n        vertical-align: top;\n    }\n\n    .dataframe thead th {\n        text-align: right;\n    }\n</style>\n<table border=\"1\" class=\"dataframe\">\n  <thead>\n    <tr style=\"text-align: right;\">\n      <th></th>\n      <th>id</th>\n      <th>age</th>\n      <th>height_cm_</th>\n      <th>weight_kg_</th>\n      <th>waist_cm_</th>\n      <th>eyesight_left_</th>\n      <th>eyesight_right_</th>\n      <th>hearing_left_</th>\n      <th>hearing_right_</th>\n      <th>systolic</th>\n      <th>relaxation</th>\n      <th>fasting_blood_sugar</th>\n      <th>cholesterol</th>\n      <th>triglyceride</th>\n      <th>hdl</th>\n      <th>ldl</th>\n      <th>hemoglobin</th>\n      <th>urine_protein</th>\n      <th>serum_creatinine</th>\n      <th>ast</th>\n      <th>alt</th>\n      <th>gtp</th>\n      <th>oral</th>\n      <th>dental_caries</th>\n      <th>tartar</th>\n      <th>cat_pred_acw_drop1</th>\n    </tr>\n  </thead>\n  <tbody>\n    <tr>\n      <th>0</th>\n      <td>19200</td>\n      <td>40</td>\n      <td>170</td>\n      <td>75</td>\n      <td>87.0</td>\n      <td>1.2</td>\n      <td>1.0</td>\n      <td>1.0</td>\n      <td>1.0</td>\n      <td>140.0</td>\n      <td>90.0</td>\n      <td>131.0</td>\n      <td>225.0</td>\n      <td>216.0</td>\n      <td>52.0</td>\n      <td>129.0</td>\n      <td>16.4</td>\n      <td>1.0</td>\n      <td>1.1</td>\n      <td>25.0</td>\n      <td>58.0</td>\n      <td>43.0</td>\n      <td>Y</td>\n      <td>0</td>\n      <td>Y</td>\n      <td>1</td>\n    </tr>\n    <tr>\n      <th>1</th>\n      <td>7784</td>\n      <td>25</td>\n      <td>170</td>\n      <td>65</td>\n      <td>78.4</td>\n      <td>0.9</td>\n      <td>0.9</td>\n      <td>1.0</td>\n      <td>1.0</td>\n      <td>118.0</td>\n      <td>78.0</td>\n      <td>101.0</td>\n      <td>170.0</td>\n      <td>33.0</td>\n      <td>72.0</td>\n      <td>91.0</td>\n      <td>11.9</td>\n      <td>1.0</td>\n      <td>0.9</td>\n      <td>33.0</td>\n      <td>66.0</td>\n      <td>22.0</td>\n      <td>Y</td>\n      <td>0</td>\n      <td>N</td>\n      <td>0</td>\n    </tr>\n    <tr>\n      <th>2</th>\n      <td>11682</td>\n      <td>50</td>\n      <td>180</td>\n      <td>105</td>\n      <td>109.3</td>\n      <td>0.9</td>\n      <td>1.0</td>\n      <td>1.0</td>\n      <td>1.0</td>\n      <td>130.0</td>\n      <td>90.0</td>\n      <td>96.0</td>\n      <td>162.0</td>\n      <td>144.0</td>\n      <td>71.0</td>\n      <td>62.0</td>\n      <td>15.4</td>\n      <td>1.0</td>\n      <td>0.9</td>\n      <td>19.0</td>\n      <td>24.0</td>\n      <td>32.0</td>\n      <td>Y</td>\n      <td>0</td>\n      <td>Y</td>\n      <td>0</td>\n    </tr>\n    <tr>\n      <th>3</th>\n      <td>9949</td>\n      <td>60</td>\n      <td>160</td>\n      <td>60</td>\n      <td>81.0</td>\n      <td>0.5</td>\n      <td>0.5</td>\n      <td>1.0</td>\n      <td>1.0</td>\n      <td>118.0</td>\n      <td>76.0</td>\n      <td>97.0</td>\n      <td>172.0</td>\n      <td>91.0</td>\n      <td>46.0</td>\n      <td>108.0</td>\n      <td>16.2</td>\n      <td>1.0</td>\n      <td>1.2</td>\n      <td>34.0</td>\n      <td>37.0</td>\n      <td>26.0</td>\n      <td>Y</td>\n      <td>0</td>\n      <td>Y</td>\n      <td>0</td>\n    </tr>\n    <tr>\n      <th>4</th>\n      <td>9378</td>\n      <td>45</td>\n      <td>175</td>\n      <td>70</td>\n      <td>83.0</td>\n      <td>0.9</td>\n      <td>1.0</td>\n      <td>1.0</td>\n      <td>1.0</td>\n      <td>130.0</td>\n      <td>80.0</td>\n      <td>100.0</td>\n      <td>191.0</td>\n      <td>365.0</td>\n      <td>34.0</td>\n      <td>84.0</td>\n      <td>15.2</td>\n      <td>1.0</td>\n      <td>0.7</td>\n      <td>27.0</td>\n      <td>25.0</td>\n      <td>26.0</td>\n      <td>Y</td>\n      <td>0</td>\n      <td>N</td>\n      <td>0</td>\n    </tr>\n  </tbody>\n</table>\n</div>"
     },
     "execution_count": 85,
     "metadata": {},
     "output_type": "execute_result"
    }
   ],
   "source": [
    "df_test.head()"
   ],
   "metadata": {
    "collapsed": false,
    "pycharm": {
     "name": "#%%\n"
    }
   }
  },
  {
   "cell_type": "markdown",
   "source": [
    "### Сохранение результатов"
   ],
   "metadata": {
    "collapsed": false,
    "pycharm": {
     "name": "#%% md\n"
    }
   }
  },
  {
   "cell_type": "code",
   "execution_count": 102,
   "outputs": [],
   "source": [
    "submission = pd.DataFrame(df_test['id'])\n",
    "submission['smoking'] = df_test['cat_pred_acw_drop1']\n",
    "submission.to_csv('Cat+ACW_LR_auto_THRSH_05_drop1.csv', index=False)"
   ],
   "metadata": {
    "collapsed": false,
    "pycharm": {
     "name": "#%%\n"
    }
   }
  },
  {
   "cell_type": "code",
   "execution_count": 103,
   "outputs": [
    {
     "data": {
      "text/plain": "0.36368226186469205"
     },
     "execution_count": 103,
     "metadata": {},
     "output_type": "execute_result"
    }
   ],
   "source": [
    "submission['smoking'].mean()"
   ],
   "metadata": {
    "collapsed": false,
    "pycharm": {
     "name": "#%%\n"
    }
   }
  },
  {
   "cell_type": "markdown",
   "source": [
    "**Kaggle result:** 0.43467 LR=auto + ACW"
   ],
   "metadata": {
    "collapsed": false,
    "pycharm": {
     "name": "#%% md\n"
    }
   }
  },
  {
   "cell_type": "markdown",
   "source": [
    "### Изменение порога на 0.49"
   ],
   "metadata": {
    "collapsed": false,
    "pycharm": {
     "name": "#%% md\n"
    }
   }
  },
  {
   "cell_type": "code",
   "execution_count": 119,
   "outputs": [
    {
     "data": {
      "text/plain": "0.3771457421743521"
     },
     "execution_count": 119,
     "metadata": {},
     "output_type": "execute_result"
    }
   ],
   "source": [
    "((df_test_copy.cat_score_acw_drop1 > 0.494) * 1).mean()"
   ],
   "metadata": {
    "collapsed": false,
    "pycharm": {
     "name": "#%%\n"
    }
   }
  },
  {
   "cell_type": "code",
   "execution_count": 120,
   "outputs": [],
   "source": [
    "submission = pd.DataFrame(df_test['id'])\n",
    "submission['smoking'] = (df_test_copy.cat_score_acw_drop1 > 0.494) * 1\n",
    "submission.to_csv('Cat+ACW_LR_auto_THRSH_0494_drop1.csv', index=False)"
   ],
   "metadata": {
    "collapsed": false,
    "pycharm": {
     "name": "#%%\n"
    }
   }
  },
  {
   "cell_type": "code",
   "execution_count": 121,
   "outputs": [
    {
     "data": {
      "text/plain": "0.3771457421743521"
     },
     "execution_count": 121,
     "metadata": {},
     "output_type": "execute_result"
    }
   ],
   "source": [
    "submission['smoking'].mean()"
   ],
   "metadata": {
    "collapsed": false,
    "pycharm": {
     "name": "#%%\n"
    }
   }
  },
  {
   "cell_type": "code",
   "execution_count": 122,
   "outputs": [
    {
     "data": {
      "text/plain": "      id  smoking\n0  19200        1\n1   7784        0\n2  11682        0\n3   9949        0\n4   9378        0",
      "text/html": "<div>\n<style scoped>\n    .dataframe tbody tr th:only-of-type {\n        vertical-align: middle;\n    }\n\n    .dataframe tbody tr th {\n        vertical-align: top;\n    }\n\n    .dataframe thead th {\n        text-align: right;\n    }\n</style>\n<table border=\"1\" class=\"dataframe\">\n  <thead>\n    <tr style=\"text-align: right;\">\n      <th></th>\n      <th>id</th>\n      <th>smoking</th>\n    </tr>\n  </thead>\n  <tbody>\n    <tr>\n      <th>0</th>\n      <td>19200</td>\n      <td>1</td>\n    </tr>\n    <tr>\n      <th>1</th>\n      <td>7784</td>\n      <td>0</td>\n    </tr>\n    <tr>\n      <th>2</th>\n      <td>11682</td>\n      <td>0</td>\n    </tr>\n    <tr>\n      <th>3</th>\n      <td>9949</td>\n      <td>0</td>\n    </tr>\n    <tr>\n      <th>4</th>\n      <td>9378</td>\n      <td>0</td>\n    </tr>\n  </tbody>\n</table>\n</div>"
     },
     "execution_count": 122,
     "metadata": {},
     "output_type": "execute_result"
    }
   ],
   "source": [
    "submission.head()"
   ],
   "metadata": {
    "collapsed": false,
    "pycharm": {
     "name": "#%%\n"
    }
   }
  },
  {
   "cell_type": "markdown",
   "source": [
    "**Kaggle result:** 0.41734 ↓ LR = 0.057 auto,"
   ],
   "metadata": {
    "collapsed": false,
    "pycharm": {
     "name": "#%% md\n"
    }
   }
  }
 ],
 "metadata": {
  "kernelspec": {
   "display_name": "Python 3 (ipykernel)",
   "language": "python",
   "name": "python3"
  },
  "language_info": {
   "codemirror_mode": {
    "name": "ipython",
    "version": 3
   },
   "file_extension": ".py",
   "mimetype": "text/x-python",
   "name": "python",
   "nbconvert_exporter": "python",
   "pygments_lexer": "ipython3",
   "version": "3.10.11"
  }
 },
 "nbformat": 4,
 "nbformat_minor": 1
}