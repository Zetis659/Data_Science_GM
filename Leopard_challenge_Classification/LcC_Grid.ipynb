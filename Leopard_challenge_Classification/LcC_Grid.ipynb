{
 "cells": [
  {
   "cell_type": "markdown",
   "metadata": {
    "pycharm": {
     "name": "#%% md\n"
    }
   },
   "source": [
    "# Leopard challenge Classification"
   ]
  },
  {
   "cell_type": "markdown",
   "metadata": {
    "pycharm": {
     "name": "#%% md\n"
    }
   },
   "source": [
    "## Загрузка данных\n",
    "Данные беру из leopard-challenge-classification.zip\n",
    "https://drive.google.com/file/d/1OYjGYeYQzKI3mE02ymtkrbRJb5EurpL7/view?usp=sharing"
   ]
  },
  {
   "cell_type": "markdown",
   "metadata": {
    "pycharm": {
     "name": "#%% md\n"
    }
   },
   "source": [
    "# Colab"
   ]
  },
  {
   "cell_type": "code",
   "execution_count": 1,
   "metadata": {
    "pycharm": {
     "name": "#%%\n"
    }
   },
   "outputs": [
    {
     "name": "stderr",
     "output_type": "stream",
     "text": [
      "\"gdown\" ­Ґ пў«пҐвбп ў­гваҐ­­Ґ© Ё«Ё ў­Ґи­Ґ©\n",
      "Є®¬ ­¤®©, ЁбЇ®«­пҐ¬®© Їа®Ја ¬¬®© Ё«Ё Ї ЄҐв­л¬ д ©«®¬.\n"
     ]
    }
   ],
   "source": [
    "! gdown --id 1OYjGYeYQzKI3mE02ymtkrbRJb5EurpL7"
   ]
  },
  {
   "cell_type": "markdown",
   "metadata": {
    "pycharm": {
     "name": "#%% md\n"
    }
   },
   "source": [
    "! unzip /content/leopard-challenge-classification.zip -d /content/leopard-challenge-classification/"
   ]
  },
  {
   "cell_type": "code",
   "execution_count": 9,
   "metadata": {
    "pycharm": {
     "name": "#%%\n"
    }
   },
   "outputs": [
    {
     "name": "stderr",
     "output_type": "stream",
     "text": [
      "\"unzip\" ­Ґ пў«пҐвбп ў­гваҐ­­Ґ© Ё«Ё ў­Ґи­Ґ©\n",
      "Є®¬ ­¤®©, ЁбЇ®«­пҐ¬®© Їа®Ја ¬¬®© Ё«Ё Ї ЄҐв­л¬ д ©«®¬.\n"
     ]
    }
   ],
   "source": [
    "! unzip / content / leopard-challenge-classification.zip -d / content / leopard_challenge_classification /"
   ]
  },
  {
   "cell_type": "code",
   "execution_count": 32,
   "metadata": {
    "pycharm": {
     "name": "#%%\n"
    }
   },
   "outputs": [],
   "source": [
    "import pandas as pd"
   ]
  },
  {
   "cell_type": "code",
   "execution_count": 1,
   "metadata": {
    "pycharm": {
     "name": "#%%\n"
    }
   },
   "outputs": [
    {
     "ename": "NameError",
     "evalue": "name 'pd' is not defined",
     "output_type": "error",
     "traceback": [
      "\u001B[1;31m---------------------------------------------------------------------------\u001B[0m",
      "\u001B[1;31mNameError\u001B[0m                                 Traceback (most recent call last)",
      "Cell \u001B[1;32mIn[1], line 1\u001B[0m\n\u001B[1;32m----> 1\u001B[0m train \u001B[38;5;241m=\u001B[39m \u001B[43mpd\u001B[49m\u001B[38;5;241m.\u001B[39mread_csv(\u001B[38;5;124m'\u001B[39m\u001B[38;5;124m/content/leopard_challenge_regression/train.csv\u001B[39m\u001B[38;5;124m'\u001B[39m)\n",
      "\u001B[1;31mNameError\u001B[0m: name 'pd' is not defined"
     ]
    }
   ],
   "source": [
    "df = pd.read_csv('/content/leopard_challenge_classification/train.csv')"
   ]
  },
  {
   "cell_type": "code",
   "execution_count": 1,
   "metadata": {
    "pycharm": {
     "name": "#%%\n"
    }
   },
   "outputs": [
    {
     "ename": "NameError",
     "evalue": "name 'train' is not defined",
     "output_type": "error",
     "traceback": [
      "\u001B[1;31m---------------------------------------------------------------------------\u001B[0m",
      "\u001B[1;31mNameError\u001B[0m                                 Traceback (most recent call last)",
      "Cell \u001B[1;32mIn[1], line 1\u001B[0m\n\u001B[1;32m----> 1\u001B[0m \u001B[43mtrain\u001B[49m\u001B[38;5;241m.\u001B[39mhead()\n",
      "\u001B[1;31mNameError\u001B[0m: name 'train' is not defined"
     ]
    }
   ],
   "source": [
    "df.head()"
   ]
  },
  {
   "cell_type": "code",
   "execution_count": null,
   "metadata": {
    "pycharm": {
     "name": "#%%\n"
    }
   },
   "outputs": [],
   "source": [
    "!pip install phik\n",
    "\n",
    "!pip install feature_engine\n",
    "\n",
    "!pip install catboost"
   ]
  },
  {
   "cell_type": "markdown",
   "metadata": {
    "pycharm": {
     "name": "#%% md\n"
    }
   },
   "source": [
    "# Pycharm"
   ]
  },
  {
   "cell_type": "code",
   "execution_count": 1,
   "metadata": {
    "pycharm": {
     "name": "#%%\n"
    }
   },
   "outputs": [],
   "source": [
    "from zipfile import ZipFile\n",
    "\n",
    "with ZipFile('leopard-challenge-classification.zip', 'r') as zf:\n",
    "    zf.extractall()"
   ]
  },
  {
   "cell_type": "markdown",
   "metadata": {
    "pycharm": {
     "name": "#%% md\n"
    }
   },
   "source": [
    "# 1. Задача"
   ]
  },
  {
   "cell_type": "markdown",
   "metadata": {
    "pycharm": {
     "name": "#%% md\n"
    }
   },
   "source": [
    "Дан набор данных с основными клиническими показателями людей.\n",
    "Каждая строчка в датасете - клинические показатели одного человека - рост, вес, зрение и т.д.\n",
    "**Задача:** Определить, курит человек или нет, на основании его показателей."
   ]
  },
  {
   "cell_type": "markdown",
   "metadata": {
    "pycharm": {
     "name": "#%% md\n"
    }
   },
   "source": [
    "# 2. Импорт библиотек"
   ]
  },
  {
   "cell_type": "code",
   "execution_count": 1,
   "metadata": {
    "pycharm": {
     "name": "#%%\n"
    }
   },
   "outputs": [],
   "source": [
    "import pandas as pd\n",
    "import seaborn as sns\n",
    "import matplotlib.pyplot as plt\n",
    "import numpy as np\n",
    "import missingno as msno\n",
    "import phik\n",
    "import folium\n",
    "from feature_engine.selection import SmartCorrelatedSelection\n",
    "from feature_engine.imputation import RandomSampleImputer\n",
    "from sklearn.metrics import mean_absolute_percentage_error, mean_absolute_error, log_loss\n",
    "from sklearn.model_selection import train_test_split\n",
    "from catboost import CatBoostClassifier, Pool, cv\n",
    "import joblib\n",
    "from sklearn.model_selection import GridSearchCV\n",
    "from sklearn.ensemble import RandomForestClassifier\n",
    "import warnings\n",
    "\n",
    "warnings.filterwarnings(\"ignore\")\n",
    "plt.style.use('seaborn-colorblind')\n",
    "pd.set_option('display.max_columns', 100)"
   ]
  },
  {
   "cell_type": "markdown",
   "metadata": {
    "pycharm": {
     "name": "#%% md\n"
    }
   },
   "source": [
    "# 3. Загрузка Датасета"
   ]
  },
  {
   "cell_type": "code",
   "execution_count": 2,
   "metadata": {
    "pycharm": {
     "name": "#%%\n"
    }
   },
   "outputs": [],
   "source": [
    "df = pd.read_csv('train.csv')"
   ]
  },
  {
   "cell_type": "code",
   "execution_count": 3,
   "metadata": {
    "pycharm": {
     "name": "#%%\n"
    }
   },
   "outputs": [
    {
     "data": {
      "text/plain": "      ID  age  height(cm)  weight(kg)  waist(cm)  eyesight(left)  \\\n0   2791   65         170          75       91.0             0.6   \n1  18280   35         170          85       97.0             1.5   \n2   1618   70         165          55       75.0             0.8   \n3  16856   35         180          85       83.0             1.2   \n4   5885   25         170          65       80.0             1.5   \n\n   eyesight(right)  hearing(left)  hearing(right)  systolic  relaxation  \\\n0              0.9            1.0             1.0     122.0        79.0   \n1              1.5            1.0             1.0     138.0        88.0   \n2              1.0            1.0             1.0     115.0        63.0   \n3              1.0            1.0             1.0     130.0        80.0   \n4              1.2            1.0             1.0     135.0        75.0   \n\n   fasting blood sugar  Cholesterol  triglyceride   HDL    LDL  hemoglobin  \\\n0                107.0        119.0          51.0  71.0   52.0        14.0   \n1                117.0        204.0         239.0  46.0  120.0        14.6   \n2                128.0        165.0          60.0  68.0   85.0        14.7   \n3                100.0        209.0         155.0  53.0  125.0        17.2   \n4                 94.0        153.0          73.0  58.0   80.0        16.5   \n\n   Urine protein  serum creatinine   AST   ALT    Gtp oral  dental caries  \\\n0            3.0               1.2  20.0  16.0  122.0    Y              0   \n1            1.0               0.7  20.0  25.0   40.0    Y              0   \n2            1.0               0.7  15.0  13.0   19.0    Y              0   \n3            1.0               0.8  22.0  18.0   17.0    Y              0   \n4            1.0               1.0  20.0  13.0   14.0    Y              0   \n\n  tartar  smoking  \n0      N        0  \n1      Y        1  \n2      Y        0  \n3      Y        0  \n4      Y        1  ",
      "text/html": "<div>\n<style scoped>\n    .dataframe tbody tr th:only-of-type {\n        vertical-align: middle;\n    }\n\n    .dataframe tbody tr th {\n        vertical-align: top;\n    }\n\n    .dataframe thead th {\n        text-align: right;\n    }\n</style>\n<table border=\"1\" class=\"dataframe\">\n  <thead>\n    <tr style=\"text-align: right;\">\n      <th></th>\n      <th>ID</th>\n      <th>age</th>\n      <th>height(cm)</th>\n      <th>weight(kg)</th>\n      <th>waist(cm)</th>\n      <th>eyesight(left)</th>\n      <th>eyesight(right)</th>\n      <th>hearing(left)</th>\n      <th>hearing(right)</th>\n      <th>systolic</th>\n      <th>relaxation</th>\n      <th>fasting blood sugar</th>\n      <th>Cholesterol</th>\n      <th>triglyceride</th>\n      <th>HDL</th>\n      <th>LDL</th>\n      <th>hemoglobin</th>\n      <th>Urine protein</th>\n      <th>serum creatinine</th>\n      <th>AST</th>\n      <th>ALT</th>\n      <th>Gtp</th>\n      <th>oral</th>\n      <th>dental caries</th>\n      <th>tartar</th>\n      <th>smoking</th>\n    </tr>\n  </thead>\n  <tbody>\n    <tr>\n      <th>0</th>\n      <td>2791</td>\n      <td>65</td>\n      <td>170</td>\n      <td>75</td>\n      <td>91.0</td>\n      <td>0.6</td>\n      <td>0.9</td>\n      <td>1.0</td>\n      <td>1.0</td>\n      <td>122.0</td>\n      <td>79.0</td>\n      <td>107.0</td>\n      <td>119.0</td>\n      <td>51.0</td>\n      <td>71.0</td>\n      <td>52.0</td>\n      <td>14.0</td>\n      <td>3.0</td>\n      <td>1.2</td>\n      <td>20.0</td>\n      <td>16.0</td>\n      <td>122.0</td>\n      <td>Y</td>\n      <td>0</td>\n      <td>N</td>\n      <td>0</td>\n    </tr>\n    <tr>\n      <th>1</th>\n      <td>18280</td>\n      <td>35</td>\n      <td>170</td>\n      <td>85</td>\n      <td>97.0</td>\n      <td>1.5</td>\n      <td>1.5</td>\n      <td>1.0</td>\n      <td>1.0</td>\n      <td>138.0</td>\n      <td>88.0</td>\n      <td>117.0</td>\n      <td>204.0</td>\n      <td>239.0</td>\n      <td>46.0</td>\n      <td>120.0</td>\n      <td>14.6</td>\n      <td>1.0</td>\n      <td>0.7</td>\n      <td>20.0</td>\n      <td>25.0</td>\n      <td>40.0</td>\n      <td>Y</td>\n      <td>0</td>\n      <td>Y</td>\n      <td>1</td>\n    </tr>\n    <tr>\n      <th>2</th>\n      <td>1618</td>\n      <td>70</td>\n      <td>165</td>\n      <td>55</td>\n      <td>75.0</td>\n      <td>0.8</td>\n      <td>1.0</td>\n      <td>1.0</td>\n      <td>1.0</td>\n      <td>115.0</td>\n      <td>63.0</td>\n      <td>128.0</td>\n      <td>165.0</td>\n      <td>60.0</td>\n      <td>68.0</td>\n      <td>85.0</td>\n      <td>14.7</td>\n      <td>1.0</td>\n      <td>0.7</td>\n      <td>15.0</td>\n      <td>13.0</td>\n      <td>19.0</td>\n      <td>Y</td>\n      <td>0</td>\n      <td>Y</td>\n      <td>0</td>\n    </tr>\n    <tr>\n      <th>3</th>\n      <td>16856</td>\n      <td>35</td>\n      <td>180</td>\n      <td>85</td>\n      <td>83.0</td>\n      <td>1.2</td>\n      <td>1.0</td>\n      <td>1.0</td>\n      <td>1.0</td>\n      <td>130.0</td>\n      <td>80.0</td>\n      <td>100.0</td>\n      <td>209.0</td>\n      <td>155.0</td>\n      <td>53.0</td>\n      <td>125.0</td>\n      <td>17.2</td>\n      <td>1.0</td>\n      <td>0.8</td>\n      <td>22.0</td>\n      <td>18.0</td>\n      <td>17.0</td>\n      <td>Y</td>\n      <td>0</td>\n      <td>Y</td>\n      <td>0</td>\n    </tr>\n    <tr>\n      <th>4</th>\n      <td>5885</td>\n      <td>25</td>\n      <td>170</td>\n      <td>65</td>\n      <td>80.0</td>\n      <td>1.5</td>\n      <td>1.2</td>\n      <td>1.0</td>\n      <td>1.0</td>\n      <td>135.0</td>\n      <td>75.0</td>\n      <td>94.0</td>\n      <td>153.0</td>\n      <td>73.0</td>\n      <td>58.0</td>\n      <td>80.0</td>\n      <td>16.5</td>\n      <td>1.0</td>\n      <td>1.0</td>\n      <td>20.0</td>\n      <td>13.0</td>\n      <td>14.0</td>\n      <td>Y</td>\n      <td>0</td>\n      <td>Y</td>\n      <td>1</td>\n    </tr>\n  </tbody>\n</table>\n</div>"
     },
     "execution_count": 3,
     "metadata": {},
     "output_type": "execute_result"
    }
   ],
   "source": [
    "df.head()"
   ]
  },
  {
   "cell_type": "code",
   "execution_count": 4,
   "metadata": {
    "pycharm": {
     "name": "#%%\n"
    }
   },
   "outputs": [
    {
     "data": {
      "text/plain": "(13863, 26)"
     },
     "execution_count": 4,
     "metadata": {},
     "output_type": "execute_result"
    }
   ],
   "source": [
    "df.shape"
   ]
  },
  {
   "cell_type": "code",
   "execution_count": 5,
   "metadata": {
    "pycharm": {
     "name": "#%%\n"
    }
   },
   "outputs": [],
   "source": [
    "df_test = pd.read_csv('test.csv')"
   ]
  },
  {
   "cell_type": "code",
   "execution_count": 6,
   "metadata": {
    "pycharm": {
     "name": "#%%\n"
    }
   },
   "outputs": [
    {
     "data": {
      "text/plain": "      ID  age  height(cm)  weight(kg)  waist(cm)  eyesight(left)  \\\n0   2791   65         170          75       91.0             0.6   \n1  18280   35         170          85       97.0             1.5   \n2   1618   70         165          55       75.0             0.8   \n3  16856   35         180          85       83.0             1.2   \n4   5885   25         170          65       80.0             1.5   \n\n   eyesight(right)  hearing(left)  hearing(right)  systolic  relaxation  \\\n0              0.9            1.0             1.0     122.0        79.0   \n1              1.5            1.0             1.0     138.0        88.0   \n2              1.0            1.0             1.0     115.0        63.0   \n3              1.0            1.0             1.0     130.0        80.0   \n4              1.2            1.0             1.0     135.0        75.0   \n\n   fasting blood sugar  Cholesterol  triglyceride   HDL    LDL  hemoglobin  \\\n0                107.0        119.0          51.0  71.0   52.0        14.0   \n1                117.0        204.0         239.0  46.0  120.0        14.6   \n2                128.0        165.0          60.0  68.0   85.0        14.7   \n3                100.0        209.0         155.0  53.0  125.0        17.2   \n4                 94.0        153.0          73.0  58.0   80.0        16.5   \n\n   Urine protein  serum creatinine   AST   ALT    Gtp oral  dental caries  \\\n0            3.0               1.2  20.0  16.0  122.0    Y              0   \n1            1.0               0.7  20.0  25.0   40.0    Y              0   \n2            1.0               0.7  15.0  13.0   19.0    Y              0   \n3            1.0               0.8  22.0  18.0   17.0    Y              0   \n4            1.0               1.0  20.0  13.0   14.0    Y              0   \n\n  tartar  smoking  \n0      N        0  \n1      Y        1  \n2      Y        0  \n3      Y        0  \n4      Y        1  ",
      "text/html": "<div>\n<style scoped>\n    .dataframe tbody tr th:only-of-type {\n        vertical-align: middle;\n    }\n\n    .dataframe tbody tr th {\n        vertical-align: top;\n    }\n\n    .dataframe thead th {\n        text-align: right;\n    }\n</style>\n<table border=\"1\" class=\"dataframe\">\n  <thead>\n    <tr style=\"text-align: right;\">\n      <th></th>\n      <th>ID</th>\n      <th>age</th>\n      <th>height(cm)</th>\n      <th>weight(kg)</th>\n      <th>waist(cm)</th>\n      <th>eyesight(left)</th>\n      <th>eyesight(right)</th>\n      <th>hearing(left)</th>\n      <th>hearing(right)</th>\n      <th>systolic</th>\n      <th>relaxation</th>\n      <th>fasting blood sugar</th>\n      <th>Cholesterol</th>\n      <th>triglyceride</th>\n      <th>HDL</th>\n      <th>LDL</th>\n      <th>hemoglobin</th>\n      <th>Urine protein</th>\n      <th>serum creatinine</th>\n      <th>AST</th>\n      <th>ALT</th>\n      <th>Gtp</th>\n      <th>oral</th>\n      <th>dental caries</th>\n      <th>tartar</th>\n      <th>smoking</th>\n    </tr>\n  </thead>\n  <tbody>\n    <tr>\n      <th>0</th>\n      <td>2791</td>\n      <td>65</td>\n      <td>170</td>\n      <td>75</td>\n      <td>91.0</td>\n      <td>0.6</td>\n      <td>0.9</td>\n      <td>1.0</td>\n      <td>1.0</td>\n      <td>122.0</td>\n      <td>79.0</td>\n      <td>107.0</td>\n      <td>119.0</td>\n      <td>51.0</td>\n      <td>71.0</td>\n      <td>52.0</td>\n      <td>14.0</td>\n      <td>3.0</td>\n      <td>1.2</td>\n      <td>20.0</td>\n      <td>16.0</td>\n      <td>122.0</td>\n      <td>Y</td>\n      <td>0</td>\n      <td>N</td>\n      <td>0</td>\n    </tr>\n    <tr>\n      <th>1</th>\n      <td>18280</td>\n      <td>35</td>\n      <td>170</td>\n      <td>85</td>\n      <td>97.0</td>\n      <td>1.5</td>\n      <td>1.5</td>\n      <td>1.0</td>\n      <td>1.0</td>\n      <td>138.0</td>\n      <td>88.0</td>\n      <td>117.0</td>\n      <td>204.0</td>\n      <td>239.0</td>\n      <td>46.0</td>\n      <td>120.0</td>\n      <td>14.6</td>\n      <td>1.0</td>\n      <td>0.7</td>\n      <td>20.0</td>\n      <td>25.0</td>\n      <td>40.0</td>\n      <td>Y</td>\n      <td>0</td>\n      <td>Y</td>\n      <td>1</td>\n    </tr>\n    <tr>\n      <th>2</th>\n      <td>1618</td>\n      <td>70</td>\n      <td>165</td>\n      <td>55</td>\n      <td>75.0</td>\n      <td>0.8</td>\n      <td>1.0</td>\n      <td>1.0</td>\n      <td>1.0</td>\n      <td>115.0</td>\n      <td>63.0</td>\n      <td>128.0</td>\n      <td>165.0</td>\n      <td>60.0</td>\n      <td>68.0</td>\n      <td>85.0</td>\n      <td>14.7</td>\n      <td>1.0</td>\n      <td>0.7</td>\n      <td>15.0</td>\n      <td>13.0</td>\n      <td>19.0</td>\n      <td>Y</td>\n      <td>0</td>\n      <td>Y</td>\n      <td>0</td>\n    </tr>\n    <tr>\n      <th>3</th>\n      <td>16856</td>\n      <td>35</td>\n      <td>180</td>\n      <td>85</td>\n      <td>83.0</td>\n      <td>1.2</td>\n      <td>1.0</td>\n      <td>1.0</td>\n      <td>1.0</td>\n      <td>130.0</td>\n      <td>80.0</td>\n      <td>100.0</td>\n      <td>209.0</td>\n      <td>155.0</td>\n      <td>53.0</td>\n      <td>125.0</td>\n      <td>17.2</td>\n      <td>1.0</td>\n      <td>0.8</td>\n      <td>22.0</td>\n      <td>18.0</td>\n      <td>17.0</td>\n      <td>Y</td>\n      <td>0</td>\n      <td>Y</td>\n      <td>0</td>\n    </tr>\n    <tr>\n      <th>4</th>\n      <td>5885</td>\n      <td>25</td>\n      <td>170</td>\n      <td>65</td>\n      <td>80.0</td>\n      <td>1.5</td>\n      <td>1.2</td>\n      <td>1.0</td>\n      <td>1.0</td>\n      <td>135.0</td>\n      <td>75.0</td>\n      <td>94.0</td>\n      <td>153.0</td>\n      <td>73.0</td>\n      <td>58.0</td>\n      <td>80.0</td>\n      <td>16.5</td>\n      <td>1.0</td>\n      <td>1.0</td>\n      <td>20.0</td>\n      <td>13.0</td>\n      <td>14.0</td>\n      <td>Y</td>\n      <td>0</td>\n      <td>Y</td>\n      <td>1</td>\n    </tr>\n  </tbody>\n</table>\n</div>"
     },
     "execution_count": 6,
     "metadata": {},
     "output_type": "execute_result"
    }
   ],
   "source": [
    "df.head()"
   ]
  },
  {
   "cell_type": "code",
   "execution_count": 7,
   "metadata": {
    "pycharm": {
     "name": "#%%\n"
    }
   },
   "outputs": [
    {
     "data": {
      "text/plain": "(5942, 25)"
     },
     "execution_count": 7,
     "metadata": {},
     "output_type": "execute_result"
    }
   ],
   "source": [
    "df_test.shape"
   ]
  },
  {
   "cell_type": "markdown",
   "metadata": {
    "pycharm": {
     "name": "#%% md\n"
    }
   },
   "source": [
    "# 4. PDA - Получение информации о Датасете"
   ]
  },
  {
   "cell_type": "markdown",
   "metadata": {
    "pycharm": {
     "name": "#%% md\n"
    }
   },
   "source": [
    "## 4.1 Подготовка таблиц"
   ]
  },
  {
   "cell_type": "markdown",
   "metadata": {
    "pycharm": {
     "name": "#%% md\n"
    }
   },
   "source": [
    "### Перевод названий колонок в строчные буквы и замена пробелов"
   ]
  },
  {
   "cell_type": "code",
   "execution_count": 8,
   "metadata": {
    "pycharm": {
     "name": "#%%\n"
    }
   },
   "outputs": [],
   "source": [
    "df.columns = df.columns.str.replace(' ', '_').str.replace('(', '_').str.replace(')', '_').str.lower()\n",
    "df_test.columns = df_test.columns.str.replace(' ', '_').str.replace('(', '_').str.replace(')', '_').str.lower()"
   ]
  },
  {
   "cell_type": "code",
   "execution_count": 9,
   "metadata": {
    "pycharm": {
     "name": "#%%\n"
    }
   },
   "outputs": [
    {
     "data": {
      "text/plain": "      id  age  height_cm_  weight_kg_  waist_cm_  eyesight_left_  \\\n0   2791   65         170          75       91.0             0.6   \n1  18280   35         170          85       97.0             1.5   \n2   1618   70         165          55       75.0             0.8   \n3  16856   35         180          85       83.0             1.2   \n4   5885   25         170          65       80.0             1.5   \n\n   eyesight_right_  hearing_left_  hearing_right_  systolic  relaxation  \\\n0              0.9            1.0             1.0     122.0        79.0   \n1              1.5            1.0             1.0     138.0        88.0   \n2              1.0            1.0             1.0     115.0        63.0   \n3              1.0            1.0             1.0     130.0        80.0   \n4              1.2            1.0             1.0     135.0        75.0   \n\n   fasting_blood_sugar  cholesterol  triglyceride   hdl    ldl  hemoglobin  \\\n0                107.0        119.0          51.0  71.0   52.0        14.0   \n1                117.0        204.0         239.0  46.0  120.0        14.6   \n2                128.0        165.0          60.0  68.0   85.0        14.7   \n3                100.0        209.0         155.0  53.0  125.0        17.2   \n4                 94.0        153.0          73.0  58.0   80.0        16.5   \n\n   urine_protein  serum_creatinine   ast   alt    gtp oral  dental_caries  \\\n0            3.0               1.2  20.0  16.0  122.0    Y              0   \n1            1.0               0.7  20.0  25.0   40.0    Y              0   \n2            1.0               0.7  15.0  13.0   19.0    Y              0   \n3            1.0               0.8  22.0  18.0   17.0    Y              0   \n4            1.0               1.0  20.0  13.0   14.0    Y              0   \n\n  tartar  smoking  \n0      N        0  \n1      Y        1  \n2      Y        0  \n3      Y        0  \n4      Y        1  ",
      "text/html": "<div>\n<style scoped>\n    .dataframe tbody tr th:only-of-type {\n        vertical-align: middle;\n    }\n\n    .dataframe tbody tr th {\n        vertical-align: top;\n    }\n\n    .dataframe thead th {\n        text-align: right;\n    }\n</style>\n<table border=\"1\" class=\"dataframe\">\n  <thead>\n    <tr style=\"text-align: right;\">\n      <th></th>\n      <th>id</th>\n      <th>age</th>\n      <th>height_cm_</th>\n      <th>weight_kg_</th>\n      <th>waist_cm_</th>\n      <th>eyesight_left_</th>\n      <th>eyesight_right_</th>\n      <th>hearing_left_</th>\n      <th>hearing_right_</th>\n      <th>systolic</th>\n      <th>relaxation</th>\n      <th>fasting_blood_sugar</th>\n      <th>cholesterol</th>\n      <th>triglyceride</th>\n      <th>hdl</th>\n      <th>ldl</th>\n      <th>hemoglobin</th>\n      <th>urine_protein</th>\n      <th>serum_creatinine</th>\n      <th>ast</th>\n      <th>alt</th>\n      <th>gtp</th>\n      <th>oral</th>\n      <th>dental_caries</th>\n      <th>tartar</th>\n      <th>smoking</th>\n    </tr>\n  </thead>\n  <tbody>\n    <tr>\n      <th>0</th>\n      <td>2791</td>\n      <td>65</td>\n      <td>170</td>\n      <td>75</td>\n      <td>91.0</td>\n      <td>0.6</td>\n      <td>0.9</td>\n      <td>1.0</td>\n      <td>1.0</td>\n      <td>122.0</td>\n      <td>79.0</td>\n      <td>107.0</td>\n      <td>119.0</td>\n      <td>51.0</td>\n      <td>71.0</td>\n      <td>52.0</td>\n      <td>14.0</td>\n      <td>3.0</td>\n      <td>1.2</td>\n      <td>20.0</td>\n      <td>16.0</td>\n      <td>122.0</td>\n      <td>Y</td>\n      <td>0</td>\n      <td>N</td>\n      <td>0</td>\n    </tr>\n    <tr>\n      <th>1</th>\n      <td>18280</td>\n      <td>35</td>\n      <td>170</td>\n      <td>85</td>\n      <td>97.0</td>\n      <td>1.5</td>\n      <td>1.5</td>\n      <td>1.0</td>\n      <td>1.0</td>\n      <td>138.0</td>\n      <td>88.0</td>\n      <td>117.0</td>\n      <td>204.0</td>\n      <td>239.0</td>\n      <td>46.0</td>\n      <td>120.0</td>\n      <td>14.6</td>\n      <td>1.0</td>\n      <td>0.7</td>\n      <td>20.0</td>\n      <td>25.0</td>\n      <td>40.0</td>\n      <td>Y</td>\n      <td>0</td>\n      <td>Y</td>\n      <td>1</td>\n    </tr>\n    <tr>\n      <th>2</th>\n      <td>1618</td>\n      <td>70</td>\n      <td>165</td>\n      <td>55</td>\n      <td>75.0</td>\n      <td>0.8</td>\n      <td>1.0</td>\n      <td>1.0</td>\n      <td>1.0</td>\n      <td>115.0</td>\n      <td>63.0</td>\n      <td>128.0</td>\n      <td>165.0</td>\n      <td>60.0</td>\n      <td>68.0</td>\n      <td>85.0</td>\n      <td>14.7</td>\n      <td>1.0</td>\n      <td>0.7</td>\n      <td>15.0</td>\n      <td>13.0</td>\n      <td>19.0</td>\n      <td>Y</td>\n      <td>0</td>\n      <td>Y</td>\n      <td>0</td>\n    </tr>\n    <tr>\n      <th>3</th>\n      <td>16856</td>\n      <td>35</td>\n      <td>180</td>\n      <td>85</td>\n      <td>83.0</td>\n      <td>1.2</td>\n      <td>1.0</td>\n      <td>1.0</td>\n      <td>1.0</td>\n      <td>130.0</td>\n      <td>80.0</td>\n      <td>100.0</td>\n      <td>209.0</td>\n      <td>155.0</td>\n      <td>53.0</td>\n      <td>125.0</td>\n      <td>17.2</td>\n      <td>1.0</td>\n      <td>0.8</td>\n      <td>22.0</td>\n      <td>18.0</td>\n      <td>17.0</td>\n      <td>Y</td>\n      <td>0</td>\n      <td>Y</td>\n      <td>0</td>\n    </tr>\n    <tr>\n      <th>4</th>\n      <td>5885</td>\n      <td>25</td>\n      <td>170</td>\n      <td>65</td>\n      <td>80.0</td>\n      <td>1.5</td>\n      <td>1.2</td>\n      <td>1.0</td>\n      <td>1.0</td>\n      <td>135.0</td>\n      <td>75.0</td>\n      <td>94.0</td>\n      <td>153.0</td>\n      <td>73.0</td>\n      <td>58.0</td>\n      <td>80.0</td>\n      <td>16.5</td>\n      <td>1.0</td>\n      <td>1.0</td>\n      <td>20.0</td>\n      <td>13.0</td>\n      <td>14.0</td>\n      <td>Y</td>\n      <td>0</td>\n      <td>Y</td>\n      <td>1</td>\n    </tr>\n  </tbody>\n</table>\n</div>"
     },
     "execution_count": 9,
     "metadata": {},
     "output_type": "execute_result"
    }
   ],
   "source": [
    "df.head()"
   ]
  },
  {
   "cell_type": "markdown",
   "metadata": {
    "pycharm": {
     "name": "#%% md\n"
    }
   },
   "source": [
    "# 6. Preprocessing"
   ]
  },
  {
   "cell_type": "markdown",
   "metadata": {
    "pycharm": {
     "name": "#%% md\n"
    }
   },
   "source": [
    "## 6.1 Удаление выбросов"
   ]
  },
  {
   "cell_type": "markdown",
   "metadata": {
    "pycharm": {
     "name": "#%% md\n"
    }
   },
   "source": [
    "### Waist - окружность талии"
   ]
  },
  {
   "cell_type": "markdown",
   "metadata": {
    "pycharm": {
     "name": "#%% md\n"
    }
   },
   "source": [
    "У половины пациентов окружность талии составляет от 79 до 90 см\n",
    "**Выбросы в сравнении с тестовой выборкой:** ВСЕГО 2 пациента > 121"
   ]
  },
  {
   "cell_type": "code",
   "execution_count": 10,
   "metadata": {
    "pycharm": {
     "name": "#%%\n"
    }
   },
   "outputs": [],
   "source": [
    "df = df.query('waist_cm_ < 121')"
   ]
  },
  {
   "cell_type": "markdown",
   "metadata": {
    "pycharm": {
     "name": "#%% md\n"
    }
   },
   "source": [
    "### Systolic - систолическое давление"
   ]
  },
  {
   "cell_type": "markdown",
   "metadata": {
    "pycharm": {
     "name": "#%% md\n"
    }
   },
   "source": [
    "У половины пациентов систолическое давление находится в пределах от 115 до 131\n",
    "**Выбросы в сравнении с тестовой выборкой:** ВСЕГО 3 пациента: 1 пациент > 200, 2 пациента < 85"
   ]
  },
  {
   "cell_type": "code",
   "execution_count": 13,
   "metadata": {
    "pycharm": {
     "name": "#%%\n"
    }
   },
   "outputs": [],
   "source": [
    "df = df.query('systolic < 200 & systolic > 85')"
   ]
  },
  {
   "cell_type": "markdown",
   "metadata": {
    "pycharm": {
     "name": "#%% md\n"
    }
   },
   "source": [
    "У половины пациентов диастолическое давление находится в пределах от 70 до 83\n",
    "**Выбросы в сравнении с тестовой выборкой:** ВСЕГО 2 пациента: 1 пациент > 133, 1 пациент < 45"
   ]
  },
  {
   "cell_type": "code",
   "execution_count": 14,
   "metadata": {
    "pycharm": {
     "name": "#%%\n"
    }
   },
   "outputs": [],
   "source": [
    "df = df.query('relaxation < 135 & relaxation > 45')"
   ]
  },
  {
   "cell_type": "markdown",
   "metadata": {
    "pycharm": {
     "name": "#%% md\n"
    }
   },
   "source": [
    "### Fasting blood sugar - Сахар в крови"
   ]
  },
  {
   "cell_type": "markdown",
   "metadata": {
    "pycharm": {
     "name": "#%% md\n"
    }
   },
   "source": [
    "У половины пациентов сахар в крови находится в пределах от 90 до 104\n",
    "**Выбросы в сравнении с тестовой выборкой:** Всего 2 пациента: 1 пациент > 400, 1 пациент < 50"
   ]
  },
  {
   "cell_type": "code",
   "execution_count": 15,
   "metadata": {
    "pycharm": {
     "name": "#%%\n"
    }
   },
   "outputs": [],
   "source": [
    "df = df.query('fasting_blood_sugar < 400 & fasting_blood_sugar > 50')"
   ]
  },
  {
   "cell_type": "markdown",
   "metadata": {
    "pycharm": {
     "name": "#%% md\n"
    }
   },
   "source": [
    "### Cholesterol - холестерин"
   ]
  },
  {
   "cell_type": "markdown",
   "metadata": {
    "pycharm": {
     "name": "#%% md\n"
    }
   },
   "source": [
    "У половины пациентов холестерин находится в пределах от 169 до 216\n",
    "**Выбросы в сравнении с тестовой выборкой:** ВСЕГО 2 пациента > 400,"
   ]
  },
  {
   "cell_type": "code",
   "execution_count": 16,
   "metadata": {
    "pycharm": {
     "name": "#%%\n"
    }
   },
   "outputs": [],
   "source": [
    "df = df.query('cholesterol < 400')"
   ]
  },
  {
   "cell_type": "markdown",
   "metadata": {
    "pycharm": {
     "name": "#%% md\n"
    }
   },
   "source": [
    "### Triglyceride - триглицерид"
   ]
  },
  {
   "cell_type": "markdown",
   "metadata": {
    "pycharm": {
     "name": "#%% md\n"
    }
   },
   "source": [
    "У половины пациентов триглицерид находится в пределах от 78 до 166\n",
    "**Выбросы в сравнении с тестовой выборкой:** ВСЕГО 6 пациентов < 20,"
   ]
  },
  {
   "cell_type": "code",
   "execution_count": 17,
   "metadata": {
    "pycharm": {
     "name": "#%%\n"
    }
   },
   "outputs": [],
   "source": [
    "df = df.query('triglyceride > 20')"
   ]
  },
  {
   "cell_type": "markdown",
   "metadata": {
    "pycharm": {
     "name": "#%% md\n"
    }
   },
   "source": [
    "### HDL - холестерин липопротеинов высокой плотности"
   ]
  },
  {
   "cell_type": "markdown",
   "metadata": {
    "pycharm": {
     "name": "#%% md\n"
    }
   },
   "source": [
    "У половины пациентов холестерин липопротеинов находится в пределах от 45 до 61\n",
    "**Выбросы в сравнении с тестовой выборкой:** ВСЕГО 4 пациента: 1 пациент > 160, 3 пациента < 20,"
   ]
  },
  {
   "cell_type": "code",
   "execution_count": 18,
   "metadata": {
    "pycharm": {
     "name": "#%%\n"
    }
   },
   "outputs": [],
   "source": [
    "df = df.query('hdl < 160 & hdl > 20')"
   ]
  },
  {
   "cell_type": "markdown",
   "metadata": {
    "pycharm": {
     "name": "#%% md\n"
    }
   },
   "source": [
    "### LDL - липопротеины низкой плотности"
   ]
  },
  {
   "cell_type": "markdown",
   "metadata": {
    "pycharm": {
     "name": "#%% md\n"
    }
   },
   "source": [
    "У половины пациентов липопротеины находится в пределах от 91 до 135\n",
    "**Выбросы в сравнении с тестовой выборкой** ВСЕГО 9 пациентов: 6 пациентов > 1100, 3 пациента < 10,"
   ]
  },
  {
   "cell_type": "code",
   "execution_count": 19,
   "metadata": {
    "pycharm": {
     "name": "#%%\n"
    }
   },
   "outputs": [],
   "source": [
    "df = df.query('ldl < 1100 & ldl > 10')"
   ]
  },
  {
   "cell_type": "markdown",
   "metadata": {
    "pycharm": {
     "name": "#%% md\n"
    }
   },
   "source": [
    "### Hemoglobin - гемоглобин"
   ]
  },
  {
   "cell_type": "markdown",
   "metadata": {
    "pycharm": {
     "name": "#%% md\n"
    }
   },
   "source": [
    "У половины пациентов гемоглобин находится в пределах от 14.8 до 16.1\n",
    "**Выбросы в сравнении с тестовой выборкой:** ВСЕГО 9 пациентов: 3 пациента > 19.4, 6 пациентов < 8.6,"
   ]
  },
  {
   "cell_type": "code",
   "execution_count": 20,
   "metadata": {
    "pycharm": {
     "name": "#%%\n"
    }
   },
   "outputs": [],
   "source": [
    "df = df.query('hemoglobin < 19.4 & hemoglobin > 8.6')"
   ]
  },
  {
   "cell_type": "markdown",
   "metadata": {
    "pycharm": {
     "name": "#%% md\n"
    }
   },
   "source": [
    "### Serum creatinine - Сывороточный креатинин"
   ]
  },
  {
   "cell_type": "markdown",
   "metadata": {
    "pycharm": {
     "name": "#%% md\n"
    }
   },
   "source": [
    "У половины пациентов сывороточный креатинин находится в пределах от 0.9 до 1.1\n",
    "**Выбросы в сравнении тестовой выборкой:** ВСЕГО 10 пациентов > 2.6"
   ]
  },
  {
   "cell_type": "code",
   "execution_count": 21,
   "metadata": {
    "pycharm": {
     "name": "#%%\n"
    }
   },
   "outputs": [],
   "source": [
    "df = df.query('serum_creatinine < 2.6')"
   ]
  },
  {
   "cell_type": "markdown",
   "metadata": {
    "pycharm": {
     "name": "#%% md\n"
    }
   },
   "source": [
    "### AST - Аспартатаминотрансфераз"
   ]
  },
  {
   "cell_type": "markdown",
   "metadata": {
    "pycharm": {
     "name": "#%% md\n"
    }
   },
   "source": [
    "У половины пациентов Аспартатаминотрансфераз находится в пределах от 20 до 30\n",
    "**Выбросы в сравнении с тестовой выборкой:** ВСЕГО 4 пациента: 3 пациента > 600, 1 пациент < 8"
   ]
  },
  {
   "cell_type": "code",
   "execution_count": 22,
   "metadata": {
    "pycharm": {
     "name": "#%%\n"
    }
   },
   "outputs": [],
   "source": [
    "df = df.query('ast < 600 & ast > 8')"
   ]
  },
  {
   "cell_type": "markdown",
   "metadata": {
    "pycharm": {
     "name": "#%% md\n"
    }
   },
   "source": [
    "### ALT - Аланинаминотрансфераза"
   ]
  },
  {
   "cell_type": "markdown",
   "metadata": {
    "pycharm": {
     "name": "#%% md\n"
    }
   },
   "source": [
    "У половины пациентов Аланинаминотрансфераза находится в пределах от 18 до 35\n",
    "**Выбросы в сравнении с тестовой выборкой:** ВСЕГО 3 пациента: 1 пациент > 1600, 2 пациента < 3"
   ]
  },
  {
   "cell_type": "code",
   "execution_count": 23,
   "metadata": {
    "pycharm": {
     "name": "#%%\n"
    }
   },
   "outputs": [],
   "source": [
    "df = df.query('alt < 1600 & alt > 3')"
   ]
  },
  {
   "cell_type": "markdown",
   "metadata": {
    "pycharm": {
     "name": "#%% md\n"
    }
   },
   "source": [
    "### Итого:\n",
    "Из обучающего выборки было дропнуто 54 переменные, что составляет 0.3% от обучающей выборки.:"
   ]
  },
  {
   "cell_type": "code",
   "execution_count": 24,
   "metadata": {
    "pycharm": {
     "name": "#%%\n"
    }
   },
   "outputs": [
    {
     "data": {
      "text/plain": [
       "(13809, 26)"
      ]
     },
     "execution_count": 24,
     "metadata": {},
     "output_type": "execute_result"
    }
   ],
   "source": [
    "df.shape"
   ]
  },
  {
   "cell_type": "markdown",
   "metadata": {
    "pycharm": {
     "name": "#%% md\n"
    }
   },
   "source": [
    "## 6.2 Список всех фич"
   ]
  },
  {
   "cell_type": "markdown",
   "metadata": {
    "pycharm": {
     "name": "#%% md\n"
    }
   },
   "source": [
    "Составлю список всех фичей\n",
    "Сразу удаляю фичу oral, т.к. она не несёт полезной информации"
   ]
  },
  {
   "cell_type": "code",
   "execution_count": 31,
   "metadata": {
    "pycharm": {
     "name": "#%%\n"
    }
   },
   "outputs": [],
   "source": [
    "df_copy = df.copy()\n",
    "df_test_copy = df_test.copy()"
   ]
  },
  {
   "cell_type": "code",
   "execution_count": 32,
   "metadata": {
    "pycharm": {
     "name": "#%%\n"
    }
   },
   "outputs": [
    {
     "ename": "KeyError",
     "evalue": "\"['oral'] not found in axis\"",
     "output_type": "error",
     "traceback": [
      "\u001B[1;31m---------------------------------------------------------------------------\u001B[0m",
      "\u001B[1;31mKeyError\u001B[0m                                  Traceback (most recent call last)",
      "Cell \u001B[1;32mIn[32], line 4\u001B[0m\n\u001B[0;32m      2\u001B[0m y \u001B[38;5;241m=\u001B[39m df\u001B[38;5;241m.\u001B[39msmoking\n\u001B[0;32m      3\u001B[0m cat_features \u001B[38;5;241m=\u001B[39m [\u001B[38;5;124m'\u001B[39m\u001B[38;5;124mtartar\u001B[39m\u001B[38;5;124m'\u001B[39m]\n\u001B[1;32m----> 4\u001B[0m df_test \u001B[38;5;241m=\u001B[39m \u001B[43mdf_test\u001B[49m\u001B[38;5;241;43m.\u001B[39;49m\u001B[43mdrop\u001B[49m\u001B[43m(\u001B[49m\u001B[38;5;124;43m'\u001B[39;49m\u001B[38;5;124;43moral\u001B[39;49m\u001B[38;5;124;43m'\u001B[39;49m\u001B[43m,\u001B[49m\u001B[43m \u001B[49m\u001B[43maxis\u001B[49m\u001B[38;5;241;43m=\u001B[39;49m\u001B[38;5;241;43m1\u001B[39;49m\u001B[43m)\u001B[49m\n\u001B[0;32m      5\u001B[0m df_test_copy \u001B[38;5;241m=\u001B[39m df_test_copy\u001B[38;5;241m.\u001B[39mdrop(\u001B[38;5;124m'\u001B[39m\u001B[38;5;124moral\u001B[39m\u001B[38;5;124m'\u001B[39m, axis\u001B[38;5;241m=\u001B[39m\u001B[38;5;241m1\u001B[39m)\n",
      "File \u001B[1;32m~\\AppData\\Local\\Programs\\Python\\Python310\\lib\\site-packages\\pandas\\core\\frame.py:5258\u001B[0m, in \u001B[0;36mDataFrame.drop\u001B[1;34m(self, labels, axis, index, columns, level, inplace, errors)\u001B[0m\n\u001B[0;32m   5110\u001B[0m \u001B[38;5;28;01mdef\u001B[39;00m \u001B[38;5;21mdrop\u001B[39m(\n\u001B[0;32m   5111\u001B[0m     \u001B[38;5;28mself\u001B[39m,\n\u001B[0;32m   5112\u001B[0m     labels: IndexLabel \u001B[38;5;241m=\u001B[39m \u001B[38;5;28;01mNone\u001B[39;00m,\n\u001B[1;32m   (...)\u001B[0m\n\u001B[0;32m   5119\u001B[0m     errors: IgnoreRaise \u001B[38;5;241m=\u001B[39m \u001B[38;5;124m\"\u001B[39m\u001B[38;5;124mraise\u001B[39m\u001B[38;5;124m\"\u001B[39m,\n\u001B[0;32m   5120\u001B[0m ) \u001B[38;5;241m-\u001B[39m\u001B[38;5;241m>\u001B[39m DataFrame \u001B[38;5;241m|\u001B[39m \u001B[38;5;28;01mNone\u001B[39;00m:\n\u001B[0;32m   5121\u001B[0m \u001B[38;5;250m    \u001B[39m\u001B[38;5;124;03m\"\"\"\u001B[39;00m\n\u001B[0;32m   5122\u001B[0m \u001B[38;5;124;03m    Drop specified labels from rows or columns.\u001B[39;00m\n\u001B[0;32m   5123\u001B[0m \n\u001B[1;32m   (...)\u001B[0m\n\u001B[0;32m   5256\u001B[0m \u001B[38;5;124;03m            weight  1.0     0.8\u001B[39;00m\n\u001B[0;32m   5257\u001B[0m \u001B[38;5;124;03m    \"\"\"\u001B[39;00m\n\u001B[1;32m-> 5258\u001B[0m     \u001B[38;5;28;01mreturn\u001B[39;00m \u001B[38;5;28;43msuper\u001B[39;49m\u001B[43m(\u001B[49m\u001B[43m)\u001B[49m\u001B[38;5;241;43m.\u001B[39;49m\u001B[43mdrop\u001B[49m\u001B[43m(\u001B[49m\n\u001B[0;32m   5259\u001B[0m \u001B[43m        \u001B[49m\u001B[43mlabels\u001B[49m\u001B[38;5;241;43m=\u001B[39;49m\u001B[43mlabels\u001B[49m\u001B[43m,\u001B[49m\n\u001B[0;32m   5260\u001B[0m \u001B[43m        \u001B[49m\u001B[43maxis\u001B[49m\u001B[38;5;241;43m=\u001B[39;49m\u001B[43maxis\u001B[49m\u001B[43m,\u001B[49m\n\u001B[0;32m   5261\u001B[0m \u001B[43m        \u001B[49m\u001B[43mindex\u001B[49m\u001B[38;5;241;43m=\u001B[39;49m\u001B[43mindex\u001B[49m\u001B[43m,\u001B[49m\n\u001B[0;32m   5262\u001B[0m \u001B[43m        \u001B[49m\u001B[43mcolumns\u001B[49m\u001B[38;5;241;43m=\u001B[39;49m\u001B[43mcolumns\u001B[49m\u001B[43m,\u001B[49m\n\u001B[0;32m   5263\u001B[0m \u001B[43m        \u001B[49m\u001B[43mlevel\u001B[49m\u001B[38;5;241;43m=\u001B[39;49m\u001B[43mlevel\u001B[49m\u001B[43m,\u001B[49m\n\u001B[0;32m   5264\u001B[0m \u001B[43m        \u001B[49m\u001B[43minplace\u001B[49m\u001B[38;5;241;43m=\u001B[39;49m\u001B[43minplace\u001B[49m\u001B[43m,\u001B[49m\n\u001B[0;32m   5265\u001B[0m \u001B[43m        \u001B[49m\u001B[43merrors\u001B[49m\u001B[38;5;241;43m=\u001B[39;49m\u001B[43merrors\u001B[49m\u001B[43m,\u001B[49m\n\u001B[0;32m   5266\u001B[0m \u001B[43m    \u001B[49m\u001B[43m)\u001B[49m\n",
      "File \u001B[1;32m~\\AppData\\Local\\Programs\\Python\\Python310\\lib\\site-packages\\pandas\\core\\generic.py:4549\u001B[0m, in \u001B[0;36mNDFrame.drop\u001B[1;34m(self, labels, axis, index, columns, level, inplace, errors)\u001B[0m\n\u001B[0;32m   4547\u001B[0m \u001B[38;5;28;01mfor\u001B[39;00m axis, labels \u001B[38;5;129;01min\u001B[39;00m axes\u001B[38;5;241m.\u001B[39mitems():\n\u001B[0;32m   4548\u001B[0m     \u001B[38;5;28;01mif\u001B[39;00m labels \u001B[38;5;129;01mis\u001B[39;00m \u001B[38;5;129;01mnot\u001B[39;00m \u001B[38;5;28;01mNone\u001B[39;00m:\n\u001B[1;32m-> 4549\u001B[0m         obj \u001B[38;5;241m=\u001B[39m \u001B[43mobj\u001B[49m\u001B[38;5;241;43m.\u001B[39;49m\u001B[43m_drop_axis\u001B[49m\u001B[43m(\u001B[49m\u001B[43mlabels\u001B[49m\u001B[43m,\u001B[49m\u001B[43m \u001B[49m\u001B[43maxis\u001B[49m\u001B[43m,\u001B[49m\u001B[43m \u001B[49m\u001B[43mlevel\u001B[49m\u001B[38;5;241;43m=\u001B[39;49m\u001B[43mlevel\u001B[49m\u001B[43m,\u001B[49m\u001B[43m \u001B[49m\u001B[43merrors\u001B[49m\u001B[38;5;241;43m=\u001B[39;49m\u001B[43merrors\u001B[49m\u001B[43m)\u001B[49m\n\u001B[0;32m   4551\u001B[0m \u001B[38;5;28;01mif\u001B[39;00m inplace:\n\u001B[0;32m   4552\u001B[0m     \u001B[38;5;28mself\u001B[39m\u001B[38;5;241m.\u001B[39m_update_inplace(obj)\n",
      "File \u001B[1;32m~\\AppData\\Local\\Programs\\Python\\Python310\\lib\\site-packages\\pandas\\core\\generic.py:4591\u001B[0m, in \u001B[0;36mNDFrame._drop_axis\u001B[1;34m(self, labels, axis, level, errors, only_slice)\u001B[0m\n\u001B[0;32m   4589\u001B[0m         new_axis \u001B[38;5;241m=\u001B[39m axis\u001B[38;5;241m.\u001B[39mdrop(labels, level\u001B[38;5;241m=\u001B[39mlevel, errors\u001B[38;5;241m=\u001B[39merrors)\n\u001B[0;32m   4590\u001B[0m     \u001B[38;5;28;01melse\u001B[39;00m:\n\u001B[1;32m-> 4591\u001B[0m         new_axis \u001B[38;5;241m=\u001B[39m \u001B[43maxis\u001B[49m\u001B[38;5;241;43m.\u001B[39;49m\u001B[43mdrop\u001B[49m\u001B[43m(\u001B[49m\u001B[43mlabels\u001B[49m\u001B[43m,\u001B[49m\u001B[43m \u001B[49m\u001B[43merrors\u001B[49m\u001B[38;5;241;43m=\u001B[39;49m\u001B[43merrors\u001B[49m\u001B[43m)\u001B[49m\n\u001B[0;32m   4592\u001B[0m     indexer \u001B[38;5;241m=\u001B[39m axis\u001B[38;5;241m.\u001B[39mget_indexer(new_axis)\n\u001B[0;32m   4594\u001B[0m \u001B[38;5;66;03m# Case for non-unique axis\u001B[39;00m\n\u001B[0;32m   4595\u001B[0m \u001B[38;5;28;01melse\u001B[39;00m:\n",
      "File \u001B[1;32m~\\AppData\\Local\\Programs\\Python\\Python310\\lib\\site-packages\\pandas\\core\\indexes\\base.py:6696\u001B[0m, in \u001B[0;36mIndex.drop\u001B[1;34m(self, labels, errors)\u001B[0m\n\u001B[0;32m   6694\u001B[0m \u001B[38;5;28;01mif\u001B[39;00m mask\u001B[38;5;241m.\u001B[39many():\n\u001B[0;32m   6695\u001B[0m     \u001B[38;5;28;01mif\u001B[39;00m errors \u001B[38;5;241m!=\u001B[39m \u001B[38;5;124m\"\u001B[39m\u001B[38;5;124mignore\u001B[39m\u001B[38;5;124m\"\u001B[39m:\n\u001B[1;32m-> 6696\u001B[0m         \u001B[38;5;28;01mraise\u001B[39;00m \u001B[38;5;167;01mKeyError\u001B[39;00m(\u001B[38;5;124mf\u001B[39m\u001B[38;5;124m\"\u001B[39m\u001B[38;5;132;01m{\u001B[39;00m\u001B[38;5;28mlist\u001B[39m(labels[mask])\u001B[38;5;132;01m}\u001B[39;00m\u001B[38;5;124m not found in axis\u001B[39m\u001B[38;5;124m\"\u001B[39m)\n\u001B[0;32m   6697\u001B[0m     indexer \u001B[38;5;241m=\u001B[39m indexer[\u001B[38;5;241m~\u001B[39mmask]\n\u001B[0;32m   6698\u001B[0m \u001B[38;5;28;01mreturn\u001B[39;00m \u001B[38;5;28mself\u001B[39m\u001B[38;5;241m.\u001B[39mdelete(indexer)\n",
      "\u001B[1;31mKeyError\u001B[0m: \"['oral'] not found in axis\""
     ]
    }
   ],
   "source": [
    "X = df.drop(['oral', 'smoking'], axis=1)\n",
    "y = df.smoking\n",
    "cat_features = ['tartar']\n",
    "df_test = df_test.drop('oral', axis=1)\n",
    "df_test_copy = df_test_copy.drop('oral', axis=1)"
   ]
  },
  {
   "cell_type": "code",
   "execution_count": 33,
   "metadata": {
    "pycharm": {
     "name": "#%%\n"
    }
   },
   "outputs": [
    {
     "data": {
      "text/html": [
       "<div>\n",
       "<style scoped>\n",
       "    .dataframe tbody tr th:only-of-type {\n",
       "        vertical-align: middle;\n",
       "    }\n",
       "\n",
       "    .dataframe tbody tr th {\n",
       "        vertical-align: top;\n",
       "    }\n",
       "\n",
       "    .dataframe thead th {\n",
       "        text-align: right;\n",
       "    }\n",
       "</style>\n",
       "<table border=\"1\" class=\"dataframe\">\n",
       "  <thead>\n",
       "    <tr style=\"text-align: right;\">\n",
       "      <th></th>\n",
       "      <th>id</th>\n",
       "      <th>age</th>\n",
       "      <th>height_cm_</th>\n",
       "      <th>weight_kg_</th>\n",
       "      <th>waist_cm_</th>\n",
       "      <th>eyesight_left_</th>\n",
       "      <th>eyesight_right_</th>\n",
       "      <th>hearing_left_</th>\n",
       "      <th>hearing_right_</th>\n",
       "      <th>systolic</th>\n",
       "      <th>relaxation</th>\n",
       "      <th>fasting_blood_sugar</th>\n",
       "      <th>cholesterol</th>\n",
       "      <th>triglyceride</th>\n",
       "      <th>hdl</th>\n",
       "      <th>ldl</th>\n",
       "      <th>hemoglobin</th>\n",
       "      <th>urine_protein</th>\n",
       "      <th>serum_creatinine</th>\n",
       "      <th>ast</th>\n",
       "      <th>alt</th>\n",
       "      <th>gtp</th>\n",
       "      <th>dental_caries</th>\n",
       "      <th>tartar</th>\n",
       "    </tr>\n",
       "  </thead>\n",
       "  <tbody>\n",
       "    <tr>\n",
       "      <th>0</th>\n",
       "      <td>2791</td>\n",
       "      <td>65</td>\n",
       "      <td>170</td>\n",
       "      <td>75</td>\n",
       "      <td>91.0</td>\n",
       "      <td>0.6</td>\n",
       "      <td>0.9</td>\n",
       "      <td>1.0</td>\n",
       "      <td>1.0</td>\n",
       "      <td>122.0</td>\n",
       "      <td>79.0</td>\n",
       "      <td>107.0</td>\n",
       "      <td>119.0</td>\n",
       "      <td>51.0</td>\n",
       "      <td>71.0</td>\n",
       "      <td>52.0</td>\n",
       "      <td>14.0</td>\n",
       "      <td>3.0</td>\n",
       "      <td>1.2</td>\n",
       "      <td>20.0</td>\n",
       "      <td>16.0</td>\n",
       "      <td>122.0</td>\n",
       "      <td>0</td>\n",
       "      <td>N</td>\n",
       "    </tr>\n",
       "    <tr>\n",
       "      <th>1</th>\n",
       "      <td>18280</td>\n",
       "      <td>35</td>\n",
       "      <td>170</td>\n",
       "      <td>85</td>\n",
       "      <td>97.0</td>\n",
       "      <td>1.5</td>\n",
       "      <td>1.5</td>\n",
       "      <td>1.0</td>\n",
       "      <td>1.0</td>\n",
       "      <td>138.0</td>\n",
       "      <td>88.0</td>\n",
       "      <td>117.0</td>\n",
       "      <td>204.0</td>\n",
       "      <td>239.0</td>\n",
       "      <td>46.0</td>\n",
       "      <td>120.0</td>\n",
       "      <td>14.6</td>\n",
       "      <td>1.0</td>\n",
       "      <td>0.7</td>\n",
       "      <td>20.0</td>\n",
       "      <td>25.0</td>\n",
       "      <td>40.0</td>\n",
       "      <td>0</td>\n",
       "      <td>Y</td>\n",
       "    </tr>\n",
       "    <tr>\n",
       "      <th>2</th>\n",
       "      <td>1618</td>\n",
       "      <td>70</td>\n",
       "      <td>165</td>\n",
       "      <td>55</td>\n",
       "      <td>75.0</td>\n",
       "      <td>0.8</td>\n",
       "      <td>1.0</td>\n",
       "      <td>1.0</td>\n",
       "      <td>1.0</td>\n",
       "      <td>115.0</td>\n",
       "      <td>63.0</td>\n",
       "      <td>128.0</td>\n",
       "      <td>165.0</td>\n",
       "      <td>60.0</td>\n",
       "      <td>68.0</td>\n",
       "      <td>85.0</td>\n",
       "      <td>14.7</td>\n",
       "      <td>1.0</td>\n",
       "      <td>0.7</td>\n",
       "      <td>15.0</td>\n",
       "      <td>13.0</td>\n",
       "      <td>19.0</td>\n",
       "      <td>0</td>\n",
       "      <td>Y</td>\n",
       "    </tr>\n",
       "    <tr>\n",
       "      <th>3</th>\n",
       "      <td>16856</td>\n",
       "      <td>35</td>\n",
       "      <td>180</td>\n",
       "      <td>85</td>\n",
       "      <td>83.0</td>\n",
       "      <td>1.2</td>\n",
       "      <td>1.0</td>\n",
       "      <td>1.0</td>\n",
       "      <td>1.0</td>\n",
       "      <td>130.0</td>\n",
       "      <td>80.0</td>\n",
       "      <td>100.0</td>\n",
       "      <td>209.0</td>\n",
       "      <td>155.0</td>\n",
       "      <td>53.0</td>\n",
       "      <td>125.0</td>\n",
       "      <td>17.2</td>\n",
       "      <td>1.0</td>\n",
       "      <td>0.8</td>\n",
       "      <td>22.0</td>\n",
       "      <td>18.0</td>\n",
       "      <td>17.0</td>\n",
       "      <td>0</td>\n",
       "      <td>Y</td>\n",
       "    </tr>\n",
       "    <tr>\n",
       "      <th>4</th>\n",
       "      <td>5885</td>\n",
       "      <td>25</td>\n",
       "      <td>170</td>\n",
       "      <td>65</td>\n",
       "      <td>80.0</td>\n",
       "      <td>1.5</td>\n",
       "      <td>1.2</td>\n",
       "      <td>1.0</td>\n",
       "      <td>1.0</td>\n",
       "      <td>135.0</td>\n",
       "      <td>75.0</td>\n",
       "      <td>94.0</td>\n",
       "      <td>153.0</td>\n",
       "      <td>73.0</td>\n",
       "      <td>58.0</td>\n",
       "      <td>80.0</td>\n",
       "      <td>16.5</td>\n",
       "      <td>1.0</td>\n",
       "      <td>1.0</td>\n",
       "      <td>20.0</td>\n",
       "      <td>13.0</td>\n",
       "      <td>14.0</td>\n",
       "      <td>0</td>\n",
       "      <td>Y</td>\n",
       "    </tr>\n",
       "  </tbody>\n",
       "</table>\n",
       "</div>"
      ],
      "text/plain": [
       "      id  age  height_cm_  weight_kg_  waist_cm_  eyesight_left_  \\\n",
       "0   2791   65         170          75       91.0             0.6   \n",
       "1  18280   35         170          85       97.0             1.5   \n",
       "2   1618   70         165          55       75.0             0.8   \n",
       "3  16856   35         180          85       83.0             1.2   \n",
       "4   5885   25         170          65       80.0             1.5   \n",
       "\n",
       "   eyesight_right_  hearing_left_  hearing_right_  systolic  relaxation  \\\n",
       "0              0.9            1.0             1.0     122.0        79.0   \n",
       "1              1.5            1.0             1.0     138.0        88.0   \n",
       "2              1.0            1.0             1.0     115.0        63.0   \n",
       "3              1.0            1.0             1.0     130.0        80.0   \n",
       "4              1.2            1.0             1.0     135.0        75.0   \n",
       "\n",
       "   fasting_blood_sugar  cholesterol  triglyceride   hdl    ldl  hemoglobin  \\\n",
       "0                107.0        119.0          51.0  71.0   52.0        14.0   \n",
       "1                117.0        204.0         239.0  46.0  120.0        14.6   \n",
       "2                128.0        165.0          60.0  68.0   85.0        14.7   \n",
       "3                100.0        209.0         155.0  53.0  125.0        17.2   \n",
       "4                 94.0        153.0          73.0  58.0   80.0        16.5   \n",
       "\n",
       "   urine_protein  serum_creatinine   ast   alt    gtp  dental_caries tartar  \n",
       "0            3.0               1.2  20.0  16.0  122.0              0      N  \n",
       "1            1.0               0.7  20.0  25.0   40.0              0      Y  \n",
       "2            1.0               0.7  15.0  13.0   19.0              0      Y  \n",
       "3            1.0               0.8  22.0  18.0   17.0              0      Y  \n",
       "4            1.0               1.0  20.0  13.0   14.0              0      Y  "
      ]
     },
     "execution_count": 33,
     "metadata": {},
     "output_type": "execute_result"
    }
   ],
   "source": [
    "X.head()"
   ]
  },
  {
   "cell_type": "code",
   "execution_count": 34,
   "metadata": {
    "pycharm": {
     "name": "#%%\n"
    }
   },
   "outputs": [
    {
     "data": {
      "text/plain": [
       "0    0\n",
       "1    1\n",
       "2    0\n",
       "3    0\n",
       "4    1\n",
       "Name: smoking, dtype: int64"
      ]
     },
     "execution_count": 34,
     "metadata": {},
     "output_type": "execute_result"
    }
   ],
   "source": [
    "y.head()"
   ]
  },
  {
   "cell_type": "code",
   "execution_count": 29,
   "metadata": {
    "pycharm": {
     "name": "#%%\n"
    }
   },
   "outputs": [
    {
     "data": {
      "text/plain": [
       "['tartar']"
      ]
     },
     "execution_count": 29,
     "metadata": {},
     "output_type": "execute_result"
    }
   ],
   "source": [
    "cat_features"
   ]
  },
  {
   "cell_type": "code",
   "execution_count": 30,
   "metadata": {
    "pycharm": {
     "name": "#%%\n"
    }
   },
   "outputs": [
    {
     "ename": "NameError",
     "evalue": "name 'ввввввввввввввввв' is not defined",
     "output_type": "error",
     "traceback": [
      "\u001B[1;31m---------------------------------------------------------------------------\u001B[0m",
      "\u001B[1;31mNameError\u001B[0m                                 Traceback (most recent call last)",
      "Cell \u001B[1;32mIn[30], line 1\u001B[0m\n\u001B[1;32m----> 1\u001B[0m \u001B[43mввввввввввввввввв\u001B[49m\n",
      "\u001B[1;31mNameError\u001B[0m: name 'ввввввввввввввввв' is not defined"
     ]
    }
   ],
   "source": [
    "ввввввввввввввввв"
   ]
  },
  {
   "cell_type": "markdown",
   "metadata": {
    "pycharm": {
     "name": "#%% md\n"
    }
   },
   "source": [
    "# 7. Modeling"
   ]
  },
  {
   "cell_type": "markdown",
   "metadata": {
    "pycharm": {
     "name": "#%% md\n"
    }
   },
   "source": [
    "## Baseline catboost"
   ]
  },
  {
   "cell_type": "markdown",
   "metadata": {
    "pycharm": {
     "name": "#%% md\n"
    }
   },
   "source": [
    "### Обучающая и тестовая выборки\n",
    "Разделю обучающую выборку на train и test"
   ]
  },
  {
   "cell_type": "code",
   "execution_count": null,
   "metadata": {
    "pycharm": {
     "name": "#%%\n"
    }
   },
   "outputs": [],
   "source": [
    "X_train, X_test, y_train, y_test = train_test_split(X, y, test_size=0.2, random_state=659)"
   ]
  },
  {
   "cell_type": "markdown",
   "metadata": {
    "pycharm": {
     "name": "#%% md\n"
    }
   },
   "source": [
    "### Составаляю список фичей\n",
    "В baselin`е оставлю все фичи"
   ]
  },
  {
   "cell_type": "code",
   "execution_count": null,
   "metadata": {
    "pycharm": {
     "name": "#%%\n"
    }
   },
   "outputs": [],
   "source": [
    "X.head()"
   ]
  },
  {
   "cell_type": "code",
   "execution_count": null,
   "metadata": {
    "pycharm": {
     "name": "#%%\n"
    }
   },
   "outputs": [],
   "source": [
    "y.head()"
   ]
  },
  {
   "cell_type": "code",
   "execution_count": null,
   "metadata": {
    "pycharm": {
     "name": "#%%\n"
    }
   },
   "outputs": [],
   "source": [
    "cat_features"
   ]
  },
  {
   "cell_type": "markdown",
   "metadata": {
    "pycharm": {
     "name": "#%% md\n"
    }
   },
   "source": [
    "### Создание Pool`ов для модели"
   ]
  },
  {
   "cell_type": "code",
   "execution_count": null,
   "metadata": {
    "pycharm": {
     "name": "#%%\n"
    }
   },
   "outputs": [],
   "source": [
    "train_data = Pool(X_train, y_train, cat_features=cat_features)\n",
    "test_data = Pool(X_test, y_test, cat_features=cat_features)\n",
    "full_data = Pool(X, y, cat_features=cat_features)"
   ]
  },
  {
   "cell_type": "markdown",
   "metadata": {
    "pycharm": {
     "name": "#%% md\n"
    }
   },
   "source": [
    "### Baseline model"
   ]
  },
  {
   "cell_type": "markdown",
   "metadata": {
    "pycharm": {
     "name": "#%% md\n"
    }
   },
   "source": [
    "### Настройка гиперпараметров"
   ]
  },
  {
   "cell_type": "code",
   "execution_count": null,
   "metadata": {
    "pycharm": {
     "name": "#%%\n"
    }
   },
   "outputs": [],
   "source": [
    "parameters = {'cat_features': cat_features,\n",
    "              'eval_metric': 'F1',\n",
    "              'loss_function': 'Logloss',\n",
    "              'random_seed': 659,\n",
    "              'verbose': 100,\n",
    "              'task_type': 'GPU'}"
   ]
  },
  {
   "cell_type": "code",
   "execution_count": null,
   "metadata": {
    "pycharm": {
     "name": "#%%\n"
    }
   },
   "outputs": [],
   "source": [
    "model = CatBoostClassifier(**parameters)"
   ]
  },
  {
   "cell_type": "markdown",
   "metadata": {
    "pycharm": {
     "name": "#%% md\n"
    }
   },
   "source": [
    "### Обучение модели"
   ]
  },
  {
   "cell_type": "code",
   "execution_count": null,
   "metadata": {
    "pycharm": {
     "name": "#%%\n"
    }
   },
   "outputs": [],
   "source": [
    "%%time\n",
    "model.fit(train_data, eval_set=test_data, plot=True)"
   ]
  },
  {
   "cell_type": "markdown",
   "metadata": {
    "pycharm": {
     "name": "#%% md\n"
    }
   },
   "source": [
    "### Feature importance"
   ]
  },
  {
   "cell_type": "code",
   "execution_count": null,
   "metadata": {
    "pycharm": {
     "name": "#%%\n"
    }
   },
   "outputs": [],
   "source": [
    "model.get_feature_importance(prettified=True)"
   ]
  },
  {
   "cell_type": "code",
   "execution_count": null,
   "metadata": {
    "pycharm": {
     "name": "#%%\n"
    }
   },
   "outputs": [],
   "source": [
    "model.get_params()"
   ]
  },
  {
   "cell_type": "code",
   "execution_count": null,
   "metadata": {
    "pycharm": {
     "name": "#%%\n"
    }
   },
   "outputs": [],
   "source": [
    "model.get_all_params()"
   ]
  },
  {
   "cell_type": "markdown",
   "metadata": {
    "pycharm": {
     "name": "#%% md\n"
    }
   },
   "source": [
    "### Прогнозирование"
   ]
  },
  {
   "cell_type": "markdown",
   "metadata": {
    "pycharm": {
     "name": "#%% md\n"
    }
   },
   "source": [
    "#### Скоры"
   ]
  },
  {
   "cell_type": "markdown",
   "metadata": {
    "pycharm": {
     "name": "#%% md\n"
    }
   },
   "source": [
    "Создаю колонку для baseline catboost скора"
   ]
  },
  {
   "cell_type": "code",
   "execution_count": null,
   "metadata": {
    "pycharm": {
     "name": "#%%\n"
    }
   },
   "outputs": [],
   "source": [
    "df_test['baseline_cat_score'] = model.predict_proba(df_test)[:, 1]"
   ]
  },
  {
   "cell_type": "code",
   "execution_count": null,
   "metadata": {
    "pycharm": {
     "name": "#%%\n"
    }
   },
   "outputs": [],
   "source": [
    "df_test.baseline_cat_score.head()"
   ]
  },
  {
   "cell_type": "markdown",
   "metadata": {
    "pycharm": {
     "name": "#%% md\n"
    }
   },
   "source": [
    "Распределение вероятностей (Score) курит или не курит"
   ]
  },
  {
   "cell_type": "code",
   "execution_count": null,
   "metadata": {
    "pycharm": {
     "name": "#%%\n"
    }
   },
   "outputs": [],
   "source": [
    "df_test.baseline_cat_score.hist();"
   ]
  },
  {
   "cell_type": "markdown",
   "metadata": {
    "pycharm": {
     "name": "#%% md\n"
    }
   },
   "source": [
    "#### Пороги"
   ]
  },
  {
   "cell_type": "markdown",
   "metadata": {
    "pycharm": {
     "name": "#%% md\n"
    }
   },
   "source": [
    "Посмотрю на пользователей вероятность курения которых > 0.5\n",
    "Для вывода 0-ей и 1-иц нужно домножить на 1 иначе будет True и False"
   ]
  },
  {
   "cell_type": "code",
   "execution_count": null,
   "metadata": {
    "pycharm": {
     "name": "#%%\n"
    }
   },
   "outputs": [],
   "source": [
    "((df_test.baseline_cat_score > 0.5) * 1).mean()"
   ]
  },
  {
   "cell_type": "markdown",
   "metadata": {
    "pycharm": {
     "name": "#%% md\n"
    }
   },
   "source": [
    "Такая же вероятность у метода predict, т.к. порог по умолчанию = 0.5"
   ]
  },
  {
   "cell_type": "code",
   "execution_count": null,
   "metadata": {
    "pycharm": {
     "name": "#%%\n"
    }
   },
   "outputs": [],
   "source": [
    "model.predict(df_test).mean()"
   ]
  },
  {
   "cell_type": "markdown",
   "metadata": {
    "pycharm": {
     "name": "#%% md\n"
    }
   },
   "source": [
    "В обучающем ДФ процент курильщиков ≈20% что существенно выше. ПО этому есть смысл понижать порог, но в Baselin`е оставлю порог по умолчанию"
   ]
  },
  {
   "cell_type": "code",
   "execution_count": null,
   "metadata": {
    "pycharm": {
     "name": "#%%\n"
    }
   },
   "outputs": [],
   "source": [
    "df.smoking.mean()"
   ]
  },
  {
   "cell_type": "markdown",
   "metadata": {
    "pycharm": {
     "name": "#%% md\n"
    }
   },
   "source": []
  },
  {
   "cell_type": "code",
   "execution_count": null,
   "metadata": {
    "pycharm": {
     "name": "#%%\n"
    }
   },
   "outputs": [],
   "source": [
    "df_test['baseline_cat_pred'] = (df_test.baseline_cat_score > 0.5) * 1"
   ]
  },
  {
   "cell_type": "code",
   "execution_count": null,
   "metadata": {
    "pycharm": {
     "name": "#%%\n"
    }
   },
   "outputs": [],
   "source": [
    "df_test.head()"
   ]
  },
  {
   "cell_type": "markdown",
   "metadata": {
    "pycharm": {
     "name": "#%% md\n"
    }
   },
   "source": [
    "### Сохранение результатов"
   ]
  },
  {
   "cell_type": "code",
   "execution_count": null,
   "metadata": {
    "pycharm": {
     "name": "#%%\n"
    }
   },
   "outputs": [],
   "source": [
    "submission = pd.DataFrame(df_test['id'])\n",
    "submission['smoking'] = df_test.baseline_cat_pred\n",
    "submission.to_csv('Baseline.csv', index=False)"
   ]
  },
  {
   "cell_type": "markdown",
   "metadata": {
    "pycharm": {
     "name": "#%% md\n"
    }
   },
   "source": [
    "Проверка значений:"
   ]
  },
  {
   "cell_type": "code",
   "execution_count": null,
   "metadata": {
    "pycharm": {
     "name": "#%%\n"
    }
   },
   "outputs": [],
   "source": [
    "submission.smoking.mean()"
   ]
  },
  {
   "cell_type": "code",
   "execution_count": null,
   "metadata": {
    "pycharm": {
     "name": "#%%\n"
    }
   },
   "outputs": [],
   "source": [
    "submission.head()"
   ]
  },
  {
   "cell_type": "markdown",
   "metadata": {
    "pycharm": {
     "name": "#%% md\n"
    }
   },
   "source": [
    "**Kaggle result:** 0.3117"
   ]
  },
  {
   "cell_type": "markdown",
   "metadata": {
    "pycharm": {
     "name": "#%% md\n"
    }
   },
   "source": [
    "### Модификация"
   ]
  },
  {
   "cell_type": "markdown",
   "metadata": {
    "pycharm": {
     "name": "#%% md\n"
    }
   },
   "source": [
    "#### Изменение порога"
   ]
  },
  {
   "cell_type": "markdown",
   "metadata": {
    "pycharm": {
     "name": "#%% md\n"
    }
   },
   "source": [
    "Изменю порог с 0.5 на 0.25"
   ]
  },
  {
   "cell_type": "code",
   "execution_count": null,
   "metadata": {
    "pycharm": {
     "name": "#%%\n"
    }
   },
   "outputs": [],
   "source": [
    "((df_test.baseline_cat_score > 0.25) * 1).mean()"
   ]
  },
  {
   "cell_type": "markdown",
   "metadata": {
    "pycharm": {
     "name": "#%% md\n"
    }
   },
   "source": [
    "#### Сохранение результатов"
   ]
  },
  {
   "cell_type": "code",
   "execution_count": null,
   "metadata": {
    "pycharm": {
     "name": "#%%\n"
    }
   },
   "outputs": [],
   "source": [
    "submission = pd.DataFrame(df_test['id'])\n",
    "submission['smoking'] = (df_test.baseline_cat_score > 0.25) * 1\n",
    "submission.to_csv('Baseline_threshold0.25.csv', index=False)"
   ]
  },
  {
   "cell_type": "code",
   "execution_count": null,
   "metadata": {
    "pycharm": {
     "name": "#%%\n"
    }
   },
   "outputs": [],
   "source": [
    "submission.head()"
   ]
  },
  {
   "cell_type": "markdown",
   "metadata": {
    "pycharm": {
     "name": "#%% md\n"
    }
   },
   "source": [
    "**Kaggle result:** 0.4175 ↑"
   ]
  },
  {
   "cell_type": "markdown",
   "metadata": {
    "pycharm": {
     "name": "#%% md\n"
    }
   },
   "source": [
    "#### Изменение порога"
   ]
  },
  {
   "cell_type": "markdown",
   "metadata": {
    "pycharm": {
     "name": "#%% md\n"
    }
   },
   "source": [
    "Изменю порог с 0.25 на 0.2"
   ]
  },
  {
   "cell_type": "code",
   "execution_count": null,
   "metadata": {
    "pycharm": {
     "name": "#%%\n"
    }
   },
   "outputs": [],
   "source": [
    "((df_test.baseline_cat_score > 0.20) * 1).mean()"
   ]
  },
  {
   "cell_type": "markdown",
   "metadata": {
    "pycharm": {
     "name": "#%% md\n"
    }
   },
   "source": [
    "#### Сохранение результатов"
   ]
  },
  {
   "cell_type": "code",
   "execution_count": null,
   "metadata": {
    "pycharm": {
     "name": "#%%\n"
    }
   },
   "outputs": [],
   "source": [
    "submission = pd.DataFrame(df_test['id'])\n",
    "submission['smoking'] = (df_test.baseline_cat_score > 0.2) * 1\n",
    "submission.to_csv('Baseline_threshold0.2_GPU.csv', index=False)"
   ]
  },
  {
   "cell_type": "code",
   "execution_count": null,
   "metadata": {
    "pycharm": {
     "name": "#%%\n"
    }
   },
   "outputs": [],
   "source": [
    "submission.smoking.mean()"
   ]
  },
  {
   "cell_type": "code",
   "execution_count": null,
   "metadata": {
    "pycharm": {
     "name": "#%%\n"
    }
   },
   "outputs": [],
   "source": [
    "submission.head()"
   ]
  },
  {
   "cell_type": "markdown",
   "metadata": {
    "pycharm": {
     "name": "#%% md\n"
    }
   },
   "source": [
    "**Kaggle result:** 0.42861 ↑"
   ]
  },
  {
   "cell_type": "markdown",
   "metadata": {
    "pycharm": {
     "name": "#%% md\n"
    }
   },
   "source": [
    "#### Изменение порога"
   ]
  },
  {
   "cell_type": "markdown",
   "metadata": {
    "pycharm": {
     "name": "#%% md\n"
    }
   },
   "source": [
    "Изменю порог с 0.2 на 0.1"
   ]
  },
  {
   "cell_type": "code",
   "execution_count": null,
   "metadata": {
    "pycharm": {
     "name": "#%%\n"
    }
   },
   "outputs": [],
   "source": [
    "((df_test.baseline_cat_score > 0.1) * 1).mean()"
   ]
  },
  {
   "cell_type": "markdown",
   "metadata": {
    "pycharm": {
     "name": "#%% md\n"
    }
   },
   "source": [
    "#### Сохранение результатов"
   ]
  },
  {
   "cell_type": "code",
   "execution_count": null,
   "metadata": {
    "pycharm": {
     "name": "#%%\n"
    }
   },
   "outputs": [],
   "source": [
    "submission = pd.DataFrame(df_test['id'])\n",
    "submission['smoking'] = (df_test.baseline_cat_score > 0.1) * 1\n",
    "submission.to_csv('Baseline_threshold0.1.csv', index=False)"
   ]
  },
  {
   "cell_type": "code",
   "execution_count": null,
   "metadata": {
    "pycharm": {
     "name": "#%%\n"
    }
   },
   "outputs": [],
   "source": [
    "submission.head()"
   ]
  },
  {
   "cell_type": "markdown",
   "metadata": {
    "pycharm": {
     "name": "#%% md\n"
    }
   },
   "source": [
    "**Kaggle result:** 0.40293 ↓"
   ]
  },
  {
   "cell_type": "markdown",
   "metadata": {
    "pycharm": {
     "name": "#%% md\n"
    }
   },
   "source": [
    "#### Изменение порога"
   ]
  },
  {
   "cell_type": "markdown",
   "metadata": {
    "pycharm": {
     "name": "#%% md\n"
    }
   },
   "source": [
    "Изменю порог с 0.1 на 0.15"
   ]
  },
  {
   "cell_type": "code",
   "execution_count": null,
   "metadata": {
    "pycharm": {
     "name": "#%%\n"
    }
   },
   "outputs": [],
   "source": [
    "((df_test.baseline_cat_score > 0.15) * 1).mean()"
   ]
  },
  {
   "cell_type": "markdown",
   "metadata": {
    "pycharm": {
     "name": "#%% md\n"
    }
   },
   "source": [
    "#### Сохранение результатов"
   ]
  },
  {
   "cell_type": "code",
   "execution_count": null,
   "metadata": {
    "pycharm": {
     "name": "#%%\n"
    }
   },
   "outputs": [],
   "source": [
    "submission = pd.DataFrame(df_test['id'])\n",
    "submission['smoking'] = (df_test.baseline_cat_score > 0.15) * 1\n",
    "submission.to_csv('Baseline_threshold0.15.csv', index=False)"
   ]
  },
  {
   "cell_type": "code",
   "execution_count": null,
   "metadata": {
    "pycharm": {
     "name": "#%%\n"
    }
   },
   "outputs": [],
   "source": [
    "submission.head()"
   ]
  },
  {
   "cell_type": "markdown",
   "metadata": {
    "pycharm": {
     "name": "#%% md\n"
    }
   },
   "source": [
    "**Kaggle result:** 0.4259 ↑"
   ]
  },
  {
   "cell_type": "markdown",
   "metadata": {
    "pycharm": {
     "name": "#%% md\n"
    }
   },
   "source": [
    "### Итого:\n",
    "Наилучший порог для Baseline ≈ 0.2, F1 = 0.4286; THRSH = 0.2, GPU, F1 = 43437"
   ]
  },
  {
   "cell_type": "markdown",
   "metadata": {
    "pycharm": {
     "name": "#%% md\n"
    }
   },
   "source": [
    "## Catboost CV"
   ]
  },
  {
   "cell_type": "code",
   "execution_count": null,
   "metadata": {
    "pycharm": {
     "name": "#%%\n"
    }
   },
   "outputs": [],
   "source": [
    "parameters = {'eval_metric': 'F1',\n",
    "              'loss_function': 'Logloss',\n",
    "              'random_seed': 659,\n",
    "              'iterations': 1000,\n",
    "              'task_type': 'GPU'}"
   ]
  },
  {
   "cell_type": "code",
   "execution_count": null,
   "metadata": {
    "pycharm": {
     "name": "#%%\n"
    }
   },
   "outputs": [],
   "source": [
    "%%time\n",
    "cv_data = cv(\n",
    "    params=parameters,\n",
    "    pool=full_data,\n",
    "    fold_count=5,\n",
    "    shuffle=True,\n",
    "    partition_random_seed=0,\n",
    "    stratified=False,\n",
    "    verbose=False,\n",
    "    plot=True\n",
    ")"
   ]
  },
  {
   "cell_type": "code",
   "execution_count": null,
   "metadata": {
    "pycharm": {
     "name": "#%%\n"
    }
   },
   "outputs": [],
   "source": [
    "best_value = np.max(cv_data['test-F1-mean'])\n",
    "best_iter = np.argmax(cv_data['test-F1-mean']) + 1"
   ]
  },
  {
   "cell_type": "code",
   "execution_count": null,
   "metadata": {
    "pycharm": {
     "name": "#%%\n"
    }
   },
   "outputs": [],
   "source": [
    "best_iter, best_value"
   ]
  },
  {
   "cell_type": "markdown",
   "metadata": {
    "pycharm": {
     "name": "#%% md\n"
    }
   },
   "source": [
    "### Best iteration\n",
    "Обучение на всех данных:"
   ]
  },
  {
   "cell_type": "code",
   "execution_count": null,
   "metadata": {
    "pycharm": {
     "name": "#%%\n"
    }
   },
   "outputs": [],
   "source": [
    "parameters = {'eval_metric': 'F1',\n",
    "              'loss_function': 'Logloss',\n",
    "              'random_seed': 659,\n",
    "              'iterations': best_iter,\n",
    "              'verbose': 100,\n",
    "              'task_type': 'GPU'}"
   ]
  },
  {
   "cell_type": "code",
   "execution_count": null,
   "metadata": {
    "pycharm": {
     "name": "#%%\n"
    }
   },
   "outputs": [],
   "source": [
    "model = CatBoostClassifier(**parameters)"
   ]
  },
  {
   "cell_type": "code",
   "execution_count": null,
   "metadata": {
    "pycharm": {
     "name": "#%%\n"
    }
   },
   "outputs": [],
   "source": [
    "%%time\n",
    "model.fit(full_data, plot=True)"
   ]
  },
  {
   "cell_type": "markdown",
   "metadata": {
    "pycharm": {
     "name": "#%% md\n"
    }
   },
   "source": [
    "### Feature importance"
   ]
  },
  {
   "cell_type": "code",
   "execution_count": null,
   "metadata": {
    "pycharm": {
     "name": "#%%\n"
    }
   },
   "outputs": [],
   "source": [
    "model.get_feature_importance(prettified=True)"
   ]
  },
  {
   "cell_type": "code",
   "execution_count": null,
   "metadata": {
    "pycharm": {
     "name": "#%%\n"
    }
   },
   "outputs": [],
   "source": [
    "model.get_params()"
   ]
  },
  {
   "cell_type": "code",
   "execution_count": null,
   "metadata": {
    "pycharm": {
     "name": "#%%\n"
    }
   },
   "outputs": [],
   "source": [
    "model.get_all_params()"
   ]
  },
  {
   "cell_type": "markdown",
   "metadata": {
    "pycharm": {
     "name": "#%% md\n"
    }
   },
   "source": [
    "### Прогноз"
   ]
  },
  {
   "cell_type": "markdown",
   "metadata": {
    "pycharm": {
     "name": "#%% md\n"
    }
   },
   "source": [
    "Создаю колонку для baseline catboost скора"
   ]
  },
  {
   "cell_type": "code",
   "execution_count": null,
   "metadata": {
    "pycharm": {
     "name": "#%%\n"
    }
   },
   "outputs": [],
   "source": [
    "df_test['baseline_cat_cv_score'] = model.predict_proba(df_test)[:, 1]"
   ]
  },
  {
   "cell_type": "code",
   "execution_count": null,
   "metadata": {
    "pycharm": {
     "name": "#%%\n"
    }
   },
   "outputs": [],
   "source": [
    "df_test.baseline_cat_cv_score.head()"
   ]
  },
  {
   "cell_type": "code",
   "execution_count": null,
   "metadata": {
    "pycharm": {
     "name": "#%%\n"
    }
   },
   "outputs": [],
   "source": [
    "df_test.baseline_cat_cv_score.hist();"
   ]
  },
  {
   "cell_type": "markdown",
   "metadata": {
    "pycharm": {
     "name": "#%% md\n"
    }
   },
   "source": [
    "По порогу 0.5 вероятность ≈3.2%"
   ]
  },
  {
   "cell_type": "code",
   "execution_count": null,
   "metadata": {
    "pycharm": {
     "name": "#%%\n"
    }
   },
   "outputs": [],
   "source": [
    "((df_test.baseline_cat_cv_score > 0.5) * 1).mean()"
   ]
  },
  {
   "cell_type": "code",
   "execution_count": null,
   "metadata": {
    "pycharm": {
     "name": "#%%\n"
    }
   },
   "outputs": [],
   "source": [
    "df_test['baseline_cat_cv_pred'] = (df_test.baseline_cat_cv_score > 0.5) * 1"
   ]
  },
  {
   "cell_type": "code",
   "execution_count": null,
   "metadata": {
    "pycharm": {
     "name": "#%%\n"
    }
   },
   "outputs": [],
   "source": [
    "df_test.head()"
   ]
  },
  {
   "cell_type": "markdown",
   "metadata": {
    "pycharm": {
     "name": "#%% md\n"
    }
   },
   "source": [
    "### Сохранение результатов"
   ]
  },
  {
   "cell_type": "code",
   "execution_count": null,
   "metadata": {
    "pycharm": {
     "name": "#%%\n"
    }
   },
   "outputs": [],
   "source": [
    "submission = pd.DataFrame(df_test['id'])\n",
    "submission['smoking'] = df_test.baseline_cat_cv_pred\n",
    "submission.to_csv('Cat_CV.csv', index=False)"
   ]
  },
  {
   "cell_type": "code",
   "execution_count": null,
   "metadata": {
    "pycharm": {
     "name": "#%%\n"
    }
   },
   "outputs": [],
   "source": [
    "submission.head()"
   ]
  },
  {
   "cell_type": "markdown",
   "metadata": {
    "pycharm": {
     "name": "#%% md\n"
    }
   },
   "source": [
    "**Kaggle result:** 0.23138 ↓"
   ]
  },
  {
   "cell_type": "markdown",
   "metadata": {
    "pycharm": {
     "name": "#%% md\n"
    }
   },
   "source": [
    "#### Изменяю порог до 0.2"
   ]
  },
  {
   "cell_type": "code",
   "execution_count": null,
   "metadata": {
    "pycharm": {
     "name": "#%%\n"
    }
   },
   "outputs": [],
   "source": [
    "((df_test.baseline_cat_cv_score > 0.2) * 1).mean()"
   ]
  },
  {
   "cell_type": "code",
   "execution_count": null,
   "metadata": {
    "pycharm": {
     "name": "#%%\n"
    }
   },
   "outputs": [],
   "source": [
    "submission = pd.DataFrame(df_test['id'])\n",
    "submission['smoking'] = (df_test.baseline_cat_cv_score > 0.2) * 1\n",
    "submission.to_csv('Cat_CV_GPU_THRS02_LR_auto.csv', index=False)"
   ]
  },
  {
   "cell_type": "code",
   "execution_count": null,
   "metadata": {
    "pycharm": {
     "name": "#%%\n"
    }
   },
   "outputs": [],
   "source": [
    "submission.smoking.mean()"
   ]
  },
  {
   "cell_type": "code",
   "execution_count": null,
   "metadata": {
    "pycharm": {
     "name": "#%%\n"
    }
   },
   "outputs": [],
   "source": [
    "submission.head()"
   ]
  },
  {
   "cell_type": "markdown",
   "metadata": {
    "pycharm": {
     "name": "#%% md\n"
    }
   },
   "source": [
    "**Kaggle result:** 0.43165 ↑ - лучше, чем Baseline THRS 0.2; GPU = 0.43217 ↑↑"
   ]
  },
  {
   "cell_type": "markdown",
   "metadata": {
    "pycharm": {
     "name": "#%% md\n"
    }
   },
   "source": [
    "#### Изменяю порог до 0.205"
   ]
  },
  {
   "cell_type": "code",
   "execution_count": null,
   "metadata": {
    "pycharm": {
     "name": "#%%\n"
    }
   },
   "outputs": [],
   "source": [
    "((df_test.baseline_cat_cv_score > 0.205) * 1).mean()"
   ]
  },
  {
   "cell_type": "code",
   "execution_count": null,
   "metadata": {
    "pycharm": {
     "name": "#%%\n"
    }
   },
   "outputs": [],
   "source": [
    "submission = pd.DataFrame(df_test['id'])\n",
    "submission['smoking'] = (df_test.baseline_cat_cv_score > 0.205) * 1\n",
    "submission.to_csv('Cat_CV_THRS0205_LR_auto.csv', index=False)"
   ]
  },
  {
   "cell_type": "code",
   "execution_count": null,
   "metadata": {
    "pycharm": {
     "name": "#%%\n"
    }
   },
   "outputs": [],
   "source": [
    "submission.smoking.mean()"
   ]
  },
  {
   "cell_type": "code",
   "execution_count": null,
   "metadata": {
    "pycharm": {
     "name": "#%%\n"
    }
   },
   "outputs": [],
   "source": [
    "submission.head()"
   ]
  },
  {
   "cell_type": "markdown",
   "metadata": {
    "pycharm": {
     "name": "#%% md\n"
    }
   },
   "source": [
    "**Kaggle result:** 0.4284 ↓ - хуже, чем CV THRS 0.2"
   ]
  },
  {
   "cell_type": "markdown",
   "metadata": {
    "pycharm": {
     "name": "#%% md\n"
    }
   },
   "source": [
    "#### Изменяю порог до 0.195"
   ]
  },
  {
   "cell_type": "code",
   "execution_count": null,
   "metadata": {
    "pycharm": {
     "name": "#%%\n"
    }
   },
   "outputs": [],
   "source": [
    "((df_test.baseline_cat_cv_score > 0.195) * 1).mean()"
   ]
  },
  {
   "cell_type": "code",
   "execution_count": null,
   "metadata": {
    "pycharm": {
     "name": "#%%\n"
    }
   },
   "outputs": [],
   "source": [
    "submission = pd.DataFrame(df_test['id'])\n",
    "submission['smoking'] = (df_test.baseline_cat_cv_score > 0.195) * 1\n",
    "submission.to_csv('Cat_CV_THRS0195_LR_auto.csv', index=False)"
   ]
  },
  {
   "cell_type": "code",
   "execution_count": null,
   "metadata": {
    "pycharm": {
     "name": "#%%\n"
    }
   },
   "outputs": [],
   "source": [
    "submission.smoking.mean()"
   ]
  },
  {
   "cell_type": "code",
   "execution_count": null,
   "metadata": {
    "pycharm": {
     "name": "#%%\n"
    }
   },
   "outputs": [],
   "source": [
    "submission.head()"
   ]
  },
  {
   "cell_type": "markdown",
   "metadata": {
    "pycharm": {
     "name": "#%% md\n"
    }
   },
   "source": [
    "**Kaggle result:** 0.42978 ↑ - лучше, чем Baseline THRS 0.2"
   ]
  },
  {
   "cell_type": "markdown",
   "metadata": {
    "pycharm": {
     "name": "#%% md\n"
    }
   },
   "source": [
    "### Итого:\n",
    "Наилучший порог для CV ≈ 0.2, F1 = 0.43165. Хуже, чем Baseline GPU THRSH 0.2 (0.43437)"
   ]
  },
  {
   "cell_type": "code",
   "execution_count": null,
   "metadata": {
    "pycharm": {
     "name": "#%%\n"
    }
   },
   "outputs": [],
   "source": []
  },
  {
   "cell_type": "code",
   "execution_count": null,
   "metadata": {
    "pycharm": {
     "name": "#%%\n"
    }
   },
   "outputs": [],
   "source": []
  },
  {
   "cell_type": "markdown",
   "metadata": {
    "pycharm": {
     "name": "#%% md\n"
    }
   },
   "source": [
    "## Baseline model + ACW + GPU"
   ]
  },
  {
   "cell_type": "markdown",
   "metadata": {
    "pycharm": {
     "name": "#%% md\n"
    }
   },
   "source": [
    "### Настройка гиперпараметров"
   ]
  },
  {
   "cell_type": "code",
   "execution_count": null,
   "metadata": {
    "pycharm": {
     "name": "#%%\n"
    }
   },
   "outputs": [],
   "source": [
    "parameters = {'cat_features': cat_features,\n",
    "              'eval_metric': 'F1',\n",
    "              'loss_function': 'Logloss',\n",
    "              'random_seed': 659,\n",
    "              'verbose': 100,\n",
    "              'auto_class_weights': 'Balanced',\n",
    "              'task_type': 'GPU'}"
   ]
  },
  {
   "cell_type": "code",
   "execution_count": null,
   "metadata": {
    "pycharm": {
     "name": "#%%\n"
    }
   },
   "outputs": [],
   "source": [
    "model = CatBoostClassifier(**parameters)"
   ]
  },
  {
   "cell_type": "markdown",
   "metadata": {
    "pycharm": {
     "name": "#%% md\n"
    }
   },
   "source": [
    "### Обучение модели"
   ]
  },
  {
   "cell_type": "code",
   "execution_count": null,
   "metadata": {
    "pycharm": {
     "name": "#%%\n"
    }
   },
   "outputs": [],
   "source": [
    "%%time\n",
    "model.fit(train_data, eval_set=test_data, plot=True)"
   ]
  },
  {
   "cell_type": "markdown",
   "metadata": {
    "pycharm": {
     "name": "#%% md\n"
    }
   },
   "source": [
    "### Feature importance"
   ]
  },
  {
   "cell_type": "code",
   "execution_count": null,
   "metadata": {
    "pycharm": {
     "name": "#%%\n"
    }
   },
   "outputs": [],
   "source": [
    "model.get_feature_importance(prettified=True)"
   ]
  },
  {
   "cell_type": "code",
   "execution_count": null,
   "metadata": {
    "pycharm": {
     "name": "#%%\n"
    }
   },
   "outputs": [],
   "source": [
    "model.get_params()"
   ]
  },
  {
   "cell_type": "code",
   "execution_count": null,
   "metadata": {
    "pycharm": {
     "name": "#%%\n"
    }
   },
   "outputs": [],
   "source": [
    "model.get_all_params()"
   ]
  },
  {
   "cell_type": "markdown",
   "metadata": {
    "pycharm": {
     "name": "#%% md\n"
    }
   },
   "source": [
    "### Прогнозирование"
   ]
  },
  {
   "cell_type": "markdown",
   "metadata": {
    "pycharm": {
     "name": "#%% md\n"
    }
   },
   "source": [
    "#### Скоры"
   ]
  },
  {
   "cell_type": "markdown",
   "metadata": {
    "pycharm": {
     "name": "#%% md\n"
    }
   },
   "source": [
    "Создаю колонку для baseline catboost скора"
   ]
  },
  {
   "cell_type": "code",
   "execution_count": null,
   "metadata": {
    "pycharm": {
     "name": "#%%\n"
    }
   },
   "outputs": [],
   "source": [
    "df_test['baseline_cat_score'] = model.predict_proba(df_test)[:, 1]"
   ]
  },
  {
   "cell_type": "code",
   "execution_count": null,
   "metadata": {
    "pycharm": {
     "name": "#%%\n"
    }
   },
   "outputs": [],
   "source": [
    "df_test.baseline_cat_score.head()"
   ]
  },
  {
   "cell_type": "markdown",
   "metadata": {
    "pycharm": {
     "name": "#%% md\n"
    }
   },
   "source": [
    "Распределение вероятностей (Score) курит или не курит"
   ]
  },
  {
   "cell_type": "code",
   "execution_count": null,
   "metadata": {
    "pycharm": {
     "name": "#%%\n"
    }
   },
   "outputs": [],
   "source": [
    "df_test.baseline_cat_score.hist();"
   ]
  },
  {
   "cell_type": "markdown",
   "metadata": {
    "pycharm": {
     "name": "#%% md\n"
    }
   },
   "source": [
    "#### Пороги"
   ]
  },
  {
   "cell_type": "markdown",
   "metadata": {
    "pycharm": {
     "name": "#%% md\n"
    }
   },
   "source": [
    "Посмотрю на пользователей вероятность курения которых > 0.5\n",
    "Для вывода 0-ей и 1-иц нужно домножить на 1 иначе будет True и False"
   ]
  },
  {
   "cell_type": "code",
   "execution_count": null,
   "metadata": {
    "pycharm": {
     "name": "#%%\n"
    }
   },
   "outputs": [],
   "source": [
    "((df_test.baseline_cat_score > 0.5) * 1).mean()"
   ]
  },
  {
   "cell_type": "markdown",
   "metadata": {
    "pycharm": {
     "name": "#%% md\n"
    }
   },
   "source": [
    "Такая же вероятность у метода predict, т.к. порог по умолчанию = 0.5"
   ]
  },
  {
   "cell_type": "code",
   "execution_count": null,
   "metadata": {
    "pycharm": {
     "name": "#%%\n"
    }
   },
   "outputs": [],
   "source": [
    "model.predict(df_test).mean()"
   ]
  },
  {
   "cell_type": "markdown",
   "metadata": {
    "pycharm": {
     "name": "#%% md\n"
    }
   },
   "source": [
    "В обучающем ДФ процент курильщиков ≈20% что существенно выше. ПО этому есть смысл понижать порог, но в Baselin`е оставлю порог по умолчанию"
   ]
  },
  {
   "cell_type": "code",
   "execution_count": null,
   "metadata": {
    "pycharm": {
     "name": "#%%\n"
    }
   },
   "outputs": [],
   "source": [
    "df.smoking.mean()"
   ]
  },
  {
   "cell_type": "code",
   "execution_count": null,
   "metadata": {
    "pycharm": {
     "name": "#%%\n"
    }
   },
   "outputs": [],
   "source": [
    "df_test['baseline_cat_pred'] = (df_test.baseline_cat_score > 0.5) * 1"
   ]
  },
  {
   "cell_type": "code",
   "execution_count": null,
   "metadata": {
    "pycharm": {
     "name": "#%%\n"
    }
   },
   "outputs": [],
   "source": [
    "df_test.head()"
   ]
  },
  {
   "cell_type": "markdown",
   "metadata": {
    "pycharm": {
     "name": "#%% md\n"
    }
   },
   "source": [
    "### Сохранение результатов"
   ]
  },
  {
   "cell_type": "code",
   "execution_count": null,
   "metadata": {
    "pycharm": {
     "name": "#%%\n"
    }
   },
   "outputs": [],
   "source": [
    "submission = pd.DataFrame(df_test['id'])\n",
    "submission['smoking'] = df_test.baseline_cat_pred\n",
    "submission.to_csv('Baseline_ACW_GPU.csv', index=False)"
   ]
  },
  {
   "cell_type": "markdown",
   "metadata": {
    "pycharm": {
     "name": "#%% md\n"
    }
   },
   "source": [
    "Проверка значений:"
   ]
  },
  {
   "cell_type": "code",
   "execution_count": null,
   "metadata": {
    "pycharm": {
     "name": "#%%\n"
    }
   },
   "outputs": [],
   "source": [
    "submission.smoking.mean()"
   ]
  },
  {
   "cell_type": "code",
   "execution_count": null,
   "metadata": {
    "pycharm": {
     "name": "#%%\n"
    }
   },
   "outputs": [],
   "source": [
    "submission.head()"
   ]
  },
  {
   "cell_type": "markdown",
   "metadata": {
    "pycharm": {
     "name": "#%% md\n"
    }
   },
   "source": [
    "**Kaggle result:** 0.43639"
   ]
  },
  {
   "cell_type": "markdown",
   "metadata": {
    "pycharm": {
     "name": "#%% md\n"
    }
   },
   "source": [
    "### Модификация"
   ]
  },
  {
   "cell_type": "markdown",
   "metadata": {
    "pycharm": {
     "name": "#%% md\n"
    }
   },
   "source": [
    "#### Изменение порога"
   ]
  },
  {
   "cell_type": "markdown",
   "metadata": {
    "pycharm": {
     "name": "#%% md\n"
    }
   },
   "source": [
    "Изменю порог с 0.5 на 0.501"
   ]
  },
  {
   "cell_type": "code",
   "execution_count": null,
   "metadata": {
    "pycharm": {
     "name": "#%%\n"
    }
   },
   "outputs": [],
   "source": [
    "((df_test.baseline_cat_score > 0.501) * 1).mean()"
   ]
  },
  {
   "cell_type": "markdown",
   "metadata": {
    "pycharm": {
     "name": "#%% md\n"
    }
   },
   "source": [
    "#### Сохранение результатов"
   ]
  },
  {
   "cell_type": "code",
   "execution_count": null,
   "metadata": {
    "pycharm": {
     "name": "#%%\n"
    }
   },
   "outputs": [],
   "source": [
    "submission = pd.DataFrame(df_test['id'])\n",
    "submission['smoking'] = (df_test.baseline_cat_score > 0.501) * 1\n",
    "submission.to_csv('Baseline_ACW_GPU_THRSH_0.501.csv', index=False)"
   ]
  },
  {
   "cell_type": "code",
   "execution_count": null,
   "metadata": {
    "pycharm": {
     "name": "#%%\n"
    }
   },
   "outputs": [],
   "source": [
    "submission.smoking.mean()"
   ]
  },
  {
   "cell_type": "code",
   "execution_count": null,
   "metadata": {
    "pycharm": {
     "name": "#%%\n"
    }
   },
   "outputs": [],
   "source": [
    "submission.head()"
   ]
  },
  {
   "cell_type": "markdown",
   "metadata": {
    "pycharm": {
     "name": "#%% md\n"
    }
   },
   "source": [
    "**Kaggle result:** 0.43589 ↓, 0.501-0.43776 !!! ↑ МОЖНО ДОЖИМАТЬ ↑ 0.501 < X!!!"
   ]
  },
  {
   "cell_type": "code",
   "execution_count": null,
   "metadata": {
    "pycharm": {
     "name": "#%%\n"
    }
   },
   "outputs": [],
   "source": []
  },
  {
   "cell_type": "code",
   "execution_count": null,
   "metadata": {
    "pycharm": {
     "name": "#%%\n"
    }
   },
   "outputs": [],
   "source": []
  },
  {
   "cell_type": "markdown",
   "metadata": {
    "pycharm": {
     "name": "#%% md\n"
    }
   },
   "source": [
    "## Catboost CV + ACW + GPU"
   ]
  },
  {
   "cell_type": "code",
   "execution_count": null,
   "metadata": {
    "pycharm": {
     "name": "#%%\n"
    }
   },
   "outputs": [],
   "source": [
    "parameters = {'eval_metric': 'F1',\n",
    "              'loss_function': 'Logloss',\n",
    "              'random_seed': 659,\n",
    "              'iterations': 1000,\n",
    "              'task_type': 'GPU',\n",
    "              'auto_class_weights': 'Balanced'}"
   ]
  },
  {
   "cell_type": "code",
   "execution_count": null,
   "metadata": {
    "pycharm": {
     "name": "#%%\n"
    }
   },
   "outputs": [],
   "source": [
    "%%time\n",
    "cv_data = cv(\n",
    "    params=parameters,\n",
    "    pool=full_data,\n",
    "    fold_count=5,\n",
    "    shuffle=True,\n",
    "    partition_random_seed=0,\n",
    "    stratified=False,\n",
    "    verbose=False,\n",
    "    plot=True\n",
    ")"
   ]
  },
  {
   "cell_type": "code",
   "execution_count": null,
   "metadata": {
    "pycharm": {
     "name": "#%%\n"
    }
   },
   "outputs": [],
   "source": [
    "best_value = np.max(cv_data['test-F1-mean'])\n",
    "best_iter = np.argmax(cv_data['test-F1-mean']) + 1"
   ]
  },
  {
   "cell_type": "code",
   "execution_count": null,
   "metadata": {
    "pycharm": {
     "name": "#%%\n"
    }
   },
   "outputs": [],
   "source": [
    "best_iter, best_value"
   ]
  },
  {
   "cell_type": "markdown",
   "metadata": {
    "pycharm": {
     "name": "#%% md\n"
    }
   },
   "source": [
    "### Best iteration\n",
    "Обучение на всех данных:"
   ]
  },
  {
   "cell_type": "code",
   "execution_count": null,
   "metadata": {
    "pycharm": {
     "name": "#%%\n"
    }
   },
   "outputs": [],
   "source": [
    "parameters = {'eval_metric': 'F1',\n",
    "              'loss_function': 'Logloss',\n",
    "              'random_seed': 659,\n",
    "              'iterations': best_iter,\n",
    "              'verbose': 100,\n",
    "              'task_type': 'GPU',\n",
    "              'auto_class_weights': 'Balanced'}"
   ]
  },
  {
   "cell_type": "code",
   "execution_count": null,
   "metadata": {
    "pycharm": {
     "name": "#%%\n"
    }
   },
   "outputs": [],
   "source": [
    "model = CatBoostClassifier(**parameters)"
   ]
  },
  {
   "cell_type": "code",
   "execution_count": null,
   "metadata": {
    "pycharm": {
     "name": "#%%\n"
    }
   },
   "outputs": [],
   "source": [
    "%%time\n",
    "model.fit(full_data, plot=True)"
   ]
  },
  {
   "cell_type": "markdown",
   "metadata": {
    "pycharm": {
     "name": "#%% md\n"
    }
   },
   "source": [
    "### Feature importance"
   ]
  },
  {
   "cell_type": "code",
   "execution_count": null,
   "metadata": {
    "pycharm": {
     "name": "#%%\n"
    }
   },
   "outputs": [],
   "source": [
    "model.get_feature_importance(prettified=True)"
   ]
  },
  {
   "cell_type": "code",
   "execution_count": null,
   "metadata": {
    "pycharm": {
     "name": "#%%\n"
    }
   },
   "outputs": [],
   "source": [
    "model.get_params()"
   ]
  },
  {
   "cell_type": "code",
   "execution_count": null,
   "metadata": {
    "pycharm": {
     "name": "#%%\n"
    }
   },
   "outputs": [],
   "source": [
    "model.get_all_params()"
   ]
  },
  {
   "cell_type": "markdown",
   "metadata": {
    "pycharm": {
     "name": "#%% md\n"
    }
   },
   "source": [
    "### Прогноз"
   ]
  },
  {
   "cell_type": "markdown",
   "metadata": {
    "pycharm": {
     "name": "#%% md\n"
    }
   },
   "source": [
    "Создаю колонку для baseline catboost скора"
   ]
  },
  {
   "cell_type": "code",
   "execution_count": null,
   "metadata": {
    "pycharm": {
     "name": "#%%\n"
    }
   },
   "outputs": [],
   "source": [
    "df_test['baseline_cat_cv_score'] = model.predict_proba(df_test)[:, 1]"
   ]
  },
  {
   "cell_type": "code",
   "execution_count": null,
   "metadata": {
    "pycharm": {
     "name": "#%%\n"
    }
   },
   "outputs": [],
   "source": [
    "df_test.baseline_cat_cv_score.head()"
   ]
  },
  {
   "cell_type": "code",
   "execution_count": null,
   "metadata": {
    "pycharm": {
     "name": "#%%\n"
    }
   },
   "outputs": [],
   "source": [
    "df_test.baseline_cat_cv_score.hist();"
   ]
  },
  {
   "cell_type": "markdown",
   "metadata": {
    "pycharm": {
     "name": "#%% md\n"
    }
   },
   "source": [
    "По порогу 0.5 вероятность ≈3.2%"
   ]
  },
  {
   "cell_type": "code",
   "execution_count": null,
   "metadata": {
    "pycharm": {
     "name": "#%%\n"
    }
   },
   "outputs": [],
   "source": [
    "((df_test.baseline_cat_cv_score > 0.5) * 1).mean()"
   ]
  },
  {
   "cell_type": "code",
   "execution_count": null,
   "metadata": {
    "pycharm": {
     "name": "#%%\n"
    }
   },
   "outputs": [],
   "source": [
    "df_test['baseline_cat_cv_pred'] = (df_test.baseline_cat_cv_score > 0.5) * 1"
   ]
  },
  {
   "cell_type": "code",
   "execution_count": null,
   "metadata": {
    "pycharm": {
     "name": "#%%\n"
    }
   },
   "outputs": [],
   "source": [
    "df_test.head()"
   ]
  },
  {
   "cell_type": "markdown",
   "metadata": {
    "pycharm": {
     "name": "#%% md\n"
    }
   },
   "source": [
    "### Сохранение результатов"
   ]
  },
  {
   "cell_type": "code",
   "execution_count": null,
   "metadata": {
    "pycharm": {
     "name": "#%%\n"
    }
   },
   "outputs": [],
   "source": [
    "submission = pd.DataFrame(df_test['id'])\n",
    "submission['smoking'] = df_test.baseline_cat_cv_pred\n",
    "submission.to_csv('Cat_CV_ACW_GPU.csv', index=False)"
   ]
  },
  {
   "cell_type": "code",
   "execution_count": null,
   "metadata": {
    "pycharm": {
     "name": "#%%\n"
    }
   },
   "outputs": [],
   "source": [
    "submission.smoking.mean()"
   ]
  },
  {
   "cell_type": "code",
   "execution_count": null,
   "metadata": {
    "pycharm": {
     "name": "#%%\n"
    }
   },
   "outputs": [],
   "source": [
    "submission.head()"
   ]
  },
  {
   "cell_type": "markdown",
   "metadata": {
    "pycharm": {
     "name": "#%% md\n"
    }
   },
   "source": [
    "**Kaggle result:** 0.42672 ↓"
   ]
  },
  {
   "cell_type": "markdown",
   "metadata": {
    "pycharm": {
     "name": "#%% md\n"
    }
   },
   "source": [
    "#### Изменяю порог до 0.45"
   ]
  },
  {
   "cell_type": "code",
   "execution_count": null,
   "metadata": {
    "pycharm": {
     "name": "#%%\n"
    }
   },
   "outputs": [],
   "source": [
    "((df_test.baseline_cat_cv_score > 0.45) * 1).mean()"
   ]
  },
  {
   "cell_type": "code",
   "execution_count": null,
   "metadata": {
    "pycharm": {
     "name": "#%%\n"
    }
   },
   "outputs": [],
   "source": [
    "submission = pd.DataFrame(df_test['id'])\n",
    "submission['smoking'] = (df_test.baseline_cat_cv_score > 0.45) * 1\n",
    "submission.to_csv('Cat_CV10_GPU_THRS045_LR_auto.csv', index=False)"
   ]
  },
  {
   "cell_type": "code",
   "execution_count": null,
   "metadata": {
    "pycharm": {
     "name": "#%%\n"
    }
   },
   "outputs": [],
   "source": [
    "submission.smoking.mean()"
   ]
  },
  {
   "cell_type": "code",
   "execution_count": null,
   "metadata": {
    "pycharm": {
     "name": "#%%\n"
    }
   },
   "outputs": [],
   "source": [
    "submission.head()"
   ]
  },
  {
   "cell_type": "markdown",
   "metadata": {
    "pycharm": {
     "name": "#%% md\n"
    }
   },
   "source": [
    "**Kaggle result:** 0.43046"
   ]
  },
  {
   "cell_type": "code",
   "execution_count": null,
   "metadata": {
    "pycharm": {
     "name": "#%%\n"
    }
   },
   "outputs": [],
   "source": []
  },
  {
   "cell_type": "code",
   "execution_count": null,
   "metadata": {
    "pycharm": {
     "name": "#%%\n"
    }
   },
   "outputs": [],
   "source": [
    "dddddddddddddddddd"
   ]
  },
  {
   "cell_type": "markdown",
   "metadata": {
    "pycharm": {
     "name": "#%% md\n"
    }
   },
   "source": [
    "## Catboost + ACW + GPU + Drop features"
   ]
  },
  {
   "cell_type": "markdown",
   "metadata": {
    "pycharm": {
     "name": "#%% md\n"
    }
   },
   "source": [
    "### Список фич"
   ]
  },
  {
   "cell_type": "code",
   "execution_count": 45,
   "metadata": {
    "pycharm": {
     "name": "#%%\n"
    }
   },
   "outputs": [
    {
     "data": {
      "text/html": [
       "<div>\n",
       "<style scoped>\n",
       "    .dataframe tbody tr th:only-of-type {\n",
       "        vertical-align: middle;\n",
       "    }\n",
       "\n",
       "    .dataframe tbody tr th {\n",
       "        vertical-align: top;\n",
       "    }\n",
       "\n",
       "    .dataframe thead th {\n",
       "        text-align: right;\n",
       "    }\n",
       "</style>\n",
       "<table border=\"1\" class=\"dataframe\">\n",
       "  <thead>\n",
       "    <tr style=\"text-align: right;\">\n",
       "      <th></th>\n",
       "      <th>id</th>\n",
       "      <th>age</th>\n",
       "      <th>height_cm_</th>\n",
       "      <th>weight_kg_</th>\n",
       "      <th>waist_cm_</th>\n",
       "      <th>eyesight_left_</th>\n",
       "      <th>eyesight_right_</th>\n",
       "      <th>hearing_left_</th>\n",
       "      <th>hearing_right_</th>\n",
       "      <th>systolic</th>\n",
       "      <th>relaxation</th>\n",
       "      <th>fasting_blood_sugar</th>\n",
       "      <th>cholesterol</th>\n",
       "      <th>triglyceride</th>\n",
       "      <th>hdl</th>\n",
       "      <th>ldl</th>\n",
       "      <th>hemoglobin</th>\n",
       "      <th>urine_protein</th>\n",
       "      <th>serum_creatinine</th>\n",
       "      <th>ast</th>\n",
       "      <th>alt</th>\n",
       "      <th>gtp</th>\n",
       "      <th>oral</th>\n",
       "      <th>dental_caries</th>\n",
       "      <th>tartar</th>\n",
       "      <th>smoking</th>\n",
       "    </tr>\n",
       "  </thead>\n",
       "  <tbody>\n",
       "    <tr>\n",
       "      <th>0</th>\n",
       "      <td>2791</td>\n",
       "      <td>65</td>\n",
       "      <td>170</td>\n",
       "      <td>75</td>\n",
       "      <td>91.0</td>\n",
       "      <td>0.6</td>\n",
       "      <td>0.9</td>\n",
       "      <td>1.0</td>\n",
       "      <td>1.0</td>\n",
       "      <td>122.0</td>\n",
       "      <td>79.0</td>\n",
       "      <td>107.0</td>\n",
       "      <td>119.0</td>\n",
       "      <td>51.0</td>\n",
       "      <td>71.0</td>\n",
       "      <td>52.0</td>\n",
       "      <td>14.0</td>\n",
       "      <td>3.0</td>\n",
       "      <td>1.2</td>\n",
       "      <td>20.0</td>\n",
       "      <td>16.0</td>\n",
       "      <td>122.0</td>\n",
       "      <td>Y</td>\n",
       "      <td>0</td>\n",
       "      <td>N</td>\n",
       "      <td>0</td>\n",
       "    </tr>\n",
       "    <tr>\n",
       "      <th>1</th>\n",
       "      <td>18280</td>\n",
       "      <td>35</td>\n",
       "      <td>170</td>\n",
       "      <td>85</td>\n",
       "      <td>97.0</td>\n",
       "      <td>1.5</td>\n",
       "      <td>1.5</td>\n",
       "      <td>1.0</td>\n",
       "      <td>1.0</td>\n",
       "      <td>138.0</td>\n",
       "      <td>88.0</td>\n",
       "      <td>117.0</td>\n",
       "      <td>204.0</td>\n",
       "      <td>239.0</td>\n",
       "      <td>46.0</td>\n",
       "      <td>120.0</td>\n",
       "      <td>14.6</td>\n",
       "      <td>1.0</td>\n",
       "      <td>0.7</td>\n",
       "      <td>20.0</td>\n",
       "      <td>25.0</td>\n",
       "      <td>40.0</td>\n",
       "      <td>Y</td>\n",
       "      <td>0</td>\n",
       "      <td>Y</td>\n",
       "      <td>1</td>\n",
       "    </tr>\n",
       "    <tr>\n",
       "      <th>2</th>\n",
       "      <td>1618</td>\n",
       "      <td>70</td>\n",
       "      <td>165</td>\n",
       "      <td>55</td>\n",
       "      <td>75.0</td>\n",
       "      <td>0.8</td>\n",
       "      <td>1.0</td>\n",
       "      <td>1.0</td>\n",
       "      <td>1.0</td>\n",
       "      <td>115.0</td>\n",
       "      <td>63.0</td>\n",
       "      <td>128.0</td>\n",
       "      <td>165.0</td>\n",
       "      <td>60.0</td>\n",
       "      <td>68.0</td>\n",
       "      <td>85.0</td>\n",
       "      <td>14.7</td>\n",
       "      <td>1.0</td>\n",
       "      <td>0.7</td>\n",
       "      <td>15.0</td>\n",
       "      <td>13.0</td>\n",
       "      <td>19.0</td>\n",
       "      <td>Y</td>\n",
       "      <td>0</td>\n",
       "      <td>Y</td>\n",
       "      <td>0</td>\n",
       "    </tr>\n",
       "    <tr>\n",
       "      <th>3</th>\n",
       "      <td>16856</td>\n",
       "      <td>35</td>\n",
       "      <td>180</td>\n",
       "      <td>85</td>\n",
       "      <td>83.0</td>\n",
       "      <td>1.2</td>\n",
       "      <td>1.0</td>\n",
       "      <td>1.0</td>\n",
       "      <td>1.0</td>\n",
       "      <td>130.0</td>\n",
       "      <td>80.0</td>\n",
       "      <td>100.0</td>\n",
       "      <td>209.0</td>\n",
       "      <td>155.0</td>\n",
       "      <td>53.0</td>\n",
       "      <td>125.0</td>\n",
       "      <td>17.2</td>\n",
       "      <td>1.0</td>\n",
       "      <td>0.8</td>\n",
       "      <td>22.0</td>\n",
       "      <td>18.0</td>\n",
       "      <td>17.0</td>\n",
       "      <td>Y</td>\n",
       "      <td>0</td>\n",
       "      <td>Y</td>\n",
       "      <td>0</td>\n",
       "    </tr>\n",
       "    <tr>\n",
       "      <th>4</th>\n",
       "      <td>5885</td>\n",
       "      <td>25</td>\n",
       "      <td>170</td>\n",
       "      <td>65</td>\n",
       "      <td>80.0</td>\n",
       "      <td>1.5</td>\n",
       "      <td>1.2</td>\n",
       "      <td>1.0</td>\n",
       "      <td>1.0</td>\n",
       "      <td>135.0</td>\n",
       "      <td>75.0</td>\n",
       "      <td>94.0</td>\n",
       "      <td>153.0</td>\n",
       "      <td>73.0</td>\n",
       "      <td>58.0</td>\n",
       "      <td>80.0</td>\n",
       "      <td>16.5</td>\n",
       "      <td>1.0</td>\n",
       "      <td>1.0</td>\n",
       "      <td>20.0</td>\n",
       "      <td>13.0</td>\n",
       "      <td>14.0</td>\n",
       "      <td>Y</td>\n",
       "      <td>0</td>\n",
       "      <td>Y</td>\n",
       "      <td>1</td>\n",
       "    </tr>\n",
       "  </tbody>\n",
       "</table>\n",
       "</div>"
      ],
      "text/plain": [
       "      id  age  height_cm_  weight_kg_  waist_cm_  eyesight_left_  \\\n",
       "0   2791   65         170          75       91.0             0.6   \n",
       "1  18280   35         170          85       97.0             1.5   \n",
       "2   1618   70         165          55       75.0             0.8   \n",
       "3  16856   35         180          85       83.0             1.2   \n",
       "4   5885   25         170          65       80.0             1.5   \n",
       "\n",
       "   eyesight_right_  hearing_left_  hearing_right_  systolic  relaxation  \\\n",
       "0              0.9            1.0             1.0     122.0        79.0   \n",
       "1              1.5            1.0             1.0     138.0        88.0   \n",
       "2              1.0            1.0             1.0     115.0        63.0   \n",
       "3              1.0            1.0             1.0     130.0        80.0   \n",
       "4              1.2            1.0             1.0     135.0        75.0   \n",
       "\n",
       "   fasting_blood_sugar  cholesterol  triglyceride   hdl    ldl  hemoglobin  \\\n",
       "0                107.0        119.0          51.0  71.0   52.0        14.0   \n",
       "1                117.0        204.0         239.0  46.0  120.0        14.6   \n",
       "2                128.0        165.0          60.0  68.0   85.0        14.7   \n",
       "3                100.0        209.0         155.0  53.0  125.0        17.2   \n",
       "4                 94.0        153.0          73.0  58.0   80.0        16.5   \n",
       "\n",
       "   urine_protein  serum_creatinine   ast   alt    gtp oral  dental_caries  \\\n",
       "0            3.0               1.2  20.0  16.0  122.0    Y              0   \n",
       "1            1.0               0.7  20.0  25.0   40.0    Y              0   \n",
       "2            1.0               0.7  15.0  13.0   19.0    Y              0   \n",
       "3            1.0               0.8  22.0  18.0   17.0    Y              0   \n",
       "4            1.0               1.0  20.0  13.0   14.0    Y              0   \n",
       "\n",
       "  tartar  smoking  \n",
       "0      N        0  \n",
       "1      Y        1  \n",
       "2      Y        0  \n",
       "3      Y        0  \n",
       "4      Y        1  "
      ]
     },
     "execution_count": 45,
     "metadata": {},
     "output_type": "execute_result"
    }
   ],
   "source": [
    "df.head()"
   ]
  },
  {
   "cell_type": "code",
   "execution_count": 39,
   "metadata": {
    "pycharm": {
     "name": "#%%\n"
    }
   },
   "outputs": [],
   "source": [
    "X = df.drop(['oral', 'smoking', 'hearing_left_', 'hearing_right_', 'id', 'eyesight_left_', 'eyesight_right_','urine_protein', 'height_cm_', 'systolic', 'cholesterol', ], axis=1)\n",
    "y = df.smoking\n",
    "cat_features = ['tartar']\n",
    "# df_test = df_test.drop('oral', axis=1)\n",
    "df_test_copy = df_test_copy.drop(['hearing_left_', 'hearing_right_', 'id', 'eyesight_left_', 'eyesight_right_','urine_protein', 'height_cm_', 'systolic', 'cholesterol', ], axis=1)"
   ]
  },
  {
   "cell_type": "code",
   "execution_count": 40,
   "metadata": {
    "pycharm": {
     "name": "#%%\n"
    }
   },
   "outputs": [
    {
     "data": {
      "text/html": [
       "<div>\n",
       "<style scoped>\n",
       "    .dataframe tbody tr th:only-of-type {\n",
       "        vertical-align: middle;\n",
       "    }\n",
       "\n",
       "    .dataframe tbody tr th {\n",
       "        vertical-align: top;\n",
       "    }\n",
       "\n",
       "    .dataframe thead th {\n",
       "        text-align: right;\n",
       "    }\n",
       "</style>\n",
       "<table border=\"1\" class=\"dataframe\">\n",
       "  <thead>\n",
       "    <tr style=\"text-align: right;\">\n",
       "      <th></th>\n",
       "      <th>age</th>\n",
       "      <th>weight_kg_</th>\n",
       "      <th>waist_cm_</th>\n",
       "      <th>relaxation</th>\n",
       "      <th>fasting_blood_sugar</th>\n",
       "      <th>triglyceride</th>\n",
       "      <th>hdl</th>\n",
       "      <th>ldl</th>\n",
       "      <th>hemoglobin</th>\n",
       "      <th>serum_creatinine</th>\n",
       "      <th>ast</th>\n",
       "      <th>alt</th>\n",
       "      <th>gtp</th>\n",
       "      <th>dental_caries</th>\n",
       "      <th>tartar</th>\n",
       "    </tr>\n",
       "  </thead>\n",
       "  <tbody>\n",
       "    <tr>\n",
       "      <th>0</th>\n",
       "      <td>65</td>\n",
       "      <td>75</td>\n",
       "      <td>91.0</td>\n",
       "      <td>79.0</td>\n",
       "      <td>107.0</td>\n",
       "      <td>51.0</td>\n",
       "      <td>71.0</td>\n",
       "      <td>52.0</td>\n",
       "      <td>14.0</td>\n",
       "      <td>1.2</td>\n",
       "      <td>20.0</td>\n",
       "      <td>16.0</td>\n",
       "      <td>122.0</td>\n",
       "      <td>0</td>\n",
       "      <td>N</td>\n",
       "    </tr>\n",
       "    <tr>\n",
       "      <th>1</th>\n",
       "      <td>35</td>\n",
       "      <td>85</td>\n",
       "      <td>97.0</td>\n",
       "      <td>88.0</td>\n",
       "      <td>117.0</td>\n",
       "      <td>239.0</td>\n",
       "      <td>46.0</td>\n",
       "      <td>120.0</td>\n",
       "      <td>14.6</td>\n",
       "      <td>0.7</td>\n",
       "      <td>20.0</td>\n",
       "      <td>25.0</td>\n",
       "      <td>40.0</td>\n",
       "      <td>0</td>\n",
       "      <td>Y</td>\n",
       "    </tr>\n",
       "    <tr>\n",
       "      <th>2</th>\n",
       "      <td>70</td>\n",
       "      <td>55</td>\n",
       "      <td>75.0</td>\n",
       "      <td>63.0</td>\n",
       "      <td>128.0</td>\n",
       "      <td>60.0</td>\n",
       "      <td>68.0</td>\n",
       "      <td>85.0</td>\n",
       "      <td>14.7</td>\n",
       "      <td>0.7</td>\n",
       "      <td>15.0</td>\n",
       "      <td>13.0</td>\n",
       "      <td>19.0</td>\n",
       "      <td>0</td>\n",
       "      <td>Y</td>\n",
       "    </tr>\n",
       "    <tr>\n",
       "      <th>3</th>\n",
       "      <td>35</td>\n",
       "      <td>85</td>\n",
       "      <td>83.0</td>\n",
       "      <td>80.0</td>\n",
       "      <td>100.0</td>\n",
       "      <td>155.0</td>\n",
       "      <td>53.0</td>\n",
       "      <td>125.0</td>\n",
       "      <td>17.2</td>\n",
       "      <td>0.8</td>\n",
       "      <td>22.0</td>\n",
       "      <td>18.0</td>\n",
       "      <td>17.0</td>\n",
       "      <td>0</td>\n",
       "      <td>Y</td>\n",
       "    </tr>\n",
       "    <tr>\n",
       "      <th>4</th>\n",
       "      <td>25</td>\n",
       "      <td>65</td>\n",
       "      <td>80.0</td>\n",
       "      <td>75.0</td>\n",
       "      <td>94.0</td>\n",
       "      <td>73.0</td>\n",
       "      <td>58.0</td>\n",
       "      <td>80.0</td>\n",
       "      <td>16.5</td>\n",
       "      <td>1.0</td>\n",
       "      <td>20.0</td>\n",
       "      <td>13.0</td>\n",
       "      <td>14.0</td>\n",
       "      <td>0</td>\n",
       "      <td>Y</td>\n",
       "    </tr>\n",
       "  </tbody>\n",
       "</table>\n",
       "</div>"
      ],
      "text/plain": [
       "   age  weight_kg_  waist_cm_  relaxation  fasting_blood_sugar  triglyceride  \\\n",
       "0   65          75       91.0        79.0                107.0          51.0   \n",
       "1   35          85       97.0        88.0                117.0         239.0   \n",
       "2   70          55       75.0        63.0                128.0          60.0   \n",
       "3   35          85       83.0        80.0                100.0         155.0   \n",
       "4   25          65       80.0        75.0                 94.0          73.0   \n",
       "\n",
       "    hdl    ldl  hemoglobin  serum_creatinine   ast   alt    gtp  \\\n",
       "0  71.0   52.0        14.0               1.2  20.0  16.0  122.0   \n",
       "1  46.0  120.0        14.6               0.7  20.0  25.0   40.0   \n",
       "2  68.0   85.0        14.7               0.7  15.0  13.0   19.0   \n",
       "3  53.0  125.0        17.2               0.8  22.0  18.0   17.0   \n",
       "4  58.0   80.0        16.5               1.0  20.0  13.0   14.0   \n",
       "\n",
       "   dental_caries tartar  \n",
       "0              0      N  \n",
       "1              0      Y  \n",
       "2              0      Y  \n",
       "3              0      Y  \n",
       "4              0      Y  "
      ]
     },
     "execution_count": 40,
     "metadata": {},
     "output_type": "execute_result"
    }
   ],
   "source": [
    "X.head()"
   ]
  },
  {
   "cell_type": "code",
   "execution_count": 41,
   "metadata": {
    "pycharm": {
     "name": "#%%\n"
    }
   },
   "outputs": [
    {
     "data": {
      "text/plain": [
       "0    0\n",
       "1    1\n",
       "2    0\n",
       "3    0\n",
       "4    1\n",
       "Name: smoking, dtype: int64"
      ]
     },
     "execution_count": 41,
     "metadata": {},
     "output_type": "execute_result"
    }
   ],
   "source": [
    "y.head()"
   ]
  },
  {
   "cell_type": "code",
   "execution_count": 42,
   "metadata": {
    "pycharm": {
     "name": "#%%\n"
    }
   },
   "outputs": [
    {
     "data": {
      "text/plain": [
       "['tartar']"
      ]
     },
     "execution_count": 42,
     "metadata": {},
     "output_type": "execute_result"
    }
   ],
   "source": [
    "cat_features"
   ]
  },
  {
   "cell_type": "markdown",
   "metadata": {
    "pycharm": {
     "name": "#%% md\n"
    }
   },
   "source": [
    "### Обучающая и тестовая выборки\n",
    "Разделю обучающую выборку на train и test"
   ]
  },
  {
   "cell_type": "code",
   "execution_count": 43,
   "metadata": {
    "pycharm": {
     "name": "#%%\n"
    }
   },
   "outputs": [],
   "source": [
    "X_train, X_test, y_train, y_test = train_test_split(X, y, test_size=0.2, random_state=659)"
   ]
  },
  {
   "cell_type": "markdown",
   "metadata": {
    "pycharm": {
     "name": "#%% md\n"
    }
   },
   "source": [
    "### Создание Pool`ов для модели"
   ]
  },
  {
   "cell_type": "code",
   "execution_count": 44,
   "metadata": {
    "pycharm": {
     "name": "#%%\n"
    }
   },
   "outputs": [],
   "source": [
    "train_data = Pool(X_train, y_train, cat_features=cat_features)\n",
    "test_data = Pool(X_test, y_test, cat_features=cat_features)\n",
    "full_data = Pool(X, y, cat_features=cat_features)"
   ]
  },
  {
   "cell_type": "markdown",
   "metadata": {
    "pycharm": {
     "name": "#%% md\n"
    }
   },
   "source": [
    "### Настройка гиперпараметров"
   ]
  },
  {
   "cell_type": "code",
   "execution_count": null,
   "metadata": {
    "pycharm": {
     "name": "#%%\n"
    }
   },
   "outputs": [],
   "source": [
    "вввввввввввввввввввввввв"
   ]
  },
  {
   "cell_type": "markdown",
   "metadata": {
    "pycharm": {
     "name": "#%% md\n"
    }
   },
   "source": [
    "LR 0.01 - 0.03"
   ]
  },
  {
   "cell_type": "code",
   "execution_count": 296,
   "metadata": {
    "pycharm": {
     "name": "#%%\n"
    }
   },
   "outputs": [],
   "source": [
    "parameters = {'cat_features': cat_features,\n",
    "              'eval_metric': 'F1',\n",
    "              'loss_function': 'Logloss',\n",
    "              'random_seed': 659,\n",
    "              'verbose': 100,\n",
    "              'auto_class_weights': 'Balanced',\n",
    "              'task_type': 'GPU',\n",
    "              'iterations': 1000,\n",
    "              'early_stopping_rounds': 300}"
   ]
  },
  {
   "cell_type": "code",
   "execution_count": 297,
   "metadata": {
    "pycharm": {
     "name": "#%%\n"
    }
   },
   "outputs": [],
   "source": [
    "model = CatBoostClassifier(**parameters)"
   ]
  },
  {
   "cell_type": "markdown",
   "metadata": {
    "pycharm": {
     "name": "#%% md\n"
    }
   },
   "source": [
    "### Обучение модели"
   ]
  },
  {
   "cell_type": "code",
   "execution_count": 298,
   "metadata": {
    "pycharm": {
     "name": "#%%\n"
    }
   },
   "outputs": [
    {
     "data": {
      "text/plain": "MetricVisualizer(layout=Layout(align_self='stretch', height='500px'))",
      "application/vnd.jupyter.widget-view+json": {
       "version_major": 2,
       "version_minor": 0,
       "model_id": "fa2f015620f44c968c8771f43a5565f2"
      }
     },
     "metadata": {},
     "output_type": "display_data"
    },
    {
     "name": "stdout",
     "output_type": "stream",
     "text": [
      "Learning rate set to 0.058056\n",
      "0:\tlearn: 0.6100672\ttest: 0.5636089\tbest: 0.5636089 (0)\ttotal: 41.2ms\tremaining: 41.2s\n",
      "100:\tlearn: 0.6983700\ttest: 0.6161387\tbest: 0.6190550 (98)\ttotal: 3.85s\tremaining: 34.2s\n",
      "200:\tlearn: 0.7375642\ttest: 0.6131263\tbest: 0.6194675 (107)\ttotal: 7.71s\tremaining: 30.6s\n",
      "300:\tlearn: 0.7570418\ttest: 0.6003841\tbest: 0.6194675 (107)\ttotal: 11.6s\tremaining: 27s\n",
      "400:\tlearn: 0.7716029\ttest: 0.5982121\tbest: 0.6194675 (107)\ttotal: 15.6s\tremaining: 23.4s\n",
      "bestTest = 0.6194674581\n",
      "bestIteration = 107\n",
      "Shrink model to first 108 iterations.\n",
      "CPU times: total: 20 s\n",
      "Wall time: 16.4 s\n"
     ]
    },
    {
     "data": {
      "text/plain": "<catboost.core.CatBoostClassifier at 0x2412ee63fd0>"
     },
     "execution_count": 298,
     "metadata": {},
     "output_type": "execute_result"
    }
   ],
   "source": [
    "%%time\n",
    "model.fit(train_data, eval_set=test_data, plot=True)"
   ]
  },
  {
   "cell_type": "markdown",
   "metadata": {
    "pycharm": {
     "name": "#%% md\n"
    }
   },
   "source": [
    "Lr-auto=0.058056\n",
    "bestTest = 0.6194674581\n",
    "bestIteration = 107\n",
    "LR = 0.03\n",
    "bestTest = 0.6152708489\n",
    "bestIteration = 381\n",
    "LR = 0.02\n",
    "bestTest = 0.6127704915\n",
    "bestIteration = 399\n",
    "LR = 0.04\n",
    "bestTest = 0.61339383\n",
    "bestIteration = 369\n",
    "LR = 0.01\n",
    "bestTest = 0.6167331055\n",
    "bestIteration = 856\n",
    "LR = 0.0581\n",
    "bestTest = 0.6218981807\n",
    "bestIteration = 209\n",
    "**BEST LR** = 0.0583\n",
    "bestTest = 0.6231496187\n",
    "bestIteration = 271\n"
   ]
  },
  {
   "cell_type": "markdown",
   "metadata": {
    "pycharm": {
     "name": "#%% md\n"
    }
   },
   "source": [
    "### Feature importance"
   ]
  },
  {
   "cell_type": "code",
   "execution_count": 299,
   "metadata": {
    "pycharm": {
     "name": "#%%\n"
    }
   },
   "outputs": [
    {
     "data": {
      "text/plain": "             Feature Id  Importances\n0                   age    16.037052\n1                   gtp    15.553149\n2                   alt    11.059059\n3          triglyceride    10.394328\n4            hemoglobin     6.687902\n5                   ldl     6.351543\n6             waist_cm_     5.977403\n7   fasting_blood_sugar     4.483045\n8      serum_creatinine     4.227178\n9                   ast     4.210789\n10                  hdl     3.845284\n11           relaxation     3.319383\n12           weight_kg_     3.129290\n13               tartar     3.034181\n14        dental_caries     1.690414",
      "text/html": "<div>\n<style scoped>\n    .dataframe tbody tr th:only-of-type {\n        vertical-align: middle;\n    }\n\n    .dataframe tbody tr th {\n        vertical-align: top;\n    }\n\n    .dataframe thead th {\n        text-align: right;\n    }\n</style>\n<table border=\"1\" class=\"dataframe\">\n  <thead>\n    <tr style=\"text-align: right;\">\n      <th></th>\n      <th>Feature Id</th>\n      <th>Importances</th>\n    </tr>\n  </thead>\n  <tbody>\n    <tr>\n      <th>0</th>\n      <td>age</td>\n      <td>16.037052</td>\n    </tr>\n    <tr>\n      <th>1</th>\n      <td>gtp</td>\n      <td>15.553149</td>\n    </tr>\n    <tr>\n      <th>2</th>\n      <td>alt</td>\n      <td>11.059059</td>\n    </tr>\n    <tr>\n      <th>3</th>\n      <td>triglyceride</td>\n      <td>10.394328</td>\n    </tr>\n    <tr>\n      <th>4</th>\n      <td>hemoglobin</td>\n      <td>6.687902</td>\n    </tr>\n    <tr>\n      <th>5</th>\n      <td>ldl</td>\n      <td>6.351543</td>\n    </tr>\n    <tr>\n      <th>6</th>\n      <td>waist_cm_</td>\n      <td>5.977403</td>\n    </tr>\n    <tr>\n      <th>7</th>\n      <td>fasting_blood_sugar</td>\n      <td>4.483045</td>\n    </tr>\n    <tr>\n      <th>8</th>\n      <td>serum_creatinine</td>\n      <td>4.227178</td>\n    </tr>\n    <tr>\n      <th>9</th>\n      <td>ast</td>\n      <td>4.210789</td>\n    </tr>\n    <tr>\n      <th>10</th>\n      <td>hdl</td>\n      <td>3.845284</td>\n    </tr>\n    <tr>\n      <th>11</th>\n      <td>relaxation</td>\n      <td>3.319383</td>\n    </tr>\n    <tr>\n      <th>12</th>\n      <td>weight_kg_</td>\n      <td>3.129290</td>\n    </tr>\n    <tr>\n      <th>13</th>\n      <td>tartar</td>\n      <td>3.034181</td>\n    </tr>\n    <tr>\n      <th>14</th>\n      <td>dental_caries</td>\n      <td>1.690414</td>\n    </tr>\n  </tbody>\n</table>\n</div>"
     },
     "execution_count": 299,
     "metadata": {},
     "output_type": "execute_result"
    }
   ],
   "source": [
    "model.get_feature_importance(prettified=True)"
   ]
  },
  {
   "cell_type": "code",
   "execution_count": 300,
   "metadata": {
    "pycharm": {
     "name": "#%%\n"
    }
   },
   "outputs": [
    {
     "data": {
      "text/plain": "{'iterations': 1000,\n 'loss_function': 'Logloss',\n 'random_seed': 659,\n 'verbose': 100,\n 'auto_class_weights': 'Balanced',\n 'eval_metric': 'F1',\n 'task_type': 'GPU',\n 'early_stopping_rounds': 300,\n 'cat_features': ['tartar']}"
     },
     "execution_count": 300,
     "metadata": {},
     "output_type": "execute_result"
    }
   ],
   "source": [
    "model.get_params()"
   ]
  },
  {
   "cell_type": "code",
   "execution_count": 301,
   "metadata": {
    "pycharm": {
     "name": "#%%\n"
    }
   },
   "outputs": [
    {
     "data": {
      "text/plain": "{'nan_mode': 'Min',\n 'gpu_ram_part': 0.95,\n 'eval_metric': 'F1',\n 'combinations_ctr': ['Borders:CtrBorderCount=15:CtrBorderType=Uniform:TargetBorderCount=1:TargetBorderType=MinEntropy:Prior=0/1:Prior=0.5/1:Prior=1/1',\n  'FeatureFreq:CtrBorderCount=15:CtrBorderType=Median:Prior=0/1'],\n 'iterations': 1000,\n 'fold_permutation_block': 64,\n 'leaf_estimation_method': 'Newton',\n 'observations_to_bootstrap': 'TestOnly',\n 'od_pval': 0,\n 'counter_calc_method': 'SkipTest',\n 'grow_policy': 'SymmetricTree',\n 'penalties_coefficient': 1,\n 'boosting_type': 'Ordered',\n 'ctr_history_unit': 'Sample',\n 'feature_border_type': 'GreedyLogSum',\n 'bayesian_matrix_reg': 0.10000000149011612,\n 'one_hot_max_size': 2,\n 'devices': '-1',\n 'eval_fraction': 0,\n 'pinned_memory_bytes': '104857600',\n 'force_unit_auto_pair_weights': False,\n 'l2_leaf_reg': 3,\n 'random_strength': 1,\n 'od_type': 'Iter',\n 'rsm': 1,\n 'boost_from_average': False,\n 'gpu_cat_features_storage': 'GpuRam',\n 'fold_size_loss_normalization': False,\n 'max_ctr_complexity': 4,\n 'model_size_reg': 0.5,\n 'simple_ctr': ['Borders:CtrBorderCount=15:CtrBorderType=Uniform:TargetBorderCount=1:TargetBorderType=MinEntropy:Prior=0/1:Prior=0.5/1:Prior=1/1',\n  'FeatureFreq:CtrBorderCount=15:CtrBorderType=MinEntropy:Prior=0/1'],\n 'pool_metainfo_options': {'tags': {}},\n 'use_best_model': True,\n 'meta_l2_frequency': 0,\n 'od_wait': 300,\n 'class_names': [0, 1],\n 'random_seed': 659,\n 'depth': 6,\n 'ctr_target_border_count': 1,\n 'has_time': False,\n 'fold_len_multiplier': 2,\n 'border_count': 128,\n 'min_fold_size': 100,\n 'class_weights': [1, 3.933899164199829],\n 'data_partition': 'FeatureParallel',\n 'bagging_temperature': 1,\n 'classes_count': 0,\n 'auto_class_weights': 'Balanced',\n 'leaf_estimation_backtracking': 'AnyImprovement',\n 'best_model_min_trees': 1,\n 'min_data_in_leaf': 1,\n 'add_ridge_penalty_to_loss_function': False,\n 'loss_function': 'Logloss',\n 'learning_rate': 0.05805600062012672,\n 'meta_l2_exponent': 1,\n 'score_function': 'Cosine',\n 'task_type': 'GPU',\n 'leaf_estimation_iterations': 10,\n 'bootstrap_type': 'Bayesian',\n 'max_leaves': 64,\n 'permutation_count': 4}"
     },
     "execution_count": 301,
     "metadata": {},
     "output_type": "execute_result"
    }
   ],
   "source": [
    "model.get_all_params()"
   ]
  },
  {
   "cell_type": "markdown",
   "metadata": {
    "pycharm": {
     "name": "#%% md\n"
    }
   },
   "source": [
    "### Прогнозирование"
   ]
  },
  {
   "cell_type": "markdown",
   "metadata": {
    "pycharm": {
     "name": "#%% md\n"
    }
   },
   "source": [
    "#### Скоры"
   ]
  },
  {
   "cell_type": "markdown",
   "metadata": {
    "pycharm": {
     "name": "#%% md\n"
    }
   },
   "source": [
    "Создаю колонку для baseline catboost скора"
   ]
  },
  {
   "cell_type": "code",
   "execution_count": 302,
   "metadata": {
    "pycharm": {
     "name": "#%%\n"
    }
   },
   "outputs": [],
   "source": [
    "df_test['baseline_cat_score'] = model.predict_proba(df_test_copy)[:, 1]"
   ]
  },
  {
   "cell_type": "code",
   "execution_count": 303,
   "metadata": {
    "pycharm": {
     "name": "#%%\n"
    }
   },
   "outputs": [
    {
     "data": {
      "text/plain": "0    0.500722\n1    0.078501\n2    0.437625\n3    0.347356\n4    0.590422\nName: baseline_cat_score, dtype: float64"
     },
     "execution_count": 303,
     "metadata": {},
     "output_type": "execute_result"
    }
   ],
   "source": [
    "df_test.baseline_cat_score.head()"
   ]
  },
  {
   "cell_type": "markdown",
   "metadata": {
    "pycharm": {
     "name": "#%% md\n"
    }
   },
   "source": [
    "Распределение вероятностей (Score) курит или не курит"
   ]
  },
  {
   "cell_type": "code",
   "execution_count": 304,
   "metadata": {
    "pycharm": {
     "name": "#%%\n"
    }
   },
   "outputs": [
    {
     "data": {
      "text/plain": "<Figure size 640x480 with 1 Axes>",
      "image/png": "[encoded data removed]"
     },
     "metadata": {},
     "output_type": "display_data"
    }
   ],
   "source": [
    "df_test.baseline_cat_score.hist();"
   ]
  },
  {
   "cell_type": "markdown",
   "metadata": {
    "pycharm": {
     "name": "#%% md\n"
    }
   },
   "source": [
    "#### Пороги"
   ]
  },
  {
   "cell_type": "markdown",
   "metadata": {
    "pycharm": {
     "name": "#%% md\n"
    }
   },
   "source": [
    "Посмотрю на пользователей вероятность курения которых > 0.5\n",
    "Для вывода 0-ей и 1-иц нужно домножить на 1 иначе будет True и False"
   ]
  },
  {
   "cell_type": "code",
   "execution_count": 305,
   "metadata": {
    "pycharm": {
     "name": "#%%\n"
    }
   },
   "outputs": [
    {
     "data": {
      "text/plain": "0.3668798384382363"
     },
     "execution_count": 305,
     "metadata": {},
     "output_type": "execute_result"
    }
   ],
   "source": [
    "((df_test.baseline_cat_score > 0.5) * 1).mean()"
   ]
  },
  {
   "cell_type": "markdown",
   "metadata": {
    "pycharm": {
     "name": "#%% md\n"
    }
   },
   "source": [
    "Такая же вероятность у метода predict, т.к. порог по умолчанию = 0.5"
   ]
  },
  {
   "cell_type": "code",
   "execution_count": 306,
   "metadata": {
    "pycharm": {
     "name": "#%%\n"
    }
   },
   "outputs": [
    {
     "data": {
      "text/plain": "0.3668798384382363"
     },
     "execution_count": 306,
     "metadata": {},
     "output_type": "execute_result"
    }
   ],
   "source": [
    "model.predict(df_test_copy).mean()"
   ]
  },
  {
   "cell_type": "code",
   "execution_count": 307,
   "metadata": {
    "pycharm": {
     "name": "#%%\n"
    }
   },
   "outputs": [],
   "source": [
    "df_test['baseline_cat_pred'] = (df_test.baseline_cat_score > 0.5) * 1"
   ]
  },
  {
   "cell_type": "code",
   "execution_count": 308,
   "metadata": {
    "pycharm": {
     "name": "#%%\n"
    }
   },
   "outputs": [
    {
     "data": {
      "text/plain": "      id  age  height_cm_  weight_kg_  waist_cm_  eyesight_left_  \\\n0  19200   40         170          75       87.0             1.2   \n1   7784   25         170          65       78.4             0.9   \n2  11682   50         180         105      109.3             0.9   \n3   9949   60         160          60       81.0             0.5   \n4   9378   45         175          70       83.0             0.9   \n\n   eyesight_right_  hearing_left_  hearing_right_  systolic  relaxation  \\\n0              1.0            1.0             1.0     140.0        90.0   \n1              0.9            1.0             1.0     118.0        78.0   \n2              1.0            1.0             1.0     130.0        90.0   \n3              0.5            1.0             1.0     118.0        76.0   \n4              1.0            1.0             1.0     130.0        80.0   \n\n   fasting_blood_sugar  cholesterol  triglyceride   hdl    ldl  hemoglobin  \\\n0                131.0        225.0         216.0  52.0  129.0        16.4   \n1                101.0        170.0          33.0  72.0   91.0        11.9   \n2                 96.0        162.0         144.0  71.0   62.0        15.4   \n3                 97.0        172.0          91.0  46.0  108.0        16.2   \n4                100.0        191.0         365.0  34.0   84.0        15.2   \n\n   urine_protein  serum_creatinine   ast   alt   gtp  dental_caries tartar  \\\n0            1.0               1.1  25.0  58.0  43.0              0      Y   \n1            1.0               0.9  33.0  66.0  22.0              0      N   \n2            1.0               0.9  19.0  24.0  32.0              0      Y   \n3            1.0               1.2  34.0  37.0  26.0              0      Y   \n4            1.0               0.7  27.0  25.0  26.0              0      N   \n\n   baseline_cat_score  baseline_cat_pred  \n0            0.500722                  1  \n1            0.078501                  0  \n2            0.437625                  0  \n3            0.347356                  0  \n4            0.590422                  1  ",
      "text/html": "<div>\n<style scoped>\n    .dataframe tbody tr th:only-of-type {\n        vertical-align: middle;\n    }\n\n    .dataframe tbody tr th {\n        vertical-align: top;\n    }\n\n    .dataframe thead th {\n        text-align: right;\n    }\n</style>\n<table border=\"1\" class=\"dataframe\">\n  <thead>\n    <tr style=\"text-align: right;\">\n      <th></th>\n      <th>id</th>\n      <th>age</th>\n      <th>height_cm_</th>\n      <th>weight_kg_</th>\n      <th>waist_cm_</th>\n      <th>eyesight_left_</th>\n      <th>eyesight_right_</th>\n      <th>hearing_left_</th>\n      <th>hearing_right_</th>\n      <th>systolic</th>\n      <th>relaxation</th>\n      <th>fasting_blood_sugar</th>\n      <th>cholesterol</th>\n      <th>triglyceride</th>\n      <th>hdl</th>\n      <th>ldl</th>\n      <th>hemoglobin</th>\n      <th>urine_protein</th>\n      <th>serum_creatinine</th>\n      <th>ast</th>\n      <th>alt</th>\n      <th>gtp</th>\n      <th>dental_caries</th>\n      <th>tartar</th>\n      <th>baseline_cat_score</th>\n      <th>baseline_cat_pred</th>\n    </tr>\n  </thead>\n  <tbody>\n    <tr>\n      <th>0</th>\n      <td>19200</td>\n      <td>40</td>\n      <td>170</td>\n      <td>75</td>\n      <td>87.0</td>\n      <td>1.2</td>\n      <td>1.0</td>\n      <td>1.0</td>\n      <td>1.0</td>\n      <td>140.0</td>\n      <td>90.0</td>\n      <td>131.0</td>\n      <td>225.0</td>\n      <td>216.0</td>\n      <td>52.0</td>\n      <td>129.0</td>\n      <td>16.4</td>\n      <td>1.0</td>\n      <td>1.1</td>\n      <td>25.0</td>\n      <td>58.0</td>\n      <td>43.0</td>\n      <td>0</td>\n      <td>Y</td>\n      <td>0.500722</td>\n      <td>1</td>\n    </tr>\n    <tr>\n      <th>1</th>\n      <td>7784</td>\n      <td>25</td>\n      <td>170</td>\n      <td>65</td>\n      <td>78.4</td>\n      <td>0.9</td>\n      <td>0.9</td>\n      <td>1.0</td>\n      <td>1.0</td>\n      <td>118.0</td>\n      <td>78.0</td>\n      <td>101.0</td>\n      <td>170.0</td>\n      <td>33.0</td>\n      <td>72.0</td>\n      <td>91.0</td>\n      <td>11.9</td>\n      <td>1.0</td>\n      <td>0.9</td>\n      <td>33.0</td>\n      <td>66.0</td>\n      <td>22.0</td>\n      <td>0</td>\n      <td>N</td>\n      <td>0.078501</td>\n      <td>0</td>\n    </tr>\n    <tr>\n      <th>2</th>\n      <td>11682</td>\n      <td>50</td>\n      <td>180</td>\n      <td>105</td>\n      <td>109.3</td>\n      <td>0.9</td>\n      <td>1.0</td>\n      <td>1.0</td>\n      <td>1.0</td>\n      <td>130.0</td>\n      <td>90.0</td>\n      <td>96.0</td>\n      <td>162.0</td>\n      <td>144.0</td>\n      <td>71.0</td>\n      <td>62.0</td>\n      <td>15.4</td>\n      <td>1.0</td>\n      <td>0.9</td>\n      <td>19.0</td>\n      <td>24.0</td>\n      <td>32.0</td>\n      <td>0</td>\n      <td>Y</td>\n      <td>0.437625</td>\n      <td>0</td>\n    </tr>\n    <tr>\n      <th>3</th>\n      <td>9949</td>\n      <td>60</td>\n      <td>160</td>\n      <td>60</td>\n      <td>81.0</td>\n      <td>0.5</td>\n      <td>0.5</td>\n      <td>1.0</td>\n      <td>1.0</td>\n      <td>118.0</td>\n      <td>76.0</td>\n      <td>97.0</td>\n      <td>172.0</td>\n      <td>91.0</td>\n      <td>46.0</td>\n      <td>108.0</td>\n      <td>16.2</td>\n      <td>1.0</td>\n      <td>1.2</td>\n      <td>34.0</td>\n      <td>37.0</td>\n      <td>26.0</td>\n      <td>0</td>\n      <td>Y</td>\n      <td>0.347356</td>\n      <td>0</td>\n    </tr>\n    <tr>\n      <th>4</th>\n      <td>9378</td>\n      <td>45</td>\n      <td>175</td>\n      <td>70</td>\n      <td>83.0</td>\n      <td>0.9</td>\n      <td>1.0</td>\n      <td>1.0</td>\n      <td>1.0</td>\n      <td>130.0</td>\n      <td>80.0</td>\n      <td>100.0</td>\n      <td>191.0</td>\n      <td>365.0</td>\n      <td>34.0</td>\n      <td>84.0</td>\n      <td>15.2</td>\n      <td>1.0</td>\n      <td>0.7</td>\n      <td>27.0</td>\n      <td>25.0</td>\n      <td>26.0</td>\n      <td>0</td>\n      <td>N</td>\n      <td>0.590422</td>\n      <td>1</td>\n    </tr>\n  </tbody>\n</table>\n</div>"
     },
     "execution_count": 308,
     "metadata": {},
     "output_type": "execute_result"
    }
   ],
   "source": [
    "df_test.head()"
   ]
  },
  {
   "cell_type": "markdown",
   "metadata": {
    "pycharm": {
     "name": "#%% md\n"
    }
   },
   "source": [
    "### Сохранение результатов"
   ]
  },
  {
   "cell_type": "code",
   "execution_count": 273,
   "metadata": {
    "pycharm": {
     "name": "#%%\n"
    }
   },
   "outputs": [],
   "source": [
    "submission = pd.DataFrame(df_test['id'])\n",
    "submission['smoking'] = df_test.baseline_cat_pred\n",
    "submission.to_csv('Cat_ACW_GPU_drop9F.csv', index=False)"
   ]
  },
  {
   "cell_type": "markdown",
   "metadata": {
    "pycharm": {
     "name": "#%% md\n"
    }
   },
   "source": [
    "Проверка значений:"
   ]
  },
  {
   "cell_type": "code",
   "execution_count": 274,
   "metadata": {
    "pycharm": {
     "name": "#%%\n"
    }
   },
   "outputs": [
    {
     "data": {
      "text/plain": "0.36637495792662406"
     },
     "execution_count": 274,
     "metadata": {},
     "output_type": "execute_result"
    }
   ],
   "source": [
    "submission.smoking.mean()"
   ]
  },
  {
   "cell_type": "code",
   "execution_count": 275,
   "metadata": {
    "pycharm": {
     "name": "#%%\n"
    }
   },
   "outputs": [
    {
     "data": {
      "text/plain": "      id  smoking\n0  19200        0\n1   7784        0\n2  11682        0\n3   9949        0\n4   9378        1",
      "text/html": "<div>\n<style scoped>\n    .dataframe tbody tr th:only-of-type {\n        vertical-align: middle;\n    }\n\n    .dataframe tbody tr th {\n        vertical-align: top;\n    }\n\n    .dataframe thead th {\n        text-align: right;\n    }\n</style>\n<table border=\"1\" class=\"dataframe\">\n  <thead>\n    <tr style=\"text-align: right;\">\n      <th></th>\n      <th>id</th>\n      <th>smoking</th>\n    </tr>\n  </thead>\n  <tbody>\n    <tr>\n      <th>0</th>\n      <td>19200</td>\n      <td>0</td>\n    </tr>\n    <tr>\n      <th>1</th>\n      <td>7784</td>\n      <td>0</td>\n    </tr>\n    <tr>\n      <th>2</th>\n      <td>11682</td>\n      <td>0</td>\n    </tr>\n    <tr>\n      <th>3</th>\n      <td>9949</td>\n      <td>0</td>\n    </tr>\n    <tr>\n      <th>4</th>\n      <td>9378</td>\n      <td>1</td>\n    </tr>\n  </tbody>\n</table>\n</div>"
     },
     "execution_count": 275,
     "metadata": {},
     "output_type": "execute_result"
    }
   ],
   "source": [
    "submission.head()"
   ]
  },
  {
   "cell_type": "markdown",
   "metadata": {
    "pycharm": {
     "name": "#%% md\n"
    }
   },
   "source": [
    "**Kaggle result:** 0.43846 ↑↑↑"
   ]
  },
  {
   "cell_type": "markdown",
   "metadata": {
    "pycharm": {
     "name": "#%% md\n"
    }
   },
   "source": [
    "### Модификация"
   ]
  },
  {
   "cell_type": "markdown",
   "metadata": {
    "pycharm": {
     "name": "#%% md\n"
    }
   },
   "source": [
    "#### Изменение порога"
   ]
  },
  {
   "cell_type": "markdown",
   "metadata": {
    "pycharm": {
     "name": "#%% md\n"
    }
   },
   "source": [
    "Изменю порог с 0.5 на 0.501"
   ]
  },
  {
   "cell_type": "code",
   "execution_count": 322,
   "metadata": {
    "pycharm": {
     "name": "#%%\n"
    }
   },
   "outputs": [
    {
     "data": {
      "text/plain": "0.3695725345001683"
     },
     "execution_count": 322,
     "metadata": {},
     "output_type": "execute_result"
    }
   ],
   "source": [
    "((df_test.baseline_cat_score > 0.4985) * 1).mean()"
   ]
  },
  {
   "cell_type": "code",
   "execution_count": 309,
   "metadata": {
    "pycharm": {
     "name": "#%%\n"
    }
   },
   "outputs": [
    {
     "data": {
      "text/plain": "0.3640188488724335"
     },
     "execution_count": 309,
     "metadata": {},
     "output_type": "execute_result"
    }
   ],
   "source": [
    "((df_test.baseline_cat_score > 0.501) * 1).mean()"
   ]
  },
  {
   "cell_type": "code",
   "execution_count": 310,
   "metadata": {
    "pycharm": {
     "name": "#%%\n"
    }
   },
   "outputs": [
    {
     "data": {
      "text/plain": "0.3692359474924268"
     },
     "execution_count": 310,
     "metadata": {},
     "output_type": "execute_result"
    }
   ],
   "source": [
    "((df_test.baseline_cat_score > 0.4988) * 1).mean()"
   ]
  },
  {
   "cell_type": "code",
   "execution_count": 311,
   "metadata": {
    "pycharm": {
     "name": "#%%\n"
    }
   },
   "outputs": [
    {
     "data": {
      "text/plain": "0.3699091215079098"
     },
     "execution_count": 311,
     "metadata": {},
     "output_type": "execute_result"
    }
   ],
   "source": [
    "((df_test.baseline_cat_score > 0.4983) * 1).mean()"
   ]
  },
  {
   "cell_type": "markdown",
   "metadata": {
    "pycharm": {
     "name": "#%% md\n"
    }
   },
   "source": [
    "#### Сохранение результатов"
   ]
  },
  {
   "cell_type": "code",
   "execution_count": 315,
   "metadata": {
    "pycharm": {
     "name": "#%%\n"
    }
   },
   "outputs": [],
   "source": [
    "submission = pd.DataFrame(df_test['id'])\n",
    "submission['smoking'] = (df_test.baseline_cat_score > 0.4982) * 1\n",
    "submission.to_csv('Cat_ACW_GPU_drop9F_THRSH0.4982.csv', index=False)"
   ]
  },
  {
   "cell_type": "code",
   "execution_count": 316,
   "metadata": {
    "pycharm": {
     "name": "#%%\n"
    }
   },
   "outputs": [
    {
     "data": {
      "text/plain": "0.37007741501178054"
     },
     "execution_count": 316,
     "metadata": {},
     "output_type": "execute_result"
    }
   ],
   "source": [
    "submission.smoking.mean()"
   ]
  },
  {
   "cell_type": "code",
   "execution_count": 272,
   "metadata": {
    "pycharm": {
     "name": "#%%\n"
    }
   },
   "outputs": [
    {
     "data": {
      "text/plain": "      id  smoking\n0  19200        0\n1   7784        0\n2  11682        0\n3   9949        0\n4   9378        1",
      "text/html": "<div>\n<style scoped>\n    .dataframe tbody tr th:only-of-type {\n        vertical-align: middle;\n    }\n\n    .dataframe tbody tr th {\n        vertical-align: top;\n    }\n\n    .dataframe thead th {\n        text-align: right;\n    }\n</style>\n<table border=\"1\" class=\"dataframe\">\n  <thead>\n    <tr style=\"text-align: right;\">\n      <th></th>\n      <th>id</th>\n      <th>smoking</th>\n    </tr>\n  </thead>\n  <tbody>\n    <tr>\n      <th>0</th>\n      <td>19200</td>\n      <td>0</td>\n    </tr>\n    <tr>\n      <th>1</th>\n      <td>7784</td>\n      <td>0</td>\n    </tr>\n    <tr>\n      <th>2</th>\n      <td>11682</td>\n      <td>0</td>\n    </tr>\n    <tr>\n      <th>3</th>\n      <td>9949</td>\n      <td>0</td>\n    </tr>\n    <tr>\n      <th>4</th>\n      <td>9378</td>\n      <td>1</td>\n    </tr>\n  </tbody>\n</table>\n</div>"
     },
     "execution_count": 272,
     "metadata": {},
     "output_type": "execute_result"
    }
   ],
   "source": [
    "submission.head()"
   ]
  },
  {
   "cell_type": "markdown",
   "metadata": {
    "pycharm": {
     "name": "#%% md\n"
    }
   },
   "source": [
    "**Kaggle result:** 0.43889 - 0.501(36.4%), 0.43882 - 0.5012(36.33) надо пробовать меньше"
   ]
  },
  {
   "cell_type": "markdown",
   "metadata": {
    "pycharm": {
     "name": "#%% md\n"
    }
   },
   "source": [
    "## Catboost CV + ACW + GPU + Drop features"
   ]
  },
  {
   "cell_type": "code",
   "execution_count": null,
   "metadata": {
    "pycharm": {
     "name": "#%%\n"
    }
   },
   "outputs": [],
   "source": [
    "parameters = {'eval_metric': 'F1',\n",
    "              'loss_function': 'Logloss',\n",
    "              'random_seed': 659,\n",
    "              'iterations': 1000,\n",
    "              'task_type': 'GPU',\n",
    "              'auto_class_weights': 'Balanced'}"
   ]
  },
  {
   "cell_type": "code",
   "execution_count": null,
   "metadata": {
    "pycharm": {
     "name": "#%%\n"
    }
   },
   "outputs": [],
   "source": [
    "%%time\n",
    "cv_data = cv(\n",
    "    params=parameters,\n",
    "    pool=full_data,\n",
    "    fold_count=5,\n",
    "    shuffle=True,\n",
    "    partition_random_seed=0,\n",
    "    stratified=False,\n",
    "    verbose=False,\n",
    "    plot=True\n",
    ")"
   ]
  },
  {
   "cell_type": "code",
   "execution_count": null,
   "metadata": {
    "pycharm": {
     "name": "#%%\n"
    }
   },
   "outputs": [],
   "source": [
    "best_value = np.max(cv_data['test-F1-mean'])\n",
    "best_iter = np.argmax(cv_data['test-F1-mean']) + 1"
   ]
  },
  {
   "cell_type": "code",
   "execution_count": null,
   "metadata": {
    "pycharm": {
     "name": "#%%\n"
    }
   },
   "outputs": [],
   "source": [
    "best_iter, best_value"
   ]
  },
  {
   "cell_type": "markdown",
   "metadata": {
    "pycharm": {
     "name": "#%% md\n"
    }
   },
   "source": [
    "### Best iteration\n",
    "Обучение на всех данных:"
   ]
  },
  {
   "cell_type": "code",
   "execution_count": null,
   "metadata": {
    "pycharm": {
     "name": "#%%\n"
    }
   },
   "outputs": [],
   "source": [
    "parameters = {'eval_metric': 'F1',\n",
    "              'loss_function': 'Logloss',\n",
    "              'random_seed': 659,\n",
    "              'iterations': best_iter,\n",
    "              'verbose': 100,\n",
    "              'task_type': 'GPU',\n",
    "              'auto_class_weights': 'Balanced'}"
   ]
  },
  {
   "cell_type": "code",
   "execution_count": null,
   "metadata": {
    "pycharm": {
     "name": "#%%\n"
    }
   },
   "outputs": [],
   "source": [
    "model = CatBoostClassifier(**parameters)"
   ]
  },
  {
   "cell_type": "code",
   "execution_count": null,
   "metadata": {
    "pycharm": {
     "name": "#%%\n"
    }
   },
   "outputs": [],
   "source": [
    "%%time\n",
    "model.fit(full_data, plot=True)"
   ]
  },
  {
   "cell_type": "markdown",
   "metadata": {
    "pycharm": {
     "name": "#%% md\n"
    }
   },
   "source": [
    "### Feature importance"
   ]
  },
  {
   "cell_type": "code",
   "execution_count": null,
   "metadata": {
    "pycharm": {
     "name": "#%%\n"
    }
   },
   "outputs": [],
   "source": [
    "model.get_feature_importance(prettified=True)"
   ]
  },
  {
   "cell_type": "code",
   "execution_count": null,
   "metadata": {
    "pycharm": {
     "name": "#%%\n"
    }
   },
   "outputs": [],
   "source": [
    "model.get_params()"
   ]
  },
  {
   "cell_type": "code",
   "execution_count": null,
   "metadata": {
    "pycharm": {
     "name": "#%%\n"
    }
   },
   "outputs": [],
   "source": [
    "model.get_all_params()"
   ]
  },
  {
   "cell_type": "markdown",
   "metadata": {
    "pycharm": {
     "name": "#%% md\n"
    }
   },
   "source": [
    "### Прогноз"
   ]
  },
  {
   "cell_type": "markdown",
   "metadata": {
    "pycharm": {
     "name": "#%% md\n"
    }
   },
   "source": [
    "Создаю колонку для baseline catboost скора"
   ]
  },
  {
   "cell_type": "code",
   "execution_count": null,
   "metadata": {
    "pycharm": {
     "name": "#%%\n"
    }
   },
   "outputs": [],
   "source": [
    "df_test['baseline_cat_cv_score'] = model.predict_proba(df_test_copy)[:, 1]"
   ]
  },
  {
   "cell_type": "code",
   "execution_count": null,
   "metadata": {
    "pycharm": {
     "name": "#%%\n"
    }
   },
   "outputs": [],
   "source": [
    "df_test.baseline_cat_cv_score.head()"
   ]
  },
  {
   "cell_type": "code",
   "execution_count": null,
   "metadata": {
    "pycharm": {
     "name": "#%%\n"
    }
   },
   "outputs": [],
   "source": [
    "df_test.baseline_cat_cv_score.hist();"
   ]
  },
  {
   "cell_type": "markdown",
   "metadata": {
    "pycharm": {
     "name": "#%% md\n"
    }
   },
   "source": [
    "По порогу 0.5 вероятность ≈3.2%"
   ]
  },
  {
   "cell_type": "code",
   "execution_count": null,
   "metadata": {
    "pycharm": {
     "name": "#%%\n"
    }
   },
   "outputs": [],
   "source": [
    "((df_test.baseline_cat_cv_score > 0.5) * 1).mean()"
   ]
  },
  {
   "cell_type": "code",
   "execution_count": null,
   "metadata": {
    "pycharm": {
     "name": "#%%\n"
    }
   },
   "outputs": [],
   "source": [
    "df_test['baseline_cat_cv_pred'] = (df_test.baseline_cat_cv_score > 0.5) * 1"
   ]
  },
  {
   "cell_type": "code",
   "execution_count": null,
   "metadata": {
    "pycharm": {
     "name": "#%%\n"
    }
   },
   "outputs": [],
   "source": [
    "df_test.head()"
   ]
  },
  {
   "cell_type": "markdown",
   "metadata": {
    "pycharm": {
     "name": "#%% md\n"
    }
   },
   "source": [
    "### Сохранение результатов"
   ]
  },
  {
   "cell_type": "code",
   "execution_count": null,
   "metadata": {
    "pycharm": {
     "name": "#%%\n"
    }
   },
   "outputs": [],
   "source": [
    "submission = pd.DataFrame(df_test['id'])\n",
    "submission['smoking'] = df_test.baseline_cat_cv_pred\n",
    "submission.to_csv('Cat_CV_ACW_GPU.csv', index=False)"
   ]
  },
  {
   "cell_type": "code",
   "execution_count": null,
   "metadata": {
    "pycharm": {
     "name": "#%%\n"
    }
   },
   "outputs": [],
   "source": [
    "submission.smoking.mean()"
   ]
  },
  {
   "cell_type": "code",
   "execution_count": null,
   "metadata": {
    "pycharm": {
     "name": "#%%\n"
    }
   },
   "outputs": [],
   "source": [
    "submission.head()"
   ]
  },
  {
   "cell_type": "markdown",
   "metadata": {
    "pycharm": {
     "name": "#%% md\n"
    }
   },
   "source": [
    "**Kaggle result:** 0.42672 ↓"
   ]
  },
  {
   "cell_type": "markdown",
   "metadata": {
    "pycharm": {
     "name": "#%% md\n"
    }
   },
   "source": [
    "#### Изменяю порог до 0.45"
   ]
  },
  {
   "cell_type": "code",
   "execution_count": null,
   "metadata": {
    "pycharm": {
     "name": "#%%\n"
    }
   },
   "outputs": [],
   "source": [
    "((df_test.baseline_cat_cv_score > 0.45) * 1).mean()"
   ]
  },
  {
   "cell_type": "code",
   "execution_count": null,
   "metadata": {
    "pycharm": {
     "name": "#%%\n"
    }
   },
   "outputs": [],
   "source": [
    "submission = pd.DataFrame(df_test['id'])\n",
    "submission['smoking'] = (df_test.baseline_cat_cv_score > 0.45) * 1\n",
    "submission.to_csv('Cat_CV_GPU_Drop9F_THRS045_LR_auto.csv', index=False)"
   ]
  },
  {
   "cell_type": "code",
   "execution_count": null,
   "metadata": {
    "pycharm": {
     "name": "#%%\n"
    }
   },
   "outputs": [],
   "source": [
    "submission.smoking.mean()"
   ]
  },
  {
   "cell_type": "code",
   "execution_count": null,
   "metadata": {
    "pycharm": {
     "name": "#%%\n"
    }
   },
   "outputs": [],
   "source": [
    "submission.head()"
   ]
  },
  {
   "cell_type": "markdown",
   "metadata": {
    "pycharm": {
     "name": "#%% md\n"
    }
   },
   "source": [
    "**Kaggle result:** 0.43046"
   ]
  },
  {
   "cell_type": "code",
   "execution_count": null,
   "metadata": {
    "pycharm": {
     "name": "#%%\n"
    }
   },
   "outputs": [],
   "source": []
  },
  {
   "cell_type": "markdown",
   "metadata": {
    "pycharm": {
     "name": "#%% md\n"
    }
   },
   "source": [
    "## Grid Search"
   ]
  },
  {
   "cell_type": "code",
   "execution_count": null,
   "metadata": {
    "pycharm": {
     "name": "#%%\n"
    }
   },
   "outputs": [],
   "source": []
  },
  {
   "cell_type": "code",
   "execution_count": null,
   "metadata": {
    "pycharm": {
     "name": "#%%\n"
    }
   },
   "outputs": [],
   "source": [
    "parameters = {'cat_features': cat_features,\n",
    "              'eval_metric': 'F1',\n",
    "              'loss_function': 'Logloss',\n",
    "              'random_seed': 659,\n",
    "              'verbose': 100,\n",
    "              'auto_class_weights': 'Balanced',\n",
    "              'task_type': 'GPU',\n",
    "              'iterations': 1000}"
   ]
  },
  {
   "cell_type": "code",
   "execution_count": null,
   "metadata": {
    "pycharm": {
     "name": "#%%\n"
    }
   },
   "outputs": [],
   "source": [
    "model = CatBoostClassifier(**parameters)"
   ]
  },
  {
   "cell_type": "code",
   "execution_count": null,
   "metadata": {
    "pycharm": {
     "name": "#%%\n"
    }
   },
   "outputs": [],
   "source": []
  },
  {
   "cell_type": "code",
   "execution_count": null,
   "metadata": {
    "pycharm": {
     "name": "#%%\n"
    }
   },
   "outputs": [],
   "source": [
    "pool = Pool(data=X_train, label=y_train, cat_features=cat_features)\n",
    "model = CatBoostClassifier(**parameters)\n",
    "grid = {'learning_rate': [0.01, 0.02, 0.03, 0.04, 0.05, 0.058056, 0.07, 0.09, 0.11]}"
   ]
  },
  {
   "cell_type": "code",
   "execution_count": null,
   "metadata": {
    "pycharm": {
     "name": "#%%\n"
    }
   },
   "outputs": [],
   "source": [
    "%%time\n",
    "result = model.grid_search(grid, pool, plot=True)"
   ]
  },
  {
   "cell_type": "code",
   "execution_count": null,
   "metadata": {
    "pycharm": {
     "name": "#%%\n"
    }
   },
   "outputs": [],
   "source": [
    "print('Best parameters: {}\\n'.format(result['params']))\n",
    "\n",
    "msg = 'Mean MAE value on validation set per each iteration:\\n{}'\n",
    "print(msg.format(np.round(result['cv_results']['test-MAE-mean'], 4)))"
   ]
  },
  {
   "cell_type": "code",
   "execution_count": null,
   "metadata": {
    "pycharm": {
     "name": "#%%\n"
    }
   },
   "outputs": [],
   "source": []
  },
  {
   "cell_type": "code",
   "execution_count": null,
   "metadata": {
    "pycharm": {
     "name": "#%%\n"
    }
   },
   "outputs": [],
   "source": []
  },
  {
   "cell_type": "code",
   "execution_count": null,
   "metadata": {
    "pycharm": {
     "name": "#%%\n"
    }
   },
   "outputs": [],
   "source": []
  },
  {
   "cell_type": "code",
   "execution_count": null,
   "metadata": {
    "pycharm": {
     "name": "#%%\n"
    }
   },
   "outputs": [],
   "source": [
    "pool = Pool(data=X_train, label=y_train, cat_features=cat_features)\n",
    "model = CatBoostClassifier(iterations=1000, eval_metric='F1', verbose = 100)\n",
    "grid = {'learning_rate': [0.01, 0.05, 0.1, 0.2, 0.3, 0.4, 0.5, 0.7]}"
   ]
  },
  {
   "cell_type": "code",
   "execution_count": null,
   "metadata": {
    "pycharm": {
     "name": "#%%\n"
    }
   },
   "outputs": [],
   "source": [
    "result = model.grid_search(grid, pool, plot=True)"
   ]
  },
  {
   "cell_type": "code",
   "execution_count": null,
   "metadata": {
    "pycharm": {
     "name": "#%%\n"
    }
   },
   "outputs": [],
   "source": [
    "pool = Pool(data=X_train, label=y_train, cat_features=cat_features)\n",
    "model = CatBoostClassifier(iterations=1000, eval_metric='F1', verbose = 100)\n",
    "grid = {'learning_rate': [0.3, 0.4, 0.5, 0.6, 0.7, 0.8, 0.9, 0.99]}"
   ]
  },
  {
   "cell_type": "code",
   "execution_count": null,
   "metadata": {
    "pycharm": {
     "name": "#%%\n"
    }
   },
   "outputs": [],
   "source": [
    "result = model.grid_search(grid, pool, plot=True)"
   ]
  },
  {
   "cell_type": "code",
   "execution_count": null,
   "metadata": {
    "pycharm": {
     "name": "#%%\n"
    }
   },
   "outputs": [],
   "source": []
  },
  {
   "cell_type": "code",
   "execution_count": null,
   "metadata": {
    "pycharm": {
     "name": "#%%\n"
    }
   },
   "outputs": [],
   "source": [
    "pool = Pool(data=X_train, label=y_train, cat_features=cat_features)\n",
    "model = CatBoostClassifier(iterations=1000, eval_metric='F1', verbose = 100, random_seed=659)\n",
    "grid = {'learning_rate': [0.4, 0.43, 0.45, 0.47, 0.5, 0.53, 0.55, 0.57]}"
   ]
  },
  {
   "cell_type": "code",
   "execution_count": null,
   "metadata": {
    "pycharm": {
     "name": "#%%\n"
    }
   },
   "outputs": [],
   "source": [
    "model.grid_search(grid, pool, plot=True)"
   ]
  },
  {
   "cell_type": "code",
   "execution_count": null,
   "metadata": {
    "pycharm": {
     "name": "#%%\n"
    }
   },
   "outputs": [],
   "source": [
    "model.get_params()"
   ]
  },
  {
   "cell_type": "code",
   "execution_count": null,
   "metadata": {
    "pycharm": {
     "name": "#%%\n"
    }
   },
   "outputs": [],
   "source": []
  },
  {
   "cell_type": "markdown",
   "metadata": {
    "pycharm": {
     "name": "#%% md\n"
    }
   },
   "source": [
    "## Catboost model comparison"
   ]
  },
  {
   "cell_type": "code",
   "execution_count": null,
   "metadata": {
    "pycharm": {
     "name": "#%%\n"
    }
   },
   "outputs": [],
   "source": []
  },
  {
   "cell_type": "code",
   "execution_count": null,
   "metadata": {
    "pycharm": {
     "name": "#%%\n"
    }
   },
   "outputs": [],
   "source": [
    "# parameters = {'cat_features': cat_features,\n",
    "#               'eval_metric': 'F1',\n",
    "#               'loss_function': 'Logloss',\n",
    "#               'random_seed': 659,\n",
    "#               'verbose': 100,\n",
    "#               'auto_class_weights': 'Balanced',\n",
    "#               'task_type': 'GPU',\n",
    "#               'iterations': 1000,\n",
    "#               'early_stopping_rounds': 300}"
   ]
  },
  {
   "cell_type": "code",
   "execution_count": null,
   "metadata": {
    "pycharm": {
     "name": "#%%\n"
    }
   },
   "outputs": [],
   "source": [
    "parameters = {'cat_features': cat_features,\n",
    "              'random_seed': 659,\n",
    "              'verbose': 100,\n",
    "              'auto_class_weights': 'Balanced',\n",
    "              'task_type': 'GPU',\n",
    "              'iterations': 1000,\n",
    "              'early_stopping_rounds': 100}\n",
    "model1 = CatBoostClassifier(\n",
    "    learning_rate=0.05,\n",
    "    iterations=1000,\n",
    "    random_seed=659,\n",
    "    train_dir='learning_rate_0.05',\n",
    "    custom_metric=['F1', 'AUC']\n",
    ")"
   ]
  },
  {
   "cell_type": "code",
   "execution_count": null,
   "metadata": {
    "pycharm": {
     "name": "#%%\n"
    }
   },
   "outputs": [],
   "source": [
    "%%time\n",
    "model1 = CatBoostClassifier(**parameters, learning_rate = 0.01, train_dir='learning_rate_0.01')\n",
    "model2 = CatBoostClassifier(**parameters, learning_rate = 0.02, train_dir='learning_rate_0.02')\n",
    "model3 = CatBoostClassifier(**parameters, learning_rate = 0.03, train_dir='learning_rate_0.03')\n",
    "model4 = CatBoostClassifier(**parameters, learning_rate = 0.04, train_dir='learning_rate_0.04')\n",
    "model5 = CatBoostClassifier(**parameters, learning_rate = 0.05, train_dir='learning_rate_0.05')\n",
    "# model6 = CatBoostClassifier(**parameters, learning_rate = 0.1, train_dir='learning_rate_0.10')\n",
    "# model7 = CatBoostClassifier(**parameters, learning_rate = 0.15, train_dir='learning_rate_0.15')\n",
    "# model8 = CatBoostClassifier(**parameters, learning_rate = 0.20, train_dir='learning_rate_0.20')\n",
    "# model9 = CatBoostClassifier(**parameters, learning_rate = 0.25, train_dir='learning_rate_0.25')\n",
    "# model10 = CatBoostClassifier(**parameters, learning_rate = 0.30, train_dir='learning_rate_0.3')\n",
    "\n",
    "model1.fit(X_train, y_train, eval_set=(X_test, y_test), cat_features=cat_features, verbose=False)\n",
    "model2.fit(X_train, y_train, eval_set=(X_test, y_test), cat_features=cat_features, verbose=False)\n",
    "model3.fit(X_train, y_train, eval_set=(X_test, y_test), cat_features=cat_features, verbose=False)\n",
    "model4.fit(X_train, y_train, eval_set=(X_test, y_test), cat_features=cat_features, verbose=False)\n",
    "model5.fit(X_train, y_train, eval_set=(X_test, y_test), cat_features=cat_features, verbose=False)\n",
    "# model6.fit(X_train, y_train, eval_set=(X_test, y_test), cat_features=cat_features, verbose=False)\n",
    "# model7.fit(X_train, y_train, eval_set=(X_test, y_test), cat_features=cat_features, verbose=False)\n",
    "# model8.fit(X_train, y_train, eval_set=(X_test, y_test), cat_features=cat_features, verbose=False)\n",
    "# model9.fit(X_train, y_train, eval_set=(X_test, y_test), cat_features=cat_features, verbose=False)\n",
    "# model10.fit(X_train, y_train, eval_set=(X_test, y_test), cat_features=cat_features, verbose=False)"
   ]
  },
  {
   "cell_type": "code",
   "execution_count": null,
   "metadata": {
    "pycharm": {
     "name": "#%%\n"
    }
   },
   "outputs": [],
   "source": [
    "%%time\n",
    "from catboost import MetricVisualizer\n",
    "\n",
    "MetricVisualizer(['learning_rate_0.01', 'learning_rate_0.02', 'learning_rate_0.03', 'learning_rate_0.04', 'learning_rate_0.05']).start()"
   ]
  },
  {
   "cell_type": "code",
   "execution_count": null,
   "metadata": {
    "pycharm": {
     "name": "#%%\n"
    }
   },
   "outputs": [],
   "source": [
    "%%time\n",
    "from catboost import MetricVisualizer\n",
    "\n",
    "MetricVisualizer(['learning_rate_0.01', 'learning_rate_0.02', 'learning_rate_0.03', 'learning_rate_0.04', 'learning_rate_0.05', 'learning_rate_0.1', 'learning_rate_0.15', 'learning_rate_0.2', 'learning_rate_0.25', 'learning_rate_0.3']).start()"
   ]
  },
  {
   "cell_type": "code",
   "execution_count": null,
   "metadata": {
    "pycharm": {
     "name": "#%%\n"
    }
   },
   "outputs": [],
   "source": []
  },
  {
   "cell_type": "code",
   "execution_count": null,
   "metadata": {
    "pycharm": {
     "name": "#%%\n"
    }
   },
   "outputs": [],
   "source": [
    "%%time\n",
    "model1 = CatBoostClassifier(**parameters, learning_rate = 0.01, train_dir='Tlearning_rate_0.01')\n",
    "model2 = CatBoostClassifier(**parameters, learning_rate = 0.02, train_dir='Tlearning_rate_0.02')\n",
    "model3 = CatBoostClassifier(**parameters, learning_rate = 0.03, train_dir='Tlearning_rate_0.03')\n",
    "model1.fit(X_train, y_train, eval_set=(X_test, y_test), cat_features=cat_features, verbose=False)\n",
    "model2.fit(X_train, y_train, eval_set=(X_test, y_test), cat_features=cat_features, verbose=False)\n",
    "model3.fit(X_train, y_train, eval_set=(X_test, y_test), cat_features=cat_features, verbose=False)"
   ]
  },
  {
   "cell_type": "code",
   "execution_count": null,
   "metadata": {
    "pycharm": {
     "name": "#%%\n"
    }
   },
   "outputs": [],
   "source": [
    "%%time\n",
    "from catboost import MetricVisualizer\n",
    "\n",
    "MetricVisualizer(['Tlearning_rate_0.01', 'Tlearning_rate_0.02', 'Tlearning_rate_0.03']).start()"
   ]
  },
  {
   "cell_type": "code",
   "execution_count": null,
   "metadata": {
    "pycharm": {
     "name": "#%%\n"
    }
   },
   "outputs": [],
   "source": []
  },
  {
   "cell_type": "code",
   "execution_count": null,
   "metadata": {
    "pycharm": {
     "name": "#%%\n"
    }
   },
   "outputs": [],
   "source": [
    "%%time\n",
    "from catboost import MetricVisualizer\n",
    "\n",
    "MetricVisualizer(['learning_rate_0.01', 'learning_rate_0.02', 'learning_rate_0.03']).start()"
   ]
  },
  {
   "cell_type": "code",
   "execution_count": null,
   "metadata": {
    "pycharm": {
     "name": "#%%\n"
    }
   },
   "outputs": [],
   "source": []
  },
  {
   "cell_type": "code",
   "execution_count": null,
   "metadata": {
    "pycharm": {
     "name": "#%%\n"
    }
   },
   "outputs": [],
   "source": []
  },
  {
   "cell_type": "code",
   "execution_count": null,
   "metadata": {
    "pycharm": {
     "name": "#%%\n"
    }
   },
   "outputs": [],
   "source": []
  },
  {
   "cell_type": "code",
   "execution_count": null,
   "metadata": {
    "pycharm": {
     "name": "#%%\n"
    }
   },
   "outputs": [],
   "source": []
  },
  {
   "cell_type": "code",
   "execution_count": null,
   "metadata": {
    "pycharm": {
     "name": "#%%\n"
    }
   },
   "outputs": [],
   "source": [
    "%%time\n",
    "model1 = CatBoostClassifier(\n",
    "    learning_rate=0.05,\n",
    "    iterations=1000,\n",
    "    random_seed=659,\n",
    "    train_dir='learning_rate_0.05',\n",
    "    custom_metric=['F1', 'AUC']\n",
    ")\n",
    "\n",
    "model2 = CatBoostClassifier(\n",
    "    learning_rate=0.15,\n",
    "    iterations=1000,\n",
    "    random_seed=659,\n",
    "    train_dir='learning_rate_0.15',\n",
    "    custom_metric=['F1', 'AUC']\n",
    ")\n",
    "\n",
    "model3 = CatBoostClassifier(\n",
    "    learning_rate=0.25,\n",
    "    iterations=1000,\n",
    "    random_seed=659,\n",
    "    train_dir='learning_rate_0.25',\n",
    "    custom_metric=['F1', 'AUC']\n",
    ")\n",
    "\n",
    "model4 = CatBoostClassifier(\n",
    "    learning_rate=0.35,\n",
    "    iterations=1000,\n",
    "    random_seed=659,\n",
    "    train_dir='learning_rate_0.35',\n",
    "    custom_metric=['F1', 'AUC']\n",
    ")\n",
    "\n",
    "model5 = CatBoostClassifier(\n",
    "    learning_rate=0.47,\n",
    "    iterations=1000,\n",
    "    random_seed=659,\n",
    "    train_dir='learning_rate_0.47',\n",
    "    custom_metric=['F1', 'AUC']\n",
    ")\n",
    "\n",
    "model6 = CatBoostClassifier(\n",
    "    learning_rate=0.55,\n",
    "    iterations=1000,\n",
    "    random_seed=659,\n",
    "    train_dir='learning_rate_0.55',\n",
    "    custom_metric=['F1', 'AUC']\n",
    ")\n",
    "\n",
    "\n",
    "model1.fit(\n",
    "    X_train, y_train,\n",
    "    eval_set=(X_test, y_test),\n",
    "    cat_features=cat_features,\n",
    "    verbose=False\n",
    ")\n",
    "model2.fit(\n",
    "    X_train, y_train,\n",
    "    eval_set=(X_test, y_test),\n",
    "    cat_features=cat_features,\n",
    "    verbose=False\n",
    ")\n",
    "model3.fit(\n",
    "    X_train, y_train,\n",
    "    eval_set=(X_test, y_test),\n",
    "    cat_features=cat_features,\n",
    "    verbose=False\n",
    ")\n",
    "model4.fit(\n",
    "    X_train, y_train,\n",
    "    eval_set=(X_test, y_test),\n",
    "    cat_features=cat_features,\n",
    "    verbose=False\n",
    ")\n",
    "model5.fit(\n",
    "    X_train, y_train,\n",
    "    eval_set=(X_test, y_test),\n",
    "    cat_features=cat_features,\n",
    "    verbose=False\n",
    ")\n",
    "model6.fit(\n",
    "    X_train, y_train,\n",
    "    eval_set=(X_test, y_test),\n",
    "    cat_features=cat_features,\n",
    "    verbose=False\n",
    ")"
   ]
  },
  {
   "cell_type": "code",
   "execution_count": null,
   "metadata": {
    "pycharm": {
     "name": "#%%\n"
    }
   },
   "outputs": [],
   "source": [
    "%%time\n",
    "from catboost import MetricVisualizer\n",
    "\n",
    "MetricVisualizer(['learning_rate_0.05', 'learning_rate_0.15', 'learning_rate_0.25', 'learning_rate_0.35', 'learning_rate_0.47', 'learning_rate_0.55']).start()"
   ]
  },
  {
   "cell_type": "code",
   "execution_count": null,
   "metadata": {
    "pycharm": {
     "name": "#%%\n"
    }
   },
   "outputs": [],
   "source": []
  },
  {
   "cell_type": "code",
   "execution_count": null,
   "metadata": {
    "pycharm": {
     "name": "#%%\n"
    }
   },
   "outputs": [],
   "source": []
  },
  {
   "cell_type": "markdown",
   "metadata": {
    "pycharm": {
     "name": "#%% md\n"
    }
   },
   "source": [
    "## Manual model comparison"
   ]
  },
  {
   "cell_type": "markdown",
   "metadata": {
    "pycharm": {
     "name": "#%% md\n"
    }
   },
   "source": [
    "### lr=auto"
   ]
  },
  {
   "cell_type": "code",
   "execution_count": 71,
   "metadata": {
    "pycharm": {
     "name": "#%%\n"
    }
   },
   "outputs": [],
   "source": [
    "parameters = {'cat_features': cat_features,\n",
    "              'eval_metric': 'F1',\n",
    "              'loss_function': 'Logloss',\n",
    "              'random_seed': 659,\n",
    "              'verbose': 100,\n",
    "              'auto_class_weights': 'Balanced',\n",
    "              'task_type': 'GPU',\n",
    "              'iterations': 1000,\n",
    "              'early_stopping_rounds': 300}"
   ]
  },
  {
   "cell_type": "code",
   "execution_count": 72,
   "metadata": {
    "pycharm": {
     "name": "#%%\n"
    }
   },
   "outputs": [],
   "source": [
    "model = CatBoostClassifier(**parameters)"
   ]
  },
  {
   "cell_type": "markdown",
   "metadata": {
    "pycharm": {
     "name": "#%% md\n"
    }
   },
   "source": [
    "### Обучение модели"
   ]
  },
  {
   "cell_type": "code",
   "execution_count": 73,
   "metadata": {
    "pycharm": {
     "is_executing": true,
     "name": "#%%\n"
    }
   },
   "outputs": [
    {
     "data": {
      "application/vnd.jupyter.widget-view+json": {
       "model_id": "07cd2bd70e504ad88bb4150716bf9f53",
       "version_major": 2,
       "version_minor": 0
      },
      "text/plain": [
       "MetricVisualizer(layout=Layout(align_self='stretch', height='500px'))"
      ]
     },
     "metadata": {},
     "output_type": "display_data"
    },
    {
     "name": "stdout",
     "output_type": "stream",
     "text": [
      "Learning rate set to 0.058056\n",
      "0:\tlearn: 0.6100672\ttest: 0.5636089\tbest: 0.5636089 (0)\ttotal: 39.5ms\tremaining: 39.5s\n",
      "100:\tlearn: 0.6983700\ttest: 0.6161387\tbest: 0.6190550 (98)\ttotal: 3.42s\tremaining: 30.5s\n",
      "200:\tlearn: 0.7375642\ttest: 0.6131263\tbest: 0.6194675 (107)\ttotal: 6.78s\tremaining: 26.9s\n",
      "300:\tlearn: 0.7570418\ttest: 0.6003841\tbest: 0.6194675 (107)\ttotal: 10.2s\tremaining: 23.6s\n",
      "400:\tlearn: 0.7716029\ttest: 0.5982121\tbest: 0.6194675 (107)\ttotal: 13.5s\tremaining: 20.2s\n",
      "bestTest = 0.6194674581\n",
      "bestIteration = 107\n",
      "Shrink model to first 108 iterations.\n",
      "CPU times: total: 17.7 s\n",
      "Wall time: 14.3 s\n"
     ]
    },
    {
     "data": {
      "text/plain": [
       "<catboost.core.CatBoostClassifier at 0x2412f326c50>"
      ]
     },
     "execution_count": 73,
     "metadata": {},
     "output_type": "execute_result"
    }
   ],
   "source": [
    "%%time\n",
    "model.fit(train_data, eval_set=test_data, plot=True)"
   ]
  },
  {
   "cell_type": "markdown",
   "metadata": {
    "pycharm": {
     "name": "#%% md\n"
    }
   },
   "source": [
    "### Feature importance"
   ]
  },
  {
   "cell_type": "code",
   "execution_count": 74,
   "metadata": {
    "pycharm": {
     "is_executing": true,
     "name": "#%%\n"
    }
   },
   "outputs": [
    {
     "data": {
      "text/html": [
       "<div>\n",
       "<style scoped>\n",
       "    .dataframe tbody tr th:only-of-type {\n",
       "        vertical-align: middle;\n",
       "    }\n",
       "\n",
       "    .dataframe tbody tr th {\n",
       "        vertical-align: top;\n",
       "    }\n",
       "\n",
       "    .dataframe thead th {\n",
       "        text-align: right;\n",
       "    }\n",
       "</style>\n",
       "<table border=\"1\" class=\"dataframe\">\n",
       "  <thead>\n",
       "    <tr style=\"text-align: right;\">\n",
       "      <th></th>\n",
       "      <th>Feature Id</th>\n",
       "      <th>Importances</th>\n",
       "    </tr>\n",
       "  </thead>\n",
       "  <tbody>\n",
       "    <tr>\n",
       "      <th>0</th>\n",
       "      <td>age</td>\n",
       "      <td>16.037052</td>\n",
       "    </tr>\n",
       "    <tr>\n",
       "      <th>1</th>\n",
       "      <td>gtp</td>\n",
       "      <td>15.553149</td>\n",
       "    </tr>\n",
       "    <tr>\n",
       "      <th>2</th>\n",
       "      <td>alt</td>\n",
       "      <td>11.059059</td>\n",
       "    </tr>\n",
       "    <tr>\n",
       "      <th>3</th>\n",
       "      <td>triglyceride</td>\n",
       "      <td>10.394328</td>\n",
       "    </tr>\n",
       "    <tr>\n",
       "      <th>4</th>\n",
       "      <td>hemoglobin</td>\n",
       "      <td>6.687902</td>\n",
       "    </tr>\n",
       "    <tr>\n",
       "      <th>5</th>\n",
       "      <td>ldl</td>\n",
       "      <td>6.351543</td>\n",
       "    </tr>\n",
       "    <tr>\n",
       "      <th>6</th>\n",
       "      <td>waist_cm_</td>\n",
       "      <td>5.977403</td>\n",
       "    </tr>\n",
       "    <tr>\n",
       "      <th>7</th>\n",
       "      <td>fasting_blood_sugar</td>\n",
       "      <td>4.483045</td>\n",
       "    </tr>\n",
       "    <tr>\n",
       "      <th>8</th>\n",
       "      <td>serum_creatinine</td>\n",
       "      <td>4.227178</td>\n",
       "    </tr>\n",
       "    <tr>\n",
       "      <th>9</th>\n",
       "      <td>ast</td>\n",
       "      <td>4.210789</td>\n",
       "    </tr>\n",
       "    <tr>\n",
       "      <th>10</th>\n",
       "      <td>hdl</td>\n",
       "      <td>3.845284</td>\n",
       "    </tr>\n",
       "    <tr>\n",
       "      <th>11</th>\n",
       "      <td>relaxation</td>\n",
       "      <td>3.319383</td>\n",
       "    </tr>\n",
       "    <tr>\n",
       "      <th>12</th>\n",
       "      <td>weight_kg_</td>\n",
       "      <td>3.129290</td>\n",
       "    </tr>\n",
       "    <tr>\n",
       "      <th>13</th>\n",
       "      <td>tartar</td>\n",
       "      <td>3.034181</td>\n",
       "    </tr>\n",
       "    <tr>\n",
       "      <th>14</th>\n",
       "      <td>dental_caries</td>\n",
       "      <td>1.690414</td>\n",
       "    </tr>\n",
       "  </tbody>\n",
       "</table>\n",
       "</div>"
      ],
      "text/plain": [
       "             Feature Id  Importances\n",
       "0                   age    16.037052\n",
       "1                   gtp    15.553149\n",
       "2                   alt    11.059059\n",
       "3          triglyceride    10.394328\n",
       "4            hemoglobin     6.687902\n",
       "5                   ldl     6.351543\n",
       "6             waist_cm_     5.977403\n",
       "7   fasting_blood_sugar     4.483045\n",
       "8      serum_creatinine     4.227178\n",
       "9                   ast     4.210789\n",
       "10                  hdl     3.845284\n",
       "11           relaxation     3.319383\n",
       "12           weight_kg_     3.129290\n",
       "13               tartar     3.034181\n",
       "14        dental_caries     1.690414"
      ]
     },
     "execution_count": 74,
     "metadata": {},
     "output_type": "execute_result"
    }
   ],
   "source": [
    "model.get_feature_importance(prettified=True)"
   ]
  },
  {
   "cell_type": "code",
   "execution_count": 75,
   "metadata": {
    "pycharm": {
     "is_executing": true,
     "name": "#%%\n"
    }
   },
   "outputs": [
    {
     "data": {
      "text/plain": [
       "{'iterations': 1000,\n",
       " 'loss_function': 'Logloss',\n",
       " 'random_seed': 659,\n",
       " 'verbose': 100,\n",
       " 'auto_class_weights': 'Balanced',\n",
       " 'eval_metric': 'F1',\n",
       " 'task_type': 'GPU',\n",
       " 'early_stopping_rounds': 300,\n",
       " 'cat_features': ['tartar']}"
      ]
     },
     "execution_count": 75,
     "metadata": {},
     "output_type": "execute_result"
    }
   ],
   "source": [
    "model.get_params()"
   ]
  },
  {
   "cell_type": "code",
   "execution_count": 76,
   "metadata": {
    "pycharm": {
     "is_executing": true,
     "name": "#%%\n"
    }
   },
   "outputs": [
    {
     "data": {
      "text/plain": [
       "{'nan_mode': 'Min',\n",
       " 'gpu_ram_part': 0.95,\n",
       " 'eval_metric': 'F1',\n",
       " 'combinations_ctr': ['Borders:CtrBorderCount=15:CtrBorderType=Uniform:TargetBorderCount=1:TargetBorderType=MinEntropy:Prior=0/1:Prior=0.5/1:Prior=1/1',\n",
       "  'FeatureFreq:CtrBorderCount=15:CtrBorderType=Median:Prior=0/1'],\n",
       " 'iterations': 1000,\n",
       " 'fold_permutation_block': 64,\n",
       " 'leaf_estimation_method': 'Newton',\n",
       " 'observations_to_bootstrap': 'TestOnly',\n",
       " 'od_pval': 0,\n",
       " 'counter_calc_method': 'SkipTest',\n",
       " 'grow_policy': 'SymmetricTree',\n",
       " 'penalties_coefficient': 1,\n",
       " 'boosting_type': 'Ordered',\n",
       " 'ctr_history_unit': 'Sample',\n",
       " 'feature_border_type': 'GreedyLogSum',\n",
       " 'bayesian_matrix_reg': 0.10000000149011612,\n",
       " 'one_hot_max_size': 2,\n",
       " 'devices': '-1',\n",
       " 'eval_fraction': 0,\n",
       " 'pinned_memory_bytes': '104857600',\n",
       " 'force_unit_auto_pair_weights': False,\n",
       " 'l2_leaf_reg': 3,\n",
       " 'random_strength': 1,\n",
       " 'od_type': 'Iter',\n",
       " 'rsm': 1,\n",
       " 'boost_from_average': False,\n",
       " 'gpu_cat_features_storage': 'GpuRam',\n",
       " 'fold_size_loss_normalization': False,\n",
       " 'max_ctr_complexity': 4,\n",
       " 'model_size_reg': 0.5,\n",
       " 'simple_ctr': ['Borders:CtrBorderCount=15:CtrBorderType=Uniform:TargetBorderCount=1:TargetBorderType=MinEntropy:Prior=0/1:Prior=0.5/1:Prior=1/1',\n",
       "  'FeatureFreq:CtrBorderCount=15:CtrBorderType=MinEntropy:Prior=0/1'],\n",
       " 'pool_metainfo_options': {'tags': {}},\n",
       " 'use_best_model': True,\n",
       " 'meta_l2_frequency': 0,\n",
       " 'od_wait': 300,\n",
       " 'class_names': [0, 1],\n",
       " 'random_seed': 659,\n",
       " 'depth': 6,\n",
       " 'ctr_target_border_count': 1,\n",
       " 'has_time': False,\n",
       " 'fold_len_multiplier': 2,\n",
       " 'border_count': 128,\n",
       " 'min_fold_size': 100,\n",
       " 'class_weights': [1, 3.933899164199829],\n",
       " 'data_partition': 'FeatureParallel',\n",
       " 'bagging_temperature': 1,\n",
       " 'classes_count': 0,\n",
       " 'auto_class_weights': 'Balanced',\n",
       " 'leaf_estimation_backtracking': 'AnyImprovement',\n",
       " 'best_model_min_trees': 1,\n",
       " 'min_data_in_leaf': 1,\n",
       " 'add_ridge_penalty_to_loss_function': False,\n",
       " 'loss_function': 'Logloss',\n",
       " 'learning_rate': 0.05805600062012672,\n",
       " 'meta_l2_exponent': 1,\n",
       " 'score_function': 'Cosine',\n",
       " 'task_type': 'GPU',\n",
       " 'leaf_estimation_iterations': 10,\n",
       " 'bootstrap_type': 'Bayesian',\n",
       " 'max_leaves': 64,\n",
       " 'permutation_count': 4}"
      ]
     },
     "execution_count": 76,
     "metadata": {},
     "output_type": "execute_result"
    }
   ],
   "source": [
    "model.get_all_params()"
   ]
  },
  {
   "cell_type": "markdown",
   "metadata": {
    "pycharm": {
     "name": "#%% md\n"
    }
   },
   "source": [
    "### lr=0.01"
   ]
  },
  {
   "cell_type": "code",
   "execution_count": 77,
   "metadata": {
    "pycharm": {
     "is_executing": true,
     "name": "#%%\n"
    }
   },
   "outputs": [],
   "source": [
    "parameters = {'cat_features': cat_features,\n",
    "              'eval_metric': 'F1',\n",
    "              'loss_function': 'Logloss',\n",
    "              'random_seed': 659,\n",
    "              'verbose': 100,\n",
    "              'auto_class_weights': 'Balanced',\n",
    "              'task_type': 'GPU',\n",
    "              'iterations': 1000,\n",
    "              'learning_rate': 0.01,\n",
    "              'early_stopping_rounds': 300}"
   ]
  },
  {
   "cell_type": "code",
   "execution_count": 78,
   "metadata": {
    "pycharm": {
     "is_executing": true,
     "name": "#%%\n"
    }
   },
   "outputs": [],
   "source": [
    "model = CatBoostClassifier(**parameters)"
   ]
  },
  {
   "cell_type": "code",
   "execution_count": 79,
   "metadata": {
    "pycharm": {
     "is_executing": true,
     "name": "#%%\n"
    }
   },
   "outputs": [
    {
     "data": {
      "application/vnd.jupyter.widget-view+json": {
       "model_id": "bf4ff3d69bd04d9786b736c64f9cd8a3",
       "version_major": 2,
       "version_minor": 0
      },
      "text/plain": [
       "MetricVisualizer(layout=Layout(align_self='stretch', height='500px'))"
      ]
     },
     "metadata": {},
     "output_type": "display_data"
    },
    {
     "name": "stdout",
     "output_type": "stream",
     "text": [
      "0:\tlearn: 0.6100672\ttest: 0.5636089\tbest: 0.5636089 (0)\ttotal: 37.2ms\tremaining: 37.2s\n",
      "100:\tlearn: 0.6471835\ttest: 0.6041625\tbest: 0.6041625 (100)\ttotal: 3.49s\tremaining: 31s\n",
      "200:\tlearn: 0.6652268\ttest: 0.6041625\tbest: 0.6053266 (197)\ttotal: 6.87s\tremaining: 27.3s\n",
      "300:\tlearn: 0.6775523\ttest: 0.6083697\tbest: 0.6086611 (292)\ttotal: 10.3s\tremaining: 24s\n",
      "400:\tlearn: 0.6867545\ttest: 0.6120096\tbest: 0.6120096 (400)\ttotal: 13.7s\tremaining: 20.4s\n",
      "500:\tlearn: 0.6968433\ttest: 0.6051533\tbest: 0.6125960 (431)\ttotal: 17.2s\tremaining: 17.1s\n",
      "600:\tlearn: 0.7039240\ttest: 0.6107089\tbest: 0.6125960 (431)\ttotal: 20.6s\tremaining: 13.7s\n",
      "700:\tlearn: 0.7079073\ttest: 0.6129183\tbest: 0.6142331 (672)\ttotal: 24s\tremaining: 10.2s\n",
      "800:\tlearn: 0.7125826\ttest: 0.6135102\tbest: 0.6148257 (711)\ttotal: 27.3s\tremaining: 6.78s\n",
      "900:\tlearn: 0.7170467\ttest: 0.6124882\tbest: 0.6167331 (856)\ttotal: 30.6s\tremaining: 3.36s\n",
      "999:\tlearn: 0.7226363\ttest: 0.6051135\tbest: 0.6167331 (856)\ttotal: 33.9s\tremaining: 0us\n",
      "bestTest = 0.6167331055\n",
      "bestIteration = 856\n",
      "Shrink model to first 857 iterations.\n",
      "CPU times: total: 43.2 s\n",
      "Wall time: 34.3 s\n"
     ]
    },
    {
     "data": {
      "text/plain": [
       "<catboost.core.CatBoostClassifier at 0x2412f3265c0>"
      ]
     },
     "execution_count": 79,
     "metadata": {},
     "output_type": "execute_result"
    }
   ],
   "source": [
    "%%time\n",
    "model.fit(train_data, eval_set=test_data, plot=True)"
   ]
  },
  {
   "cell_type": "code",
   "execution_count": 80,
   "metadata": {
    "pycharm": {
     "is_executing": true,
     "name": "#%%\n"
    }
   },
   "outputs": [
    {
     "data": {
      "text/html": [
       "<div>\n",
       "<style scoped>\n",
       "    .dataframe tbody tr th:only-of-type {\n",
       "        vertical-align: middle;\n",
       "    }\n",
       "\n",
       "    .dataframe tbody tr th {\n",
       "        vertical-align: top;\n",
       "    }\n",
       "\n",
       "    .dataframe thead th {\n",
       "        text-align: right;\n",
       "    }\n",
       "</style>\n",
       "<table border=\"1\" class=\"dataframe\">\n",
       "  <thead>\n",
       "    <tr style=\"text-align: right;\">\n",
       "      <th></th>\n",
       "      <th>Feature Id</th>\n",
       "      <th>Importances</th>\n",
       "    </tr>\n",
       "  </thead>\n",
       "  <tbody>\n",
       "    <tr>\n",
       "      <th>0</th>\n",
       "      <td>age</td>\n",
       "      <td>15.236280</td>\n",
       "    </tr>\n",
       "    <tr>\n",
       "      <th>1</th>\n",
       "      <td>gtp</td>\n",
       "      <td>14.226315</td>\n",
       "    </tr>\n",
       "    <tr>\n",
       "      <th>2</th>\n",
       "      <td>alt</td>\n",
       "      <td>10.535922</td>\n",
       "    </tr>\n",
       "    <tr>\n",
       "      <th>3</th>\n",
       "      <td>triglyceride</td>\n",
       "      <td>10.037748</td>\n",
       "    </tr>\n",
       "    <tr>\n",
       "      <th>4</th>\n",
       "      <td>hemoglobin</td>\n",
       "      <td>7.408387</td>\n",
       "    </tr>\n",
       "    <tr>\n",
       "      <th>5</th>\n",
       "      <td>ldl</td>\n",
       "      <td>7.194539</td>\n",
       "    </tr>\n",
       "    <tr>\n",
       "      <th>6</th>\n",
       "      <td>waist_cm_</td>\n",
       "      <td>5.555885</td>\n",
       "    </tr>\n",
       "    <tr>\n",
       "      <th>7</th>\n",
       "      <td>ast</td>\n",
       "      <td>5.118216</td>\n",
       "    </tr>\n",
       "    <tr>\n",
       "      <th>8</th>\n",
       "      <td>hdl</td>\n",
       "      <td>4.722736</td>\n",
       "    </tr>\n",
       "    <tr>\n",
       "      <th>9</th>\n",
       "      <td>relaxation</td>\n",
       "      <td>4.671379</td>\n",
       "    </tr>\n",
       "    <tr>\n",
       "      <th>10</th>\n",
       "      <td>serum_creatinine</td>\n",
       "      <td>3.963033</td>\n",
       "    </tr>\n",
       "    <tr>\n",
       "      <th>11</th>\n",
       "      <td>fasting_blood_sugar</td>\n",
       "      <td>3.840094</td>\n",
       "    </tr>\n",
       "    <tr>\n",
       "      <th>12</th>\n",
       "      <td>weight_kg_</td>\n",
       "      <td>2.916135</td>\n",
       "    </tr>\n",
       "    <tr>\n",
       "      <th>13</th>\n",
       "      <td>tartar</td>\n",
       "      <td>2.642969</td>\n",
       "    </tr>\n",
       "    <tr>\n",
       "      <th>14</th>\n",
       "      <td>dental_caries</td>\n",
       "      <td>1.930361</td>\n",
       "    </tr>\n",
       "  </tbody>\n",
       "</table>\n",
       "</div>"
      ],
      "text/plain": [
       "             Feature Id  Importances\n",
       "0                   age    15.236280\n",
       "1                   gtp    14.226315\n",
       "2                   alt    10.535922\n",
       "3          triglyceride    10.037748\n",
       "4            hemoglobin     7.408387\n",
       "5                   ldl     7.194539\n",
       "6             waist_cm_     5.555885\n",
       "7                   ast     5.118216\n",
       "8                   hdl     4.722736\n",
       "9            relaxation     4.671379\n",
       "10     serum_creatinine     3.963033\n",
       "11  fasting_blood_sugar     3.840094\n",
       "12           weight_kg_     2.916135\n",
       "13               tartar     2.642969\n",
       "14        dental_caries     1.930361"
      ]
     },
     "execution_count": 80,
     "metadata": {},
     "output_type": "execute_result"
    }
   ],
   "source": [
    "model.get_feature_importance(prettified=True)"
   ]
  },
  {
   "cell_type": "code",
   "execution_count": 81,
   "metadata": {
    "pycharm": {
     "is_executing": true,
     "name": "#%%\n"
    }
   },
   "outputs": [
    {
     "data": {
      "text/plain": [
       "{'iterations': 1000,\n",
       " 'learning_rate': 0.01,\n",
       " 'loss_function': 'Logloss',\n",
       " 'random_seed': 659,\n",
       " 'verbose': 100,\n",
       " 'auto_class_weights': 'Balanced',\n",
       " 'eval_metric': 'F1',\n",
       " 'task_type': 'GPU',\n",
       " 'early_stopping_rounds': 300,\n",
       " 'cat_features': ['tartar']}"
      ]
     },
     "execution_count": 81,
     "metadata": {},
     "output_type": "execute_result"
    }
   ],
   "source": [
    "model.get_params()"
   ]
  },
  {
   "cell_type": "code",
   "execution_count": 82,
   "metadata": {
    "pycharm": {
     "is_executing": true,
     "name": "#%%\n"
    }
   },
   "outputs": [
    {
     "data": {
      "text/plain": [
       "{'nan_mode': 'Min',\n",
       " 'gpu_ram_part': 0.95,\n",
       " 'eval_metric': 'F1',\n",
       " 'combinations_ctr': ['Borders:CtrBorderCount=15:CtrBorderType=Uniform:TargetBorderCount=1:TargetBorderType=MinEntropy:Prior=0/1:Prior=0.5/1:Prior=1/1',\n",
       "  'FeatureFreq:CtrBorderCount=15:CtrBorderType=Median:Prior=0/1'],\n",
       " 'iterations': 1000,\n",
       " 'fold_permutation_block': 64,\n",
       " 'leaf_estimation_method': 'Newton',\n",
       " 'observations_to_bootstrap': 'TestOnly',\n",
       " 'od_pval': 0,\n",
       " 'counter_calc_method': 'SkipTest',\n",
       " 'grow_policy': 'SymmetricTree',\n",
       " 'penalties_coefficient': 1,\n",
       " 'boosting_type': 'Ordered',\n",
       " 'ctr_history_unit': 'Sample',\n",
       " 'feature_border_type': 'GreedyLogSum',\n",
       " 'bayesian_matrix_reg': 0.10000000149011612,\n",
       " 'one_hot_max_size': 2,\n",
       " 'devices': '-1',\n",
       " 'eval_fraction': 0,\n",
       " 'pinned_memory_bytes': '104857600',\n",
       " 'force_unit_auto_pair_weights': False,\n",
       " 'l2_leaf_reg': 3,\n",
       " 'random_strength': 1,\n",
       " 'od_type': 'Iter',\n",
       " 'rsm': 1,\n",
       " 'boost_from_average': False,\n",
       " 'gpu_cat_features_storage': 'GpuRam',\n",
       " 'fold_size_loss_normalization': False,\n",
       " 'max_ctr_complexity': 4,\n",
       " 'model_size_reg': 0.5,\n",
       " 'simple_ctr': ['Borders:CtrBorderCount=15:CtrBorderType=Uniform:TargetBorderCount=1:TargetBorderType=MinEntropy:Prior=0/1:Prior=0.5/1:Prior=1/1',\n",
       "  'FeatureFreq:CtrBorderCount=15:CtrBorderType=MinEntropy:Prior=0/1'],\n",
       " 'pool_metainfo_options': {'tags': {}},\n",
       " 'use_best_model': True,\n",
       " 'meta_l2_frequency': 0,\n",
       " 'od_wait': 300,\n",
       " 'class_names': [0, 1],\n",
       " 'random_seed': 659,\n",
       " 'depth': 6,\n",
       " 'ctr_target_border_count': 1,\n",
       " 'has_time': False,\n",
       " 'fold_len_multiplier': 2,\n",
       " 'border_count': 128,\n",
       " 'min_fold_size': 100,\n",
       " 'class_weights': [1, 3.933899164199829],\n",
       " 'data_partition': 'FeatureParallel',\n",
       " 'bagging_temperature': 1,\n",
       " 'classes_count': 0,\n",
       " 'auto_class_weights': 'Balanced',\n",
       " 'leaf_estimation_backtracking': 'AnyImprovement',\n",
       " 'best_model_min_trees': 1,\n",
       " 'min_data_in_leaf': 1,\n",
       " 'add_ridge_penalty_to_loss_function': False,\n",
       " 'loss_function': 'Logloss',\n",
       " 'learning_rate': 0.009999999776482582,\n",
       " 'meta_l2_exponent': 1,\n",
       " 'score_function': 'Cosine',\n",
       " 'task_type': 'GPU',\n",
       " 'leaf_estimation_iterations': 10,\n",
       " 'bootstrap_type': 'Bayesian',\n",
       " 'max_leaves': 64,\n",
       " 'permutation_count': 4}"
      ]
     },
     "execution_count": 82,
     "metadata": {},
     "output_type": "execute_result"
    }
   ],
   "source": [
    "model.get_all_params()"
   ]
  },
  {
   "cell_type": "markdown",
   "metadata": {
    "pycharm": {
     "name": "#%% md\n"
    }
   },
   "source": [
    "### lr=0.02"
   ]
  },
  {
   "cell_type": "code",
   "execution_count": 83,
   "metadata": {
    "pycharm": {
     "is_executing": true,
     "name": "#%%\n"
    }
   },
   "outputs": [],
   "source": [
    "parameters = {'cat_features': cat_features,\n",
    "              'eval_metric': 'F1',\n",
    "              'loss_function': 'Logloss',\n",
    "              'random_seed': 659,\n",
    "              'verbose': 100,\n",
    "              'auto_class_weights': 'Balanced',\n",
    "              'task_type': 'GPU',\n",
    "              'iterations': 1000,\n",
    "              'learning_rate': 0.02,\n",
    "              'early_stopping_rounds': 300}"
   ]
  },
  {
   "cell_type": "code",
   "execution_count": 84,
   "metadata": {
    "pycharm": {
     "is_executing": true,
     "name": "#%%\n"
    }
   },
   "outputs": [],
   "source": [
    "model = CatBoostClassifier(**parameters)"
   ]
  },
  {
   "cell_type": "code",
   "execution_count": 85,
   "metadata": {
    "pycharm": {
     "is_executing": true,
     "name": "#%%\n"
    }
   },
   "outputs": [
    {
     "data": {
      "application/vnd.jupyter.widget-view+json": {
       "model_id": "21397d14eac641d2bf63a5d9aa8ff409",
       "version_major": 2,
       "version_minor": 0
      },
      "text/plain": [
       "MetricVisualizer(layout=Layout(align_self='stretch', height='500px'))"
      ]
     },
     "metadata": {},
     "output_type": "display_data"
    },
    {
     "name": "stdout",
     "output_type": "stream",
     "text": [
      "0:\tlearn: 0.6100672\ttest: 0.5636089\tbest: 0.5636089 (0)\ttotal: 39.4ms\tremaining: 39.3s\n",
      "100:\tlearn: 0.6655623\ttest: 0.5960802\tbest: 0.6027252 (47)\ttotal: 3.46s\tremaining: 30.8s\n",
      "200:\tlearn: 0.6910867\ttest: 0.6039784\tbest: 0.6089528 (177)\ttotal: 6.84s\tremaining: 27.2s\n",
      "300:\tlearn: 0.7041325\ttest: 0.6058738\tbest: 0.6096876 (268)\ttotal: 10.2s\tremaining: 23.8s\n",
      "400:\tlearn: 0.7121107\ttest: 0.6101337\tbest: 0.6127705 (399)\ttotal: 13.6s\tremaining: 20.4s\n",
      "500:\tlearn: 0.7208840\ttest: 0.6070422\tbest: 0.6127705 (399)\ttotal: 17.1s\tremaining: 17s\n",
      "600:\tlearn: 0.7287319\ttest: 0.6105905\tbest: 0.6127705 (399)\ttotal: 20.5s\tremaining: 13.6s\n",
      "bestTest = 0.6127704915\n",
      "bestIteration = 399\n",
      "Shrink model to first 400 iterations.\n",
      "CPU times: total: 30.9 s\n",
      "Wall time: 24.7 s\n"
     ]
    },
    {
     "data": {
      "text/plain": [
       "<catboost.core.CatBoostClassifier at 0x2412f326a70>"
      ]
     },
     "execution_count": 85,
     "metadata": {},
     "output_type": "execute_result"
    }
   ],
   "source": [
    "%%time\n",
    "model.fit(train_data, eval_set=test_data, plot=True)"
   ]
  },
  {
   "cell_type": "code",
   "execution_count": 86,
   "metadata": {
    "pycharm": {
     "is_executing": true,
     "name": "#%%\n"
    }
   },
   "outputs": [
    {
     "data": {
      "text/html": [
       "<div>\n",
       "<style scoped>\n",
       "    .dataframe tbody tr th:only-of-type {\n",
       "        vertical-align: middle;\n",
       "    }\n",
       "\n",
       "    .dataframe tbody tr th {\n",
       "        vertical-align: top;\n",
       "    }\n",
       "\n",
       "    .dataframe thead th {\n",
       "        text-align: right;\n",
       "    }\n",
       "</style>\n",
       "<table border=\"1\" class=\"dataframe\">\n",
       "  <thead>\n",
       "    <tr style=\"text-align: right;\">\n",
       "      <th></th>\n",
       "      <th>Feature Id</th>\n",
       "      <th>Importances</th>\n",
       "    </tr>\n",
       "  </thead>\n",
       "  <tbody>\n",
       "    <tr>\n",
       "      <th>0</th>\n",
       "      <td>age</td>\n",
       "      <td>15.763667</td>\n",
       "    </tr>\n",
       "    <tr>\n",
       "      <th>1</th>\n",
       "      <td>gtp</td>\n",
       "      <td>14.366971</td>\n",
       "    </tr>\n",
       "    <tr>\n",
       "      <th>2</th>\n",
       "      <td>alt</td>\n",
       "      <td>10.210375</td>\n",
       "    </tr>\n",
       "    <tr>\n",
       "      <th>3</th>\n",
       "      <td>triglyceride</td>\n",
       "      <td>10.012020</td>\n",
       "    </tr>\n",
       "    <tr>\n",
       "      <th>4</th>\n",
       "      <td>hemoglobin</td>\n",
       "      <td>7.223350</td>\n",
       "    </tr>\n",
       "    <tr>\n",
       "      <th>5</th>\n",
       "      <td>ldl</td>\n",
       "      <td>6.830582</td>\n",
       "    </tr>\n",
       "    <tr>\n",
       "      <th>6</th>\n",
       "      <td>waist_cm_</td>\n",
       "      <td>5.577923</td>\n",
       "    </tr>\n",
       "    <tr>\n",
       "      <th>7</th>\n",
       "      <td>ast</td>\n",
       "      <td>5.257739</td>\n",
       "    </tr>\n",
       "    <tr>\n",
       "      <th>8</th>\n",
       "      <td>hdl</td>\n",
       "      <td>4.652249</td>\n",
       "    </tr>\n",
       "    <tr>\n",
       "      <th>9</th>\n",
       "      <td>relaxation</td>\n",
       "      <td>4.532732</td>\n",
       "    </tr>\n",
       "    <tr>\n",
       "      <th>10</th>\n",
       "      <td>fasting_blood_sugar</td>\n",
       "      <td>3.941883</td>\n",
       "    </tr>\n",
       "    <tr>\n",
       "      <th>11</th>\n",
       "      <td>serum_creatinine</td>\n",
       "      <td>3.935977</td>\n",
       "    </tr>\n",
       "    <tr>\n",
       "      <th>12</th>\n",
       "      <td>weight_kg_</td>\n",
       "      <td>3.082596</td>\n",
       "    </tr>\n",
       "    <tr>\n",
       "      <th>13</th>\n",
       "      <td>tartar</td>\n",
       "      <td>2.375760</td>\n",
       "    </tr>\n",
       "    <tr>\n",
       "      <th>14</th>\n",
       "      <td>dental_caries</td>\n",
       "      <td>2.236177</td>\n",
       "    </tr>\n",
       "  </tbody>\n",
       "</table>\n",
       "</div>"
      ],
      "text/plain": [
       "             Feature Id  Importances\n",
       "0                   age    15.763667\n",
       "1                   gtp    14.366971\n",
       "2                   alt    10.210375\n",
       "3          triglyceride    10.012020\n",
       "4            hemoglobin     7.223350\n",
       "5                   ldl     6.830582\n",
       "6             waist_cm_     5.577923\n",
       "7                   ast     5.257739\n",
       "8                   hdl     4.652249\n",
       "9            relaxation     4.532732\n",
       "10  fasting_blood_sugar     3.941883\n",
       "11     serum_creatinine     3.935977\n",
       "12           weight_kg_     3.082596\n",
       "13               tartar     2.375760\n",
       "14        dental_caries     2.236177"
      ]
     },
     "execution_count": 86,
     "metadata": {},
     "output_type": "execute_result"
    }
   ],
   "source": [
    "model.get_feature_importance(prettified=True)"
   ]
  },
  {
   "cell_type": "code",
   "execution_count": 87,
   "metadata": {
    "pycharm": {
     "is_executing": true,
     "name": "#%%\n"
    }
   },
   "outputs": [
    {
     "data": {
      "text/plain": [
       "{'iterations': 1000,\n",
       " 'learning_rate': 0.02,\n",
       " 'loss_function': 'Logloss',\n",
       " 'random_seed': 659,\n",
       " 'verbose': 100,\n",
       " 'auto_class_weights': 'Balanced',\n",
       " 'eval_metric': 'F1',\n",
       " 'task_type': 'GPU',\n",
       " 'early_stopping_rounds': 300,\n",
       " 'cat_features': ['tartar']}"
      ]
     },
     "execution_count": 87,
     "metadata": {},
     "output_type": "execute_result"
    }
   ],
   "source": [
    "model.get_params()"
   ]
  },
  {
   "cell_type": "code",
   "execution_count": 88,
   "metadata": {
    "pycharm": {
     "is_executing": true,
     "name": "#%%\n"
    }
   },
   "outputs": [
    {
     "data": {
      "text/plain": [
       "{'nan_mode': 'Min',\n",
       " 'gpu_ram_part': 0.95,\n",
       " 'eval_metric': 'F1',\n",
       " 'combinations_ctr': ['Borders:CtrBorderCount=15:CtrBorderType=Uniform:TargetBorderCount=1:TargetBorderType=MinEntropy:Prior=0/1:Prior=0.5/1:Prior=1/1',\n",
       "  'FeatureFreq:CtrBorderCount=15:CtrBorderType=Median:Prior=0/1'],\n",
       " 'iterations': 1000,\n",
       " 'fold_permutation_block': 64,\n",
       " 'leaf_estimation_method': 'Newton',\n",
       " 'observations_to_bootstrap': 'TestOnly',\n",
       " 'od_pval': 0,\n",
       " 'counter_calc_method': 'SkipTest',\n",
       " 'grow_policy': 'SymmetricTree',\n",
       " 'penalties_coefficient': 1,\n",
       " 'boosting_type': 'Ordered',\n",
       " 'ctr_history_unit': 'Sample',\n",
       " 'feature_border_type': 'GreedyLogSum',\n",
       " 'bayesian_matrix_reg': 0.10000000149011612,\n",
       " 'one_hot_max_size': 2,\n",
       " 'devices': '-1',\n",
       " 'eval_fraction': 0,\n",
       " 'pinned_memory_bytes': '104857600',\n",
       " 'force_unit_auto_pair_weights': False,\n",
       " 'l2_leaf_reg': 3,\n",
       " 'random_strength': 1,\n",
       " 'od_type': 'Iter',\n",
       " 'rsm': 1,\n",
       " 'boost_from_average': False,\n",
       " 'gpu_cat_features_storage': 'GpuRam',\n",
       " 'fold_size_loss_normalization': False,\n",
       " 'max_ctr_complexity': 4,\n",
       " 'model_size_reg': 0.5,\n",
       " 'simple_ctr': ['Borders:CtrBorderCount=15:CtrBorderType=Uniform:TargetBorderCount=1:TargetBorderType=MinEntropy:Prior=0/1:Prior=0.5/1:Prior=1/1',\n",
       "  'FeatureFreq:CtrBorderCount=15:CtrBorderType=MinEntropy:Prior=0/1'],\n",
       " 'pool_metainfo_options': {'tags': {}},\n",
       " 'use_best_model': True,\n",
       " 'meta_l2_frequency': 0,\n",
       " 'od_wait': 300,\n",
       " 'class_names': [0, 1],\n",
       " 'random_seed': 659,\n",
       " 'depth': 6,\n",
       " 'ctr_target_border_count': 1,\n",
       " 'has_time': False,\n",
       " 'fold_len_multiplier': 2,\n",
       " 'border_count': 128,\n",
       " 'min_fold_size': 100,\n",
       " 'class_weights': [1, 3.933899164199829],\n",
       " 'data_partition': 'FeatureParallel',\n",
       " 'bagging_temperature': 1,\n",
       " 'classes_count': 0,\n",
       " 'auto_class_weights': 'Balanced',\n",
       " 'leaf_estimation_backtracking': 'AnyImprovement',\n",
       " 'best_model_min_trees': 1,\n",
       " 'min_data_in_leaf': 1,\n",
       " 'add_ridge_penalty_to_loss_function': False,\n",
       " 'loss_function': 'Logloss',\n",
       " 'learning_rate': 0.019999999552965164,\n",
       " 'meta_l2_exponent': 1,\n",
       " 'score_function': 'Cosine',\n",
       " 'task_type': 'GPU',\n",
       " 'leaf_estimation_iterations': 10,\n",
       " 'bootstrap_type': 'Bayesian',\n",
       " 'max_leaves': 64,\n",
       " 'permutation_count': 4}"
      ]
     },
     "execution_count": 88,
     "metadata": {},
     "output_type": "execute_result"
    }
   ],
   "source": [
    "model.get_all_params()"
   ]
  },
  {
   "cell_type": "markdown",
   "metadata": {
    "pycharm": {
     "name": "#%% md\n"
    }
   },
   "source": [
    "### lr=0.03"
   ]
  },
  {
   "cell_type": "code",
   "execution_count": 89,
   "metadata": {
    "pycharm": {
     "is_executing": true,
     "name": "#%%\n"
    }
   },
   "outputs": [],
   "source": [
    "parameters = {'cat_features': cat_features,\n",
    "              'eval_metric': 'F1',\n",
    "              'loss_function': 'Logloss',\n",
    "              'random_seed': 659,\n",
    "              'verbose': 100,\n",
    "              'auto_class_weights': 'Balanced',\n",
    "              'task_type': 'GPU',\n",
    "              'iterations': 1000,\n",
    "              'learning_rate': 0.03,\n",
    "              'early_stopping_rounds': 300}"
   ]
  },
  {
   "cell_type": "code",
   "execution_count": 90,
   "metadata": {
    "pycharm": {
     "is_executing": true,
     "name": "#%%\n"
    }
   },
   "outputs": [],
   "source": [
    "model = CatBoostClassifier(**parameters)"
   ]
  },
  {
   "cell_type": "code",
   "execution_count": 91,
   "metadata": {
    "pycharm": {
     "is_executing": true,
     "name": "#%%\n"
    }
   },
   "outputs": [
    {
     "data": {
      "application/vnd.jupyter.widget-view+json": {
       "model_id": "40f747ae3c9646d690d982fe76293514",
       "version_major": 2,
       "version_minor": 0
      },
      "text/plain": [
       "MetricVisualizer(layout=Layout(align_self='stretch', height='500px'))"
      ]
     },
     "metadata": {},
     "output_type": "display_data"
    },
    {
     "name": "stdout",
     "output_type": "stream",
     "text": [
      "0:\tlearn: 0.6100672\ttest: 0.5636089\tbest: 0.5636089 (0)\ttotal: 37.1ms\tremaining: 37.1s\n",
      "100:\tlearn: 0.6793141\ttest: 0.5989905\tbest: 0.6028349 (67)\ttotal: 3.67s\tremaining: 32.7s\n",
      "200:\tlearn: 0.7035233\ttest: 0.6030751\tbest: 0.6080771 (184)\ttotal: 7.13s\tremaining: 28.3s\n",
      "300:\tlearn: 0.7148385\ttest: 0.6096962\tbest: 0.6123401 (297)\ttotal: 10.4s\tremaining: 24.2s\n",
      "400:\tlearn: 0.7253721\ttest: 0.6098439\tbest: 0.6152708 (381)\ttotal: 13.7s\tremaining: 20.5s\n",
      "500:\tlearn: 0.7418561\ttest: 0.6070302\tbest: 0.6152708 (381)\ttotal: 17s\tremaining: 17s\n",
      "600:\tlearn: 0.7512231\ttest: 0.6083715\tbest: 0.6152708 (381)\ttotal: 20.4s\tremaining: 13.5s\n",
      "bestTest = 0.6152708489\n",
      "bestIteration = 381\n",
      "Shrink model to first 382 iterations.\n",
      "CPU times: total: 30 s\n",
      "Wall time: 23.4 s\n"
     ]
    },
    {
     "data": {
      "text/plain": [
       "<catboost.core.CatBoostClassifier at 0x2412de0ea40>"
      ]
     },
     "execution_count": 91,
     "metadata": {},
     "output_type": "execute_result"
    }
   ],
   "source": [
    "%%time\n",
    "model.fit(train_data, eval_set=test_data, plot=True)"
   ]
  },
  {
   "cell_type": "code",
   "execution_count": 92,
   "metadata": {
    "pycharm": {
     "is_executing": true,
     "name": "#%%\n"
    }
   },
   "outputs": [
    {
     "data": {
      "text/html": [
       "<div>\n",
       "<style scoped>\n",
       "    .dataframe tbody tr th:only-of-type {\n",
       "        vertical-align: middle;\n",
       "    }\n",
       "\n",
       "    .dataframe tbody tr th {\n",
       "        vertical-align: top;\n",
       "    }\n",
       "\n",
       "    .dataframe thead th {\n",
       "        text-align: right;\n",
       "    }\n",
       "</style>\n",
       "<table border=\"1\" class=\"dataframe\">\n",
       "  <thead>\n",
       "    <tr style=\"text-align: right;\">\n",
       "      <th></th>\n",
       "      <th>Feature Id</th>\n",
       "      <th>Importances</th>\n",
       "    </tr>\n",
       "  </thead>\n",
       "  <tbody>\n",
       "    <tr>\n",
       "      <th>0</th>\n",
       "      <td>gtp</td>\n",
       "      <td>14.353309</td>\n",
       "    </tr>\n",
       "    <tr>\n",
       "      <th>1</th>\n",
       "      <td>age</td>\n",
       "      <td>14.332729</td>\n",
       "    </tr>\n",
       "    <tr>\n",
       "      <th>2</th>\n",
       "      <td>alt</td>\n",
       "      <td>10.783822</td>\n",
       "    </tr>\n",
       "    <tr>\n",
       "      <th>3</th>\n",
       "      <td>triglyceride</td>\n",
       "      <td>9.977509</td>\n",
       "    </tr>\n",
       "    <tr>\n",
       "      <th>4</th>\n",
       "      <td>hemoglobin</td>\n",
       "      <td>7.704823</td>\n",
       "    </tr>\n",
       "    <tr>\n",
       "      <th>5</th>\n",
       "      <td>ldl</td>\n",
       "      <td>7.603232</td>\n",
       "    </tr>\n",
       "    <tr>\n",
       "      <th>6</th>\n",
       "      <td>hdl</td>\n",
       "      <td>5.549269</td>\n",
       "    </tr>\n",
       "    <tr>\n",
       "      <th>7</th>\n",
       "      <td>waist_cm_</td>\n",
       "      <td>5.370824</td>\n",
       "    </tr>\n",
       "    <tr>\n",
       "      <th>8</th>\n",
       "      <td>relaxation</td>\n",
       "      <td>4.768168</td>\n",
       "    </tr>\n",
       "    <tr>\n",
       "      <th>9</th>\n",
       "      <td>ast</td>\n",
       "      <td>4.760037</td>\n",
       "    </tr>\n",
       "    <tr>\n",
       "      <th>10</th>\n",
       "      <td>fasting_blood_sugar</td>\n",
       "      <td>3.966750</td>\n",
       "    </tr>\n",
       "    <tr>\n",
       "      <th>11</th>\n",
       "      <td>serum_creatinine</td>\n",
       "      <td>3.800086</td>\n",
       "    </tr>\n",
       "    <tr>\n",
       "      <th>12</th>\n",
       "      <td>weight_kg_</td>\n",
       "      <td>2.896797</td>\n",
       "    </tr>\n",
       "    <tr>\n",
       "      <th>13</th>\n",
       "      <td>tartar</td>\n",
       "      <td>2.262015</td>\n",
       "    </tr>\n",
       "    <tr>\n",
       "      <th>14</th>\n",
       "      <td>dental_caries</td>\n",
       "      <td>1.870630</td>\n",
       "    </tr>\n",
       "  </tbody>\n",
       "</table>\n",
       "</div>"
      ],
      "text/plain": [
       "             Feature Id  Importances\n",
       "0                   gtp    14.353309\n",
       "1                   age    14.332729\n",
       "2                   alt    10.783822\n",
       "3          triglyceride     9.977509\n",
       "4            hemoglobin     7.704823\n",
       "5                   ldl     7.603232\n",
       "6                   hdl     5.549269\n",
       "7             waist_cm_     5.370824\n",
       "8            relaxation     4.768168\n",
       "9                   ast     4.760037\n",
       "10  fasting_blood_sugar     3.966750\n",
       "11     serum_creatinine     3.800086\n",
       "12           weight_kg_     2.896797\n",
       "13               tartar     2.262015\n",
       "14        dental_caries     1.870630"
      ]
     },
     "execution_count": 92,
     "metadata": {},
     "output_type": "execute_result"
    }
   ],
   "source": [
    "model.get_feature_importance(prettified=True)"
   ]
  },
  {
   "cell_type": "code",
   "execution_count": 93,
   "metadata": {
    "pycharm": {
     "is_executing": true,
     "name": "#%%\n"
    }
   },
   "outputs": [
    {
     "data": {
      "text/plain": [
       "{'iterations': 1000,\n",
       " 'learning_rate': 0.03,\n",
       " 'loss_function': 'Logloss',\n",
       " 'random_seed': 659,\n",
       " 'verbose': 100,\n",
       " 'auto_class_weights': 'Balanced',\n",
       " 'eval_metric': 'F1',\n",
       " 'task_type': 'GPU',\n",
       " 'early_stopping_rounds': 300,\n",
       " 'cat_features': ['tartar']}"
      ]
     },
     "execution_count": 93,
     "metadata": {},
     "output_type": "execute_result"
    }
   ],
   "source": [
    "model.get_params()"
   ]
  },
  {
   "cell_type": "code",
   "execution_count": 94,
   "metadata": {
    "pycharm": {
     "is_executing": true,
     "name": "#%%\n"
    }
   },
   "outputs": [
    {
     "data": {
      "text/plain": [
       "{'nan_mode': 'Min',\n",
       " 'gpu_ram_part': 0.95,\n",
       " 'eval_metric': 'F1',\n",
       " 'combinations_ctr': ['Borders:CtrBorderCount=15:CtrBorderType=Uniform:TargetBorderCount=1:TargetBorderType=MinEntropy:Prior=0/1:Prior=0.5/1:Prior=1/1',\n",
       "  'FeatureFreq:CtrBorderCount=15:CtrBorderType=Median:Prior=0/1'],\n",
       " 'iterations': 1000,\n",
       " 'fold_permutation_block': 64,\n",
       " 'leaf_estimation_method': 'Newton',\n",
       " 'observations_to_bootstrap': 'TestOnly',\n",
       " 'od_pval': 0,\n",
       " 'counter_calc_method': 'SkipTest',\n",
       " 'grow_policy': 'SymmetricTree',\n",
       " 'penalties_coefficient': 1,\n",
       " 'boosting_type': 'Ordered',\n",
       " 'ctr_history_unit': 'Sample',\n",
       " 'feature_border_type': 'GreedyLogSum',\n",
       " 'bayesian_matrix_reg': 0.10000000149011612,\n",
       " 'one_hot_max_size': 2,\n",
       " 'devices': '-1',\n",
       " 'eval_fraction': 0,\n",
       " 'pinned_memory_bytes': '104857600',\n",
       " 'force_unit_auto_pair_weights': False,\n",
       " 'l2_leaf_reg': 3,\n",
       " 'random_strength': 1,\n",
       " 'od_type': 'Iter',\n",
       " 'rsm': 1,\n",
       " 'boost_from_average': False,\n",
       " 'gpu_cat_features_storage': 'GpuRam',\n",
       " 'fold_size_loss_normalization': False,\n",
       " 'max_ctr_complexity': 4,\n",
       " 'model_size_reg': 0.5,\n",
       " 'simple_ctr': ['Borders:CtrBorderCount=15:CtrBorderType=Uniform:TargetBorderCount=1:TargetBorderType=MinEntropy:Prior=0/1:Prior=0.5/1:Prior=1/1',\n",
       "  'FeatureFreq:CtrBorderCount=15:CtrBorderType=MinEntropy:Prior=0/1'],\n",
       " 'pool_metainfo_options': {'tags': {}},\n",
       " 'use_best_model': True,\n",
       " 'meta_l2_frequency': 0,\n",
       " 'od_wait': 300,\n",
       " 'class_names': [0, 1],\n",
       " 'random_seed': 659,\n",
       " 'depth': 6,\n",
       " 'ctr_target_border_count': 1,\n",
       " 'has_time': False,\n",
       " 'fold_len_multiplier': 2,\n",
       " 'border_count': 128,\n",
       " 'min_fold_size': 100,\n",
       " 'class_weights': [1, 3.933899164199829],\n",
       " 'data_partition': 'FeatureParallel',\n",
       " 'bagging_temperature': 1,\n",
       " 'classes_count': 0,\n",
       " 'auto_class_weights': 'Balanced',\n",
       " 'leaf_estimation_backtracking': 'AnyImprovement',\n",
       " 'best_model_min_trees': 1,\n",
       " 'min_data_in_leaf': 1,\n",
       " 'add_ridge_penalty_to_loss_function': False,\n",
       " 'loss_function': 'Logloss',\n",
       " 'learning_rate': 0.029999999329447743,\n",
       " 'meta_l2_exponent': 1,\n",
       " 'score_function': 'Cosine',\n",
       " 'task_type': 'GPU',\n",
       " 'leaf_estimation_iterations': 10,\n",
       " 'bootstrap_type': 'Bayesian',\n",
       " 'max_leaves': 64,\n",
       " 'permutation_count': 4}"
      ]
     },
     "execution_count": 94,
     "metadata": {},
     "output_type": "execute_result"
    }
   ],
   "source": [
    "model.get_all_params()"
   ]
  },
  {
   "cell_type": "markdown",
   "source": [
    "### lr=0.04"
   ],
   "metadata": {
    "collapsed": false,
    "pycharm": {
     "name": "#%% md\n"
    }
   }
  },
  {
   "cell_type": "code",
   "execution_count": null,
   "outputs": [],
   "source": [
    "parameters = {'cat_features': cat_features,\n",
    "              'eval_metric': 'F1',\n",
    "              'loss_function': 'Logloss',\n",
    "              'random_seed': 659,\n",
    "              'verbose': 100,\n",
    "              'auto_class_weights': 'Balanced',\n",
    "              'task_type': 'GPU',\n",
    "              'iterations': 1000,\n",
    "              'learning_rate': 0.04,\n",
    "              'early_stopping_rounds': 300}"
   ],
   "metadata": {
    "collapsed": false,
    "pycharm": {
     "name": "#%%\n"
    }
   }
  },
  {
   "cell_type": "code",
   "execution_count": null,
   "outputs": [],
   "source": [
    "model = CatBoostClassifier(**parameters)"
   ],
   "metadata": {
    "collapsed": false,
    "pycharm": {
     "name": "#%%\n"
    }
   }
  },
  {
   "cell_type": "code",
   "execution_count": null,
   "outputs": [],
   "source": [
    "%%time\n",
    "model.fit(train_data, eval_set=test_data, plot=True)"
   ],
   "metadata": {
    "collapsed": false,
    "pycharm": {
     "name": "#%%\n"
    }
   }
  },
  {
   "cell_type": "code",
   "execution_count": null,
   "outputs": [],
   "source": [
    "model.get_feature_importance(prettified=True)"
   ],
   "metadata": {
    "collapsed": false,
    "pycharm": {
     "name": "#%%\n"
    }
   }
  },
  {
   "cell_type": "code",
   "execution_count": null,
   "outputs": [],
   "source": [
    "model.get_params()"
   ],
   "metadata": {
    "collapsed": false,
    "pycharm": {
     "name": "#%%\n"
    }
   }
  },
  {
   "cell_type": "code",
   "execution_count": null,
   "outputs": [],
   "source": [
    "model.get_all_params()"
   ],
   "metadata": {
    "collapsed": false,
    "pycharm": {
     "name": "#%%\n"
    }
   }
  },
  {
   "cell_type": "markdown",
   "source": [
    "### lr=0.05"
   ],
   "metadata": {
    "collapsed": false,
    "pycharm": {
     "name": "#%% md\n"
    }
   }
  },
  {
   "cell_type": "code",
   "execution_count": null,
   "outputs": [],
   "source": [
    "parameters = {'cat_features': cat_features,\n",
    "              'eval_metric': 'F1',\n",
    "              'loss_function': 'Logloss',\n",
    "              'random_seed': 659,\n",
    "              'verbose': 100,\n",
    "              'auto_class_weights': 'Balanced',\n",
    "              'task_type': 'GPU',\n",
    "              'iterations': 1000,\n",
    "              'learning_rate': 0.05,\n",
    "              'early_stopping_rounds': 300}"
   ],
   "metadata": {
    "collapsed": false,
    "pycharm": {
     "name": "#%%\n"
    }
   }
  },
  {
   "cell_type": "code",
   "execution_count": null,
   "outputs": [],
   "source": [
    "model = CatBoostClassifier(**parameters)"
   ],
   "metadata": {
    "collapsed": false,
    "pycharm": {
     "name": "#%%\n"
    }
   }
  },
  {
   "cell_type": "code",
   "execution_count": null,
   "outputs": [],
   "source": [
    "%%time\n",
    "model.fit(train_data, eval_set=test_data, plot=True)"
   ],
   "metadata": {
    "collapsed": false,
    "pycharm": {
     "name": "#%%\n"
    }
   }
  },
  {
   "cell_type": "code",
   "execution_count": null,
   "outputs": [],
   "source": [
    "model.get_feature_importance(prettified=True)"
   ],
   "metadata": {
    "collapsed": false,
    "pycharm": {
     "name": "#%%\n"
    }
   }
  },
  {
   "cell_type": "code",
   "execution_count": null,
   "outputs": [],
   "source": [
    "model.get_params()"
   ],
   "metadata": {
    "collapsed": false,
    "pycharm": {
     "name": "#%%\n"
    }
   }
  },
  {
   "cell_type": "code",
   "execution_count": null,
   "outputs": [],
   "source": [
    "model.get_all_params()"
   ],
   "metadata": {
    "collapsed": false,
    "pycharm": {
     "name": "#%%\n"
    }
   }
  },
  {
   "cell_type": "markdown",
   "source": [
    "### lr=0.06"
   ],
   "metadata": {
    "collapsed": false,
    "pycharm": {
     "name": "#%% md\n"
    }
   }
  },
  {
   "cell_type": "code",
   "execution_count": null,
   "outputs": [],
   "source": [
    "parameters = {'cat_features': cat_features,\n",
    "              'eval_metric': 'F1',\n",
    "              'loss_function': 'Logloss',\n",
    "              'random_seed': 659,\n",
    "              'verbose': 100,\n",
    "              'auto_class_weights': 'Balanced',\n",
    "              'task_type': 'GPU',\n",
    "              'iterations': 1000,\n",
    "              'learning_rate': 0.06,\n",
    "              'early_stopping_rounds': 300}"
   ],
   "metadata": {
    "collapsed": false,
    "pycharm": {
     "name": "#%%\n"
    }
   }
  },
  {
   "cell_type": "code",
   "execution_count": null,
   "outputs": [],
   "source": [
    "model = CatBoostClassifier(**parameters)"
   ],
   "metadata": {
    "collapsed": false,
    "pycharm": {
     "name": "#%%\n"
    }
   }
  },
  {
   "cell_type": "code",
   "execution_count": null,
   "outputs": [],
   "source": [
    "%%time\n",
    "model.fit(train_data, eval_set=test_data, plot=True)"
   ],
   "metadata": {
    "collapsed": false,
    "pycharm": {
     "name": "#%%\n"
    }
   }
  },
  {
   "cell_type": "code",
   "execution_count": null,
   "outputs": [],
   "source": [
    "model.get_feature_importance(prettified=True)"
   ],
   "metadata": {
    "collapsed": false,
    "pycharm": {
     "name": "#%%\n"
    }
   }
  },
  {
   "cell_type": "code",
   "execution_count": null,
   "outputs": [],
   "source": [
    "model.get_params()"
   ],
   "metadata": {
    "collapsed": false,
    "pycharm": {
     "name": "#%%\n"
    }
   }
  },
  {
   "cell_type": "code",
   "execution_count": null,
   "outputs": [],
   "source": [
    "model.get_all_params()"
   ],
   "metadata": {
    "collapsed": false,
    "pycharm": {
     "name": "#%%\n"
    }
   }
  },
  {
   "cell_type": "markdown",
   "source": [
    "### lr=0.07"
   ],
   "metadata": {
    "collapsed": false,
    "pycharm": {
     "name": "#%% md\n"
    }
   }
  },
  {
   "cell_type": "code",
   "execution_count": null,
   "outputs": [],
   "source": [
    "parameters = {'cat_features': cat_features,\n",
    "              'eval_metric': 'F1',\n",
    "              'loss_function': 'Logloss',\n",
    "              'random_seed': 659,\n",
    "              'verbose': 100,\n",
    "              'auto_class_weights': 'Balanced',\n",
    "              'task_type': 'GPU',\n",
    "              'iterations': 1000,\n",
    "              'learning_rate': 0.07,\n",
    "              'early_stopping_rounds': 300}"
   ],
   "metadata": {
    "collapsed": false,
    "pycharm": {
     "name": "#%%\n"
    }
   }
  },
  {
   "cell_type": "code",
   "execution_count": null,
   "outputs": [],
   "source": [
    "model = CatBoostClassifier(**parameters)"
   ],
   "metadata": {
    "collapsed": false,
    "pycharm": {
     "name": "#%%\n"
    }
   }
  },
  {
   "cell_type": "code",
   "execution_count": null,
   "outputs": [],
   "source": [
    "%%time\n",
    "model.fit(train_data, eval_set=test_data, plot=True)"
   ],
   "metadata": {
    "collapsed": false,
    "pycharm": {
     "name": "#%%\n"
    }
   }
  },
  {
   "cell_type": "code",
   "execution_count": null,
   "outputs": [],
   "source": [
    "model.get_feature_importance(prettified=True)"
   ],
   "metadata": {
    "collapsed": false,
    "pycharm": {
     "name": "#%%\n"
    }
   }
  },
  {
   "cell_type": "code",
   "execution_count": null,
   "outputs": [],
   "source": [
    "model.get_params()"
   ],
   "metadata": {
    "collapsed": false,
    "pycharm": {
     "name": "#%%\n"
    }
   }
  },
  {
   "cell_type": "code",
   "execution_count": null,
   "outputs": [],
   "source": [
    "model.get_all_params()"
   ],
   "metadata": {
    "collapsed": false,
    "pycharm": {
     "name": "#%%\n"
    }
   }
  },
  {
   "cell_type": "markdown",
   "source": [
    "### lr=0.08"
   ],
   "metadata": {
    "collapsed": false,
    "pycharm": {
     "name": "#%% md\n"
    }
   }
  },
  {
   "cell_type": "code",
   "execution_count": null,
   "outputs": [],
   "source": [
    "parameters = {'cat_features': cat_features,\n",
    "              'eval_metric': 'F1',\n",
    "              'loss_function': 'Logloss',\n",
    "              'random_seed': 659,\n",
    "              'verbose': 100,\n",
    "              'auto_class_weights': 'Balanced',\n",
    "              'task_type': 'GPU',\n",
    "              'iterations': 1000,\n",
    "              'learning_rate': 0.08,\n",
    "              'early_stopping_rounds': 300}"
   ],
   "metadata": {
    "collapsed": false,
    "pycharm": {
     "name": "#%%\n"
    }
   }
  },
  {
   "cell_type": "code",
   "execution_count": null,
   "outputs": [],
   "source": [
    "model = CatBoostClassifier(**parameters)"
   ],
   "metadata": {
    "collapsed": false,
    "pycharm": {
     "name": "#%%\n"
    }
   }
  },
  {
   "cell_type": "code",
   "execution_count": null,
   "outputs": [],
   "source": [
    "%%time\n",
    "model.fit(train_data, eval_set=test_data, plot=True)"
   ],
   "metadata": {
    "collapsed": false,
    "pycharm": {
     "name": "#%%\n"
    }
   }
  },
  {
   "cell_type": "code",
   "execution_count": null,
   "outputs": [],
   "source": [
    "model.get_feature_importance(prettified=True)"
   ],
   "metadata": {
    "collapsed": false,
    "pycharm": {
     "name": "#%%\n"
    }
   }
  },
  {
   "cell_type": "code",
   "execution_count": null,
   "outputs": [],
   "source": [
    "model.get_params()"
   ],
   "metadata": {
    "collapsed": false,
    "pycharm": {
     "name": "#%%\n"
    }
   }
  },
  {
   "cell_type": "code",
   "execution_count": null,
   "outputs": [],
   "source": [
    "model.get_all_params()"
   ],
   "metadata": {
    "collapsed": false,
    "pycharm": {
     "name": "#%%\n"
    }
   }
  },
  {
   "cell_type": "markdown",
   "source": [
    "### lr=0.09"
   ],
   "metadata": {
    "collapsed": false,
    "pycharm": {
     "name": "#%% md\n"
    }
   }
  },
  {
   "cell_type": "code",
   "execution_count": null,
   "outputs": [],
   "source": [
    "parameters = {'cat_features': cat_features,\n",
    "              'eval_metric': 'F1',\n",
    "              'loss_function': 'Logloss',\n",
    "              'random_seed': 659,\n",
    "              'verbose': 100,\n",
    "              'auto_class_weights': 'Balanced',\n",
    "              'task_type': 'GPU',\n",
    "              'iterations': 1000,\n",
    "              'learning_rate': 0.09,\n",
    "              'early_stopping_rounds': 300}"
   ],
   "metadata": {
    "collapsed": false,
    "pycharm": {
     "name": "#%%\n"
    }
   }
  },
  {
   "cell_type": "code",
   "execution_count": null,
   "outputs": [],
   "source": [
    "model = CatBoostClassifier(**parameters)"
   ],
   "metadata": {
    "collapsed": false,
    "pycharm": {
     "name": "#%%\n"
    }
   }
  },
  {
   "cell_type": "code",
   "execution_count": null,
   "outputs": [],
   "source": [
    "%%time\n",
    "model.fit(train_data, eval_set=test_data, plot=True)"
   ],
   "metadata": {
    "collapsed": false,
    "pycharm": {
     "name": "#%%\n"
    }
   }
  },
  {
   "cell_type": "code",
   "execution_count": null,
   "outputs": [],
   "source": [
    "model.get_feature_importance(prettified=True)"
   ],
   "metadata": {
    "collapsed": false,
    "pycharm": {
     "name": "#%%\n"
    }
   }
  },
  {
   "cell_type": "code",
   "execution_count": null,
   "outputs": [],
   "source": [
    "model.get_params()"
   ],
   "metadata": {
    "collapsed": false,
    "pycharm": {
     "name": "#%%\n"
    }
   }
  },
  {
   "cell_type": "code",
   "execution_count": null,
   "outputs": [],
   "source": [
    "model.get_all_params()"
   ],
   "metadata": {
    "collapsed": false,
    "pycharm": {
     "name": "#%%\n"
    }
   }
  },
  {
   "cell_type": "markdown",
   "source": [
    "### lr=0.1"
   ],
   "metadata": {
    "collapsed": false,
    "pycharm": {
     "name": "#%% md\n"
    }
   }
  },
  {
   "cell_type": "code",
   "execution_count": 138,
   "outputs": [],
   "source": [
    "parameters = {'cat_features': cat_features,\n",
    "              'eval_metric': 'F1',\n",
    "              'loss_function': 'Logloss',\n",
    "              'random_seed': 659,\n",
    "              'verbose': 100,\n",
    "              'auto_class_weights': 'Balanced',\n",
    "              'task_type': 'GPU',\n",
    "              'iterations': 1000,\n",
    "              'learning_rate': 0.1,\n",
    "              'early_stopping_rounds': 300}"
   ],
   "metadata": {
    "collapsed": false,
    "pycharm": {
     "name": "#%%\n"
    }
   }
  },
  {
   "cell_type": "code",
   "execution_count": 139,
   "outputs": [],
   "source": [
    "model = CatBoostClassifier(**parameters)"
   ],
   "metadata": {
    "collapsed": false,
    "pycharm": {
     "name": "#%%\n"
    }
   }
  },
  {
   "cell_type": "code",
   "execution_count": 140,
   "outputs": [
    {
     "data": {
      "text/plain": "MetricVisualizer(layout=Layout(align_self='stretch', height='500px'))",
      "application/vnd.jupyter.widget-view+json": {
       "version_major": 2,
       "version_minor": 0,
       "model_id": "6caaef01b7aa4227ad55d81b88b30ab4"
      }
     },
     "metadata": {},
     "output_type": "display_data"
    },
    {
     "name": "stdout",
     "output_type": "stream",
     "text": [
      "0:\tlearn: 0.6100672\ttest: 0.5636089\tbest: 0.5636089 (0)\ttotal: 40.7ms\tremaining: 40.7s\n",
      "100:\tlearn: 0.7207184\ttest: 0.6117594\tbest: 0.6199139 (76)\ttotal: 3.76s\tremaining: 33.5s\n",
      "200:\tlearn: 0.7614096\ttest: 0.6149500\tbest: 0.6199139 (76)\ttotal: 7.42s\tremaining: 29.5s\n",
      "300:\tlearn: 0.7869886\ttest: 0.6077624\tbest: 0.6200569 (228)\ttotal: 11.3s\tremaining: 26.2s\n",
      "400:\tlearn: 0.7998256\ttest: 0.5891854\tbest: 0.6200569 (228)\ttotal: 15s\tremaining: 22.4s\n",
      "500:\tlearn: 0.8126220\ttest: 0.5896391\tbest: 0.6200569 (228)\ttotal: 18.7s\tremaining: 18.7s\n",
      "bestTest = 0.6200569493\n",
      "bestIteration = 228\n",
      "Shrink model to first 229 iterations.\n",
      "CPU times: total: 25.3 s\n",
      "Wall time: 20.2 s\n"
     ]
    },
    {
     "data": {
      "text/plain": "<catboost.core.CatBoostClassifier at 0x2412a36b550>"
     },
     "execution_count": 140,
     "metadata": {},
     "output_type": "execute_result"
    }
   ],
   "source": [
    "%%time\n",
    "model.fit(train_data, eval_set=test_data, plot=True)"
   ],
   "metadata": {
    "collapsed": false,
    "pycharm": {
     "name": "#%%\n"
    }
   }
  },
  {
   "cell_type": "code",
   "execution_count": 141,
   "outputs": [
    {
     "data": {
      "text/plain": "             Feature Id  Importances\n0                   gtp    11.750683\n1                   age    10.584269\n2                   alt    10.103562\n3          triglyceride     9.956811\n4                   ldl     8.254544\n5            hemoglobin     7.809123\n6                   hdl     6.244942\n7   fasting_blood_sugar     6.095407\n8            relaxation     6.010639\n9             waist_cm_     5.971609\n10                  ast     5.595875\n11     serum_creatinine     4.378215\n12           weight_kg_     3.384680\n13               tartar     2.115379\n14        dental_caries     1.744262",
      "text/html": "<div>\n<style scoped>\n    .dataframe tbody tr th:only-of-type {\n        vertical-align: middle;\n    }\n\n    .dataframe tbody tr th {\n        vertical-align: top;\n    }\n\n    .dataframe thead th {\n        text-align: right;\n    }\n</style>\n<table border=\"1\" class=\"dataframe\">\n  <thead>\n    <tr style=\"text-align: right;\">\n      <th></th>\n      <th>Feature Id</th>\n      <th>Importances</th>\n    </tr>\n  </thead>\n  <tbody>\n    <tr>\n      <th>0</th>\n      <td>gtp</td>\n      <td>11.750683</td>\n    </tr>\n    <tr>\n      <th>1</th>\n      <td>age</td>\n      <td>10.584269</td>\n    </tr>\n    <tr>\n      <th>2</th>\n      <td>alt</td>\n      <td>10.103562</td>\n    </tr>\n    <tr>\n      <th>3</th>\n      <td>triglyceride</td>\n      <td>9.956811</td>\n    </tr>\n    <tr>\n      <th>4</th>\n      <td>ldl</td>\n      <td>8.254544</td>\n    </tr>\n    <tr>\n      <th>5</th>\n      <td>hemoglobin</td>\n      <td>7.809123</td>\n    </tr>\n    <tr>\n      <th>6</th>\n      <td>hdl</td>\n      <td>6.244942</td>\n    </tr>\n    <tr>\n      <th>7</th>\n      <td>fasting_blood_sugar</td>\n      <td>6.095407</td>\n    </tr>\n    <tr>\n      <th>8</th>\n      <td>relaxation</td>\n      <td>6.010639</td>\n    </tr>\n    <tr>\n      <th>9</th>\n      <td>waist_cm_</td>\n      <td>5.971609</td>\n    </tr>\n    <tr>\n      <th>10</th>\n      <td>ast</td>\n      <td>5.595875</td>\n    </tr>\n    <tr>\n      <th>11</th>\n      <td>serum_creatinine</td>\n      <td>4.378215</td>\n    </tr>\n    <tr>\n      <th>12</th>\n      <td>weight_kg_</td>\n      <td>3.384680</td>\n    </tr>\n    <tr>\n      <th>13</th>\n      <td>tartar</td>\n      <td>2.115379</td>\n    </tr>\n    <tr>\n      <th>14</th>\n      <td>dental_caries</td>\n      <td>1.744262</td>\n    </tr>\n  </tbody>\n</table>\n</div>"
     },
     "execution_count": 141,
     "metadata": {},
     "output_type": "execute_result"
    }
   ],
   "source": [
    "model.get_feature_importance(prettified=True)"
   ],
   "metadata": {
    "collapsed": false,
    "pycharm": {
     "name": "#%%\n"
    }
   }
  },
  {
   "cell_type": "code",
   "execution_count": 142,
   "outputs": [
    {
     "data": {
      "text/plain": "{'iterations': 1000,\n 'learning_rate': 0.1,\n 'loss_function': 'Logloss',\n 'random_seed': 659,\n 'verbose': 100,\n 'auto_class_weights': 'Balanced',\n 'eval_metric': 'F1',\n 'task_type': 'GPU',\n 'early_stopping_rounds': 300,\n 'cat_features': ['tartar']}"
     },
     "execution_count": 142,
     "metadata": {},
     "output_type": "execute_result"
    }
   ],
   "source": [
    "model.get_params()"
   ],
   "metadata": {
    "collapsed": false,
    "pycharm": {
     "name": "#%%\n"
    }
   }
  },
  {
   "cell_type": "code",
   "execution_count": 143,
   "outputs": [
    {
     "data": {
      "text/plain": "{'nan_mode': 'Min',\n 'gpu_ram_part': 0.95,\n 'eval_metric': 'F1',\n 'combinations_ctr': ['Borders:CtrBorderCount=15:CtrBorderType=Uniform:TargetBorderCount=1:TargetBorderType=MinEntropy:Prior=0/1:Prior=0.5/1:Prior=1/1',\n  'FeatureFreq:CtrBorderCount=15:CtrBorderType=Median:Prior=0/1'],\n 'iterations': 1000,\n 'fold_permutation_block': 64,\n 'leaf_estimation_method': 'Newton',\n 'observations_to_bootstrap': 'TestOnly',\n 'od_pval': 0,\n 'counter_calc_method': 'SkipTest',\n 'grow_policy': 'SymmetricTree',\n 'penalties_coefficient': 1,\n 'boosting_type': 'Ordered',\n 'ctr_history_unit': 'Sample',\n 'feature_border_type': 'GreedyLogSum',\n 'bayesian_matrix_reg': 0.10000000149011612,\n 'one_hot_max_size': 2,\n 'devices': '-1',\n 'eval_fraction': 0,\n 'pinned_memory_bytes': '104857600',\n 'force_unit_auto_pair_weights': False,\n 'l2_leaf_reg': 3,\n 'random_strength': 1,\n 'od_type': 'Iter',\n 'rsm': 1,\n 'boost_from_average': False,\n 'gpu_cat_features_storage': 'GpuRam',\n 'fold_size_loss_normalization': False,\n 'max_ctr_complexity': 4,\n 'model_size_reg': 0.5,\n 'simple_ctr': ['Borders:CtrBorderCount=15:CtrBorderType=Uniform:TargetBorderCount=1:TargetBorderType=MinEntropy:Prior=0/1:Prior=0.5/1:Prior=1/1',\n  'FeatureFreq:CtrBorderCount=15:CtrBorderType=MinEntropy:Prior=0/1'],\n 'pool_metainfo_options': {'tags': {}},\n 'use_best_model': True,\n 'meta_l2_frequency': 0,\n 'od_wait': 300,\n 'class_names': [0, 1],\n 'random_seed': 659,\n 'depth': 6,\n 'ctr_target_border_count': 1,\n 'has_time': False,\n 'fold_len_multiplier': 2,\n 'border_count': 128,\n 'min_fold_size': 100,\n 'class_weights': [1, 3.933899164199829],\n 'data_partition': 'FeatureParallel',\n 'bagging_temperature': 1,\n 'classes_count': 0,\n 'auto_class_weights': 'Balanced',\n 'leaf_estimation_backtracking': 'AnyImprovement',\n 'best_model_min_trees': 1,\n 'min_data_in_leaf': 1,\n 'add_ridge_penalty_to_loss_function': False,\n 'loss_function': 'Logloss',\n 'learning_rate': 0.10000000149011612,\n 'meta_l2_exponent': 1,\n 'score_function': 'Cosine',\n 'task_type': 'GPU',\n 'leaf_estimation_iterations': 10,\n 'bootstrap_type': 'Bayesian',\n 'max_leaves': 64,\n 'permutation_count': 4}"
     },
     "execution_count": 143,
     "metadata": {},
     "output_type": "execute_result"
    }
   ],
   "source": [
    "model.get_all_params()"
   ],
   "metadata": {
    "collapsed": false,
    "pycharm": {
     "name": "#%%\n"
    }
   }
  },
  {
   "cell_type": "markdown",
   "source": [
    "### lr=0.15"
   ],
   "metadata": {
    "collapsed": false,
    "pycharm": {
     "name": "#%% md\n"
    }
   }
  },
  {
   "cell_type": "code",
   "execution_count": 144,
   "outputs": [],
   "source": [
    "parameters = {'cat_features': cat_features,\n",
    "              'eval_metric': 'F1',\n",
    "              'loss_function': 'Logloss',\n",
    "              'random_seed': 659,\n",
    "              'verbose': 100,\n",
    "              'auto_class_weights': 'Balanced',\n",
    "              'task_type': 'GPU',\n",
    "              'iterations': 1000,\n",
    "              'learning_rate': 0.15,\n",
    "              'early_stopping_rounds': 300}"
   ],
   "metadata": {
    "collapsed": false,
    "pycharm": {
     "name": "#%%\n"
    }
   }
  },
  {
   "cell_type": "code",
   "execution_count": 145,
   "outputs": [],
   "source": [
    "model = CatBoostClassifier(**parameters)"
   ],
   "metadata": {
    "collapsed": false,
    "pycharm": {
     "name": "#%%\n"
    }
   }
  },
  {
   "cell_type": "code",
   "execution_count": 146,
   "outputs": [
    {
     "data": {
      "text/plain": "MetricVisualizer(layout=Layout(align_self='stretch', height='500px'))",
      "application/vnd.jupyter.widget-view+json": {
       "version_major": 2,
       "version_minor": 0,
       "model_id": "061b203a032d4555b6227308630a09d4"
      }
     },
     "metadata": {},
     "output_type": "display_data"
    },
    {
     "name": "stdout",
     "output_type": "stream",
     "text": [
      "0:\tlearn: 0.6100672\ttest: 0.5636089\tbest: 0.5636089 (0)\ttotal: 35.7ms\tremaining: 35.7s\n",
      "100:\tlearn: 0.7358327\ttest: 0.6219408\tbest: 0.6301029 (79)\ttotal: 3.48s\tremaining: 31s\n",
      "200:\tlearn: 0.7738256\ttest: 0.6128994\tbest: 0.6301029 (79)\ttotal: 7s\tremaining: 27.8s\n",
      "300:\tlearn: 0.7978441\ttest: 0.6004810\tbest: 0.6301029 (79)\ttotal: 10.7s\tremaining: 24.9s\n",
      "bestTest = 0.6301029044\n",
      "bestIteration = 79\n",
      "Shrink model to first 80 iterations.\n",
      "CPU times: total: 17.6 s\n",
      "Wall time: 13.8 s\n"
     ]
    },
    {
     "data": {
      "text/plain": "<catboost.core.CatBoostClassifier at 0x24130dc38b0>"
     },
     "execution_count": 146,
     "metadata": {},
     "output_type": "execute_result"
    }
   ],
   "source": [
    "%%time\n",
    "model.fit(train_data, eval_set=test_data, plot=True)"
   ],
   "metadata": {
    "collapsed": false,
    "pycharm": {
     "name": "#%%\n"
    }
   }
  },
  {
   "cell_type": "code",
   "execution_count": 147,
   "outputs": [
    {
     "data": {
      "text/plain": "             Feature Id  Importances\n0                   age    13.290661\n1                   gtp    13.009647\n2                   alt     9.798207\n3            hemoglobin     9.312755\n4          triglyceride     9.270204\n5                   ldl     7.180593\n6             waist_cm_     6.375208\n7   fasting_blood_sugar     5.514775\n8                   hdl     5.231738\n9                   ast     5.070311\n10           weight_kg_     4.678946\n11           relaxation     4.215552\n12     serum_creatinine     3.172703\n13        dental_caries     1.939844\n14               tartar     1.938855",
      "text/html": "<div>\n<style scoped>\n    .dataframe tbody tr th:only-of-type {\n        vertical-align: middle;\n    }\n\n    .dataframe tbody tr th {\n        vertical-align: top;\n    }\n\n    .dataframe thead th {\n        text-align: right;\n    }\n</style>\n<table border=\"1\" class=\"dataframe\">\n  <thead>\n    <tr style=\"text-align: right;\">\n      <th></th>\n      <th>Feature Id</th>\n      <th>Importances</th>\n    </tr>\n  </thead>\n  <tbody>\n    <tr>\n      <th>0</th>\n      <td>age</td>\n      <td>13.290661</td>\n    </tr>\n    <tr>\n      <th>1</th>\n      <td>gtp</td>\n      <td>13.009647</td>\n    </tr>\n    <tr>\n      <th>2</th>\n      <td>alt</td>\n      <td>9.798207</td>\n    </tr>\n    <tr>\n      <th>3</th>\n      <td>hemoglobin</td>\n      <td>9.312755</td>\n    </tr>\n    <tr>\n      <th>4</th>\n      <td>triglyceride</td>\n      <td>9.270204</td>\n    </tr>\n    <tr>\n      <th>5</th>\n      <td>ldl</td>\n      <td>7.180593</td>\n    </tr>\n    <tr>\n      <th>6</th>\n      <td>waist_cm_</td>\n      <td>6.375208</td>\n    </tr>\n    <tr>\n      <th>7</th>\n      <td>fasting_blood_sugar</td>\n      <td>5.514775</td>\n    </tr>\n    <tr>\n      <th>8</th>\n      <td>hdl</td>\n      <td>5.231738</td>\n    </tr>\n    <tr>\n      <th>9</th>\n      <td>ast</td>\n      <td>5.070311</td>\n    </tr>\n    <tr>\n      <th>10</th>\n      <td>weight_kg_</td>\n      <td>4.678946</td>\n    </tr>\n    <tr>\n      <th>11</th>\n      <td>relaxation</td>\n      <td>4.215552</td>\n    </tr>\n    <tr>\n      <th>12</th>\n      <td>serum_creatinine</td>\n      <td>3.172703</td>\n    </tr>\n    <tr>\n      <th>13</th>\n      <td>dental_caries</td>\n      <td>1.939844</td>\n    </tr>\n    <tr>\n      <th>14</th>\n      <td>tartar</td>\n      <td>1.938855</td>\n    </tr>\n  </tbody>\n</table>\n</div>"
     },
     "execution_count": 147,
     "metadata": {},
     "output_type": "execute_result"
    }
   ],
   "source": [
    "model.get_feature_importance(prettified=True)"
   ],
   "metadata": {
    "collapsed": false,
    "pycharm": {
     "name": "#%%\n"
    }
   }
  },
  {
   "cell_type": "code",
   "execution_count": 148,
   "outputs": [
    {
     "data": {
      "text/plain": "{'iterations': 1000,\n 'learning_rate': 0.15,\n 'loss_function': 'Logloss',\n 'random_seed': 659,\n 'verbose': 100,\n 'auto_class_weights': 'Balanced',\n 'eval_metric': 'F1',\n 'task_type': 'GPU',\n 'early_stopping_rounds': 300,\n 'cat_features': ['tartar']}"
     },
     "execution_count": 148,
     "metadata": {},
     "output_type": "execute_result"
    }
   ],
   "source": [
    "model.get_params()"
   ],
   "metadata": {
    "collapsed": false,
    "pycharm": {
     "name": "#%%\n"
    }
   }
  },
  {
   "cell_type": "code",
   "execution_count": 149,
   "outputs": [
    {
     "data": {
      "text/plain": "{'nan_mode': 'Min',\n 'gpu_ram_part': 0.95,\n 'eval_metric': 'F1',\n 'combinations_ctr': ['Borders:CtrBorderCount=15:CtrBorderType=Uniform:TargetBorderCount=1:TargetBorderType=MinEntropy:Prior=0/1:Prior=0.5/1:Prior=1/1',\n  'FeatureFreq:CtrBorderCount=15:CtrBorderType=Median:Prior=0/1'],\n 'iterations': 1000,\n 'fold_permutation_block': 64,\n 'leaf_estimation_method': 'Newton',\n 'observations_to_bootstrap': 'TestOnly',\n 'od_pval': 0,\n 'counter_calc_method': 'SkipTest',\n 'grow_policy': 'SymmetricTree',\n 'penalties_coefficient': 1,\n 'boosting_type': 'Ordered',\n 'ctr_history_unit': 'Sample',\n 'feature_border_type': 'GreedyLogSum',\n 'bayesian_matrix_reg': 0.10000000149011612,\n 'one_hot_max_size': 2,\n 'devices': '-1',\n 'eval_fraction': 0,\n 'pinned_memory_bytes': '104857600',\n 'force_unit_auto_pair_weights': False,\n 'l2_leaf_reg': 3,\n 'random_strength': 1,\n 'od_type': 'Iter',\n 'rsm': 1,\n 'boost_from_average': False,\n 'gpu_cat_features_storage': 'GpuRam',\n 'fold_size_loss_normalization': False,\n 'max_ctr_complexity': 4,\n 'model_size_reg': 0.5,\n 'simple_ctr': ['Borders:CtrBorderCount=15:CtrBorderType=Uniform:TargetBorderCount=1:TargetBorderType=MinEntropy:Prior=0/1:Prior=0.5/1:Prior=1/1',\n  'FeatureFreq:CtrBorderCount=15:CtrBorderType=MinEntropy:Prior=0/1'],\n 'pool_metainfo_options': {'tags': {}},\n 'use_best_model': True,\n 'meta_l2_frequency': 0,\n 'od_wait': 300,\n 'class_names': [0, 1],\n 'random_seed': 659,\n 'depth': 6,\n 'ctr_target_border_count': 1,\n 'has_time': False,\n 'fold_len_multiplier': 2,\n 'border_count': 128,\n 'min_fold_size': 100,\n 'class_weights': [1, 3.933899164199829],\n 'data_partition': 'FeatureParallel',\n 'bagging_temperature': 1,\n 'classes_count': 0,\n 'auto_class_weights': 'Balanced',\n 'leaf_estimation_backtracking': 'AnyImprovement',\n 'best_model_min_trees': 1,\n 'min_data_in_leaf': 1,\n 'add_ridge_penalty_to_loss_function': False,\n 'loss_function': 'Logloss',\n 'learning_rate': 0.15000000596046448,\n 'meta_l2_exponent': 1,\n 'score_function': 'Cosine',\n 'task_type': 'GPU',\n 'leaf_estimation_iterations': 10,\n 'bootstrap_type': 'Bayesian',\n 'max_leaves': 64,\n 'permutation_count': 4}"
     },
     "execution_count": 149,
     "metadata": {},
     "output_type": "execute_result"
    }
   ],
   "source": [
    "model.get_all_params()"
   ],
   "metadata": {
    "collapsed": false,
    "pycharm": {
     "name": "#%%\n"
    }
   }
  },
  {
   "cell_type": "markdown",
   "source": [
    "### lr=0.2"
   ],
   "metadata": {
    "collapsed": false,
    "pycharm": {
     "name": "#%% md\n"
    }
   }
  },
  {
   "cell_type": "code",
   "execution_count": 150,
   "outputs": [],
   "source": [
    "parameters = {'cat_features': cat_features,\n",
    "              'eval_metric': 'F1',\n",
    "              'loss_function': 'Logloss',\n",
    "              'random_seed': 659,\n",
    "              'verbose': 100,\n",
    "              'auto_class_weights': 'Balanced',\n",
    "              'task_type': 'GPU',\n",
    "              'iterations': 1000,\n",
    "              'learning_rate': 0.2,\n",
    "              'early_stopping_rounds': 300}"
   ],
   "metadata": {
    "collapsed": false,
    "pycharm": {
     "name": "#%%\n"
    }
   }
  },
  {
   "cell_type": "code",
   "execution_count": 151,
   "outputs": [],
   "source": [
    "model = CatBoostClassifier(**parameters)"
   ],
   "metadata": {
    "collapsed": false,
    "pycharm": {
     "name": "#%%\n"
    }
   }
  },
  {
   "cell_type": "code",
   "execution_count": 152,
   "outputs": [
    {
     "data": {
      "text/plain": "MetricVisualizer(layout=Layout(align_self='stretch', height='500px'))",
      "application/vnd.jupyter.widget-view+json": {
       "version_major": 2,
       "version_minor": 0,
       "model_id": "c4ff7634e88c4de1bba3943f06c6065c"
      }
     },
     "metadata": {},
     "output_type": "display_data"
    },
    {
     "name": "stdout",
     "output_type": "stream",
     "text": [
      "0:\tlearn: 0.6100672\ttest: 0.5636089\tbest: 0.5636089 (0)\ttotal: 37.3ms\tremaining: 37.2s\n",
      "100:\tlearn: 0.7561853\ttest: 0.5973539\tbest: 0.6093976 (40)\ttotal: 3.45s\tremaining: 30.7s\n",
      "200:\tlearn: 0.7855624\ttest: 0.5887548\tbest: 0.6093976 (40)\ttotal: 6.81s\tremaining: 27.1s\n",
      "300:\tlearn: 0.8123364\ttest: 0.5704361\tbest: 0.6093976 (40)\ttotal: 10.3s\tremaining: 23.9s\n",
      "bestTest = 0.609397644\n",
      "bestIteration = 40\n",
      "Shrink model to first 41 iterations.\n",
      "CPU times: total: 14.9 s\n",
      "Wall time: 12 s\n"
     ]
    },
    {
     "data": {
      "text/plain": "<catboost.core.CatBoostClassifier at 0x24130dc1120>"
     },
     "execution_count": 152,
     "metadata": {},
     "output_type": "execute_result"
    }
   ],
   "source": [
    "%%time\n",
    "model.fit(train_data, eval_set=test_data, plot=True)"
   ],
   "metadata": {
    "collapsed": false,
    "pycharm": {
     "name": "#%%\n"
    }
   }
  },
  {
   "cell_type": "code",
   "execution_count": 153,
   "outputs": [
    {
     "data": {
      "text/plain": "             Feature Id  Importances\n0                   age    15.620615\n1                   gtp    14.832166\n2                   alt    11.508107\n3          triglyceride     9.343626\n4                   ldl     6.705296\n5             waist_cm_     6.419280\n6                   ast     6.128827\n7            hemoglobin     6.019262\n8                   hdl     5.032144\n9            relaxation     4.119889\n10     serum_creatinine     3.664492\n11  fasting_blood_sugar     3.548638\n12           weight_kg_     3.280179\n13               tartar     2.365659\n14        dental_caries     1.411820",
      "text/html": "<div>\n<style scoped>\n    .dataframe tbody tr th:only-of-type {\n        vertical-align: middle;\n    }\n\n    .dataframe tbody tr th {\n        vertical-align: top;\n    }\n\n    .dataframe thead th {\n        text-align: right;\n    }\n</style>\n<table border=\"1\" class=\"dataframe\">\n  <thead>\n    <tr style=\"text-align: right;\">\n      <th></th>\n      <th>Feature Id</th>\n      <th>Importances</th>\n    </tr>\n  </thead>\n  <tbody>\n    <tr>\n      <th>0</th>\n      <td>age</td>\n      <td>15.620615</td>\n    </tr>\n    <tr>\n      <th>1</th>\n      <td>gtp</td>\n      <td>14.832166</td>\n    </tr>\n    <tr>\n      <th>2</th>\n      <td>alt</td>\n      <td>11.508107</td>\n    </tr>\n    <tr>\n      <th>3</th>\n      <td>triglyceride</td>\n      <td>9.343626</td>\n    </tr>\n    <tr>\n      <th>4</th>\n      <td>ldl</td>\n      <td>6.705296</td>\n    </tr>\n    <tr>\n      <th>5</th>\n      <td>waist_cm_</td>\n      <td>6.419280</td>\n    </tr>\n    <tr>\n      <th>6</th>\n      <td>ast</td>\n      <td>6.128827</td>\n    </tr>\n    <tr>\n      <th>7</th>\n      <td>hemoglobin</td>\n      <td>6.019262</td>\n    </tr>\n    <tr>\n      <th>8</th>\n      <td>hdl</td>\n      <td>5.032144</td>\n    </tr>\n    <tr>\n      <th>9</th>\n      <td>relaxation</td>\n      <td>4.119889</td>\n    </tr>\n    <tr>\n      <th>10</th>\n      <td>serum_creatinine</td>\n      <td>3.664492</td>\n    </tr>\n    <tr>\n      <th>11</th>\n      <td>fasting_blood_sugar</td>\n      <td>3.548638</td>\n    </tr>\n    <tr>\n      <th>12</th>\n      <td>weight_kg_</td>\n      <td>3.280179</td>\n    </tr>\n    <tr>\n      <th>13</th>\n      <td>tartar</td>\n      <td>2.365659</td>\n    </tr>\n    <tr>\n      <th>14</th>\n      <td>dental_caries</td>\n      <td>1.411820</td>\n    </tr>\n  </tbody>\n</table>\n</div>"
     },
     "execution_count": 153,
     "metadata": {},
     "output_type": "execute_result"
    }
   ],
   "source": [
    "model.get_feature_importance(prettified=True)"
   ],
   "metadata": {
    "collapsed": false,
    "pycharm": {
     "name": "#%%\n"
    }
   }
  },
  {
   "cell_type": "code",
   "execution_count": 154,
   "outputs": [
    {
     "data": {
      "text/plain": "{'iterations': 1000,\n 'learning_rate': 0.2,\n 'loss_function': 'Logloss',\n 'random_seed': 659,\n 'verbose': 100,\n 'auto_class_weights': 'Balanced',\n 'eval_metric': 'F1',\n 'task_type': 'GPU',\n 'early_stopping_rounds': 300,\n 'cat_features': ['tartar']}"
     },
     "execution_count": 154,
     "metadata": {},
     "output_type": "execute_result"
    }
   ],
   "source": [
    "model.get_params()"
   ],
   "metadata": {
    "collapsed": false,
    "pycharm": {
     "name": "#%%\n"
    }
   }
  },
  {
   "cell_type": "code",
   "execution_count": 155,
   "outputs": [
    {
     "data": {
      "text/plain": "{'nan_mode': 'Min',\n 'gpu_ram_part': 0.95,\n 'eval_metric': 'F1',\n 'combinations_ctr': ['Borders:CtrBorderCount=15:CtrBorderType=Uniform:TargetBorderCount=1:TargetBorderType=MinEntropy:Prior=0/1:Prior=0.5/1:Prior=1/1',\n  'FeatureFreq:CtrBorderCount=15:CtrBorderType=Median:Prior=0/1'],\n 'iterations': 1000,\n 'fold_permutation_block': 64,\n 'leaf_estimation_method': 'Newton',\n 'observations_to_bootstrap': 'TestOnly',\n 'od_pval': 0,\n 'counter_calc_method': 'SkipTest',\n 'grow_policy': 'SymmetricTree',\n 'penalties_coefficient': 1,\n 'boosting_type': 'Ordered',\n 'ctr_history_unit': 'Sample',\n 'feature_border_type': 'GreedyLogSum',\n 'bayesian_matrix_reg': 0.10000000149011612,\n 'one_hot_max_size': 2,\n 'devices': '-1',\n 'eval_fraction': 0,\n 'pinned_memory_bytes': '104857600',\n 'force_unit_auto_pair_weights': False,\n 'l2_leaf_reg': 3,\n 'random_strength': 1,\n 'od_type': 'Iter',\n 'rsm': 1,\n 'boost_from_average': False,\n 'gpu_cat_features_storage': 'GpuRam',\n 'fold_size_loss_normalization': False,\n 'max_ctr_complexity': 4,\n 'model_size_reg': 0.5,\n 'simple_ctr': ['Borders:CtrBorderCount=15:CtrBorderType=Uniform:TargetBorderCount=1:TargetBorderType=MinEntropy:Prior=0/1:Prior=0.5/1:Prior=1/1',\n  'FeatureFreq:CtrBorderCount=15:CtrBorderType=MinEntropy:Prior=0/1'],\n 'pool_metainfo_options': {'tags': {}},\n 'use_best_model': True,\n 'meta_l2_frequency': 0,\n 'od_wait': 300,\n 'class_names': [0, 1],\n 'random_seed': 659,\n 'depth': 6,\n 'ctr_target_border_count': 1,\n 'has_time': False,\n 'fold_len_multiplier': 2,\n 'border_count': 128,\n 'min_fold_size': 100,\n 'class_weights': [1, 3.933899164199829],\n 'data_partition': 'FeatureParallel',\n 'bagging_temperature': 1,\n 'classes_count': 0,\n 'auto_class_weights': 'Balanced',\n 'leaf_estimation_backtracking': 'AnyImprovement',\n 'best_model_min_trees': 1,\n 'min_data_in_leaf': 1,\n 'add_ridge_penalty_to_loss_function': False,\n 'loss_function': 'Logloss',\n 'learning_rate': 0.20000000298023224,\n 'meta_l2_exponent': 1,\n 'score_function': 'Cosine',\n 'task_type': 'GPU',\n 'leaf_estimation_iterations': 10,\n 'bootstrap_type': 'Bayesian',\n 'max_leaves': 64,\n 'permutation_count': 4}"
     },
     "execution_count": 155,
     "metadata": {},
     "output_type": "execute_result"
    }
   ],
   "source": [
    "model.get_all_params()"
   ],
   "metadata": {
    "collapsed": false,
    "pycharm": {
     "name": "#%%\n"
    }
   }
  },
  {
   "cell_type": "markdown",
   "source": [
    "### lr=0.25"
   ],
   "metadata": {
    "collapsed": false,
    "pycharm": {
     "name": "#%% md\n"
    }
   }
  },
  {
   "cell_type": "code",
   "execution_count": 156,
   "outputs": [],
   "source": [
    "parameters = {'cat_features': cat_features,\n",
    "              'eval_metric': 'F1',\n",
    "              'loss_function': 'Logloss',\n",
    "              'random_seed': 659,\n",
    "              'verbose': 100,\n",
    "              'auto_class_weights': 'Balanced',\n",
    "              'task_type': 'GPU',\n",
    "              'iterations': 1000,\n",
    "              'learning_rate': 0.25,\n",
    "              'early_stopping_rounds': 300}"
   ],
   "metadata": {
    "collapsed": false,
    "pycharm": {
     "name": "#%%\n"
    }
   }
  },
  {
   "cell_type": "code",
   "execution_count": 157,
   "outputs": [],
   "source": [
    "model = CatBoostClassifier(**parameters)"
   ],
   "metadata": {
    "collapsed": false,
    "pycharm": {
     "name": "#%%\n"
    }
   }
  },
  {
   "cell_type": "code",
   "execution_count": 158,
   "outputs": [
    {
     "data": {
      "text/plain": "MetricVisualizer(layout=Layout(align_self='stretch', height='500px'))",
      "application/vnd.jupyter.widget-view+json": {
       "version_major": 2,
       "version_minor": 0,
       "model_id": "ac17f8aaee824bacafc2a8c47b8d606b"
      }
     },
     "metadata": {},
     "output_type": "display_data"
    },
    {
     "name": "stdout",
     "output_type": "stream",
     "text": [
      "0:\tlearn: 0.6100672\ttest: 0.5636089\tbest: 0.5636089 (0)\ttotal: 39.1ms\tremaining: 39s\n",
      "100:\tlearn: 0.7608160\ttest: 0.5997348\tbest: 0.6230810 (13)\ttotal: 3.52s\tremaining: 31.3s\n",
      "200:\tlearn: 0.7912557\ttest: 0.5848358\tbest: 0.6230810 (13)\ttotal: 6.88s\tremaining: 27.4s\n",
      "300:\tlearn: 0.8119249\ttest: 0.5802939\tbest: 0.6230810 (13)\ttotal: 10.3s\tremaining: 23.8s\n",
      "bestTest = 0.623081012\n",
      "bestIteration = 13\n",
      "Shrink model to first 14 iterations.\n",
      "CPU times: total: 13.7 s\n",
      "Wall time: 11.1 s\n"
     ]
    },
    {
     "data": {
      "text/plain": "<catboost.core.CatBoostClassifier at 0x2412e99ffd0>"
     },
     "execution_count": 158,
     "metadata": {},
     "output_type": "execute_result"
    }
   ],
   "source": [
    "%%time\n",
    "model.fit(train_data, eval_set=test_data, plot=True)"
   ],
   "metadata": {
    "collapsed": false,
    "pycharm": {
     "name": "#%%\n"
    }
   }
  },
  {
   "cell_type": "code",
   "execution_count": 159,
   "outputs": [
    {
     "data": {
      "text/plain": "             Feature Id  Importances\n0                   gtp    19.013353\n1                   age    18.696258\n2                   alt    11.085989\n3          triglyceride    10.346228\n4            hemoglobin     7.690654\n5                   ldl     7.029517\n6             waist_cm_     4.999393\n7      serum_creatinine     4.664639\n8                tartar     3.695809\n9                   ast     3.035836\n10                  hdl     2.344745\n11           weight_kg_     2.296373\n12           relaxation     2.165310\n13  fasting_blood_sugar     1.874343\n14        dental_caries     1.061553",
      "text/html": "<div>\n<style scoped>\n    .dataframe tbody tr th:only-of-type {\n        vertical-align: middle;\n    }\n\n    .dataframe tbody tr th {\n        vertical-align: top;\n    }\n\n    .dataframe thead th {\n        text-align: right;\n    }\n</style>\n<table border=\"1\" class=\"dataframe\">\n  <thead>\n    <tr style=\"text-align: right;\">\n      <th></th>\n      <th>Feature Id</th>\n      <th>Importances</th>\n    </tr>\n  </thead>\n  <tbody>\n    <tr>\n      <th>0</th>\n      <td>gtp</td>\n      <td>19.013353</td>\n    </tr>\n    <tr>\n      <th>1</th>\n      <td>age</td>\n      <td>18.696258</td>\n    </tr>\n    <tr>\n      <th>2</th>\n      <td>alt</td>\n      <td>11.085989</td>\n    </tr>\n    <tr>\n      <th>3</th>\n      <td>triglyceride</td>\n      <td>10.346228</td>\n    </tr>\n    <tr>\n      <th>4</th>\n      <td>hemoglobin</td>\n      <td>7.690654</td>\n    </tr>\n    <tr>\n      <th>5</th>\n      <td>ldl</td>\n      <td>7.029517</td>\n    </tr>\n    <tr>\n      <th>6</th>\n      <td>waist_cm_</td>\n      <td>4.999393</td>\n    </tr>\n    <tr>\n      <th>7</th>\n      <td>serum_creatinine</td>\n      <td>4.664639</td>\n    </tr>\n    <tr>\n      <th>8</th>\n      <td>tartar</td>\n      <td>3.695809</td>\n    </tr>\n    <tr>\n      <th>9</th>\n      <td>ast</td>\n      <td>3.035836</td>\n    </tr>\n    <tr>\n      <th>10</th>\n      <td>hdl</td>\n      <td>2.344745</td>\n    </tr>\n    <tr>\n      <th>11</th>\n      <td>weight_kg_</td>\n      <td>2.296373</td>\n    </tr>\n    <tr>\n      <th>12</th>\n      <td>relaxation</td>\n      <td>2.165310</td>\n    </tr>\n    <tr>\n      <th>13</th>\n      <td>fasting_blood_sugar</td>\n      <td>1.874343</td>\n    </tr>\n    <tr>\n      <th>14</th>\n      <td>dental_caries</td>\n      <td>1.061553</td>\n    </tr>\n  </tbody>\n</table>\n</div>"
     },
     "execution_count": 159,
     "metadata": {},
     "output_type": "execute_result"
    }
   ],
   "source": [
    "model.get_feature_importance(prettified=True)"
   ],
   "metadata": {
    "collapsed": false,
    "pycharm": {
     "name": "#%%\n"
    }
   }
  },
  {
   "cell_type": "code",
   "execution_count": 160,
   "outputs": [
    {
     "data": {
      "text/plain": "{'iterations': 1000,\n 'learning_rate': 0.25,\n 'loss_function': 'Logloss',\n 'random_seed': 659,\n 'verbose': 100,\n 'auto_class_weights': 'Balanced',\n 'eval_metric': 'F1',\n 'task_type': 'GPU',\n 'early_stopping_rounds': 300,\n 'cat_features': ['tartar']}"
     },
     "execution_count": 160,
     "metadata": {},
     "output_type": "execute_result"
    }
   ],
   "source": [
    "model.get_params()"
   ],
   "metadata": {
    "collapsed": false,
    "pycharm": {
     "name": "#%%\n"
    }
   }
  },
  {
   "cell_type": "code",
   "execution_count": 161,
   "outputs": [
    {
     "data": {
      "text/plain": "{'nan_mode': 'Min',\n 'gpu_ram_part': 0.95,\n 'eval_metric': 'F1',\n 'combinations_ctr': ['Borders:CtrBorderCount=15:CtrBorderType=Uniform:TargetBorderCount=1:TargetBorderType=MinEntropy:Prior=0/1:Prior=0.5/1:Prior=1/1',\n  'FeatureFreq:CtrBorderCount=15:CtrBorderType=Median:Prior=0/1'],\n 'iterations': 1000,\n 'fold_permutation_block': 64,\n 'leaf_estimation_method': 'Newton',\n 'observations_to_bootstrap': 'TestOnly',\n 'od_pval': 0,\n 'counter_calc_method': 'SkipTest',\n 'grow_policy': 'SymmetricTree',\n 'penalties_coefficient': 1,\n 'boosting_type': 'Ordered',\n 'ctr_history_unit': 'Sample',\n 'feature_border_type': 'GreedyLogSum',\n 'bayesian_matrix_reg': 0.10000000149011612,\n 'one_hot_max_size': 2,\n 'devices': '-1',\n 'eval_fraction': 0,\n 'pinned_memory_bytes': '104857600',\n 'force_unit_auto_pair_weights': False,\n 'l2_leaf_reg': 3,\n 'random_strength': 1,\n 'od_type': 'Iter',\n 'rsm': 1,\n 'boost_from_average': False,\n 'gpu_cat_features_storage': 'GpuRam',\n 'fold_size_loss_normalization': False,\n 'max_ctr_complexity': 4,\n 'model_size_reg': 0.5,\n 'simple_ctr': ['Borders:CtrBorderCount=15:CtrBorderType=Uniform:TargetBorderCount=1:TargetBorderType=MinEntropy:Prior=0/1:Prior=0.5/1:Prior=1/1',\n  'FeatureFreq:CtrBorderCount=15:CtrBorderType=MinEntropy:Prior=0/1'],\n 'pool_metainfo_options': {'tags': {}},\n 'use_best_model': True,\n 'meta_l2_frequency': 0,\n 'od_wait': 300,\n 'class_names': [0, 1],\n 'random_seed': 659,\n 'depth': 6,\n 'ctr_target_border_count': 1,\n 'has_time': False,\n 'fold_len_multiplier': 2,\n 'border_count': 128,\n 'min_fold_size': 100,\n 'class_weights': [1, 3.933899164199829],\n 'data_partition': 'FeatureParallel',\n 'bagging_temperature': 1,\n 'classes_count': 0,\n 'auto_class_weights': 'Balanced',\n 'leaf_estimation_backtracking': 'AnyImprovement',\n 'best_model_min_trees': 1,\n 'min_data_in_leaf': 1,\n 'add_ridge_penalty_to_loss_function': False,\n 'loss_function': 'Logloss',\n 'learning_rate': 0.25,\n 'meta_l2_exponent': 1,\n 'score_function': 'Cosine',\n 'task_type': 'GPU',\n 'leaf_estimation_iterations': 10,\n 'bootstrap_type': 'Bayesian',\n 'max_leaves': 64,\n 'permutation_count': 4}"
     },
     "execution_count": 161,
     "metadata": {},
     "output_type": "execute_result"
    }
   ],
   "source": [
    "model.get_all_params()"
   ],
   "metadata": {
    "collapsed": false,
    "pycharm": {
     "name": "#%%\n"
    }
   }
  },
  {
   "cell_type": "markdown",
   "source": [
    "### lr=0.3"
   ],
   "metadata": {
    "collapsed": false,
    "pycharm": {
     "name": "#%% md\n"
    }
   }
  },
  {
   "cell_type": "code",
   "execution_count": 162,
   "outputs": [],
   "source": [
    "parameters = {'cat_features': cat_features,\n",
    "              'eval_metric': 'F1',\n",
    "              'loss_function': 'Logloss',\n",
    "              'random_seed': 659,\n",
    "              'verbose': 100,\n",
    "              'auto_class_weights': 'Balanced',\n",
    "              'task_type': 'GPU',\n",
    "              'iterations': 1000,\n",
    "              'learning_rate': 0.3,\n",
    "              'early_stopping_rounds': 300}"
   ],
   "metadata": {
    "collapsed": false,
    "pycharm": {
     "name": "#%%\n"
    }
   }
  },
  {
   "cell_type": "code",
   "execution_count": 163,
   "outputs": [],
   "source": [
    "model = CatBoostClassifier(**parameters)"
   ],
   "metadata": {
    "collapsed": false,
    "pycharm": {
     "name": "#%%\n"
    }
   }
  },
  {
   "cell_type": "code",
   "execution_count": 164,
   "outputs": [
    {
     "data": {
      "text/plain": "MetricVisualizer(layout=Layout(align_self='stretch', height='500px'))",
      "application/vnd.jupyter.widget-view+json": {
       "version_major": 2,
       "version_minor": 0,
       "model_id": "7b3c9a01940840c7b826c4559fc4e38c"
      }
     },
     "metadata": {},
     "output_type": "display_data"
    },
    {
     "name": "stdout",
     "output_type": "stream",
     "text": [
      "0:\tlearn: 0.6100672\ttest: 0.5636089\tbest: 0.5636089 (0)\ttotal: 36.5ms\tremaining: 36.4s\n",
      "100:\tlearn: 0.7757025\ttest: 0.5883750\tbest: 0.6116958 (13)\ttotal: 3.49s\tremaining: 31.1s\n",
      "200:\tlearn: 0.8176133\ttest: 0.5856558\tbest: 0.6116958 (13)\ttotal: 6.94s\tremaining: 27.6s\n",
      "300:\tlearn: 0.8430500\ttest: 0.5820703\tbest: 0.6116958 (13)\ttotal: 10.4s\tremaining: 24.1s\n",
      "bestTest = 0.6116957682\n",
      "bestIteration = 13\n",
      "Shrink model to first 14 iterations.\n",
      "CPU times: total: 13.9 s\n",
      "Wall time: 11.2 s\n"
     ]
    },
    {
     "data": {
      "text/plain": "<catboost.core.CatBoostClassifier at 0x2412e99c9d0>"
     },
     "execution_count": 164,
     "metadata": {},
     "output_type": "execute_result"
    }
   ],
   "source": [
    "%%time\n",
    "model.fit(train_data, eval_set=test_data, plot=True)"
   ],
   "metadata": {
    "collapsed": false,
    "pycharm": {
     "name": "#%%\n"
    }
   }
  },
  {
   "cell_type": "code",
   "execution_count": 165,
   "outputs": [
    {
     "data": {
      "text/plain": "             Feature Id  Importances\n0                   age    17.687005\n1                   gtp    16.846874\n2          triglyceride    11.655581\n3                   alt    10.996347\n4             waist_cm_     8.782937\n5            hemoglobin     7.303421\n6                   ldl     6.251226\n7      serum_creatinine     3.894629\n8                tartar     3.146677\n9   fasting_blood_sugar     2.950855\n10           weight_kg_     2.854967\n11                  ast     2.356788\n12           relaxation     2.239462\n13                  hdl     1.812291\n14        dental_caries     1.220943",
      "text/html": "<div>\n<style scoped>\n    .dataframe tbody tr th:only-of-type {\n        vertical-align: middle;\n    }\n\n    .dataframe tbody tr th {\n        vertical-align: top;\n    }\n\n    .dataframe thead th {\n        text-align: right;\n    }\n</style>\n<table border=\"1\" class=\"dataframe\">\n  <thead>\n    <tr style=\"text-align: right;\">\n      <th></th>\n      <th>Feature Id</th>\n      <th>Importances</th>\n    </tr>\n  </thead>\n  <tbody>\n    <tr>\n      <th>0</th>\n      <td>age</td>\n      <td>17.687005</td>\n    </tr>\n    <tr>\n      <th>1</th>\n      <td>gtp</td>\n      <td>16.846874</td>\n    </tr>\n    <tr>\n      <th>2</th>\n      <td>triglyceride</td>\n      <td>11.655581</td>\n    </tr>\n    <tr>\n      <th>3</th>\n      <td>alt</td>\n      <td>10.996347</td>\n    </tr>\n    <tr>\n      <th>4</th>\n      <td>waist_cm_</td>\n      <td>8.782937</td>\n    </tr>\n    <tr>\n      <th>5</th>\n      <td>hemoglobin</td>\n      <td>7.303421</td>\n    </tr>\n    <tr>\n      <th>6</th>\n      <td>ldl</td>\n      <td>6.251226</td>\n    </tr>\n    <tr>\n      <th>7</th>\n      <td>serum_creatinine</td>\n      <td>3.894629</td>\n    </tr>\n    <tr>\n      <th>8</th>\n      <td>tartar</td>\n      <td>3.146677</td>\n    </tr>\n    <tr>\n      <th>9</th>\n      <td>fasting_blood_sugar</td>\n      <td>2.950855</td>\n    </tr>\n    <tr>\n      <th>10</th>\n      <td>weight_kg_</td>\n      <td>2.854967</td>\n    </tr>\n    <tr>\n      <th>11</th>\n      <td>ast</td>\n      <td>2.356788</td>\n    </tr>\n    <tr>\n      <th>12</th>\n      <td>relaxation</td>\n      <td>2.239462</td>\n    </tr>\n    <tr>\n      <th>13</th>\n      <td>hdl</td>\n      <td>1.812291</td>\n    </tr>\n    <tr>\n      <th>14</th>\n      <td>dental_caries</td>\n      <td>1.220943</td>\n    </tr>\n  </tbody>\n</table>\n</div>"
     },
     "execution_count": 165,
     "metadata": {},
     "output_type": "execute_result"
    }
   ],
   "source": [
    "model.get_feature_importance(prettified=True)"
   ],
   "metadata": {
    "collapsed": false,
    "pycharm": {
     "name": "#%%\n"
    }
   }
  },
  {
   "cell_type": "code",
   "execution_count": 166,
   "outputs": [
    {
     "data": {
      "text/plain": "{'iterations': 1000,\n 'learning_rate': 0.3,\n 'loss_function': 'Logloss',\n 'random_seed': 659,\n 'verbose': 100,\n 'auto_class_weights': 'Balanced',\n 'eval_metric': 'F1',\n 'task_type': 'GPU',\n 'early_stopping_rounds': 300,\n 'cat_features': ['tartar']}"
     },
     "execution_count": 166,
     "metadata": {},
     "output_type": "execute_result"
    }
   ],
   "source": [
    "model.get_params()"
   ],
   "metadata": {
    "collapsed": false,
    "pycharm": {
     "name": "#%%\n"
    }
   }
  },
  {
   "cell_type": "code",
   "execution_count": 167,
   "outputs": [
    {
     "data": {
      "text/plain": "{'nan_mode': 'Min',\n 'gpu_ram_part': 0.95,\n 'eval_metric': 'F1',\n 'combinations_ctr': ['Borders:CtrBorderCount=15:CtrBorderType=Uniform:TargetBorderCount=1:TargetBorderType=MinEntropy:Prior=0/1:Prior=0.5/1:Prior=1/1',\n  'FeatureFreq:CtrBorderCount=15:CtrBorderType=Median:Prior=0/1'],\n 'iterations': 1000,\n 'fold_permutation_block': 64,\n 'leaf_estimation_method': 'Newton',\n 'observations_to_bootstrap': 'TestOnly',\n 'od_pval': 0,\n 'counter_calc_method': 'SkipTest',\n 'grow_policy': 'SymmetricTree',\n 'penalties_coefficient': 1,\n 'boosting_type': 'Ordered',\n 'ctr_history_unit': 'Sample',\n 'feature_border_type': 'GreedyLogSum',\n 'bayesian_matrix_reg': 0.10000000149011612,\n 'one_hot_max_size': 2,\n 'devices': '-1',\n 'eval_fraction': 0,\n 'pinned_memory_bytes': '104857600',\n 'force_unit_auto_pair_weights': False,\n 'l2_leaf_reg': 3,\n 'random_strength': 1,\n 'od_type': 'Iter',\n 'rsm': 1,\n 'boost_from_average': False,\n 'gpu_cat_features_storage': 'GpuRam',\n 'fold_size_loss_normalization': False,\n 'max_ctr_complexity': 4,\n 'model_size_reg': 0.5,\n 'simple_ctr': ['Borders:CtrBorderCount=15:CtrBorderType=Uniform:TargetBorderCount=1:TargetBorderType=MinEntropy:Prior=0/1:Prior=0.5/1:Prior=1/1',\n  'FeatureFreq:CtrBorderCount=15:CtrBorderType=MinEntropy:Prior=0/1'],\n 'pool_metainfo_options': {'tags': {}},\n 'use_best_model': True,\n 'meta_l2_frequency': 0,\n 'od_wait': 300,\n 'class_names': [0, 1],\n 'random_seed': 659,\n 'depth': 6,\n 'ctr_target_border_count': 1,\n 'has_time': False,\n 'fold_len_multiplier': 2,\n 'border_count': 128,\n 'min_fold_size': 100,\n 'class_weights': [1, 3.933899164199829],\n 'data_partition': 'FeatureParallel',\n 'bagging_temperature': 1,\n 'classes_count': 0,\n 'auto_class_weights': 'Balanced',\n 'leaf_estimation_backtracking': 'AnyImprovement',\n 'best_model_min_trees': 1,\n 'min_data_in_leaf': 1,\n 'add_ridge_penalty_to_loss_function': False,\n 'loss_function': 'Logloss',\n 'learning_rate': 0.30000001192092896,\n 'meta_l2_exponent': 1,\n 'score_function': 'Cosine',\n 'task_type': 'GPU',\n 'leaf_estimation_iterations': 10,\n 'bootstrap_type': 'Bayesian',\n 'max_leaves': 64,\n 'permutation_count': 4}"
     },
     "execution_count": 167,
     "metadata": {},
     "output_type": "execute_result"
    }
   ],
   "source": [
    "model.get_all_params()"
   ],
   "metadata": {
    "collapsed": false,
    "pycharm": {
     "name": "#%%\n"
    }
   }
  },
  {
   "cell_type": "markdown",
   "source": [
    "### lr=0.35"
   ],
   "metadata": {
    "collapsed": false,
    "pycharm": {
     "name": "#%% md\n"
    }
   }
  },
  {
   "cell_type": "code",
   "execution_count": 168,
   "outputs": [],
   "source": [
    "parameters = {'cat_features': cat_features,\n",
    "              'eval_metric': 'F1',\n",
    "              'loss_function': 'Logloss',\n",
    "              'random_seed': 659,\n",
    "              'verbose': 100,\n",
    "              'auto_class_weights': 'Balanced',\n",
    "              'task_type': 'GPU',\n",
    "              'iterations': 1000,\n",
    "              'learning_rate': 0.35,\n",
    "              'early_stopping_rounds': 300}"
   ],
   "metadata": {
    "collapsed": false,
    "pycharm": {
     "name": "#%%\n"
    }
   }
  },
  {
   "cell_type": "code",
   "execution_count": 169,
   "outputs": [],
   "source": [
    "model = CatBoostClassifier(**parameters)"
   ],
   "metadata": {
    "collapsed": false,
    "pycharm": {
     "name": "#%%\n"
    }
   }
  },
  {
   "cell_type": "code",
   "execution_count": 170,
   "outputs": [
    {
     "data": {
      "text/plain": "MetricVisualizer(layout=Layout(align_self='stretch', height='500px'))",
      "application/vnd.jupyter.widget-view+json": {
       "version_major": 2,
       "version_minor": 0,
       "model_id": "71fea79e13d64c6f9920c2ab8b92489a"
      }
     },
     "metadata": {},
     "output_type": "display_data"
    },
    {
     "name": "stdout",
     "output_type": "stream",
     "text": [
      "0:\tlearn: 0.6100672\ttest: 0.5636089\tbest: 0.5636089 (0)\ttotal: 37.9ms\tremaining: 37.9s\n",
      "100:\tlearn: 0.7714519\ttest: 0.5881620\tbest: 0.6205451 (18)\ttotal: 3.48s\tremaining: 31s\n",
      "200:\tlearn: 0.8107328\ttest: 0.5663154\tbest: 0.6205451 (18)\ttotal: 6.81s\tremaining: 27.1s\n",
      "300:\tlearn: 0.8455398\ttest: 0.5660536\tbest: 0.6205451 (18)\ttotal: 10.3s\tremaining: 23.8s\n",
      "bestTest = 0.6205451493\n",
      "bestIteration = 18\n",
      "Shrink model to first 19 iterations.\n",
      "CPU times: total: 14.4 s\n",
      "Wall time: 11.2 s\n"
     ]
    },
    {
     "data": {
      "text/plain": "<catboost.core.CatBoostClassifier at 0x2412e99c790>"
     },
     "execution_count": 170,
     "metadata": {},
     "output_type": "execute_result"
    }
   ],
   "source": [
    "%%time\n",
    "model.fit(train_data, eval_set=test_data, plot=True)"
   ],
   "metadata": {
    "collapsed": false,
    "pycharm": {
     "name": "#%%\n"
    }
   }
  },
  {
   "cell_type": "code",
   "execution_count": 171,
   "outputs": [
    {
     "data": {
      "text/plain": "             Feature Id  Importances\n0                   gtp    15.454291\n1                   age    15.226353\n2          triglyceride    10.439245\n3                   alt     9.531346\n4                   ldl     7.968584\n5            hemoglobin     6.826431\n6             waist_cm_     5.996122\n7      serum_creatinine     5.576727\n8            relaxation     4.619504\n9                   hdl     3.935617\n10  fasting_blood_sugar     3.267649\n11                  ast     3.110447\n12        dental_caries     2.812735\n13               tartar     2.785219\n14           weight_kg_     2.449731",
      "text/html": "<div>\n<style scoped>\n    .dataframe tbody tr th:only-of-type {\n        vertical-align: middle;\n    }\n\n    .dataframe tbody tr th {\n        vertical-align: top;\n    }\n\n    .dataframe thead th {\n        text-align: right;\n    }\n</style>\n<table border=\"1\" class=\"dataframe\">\n  <thead>\n    <tr style=\"text-align: right;\">\n      <th></th>\n      <th>Feature Id</th>\n      <th>Importances</th>\n    </tr>\n  </thead>\n  <tbody>\n    <tr>\n      <th>0</th>\n      <td>gtp</td>\n      <td>15.454291</td>\n    </tr>\n    <tr>\n      <th>1</th>\n      <td>age</td>\n      <td>15.226353</td>\n    </tr>\n    <tr>\n      <th>2</th>\n      <td>triglyceride</td>\n      <td>10.439245</td>\n    </tr>\n    <tr>\n      <th>3</th>\n      <td>alt</td>\n      <td>9.531346</td>\n    </tr>\n    <tr>\n      <th>4</th>\n      <td>ldl</td>\n      <td>7.968584</td>\n    </tr>\n    <tr>\n      <th>5</th>\n      <td>hemoglobin</td>\n      <td>6.826431</td>\n    </tr>\n    <tr>\n      <th>6</th>\n      <td>waist_cm_</td>\n      <td>5.996122</td>\n    </tr>\n    <tr>\n      <th>7</th>\n      <td>serum_creatinine</td>\n      <td>5.576727</td>\n    </tr>\n    <tr>\n      <th>8</th>\n      <td>relaxation</td>\n      <td>4.619504</td>\n    </tr>\n    <tr>\n      <th>9</th>\n      <td>hdl</td>\n      <td>3.935617</td>\n    </tr>\n    <tr>\n      <th>10</th>\n      <td>fasting_blood_sugar</td>\n      <td>3.267649</td>\n    </tr>\n    <tr>\n      <th>11</th>\n      <td>ast</td>\n      <td>3.110447</td>\n    </tr>\n    <tr>\n      <th>12</th>\n      <td>dental_caries</td>\n      <td>2.812735</td>\n    </tr>\n    <tr>\n      <th>13</th>\n      <td>tartar</td>\n      <td>2.785219</td>\n    </tr>\n    <tr>\n      <th>14</th>\n      <td>weight_kg_</td>\n      <td>2.449731</td>\n    </tr>\n  </tbody>\n</table>\n</div>"
     },
     "execution_count": 171,
     "metadata": {},
     "output_type": "execute_result"
    }
   ],
   "source": [
    "model.get_feature_importance(prettified=True)"
   ],
   "metadata": {
    "collapsed": false,
    "pycharm": {
     "name": "#%%\n"
    }
   }
  },
  {
   "cell_type": "code",
   "execution_count": 172,
   "outputs": [
    {
     "data": {
      "text/plain": "{'iterations': 1000,\n 'learning_rate': 0.35,\n 'loss_function': 'Logloss',\n 'random_seed': 659,\n 'verbose': 100,\n 'auto_class_weights': 'Balanced',\n 'eval_metric': 'F1',\n 'task_type': 'GPU',\n 'early_stopping_rounds': 300,\n 'cat_features': ['tartar']}"
     },
     "execution_count": 172,
     "metadata": {},
     "output_type": "execute_result"
    }
   ],
   "source": [
    "model.get_params()"
   ],
   "metadata": {
    "collapsed": false,
    "pycharm": {
     "name": "#%%\n"
    }
   }
  },
  {
   "cell_type": "code",
   "execution_count": 173,
   "outputs": [
    {
     "data": {
      "text/plain": "{'nan_mode': 'Min',\n 'gpu_ram_part': 0.95,\n 'eval_metric': 'F1',\n 'combinations_ctr': ['Borders:CtrBorderCount=15:CtrBorderType=Uniform:TargetBorderCount=1:TargetBorderType=MinEntropy:Prior=0/1:Prior=0.5/1:Prior=1/1',\n  'FeatureFreq:CtrBorderCount=15:CtrBorderType=Median:Prior=0/1'],\n 'iterations': 1000,\n 'fold_permutation_block': 64,\n 'leaf_estimation_method': 'Newton',\n 'observations_to_bootstrap': 'TestOnly',\n 'od_pval': 0,\n 'counter_calc_method': 'SkipTest',\n 'grow_policy': 'SymmetricTree',\n 'penalties_coefficient': 1,\n 'boosting_type': 'Ordered',\n 'ctr_history_unit': 'Sample',\n 'feature_border_type': 'GreedyLogSum',\n 'bayesian_matrix_reg': 0.10000000149011612,\n 'one_hot_max_size': 2,\n 'devices': '-1',\n 'eval_fraction': 0,\n 'pinned_memory_bytes': '104857600',\n 'force_unit_auto_pair_weights': False,\n 'l2_leaf_reg': 3,\n 'random_strength': 1,\n 'od_type': 'Iter',\n 'rsm': 1,\n 'boost_from_average': False,\n 'gpu_cat_features_storage': 'GpuRam',\n 'fold_size_loss_normalization': False,\n 'max_ctr_complexity': 4,\n 'model_size_reg': 0.5,\n 'simple_ctr': ['Borders:CtrBorderCount=15:CtrBorderType=Uniform:TargetBorderCount=1:TargetBorderType=MinEntropy:Prior=0/1:Prior=0.5/1:Prior=1/1',\n  'FeatureFreq:CtrBorderCount=15:CtrBorderType=MinEntropy:Prior=0/1'],\n 'pool_metainfo_options': {'tags': {}},\n 'use_best_model': True,\n 'meta_l2_frequency': 0,\n 'od_wait': 300,\n 'class_names': [0, 1],\n 'random_seed': 659,\n 'depth': 6,\n 'ctr_target_border_count': 1,\n 'has_time': False,\n 'fold_len_multiplier': 2,\n 'border_count': 128,\n 'min_fold_size': 100,\n 'class_weights': [1, 3.933899164199829],\n 'data_partition': 'FeatureParallel',\n 'bagging_temperature': 1,\n 'classes_count': 0,\n 'auto_class_weights': 'Balanced',\n 'leaf_estimation_backtracking': 'AnyImprovement',\n 'best_model_min_trees': 1,\n 'min_data_in_leaf': 1,\n 'add_ridge_penalty_to_loss_function': False,\n 'loss_function': 'Logloss',\n 'learning_rate': 0.3499999940395355,\n 'meta_l2_exponent': 1,\n 'score_function': 'Cosine',\n 'task_type': 'GPU',\n 'leaf_estimation_iterations': 10,\n 'bootstrap_type': 'Bayesian',\n 'max_leaves': 64,\n 'permutation_count': 4}"
     },
     "execution_count": 173,
     "metadata": {},
     "output_type": "execute_result"
    }
   ],
   "source": [
    "model.get_all_params()"
   ],
   "metadata": {
    "collapsed": false,
    "pycharm": {
     "name": "#%%\n"
    }
   }
  },
  {
   "cell_type": "markdown",
   "source": [
    "### lr=0.4"
   ],
   "metadata": {
    "collapsed": false,
    "pycharm": {
     "name": "#%% md\n"
    }
   }
  },
  {
   "cell_type": "code",
   "execution_count": 174,
   "outputs": [],
   "source": [
    "parameters = {'cat_features': cat_features,\n",
    "              'eval_metric': 'F1',\n",
    "              'loss_function': 'Logloss',\n",
    "              'random_seed': 659,\n",
    "              'verbose': 100,\n",
    "              'auto_class_weights': 'Balanced',\n",
    "              'task_type': 'GPU',\n",
    "              'iterations': 1000,\n",
    "              'learning_rate': 0.4,\n",
    "              'early_stopping_rounds': 300}"
   ],
   "metadata": {
    "collapsed": false,
    "pycharm": {
     "name": "#%%\n"
    }
   }
  },
  {
   "cell_type": "code",
   "execution_count": 175,
   "outputs": [],
   "source": [
    "model = CatBoostClassifier(**parameters)"
   ],
   "metadata": {
    "collapsed": false,
    "pycharm": {
     "name": "#%%\n"
    }
   }
  },
  {
   "cell_type": "code",
   "execution_count": 176,
   "outputs": [
    {
     "data": {
      "text/plain": "MetricVisualizer(layout=Layout(align_self='stretch', height='500px'))",
      "application/vnd.jupyter.widget-view+json": {
       "version_major": 2,
       "version_minor": 0,
       "model_id": "e3e255ec0bee4c7cbe4bb784f57f5c62"
      }
     },
     "metadata": {},
     "output_type": "display_data"
    },
    {
     "name": "stdout",
     "output_type": "stream",
     "text": [
      "0:\tlearn: 0.6100672\ttest: 0.5636089\tbest: 0.5636089 (0)\ttotal: 39ms\tremaining: 39s\n",
      "100:\tlearn: 0.7859360\ttest: 0.5818128\tbest: 0.6160423 (16)\ttotal: 3.54s\tremaining: 31.5s\n",
      "200:\tlearn: 0.8313727\ttest: 0.5707327\tbest: 0.6160423 (16)\ttotal: 7.01s\tremaining: 27.9s\n",
      "300:\tlearn: 0.8567548\ttest: 0.5410535\tbest: 0.6160423 (16)\ttotal: 10.4s\tremaining: 24.3s\n",
      "bestTest = 0.6160422652\n",
      "bestIteration = 16\n",
      "Shrink model to first 17 iterations.\n",
      "CPU times: total: 14.1 s\n",
      "Wall time: 11.3 s\n"
     ]
    },
    {
     "data": {
      "text/plain": "<catboost.core.CatBoostClassifier at 0x2412f670eb0>"
     },
     "execution_count": 176,
     "metadata": {},
     "output_type": "execute_result"
    }
   ],
   "source": [
    "%%time\n",
    "model.fit(train_data, eval_set=test_data, plot=True)"
   ],
   "metadata": {
    "collapsed": false,
    "pycharm": {
     "name": "#%%\n"
    }
   }
  },
  {
   "cell_type": "code",
   "execution_count": 177,
   "outputs": [
    {
     "data": {
      "text/plain": "             Feature Id  Importances\n0                   age    14.842007\n1                   gtp    14.407037\n2            hemoglobin    10.829226\n3          triglyceride     8.802691\n4                   ldl     7.859174\n5                   alt     7.831923\n6      serum_creatinine     6.321796\n7             waist_cm_     5.179039\n8            relaxation     4.999618\n9                   ast     4.501308\n10  fasting_blood_sugar     4.048832\n11                  hdl     3.919839\n12        dental_caries     2.668649\n13               tartar     2.477221\n14           weight_kg_     1.311642",
      "text/html": "<div>\n<style scoped>\n    .dataframe tbody tr th:only-of-type {\n        vertical-align: middle;\n    }\n\n    .dataframe tbody tr th {\n        vertical-align: top;\n    }\n\n    .dataframe thead th {\n        text-align: right;\n    }\n</style>\n<table border=\"1\" class=\"dataframe\">\n  <thead>\n    <tr style=\"text-align: right;\">\n      <th></th>\n      <th>Feature Id</th>\n      <th>Importances</th>\n    </tr>\n  </thead>\n  <tbody>\n    <tr>\n      <th>0</th>\n      <td>age</td>\n      <td>14.842007</td>\n    </tr>\n    <tr>\n      <th>1</th>\n      <td>gtp</td>\n      <td>14.407037</td>\n    </tr>\n    <tr>\n      <th>2</th>\n      <td>hemoglobin</td>\n      <td>10.829226</td>\n    </tr>\n    <tr>\n      <th>3</th>\n      <td>triglyceride</td>\n      <td>8.802691</td>\n    </tr>\n    <tr>\n      <th>4</th>\n      <td>ldl</td>\n      <td>7.859174</td>\n    </tr>\n    <tr>\n      <th>5</th>\n      <td>alt</td>\n      <td>7.831923</td>\n    </tr>\n    <tr>\n      <th>6</th>\n      <td>serum_creatinine</td>\n      <td>6.321796</td>\n    </tr>\n    <tr>\n      <th>7</th>\n      <td>waist_cm_</td>\n      <td>5.179039</td>\n    </tr>\n    <tr>\n      <th>8</th>\n      <td>relaxation</td>\n      <td>4.999618</td>\n    </tr>\n    <tr>\n      <th>9</th>\n      <td>ast</td>\n      <td>4.501308</td>\n    </tr>\n    <tr>\n      <th>10</th>\n      <td>fasting_blood_sugar</td>\n      <td>4.048832</td>\n    </tr>\n    <tr>\n      <th>11</th>\n      <td>hdl</td>\n      <td>3.919839</td>\n    </tr>\n    <tr>\n      <th>12</th>\n      <td>dental_caries</td>\n      <td>2.668649</td>\n    </tr>\n    <tr>\n      <th>13</th>\n      <td>tartar</td>\n      <td>2.477221</td>\n    </tr>\n    <tr>\n      <th>14</th>\n      <td>weight_kg_</td>\n      <td>1.311642</td>\n    </tr>\n  </tbody>\n</table>\n</div>"
     },
     "execution_count": 177,
     "metadata": {},
     "output_type": "execute_result"
    }
   ],
   "source": [
    "model.get_feature_importance(prettified=True)"
   ],
   "metadata": {
    "collapsed": false,
    "pycharm": {
     "name": "#%%\n"
    }
   }
  },
  {
   "cell_type": "code",
   "execution_count": 178,
   "outputs": [
    {
     "data": {
      "text/plain": "{'iterations': 1000,\n 'learning_rate': 0.4,\n 'loss_function': 'Logloss',\n 'random_seed': 659,\n 'verbose': 100,\n 'auto_class_weights': 'Balanced',\n 'eval_metric': 'F1',\n 'task_type': 'GPU',\n 'early_stopping_rounds': 300,\n 'cat_features': ['tartar']}"
     },
     "execution_count": 178,
     "metadata": {},
     "output_type": "execute_result"
    }
   ],
   "source": [
    "model.get_params()"
   ],
   "metadata": {
    "collapsed": false,
    "pycharm": {
     "name": "#%%\n"
    }
   }
  },
  {
   "cell_type": "code",
   "execution_count": 179,
   "outputs": [
    {
     "data": {
      "text/plain": "{'nan_mode': 'Min',\n 'gpu_ram_part': 0.95,\n 'eval_metric': 'F1',\n 'combinations_ctr': ['Borders:CtrBorderCount=15:CtrBorderType=Uniform:TargetBorderCount=1:TargetBorderType=MinEntropy:Prior=0/1:Prior=0.5/1:Prior=1/1',\n  'FeatureFreq:CtrBorderCount=15:CtrBorderType=Median:Prior=0/1'],\n 'iterations': 1000,\n 'fold_permutation_block': 64,\n 'leaf_estimation_method': 'Newton',\n 'observations_to_bootstrap': 'TestOnly',\n 'od_pval': 0,\n 'counter_calc_method': 'SkipTest',\n 'grow_policy': 'SymmetricTree',\n 'penalties_coefficient': 1,\n 'boosting_type': 'Ordered',\n 'ctr_history_unit': 'Sample',\n 'feature_border_type': 'GreedyLogSum',\n 'bayesian_matrix_reg': 0.10000000149011612,\n 'one_hot_max_size': 2,\n 'devices': '-1',\n 'eval_fraction': 0,\n 'pinned_memory_bytes': '104857600',\n 'force_unit_auto_pair_weights': False,\n 'l2_leaf_reg': 3,\n 'random_strength': 1,\n 'od_type': 'Iter',\n 'rsm': 1,\n 'boost_from_average': False,\n 'gpu_cat_features_storage': 'GpuRam',\n 'fold_size_loss_normalization': False,\n 'max_ctr_complexity': 4,\n 'model_size_reg': 0.5,\n 'simple_ctr': ['Borders:CtrBorderCount=15:CtrBorderType=Uniform:TargetBorderCount=1:TargetBorderType=MinEntropy:Prior=0/1:Prior=0.5/1:Prior=1/1',\n  'FeatureFreq:CtrBorderCount=15:CtrBorderType=MinEntropy:Prior=0/1'],\n 'pool_metainfo_options': {'tags': {}},\n 'use_best_model': True,\n 'meta_l2_frequency': 0,\n 'od_wait': 300,\n 'class_names': [0, 1],\n 'random_seed': 659,\n 'depth': 6,\n 'ctr_target_border_count': 1,\n 'has_time': False,\n 'fold_len_multiplier': 2,\n 'border_count': 128,\n 'min_fold_size': 100,\n 'class_weights': [1, 3.933899164199829],\n 'data_partition': 'FeatureParallel',\n 'bagging_temperature': 1,\n 'classes_count': 0,\n 'auto_class_weights': 'Balanced',\n 'leaf_estimation_backtracking': 'AnyImprovement',\n 'best_model_min_trees': 1,\n 'min_data_in_leaf': 1,\n 'add_ridge_penalty_to_loss_function': False,\n 'loss_function': 'Logloss',\n 'learning_rate': 0.4000000059604645,\n 'meta_l2_exponent': 1,\n 'score_function': 'Cosine',\n 'task_type': 'GPU',\n 'leaf_estimation_iterations': 10,\n 'bootstrap_type': 'Bayesian',\n 'max_leaves': 64,\n 'permutation_count': 4}"
     },
     "execution_count": 179,
     "metadata": {},
     "output_type": "execute_result"
    }
   ],
   "source": [
    "model.get_all_params()"
   ],
   "metadata": {
    "collapsed": false,
    "pycharm": {
     "name": "#%%\n"
    }
   }
  },
  {
   "cell_type": "markdown",
   "source": [
    "### lr=0.45"
   ],
   "metadata": {
    "collapsed": false,
    "pycharm": {
     "name": "#%% md\n"
    }
   }
  },
  {
   "cell_type": "code",
   "execution_count": 180,
   "outputs": [],
   "source": [
    "parameters = {'cat_features': cat_features,\n",
    "              'eval_metric': 'F1',\n",
    "              'loss_function': 'Logloss',\n",
    "              'random_seed': 659,\n",
    "              'verbose': 100,\n",
    "              'auto_class_weights': 'Balanced',\n",
    "              'task_type': 'GPU',\n",
    "              'iterations': 1000,\n",
    "              'learning_rate': 0.45,\n",
    "              'early_stopping_rounds': 300}"
   ],
   "metadata": {
    "collapsed": false,
    "pycharm": {
     "name": "#%%\n"
    }
   }
  },
  {
   "cell_type": "code",
   "execution_count": 181,
   "outputs": [],
   "source": [
    "model = CatBoostClassifier(**parameters)"
   ],
   "metadata": {
    "collapsed": false,
    "pycharm": {
     "name": "#%%\n"
    }
   }
  },
  {
   "cell_type": "code",
   "execution_count": 182,
   "outputs": [
    {
     "data": {
      "text/plain": "MetricVisualizer(layout=Layout(align_self='stretch', height='500px'))",
      "application/vnd.jupyter.widget-view+json": {
       "version_major": 2,
       "version_minor": 0,
       "model_id": "9df30bec46974d45b62c3d6ab3ca271d"
      }
     },
     "metadata": {},
     "output_type": "display_data"
    },
    {
     "name": "stdout",
     "output_type": "stream",
     "text": [
      "0:\tlearn: 0.6100672\ttest: 0.5636089\tbest: 0.5636089 (0)\ttotal: 37.5ms\tremaining: 37.4s\n",
      "100:\tlearn: 0.7829179\ttest: 0.5846162\tbest: 0.6161407 (8)\ttotal: 3.52s\tremaining: 31.4s\n",
      "200:\tlearn: 0.8186430\ttest: 0.5753645\tbest: 0.6161407 (8)\ttotal: 6.91s\tremaining: 27.5s\n",
      "300:\tlearn: 0.8410798\ttest: 0.5553895\tbest: 0.6161407 (8)\ttotal: 10.3s\tremaining: 23.9s\n",
      "bestTest = 0.6161406828\n",
      "bestIteration = 8\n",
      "Shrink model to first 9 iterations.\n",
      "CPU times: total: 13.8 s\n",
      "Wall time: 10.9 s\n"
     ]
    },
    {
     "data": {
      "text/plain": "<catboost.core.CatBoostClassifier at 0x2412f670850>"
     },
     "execution_count": 182,
     "metadata": {},
     "output_type": "execute_result"
    }
   ],
   "source": [
    "%%time\n",
    "model.fit(train_data, eval_set=test_data, plot=True)"
   ],
   "metadata": {
    "collapsed": false,
    "pycharm": {
     "name": "#%%\n"
    }
   }
  },
  {
   "cell_type": "code",
   "execution_count": 183,
   "outputs": [
    {
     "data": {
      "text/plain": "             Feature Id  Importances\n0                   gtp    19.179663\n1                   age    18.320795\n2          triglyceride    11.120614\n3                   ldl     7.919958\n4                   alt     7.164614\n5            hemoglobin     5.694597\n6                   ast     5.135483\n7         dental_caries     4.442207\n8             waist_cm_     4.230629\n9      serum_creatinine     3.740599\n10           relaxation     3.223208\n11                  hdl     3.185402\n12           weight_kg_     2.709245\n13               tartar     2.280227\n14  fasting_blood_sugar     1.652761",
      "text/html": "<div>\n<style scoped>\n    .dataframe tbody tr th:only-of-type {\n        vertical-align: middle;\n    }\n\n    .dataframe tbody tr th {\n        vertical-align: top;\n    }\n\n    .dataframe thead th {\n        text-align: right;\n    }\n</style>\n<table border=\"1\" class=\"dataframe\">\n  <thead>\n    <tr style=\"text-align: right;\">\n      <th></th>\n      <th>Feature Id</th>\n      <th>Importances</th>\n    </tr>\n  </thead>\n  <tbody>\n    <tr>\n      <th>0</th>\n      <td>gtp</td>\n      <td>19.179663</td>\n    </tr>\n    <tr>\n      <th>1</th>\n      <td>age</td>\n      <td>18.320795</td>\n    </tr>\n    <tr>\n      <th>2</th>\n      <td>triglyceride</td>\n      <td>11.120614</td>\n    </tr>\n    <tr>\n      <th>3</th>\n      <td>ldl</td>\n      <td>7.919958</td>\n    </tr>\n    <tr>\n      <th>4</th>\n      <td>alt</td>\n      <td>7.164614</td>\n    </tr>\n    <tr>\n      <th>5</th>\n      <td>hemoglobin</td>\n      <td>5.694597</td>\n    </tr>\n    <tr>\n      <th>6</th>\n      <td>ast</td>\n      <td>5.135483</td>\n    </tr>\n    <tr>\n      <th>7</th>\n      <td>dental_caries</td>\n      <td>4.442207</td>\n    </tr>\n    <tr>\n      <th>8</th>\n      <td>waist_cm_</td>\n      <td>4.230629</td>\n    </tr>\n    <tr>\n      <th>9</th>\n      <td>serum_creatinine</td>\n      <td>3.740599</td>\n    </tr>\n    <tr>\n      <th>10</th>\n      <td>relaxation</td>\n      <td>3.223208</td>\n    </tr>\n    <tr>\n      <th>11</th>\n      <td>hdl</td>\n      <td>3.185402</td>\n    </tr>\n    <tr>\n      <th>12</th>\n      <td>weight_kg_</td>\n      <td>2.709245</td>\n    </tr>\n    <tr>\n      <th>13</th>\n      <td>tartar</td>\n      <td>2.280227</td>\n    </tr>\n    <tr>\n      <th>14</th>\n      <td>fasting_blood_sugar</td>\n      <td>1.652761</td>\n    </tr>\n  </tbody>\n</table>\n</div>"
     },
     "execution_count": 183,
     "metadata": {},
     "output_type": "execute_result"
    }
   ],
   "source": [
    "model.get_feature_importance(prettified=True)"
   ],
   "metadata": {
    "collapsed": false,
    "pycharm": {
     "name": "#%%\n"
    }
   }
  },
  {
   "cell_type": "code",
   "execution_count": 184,
   "outputs": [
    {
     "data": {
      "text/plain": "{'iterations': 1000,\n 'learning_rate': 0.45,\n 'loss_function': 'Logloss',\n 'random_seed': 659,\n 'verbose': 100,\n 'auto_class_weights': 'Balanced',\n 'eval_metric': 'F1',\n 'task_type': 'GPU',\n 'early_stopping_rounds': 300,\n 'cat_features': ['tartar']}"
     },
     "execution_count": 184,
     "metadata": {},
     "output_type": "execute_result"
    }
   ],
   "source": [
    "model.get_params()"
   ],
   "metadata": {
    "collapsed": false,
    "pycharm": {
     "name": "#%%\n"
    }
   }
  },
  {
   "cell_type": "code",
   "execution_count": 185,
   "outputs": [
    {
     "data": {
      "text/plain": "{'nan_mode': 'Min',\n 'gpu_ram_part': 0.95,\n 'eval_metric': 'F1',\n 'combinations_ctr': ['Borders:CtrBorderCount=15:CtrBorderType=Uniform:TargetBorderCount=1:TargetBorderType=MinEntropy:Prior=0/1:Prior=0.5/1:Prior=1/1',\n  'FeatureFreq:CtrBorderCount=15:CtrBorderType=Median:Prior=0/1'],\n 'iterations': 1000,\n 'fold_permutation_block': 64,\n 'leaf_estimation_method': 'Newton',\n 'observations_to_bootstrap': 'TestOnly',\n 'od_pval': 0,\n 'counter_calc_method': 'SkipTest',\n 'grow_policy': 'SymmetricTree',\n 'penalties_coefficient': 1,\n 'boosting_type': 'Ordered',\n 'ctr_history_unit': 'Sample',\n 'feature_border_type': 'GreedyLogSum',\n 'bayesian_matrix_reg': 0.10000000149011612,\n 'one_hot_max_size': 2,\n 'devices': '-1',\n 'eval_fraction': 0,\n 'pinned_memory_bytes': '104857600',\n 'force_unit_auto_pair_weights': False,\n 'l2_leaf_reg': 3,\n 'random_strength': 1,\n 'od_type': 'Iter',\n 'rsm': 1,\n 'boost_from_average': False,\n 'gpu_cat_features_storage': 'GpuRam',\n 'fold_size_loss_normalization': False,\n 'max_ctr_complexity': 4,\n 'model_size_reg': 0.5,\n 'simple_ctr': ['Borders:CtrBorderCount=15:CtrBorderType=Uniform:TargetBorderCount=1:TargetBorderType=MinEntropy:Prior=0/1:Prior=0.5/1:Prior=1/1',\n  'FeatureFreq:CtrBorderCount=15:CtrBorderType=MinEntropy:Prior=0/1'],\n 'pool_metainfo_options': {'tags': {}},\n 'use_best_model': True,\n 'meta_l2_frequency': 0,\n 'od_wait': 300,\n 'class_names': [0, 1],\n 'random_seed': 659,\n 'depth': 6,\n 'ctr_target_border_count': 1,\n 'has_time': False,\n 'fold_len_multiplier': 2,\n 'border_count': 128,\n 'min_fold_size': 100,\n 'class_weights': [1, 3.933899164199829],\n 'data_partition': 'FeatureParallel',\n 'bagging_temperature': 1,\n 'classes_count': 0,\n 'auto_class_weights': 'Balanced',\n 'leaf_estimation_backtracking': 'AnyImprovement',\n 'best_model_min_trees': 1,\n 'min_data_in_leaf': 1,\n 'add_ridge_penalty_to_loss_function': False,\n 'loss_function': 'Logloss',\n 'learning_rate': 0.44999998807907104,\n 'meta_l2_exponent': 1,\n 'score_function': 'Cosine',\n 'task_type': 'GPU',\n 'leaf_estimation_iterations': 10,\n 'bootstrap_type': 'Bayesian',\n 'max_leaves': 64,\n 'permutation_count': 4}"
     },
     "execution_count": 185,
     "metadata": {},
     "output_type": "execute_result"
    }
   ],
   "source": [
    "model.get_all_params()"
   ],
   "metadata": {
    "collapsed": false,
    "pycharm": {
     "name": "#%%\n"
    }
   }
  },
  {
   "cell_type": "markdown",
   "source": [
    "### lr=0.5"
   ],
   "metadata": {
    "collapsed": false,
    "pycharm": {
     "name": "#%% md\n"
    }
   }
  },
  {
   "cell_type": "code",
   "execution_count": 186,
   "outputs": [],
   "source": [
    "parameters = {'cat_features': cat_features,\n",
    "              'eval_metric': 'F1',\n",
    "              'loss_function': 'Logloss',\n",
    "              'random_seed': 659,\n",
    "              'verbose': 100,\n",
    "              'auto_class_weights': 'Balanced',\n",
    "              'task_type': 'GPU',\n",
    "              'iterations': 1000,\n",
    "              'learning_rate': 0.5,\n",
    "              'early_stopping_rounds': 300}"
   ],
   "metadata": {
    "collapsed": false,
    "pycharm": {
     "name": "#%%\n"
    }
   }
  },
  {
   "cell_type": "code",
   "execution_count": 187,
   "outputs": [],
   "source": [
    "model = CatBoostClassifier(**parameters)"
   ],
   "metadata": {
    "collapsed": false,
    "pycharm": {
     "name": "#%%\n"
    }
   }
  },
  {
   "cell_type": "code",
   "execution_count": 188,
   "outputs": [
    {
     "data": {
      "text/plain": "MetricVisualizer(layout=Layout(align_self='stretch', height='500px'))",
      "application/vnd.jupyter.widget-view+json": {
       "version_major": 2,
       "version_minor": 0,
       "model_id": "5c1901cd8caf44e9b5c18377393fef6c"
      }
     },
     "metadata": {},
     "output_type": "display_data"
    },
    {
     "name": "stdout",
     "output_type": "stream",
     "text": [
      "0:\tlearn: 0.6100672\ttest: 0.5636089\tbest: 0.5636089 (0)\ttotal: 37.3ms\tremaining: 37.3s\n",
      "100:\tlearn: 0.7820298\ttest: 0.5693494\tbest: 0.6093842 (9)\ttotal: 3.53s\tremaining: 31.4s\n",
      "200:\tlearn: 0.8238545\ttest: 0.5509864\tbest: 0.6093842 (9)\ttotal: 6.97s\tremaining: 27.7s\n",
      "300:\tlearn: 0.8463871\ttest: 0.5368074\tbest: 0.6093842 (9)\ttotal: 10.4s\tremaining: 24s\n",
      "bestTest = 0.6093842131\n",
      "bestIteration = 9\n",
      "Shrink model to first 10 iterations.\n",
      "CPU times: total: 13.9 s\n",
      "Wall time: 11 s\n"
     ]
    },
    {
     "data": {
      "text/plain": "<catboost.core.CatBoostClassifier at 0x2412f673130>"
     },
     "execution_count": 188,
     "metadata": {},
     "output_type": "execute_result"
    }
   ],
   "source": [
    "%%time\n",
    "model.fit(train_data, eval_set=test_data, plot=True)"
   ],
   "metadata": {
    "collapsed": false,
    "pycharm": {
     "name": "#%%\n"
    }
   }
  },
  {
   "cell_type": "code",
   "execution_count": 189,
   "outputs": [
    {
     "data": {
      "text/plain": "             Feature Id  Importances\n0                   gtp    19.152133\n1                   age    14.805584\n2                   alt     9.463284\n3            hemoglobin     9.053519\n4          triglyceride     8.427684\n5                   ldl     7.167394\n6             waist_cm_     5.160991\n7   fasting_blood_sugar     5.007034\n8            weight_kg_     4.374290\n9      serum_creatinine     4.171003\n10                  hdl     4.111689\n11                  ast     3.996743\n12               tartar     1.937199\n13        dental_caries     1.701723\n14           relaxation     1.469730",
      "text/html": "<div>\n<style scoped>\n    .dataframe tbody tr th:only-of-type {\n        vertical-align: middle;\n    }\n\n    .dataframe tbody tr th {\n        vertical-align: top;\n    }\n\n    .dataframe thead th {\n        text-align: right;\n    }\n</style>\n<table border=\"1\" class=\"dataframe\">\n  <thead>\n    <tr style=\"text-align: right;\">\n      <th></th>\n      <th>Feature Id</th>\n      <th>Importances</th>\n    </tr>\n  </thead>\n  <tbody>\n    <tr>\n      <th>0</th>\n      <td>gtp</td>\n      <td>19.152133</td>\n    </tr>\n    <tr>\n      <th>1</th>\n      <td>age</td>\n      <td>14.805584</td>\n    </tr>\n    <tr>\n      <th>2</th>\n      <td>alt</td>\n      <td>9.463284</td>\n    </tr>\n    <tr>\n      <th>3</th>\n      <td>hemoglobin</td>\n      <td>9.053519</td>\n    </tr>\n    <tr>\n      <th>4</th>\n      <td>triglyceride</td>\n      <td>8.427684</td>\n    </tr>\n    <tr>\n      <th>5</th>\n      <td>ldl</td>\n      <td>7.167394</td>\n    </tr>\n    <tr>\n      <th>6</th>\n      <td>waist_cm_</td>\n      <td>5.160991</td>\n    </tr>\n    <tr>\n      <th>7</th>\n      <td>fasting_blood_sugar</td>\n      <td>5.007034</td>\n    </tr>\n    <tr>\n      <th>8</th>\n      <td>weight_kg_</td>\n      <td>4.374290</td>\n    </tr>\n    <tr>\n      <th>9</th>\n      <td>serum_creatinine</td>\n      <td>4.171003</td>\n    </tr>\n    <tr>\n      <th>10</th>\n      <td>hdl</td>\n      <td>4.111689</td>\n    </tr>\n    <tr>\n      <th>11</th>\n      <td>ast</td>\n      <td>3.996743</td>\n    </tr>\n    <tr>\n      <th>12</th>\n      <td>tartar</td>\n      <td>1.937199</td>\n    </tr>\n    <tr>\n      <th>13</th>\n      <td>dental_caries</td>\n      <td>1.701723</td>\n    </tr>\n    <tr>\n      <th>14</th>\n      <td>relaxation</td>\n      <td>1.469730</td>\n    </tr>\n  </tbody>\n</table>\n</div>"
     },
     "execution_count": 189,
     "metadata": {},
     "output_type": "execute_result"
    }
   ],
   "source": [
    "model.get_feature_importance(prettified=True)"
   ],
   "metadata": {
    "collapsed": false,
    "pycharm": {
     "name": "#%%\n"
    }
   }
  },
  {
   "cell_type": "code",
   "execution_count": 190,
   "outputs": [
    {
     "data": {
      "text/plain": "{'iterations': 1000,\n 'learning_rate': 0.5,\n 'loss_function': 'Logloss',\n 'random_seed': 659,\n 'verbose': 100,\n 'auto_class_weights': 'Balanced',\n 'eval_metric': 'F1',\n 'task_type': 'GPU',\n 'early_stopping_rounds': 300,\n 'cat_features': ['tartar']}"
     },
     "execution_count": 190,
     "metadata": {},
     "output_type": "execute_result"
    }
   ],
   "source": [
    "model.get_params()"
   ],
   "metadata": {
    "collapsed": false,
    "pycharm": {
     "name": "#%%\n"
    }
   }
  },
  {
   "cell_type": "code",
   "execution_count": 191,
   "outputs": [
    {
     "data": {
      "text/plain": "{'nan_mode': 'Min',\n 'gpu_ram_part': 0.95,\n 'eval_metric': 'F1',\n 'combinations_ctr': ['Borders:CtrBorderCount=15:CtrBorderType=Uniform:TargetBorderCount=1:TargetBorderType=MinEntropy:Prior=0/1:Prior=0.5/1:Prior=1/1',\n  'FeatureFreq:CtrBorderCount=15:CtrBorderType=Median:Prior=0/1'],\n 'iterations': 1000,\n 'fold_permutation_block': 64,\n 'leaf_estimation_method': 'Newton',\n 'observations_to_bootstrap': 'TestOnly',\n 'od_pval': 0,\n 'counter_calc_method': 'SkipTest',\n 'grow_policy': 'SymmetricTree',\n 'penalties_coefficient': 1,\n 'boosting_type': 'Ordered',\n 'ctr_history_unit': 'Sample',\n 'feature_border_type': 'GreedyLogSum',\n 'bayesian_matrix_reg': 0.10000000149011612,\n 'one_hot_max_size': 2,\n 'devices': '-1',\n 'eval_fraction': 0,\n 'pinned_memory_bytes': '104857600',\n 'force_unit_auto_pair_weights': False,\n 'l2_leaf_reg': 3,\n 'random_strength': 1,\n 'od_type': 'Iter',\n 'rsm': 1,\n 'boost_from_average': False,\n 'gpu_cat_features_storage': 'GpuRam',\n 'fold_size_loss_normalization': False,\n 'max_ctr_complexity': 4,\n 'model_size_reg': 0.5,\n 'simple_ctr': ['Borders:CtrBorderCount=15:CtrBorderType=Uniform:TargetBorderCount=1:TargetBorderType=MinEntropy:Prior=0/1:Prior=0.5/1:Prior=1/1',\n  'FeatureFreq:CtrBorderCount=15:CtrBorderType=MinEntropy:Prior=0/1'],\n 'pool_metainfo_options': {'tags': {}},\n 'use_best_model': True,\n 'meta_l2_frequency': 0,\n 'od_wait': 300,\n 'class_names': [0, 1],\n 'random_seed': 659,\n 'depth': 6,\n 'ctr_target_border_count': 1,\n 'has_time': False,\n 'fold_len_multiplier': 2,\n 'border_count': 128,\n 'min_fold_size': 100,\n 'class_weights': [1, 3.933899164199829],\n 'data_partition': 'FeatureParallel',\n 'bagging_temperature': 1,\n 'classes_count': 0,\n 'auto_class_weights': 'Balanced',\n 'leaf_estimation_backtracking': 'AnyImprovement',\n 'best_model_min_trees': 1,\n 'min_data_in_leaf': 1,\n 'add_ridge_penalty_to_loss_function': False,\n 'loss_function': 'Logloss',\n 'learning_rate': 0.5,\n 'meta_l2_exponent': 1,\n 'score_function': 'Cosine',\n 'task_type': 'GPU',\n 'leaf_estimation_iterations': 10,\n 'bootstrap_type': 'Bayesian',\n 'max_leaves': 64,\n 'permutation_count': 4}"
     },
     "execution_count": 191,
     "metadata": {},
     "output_type": "execute_result"
    }
   ],
   "source": [
    "model.get_all_params()"
   ],
   "metadata": {
    "collapsed": false,
    "pycharm": {
     "name": "#%%\n"
    }
   }
  },
  {
   "cell_type": "markdown",
   "source": [
    "### lr=0.55"
   ],
   "metadata": {
    "collapsed": false,
    "pycharm": {
     "name": "#%% md\n"
    }
   }
  },
  {
   "cell_type": "code",
   "execution_count": 192,
   "outputs": [],
   "source": [
    "parameters = {'cat_features': cat_features,\n",
    "              'eval_metric': 'F1',\n",
    "              'loss_function': 'Logloss',\n",
    "              'random_seed': 659,\n",
    "              'verbose': 100,\n",
    "              'auto_class_weights': 'Balanced',\n",
    "              'task_type': 'GPU',\n",
    "              'iterations': 1000,\n",
    "              'learning_rate': 0.55,\n",
    "              'early_stopping_rounds': 300}"
   ],
   "metadata": {
    "collapsed": false,
    "pycharm": {
     "name": "#%%\n"
    }
   }
  },
  {
   "cell_type": "code",
   "execution_count": 193,
   "outputs": [],
   "source": [
    "model = CatBoostClassifier(**parameters)"
   ],
   "metadata": {
    "collapsed": false,
    "pycharm": {
     "name": "#%%\n"
    }
   }
  },
  {
   "cell_type": "code",
   "execution_count": 194,
   "outputs": [
    {
     "data": {
      "text/plain": "MetricVisualizer(layout=Layout(align_self='stretch', height='500px'))",
      "application/vnd.jupyter.widget-view+json": {
       "version_major": 2,
       "version_minor": 0,
       "model_id": "a8844f7c17004e5c99bb2a436071fd1b"
      }
     },
     "metadata": {},
     "output_type": "display_data"
    },
    {
     "name": "stdout",
     "output_type": "stream",
     "text": [
      "0:\tlearn: 0.6100672\ttest: 0.5636089\tbest: 0.5636089 (0)\ttotal: 37.2ms\tremaining: 37.1s\n",
      "100:\tlearn: 0.7985484\ttest: 0.5870585\tbest: 0.6185133 (13)\ttotal: 3.52s\tremaining: 31.4s\n",
      "200:\tlearn: 0.8342962\ttest: 0.5561618\tbest: 0.6185133 (13)\ttotal: 6.92s\tremaining: 27.5s\n",
      "300:\tlearn: 0.8588660\ttest: 0.5478015\tbest: 0.6185133 (13)\ttotal: 10.3s\tremaining: 23.9s\n",
      "bestTest = 0.6185132677\n",
      "bestIteration = 13\n",
      "Shrink model to first 14 iterations.\n",
      "CPU times: total: 13.8 s\n",
      "Wall time: 11.1 s\n"
     ]
    },
    {
     "data": {
      "text/plain": "<catboost.core.CatBoostClassifier at 0x2412f6734c0>"
     },
     "execution_count": 194,
     "metadata": {},
     "output_type": "execute_result"
    }
   ],
   "source": [
    "%%time\n",
    "model.fit(train_data, eval_set=test_data, plot=True)"
   ],
   "metadata": {
    "collapsed": false,
    "pycharm": {
     "name": "#%%\n"
    }
   }
  },
  {
   "cell_type": "code",
   "execution_count": 195,
   "outputs": [
    {
     "data": {
      "text/plain": "             Feature Id  Importances\n0                   age    15.886032\n1                   gtp    14.020746\n2          triglyceride    11.699275\n3                   ldl     9.319123\n4            hemoglobin     8.755903\n5                   alt     8.324779\n6             waist_cm_     5.469857\n7      serum_creatinine     4.816095\n8                   ast     4.405839\n9                   hdl     4.300140\n10  fasting_blood_sugar     3.536561\n11        dental_caries     3.159466\n12               tartar     3.099249\n13           relaxation     2.247028\n14           weight_kg_     0.959908",
      "text/html": "<div>\n<style scoped>\n    .dataframe tbody tr th:only-of-type {\n        vertical-align: middle;\n    }\n\n    .dataframe tbody tr th {\n        vertical-align: top;\n    }\n\n    .dataframe thead th {\n        text-align: right;\n    }\n</style>\n<table border=\"1\" class=\"dataframe\">\n  <thead>\n    <tr style=\"text-align: right;\">\n      <th></th>\n      <th>Feature Id</th>\n      <th>Importances</th>\n    </tr>\n  </thead>\n  <tbody>\n    <tr>\n      <th>0</th>\n      <td>age</td>\n      <td>15.886032</td>\n    </tr>\n    <tr>\n      <th>1</th>\n      <td>gtp</td>\n      <td>14.020746</td>\n    </tr>\n    <tr>\n      <th>2</th>\n      <td>triglyceride</td>\n      <td>11.699275</td>\n    </tr>\n    <tr>\n      <th>3</th>\n      <td>ldl</td>\n      <td>9.319123</td>\n    </tr>\n    <tr>\n      <th>4</th>\n      <td>hemoglobin</td>\n      <td>8.755903</td>\n    </tr>\n    <tr>\n      <th>5</th>\n      <td>alt</td>\n      <td>8.324779</td>\n    </tr>\n    <tr>\n      <th>6</th>\n      <td>waist_cm_</td>\n      <td>5.469857</td>\n    </tr>\n    <tr>\n      <th>7</th>\n      <td>serum_creatinine</td>\n      <td>4.816095</td>\n    </tr>\n    <tr>\n      <th>8</th>\n      <td>ast</td>\n      <td>4.405839</td>\n    </tr>\n    <tr>\n      <th>9</th>\n      <td>hdl</td>\n      <td>4.300140</td>\n    </tr>\n    <tr>\n      <th>10</th>\n      <td>fasting_blood_sugar</td>\n      <td>3.536561</td>\n    </tr>\n    <tr>\n      <th>11</th>\n      <td>dental_caries</td>\n      <td>3.159466</td>\n    </tr>\n    <tr>\n      <th>12</th>\n      <td>tartar</td>\n      <td>3.099249</td>\n    </tr>\n    <tr>\n      <th>13</th>\n      <td>relaxation</td>\n      <td>2.247028</td>\n    </tr>\n    <tr>\n      <th>14</th>\n      <td>weight_kg_</td>\n      <td>0.959908</td>\n    </tr>\n  </tbody>\n</table>\n</div>"
     },
     "execution_count": 195,
     "metadata": {},
     "output_type": "execute_result"
    }
   ],
   "source": [
    "model.get_feature_importance(prettified=True)"
   ],
   "metadata": {
    "collapsed": false,
    "pycharm": {
     "name": "#%%\n"
    }
   }
  },
  {
   "cell_type": "code",
   "execution_count": 196,
   "outputs": [
    {
     "data": {
      "text/plain": "{'iterations': 1000,\n 'learning_rate': 0.55,\n 'loss_function': 'Logloss',\n 'random_seed': 659,\n 'verbose': 100,\n 'auto_class_weights': 'Balanced',\n 'eval_metric': 'F1',\n 'task_type': 'GPU',\n 'early_stopping_rounds': 300,\n 'cat_features': ['tartar']}"
     },
     "execution_count": 196,
     "metadata": {},
     "output_type": "execute_result"
    }
   ],
   "source": [
    "model.get_params()"
   ],
   "metadata": {
    "collapsed": false,
    "pycharm": {
     "name": "#%%\n"
    }
   }
  },
  {
   "cell_type": "code",
   "execution_count": 197,
   "outputs": [
    {
     "data": {
      "text/plain": "{'nan_mode': 'Min',\n 'gpu_ram_part': 0.95,\n 'eval_metric': 'F1',\n 'combinations_ctr': ['Borders:CtrBorderCount=15:CtrBorderType=Uniform:TargetBorderCount=1:TargetBorderType=MinEntropy:Prior=0/1:Prior=0.5/1:Prior=1/1',\n  'FeatureFreq:CtrBorderCount=15:CtrBorderType=Median:Prior=0/1'],\n 'iterations': 1000,\n 'fold_permutation_block': 64,\n 'leaf_estimation_method': 'Newton',\n 'observations_to_bootstrap': 'TestOnly',\n 'od_pval': 0,\n 'counter_calc_method': 'SkipTest',\n 'grow_policy': 'SymmetricTree',\n 'penalties_coefficient': 1,\n 'boosting_type': 'Ordered',\n 'ctr_history_unit': 'Sample',\n 'feature_border_type': 'GreedyLogSum',\n 'bayesian_matrix_reg': 0.10000000149011612,\n 'one_hot_max_size': 2,\n 'devices': '-1',\n 'eval_fraction': 0,\n 'pinned_memory_bytes': '104857600',\n 'force_unit_auto_pair_weights': False,\n 'l2_leaf_reg': 3,\n 'random_strength': 1,\n 'od_type': 'Iter',\n 'rsm': 1,\n 'boost_from_average': False,\n 'gpu_cat_features_storage': 'GpuRam',\n 'fold_size_loss_normalization': False,\n 'max_ctr_complexity': 4,\n 'model_size_reg': 0.5,\n 'simple_ctr': ['Borders:CtrBorderCount=15:CtrBorderType=Uniform:TargetBorderCount=1:TargetBorderType=MinEntropy:Prior=0/1:Prior=0.5/1:Prior=1/1',\n  'FeatureFreq:CtrBorderCount=15:CtrBorderType=MinEntropy:Prior=0/1'],\n 'pool_metainfo_options': {'tags': {}},\n 'use_best_model': True,\n 'meta_l2_frequency': 0,\n 'od_wait': 300,\n 'class_names': [0, 1],\n 'random_seed': 659,\n 'depth': 6,\n 'ctr_target_border_count': 1,\n 'has_time': False,\n 'fold_len_multiplier': 2,\n 'border_count': 128,\n 'min_fold_size': 100,\n 'class_weights': [1, 3.933899164199829],\n 'data_partition': 'FeatureParallel',\n 'bagging_temperature': 1,\n 'classes_count': 0,\n 'auto_class_weights': 'Balanced',\n 'leaf_estimation_backtracking': 'AnyImprovement',\n 'best_model_min_trees': 1,\n 'min_data_in_leaf': 1,\n 'add_ridge_penalty_to_loss_function': False,\n 'loss_function': 'Logloss',\n 'learning_rate': 0.550000011920929,\n 'meta_l2_exponent': 1,\n 'score_function': 'Cosine',\n 'task_type': 'GPU',\n 'leaf_estimation_iterations': 10,\n 'bootstrap_type': 'Bayesian',\n 'max_leaves': 64,\n 'permutation_count': 4}"
     },
     "execution_count": 197,
     "metadata": {},
     "output_type": "execute_result"
    }
   ],
   "source": [
    "model.get_all_params()"
   ],
   "metadata": {
    "collapsed": false,
    "pycharm": {
     "name": "#%%\n"
    }
   }
  },
  {
   "cell_type": "markdown",
   "source": [
    "### lr=0.60"
   ],
   "metadata": {
    "collapsed": false,
    "pycharm": {
     "name": "#%% md\n"
    }
   }
  },
  {
   "cell_type": "code",
   "execution_count": 198,
   "outputs": [],
   "source": [
    "parameters = {'cat_features': cat_features,\n",
    "              'eval_metric': 'F1',\n",
    "              'loss_function': 'Logloss',\n",
    "              'random_seed': 659,\n",
    "              'verbose': 100,\n",
    "              'auto_class_weights': 'Balanced',\n",
    "              'task_type': 'GPU',\n",
    "              'iterations': 1000,\n",
    "              'learning_rate': 0.60,\n",
    "              'early_stopping_rounds': 300}"
   ],
   "metadata": {
    "collapsed": false,
    "pycharm": {
     "name": "#%%\n"
    }
   }
  },
  {
   "cell_type": "code",
   "execution_count": 199,
   "outputs": [],
   "source": [
    "model = CatBoostClassifier(**parameters)"
   ],
   "metadata": {
    "collapsed": false,
    "pycharm": {
     "name": "#%%\n"
    }
   }
  },
  {
   "cell_type": "code",
   "execution_count": 200,
   "outputs": [
    {
     "data": {
      "text/plain": "MetricVisualizer(layout=Layout(align_self='stretch', height='500px'))",
      "application/vnd.jupyter.widget-view+json": {
       "version_major": 2,
       "version_minor": 0,
       "model_id": "15d59a062d9240c393e7c1709b42c6bb"
      }
     },
     "metadata": {},
     "output_type": "display_data"
    },
    {
     "name": "stdout",
     "output_type": "stream",
     "text": [
      "0:\tlearn: 0.6100672\ttest: 0.5636089\tbest: 0.5636089 (0)\ttotal: 37.1ms\tremaining: 37.1s\n",
      "100:\tlearn: 0.7833472\ttest: 0.5639874\tbest: 0.6095257 (8)\ttotal: 3.49s\tremaining: 31.1s\n",
      "200:\tlearn: 0.8272934\ttest: 0.5478841\tbest: 0.6095257 (8)\ttotal: 6.92s\tremaining: 27.5s\n",
      "300:\tlearn: 0.8533147\ttest: 0.5195701\tbest: 0.6095257 (8)\ttotal: 10.3s\tremaining: 23.9s\n",
      "bestTest = 0.6095257208\n",
      "bestIteration = 8\n",
      "Shrink model to first 9 iterations.\n",
      "CPU times: total: 14 s\n",
      "Wall time: 10.9 s\n"
     ]
    },
    {
     "data": {
      "text/plain": "<catboost.core.CatBoostClassifier at 0x2412f6abdc0>"
     },
     "execution_count": 200,
     "metadata": {},
     "output_type": "execute_result"
    }
   ],
   "source": [
    "%%time\n",
    "model.fit(train_data, eval_set=test_data, plot=True)"
   ],
   "metadata": {
    "collapsed": false,
    "pycharm": {
     "name": "#%%\n"
    }
   }
  },
  {
   "cell_type": "code",
   "execution_count": 201,
   "outputs": [
    {
     "data": {
      "text/plain": "             Feature Id  Importances\n0                   age    19.522617\n1                   gtp    14.854092\n2          triglyceride    11.331789\n3                   ldl     8.724279\n4            hemoglobin     8.432799\n5                   alt     7.502147\n6            relaxation     5.202620\n7                   hdl     5.104803\n8                tartar     4.302405\n9      serum_creatinine     3.565487\n10  fasting_blood_sugar     3.112797\n11            waist_cm_     2.519383\n12        dental_caries     2.156548\n13                  ast     1.854917\n14           weight_kg_     1.813317",
      "text/html": "<div>\n<style scoped>\n    .dataframe tbody tr th:only-of-type {\n        vertical-align: middle;\n    }\n\n    .dataframe tbody tr th {\n        vertical-align: top;\n    }\n\n    .dataframe thead th {\n        text-align: right;\n    }\n</style>\n<table border=\"1\" class=\"dataframe\">\n  <thead>\n    <tr style=\"text-align: right;\">\n      <th></th>\n      <th>Feature Id</th>\n      <th>Importances</th>\n    </tr>\n  </thead>\n  <tbody>\n    <tr>\n      <th>0</th>\n      <td>age</td>\n      <td>19.522617</td>\n    </tr>\n    <tr>\n      <th>1</th>\n      <td>gtp</td>\n      <td>14.854092</td>\n    </tr>\n    <tr>\n      <th>2</th>\n      <td>triglyceride</td>\n      <td>11.331789</td>\n    </tr>\n    <tr>\n      <th>3</th>\n      <td>ldl</td>\n      <td>8.724279</td>\n    </tr>\n    <tr>\n      <th>4</th>\n      <td>hemoglobin</td>\n      <td>8.432799</td>\n    </tr>\n    <tr>\n      <th>5</th>\n      <td>alt</td>\n      <td>7.502147</td>\n    </tr>\n    <tr>\n      <th>6</th>\n      <td>relaxation</td>\n      <td>5.202620</td>\n    </tr>\n    <tr>\n      <th>7</th>\n      <td>hdl</td>\n      <td>5.104803</td>\n    </tr>\n    <tr>\n      <th>8</th>\n      <td>tartar</td>\n      <td>4.302405</td>\n    </tr>\n    <tr>\n      <th>9</th>\n      <td>serum_creatinine</td>\n      <td>3.565487</td>\n    </tr>\n    <tr>\n      <th>10</th>\n      <td>fasting_blood_sugar</td>\n      <td>3.112797</td>\n    </tr>\n    <tr>\n      <th>11</th>\n      <td>waist_cm_</td>\n      <td>2.519383</td>\n    </tr>\n    <tr>\n      <th>12</th>\n      <td>dental_caries</td>\n      <td>2.156548</td>\n    </tr>\n    <tr>\n      <th>13</th>\n      <td>ast</td>\n      <td>1.854917</td>\n    </tr>\n    <tr>\n      <th>14</th>\n      <td>weight_kg_</td>\n      <td>1.813317</td>\n    </tr>\n  </tbody>\n</table>\n</div>"
     },
     "execution_count": 201,
     "metadata": {},
     "output_type": "execute_result"
    }
   ],
   "source": [
    "model.get_feature_importance(prettified=True)"
   ],
   "metadata": {
    "collapsed": false,
    "pycharm": {
     "name": "#%%\n"
    }
   }
  },
  {
   "cell_type": "code",
   "execution_count": 202,
   "outputs": [
    {
     "data": {
      "text/plain": "{'iterations': 1000,\n 'learning_rate': 0.6,\n 'loss_function': 'Logloss',\n 'random_seed': 659,\n 'verbose': 100,\n 'auto_class_weights': 'Balanced',\n 'eval_metric': 'F1',\n 'task_type': 'GPU',\n 'early_stopping_rounds': 300,\n 'cat_features': ['tartar']}"
     },
     "execution_count": 202,
     "metadata": {},
     "output_type": "execute_result"
    }
   ],
   "source": [
    "model.get_params()"
   ],
   "metadata": {
    "collapsed": false,
    "pycharm": {
     "name": "#%%\n"
    }
   }
  },
  {
   "cell_type": "code",
   "execution_count": 203,
   "outputs": [
    {
     "data": {
      "text/plain": "{'nan_mode': 'Min',\n 'gpu_ram_part': 0.95,\n 'eval_metric': 'F1',\n 'combinations_ctr': ['Borders:CtrBorderCount=15:CtrBorderType=Uniform:TargetBorderCount=1:TargetBorderType=MinEntropy:Prior=0/1:Prior=0.5/1:Prior=1/1',\n  'FeatureFreq:CtrBorderCount=15:CtrBorderType=Median:Prior=0/1'],\n 'iterations': 1000,\n 'fold_permutation_block': 64,\n 'leaf_estimation_method': 'Newton',\n 'observations_to_bootstrap': 'TestOnly',\n 'od_pval': 0,\n 'counter_calc_method': 'SkipTest',\n 'grow_policy': 'SymmetricTree',\n 'penalties_coefficient': 1,\n 'boosting_type': 'Ordered',\n 'ctr_history_unit': 'Sample',\n 'feature_border_type': 'GreedyLogSum',\n 'bayesian_matrix_reg': 0.10000000149011612,\n 'one_hot_max_size': 2,\n 'devices': '-1',\n 'eval_fraction': 0,\n 'pinned_memory_bytes': '104857600',\n 'force_unit_auto_pair_weights': False,\n 'l2_leaf_reg': 3,\n 'random_strength': 1,\n 'od_type': 'Iter',\n 'rsm': 1,\n 'boost_from_average': False,\n 'gpu_cat_features_storage': 'GpuRam',\n 'fold_size_loss_normalization': False,\n 'max_ctr_complexity': 4,\n 'model_size_reg': 0.5,\n 'simple_ctr': ['Borders:CtrBorderCount=15:CtrBorderType=Uniform:TargetBorderCount=1:TargetBorderType=MinEntropy:Prior=0/1:Prior=0.5/1:Prior=1/1',\n  'FeatureFreq:CtrBorderCount=15:CtrBorderType=MinEntropy:Prior=0/1'],\n 'pool_metainfo_options': {'tags': {}},\n 'use_best_model': True,\n 'meta_l2_frequency': 0,\n 'od_wait': 300,\n 'class_names': [0, 1],\n 'random_seed': 659,\n 'depth': 6,\n 'ctr_target_border_count': 1,\n 'has_time': False,\n 'fold_len_multiplier': 2,\n 'border_count': 128,\n 'min_fold_size': 100,\n 'class_weights': [1, 3.933899164199829],\n 'data_partition': 'FeatureParallel',\n 'bagging_temperature': 1,\n 'classes_count': 0,\n 'auto_class_weights': 'Balanced',\n 'leaf_estimation_backtracking': 'AnyImprovement',\n 'best_model_min_trees': 1,\n 'min_data_in_leaf': 1,\n 'add_ridge_penalty_to_loss_function': False,\n 'loss_function': 'Logloss',\n 'learning_rate': 0.6000000238418579,\n 'meta_l2_exponent': 1,\n 'score_function': 'Cosine',\n 'task_type': 'GPU',\n 'leaf_estimation_iterations': 10,\n 'bootstrap_type': 'Bayesian',\n 'max_leaves': 64,\n 'permutation_count': 4}"
     },
     "execution_count": 203,
     "metadata": {},
     "output_type": "execute_result"
    }
   ],
   "source": [
    "model.get_all_params()"
   ],
   "metadata": {
    "collapsed": false,
    "pycharm": {
     "name": "#%%\n"
    }
   }
  },
  {
   "cell_type": "markdown",
   "source": [
    "### lr=0.65"
   ],
   "metadata": {
    "collapsed": false,
    "pycharm": {
     "name": "#%% md\n"
    }
   }
  },
  {
   "cell_type": "code",
   "execution_count": 204,
   "outputs": [],
   "source": [
    "parameters = {'cat_features': cat_features,\n",
    "              'eval_metric': 'F1',\n",
    "              'loss_function': 'Logloss',\n",
    "              'random_seed': 659,\n",
    "              'verbose': 100,\n",
    "              'auto_class_weights': 'Balanced',\n",
    "              'task_type': 'GPU',\n",
    "              'iterations': 1000,\n",
    "              'learning_rate': 0.65,\n",
    "              'early_stopping_rounds': 300}"
   ],
   "metadata": {
    "collapsed": false,
    "pycharm": {
     "name": "#%%\n"
    }
   }
  },
  {
   "cell_type": "code",
   "execution_count": 205,
   "outputs": [],
   "source": [
    "model = CatBoostClassifier(**parameters)"
   ],
   "metadata": {
    "collapsed": false,
    "pycharm": {
     "name": "#%%\n"
    }
   }
  },
  {
   "cell_type": "code",
   "execution_count": 206,
   "outputs": [
    {
     "data": {
      "text/plain": "MetricVisualizer(layout=Layout(align_self='stretch', height='500px'))",
      "application/vnd.jupyter.widget-view+json": {
       "version_major": 2,
       "version_minor": 0,
       "model_id": "d490e82e65a945b2bd3a5f1e130bc3d3"
      }
     },
     "metadata": {},
     "output_type": "display_data"
    },
    {
     "name": "stdout",
     "output_type": "stream",
     "text": [
      "0:\tlearn: 0.6100672\ttest: 0.5636089\tbest: 0.5636089 (0)\ttotal: 37.1ms\tremaining: 37.1s\n",
      "100:\tlearn: 0.7884036\ttest: 0.5688962\tbest: 0.6134779 (23)\ttotal: 3.54s\tremaining: 31.5s\n",
      "200:\tlearn: 0.8374496\ttest: 0.5350827\tbest: 0.6134779 (23)\ttotal: 6.9s\tremaining: 27.4s\n",
      "300:\tlearn: 0.8723390\ttest: 0.5176589\tbest: 0.6134779 (23)\ttotal: 10.3s\tremaining: 23.9s\n",
      "bestTest = 0.6134778711\n",
      "bestIteration = 23\n",
      "Shrink model to first 24 iterations.\n",
      "CPU times: total: 14.5 s\n",
      "Wall time: 11.4 s\n"
     ]
    },
    {
     "data": {
      "text/plain": "<catboost.core.CatBoostClassifier at 0x2412f6a97b0>"
     },
     "execution_count": 206,
     "metadata": {},
     "output_type": "execute_result"
    }
   ],
   "source": [
    "%%time\n",
    "model.fit(train_data, eval_set=test_data, plot=True)"
   ],
   "metadata": {
    "collapsed": false,
    "pycharm": {
     "name": "#%%\n"
    }
   }
  },
  {
   "cell_type": "code",
   "execution_count": 207,
   "outputs": [
    {
     "data": {
      "text/plain": "             Feature Id  Importances\n0                   age    12.619726\n1                   gtp    12.548744\n2          triglyceride    11.567372\n3                   alt     9.719130\n4            hemoglobin     8.003135\n5                   ldl     7.437756\n6            relaxation     6.222411\n7                   hdl     5.974896\n8   fasting_blood_sugar     5.972085\n9                   ast     5.407001\n10            waist_cm_     5.248751\n11     serum_creatinine     3.326471\n12               tartar     2.371429\n13        dental_caries     2.326024\n14           weight_kg_     1.255068",
      "text/html": "<div>\n<style scoped>\n    .dataframe tbody tr th:only-of-type {\n        vertical-align: middle;\n    }\n\n    .dataframe tbody tr th {\n        vertical-align: top;\n    }\n\n    .dataframe thead th {\n        text-align: right;\n    }\n</style>\n<table border=\"1\" class=\"dataframe\">\n  <thead>\n    <tr style=\"text-align: right;\">\n      <th></th>\n      <th>Feature Id</th>\n      <th>Importances</th>\n    </tr>\n  </thead>\n  <tbody>\n    <tr>\n      <th>0</th>\n      <td>age</td>\n      <td>12.619726</td>\n    </tr>\n    <tr>\n      <th>1</th>\n      <td>gtp</td>\n      <td>12.548744</td>\n    </tr>\n    <tr>\n      <th>2</th>\n      <td>triglyceride</td>\n      <td>11.567372</td>\n    </tr>\n    <tr>\n      <th>3</th>\n      <td>alt</td>\n      <td>9.719130</td>\n    </tr>\n    <tr>\n      <th>4</th>\n      <td>hemoglobin</td>\n      <td>8.003135</td>\n    </tr>\n    <tr>\n      <th>5</th>\n      <td>ldl</td>\n      <td>7.437756</td>\n    </tr>\n    <tr>\n      <th>6</th>\n      <td>relaxation</td>\n      <td>6.222411</td>\n    </tr>\n    <tr>\n      <th>7</th>\n      <td>hdl</td>\n      <td>5.974896</td>\n    </tr>\n    <tr>\n      <th>8</th>\n      <td>fasting_blood_sugar</td>\n      <td>5.972085</td>\n    </tr>\n    <tr>\n      <th>9</th>\n      <td>ast</td>\n      <td>5.407001</td>\n    </tr>\n    <tr>\n      <th>10</th>\n      <td>waist_cm_</td>\n      <td>5.248751</td>\n    </tr>\n    <tr>\n      <th>11</th>\n      <td>serum_creatinine</td>\n      <td>3.326471</td>\n    </tr>\n    <tr>\n      <th>12</th>\n      <td>tartar</td>\n      <td>2.371429</td>\n    </tr>\n    <tr>\n      <th>13</th>\n      <td>dental_caries</td>\n      <td>2.326024</td>\n    </tr>\n    <tr>\n      <th>14</th>\n      <td>weight_kg_</td>\n      <td>1.255068</td>\n    </tr>\n  </tbody>\n</table>\n</div>"
     },
     "execution_count": 207,
     "metadata": {},
     "output_type": "execute_result"
    }
   ],
   "source": [
    "model.get_feature_importance(prettified=True)"
   ],
   "metadata": {
    "collapsed": false,
    "pycharm": {
     "name": "#%%\n"
    }
   }
  },
  {
   "cell_type": "code",
   "execution_count": 208,
   "outputs": [
    {
     "data": {
      "text/plain": "{'iterations': 1000,\n 'learning_rate': 0.65,\n 'loss_function': 'Logloss',\n 'random_seed': 659,\n 'verbose': 100,\n 'auto_class_weights': 'Balanced',\n 'eval_metric': 'F1',\n 'task_type': 'GPU',\n 'early_stopping_rounds': 300,\n 'cat_features': ['tartar']}"
     },
     "execution_count": 208,
     "metadata": {},
     "output_type": "execute_result"
    }
   ],
   "source": [
    "model.get_params()"
   ],
   "metadata": {
    "collapsed": false,
    "pycharm": {
     "name": "#%%\n"
    }
   }
  },
  {
   "cell_type": "code",
   "execution_count": 209,
   "outputs": [
    {
     "data": {
      "text/plain": "{'nan_mode': 'Min',\n 'gpu_ram_part': 0.95,\n 'eval_metric': 'F1',\n 'combinations_ctr': ['Borders:CtrBorderCount=15:CtrBorderType=Uniform:TargetBorderCount=1:TargetBorderType=MinEntropy:Prior=0/1:Prior=0.5/1:Prior=1/1',\n  'FeatureFreq:CtrBorderCount=15:CtrBorderType=Median:Prior=0/1'],\n 'iterations': 1000,\n 'fold_permutation_block': 64,\n 'leaf_estimation_method': 'Newton',\n 'observations_to_bootstrap': 'TestOnly',\n 'od_pval': 0,\n 'counter_calc_method': 'SkipTest',\n 'grow_policy': 'SymmetricTree',\n 'penalties_coefficient': 1,\n 'boosting_type': 'Ordered',\n 'ctr_history_unit': 'Sample',\n 'feature_border_type': 'GreedyLogSum',\n 'bayesian_matrix_reg': 0.10000000149011612,\n 'one_hot_max_size': 2,\n 'devices': '-1',\n 'eval_fraction': 0,\n 'pinned_memory_bytes': '104857600',\n 'force_unit_auto_pair_weights': False,\n 'l2_leaf_reg': 3,\n 'random_strength': 1,\n 'od_type': 'Iter',\n 'rsm': 1,\n 'boost_from_average': False,\n 'gpu_cat_features_storage': 'GpuRam',\n 'fold_size_loss_normalization': False,\n 'max_ctr_complexity': 4,\n 'model_size_reg': 0.5,\n 'simple_ctr': ['Borders:CtrBorderCount=15:CtrBorderType=Uniform:TargetBorderCount=1:TargetBorderType=MinEntropy:Prior=0/1:Prior=0.5/1:Prior=1/1',\n  'FeatureFreq:CtrBorderCount=15:CtrBorderType=MinEntropy:Prior=0/1'],\n 'pool_metainfo_options': {'tags': {}},\n 'use_best_model': True,\n 'meta_l2_frequency': 0,\n 'od_wait': 300,\n 'class_names': [0, 1],\n 'random_seed': 659,\n 'depth': 6,\n 'ctr_target_border_count': 1,\n 'has_time': False,\n 'fold_len_multiplier': 2,\n 'border_count': 128,\n 'min_fold_size': 100,\n 'class_weights': [1, 3.933899164199829],\n 'data_partition': 'FeatureParallel',\n 'bagging_temperature': 1,\n 'classes_count': 0,\n 'auto_class_weights': 'Balanced',\n 'leaf_estimation_backtracking': 'AnyImprovement',\n 'best_model_min_trees': 1,\n 'min_data_in_leaf': 1,\n 'add_ridge_penalty_to_loss_function': False,\n 'loss_function': 'Logloss',\n 'learning_rate': 0.6499999761581421,\n 'meta_l2_exponent': 1,\n 'score_function': 'Cosine',\n 'task_type': 'GPU',\n 'leaf_estimation_iterations': 10,\n 'bootstrap_type': 'Bayesian',\n 'max_leaves': 64,\n 'permutation_count': 4}"
     },
     "execution_count": 209,
     "metadata": {},
     "output_type": "execute_result"
    }
   ],
   "source": [
    "model.get_all_params()"
   ],
   "metadata": {
    "collapsed": false,
    "pycharm": {
     "name": "#%%\n"
    }
   }
  },
  {
   "cell_type": "markdown",
   "source": [
    "### lr=0.70"
   ],
   "metadata": {
    "collapsed": false,
    "pycharm": {
     "name": "#%% md\n"
    }
   }
  },
  {
   "cell_type": "code",
   "execution_count": 210,
   "outputs": [],
   "source": [
    "parameters = {'cat_features': cat_features,\n",
    "              'eval_metric': 'F1',\n",
    "              'loss_function': 'Logloss',\n",
    "              'random_seed': 659,\n",
    "              'verbose': 100,\n",
    "              'auto_class_weights': 'Balanced',\n",
    "              'task_type': 'GPU',\n",
    "              'iterations': 1000,\n",
    "              'learning_rate': 0.70,\n",
    "              'early_stopping_rounds': 300}"
   ],
   "metadata": {
    "collapsed": false,
    "pycharm": {
     "name": "#%%\n"
    }
   }
  },
  {
   "cell_type": "code",
   "execution_count": 211,
   "outputs": [],
   "source": [
    "model = CatBoostClassifier(**parameters)"
   ],
   "metadata": {
    "collapsed": false,
    "pycharm": {
     "name": "#%%\n"
    }
   }
  },
  {
   "cell_type": "code",
   "execution_count": 212,
   "outputs": [
    {
     "data": {
      "text/plain": "MetricVisualizer(layout=Layout(align_self='stretch', height='500px'))",
      "application/vnd.jupyter.widget-view+json": {
       "version_major": 2,
       "version_minor": 0,
       "model_id": "faa38ac625bc45d181a1c9dc43818ff9"
      }
     },
     "metadata": {},
     "output_type": "display_data"
    },
    {
     "name": "stdout",
     "output_type": "stream",
     "text": [
      "0:\tlearn: 0.6100672\ttest: 0.5636089\tbest: 0.5636089 (0)\ttotal: 36.6ms\tremaining: 36.6s\n",
      "100:\tlearn: 0.7710693\ttest: 0.5818733\tbest: 0.6198779 (18)\ttotal: 3.46s\tremaining: 30.8s\n",
      "200:\tlearn: 0.8228092\ttest: 0.5408845\tbest: 0.6198779 (18)\ttotal: 6.87s\tremaining: 27.3s\n",
      "300:\tlearn: 0.8614229\ttest: 0.5276170\tbest: 0.6198779 (18)\ttotal: 10.3s\tremaining: 23.9s\n",
      "bestTest = 0.6198779323\n",
      "bestIteration = 18\n",
      "Shrink model to first 19 iterations.\n",
      "CPU times: total: 14.1 s\n",
      "Wall time: 11.2 s\n"
     ]
    },
    {
     "data": {
      "text/plain": "<catboost.core.CatBoostClassifier at 0x2412f6a8d30>"
     },
     "execution_count": 212,
     "metadata": {},
     "output_type": "execute_result"
    }
   ],
   "source": [
    "%%time\n",
    "model.fit(train_data, eval_set=test_data, plot=True)"
   ],
   "metadata": {
    "collapsed": false,
    "pycharm": {
     "name": "#%%\n"
    }
   }
  },
  {
   "cell_type": "code",
   "execution_count": 213,
   "outputs": [
    {
     "data": {
      "text/plain": "             Feature Id  Importances\n0                   age    18.343571\n1                   gtp    10.180856\n2            hemoglobin     9.611888\n3          triglyceride     9.419155\n4                   alt     9.080688\n5                   ldl     7.700438\n6             waist_cm_     7.643924\n7            relaxation     5.198202\n8                   hdl     4.334566\n9   fasting_blood_sugar     4.303758\n10     serum_creatinine     3.890560\n11                  ast     3.361884\n12           weight_kg_     2.785588\n13        dental_caries     2.207744\n14               tartar     1.937178",
      "text/html": "<div>\n<style scoped>\n    .dataframe tbody tr th:only-of-type {\n        vertical-align: middle;\n    }\n\n    .dataframe tbody tr th {\n        vertical-align: top;\n    }\n\n    .dataframe thead th {\n        text-align: right;\n    }\n</style>\n<table border=\"1\" class=\"dataframe\">\n  <thead>\n    <tr style=\"text-align: right;\">\n      <th></th>\n      <th>Feature Id</th>\n      <th>Importances</th>\n    </tr>\n  </thead>\n  <tbody>\n    <tr>\n      <th>0</th>\n      <td>age</td>\n      <td>18.343571</td>\n    </tr>\n    <tr>\n      <th>1</th>\n      <td>gtp</td>\n      <td>10.180856</td>\n    </tr>\n    <tr>\n      <th>2</th>\n      <td>hemoglobin</td>\n      <td>9.611888</td>\n    </tr>\n    <tr>\n      <th>3</th>\n      <td>triglyceride</td>\n      <td>9.419155</td>\n    </tr>\n    <tr>\n      <th>4</th>\n      <td>alt</td>\n      <td>9.080688</td>\n    </tr>\n    <tr>\n      <th>5</th>\n      <td>ldl</td>\n      <td>7.700438</td>\n    </tr>\n    <tr>\n      <th>6</th>\n      <td>waist_cm_</td>\n      <td>7.643924</td>\n    </tr>\n    <tr>\n      <th>7</th>\n      <td>relaxation</td>\n      <td>5.198202</td>\n    </tr>\n    <tr>\n      <th>8</th>\n      <td>hdl</td>\n      <td>4.334566</td>\n    </tr>\n    <tr>\n      <th>9</th>\n      <td>fasting_blood_sugar</td>\n      <td>4.303758</td>\n    </tr>\n    <tr>\n      <th>10</th>\n      <td>serum_creatinine</td>\n      <td>3.890560</td>\n    </tr>\n    <tr>\n      <th>11</th>\n      <td>ast</td>\n      <td>3.361884</td>\n    </tr>\n    <tr>\n      <th>12</th>\n      <td>weight_kg_</td>\n      <td>2.785588</td>\n    </tr>\n    <tr>\n      <th>13</th>\n      <td>dental_caries</td>\n      <td>2.207744</td>\n    </tr>\n    <tr>\n      <th>14</th>\n      <td>tartar</td>\n      <td>1.937178</td>\n    </tr>\n  </tbody>\n</table>\n</div>"
     },
     "execution_count": 213,
     "metadata": {},
     "output_type": "execute_result"
    }
   ],
   "source": [
    "model.get_feature_importance(prettified=True)"
   ],
   "metadata": {
    "collapsed": false,
    "pycharm": {
     "name": "#%%\n"
    }
   }
  },
  {
   "cell_type": "code",
   "execution_count": 214,
   "outputs": [
    {
     "data": {
      "text/plain": "{'iterations': 1000,\n 'learning_rate': 0.7,\n 'loss_function': 'Logloss',\n 'random_seed': 659,\n 'verbose': 100,\n 'auto_class_weights': 'Balanced',\n 'eval_metric': 'F1',\n 'task_type': 'GPU',\n 'early_stopping_rounds': 300,\n 'cat_features': ['tartar']}"
     },
     "execution_count": 214,
     "metadata": {},
     "output_type": "execute_result"
    }
   ],
   "source": [
    "model.get_params()"
   ],
   "metadata": {
    "collapsed": false,
    "pycharm": {
     "name": "#%%\n"
    }
   }
  },
  {
   "cell_type": "code",
   "execution_count": 215,
   "outputs": [
    {
     "data": {
      "text/plain": "{'nan_mode': 'Min',\n 'gpu_ram_part': 0.95,\n 'eval_metric': 'F1',\n 'combinations_ctr': ['Borders:CtrBorderCount=15:CtrBorderType=Uniform:TargetBorderCount=1:TargetBorderType=MinEntropy:Prior=0/1:Prior=0.5/1:Prior=1/1',\n  'FeatureFreq:CtrBorderCount=15:CtrBorderType=Median:Prior=0/1'],\n 'iterations': 1000,\n 'fold_permutation_block': 64,\n 'leaf_estimation_method': 'Newton',\n 'observations_to_bootstrap': 'TestOnly',\n 'od_pval': 0,\n 'counter_calc_method': 'SkipTest',\n 'grow_policy': 'SymmetricTree',\n 'penalties_coefficient': 1,\n 'boosting_type': 'Ordered',\n 'ctr_history_unit': 'Sample',\n 'feature_border_type': 'GreedyLogSum',\n 'bayesian_matrix_reg': 0.10000000149011612,\n 'one_hot_max_size': 2,\n 'devices': '-1',\n 'eval_fraction': 0,\n 'pinned_memory_bytes': '104857600',\n 'force_unit_auto_pair_weights': False,\n 'l2_leaf_reg': 3,\n 'random_strength': 1,\n 'od_type': 'Iter',\n 'rsm': 1,\n 'boost_from_average': False,\n 'gpu_cat_features_storage': 'GpuRam',\n 'fold_size_loss_normalization': False,\n 'max_ctr_complexity': 4,\n 'model_size_reg': 0.5,\n 'simple_ctr': ['Borders:CtrBorderCount=15:CtrBorderType=Uniform:TargetBorderCount=1:TargetBorderType=MinEntropy:Prior=0/1:Prior=0.5/1:Prior=1/1',\n  'FeatureFreq:CtrBorderCount=15:CtrBorderType=MinEntropy:Prior=0/1'],\n 'pool_metainfo_options': {'tags': {}},\n 'use_best_model': True,\n 'meta_l2_frequency': 0,\n 'od_wait': 300,\n 'class_names': [0, 1],\n 'random_seed': 659,\n 'depth': 6,\n 'ctr_target_border_count': 1,\n 'has_time': False,\n 'fold_len_multiplier': 2,\n 'border_count': 128,\n 'min_fold_size': 100,\n 'class_weights': [1, 3.933899164199829],\n 'data_partition': 'FeatureParallel',\n 'bagging_temperature': 1,\n 'classes_count': 0,\n 'auto_class_weights': 'Balanced',\n 'leaf_estimation_backtracking': 'AnyImprovement',\n 'best_model_min_trees': 1,\n 'min_data_in_leaf': 1,\n 'add_ridge_penalty_to_loss_function': False,\n 'loss_function': 'Logloss',\n 'learning_rate': 0.699999988079071,\n 'meta_l2_exponent': 1,\n 'score_function': 'Cosine',\n 'task_type': 'GPU',\n 'leaf_estimation_iterations': 10,\n 'bootstrap_type': 'Bayesian',\n 'max_leaves': 64,\n 'permutation_count': 4}"
     },
     "execution_count": 215,
     "metadata": {},
     "output_type": "execute_result"
    }
   ],
   "source": [
    "model.get_all_params()"
   ],
   "metadata": {
    "collapsed": false,
    "pycharm": {
     "name": "#%%\n"
    }
   }
  },
  {
   "cell_type": "markdown",
   "source": [
    "### lr=0.75"
   ],
   "metadata": {
    "collapsed": false,
    "pycharm": {
     "name": "#%% md\n"
    }
   }
  },
  {
   "cell_type": "code",
   "execution_count": 216,
   "outputs": [],
   "source": [
    "parameters = {'cat_features': cat_features,\n",
    "              'eval_metric': 'F1',\n",
    "              'loss_function': 'Logloss',\n",
    "              'random_seed': 659,\n",
    "              'verbose': 100,\n",
    "              'auto_class_weights': 'Balanced',\n",
    "              'task_type': 'GPU',\n",
    "              'iterations': 1000,\n",
    "              'learning_rate': 0.75,\n",
    "              'early_stopping_rounds': 300}"
   ],
   "metadata": {
    "collapsed": false,
    "pycharm": {
     "name": "#%%\n"
    }
   }
  },
  {
   "cell_type": "code",
   "execution_count": 217,
   "outputs": [],
   "source": [
    "model = CatBoostClassifier(**parameters)"
   ],
   "metadata": {
    "collapsed": false,
    "pycharm": {
     "name": "#%%\n"
    }
   }
  },
  {
   "cell_type": "code",
   "execution_count": 218,
   "outputs": [
    {
     "data": {
      "text/plain": "MetricVisualizer(layout=Layout(align_self='stretch', height='500px'))",
      "application/vnd.jupyter.widget-view+json": {
       "version_major": 2,
       "version_minor": 0,
       "model_id": "6dbeb55b3e534ed189a4e58c133a2012"
      }
     },
     "metadata": {},
     "output_type": "display_data"
    },
    {
     "name": "stdout",
     "output_type": "stream",
     "text": [
      "0:\tlearn: 0.6100672\ttest: 0.5636089\tbest: 0.5636089 (0)\ttotal: 38.6ms\tremaining: 38.6s\n",
      "100:\tlearn: 0.7867087\ttest: 0.5606456\tbest: 0.6162865 (8)\ttotal: 3.47s\tremaining: 30.9s\n",
      "200:\tlearn: 0.8193602\ttest: 0.5338828\tbest: 0.6162865 (8)\ttotal: 6.91s\tremaining: 27.4s\n",
      "300:\tlearn: 0.8422994\ttest: 0.5318879\tbest: 0.6162865 (8)\ttotal: 10.2s\tremaining: 23.8s\n",
      "bestTest = 0.6162864908\n",
      "bestIteration = 8\n",
      "Shrink model to first 9 iterations.\n",
      "CPU times: total: 13.5 s\n",
      "Wall time: 10.9 s\n"
     ]
    },
    {
     "data": {
      "text/plain": "<catboost.core.CatBoostClassifier at 0x2412f5d56f0>"
     },
     "execution_count": 218,
     "metadata": {},
     "output_type": "execute_result"
    }
   ],
   "source": [
    "%%time\n",
    "model.fit(train_data, eval_set=test_data, plot=True)"
   ],
   "metadata": {
    "collapsed": false,
    "pycharm": {
     "name": "#%%\n"
    }
   }
  },
  {
   "cell_type": "code",
   "execution_count": 219,
   "outputs": [
    {
     "data": {
      "text/plain": "             Feature Id  Importances\n0                   age    15.114025\n1                   gtp    11.833244\n2                   alt    10.986118\n3          triglyceride    10.633162\n4                   ldl     8.201708\n5            hemoglobin     7.418714\n6            relaxation     6.398355\n7                tartar     5.209068\n8             waist_cm_     5.099120\n9            weight_kg_     4.326852\n10     serum_creatinine     3.804987\n11                  ast     3.178773\n12  fasting_blood_sugar     2.805547\n13        dental_caries     2.800753\n14                  hdl     2.189574",
      "text/html": "<div>\n<style scoped>\n    .dataframe tbody tr th:only-of-type {\n        vertical-align: middle;\n    }\n\n    .dataframe tbody tr th {\n        vertical-align: top;\n    }\n\n    .dataframe thead th {\n        text-align: right;\n    }\n</style>\n<table border=\"1\" class=\"dataframe\">\n  <thead>\n    <tr style=\"text-align: right;\">\n      <th></th>\n      <th>Feature Id</th>\n      <th>Importances</th>\n    </tr>\n  </thead>\n  <tbody>\n    <tr>\n      <th>0</th>\n      <td>age</td>\n      <td>15.114025</td>\n    </tr>\n    <tr>\n      <th>1</th>\n      <td>gtp</td>\n      <td>11.833244</td>\n    </tr>\n    <tr>\n      <th>2</th>\n      <td>alt</td>\n      <td>10.986118</td>\n    </tr>\n    <tr>\n      <th>3</th>\n      <td>triglyceride</td>\n      <td>10.633162</td>\n    </tr>\n    <tr>\n      <th>4</th>\n      <td>ldl</td>\n      <td>8.201708</td>\n    </tr>\n    <tr>\n      <th>5</th>\n      <td>hemoglobin</td>\n      <td>7.418714</td>\n    </tr>\n    <tr>\n      <th>6</th>\n      <td>relaxation</td>\n      <td>6.398355</td>\n    </tr>\n    <tr>\n      <th>7</th>\n      <td>tartar</td>\n      <td>5.209068</td>\n    </tr>\n    <tr>\n      <th>8</th>\n      <td>waist_cm_</td>\n      <td>5.099120</td>\n    </tr>\n    <tr>\n      <th>9</th>\n      <td>weight_kg_</td>\n      <td>4.326852</td>\n    </tr>\n    <tr>\n      <th>10</th>\n      <td>serum_creatinine</td>\n      <td>3.804987</td>\n    </tr>\n    <tr>\n      <th>11</th>\n      <td>ast</td>\n      <td>3.178773</td>\n    </tr>\n    <tr>\n      <th>12</th>\n      <td>fasting_blood_sugar</td>\n      <td>2.805547</td>\n    </tr>\n    <tr>\n      <th>13</th>\n      <td>dental_caries</td>\n      <td>2.800753</td>\n    </tr>\n    <tr>\n      <th>14</th>\n      <td>hdl</td>\n      <td>2.189574</td>\n    </tr>\n  </tbody>\n</table>\n</div>"
     },
     "execution_count": 219,
     "metadata": {},
     "output_type": "execute_result"
    }
   ],
   "source": [
    "model.get_feature_importance(prettified=True)"
   ],
   "metadata": {
    "collapsed": false,
    "pycharm": {
     "name": "#%%\n"
    }
   }
  },
  {
   "cell_type": "code",
   "execution_count": 220,
   "outputs": [
    {
     "data": {
      "text/plain": "{'iterations': 1000,\n 'learning_rate': 0.75,\n 'loss_function': 'Logloss',\n 'random_seed': 659,\n 'verbose': 100,\n 'auto_class_weights': 'Balanced',\n 'eval_metric': 'F1',\n 'task_type': 'GPU',\n 'early_stopping_rounds': 300,\n 'cat_features': ['tartar']}"
     },
     "execution_count": 220,
     "metadata": {},
     "output_type": "execute_result"
    }
   ],
   "source": [
    "model.get_params()"
   ],
   "metadata": {
    "collapsed": false,
    "pycharm": {
     "name": "#%%\n"
    }
   }
  },
  {
   "cell_type": "code",
   "execution_count": 221,
   "outputs": [
    {
     "data": {
      "text/plain": "{'nan_mode': 'Min',\n 'gpu_ram_part': 0.95,\n 'eval_metric': 'F1',\n 'combinations_ctr': ['Borders:CtrBorderCount=15:CtrBorderType=Uniform:TargetBorderCount=1:TargetBorderType=MinEntropy:Prior=0/1:Prior=0.5/1:Prior=1/1',\n  'FeatureFreq:CtrBorderCount=15:CtrBorderType=Median:Prior=0/1'],\n 'iterations': 1000,\n 'fold_permutation_block': 64,\n 'leaf_estimation_method': 'Newton',\n 'observations_to_bootstrap': 'TestOnly',\n 'od_pval': 0,\n 'counter_calc_method': 'SkipTest',\n 'grow_policy': 'SymmetricTree',\n 'penalties_coefficient': 1,\n 'boosting_type': 'Ordered',\n 'ctr_history_unit': 'Sample',\n 'feature_border_type': 'GreedyLogSum',\n 'bayesian_matrix_reg': 0.10000000149011612,\n 'one_hot_max_size': 2,\n 'devices': '-1',\n 'eval_fraction': 0,\n 'pinned_memory_bytes': '104857600',\n 'force_unit_auto_pair_weights': False,\n 'l2_leaf_reg': 3,\n 'random_strength': 1,\n 'od_type': 'Iter',\n 'rsm': 1,\n 'boost_from_average': False,\n 'gpu_cat_features_storage': 'GpuRam',\n 'fold_size_loss_normalization': False,\n 'max_ctr_complexity': 4,\n 'model_size_reg': 0.5,\n 'simple_ctr': ['Borders:CtrBorderCount=15:CtrBorderType=Uniform:TargetBorderCount=1:TargetBorderType=MinEntropy:Prior=0/1:Prior=0.5/1:Prior=1/1',\n  'FeatureFreq:CtrBorderCount=15:CtrBorderType=MinEntropy:Prior=0/1'],\n 'pool_metainfo_options': {'tags': {}},\n 'use_best_model': True,\n 'meta_l2_frequency': 0,\n 'od_wait': 300,\n 'class_names': [0, 1],\n 'random_seed': 659,\n 'depth': 6,\n 'ctr_target_border_count': 1,\n 'has_time': False,\n 'fold_len_multiplier': 2,\n 'border_count': 128,\n 'min_fold_size': 100,\n 'class_weights': [1, 3.933899164199829],\n 'data_partition': 'FeatureParallel',\n 'bagging_temperature': 1,\n 'classes_count': 0,\n 'auto_class_weights': 'Balanced',\n 'leaf_estimation_backtracking': 'AnyImprovement',\n 'best_model_min_trees': 1,\n 'min_data_in_leaf': 1,\n 'add_ridge_penalty_to_loss_function': False,\n 'loss_function': 'Logloss',\n 'learning_rate': 0.75,\n 'meta_l2_exponent': 1,\n 'score_function': 'Cosine',\n 'task_type': 'GPU',\n 'leaf_estimation_iterations': 10,\n 'bootstrap_type': 'Bayesian',\n 'max_leaves': 64,\n 'permutation_count': 4}"
     },
     "execution_count": 221,
     "metadata": {},
     "output_type": "execute_result"
    }
   ],
   "source": [
    "model.get_all_params()"
   ],
   "metadata": {
    "collapsed": false,
    "pycharm": {
     "name": "#%%\n"
    }
   }
  },
  {
   "cell_type": "markdown",
   "source": [
    "### lr=0.80"
   ],
   "metadata": {
    "collapsed": false,
    "pycharm": {
     "name": "#%% md\n"
    }
   }
  },
  {
   "cell_type": "code",
   "execution_count": 222,
   "outputs": [],
   "source": [
    "parameters = {'cat_features': cat_features,\n",
    "              'eval_metric': 'F1',\n",
    "              'loss_function': 'Logloss',\n",
    "              'random_seed': 659,\n",
    "              'verbose': 100,\n",
    "              'auto_class_weights': 'Balanced',\n",
    "              'task_type': 'GPU',\n",
    "              'iterations': 1000,\n",
    "              'learning_rate': 0.80,\n",
    "              'early_stopping_rounds': 300}"
   ],
   "metadata": {
    "collapsed": false,
    "pycharm": {
     "name": "#%%\n"
    }
   }
  },
  {
   "cell_type": "code",
   "execution_count": 223,
   "outputs": [],
   "source": [
    "model = CatBoostClassifier(**parameters)"
   ],
   "metadata": {
    "collapsed": false,
    "pycharm": {
     "name": "#%%\n"
    }
   }
  },
  {
   "cell_type": "code",
   "execution_count": 224,
   "outputs": [
    {
     "data": {
      "text/plain": "MetricVisualizer(layout=Layout(align_self='stretch', height='500px'))",
      "application/vnd.jupyter.widget-view+json": {
       "version_major": 2,
       "version_minor": 0,
       "model_id": "8f4ee41dc00c40faa9842de0bee36db1"
      }
     },
     "metadata": {},
     "output_type": "display_data"
    },
    {
     "name": "stdout",
     "output_type": "stream",
     "text": [
      "0:\tlearn: 0.6100672\ttest: 0.5636089\tbest: 0.5636089 (0)\ttotal: 38ms\tremaining: 37.9s\n",
      "100:\tlearn: 0.7928604\ttest: 0.5858056\tbest: 0.6181626 (47)\ttotal: 3.49s\tremaining: 31.1s\n",
      "200:\tlearn: 0.8411785\ttest: 0.5368476\tbest: 0.6181626 (47)\ttotal: 6.91s\tremaining: 27.5s\n",
      "300:\tlearn: 0.8699516\ttest: 0.5238586\tbest: 0.6181626 (47)\ttotal: 10.4s\tremaining: 24.1s\n",
      "bestTest = 0.618162575\n",
      "bestIteration = 47\n",
      "Shrink model to first 48 iterations.\n",
      "CPU times: total: 15.3 s\n",
      "Wall time: 12.4 s\n"
     ]
    },
    {
     "data": {
      "text/plain": "<catboost.core.CatBoostClassifier at 0x24130dc1a20>"
     },
     "execution_count": 224,
     "metadata": {},
     "output_type": "execute_result"
    }
   ],
   "source": [
    "%%time\n",
    "model.fit(train_data, eval_set=test_data, plot=True)"
   ],
   "metadata": {
    "collapsed": false,
    "pycharm": {
     "name": "#%%\n"
    }
   }
  },
  {
   "cell_type": "code",
   "execution_count": 225,
   "outputs": [
    {
     "data": {
      "text/plain": "             Feature Id  Importances\n0                   age    12.914053\n1                   alt    11.572265\n2                   gtp     9.884901\n3          triglyceride     8.993987\n4                   ldl     8.589880\n5            hemoglobin     7.610852\n6                   ast     6.960004\n7   fasting_blood_sugar     6.268609\n8            relaxation     6.213043\n9                   hdl     5.916491\n10           weight_kg_     4.735419\n11            waist_cm_     4.423330\n12     serum_creatinine     3.390300\n13        dental_caries     1.310880\n14               tartar     1.215988",
      "text/html": "<div>\n<style scoped>\n    .dataframe tbody tr th:only-of-type {\n        vertical-align: middle;\n    }\n\n    .dataframe tbody tr th {\n        vertical-align: top;\n    }\n\n    .dataframe thead th {\n        text-align: right;\n    }\n</style>\n<table border=\"1\" class=\"dataframe\">\n  <thead>\n    <tr style=\"text-align: right;\">\n      <th></th>\n      <th>Feature Id</th>\n      <th>Importances</th>\n    </tr>\n  </thead>\n  <tbody>\n    <tr>\n      <th>0</th>\n      <td>age</td>\n      <td>12.914053</td>\n    </tr>\n    <tr>\n      <th>1</th>\n      <td>alt</td>\n      <td>11.572265</td>\n    </tr>\n    <tr>\n      <th>2</th>\n      <td>gtp</td>\n      <td>9.884901</td>\n    </tr>\n    <tr>\n      <th>3</th>\n      <td>triglyceride</td>\n      <td>8.993987</td>\n    </tr>\n    <tr>\n      <th>4</th>\n      <td>ldl</td>\n      <td>8.589880</td>\n    </tr>\n    <tr>\n      <th>5</th>\n      <td>hemoglobin</td>\n      <td>7.610852</td>\n    </tr>\n    <tr>\n      <th>6</th>\n      <td>ast</td>\n      <td>6.960004</td>\n    </tr>\n    <tr>\n      <th>7</th>\n      <td>fasting_blood_sugar</td>\n      <td>6.268609</td>\n    </tr>\n    <tr>\n      <th>8</th>\n      <td>relaxation</td>\n      <td>6.213043</td>\n    </tr>\n    <tr>\n      <th>9</th>\n      <td>hdl</td>\n      <td>5.916491</td>\n    </tr>\n    <tr>\n      <th>10</th>\n      <td>weight_kg_</td>\n      <td>4.735419</td>\n    </tr>\n    <tr>\n      <th>11</th>\n      <td>waist_cm_</td>\n      <td>4.423330</td>\n    </tr>\n    <tr>\n      <th>12</th>\n      <td>serum_creatinine</td>\n      <td>3.390300</td>\n    </tr>\n    <tr>\n      <th>13</th>\n      <td>dental_caries</td>\n      <td>1.310880</td>\n    </tr>\n    <tr>\n      <th>14</th>\n      <td>tartar</td>\n      <td>1.215988</td>\n    </tr>\n  </tbody>\n</table>\n</div>"
     },
     "execution_count": 225,
     "metadata": {},
     "output_type": "execute_result"
    }
   ],
   "source": [
    "model.get_feature_importance(prettified=True)"
   ],
   "metadata": {
    "collapsed": false,
    "pycharm": {
     "name": "#%%\n"
    }
   }
  },
  {
   "cell_type": "code",
   "execution_count": 226,
   "outputs": [
    {
     "data": {
      "text/plain": "{'iterations': 1000,\n 'learning_rate': 0.8,\n 'loss_function': 'Logloss',\n 'random_seed': 659,\n 'verbose': 100,\n 'auto_class_weights': 'Balanced',\n 'eval_metric': 'F1',\n 'task_type': 'GPU',\n 'early_stopping_rounds': 300,\n 'cat_features': ['tartar']}"
     },
     "execution_count": 226,
     "metadata": {},
     "output_type": "execute_result"
    }
   ],
   "source": [
    "model.get_params()"
   ],
   "metadata": {
    "collapsed": false,
    "pycharm": {
     "name": "#%%\n"
    }
   }
  },
  {
   "cell_type": "code",
   "execution_count": 227,
   "outputs": [
    {
     "data": {
      "text/plain": "{'nan_mode': 'Min',\n 'gpu_ram_part': 0.95,\n 'eval_metric': 'F1',\n 'combinations_ctr': ['Borders:CtrBorderCount=15:CtrBorderType=Uniform:TargetBorderCount=1:TargetBorderType=MinEntropy:Prior=0/1:Prior=0.5/1:Prior=1/1',\n  'FeatureFreq:CtrBorderCount=15:CtrBorderType=Median:Prior=0/1'],\n 'iterations': 1000,\n 'fold_permutation_block': 64,\n 'leaf_estimation_method': 'Newton',\n 'observations_to_bootstrap': 'TestOnly',\n 'od_pval': 0,\n 'counter_calc_method': 'SkipTest',\n 'grow_policy': 'SymmetricTree',\n 'penalties_coefficient': 1,\n 'boosting_type': 'Ordered',\n 'ctr_history_unit': 'Sample',\n 'feature_border_type': 'GreedyLogSum',\n 'bayesian_matrix_reg': 0.10000000149011612,\n 'one_hot_max_size': 2,\n 'devices': '-1',\n 'eval_fraction': 0,\n 'pinned_memory_bytes': '104857600',\n 'force_unit_auto_pair_weights': False,\n 'l2_leaf_reg': 3,\n 'random_strength': 1,\n 'od_type': 'Iter',\n 'rsm': 1,\n 'boost_from_average': False,\n 'gpu_cat_features_storage': 'GpuRam',\n 'fold_size_loss_normalization': False,\n 'max_ctr_complexity': 4,\n 'model_size_reg': 0.5,\n 'simple_ctr': ['Borders:CtrBorderCount=15:CtrBorderType=Uniform:TargetBorderCount=1:TargetBorderType=MinEntropy:Prior=0/1:Prior=0.5/1:Prior=1/1',\n  'FeatureFreq:CtrBorderCount=15:CtrBorderType=MinEntropy:Prior=0/1'],\n 'pool_metainfo_options': {'tags': {}},\n 'use_best_model': True,\n 'meta_l2_frequency': 0,\n 'od_wait': 300,\n 'class_names': [0, 1],\n 'random_seed': 659,\n 'depth': 6,\n 'ctr_target_border_count': 1,\n 'has_time': False,\n 'fold_len_multiplier': 2,\n 'border_count': 128,\n 'min_fold_size': 100,\n 'class_weights': [1, 3.933899164199829],\n 'data_partition': 'FeatureParallel',\n 'bagging_temperature': 1,\n 'classes_count': 0,\n 'auto_class_weights': 'Balanced',\n 'leaf_estimation_backtracking': 'AnyImprovement',\n 'best_model_min_trees': 1,\n 'min_data_in_leaf': 1,\n 'add_ridge_penalty_to_loss_function': False,\n 'loss_function': 'Logloss',\n 'learning_rate': 0.800000011920929,\n 'meta_l2_exponent': 1,\n 'score_function': 'Cosine',\n 'task_type': 'GPU',\n 'leaf_estimation_iterations': 10,\n 'bootstrap_type': 'Bayesian',\n 'max_leaves': 64,\n 'permutation_count': 4}"
     },
     "execution_count": 227,
     "metadata": {},
     "output_type": "execute_result"
    }
   ],
   "source": [
    "model.get_all_params()"
   ],
   "metadata": {
    "collapsed": false,
    "pycharm": {
     "name": "#%%\n"
    }
   }
  },
  {
   "cell_type": "markdown",
   "source": [
    "### lr=0.85"
   ],
   "metadata": {
    "collapsed": false,
    "pycharm": {
     "name": "#%% md\n"
    }
   }
  },
  {
   "cell_type": "code",
   "execution_count": 228,
   "outputs": [],
   "source": [
    "parameters = {'cat_features': cat_features,\n",
    "              'eval_metric': 'F1',\n",
    "              'loss_function': 'Logloss',\n",
    "              'random_seed': 659,\n",
    "              'verbose': 100,\n",
    "              'auto_class_weights': 'Balanced',\n",
    "              'task_type': 'GPU',\n",
    "              'iterations': 1000,\n",
    "              'learning_rate': 0.85,\n",
    "              'early_stopping_rounds': 300}"
   ],
   "metadata": {
    "collapsed": false,
    "pycharm": {
     "name": "#%%\n"
    }
   }
  },
  {
   "cell_type": "code",
   "execution_count": 229,
   "outputs": [],
   "source": [
    "model = CatBoostClassifier(**parameters)"
   ],
   "metadata": {
    "collapsed": false,
    "pycharm": {
     "name": "#%%\n"
    }
   }
  },
  {
   "cell_type": "code",
   "execution_count": 230,
   "outputs": [
    {
     "data": {
      "text/plain": "MetricVisualizer(layout=Layout(align_self='stretch', height='500px'))",
      "application/vnd.jupyter.widget-view+json": {
       "version_major": 2,
       "version_minor": 0,
       "model_id": "b5cc52d0101443e3a1b0d39c7e27de4d"
      }
     },
     "metadata": {},
     "output_type": "display_data"
    },
    {
     "name": "stdout",
     "output_type": "stream",
     "text": [
      "0:\tlearn: 0.6100672\ttest: 0.5636089\tbest: 0.5636089 (0)\ttotal: 36.1ms\tremaining: 36s\n",
      "100:\tlearn: 0.7960975\ttest: 0.5517070\tbest: 0.6258742 (10)\ttotal: 3.49s\tremaining: 31.1s\n",
      "200:\tlearn: 0.8232188\ttest: 0.5515204\tbest: 0.6258742 (10)\ttotal: 6.81s\tremaining: 27.1s\n",
      "300:\tlearn: 0.8458237\ttest: 0.5529291\tbest: 0.6258742 (10)\ttotal: 10.2s\tremaining: 23.7s\n",
      "bestTest = 0.6258741796\n",
      "bestIteration = 10\n",
      "Shrink model to first 11 iterations.\n",
      "CPU times: total: 13.6 s\n",
      "Wall time: 10.9 s\n"
     ]
    },
    {
     "data": {
      "text/plain": "<catboost.core.CatBoostClassifier at 0x2412f6abcd0>"
     },
     "execution_count": 230,
     "metadata": {},
     "output_type": "execute_result"
    }
   ],
   "source": [
    "%%time\n",
    "model.fit(train_data, eval_set=test_data, plot=True)"
   ],
   "metadata": {
    "collapsed": false,
    "pycharm": {
     "name": "#%%\n"
    }
   }
  },
  {
   "cell_type": "code",
   "execution_count": 231,
   "outputs": [
    {
     "data": {
      "text/plain": "             Feature Id  Importances\n0                   age    19.018996\n1                   alt    14.184195\n2                   gtp    13.694504\n3          triglyceride    13.523052\n4            hemoglobin     6.913423\n5                   ldl     6.312272\n6             waist_cm_     5.012087\n7                   ast     4.331104\n8      serum_creatinine     3.538273\n9                   hdl     3.205237\n10           relaxation     2.752621\n11        dental_caries     2.335332\n12           weight_kg_     2.006729\n13               tartar     1.649838\n14  fasting_blood_sugar     1.522337",
      "text/html": "<div>\n<style scoped>\n    .dataframe tbody tr th:only-of-type {\n        vertical-align: middle;\n    }\n\n    .dataframe tbody tr th {\n        vertical-align: top;\n    }\n\n    .dataframe thead th {\n        text-align: right;\n    }\n</style>\n<table border=\"1\" class=\"dataframe\">\n  <thead>\n    <tr style=\"text-align: right;\">\n      <th></th>\n      <th>Feature Id</th>\n      <th>Importances</th>\n    </tr>\n  </thead>\n  <tbody>\n    <tr>\n      <th>0</th>\n      <td>age</td>\n      <td>19.018996</td>\n    </tr>\n    <tr>\n      <th>1</th>\n      <td>alt</td>\n      <td>14.184195</td>\n    </tr>\n    <tr>\n      <th>2</th>\n      <td>gtp</td>\n      <td>13.694504</td>\n    </tr>\n    <tr>\n      <th>3</th>\n      <td>triglyceride</td>\n      <td>13.523052</td>\n    </tr>\n    <tr>\n      <th>4</th>\n      <td>hemoglobin</td>\n      <td>6.913423</td>\n    </tr>\n    <tr>\n      <th>5</th>\n      <td>ldl</td>\n      <td>6.312272</td>\n    </tr>\n    <tr>\n      <th>6</th>\n      <td>waist_cm_</td>\n      <td>5.012087</td>\n    </tr>\n    <tr>\n      <th>7</th>\n      <td>ast</td>\n      <td>4.331104</td>\n    </tr>\n    <tr>\n      <th>8</th>\n      <td>serum_creatinine</td>\n      <td>3.538273</td>\n    </tr>\n    <tr>\n      <th>9</th>\n      <td>hdl</td>\n      <td>3.205237</td>\n    </tr>\n    <tr>\n      <th>10</th>\n      <td>relaxation</td>\n      <td>2.752621</td>\n    </tr>\n    <tr>\n      <th>11</th>\n      <td>dental_caries</td>\n      <td>2.335332</td>\n    </tr>\n    <tr>\n      <th>12</th>\n      <td>weight_kg_</td>\n      <td>2.006729</td>\n    </tr>\n    <tr>\n      <th>13</th>\n      <td>tartar</td>\n      <td>1.649838</td>\n    </tr>\n    <tr>\n      <th>14</th>\n      <td>fasting_blood_sugar</td>\n      <td>1.522337</td>\n    </tr>\n  </tbody>\n</table>\n</div>"
     },
     "execution_count": 231,
     "metadata": {},
     "output_type": "execute_result"
    }
   ],
   "source": [
    "model.get_feature_importance(prettified=True)"
   ],
   "metadata": {
    "collapsed": false,
    "pycharm": {
     "name": "#%%\n"
    }
   }
  },
  {
   "cell_type": "code",
   "execution_count": 232,
   "outputs": [
    {
     "data": {
      "text/plain": "{'iterations': 1000,\n 'learning_rate': 0.85,\n 'loss_function': 'Logloss',\n 'random_seed': 659,\n 'verbose': 100,\n 'auto_class_weights': 'Balanced',\n 'eval_metric': 'F1',\n 'task_type': 'GPU',\n 'early_stopping_rounds': 300,\n 'cat_features': ['tartar']}"
     },
     "execution_count": 232,
     "metadata": {},
     "output_type": "execute_result"
    }
   ],
   "source": [
    "model.get_params()"
   ],
   "metadata": {
    "collapsed": false,
    "pycharm": {
     "name": "#%%\n"
    }
   }
  },
  {
   "cell_type": "code",
   "execution_count": 233,
   "outputs": [
    {
     "data": {
      "text/plain": "{'nan_mode': 'Min',\n 'gpu_ram_part': 0.95,\n 'eval_metric': 'F1',\n 'combinations_ctr': ['Borders:CtrBorderCount=15:CtrBorderType=Uniform:TargetBorderCount=1:TargetBorderType=MinEntropy:Prior=0/1:Prior=0.5/1:Prior=1/1',\n  'FeatureFreq:CtrBorderCount=15:CtrBorderType=Median:Prior=0/1'],\n 'iterations': 1000,\n 'fold_permutation_block': 64,\n 'leaf_estimation_method': 'Newton',\n 'observations_to_bootstrap': 'TestOnly',\n 'od_pval': 0,\n 'counter_calc_method': 'SkipTest',\n 'grow_policy': 'SymmetricTree',\n 'penalties_coefficient': 1,\n 'boosting_type': 'Ordered',\n 'ctr_history_unit': 'Sample',\n 'feature_border_type': 'GreedyLogSum',\n 'bayesian_matrix_reg': 0.10000000149011612,\n 'one_hot_max_size': 2,\n 'devices': '-1',\n 'eval_fraction': 0,\n 'pinned_memory_bytes': '104857600',\n 'force_unit_auto_pair_weights': False,\n 'l2_leaf_reg': 3,\n 'random_strength': 1,\n 'od_type': 'Iter',\n 'rsm': 1,\n 'boost_from_average': False,\n 'gpu_cat_features_storage': 'GpuRam',\n 'fold_size_loss_normalization': False,\n 'max_ctr_complexity': 4,\n 'model_size_reg': 0.5,\n 'simple_ctr': ['Borders:CtrBorderCount=15:CtrBorderType=Uniform:TargetBorderCount=1:TargetBorderType=MinEntropy:Prior=0/1:Prior=0.5/1:Prior=1/1',\n  'FeatureFreq:CtrBorderCount=15:CtrBorderType=MinEntropy:Prior=0/1'],\n 'pool_metainfo_options': {'tags': {}},\n 'use_best_model': True,\n 'meta_l2_frequency': 0,\n 'od_wait': 300,\n 'class_names': [0, 1],\n 'random_seed': 659,\n 'depth': 6,\n 'ctr_target_border_count': 1,\n 'has_time': False,\n 'fold_len_multiplier': 2,\n 'border_count': 128,\n 'min_fold_size': 100,\n 'class_weights': [1, 3.933899164199829],\n 'data_partition': 'FeatureParallel',\n 'bagging_temperature': 1,\n 'classes_count': 0,\n 'auto_class_weights': 'Balanced',\n 'leaf_estimation_backtracking': 'AnyImprovement',\n 'best_model_min_trees': 1,\n 'min_data_in_leaf': 1,\n 'add_ridge_penalty_to_loss_function': False,\n 'loss_function': 'Logloss',\n 'learning_rate': 0.8500000238418579,\n 'meta_l2_exponent': 1,\n 'score_function': 'Cosine',\n 'task_type': 'GPU',\n 'leaf_estimation_iterations': 10,\n 'bootstrap_type': 'Bayesian',\n 'max_leaves': 64,\n 'permutation_count': 4}"
     },
     "execution_count": 233,
     "metadata": {},
     "output_type": "execute_result"
    }
   ],
   "source": [
    "model.get_all_params()"
   ],
   "metadata": {
    "collapsed": false,
    "pycharm": {
     "name": "#%%\n"
    }
   }
  },
  {
   "cell_type": "markdown",
   "source": [
    "### lr=0.9"
   ],
   "metadata": {
    "collapsed": false,
    "pycharm": {
     "name": "#%% md\n"
    }
   }
  },
  {
   "cell_type": "code",
   "execution_count": 234,
   "outputs": [],
   "source": [
    "parameters = {'cat_features': cat_features,\n",
    "              'eval_metric': 'F1',\n",
    "              'loss_function': 'Logloss',\n",
    "              'random_seed': 659,\n",
    "              'verbose': 100,\n",
    "              'auto_class_weights': 'Balanced',\n",
    "              'task_type': 'GPU',\n",
    "              'iterations': 1000,\n",
    "              'learning_rate': 0.9,\n",
    "              'early_stopping_rounds': 300}"
   ],
   "metadata": {
    "collapsed": false,
    "pycharm": {
     "name": "#%%\n"
    }
   }
  },
  {
   "cell_type": "code",
   "execution_count": 235,
   "outputs": [],
   "source": [
    "model = CatBoostClassifier(**parameters)"
   ],
   "metadata": {
    "collapsed": false,
    "pycharm": {
     "name": "#%%\n"
    }
   }
  },
  {
   "cell_type": "code",
   "execution_count": 236,
   "outputs": [
    {
     "data": {
      "text/plain": "MetricVisualizer(layout=Layout(align_self='stretch', height='500px'))",
      "application/vnd.jupyter.widget-view+json": {
       "version_major": 2,
       "version_minor": 0,
       "model_id": "c153bca1c0fa47febf9c90e2bfaf29b5"
      }
     },
     "metadata": {},
     "output_type": "display_data"
    },
    {
     "name": "stdout",
     "output_type": "stream",
     "text": [
      "0:\tlearn: 0.6100672\ttest: 0.5636089\tbest: 0.5636089 (0)\ttotal: 37.6ms\tremaining: 37.5s\n",
      "100:\tlearn: 0.7848408\ttest: 0.5543288\tbest: 0.6313561 (9)\ttotal: 3.59s\tremaining: 32s\n",
      "200:\tlearn: 0.8295722\ttest: 0.5314198\tbest: 0.6313561 (9)\ttotal: 6.93s\tremaining: 27.6s\n",
      "300:\tlearn: 0.8449062\ttest: 0.5280422\tbest: 0.6313561 (9)\ttotal: 10.4s\tremaining: 24.1s\n",
      "bestTest = 0.6313561462\n",
      "bestIteration = 9\n",
      "Shrink model to first 10 iterations.\n",
      "CPU times: total: 13.9 s\n",
      "Wall time: 11 s\n"
     ]
    },
    {
     "data": {
      "text/plain": "<catboost.core.CatBoostClassifier at 0x2412f5d4220>"
     },
     "execution_count": 236,
     "metadata": {},
     "output_type": "execute_result"
    }
   ],
   "source": [
    "%%time\n",
    "model.fit(train_data, eval_set=test_data, plot=True)"
   ],
   "metadata": {
    "collapsed": false,
    "pycharm": {
     "name": "#%%\n"
    }
   }
  },
  {
   "cell_type": "code",
   "execution_count": 237,
   "outputs": [
    {
     "data": {
      "text/plain": "             Feature Id  Importances\n0                   age    20.798611\n1                   alt    12.992648\n2                   gtp     9.988286\n3          triglyceride     9.774640\n4                   ldl     7.879349\n5            hemoglobin     7.234446\n6                   ast     5.278066\n7      serum_creatinine     5.247074\n8             waist_cm_     4.183863\n9            relaxation     4.073648\n10                  hdl     3.763250\n11        dental_caries     3.010825\n12           weight_kg_     2.603058\n13               tartar     2.126071\n14  fasting_blood_sugar     1.046164",
      "text/html": "<div>\n<style scoped>\n    .dataframe tbody tr th:only-of-type {\n        vertical-align: middle;\n    }\n\n    .dataframe tbody tr th {\n        vertical-align: top;\n    }\n\n    .dataframe thead th {\n        text-align: right;\n    }\n</style>\n<table border=\"1\" class=\"dataframe\">\n  <thead>\n    <tr style=\"text-align: right;\">\n      <th></th>\n      <th>Feature Id</th>\n      <th>Importances</th>\n    </tr>\n  </thead>\n  <tbody>\n    <tr>\n      <th>0</th>\n      <td>age</td>\n      <td>20.798611</td>\n    </tr>\n    <tr>\n      <th>1</th>\n      <td>alt</td>\n      <td>12.992648</td>\n    </tr>\n    <tr>\n      <th>2</th>\n      <td>gtp</td>\n      <td>9.988286</td>\n    </tr>\n    <tr>\n      <th>3</th>\n      <td>triglyceride</td>\n      <td>9.774640</td>\n    </tr>\n    <tr>\n      <th>4</th>\n      <td>ldl</td>\n      <td>7.879349</td>\n    </tr>\n    <tr>\n      <th>5</th>\n      <td>hemoglobin</td>\n      <td>7.234446</td>\n    </tr>\n    <tr>\n      <th>6</th>\n      <td>ast</td>\n      <td>5.278066</td>\n    </tr>\n    <tr>\n      <th>7</th>\n      <td>serum_creatinine</td>\n      <td>5.247074</td>\n    </tr>\n    <tr>\n      <th>8</th>\n      <td>waist_cm_</td>\n      <td>4.183863</td>\n    </tr>\n    <tr>\n      <th>9</th>\n      <td>relaxation</td>\n      <td>4.073648</td>\n    </tr>\n    <tr>\n      <th>10</th>\n      <td>hdl</td>\n      <td>3.763250</td>\n    </tr>\n    <tr>\n      <th>11</th>\n      <td>dental_caries</td>\n      <td>3.010825</td>\n    </tr>\n    <tr>\n      <th>12</th>\n      <td>weight_kg_</td>\n      <td>2.603058</td>\n    </tr>\n    <tr>\n      <th>13</th>\n      <td>tartar</td>\n      <td>2.126071</td>\n    </tr>\n    <tr>\n      <th>14</th>\n      <td>fasting_blood_sugar</td>\n      <td>1.046164</td>\n    </tr>\n  </tbody>\n</table>\n</div>"
     },
     "execution_count": 237,
     "metadata": {},
     "output_type": "execute_result"
    }
   ],
   "source": [
    "model.get_feature_importance(prettified=True)"
   ],
   "metadata": {
    "collapsed": false,
    "pycharm": {
     "name": "#%%\n"
    }
   }
  },
  {
   "cell_type": "code",
   "execution_count": 238,
   "outputs": [
    {
     "data": {
      "text/plain": "{'iterations': 1000,\n 'learning_rate': 0.9,\n 'loss_function': 'Logloss',\n 'random_seed': 659,\n 'verbose': 100,\n 'auto_class_weights': 'Balanced',\n 'eval_metric': 'F1',\n 'task_type': 'GPU',\n 'early_stopping_rounds': 300,\n 'cat_features': ['tartar']}"
     },
     "execution_count": 238,
     "metadata": {},
     "output_type": "execute_result"
    }
   ],
   "source": [
    "model.get_params()"
   ],
   "metadata": {
    "collapsed": false,
    "pycharm": {
     "name": "#%%\n"
    }
   }
  },
  {
   "cell_type": "code",
   "execution_count": 239,
   "outputs": [
    {
     "data": {
      "text/plain": "{'nan_mode': 'Min',\n 'gpu_ram_part': 0.95,\n 'eval_metric': 'F1',\n 'combinations_ctr': ['Borders:CtrBorderCount=15:CtrBorderType=Uniform:TargetBorderCount=1:TargetBorderType=MinEntropy:Prior=0/1:Prior=0.5/1:Prior=1/1',\n  'FeatureFreq:CtrBorderCount=15:CtrBorderType=Median:Prior=0/1'],\n 'iterations': 1000,\n 'fold_permutation_block': 64,\n 'leaf_estimation_method': 'Newton',\n 'observations_to_bootstrap': 'TestOnly',\n 'od_pval': 0,\n 'counter_calc_method': 'SkipTest',\n 'grow_policy': 'SymmetricTree',\n 'penalties_coefficient': 1,\n 'boosting_type': 'Ordered',\n 'ctr_history_unit': 'Sample',\n 'feature_border_type': 'GreedyLogSum',\n 'bayesian_matrix_reg': 0.10000000149011612,\n 'one_hot_max_size': 2,\n 'devices': '-1',\n 'eval_fraction': 0,\n 'pinned_memory_bytes': '104857600',\n 'force_unit_auto_pair_weights': False,\n 'l2_leaf_reg': 3,\n 'random_strength': 1,\n 'od_type': 'Iter',\n 'rsm': 1,\n 'boost_from_average': False,\n 'gpu_cat_features_storage': 'GpuRam',\n 'fold_size_loss_normalization': False,\n 'max_ctr_complexity': 4,\n 'model_size_reg': 0.5,\n 'simple_ctr': ['Borders:CtrBorderCount=15:CtrBorderType=Uniform:TargetBorderCount=1:TargetBorderType=MinEntropy:Prior=0/1:Prior=0.5/1:Prior=1/1',\n  'FeatureFreq:CtrBorderCount=15:CtrBorderType=MinEntropy:Prior=0/1'],\n 'pool_metainfo_options': {'tags': {}},\n 'use_best_model': True,\n 'meta_l2_frequency': 0,\n 'od_wait': 300,\n 'class_names': [0, 1],\n 'random_seed': 659,\n 'depth': 6,\n 'ctr_target_border_count': 1,\n 'has_time': False,\n 'fold_len_multiplier': 2,\n 'border_count': 128,\n 'min_fold_size': 100,\n 'class_weights': [1, 3.933899164199829],\n 'data_partition': 'FeatureParallel',\n 'bagging_temperature': 1,\n 'classes_count': 0,\n 'auto_class_weights': 'Balanced',\n 'leaf_estimation_backtracking': 'AnyImprovement',\n 'best_model_min_trees': 1,\n 'min_data_in_leaf': 1,\n 'add_ridge_penalty_to_loss_function': False,\n 'loss_function': 'Logloss',\n 'learning_rate': 0.8999999761581421,\n 'meta_l2_exponent': 1,\n 'score_function': 'Cosine',\n 'task_type': 'GPU',\n 'leaf_estimation_iterations': 10,\n 'bootstrap_type': 'Bayesian',\n 'max_leaves': 64,\n 'permutation_count': 4}"
     },
     "execution_count": 239,
     "metadata": {},
     "output_type": "execute_result"
    }
   ],
   "source": [
    "model.get_all_params()"
   ],
   "metadata": {
    "collapsed": false,
    "pycharm": {
     "name": "#%%\n"
    }
   }
  },
  {
   "cell_type": "markdown",
   "source": [
    "### lr=0.95"
   ],
   "metadata": {
    "collapsed": false,
    "pycharm": {
     "name": "#%% md\n"
    }
   }
  },
  {
   "cell_type": "code",
   "execution_count": 240,
   "outputs": [],
   "source": [
    "parameters = {'cat_features': cat_features,\n",
    "              'eval_metric': 'F1',\n",
    "              'loss_function': 'Logloss',\n",
    "              'random_seed': 659,\n",
    "              'verbose': 100,\n",
    "              'auto_class_weights': 'Balanced',\n",
    "              'task_type': 'GPU',\n",
    "              'iterations': 1000,\n",
    "              'learning_rate': 0.95,\n",
    "              'early_stopping_rounds': 300}"
   ],
   "metadata": {
    "collapsed": false,
    "pycharm": {
     "name": "#%%\n"
    }
   }
  },
  {
   "cell_type": "code",
   "execution_count": 241,
   "outputs": [],
   "source": [
    "model = CatBoostClassifier(**parameters)"
   ],
   "metadata": {
    "collapsed": false,
    "pycharm": {
     "name": "#%%\n"
    }
   }
  },
  {
   "cell_type": "code",
   "execution_count": 242,
   "outputs": [
    {
     "data": {
      "text/plain": "MetricVisualizer(layout=Layout(align_self='stretch', height='500px'))",
      "application/vnd.jupyter.widget-view+json": {
       "version_major": 2,
       "version_minor": 0,
       "model_id": "f8e49c1f3278420ab5dcfdaf0b992495"
      }
     },
     "metadata": {},
     "output_type": "display_data"
    },
    {
     "name": "stdout",
     "output_type": "stream",
     "text": [
      "0:\tlearn: 0.6100672\ttest: 0.5636089\tbest: 0.5636089 (0)\ttotal: 36.3ms\tremaining: 36.2s\n",
      "100:\tlearn: 0.7802645\ttest: 0.5607023\tbest: 0.6158856 (2)\ttotal: 3.54s\tremaining: 31.5s\n",
      "200:\tlearn: 0.8256394\ttest: 0.5255040\tbest: 0.6158856 (2)\ttotal: 6.98s\tremaining: 27.8s\n",
      "300:\tlearn: 0.8505042\ttest: 0.5230877\tbest: 0.6158856 (2)\ttotal: 10.4s\tremaining: 24.1s\n",
      "bestTest = 0.6158856264\n",
      "bestIteration = 2\n",
      "Shrink model to first 3 iterations.\n",
      "CPU times: total: 13.6 s\n",
      "Wall time: 10.8 s\n"
     ]
    },
    {
     "data": {
      "text/plain": "<catboost.core.CatBoostClassifier at 0x2412f49d1e0>"
     },
     "execution_count": 242,
     "metadata": {},
     "output_type": "execute_result"
    }
   ],
   "source": [
    "%%time\n",
    "model.fit(train_data, eval_set=test_data, plot=True)"
   ],
   "metadata": {
    "collapsed": false,
    "pycharm": {
     "name": "#%%\n"
    }
   }
  },
  {
   "cell_type": "code",
   "execution_count": 243,
   "outputs": [
    {
     "data": {
      "text/plain": "             Feature Id  Importances\n0                   age    27.854973\n1          triglyceride    13.400723\n2                   gtp    10.860486\n3                   alt     9.925769\n4                tartar     8.077977\n5            hemoglobin     7.339330\n6                   ldl     6.987903\n7   fasting_blood_sugar     5.758092\n8            relaxation     3.918353\n9            weight_kg_     3.367903\n10            waist_cm_     2.508490\n11                  hdl     0.000000\n12     serum_creatinine     0.000000\n13                  ast     0.000000\n14        dental_caries     0.000000",
      "text/html": "<div>\n<style scoped>\n    .dataframe tbody tr th:only-of-type {\n        vertical-align: middle;\n    }\n\n    .dataframe tbody tr th {\n        vertical-align: top;\n    }\n\n    .dataframe thead th {\n        text-align: right;\n    }\n</style>\n<table border=\"1\" class=\"dataframe\">\n  <thead>\n    <tr style=\"text-align: right;\">\n      <th></th>\n      <th>Feature Id</th>\n      <th>Importances</th>\n    </tr>\n  </thead>\n  <tbody>\n    <tr>\n      <th>0</th>\n      <td>age</td>\n      <td>27.854973</td>\n    </tr>\n    <tr>\n      <th>1</th>\n      <td>triglyceride</td>\n      <td>13.400723</td>\n    </tr>\n    <tr>\n      <th>2</th>\n      <td>gtp</td>\n      <td>10.860486</td>\n    </tr>\n    <tr>\n      <th>3</th>\n      <td>alt</td>\n      <td>9.925769</td>\n    </tr>\n    <tr>\n      <th>4</th>\n      <td>tartar</td>\n      <td>8.077977</td>\n    </tr>\n    <tr>\n      <th>5</th>\n      <td>hemoglobin</td>\n      <td>7.339330</td>\n    </tr>\n    <tr>\n      <th>6</th>\n      <td>ldl</td>\n      <td>6.987903</td>\n    </tr>\n    <tr>\n      <th>7</th>\n      <td>fasting_blood_sugar</td>\n      <td>5.758092</td>\n    </tr>\n    <tr>\n      <th>8</th>\n      <td>relaxation</td>\n      <td>3.918353</td>\n    </tr>\n    <tr>\n      <th>9</th>\n      <td>weight_kg_</td>\n      <td>3.367903</td>\n    </tr>\n    <tr>\n      <th>10</th>\n      <td>waist_cm_</td>\n      <td>2.508490</td>\n    </tr>\n    <tr>\n      <th>11</th>\n      <td>hdl</td>\n      <td>0.000000</td>\n    </tr>\n    <tr>\n      <th>12</th>\n      <td>serum_creatinine</td>\n      <td>0.000000</td>\n    </tr>\n    <tr>\n      <th>13</th>\n      <td>ast</td>\n      <td>0.000000</td>\n    </tr>\n    <tr>\n      <th>14</th>\n      <td>dental_caries</td>\n      <td>0.000000</td>\n    </tr>\n  </tbody>\n</table>\n</div>"
     },
     "execution_count": 243,
     "metadata": {},
     "output_type": "execute_result"
    }
   ],
   "source": [
    "model.get_feature_importance(prettified=True)"
   ],
   "metadata": {
    "collapsed": false,
    "pycharm": {
     "name": "#%%\n"
    }
   }
  },
  {
   "cell_type": "code",
   "execution_count": 244,
   "outputs": [
    {
     "data": {
      "text/plain": "{'iterations': 1000,\n 'learning_rate': 0.95,\n 'loss_function': 'Logloss',\n 'random_seed': 659,\n 'verbose': 100,\n 'auto_class_weights': 'Balanced',\n 'eval_metric': 'F1',\n 'task_type': 'GPU',\n 'early_stopping_rounds': 300,\n 'cat_features': ['tartar']}"
     },
     "execution_count": 244,
     "metadata": {},
     "output_type": "execute_result"
    }
   ],
   "source": [
    "model.get_params()"
   ],
   "metadata": {
    "collapsed": false,
    "pycharm": {
     "name": "#%%\n"
    }
   }
  },
  {
   "cell_type": "code",
   "execution_count": 245,
   "outputs": [
    {
     "data": {
      "text/plain": "{'nan_mode': 'Min',\n 'gpu_ram_part': 0.95,\n 'eval_metric': 'F1',\n 'combinations_ctr': ['Borders:CtrBorderCount=15:CtrBorderType=Uniform:TargetBorderCount=1:TargetBorderType=MinEntropy:Prior=0/1:Prior=0.5/1:Prior=1/1',\n  'FeatureFreq:CtrBorderCount=15:CtrBorderType=Median:Prior=0/1'],\n 'iterations': 1000,\n 'fold_permutation_block': 64,\n 'leaf_estimation_method': 'Newton',\n 'observations_to_bootstrap': 'TestOnly',\n 'od_pval': 0,\n 'counter_calc_method': 'SkipTest',\n 'grow_policy': 'SymmetricTree',\n 'penalties_coefficient': 1,\n 'boosting_type': 'Ordered',\n 'ctr_history_unit': 'Sample',\n 'feature_border_type': 'GreedyLogSum',\n 'bayesian_matrix_reg': 0.10000000149011612,\n 'one_hot_max_size': 2,\n 'devices': '-1',\n 'eval_fraction': 0,\n 'pinned_memory_bytes': '104857600',\n 'force_unit_auto_pair_weights': False,\n 'l2_leaf_reg': 3,\n 'random_strength': 1,\n 'od_type': 'Iter',\n 'rsm': 1,\n 'boost_from_average': False,\n 'gpu_cat_features_storage': 'GpuRam',\n 'fold_size_loss_normalization': False,\n 'max_ctr_complexity': 4,\n 'model_size_reg': 0.5,\n 'simple_ctr': ['Borders:CtrBorderCount=15:CtrBorderType=Uniform:TargetBorderCount=1:TargetBorderType=MinEntropy:Prior=0/1:Prior=0.5/1:Prior=1/1',\n  'FeatureFreq:CtrBorderCount=15:CtrBorderType=MinEntropy:Prior=0/1'],\n 'pool_metainfo_options': {'tags': {}},\n 'use_best_model': True,\n 'meta_l2_frequency': 0,\n 'od_wait': 300,\n 'class_names': [0, 1],\n 'random_seed': 659,\n 'depth': 6,\n 'ctr_target_border_count': 1,\n 'has_time': False,\n 'fold_len_multiplier': 2,\n 'border_count': 128,\n 'min_fold_size': 100,\n 'class_weights': [1, 3.933899164199829],\n 'data_partition': 'FeatureParallel',\n 'bagging_temperature': 1,\n 'classes_count': 0,\n 'auto_class_weights': 'Balanced',\n 'leaf_estimation_backtracking': 'AnyImprovement',\n 'best_model_min_trees': 1,\n 'min_data_in_leaf': 1,\n 'add_ridge_penalty_to_loss_function': False,\n 'loss_function': 'Logloss',\n 'learning_rate': 0.949999988079071,\n 'meta_l2_exponent': 1,\n 'score_function': 'Cosine',\n 'task_type': 'GPU',\n 'leaf_estimation_iterations': 10,\n 'bootstrap_type': 'Bayesian',\n 'max_leaves': 64,\n 'permutation_count': 4}"
     },
     "execution_count": 245,
     "metadata": {},
     "output_type": "execute_result"
    }
   ],
   "source": [
    "model.get_all_params()"
   ],
   "metadata": {
    "collapsed": false,
    "pycharm": {
     "name": "#%%\n"
    }
   }
  },
  {
   "cell_type": "markdown",
   "source": [
    "### lr=1"
   ],
   "metadata": {
    "collapsed": false,
    "pycharm": {
     "name": "#%% md\n"
    }
   }
  },
  {
   "cell_type": "code",
   "execution_count": 246,
   "outputs": [],
   "source": [
    "parameters = {'cat_features': cat_features,\n",
    "              'eval_metric': 'F1',\n",
    "              'loss_function': 'Logloss',\n",
    "              'random_seed': 659,\n",
    "              'verbose': 100,\n",
    "              'auto_class_weights': 'Balanced',\n",
    "              'task_type': 'GPU',\n",
    "              'iterations': 1000,\n",
    "              'learning_rate': 1,\n",
    "              'early_stopping_rounds': 300}"
   ],
   "metadata": {
    "collapsed": false,
    "pycharm": {
     "name": "#%%\n"
    }
   }
  },
  {
   "cell_type": "code",
   "execution_count": 247,
   "outputs": [],
   "source": [
    "model = CatBoostClassifier(**parameters)"
   ],
   "metadata": {
    "collapsed": false,
    "pycharm": {
     "name": "#%%\n"
    }
   }
  },
  {
   "cell_type": "code",
   "execution_count": 248,
   "outputs": [
    {
     "data": {
      "text/plain": "MetricVisualizer(layout=Layout(align_self='stretch', height='500px'))",
      "application/vnd.jupyter.widget-view+json": {
       "version_major": 2,
       "version_minor": 0,
       "model_id": "f3750b9b2c614b4ea854cadbc1dbed2c"
      }
     },
     "metadata": {},
     "output_type": "display_data"
    },
    {
     "name": "stdout",
     "output_type": "stream",
     "text": [
      "0:\tlearn: 0.6100672\ttest: 0.5636089\tbest: 0.5636089 (0)\ttotal: 36.9ms\tremaining: 36.8s\n",
      "100:\tlearn: 0.7758980\ttest: 0.5697155\tbest: 0.6206883 (7)\ttotal: 3.53s\tremaining: 31.4s\n",
      "200:\tlearn: 0.8029160\ttest: 0.5577759\tbest: 0.6206883 (7)\ttotal: 6.88s\tremaining: 27.3s\n",
      "300:\tlearn: 0.8202187\ttest: 0.5445803\tbest: 0.6206883 (7)\ttotal: 10.3s\tremaining: 23.9s\n",
      "bestTest = 0.6206883307\n",
      "bestIteration = 7\n",
      "Shrink model to first 8 iterations.\n",
      "CPU times: total: 13.6 s\n",
      "Wall time: 10.9 s\n"
     ]
    },
    {
     "data": {
      "text/plain": "<catboost.core.CatBoostClassifier at 0x2412f49de70>"
     },
     "execution_count": 248,
     "metadata": {},
     "output_type": "execute_result"
    }
   ],
   "source": [
    "%%time\n",
    "model.fit(train_data, eval_set=test_data, plot=True)"
   ],
   "metadata": {
    "collapsed": false,
    "pycharm": {
     "name": "#%%\n"
    }
   }
  },
  {
   "cell_type": "code",
   "execution_count": 249,
   "outputs": [
    {
     "data": {
      "text/plain": "             Feature Id  Importances\n0                   gtp    16.451340\n1                   age    15.543993\n2                   alt    11.186722\n3          triglyceride    10.730259\n4            hemoglobin     8.073299\n5                   ast     7.374042\n6             waist_cm_     6.117078\n7            relaxation     5.797939\n8                   ldl     4.657318\n9      serum_creatinine     3.976197\n10               tartar     3.521606\n11  fasting_blood_sugar     3.127854\n12        dental_caries     2.200386\n13                  hdl     0.885700\n14           weight_kg_     0.356266",
      "text/html": "<div>\n<style scoped>\n    .dataframe tbody tr th:only-of-type {\n        vertical-align: middle;\n    }\n\n    .dataframe tbody tr th {\n        vertical-align: top;\n    }\n\n    .dataframe thead th {\n        text-align: right;\n    }\n</style>\n<table border=\"1\" class=\"dataframe\">\n  <thead>\n    <tr style=\"text-align: right;\">\n      <th></th>\n      <th>Feature Id</th>\n      <th>Importances</th>\n    </tr>\n  </thead>\n  <tbody>\n    <tr>\n      <th>0</th>\n      <td>gtp</td>\n      <td>16.451340</td>\n    </tr>\n    <tr>\n      <th>1</th>\n      <td>age</td>\n      <td>15.543993</td>\n    </tr>\n    <tr>\n      <th>2</th>\n      <td>alt</td>\n      <td>11.186722</td>\n    </tr>\n    <tr>\n      <th>3</th>\n      <td>triglyceride</td>\n      <td>10.730259</td>\n    </tr>\n    <tr>\n      <th>4</th>\n      <td>hemoglobin</td>\n      <td>8.073299</td>\n    </tr>\n    <tr>\n      <th>5</th>\n      <td>ast</td>\n      <td>7.374042</td>\n    </tr>\n    <tr>\n      <th>6</th>\n      <td>waist_cm_</td>\n      <td>6.117078</td>\n    </tr>\n    <tr>\n      <th>7</th>\n      <td>relaxation</td>\n      <td>5.797939</td>\n    </tr>\n    <tr>\n      <th>8</th>\n      <td>ldl</td>\n      <td>4.657318</td>\n    </tr>\n    <tr>\n      <th>9</th>\n      <td>serum_creatinine</td>\n      <td>3.976197</td>\n    </tr>\n    <tr>\n      <th>10</th>\n      <td>tartar</td>\n      <td>3.521606</td>\n    </tr>\n    <tr>\n      <th>11</th>\n      <td>fasting_blood_sugar</td>\n      <td>3.127854</td>\n    </tr>\n    <tr>\n      <th>12</th>\n      <td>dental_caries</td>\n      <td>2.200386</td>\n    </tr>\n    <tr>\n      <th>13</th>\n      <td>hdl</td>\n      <td>0.885700</td>\n    </tr>\n    <tr>\n      <th>14</th>\n      <td>weight_kg_</td>\n      <td>0.356266</td>\n    </tr>\n  </tbody>\n</table>\n</div>"
     },
     "execution_count": 249,
     "metadata": {},
     "output_type": "execute_result"
    }
   ],
   "source": [
    "model.get_feature_importance(prettified=True)"
   ],
   "metadata": {
    "collapsed": false,
    "pycharm": {
     "name": "#%%\n"
    }
   }
  },
  {
   "cell_type": "code",
   "execution_count": 250,
   "outputs": [
    {
     "data": {
      "text/plain": "{'iterations': 1000,\n 'learning_rate': 1,\n 'loss_function': 'Logloss',\n 'random_seed': 659,\n 'verbose': 100,\n 'auto_class_weights': 'Balanced',\n 'eval_metric': 'F1',\n 'task_type': 'GPU',\n 'early_stopping_rounds': 300,\n 'cat_features': ['tartar']}"
     },
     "execution_count": 250,
     "metadata": {},
     "output_type": "execute_result"
    }
   ],
   "source": [
    "model.get_params()"
   ],
   "metadata": {
    "collapsed": false,
    "pycharm": {
     "name": "#%%\n"
    }
   }
  },
  {
   "cell_type": "code",
   "execution_count": 251,
   "outputs": [
    {
     "data": {
      "text/plain": "{'nan_mode': 'Min',\n 'gpu_ram_part': 0.95,\n 'eval_metric': 'F1',\n 'combinations_ctr': ['Borders:CtrBorderCount=15:CtrBorderType=Uniform:TargetBorderCount=1:TargetBorderType=MinEntropy:Prior=0/1:Prior=0.5/1:Prior=1/1',\n  'FeatureFreq:CtrBorderCount=15:CtrBorderType=Median:Prior=0/1'],\n 'iterations': 1000,\n 'fold_permutation_block': 64,\n 'leaf_estimation_method': 'Newton',\n 'observations_to_bootstrap': 'TestOnly',\n 'od_pval': 0,\n 'counter_calc_method': 'SkipTest',\n 'grow_policy': 'SymmetricTree',\n 'penalties_coefficient': 1,\n 'boosting_type': 'Ordered',\n 'ctr_history_unit': 'Sample',\n 'feature_border_type': 'GreedyLogSum',\n 'bayesian_matrix_reg': 0.10000000149011612,\n 'one_hot_max_size': 2,\n 'devices': '-1',\n 'eval_fraction': 0,\n 'pinned_memory_bytes': '104857600',\n 'force_unit_auto_pair_weights': False,\n 'l2_leaf_reg': 3,\n 'random_strength': 1,\n 'od_type': 'Iter',\n 'rsm': 1,\n 'boost_from_average': False,\n 'gpu_cat_features_storage': 'GpuRam',\n 'fold_size_loss_normalization': False,\n 'max_ctr_complexity': 4,\n 'model_size_reg': 0.5,\n 'simple_ctr': ['Borders:CtrBorderCount=15:CtrBorderType=Uniform:TargetBorderCount=1:TargetBorderType=MinEntropy:Prior=0/1:Prior=0.5/1:Prior=1/1',\n  'FeatureFreq:CtrBorderCount=15:CtrBorderType=MinEntropy:Prior=0/1'],\n 'pool_metainfo_options': {'tags': {}},\n 'use_best_model': True,\n 'meta_l2_frequency': 0,\n 'od_wait': 300,\n 'class_names': [0, 1],\n 'random_seed': 659,\n 'depth': 6,\n 'ctr_target_border_count': 1,\n 'has_time': False,\n 'fold_len_multiplier': 2,\n 'border_count': 128,\n 'min_fold_size': 100,\n 'class_weights': [1, 3.933899164199829],\n 'data_partition': 'FeatureParallel',\n 'bagging_temperature': 1,\n 'classes_count': 0,\n 'auto_class_weights': 'Balanced',\n 'leaf_estimation_backtracking': 'AnyImprovement',\n 'best_model_min_trees': 1,\n 'min_data_in_leaf': 1,\n 'add_ridge_penalty_to_loss_function': False,\n 'loss_function': 'Logloss',\n 'learning_rate': 1,\n 'meta_l2_exponent': 1,\n 'score_function': 'Cosine',\n 'task_type': 'GPU',\n 'leaf_estimation_iterations': 10,\n 'bootstrap_type': 'Bayesian',\n 'max_leaves': 64,\n 'permutation_count': 4}"
     },
     "execution_count": 251,
     "metadata": {},
     "output_type": "execute_result"
    }
   ],
   "source": [
    "model.get_all_params()"
   ],
   "metadata": {
    "collapsed": false,
    "pycharm": {
     "name": "#%%\n"
    }
   }
  },
  {
   "cell_type": "code",
   "execution_count": 251,
   "outputs": [],
   "source": [],
   "metadata": {
    "collapsed": false,
    "pycharm": {
     "name": "#%%\n"
    }
   }
  },
  {
   "cell_type": "code",
   "execution_count": 251,
   "outputs": [],
   "source": [],
   "metadata": {
    "collapsed": false,
    "pycharm": {
     "name": "#%%\n"
    }
   }
  },
  {
   "cell_type": "code",
   "execution_count": 251,
   "outputs": [],
   "source": [],
   "metadata": {
    "collapsed": false,
    "pycharm": {
     "name": "#%%\n"
    }
   }
  },
  {
   "cell_type": "code",
   "execution_count": 251,
   "outputs": [],
   "source": [],
   "metadata": {
    "collapsed": false,
    "pycharm": {
     "name": "#%%\n"
    }
   }
  },
  {
   "cell_type": "code",
   "execution_count": 251,
   "outputs": [],
   "source": [],
   "metadata": {
    "collapsed": false,
    "pycharm": {
     "name": "#%%\n"
    }
   }
  },
  {
   "cell_type": "code",
   "execution_count": 251,
   "outputs": [],
   "source": [],
   "metadata": {
    "collapsed": false,
    "pycharm": {
     "name": "#%%\n"
    }
   }
  },
  {
   "cell_type": "code",
   "execution_count": 251,
   "outputs": [],
   "source": [],
   "metadata": {
    "collapsed": false,
    "pycharm": {
     "name": "#%%\n"
    }
   }
  },
  {
   "cell_type": "code",
   "execution_count": 251,
   "outputs": [],
   "source": [],
   "metadata": {
    "collapsed": false,
    "pycharm": {
     "name": "#%%\n"
    }
   }
  },
  {
   "cell_type": "code",
   "execution_count": 251,
   "outputs": [],
   "source": [],
   "metadata": {
    "collapsed": false,
    "pycharm": {
     "name": "#%%\n"
    }
   }
  },
  {
   "cell_type": "code",
   "execution_count": 251,
   "outputs": [],
   "source": [],
   "metadata": {
    "collapsed": false,
    "pycharm": {
     "name": "#%%\n"
    }
   }
  },
  {
   "cell_type": "code",
   "execution_count": 251,
   "outputs": [],
   "source": [],
   "metadata": {
    "collapsed": false,
    "pycharm": {
     "name": "#%%\n"
    }
   }
  },
  {
   "cell_type": "code",
   "execution_count": 251,
   "outputs": [],
   "source": [],
   "metadata": {
    "collapsed": false,
    "pycharm": {
     "name": "#%%\n"
    }
   }
  },
  {
   "cell_type": "code",
   "execution_count": 251,
   "outputs": [],
   "source": [],
   "metadata": {
    "collapsed": false,
    "pycharm": {
     "name": "#%%\n"
    }
   }
  },
  {
   "cell_type": "code",
   "execution_count": 251,
   "outputs": [],
   "source": [],
   "metadata": {
    "collapsed": false,
    "pycharm": {
     "name": "#%%\n"
    }
   }
  },
  {
   "cell_type": "code",
   "execution_count": 251,
   "outputs": [],
   "source": [],
   "metadata": {
    "collapsed": false,
    "pycharm": {
     "name": "#%%\n"
    }
   }
  },
  {
   "cell_type": "code",
   "execution_count": 251,
   "outputs": [],
   "source": [],
   "metadata": {
    "collapsed": false,
    "pycharm": {
     "name": "#%%\n"
    }
   }
  },
  {
   "cell_type": "code",
   "execution_count": 251,
   "outputs": [],
   "source": [],
   "metadata": {
    "collapsed": false,
    "pycharm": {
     "name": "#%%\n"
    }
   }
  },
  {
   "cell_type": "code",
   "execution_count": 251,
   "outputs": [],
   "source": [],
   "metadata": {
    "collapsed": false,
    "pycharm": {
     "name": "#%%\n"
    }
   }
  },
  {
   "cell_type": "code",
   "execution_count": 251,
   "outputs": [],
   "source": [],
   "metadata": {
    "collapsed": false,
    "pycharm": {
     "name": "#%%\n"
    }
   }
  },
  {
   "cell_type": "code",
   "execution_count": 251,
   "outputs": [],
   "source": [],
   "metadata": {
    "collapsed": false,
    "pycharm": {
     "name": "#%%\n"
    }
   }
  },
  {
   "cell_type": "code",
   "execution_count": 251,
   "outputs": [],
   "source": [],
   "metadata": {
    "collapsed": false,
    "pycharm": {
     "name": "#%%\n"
    }
   }
  },
  {
   "cell_type": "code",
   "execution_count": 251,
   "outputs": [],
   "source": [],
   "metadata": {
    "collapsed": false,
    "pycharm": {
     "name": "#%%\n"
    }
   }
  },
  {
   "cell_type": "code",
   "execution_count": 251,
   "outputs": [],
   "source": [],
   "metadata": {
    "collapsed": false,
    "pycharm": {
     "name": "#%%\n"
    }
   }
  },
  {
   "cell_type": "code",
   "execution_count": 251,
   "outputs": [],
   "source": [],
   "metadata": {
    "collapsed": false,
    "pycharm": {
     "name": "#%%\n"
    }
   }
  },
  {
   "cell_type": "code",
   "execution_count": 251,
   "outputs": [],
   "source": [],
   "metadata": {
    "collapsed": false,
    "pycharm": {
     "name": "#%%\n"
    }
   }
  },
  {
   "cell_type": "code",
   "execution_count": 251,
   "outputs": [],
   "source": [],
   "metadata": {
    "collapsed": false,
    "pycharm": {
     "name": "#%%\n"
    }
   }
  },
  {
   "cell_type": "code",
   "execution_count": null,
   "metadata": {
    "pycharm": {
     "name": "#%%\n"
    }
   },
   "outputs": [],
   "source": []
  },
  {
   "cell_type": "code",
   "execution_count": null,
   "metadata": {
    "pycharm": {
     "name": "#%%\n"
    }
   },
   "outputs": [],
   "source": []
  },
  {
   "cell_type": "code",
   "execution_count": null,
   "metadata": {
    "pycharm": {
     "name": "#%%\n"
    }
   },
   "outputs": [],
   "source": []
  },
  {
   "cell_type": "code",
   "execution_count": null,
   "metadata": {
    "pycharm": {
     "name": "#%%\n"
    }
   },
   "outputs": [],
   "source": []
  },
  {
   "cell_type": "code",
   "execution_count": null,
   "metadata": {
    "pycharm": {
     "name": "#%%\n"
    }
   },
   "outputs": [],
   "source": []
  },
  {
   "cell_type": "code",
   "execution_count": null,
   "metadata": {
    "pycharm": {
     "name": "#%%\n"
    }
   },
   "outputs": [],
   "source": []
  },
  {
   "cell_type": "code",
   "execution_count": null,
   "metadata": {
    "pycharm": {
     "name": "#%%\n"
    }
   },
   "outputs": [],
   "source": []
  },
  {
   "cell_type": "code",
   "execution_count": null,
   "metadata": {
    "pycharm": {
     "name": "#%%\n"
    }
   },
   "outputs": [],
   "source": []
  },
  {
   "cell_type": "code",
   "execution_count": null,
   "metadata": {
    "pycharm": {
     "name": "#%%\n"
    }
   },
   "outputs": [],
   "source": []
  },
  {
   "cell_type": "code",
   "execution_count": null,
   "metadata": {
    "pycharm": {
     "name": "#%%\n"
    }
   },
   "outputs": [],
   "source": []
  },
  {
   "cell_type": "code",
   "execution_count": null,
   "metadata": {
    "pycharm": {
     "name": "#%%\n"
    }
   },
   "outputs": [],
   "source": []
  },
  {
   "cell_type": "code",
   "execution_count": null,
   "metadata": {
    "pycharm": {
     "name": "#%%\n"
    }
   },
   "outputs": [],
   "source": []
  },
  {
   "cell_type": "code",
   "execution_count": null,
   "metadata": {
    "pycharm": {
     "name": "#%%\n"
    }
   },
   "outputs": [],
   "source": []
  },
  {
   "cell_type": "code",
   "execution_count": null,
   "metadata": {
    "pycharm": {
     "name": "#%%\n"
    }
   },
   "outputs": [],
   "source": []
  },
  {
   "cell_type": "code",
   "execution_count": null,
   "metadata": {
    "pycharm": {
     "name": "#%%\n"
    }
   },
   "outputs": [],
   "source": []
  },
  {
   "cell_type": "code",
   "execution_count": null,
   "metadata": {
    "pycharm": {
     "name": "#%%\n"
    }
   },
   "outputs": [],
   "source": []
  },
  {
   "cell_type": "code",
   "execution_count": null,
   "metadata": {
    "pycharm": {
     "name": "#%%\n"
    }
   },
   "outputs": [],
   "source": []
  },
  {
   "cell_type": "code",
   "execution_count": null,
   "metadata": {
    "pycharm": {
     "name": "#%%\n"
    }
   },
   "outputs": [],
   "source": []
  },
  {
   "cell_type": "code",
   "execution_count": null,
   "metadata": {
    "pycharm": {
     "name": "#%%\n"
    }
   },
   "outputs": [],
   "source": []
  },
  {
   "cell_type": "code",
   "execution_count": null,
   "metadata": {
    "pycharm": {
     "name": "#%%\n"
    }
   },
   "outputs": [],
   "source": []
  },
  {
   "cell_type": "code",
   "execution_count": null,
   "metadata": {
    "pycharm": {
     "name": "#%%\n"
    }
   },
   "outputs": [],
   "source": []
  },
  {
   "cell_type": "code",
   "execution_count": null,
   "metadata": {
    "pycharm": {
     "name": "#%%\n"
    }
   },
   "outputs": [],
   "source": []
  },
  {
   "cell_type": "code",
   "execution_count": null,
   "metadata": {
    "pycharm": {
     "name": "#%%\n"
    }
   },
   "outputs": [],
   "source": []
  },
  {
   "cell_type": "code",
   "execution_count": null,
   "metadata": {
    "pycharm": {
     "name": "#%%\n"
    }
   },
   "outputs": [],
   "source": []
  },
  {
   "cell_type": "code",
   "execution_count": null,
   "metadata": {
    "pycharm": {
     "name": "#%%\n"
    }
   },
   "outputs": [],
   "source": []
  },
  {
   "cell_type": "code",
   "execution_count": null,
   "metadata": {
    "pycharm": {
     "name": "#%%\n"
    }
   },
   "outputs": [],
   "source": []
  }
 ],
 "metadata": {
  "kernelspec": {
   "display_name": "Python 3 (ipykernel)",
   "language": "python",
   "name": "python3"
  },
  "language_info": {
   "codemirror_mode": {
    "name": "ipython",
    "version": 3
   },
   "file_extension": ".py",
   "mimetype": "text/x-python",
   "name": "python",
   "nbconvert_exporter": "python",
   "pygments_lexer": "ipython3",
   "version": "3.10.11"
  }
 },
 "nbformat": 4,
 "nbformat_minor": 1
}