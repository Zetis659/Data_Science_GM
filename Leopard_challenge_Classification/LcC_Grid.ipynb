{
 "cells": [
  {
   "cell_type": "markdown",
   "metadata": {
    "pycharm": {
     "name": "#%% md\n"
    }
   },
   "source": [
    "# Leopard challenge Classification"
   ]
  },
  {
   "cell_type": "markdown",
   "metadata": {
    "pycharm": {
     "name": "#%% md\n"
    }
   },
   "source": [
    "## Загрузка данных\n",
    "Данные беру из leopard-challenge-classification.zip\n",
    "https://drive.google.com/file/d/1OYjGYeYQzKI3mE02ymtkrbRJb5EurpL7/view?usp=sharing"
   ]
  },
  {
   "cell_type": "markdown",
   "metadata": {
    "pycharm": {
     "name": "#%% md\n"
    }
   },
   "source": [
    "# Colab"
   ]
  },
  {
   "cell_type": "code",
   "execution_count": 1,
   "metadata": {
    "pycharm": {
     "name": "#%%\n"
    }
   },
   "outputs": [
    {
     "name": "stderr",
     "output_type": "stream",
     "text": [
      "\"gdown\" ­Ґ пў«пҐвбп ў­гваҐ­­Ґ© Ё«Ё ў­Ґи­Ґ©\n",
      "Є®¬ ­¤®©, ЁбЇ®«­пҐ¬®© Їа®Ја ¬¬®© Ё«Ё Ї ЄҐв­л¬ д ©«®¬.\n"
     ]
    }
   ],
   "source": [
    "! gdown --id 1OYjGYeYQzKI3mE02ymtkrbRJb5EurpL7"
   ]
  },
  {
   "cell_type": "markdown",
   "metadata": {
    "pycharm": {
     "name": "#%% md\n"
    }
   },
   "source": [
    "! unzip /content/leopard-challenge-classification.zip -d /content/leopard-challenge-classification/"
   ]
  },
  {
   "cell_type": "code",
   "execution_count": 9,
   "metadata": {
    "pycharm": {
     "name": "#%%\n"
    }
   },
   "outputs": [
    {
     "name": "stderr",
     "output_type": "stream",
     "text": [
      "\"unzip\" ­Ґ пў«пҐвбп ў­гваҐ­­Ґ© Ё«Ё ў­Ґи­Ґ©\n",
      "Є®¬ ­¤®©, ЁбЇ®«­пҐ¬®© Їа®Ја ¬¬®© Ё«Ё Ї ЄҐв­л¬ д ©«®¬.\n"
     ]
    }
   ],
   "source": [
    "! unzip / content / leopard-challenge-classification.zip -d / content / leopard_challenge_classification /"
   ]
  },
  {
   "cell_type": "code",
   "execution_count": 32,
   "metadata": {
    "pycharm": {
     "name": "#%%\n"
    }
   },
   "outputs": [],
   "source": [
    "import pandas as pd"
   ]
  },
  {
   "cell_type": "code",
   "execution_count": 1,
   "metadata": {
    "pycharm": {
     "name": "#%%\n"
    }
   },
   "outputs": [
    {
     "ename": "NameError",
     "evalue": "name 'pd' is not defined",
     "output_type": "error",
     "traceback": [
      "\u001B[1;31m---------------------------------------------------------------------------\u001B[0m",
      "\u001B[1;31mNameError\u001B[0m                                 Traceback (most recent call last)",
      "Cell \u001B[1;32mIn[1], line 1\u001B[0m\n\u001B[1;32m----> 1\u001B[0m train \u001B[38;5;241m=\u001B[39m \u001B[43mpd\u001B[49m\u001B[38;5;241m.\u001B[39mread_csv(\u001B[38;5;124m'\u001B[39m\u001B[38;5;124m/content/leopard_challenge_regression/train.csv\u001B[39m\u001B[38;5;124m'\u001B[39m)\n",
      "\u001B[1;31mNameError\u001B[0m: name 'pd' is not defined"
     ]
    }
   ],
   "source": [
    "df = pd.read_csv('/content/leopard_challenge_classification/train.csv')"
   ]
  },
  {
   "cell_type": "code",
   "execution_count": 1,
   "metadata": {
    "pycharm": {
     "name": "#%%\n"
    }
   },
   "outputs": [
    {
     "ename": "NameError",
     "evalue": "name 'train' is not defined",
     "output_type": "error",
     "traceback": [
      "\u001B[1;31m---------------------------------------------------------------------------\u001B[0m",
      "\u001B[1;31mNameError\u001B[0m                                 Traceback (most recent call last)",
      "Cell \u001B[1;32mIn[1], line 1\u001B[0m\n\u001B[1;32m----> 1\u001B[0m \u001B[43mtrain\u001B[49m\u001B[38;5;241m.\u001B[39mhead()\n",
      "\u001B[1;31mNameError\u001B[0m: name 'train' is not defined"
     ]
    }
   ],
   "source": [
    "df.head()"
   ]
  },
  {
   "cell_type": "code",
   "execution_count": null,
   "metadata": {
    "pycharm": {
     "name": "#%%\n"
    }
   },
   "outputs": [],
   "source": [
    "!pip install phik\n",
    "\n",
    "!pip install feature_engine\n",
    "\n",
    "!pip install catboost"
   ]
  },
  {
   "cell_type": "markdown",
   "metadata": {
    "pycharm": {
     "name": "#%% md\n"
    }
   },
   "source": [
    "# Pycharm"
   ]
  },
  {
   "cell_type": "code",
   "execution_count": 1,
   "metadata": {
    "pycharm": {
     "name": "#%%\n"
    }
   },
   "outputs": [],
   "source": [
    "from zipfile import ZipFile\n",
    "\n",
    "with ZipFile('leopard-challenge-classification.zip', 'r') as zf:\n",
    "    zf.extractall()"
   ]
  },
  {
   "cell_type": "markdown",
   "metadata": {
    "pycharm": {
     "name": "#%% md\n"
    }
   },
   "source": [
    "# 1. Задача"
   ]
  },
  {
   "cell_type": "markdown",
   "metadata": {
    "pycharm": {
     "name": "#%% md\n"
    }
   },
   "source": [
    "Дан набор данных с основными клиническими показателями людей.\n",
    "Каждая строчка в датасете - клинические показатели одного человека - рост, вес, зрение и т.д.\n",
    "**Задача:** Определить, курит человек или нет, на основании его показателей."
   ]
  },
  {
   "cell_type": "markdown",
   "metadata": {
    "pycharm": {
     "name": "#%% md\n"
    }
   },
   "source": [
    "# 2. Импорт библиотек"
   ]
  },
  {
   "cell_type": "code",
   "execution_count": 1,
   "metadata": {
    "pycharm": {
     "name": "#%%\n"
    }
   },
   "outputs": [],
   "source": [
    "import pandas as pd\n",
    "import seaborn as sns\n",
    "import matplotlib.pyplot as plt\n",
    "import numpy as np\n",
    "import missingno as msno\n",
    "import phik\n",
    "import folium\n",
    "from feature_engine.selection import SmartCorrelatedSelection\n",
    "from feature_engine.imputation import RandomSampleImputer\n",
    "from sklearn.metrics import mean_absolute_percentage_error, mean_absolute_error, log_loss\n",
    "from sklearn.model_selection import train_test_split\n",
    "from catboost import CatBoostClassifier, Pool, cv\n",
    "import joblib\n",
    "from sklearn.model_selection import GridSearchCV\n",
    "from sklearn.ensemble import RandomForestClassifier\n",
    "import warnings\n",
    "\n",
    "warnings.filterwarnings(\"ignore\")\n",
    "plt.style.use('seaborn-colorblind')\n",
    "pd.set_option('display.max_columns', 100)"
   ]
  },
  {
   "cell_type": "markdown",
   "metadata": {
    "pycharm": {
     "name": "#%% md\n"
    }
   },
   "source": [
    "# 3. Загрузка Датасета"
   ]
  },
  {
   "cell_type": "code",
   "execution_count": 2,
   "metadata": {
    "pycharm": {
     "name": "#%%\n"
    }
   },
   "outputs": [],
   "source": [
    "df = pd.read_csv('train.csv')"
   ]
  },
  {
   "cell_type": "code",
   "execution_count": 3,
   "metadata": {
    "pycharm": {
     "name": "#%%\n"
    }
   },
   "outputs": [
    {
     "data": {
      "text/html": [
       "<div>\n",
       "<style scoped>\n",
       "    .dataframe tbody tr th:only-of-type {\n",
       "        vertical-align: middle;\n",
       "    }\n",
       "\n",
       "    .dataframe tbody tr th {\n",
       "        vertical-align: top;\n",
       "    }\n",
       "\n",
       "    .dataframe thead th {\n",
       "        text-align: right;\n",
       "    }\n",
       "</style>\n",
       "<table border=\"1\" class=\"dataframe\">\n",
       "  <thead>\n",
       "    <tr style=\"text-align: right;\">\n",
       "      <th></th>\n",
       "      <th>ID</th>\n",
       "      <th>age</th>\n",
       "      <th>height(cm)</th>\n",
       "      <th>weight(kg)</th>\n",
       "      <th>waist(cm)</th>\n",
       "      <th>eyesight(left)</th>\n",
       "      <th>eyesight(right)</th>\n",
       "      <th>hearing(left)</th>\n",
       "      <th>hearing(right)</th>\n",
       "      <th>systolic</th>\n",
       "      <th>relaxation</th>\n",
       "      <th>fasting blood sugar</th>\n",
       "      <th>Cholesterol</th>\n",
       "      <th>triglyceride</th>\n",
       "      <th>HDL</th>\n",
       "      <th>LDL</th>\n",
       "      <th>hemoglobin</th>\n",
       "      <th>Urine protein</th>\n",
       "      <th>serum creatinine</th>\n",
       "      <th>AST</th>\n",
       "      <th>ALT</th>\n",
       "      <th>Gtp</th>\n",
       "      <th>oral</th>\n",
       "      <th>dental caries</th>\n",
       "      <th>tartar</th>\n",
       "      <th>smoking</th>\n",
       "    </tr>\n",
       "  </thead>\n",
       "  <tbody>\n",
       "    <tr>\n",
       "      <th>0</th>\n",
       "      <td>2791</td>\n",
       "      <td>65</td>\n",
       "      <td>170</td>\n",
       "      <td>75</td>\n",
       "      <td>91.0</td>\n",
       "      <td>0.6</td>\n",
       "      <td>0.9</td>\n",
       "      <td>1.0</td>\n",
       "      <td>1.0</td>\n",
       "      <td>122.0</td>\n",
       "      <td>79.0</td>\n",
       "      <td>107.0</td>\n",
       "      <td>119.0</td>\n",
       "      <td>51.0</td>\n",
       "      <td>71.0</td>\n",
       "      <td>52.0</td>\n",
       "      <td>14.0</td>\n",
       "      <td>3.0</td>\n",
       "      <td>1.2</td>\n",
       "      <td>20.0</td>\n",
       "      <td>16.0</td>\n",
       "      <td>122.0</td>\n",
       "      <td>Y</td>\n",
       "      <td>0</td>\n",
       "      <td>N</td>\n",
       "      <td>0</td>\n",
       "    </tr>\n",
       "    <tr>\n",
       "      <th>1</th>\n",
       "      <td>18280</td>\n",
       "      <td>35</td>\n",
       "      <td>170</td>\n",
       "      <td>85</td>\n",
       "      <td>97.0</td>\n",
       "      <td>1.5</td>\n",
       "      <td>1.5</td>\n",
       "      <td>1.0</td>\n",
       "      <td>1.0</td>\n",
       "      <td>138.0</td>\n",
       "      <td>88.0</td>\n",
       "      <td>117.0</td>\n",
       "      <td>204.0</td>\n",
       "      <td>239.0</td>\n",
       "      <td>46.0</td>\n",
       "      <td>120.0</td>\n",
       "      <td>14.6</td>\n",
       "      <td>1.0</td>\n",
       "      <td>0.7</td>\n",
       "      <td>20.0</td>\n",
       "      <td>25.0</td>\n",
       "      <td>40.0</td>\n",
       "      <td>Y</td>\n",
       "      <td>0</td>\n",
       "      <td>Y</td>\n",
       "      <td>1</td>\n",
       "    </tr>\n",
       "    <tr>\n",
       "      <th>2</th>\n",
       "      <td>1618</td>\n",
       "      <td>70</td>\n",
       "      <td>165</td>\n",
       "      <td>55</td>\n",
       "      <td>75.0</td>\n",
       "      <td>0.8</td>\n",
       "      <td>1.0</td>\n",
       "      <td>1.0</td>\n",
       "      <td>1.0</td>\n",
       "      <td>115.0</td>\n",
       "      <td>63.0</td>\n",
       "      <td>128.0</td>\n",
       "      <td>165.0</td>\n",
       "      <td>60.0</td>\n",
       "      <td>68.0</td>\n",
       "      <td>85.0</td>\n",
       "      <td>14.7</td>\n",
       "      <td>1.0</td>\n",
       "      <td>0.7</td>\n",
       "      <td>15.0</td>\n",
       "      <td>13.0</td>\n",
       "      <td>19.0</td>\n",
       "      <td>Y</td>\n",
       "      <td>0</td>\n",
       "      <td>Y</td>\n",
       "      <td>0</td>\n",
       "    </tr>\n",
       "    <tr>\n",
       "      <th>3</th>\n",
       "      <td>16856</td>\n",
       "      <td>35</td>\n",
       "      <td>180</td>\n",
       "      <td>85</td>\n",
       "      <td>83.0</td>\n",
       "      <td>1.2</td>\n",
       "      <td>1.0</td>\n",
       "      <td>1.0</td>\n",
       "      <td>1.0</td>\n",
       "      <td>130.0</td>\n",
       "      <td>80.0</td>\n",
       "      <td>100.0</td>\n",
       "      <td>209.0</td>\n",
       "      <td>155.0</td>\n",
       "      <td>53.0</td>\n",
       "      <td>125.0</td>\n",
       "      <td>17.2</td>\n",
       "      <td>1.0</td>\n",
       "      <td>0.8</td>\n",
       "      <td>22.0</td>\n",
       "      <td>18.0</td>\n",
       "      <td>17.0</td>\n",
       "      <td>Y</td>\n",
       "      <td>0</td>\n",
       "      <td>Y</td>\n",
       "      <td>0</td>\n",
       "    </tr>\n",
       "    <tr>\n",
       "      <th>4</th>\n",
       "      <td>5885</td>\n",
       "      <td>25</td>\n",
       "      <td>170</td>\n",
       "      <td>65</td>\n",
       "      <td>80.0</td>\n",
       "      <td>1.5</td>\n",
       "      <td>1.2</td>\n",
       "      <td>1.0</td>\n",
       "      <td>1.0</td>\n",
       "      <td>135.0</td>\n",
       "      <td>75.0</td>\n",
       "      <td>94.0</td>\n",
       "      <td>153.0</td>\n",
       "      <td>73.0</td>\n",
       "      <td>58.0</td>\n",
       "      <td>80.0</td>\n",
       "      <td>16.5</td>\n",
       "      <td>1.0</td>\n",
       "      <td>1.0</td>\n",
       "      <td>20.0</td>\n",
       "      <td>13.0</td>\n",
       "      <td>14.0</td>\n",
       "      <td>Y</td>\n",
       "      <td>0</td>\n",
       "      <td>Y</td>\n",
       "      <td>1</td>\n",
       "    </tr>\n",
       "  </tbody>\n",
       "</table>\n",
       "</div>"
      ],
      "text/plain": [
       "      ID  age  height(cm)  weight(kg)  waist(cm)  eyesight(left)  \\\n",
       "0   2791   65         170          75       91.0             0.6   \n",
       "1  18280   35         170          85       97.0             1.5   \n",
       "2   1618   70         165          55       75.0             0.8   \n",
       "3  16856   35         180          85       83.0             1.2   \n",
       "4   5885   25         170          65       80.0             1.5   \n",
       "\n",
       "   eyesight(right)  hearing(left)  hearing(right)  systolic  relaxation  \\\n",
       "0              0.9            1.0             1.0     122.0        79.0   \n",
       "1              1.5            1.0             1.0     138.0        88.0   \n",
       "2              1.0            1.0             1.0     115.0        63.0   \n",
       "3              1.0            1.0             1.0     130.0        80.0   \n",
       "4              1.2            1.0             1.0     135.0        75.0   \n",
       "\n",
       "   fasting blood sugar  Cholesterol  triglyceride   HDL    LDL  hemoglobin  \\\n",
       "0                107.0        119.0          51.0  71.0   52.0        14.0   \n",
       "1                117.0        204.0         239.0  46.0  120.0        14.6   \n",
       "2                128.0        165.0          60.0  68.0   85.0        14.7   \n",
       "3                100.0        209.0         155.0  53.0  125.0        17.2   \n",
       "4                 94.0        153.0          73.0  58.0   80.0        16.5   \n",
       "\n",
       "   Urine protein  serum creatinine   AST   ALT    Gtp oral  dental caries  \\\n",
       "0            3.0               1.2  20.0  16.0  122.0    Y              0   \n",
       "1            1.0               0.7  20.0  25.0   40.0    Y              0   \n",
       "2            1.0               0.7  15.0  13.0   19.0    Y              0   \n",
       "3            1.0               0.8  22.0  18.0   17.0    Y              0   \n",
       "4            1.0               1.0  20.0  13.0   14.0    Y              0   \n",
       "\n",
       "  tartar  smoking  \n",
       "0      N        0  \n",
       "1      Y        1  \n",
       "2      Y        0  \n",
       "3      Y        0  \n",
       "4      Y        1  "
      ]
     },
     "execution_count": 3,
     "metadata": {},
     "output_type": "execute_result"
    }
   ],
   "source": [
    "df.head()"
   ]
  },
  {
   "cell_type": "code",
   "execution_count": 4,
   "metadata": {
    "pycharm": {
     "name": "#%%\n"
    }
   },
   "outputs": [
    {
     "data": {
      "text/plain": [
       "(13863, 26)"
      ]
     },
     "execution_count": 4,
     "metadata": {},
     "output_type": "execute_result"
    }
   ],
   "source": [
    "df.shape"
   ]
  },
  {
   "cell_type": "code",
   "execution_count": 5,
   "metadata": {
    "pycharm": {
     "name": "#%%\n"
    }
   },
   "outputs": [],
   "source": [
    "df_test = pd.read_csv('test.csv')"
   ]
  },
  {
   "cell_type": "code",
   "execution_count": 6,
   "metadata": {
    "pycharm": {
     "name": "#%%\n"
    }
   },
   "outputs": [
    {
     "data": {
      "text/html": [
       "<div>\n",
       "<style scoped>\n",
       "    .dataframe tbody tr th:only-of-type {\n",
       "        vertical-align: middle;\n",
       "    }\n",
       "\n",
       "    .dataframe tbody tr th {\n",
       "        vertical-align: top;\n",
       "    }\n",
       "\n",
       "    .dataframe thead th {\n",
       "        text-align: right;\n",
       "    }\n",
       "</style>\n",
       "<table border=\"1\" class=\"dataframe\">\n",
       "  <thead>\n",
       "    <tr style=\"text-align: right;\">\n",
       "      <th></th>\n",
       "      <th>ID</th>\n",
       "      <th>age</th>\n",
       "      <th>height(cm)</th>\n",
       "      <th>weight(kg)</th>\n",
       "      <th>waist(cm)</th>\n",
       "      <th>eyesight(left)</th>\n",
       "      <th>eyesight(right)</th>\n",
       "      <th>hearing(left)</th>\n",
       "      <th>hearing(right)</th>\n",
       "      <th>systolic</th>\n",
       "      <th>relaxation</th>\n",
       "      <th>fasting blood sugar</th>\n",
       "      <th>Cholesterol</th>\n",
       "      <th>triglyceride</th>\n",
       "      <th>HDL</th>\n",
       "      <th>LDL</th>\n",
       "      <th>hemoglobin</th>\n",
       "      <th>Urine protein</th>\n",
       "      <th>serum creatinine</th>\n",
       "      <th>AST</th>\n",
       "      <th>ALT</th>\n",
       "      <th>Gtp</th>\n",
       "      <th>oral</th>\n",
       "      <th>dental caries</th>\n",
       "      <th>tartar</th>\n",
       "      <th>smoking</th>\n",
       "    </tr>\n",
       "  </thead>\n",
       "  <tbody>\n",
       "    <tr>\n",
       "      <th>0</th>\n",
       "      <td>2791</td>\n",
       "      <td>65</td>\n",
       "      <td>170</td>\n",
       "      <td>75</td>\n",
       "      <td>91.0</td>\n",
       "      <td>0.6</td>\n",
       "      <td>0.9</td>\n",
       "      <td>1.0</td>\n",
       "      <td>1.0</td>\n",
       "      <td>122.0</td>\n",
       "      <td>79.0</td>\n",
       "      <td>107.0</td>\n",
       "      <td>119.0</td>\n",
       "      <td>51.0</td>\n",
       "      <td>71.0</td>\n",
       "      <td>52.0</td>\n",
       "      <td>14.0</td>\n",
       "      <td>3.0</td>\n",
       "      <td>1.2</td>\n",
       "      <td>20.0</td>\n",
       "      <td>16.0</td>\n",
       "      <td>122.0</td>\n",
       "      <td>Y</td>\n",
       "      <td>0</td>\n",
       "      <td>N</td>\n",
       "      <td>0</td>\n",
       "    </tr>\n",
       "    <tr>\n",
       "      <th>1</th>\n",
       "      <td>18280</td>\n",
       "      <td>35</td>\n",
       "      <td>170</td>\n",
       "      <td>85</td>\n",
       "      <td>97.0</td>\n",
       "      <td>1.5</td>\n",
       "      <td>1.5</td>\n",
       "      <td>1.0</td>\n",
       "      <td>1.0</td>\n",
       "      <td>138.0</td>\n",
       "      <td>88.0</td>\n",
       "      <td>117.0</td>\n",
       "      <td>204.0</td>\n",
       "      <td>239.0</td>\n",
       "      <td>46.0</td>\n",
       "      <td>120.0</td>\n",
       "      <td>14.6</td>\n",
       "      <td>1.0</td>\n",
       "      <td>0.7</td>\n",
       "      <td>20.0</td>\n",
       "      <td>25.0</td>\n",
       "      <td>40.0</td>\n",
       "      <td>Y</td>\n",
       "      <td>0</td>\n",
       "      <td>Y</td>\n",
       "      <td>1</td>\n",
       "    </tr>\n",
       "    <tr>\n",
       "      <th>2</th>\n",
       "      <td>1618</td>\n",
       "      <td>70</td>\n",
       "      <td>165</td>\n",
       "      <td>55</td>\n",
       "      <td>75.0</td>\n",
       "      <td>0.8</td>\n",
       "      <td>1.0</td>\n",
       "      <td>1.0</td>\n",
       "      <td>1.0</td>\n",
       "      <td>115.0</td>\n",
       "      <td>63.0</td>\n",
       "      <td>128.0</td>\n",
       "      <td>165.0</td>\n",
       "      <td>60.0</td>\n",
       "      <td>68.0</td>\n",
       "      <td>85.0</td>\n",
       "      <td>14.7</td>\n",
       "      <td>1.0</td>\n",
       "      <td>0.7</td>\n",
       "      <td>15.0</td>\n",
       "      <td>13.0</td>\n",
       "      <td>19.0</td>\n",
       "      <td>Y</td>\n",
       "      <td>0</td>\n",
       "      <td>Y</td>\n",
       "      <td>0</td>\n",
       "    </tr>\n",
       "    <tr>\n",
       "      <th>3</th>\n",
       "      <td>16856</td>\n",
       "      <td>35</td>\n",
       "      <td>180</td>\n",
       "      <td>85</td>\n",
       "      <td>83.0</td>\n",
       "      <td>1.2</td>\n",
       "      <td>1.0</td>\n",
       "      <td>1.0</td>\n",
       "      <td>1.0</td>\n",
       "      <td>130.0</td>\n",
       "      <td>80.0</td>\n",
       "      <td>100.0</td>\n",
       "      <td>209.0</td>\n",
       "      <td>155.0</td>\n",
       "      <td>53.0</td>\n",
       "      <td>125.0</td>\n",
       "      <td>17.2</td>\n",
       "      <td>1.0</td>\n",
       "      <td>0.8</td>\n",
       "      <td>22.0</td>\n",
       "      <td>18.0</td>\n",
       "      <td>17.0</td>\n",
       "      <td>Y</td>\n",
       "      <td>0</td>\n",
       "      <td>Y</td>\n",
       "      <td>0</td>\n",
       "    </tr>\n",
       "    <tr>\n",
       "      <th>4</th>\n",
       "      <td>5885</td>\n",
       "      <td>25</td>\n",
       "      <td>170</td>\n",
       "      <td>65</td>\n",
       "      <td>80.0</td>\n",
       "      <td>1.5</td>\n",
       "      <td>1.2</td>\n",
       "      <td>1.0</td>\n",
       "      <td>1.0</td>\n",
       "      <td>135.0</td>\n",
       "      <td>75.0</td>\n",
       "      <td>94.0</td>\n",
       "      <td>153.0</td>\n",
       "      <td>73.0</td>\n",
       "      <td>58.0</td>\n",
       "      <td>80.0</td>\n",
       "      <td>16.5</td>\n",
       "      <td>1.0</td>\n",
       "      <td>1.0</td>\n",
       "      <td>20.0</td>\n",
       "      <td>13.0</td>\n",
       "      <td>14.0</td>\n",
       "      <td>Y</td>\n",
       "      <td>0</td>\n",
       "      <td>Y</td>\n",
       "      <td>1</td>\n",
       "    </tr>\n",
       "  </tbody>\n",
       "</table>\n",
       "</div>"
      ],
      "text/plain": [
       "      ID  age  height(cm)  weight(kg)  waist(cm)  eyesight(left)  \\\n",
       "0   2791   65         170          75       91.0             0.6   \n",
       "1  18280   35         170          85       97.0             1.5   \n",
       "2   1618   70         165          55       75.0             0.8   \n",
       "3  16856   35         180          85       83.0             1.2   \n",
       "4   5885   25         170          65       80.0             1.5   \n",
       "\n",
       "   eyesight(right)  hearing(left)  hearing(right)  systolic  relaxation  \\\n",
       "0              0.9            1.0             1.0     122.0        79.0   \n",
       "1              1.5            1.0             1.0     138.0        88.0   \n",
       "2              1.0            1.0             1.0     115.0        63.0   \n",
       "3              1.0            1.0             1.0     130.0        80.0   \n",
       "4              1.2            1.0             1.0     135.0        75.0   \n",
       "\n",
       "   fasting blood sugar  Cholesterol  triglyceride   HDL    LDL  hemoglobin  \\\n",
       "0                107.0        119.0          51.0  71.0   52.0        14.0   \n",
       "1                117.0        204.0         239.0  46.0  120.0        14.6   \n",
       "2                128.0        165.0          60.0  68.0   85.0        14.7   \n",
       "3                100.0        209.0         155.0  53.0  125.0        17.2   \n",
       "4                 94.0        153.0          73.0  58.0   80.0        16.5   \n",
       "\n",
       "   Urine protein  serum creatinine   AST   ALT    Gtp oral  dental caries  \\\n",
       "0            3.0               1.2  20.0  16.0  122.0    Y              0   \n",
       "1            1.0               0.7  20.0  25.0   40.0    Y              0   \n",
       "2            1.0               0.7  15.0  13.0   19.0    Y              0   \n",
       "3            1.0               0.8  22.0  18.0   17.0    Y              0   \n",
       "4            1.0               1.0  20.0  13.0   14.0    Y              0   \n",
       "\n",
       "  tartar  smoking  \n",
       "0      N        0  \n",
       "1      Y        1  \n",
       "2      Y        0  \n",
       "3      Y        0  \n",
       "4      Y        1  "
      ]
     },
     "execution_count": 6,
     "metadata": {},
     "output_type": "execute_result"
    }
   ],
   "source": [
    "df.head()"
   ]
  },
  {
   "cell_type": "code",
   "execution_count": 7,
   "metadata": {
    "pycharm": {
     "name": "#%%\n"
    }
   },
   "outputs": [
    {
     "data": {
      "text/plain": [
       "(5942, 25)"
      ]
     },
     "execution_count": 7,
     "metadata": {},
     "output_type": "execute_result"
    }
   ],
   "source": [
    "df_test.shape"
   ]
  },
  {
   "cell_type": "markdown",
   "metadata": {
    "pycharm": {
     "name": "#%% md\n"
    }
   },
   "source": [
    "# 4. PDA - Получение информации о Датасете"
   ]
  },
  {
   "cell_type": "markdown",
   "metadata": {
    "pycharm": {
     "name": "#%% md\n"
    }
   },
   "source": [
    "## 4.1 Подготовка таблиц"
   ]
  },
  {
   "cell_type": "markdown",
   "metadata": {
    "pycharm": {
     "name": "#%% md\n"
    }
   },
   "source": [
    "### Перевод названий колонок в строчные буквы и замена пробелов"
   ]
  },
  {
   "cell_type": "code",
   "execution_count": 8,
   "metadata": {
    "pycharm": {
     "name": "#%%\n"
    }
   },
   "outputs": [],
   "source": [
    "df.columns = df.columns.str.replace(' ', '_').str.replace('(', '_').str.replace(')', '_').str.lower()\n",
    "df_test.columns = df_test.columns.str.replace(' ', '_').str.replace('(', '_').str.replace(')', '_').str.lower()"
   ]
  },
  {
   "cell_type": "code",
   "execution_count": 9,
   "metadata": {
    "pycharm": {
     "name": "#%%\n"
    }
   },
   "outputs": [
    {
     "data": {
      "text/html": [
       "<div>\n",
       "<style scoped>\n",
       "    .dataframe tbody tr th:only-of-type {\n",
       "        vertical-align: middle;\n",
       "    }\n",
       "\n",
       "    .dataframe tbody tr th {\n",
       "        vertical-align: top;\n",
       "    }\n",
       "\n",
       "    .dataframe thead th {\n",
       "        text-align: right;\n",
       "    }\n",
       "</style>\n",
       "<table border=\"1\" class=\"dataframe\">\n",
       "  <thead>\n",
       "    <tr style=\"text-align: right;\">\n",
       "      <th></th>\n",
       "      <th>id</th>\n",
       "      <th>age</th>\n",
       "      <th>height_cm_</th>\n",
       "      <th>weight_kg_</th>\n",
       "      <th>waist_cm_</th>\n",
       "      <th>eyesight_left_</th>\n",
       "      <th>eyesight_right_</th>\n",
       "      <th>hearing_left_</th>\n",
       "      <th>hearing_right_</th>\n",
       "      <th>systolic</th>\n",
       "      <th>relaxation</th>\n",
       "      <th>fasting_blood_sugar</th>\n",
       "      <th>cholesterol</th>\n",
       "      <th>triglyceride</th>\n",
       "      <th>hdl</th>\n",
       "      <th>ldl</th>\n",
       "      <th>hemoglobin</th>\n",
       "      <th>urine_protein</th>\n",
       "      <th>serum_creatinine</th>\n",
       "      <th>ast</th>\n",
       "      <th>alt</th>\n",
       "      <th>gtp</th>\n",
       "      <th>oral</th>\n",
       "      <th>dental_caries</th>\n",
       "      <th>tartar</th>\n",
       "      <th>smoking</th>\n",
       "    </tr>\n",
       "  </thead>\n",
       "  <tbody>\n",
       "    <tr>\n",
       "      <th>0</th>\n",
       "      <td>2791</td>\n",
       "      <td>65</td>\n",
       "      <td>170</td>\n",
       "      <td>75</td>\n",
       "      <td>91.0</td>\n",
       "      <td>0.6</td>\n",
       "      <td>0.9</td>\n",
       "      <td>1.0</td>\n",
       "      <td>1.0</td>\n",
       "      <td>122.0</td>\n",
       "      <td>79.0</td>\n",
       "      <td>107.0</td>\n",
       "      <td>119.0</td>\n",
       "      <td>51.0</td>\n",
       "      <td>71.0</td>\n",
       "      <td>52.0</td>\n",
       "      <td>14.0</td>\n",
       "      <td>3.0</td>\n",
       "      <td>1.2</td>\n",
       "      <td>20.0</td>\n",
       "      <td>16.0</td>\n",
       "      <td>122.0</td>\n",
       "      <td>Y</td>\n",
       "      <td>0</td>\n",
       "      <td>N</td>\n",
       "      <td>0</td>\n",
       "    </tr>\n",
       "    <tr>\n",
       "      <th>1</th>\n",
       "      <td>18280</td>\n",
       "      <td>35</td>\n",
       "      <td>170</td>\n",
       "      <td>85</td>\n",
       "      <td>97.0</td>\n",
       "      <td>1.5</td>\n",
       "      <td>1.5</td>\n",
       "      <td>1.0</td>\n",
       "      <td>1.0</td>\n",
       "      <td>138.0</td>\n",
       "      <td>88.0</td>\n",
       "      <td>117.0</td>\n",
       "      <td>204.0</td>\n",
       "      <td>239.0</td>\n",
       "      <td>46.0</td>\n",
       "      <td>120.0</td>\n",
       "      <td>14.6</td>\n",
       "      <td>1.0</td>\n",
       "      <td>0.7</td>\n",
       "      <td>20.0</td>\n",
       "      <td>25.0</td>\n",
       "      <td>40.0</td>\n",
       "      <td>Y</td>\n",
       "      <td>0</td>\n",
       "      <td>Y</td>\n",
       "      <td>1</td>\n",
       "    </tr>\n",
       "    <tr>\n",
       "      <th>2</th>\n",
       "      <td>1618</td>\n",
       "      <td>70</td>\n",
       "      <td>165</td>\n",
       "      <td>55</td>\n",
       "      <td>75.0</td>\n",
       "      <td>0.8</td>\n",
       "      <td>1.0</td>\n",
       "      <td>1.0</td>\n",
       "      <td>1.0</td>\n",
       "      <td>115.0</td>\n",
       "      <td>63.0</td>\n",
       "      <td>128.0</td>\n",
       "      <td>165.0</td>\n",
       "      <td>60.0</td>\n",
       "      <td>68.0</td>\n",
       "      <td>85.0</td>\n",
       "      <td>14.7</td>\n",
       "      <td>1.0</td>\n",
       "      <td>0.7</td>\n",
       "      <td>15.0</td>\n",
       "      <td>13.0</td>\n",
       "      <td>19.0</td>\n",
       "      <td>Y</td>\n",
       "      <td>0</td>\n",
       "      <td>Y</td>\n",
       "      <td>0</td>\n",
       "    </tr>\n",
       "    <tr>\n",
       "      <th>3</th>\n",
       "      <td>16856</td>\n",
       "      <td>35</td>\n",
       "      <td>180</td>\n",
       "      <td>85</td>\n",
       "      <td>83.0</td>\n",
       "      <td>1.2</td>\n",
       "      <td>1.0</td>\n",
       "      <td>1.0</td>\n",
       "      <td>1.0</td>\n",
       "      <td>130.0</td>\n",
       "      <td>80.0</td>\n",
       "      <td>100.0</td>\n",
       "      <td>209.0</td>\n",
       "      <td>155.0</td>\n",
       "      <td>53.0</td>\n",
       "      <td>125.0</td>\n",
       "      <td>17.2</td>\n",
       "      <td>1.0</td>\n",
       "      <td>0.8</td>\n",
       "      <td>22.0</td>\n",
       "      <td>18.0</td>\n",
       "      <td>17.0</td>\n",
       "      <td>Y</td>\n",
       "      <td>0</td>\n",
       "      <td>Y</td>\n",
       "      <td>0</td>\n",
       "    </tr>\n",
       "    <tr>\n",
       "      <th>4</th>\n",
       "      <td>5885</td>\n",
       "      <td>25</td>\n",
       "      <td>170</td>\n",
       "      <td>65</td>\n",
       "      <td>80.0</td>\n",
       "      <td>1.5</td>\n",
       "      <td>1.2</td>\n",
       "      <td>1.0</td>\n",
       "      <td>1.0</td>\n",
       "      <td>135.0</td>\n",
       "      <td>75.0</td>\n",
       "      <td>94.0</td>\n",
       "      <td>153.0</td>\n",
       "      <td>73.0</td>\n",
       "      <td>58.0</td>\n",
       "      <td>80.0</td>\n",
       "      <td>16.5</td>\n",
       "      <td>1.0</td>\n",
       "      <td>1.0</td>\n",
       "      <td>20.0</td>\n",
       "      <td>13.0</td>\n",
       "      <td>14.0</td>\n",
       "      <td>Y</td>\n",
       "      <td>0</td>\n",
       "      <td>Y</td>\n",
       "      <td>1</td>\n",
       "    </tr>\n",
       "  </tbody>\n",
       "</table>\n",
       "</div>"
      ],
      "text/plain": [
       "      id  age  height_cm_  weight_kg_  waist_cm_  eyesight_left_  \\\n",
       "0   2791   65         170          75       91.0             0.6   \n",
       "1  18280   35         170          85       97.0             1.5   \n",
       "2   1618   70         165          55       75.0             0.8   \n",
       "3  16856   35         180          85       83.0             1.2   \n",
       "4   5885   25         170          65       80.0             1.5   \n",
       "\n",
       "   eyesight_right_  hearing_left_  hearing_right_  systolic  relaxation  \\\n",
       "0              0.9            1.0             1.0     122.0        79.0   \n",
       "1              1.5            1.0             1.0     138.0        88.0   \n",
       "2              1.0            1.0             1.0     115.0        63.0   \n",
       "3              1.0            1.0             1.0     130.0        80.0   \n",
       "4              1.2            1.0             1.0     135.0        75.0   \n",
       "\n",
       "   fasting_blood_sugar  cholesterol  triglyceride   hdl    ldl  hemoglobin  \\\n",
       "0                107.0        119.0          51.0  71.0   52.0        14.0   \n",
       "1                117.0        204.0         239.0  46.0  120.0        14.6   \n",
       "2                128.0        165.0          60.0  68.0   85.0        14.7   \n",
       "3                100.0        209.0         155.0  53.0  125.0        17.2   \n",
       "4                 94.0        153.0          73.0  58.0   80.0        16.5   \n",
       "\n",
       "   urine_protein  serum_creatinine   ast   alt    gtp oral  dental_caries  \\\n",
       "0            3.0               1.2  20.0  16.0  122.0    Y              0   \n",
       "1            1.0               0.7  20.0  25.0   40.0    Y              0   \n",
       "2            1.0               0.7  15.0  13.0   19.0    Y              0   \n",
       "3            1.0               0.8  22.0  18.0   17.0    Y              0   \n",
       "4            1.0               1.0  20.0  13.0   14.0    Y              0   \n",
       "\n",
       "  tartar  smoking  \n",
       "0      N        0  \n",
       "1      Y        1  \n",
       "2      Y        0  \n",
       "3      Y        0  \n",
       "4      Y        1  "
      ]
     },
     "execution_count": 9,
     "metadata": {},
     "output_type": "execute_result"
    }
   ],
   "source": [
    "df.head()"
   ]
  },
  {
   "cell_type": "markdown",
   "metadata": {
    "pycharm": {
     "name": "#%% md\n"
    }
   },
   "source": [
    "# 6. Preprocessing"
   ]
  },
  {
   "cell_type": "markdown",
   "metadata": {
    "pycharm": {
     "name": "#%% md\n"
    }
   },
   "source": [
    "## 6.1 Удаление выбросов"
   ]
  },
  {
   "cell_type": "markdown",
   "metadata": {
    "pycharm": {
     "name": "#%% md\n"
    }
   },
   "source": [
    "### Waist - окружность талии"
   ]
  },
  {
   "cell_type": "markdown",
   "metadata": {
    "pycharm": {
     "name": "#%% md\n"
    }
   },
   "source": [
    "У половины пациентов окружность талии составляет от 79 до 90 см\n",
    "**Выбросы в сравнении с тестовой выборкой:** ВСЕГО 2 пациента > 121"
   ]
  },
  {
   "cell_type": "code",
   "execution_count": 10,
   "metadata": {
    "pycharm": {
     "name": "#%%\n"
    }
   },
   "outputs": [],
   "source": [
    "df = df.query('waist_cm_ < 121')"
   ]
  },
  {
   "cell_type": "markdown",
   "metadata": {
    "pycharm": {
     "name": "#%% md\n"
    }
   },
   "source": [
    "### Systolic - систолическое давление"
   ]
  },
  {
   "cell_type": "markdown",
   "metadata": {
    "pycharm": {
     "name": "#%% md\n"
    }
   },
   "source": [
    "У половины пациентов систолическое давление находится в пределах от 115 до 131\n",
    "**Выбросы в сравнении с тестовой выборкой:** ВСЕГО 3 пациента: 1 пациент > 200, 2 пациента < 85"
   ]
  },
  {
   "cell_type": "code",
   "execution_count": 11,
   "metadata": {
    "pycharm": {
     "name": "#%%\n"
    }
   },
   "outputs": [],
   "source": [
    "df = df.query('systolic < 200 & systolic > 85')"
   ]
  },
  {
   "cell_type": "markdown",
   "metadata": {
    "pycharm": {
     "name": "#%% md\n"
    }
   },
   "source": [
    "У половины пациентов диастолическое давление находится в пределах от 70 до 83\n",
    "**Выбросы в сравнении с тестовой выборкой:** ВСЕГО 2 пациента: 1 пациент > 133, 1 пациент < 45"
   ]
  },
  {
   "cell_type": "code",
   "execution_count": 12,
   "metadata": {
    "pycharm": {
     "name": "#%%\n"
    }
   },
   "outputs": [],
   "source": [
    "df = df.query('relaxation < 135 & relaxation > 45')"
   ]
  },
  {
   "cell_type": "markdown",
   "metadata": {
    "pycharm": {
     "name": "#%% md\n"
    }
   },
   "source": [
    "### Fasting blood sugar - Сахар в крови"
   ]
  },
  {
   "cell_type": "markdown",
   "metadata": {
    "pycharm": {
     "name": "#%% md\n"
    }
   },
   "source": [
    "У половины пациентов сахар в крови находится в пределах от 90 до 104\n",
    "**Выбросы в сравнении с тестовой выборкой:** Всего 2 пациента: 1 пациент > 400, 1 пациент < 50"
   ]
  },
  {
   "cell_type": "code",
   "execution_count": 13,
   "metadata": {
    "pycharm": {
     "name": "#%%\n"
    }
   },
   "outputs": [],
   "source": [
    "df = df.query('fasting_blood_sugar < 400 & fasting_blood_sugar > 50')"
   ]
  },
  {
   "cell_type": "markdown",
   "metadata": {
    "pycharm": {
     "name": "#%% md\n"
    }
   },
   "source": [
    "### Cholesterol - холестерин"
   ]
  },
  {
   "cell_type": "markdown",
   "metadata": {
    "pycharm": {
     "name": "#%% md\n"
    }
   },
   "source": [
    "У половины пациентов холестерин находится в пределах от 169 до 216\n",
    "**Выбросы в сравнении с тестовой выборкой:** ВСЕГО 2 пациента > 400,"
   ]
  },
  {
   "cell_type": "code",
   "execution_count": 14,
   "metadata": {
    "pycharm": {
     "name": "#%%\n"
    }
   },
   "outputs": [],
   "source": [
    "df = df.query('cholesterol < 400')"
   ]
  },
  {
   "cell_type": "markdown",
   "metadata": {
    "pycharm": {
     "name": "#%% md\n"
    }
   },
   "source": [
    "### Triglyceride - триглицерид"
   ]
  },
  {
   "cell_type": "markdown",
   "metadata": {
    "pycharm": {
     "name": "#%% md\n"
    }
   },
   "source": [
    "У половины пациентов триглицерид находится в пределах от 78 до 166\n",
    "**Выбросы в сравнении с тестовой выборкой:** ВСЕГО 6 пациентов < 20,"
   ]
  },
  {
   "cell_type": "code",
   "execution_count": 15,
   "metadata": {
    "pycharm": {
     "name": "#%%\n"
    }
   },
   "outputs": [],
   "source": [
    "df = df.query('triglyceride > 20')"
   ]
  },
  {
   "cell_type": "markdown",
   "metadata": {
    "pycharm": {
     "name": "#%% md\n"
    }
   },
   "source": [
    "### HDL - холестерин липопротеинов высокой плотности"
   ]
  },
  {
   "cell_type": "markdown",
   "metadata": {
    "pycharm": {
     "name": "#%% md\n"
    }
   },
   "source": [
    "У половины пациентов холестерин липопротеинов находится в пределах от 45 до 61\n",
    "**Выбросы в сравнении с тестовой выборкой:** ВСЕГО 4 пациента: 1 пациент > 160, 3 пациента < 20,"
   ]
  },
  {
   "cell_type": "code",
   "execution_count": 16,
   "metadata": {
    "pycharm": {
     "name": "#%%\n"
    }
   },
   "outputs": [],
   "source": [
    "df = df.query('hdl < 160 & hdl > 20')"
   ]
  },
  {
   "cell_type": "markdown",
   "metadata": {
    "pycharm": {
     "name": "#%% md\n"
    }
   },
   "source": [
    "### LDL - липопротеины низкой плотности"
   ]
  },
  {
   "cell_type": "markdown",
   "metadata": {
    "pycharm": {
     "name": "#%% md\n"
    }
   },
   "source": [
    "У половины пациентов липопротеины находится в пределах от 91 до 135\n",
    "**Выбросы в сравнении с тестовой выборкой** ВСЕГО 9 пациентов: 6 пациентов > 1100, 3 пациента < 10,"
   ]
  },
  {
   "cell_type": "code",
   "execution_count": 17,
   "metadata": {
    "pycharm": {
     "name": "#%%\n"
    }
   },
   "outputs": [],
   "source": [
    "df = df.query('ldl < 1100 & ldl > 10')"
   ]
  },
  {
   "cell_type": "markdown",
   "metadata": {
    "pycharm": {
     "name": "#%% md\n"
    }
   },
   "source": [
    "### Hemoglobin - гемоглобин"
   ]
  },
  {
   "cell_type": "markdown",
   "metadata": {
    "pycharm": {
     "name": "#%% md\n"
    }
   },
   "source": [
    "У половины пациентов гемоглобин находится в пределах от 14.8 до 16.1\n",
    "**Выбросы в сравнении с тестовой выборкой:** ВСЕГО 9 пациентов: 3 пациента > 19.4, 6 пациентов < 8.6,"
   ]
  },
  {
   "cell_type": "code",
   "execution_count": 18,
   "metadata": {
    "pycharm": {
     "name": "#%%\n"
    }
   },
   "outputs": [],
   "source": [
    "df = df.query('hemoglobin < 19.4 & hemoglobin > 8.6')"
   ]
  },
  {
   "cell_type": "markdown",
   "metadata": {
    "pycharm": {
     "name": "#%% md\n"
    }
   },
   "source": [
    "### Serum creatinine - Сывороточный креатинин"
   ]
  },
  {
   "cell_type": "markdown",
   "metadata": {
    "pycharm": {
     "name": "#%% md\n"
    }
   },
   "source": [
    "У половины пациентов сывороточный креатинин находится в пределах от 0.9 до 1.1\n",
    "**Выбросы в сравнении тестовой выборкой:** ВСЕГО 10 пациентов > 2.6"
   ]
  },
  {
   "cell_type": "code",
   "execution_count": 19,
   "metadata": {
    "pycharm": {
     "name": "#%%\n"
    }
   },
   "outputs": [],
   "source": [
    "df = df.query('serum_creatinine < 2.6')"
   ]
  },
  {
   "cell_type": "markdown",
   "metadata": {
    "pycharm": {
     "name": "#%% md\n"
    }
   },
   "source": [
    "### AST - Аспартатаминотрансфераз"
   ]
  },
  {
   "cell_type": "markdown",
   "metadata": {
    "pycharm": {
     "name": "#%% md\n"
    }
   },
   "source": [
    "У половины пациентов Аспартатаминотрансфераз находится в пределах от 20 до 30\n",
    "**Выбросы в сравнении с тестовой выборкой:** ВСЕГО 4 пациента: 3 пациента > 600, 1 пациент < 8"
   ]
  },
  {
   "cell_type": "code",
   "execution_count": 20,
   "metadata": {
    "pycharm": {
     "name": "#%%\n"
    }
   },
   "outputs": [],
   "source": [
    "df = df.query('ast < 600 & ast > 8')"
   ]
  },
  {
   "cell_type": "markdown",
   "metadata": {
    "pycharm": {
     "name": "#%% md\n"
    }
   },
   "source": [
    "### ALT - Аланинаминотрансфераза"
   ]
  },
  {
   "cell_type": "markdown",
   "metadata": {
    "pycharm": {
     "name": "#%% md\n"
    }
   },
   "source": [
    "У половины пациентов Аланинаминотрансфераза находится в пределах от 18 до 35\n",
    "**Выбросы в сравнении с тестовой выборкой:** ВСЕГО 3 пациента: 1 пациент > 1600, 2 пациента < 3"
   ]
  },
  {
   "cell_type": "code",
   "execution_count": 21,
   "metadata": {
    "pycharm": {
     "name": "#%%\n"
    }
   },
   "outputs": [],
   "source": [
    "df = df.query('alt < 1600 & alt > 3')"
   ]
  },
  {
   "cell_type": "markdown",
   "metadata": {
    "pycharm": {
     "name": "#%% md\n"
    }
   },
   "source": [
    "### Итого:\n",
    "Из обучающего выборки было дропнуто 54 переменные, что составляет 0.3% от обучающей выборки.:"
   ]
  },
  {
   "cell_type": "code",
   "execution_count": 22,
   "metadata": {
    "pycharm": {
     "name": "#%%\n"
    }
   },
   "outputs": [
    {
     "data": {
      "text/plain": [
       "(13809, 26)"
      ]
     },
     "execution_count": 22,
     "metadata": {},
     "output_type": "execute_result"
    }
   ],
   "source": [
    "df.shape"
   ]
  },
  {
   "cell_type": "markdown",
   "metadata": {
    "pycharm": {
     "name": "#%% md\n"
    }
   },
   "source": [
    "## 6.2 Список всех фич"
   ]
  },
  {
   "cell_type": "markdown",
   "metadata": {
    "pycharm": {
     "name": "#%% md\n"
    }
   },
   "source": [
    "Составлю список всех фичей\n",
    "Сразу удаляю фичу oral, т.к. она не несёт полезной информации"
   ]
  },
  {
   "cell_type": "code",
   "execution_count": 23,
   "metadata": {
    "pycharm": {
     "name": "#%%\n"
    }
   },
   "outputs": [],
   "source": [
    "df_copy = df.copy()\n",
    "df_test_copy = df_test.copy()"
   ]
  },
  {
   "cell_type": "code",
   "execution_count": 24,
   "metadata": {
    "pycharm": {
     "name": "#%%\n"
    }
   },
   "outputs": [],
   "source": [
    "X = df.drop(['oral', 'smoking'], axis=1)\n",
    "y = df.smoking\n",
    "cat_features = ['tartar']\n",
    "df_test = df_test.drop('oral', axis=1)\n",
    "df_test_copy = df_test_copy.drop('oral', axis=1)"
   ]
  },
  {
   "cell_type": "code",
   "execution_count": 25,
   "metadata": {
    "pycharm": {
     "name": "#%%\n"
    }
   },
   "outputs": [
    {
     "data": {
      "text/html": [
       "<div>\n",
       "<style scoped>\n",
       "    .dataframe tbody tr th:only-of-type {\n",
       "        vertical-align: middle;\n",
       "    }\n",
       "\n",
       "    .dataframe tbody tr th {\n",
       "        vertical-align: top;\n",
       "    }\n",
       "\n",
       "    .dataframe thead th {\n",
       "        text-align: right;\n",
       "    }\n",
       "</style>\n",
       "<table border=\"1\" class=\"dataframe\">\n",
       "  <thead>\n",
       "    <tr style=\"text-align: right;\">\n",
       "      <th></th>\n",
       "      <th>id</th>\n",
       "      <th>age</th>\n",
       "      <th>height_cm_</th>\n",
       "      <th>weight_kg_</th>\n",
       "      <th>waist_cm_</th>\n",
       "      <th>eyesight_left_</th>\n",
       "      <th>eyesight_right_</th>\n",
       "      <th>hearing_left_</th>\n",
       "      <th>hearing_right_</th>\n",
       "      <th>systolic</th>\n",
       "      <th>relaxation</th>\n",
       "      <th>fasting_blood_sugar</th>\n",
       "      <th>cholesterol</th>\n",
       "      <th>triglyceride</th>\n",
       "      <th>hdl</th>\n",
       "      <th>ldl</th>\n",
       "      <th>hemoglobin</th>\n",
       "      <th>urine_protein</th>\n",
       "      <th>serum_creatinine</th>\n",
       "      <th>ast</th>\n",
       "      <th>alt</th>\n",
       "      <th>gtp</th>\n",
       "      <th>dental_caries</th>\n",
       "      <th>tartar</th>\n",
       "    </tr>\n",
       "  </thead>\n",
       "  <tbody>\n",
       "    <tr>\n",
       "      <th>0</th>\n",
       "      <td>2791</td>\n",
       "      <td>65</td>\n",
       "      <td>170</td>\n",
       "      <td>75</td>\n",
       "      <td>91.0</td>\n",
       "      <td>0.6</td>\n",
       "      <td>0.9</td>\n",
       "      <td>1.0</td>\n",
       "      <td>1.0</td>\n",
       "      <td>122.0</td>\n",
       "      <td>79.0</td>\n",
       "      <td>107.0</td>\n",
       "      <td>119.0</td>\n",
       "      <td>51.0</td>\n",
       "      <td>71.0</td>\n",
       "      <td>52.0</td>\n",
       "      <td>14.0</td>\n",
       "      <td>3.0</td>\n",
       "      <td>1.2</td>\n",
       "      <td>20.0</td>\n",
       "      <td>16.0</td>\n",
       "      <td>122.0</td>\n",
       "      <td>0</td>\n",
       "      <td>N</td>\n",
       "    </tr>\n",
       "    <tr>\n",
       "      <th>1</th>\n",
       "      <td>18280</td>\n",
       "      <td>35</td>\n",
       "      <td>170</td>\n",
       "      <td>85</td>\n",
       "      <td>97.0</td>\n",
       "      <td>1.5</td>\n",
       "      <td>1.5</td>\n",
       "      <td>1.0</td>\n",
       "      <td>1.0</td>\n",
       "      <td>138.0</td>\n",
       "      <td>88.0</td>\n",
       "      <td>117.0</td>\n",
       "      <td>204.0</td>\n",
       "      <td>239.0</td>\n",
       "      <td>46.0</td>\n",
       "      <td>120.0</td>\n",
       "      <td>14.6</td>\n",
       "      <td>1.0</td>\n",
       "      <td>0.7</td>\n",
       "      <td>20.0</td>\n",
       "      <td>25.0</td>\n",
       "      <td>40.0</td>\n",
       "      <td>0</td>\n",
       "      <td>Y</td>\n",
       "    </tr>\n",
       "    <tr>\n",
       "      <th>2</th>\n",
       "      <td>1618</td>\n",
       "      <td>70</td>\n",
       "      <td>165</td>\n",
       "      <td>55</td>\n",
       "      <td>75.0</td>\n",
       "      <td>0.8</td>\n",
       "      <td>1.0</td>\n",
       "      <td>1.0</td>\n",
       "      <td>1.0</td>\n",
       "      <td>115.0</td>\n",
       "      <td>63.0</td>\n",
       "      <td>128.0</td>\n",
       "      <td>165.0</td>\n",
       "      <td>60.0</td>\n",
       "      <td>68.0</td>\n",
       "      <td>85.0</td>\n",
       "      <td>14.7</td>\n",
       "      <td>1.0</td>\n",
       "      <td>0.7</td>\n",
       "      <td>15.0</td>\n",
       "      <td>13.0</td>\n",
       "      <td>19.0</td>\n",
       "      <td>0</td>\n",
       "      <td>Y</td>\n",
       "    </tr>\n",
       "    <tr>\n",
       "      <th>3</th>\n",
       "      <td>16856</td>\n",
       "      <td>35</td>\n",
       "      <td>180</td>\n",
       "      <td>85</td>\n",
       "      <td>83.0</td>\n",
       "      <td>1.2</td>\n",
       "      <td>1.0</td>\n",
       "      <td>1.0</td>\n",
       "      <td>1.0</td>\n",
       "      <td>130.0</td>\n",
       "      <td>80.0</td>\n",
       "      <td>100.0</td>\n",
       "      <td>209.0</td>\n",
       "      <td>155.0</td>\n",
       "      <td>53.0</td>\n",
       "      <td>125.0</td>\n",
       "      <td>17.2</td>\n",
       "      <td>1.0</td>\n",
       "      <td>0.8</td>\n",
       "      <td>22.0</td>\n",
       "      <td>18.0</td>\n",
       "      <td>17.0</td>\n",
       "      <td>0</td>\n",
       "      <td>Y</td>\n",
       "    </tr>\n",
       "    <tr>\n",
       "      <th>4</th>\n",
       "      <td>5885</td>\n",
       "      <td>25</td>\n",
       "      <td>170</td>\n",
       "      <td>65</td>\n",
       "      <td>80.0</td>\n",
       "      <td>1.5</td>\n",
       "      <td>1.2</td>\n",
       "      <td>1.0</td>\n",
       "      <td>1.0</td>\n",
       "      <td>135.0</td>\n",
       "      <td>75.0</td>\n",
       "      <td>94.0</td>\n",
       "      <td>153.0</td>\n",
       "      <td>73.0</td>\n",
       "      <td>58.0</td>\n",
       "      <td>80.0</td>\n",
       "      <td>16.5</td>\n",
       "      <td>1.0</td>\n",
       "      <td>1.0</td>\n",
       "      <td>20.0</td>\n",
       "      <td>13.0</td>\n",
       "      <td>14.0</td>\n",
       "      <td>0</td>\n",
       "      <td>Y</td>\n",
       "    </tr>\n",
       "  </tbody>\n",
       "</table>\n",
       "</div>"
      ],
      "text/plain": [
       "      id  age  height_cm_  weight_kg_  waist_cm_  eyesight_left_  \\\n",
       "0   2791   65         170          75       91.0             0.6   \n",
       "1  18280   35         170          85       97.0             1.5   \n",
       "2   1618   70         165          55       75.0             0.8   \n",
       "3  16856   35         180          85       83.0             1.2   \n",
       "4   5885   25         170          65       80.0             1.5   \n",
       "\n",
       "   eyesight_right_  hearing_left_  hearing_right_  systolic  relaxation  \\\n",
       "0              0.9            1.0             1.0     122.0        79.0   \n",
       "1              1.5            1.0             1.0     138.0        88.0   \n",
       "2              1.0            1.0             1.0     115.0        63.0   \n",
       "3              1.0            1.0             1.0     130.0        80.0   \n",
       "4              1.2            1.0             1.0     135.0        75.0   \n",
       "\n",
       "   fasting_blood_sugar  cholesterol  triglyceride   hdl    ldl  hemoglobin  \\\n",
       "0                107.0        119.0          51.0  71.0   52.0        14.0   \n",
       "1                117.0        204.0         239.0  46.0  120.0        14.6   \n",
       "2                128.0        165.0          60.0  68.0   85.0        14.7   \n",
       "3                100.0        209.0         155.0  53.0  125.0        17.2   \n",
       "4                 94.0        153.0          73.0  58.0   80.0        16.5   \n",
       "\n",
       "   urine_protein  serum_creatinine   ast   alt    gtp  dental_caries tartar  \n",
       "0            3.0               1.2  20.0  16.0  122.0              0      N  \n",
       "1            1.0               0.7  20.0  25.0   40.0              0      Y  \n",
       "2            1.0               0.7  15.0  13.0   19.0              0      Y  \n",
       "3            1.0               0.8  22.0  18.0   17.0              0      Y  \n",
       "4            1.0               1.0  20.0  13.0   14.0              0      Y  "
      ]
     },
     "execution_count": 25,
     "metadata": {},
     "output_type": "execute_result"
    }
   ],
   "source": [
    "X.head()"
   ]
  },
  {
   "cell_type": "code",
   "execution_count": 26,
   "metadata": {
    "pycharm": {
     "name": "#%%\n"
    }
   },
   "outputs": [
    {
     "data": {
      "text/plain": [
       "0    0\n",
       "1    1\n",
       "2    0\n",
       "3    0\n",
       "4    1\n",
       "Name: smoking, dtype: int64"
      ]
     },
     "execution_count": 26,
     "metadata": {},
     "output_type": "execute_result"
    }
   ],
   "source": [
    "y.head()"
   ]
  },
  {
   "cell_type": "code",
   "execution_count": 27,
   "metadata": {
    "pycharm": {
     "name": "#%%\n"
    }
   },
   "outputs": [
    {
     "data": {
      "text/plain": [
       "['tartar']"
      ]
     },
     "execution_count": 27,
     "metadata": {},
     "output_type": "execute_result"
    }
   ],
   "source": [
    "cat_features"
   ]
  },
  {
   "cell_type": "code",
   "execution_count": 28,
   "metadata": {
    "pycharm": {
     "name": "#%%\n"
    }
   },
   "outputs": [
    {
     "ename": "NameError",
     "evalue": "name 'ввввввввввввввввв' is not defined",
     "output_type": "error",
     "traceback": [
      "\u001B[1;31m---------------------------------------------------------------------------\u001B[0m",
      "\u001B[1;31mNameError\u001B[0m                                 Traceback (most recent call last)",
      "Cell \u001B[1;32mIn[28], line 1\u001B[0m\n\u001B[1;32m----> 1\u001B[0m \u001B[43mввввввввввввввввв\u001B[49m\n",
      "\u001B[1;31mNameError\u001B[0m: name 'ввввввввввввввввв' is not defined"
     ]
    }
   ],
   "source": [
    "ввввввввввввввввв"
   ]
  },
  {
   "cell_type": "markdown",
   "metadata": {
    "pycharm": {
     "name": "#%% md\n"
    }
   },
   "source": [
    "# 7. Modeling"
   ]
  },
  {
   "cell_type": "markdown",
   "metadata": {
    "pycharm": {
     "name": "#%% md\n"
    }
   },
   "source": [
    "## Baseline catboost"
   ]
  },
  {
   "cell_type": "markdown",
   "metadata": {
    "pycharm": {
     "name": "#%% md\n"
    }
   },
   "source": [
    "### Обучающая и тестовая выборки\n",
    "Разделю обучающую выборку на train и test"
   ]
  },
  {
   "cell_type": "code",
   "execution_count": null,
   "metadata": {
    "pycharm": {
     "name": "#%%\n"
    }
   },
   "outputs": [],
   "source": [
    "X_train, X_test, y_train, y_test = train_test_split(X, y, test_size=0.2, random_state=659)"
   ]
  },
  {
   "cell_type": "markdown",
   "metadata": {
    "pycharm": {
     "name": "#%% md\n"
    }
   },
   "source": [
    "### Составаляю список фичей\n",
    "В baselin`е оставлю все фичи"
   ]
  },
  {
   "cell_type": "code",
   "execution_count": null,
   "metadata": {
    "pycharm": {
     "name": "#%%\n"
    }
   },
   "outputs": [],
   "source": [
    "X.head()"
   ]
  },
  {
   "cell_type": "code",
   "execution_count": null,
   "metadata": {
    "pycharm": {
     "name": "#%%\n"
    }
   },
   "outputs": [],
   "source": [
    "y.head()"
   ]
  },
  {
   "cell_type": "code",
   "execution_count": null,
   "metadata": {
    "pycharm": {
     "name": "#%%\n"
    }
   },
   "outputs": [],
   "source": [
    "cat_features"
   ]
  },
  {
   "cell_type": "markdown",
   "metadata": {
    "pycharm": {
     "name": "#%% md\n"
    }
   },
   "source": [
    "### Создание Pool`ов для модели"
   ]
  },
  {
   "cell_type": "code",
   "execution_count": null,
   "metadata": {
    "pycharm": {
     "name": "#%%\n"
    }
   },
   "outputs": [],
   "source": [
    "train_data = Pool(X_train, y_train, cat_features=cat_features)\n",
    "test_data = Pool(X_test, y_test, cat_features=cat_features)\n",
    "full_data = Pool(X, y, cat_features=cat_features)"
   ]
  },
  {
   "cell_type": "markdown",
   "metadata": {
    "pycharm": {
     "name": "#%% md\n"
    }
   },
   "source": [
    "### Baseline model"
   ]
  },
  {
   "cell_type": "markdown",
   "metadata": {
    "pycharm": {
     "name": "#%% md\n"
    }
   },
   "source": [
    "### Настройка гиперпараметров"
   ]
  },
  {
   "cell_type": "code",
   "execution_count": null,
   "metadata": {
    "pycharm": {
     "name": "#%%\n"
    }
   },
   "outputs": [],
   "source": [
    "parameters = {'cat_features': cat_features,\n",
    "              'eval_metric': 'F1',\n",
    "              'loss_function': 'Logloss',\n",
    "              'random_seed': 659,\n",
    "              'verbose': 100,\n",
    "              'task_type': 'GPU'}"
   ]
  },
  {
   "cell_type": "code",
   "execution_count": null,
   "metadata": {
    "pycharm": {
     "name": "#%%\n"
    }
   },
   "outputs": [],
   "source": [
    "model = CatBoostClassifier(**parameters)"
   ]
  },
  {
   "cell_type": "markdown",
   "metadata": {
    "pycharm": {
     "name": "#%% md\n"
    }
   },
   "source": [
    "### Обучение модели"
   ]
  },
  {
   "cell_type": "code",
   "execution_count": null,
   "metadata": {
    "pycharm": {
     "name": "#%%\n"
    }
   },
   "outputs": [],
   "source": [
    "%%time\n",
    "model.fit(train_data, eval_set=test_data, plot=True)"
   ]
  },
  {
   "cell_type": "markdown",
   "metadata": {
    "pycharm": {
     "name": "#%% md\n"
    }
   },
   "source": [
    "### Feature importance"
   ]
  },
  {
   "cell_type": "code",
   "execution_count": null,
   "metadata": {
    "pycharm": {
     "name": "#%%\n"
    }
   },
   "outputs": [],
   "source": [
    "model.get_feature_importance(prettified=True)"
   ]
  },
  {
   "cell_type": "code",
   "execution_count": null,
   "metadata": {
    "pycharm": {
     "name": "#%%\n"
    }
   },
   "outputs": [],
   "source": [
    "model.get_params()"
   ]
  },
  {
   "cell_type": "code",
   "execution_count": null,
   "metadata": {
    "pycharm": {
     "name": "#%%\n"
    }
   },
   "outputs": [],
   "source": [
    "model.get_all_params()"
   ]
  },
  {
   "cell_type": "markdown",
   "metadata": {
    "pycharm": {
     "name": "#%% md\n"
    }
   },
   "source": [
    "### Прогнозирование"
   ]
  },
  {
   "cell_type": "markdown",
   "metadata": {
    "pycharm": {
     "name": "#%% md\n"
    }
   },
   "source": [
    "#### Скоры"
   ]
  },
  {
   "cell_type": "markdown",
   "metadata": {
    "pycharm": {
     "name": "#%% md\n"
    }
   },
   "source": [
    "Создаю колонку для baseline catboost скора"
   ]
  },
  {
   "cell_type": "code",
   "execution_count": null,
   "metadata": {
    "pycharm": {
     "name": "#%%\n"
    }
   },
   "outputs": [],
   "source": [
    "df_test['baseline_cat_score'] = model.predict_proba(df_test)[:, 1]"
   ]
  },
  {
   "cell_type": "code",
   "execution_count": null,
   "metadata": {
    "pycharm": {
     "name": "#%%\n"
    }
   },
   "outputs": [],
   "source": [
    "df_test.baseline_cat_score.head()"
   ]
  },
  {
   "cell_type": "markdown",
   "metadata": {
    "pycharm": {
     "name": "#%% md\n"
    }
   },
   "source": [
    "Распределение вероятностей (Score) курит или не курит"
   ]
  },
  {
   "cell_type": "code",
   "execution_count": null,
   "metadata": {
    "pycharm": {
     "name": "#%%\n"
    }
   },
   "outputs": [],
   "source": [
    "df_test.baseline_cat_score.hist();"
   ]
  },
  {
   "cell_type": "markdown",
   "metadata": {
    "pycharm": {
     "name": "#%% md\n"
    }
   },
   "source": [
    "#### Пороги"
   ]
  },
  {
   "cell_type": "markdown",
   "metadata": {
    "pycharm": {
     "name": "#%% md\n"
    }
   },
   "source": [
    "Посмотрю на пользователей вероятность курения которых > 0.5\n",
    "Для вывода 0-ей и 1-иц нужно домножить на 1 иначе будет True и False"
   ]
  },
  {
   "cell_type": "code",
   "execution_count": null,
   "metadata": {
    "pycharm": {
     "name": "#%%\n"
    }
   },
   "outputs": [],
   "source": [
    "((df_test.baseline_cat_score > 0.5) * 1).mean()"
   ]
  },
  {
   "cell_type": "markdown",
   "metadata": {
    "pycharm": {
     "name": "#%% md\n"
    }
   },
   "source": [
    "Такая же вероятность у метода predict, т.к. порог по умолчанию = 0.5"
   ]
  },
  {
   "cell_type": "code",
   "execution_count": null,
   "metadata": {
    "pycharm": {
     "name": "#%%\n"
    }
   },
   "outputs": [],
   "source": [
    "model.predict(df_test).mean()"
   ]
  },
  {
   "cell_type": "markdown",
   "metadata": {
    "pycharm": {
     "name": "#%% md\n"
    }
   },
   "source": [
    "В обучающем ДФ процент курильщиков ≈20% что существенно выше. ПО этому есть смысл понижать порог, но в Baselin`е оставлю порог по умолчанию"
   ]
  },
  {
   "cell_type": "code",
   "execution_count": null,
   "metadata": {
    "pycharm": {
     "name": "#%%\n"
    }
   },
   "outputs": [],
   "source": [
    "df.smoking.mean()"
   ]
  },
  {
   "cell_type": "markdown",
   "metadata": {
    "pycharm": {
     "name": "#%% md\n"
    }
   },
   "source": []
  },
  {
   "cell_type": "code",
   "execution_count": null,
   "metadata": {
    "pycharm": {
     "name": "#%%\n"
    }
   },
   "outputs": [],
   "source": [
    "df_test['baseline_cat_pred'] = (df_test.baseline_cat_score > 0.5) * 1"
   ]
  },
  {
   "cell_type": "code",
   "execution_count": null,
   "metadata": {
    "pycharm": {
     "name": "#%%\n"
    }
   },
   "outputs": [],
   "source": [
    "df_test.head()"
   ]
  },
  {
   "cell_type": "markdown",
   "metadata": {
    "pycharm": {
     "name": "#%% md\n"
    }
   },
   "source": [
    "### Сохранение результатов"
   ]
  },
  {
   "cell_type": "code",
   "execution_count": null,
   "metadata": {
    "pycharm": {
     "name": "#%%\n"
    }
   },
   "outputs": [],
   "source": [
    "submission = pd.DataFrame(df_test['id'])\n",
    "submission['smoking'] = df_test.baseline_cat_pred\n",
    "submission.to_csv('Baseline.csv', index=False)"
   ]
  },
  {
   "cell_type": "markdown",
   "metadata": {
    "pycharm": {
     "name": "#%% md\n"
    }
   },
   "source": [
    "Проверка значений:"
   ]
  },
  {
   "cell_type": "code",
   "execution_count": null,
   "metadata": {
    "pycharm": {
     "name": "#%%\n"
    }
   },
   "outputs": [],
   "source": [
    "submission.smoking.mean()"
   ]
  },
  {
   "cell_type": "code",
   "execution_count": null,
   "metadata": {
    "pycharm": {
     "name": "#%%\n"
    }
   },
   "outputs": [],
   "source": [
    "submission.head()"
   ]
  },
  {
   "cell_type": "markdown",
   "metadata": {
    "pycharm": {
     "name": "#%% md\n"
    }
   },
   "source": [
    "**Kaggle result:** 0.3117"
   ]
  },
  {
   "cell_type": "markdown",
   "metadata": {
    "pycharm": {
     "name": "#%% md\n"
    }
   },
   "source": [
    "### Модификация"
   ]
  },
  {
   "cell_type": "markdown",
   "metadata": {
    "pycharm": {
     "name": "#%% md\n"
    }
   },
   "source": [
    "#### Изменение порога"
   ]
  },
  {
   "cell_type": "markdown",
   "metadata": {
    "pycharm": {
     "name": "#%% md\n"
    }
   },
   "source": [
    "Изменю порог с 0.5 на 0.25"
   ]
  },
  {
   "cell_type": "code",
   "execution_count": null,
   "metadata": {
    "pycharm": {
     "name": "#%%\n"
    }
   },
   "outputs": [],
   "source": [
    "((df_test.baseline_cat_score > 0.25) * 1).mean()"
   ]
  },
  {
   "cell_type": "markdown",
   "metadata": {
    "pycharm": {
     "name": "#%% md\n"
    }
   },
   "source": [
    "#### Сохранение результатов"
   ]
  },
  {
   "cell_type": "code",
   "execution_count": null,
   "metadata": {
    "pycharm": {
     "name": "#%%\n"
    }
   },
   "outputs": [],
   "source": [
    "submission = pd.DataFrame(df_test['id'])\n",
    "submission['smoking'] = (df_test.baseline_cat_score > 0.25) * 1\n",
    "submission.to_csv('Baseline_threshold0.25.csv', index=False)"
   ]
  },
  {
   "cell_type": "code",
   "execution_count": null,
   "metadata": {
    "pycharm": {
     "name": "#%%\n"
    }
   },
   "outputs": [],
   "source": [
    "submission.head()"
   ]
  },
  {
   "cell_type": "markdown",
   "metadata": {
    "pycharm": {
     "name": "#%% md\n"
    }
   },
   "source": [
    "**Kaggle result:** 0.4175 ↑"
   ]
  },
  {
   "cell_type": "markdown",
   "metadata": {
    "pycharm": {
     "name": "#%% md\n"
    }
   },
   "source": [
    "#### Изменение порога"
   ]
  },
  {
   "cell_type": "markdown",
   "metadata": {
    "pycharm": {
     "name": "#%% md\n"
    }
   },
   "source": [
    "Изменю порог с 0.25 на 0.2"
   ]
  },
  {
   "cell_type": "code",
   "execution_count": null,
   "metadata": {
    "pycharm": {
     "name": "#%%\n"
    }
   },
   "outputs": [],
   "source": [
    "((df_test.baseline_cat_score > 0.20) * 1).mean()"
   ]
  },
  {
   "cell_type": "markdown",
   "metadata": {
    "pycharm": {
     "name": "#%% md\n"
    }
   },
   "source": [
    "#### Сохранение результатов"
   ]
  },
  {
   "cell_type": "code",
   "execution_count": null,
   "metadata": {
    "pycharm": {
     "name": "#%%\n"
    }
   },
   "outputs": [],
   "source": [
    "submission = pd.DataFrame(df_test['id'])\n",
    "submission['smoking'] = (df_test.baseline_cat_score > 0.2) * 1\n",
    "submission.to_csv('Baseline_threshold0.2_GPU.csv', index=False)"
   ]
  },
  {
   "cell_type": "code",
   "execution_count": null,
   "metadata": {
    "pycharm": {
     "name": "#%%\n"
    }
   },
   "outputs": [],
   "source": [
    "submission.smoking.mean()"
   ]
  },
  {
   "cell_type": "code",
   "execution_count": null,
   "metadata": {
    "pycharm": {
     "name": "#%%\n"
    }
   },
   "outputs": [],
   "source": [
    "submission.head()"
   ]
  },
  {
   "cell_type": "markdown",
   "metadata": {
    "pycharm": {
     "name": "#%% md\n"
    }
   },
   "source": [
    "**Kaggle result:** 0.42861 ↑"
   ]
  },
  {
   "cell_type": "markdown",
   "metadata": {
    "pycharm": {
     "name": "#%% md\n"
    }
   },
   "source": [
    "#### Изменение порога"
   ]
  },
  {
   "cell_type": "markdown",
   "metadata": {
    "pycharm": {
     "name": "#%% md\n"
    }
   },
   "source": [
    "Изменю порог с 0.2 на 0.1"
   ]
  },
  {
   "cell_type": "code",
   "execution_count": null,
   "metadata": {
    "pycharm": {
     "name": "#%%\n"
    }
   },
   "outputs": [],
   "source": [
    "((df_test.baseline_cat_score > 0.1) * 1).mean()"
   ]
  },
  {
   "cell_type": "markdown",
   "metadata": {
    "pycharm": {
     "name": "#%% md\n"
    }
   },
   "source": [
    "#### Сохранение результатов"
   ]
  },
  {
   "cell_type": "code",
   "execution_count": null,
   "metadata": {
    "pycharm": {
     "name": "#%%\n"
    }
   },
   "outputs": [],
   "source": [
    "submission = pd.DataFrame(df_test['id'])\n",
    "submission['smoking'] = (df_test.baseline_cat_score > 0.1) * 1\n",
    "submission.to_csv('Baseline_threshold0.1.csv', index=False)"
   ]
  },
  {
   "cell_type": "code",
   "execution_count": null,
   "metadata": {
    "pycharm": {
     "name": "#%%\n"
    }
   },
   "outputs": [],
   "source": [
    "submission.head()"
   ]
  },
  {
   "cell_type": "markdown",
   "metadata": {
    "pycharm": {
     "name": "#%% md\n"
    }
   },
   "source": [
    "**Kaggle result:** 0.40293 ↓"
   ]
  },
  {
   "cell_type": "markdown",
   "metadata": {
    "pycharm": {
     "name": "#%% md\n"
    }
   },
   "source": [
    "#### Изменение порога"
   ]
  },
  {
   "cell_type": "markdown",
   "metadata": {
    "pycharm": {
     "name": "#%% md\n"
    }
   },
   "source": [
    "Изменю порог с 0.1 на 0.15"
   ]
  },
  {
   "cell_type": "code",
   "execution_count": null,
   "metadata": {
    "pycharm": {
     "name": "#%%\n"
    }
   },
   "outputs": [],
   "source": [
    "((df_test.baseline_cat_score > 0.15) * 1).mean()"
   ]
  },
  {
   "cell_type": "markdown",
   "metadata": {
    "pycharm": {
     "name": "#%% md\n"
    }
   },
   "source": [
    "#### Сохранение результатов"
   ]
  },
  {
   "cell_type": "code",
   "execution_count": null,
   "metadata": {
    "pycharm": {
     "name": "#%%\n"
    }
   },
   "outputs": [],
   "source": [
    "submission = pd.DataFrame(df_test['id'])\n",
    "submission['smoking'] = (df_test.baseline_cat_score > 0.15) * 1\n",
    "submission.to_csv('Baseline_threshold0.15.csv', index=False)"
   ]
  },
  {
   "cell_type": "code",
   "execution_count": null,
   "metadata": {
    "pycharm": {
     "name": "#%%\n"
    }
   },
   "outputs": [],
   "source": [
    "submission.head()"
   ]
  },
  {
   "cell_type": "markdown",
   "metadata": {
    "pycharm": {
     "name": "#%% md\n"
    }
   },
   "source": [
    "**Kaggle result:** 0.4259 ↑"
   ]
  },
  {
   "cell_type": "markdown",
   "metadata": {
    "pycharm": {
     "name": "#%% md\n"
    }
   },
   "source": [
    "### Итого:\n",
    "Наилучший порог для Baseline ≈ 0.2, F1 = 0.4286; THRSH = 0.2, GPU, F1 = 43437"
   ]
  },
  {
   "cell_type": "markdown",
   "metadata": {
    "pycharm": {
     "name": "#%% md\n"
    }
   },
   "source": [
    "## Catboost CV"
   ]
  },
  {
   "cell_type": "code",
   "execution_count": null,
   "metadata": {
    "pycharm": {
     "name": "#%%\n"
    }
   },
   "outputs": [],
   "source": [
    "parameters = {'eval_metric': 'F1',\n",
    "              'loss_function': 'Logloss',\n",
    "              'random_seed': 659,\n",
    "              'iterations': 1000,\n",
    "              'task_type': 'GPU'}"
   ]
  },
  {
   "cell_type": "code",
   "execution_count": null,
   "metadata": {
    "pycharm": {
     "name": "#%%\n"
    }
   },
   "outputs": [],
   "source": [
    "%%time\n",
    "cv_data = cv(\n",
    "    params=parameters,\n",
    "    pool=full_data,\n",
    "    fold_count=5,\n",
    "    shuffle=True,\n",
    "    partition_random_seed=0,\n",
    "    stratified=False,\n",
    "    verbose=False,\n",
    "    plot=True\n",
    ")"
   ]
  },
  {
   "cell_type": "code",
   "execution_count": null,
   "metadata": {
    "pycharm": {
     "name": "#%%\n"
    }
   },
   "outputs": [],
   "source": [
    "best_value = np.max(cv_data['test-F1-mean'])\n",
    "best_iter = np.argmax(cv_data['test-F1-mean']) + 1"
   ]
  },
  {
   "cell_type": "code",
   "execution_count": null,
   "metadata": {
    "pycharm": {
     "name": "#%%\n"
    }
   },
   "outputs": [],
   "source": [
    "best_iter, best_value"
   ]
  },
  {
   "cell_type": "markdown",
   "metadata": {
    "pycharm": {
     "name": "#%% md\n"
    }
   },
   "source": [
    "### Best iteration\n",
    "Обучение на всех данных:"
   ]
  },
  {
   "cell_type": "code",
   "execution_count": null,
   "metadata": {
    "pycharm": {
     "name": "#%%\n"
    }
   },
   "outputs": [],
   "source": [
    "parameters = {'eval_metric': 'F1',\n",
    "              'loss_function': 'Logloss',\n",
    "              'random_seed': 659,\n",
    "              'iterations': best_iter,\n",
    "              'verbose': 100,\n",
    "              'task_type': 'GPU'}"
   ]
  },
  {
   "cell_type": "code",
   "execution_count": null,
   "metadata": {
    "pycharm": {
     "name": "#%%\n"
    }
   },
   "outputs": [],
   "source": [
    "model = CatBoostClassifier(**parameters)"
   ]
  },
  {
   "cell_type": "code",
   "execution_count": null,
   "metadata": {
    "pycharm": {
     "name": "#%%\n"
    }
   },
   "outputs": [],
   "source": [
    "%%time\n",
    "model.fit(full_data, plot=True)"
   ]
  },
  {
   "cell_type": "markdown",
   "metadata": {
    "pycharm": {
     "name": "#%% md\n"
    }
   },
   "source": [
    "### Feature importance"
   ]
  },
  {
   "cell_type": "code",
   "execution_count": null,
   "metadata": {
    "pycharm": {
     "name": "#%%\n"
    }
   },
   "outputs": [],
   "source": [
    "model.get_feature_importance(prettified=True)"
   ]
  },
  {
   "cell_type": "code",
   "execution_count": null,
   "metadata": {
    "pycharm": {
     "name": "#%%\n"
    }
   },
   "outputs": [],
   "source": [
    "model.get_params()"
   ]
  },
  {
   "cell_type": "code",
   "execution_count": null,
   "metadata": {
    "pycharm": {
     "name": "#%%\n"
    }
   },
   "outputs": [],
   "source": [
    "model.get_all_params()"
   ]
  },
  {
   "cell_type": "markdown",
   "metadata": {
    "pycharm": {
     "name": "#%% md\n"
    }
   },
   "source": [
    "### Прогноз"
   ]
  },
  {
   "cell_type": "markdown",
   "metadata": {
    "pycharm": {
     "name": "#%% md\n"
    }
   },
   "source": [
    "Создаю колонку для baseline catboost скора"
   ]
  },
  {
   "cell_type": "code",
   "execution_count": null,
   "metadata": {
    "pycharm": {
     "name": "#%%\n"
    }
   },
   "outputs": [],
   "source": [
    "df_test['baseline_cat_cv_score'] = model.predict_proba(df_test)[:, 1]"
   ]
  },
  {
   "cell_type": "code",
   "execution_count": null,
   "metadata": {
    "pycharm": {
     "name": "#%%\n"
    }
   },
   "outputs": [],
   "source": [
    "df_test.baseline_cat_cv_score.head()"
   ]
  },
  {
   "cell_type": "code",
   "execution_count": null,
   "metadata": {
    "pycharm": {
     "name": "#%%\n"
    }
   },
   "outputs": [],
   "source": [
    "df_test.baseline_cat_cv_score.hist();"
   ]
  },
  {
   "cell_type": "markdown",
   "metadata": {
    "pycharm": {
     "name": "#%% md\n"
    }
   },
   "source": [
    "По порогу 0.5 вероятность ≈3.2%"
   ]
  },
  {
   "cell_type": "code",
   "execution_count": null,
   "metadata": {
    "pycharm": {
     "name": "#%%\n"
    }
   },
   "outputs": [],
   "source": [
    "((df_test.baseline_cat_cv_score > 0.5) * 1).mean()"
   ]
  },
  {
   "cell_type": "code",
   "execution_count": null,
   "metadata": {
    "pycharm": {
     "name": "#%%\n"
    }
   },
   "outputs": [],
   "source": [
    "df_test['baseline_cat_cv_pred'] = (df_test.baseline_cat_cv_score > 0.5) * 1"
   ]
  },
  {
   "cell_type": "code",
   "execution_count": null,
   "metadata": {
    "pycharm": {
     "name": "#%%\n"
    }
   },
   "outputs": [],
   "source": [
    "df_test.head()"
   ]
  },
  {
   "cell_type": "markdown",
   "metadata": {
    "pycharm": {
     "name": "#%% md\n"
    }
   },
   "source": [
    "### Сохранение результатов"
   ]
  },
  {
   "cell_type": "code",
   "execution_count": null,
   "metadata": {
    "pycharm": {
     "name": "#%%\n"
    }
   },
   "outputs": [],
   "source": [
    "submission = pd.DataFrame(df_test['id'])\n",
    "submission['smoking'] = df_test.baseline_cat_cv_pred\n",
    "submission.to_csv('Cat_CV.csv', index=False)"
   ]
  },
  {
   "cell_type": "code",
   "execution_count": null,
   "metadata": {
    "pycharm": {
     "name": "#%%\n"
    }
   },
   "outputs": [],
   "source": [
    "submission.head()"
   ]
  },
  {
   "cell_type": "markdown",
   "metadata": {
    "pycharm": {
     "name": "#%% md\n"
    }
   },
   "source": [
    "**Kaggle result:** 0.23138 ↓"
   ]
  },
  {
   "cell_type": "markdown",
   "metadata": {
    "pycharm": {
     "name": "#%% md\n"
    }
   },
   "source": [
    "#### Изменяю порог до 0.2"
   ]
  },
  {
   "cell_type": "code",
   "execution_count": null,
   "metadata": {
    "pycharm": {
     "name": "#%%\n"
    }
   },
   "outputs": [],
   "source": [
    "((df_test.baseline_cat_cv_score > 0.2) * 1).mean()"
   ]
  },
  {
   "cell_type": "code",
   "execution_count": null,
   "metadata": {
    "pycharm": {
     "name": "#%%\n"
    }
   },
   "outputs": [],
   "source": [
    "submission = pd.DataFrame(df_test['id'])\n",
    "submission['smoking'] = (df_test.baseline_cat_cv_score > 0.2) * 1\n",
    "submission.to_csv('Cat_CV_GPU_THRS02_LR_auto.csv', index=False)"
   ]
  },
  {
   "cell_type": "code",
   "execution_count": null,
   "metadata": {
    "pycharm": {
     "name": "#%%\n"
    }
   },
   "outputs": [],
   "source": [
    "submission.smoking.mean()"
   ]
  },
  {
   "cell_type": "code",
   "execution_count": null,
   "metadata": {
    "pycharm": {
     "name": "#%%\n"
    }
   },
   "outputs": [],
   "source": [
    "submission.head()"
   ]
  },
  {
   "cell_type": "markdown",
   "metadata": {
    "pycharm": {
     "name": "#%% md\n"
    }
   },
   "source": [
    "**Kaggle result:** 0.43165 ↑ - лучше, чем Baseline THRS 0.2; GPU = 0.43217 ↑↑"
   ]
  },
  {
   "cell_type": "markdown",
   "metadata": {
    "pycharm": {
     "name": "#%% md\n"
    }
   },
   "source": [
    "#### Изменяю порог до 0.205"
   ]
  },
  {
   "cell_type": "code",
   "execution_count": null,
   "metadata": {
    "pycharm": {
     "name": "#%%\n"
    }
   },
   "outputs": [],
   "source": [
    "((df_test.baseline_cat_cv_score > 0.205) * 1).mean()"
   ]
  },
  {
   "cell_type": "code",
   "execution_count": null,
   "metadata": {
    "pycharm": {
     "name": "#%%\n"
    }
   },
   "outputs": [],
   "source": [
    "submission = pd.DataFrame(df_test['id'])\n",
    "submission['smoking'] = (df_test.baseline_cat_cv_score > 0.205) * 1\n",
    "submission.to_csv('Cat_CV_THRS0205_LR_auto.csv', index=False)"
   ]
  },
  {
   "cell_type": "code",
   "execution_count": null,
   "metadata": {
    "pycharm": {
     "name": "#%%\n"
    }
   },
   "outputs": [],
   "source": [
    "submission.smoking.mean()"
   ]
  },
  {
   "cell_type": "code",
   "execution_count": null,
   "metadata": {
    "pycharm": {
     "name": "#%%\n"
    }
   },
   "outputs": [],
   "source": [
    "submission.head()"
   ]
  },
  {
   "cell_type": "markdown",
   "metadata": {
    "pycharm": {
     "name": "#%% md\n"
    }
   },
   "source": [
    "**Kaggle result:** 0.4284 ↓ - хуже, чем CV THRS 0.2"
   ]
  },
  {
   "cell_type": "markdown",
   "metadata": {
    "pycharm": {
     "name": "#%% md\n"
    }
   },
   "source": [
    "#### Изменяю порог до 0.195"
   ]
  },
  {
   "cell_type": "code",
   "execution_count": null,
   "metadata": {
    "pycharm": {
     "name": "#%%\n"
    }
   },
   "outputs": [],
   "source": [
    "((df_test.baseline_cat_cv_score > 0.195) * 1).mean()"
   ]
  },
  {
   "cell_type": "code",
   "execution_count": null,
   "metadata": {
    "pycharm": {
     "name": "#%%\n"
    }
   },
   "outputs": [],
   "source": [
    "submission = pd.DataFrame(df_test['id'])\n",
    "submission['smoking'] = (df_test.baseline_cat_cv_score > 0.195) * 1\n",
    "submission.to_csv('Cat_CV_THRS0195_LR_auto.csv', index=False)"
   ]
  },
  {
   "cell_type": "code",
   "execution_count": null,
   "metadata": {
    "pycharm": {
     "name": "#%%\n"
    }
   },
   "outputs": [],
   "source": [
    "submission.smoking.mean()"
   ]
  },
  {
   "cell_type": "code",
   "execution_count": null,
   "metadata": {
    "pycharm": {
     "name": "#%%\n"
    }
   },
   "outputs": [],
   "source": [
    "submission.head()"
   ]
  },
  {
   "cell_type": "markdown",
   "metadata": {
    "pycharm": {
     "name": "#%% md\n"
    }
   },
   "source": [
    "**Kaggle result:** 0.42978 ↑ - лучше, чем Baseline THRS 0.2"
   ]
  },
  {
   "cell_type": "markdown",
   "metadata": {
    "pycharm": {
     "name": "#%% md\n"
    }
   },
   "source": [
    "### Итого:\n",
    "Наилучший порог для CV ≈ 0.2, F1 = 0.43165. Хуже, чем Baseline GPU THRSH 0.2 (0.43437)"
   ]
  },
  {
   "cell_type": "code",
   "execution_count": null,
   "metadata": {
    "pycharm": {
     "name": "#%%\n"
    }
   },
   "outputs": [],
   "source": []
  },
  {
   "cell_type": "code",
   "execution_count": null,
   "metadata": {
    "pycharm": {
     "name": "#%%\n"
    }
   },
   "outputs": [],
   "source": []
  },
  {
   "cell_type": "markdown",
   "metadata": {
    "pycharm": {
     "name": "#%% md\n"
    }
   },
   "source": [
    "## Baseline model + ACW + GPU"
   ]
  },
  {
   "cell_type": "markdown",
   "metadata": {
    "pycharm": {
     "name": "#%% md\n"
    }
   },
   "source": [
    "### Настройка гиперпараметров"
   ]
  },
  {
   "cell_type": "code",
   "execution_count": null,
   "metadata": {
    "pycharm": {
     "name": "#%%\n"
    }
   },
   "outputs": [],
   "source": [
    "parameters = {'cat_features': cat_features,\n",
    "              'eval_metric': 'F1',\n",
    "              'loss_function': 'Logloss',\n",
    "              'random_seed': 659,\n",
    "              'verbose': 100,\n",
    "              'auto_class_weights': 'Balanced',\n",
    "              'task_type': 'GPU'}"
   ]
  },
  {
   "cell_type": "code",
   "execution_count": null,
   "metadata": {
    "pycharm": {
     "name": "#%%\n"
    }
   },
   "outputs": [],
   "source": [
    "model = CatBoostClassifier(**parameters)"
   ]
  },
  {
   "cell_type": "markdown",
   "metadata": {
    "pycharm": {
     "name": "#%% md\n"
    }
   },
   "source": [
    "### Обучение модели"
   ]
  },
  {
   "cell_type": "code",
   "execution_count": null,
   "metadata": {
    "pycharm": {
     "name": "#%%\n"
    }
   },
   "outputs": [],
   "source": [
    "%%time\n",
    "model.fit(train_data, eval_set=test_data, plot=True)"
   ]
  },
  {
   "cell_type": "markdown",
   "metadata": {
    "pycharm": {
     "name": "#%% md\n"
    }
   },
   "source": [
    "### Feature importance"
   ]
  },
  {
   "cell_type": "code",
   "execution_count": null,
   "metadata": {
    "pycharm": {
     "name": "#%%\n"
    }
   },
   "outputs": [],
   "source": [
    "model.get_feature_importance(prettified=True)"
   ]
  },
  {
   "cell_type": "code",
   "execution_count": null,
   "metadata": {
    "pycharm": {
     "name": "#%%\n"
    }
   },
   "outputs": [],
   "source": [
    "model.get_params()"
   ]
  },
  {
   "cell_type": "code",
   "execution_count": null,
   "metadata": {
    "pycharm": {
     "name": "#%%\n"
    }
   },
   "outputs": [],
   "source": [
    "model.get_all_params()"
   ]
  },
  {
   "cell_type": "markdown",
   "metadata": {
    "pycharm": {
     "name": "#%% md\n"
    }
   },
   "source": [
    "### Прогнозирование"
   ]
  },
  {
   "cell_type": "markdown",
   "metadata": {
    "pycharm": {
     "name": "#%% md\n"
    }
   },
   "source": [
    "#### Скоры"
   ]
  },
  {
   "cell_type": "markdown",
   "metadata": {
    "pycharm": {
     "name": "#%% md\n"
    }
   },
   "source": [
    "Создаю колонку для baseline catboost скора"
   ]
  },
  {
   "cell_type": "code",
   "execution_count": null,
   "metadata": {
    "pycharm": {
     "name": "#%%\n"
    }
   },
   "outputs": [],
   "source": [
    "df_test['baseline_cat_score'] = model.predict_proba(df_test)[:, 1]"
   ]
  },
  {
   "cell_type": "code",
   "execution_count": null,
   "metadata": {
    "pycharm": {
     "name": "#%%\n"
    }
   },
   "outputs": [],
   "source": [
    "df_test.baseline_cat_score.head()"
   ]
  },
  {
   "cell_type": "markdown",
   "metadata": {
    "pycharm": {
     "name": "#%% md\n"
    }
   },
   "source": [
    "Распределение вероятностей (Score) курит или не курит"
   ]
  },
  {
   "cell_type": "code",
   "execution_count": null,
   "metadata": {
    "pycharm": {
     "name": "#%%\n"
    }
   },
   "outputs": [],
   "source": [
    "df_test.baseline_cat_score.hist();"
   ]
  },
  {
   "cell_type": "markdown",
   "metadata": {
    "pycharm": {
     "name": "#%% md\n"
    }
   },
   "source": [
    "#### Пороги"
   ]
  },
  {
   "cell_type": "markdown",
   "metadata": {
    "pycharm": {
     "name": "#%% md\n"
    }
   },
   "source": [
    "Посмотрю на пользователей вероятность курения которых > 0.5\n",
    "Для вывода 0-ей и 1-иц нужно домножить на 1 иначе будет True и False"
   ]
  },
  {
   "cell_type": "code",
   "execution_count": null,
   "metadata": {
    "pycharm": {
     "name": "#%%\n"
    }
   },
   "outputs": [],
   "source": [
    "((df_test.baseline_cat_score > 0.5) * 1).mean()"
   ]
  },
  {
   "cell_type": "markdown",
   "metadata": {
    "pycharm": {
     "name": "#%% md\n"
    }
   },
   "source": [
    "Такая же вероятность у метода predict, т.к. порог по умолчанию = 0.5"
   ]
  },
  {
   "cell_type": "code",
   "execution_count": null,
   "metadata": {
    "pycharm": {
     "name": "#%%\n"
    }
   },
   "outputs": [],
   "source": [
    "model.predict(df_test).mean()"
   ]
  },
  {
   "cell_type": "markdown",
   "metadata": {
    "pycharm": {
     "name": "#%% md\n"
    }
   },
   "source": [
    "В обучающем ДФ процент курильщиков ≈20% что существенно выше. ПО этому есть смысл понижать порог, но в Baselin`е оставлю порог по умолчанию"
   ]
  },
  {
   "cell_type": "code",
   "execution_count": null,
   "metadata": {
    "pycharm": {
     "name": "#%%\n"
    }
   },
   "outputs": [],
   "source": [
    "df.smoking.mean()"
   ]
  },
  {
   "cell_type": "code",
   "execution_count": null,
   "metadata": {
    "pycharm": {
     "name": "#%%\n"
    }
   },
   "outputs": [],
   "source": [
    "df_test['baseline_cat_pred'] = (df_test.baseline_cat_score > 0.5) * 1"
   ]
  },
  {
   "cell_type": "code",
   "execution_count": null,
   "metadata": {
    "pycharm": {
     "name": "#%%\n"
    }
   },
   "outputs": [],
   "source": [
    "df_test.head()"
   ]
  },
  {
   "cell_type": "markdown",
   "metadata": {
    "pycharm": {
     "name": "#%% md\n"
    }
   },
   "source": [
    "### Сохранение результатов"
   ]
  },
  {
   "cell_type": "code",
   "execution_count": null,
   "metadata": {
    "pycharm": {
     "name": "#%%\n"
    }
   },
   "outputs": [],
   "source": [
    "submission = pd.DataFrame(df_test['id'])\n",
    "submission['smoking'] = df_test.baseline_cat_pred\n",
    "submission.to_csv('Baseline_ACW_GPU.csv', index=False)"
   ]
  },
  {
   "cell_type": "markdown",
   "metadata": {
    "pycharm": {
     "name": "#%% md\n"
    }
   },
   "source": [
    "Проверка значений:"
   ]
  },
  {
   "cell_type": "code",
   "execution_count": null,
   "metadata": {
    "pycharm": {
     "name": "#%%\n"
    }
   },
   "outputs": [],
   "source": [
    "submission.smoking.mean()"
   ]
  },
  {
   "cell_type": "code",
   "execution_count": null,
   "metadata": {
    "pycharm": {
     "name": "#%%\n"
    }
   },
   "outputs": [],
   "source": [
    "submission.head()"
   ]
  },
  {
   "cell_type": "markdown",
   "metadata": {
    "pycharm": {
     "name": "#%% md\n"
    }
   },
   "source": [
    "**Kaggle result:** 0.43639"
   ]
  },
  {
   "cell_type": "markdown",
   "metadata": {
    "pycharm": {
     "name": "#%% md\n"
    }
   },
   "source": [
    "### Модификация"
   ]
  },
  {
   "cell_type": "markdown",
   "metadata": {
    "pycharm": {
     "name": "#%% md\n"
    }
   },
   "source": [
    "#### Изменение порога"
   ]
  },
  {
   "cell_type": "markdown",
   "metadata": {
    "pycharm": {
     "name": "#%% md\n"
    }
   },
   "source": [
    "Изменю порог с 0.5 на 0.501"
   ]
  },
  {
   "cell_type": "code",
   "execution_count": null,
   "metadata": {
    "pycharm": {
     "name": "#%%\n"
    }
   },
   "outputs": [],
   "source": [
    "((df_test.baseline_cat_score > 0.501) * 1).mean()"
   ]
  },
  {
   "cell_type": "markdown",
   "metadata": {
    "pycharm": {
     "name": "#%% md\n"
    }
   },
   "source": [
    "#### Сохранение результатов"
   ]
  },
  {
   "cell_type": "code",
   "execution_count": null,
   "metadata": {
    "pycharm": {
     "name": "#%%\n"
    }
   },
   "outputs": [],
   "source": [
    "submission = pd.DataFrame(df_test['id'])\n",
    "submission['smoking'] = (df_test.baseline_cat_score > 0.501) * 1\n",
    "submission.to_csv('Baseline_ACW_GPU_THRSH_0.501.csv', index=False)"
   ]
  },
  {
   "cell_type": "code",
   "execution_count": null,
   "metadata": {
    "pycharm": {
     "name": "#%%\n"
    }
   },
   "outputs": [],
   "source": [
    "submission.smoking.mean()"
   ]
  },
  {
   "cell_type": "code",
   "execution_count": null,
   "metadata": {
    "pycharm": {
     "name": "#%%\n"
    }
   },
   "outputs": [],
   "source": [
    "submission.head()"
   ]
  },
  {
   "cell_type": "markdown",
   "metadata": {
    "pycharm": {
     "name": "#%% md\n"
    }
   },
   "source": [
    "**Kaggle result:** 0.43589 ↓, 0.501-0.43776 !!! ↑ МОЖНО ДОЖИМАТЬ ↑ 0.501 < X!!!"
   ]
  },
  {
   "cell_type": "code",
   "execution_count": null,
   "metadata": {
    "pycharm": {
     "name": "#%%\n"
    }
   },
   "outputs": [],
   "source": []
  },
  {
   "cell_type": "code",
   "execution_count": null,
   "metadata": {
    "pycharm": {
     "name": "#%%\n"
    }
   },
   "outputs": [],
   "source": []
  },
  {
   "cell_type": "markdown",
   "metadata": {
    "pycharm": {
     "name": "#%% md\n"
    }
   },
   "source": [
    "## Catboost CV + ACW + GPU"
   ]
  },
  {
   "cell_type": "code",
   "execution_count": null,
   "metadata": {
    "pycharm": {
     "name": "#%%\n"
    }
   },
   "outputs": [],
   "source": [
    "parameters = {'eval_metric': 'F1',\n",
    "              'loss_function': 'Logloss',\n",
    "              'random_seed': 659,\n",
    "              'iterations': 1000,\n",
    "              'task_type': 'GPU',\n",
    "              'auto_class_weights': 'Balanced'}"
   ]
  },
  {
   "cell_type": "code",
   "execution_count": null,
   "metadata": {
    "pycharm": {
     "name": "#%%\n"
    }
   },
   "outputs": [],
   "source": [
    "%%time\n",
    "cv_data = cv(\n",
    "    params=parameters,\n",
    "    pool=full_data,\n",
    "    fold_count=5,\n",
    "    shuffle=True,\n",
    "    partition_random_seed=0,\n",
    "    stratified=False,\n",
    "    verbose=False,\n",
    "    plot=True\n",
    ")"
   ]
  },
  {
   "cell_type": "code",
   "execution_count": null,
   "metadata": {
    "pycharm": {
     "name": "#%%\n"
    }
   },
   "outputs": [],
   "source": [
    "best_value = np.max(cv_data['test-F1-mean'])\n",
    "best_iter = np.argmax(cv_data['test-F1-mean']) + 1"
   ]
  },
  {
   "cell_type": "code",
   "execution_count": null,
   "metadata": {
    "pycharm": {
     "name": "#%%\n"
    }
   },
   "outputs": [],
   "source": [
    "best_iter, best_value"
   ]
  },
  {
   "cell_type": "markdown",
   "metadata": {
    "pycharm": {
     "name": "#%% md\n"
    }
   },
   "source": [
    "### Best iteration\n",
    "Обучение на всех данных:"
   ]
  },
  {
   "cell_type": "code",
   "execution_count": null,
   "metadata": {
    "pycharm": {
     "name": "#%%\n"
    }
   },
   "outputs": [],
   "source": [
    "parameters = {'eval_metric': 'F1',\n",
    "              'loss_function': 'Logloss',\n",
    "              'random_seed': 659,\n",
    "              'iterations': best_iter,\n",
    "              'verbose': 100,\n",
    "              'task_type': 'GPU',\n",
    "              'auto_class_weights': 'Balanced'}"
   ]
  },
  {
   "cell_type": "code",
   "execution_count": null,
   "metadata": {
    "pycharm": {
     "name": "#%%\n"
    }
   },
   "outputs": [],
   "source": [
    "model = CatBoostClassifier(**parameters)"
   ]
  },
  {
   "cell_type": "code",
   "execution_count": null,
   "metadata": {
    "pycharm": {
     "name": "#%%\n"
    }
   },
   "outputs": [],
   "source": [
    "%%time\n",
    "model.fit(full_data, plot=True)"
   ]
  },
  {
   "cell_type": "markdown",
   "metadata": {
    "pycharm": {
     "name": "#%% md\n"
    }
   },
   "source": [
    "### Feature importance"
   ]
  },
  {
   "cell_type": "code",
   "execution_count": null,
   "metadata": {
    "pycharm": {
     "name": "#%%\n"
    }
   },
   "outputs": [],
   "source": [
    "model.get_feature_importance(prettified=True)"
   ]
  },
  {
   "cell_type": "code",
   "execution_count": null,
   "metadata": {
    "pycharm": {
     "name": "#%%\n"
    }
   },
   "outputs": [],
   "source": [
    "model.get_params()"
   ]
  },
  {
   "cell_type": "code",
   "execution_count": null,
   "metadata": {
    "pycharm": {
     "name": "#%%\n"
    }
   },
   "outputs": [],
   "source": [
    "model.get_all_params()"
   ]
  },
  {
   "cell_type": "markdown",
   "metadata": {
    "pycharm": {
     "name": "#%% md\n"
    }
   },
   "source": [
    "### Прогноз"
   ]
  },
  {
   "cell_type": "markdown",
   "metadata": {
    "pycharm": {
     "name": "#%% md\n"
    }
   },
   "source": [
    "Создаю колонку для baseline catboost скора"
   ]
  },
  {
   "cell_type": "code",
   "execution_count": null,
   "metadata": {
    "pycharm": {
     "name": "#%%\n"
    }
   },
   "outputs": [],
   "source": [
    "df_test['baseline_cat_cv_score'] = model.predict_proba(df_test)[:, 1]"
   ]
  },
  {
   "cell_type": "code",
   "execution_count": null,
   "metadata": {
    "pycharm": {
     "name": "#%%\n"
    }
   },
   "outputs": [],
   "source": [
    "df_test.baseline_cat_cv_score.head()"
   ]
  },
  {
   "cell_type": "code",
   "execution_count": null,
   "metadata": {
    "pycharm": {
     "name": "#%%\n"
    }
   },
   "outputs": [],
   "source": [
    "df_test.baseline_cat_cv_score.hist();"
   ]
  },
  {
   "cell_type": "markdown",
   "metadata": {
    "pycharm": {
     "name": "#%% md\n"
    }
   },
   "source": [
    "По порогу 0.5 вероятность ≈3.2%"
   ]
  },
  {
   "cell_type": "code",
   "execution_count": null,
   "metadata": {
    "pycharm": {
     "name": "#%%\n"
    }
   },
   "outputs": [],
   "source": [
    "((df_test.baseline_cat_cv_score > 0.5) * 1).mean()"
   ]
  },
  {
   "cell_type": "code",
   "execution_count": null,
   "metadata": {
    "pycharm": {
     "name": "#%%\n"
    }
   },
   "outputs": [],
   "source": [
    "df_test['baseline_cat_cv_pred'] = (df_test.baseline_cat_cv_score > 0.5) * 1"
   ]
  },
  {
   "cell_type": "code",
   "execution_count": null,
   "metadata": {
    "pycharm": {
     "name": "#%%\n"
    }
   },
   "outputs": [],
   "source": [
    "df_test.head()"
   ]
  },
  {
   "cell_type": "markdown",
   "metadata": {
    "pycharm": {
     "name": "#%% md\n"
    }
   },
   "source": [
    "### Сохранение результатов"
   ]
  },
  {
   "cell_type": "code",
   "execution_count": null,
   "metadata": {
    "pycharm": {
     "name": "#%%\n"
    }
   },
   "outputs": [],
   "source": [
    "submission = pd.DataFrame(df_test['id'])\n",
    "submission['smoking'] = df_test.baseline_cat_cv_pred\n",
    "submission.to_csv('Cat_CV_ACW_GPU.csv', index=False)"
   ]
  },
  {
   "cell_type": "code",
   "execution_count": null,
   "metadata": {
    "pycharm": {
     "name": "#%%\n"
    }
   },
   "outputs": [],
   "source": [
    "submission.smoking.mean()"
   ]
  },
  {
   "cell_type": "code",
   "execution_count": null,
   "metadata": {
    "pycharm": {
     "name": "#%%\n"
    }
   },
   "outputs": [],
   "source": [
    "submission.head()"
   ]
  },
  {
   "cell_type": "markdown",
   "metadata": {
    "pycharm": {
     "name": "#%% md\n"
    }
   },
   "source": [
    "**Kaggle result:** 0.42672 ↓"
   ]
  },
  {
   "cell_type": "markdown",
   "metadata": {
    "pycharm": {
     "name": "#%% md\n"
    }
   },
   "source": [
    "#### Изменяю порог до 0.45"
   ]
  },
  {
   "cell_type": "code",
   "execution_count": null,
   "metadata": {
    "pycharm": {
     "name": "#%%\n"
    }
   },
   "outputs": [],
   "source": [
    "((df_test.baseline_cat_cv_score > 0.45) * 1).mean()"
   ]
  },
  {
   "cell_type": "code",
   "execution_count": null,
   "metadata": {
    "pycharm": {
     "name": "#%%\n"
    }
   },
   "outputs": [],
   "source": [
    "submission = pd.DataFrame(df_test['id'])\n",
    "submission['smoking'] = (df_test.baseline_cat_cv_score > 0.45) * 1\n",
    "submission.to_csv('Cat_CV10_GPU_THRS045_LR_auto.csv', index=False)"
   ]
  },
  {
   "cell_type": "code",
   "execution_count": null,
   "metadata": {
    "pycharm": {
     "name": "#%%\n"
    }
   },
   "outputs": [],
   "source": [
    "submission.smoking.mean()"
   ]
  },
  {
   "cell_type": "code",
   "execution_count": null,
   "metadata": {
    "pycharm": {
     "name": "#%%\n"
    }
   },
   "outputs": [],
   "source": [
    "submission.head()"
   ]
  },
  {
   "cell_type": "markdown",
   "metadata": {
    "pycharm": {
     "name": "#%% md\n"
    }
   },
   "source": [
    "**Kaggle result:** 0.43046"
   ]
  },
  {
   "cell_type": "code",
   "execution_count": null,
   "metadata": {
    "pycharm": {
     "name": "#%%\n"
    }
   },
   "outputs": [],
   "source": []
  },
  {
   "cell_type": "code",
   "execution_count": null,
   "metadata": {
    "pycharm": {
     "name": "#%%\n"
    }
   },
   "outputs": [],
   "source": [
    "dddddddddddddddddd"
   ]
  },
  {
   "cell_type": "markdown",
   "metadata": {
    "pycharm": {
     "name": "#%% md\n"
    }
   },
   "source": [
    "## Catboost + ACW + GPU + Drop features"
   ]
  },
  {
   "cell_type": "markdown",
   "metadata": {
    "pycharm": {
     "name": "#%% md\n"
    }
   },
   "source": [
    "### Список фич"
   ]
  },
  {
   "cell_type": "code",
   "execution_count": 29,
   "metadata": {
    "pycharm": {
     "name": "#%%\n"
    }
   },
   "outputs": [
    {
     "data": {
      "text/html": [
       "<div>\n",
       "<style scoped>\n",
       "    .dataframe tbody tr th:only-of-type {\n",
       "        vertical-align: middle;\n",
       "    }\n",
       "\n",
       "    .dataframe tbody tr th {\n",
       "        vertical-align: top;\n",
       "    }\n",
       "\n",
       "    .dataframe thead th {\n",
       "        text-align: right;\n",
       "    }\n",
       "</style>\n",
       "<table border=\"1\" class=\"dataframe\">\n",
       "  <thead>\n",
       "    <tr style=\"text-align: right;\">\n",
       "      <th></th>\n",
       "      <th>id</th>\n",
       "      <th>age</th>\n",
       "      <th>height_cm_</th>\n",
       "      <th>weight_kg_</th>\n",
       "      <th>waist_cm_</th>\n",
       "      <th>eyesight_left_</th>\n",
       "      <th>eyesight_right_</th>\n",
       "      <th>hearing_left_</th>\n",
       "      <th>hearing_right_</th>\n",
       "      <th>systolic</th>\n",
       "      <th>relaxation</th>\n",
       "      <th>fasting_blood_sugar</th>\n",
       "      <th>cholesterol</th>\n",
       "      <th>triglyceride</th>\n",
       "      <th>hdl</th>\n",
       "      <th>ldl</th>\n",
       "      <th>hemoglobin</th>\n",
       "      <th>urine_protein</th>\n",
       "      <th>serum_creatinine</th>\n",
       "      <th>ast</th>\n",
       "      <th>alt</th>\n",
       "      <th>gtp</th>\n",
       "      <th>oral</th>\n",
       "      <th>dental_caries</th>\n",
       "      <th>tartar</th>\n",
       "      <th>smoking</th>\n",
       "    </tr>\n",
       "  </thead>\n",
       "  <tbody>\n",
       "    <tr>\n",
       "      <th>0</th>\n",
       "      <td>2791</td>\n",
       "      <td>65</td>\n",
       "      <td>170</td>\n",
       "      <td>75</td>\n",
       "      <td>91.0</td>\n",
       "      <td>0.6</td>\n",
       "      <td>0.9</td>\n",
       "      <td>1.0</td>\n",
       "      <td>1.0</td>\n",
       "      <td>122.0</td>\n",
       "      <td>79.0</td>\n",
       "      <td>107.0</td>\n",
       "      <td>119.0</td>\n",
       "      <td>51.0</td>\n",
       "      <td>71.0</td>\n",
       "      <td>52.0</td>\n",
       "      <td>14.0</td>\n",
       "      <td>3.0</td>\n",
       "      <td>1.2</td>\n",
       "      <td>20.0</td>\n",
       "      <td>16.0</td>\n",
       "      <td>122.0</td>\n",
       "      <td>Y</td>\n",
       "      <td>0</td>\n",
       "      <td>N</td>\n",
       "      <td>0</td>\n",
       "    </tr>\n",
       "    <tr>\n",
       "      <th>1</th>\n",
       "      <td>18280</td>\n",
       "      <td>35</td>\n",
       "      <td>170</td>\n",
       "      <td>85</td>\n",
       "      <td>97.0</td>\n",
       "      <td>1.5</td>\n",
       "      <td>1.5</td>\n",
       "      <td>1.0</td>\n",
       "      <td>1.0</td>\n",
       "      <td>138.0</td>\n",
       "      <td>88.0</td>\n",
       "      <td>117.0</td>\n",
       "      <td>204.0</td>\n",
       "      <td>239.0</td>\n",
       "      <td>46.0</td>\n",
       "      <td>120.0</td>\n",
       "      <td>14.6</td>\n",
       "      <td>1.0</td>\n",
       "      <td>0.7</td>\n",
       "      <td>20.0</td>\n",
       "      <td>25.0</td>\n",
       "      <td>40.0</td>\n",
       "      <td>Y</td>\n",
       "      <td>0</td>\n",
       "      <td>Y</td>\n",
       "      <td>1</td>\n",
       "    </tr>\n",
       "    <tr>\n",
       "      <th>2</th>\n",
       "      <td>1618</td>\n",
       "      <td>70</td>\n",
       "      <td>165</td>\n",
       "      <td>55</td>\n",
       "      <td>75.0</td>\n",
       "      <td>0.8</td>\n",
       "      <td>1.0</td>\n",
       "      <td>1.0</td>\n",
       "      <td>1.0</td>\n",
       "      <td>115.0</td>\n",
       "      <td>63.0</td>\n",
       "      <td>128.0</td>\n",
       "      <td>165.0</td>\n",
       "      <td>60.0</td>\n",
       "      <td>68.0</td>\n",
       "      <td>85.0</td>\n",
       "      <td>14.7</td>\n",
       "      <td>1.0</td>\n",
       "      <td>0.7</td>\n",
       "      <td>15.0</td>\n",
       "      <td>13.0</td>\n",
       "      <td>19.0</td>\n",
       "      <td>Y</td>\n",
       "      <td>0</td>\n",
       "      <td>Y</td>\n",
       "      <td>0</td>\n",
       "    </tr>\n",
       "    <tr>\n",
       "      <th>3</th>\n",
       "      <td>16856</td>\n",
       "      <td>35</td>\n",
       "      <td>180</td>\n",
       "      <td>85</td>\n",
       "      <td>83.0</td>\n",
       "      <td>1.2</td>\n",
       "      <td>1.0</td>\n",
       "      <td>1.0</td>\n",
       "      <td>1.0</td>\n",
       "      <td>130.0</td>\n",
       "      <td>80.0</td>\n",
       "      <td>100.0</td>\n",
       "      <td>209.0</td>\n",
       "      <td>155.0</td>\n",
       "      <td>53.0</td>\n",
       "      <td>125.0</td>\n",
       "      <td>17.2</td>\n",
       "      <td>1.0</td>\n",
       "      <td>0.8</td>\n",
       "      <td>22.0</td>\n",
       "      <td>18.0</td>\n",
       "      <td>17.0</td>\n",
       "      <td>Y</td>\n",
       "      <td>0</td>\n",
       "      <td>Y</td>\n",
       "      <td>0</td>\n",
       "    </tr>\n",
       "    <tr>\n",
       "      <th>4</th>\n",
       "      <td>5885</td>\n",
       "      <td>25</td>\n",
       "      <td>170</td>\n",
       "      <td>65</td>\n",
       "      <td>80.0</td>\n",
       "      <td>1.5</td>\n",
       "      <td>1.2</td>\n",
       "      <td>1.0</td>\n",
       "      <td>1.0</td>\n",
       "      <td>135.0</td>\n",
       "      <td>75.0</td>\n",
       "      <td>94.0</td>\n",
       "      <td>153.0</td>\n",
       "      <td>73.0</td>\n",
       "      <td>58.0</td>\n",
       "      <td>80.0</td>\n",
       "      <td>16.5</td>\n",
       "      <td>1.0</td>\n",
       "      <td>1.0</td>\n",
       "      <td>20.0</td>\n",
       "      <td>13.0</td>\n",
       "      <td>14.0</td>\n",
       "      <td>Y</td>\n",
       "      <td>0</td>\n",
       "      <td>Y</td>\n",
       "      <td>1</td>\n",
       "    </tr>\n",
       "  </tbody>\n",
       "</table>\n",
       "</div>"
      ],
      "text/plain": [
       "      id  age  height_cm_  weight_kg_  waist_cm_  eyesight_left_  \\\n",
       "0   2791   65         170          75       91.0             0.6   \n",
       "1  18280   35         170          85       97.0             1.5   \n",
       "2   1618   70         165          55       75.0             0.8   \n",
       "3  16856   35         180          85       83.0             1.2   \n",
       "4   5885   25         170          65       80.0             1.5   \n",
       "\n",
       "   eyesight_right_  hearing_left_  hearing_right_  systolic  relaxation  \\\n",
       "0              0.9            1.0             1.0     122.0        79.0   \n",
       "1              1.5            1.0             1.0     138.0        88.0   \n",
       "2              1.0            1.0             1.0     115.0        63.0   \n",
       "3              1.0            1.0             1.0     130.0        80.0   \n",
       "4              1.2            1.0             1.0     135.0        75.0   \n",
       "\n",
       "   fasting_blood_sugar  cholesterol  triglyceride   hdl    ldl  hemoglobin  \\\n",
       "0                107.0        119.0          51.0  71.0   52.0        14.0   \n",
       "1                117.0        204.0         239.0  46.0  120.0        14.6   \n",
       "2                128.0        165.0          60.0  68.0   85.0        14.7   \n",
       "3                100.0        209.0         155.0  53.0  125.0        17.2   \n",
       "4                 94.0        153.0          73.0  58.0   80.0        16.5   \n",
       "\n",
       "   urine_protein  serum_creatinine   ast   alt    gtp oral  dental_caries  \\\n",
       "0            3.0               1.2  20.0  16.0  122.0    Y              0   \n",
       "1            1.0               0.7  20.0  25.0   40.0    Y              0   \n",
       "2            1.0               0.7  15.0  13.0   19.0    Y              0   \n",
       "3            1.0               0.8  22.0  18.0   17.0    Y              0   \n",
       "4            1.0               1.0  20.0  13.0   14.0    Y              0   \n",
       "\n",
       "  tartar  smoking  \n",
       "0      N        0  \n",
       "1      Y        1  \n",
       "2      Y        0  \n",
       "3      Y        0  \n",
       "4      Y        1  "
      ]
     },
     "execution_count": 29,
     "metadata": {},
     "output_type": "execute_result"
    }
   ],
   "source": [
    "df.head()"
   ]
  },
  {
   "cell_type": "code",
   "execution_count": 30,
   "metadata": {
    "pycharm": {
     "name": "#%%\n"
    }
   },
   "outputs": [],
   "source": [
    "X = df.drop(['oral', 'smoking', 'hearing_left_', 'hearing_right_', 'id', 'eyesight_left_', 'eyesight_right_','urine_protein', 'height_cm_', 'systolic', 'cholesterol', ], axis=1)\n",
    "y = df.smoking\n",
    "cat_features = ['tartar']\n",
    "# df_test = df_test.drop('oral', axis=1)\n",
    "df_test_copy = df_test_copy.drop(['hearing_left_', 'hearing_right_', 'id', 'eyesight_left_', 'eyesight_right_','urine_protein', 'height_cm_', 'systolic', 'cholesterol', ], axis=1)"
   ]
  },
  {
   "cell_type": "code",
   "execution_count": 31,
   "metadata": {
    "pycharm": {
     "name": "#%%\n"
    }
   },
   "outputs": [
    {
     "data": {
      "text/html": [
       "<div>\n",
       "<style scoped>\n",
       "    .dataframe tbody tr th:only-of-type {\n",
       "        vertical-align: middle;\n",
       "    }\n",
       "\n",
       "    .dataframe tbody tr th {\n",
       "        vertical-align: top;\n",
       "    }\n",
       "\n",
       "    .dataframe thead th {\n",
       "        text-align: right;\n",
       "    }\n",
       "</style>\n",
       "<table border=\"1\" class=\"dataframe\">\n",
       "  <thead>\n",
       "    <tr style=\"text-align: right;\">\n",
       "      <th></th>\n",
       "      <th>age</th>\n",
       "      <th>weight_kg_</th>\n",
       "      <th>waist_cm_</th>\n",
       "      <th>relaxation</th>\n",
       "      <th>fasting_blood_sugar</th>\n",
       "      <th>triglyceride</th>\n",
       "      <th>hdl</th>\n",
       "      <th>ldl</th>\n",
       "      <th>hemoglobin</th>\n",
       "      <th>serum_creatinine</th>\n",
       "      <th>ast</th>\n",
       "      <th>alt</th>\n",
       "      <th>gtp</th>\n",
       "      <th>dental_caries</th>\n",
       "      <th>tartar</th>\n",
       "    </tr>\n",
       "  </thead>\n",
       "  <tbody>\n",
       "    <tr>\n",
       "      <th>0</th>\n",
       "      <td>65</td>\n",
       "      <td>75</td>\n",
       "      <td>91.0</td>\n",
       "      <td>79.0</td>\n",
       "      <td>107.0</td>\n",
       "      <td>51.0</td>\n",
       "      <td>71.0</td>\n",
       "      <td>52.0</td>\n",
       "      <td>14.0</td>\n",
       "      <td>1.2</td>\n",
       "      <td>20.0</td>\n",
       "      <td>16.0</td>\n",
       "      <td>122.0</td>\n",
       "      <td>0</td>\n",
       "      <td>N</td>\n",
       "    </tr>\n",
       "    <tr>\n",
       "      <th>1</th>\n",
       "      <td>35</td>\n",
       "      <td>85</td>\n",
       "      <td>97.0</td>\n",
       "      <td>88.0</td>\n",
       "      <td>117.0</td>\n",
       "      <td>239.0</td>\n",
       "      <td>46.0</td>\n",
       "      <td>120.0</td>\n",
       "      <td>14.6</td>\n",
       "      <td>0.7</td>\n",
       "      <td>20.0</td>\n",
       "      <td>25.0</td>\n",
       "      <td>40.0</td>\n",
       "      <td>0</td>\n",
       "      <td>Y</td>\n",
       "    </tr>\n",
       "    <tr>\n",
       "      <th>2</th>\n",
       "      <td>70</td>\n",
       "      <td>55</td>\n",
       "      <td>75.0</td>\n",
       "      <td>63.0</td>\n",
       "      <td>128.0</td>\n",
       "      <td>60.0</td>\n",
       "      <td>68.0</td>\n",
       "      <td>85.0</td>\n",
       "      <td>14.7</td>\n",
       "      <td>0.7</td>\n",
       "      <td>15.0</td>\n",
       "      <td>13.0</td>\n",
       "      <td>19.0</td>\n",
       "      <td>0</td>\n",
       "      <td>Y</td>\n",
       "    </tr>\n",
       "    <tr>\n",
       "      <th>3</th>\n",
       "      <td>35</td>\n",
       "      <td>85</td>\n",
       "      <td>83.0</td>\n",
       "      <td>80.0</td>\n",
       "      <td>100.0</td>\n",
       "      <td>155.0</td>\n",
       "      <td>53.0</td>\n",
       "      <td>125.0</td>\n",
       "      <td>17.2</td>\n",
       "      <td>0.8</td>\n",
       "      <td>22.0</td>\n",
       "      <td>18.0</td>\n",
       "      <td>17.0</td>\n",
       "      <td>0</td>\n",
       "      <td>Y</td>\n",
       "    </tr>\n",
       "    <tr>\n",
       "      <th>4</th>\n",
       "      <td>25</td>\n",
       "      <td>65</td>\n",
       "      <td>80.0</td>\n",
       "      <td>75.0</td>\n",
       "      <td>94.0</td>\n",
       "      <td>73.0</td>\n",
       "      <td>58.0</td>\n",
       "      <td>80.0</td>\n",
       "      <td>16.5</td>\n",
       "      <td>1.0</td>\n",
       "      <td>20.0</td>\n",
       "      <td>13.0</td>\n",
       "      <td>14.0</td>\n",
       "      <td>0</td>\n",
       "      <td>Y</td>\n",
       "    </tr>\n",
       "  </tbody>\n",
       "</table>\n",
       "</div>"
      ],
      "text/plain": [
       "   age  weight_kg_  waist_cm_  relaxation  fasting_blood_sugar  triglyceride  \\\n",
       "0   65          75       91.0        79.0                107.0          51.0   \n",
       "1   35          85       97.0        88.0                117.0         239.0   \n",
       "2   70          55       75.0        63.0                128.0          60.0   \n",
       "3   35          85       83.0        80.0                100.0         155.0   \n",
       "4   25          65       80.0        75.0                 94.0          73.0   \n",
       "\n",
       "    hdl    ldl  hemoglobin  serum_creatinine   ast   alt    gtp  \\\n",
       "0  71.0   52.0        14.0               1.2  20.0  16.0  122.0   \n",
       "1  46.0  120.0        14.6               0.7  20.0  25.0   40.0   \n",
       "2  68.0   85.0        14.7               0.7  15.0  13.0   19.0   \n",
       "3  53.0  125.0        17.2               0.8  22.0  18.0   17.0   \n",
       "4  58.0   80.0        16.5               1.0  20.0  13.0   14.0   \n",
       "\n",
       "   dental_caries tartar  \n",
       "0              0      N  \n",
       "1              0      Y  \n",
       "2              0      Y  \n",
       "3              0      Y  \n",
       "4              0      Y  "
      ]
     },
     "execution_count": 31,
     "metadata": {},
     "output_type": "execute_result"
    }
   ],
   "source": [
    "X.head()"
   ]
  },
  {
   "cell_type": "code",
   "execution_count": 32,
   "metadata": {
    "pycharm": {
     "name": "#%%\n"
    }
   },
   "outputs": [
    {
     "data": {
      "text/plain": [
       "0    0\n",
       "1    1\n",
       "2    0\n",
       "3    0\n",
       "4    1\n",
       "Name: smoking, dtype: int64"
      ]
     },
     "execution_count": 32,
     "metadata": {},
     "output_type": "execute_result"
    }
   ],
   "source": [
    "y.head()"
   ]
  },
  {
   "cell_type": "code",
   "execution_count": 33,
   "metadata": {
    "pycharm": {
     "name": "#%%\n"
    }
   },
   "outputs": [
    {
     "data": {
      "text/plain": [
       "['tartar']"
      ]
     },
     "execution_count": 33,
     "metadata": {},
     "output_type": "execute_result"
    }
   ],
   "source": [
    "cat_features"
   ]
  },
  {
   "cell_type": "markdown",
   "metadata": {
    "pycharm": {
     "name": "#%% md\n"
    }
   },
   "source": [
    "### Обучающая и тестовая выборки\n",
    "Разделю обучающую выборку на train и test"
   ]
  },
  {
   "cell_type": "code",
   "execution_count": 34,
   "metadata": {
    "pycharm": {
     "name": "#%%\n"
    }
   },
   "outputs": [],
   "source": [
    "X_train, X_test, y_train, y_test = train_test_split(X, y, test_size=0.2, random_state=659)"
   ]
  },
  {
   "cell_type": "markdown",
   "metadata": {
    "pycharm": {
     "name": "#%% md\n"
    }
   },
   "source": [
    "### Создание Pool`ов для модели"
   ]
  },
  {
   "cell_type": "code",
   "execution_count": 35,
   "metadata": {
    "pycharm": {
     "name": "#%%\n"
    }
   },
   "outputs": [],
   "source": [
    "train_data = Pool(X_train, y_train, cat_features=cat_features)\n",
    "test_data = Pool(X_test, y_test, cat_features=cat_features)\n",
    "full_data = Pool(X, y, cat_features=cat_features)"
   ]
  },
  {
   "cell_type": "markdown",
   "metadata": {
    "pycharm": {
     "name": "#%% md\n"
    }
   },
   "source": [
    "### Настройка гиперпараметров"
   ]
  },
  {
   "cell_type": "code",
   "execution_count": null,
   "metadata": {
    "pycharm": {
     "name": "#%%\n"
    }
   },
   "outputs": [],
   "source": [
    "вввввввввввввввввввввввв"
   ]
  },
  {
   "cell_type": "markdown",
   "metadata": {
    "pycharm": {
     "name": "#%% md\n"
    }
   },
   "source": [
    "LR 0.01 - 0.03"
   ]
  },
  {
   "cell_type": "code",
   "execution_count": 139,
   "metadata": {
    "pycharm": {
     "name": "#%%\n"
    }
   },
   "outputs": [],
   "source": [
    "parameters = {'cat_features': cat_features,\n",
    "              'eval_metric': 'F1',\n",
    "              'loss_function': 'Logloss',\n",
    "              'random_seed': 659,\n",
    "              'verbose': 100,\n",
    "              'auto_class_weights': 'Balanced',\n",
    "              'task_type': 'GPU',\n",
    "              'iterations': 1000,\n",
    "              'early_stopping_rounds': 300}"
   ]
  },
  {
   "cell_type": "code",
   "execution_count": 140,
   "metadata": {
    "pycharm": {
     "name": "#%%\n"
    }
   },
   "outputs": [],
   "source": [
    "model = CatBoostClassifier(**parameters)"
   ]
  },
  {
   "cell_type": "markdown",
   "metadata": {
    "pycharm": {
     "name": "#%% md\n"
    }
   },
   "source": [
    "### Обучение модели"
   ]
  },
  {
   "cell_type": "code",
   "execution_count": 141,
   "metadata": {
    "pycharm": {
     "name": "#%%\n"
    }
   },
   "outputs": [
    {
     "data": {
      "text/plain": "MetricVisualizer(layout=Layout(align_self='stretch', height='500px'))",
      "application/vnd.jupyter.widget-view+json": {
       "version_major": 2,
       "version_minor": 0,
       "model_id": "f1273dd1f5ea43d9b40a1382edce953e"
      }
     },
     "metadata": {},
     "output_type": "display_data"
    },
    {
     "name": "stdout",
     "output_type": "stream",
     "text": [
      "Learning rate set to 0.058056\n",
      "0:\tlearn: 0.6100672\ttest: 0.5636089\tbest: 0.5636089 (0)\ttotal: 40.2ms\tremaining: 40.2s\n",
      "100:\tlearn: 0.6983700\ttest: 0.6161387\tbest: 0.6190550 (98)\ttotal: 7.41s\tremaining: 1m 5s\n",
      "200:\tlearn: 0.7375642\ttest: 0.6131263\tbest: 0.6194675 (107)\ttotal: 11s\tremaining: 43.6s\n",
      "300:\tlearn: 0.7570418\ttest: 0.6003841\tbest: 0.6194675 (107)\ttotal: 14.4s\tremaining: 33.4s\n",
      "400:\tlearn: 0.7716029\ttest: 0.5982121\tbest: 0.6194675 (107)\ttotal: 17.8s\tremaining: 26.5s\n",
      "bestTest = 0.6194674581\n",
      "bestIteration = 107\n",
      "Shrink model to first 108 iterations.\n",
      "CPU times: total: 20.4 s\n",
      "Wall time: 18.5 s\n"
     ]
    },
    {
     "data": {
      "text/plain": "<catboost.core.CatBoostClassifier at 0x2648efecb20>"
     },
     "execution_count": 141,
     "metadata": {},
     "output_type": "execute_result"
    }
   ],
   "source": [
    "%%time\n",
    "model.fit(train_data, eval_set=test_data, plot=True)"
   ]
  },
  {
   "cell_type": "markdown",
   "metadata": {
    "pycharm": {
     "name": "#%% md\n"
    }
   },
   "source": [
    "Lr-auto=0.058056\n",
    "bestTest = 0.6194674581\n",
    "bestIteration = 107\n",
    "LR = 0.03\n",
    "bestTest = 0.6152708489\n",
    "bestIteration = 381\n",
    "LR = 0.02\n",
    "bestTest = 0.6127704915\n",
    "bestIteration = 399\n",
    "LR = 0.04\n",
    "bestTest = 0.61339383\n",
    "bestIteration = 369\n",
    "LR = 0.01\n",
    "bestTest = 0.6167331055\n",
    "bestIteration = 856\n",
    "LR = 0.0581\n",
    "bestTest = 0.6218981807\n",
    "bestIteration = 209\n",
    "**BEST LR** = 0.0583\n",
    "bestTest = 0.6231496187\n",
    "bestIteration = 271\n"
   ]
  },
  {
   "cell_type": "markdown",
   "metadata": {
    "pycharm": {
     "name": "#%% md\n"
    }
   },
   "source": [
    "### Feature importance"
   ]
  },
  {
   "cell_type": "code",
   "execution_count": 142,
   "metadata": {
    "pycharm": {
     "name": "#%%\n"
    }
   },
   "outputs": [
    {
     "data": {
      "text/plain": "             Feature Id  Importances\n0                   age    16.037052\n1                   gtp    15.553149\n2                   alt    11.059059\n3          triglyceride    10.394328\n4            hemoglobin     6.687902\n5                   ldl     6.351543\n6             waist_cm_     5.977403\n7   fasting_blood_sugar     4.483045\n8      serum_creatinine     4.227178\n9                   ast     4.210789\n10                  hdl     3.845284\n11           relaxation     3.319383\n12           weight_kg_     3.129290\n13               tartar     3.034181\n14        dental_caries     1.690414",
      "text/html": "<div>\n<style scoped>\n    .dataframe tbody tr th:only-of-type {\n        vertical-align: middle;\n    }\n\n    .dataframe tbody tr th {\n        vertical-align: top;\n    }\n\n    .dataframe thead th {\n        text-align: right;\n    }\n</style>\n<table border=\"1\" class=\"dataframe\">\n  <thead>\n    <tr style=\"text-align: right;\">\n      <th></th>\n      <th>Feature Id</th>\n      <th>Importances</th>\n    </tr>\n  </thead>\n  <tbody>\n    <tr>\n      <th>0</th>\n      <td>age</td>\n      <td>16.037052</td>\n    </tr>\n    <tr>\n      <th>1</th>\n      <td>gtp</td>\n      <td>15.553149</td>\n    </tr>\n    <tr>\n      <th>2</th>\n      <td>alt</td>\n      <td>11.059059</td>\n    </tr>\n    <tr>\n      <th>3</th>\n      <td>triglyceride</td>\n      <td>10.394328</td>\n    </tr>\n    <tr>\n      <th>4</th>\n      <td>hemoglobin</td>\n      <td>6.687902</td>\n    </tr>\n    <tr>\n      <th>5</th>\n      <td>ldl</td>\n      <td>6.351543</td>\n    </tr>\n    <tr>\n      <th>6</th>\n      <td>waist_cm_</td>\n      <td>5.977403</td>\n    </tr>\n    <tr>\n      <th>7</th>\n      <td>fasting_blood_sugar</td>\n      <td>4.483045</td>\n    </tr>\n    <tr>\n      <th>8</th>\n      <td>serum_creatinine</td>\n      <td>4.227178</td>\n    </tr>\n    <tr>\n      <th>9</th>\n      <td>ast</td>\n      <td>4.210789</td>\n    </tr>\n    <tr>\n      <th>10</th>\n      <td>hdl</td>\n      <td>3.845284</td>\n    </tr>\n    <tr>\n      <th>11</th>\n      <td>relaxation</td>\n      <td>3.319383</td>\n    </tr>\n    <tr>\n      <th>12</th>\n      <td>weight_kg_</td>\n      <td>3.129290</td>\n    </tr>\n    <tr>\n      <th>13</th>\n      <td>tartar</td>\n      <td>3.034181</td>\n    </tr>\n    <tr>\n      <th>14</th>\n      <td>dental_caries</td>\n      <td>1.690414</td>\n    </tr>\n  </tbody>\n</table>\n</div>"
     },
     "execution_count": 142,
     "metadata": {},
     "output_type": "execute_result"
    }
   ],
   "source": [
    "model.get_feature_importance(prettified=True)"
   ]
  },
  {
   "cell_type": "code",
   "execution_count": 143,
   "metadata": {
    "pycharm": {
     "name": "#%%\n"
    }
   },
   "outputs": [
    {
     "data": {
      "text/plain": "{'iterations': 1000,\n 'loss_function': 'Logloss',\n 'random_seed': 659,\n 'verbose': 100,\n 'auto_class_weights': 'Balanced',\n 'eval_metric': 'F1',\n 'task_type': 'GPU',\n 'early_stopping_rounds': 300,\n 'cat_features': ['tartar']}"
     },
     "execution_count": 143,
     "metadata": {},
     "output_type": "execute_result"
    }
   ],
   "source": [
    "model.get_params()"
   ]
  },
  {
   "cell_type": "code",
   "execution_count": 144,
   "metadata": {
    "pycharm": {
     "name": "#%%\n"
    }
   },
   "outputs": [
    {
     "data": {
      "text/plain": "{'nan_mode': 'Min',\n 'gpu_ram_part': 0.95,\n 'eval_metric': 'F1',\n 'combinations_ctr': ['Borders:CtrBorderCount=15:CtrBorderType=Uniform:TargetBorderCount=1:TargetBorderType=MinEntropy:Prior=0/1:Prior=0.5/1:Prior=1/1',\n  'FeatureFreq:CtrBorderCount=15:CtrBorderType=Median:Prior=0/1'],\n 'iterations': 1000,\n 'fold_permutation_block': 64,\n 'leaf_estimation_method': 'Newton',\n 'observations_to_bootstrap': 'TestOnly',\n 'od_pval': 0,\n 'counter_calc_method': 'SkipTest',\n 'grow_policy': 'SymmetricTree',\n 'penalties_coefficient': 1,\n 'boosting_type': 'Ordered',\n 'ctr_history_unit': 'Sample',\n 'feature_border_type': 'GreedyLogSum',\n 'bayesian_matrix_reg': 0.10000000149011612,\n 'one_hot_max_size': 2,\n 'devices': '-1',\n 'eval_fraction': 0,\n 'pinned_memory_bytes': '104857600',\n 'force_unit_auto_pair_weights': False,\n 'l2_leaf_reg': 3,\n 'random_strength': 1,\n 'od_type': 'Iter',\n 'rsm': 1,\n 'boost_from_average': False,\n 'gpu_cat_features_storage': 'GpuRam',\n 'fold_size_loss_normalization': False,\n 'max_ctr_complexity': 4,\n 'model_size_reg': 0.5,\n 'simple_ctr': ['Borders:CtrBorderCount=15:CtrBorderType=Uniform:TargetBorderCount=1:TargetBorderType=MinEntropy:Prior=0/1:Prior=0.5/1:Prior=1/1',\n  'FeatureFreq:CtrBorderCount=15:CtrBorderType=MinEntropy:Prior=0/1'],\n 'pool_metainfo_options': {'tags': {}},\n 'use_best_model': True,\n 'meta_l2_frequency': 0,\n 'od_wait': 300,\n 'class_names': [0, 1],\n 'random_seed': 659,\n 'depth': 6,\n 'ctr_target_border_count': 1,\n 'has_time': False,\n 'fold_len_multiplier': 2,\n 'border_count': 128,\n 'min_fold_size': 100,\n 'class_weights': [1, 3.933899164199829],\n 'data_partition': 'FeatureParallel',\n 'bagging_temperature': 1,\n 'classes_count': 0,\n 'auto_class_weights': 'Balanced',\n 'leaf_estimation_backtracking': 'AnyImprovement',\n 'best_model_min_trees': 1,\n 'min_data_in_leaf': 1,\n 'add_ridge_penalty_to_loss_function': False,\n 'loss_function': 'Logloss',\n 'learning_rate': 0.05805600062012672,\n 'meta_l2_exponent': 1,\n 'score_function': 'Cosine',\n 'task_type': 'GPU',\n 'leaf_estimation_iterations': 10,\n 'bootstrap_type': 'Bayesian',\n 'max_leaves': 64,\n 'permutation_count': 4}"
     },
     "execution_count": 144,
     "metadata": {},
     "output_type": "execute_result"
    }
   ],
   "source": [
    "model.get_all_params()"
   ]
  },
  {
   "cell_type": "markdown",
   "metadata": {
    "pycharm": {
     "name": "#%% md\n"
    }
   },
   "source": [
    "### Прогнозирование"
   ]
  },
  {
   "cell_type": "markdown",
   "metadata": {
    "pycharm": {
     "name": "#%% md\n"
    }
   },
   "source": [
    "#### Скоры"
   ]
  },
  {
   "cell_type": "markdown",
   "metadata": {
    "pycharm": {
     "name": "#%% md\n"
    }
   },
   "source": [
    "Создаю колонку для baseline catboost скора"
   ]
  },
  {
   "cell_type": "code",
   "execution_count": 145,
   "metadata": {
    "pycharm": {
     "name": "#%%\n"
    }
   },
   "outputs": [],
   "source": [
    "df_test['baseline_cat_score'] = model.predict_proba(df_test_copy)[:, 1]"
   ]
  },
  {
   "cell_type": "code",
   "execution_count": 146,
   "metadata": {
    "pycharm": {
     "name": "#%%\n"
    }
   },
   "outputs": [
    {
     "data": {
      "text/plain": "0    0.500722\n1    0.078501\n2    0.437625\n3    0.347356\n4    0.590422\nName: baseline_cat_score, dtype: float64"
     },
     "execution_count": 146,
     "metadata": {},
     "output_type": "execute_result"
    }
   ],
   "source": [
    "df_test.baseline_cat_score.head()"
   ]
  },
  {
   "cell_type": "markdown",
   "metadata": {
    "pycharm": {
     "name": "#%% md\n"
    }
   },
   "source": [
    "Распределение вероятностей (Score) курит или не курит"
   ]
  },
  {
   "cell_type": "code",
   "execution_count": 147,
   "metadata": {
    "pycharm": {
     "name": "#%%\n"
    }
   },
   "outputs": [
    {
     "data": {
      "text/plain": "<Figure size 640x480 with 1 Axes>",
      "image/png": "[encoded data removed]"
     },
     "metadata": {},
     "output_type": "display_data"
    }
   ],
   "source": [
    "df_test.baseline_cat_score.hist();"
   ]
  },
  {
   "cell_type": "markdown",
   "metadata": {
    "pycharm": {
     "name": "#%% md\n"
    }
   },
   "source": [
    "#### Пороги"
   ]
  },
  {
   "cell_type": "markdown",
   "metadata": {
    "pycharm": {
     "name": "#%% md\n"
    }
   },
   "source": [
    "Посмотрю на пользователей вероятность курения которых > 0.5\n",
    "Для вывода 0-ей и 1-иц нужно домножить на 1 иначе будет True и False"
   ]
  },
  {
   "cell_type": "code",
   "execution_count": 148,
   "metadata": {
    "pycharm": {
     "name": "#%%\n"
    }
   },
   "outputs": [
    {
     "data": {
      "text/plain": "0.3668798384382363"
     },
     "execution_count": 148,
     "metadata": {},
     "output_type": "execute_result"
    }
   ],
   "source": [
    "((df_test.baseline_cat_score > 0.5) * 1).mean()"
   ]
  },
  {
   "cell_type": "markdown",
   "metadata": {
    "pycharm": {
     "name": "#%% md\n"
    }
   },
   "source": [
    "Такая же вероятность у метода predict, т.к. порог по умолчанию = 0.5"
   ]
  },
  {
   "cell_type": "code",
   "execution_count": 149,
   "metadata": {
    "pycharm": {
     "name": "#%%\n"
    }
   },
   "outputs": [
    {
     "data": {
      "text/plain": "0.3668798384382363"
     },
     "execution_count": 149,
     "metadata": {},
     "output_type": "execute_result"
    }
   ],
   "source": [
    "model.predict(df_test_copy).mean()"
   ]
  },
  {
   "cell_type": "code",
   "execution_count": 150,
   "metadata": {
    "pycharm": {
     "name": "#%%\n"
    }
   },
   "outputs": [],
   "source": [
    "df_test['baseline_cat_pred'] = (df_test.baseline_cat_score > 0.5) * 1"
   ]
  },
  {
   "cell_type": "code",
   "execution_count": 151,
   "metadata": {
    "pycharm": {
     "name": "#%%\n"
    }
   },
   "outputs": [
    {
     "data": {
      "text/plain": "      id  age  height_cm_  weight_kg_  waist_cm_  eyesight_left_  \\\n0  19200   40         170          75       87.0             1.2   \n1   7784   25         170          65       78.4             0.9   \n2  11682   50         180         105      109.3             0.9   \n3   9949   60         160          60       81.0             0.5   \n4   9378   45         175          70       83.0             0.9   \n\n   eyesight_right_  hearing_left_  hearing_right_  systolic  relaxation  \\\n0              1.0            1.0             1.0     140.0        90.0   \n1              0.9            1.0             1.0     118.0        78.0   \n2              1.0            1.0             1.0     130.0        90.0   \n3              0.5            1.0             1.0     118.0        76.0   \n4              1.0            1.0             1.0     130.0        80.0   \n\n   fasting_blood_sugar  cholesterol  triglyceride   hdl    ldl  hemoglobin  \\\n0                131.0        225.0         216.0  52.0  129.0        16.4   \n1                101.0        170.0          33.0  72.0   91.0        11.9   \n2                 96.0        162.0         144.0  71.0   62.0        15.4   \n3                 97.0        172.0          91.0  46.0  108.0        16.2   \n4                100.0        191.0         365.0  34.0   84.0        15.2   \n\n   urine_protein  serum_creatinine   ast   alt   gtp  dental_caries tartar  \\\n0            1.0               1.1  25.0  58.0  43.0              0      Y   \n1            1.0               0.9  33.0  66.0  22.0              0      N   \n2            1.0               0.9  19.0  24.0  32.0              0      Y   \n3            1.0               1.2  34.0  37.0  26.0              0      Y   \n4            1.0               0.7  27.0  25.0  26.0              0      N   \n\n   baseline_cat_score  baseline_cat_pred  \n0            0.500722                  1  \n1            0.078501                  0  \n2            0.437625                  0  \n3            0.347356                  0  \n4            0.590422                  1  ",
      "text/html": "<div>\n<style scoped>\n    .dataframe tbody tr th:only-of-type {\n        vertical-align: middle;\n    }\n\n    .dataframe tbody tr th {\n        vertical-align: top;\n    }\n\n    .dataframe thead th {\n        text-align: right;\n    }\n</style>\n<table border=\"1\" class=\"dataframe\">\n  <thead>\n    <tr style=\"text-align: right;\">\n      <th></th>\n      <th>id</th>\n      <th>age</th>\n      <th>height_cm_</th>\n      <th>weight_kg_</th>\n      <th>waist_cm_</th>\n      <th>eyesight_left_</th>\n      <th>eyesight_right_</th>\n      <th>hearing_left_</th>\n      <th>hearing_right_</th>\n      <th>systolic</th>\n      <th>relaxation</th>\n      <th>fasting_blood_sugar</th>\n      <th>cholesterol</th>\n      <th>triglyceride</th>\n      <th>hdl</th>\n      <th>ldl</th>\n      <th>hemoglobin</th>\n      <th>urine_protein</th>\n      <th>serum_creatinine</th>\n      <th>ast</th>\n      <th>alt</th>\n      <th>gtp</th>\n      <th>dental_caries</th>\n      <th>tartar</th>\n      <th>baseline_cat_score</th>\n      <th>baseline_cat_pred</th>\n    </tr>\n  </thead>\n  <tbody>\n    <tr>\n      <th>0</th>\n      <td>19200</td>\n      <td>40</td>\n      <td>170</td>\n      <td>75</td>\n      <td>87.0</td>\n      <td>1.2</td>\n      <td>1.0</td>\n      <td>1.0</td>\n      <td>1.0</td>\n      <td>140.0</td>\n      <td>90.0</td>\n      <td>131.0</td>\n      <td>225.0</td>\n      <td>216.0</td>\n      <td>52.0</td>\n      <td>129.0</td>\n      <td>16.4</td>\n      <td>1.0</td>\n      <td>1.1</td>\n      <td>25.0</td>\n      <td>58.0</td>\n      <td>43.0</td>\n      <td>0</td>\n      <td>Y</td>\n      <td>0.500722</td>\n      <td>1</td>\n    </tr>\n    <tr>\n      <th>1</th>\n      <td>7784</td>\n      <td>25</td>\n      <td>170</td>\n      <td>65</td>\n      <td>78.4</td>\n      <td>0.9</td>\n      <td>0.9</td>\n      <td>1.0</td>\n      <td>1.0</td>\n      <td>118.0</td>\n      <td>78.0</td>\n      <td>101.0</td>\n      <td>170.0</td>\n      <td>33.0</td>\n      <td>72.0</td>\n      <td>91.0</td>\n      <td>11.9</td>\n      <td>1.0</td>\n      <td>0.9</td>\n      <td>33.0</td>\n      <td>66.0</td>\n      <td>22.0</td>\n      <td>0</td>\n      <td>N</td>\n      <td>0.078501</td>\n      <td>0</td>\n    </tr>\n    <tr>\n      <th>2</th>\n      <td>11682</td>\n      <td>50</td>\n      <td>180</td>\n      <td>105</td>\n      <td>109.3</td>\n      <td>0.9</td>\n      <td>1.0</td>\n      <td>1.0</td>\n      <td>1.0</td>\n      <td>130.0</td>\n      <td>90.0</td>\n      <td>96.0</td>\n      <td>162.0</td>\n      <td>144.0</td>\n      <td>71.0</td>\n      <td>62.0</td>\n      <td>15.4</td>\n      <td>1.0</td>\n      <td>0.9</td>\n      <td>19.0</td>\n      <td>24.0</td>\n      <td>32.0</td>\n      <td>0</td>\n      <td>Y</td>\n      <td>0.437625</td>\n      <td>0</td>\n    </tr>\n    <tr>\n      <th>3</th>\n      <td>9949</td>\n      <td>60</td>\n      <td>160</td>\n      <td>60</td>\n      <td>81.0</td>\n      <td>0.5</td>\n      <td>0.5</td>\n      <td>1.0</td>\n      <td>1.0</td>\n      <td>118.0</td>\n      <td>76.0</td>\n      <td>97.0</td>\n      <td>172.0</td>\n      <td>91.0</td>\n      <td>46.0</td>\n      <td>108.0</td>\n      <td>16.2</td>\n      <td>1.0</td>\n      <td>1.2</td>\n      <td>34.0</td>\n      <td>37.0</td>\n      <td>26.0</td>\n      <td>0</td>\n      <td>Y</td>\n      <td>0.347356</td>\n      <td>0</td>\n    </tr>\n    <tr>\n      <th>4</th>\n      <td>9378</td>\n      <td>45</td>\n      <td>175</td>\n      <td>70</td>\n      <td>83.0</td>\n      <td>0.9</td>\n      <td>1.0</td>\n      <td>1.0</td>\n      <td>1.0</td>\n      <td>130.0</td>\n      <td>80.0</td>\n      <td>100.0</td>\n      <td>191.0</td>\n      <td>365.0</td>\n      <td>34.0</td>\n      <td>84.0</td>\n      <td>15.2</td>\n      <td>1.0</td>\n      <td>0.7</td>\n      <td>27.0</td>\n      <td>25.0</td>\n      <td>26.0</td>\n      <td>0</td>\n      <td>N</td>\n      <td>0.590422</td>\n      <td>1</td>\n    </tr>\n  </tbody>\n</table>\n</div>"
     },
     "execution_count": 151,
     "metadata": {},
     "output_type": "execute_result"
    }
   ],
   "source": [
    "df_test.head()"
   ]
  },
  {
   "cell_type": "markdown",
   "metadata": {
    "pycharm": {
     "name": "#%% md\n"
    }
   },
   "source": [
    "### Сохранение результатов"
   ]
  },
  {
   "cell_type": "code",
   "execution_count": 152,
   "metadata": {
    "pycharm": {
     "name": "#%%\n"
    }
   },
   "outputs": [],
   "source": [
    "submission = pd.DataFrame(df_test['id'])\n",
    "submission['smoking'] = df_test.baseline_cat_pred\n",
    "submission.to_csv('Cat_ACW_GPU_LR0.03_drop9F.csv', index=False)"
   ]
  },
  {
   "cell_type": "markdown",
   "metadata": {
    "pycharm": {
     "name": "#%% md\n"
    }
   },
   "source": [
    "Проверка значений:"
   ]
  },
  {
   "cell_type": "code",
   "execution_count": 153,
   "metadata": {
    "pycharm": {
     "name": "#%%\n"
    }
   },
   "outputs": [
    {
     "data": {
      "text/plain": "0.3668798384382363"
     },
     "execution_count": 153,
     "metadata": {},
     "output_type": "execute_result"
    }
   ],
   "source": [
    "submission.smoking.mean()"
   ]
  },
  {
   "cell_type": "code",
   "execution_count": 154,
   "metadata": {
    "pycharm": {
     "name": "#%%\n"
    }
   },
   "outputs": [
    {
     "data": {
      "text/plain": "      id  smoking\n0  19200        1\n1   7784        0\n2  11682        0\n3   9949        0\n4   9378        1",
      "text/html": "<div>\n<style scoped>\n    .dataframe tbody tr th:only-of-type {\n        vertical-align: middle;\n    }\n\n    .dataframe tbody tr th {\n        vertical-align: top;\n    }\n\n    .dataframe thead th {\n        text-align: right;\n    }\n</style>\n<table border=\"1\" class=\"dataframe\">\n  <thead>\n    <tr style=\"text-align: right;\">\n      <th></th>\n      <th>id</th>\n      <th>smoking</th>\n    </tr>\n  </thead>\n  <tbody>\n    <tr>\n      <th>0</th>\n      <td>19200</td>\n      <td>1</td>\n    </tr>\n    <tr>\n      <th>1</th>\n      <td>7784</td>\n      <td>0</td>\n    </tr>\n    <tr>\n      <th>2</th>\n      <td>11682</td>\n      <td>0</td>\n    </tr>\n    <tr>\n      <th>3</th>\n      <td>9949</td>\n      <td>0</td>\n    </tr>\n    <tr>\n      <th>4</th>\n      <td>9378</td>\n      <td>1</td>\n    </tr>\n  </tbody>\n</table>\n</div>"
     },
     "execution_count": 154,
     "metadata": {},
     "output_type": "execute_result"
    }
   ],
   "source": [
    "submission.head()"
   ]
  },
  {
   "cell_type": "markdown",
   "metadata": {
    "pycharm": {
     "name": "#%% md\n"
    }
   },
   "source": [
    "**Kaggle result:** 0.43846 ↑↑↑"
   ]
  },
  {
   "cell_type": "markdown",
   "metadata": {
    "pycharm": {
     "name": "#%% md\n"
    }
   },
   "source": [
    "### Модификация"
   ]
  },
  {
   "cell_type": "markdown",
   "metadata": {
    "pycharm": {
     "name": "#%% md\n"
    }
   },
   "source": [
    "#### Изменение порога"
   ]
  },
  {
   "cell_type": "markdown",
   "metadata": {
    "pycharm": {
     "name": "#%% md\n"
    }
   },
   "source": [
    "Изменю порог с 0.5 на 0.501"
   ]
  },
  {
   "cell_type": "code",
   "execution_count": 181,
   "outputs": [
    {
     "data": {
      "text/plain": "0.36385055536856276"
     },
     "execution_count": 181,
     "metadata": {},
     "output_type": "execute_result"
    }
   ],
   "source": [
    "((df_test.baseline_cat_score > 0.50103) * 1).mean()"
   ],
   "metadata": {
    "collapsed": false,
    "pycharm": {
     "name": "#%%\n"
    }
   }
  },
  {
   "cell_type": "code",
   "execution_count": 171,
   "outputs": [
    {
     "data": {
      "text/plain": "0.3640188488724335"
     },
     "execution_count": 171,
     "metadata": {},
     "output_type": "execute_result"
    }
   ],
   "source": [
    "((df_test.baseline_cat_score > 0.501) * 1).mean()"
   ],
   "metadata": {
    "collapsed": false,
    "pycharm": {
     "name": "#%%\n"
    }
   }
  },
  {
   "cell_type": "code",
   "execution_count": 235,
   "outputs": [
    {
     "data": {
      "text/plain": "0.3692359474924268"
     },
     "execution_count": 235,
     "metadata": {},
     "output_type": "execute_result"
    }
   ],
   "source": [
    "((df_test.baseline_cat_score > 0.4988) * 1).mean()"
   ],
   "metadata": {
    "collapsed": false,
    "pycharm": {
     "name": "#%%\n"
    }
   }
  },
  {
   "cell_type": "markdown",
   "metadata": {
    "pycharm": {
     "name": "#%% md\n"
    }
   },
   "source": [
    "#### Сохранение результатов"
   ]
  },
  {
   "cell_type": "code",
   "execution_count": 236,
   "metadata": {
    "pycharm": {
     "name": "#%%\n"
    }
   },
   "outputs": [],
   "source": [
    "submission = pd.DataFrame(df_test['id'])\n",
    "submission['smoking'] = (df_test.baseline_cat_score > 0.4988) * 1\n",
    "submission.to_csv('Cat_ACW_GPU_drop9F_THRSH04988.csv', index=False)"
   ]
  },
  {
   "cell_type": "code",
   "execution_count": 237,
   "metadata": {
    "pycharm": {
     "name": "#%%\n"
    }
   },
   "outputs": [
    {
     "data": {
      "text/plain": "0.3692359474924268"
     },
     "execution_count": 237,
     "metadata": {},
     "output_type": "execute_result"
    }
   ],
   "source": [
    "submission.smoking.mean()"
   ]
  },
  {
   "cell_type": "code",
   "execution_count": 214,
   "metadata": {
    "pycharm": {
     "name": "#%%\n"
    }
   },
   "outputs": [
    {
     "data": {
      "text/plain": "      id  smoking\n0  19200        1\n1   7784        0\n2  11682        0\n3   9949        0\n4   9378        1",
      "text/html": "<div>\n<style scoped>\n    .dataframe tbody tr th:only-of-type {\n        vertical-align: middle;\n    }\n\n    .dataframe tbody tr th {\n        vertical-align: top;\n    }\n\n    .dataframe thead th {\n        text-align: right;\n    }\n</style>\n<table border=\"1\" class=\"dataframe\">\n  <thead>\n    <tr style=\"text-align: right;\">\n      <th></th>\n      <th>id</th>\n      <th>smoking</th>\n    </tr>\n  </thead>\n  <tbody>\n    <tr>\n      <th>0</th>\n      <td>19200</td>\n      <td>1</td>\n    </tr>\n    <tr>\n      <th>1</th>\n      <td>7784</td>\n      <td>0</td>\n    </tr>\n    <tr>\n      <th>2</th>\n      <td>11682</td>\n      <td>0</td>\n    </tr>\n    <tr>\n      <th>3</th>\n      <td>9949</td>\n      <td>0</td>\n    </tr>\n    <tr>\n      <th>4</th>\n      <td>9378</td>\n      <td>1</td>\n    </tr>\n  </tbody>\n</table>\n</div>"
     },
     "execution_count": 214,
     "metadata": {},
     "output_type": "execute_result"
    }
   ],
   "source": [
    "submission.head()"
   ]
  },
  {
   "cell_type": "markdown",
   "metadata": {
    "pycharm": {
     "name": "#%% md\n"
    }
   },
   "source": [
    "**Kaggle result:** 0.43889 - 0.501(36.4%), 0.43882 - 0.5012(36.33) надо пробовать меньше"
   ]
  },
  {
   "cell_type": "markdown",
   "metadata": {
    "pycharm": {
     "name": "#%% md\n"
    }
   },
   "source": [
    "## Catboost CV + ACW + GPU + Drop features"
   ]
  },
  {
   "cell_type": "code",
   "execution_count": null,
   "metadata": {
    "pycharm": {
     "name": "#%%\n"
    }
   },
   "outputs": [],
   "source": [
    "parameters = {'eval_metric': 'F1',\n",
    "              'loss_function': 'Logloss',\n",
    "              'random_seed': 659,\n",
    "              'iterations': 1000,\n",
    "              'task_type': 'GPU',\n",
    "              'auto_class_weights': 'Balanced'}"
   ]
  },
  {
   "cell_type": "code",
   "execution_count": null,
   "metadata": {
    "pycharm": {
     "name": "#%%\n"
    }
   },
   "outputs": [],
   "source": [
    "%%time\n",
    "cv_data = cv(\n",
    "    params=parameters,\n",
    "    pool=full_data,\n",
    "    fold_count=5,\n",
    "    shuffle=True,\n",
    "    partition_random_seed=0,\n",
    "    stratified=False,\n",
    "    verbose=False,\n",
    "    plot=True\n",
    ")"
   ]
  },
  {
   "cell_type": "code",
   "execution_count": null,
   "metadata": {
    "pycharm": {
     "name": "#%%\n"
    }
   },
   "outputs": [],
   "source": [
    "best_value = np.max(cv_data['test-F1-mean'])\n",
    "best_iter = np.argmax(cv_data['test-F1-mean']) + 1"
   ]
  },
  {
   "cell_type": "code",
   "execution_count": null,
   "metadata": {
    "pycharm": {
     "name": "#%%\n"
    }
   },
   "outputs": [],
   "source": [
    "best_iter, best_value"
   ]
  },
  {
   "cell_type": "markdown",
   "metadata": {
    "pycharm": {
     "name": "#%% md\n"
    }
   },
   "source": [
    "### Best iteration\n",
    "Обучение на всех данных:"
   ]
  },
  {
   "cell_type": "code",
   "execution_count": null,
   "metadata": {
    "pycharm": {
     "name": "#%%\n"
    }
   },
   "outputs": [],
   "source": [
    "parameters = {'eval_metric': 'F1',\n",
    "              'loss_function': 'Logloss',\n",
    "              'random_seed': 659,\n",
    "              'iterations': best_iter,\n",
    "              'verbose': 100,\n",
    "              'task_type': 'GPU',\n",
    "              'auto_class_weights': 'Balanced'}"
   ]
  },
  {
   "cell_type": "code",
   "execution_count": null,
   "metadata": {
    "pycharm": {
     "name": "#%%\n"
    }
   },
   "outputs": [],
   "source": [
    "model = CatBoostClassifier(**parameters)"
   ]
  },
  {
   "cell_type": "code",
   "execution_count": null,
   "metadata": {
    "pycharm": {
     "name": "#%%\n"
    }
   },
   "outputs": [],
   "source": [
    "%%time\n",
    "model.fit(full_data, plot=True)"
   ]
  },
  {
   "cell_type": "markdown",
   "metadata": {
    "pycharm": {
     "name": "#%% md\n"
    }
   },
   "source": [
    "### Feature importance"
   ]
  },
  {
   "cell_type": "code",
   "execution_count": null,
   "metadata": {
    "pycharm": {
     "name": "#%%\n"
    }
   },
   "outputs": [],
   "source": [
    "model.get_feature_importance(prettified=True)"
   ]
  },
  {
   "cell_type": "code",
   "execution_count": null,
   "metadata": {
    "pycharm": {
     "name": "#%%\n"
    }
   },
   "outputs": [],
   "source": [
    "model.get_params()"
   ]
  },
  {
   "cell_type": "code",
   "execution_count": null,
   "metadata": {
    "pycharm": {
     "name": "#%%\n"
    }
   },
   "outputs": [],
   "source": [
    "model.get_all_params()"
   ]
  },
  {
   "cell_type": "markdown",
   "metadata": {
    "pycharm": {
     "name": "#%% md\n"
    }
   },
   "source": [
    "### Прогноз"
   ]
  },
  {
   "cell_type": "markdown",
   "metadata": {
    "pycharm": {
     "name": "#%% md\n"
    }
   },
   "source": [
    "Создаю колонку для baseline catboost скора"
   ]
  },
  {
   "cell_type": "code",
   "execution_count": null,
   "metadata": {
    "pycharm": {
     "name": "#%%\n"
    }
   },
   "outputs": [],
   "source": [
    "df_test['baseline_cat_cv_score'] = model.predict_proba(df_test_copy)[:, 1]"
   ]
  },
  {
   "cell_type": "code",
   "execution_count": null,
   "metadata": {
    "pycharm": {
     "name": "#%%\n"
    }
   },
   "outputs": [],
   "source": [
    "df_test.baseline_cat_cv_score.head()"
   ]
  },
  {
   "cell_type": "code",
   "execution_count": null,
   "metadata": {
    "pycharm": {
     "name": "#%%\n"
    }
   },
   "outputs": [],
   "source": [
    "df_test.baseline_cat_cv_score.hist();"
   ]
  },
  {
   "cell_type": "markdown",
   "metadata": {
    "pycharm": {
     "name": "#%% md\n"
    }
   },
   "source": [
    "По порогу 0.5 вероятность ≈3.2%"
   ]
  },
  {
   "cell_type": "code",
   "execution_count": null,
   "metadata": {
    "pycharm": {
     "name": "#%%\n"
    }
   },
   "outputs": [],
   "source": [
    "((df_test.baseline_cat_cv_score > 0.5) * 1).mean()"
   ]
  },
  {
   "cell_type": "code",
   "execution_count": null,
   "metadata": {
    "pycharm": {
     "name": "#%%\n"
    }
   },
   "outputs": [],
   "source": [
    "df_test['baseline_cat_cv_pred'] = (df_test.baseline_cat_cv_score > 0.5) * 1"
   ]
  },
  {
   "cell_type": "code",
   "execution_count": null,
   "metadata": {
    "pycharm": {
     "name": "#%%\n"
    }
   },
   "outputs": [],
   "source": [
    "df_test.head()"
   ]
  },
  {
   "cell_type": "markdown",
   "metadata": {
    "pycharm": {
     "name": "#%% md\n"
    }
   },
   "source": [
    "### Сохранение результатов"
   ]
  },
  {
   "cell_type": "code",
   "execution_count": null,
   "metadata": {
    "pycharm": {
     "name": "#%%\n"
    }
   },
   "outputs": [],
   "source": [
    "submission = pd.DataFrame(df_test['id'])\n",
    "submission['smoking'] = df_test.baseline_cat_cv_pred\n",
    "submission.to_csv('Cat_CV_ACW_GPU.csv', index=False)"
   ]
  },
  {
   "cell_type": "code",
   "execution_count": null,
   "metadata": {
    "pycharm": {
     "name": "#%%\n"
    }
   },
   "outputs": [],
   "source": [
    "submission.smoking.mean()"
   ]
  },
  {
   "cell_type": "code",
   "execution_count": null,
   "metadata": {
    "pycharm": {
     "name": "#%%\n"
    }
   },
   "outputs": [],
   "source": [
    "submission.head()"
   ]
  },
  {
   "cell_type": "markdown",
   "metadata": {
    "pycharm": {
     "name": "#%% md\n"
    }
   },
   "source": [
    "**Kaggle result:** 0.42672 ↓"
   ]
  },
  {
   "cell_type": "markdown",
   "metadata": {
    "pycharm": {
     "name": "#%% md\n"
    }
   },
   "source": [
    "#### Изменяю порог до 0.45"
   ]
  },
  {
   "cell_type": "code",
   "execution_count": null,
   "metadata": {
    "pycharm": {
     "name": "#%%\n"
    }
   },
   "outputs": [],
   "source": [
    "((df_test.baseline_cat_cv_score > 0.45) * 1).mean()"
   ]
  },
  {
   "cell_type": "code",
   "execution_count": null,
   "metadata": {
    "pycharm": {
     "name": "#%%\n"
    }
   },
   "outputs": [],
   "source": [
    "submission = pd.DataFrame(df_test['id'])\n",
    "submission['smoking'] = (df_test.baseline_cat_cv_score > 0.45) * 1\n",
    "submission.to_csv('Cat_CV_GPU_Drop9F_THRS045_LR_auto.csv', index=False)"
   ]
  },
  {
   "cell_type": "code",
   "execution_count": null,
   "metadata": {
    "pycharm": {
     "name": "#%%\n"
    }
   },
   "outputs": [],
   "source": [
    "submission.smoking.mean()"
   ]
  },
  {
   "cell_type": "code",
   "execution_count": null,
   "metadata": {
    "pycharm": {
     "name": "#%%\n"
    }
   },
   "outputs": [],
   "source": [
    "submission.head()"
   ]
  },
  {
   "cell_type": "markdown",
   "metadata": {
    "pycharm": {
     "name": "#%% md\n"
    }
   },
   "source": [
    "**Kaggle result:** 0.43046"
   ]
  },
  {
   "cell_type": "code",
   "execution_count": null,
   "metadata": {
    "pycharm": {
     "name": "#%%\n"
    }
   },
   "outputs": [],
   "source": []
  },
  {
   "cell_type": "markdown",
   "metadata": {
    "pycharm": {
     "name": "#%% md\n"
    }
   },
   "source": [
    "## Grid Search"
   ]
  },
  {
   "cell_type": "code",
   "execution_count": null,
   "metadata": {
    "pycharm": {
     "name": "#%%\n"
    }
   },
   "outputs": [],
   "source": []
  },
  {
   "cell_type": "code",
   "execution_count": 36,
   "metadata": {
    "pycharm": {
     "name": "#%%\n"
    }
   },
   "outputs": [],
   "source": [
    "parameters = {'cat_features': cat_features,\n",
    "              'eval_metric': 'F1',\n",
    "              'loss_function': 'Logloss',\n",
    "              'random_seed': 659,\n",
    "              'verbose': 100,\n",
    "              'auto_class_weights': 'Balanced',\n",
    "              'task_type': 'GPU',\n",
    "              'iterations': 1000}"
   ]
  },
  {
   "cell_type": "code",
   "execution_count": 37,
   "metadata": {
    "pycharm": {
     "name": "#%%\n"
    }
   },
   "outputs": [],
   "source": [
    "model = CatBoostClassifier(**parameters)"
   ]
  },
  {
   "cell_type": "code",
   "execution_count": null,
   "metadata": {
    "pycharm": {
     "name": "#%%\n"
    }
   },
   "outputs": [],
   "source": []
  },
  {
   "cell_type": "code",
   "execution_count": 38,
   "metadata": {
    "pycharm": {
     "name": "#%%\n"
    }
   },
   "outputs": [],
   "source": [
    "pool = Pool(data=X_train, label=y_train, cat_features=cat_features)\n",
    "model = CatBoostClassifier(**parameters)\n",
    "grid = {'learning_rate': [0.01, 0.02, 0.03, 0.04, 0.05, 0.058056, 0.07, 0.09, 0.11]}"
   ]
  },
  {
   "cell_type": "code",
   "execution_count": 39,
   "metadata": {
    "pycharm": {
     "name": "#%%\n"
    }
   },
   "outputs": [
    {
     "data": {
      "application/vnd.jupyter.widget-view+json": {
       "model_id": "d300a5ff22344dd08f5d6865a8818520",
       "version_major": 2,
       "version_minor": 0
      },
      "text/plain": [
       "MetricVisualizer(layout=Layout(align_self='stretch', height='500px'))"
      ]
     },
     "metadata": {},
     "output_type": "display_data"
    },
    {
     "name": "stdout",
     "output_type": "stream",
     "text": [
      "0:\tlearn: 0.6259845\ttest: 0.6162343\tbest: 0.6162343 (0)\ttotal: 42.6ms\tremaining: 42.6s\n",
      "100:\tlearn: 0.6550649\ttest: 0.6417504\tbest: 0.6463828 (69)\ttotal: 3.54s\tremaining: 31.6s\n",
      "200:\tlearn: 0.6794246\ttest: 0.6402141\tbest: 0.6507105 (147)\ttotal: 6.96s\tremaining: 27.7s\n",
      "300:\tlearn: 0.6914074\ttest: 0.6431730\tbest: 0.6507105 (147)\ttotal: 10.4s\tremaining: 24.2s\n",
      "400:\tlearn: 0.6981537\ttest: 0.6415683\tbest: 0.6507105 (147)\ttotal: 13.9s\tremaining: 20.7s\n",
      "500:\tlearn: 0.7081164\ttest: 0.6375672\tbest: 0.6507105 (147)\ttotal: 17.4s\tremaining: 17.3s\n",
      "600:\tlearn: 0.7201681\ttest: 0.6373807\tbest: 0.6507105 (147)\ttotal: 20.7s\tremaining: 13.8s\n",
      "700:\tlearn: 0.7285397\ttest: 0.6355422\tbest: 0.6507105 (147)\ttotal: 24.1s\tremaining: 10.3s\n",
      "800:\tlearn: 0.7348129\ttest: 0.6379784\tbest: 0.6507105 (147)\ttotal: 27.6s\tremaining: 6.86s\n",
      "900:\tlearn: 0.7384330\ttest: 0.6341604\tbest: 0.6507105 (147)\ttotal: 31.1s\tremaining: 3.41s\n",
      "999:\tlearn: 0.7414857\ttest: 0.6317190\tbest: 0.6507105 (147)\ttotal: 34.5s\tremaining: 0us\n",
      "bestTest = 0.6507104661\n",
      "bestIteration = 147\n",
      "0:\tloss: 0.6507105\tbest: 0.6507105 (0)\ttotal: 34.6s\tremaining: 4m 37s\n",
      "0:\tlearn: 0.6259845\ttest: 0.6162343\tbest: 0.6162343 (0)\ttotal: 36.9ms\tremaining: 36.8s\n",
      "100:\tlearn: 0.6725893\ttest: 0.6465672\tbest: 0.6486394 (94)\ttotal: 3.48s\tremaining: 31s\n",
      "200:\tlearn: 0.6973125\ttest: 0.6540681\tbest: 0.6542556 (199)\ttotal: 6.84s\tremaining: 27.2s\n",
      "300:\tlearn: 0.7175161\ttest: 0.6393202\tbest: 0.6542556 (199)\ttotal: 10.3s\tremaining: 23.8s\n",
      "400:\tlearn: 0.7310482\ttest: 0.6405655\tbest: 0.6542556 (199)\ttotal: 13.6s\tremaining: 20.3s\n",
      "500:\tlearn: 0.7405217\ttest: 0.6394869\tbest: 0.6542556 (199)\ttotal: 16.9s\tremaining: 16.8s\n",
      "600:\tlearn: 0.7484657\ttest: 0.6411924\tbest: 0.6542556 (199)\ttotal: 20.2s\tremaining: 13.4s\n",
      "700:\tlearn: 0.7536920\ttest: 0.6417008\tbest: 0.6542556 (199)\ttotal: 23.6s\tremaining: 10.1s\n",
      "800:\tlearn: 0.7579919\ttest: 0.6366414\tbest: 0.6542556 (199)\ttotal: 26.9s\tremaining: 6.69s\n",
      "900:\tlearn: 0.7636410\ttest: 0.6333261\tbest: 0.6542556 (199)\ttotal: 30.3s\tremaining: 3.33s\n",
      "999:\tlearn: 0.7670580\ttest: 0.6357107\tbest: 0.6542556 (199)\ttotal: 33.7s\tremaining: 0us\n",
      "bestTest = 0.6542556409\n",
      "bestIteration = 199\n",
      "1:\tloss: 0.6542556\tbest: 0.6542556 (1)\ttotal: 1m 8s\tremaining: 3m 59s\n",
      "0:\tlearn: 0.6259845\ttest: 0.6162343\tbest: 0.6162343 (0)\ttotal: 39.1ms\tremaining: 39.1s\n",
      "100:\tlearn: 0.6892656\ttest: 0.6446628\tbest: 0.6510818 (63)\ttotal: 3.47s\tremaining: 30.9s\n",
      "200:\tlearn: 0.7149124\ttest: 0.6428171\tbest: 0.6559254 (141)\ttotal: 6.94s\tremaining: 27.6s\n",
      "300:\tlearn: 0.7322999\ttest: 0.6394869\tbest: 0.6559254 (141)\ttotal: 10.4s\tremaining: 24.1s\n",
      "400:\tlearn: 0.7422012\ttest: 0.6381314\tbest: 0.6559254 (141)\ttotal: 13.8s\tremaining: 20.7s\n",
      "500:\tlearn: 0.7561958\ttest: 0.6370232\tbest: 0.6559254 (141)\ttotal: 17.2s\tremaining: 17.2s\n",
      "600:\tlearn: 0.7616383\ttest: 0.6330408\tbest: 0.6559254 (141)\ttotal: 20.7s\tremaining: 13.7s\n",
      "700:\tlearn: 0.7675650\ttest: 0.6266938\tbest: 0.6559254 (141)\ttotal: 24.2s\tremaining: 10.3s\n",
      "800:\tlearn: 0.7771204\ttest: 0.6254979\tbest: 0.6559254 (141)\ttotal: 27.5s\tremaining: 6.84s\n",
      "900:\tlearn: 0.7854357\ttest: 0.6301422\tbest: 0.6559254 (141)\ttotal: 30.9s\tremaining: 3.39s\n",
      "999:\tlearn: 0.7889094\ttest: 0.6276088\tbest: 0.6559254 (141)\ttotal: 34.3s\tremaining: 0us\n",
      "bestTest = 0.6559254239\n",
      "bestIteration = 141\n",
      "2:\tloss: 0.6559254\tbest: 0.6559254 (2)\ttotal: 1m 42s\tremaining: 3m 25s\n",
      "0:\tlearn: 0.6259845\ttest: 0.6162343\tbest: 0.6162343 (0)\ttotal: 35.1ms\tremaining: 35s\n",
      "100:\tlearn: 0.7014469\ttest: 0.6465787\tbest: 0.6479693 (62)\ttotal: 3.47s\tremaining: 30.9s\n",
      "200:\tlearn: 0.7316407\ttest: 0.6373374\tbest: 0.6486801 (101)\ttotal: 6.87s\tremaining: 27.3s\n",
      "300:\tlearn: 0.7468914\ttest: 0.6352046\tbest: 0.6486801 (101)\ttotal: 10.2s\tremaining: 23.6s\n",
      "400:\tlearn: 0.7568371\ttest: 0.6296128\tbest: 0.6486801 (101)\ttotal: 13.5s\tremaining: 20.2s\n",
      "500:\tlearn: 0.7654131\ttest: 0.6286363\tbest: 0.6486801 (101)\ttotal: 16.9s\tremaining: 16.8s\n",
      "600:\tlearn: 0.7789051\ttest: 0.6253067\tbest: 0.6486801 (101)\ttotal: 20.2s\tremaining: 13.4s\n",
      "700:\tlearn: 0.7864723\ttest: 0.6365064\tbest: 0.6486801 (101)\ttotal: 23.6s\tremaining: 10.1s\n",
      "800:\tlearn: 0.7980647\ttest: 0.6313001\tbest: 0.6486801 (101)\ttotal: 26.9s\tremaining: 6.69s\n",
      "900:\tlearn: 0.8112264\ttest: 0.6292363\tbest: 0.6486801 (101)\ttotal: 30.3s\tremaining: 3.33s\n",
      "999:\tlearn: 0.8177085\ttest: 0.6266739\tbest: 0.6486801 (101)\ttotal: 33.6s\tremaining: 0us\n",
      "bestTest = 0.6486800797\n",
      "bestIteration = 101\n",
      "3:\tloss: 0.6486801\tbest: 0.6559254 (2)\ttotal: 2m 16s\tremaining: 2m 50s\n",
      "0:\tlearn: 0.6259845\ttest: 0.6162343\tbest: 0.6162343 (0)\ttotal: 36.5ms\tremaining: 36.4s\n",
      "100:\tlearn: 0.7057477\ttest: 0.6379405\tbest: 0.6504041 (65)\ttotal: 3.41s\tremaining: 30.4s\n",
      "200:\tlearn: 0.7350516\ttest: 0.6296593\tbest: 0.6504041 (65)\ttotal: 6.78s\tremaining: 26.9s\n",
      "300:\tlearn: 0.7545190\ttest: 0.6254184\tbest: 0.6504041 (65)\ttotal: 10.1s\tremaining: 23.5s\n",
      "400:\tlearn: 0.7623137\ttest: 0.6312327\tbest: 0.6504041 (65)\ttotal: 13.5s\tremaining: 20.1s\n",
      "500:\tlearn: 0.7729458\ttest: 0.6244792\tbest: 0.6504041 (65)\ttotal: 16.9s\tremaining: 16.9s\n",
      "600:\tlearn: 0.7859532\ttest: 0.6292632\tbest: 0.6504041 (65)\ttotal: 20.4s\tremaining: 13.5s\n",
      "700:\tlearn: 0.7967427\ttest: 0.6208096\tbest: 0.6504041 (65)\ttotal: 23.9s\tremaining: 10.2s\n",
      "800:\tlearn: 0.8125524\ttest: 0.6106719\tbest: 0.6504041 (65)\ttotal: 27.4s\tremaining: 6.8s\n",
      "900:\tlearn: 0.8215811\ttest: 0.6087722\tbest: 0.6504041 (65)\ttotal: 30.7s\tremaining: 3.38s\n",
      "999:\tlearn: 0.8266365\ttest: 0.6066512\tbest: 0.6504041 (65)\ttotal: 34.1s\tremaining: 0us\n",
      "bestTest = 0.6504041223\n",
      "bestIteration = 65\n",
      "4:\tloss: 0.6504041\tbest: 0.6559254 (2)\ttotal: 2m 50s\tremaining: 2m 16s\n",
      "0:\tlearn: 0.6259845\ttest: 0.6162343\tbest: 0.6162343 (0)\ttotal: 34.5ms\tremaining: 34.5s\n",
      "100:\tlearn: 0.7148617\ttest: 0.6401892\tbest: 0.6486434 (64)\ttotal: 3.4s\tremaining: 30.3s\n",
      "200:\tlearn: 0.7423767\ttest: 0.6348263\tbest: 0.6486434 (64)\ttotal: 6.77s\tremaining: 26.9s\n",
      "300:\tlearn: 0.7596126\ttest: 0.6181651\tbest: 0.6486434 (64)\ttotal: 10.1s\tremaining: 23.5s\n",
      "400:\tlearn: 0.7679595\ttest: 0.6276479\tbest: 0.6486434 (64)\ttotal: 13.5s\tremaining: 20.1s\n",
      "500:\tlearn: 0.7787766\ttest: 0.6262639\tbest: 0.6486434 (64)\ttotal: 16.9s\tremaining: 16.8s\n",
      "600:\tlearn: 0.7859532\ttest: 0.6192766\tbest: 0.6486434 (64)\ttotal: 20.3s\tremaining: 13.4s\n",
      "700:\tlearn: 0.8007058\ttest: 0.6176728\tbest: 0.6486434 (64)\ttotal: 23.7s\tremaining: 10.1s\n",
      "800:\tlearn: 0.8120652\ttest: 0.6227947\tbest: 0.6486434 (64)\ttotal: 27.2s\tremaining: 6.76s\n",
      "900:\tlearn: 0.8237929\ttest: 0.6223259\tbest: 0.6486434 (64)\ttotal: 30.7s\tremaining: 3.38s\n",
      "999:\tlearn: 0.8323297\ttest: 0.6110881\tbest: 0.6486434 (64)\ttotal: 34s\tremaining: 0us\n",
      "bestTest = 0.6486433532\n",
      "bestIteration = 64\n",
      "5:\tloss: 0.6486434\tbest: 0.6559254 (2)\ttotal: 3m 24s\tremaining: 1m 42s\n",
      "0:\tlearn: 0.6259845\ttest: 0.6162343\tbest: 0.6162343 (0)\ttotal: 34.9ms\tremaining: 34.9s\n",
      "100:\tlearn: 0.7151695\ttest: 0.6383141\tbest: 0.6424421 (96)\ttotal: 3.33s\tremaining: 29.6s\n",
      "200:\tlearn: 0.7487834\ttest: 0.6235409\tbest: 0.6430047 (103)\ttotal: 6.71s\tremaining: 26.7s\n",
      "300:\tlearn: 0.7754405\ttest: 0.6230213\tbest: 0.6430047 (103)\ttotal: 10.1s\tremaining: 23.5s\n",
      "400:\tlearn: 0.7942812\ttest: 0.6123315\tbest: 0.6430047 (103)\ttotal: 13.7s\tremaining: 20.5s\n",
      "500:\tlearn: 0.8097165\ttest: 0.6085757\tbest: 0.6430047 (103)\ttotal: 17.2s\tremaining: 17.1s\n",
      "600:\tlearn: 0.8263083\ttest: 0.5980277\tbest: 0.6430047 (103)\ttotal: 20.7s\tremaining: 13.7s\n",
      "700:\tlearn: 0.8400111\ttest: 0.6099214\tbest: 0.6430047 (103)\ttotal: 24.3s\tremaining: 10.3s\n",
      "800:\tlearn: 0.8493434\ttest: 0.6139845\tbest: 0.6430047 (103)\ttotal: 27.9s\tremaining: 6.94s\n",
      "900:\tlearn: 0.8649080\ttest: 0.6089727\tbest: 0.6430047 (103)\ttotal: 31.6s\tremaining: 3.47s\n",
      "999:\tlearn: 0.8742828\ttest: 0.6058314\tbest: 0.6430047 (103)\ttotal: 35s\tremaining: 0us\n",
      "bestTest = 0.6430046961\n",
      "bestIteration = 103\n",
      "6:\tloss: 0.6430047\tbest: 0.6559254 (2)\ttotal: 3m 59s\tremaining: 1m 8s\n",
      "0:\tlearn: 0.6259845\ttest: 0.6162343\tbest: 0.6162343 (0)\ttotal: 35.2ms\tremaining: 35.2s\n",
      "100:\tlearn: 0.7305752\ttest: 0.6340616\tbest: 0.6464360 (23)\ttotal: 3.59s\tremaining: 32s\n",
      "200:\tlearn: 0.7669815\ttest: 0.6290451\tbest: 0.6464360 (23)\ttotal: 7.01s\tremaining: 27.9s\n",
      "300:\tlearn: 0.7874179\ttest: 0.6269578\tbest: 0.6464360 (23)\ttotal: 10.4s\tremaining: 24.2s\n",
      "400:\tlearn: 0.8034032\ttest: 0.6223739\tbest: 0.6464360 (23)\ttotal: 13.8s\tremaining: 20.6s\n",
      "500:\tlearn: 0.8197766\ttest: 0.6170961\tbest: 0.6464360 (23)\ttotal: 17.1s\tremaining: 17.1s\n",
      "600:\tlearn: 0.8357748\ttest: 0.6160390\tbest: 0.6464360 (23)\ttotal: 20.5s\tremaining: 13.6s\n"
     ]
    },
    {
     "name": "stdout",
     "output_type": "stream",
     "text": [
      "700:\tlearn: 0.8484322\ttest: 0.6170806\tbest: 0.6464360 (23)\ttotal: 23.9s\tremaining: 10.2s\n",
      "800:\tlearn: 0.8625737\ttest: 0.6064279\tbest: 0.6464360 (23)\ttotal: 27.3s\tremaining: 6.79s\n",
      "900:\tlearn: 0.8733962\ttest: 0.5958273\tbest: 0.6464360 (23)\ttotal: 30.7s\tremaining: 3.38s\n",
      "999:\tlearn: 0.8834748\ttest: 0.5812656\tbest: 0.6464360 (23)\ttotal: 34.1s\tremaining: 0us\n",
      "bestTest = 0.6464359949\n",
      "bestIteration = 23\n",
      "7:\tloss: 0.6464360\tbest: 0.6559254 (2)\ttotal: 4m 33s\tremaining: 34.2s\n",
      "0:\tlearn: 0.6259845\ttest: 0.6162343\tbest: 0.6162343 (0)\ttotal: 34.3ms\tremaining: 34.3s\n",
      "100:\tlearn: 0.7455180\ttest: 0.6186470\tbest: 0.6386032 (14)\ttotal: 3.43s\tremaining: 30.5s\n",
      "200:\tlearn: 0.7775528\ttest: 0.5972216\tbest: 0.6386032 (14)\ttotal: 6.96s\tremaining: 27.7s\n",
      "300:\tlearn: 0.7982462\ttest: 0.6032677\tbest: 0.6386032 (14)\ttotal: 10.7s\tremaining: 24.8s\n",
      "400:\tlearn: 0.8233798\ttest: 0.6028031\tbest: 0.6386032 (14)\ttotal: 14.2s\tremaining: 21.2s\n",
      "500:\tlearn: 0.8410121\ttest: 0.5884716\tbest: 0.6386032 (14)\ttotal: 17.7s\tremaining: 17.6s\n",
      "600:\tlearn: 0.8616243\ttest: 0.5777540\tbest: 0.6386032 (14)\ttotal: 21.1s\tremaining: 14s\n",
      "700:\tlearn: 0.8728948\ttest: 0.5787581\tbest: 0.6386032 (14)\ttotal: 24.5s\tremaining: 10.5s\n",
      "800:\tlearn: 0.8819956\ttest: 0.5692481\tbest: 0.6386032 (14)\ttotal: 27.9s\tremaining: 6.93s\n",
      "900:\tlearn: 0.8931700\ttest: 0.5603471\tbest: 0.6386032 (14)\ttotal: 31.3s\tremaining: 3.44s\n",
      "999:\tlearn: 0.9008210\ttest: 0.5620545\tbest: 0.6386032 (14)\ttotal: 34.6s\tremaining: 0us\n",
      "bestTest = 0.638603246\n",
      "bestIteration = 14\n",
      "8:\tloss: 0.6386032\tbest: 0.6559254 (2)\ttotal: 5m 8s\tremaining: 0us\n",
      "Estimating final quality...\n",
      "Training on fold [0/3]\n",
      "0:\tlearn: 0.6144003\ttest: 0.6105853\tbest: 0.6105853 (0)\ttotal: 34.8ms\tremaining: 34.7s\n",
      "100:\tlearn: 0.6924268\ttest: 0.6342653\tbest: 0.6342653 (92)\ttotal: 3.46s\tremaining: 30.8s\n",
      "200:\tlearn: 0.7223699\ttest: 0.6390125\tbest: 0.6414551 (162)\ttotal: 6.8s\tremaining: 27s\n",
      "300:\tlearn: 0.7391124\ttest: 0.6329136\tbest: 0.6458702 (253)\ttotal: 10.2s\tremaining: 23.6s\n",
      "400:\tlearn: 0.7533111\ttest: 0.6309663\tbest: 0.6458702 (253)\ttotal: 13.5s\tremaining: 20.2s\n",
      "500:\tlearn: 0.7692369\ttest: 0.6216309\tbest: 0.6458702 (253)\ttotal: 16.9s\tremaining: 16.9s\n",
      "600:\tlearn: 0.7786976\ttest: 0.6151374\tbest: 0.6458702 (253)\ttotal: 20.3s\tremaining: 13.5s\n",
      "700:\tlearn: 0.7879421\ttest: 0.6060092\tbest: 0.6458702 (253)\ttotal: 23.8s\tremaining: 10.1s\n",
      "800:\tlearn: 0.7986541\ttest: 0.6037006\tbest: 0.6458702 (253)\ttotal: 27.2s\tremaining: 6.75s\n",
      "900:\tlearn: 0.8076419\ttest: 0.6106766\tbest: 0.6458702 (253)\ttotal: 30.6s\tremaining: 3.36s\n",
      "999:\tlearn: 0.8134321\ttest: 0.6070096\tbest: 0.6458702 (253)\ttotal: 33.9s\tremaining: 0us\n",
      "bestTest = 0.6458702345\n",
      "bestIteration = 253\n",
      "Training on fold [1/3]\n",
      "0:\tlearn: 0.6583927\ttest: 0.6411658\tbest: 0.6411658 (0)\ttotal: 35.3ms\tremaining: 35.3s\n",
      "100:\tlearn: 0.6854529\ttest: 0.6205169\tbest: 0.6411658 (0)\ttotal: 3.42s\tremaining: 30.4s\n",
      "200:\tlearn: 0.7150174\ttest: 0.6234435\tbest: 0.6411658 (0)\ttotal: 6.8s\tremaining: 27s\n",
      "300:\tlearn: 0.7336195\ttest: 0.6144210\tbest: 0.6411658 (0)\ttotal: 10.2s\tremaining: 23.6s\n",
      "400:\tlearn: 0.7513391\ttest: 0.6135835\tbest: 0.6411658 (0)\ttotal: 13.6s\tremaining: 20.3s\n",
      "500:\tlearn: 0.7654143\ttest: 0.6081632\tbest: 0.6411658 (0)\ttotal: 17.1s\tremaining: 17s\n",
      "600:\tlearn: 0.7804670\ttest: 0.6105105\tbest: 0.6411658 (0)\ttotal: 20.5s\tremaining: 13.6s\n",
      "700:\tlearn: 0.7943001\ttest: 0.6023791\tbest: 0.6411658 (0)\ttotal: 24.4s\tremaining: 10.4s\n",
      "800:\tlearn: 0.8059410\ttest: 0.6029270\tbest: 0.6411658 (0)\ttotal: 28.2s\tremaining: 7.01s\n",
      "900:\tlearn: 0.8123402\ttest: 0.5994359\tbest: 0.6411658 (0)\ttotal: 32.1s\tremaining: 3.52s\n",
      "999:\tlearn: 0.8187687\ttest: 0.5906063\tbest: 0.6411658 (0)\ttotal: 35.8s\tremaining: 0us\n",
      "bestTest = 0.6411657541\n",
      "bestIteration = 0\n",
      "Training on fold [2/3]\n",
      "0:\tlearn: 0.6546903\ttest: 0.6416278\tbest: 0.6416278 (0)\ttotal: 35.2ms\tremaining: 35.2s\n",
      "100:\tlearn: 0.6947552\ttest: 0.6143258\tbest: 0.6416278 (0)\ttotal: 3.63s\tremaining: 32.3s\n",
      "200:\tlearn: 0.7169086\ttest: 0.6225894\tbest: 0.6416278 (0)\ttotal: 7.5s\tremaining: 29.8s\n",
      "300:\tlearn: 0.7348637\ttest: 0.6078387\tbest: 0.6416278 (0)\ttotal: 11.2s\tremaining: 26s\n",
      "400:\tlearn: 0.7476603\ttest: 0.6023040\tbest: 0.6416278 (0)\ttotal: 14.8s\tremaining: 22s\n",
      "500:\tlearn: 0.7554881\ttest: 0.6028385\tbest: 0.6416278 (0)\ttotal: 18.2s\tremaining: 18.1s\n",
      "600:\tlearn: 0.7684408\ttest: 0.5964638\tbest: 0.6416278 (0)\ttotal: 21.6s\tremaining: 14.3s\n",
      "700:\tlearn: 0.7830088\ttest: 0.5910795\tbest: 0.6416278 (0)\ttotal: 25s\tremaining: 10.6s\n",
      "800:\tlearn: 0.7891473\ttest: 0.5883218\tbest: 0.6416278 (0)\ttotal: 28.3s\tremaining: 7.03s\n",
      "900:\tlearn: 0.7988776\ttest: 0.5833052\tbest: 0.6416278 (0)\ttotal: 31.7s\tremaining: 3.48s\n",
      "999:\tlearn: 0.8058516\ttest: 0.5863522\tbest: 0.6416278 (0)\ttotal: 35.1s\tremaining: 0us\n",
      "bestTest = 0.6416278124\n",
      "bestIteration = 0\n",
      "CPU times: total: 9min 22s\n",
      "Wall time: 7min 27s\n"
     ]
    }
   ],
   "source": [
    "%%time\n",
    "result = model.grid_search(grid, pool, plot=True)"
   ]
  },
  {
   "cell_type": "code",
   "execution_count": 40,
   "metadata": {
    "pycharm": {
     "name": "#%%\n"
    }
   },
   "outputs": [
    {
     "name": "stdout",
     "output_type": "stream",
     "text": [
      "Best parameters: {'learning_rate': 0.03}\n",
      "\n",
      "Mean MAE value on validation set per each iteration:\n",
      "[]\n"
     ]
    }
   ],
   "source": [
    "print('Best parameters: {}\\n'.format(result['params']))\n",
    "\n",
    "msg = 'Mean MAE value on validation set per each iteration:\\n{}'\n",
    "print(msg.format(np.round(result['cv_results']['test-MAE-mean'], 4)))"
   ]
  },
  {
   "cell_type": "code",
   "execution_count": null,
   "metadata": {
    "pycharm": {
     "name": "#%%\n"
    }
   },
   "outputs": [],
   "source": []
  },
  {
   "cell_type": "code",
   "execution_count": null,
   "metadata": {
    "pycharm": {
     "name": "#%%\n"
    }
   },
   "outputs": [],
   "source": []
  },
  {
   "cell_type": "code",
   "execution_count": null,
   "metadata": {
    "pycharm": {
     "name": "#%%\n"
    }
   },
   "outputs": [],
   "source": []
  },
  {
   "cell_type": "code",
   "execution_count": null,
   "metadata": {
    "pycharm": {
     "name": "#%%\n"
    }
   },
   "outputs": [],
   "source": [
    "pool = Pool(data=X_train, label=y_train, cat_features=cat_features)\n",
    "model = CatBoostClassifier(iterations=1000, eval_metric='F1', verbose = 100)\n",
    "grid = {'learning_rate': [0.01, 0.05, 0.1, 0.2, 0.3, 0.4, 0.5, 0.7]}"
   ]
  },
  {
   "cell_type": "code",
   "execution_count": null,
   "metadata": {
    "pycharm": {
     "name": "#%%\n"
    }
   },
   "outputs": [],
   "source": [
    "result = model.grid_search(grid, pool, plot=True)"
   ]
  },
  {
   "cell_type": "code",
   "execution_count": null,
   "metadata": {
    "pycharm": {
     "name": "#%%\n"
    }
   },
   "outputs": [],
   "source": [
    "pool = Pool(data=X_train, label=y_train, cat_features=cat_features)\n",
    "model = CatBoostClassifier(iterations=1000, eval_metric='F1', verbose = 100)\n",
    "grid = {'learning_rate': [0.3, 0.4, 0.5, 0.6, 0.7, 0.8, 0.9, 0.99]}"
   ]
  },
  {
   "cell_type": "code",
   "execution_count": null,
   "metadata": {
    "pycharm": {
     "name": "#%%\n"
    }
   },
   "outputs": [],
   "source": [
    "result = model.grid_search(grid, pool, plot=True)"
   ]
  },
  {
   "cell_type": "code",
   "execution_count": null,
   "metadata": {
    "pycharm": {
     "name": "#%%\n"
    }
   },
   "outputs": [],
   "source": []
  },
  {
   "cell_type": "code",
   "execution_count": null,
   "metadata": {
    "pycharm": {
     "name": "#%%\n"
    }
   },
   "outputs": [],
   "source": [
    "pool = Pool(data=X_train, label=y_train, cat_features=cat_features)\n",
    "model = CatBoostClassifier(iterations=1000, eval_metric='F1', verbose = 100, random_seed=659)\n",
    "grid = {'learning_rate': [0.4, 0.43, 0.45, 0.47, 0.5, 0.53, 0.55, 0.57]}"
   ]
  },
  {
   "cell_type": "code",
   "execution_count": null,
   "metadata": {
    "pycharm": {
     "name": "#%%\n"
    }
   },
   "outputs": [],
   "source": [
    "model.grid_search(grid, pool, plot=True)"
   ]
  },
  {
   "cell_type": "code",
   "execution_count": null,
   "metadata": {
    "pycharm": {
     "name": "#%%\n"
    }
   },
   "outputs": [],
   "source": [
    "model.get_params()"
   ]
  },
  {
   "cell_type": "code",
   "execution_count": null,
   "metadata": {
    "pycharm": {
     "name": "#%%\n"
    }
   },
   "outputs": [],
   "source": []
  },
  {
   "cell_type": "markdown",
   "metadata": {
    "pycharm": {
     "name": "#%% md\n"
    }
   },
   "source": [
    "## Catboost model comparison"
   ]
  },
  {
   "cell_type": "code",
   "execution_count": null,
   "metadata": {
    "pycharm": {
     "name": "#%%\n"
    }
   },
   "outputs": [],
   "source": [
    "%%time\n",
    "model1 = CatBoostClassifier(\n",
    "    learning_rate=0.05,\n",
    "    iterations=1000,\n",
    "    random_seed=659,\n",
    "    train_dir='learning_rate_0.05',\n",
    "    custom_metric=['F1', 'AUC']\n",
    ")\n",
    "\n",
    "model2 = CatBoostClassifier(\n",
    "    learning_rate=0.15,\n",
    "    iterations=1000,\n",
    "    random_seed=659,\n",
    "    train_dir='learning_rate_0.15',\n",
    "    custom_metric=['F1', 'AUC']\n",
    ")\n",
    "\n",
    "model3 = CatBoostClassifier(\n",
    "    learning_rate=0.25,\n",
    "    iterations=1000,\n",
    "    random_seed=659,\n",
    "    train_dir='learning_rate_0.25',\n",
    "    custom_metric=['F1', 'AUC']\n",
    ")\n",
    "\n",
    "model4 = CatBoostClassifier(\n",
    "    learning_rate=0.35,\n",
    "    iterations=1000,\n",
    "    random_seed=659,\n",
    "    train_dir='learning_rate_0.35',\n",
    "    custom_metric=['F1', 'AUC']\n",
    ")\n",
    "\n",
    "model5 = CatBoostClassifier(\n",
    "    learning_rate=0.47,\n",
    "    iterations=1000,\n",
    "    random_seed=659,\n",
    "    train_dir='learning_rate_0.47',\n",
    "    custom_metric=['F1', 'AUC']\n",
    ")\n",
    "\n",
    "model6 = CatBoostClassifier(\n",
    "    learning_rate=0.55,\n",
    "    iterations=1000,\n",
    "    random_seed=659,\n",
    "    train_dir='learning_rate_0.55',\n",
    "    custom_metric=['F1', 'AUC']\n",
    ")\n",
    "\n",
    "\n",
    "model1.fit(\n",
    "    X_train, y_train,\n",
    "    eval_set=(X_test, y_test),\n",
    "    cat_features=cat_features,\n",
    "    verbose=False\n",
    ")\n",
    "model2.fit(\n",
    "    X_train, y_train,\n",
    "    eval_set=(X_test, y_test),\n",
    "    cat_features=cat_features,\n",
    "    verbose=False\n",
    ")\n",
    "model3.fit(\n",
    "    X_train, y_train,\n",
    "    eval_set=(X_test, y_test),\n",
    "    cat_features=cat_features,\n",
    "    verbose=False\n",
    ")\n",
    "model4.fit(\n",
    "    X_train, y_train,\n",
    "    eval_set=(X_test, y_test),\n",
    "    cat_features=cat_features,\n",
    "    verbose=False\n",
    ")\n",
    "model5.fit(\n",
    "    X_train, y_train,\n",
    "    eval_set=(X_test, y_test),\n",
    "    cat_features=cat_features,\n",
    "    verbose=False\n",
    ")\n",
    "model6.fit(\n",
    "    X_train, y_train,\n",
    "    eval_set=(X_test, y_test),\n",
    "    cat_features=cat_features,\n",
    "    verbose=False\n",
    ")"
   ]
  },
  {
   "cell_type": "code",
   "execution_count": null,
   "metadata": {
    "pycharm": {
     "name": "#%%\n"
    }
   },
   "outputs": [],
   "source": [
    "%%time\n",
    "from catboost import MetricVisualizer\n",
    "\n",
    "MetricVisualizer(['learning_rate_0.05', 'learning_rate_0.15', 'learning_rate_0.25', 'learning_rate_0.35', 'learning_rate_0.47', 'learning_rate_0.55']).start()"
   ]
  },
  {
   "cell_type": "code",
   "execution_count": null,
   "metadata": {
    "pycharm": {
     "name": "#%%\n"
    }
   },
   "outputs": [],
   "source": []
  }
 ],
 "metadata": {
  "kernelspec": {
   "display_name": "Python 3 (ipykernel)",
   "language": "python",
   "name": "python3"
  },
  "language_info": {
   "codemirror_mode": {
    "name": "ipython",
    "version": 3
   },
   "file_extension": ".py",
   "mimetype": "text/x-python",
   "name": "python",
   "nbconvert_exporter": "python",
   "pygments_lexer": "ipython3",
   "version": "3.10.11"
  }
 },
 "nbformat": 4,
 "nbformat_minor": 1
}