{
 "cells": [
  {
   "cell_type": "markdown",
   "source": [
    "# Leopard challenge Regression"
   ],
   "metadata": {
    "collapsed": false
   }
  },
  {
   "cell_type": "markdown",
   "source": [
    "## Загрузка данных\n",
    "Данные беру из leopard-challenge-classification.zip\n",
    "https://drive.google.com/file/d/1OYjGYeYQzKI3mE02ymtkrbRJb5EurpL7/view?usp=sharing"
   ],
   "metadata": {
    "collapsed": false
   }
  },
  {
   "cell_type": "markdown",
   "source": [
    "# Colab"
   ],
   "metadata": {
    "collapsed": false
   }
  },
  {
   "cell_type": "code",
   "execution_count": 1,
   "outputs": [
    {
     "name": "stderr",
     "output_type": "stream",
     "text": [
      "\"gdown\" ­Ґ пў«пҐвбп ў­гваҐ­­Ґ© Ё«Ё ў­Ґи­Ґ©\n",
      "Є®¬ ­¤®©, ЁбЇ®«­пҐ¬®© Їа®Ја ¬¬®© Ё«Ё Ї ЄҐв­л¬ д ©«®¬.\n"
     ]
    }
   ],
   "source": [
    "! gdown --id 1OYjGYeYQzKI3mE02ymtkrbRJb5EurpL7"
   ],
   "metadata": {
    "collapsed": false
   }
  },
  {
   "cell_type": "markdown",
   "source": [
    "! unzip /content/leopard-challenge-classification.zip -d /content/leopard-challenge-classification/"
   ],
   "metadata": {
    "collapsed": false
   }
  },
  {
   "cell_type": "code",
   "execution_count": 9,
   "outputs": [
    {
     "name": "stderr",
     "output_type": "stream",
     "text": [
      "\"unzip\" ­Ґ пў«пҐвбп ў­гваҐ­­Ґ© Ё«Ё ў­Ґи­Ґ©\n",
      "Є®¬ ­¤®©, ЁбЇ®«­пҐ¬®© Їа®Ја ¬¬®© Ё«Ё Ї ЄҐв­л¬ д ©«®¬.\n"
     ]
    }
   ],
   "source": [
    "! unzip / content / leopard-challenge-classification.zip -d / content / leopard_challenge_classification /"
   ],
   "metadata": {
    "collapsed": false
   }
  },
  {
   "cell_type": "code",
   "execution_count": 32,
   "outputs": [],
   "source": [
    "import pandas as pd"
   ],
   "metadata": {
    "collapsed": false
   }
  },
  {
   "cell_type": "code",
   "execution_count": 1,
   "outputs": [
    {
     "ename": "NameError",
     "evalue": "name 'pd' is not defined",
     "output_type": "error",
     "traceback": [
      "\u001B[1;31m---------------------------------------------------------------------------\u001B[0m",
      "\u001B[1;31mNameError\u001B[0m                                 Traceback (most recent call last)",
      "Cell \u001B[1;32mIn[1], line 1\u001B[0m\n\u001B[1;32m----> 1\u001B[0m train \u001B[38;5;241m=\u001B[39m \u001B[43mpd\u001B[49m\u001B[38;5;241m.\u001B[39mread_csv(\u001B[38;5;124m'\u001B[39m\u001B[38;5;124m/content/leopard_challenge_regression/train.csv\u001B[39m\u001B[38;5;124m'\u001B[39m)\n",
      "\u001B[1;31mNameError\u001B[0m: name 'pd' is not defined"
     ]
    }
   ],
   "source": [
    "train = pd.read_csv('/content/leopard_challenge_regression/train.csv')"
   ],
   "metadata": {
    "collapsed": false
   }
  },
  {
   "cell_type": "code",
   "execution_count": 1,
   "outputs": [
    {
     "ename": "NameError",
     "evalue": "name 'train' is not defined",
     "output_type": "error",
     "traceback": [
      "\u001B[1;31m---------------------------------------------------------------------------\u001B[0m",
      "\u001B[1;31mNameError\u001B[0m                                 Traceback (most recent call last)",
      "Cell \u001B[1;32mIn[1], line 1\u001B[0m\n\u001B[1;32m----> 1\u001B[0m \u001B[43mtrain\u001B[49m\u001B[38;5;241m.\u001B[39mhead()\n",
      "\u001B[1;31mNameError\u001B[0m: name 'train' is not defined"
     ]
    }
   ],
   "source": [
    "train.head()"
   ],
   "metadata": {
    "collapsed": false
   }
  },
  {
   "cell_type": "code",
   "execution_count": null,
   "outputs": [],
   "source": [
    "!pip install phik\n",
    "\n",
    "!pip install feature_engine\n",
    "\n",
    "!pip install catboost"
   ],
   "metadata": {
    "collapsed": false
   }
  },
  {
   "cell_type": "markdown",
   "source": [
    "# Pycharm"
   ],
   "metadata": {
    "collapsed": false
   }
  },
  {
   "cell_type": "code",
   "execution_count": 1,
   "outputs": [],
   "source": [
    "from zipfile import ZipFile\n",
    "\n",
    "with ZipFile('leopard-challenge-classification.zip', 'r') as zf:\n",
    "    zf.extractall()"
   ],
   "metadata": {
    "collapsed": false,
    "ExecuteTime": {
     "end_time": "2023-06-09T09:34:41.281020200Z",
     "start_time": "2023-06-09T09:34:41.266006700Z"
    }
   }
  },
  {
   "cell_type": "markdown",
   "source": [
    "# 1. Задача"
   ],
   "metadata": {
    "collapsed": false
   }
  },
  {
   "cell_type": "markdown",
   "source": [
    "Дан набор данных с основными клиническими показателями людей.\n",
    "Каждая строчка в датасете - клинические показатели одного человека - рост, вес, зрение и т.д.\n",
    "**Задача:** Определить, курит человек или нет, на основании его показателей."
   ],
   "metadata": {
    "collapsed": false
   }
  },
  {
   "cell_type": "markdown",
   "source": [
    "# 2. Импорт библиотек"
   ],
   "metadata": {
    "collapsed": false
   }
  },
  {
   "cell_type": "code",
   "execution_count": 3,
   "outputs": [],
   "source": [
    "import pandas as pd\n",
    "import seaborn as sns\n",
    "import matplotlib.pyplot as plt\n",
    "import numpy as np\n",
    "import missingno as msno\n",
    "import phik\n",
    "import folium\n",
    "from feature_engine.selection import SmartCorrelatedSelection\n",
    "from feature_engine.imputation import RandomSampleImputer\n",
    "from sklearn.metrics import mean_absolute_percentage_error, mean_absolute_error, log_loss\n",
    "from sklearn.model_selection import train_test_split\n",
    "from catboost import CatBoostClassifier, Pool, cv\n",
    "import joblib\n",
    "from sklearn.model_selection import GridSearchCV\n",
    "from sklearn.ensemble import RandomForestClassifier\n",
    "import warnings\n",
    "warnings.filterwarnings(\"ignore\")\n",
    "\n",
    "# plt.style.use('dark_background')\n",
    "plt.style.use('seaborn-colorblind')\n",
    "pd.set_option('display.max_columns', 100)"
   ],
   "metadata": {
    "collapsed": false,
    "ExecuteTime": {
     "end_time": "2023-06-09T09:44:11.649484900Z",
     "start_time": "2023-06-09T09:44:11.188887400Z"
    }
   }
  },
  {
   "cell_type": "markdown",
   "source": [
    "# 3. Загрузка Датасета"
   ],
   "metadata": {
    "collapsed": false
   }
  },
  {
   "cell_type": "code",
   "execution_count": 33,
   "outputs": [],
   "source": [
    "df = pd.read_csv('train.csv')"
   ],
   "metadata": {
    "collapsed": false,
    "ExecuteTime": {
     "end_time": "2023-06-09T09:57:50.865057800Z",
     "start_time": "2023-06-09T09:57:50.760963500Z"
    }
   }
  },
  {
   "cell_type": "code",
   "execution_count": 34,
   "outputs": [
    {
     "data": {
      "text/plain": "      ID  age  height(cm)  weight(kg)  waist(cm)  eyesight(left)  \\\n0   2791   65         170          75       91.0             0.6   \n1  18280   35         170          85       97.0             1.5   \n2   1618   70         165          55       75.0             0.8   \n3  16856   35         180          85       83.0             1.2   \n4   5885   25         170          65       80.0             1.5   \n\n   eyesight(right)  hearing(left)  hearing(right)  systolic  relaxation  \\\n0              0.9            1.0             1.0     122.0        79.0   \n1              1.5            1.0             1.0     138.0        88.0   \n2              1.0            1.0             1.0     115.0        63.0   \n3              1.0            1.0             1.0     130.0        80.0   \n4              1.2            1.0             1.0     135.0        75.0   \n\n   fasting blood sugar  Cholesterol  triglyceride   HDL    LDL  hemoglobin  \\\n0                107.0        119.0          51.0  71.0   52.0        14.0   \n1                117.0        204.0         239.0  46.0  120.0        14.6   \n2                128.0        165.0          60.0  68.0   85.0        14.7   \n3                100.0        209.0         155.0  53.0  125.0        17.2   \n4                 94.0        153.0          73.0  58.0   80.0        16.5   \n\n   Urine protein  serum creatinine   AST   ALT    Gtp oral  dental caries  \\\n0            3.0               1.2  20.0  16.0  122.0    Y              0   \n1            1.0               0.7  20.0  25.0   40.0    Y              0   \n2            1.0               0.7  15.0  13.0   19.0    Y              0   \n3            1.0               0.8  22.0  18.0   17.0    Y              0   \n4            1.0               1.0  20.0  13.0   14.0    Y              0   \n\n  tartar  smoking  \n0      N        0  \n1      Y        1  \n2      Y        0  \n3      Y        0  \n4      Y        1  ",
      "text/html": "<div>\n<style scoped>\n    .dataframe tbody tr th:only-of-type {\n        vertical-align: middle;\n    }\n\n    .dataframe tbody tr th {\n        vertical-align: top;\n    }\n\n    .dataframe thead th {\n        text-align: right;\n    }\n</style>\n<table border=\"1\" class=\"dataframe\">\n  <thead>\n    <tr style=\"text-align: right;\">\n      <th></th>\n      <th>ID</th>\n      <th>age</th>\n      <th>height(cm)</th>\n      <th>weight(kg)</th>\n      <th>waist(cm)</th>\n      <th>eyesight(left)</th>\n      <th>eyesight(right)</th>\n      <th>hearing(left)</th>\n      <th>hearing(right)</th>\n      <th>systolic</th>\n      <th>relaxation</th>\n      <th>fasting blood sugar</th>\n      <th>Cholesterol</th>\n      <th>triglyceride</th>\n      <th>HDL</th>\n      <th>LDL</th>\n      <th>hemoglobin</th>\n      <th>Urine protein</th>\n      <th>serum creatinine</th>\n      <th>AST</th>\n      <th>ALT</th>\n      <th>Gtp</th>\n      <th>oral</th>\n      <th>dental caries</th>\n      <th>tartar</th>\n      <th>smoking</th>\n    </tr>\n  </thead>\n  <tbody>\n    <tr>\n      <th>0</th>\n      <td>2791</td>\n      <td>65</td>\n      <td>170</td>\n      <td>75</td>\n      <td>91.0</td>\n      <td>0.6</td>\n      <td>0.9</td>\n      <td>1.0</td>\n      <td>1.0</td>\n      <td>122.0</td>\n      <td>79.0</td>\n      <td>107.0</td>\n      <td>119.0</td>\n      <td>51.0</td>\n      <td>71.0</td>\n      <td>52.0</td>\n      <td>14.0</td>\n      <td>3.0</td>\n      <td>1.2</td>\n      <td>20.0</td>\n      <td>16.0</td>\n      <td>122.0</td>\n      <td>Y</td>\n      <td>0</td>\n      <td>N</td>\n      <td>0</td>\n    </tr>\n    <tr>\n      <th>1</th>\n      <td>18280</td>\n      <td>35</td>\n      <td>170</td>\n      <td>85</td>\n      <td>97.0</td>\n      <td>1.5</td>\n      <td>1.5</td>\n      <td>1.0</td>\n      <td>1.0</td>\n      <td>138.0</td>\n      <td>88.0</td>\n      <td>117.0</td>\n      <td>204.0</td>\n      <td>239.0</td>\n      <td>46.0</td>\n      <td>120.0</td>\n      <td>14.6</td>\n      <td>1.0</td>\n      <td>0.7</td>\n      <td>20.0</td>\n      <td>25.0</td>\n      <td>40.0</td>\n      <td>Y</td>\n      <td>0</td>\n      <td>Y</td>\n      <td>1</td>\n    </tr>\n    <tr>\n      <th>2</th>\n      <td>1618</td>\n      <td>70</td>\n      <td>165</td>\n      <td>55</td>\n      <td>75.0</td>\n      <td>0.8</td>\n      <td>1.0</td>\n      <td>1.0</td>\n      <td>1.0</td>\n      <td>115.0</td>\n      <td>63.0</td>\n      <td>128.0</td>\n      <td>165.0</td>\n      <td>60.0</td>\n      <td>68.0</td>\n      <td>85.0</td>\n      <td>14.7</td>\n      <td>1.0</td>\n      <td>0.7</td>\n      <td>15.0</td>\n      <td>13.0</td>\n      <td>19.0</td>\n      <td>Y</td>\n      <td>0</td>\n      <td>Y</td>\n      <td>0</td>\n    </tr>\n    <tr>\n      <th>3</th>\n      <td>16856</td>\n      <td>35</td>\n      <td>180</td>\n      <td>85</td>\n      <td>83.0</td>\n      <td>1.2</td>\n      <td>1.0</td>\n      <td>1.0</td>\n      <td>1.0</td>\n      <td>130.0</td>\n      <td>80.0</td>\n      <td>100.0</td>\n      <td>209.0</td>\n      <td>155.0</td>\n      <td>53.0</td>\n      <td>125.0</td>\n      <td>17.2</td>\n      <td>1.0</td>\n      <td>0.8</td>\n      <td>22.0</td>\n      <td>18.0</td>\n      <td>17.0</td>\n      <td>Y</td>\n      <td>0</td>\n      <td>Y</td>\n      <td>0</td>\n    </tr>\n    <tr>\n      <th>4</th>\n      <td>5885</td>\n      <td>25</td>\n      <td>170</td>\n      <td>65</td>\n      <td>80.0</td>\n      <td>1.5</td>\n      <td>1.2</td>\n      <td>1.0</td>\n      <td>1.0</td>\n      <td>135.0</td>\n      <td>75.0</td>\n      <td>94.0</td>\n      <td>153.0</td>\n      <td>73.0</td>\n      <td>58.0</td>\n      <td>80.0</td>\n      <td>16.5</td>\n      <td>1.0</td>\n      <td>1.0</td>\n      <td>20.0</td>\n      <td>13.0</td>\n      <td>14.0</td>\n      <td>Y</td>\n      <td>0</td>\n      <td>Y</td>\n      <td>1</td>\n    </tr>\n  </tbody>\n</table>\n</div>"
     },
     "execution_count": 34,
     "metadata": {},
     "output_type": "execute_result"
    }
   ],
   "source": [
    "df.head()"
   ],
   "metadata": {
    "collapsed": false,
    "ExecuteTime": {
     "end_time": "2023-06-09T09:57:51.196616800Z",
     "start_time": "2023-06-09T09:57:50.996177600Z"
    }
   }
  },
  {
   "cell_type": "code",
   "execution_count": 35,
   "outputs": [
    {
     "data": {
      "text/plain": "(13863, 26)"
     },
     "execution_count": 35,
     "metadata": {},
     "output_type": "execute_result"
    }
   ],
   "source": [
    "df.shape"
   ],
   "metadata": {
    "collapsed": false,
    "ExecuteTime": {
     "end_time": "2023-06-09T09:57:51.277690700Z",
     "start_time": "2023-06-09T09:57:51.209628100Z"
    }
   }
  },
  {
   "cell_type": "code",
   "execution_count": 36,
   "outputs": [],
   "source": [
    "df_test = pd.read_csv('test.csv')"
   ],
   "metadata": {
    "collapsed": false,
    "ExecuteTime": {
     "end_time": "2023-06-09T09:57:51.492548900Z",
     "start_time": "2023-06-09T09:57:51.349417200Z"
    }
   }
  },
  {
   "cell_type": "code",
   "execution_count": 37,
   "outputs": [
    {
     "data": {
      "text/plain": "      ID  age  height(cm)  weight(kg)  waist(cm)  eyesight(left)  \\\n0   2791   65         170          75       91.0             0.6   \n1  18280   35         170          85       97.0             1.5   \n2   1618   70         165          55       75.0             0.8   \n3  16856   35         180          85       83.0             1.2   \n4   5885   25         170          65       80.0             1.5   \n\n   eyesight(right)  hearing(left)  hearing(right)  systolic  relaxation  \\\n0              0.9            1.0             1.0     122.0        79.0   \n1              1.5            1.0             1.0     138.0        88.0   \n2              1.0            1.0             1.0     115.0        63.0   \n3              1.0            1.0             1.0     130.0        80.0   \n4              1.2            1.0             1.0     135.0        75.0   \n\n   fasting blood sugar  Cholesterol  triglyceride   HDL    LDL  hemoglobin  \\\n0                107.0        119.0          51.0  71.0   52.0        14.0   \n1                117.0        204.0         239.0  46.0  120.0        14.6   \n2                128.0        165.0          60.0  68.0   85.0        14.7   \n3                100.0        209.0         155.0  53.0  125.0        17.2   \n4                 94.0        153.0          73.0  58.0   80.0        16.5   \n\n   Urine protein  serum creatinine   AST   ALT    Gtp oral  dental caries  \\\n0            3.0               1.2  20.0  16.0  122.0    Y              0   \n1            1.0               0.7  20.0  25.0   40.0    Y              0   \n2            1.0               0.7  15.0  13.0   19.0    Y              0   \n3            1.0               0.8  22.0  18.0   17.0    Y              0   \n4            1.0               1.0  20.0  13.0   14.0    Y              0   \n\n  tartar  smoking  \n0      N        0  \n1      Y        1  \n2      Y        0  \n3      Y        0  \n4      Y        1  ",
      "text/html": "<div>\n<style scoped>\n    .dataframe tbody tr th:only-of-type {\n        vertical-align: middle;\n    }\n\n    .dataframe tbody tr th {\n        vertical-align: top;\n    }\n\n    .dataframe thead th {\n        text-align: right;\n    }\n</style>\n<table border=\"1\" class=\"dataframe\">\n  <thead>\n    <tr style=\"text-align: right;\">\n      <th></th>\n      <th>ID</th>\n      <th>age</th>\n      <th>height(cm)</th>\n      <th>weight(kg)</th>\n      <th>waist(cm)</th>\n      <th>eyesight(left)</th>\n      <th>eyesight(right)</th>\n      <th>hearing(left)</th>\n      <th>hearing(right)</th>\n      <th>systolic</th>\n      <th>relaxation</th>\n      <th>fasting blood sugar</th>\n      <th>Cholesterol</th>\n      <th>triglyceride</th>\n      <th>HDL</th>\n      <th>LDL</th>\n      <th>hemoglobin</th>\n      <th>Urine protein</th>\n      <th>serum creatinine</th>\n      <th>AST</th>\n      <th>ALT</th>\n      <th>Gtp</th>\n      <th>oral</th>\n      <th>dental caries</th>\n      <th>tartar</th>\n      <th>smoking</th>\n    </tr>\n  </thead>\n  <tbody>\n    <tr>\n      <th>0</th>\n      <td>2791</td>\n      <td>65</td>\n      <td>170</td>\n      <td>75</td>\n      <td>91.0</td>\n      <td>0.6</td>\n      <td>0.9</td>\n      <td>1.0</td>\n      <td>1.0</td>\n      <td>122.0</td>\n      <td>79.0</td>\n      <td>107.0</td>\n      <td>119.0</td>\n      <td>51.0</td>\n      <td>71.0</td>\n      <td>52.0</td>\n      <td>14.0</td>\n      <td>3.0</td>\n      <td>1.2</td>\n      <td>20.0</td>\n      <td>16.0</td>\n      <td>122.0</td>\n      <td>Y</td>\n      <td>0</td>\n      <td>N</td>\n      <td>0</td>\n    </tr>\n    <tr>\n      <th>1</th>\n      <td>18280</td>\n      <td>35</td>\n      <td>170</td>\n      <td>85</td>\n      <td>97.0</td>\n      <td>1.5</td>\n      <td>1.5</td>\n      <td>1.0</td>\n      <td>1.0</td>\n      <td>138.0</td>\n      <td>88.0</td>\n      <td>117.0</td>\n      <td>204.0</td>\n      <td>239.0</td>\n      <td>46.0</td>\n      <td>120.0</td>\n      <td>14.6</td>\n      <td>1.0</td>\n      <td>0.7</td>\n      <td>20.0</td>\n      <td>25.0</td>\n      <td>40.0</td>\n      <td>Y</td>\n      <td>0</td>\n      <td>Y</td>\n      <td>1</td>\n    </tr>\n    <tr>\n      <th>2</th>\n      <td>1618</td>\n      <td>70</td>\n      <td>165</td>\n      <td>55</td>\n      <td>75.0</td>\n      <td>0.8</td>\n      <td>1.0</td>\n      <td>1.0</td>\n      <td>1.0</td>\n      <td>115.0</td>\n      <td>63.0</td>\n      <td>128.0</td>\n      <td>165.0</td>\n      <td>60.0</td>\n      <td>68.0</td>\n      <td>85.0</td>\n      <td>14.7</td>\n      <td>1.0</td>\n      <td>0.7</td>\n      <td>15.0</td>\n      <td>13.0</td>\n      <td>19.0</td>\n      <td>Y</td>\n      <td>0</td>\n      <td>Y</td>\n      <td>0</td>\n    </tr>\n    <tr>\n      <th>3</th>\n      <td>16856</td>\n      <td>35</td>\n      <td>180</td>\n      <td>85</td>\n      <td>83.0</td>\n      <td>1.2</td>\n      <td>1.0</td>\n      <td>1.0</td>\n      <td>1.0</td>\n      <td>130.0</td>\n      <td>80.0</td>\n      <td>100.0</td>\n      <td>209.0</td>\n      <td>155.0</td>\n      <td>53.0</td>\n      <td>125.0</td>\n      <td>17.2</td>\n      <td>1.0</td>\n      <td>0.8</td>\n      <td>22.0</td>\n      <td>18.0</td>\n      <td>17.0</td>\n      <td>Y</td>\n      <td>0</td>\n      <td>Y</td>\n      <td>0</td>\n    </tr>\n    <tr>\n      <th>4</th>\n      <td>5885</td>\n      <td>25</td>\n      <td>170</td>\n      <td>65</td>\n      <td>80.0</td>\n      <td>1.5</td>\n      <td>1.2</td>\n      <td>1.0</td>\n      <td>1.0</td>\n      <td>135.0</td>\n      <td>75.0</td>\n      <td>94.0</td>\n      <td>153.0</td>\n      <td>73.0</td>\n      <td>58.0</td>\n      <td>80.0</td>\n      <td>16.5</td>\n      <td>1.0</td>\n      <td>1.0</td>\n      <td>20.0</td>\n      <td>13.0</td>\n      <td>14.0</td>\n      <td>Y</td>\n      <td>0</td>\n      <td>Y</td>\n      <td>1</td>\n    </tr>\n  </tbody>\n</table>\n</div>"
     },
     "execution_count": 37,
     "metadata": {},
     "output_type": "execute_result"
    }
   ],
   "source": [
    "df.head()"
   ],
   "metadata": {
    "collapsed": false,
    "ExecuteTime": {
     "end_time": "2023-06-09T09:57:51.762793200Z",
     "start_time": "2023-06-09T09:57:51.546598200Z"
    }
   }
  },
  {
   "cell_type": "code",
   "execution_count": 38,
   "outputs": [
    {
     "data": {
      "text/plain": "(5942, 25)"
     },
     "execution_count": 38,
     "metadata": {},
     "output_type": "execute_result"
    }
   ],
   "source": [
    "df_test.shape"
   ],
   "metadata": {
    "collapsed": false,
    "ExecuteTime": {
     "end_time": "2023-06-09T09:57:51.804832500Z",
     "start_time": "2023-06-09T09:57:51.713749600Z"
    }
   }
  },
  {
   "cell_type": "markdown",
   "source": [
    "# 4. Получение информации о Датасете"
   ],
   "metadata": {
    "collapsed": false
   }
  },
  {
   "cell_type": "markdown",
   "source": [
    "## 4.1 Подготовка таблиц"
   ],
   "metadata": {
    "collapsed": false
   }
  },
  {
   "cell_type": "markdown",
   "source": [
    "### Перевод названий колонок в строчные буквы и замена пробелов"
   ],
   "metadata": {
    "collapsed": false
   }
  },
  {
   "cell_type": "code",
   "execution_count": 39,
   "outputs": [
    {
     "data": {
      "text/plain": "          ID  age  height(cm)  weight(kg)  waist(cm)  eyesight(left)  \\\n0       2791   65         170          75       91.0             0.6   \n1      18280   35         170          85       97.0             1.5   \n2       1618   70         165          55       75.0             0.8   \n3      16856   35         180          85       83.0             1.2   \n4       5885   25         170          65       80.0             1.5   \n...      ...  ...         ...         ...        ...             ...   \n13858   7835   45         175          85       94.0             0.8   \n13859   9335   40         170          75       86.0             1.2   \n13860  18936   65         170          70       85.0             0.6   \n13861  11064   30         160          80       89.0             1.5   \n13862   2646   60         170          70       86.0             1.5   \n\n       eyesight(right)  hearing(left)  hearing(right)  systolic  relaxation  \\\n0                  0.9            1.0             1.0     122.0        79.0   \n1                  1.5            1.0             1.0     138.0        88.0   \n2                  1.0            1.0             1.0     115.0        63.0   \n3                  1.0            1.0             1.0     130.0        80.0   \n4                  1.2            1.0             1.0     135.0        75.0   \n...                ...            ...             ...       ...         ...   \n13858              0.8            1.0             1.0     127.0        71.0   \n13859              1.0            1.0             1.0     134.0        88.0   \n13860              0.7            1.0             1.0     131.0        82.0   \n13861              1.5            1.0             1.0     120.0        80.0   \n13862              1.5            1.0             1.0     135.0        85.0   \n\n       fasting blood sugar  Cholesterol  triglyceride   HDL    LDL  \\\n0                    107.0        119.0          51.0  71.0   52.0   \n1                    117.0        204.0         239.0  46.0  120.0   \n2                    128.0        165.0          60.0  68.0   85.0   \n3                    100.0        209.0         155.0  53.0  125.0   \n4                     94.0        153.0          73.0  58.0   80.0   \n...                    ...          ...           ...   ...    ...   \n13858                 99.0        249.0         179.0  49.0  164.0   \n13859                 97.0        247.0         183.0  62.0  148.0   \n13860                 99.0        180.0          88.0  47.0  115.0   \n13861                 92.0        172.0         136.0  49.0   96.0   \n13862                 90.0        159.0          70.0  55.0   90.0   \n\n       hemoglobin  Urine protein  serum creatinine   AST   ALT    Gtp oral  \\\n0            14.0            3.0               1.2  20.0  16.0  122.0    Y   \n1            14.6            1.0               0.7  20.0  25.0   40.0    Y   \n2            14.7            1.0               0.7  15.0  13.0   19.0    Y   \n3            17.2            1.0               0.8  22.0  18.0   17.0    Y   \n4            16.5            1.0               1.0  20.0  13.0   14.0    Y   \n...           ...            ...               ...   ...   ...    ...  ...   \n13858        16.4            1.0               0.9  17.0  17.0   19.0    Y   \n13859        16.7            1.0               0.9  15.0  12.0   36.0    Y   \n13860        15.7            1.0               0.8  12.0   8.0   24.0    Y   \n13861        14.8            1.0               0.8  26.0  35.0   31.0    Y   \n13862        14.9            1.0               1.0  56.0  85.0   32.0    Y   \n\n       dental caries tartar  smoking  \n0                  0      N        0  \n1                  0      Y        1  \n2                  0      Y        0  \n3                  0      Y        0  \n4                  0      Y        1  \n...              ...    ...      ...  \n13858              0      N        0  \n13859              0      Y        1  \n13860              1      Y        1  \n13861              0      N        0  \n13862              1      Y        0  \n\n[13863 rows x 26 columns]",
      "text/html": "<div>\n<style scoped>\n    .dataframe tbody tr th:only-of-type {\n        vertical-align: middle;\n    }\n\n    .dataframe tbody tr th {\n        vertical-align: top;\n    }\n\n    .dataframe thead th {\n        text-align: right;\n    }\n</style>\n<table border=\"1\" class=\"dataframe\">\n  <thead>\n    <tr style=\"text-align: right;\">\n      <th></th>\n      <th>ID</th>\n      <th>age</th>\n      <th>height(cm)</th>\n      <th>weight(kg)</th>\n      <th>waist(cm)</th>\n      <th>eyesight(left)</th>\n      <th>eyesight(right)</th>\n      <th>hearing(left)</th>\n      <th>hearing(right)</th>\n      <th>systolic</th>\n      <th>relaxation</th>\n      <th>fasting blood sugar</th>\n      <th>Cholesterol</th>\n      <th>triglyceride</th>\n      <th>HDL</th>\n      <th>LDL</th>\n      <th>hemoglobin</th>\n      <th>Urine protein</th>\n      <th>serum creatinine</th>\n      <th>AST</th>\n      <th>ALT</th>\n      <th>Gtp</th>\n      <th>oral</th>\n      <th>dental caries</th>\n      <th>tartar</th>\n      <th>smoking</th>\n    </tr>\n  </thead>\n  <tbody>\n    <tr>\n      <th>0</th>\n      <td>2791</td>\n      <td>65</td>\n      <td>170</td>\n      <td>75</td>\n      <td>91.0</td>\n      <td>0.6</td>\n      <td>0.9</td>\n      <td>1.0</td>\n      <td>1.0</td>\n      <td>122.0</td>\n      <td>79.0</td>\n      <td>107.0</td>\n      <td>119.0</td>\n      <td>51.0</td>\n      <td>71.0</td>\n      <td>52.0</td>\n      <td>14.0</td>\n      <td>3.0</td>\n      <td>1.2</td>\n      <td>20.0</td>\n      <td>16.0</td>\n      <td>122.0</td>\n      <td>Y</td>\n      <td>0</td>\n      <td>N</td>\n      <td>0</td>\n    </tr>\n    <tr>\n      <th>1</th>\n      <td>18280</td>\n      <td>35</td>\n      <td>170</td>\n      <td>85</td>\n      <td>97.0</td>\n      <td>1.5</td>\n      <td>1.5</td>\n      <td>1.0</td>\n      <td>1.0</td>\n      <td>138.0</td>\n      <td>88.0</td>\n      <td>117.0</td>\n      <td>204.0</td>\n      <td>239.0</td>\n      <td>46.0</td>\n      <td>120.0</td>\n      <td>14.6</td>\n      <td>1.0</td>\n      <td>0.7</td>\n      <td>20.0</td>\n      <td>25.0</td>\n      <td>40.0</td>\n      <td>Y</td>\n      <td>0</td>\n      <td>Y</td>\n      <td>1</td>\n    </tr>\n    <tr>\n      <th>2</th>\n      <td>1618</td>\n      <td>70</td>\n      <td>165</td>\n      <td>55</td>\n      <td>75.0</td>\n      <td>0.8</td>\n      <td>1.0</td>\n      <td>1.0</td>\n      <td>1.0</td>\n      <td>115.0</td>\n      <td>63.0</td>\n      <td>128.0</td>\n      <td>165.0</td>\n      <td>60.0</td>\n      <td>68.0</td>\n      <td>85.0</td>\n      <td>14.7</td>\n      <td>1.0</td>\n      <td>0.7</td>\n      <td>15.0</td>\n      <td>13.0</td>\n      <td>19.0</td>\n      <td>Y</td>\n      <td>0</td>\n      <td>Y</td>\n      <td>0</td>\n    </tr>\n    <tr>\n      <th>3</th>\n      <td>16856</td>\n      <td>35</td>\n      <td>180</td>\n      <td>85</td>\n      <td>83.0</td>\n      <td>1.2</td>\n      <td>1.0</td>\n      <td>1.0</td>\n      <td>1.0</td>\n      <td>130.0</td>\n      <td>80.0</td>\n      <td>100.0</td>\n      <td>209.0</td>\n      <td>155.0</td>\n      <td>53.0</td>\n      <td>125.0</td>\n      <td>17.2</td>\n      <td>1.0</td>\n      <td>0.8</td>\n      <td>22.0</td>\n      <td>18.0</td>\n      <td>17.0</td>\n      <td>Y</td>\n      <td>0</td>\n      <td>Y</td>\n      <td>0</td>\n    </tr>\n    <tr>\n      <th>4</th>\n      <td>5885</td>\n      <td>25</td>\n      <td>170</td>\n      <td>65</td>\n      <td>80.0</td>\n      <td>1.5</td>\n      <td>1.2</td>\n      <td>1.0</td>\n      <td>1.0</td>\n      <td>135.0</td>\n      <td>75.0</td>\n      <td>94.0</td>\n      <td>153.0</td>\n      <td>73.0</td>\n      <td>58.0</td>\n      <td>80.0</td>\n      <td>16.5</td>\n      <td>1.0</td>\n      <td>1.0</td>\n      <td>20.0</td>\n      <td>13.0</td>\n      <td>14.0</td>\n      <td>Y</td>\n      <td>0</td>\n      <td>Y</td>\n      <td>1</td>\n    </tr>\n    <tr>\n      <th>...</th>\n      <td>...</td>\n      <td>...</td>\n      <td>...</td>\n      <td>...</td>\n      <td>...</td>\n      <td>...</td>\n      <td>...</td>\n      <td>...</td>\n      <td>...</td>\n      <td>...</td>\n      <td>...</td>\n      <td>...</td>\n      <td>...</td>\n      <td>...</td>\n      <td>...</td>\n      <td>...</td>\n      <td>...</td>\n      <td>...</td>\n      <td>...</td>\n      <td>...</td>\n      <td>...</td>\n      <td>...</td>\n      <td>...</td>\n      <td>...</td>\n      <td>...</td>\n      <td>...</td>\n    </tr>\n    <tr>\n      <th>13858</th>\n      <td>7835</td>\n      <td>45</td>\n      <td>175</td>\n      <td>85</td>\n      <td>94.0</td>\n      <td>0.8</td>\n      <td>0.8</td>\n      <td>1.0</td>\n      <td>1.0</td>\n      <td>127.0</td>\n      <td>71.0</td>\n      <td>99.0</td>\n      <td>249.0</td>\n      <td>179.0</td>\n      <td>49.0</td>\n      <td>164.0</td>\n      <td>16.4</td>\n      <td>1.0</td>\n      <td>0.9</td>\n      <td>17.0</td>\n      <td>17.0</td>\n      <td>19.0</td>\n      <td>Y</td>\n      <td>0</td>\n      <td>N</td>\n      <td>0</td>\n    </tr>\n    <tr>\n      <th>13859</th>\n      <td>9335</td>\n      <td>40</td>\n      <td>170</td>\n      <td>75</td>\n      <td>86.0</td>\n      <td>1.2</td>\n      <td>1.0</td>\n      <td>1.0</td>\n      <td>1.0</td>\n      <td>134.0</td>\n      <td>88.0</td>\n      <td>97.0</td>\n      <td>247.0</td>\n      <td>183.0</td>\n      <td>62.0</td>\n      <td>148.0</td>\n      <td>16.7</td>\n      <td>1.0</td>\n      <td>0.9</td>\n      <td>15.0</td>\n      <td>12.0</td>\n      <td>36.0</td>\n      <td>Y</td>\n      <td>0</td>\n      <td>Y</td>\n      <td>1</td>\n    </tr>\n    <tr>\n      <th>13860</th>\n      <td>18936</td>\n      <td>65</td>\n      <td>170</td>\n      <td>70</td>\n      <td>85.0</td>\n      <td>0.6</td>\n      <td>0.7</td>\n      <td>1.0</td>\n      <td>1.0</td>\n      <td>131.0</td>\n      <td>82.0</td>\n      <td>99.0</td>\n      <td>180.0</td>\n      <td>88.0</td>\n      <td>47.0</td>\n      <td>115.0</td>\n      <td>15.7</td>\n      <td>1.0</td>\n      <td>0.8</td>\n      <td>12.0</td>\n      <td>8.0</td>\n      <td>24.0</td>\n      <td>Y</td>\n      <td>1</td>\n      <td>Y</td>\n      <td>1</td>\n    </tr>\n    <tr>\n      <th>13861</th>\n      <td>11064</td>\n      <td>30</td>\n      <td>160</td>\n      <td>80</td>\n      <td>89.0</td>\n      <td>1.5</td>\n      <td>1.5</td>\n      <td>1.0</td>\n      <td>1.0</td>\n      <td>120.0</td>\n      <td>80.0</td>\n      <td>92.0</td>\n      <td>172.0</td>\n      <td>136.0</td>\n      <td>49.0</td>\n      <td>96.0</td>\n      <td>14.8</td>\n      <td>1.0</td>\n      <td>0.8</td>\n      <td>26.0</td>\n      <td>35.0</td>\n      <td>31.0</td>\n      <td>Y</td>\n      <td>0</td>\n      <td>N</td>\n      <td>0</td>\n    </tr>\n    <tr>\n      <th>13862</th>\n      <td>2646</td>\n      <td>60</td>\n      <td>170</td>\n      <td>70</td>\n      <td>86.0</td>\n      <td>1.5</td>\n      <td>1.5</td>\n      <td>1.0</td>\n      <td>1.0</td>\n      <td>135.0</td>\n      <td>85.0</td>\n      <td>90.0</td>\n      <td>159.0</td>\n      <td>70.0</td>\n      <td>55.0</td>\n      <td>90.0</td>\n      <td>14.9</td>\n      <td>1.0</td>\n      <td>1.0</td>\n      <td>56.0</td>\n      <td>85.0</td>\n      <td>32.0</td>\n      <td>Y</td>\n      <td>1</td>\n      <td>Y</td>\n      <td>0</td>\n    </tr>\n  </tbody>\n</table>\n<p>13863 rows × 26 columns</p>\n</div>"
     },
     "execution_count": 39,
     "metadata": {},
     "output_type": "execute_result"
    }
   ],
   "source": [
    "df"
   ],
   "metadata": {
    "collapsed": false,
    "ExecuteTime": {
     "end_time": "2023-06-09T09:57:53.852796Z",
     "start_time": "2023-06-09T09:57:53.757710Z"
    }
   }
  },
  {
   "cell_type": "code",
   "execution_count": 40,
   "outputs": [],
   "source": [
    "df.columns = df.columns.str.replace(' ', '_').str.lower()\n",
    "df_test.columns = df_test.columns.str.replace(' ', '_').str.lower()"
   ],
   "metadata": {
    "collapsed": false,
    "ExecuteTime": {
     "end_time": "2023-06-09T09:57:54.445442900Z",
     "start_time": "2023-06-09T09:57:54.405361Z"
    }
   }
  },
  {
   "cell_type": "code",
   "execution_count": 42,
   "outputs": [
    {
     "data": {
      "text/plain": "         id  age  height(cm)  weight(kg)  waist(cm)  eyesight(left)  \\\n0     19200   40         170          75       87.0             1.2   \n1      7784   25         170          65       78.4             0.9   \n2     11682   50         180         105      109.3             0.9   \n3      9949   60         160          60       81.0             0.5   \n4      9378   45         175          70       83.0             0.9   \n...     ...  ...         ...         ...        ...             ...   \n5937  17154   40         170          75       85.5             1.0   \n5938  19366   25         165          60       73.5             0.9   \n5939   1170   40         180          80       94.0             1.2   \n5940   9358   20         170          70       84.5             1.2   \n5941  14302   45         165          45       71.0             0.9   \n\n      eyesight(right)  hearing(left)  hearing(right)  systolic  relaxation  \\\n0                 1.0            1.0             1.0     140.0        90.0   \n1                 0.9            1.0             1.0     118.0        78.0   \n2                 1.0            1.0             1.0     130.0        90.0   \n3                 0.5            1.0             1.0     118.0        76.0   \n4                 1.0            1.0             1.0     130.0        80.0   \n...               ...            ...             ...       ...         ...   \n5937              0.1            1.0             1.0     113.0        65.0   \n5938              1.0            1.0             1.0     115.0        70.0   \n5939              1.0            1.0             1.0     126.0        69.0   \n5940              1.5            1.0             1.0     110.0        70.0   \n5941              0.9            1.0             2.0     124.0        80.0   \n\n      fasting_blood_sugar  cholesterol  triglyceride    hdl    ldl  \\\n0                   131.0        225.0         216.0   52.0  129.0   \n1                   101.0        170.0          33.0   72.0   91.0   \n2                    96.0        162.0         144.0   71.0   62.0   \n3                    97.0        172.0          91.0   46.0  108.0   \n4                   100.0        191.0         365.0   34.0   84.0   \n...                   ...          ...           ...    ...    ...   \n5937                108.0        153.0          87.0   48.0   88.0   \n5938                 79.0        235.0          69.0   50.0  171.0   \n5939                108.0        170.0          65.0   52.0  105.0   \n5940                 92.0        156.0          79.0   48.0   92.0   \n5941                 85.0        207.0          71.0  101.0   92.0   \n\n      hemoglobin  urine_protein  serum_creatinine   ast   alt   gtp oral  \\\n0           16.4            1.0               1.1  25.0  58.0  43.0    Y   \n1           11.9            1.0               0.9  33.0  66.0  22.0    Y   \n2           15.4            1.0               0.9  19.0  24.0  32.0    Y   \n3           16.2            1.0               1.2  34.0  37.0  26.0    Y   \n4           15.2            1.0               0.7  27.0  25.0  26.0    Y   \n...          ...            ...               ...   ...   ...   ...  ...   \n5937        14.2            1.0               1.1  14.0  18.0  15.0    Y   \n5938        14.4            1.0               0.9  20.0  12.0  17.0    Y   \n5939        14.5            1.0               0.8  28.0  33.0  25.0    Y   \n5940        16.1            1.0               0.9  28.0  21.0  21.0    Y   \n5941        15.2            1.0               0.9  22.0  14.0  20.0    Y   \n\n      dental_caries tartar  \n0                 0      Y  \n1                 0      N  \n2                 0      Y  \n3                 0      Y  \n4                 0      N  \n...             ...    ...  \n5937              1      N  \n5938              1      Y  \n5939              0      N  \n5940              1      Y  \n5941              0      N  \n\n[5942 rows x 25 columns]",
      "text/html": "<div>\n<style scoped>\n    .dataframe tbody tr th:only-of-type {\n        vertical-align: middle;\n    }\n\n    .dataframe tbody tr th {\n        vertical-align: top;\n    }\n\n    .dataframe thead th {\n        text-align: right;\n    }\n</style>\n<table border=\"1\" class=\"dataframe\">\n  <thead>\n    <tr style=\"text-align: right;\">\n      <th></th>\n      <th>id</th>\n      <th>age</th>\n      <th>height(cm)</th>\n      <th>weight(kg)</th>\n      <th>waist(cm)</th>\n      <th>eyesight(left)</th>\n      <th>eyesight(right)</th>\n      <th>hearing(left)</th>\n      <th>hearing(right)</th>\n      <th>systolic</th>\n      <th>relaxation</th>\n      <th>fasting_blood_sugar</th>\n      <th>cholesterol</th>\n      <th>triglyceride</th>\n      <th>hdl</th>\n      <th>ldl</th>\n      <th>hemoglobin</th>\n      <th>urine_protein</th>\n      <th>serum_creatinine</th>\n      <th>ast</th>\n      <th>alt</th>\n      <th>gtp</th>\n      <th>oral</th>\n      <th>dental_caries</th>\n      <th>tartar</th>\n    </tr>\n  </thead>\n  <tbody>\n    <tr>\n      <th>0</th>\n      <td>19200</td>\n      <td>40</td>\n      <td>170</td>\n      <td>75</td>\n      <td>87.0</td>\n      <td>1.2</td>\n      <td>1.0</td>\n      <td>1.0</td>\n      <td>1.0</td>\n      <td>140.0</td>\n      <td>90.0</td>\n      <td>131.0</td>\n      <td>225.0</td>\n      <td>216.0</td>\n      <td>52.0</td>\n      <td>129.0</td>\n      <td>16.4</td>\n      <td>1.0</td>\n      <td>1.1</td>\n      <td>25.0</td>\n      <td>58.0</td>\n      <td>43.0</td>\n      <td>Y</td>\n      <td>0</td>\n      <td>Y</td>\n    </tr>\n    <tr>\n      <th>1</th>\n      <td>7784</td>\n      <td>25</td>\n      <td>170</td>\n      <td>65</td>\n      <td>78.4</td>\n      <td>0.9</td>\n      <td>0.9</td>\n      <td>1.0</td>\n      <td>1.0</td>\n      <td>118.0</td>\n      <td>78.0</td>\n      <td>101.0</td>\n      <td>170.0</td>\n      <td>33.0</td>\n      <td>72.0</td>\n      <td>91.0</td>\n      <td>11.9</td>\n      <td>1.0</td>\n      <td>0.9</td>\n      <td>33.0</td>\n      <td>66.0</td>\n      <td>22.0</td>\n      <td>Y</td>\n      <td>0</td>\n      <td>N</td>\n    </tr>\n    <tr>\n      <th>2</th>\n      <td>11682</td>\n      <td>50</td>\n      <td>180</td>\n      <td>105</td>\n      <td>109.3</td>\n      <td>0.9</td>\n      <td>1.0</td>\n      <td>1.0</td>\n      <td>1.0</td>\n      <td>130.0</td>\n      <td>90.0</td>\n      <td>96.0</td>\n      <td>162.0</td>\n      <td>144.0</td>\n      <td>71.0</td>\n      <td>62.0</td>\n      <td>15.4</td>\n      <td>1.0</td>\n      <td>0.9</td>\n      <td>19.0</td>\n      <td>24.0</td>\n      <td>32.0</td>\n      <td>Y</td>\n      <td>0</td>\n      <td>Y</td>\n    </tr>\n    <tr>\n      <th>3</th>\n      <td>9949</td>\n      <td>60</td>\n      <td>160</td>\n      <td>60</td>\n      <td>81.0</td>\n      <td>0.5</td>\n      <td>0.5</td>\n      <td>1.0</td>\n      <td>1.0</td>\n      <td>118.0</td>\n      <td>76.0</td>\n      <td>97.0</td>\n      <td>172.0</td>\n      <td>91.0</td>\n      <td>46.0</td>\n      <td>108.0</td>\n      <td>16.2</td>\n      <td>1.0</td>\n      <td>1.2</td>\n      <td>34.0</td>\n      <td>37.0</td>\n      <td>26.0</td>\n      <td>Y</td>\n      <td>0</td>\n      <td>Y</td>\n    </tr>\n    <tr>\n      <th>4</th>\n      <td>9378</td>\n      <td>45</td>\n      <td>175</td>\n      <td>70</td>\n      <td>83.0</td>\n      <td>0.9</td>\n      <td>1.0</td>\n      <td>1.0</td>\n      <td>1.0</td>\n      <td>130.0</td>\n      <td>80.0</td>\n      <td>100.0</td>\n      <td>191.0</td>\n      <td>365.0</td>\n      <td>34.0</td>\n      <td>84.0</td>\n      <td>15.2</td>\n      <td>1.0</td>\n      <td>0.7</td>\n      <td>27.0</td>\n      <td>25.0</td>\n      <td>26.0</td>\n      <td>Y</td>\n      <td>0</td>\n      <td>N</td>\n    </tr>\n    <tr>\n      <th>...</th>\n      <td>...</td>\n      <td>...</td>\n      <td>...</td>\n      <td>...</td>\n      <td>...</td>\n      <td>...</td>\n      <td>...</td>\n      <td>...</td>\n      <td>...</td>\n      <td>...</td>\n      <td>...</td>\n      <td>...</td>\n      <td>...</td>\n      <td>...</td>\n      <td>...</td>\n      <td>...</td>\n      <td>...</td>\n      <td>...</td>\n      <td>...</td>\n      <td>...</td>\n      <td>...</td>\n      <td>...</td>\n      <td>...</td>\n      <td>...</td>\n      <td>...</td>\n    </tr>\n    <tr>\n      <th>5937</th>\n      <td>17154</td>\n      <td>40</td>\n      <td>170</td>\n      <td>75</td>\n      <td>85.5</td>\n      <td>1.0</td>\n      <td>0.1</td>\n      <td>1.0</td>\n      <td>1.0</td>\n      <td>113.0</td>\n      <td>65.0</td>\n      <td>108.0</td>\n      <td>153.0</td>\n      <td>87.0</td>\n      <td>48.0</td>\n      <td>88.0</td>\n      <td>14.2</td>\n      <td>1.0</td>\n      <td>1.1</td>\n      <td>14.0</td>\n      <td>18.0</td>\n      <td>15.0</td>\n      <td>Y</td>\n      <td>1</td>\n      <td>N</td>\n    </tr>\n    <tr>\n      <th>5938</th>\n      <td>19366</td>\n      <td>25</td>\n      <td>165</td>\n      <td>60</td>\n      <td>73.5</td>\n      <td>0.9</td>\n      <td>1.0</td>\n      <td>1.0</td>\n      <td>1.0</td>\n      <td>115.0</td>\n      <td>70.0</td>\n      <td>79.0</td>\n      <td>235.0</td>\n      <td>69.0</td>\n      <td>50.0</td>\n      <td>171.0</td>\n      <td>14.4</td>\n      <td>1.0</td>\n      <td>0.9</td>\n      <td>20.0</td>\n      <td>12.0</td>\n      <td>17.0</td>\n      <td>Y</td>\n      <td>1</td>\n      <td>Y</td>\n    </tr>\n    <tr>\n      <th>5939</th>\n      <td>1170</td>\n      <td>40</td>\n      <td>180</td>\n      <td>80</td>\n      <td>94.0</td>\n      <td>1.2</td>\n      <td>1.0</td>\n      <td>1.0</td>\n      <td>1.0</td>\n      <td>126.0</td>\n      <td>69.0</td>\n      <td>108.0</td>\n      <td>170.0</td>\n      <td>65.0</td>\n      <td>52.0</td>\n      <td>105.0</td>\n      <td>14.5</td>\n      <td>1.0</td>\n      <td>0.8</td>\n      <td>28.0</td>\n      <td>33.0</td>\n      <td>25.0</td>\n      <td>Y</td>\n      <td>0</td>\n      <td>N</td>\n    </tr>\n    <tr>\n      <th>5940</th>\n      <td>9358</td>\n      <td>20</td>\n      <td>170</td>\n      <td>70</td>\n      <td>84.5</td>\n      <td>1.2</td>\n      <td>1.5</td>\n      <td>1.0</td>\n      <td>1.0</td>\n      <td>110.0</td>\n      <td>70.0</td>\n      <td>92.0</td>\n      <td>156.0</td>\n      <td>79.0</td>\n      <td>48.0</td>\n      <td>92.0</td>\n      <td>16.1</td>\n      <td>1.0</td>\n      <td>0.9</td>\n      <td>28.0</td>\n      <td>21.0</td>\n      <td>21.0</td>\n      <td>Y</td>\n      <td>1</td>\n      <td>Y</td>\n    </tr>\n    <tr>\n      <th>5941</th>\n      <td>14302</td>\n      <td>45</td>\n      <td>165</td>\n      <td>45</td>\n      <td>71.0</td>\n      <td>0.9</td>\n      <td>0.9</td>\n      <td>1.0</td>\n      <td>2.0</td>\n      <td>124.0</td>\n      <td>80.0</td>\n      <td>85.0</td>\n      <td>207.0</td>\n      <td>71.0</td>\n      <td>101.0</td>\n      <td>92.0</td>\n      <td>15.2</td>\n      <td>1.0</td>\n      <td>0.9</td>\n      <td>22.0</td>\n      <td>14.0</td>\n      <td>20.0</td>\n      <td>Y</td>\n      <td>0</td>\n      <td>N</td>\n    </tr>\n  </tbody>\n</table>\n<p>5942 rows × 25 columns</p>\n</div>"
     },
     "execution_count": 42,
     "metadata": {},
     "output_type": "execute_result"
    }
   ],
   "source": [
    "df_test"
   ],
   "metadata": {
    "collapsed": false,
    "ExecuteTime": {
     "end_time": "2023-06-09T09:58:12.715049900Z",
     "start_time": "2023-06-09T09:58:12.618963900Z"
    }
   }
  },
  {
   "cell_type": "markdown",
   "source": [
    "## 4.2 Основная информация о датасете"
   ],
   "metadata": {
    "collapsed": false
   }
  },
  {
   "cell_type": "code",
   "execution_count": 44,
   "outputs": [
    {
     "name": "stdout",
     "output_type": "stream",
     "text": [
      "<class 'pandas.core.frame.DataFrame'>\n",
      "RangeIndex: 13863 entries, 0 to 13862\n",
      "Data columns (total 26 columns):\n",
      " #   Column               Non-Null Count  Dtype  \n",
      "---  ------               --------------  -----  \n",
      " 0   id                   13863 non-null  int64  \n",
      " 1   age                  13863 non-null  int64  \n",
      " 2   height(cm)           13863 non-null  int64  \n",
      " 3   weight(kg)           13863 non-null  int64  \n",
      " 4   waist(cm)            13863 non-null  float64\n",
      " 5   eyesight(left)       13863 non-null  float64\n",
      " 6   eyesight(right)      13863 non-null  float64\n",
      " 7   hearing(left)        13863 non-null  float64\n",
      " 8   hearing(right)       13863 non-null  float64\n",
      " 9   systolic             13863 non-null  float64\n",
      " 10  relaxation           13863 non-null  float64\n",
      " 11  fasting_blood_sugar  13863 non-null  float64\n",
      " 12  cholesterol          13863 non-null  float64\n",
      " 13  triglyceride         13863 non-null  float64\n",
      " 14  hdl                  13863 non-null  float64\n",
      " 15  ldl                  13863 non-null  float64\n",
      " 16  hemoglobin           13863 non-null  float64\n",
      " 17  urine_protein        13863 non-null  float64\n",
      " 18  serum_creatinine     13863 non-null  float64\n",
      " 19  ast                  13863 non-null  float64\n",
      " 20  alt                  13863 non-null  float64\n",
      " 21  gtp                  13863 non-null  float64\n",
      " 22  oral                 13863 non-null  object \n",
      " 23  dental_caries        13863 non-null  int64  \n",
      " 24  tartar               13863 non-null  object \n",
      " 25  smoking              13863 non-null  int64  \n",
      "dtypes: float64(18), int64(6), object(2)\n",
      "memory usage: 2.8+ MB\n"
     ]
    }
   ],
   "source": [
    "df.info()"
   ],
   "metadata": {
    "collapsed": false,
    "ExecuteTime": {
     "end_time": "2023-06-09T10:09:55.176045100Z",
     "start_time": "2023-06-09T10:09:55.080968600Z"
    }
   }
  },
  {
   "cell_type": "markdown",
   "source": [
    "**Обучающая таблица состоит из:** 13863 строк и 26 столбцов"
   ],
   "metadata": {
    "collapsed": false
   }
  },
  {
   "cell_type": "code",
   "execution_count": 45,
   "outputs": [
    {
     "name": "stdout",
     "output_type": "stream",
     "text": [
      "<class 'pandas.core.frame.DataFrame'>\n",
      "RangeIndex: 5942 entries, 0 to 5941\n",
      "Data columns (total 25 columns):\n",
      " #   Column               Non-Null Count  Dtype  \n",
      "---  ------               --------------  -----  \n",
      " 0   id                   5942 non-null   int64  \n",
      " 1   age                  5942 non-null   int64  \n",
      " 2   height(cm)           5942 non-null   int64  \n",
      " 3   weight(kg)           5942 non-null   int64  \n",
      " 4   waist(cm)            5942 non-null   float64\n",
      " 5   eyesight(left)       5942 non-null   float64\n",
      " 6   eyesight(right)      5942 non-null   float64\n",
      " 7   hearing(left)        5942 non-null   float64\n",
      " 8   hearing(right)       5942 non-null   float64\n",
      " 9   systolic             5942 non-null   float64\n",
      " 10  relaxation           5942 non-null   float64\n",
      " 11  fasting_blood_sugar  5942 non-null   float64\n",
      " 12  cholesterol          5942 non-null   float64\n",
      " 13  triglyceride         5942 non-null   float64\n",
      " 14  hdl                  5942 non-null   float64\n",
      " 15  ldl                  5942 non-null   float64\n",
      " 16  hemoglobin           5942 non-null   float64\n",
      " 17  urine_protein        5942 non-null   float64\n",
      " 18  serum_creatinine     5942 non-null   float64\n",
      " 19  ast                  5942 non-null   float64\n",
      " 20  alt                  5942 non-null   float64\n",
      " 21  gtp                  5942 non-null   float64\n",
      " 22  oral                 5942 non-null   object \n",
      " 23  dental_caries        5942 non-null   int64  \n",
      " 24  tartar               5942 non-null   object \n",
      "dtypes: float64(18), int64(5), object(2)\n",
      "memory usage: 1.1+ MB\n"
     ]
    }
   ],
   "source": [
    "df_test.info()"
   ],
   "metadata": {
    "collapsed": false,
    "ExecuteTime": {
     "end_time": "2023-06-09T10:11:22.241471200Z",
     "start_time": "2023-06-09T10:11:22.125684100Z"
    }
   }
  },
  {
   "cell_type": "markdown",
   "source": [
    "**Тестовая таблица состоит из:** 5942 строк и 25 столбцов"
   ],
   "metadata": {
    "collapsed": false
   }
  },
  {
   "cell_type": "markdown",
   "source": [
    "## 4.3 Пропущенные значения"
   ],
   "metadata": {
    "collapsed": false
   }
  },
  {
   "cell_type": "code",
   "execution_count": 46,
   "outputs": [
    {
     "data": {
      "text/plain": "id                     0.0\nage                    0.0\ntartar                 0.0\ndental_caries          0.0\noral                   0.0\ngtp                    0.0\nalt                    0.0\nast                    0.0\nserum_creatinine       0.0\nurine_protein          0.0\nhemoglobin             0.0\nldl                    0.0\nhdl                    0.0\ntriglyceride           0.0\ncholesterol            0.0\nfasting_blood_sugar    0.0\nrelaxation             0.0\nsystolic               0.0\nhearing(right)         0.0\nhearing(left)          0.0\neyesight(right)        0.0\neyesight(left)         0.0\nwaist(cm)              0.0\nweight(kg)             0.0\nheight(cm)             0.0\nsmoking                0.0\ndtype: float64"
     },
     "execution_count": 46,
     "metadata": {},
     "output_type": "execute_result"
    }
   ],
   "source": [
    "df.isna().mean().sort_values(ascending=False)"
   ],
   "metadata": {
    "collapsed": false,
    "ExecuteTime": {
     "end_time": "2023-06-09T10:13:01.293827900Z",
     "start_time": "2023-06-09T10:13:01.232771200Z"
    }
   }
  },
  {
   "cell_type": "code",
   "execution_count": 47,
   "outputs": [
    {
     "data": {
      "text/plain": "id                     0.0\ntriglyceride           0.0\ndental_caries          0.0\noral                   0.0\ngtp                    0.0\nalt                    0.0\nast                    0.0\nserum_creatinine       0.0\nurine_protein          0.0\nhemoglobin             0.0\nldl                    0.0\nhdl                    0.0\ncholesterol            0.0\nage                    0.0\nfasting_blood_sugar    0.0\nrelaxation             0.0\nsystolic               0.0\nhearing(right)         0.0\nhearing(left)          0.0\neyesight(right)        0.0\neyesight(left)         0.0\nwaist(cm)              0.0\nweight(kg)             0.0\nheight(cm)             0.0\ntartar                 0.0\ndtype: float64"
     },
     "execution_count": 47,
     "metadata": {},
     "output_type": "execute_result"
    }
   ],
   "source": [
    "df_test.isna().mean().sort_values(ascending=False)"
   ],
   "metadata": {
    "collapsed": false,
    "ExecuteTime": {
     "end_time": "2023-06-09T10:13:35.107686200Z",
     "start_time": "2023-06-09T10:13:35.008925800Z"
    }
   }
  },
  {
   "cell_type": "markdown",
   "source": [
    "**Пропуски в данных отсутствуют!!**"
   ],
   "metadata": {
    "collapsed": false
   }
  },
  {
   "cell_type": "markdown",
   "source": [
    "## 4.4 Дубликаты"
   ],
   "metadata": {
    "collapsed": false
   }
  },
  {
   "cell_type": "code",
   "execution_count": 48,
   "outputs": [
    {
     "data": {
      "text/plain": "0"
     },
     "execution_count": 48,
     "metadata": {},
     "output_type": "execute_result"
    }
   ],
   "source": [
    "df.duplicated().sum()"
   ],
   "metadata": {
    "collapsed": false,
    "ExecuteTime": {
     "end_time": "2023-06-09T10:14:37.603645700Z",
     "start_time": "2023-06-09T10:14:37.547594200Z"
    }
   }
  },
  {
   "cell_type": "code",
   "execution_count": 49,
   "outputs": [
    {
     "data": {
      "text/plain": "0"
     },
     "execution_count": 49,
     "metadata": {},
     "output_type": "execute_result"
    }
   ],
   "source": [
    "df_test.duplicated().sum()"
   ],
   "metadata": {
    "collapsed": false,
    "ExecuteTime": {
     "end_time": "2023-06-09T10:14:51.540082100Z",
     "start_time": "2023-06-09T10:14:51.465018500Z"
    }
   }
  },
  {
   "cell_type": "markdown",
   "source": [
    "**Дубликаты отсутствуют!**"
   ],
   "metadata": {
    "collapsed": false
   }
  },
  {
   "cell_type": "markdown",
   "source": [
    "## 4.5 Числовые переменные"
   ],
   "metadata": {
    "collapsed": false
   }
  },
  {
   "cell_type": "code",
   "execution_count": 50,
   "outputs": [
    {
     "data": {
      "text/plain": "                 id           age    height(cm)    weight(kg)     waist(cm)  \\\ncount  13863.000000  13863.000000  13863.000000  13863.000000  13863.000000   \nmean    9932.891654     41.743851    169.618409     71.270288     84.870627   \nstd     5715.739532     13.624383      6.493959     11.195751      8.194957   \nmin        1.000000     20.000000    145.000000     40.000000     51.000000   \n25%     4985.500000     30.000000    165.000000     65.000000     79.200000   \n50%     9956.000000     40.000000    170.000000     70.000000     84.400000   \n75%    14865.500000     50.000000    175.000000     80.000000     90.000000   \nmax    19804.000000     85.000000    190.000000    130.000000    128.000000   \n\n       eyesight(left)  eyesight(right)  hearing(left)  hearing(right)  \\\ncount    13863.000000     13863.000000   13863.000000    13863.000000   \nmean         1.057304         1.053740       1.028060        1.027411   \nstd          0.514618         0.514613       0.165151        0.163284   \nmin          0.100000         0.100000       1.000000        1.000000   \n25%          0.800000         0.800000       1.000000        1.000000   \n50%          1.000000         1.000000       1.000000        1.000000   \n75%          1.200000         1.200000       1.000000        1.000000   \nmax          9.900000         9.900000       2.000000        2.000000   \n\n           systolic    relaxation  fasting_blood_sugar   cholesterol  \\\ncount  13863.000000  13863.000000         13863.000000  13863.000000   \nmean     123.430643     77.166703            99.937387    193.864387   \nstd       12.964684      9.459288            20.682085     35.658783   \nmin       74.000000     40.000000            48.000000     84.000000   \n25%      115.000000     70.000000            90.000000    169.000000   \n50%      122.000000     78.000000            96.000000    192.000000   \n75%      131.000000     83.000000           104.000000    216.000000   \nmax      240.000000    140.000000           475.000000    441.000000   \n\n       triglyceride           hdl           ldl    hemoglobin  urine_protein  \\\ncount  13863.000000  13863.000000  13863.000000  13863.000000   13863.000000   \nmean     130.917767     54.204357    114.435476     15.402200       1.093775   \nstd       71.348298     13.168432     42.050428      1.052598       0.421272   \nmin       16.000000      4.000000      7.000000      6.300000       1.000000   \n25%       78.000000     45.000000     91.000000     14.800000       1.000000   \n50%      113.000000     53.000000    113.000000     15.400000       1.000000   \n75%      166.000000     61.000000    135.000000     16.100000       1.000000   \nmax      466.000000    359.000000   1340.000000     19.600000       6.000000   \n\n       serum_creatinine           ast           alt           gtp  \\\ncount      13863.000000  13863.000000  13863.000000  13863.000000   \nmean           0.981808     27.597562     30.772921     43.442978   \nstd            0.240337     21.559820     36.441688     50.342097   \nmin            0.100000      7.000000      2.000000      2.000000   \n25%            0.900000     20.000000     18.000000     20.000000   \n50%            1.000000     24.000000     24.000000     29.000000   \n75%            1.100000     30.000000     35.000000     48.000000   \nmax           10.000000    981.000000   2914.000000    999.000000   \n\n       dental_caries       smoking  \ncount   13863.000000  13863.000000  \nmean        0.212075      0.201976  \nstd         0.408793      0.401489  \nmin         0.000000      0.000000  \n25%         0.000000      0.000000  \n50%         0.000000      0.000000  \n75%         0.000000      0.000000  \nmax         1.000000      1.000000  ",
      "text/html": "<div>\n<style scoped>\n    .dataframe tbody tr th:only-of-type {\n        vertical-align: middle;\n    }\n\n    .dataframe tbody tr th {\n        vertical-align: top;\n    }\n\n    .dataframe thead th {\n        text-align: right;\n    }\n</style>\n<table border=\"1\" class=\"dataframe\">\n  <thead>\n    <tr style=\"text-align: right;\">\n      <th></th>\n      <th>id</th>\n      <th>age</th>\n      <th>height(cm)</th>\n      <th>weight(kg)</th>\n      <th>waist(cm)</th>\n      <th>eyesight(left)</th>\n      <th>eyesight(right)</th>\n      <th>hearing(left)</th>\n      <th>hearing(right)</th>\n      <th>systolic</th>\n      <th>relaxation</th>\n      <th>fasting_blood_sugar</th>\n      <th>cholesterol</th>\n      <th>triglyceride</th>\n      <th>hdl</th>\n      <th>ldl</th>\n      <th>hemoglobin</th>\n      <th>urine_protein</th>\n      <th>serum_creatinine</th>\n      <th>ast</th>\n      <th>alt</th>\n      <th>gtp</th>\n      <th>dental_caries</th>\n      <th>smoking</th>\n    </tr>\n  </thead>\n  <tbody>\n    <tr>\n      <th>count</th>\n      <td>13863.000000</td>\n      <td>13863.000000</td>\n      <td>13863.000000</td>\n      <td>13863.000000</td>\n      <td>13863.000000</td>\n      <td>13863.000000</td>\n      <td>13863.000000</td>\n      <td>13863.000000</td>\n      <td>13863.000000</td>\n      <td>13863.000000</td>\n      <td>13863.000000</td>\n      <td>13863.000000</td>\n      <td>13863.000000</td>\n      <td>13863.000000</td>\n      <td>13863.000000</td>\n      <td>13863.000000</td>\n      <td>13863.000000</td>\n      <td>13863.000000</td>\n      <td>13863.000000</td>\n      <td>13863.000000</td>\n      <td>13863.000000</td>\n      <td>13863.000000</td>\n      <td>13863.000000</td>\n      <td>13863.000000</td>\n    </tr>\n    <tr>\n      <th>mean</th>\n      <td>9932.891654</td>\n      <td>41.743851</td>\n      <td>169.618409</td>\n      <td>71.270288</td>\n      <td>84.870627</td>\n      <td>1.057304</td>\n      <td>1.053740</td>\n      <td>1.028060</td>\n      <td>1.027411</td>\n      <td>123.430643</td>\n      <td>77.166703</td>\n      <td>99.937387</td>\n      <td>193.864387</td>\n      <td>130.917767</td>\n      <td>54.204357</td>\n      <td>114.435476</td>\n      <td>15.402200</td>\n      <td>1.093775</td>\n      <td>0.981808</td>\n      <td>27.597562</td>\n      <td>30.772921</td>\n      <td>43.442978</td>\n      <td>0.212075</td>\n      <td>0.201976</td>\n    </tr>\n    <tr>\n      <th>std</th>\n      <td>5715.739532</td>\n      <td>13.624383</td>\n      <td>6.493959</td>\n      <td>11.195751</td>\n      <td>8.194957</td>\n      <td>0.514618</td>\n      <td>0.514613</td>\n      <td>0.165151</td>\n      <td>0.163284</td>\n      <td>12.964684</td>\n      <td>9.459288</td>\n      <td>20.682085</td>\n      <td>35.658783</td>\n      <td>71.348298</td>\n      <td>13.168432</td>\n      <td>42.050428</td>\n      <td>1.052598</td>\n      <td>0.421272</td>\n      <td>0.240337</td>\n      <td>21.559820</td>\n      <td>36.441688</td>\n      <td>50.342097</td>\n      <td>0.408793</td>\n      <td>0.401489</td>\n    </tr>\n    <tr>\n      <th>min</th>\n      <td>1.000000</td>\n      <td>20.000000</td>\n      <td>145.000000</td>\n      <td>40.000000</td>\n      <td>51.000000</td>\n      <td>0.100000</td>\n      <td>0.100000</td>\n      <td>1.000000</td>\n      <td>1.000000</td>\n      <td>74.000000</td>\n      <td>40.000000</td>\n      <td>48.000000</td>\n      <td>84.000000</td>\n      <td>16.000000</td>\n      <td>4.000000</td>\n      <td>7.000000</td>\n      <td>6.300000</td>\n      <td>1.000000</td>\n      <td>0.100000</td>\n      <td>7.000000</td>\n      <td>2.000000</td>\n      <td>2.000000</td>\n      <td>0.000000</td>\n      <td>0.000000</td>\n    </tr>\n    <tr>\n      <th>25%</th>\n      <td>4985.500000</td>\n      <td>30.000000</td>\n      <td>165.000000</td>\n      <td>65.000000</td>\n      <td>79.200000</td>\n      <td>0.800000</td>\n      <td>0.800000</td>\n      <td>1.000000</td>\n      <td>1.000000</td>\n      <td>115.000000</td>\n      <td>70.000000</td>\n      <td>90.000000</td>\n      <td>169.000000</td>\n      <td>78.000000</td>\n      <td>45.000000</td>\n      <td>91.000000</td>\n      <td>14.800000</td>\n      <td>1.000000</td>\n      <td>0.900000</td>\n      <td>20.000000</td>\n      <td>18.000000</td>\n      <td>20.000000</td>\n      <td>0.000000</td>\n      <td>0.000000</td>\n    </tr>\n    <tr>\n      <th>50%</th>\n      <td>9956.000000</td>\n      <td>40.000000</td>\n      <td>170.000000</td>\n      <td>70.000000</td>\n      <td>84.400000</td>\n      <td>1.000000</td>\n      <td>1.000000</td>\n      <td>1.000000</td>\n      <td>1.000000</td>\n      <td>122.000000</td>\n      <td>78.000000</td>\n      <td>96.000000</td>\n      <td>192.000000</td>\n      <td>113.000000</td>\n      <td>53.000000</td>\n      <td>113.000000</td>\n      <td>15.400000</td>\n      <td>1.000000</td>\n      <td>1.000000</td>\n      <td>24.000000</td>\n      <td>24.000000</td>\n      <td>29.000000</td>\n      <td>0.000000</td>\n      <td>0.000000</td>\n    </tr>\n    <tr>\n      <th>75%</th>\n      <td>14865.500000</td>\n      <td>50.000000</td>\n      <td>175.000000</td>\n      <td>80.000000</td>\n      <td>90.000000</td>\n      <td>1.200000</td>\n      <td>1.200000</td>\n      <td>1.000000</td>\n      <td>1.000000</td>\n      <td>131.000000</td>\n      <td>83.000000</td>\n      <td>104.000000</td>\n      <td>216.000000</td>\n      <td>166.000000</td>\n      <td>61.000000</td>\n      <td>135.000000</td>\n      <td>16.100000</td>\n      <td>1.000000</td>\n      <td>1.100000</td>\n      <td>30.000000</td>\n      <td>35.000000</td>\n      <td>48.000000</td>\n      <td>0.000000</td>\n      <td>0.000000</td>\n    </tr>\n    <tr>\n      <th>max</th>\n      <td>19804.000000</td>\n      <td>85.000000</td>\n      <td>190.000000</td>\n      <td>130.000000</td>\n      <td>128.000000</td>\n      <td>9.900000</td>\n      <td>9.900000</td>\n      <td>2.000000</td>\n      <td>2.000000</td>\n      <td>240.000000</td>\n      <td>140.000000</td>\n      <td>475.000000</td>\n      <td>441.000000</td>\n      <td>466.000000</td>\n      <td>359.000000</td>\n      <td>1340.000000</td>\n      <td>19.600000</td>\n      <td>6.000000</td>\n      <td>10.000000</td>\n      <td>981.000000</td>\n      <td>2914.000000</td>\n      <td>999.000000</td>\n      <td>1.000000</td>\n      <td>1.000000</td>\n    </tr>\n  </tbody>\n</table>\n</div>"
     },
     "execution_count": 50,
     "metadata": {},
     "output_type": "execute_result"
    }
   ],
   "source": [
    "df.describe()"
   ],
   "metadata": {
    "collapsed": false,
    "ExecuteTime": {
     "end_time": "2023-06-09T10:17:15.556582300Z",
     "start_time": "2023-06-09T10:17:15.449960400Z"
    }
   }
  },
  {
   "cell_type": "markdown",
   "source": [
    "#### Описание числовых переменных\n",
    "**1. Возраст** Минимальный - 20, Максимальный - 85, Средний ≈41, Медианный ≈40\n",
    "**2. Рост (см)** Минимальный - 145, Максимальны 190, Средний ≈169, Медианный ≈170\n",
    "**3. Вес (кг)** Минимальный - 40, Максимальный 130, Средний ≈71.2, Медианный ≈70\n",
    "**4. Окружность талии (см)** Минимальная - 51, Максимальная - 128, Средняя ≈84.8 Медианная ≈84.4\n",
    "**5. Зрение (левый глаз)** Минимальное 0.1, Максимальное 9.9 (**ВЫБРОС?**) Среднее ≈1.05, Медианное ≈1\n",
    "**6. Зрение (правый глаз)** Минимальное 0.1, Максимальное 9.9 (**ВЫБРОС?**) Среднее ≈1.05, Медианное ≈1\n",
    "**7. Слух (левое ухо)** Минимальный 0.16, Максимальный 2, Средний ≈1.02, Медианный ≈1\n",
    "**8. Слух (правое ухо)** Минимальный 0.16, Максимальный 2, Средний ≈1.02, Медианный ≈1\n",
    "**9. Систолическое давление** Минимальное 12.9(**ВЫБРОС?**), Максимальное 240(**ВЫБРОС?**) Среднее ≈123.4, Медианное ≈122\n",
    "**9. Диастолическое давление** Минимальное 9.45(**ВЫБРОС?**), Максимальное 140(**ВЫБРОС?**) Среднее ≈77.1, Медианное ≈78\n",
    "И Т.Д.\n"
   ],
   "metadata": {
    "collapsed": false
   }
  },
  {
   "cell_type": "code",
   "execution_count": null,
   "outputs": [],
   "source": [],
   "metadata": {
    "collapsed": false
   }
  }
 ],
 "metadata": {
  "kernelspec": {
   "display_name": "Python 3",
   "language": "python",
   "name": "python3"
  },
  "language_info": {
   "codemirror_mode": {
    "name": "ipython",
    "version": 2
   },
   "file_extension": ".py",
   "mimetype": "text/x-python",
   "name": "python",
   "nbconvert_exporter": "python",
   "pygments_lexer": "ipython2",
   "version": "2.7.6"
  }
 },
 "nbformat": 4,
 "nbformat_minor": 0
}
