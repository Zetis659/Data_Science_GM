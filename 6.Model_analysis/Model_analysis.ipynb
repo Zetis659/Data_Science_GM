{
 "cells": [
  {
   "cell_type": "markdown",
   "source": [
    "## Загрузка данных\n",
    "#### Данные беру из Human_learning"
   ],
   "metadata": {
    "collapsed": false
   }
  },
  {
   "cell_type": "markdown",
   "source": [
    "# Colab"
   ],
   "metadata": {
    "collapsed": false
   }
  },
  {
   "cell_type": "code",
   "execution_count": 1,
   "outputs": [
    {
     "name": "stderr",
     "output_type": "stream",
     "text": [
      "\"gdown\" ­Ґ пў«пҐвбп ў­гваҐ­­Ґ© Ё«Ё ў­Ґи­Ґ©\n",
      "Є®¬ ­¤®©, ЁбЇ®«­пҐ¬®© Їа®Ја ¬¬®© Ё«Ё Ї ЄҐв­л¬ д ©«®¬.\n"
     ]
    }
   ],
   "source": [
    "! gdown --id 1P3aYu5kdMLOVxgl2K6wjzx-HtWB5J_wu"
   ],
   "metadata": {
    "collapsed": false,
    "pycharm": {
     "name": "#%%\n"
    }
   }
  },
  {
   "cell_type": "code",
   "execution_count": 2,
   "outputs": [
    {
     "name": "stderr",
     "output_type": "stream",
     "text": [
      "\"unzip\" ­Ґ пў«пҐвбп ў­гваҐ­­Ґ© Ё«Ё ў­Ґи­Ґ©\n",
      "Є®¬ ­¤®©, ЁбЇ®«­пҐ¬®© Їа®Ја ¬¬®© Ё«Ё Ї ЄҐв­л¬ д ©«®¬.\n"
     ]
    }
   ],
   "source": [
    "! unzip / content / uk_used_cars.zip -d / content / uk_used_cars /"
   ],
   "metadata": {
    "collapsed": false,
    "pycharm": {
     "name": "#%%\n"
    }
   }
  },
  {
   "cell_type": "code",
   "execution_count": 11,
   "outputs": [],
   "source": [
    "import pandas as pd"
   ],
   "metadata": {
    "collapsed": false,
    "pycharm": {
     "name": "#%%\n"
    }
   }
  },
  {
   "cell_type": "code",
   "execution_count": null,
   "outputs": [],
   "source": [
    "df = pd.read_csv('/content/uk_used_cars/bmw.csv')"
   ],
   "metadata": {
    "collapsed": false,
    "pycharm": {
     "name": "#%%\n"
    }
   }
  },
  {
   "cell_type": "code",
   "execution_count": 5,
   "outputs": [
    {
     "ename": "NameError",
     "evalue": "name 'df' is not defined",
     "output_type": "error",
     "traceback": [
      "\u001B[1;31m---------------------------------------------------------------------------\u001B[0m",
      "\u001B[1;31mNameError\u001B[0m                                 Traceback (most recent call last)",
      "Cell \u001B[1;32mIn [5], line 1\u001B[0m\n\u001B[1;32m----> 1\u001B[0m \u001B[43mdf\u001B[49m\u001B[38;5;241m.\u001B[39mhead()\n",
      "\u001B[1;31mNameError\u001B[0m: name 'df' is not defined"
     ]
    }
   ],
   "source": [
    "df.head()"
   ],
   "metadata": {
    "collapsed": false,
    "pycharm": {
     "name": "#%%\n"
    }
   }
  },
  {
   "cell_type": "markdown",
   "source": [
    "# Pycharm"
   ],
   "metadata": {
    "collapsed": false
   }
  },
  {
   "cell_type": "code",
   "execution_count": 1,
   "outputs": [],
   "source": [
    "from zipfile import ZipFile\n",
    "\n",
    "with ZipFile('uk_used_cars.zip', 'r') as zf:\n",
    "    zf.extractall()"
   ],
   "metadata": {
    "collapsed": false,
    "pycharm": {
     "name": "#%%\n"
    }
   }
  },
  {
   "cell_type": "code",
   "execution_count": 1,
   "outputs": [],
   "source": [
    "import pandas as pd"
   ],
   "metadata": {
    "collapsed": false,
    "pycharm": {
     "name": "#%%\n"
    }
   }
  },
  {
   "cell_type": "code",
   "execution_count": 2,
   "outputs": [],
   "source": [
    "df = pd.read_csv(r'C:\\PyCharm\\Python\\Data_Science_GM\\4.Human_learning\\bmw.csv')"
   ],
   "metadata": {
    "collapsed": false,
    "pycharm": {
     "name": "#%%\n"
    }
   }
  },
  {
   "cell_type": "code",
   "execution_count": 3,
   "outputs": [
    {
     "data": {
      "text/plain": "       model  year  price transmission  mileage fuelType  tax   mpg  \\\n0   5 Series  2014  11200    Automatic    67068   Diesel  125  57.6   \n1   6 Series  2018  27000    Automatic    14827   Petrol  145  42.8   \n2   5 Series  2016  16000    Automatic    62794   Diesel  160  51.4   \n3   1 Series  2017  12750    Automatic    26676   Diesel  145  72.4   \n4   7 Series  2014  14500    Automatic    39554   Diesel  160  50.4   \n\n   engineSize  \n0         2.0  \n1         2.0  \n2         3.0  \n3         1.5  \n4         3.0  ",
      "text/html": "<div>\n<style scoped>\n    .dataframe tbody tr th:only-of-type {\n        vertical-align: middle;\n    }\n\n    .dataframe tbody tr th {\n        vertical-align: top;\n    }\n\n    .dataframe thead th {\n        text-align: right;\n    }\n</style>\n<table border=\"1\" class=\"dataframe\">\n  <thead>\n    <tr style=\"text-align: right;\">\n      <th></th>\n      <th>model</th>\n      <th>year</th>\n      <th>price</th>\n      <th>transmission</th>\n      <th>mileage</th>\n      <th>fuelType</th>\n      <th>tax</th>\n      <th>mpg</th>\n      <th>engineSize</th>\n    </tr>\n  </thead>\n  <tbody>\n    <tr>\n      <th>0</th>\n      <td>5 Series</td>\n      <td>2014</td>\n      <td>11200</td>\n      <td>Automatic</td>\n      <td>67068</td>\n      <td>Diesel</td>\n      <td>125</td>\n      <td>57.6</td>\n      <td>2.0</td>\n    </tr>\n    <tr>\n      <th>1</th>\n      <td>6 Series</td>\n      <td>2018</td>\n      <td>27000</td>\n      <td>Automatic</td>\n      <td>14827</td>\n      <td>Petrol</td>\n      <td>145</td>\n      <td>42.8</td>\n      <td>2.0</td>\n    </tr>\n    <tr>\n      <th>2</th>\n      <td>5 Series</td>\n      <td>2016</td>\n      <td>16000</td>\n      <td>Automatic</td>\n      <td>62794</td>\n      <td>Diesel</td>\n      <td>160</td>\n      <td>51.4</td>\n      <td>3.0</td>\n    </tr>\n    <tr>\n      <th>3</th>\n      <td>1 Series</td>\n      <td>2017</td>\n      <td>12750</td>\n      <td>Automatic</td>\n      <td>26676</td>\n      <td>Diesel</td>\n      <td>145</td>\n      <td>72.4</td>\n      <td>1.5</td>\n    </tr>\n    <tr>\n      <th>4</th>\n      <td>7 Series</td>\n      <td>2014</td>\n      <td>14500</td>\n      <td>Automatic</td>\n      <td>39554</td>\n      <td>Diesel</td>\n      <td>160</td>\n      <td>50.4</td>\n      <td>3.0</td>\n    </tr>\n  </tbody>\n</table>\n</div>"
     },
     "execution_count": 3,
     "metadata": {},
     "output_type": "execute_result"
    }
   ],
   "source": [
    "df.head()"
   ],
   "metadata": {
    "collapsed": false,
    "pycharm": {
     "name": "#%%\n"
    }
   }
  },
  {
   "cell_type": "code",
   "execution_count": 4,
   "outputs": [
    {
     "data": {
      "text/plain": "(10781, 9)"
     },
     "execution_count": 4,
     "metadata": {},
     "output_type": "execute_result"
    }
   ],
   "source": [
    "df.shape"
   ],
   "metadata": {
    "collapsed": false,
    "pycharm": {
     "name": "#%%\n"
    }
   }
  },
  {
   "cell_type": "markdown",
   "source": [
    "# Обучающая, валидационная и тестовая выборка"
   ],
   "metadata": {
    "collapsed": false
   }
  },
  {
   "cell_type": "code",
   "execution_count": 5,
   "outputs": [],
   "source": [
    "from sklearn.model_selection import train_test_split"
   ],
   "metadata": {
    "collapsed": false,
    "pycharm": {
     "name": "#%%\n"
    }
   }
  },
  {
   "cell_type": "code",
   "execution_count": 6,
   "outputs": [],
   "source": [
    "train, test = train_test_split(df,train_size=0.6,random_state=42)"
   ],
   "metadata": {
    "collapsed": false,
    "pycharm": {
     "name": "#%%\n"
    }
   }
  },
  {
   "cell_type": "code",
   "execution_count": 7,
   "outputs": [],
   "source": [
    "val, test = train_test_split(test,train_size=0.5,random_state=42)"
   ],
   "metadata": {
    "collapsed": false,
    "pycharm": {
     "name": "#%%\n"
    }
   }
  },
  {
   "cell_type": "markdown",
   "source": [
    "# Список фичей"
   ],
   "metadata": {
    "collapsed": false
   }
  },
  {
   "cell_type": "code",
   "execution_count": 8,
   "outputs": [],
   "source": [
    "X = ['model', 'year', 'transmission', 'mileage', 'fuelType', 'tax',\n",
    "       'mpg', 'engineSize']\n",
    "\n",
    "cat_features = ['model', 'transmission', 'fuelType']\n",
    "\n",
    "y = ['price']"
   ],
   "metadata": {
    "collapsed": false,
    "pycharm": {
     "name": "#%%\n"
    }
   }
  },
  {
   "cell_type": "code",
   "execution_count": 9,
   "outputs": [],
   "source": [
    "from catboost import CatBoostRegressor"
   ],
   "metadata": {
    "collapsed": false,
    "pycharm": {
     "name": "#%%\n"
    }
   }
  },
  {
   "cell_type": "code",
   "execution_count": 10,
   "outputs": [],
   "source": [
    "parameters = {'cat_features': cat_features,\n",
    "              'eval_metric': 'MAPE',\n",
    "              'learning_rate': 0.08,\n",
    "              'random_seed':42,\n",
    "              'verbose':100}"
   ],
   "metadata": {
    "collapsed": false,
    "pycharm": {
     "name": "#%%\n"
    }
   }
  },
  {
   "cell_type": "code",
   "execution_count": 11,
   "outputs": [],
   "source": [
    "model = CatBoostRegressor(**parameters)"
   ],
   "metadata": {
    "collapsed": false,
    "pycharm": {
     "name": "#%%\n"
    }
   }
  },
  {
   "cell_type": "code",
   "execution_count": 12,
   "outputs": [
    {
     "name": "stdout",
     "output_type": "stream",
     "text": [
      "0:\tlearn: 0.4564416\ttest: 0.4521294\tbest: 0.4521294 (0)\ttotal: 165ms\tremaining: 2m 44s\n",
      "100:\tlearn: 0.0875290\ttest: 0.0867329\tbest: 0.0867329 (100)\ttotal: 2.19s\tremaining: 19.5s\n",
      "200:\tlearn: 0.0760834\ttest: 0.0779235\tbest: 0.0779235 (200)\ttotal: 4.4s\tremaining: 17.5s\n",
      "300:\tlearn: 0.0708670\ttest: 0.0740290\tbest: 0.0740290 (300)\ttotal: 6.55s\tremaining: 15.2s\n",
      "400:\tlearn: 0.0676240\ttest: 0.0718814\tbest: 0.0718814 (400)\ttotal: 8.42s\tremaining: 12.6s\n",
      "500:\tlearn: 0.0654070\ttest: 0.0709221\tbest: 0.0708594 (496)\ttotal: 10.3s\tremaining: 10.2s\n",
      "600:\tlearn: 0.0638577\ttest: 0.0704606\tbest: 0.0704490 (599)\ttotal: 12.1s\tremaining: 8.06s\n",
      "700:\tlearn: 0.0622969\ttest: 0.0698226\tbest: 0.0698226 (700)\ttotal: 14s\tremaining: 5.97s\n",
      "800:\tlearn: 0.0609583\ttest: 0.0694169\tbest: 0.0694004 (791)\ttotal: 15.8s\tremaining: 3.93s\n",
      "900:\tlearn: 0.0596089\ttest: 0.0689968\tbest: 0.0689945 (895)\ttotal: 17.6s\tremaining: 1.94s\n",
      "999:\tlearn: 0.0584626\ttest: 0.0686829\tbest: 0.0686377 (993)\ttotal: 19.5s\tremaining: 0us\n",
      "\n",
      "bestTest = 0.06863774536\n",
      "bestIteration = 993\n",
      "\n",
      "Shrink model to first 994 iterations.\n"
     ]
    },
    {
     "data": {
      "text/plain": "<catboost.core.CatBoostRegressor at 0x1faffaeff50>"
     },
     "execution_count": 12,
     "metadata": {},
     "output_type": "execute_result"
    }
   ],
   "source": [
    "model.fit(train[X],train[y],eval_set=(val[X],val[y]))"
   ],
   "metadata": {
    "collapsed": false,
    "pycharm": {
     "name": "#%%\n"
    }
   }
  },
  {
   "cell_type": "markdown",
   "source": [
    "# Проверка на тестовой выборке"
   ],
   "metadata": {
    "collapsed": false
   }
  },
  {
   "cell_type": "code",
   "execution_count": 13,
   "outputs": [],
   "source": [
    "test['price_pred'] = model.predict(test[X])"
   ],
   "metadata": {
    "collapsed": false,
    "pycharm": {
     "name": "#%%\n"
    }
   }
  },
  {
   "cell_type": "code",
   "execution_count": 14,
   "outputs": [],
   "source": [
    "from sklearn.metrics import mean_absolute_error, mean_absolute_percentage_error"
   ],
   "metadata": {
    "collapsed": false,
    "pycharm": {
     "name": "#%%\n"
    }
   }
  },
  {
   "cell_type": "code",
   "execution_count": 15,
   "outputs": [],
   "source": [
    "def error(y_true,y_pred):\n",
    "  print(mean_absolute_error(y_true,y_pred))\n",
    "  print(mean_absolute_percentage_error(y_true,y_pred))"
   ],
   "metadata": {
    "collapsed": false,
    "pycharm": {
     "name": "#%%\n"
    }
   }
  },
  {
   "cell_type": "code",
   "execution_count": 16,
   "outputs": [
    {
     "name": "stdout",
     "output_type": "stream",
     "text": [
      "1537.5600657036578\n",
      "0.0724718966452533\n"
     ]
    }
   ],
   "source": [
    "error(test['price'],test['price_pred'])"
   ],
   "metadata": {
    "collapsed": false,
    "pycharm": {
     "name": "#%%\n"
    }
   }
  },
  {
   "cell_type": "markdown",
   "source": [
    "## Анализ ошибок"
   ],
   "metadata": {
    "collapsed": false,
    "pycharm": {
     "name": "#%% md\n"
    }
   }
  },
  {
   "cell_type": "markdown",
   "source": [
    "##### Добавим колонку ошибки, чтобы знать, на сколько модель занижает или завышает стоимость авто"
   ],
   "metadata": {
    "collapsed": false,
    "pycharm": {
     "name": "#%% md\n"
    }
   }
  },
  {
   "cell_type": "markdown",
   "source": [
    "##### Ошибки анализируются на тех данных, которые модель не видела, то есть на тестовых"
   ],
   "metadata": {
    "collapsed": false,
    "pycharm": {
     "name": "#%% md\n"
    }
   }
  },
  {
   "cell_type": "code",
   "execution_count": 17,
   "outputs": [],
   "source": [
    "test['error'] = test.price_pred - test.price"
   ],
   "metadata": {
    "collapsed": false,
    "pycharm": {
     "name": "#%%\n"
    }
   }
  },
  {
   "cell_type": "code",
   "execution_count": 18,
   "outputs": [
    {
     "data": {
      "text/plain": "          model  year  price transmission  mileage fuelType  tax   mpg  \\\n4984         X6  2019  52990    Semi-Auto     3086   Diesel  145  34.9   \n4880         X1  2018  24081    Semi-Auto    13245   Diesel  150  60.1   \n9132   1 Series  2016  12999    Automatic    68949   Petrol  200  43.5   \n6451   1 Series  2020  11995    Semi-Auto       10   Petrol  150  34.5   \n7199   3 Series  2020  29875    Semi-Auto      150   Petrol  145  42.2   \n\n      engineSize    price_pred         error  \n4984         3.0  56789.268481   3799.268481  \n4880         2.0  22236.888207  -1844.111793  \n9132         2.0  13529.705791    530.705791  \n6451         2.0  31815.676673  19820.676673  \n7199         2.0  35549.276658   5674.276658  ",
      "text/html": "<div>\n<style scoped>\n    .dataframe tbody tr th:only-of-type {\n        vertical-align: middle;\n    }\n\n    .dataframe tbody tr th {\n        vertical-align: top;\n    }\n\n    .dataframe thead th {\n        text-align: right;\n    }\n</style>\n<table border=\"1\" class=\"dataframe\">\n  <thead>\n    <tr style=\"text-align: right;\">\n      <th></th>\n      <th>model</th>\n      <th>year</th>\n      <th>price</th>\n      <th>transmission</th>\n      <th>mileage</th>\n      <th>fuelType</th>\n      <th>tax</th>\n      <th>mpg</th>\n      <th>engineSize</th>\n      <th>price_pred</th>\n      <th>error</th>\n    </tr>\n  </thead>\n  <tbody>\n    <tr>\n      <th>4984</th>\n      <td>X6</td>\n      <td>2019</td>\n      <td>52990</td>\n      <td>Semi-Auto</td>\n      <td>3086</td>\n      <td>Diesel</td>\n      <td>145</td>\n      <td>34.9</td>\n      <td>3.0</td>\n      <td>56789.268481</td>\n      <td>3799.268481</td>\n    </tr>\n    <tr>\n      <th>4880</th>\n      <td>X1</td>\n      <td>2018</td>\n      <td>24081</td>\n      <td>Semi-Auto</td>\n      <td>13245</td>\n      <td>Diesel</td>\n      <td>150</td>\n      <td>60.1</td>\n      <td>2.0</td>\n      <td>22236.888207</td>\n      <td>-1844.111793</td>\n    </tr>\n    <tr>\n      <th>9132</th>\n      <td>1 Series</td>\n      <td>2016</td>\n      <td>12999</td>\n      <td>Automatic</td>\n      <td>68949</td>\n      <td>Petrol</td>\n      <td>200</td>\n      <td>43.5</td>\n      <td>2.0</td>\n      <td>13529.705791</td>\n      <td>530.705791</td>\n    </tr>\n    <tr>\n      <th>6451</th>\n      <td>1 Series</td>\n      <td>2020</td>\n      <td>11995</td>\n      <td>Semi-Auto</td>\n      <td>10</td>\n      <td>Petrol</td>\n      <td>150</td>\n      <td>34.5</td>\n      <td>2.0</td>\n      <td>31815.676673</td>\n      <td>19820.676673</td>\n    </tr>\n    <tr>\n      <th>7199</th>\n      <td>3 Series</td>\n      <td>2020</td>\n      <td>29875</td>\n      <td>Semi-Auto</td>\n      <td>150</td>\n      <td>Petrol</td>\n      <td>145</td>\n      <td>42.2</td>\n      <td>2.0</td>\n      <td>35549.276658</td>\n      <td>5674.276658</td>\n    </tr>\n  </tbody>\n</table>\n</div>"
     },
     "execution_count": 18,
     "metadata": {},
     "output_type": "execute_result"
    }
   ],
   "source": [
    "test.head()"
   ],
   "metadata": {
    "collapsed": false,
    "pycharm": {
     "name": "#%%\n"
    }
   }
  },
  {
   "cell_type": "code",
   "execution_count": 19,
   "outputs": [],
   "source": [
    "import matplotlib.pyplot as plt\n",
    "\n",
    "plt.style.use('dark_background')\n",
    "plt.style.use('seaborn-v0_8-colorblind')"
   ],
   "metadata": {
    "collapsed": false,
    "pycharm": {
     "name": "#%%\n"
    }
   }
  },
  {
   "cell_type": "markdown",
   "source": [
    "##### Смотрим на симметричность модели, с помощью гистограммы и среднего.\n",
    "##### Модель довольно симметричная"
   ],
   "metadata": {
    "collapsed": false,
    "pycharm": {
     "name": "#%% md\n"
    }
   }
  },
  {
   "cell_type": "code",
   "execution_count": 20,
   "outputs": [
    {
     "data": {
      "text/plain": "<Figure size 640x480 with 1 Axes>",
      "image/png": "[encoded data removed]"
     },
     "metadata": {},
     "output_type": "display_data"
    }
   ],
   "source": [
    "test.error.hist();"
   ],
   "metadata": {
    "collapsed": false,
    "pycharm": {
     "name": "#%%\n"
    }
   }
  },
  {
   "cell_type": "code",
   "execution_count": 21,
   "outputs": [
    {
     "data": {
      "text/plain": "122.08788795070966"
     },
     "execution_count": 21,
     "metadata": {},
     "output_type": "execute_result"
    }
   ],
   "source": [
    "test.error.mean()"
   ],
   "metadata": {
    "collapsed": false,
    "pycharm": {
     "name": "#%%\n"
    }
   }
  },
  {
   "cell_type": "markdown",
   "source": [
    "## Абсолютная ошибка"
   ],
   "metadata": {
    "collapsed": false,
    "pycharm": {
     "name": "#%% md\n"
    }
   }
  },
  {
   "cell_type": "code",
   "execution_count": 22,
   "outputs": [],
   "source": [
    "test['error_abs'] = abs(test.error)"
   ],
   "metadata": {
    "collapsed": false,
    "pycharm": {
     "name": "#%%\n"
    }
   }
  },
  {
   "cell_type": "code",
   "execution_count": 23,
   "outputs": [
    {
     "data": {
      "text/plain": "          model  year  price transmission  mileage fuelType  tax   mpg  \\\n4984         X6  2019  52990    Semi-Auto     3086   Diesel  145  34.9   \n4880         X1  2018  24081    Semi-Auto    13245   Diesel  150  60.1   \n9132   1 Series  2016  12999    Automatic    68949   Petrol  200  43.5   \n6451   1 Series  2020  11995    Semi-Auto       10   Petrol  150  34.5   \n7199   3 Series  2020  29875    Semi-Auto      150   Petrol  145  42.2   \n\n      engineSize    price_pred         error     error_abs  \n4984         3.0  56789.268481   3799.268481   3799.268481  \n4880         2.0  22236.888207  -1844.111793   1844.111793  \n9132         2.0  13529.705791    530.705791    530.705791  \n6451         2.0  31815.676673  19820.676673  19820.676673  \n7199         2.0  35549.276658   5674.276658   5674.276658  ",
      "text/html": "<div>\n<style scoped>\n    .dataframe tbody tr th:only-of-type {\n        vertical-align: middle;\n    }\n\n    .dataframe tbody tr th {\n        vertical-align: top;\n    }\n\n    .dataframe thead th {\n        text-align: right;\n    }\n</style>\n<table border=\"1\" class=\"dataframe\">\n  <thead>\n    <tr style=\"text-align: right;\">\n      <th></th>\n      <th>model</th>\n      <th>year</th>\n      <th>price</th>\n      <th>transmission</th>\n      <th>mileage</th>\n      <th>fuelType</th>\n      <th>tax</th>\n      <th>mpg</th>\n      <th>engineSize</th>\n      <th>price_pred</th>\n      <th>error</th>\n      <th>error_abs</th>\n    </tr>\n  </thead>\n  <tbody>\n    <tr>\n      <th>4984</th>\n      <td>X6</td>\n      <td>2019</td>\n      <td>52990</td>\n      <td>Semi-Auto</td>\n      <td>3086</td>\n      <td>Diesel</td>\n      <td>145</td>\n      <td>34.9</td>\n      <td>3.0</td>\n      <td>56789.268481</td>\n      <td>3799.268481</td>\n      <td>3799.268481</td>\n    </tr>\n    <tr>\n      <th>4880</th>\n      <td>X1</td>\n      <td>2018</td>\n      <td>24081</td>\n      <td>Semi-Auto</td>\n      <td>13245</td>\n      <td>Diesel</td>\n      <td>150</td>\n      <td>60.1</td>\n      <td>2.0</td>\n      <td>22236.888207</td>\n      <td>-1844.111793</td>\n      <td>1844.111793</td>\n    </tr>\n    <tr>\n      <th>9132</th>\n      <td>1 Series</td>\n      <td>2016</td>\n      <td>12999</td>\n      <td>Automatic</td>\n      <td>68949</td>\n      <td>Petrol</td>\n      <td>200</td>\n      <td>43.5</td>\n      <td>2.0</td>\n      <td>13529.705791</td>\n      <td>530.705791</td>\n      <td>530.705791</td>\n    </tr>\n    <tr>\n      <th>6451</th>\n      <td>1 Series</td>\n      <td>2020</td>\n      <td>11995</td>\n      <td>Semi-Auto</td>\n      <td>10</td>\n      <td>Petrol</td>\n      <td>150</td>\n      <td>34.5</td>\n      <td>2.0</td>\n      <td>31815.676673</td>\n      <td>19820.676673</td>\n      <td>19820.676673</td>\n    </tr>\n    <tr>\n      <th>7199</th>\n      <td>3 Series</td>\n      <td>2020</td>\n      <td>29875</td>\n      <td>Semi-Auto</td>\n      <td>150</td>\n      <td>Petrol</td>\n      <td>145</td>\n      <td>42.2</td>\n      <td>2.0</td>\n      <td>35549.276658</td>\n      <td>5674.276658</td>\n      <td>5674.276658</td>\n    </tr>\n  </tbody>\n</table>\n</div>"
     },
     "execution_count": 23,
     "metadata": {},
     "output_type": "execute_result"
    }
   ],
   "source": [
    "test.head()"
   ],
   "metadata": {
    "collapsed": false,
    "pycharm": {
     "name": "#%%\n"
    }
   }
  },
  {
   "cell_type": "code",
   "execution_count": 24,
   "outputs": [
    {
     "data": {
      "text/plain": "<Figure size 640x480 with 1 Axes>",
      "image/png": "[encoded data removed]"
     },
     "metadata": {},
     "output_type": "display_data"
    }
   ],
   "source": [
    "test.error_abs.hist();"
   ],
   "metadata": {
    "collapsed": false,
    "pycharm": {
     "name": "#%%\n"
    }
   }
  },
  {
   "cell_type": "code",
   "execution_count": 25,
   "outputs": [
    {
     "data": {
      "text/plain": "count     2157.000000\nmean      1537.560066\nstd       1676.859544\nmin          0.083199\n25%        489.152540\n50%       1073.305750\n75%       1946.619471\nmax      19820.676673\nName: error_abs, dtype: float64"
     },
     "execution_count": 25,
     "metadata": {},
     "output_type": "execute_result"
    }
   ],
   "source": [
    "test.error_abs.describe()"
   ],
   "metadata": {
    "collapsed": false,
    "pycharm": {
     "name": "#%%\n"
    }
   }
  },
  {
   "cell_type": "markdown",
   "source": [
    "##### Посмотрим топ 10 машин с самой большой ошибкой"
   ],
   "metadata": {
    "collapsed": false,
    "pycharm": {
     "name": "#%% md\n"
    }
   }
  },
  {
   "cell_type": "code",
   "execution_count": 26,
   "outputs": [
    {
     "data": {
      "text/plain": "          model  year  price transmission  mileage fuelType  tax   mpg  \\\n6451   1 Series  2020  11995    Semi-Auto       10   Petrol  150  34.5   \n1244   4 Series  2020  47550    Semi-Auto      101   Diesel  145  60.1   \n6866   4 Series  2020  42520    Semi-Auto      102   Diesel  145  65.7   \n6592         M5  2019  70995    Semi-Auto       23   Petrol  145  24.1   \n2315         X2  2019  44980    Semi-Auto      500   Diesel  145  58.9   \n6270         M4  2020  59999    Semi-Auto     3000   Petrol  150  28.5   \n947    2 Series  2015  11998    Semi-Auto    30738   Diesel   20  68.9   \n6759   4 Series  2020  42495    Semi-Auto       18   Diesel  150  58.9   \n4833         M4  2019  58662    Automatic     3395   Petrol  145  34.0   \n6215         M4  2018  53999    Semi-Auto     8725   Petrol  145  33.6   \n\n      engineSize    price_pred         error     error_abs  \n6451         2.0  31815.676673  19820.676673  19820.676673  \n1244         2.0  31822.814760 -15727.185240  15727.185240  \n6866         2.0  28016.370190 -14503.629810  14503.629810  \n6592         4.4  85092.283023  14097.283023  14097.283023  \n2315         2.0  32052.149452 -12927.850548  12927.850548  \n6270         3.0  47193.043921 -12805.956079  12805.956079  \n947          2.0  24663.932331  12665.932331  12665.932331  \n6759         2.0  30133.732400 -12361.267600  12361.267600  \n4833         3.0  46802.901943 -11859.098057  11859.098057  \n6215         3.0  42513.071957 -11485.928043  11485.928043  ",
      "text/html": "<div>\n<style scoped>\n    .dataframe tbody tr th:only-of-type {\n        vertical-align: middle;\n    }\n\n    .dataframe tbody tr th {\n        vertical-align: top;\n    }\n\n    .dataframe thead th {\n        text-align: right;\n    }\n</style>\n<table border=\"1\" class=\"dataframe\">\n  <thead>\n    <tr style=\"text-align: right;\">\n      <th></th>\n      <th>model</th>\n      <th>year</th>\n      <th>price</th>\n      <th>transmission</th>\n      <th>mileage</th>\n      <th>fuelType</th>\n      <th>tax</th>\n      <th>mpg</th>\n      <th>engineSize</th>\n      <th>price_pred</th>\n      <th>error</th>\n      <th>error_abs</th>\n    </tr>\n  </thead>\n  <tbody>\n    <tr>\n      <th>6451</th>\n      <td>1 Series</td>\n      <td>2020</td>\n      <td>11995</td>\n      <td>Semi-Auto</td>\n      <td>10</td>\n      <td>Petrol</td>\n      <td>150</td>\n      <td>34.5</td>\n      <td>2.0</td>\n      <td>31815.676673</td>\n      <td>19820.676673</td>\n      <td>19820.676673</td>\n    </tr>\n    <tr>\n      <th>1244</th>\n      <td>4 Series</td>\n      <td>2020</td>\n      <td>47550</td>\n      <td>Semi-Auto</td>\n      <td>101</td>\n      <td>Diesel</td>\n      <td>145</td>\n      <td>60.1</td>\n      <td>2.0</td>\n      <td>31822.814760</td>\n      <td>-15727.185240</td>\n      <td>15727.185240</td>\n    </tr>\n    <tr>\n      <th>6866</th>\n      <td>4 Series</td>\n      <td>2020</td>\n      <td>42520</td>\n      <td>Semi-Auto</td>\n      <td>102</td>\n      <td>Diesel</td>\n      <td>145</td>\n      <td>65.7</td>\n      <td>2.0</td>\n      <td>28016.370190</td>\n      <td>-14503.629810</td>\n      <td>14503.629810</td>\n    </tr>\n    <tr>\n      <th>6592</th>\n      <td>M5</td>\n      <td>2019</td>\n      <td>70995</td>\n      <td>Semi-Auto</td>\n      <td>23</td>\n      <td>Petrol</td>\n      <td>145</td>\n      <td>24.1</td>\n      <td>4.4</td>\n      <td>85092.283023</td>\n      <td>14097.283023</td>\n      <td>14097.283023</td>\n    </tr>\n    <tr>\n      <th>2315</th>\n      <td>X2</td>\n      <td>2019</td>\n      <td>44980</td>\n      <td>Semi-Auto</td>\n      <td>500</td>\n      <td>Diesel</td>\n      <td>145</td>\n      <td>58.9</td>\n      <td>2.0</td>\n      <td>32052.149452</td>\n      <td>-12927.850548</td>\n      <td>12927.850548</td>\n    </tr>\n    <tr>\n      <th>6270</th>\n      <td>M4</td>\n      <td>2020</td>\n      <td>59999</td>\n      <td>Semi-Auto</td>\n      <td>3000</td>\n      <td>Petrol</td>\n      <td>150</td>\n      <td>28.5</td>\n      <td>3.0</td>\n      <td>47193.043921</td>\n      <td>-12805.956079</td>\n      <td>12805.956079</td>\n    </tr>\n    <tr>\n      <th>947</th>\n      <td>2 Series</td>\n      <td>2015</td>\n      <td>11998</td>\n      <td>Semi-Auto</td>\n      <td>30738</td>\n      <td>Diesel</td>\n      <td>20</td>\n      <td>68.9</td>\n      <td>2.0</td>\n      <td>24663.932331</td>\n      <td>12665.932331</td>\n      <td>12665.932331</td>\n    </tr>\n    <tr>\n      <th>6759</th>\n      <td>4 Series</td>\n      <td>2020</td>\n      <td>42495</td>\n      <td>Semi-Auto</td>\n      <td>18</td>\n      <td>Diesel</td>\n      <td>150</td>\n      <td>58.9</td>\n      <td>2.0</td>\n      <td>30133.732400</td>\n      <td>-12361.267600</td>\n      <td>12361.267600</td>\n    </tr>\n    <tr>\n      <th>4833</th>\n      <td>M4</td>\n      <td>2019</td>\n      <td>58662</td>\n      <td>Automatic</td>\n      <td>3395</td>\n      <td>Petrol</td>\n      <td>145</td>\n      <td>34.0</td>\n      <td>3.0</td>\n      <td>46802.901943</td>\n      <td>-11859.098057</td>\n      <td>11859.098057</td>\n    </tr>\n    <tr>\n      <th>6215</th>\n      <td>M4</td>\n      <td>2018</td>\n      <td>53999</td>\n      <td>Semi-Auto</td>\n      <td>8725</td>\n      <td>Petrol</td>\n      <td>145</td>\n      <td>33.6</td>\n      <td>3.0</td>\n      <td>42513.071957</td>\n      <td>-11485.928043</td>\n      <td>11485.928043</td>\n    </tr>\n  </tbody>\n</table>\n</div>"
     },
     "execution_count": 26,
     "metadata": {},
     "output_type": "execute_result"
    }
   ],
   "source": [
    "test.sort_values('error_abs', ascending=False).head(10)"
   ],
   "metadata": {
    "collapsed": false,
    "pycharm": {
     "name": "#%%\n"
    }
   }
  },
  {
   "cell_type": "markdown",
   "source": [
    "## Анализ абсолютной ошибки"
   ],
   "metadata": {
    "collapsed": false,
    "pycharm": {
     "name": "#%% md\n"
    }
   }
  },
  {
   "cell_type": "markdown",
   "source": [
    "##### Сгруппируем автомобили по цене для просмотра средней ошибки"
   ],
   "metadata": {
    "collapsed": false,
    "pycharm": {
     "name": "#%% md\n"
    }
   }
  },
  {
   "cell_type": "code",
   "execution_count": 27,
   "outputs": [],
   "source": [
    "test['price_group'] = pd.qcut(test.price, 5)  # qcut разбивает группу на интервалы, практически равные по количеству наблюдений"
   ],
   "metadata": {
    "collapsed": false,
    "pycharm": {
     "name": "#%%\n"
    }
   }
  },
  {
   "cell_type": "code",
   "execution_count": 28,
   "outputs": [
    {
     "data": {
      "text/plain": "          model  year  price transmission  mileage fuelType  tax   mpg  \\\n4984         X6  2019  52990    Semi-Auto     3086   Diesel  145  34.9   \n4880         X1  2018  24081    Semi-Auto    13245   Diesel  150  60.1   \n9132   1 Series  2016  12999    Automatic    68949   Petrol  200  43.5   \n6451   1 Series  2020  11995    Semi-Auto       10   Petrol  150  34.5   \n7199   3 Series  2020  29875    Semi-Auto      150   Petrol  145  42.2   \n\n      engineSize    price_pred         error     error_abs  \\\n4984         3.0  56789.268481   3799.268481   3799.268481   \n4880         2.0  22236.888207  -1844.111793   1844.111793   \n9132         2.0  13529.705791    530.705791    530.705791   \n6451         2.0  31815.676673  19820.676673  19820.676673   \n7199         2.0  35549.276658   5674.276658   5674.276658   \n\n              price_group  \n4984   (29990.0, 74990.0]  \n4880   (23131.6, 29990.0]  \n9132  (1199.999, 13995.0]  \n6451  (1199.999, 13995.0]  \n7199   (23131.6, 29990.0]  ",
      "text/html": "<div>\n<style scoped>\n    .dataframe tbody tr th:only-of-type {\n        vertical-align: middle;\n    }\n\n    .dataframe tbody tr th {\n        vertical-align: top;\n    }\n\n    .dataframe thead th {\n        text-align: right;\n    }\n</style>\n<table border=\"1\" class=\"dataframe\">\n  <thead>\n    <tr style=\"text-align: right;\">\n      <th></th>\n      <th>model</th>\n      <th>year</th>\n      <th>price</th>\n      <th>transmission</th>\n      <th>mileage</th>\n      <th>fuelType</th>\n      <th>tax</th>\n      <th>mpg</th>\n      <th>engineSize</th>\n      <th>price_pred</th>\n      <th>error</th>\n      <th>error_abs</th>\n      <th>price_group</th>\n    </tr>\n  </thead>\n  <tbody>\n    <tr>\n      <th>4984</th>\n      <td>X6</td>\n      <td>2019</td>\n      <td>52990</td>\n      <td>Semi-Auto</td>\n      <td>3086</td>\n      <td>Diesel</td>\n      <td>145</td>\n      <td>34.9</td>\n      <td>3.0</td>\n      <td>56789.268481</td>\n      <td>3799.268481</td>\n      <td>3799.268481</td>\n      <td>(29990.0, 74990.0]</td>\n    </tr>\n    <tr>\n      <th>4880</th>\n      <td>X1</td>\n      <td>2018</td>\n      <td>24081</td>\n      <td>Semi-Auto</td>\n      <td>13245</td>\n      <td>Diesel</td>\n      <td>150</td>\n      <td>60.1</td>\n      <td>2.0</td>\n      <td>22236.888207</td>\n      <td>-1844.111793</td>\n      <td>1844.111793</td>\n      <td>(23131.6, 29990.0]</td>\n    </tr>\n    <tr>\n      <th>9132</th>\n      <td>1 Series</td>\n      <td>2016</td>\n      <td>12999</td>\n      <td>Automatic</td>\n      <td>68949</td>\n      <td>Petrol</td>\n      <td>200</td>\n      <td>43.5</td>\n      <td>2.0</td>\n      <td>13529.705791</td>\n      <td>530.705791</td>\n      <td>530.705791</td>\n      <td>(1199.999, 13995.0]</td>\n    </tr>\n    <tr>\n      <th>6451</th>\n      <td>1 Series</td>\n      <td>2020</td>\n      <td>11995</td>\n      <td>Semi-Auto</td>\n      <td>10</td>\n      <td>Petrol</td>\n      <td>150</td>\n      <td>34.5</td>\n      <td>2.0</td>\n      <td>31815.676673</td>\n      <td>19820.676673</td>\n      <td>19820.676673</td>\n      <td>(1199.999, 13995.0]</td>\n    </tr>\n    <tr>\n      <th>7199</th>\n      <td>3 Series</td>\n      <td>2020</td>\n      <td>29875</td>\n      <td>Semi-Auto</td>\n      <td>150</td>\n      <td>Petrol</td>\n      <td>145</td>\n      <td>42.2</td>\n      <td>2.0</td>\n      <td>35549.276658</td>\n      <td>5674.276658</td>\n      <td>5674.276658</td>\n      <td>(23131.6, 29990.0]</td>\n    </tr>\n  </tbody>\n</table>\n</div>"
     },
     "execution_count": 28,
     "metadata": {},
     "output_type": "execute_result"
    }
   ],
   "source": [
    "test.head()"
   ],
   "metadata": {
    "collapsed": false,
    "pycharm": {
     "name": "#%%\n"
    }
   }
  },
  {
   "cell_type": "markdown",
   "source": [
    "##### Чем дешевле автомобиль, тем лучше результаты показывает модель и наоборот, чем дороже авто, тем хуже"
   ],
   "metadata": {
    "collapsed": false,
    "pycharm": {
     "name": "#%% md\n"
    }
   }
  },
  {
   "cell_type": "code",
   "execution_count": 29,
   "outputs": [
    {
     "data": {
      "text/plain": "                     count         mean\nprice_group                            \n(1199.999, 13995.0]    435   911.712080\n(13995.0, 18500.0]     432  1151.556512\n(18500.0, 23131.6]     427  1318.846517\n(23131.6, 29990.0]     432  1749.723698\n(29990.0, 74990.0]     431  2560.143373",
      "text/html": "<div>\n<style scoped>\n    .dataframe tbody tr th:only-of-type {\n        vertical-align: middle;\n    }\n\n    .dataframe tbody tr th {\n        vertical-align: top;\n    }\n\n    .dataframe thead th {\n        text-align: right;\n    }\n</style>\n<table border=\"1\" class=\"dataframe\">\n  <thead>\n    <tr style=\"text-align: right;\">\n      <th></th>\n      <th>count</th>\n      <th>mean</th>\n    </tr>\n    <tr>\n      <th>price_group</th>\n      <th></th>\n      <th></th>\n    </tr>\n  </thead>\n  <tbody>\n    <tr>\n      <th>(1199.999, 13995.0]</th>\n      <td>435</td>\n      <td>911.712080</td>\n    </tr>\n    <tr>\n      <th>(13995.0, 18500.0]</th>\n      <td>432</td>\n      <td>1151.556512</td>\n    </tr>\n    <tr>\n      <th>(18500.0, 23131.6]</th>\n      <td>427</td>\n      <td>1318.846517</td>\n    </tr>\n    <tr>\n      <th>(23131.6, 29990.0]</th>\n      <td>432</td>\n      <td>1749.723698</td>\n    </tr>\n    <tr>\n      <th>(29990.0, 74990.0]</th>\n      <td>431</td>\n      <td>2560.143373</td>\n    </tr>\n  </tbody>\n</table>\n</div>"
     },
     "execution_count": 29,
     "metadata": {},
     "output_type": "execute_result"
    }
   ],
   "source": [
    "test.groupby('price_group')['error_abs'].agg(['count', 'mean'])"
   ],
   "metadata": {
    "collapsed": false,
    "pycharm": {
     "name": "#%%\n"
    }
   }
  },
  {
   "cell_type": "markdown",
   "source": [
    "##### Средняя ошибка по всем автомобилям"
   ],
   "metadata": {
    "collapsed": false,
    "pycharm": {
     "name": "#%% md\n"
    }
   }
  },
  {
   "cell_type": "code",
   "execution_count": 30,
   "outputs": [
    {
     "data": {
      "text/plain": "1537.5600657036578"
     },
     "execution_count": 30,
     "metadata": {},
     "output_type": "execute_result"
    }
   ],
   "source": [
    "test.error_abs.mean()"
   ],
   "metadata": {
    "collapsed": false,
    "pycharm": {
     "name": "#%%\n"
    }
   }
  },
  {
   "cell_type": "markdown",
   "source": [
    "##### Посмотрим направление ошибки\n",
    "##### В своднике видно, что у дешёвых автомобилей есть тенденция к завышению цены, а у дорогих автомобилей есть тенденция к занижению"
   ],
   "metadata": {
    "collapsed": false,
    "pycharm": {
     "name": "#%% md\n"
    }
   }
  },
  {
   "cell_type": "code",
   "execution_count": 31,
   "outputs": [],
   "source": [
    "t = test.groupby('price_group')[['error_abs', 'error']].agg(['count', 'mean'])"
   ],
   "metadata": {
    "collapsed": false,
    "pycharm": {
     "name": "#%%\n"
    }
   }
  },
  {
   "cell_type": "code",
   "execution_count": 32,
   "outputs": [
    {
     "data": {
      "text/plain": "                    error_abs              error            \n                        count         mean count        mean\nprice_group                                                 \n(1199.999, 13995.0]       435   911.712080   435  462.229738\n(13995.0, 18500.0]        432  1151.556512   432  281.411969\n(18500.0, 23131.6]        427  1318.846517   427  254.475675\n(23131.6, 29990.0]        432  1749.723698   432  378.241254\n(29990.0, 74990.0]        431  2560.143373   431 -768.811293",
      "text/html": "<div>\n<style scoped>\n    .dataframe tbody tr th:only-of-type {\n        vertical-align: middle;\n    }\n\n    .dataframe tbody tr th {\n        vertical-align: top;\n    }\n\n    .dataframe thead tr th {\n        text-align: left;\n    }\n\n    .dataframe thead tr:last-of-type th {\n        text-align: right;\n    }\n</style>\n<table border=\"1\" class=\"dataframe\">\n  <thead>\n    <tr>\n      <th></th>\n      <th colspan=\"2\" halign=\"left\">error_abs</th>\n      <th colspan=\"2\" halign=\"left\">error</th>\n    </tr>\n    <tr>\n      <th></th>\n      <th>count</th>\n      <th>mean</th>\n      <th>count</th>\n      <th>mean</th>\n    </tr>\n    <tr>\n      <th>price_group</th>\n      <th></th>\n      <th></th>\n      <th></th>\n      <th></th>\n    </tr>\n  </thead>\n  <tbody>\n    <tr>\n      <th>(1199.999, 13995.0]</th>\n      <td>435</td>\n      <td>911.712080</td>\n      <td>435</td>\n      <td>462.229738</td>\n    </tr>\n    <tr>\n      <th>(13995.0, 18500.0]</th>\n      <td>432</td>\n      <td>1151.556512</td>\n      <td>432</td>\n      <td>281.411969</td>\n    </tr>\n    <tr>\n      <th>(18500.0, 23131.6]</th>\n      <td>427</td>\n      <td>1318.846517</td>\n      <td>427</td>\n      <td>254.475675</td>\n    </tr>\n    <tr>\n      <th>(23131.6, 29990.0]</th>\n      <td>432</td>\n      <td>1749.723698</td>\n      <td>432</td>\n      <td>378.241254</td>\n    </tr>\n    <tr>\n      <th>(29990.0, 74990.0]</th>\n      <td>431</td>\n      <td>2560.143373</td>\n      <td>431</td>\n      <td>-768.811293</td>\n    </tr>\n  </tbody>\n</table>\n</div>"
     },
     "execution_count": 32,
     "metadata": {},
     "output_type": "execute_result"
    }
   ],
   "source": [
    "t"
   ],
   "metadata": {
    "collapsed": false,
    "pycharm": {
     "name": "#%%\n"
    }
   }
  },
  {
   "cell_type": "code",
   "execution_count": 33,
   "outputs": [],
   "source": [
    "t.columns = ['_'.join(col).strip() for col in t.columns.values]"
   ],
   "metadata": {
    "collapsed": false,
    "pycharm": {
     "name": "#%%\n"
    }
   }
  },
  {
   "cell_type": "markdown",
   "source": [
    "##### error_mean (error) - направление ошибки.\n",
    "##### Дешёвым автомобилям модель завышает ошибку, а дорогим занижает"
   ],
   "metadata": {
    "collapsed": false,
    "pycharm": {
     "name": "#%% md\n"
    }
   }
  },
  {
   "cell_type": "code",
   "execution_count": 34,
   "outputs": [
    {
     "data": {
      "text/plain": "                     error_abs_count  error_abs_mean  error_count  error_mean\nprice_group                                                                  \n(1199.999, 13995.0]              435      911.712080          435  462.229738\n(13995.0, 18500.0]               432     1151.556512          432  281.411969\n(18500.0, 23131.6]               427     1318.846517          427  254.475675\n(23131.6, 29990.0]               432     1749.723698          432  378.241254\n(29990.0, 74990.0]               431     2560.143373          431 -768.811293",
      "text/html": "<div>\n<style scoped>\n    .dataframe tbody tr th:only-of-type {\n        vertical-align: middle;\n    }\n\n    .dataframe tbody tr th {\n        vertical-align: top;\n    }\n\n    .dataframe thead th {\n        text-align: right;\n    }\n</style>\n<table border=\"1\" class=\"dataframe\">\n  <thead>\n    <tr style=\"text-align: right;\">\n      <th></th>\n      <th>error_abs_count</th>\n      <th>error_abs_mean</th>\n      <th>error_count</th>\n      <th>error_mean</th>\n    </tr>\n    <tr>\n      <th>price_group</th>\n      <th></th>\n      <th></th>\n      <th></th>\n      <th></th>\n    </tr>\n  </thead>\n  <tbody>\n    <tr>\n      <th>(1199.999, 13995.0]</th>\n      <td>435</td>\n      <td>911.712080</td>\n      <td>435</td>\n      <td>462.229738</td>\n    </tr>\n    <tr>\n      <th>(13995.0, 18500.0]</th>\n      <td>432</td>\n      <td>1151.556512</td>\n      <td>432</td>\n      <td>281.411969</td>\n    </tr>\n    <tr>\n      <th>(18500.0, 23131.6]</th>\n      <td>427</td>\n      <td>1318.846517</td>\n      <td>427</td>\n      <td>254.475675</td>\n    </tr>\n    <tr>\n      <th>(23131.6, 29990.0]</th>\n      <td>432</td>\n      <td>1749.723698</td>\n      <td>432</td>\n      <td>378.241254</td>\n    </tr>\n    <tr>\n      <th>(29990.0, 74990.0]</th>\n      <td>431</td>\n      <td>2560.143373</td>\n      <td>431</td>\n      <td>-768.811293</td>\n    </tr>\n  </tbody>\n</table>\n</div>"
     },
     "execution_count": 34,
     "metadata": {},
     "output_type": "execute_result"
    }
   ],
   "source": [
    "t.head()"
   ],
   "metadata": {
    "collapsed": false,
    "pycharm": {
     "name": "#%%\n"
    }
   }
  },
  {
   "cell_type": "code",
   "execution_count": 35,
   "outputs": [],
   "source": [
    "t = t.drop('error_count', axis=1)"
   ],
   "metadata": {
    "collapsed": false,
    "pycharm": {
     "name": "#%%\n"
    }
   }
  },
  {
   "cell_type": "code",
   "execution_count": 36,
   "outputs": [
    {
     "data": {
      "text/plain": "                     error_abs_count  error_abs_mean  error_mean\nprice_group                                                     \n(1199.999, 13995.0]              435      911.712080  462.229738\n(13995.0, 18500.0]               432     1151.556512  281.411969\n(18500.0, 23131.6]               427     1318.846517  254.475675\n(23131.6, 29990.0]               432     1749.723698  378.241254\n(29990.0, 74990.0]               431     2560.143373 -768.811293",
      "text/html": "<div>\n<style scoped>\n    .dataframe tbody tr th:only-of-type {\n        vertical-align: middle;\n    }\n\n    .dataframe tbody tr th {\n        vertical-align: top;\n    }\n\n    .dataframe thead th {\n        text-align: right;\n    }\n</style>\n<table border=\"1\" class=\"dataframe\">\n  <thead>\n    <tr style=\"text-align: right;\">\n      <th></th>\n      <th>error_abs_count</th>\n      <th>error_abs_mean</th>\n      <th>error_mean</th>\n    </tr>\n    <tr>\n      <th>price_group</th>\n      <th></th>\n      <th></th>\n      <th></th>\n    </tr>\n  </thead>\n  <tbody>\n    <tr>\n      <th>(1199.999, 13995.0]</th>\n      <td>435</td>\n      <td>911.712080</td>\n      <td>462.229738</td>\n    </tr>\n    <tr>\n      <th>(13995.0, 18500.0]</th>\n      <td>432</td>\n      <td>1151.556512</td>\n      <td>281.411969</td>\n    </tr>\n    <tr>\n      <th>(18500.0, 23131.6]</th>\n      <td>427</td>\n      <td>1318.846517</td>\n      <td>254.475675</td>\n    </tr>\n    <tr>\n      <th>(23131.6, 29990.0]</th>\n      <td>432</td>\n      <td>1749.723698</td>\n      <td>378.241254</td>\n    </tr>\n    <tr>\n      <th>(29990.0, 74990.0]</th>\n      <td>431</td>\n      <td>2560.143373</td>\n      <td>-768.811293</td>\n    </tr>\n  </tbody>\n</table>\n</div>"
     },
     "execution_count": 36,
     "metadata": {},
     "output_type": "execute_result"
    }
   ],
   "source": [
    "t.head()"
   ],
   "metadata": {
    "collapsed": false,
    "pycharm": {
     "name": "#%%\n"
    }
   }
  },
  {
   "cell_type": "markdown",
   "source": [
    "##### Разница со средней ошибкой в группе"
   ],
   "metadata": {
    "collapsed": false,
    "pycharm": {
     "name": "#%% md\n"
    }
   }
  },
  {
   "cell_type": "code",
   "execution_count": 37,
   "outputs": [],
   "source": [
    "t['mean_error_diff'] = t.error_abs_mean - test.error_abs.mean()"
   ],
   "metadata": {
    "collapsed": false,
    "pycharm": {
     "name": "#%%\n"
    }
   }
  },
  {
   "cell_type": "code",
   "execution_count": 38,
   "outputs": [
    {
     "data": {
      "text/plain": "                     error_abs_count  error_abs_mean  error_mean  \\\nprice_group                                                        \n(1199.999, 13995.0]              435      911.712080  462.229738   \n(13995.0, 18500.0]               432     1151.556512  281.411969   \n(18500.0, 23131.6]               427     1318.846517  254.475675   \n(23131.6, 29990.0]               432     1749.723698  378.241254   \n(29990.0, 74990.0]               431     2560.143373 -768.811293   \n\n                     mean_error_diff  \nprice_group                           \n(1199.999, 13995.0]      -625.847985  \n(13995.0, 18500.0]       -386.003554  \n(18500.0, 23131.6]       -218.713549  \n(23131.6, 29990.0]        212.163632  \n(29990.0, 74990.0]       1022.583307  ",
      "text/html": "<div>\n<style scoped>\n    .dataframe tbody tr th:only-of-type {\n        vertical-align: middle;\n    }\n\n    .dataframe tbody tr th {\n        vertical-align: top;\n    }\n\n    .dataframe thead th {\n        text-align: right;\n    }\n</style>\n<table border=\"1\" class=\"dataframe\">\n  <thead>\n    <tr style=\"text-align: right;\">\n      <th></th>\n      <th>error_abs_count</th>\n      <th>error_abs_mean</th>\n      <th>error_mean</th>\n      <th>mean_error_diff</th>\n    </tr>\n    <tr>\n      <th>price_group</th>\n      <th></th>\n      <th></th>\n      <th></th>\n      <th></th>\n    </tr>\n  </thead>\n  <tbody>\n    <tr>\n      <th>(1199.999, 13995.0]</th>\n      <td>435</td>\n      <td>911.712080</td>\n      <td>462.229738</td>\n      <td>-625.847985</td>\n    </tr>\n    <tr>\n      <th>(13995.0, 18500.0]</th>\n      <td>432</td>\n      <td>1151.556512</td>\n      <td>281.411969</td>\n      <td>-386.003554</td>\n    </tr>\n    <tr>\n      <th>(18500.0, 23131.6]</th>\n      <td>427</td>\n      <td>1318.846517</td>\n      <td>254.475675</td>\n      <td>-218.713549</td>\n    </tr>\n    <tr>\n      <th>(23131.6, 29990.0]</th>\n      <td>432</td>\n      <td>1749.723698</td>\n      <td>378.241254</td>\n      <td>212.163632</td>\n    </tr>\n    <tr>\n      <th>(29990.0, 74990.0]</th>\n      <td>431</td>\n      <td>2560.143373</td>\n      <td>-768.811293</td>\n      <td>1022.583307</td>\n    </tr>\n  </tbody>\n</table>\n</div>"
     },
     "execution_count": 38,
     "metadata": {},
     "output_type": "execute_result"
    }
   ],
   "source": [
    "t.head()"
   ],
   "metadata": {
    "collapsed": false,
    "pycharm": {
     "name": "#%%\n"
    }
   }
  },
  {
   "cell_type": "markdown",
   "source": [
    "##### Для наглядности добавлю среднюю ошибку в таблицу"
   ],
   "metadata": {
    "collapsed": false,
    "pycharm": {
     "name": "#%% md\n"
    }
   }
  },
  {
   "cell_type": "code",
   "execution_count": 39,
   "outputs": [],
   "source": [
    "t['mean_error'] = test['error_abs'].mean()"
   ],
   "metadata": {
    "collapsed": false,
    "pycharm": {
     "name": "#%%\n"
    }
   }
  },
  {
   "cell_type": "code",
   "execution_count": 40,
   "outputs": [
    {
     "data": {
      "text/plain": "                     error_abs_count  error_abs_mean  error_mean  \\\nprice_group                                                        \n(1199.999, 13995.0]              435      911.712080  462.229738   \n(13995.0, 18500.0]               432     1151.556512  281.411969   \n(18500.0, 23131.6]               427     1318.846517  254.475675   \n(23131.6, 29990.0]               432     1749.723698  378.241254   \n(29990.0, 74990.0]               431     2560.143373 -768.811293   \n\n                     mean_error_diff   mean_error  \nprice_group                                        \n(1199.999, 13995.0]      -625.847985  1537.560066  \n(13995.0, 18500.0]       -386.003554  1537.560066  \n(18500.0, 23131.6]       -218.713549  1537.560066  \n(23131.6, 29990.0]        212.163632  1537.560066  \n(29990.0, 74990.0]       1022.583307  1537.560066  ",
      "text/html": "<div>\n<style scoped>\n    .dataframe tbody tr th:only-of-type {\n        vertical-align: middle;\n    }\n\n    .dataframe tbody tr th {\n        vertical-align: top;\n    }\n\n    .dataframe thead th {\n        text-align: right;\n    }\n</style>\n<table border=\"1\" class=\"dataframe\">\n  <thead>\n    <tr style=\"text-align: right;\">\n      <th></th>\n      <th>error_abs_count</th>\n      <th>error_abs_mean</th>\n      <th>error_mean</th>\n      <th>mean_error_diff</th>\n      <th>mean_error</th>\n    </tr>\n    <tr>\n      <th>price_group</th>\n      <th></th>\n      <th></th>\n      <th></th>\n      <th></th>\n      <th></th>\n    </tr>\n  </thead>\n  <tbody>\n    <tr>\n      <th>(1199.999, 13995.0]</th>\n      <td>435</td>\n      <td>911.712080</td>\n      <td>462.229738</td>\n      <td>-625.847985</td>\n      <td>1537.560066</td>\n    </tr>\n    <tr>\n      <th>(13995.0, 18500.0]</th>\n      <td>432</td>\n      <td>1151.556512</td>\n      <td>281.411969</td>\n      <td>-386.003554</td>\n      <td>1537.560066</td>\n    </tr>\n    <tr>\n      <th>(18500.0, 23131.6]</th>\n      <td>427</td>\n      <td>1318.846517</td>\n      <td>254.475675</td>\n      <td>-218.713549</td>\n      <td>1537.560066</td>\n    </tr>\n    <tr>\n      <th>(23131.6, 29990.0]</th>\n      <td>432</td>\n      <td>1749.723698</td>\n      <td>378.241254</td>\n      <td>212.163632</td>\n      <td>1537.560066</td>\n    </tr>\n    <tr>\n      <th>(29990.0, 74990.0]</th>\n      <td>431</td>\n      <td>2560.143373</td>\n      <td>-768.811293</td>\n      <td>1022.583307</td>\n      <td>1537.560066</td>\n    </tr>\n  </tbody>\n</table>\n</div>"
     },
     "execution_count": 40,
     "metadata": {},
     "output_type": "execute_result"
    }
   ],
   "source": [
    "t"
   ],
   "metadata": {
    "collapsed": false,
    "pycharm": {
     "name": "#%%\n"
    }
   }
  },
  {
   "cell_type": "markdown",
   "source": [
    "##### В таблицу, можно добавить условное форматирование по типу экселя, то есть подкрашивать необходимые ячейки цветом"
   ],
   "metadata": {
    "collapsed": false,
    "pycharm": {
     "name": "#%% md\n"
    }
   }
  },
  {
   "cell_type": "code",
   "execution_count": 41,
   "outputs": [],
   "source": [
    "import seaborn as sns\n",
    "cm = sns.dark_palette(\"red\", as_cmap=True)"
   ],
   "metadata": {
    "collapsed": false,
    "pycharm": {
     "name": "#%%\n"
    }
   }
  },
  {
   "cell_type": "markdown",
   "source": [
    "#### В своднике видно: чем больше цена автомобиля, тем больше отклонение от средней ошибки\n",
    "#### Отрицательное число показывает, что отклонение меньше средней ошибки, что хорошо"
   ],
   "metadata": {
    "collapsed": false,
    "pycharm": {
     "name": "#%% md\n"
    }
   }
  },
  {
   "cell_type": "code",
   "execution_count": 42,
   "outputs": [
    {
     "data": {
      "text/plain": "<pandas.io.formats.style.Styler at 0x1fa8ae28e50>",
      "text/html": "<style type=\"text/css\">\n#T_104f5_row0_col3 {\n  background-color: #312222;\n  color: #f1f1f1;\n}\n#T_104f5_row1_col3 {\n  background-color: #4f1d1d;\n  color: #f1f1f1;\n}\n#T_104f5_row2_col3 {\n  background-color: #641a1a;\n  color: #f1f1f1;\n}\n#T_104f5_row3_col3 {\n  background-color: #9a1111;\n  color: #f1f1f1;\n}\n#T_104f5_row4_col3 {\n  background-color: #ff0000;\n  color: #f1f1f1;\n}\n</style>\n<table id=\"T_104f5\">\n  <thead>\n    <tr>\n      <th class=\"blank level0\" >&nbsp;</th>\n      <th id=\"T_104f5_level0_col0\" class=\"col_heading level0 col0\" >error_abs_count</th>\n      <th id=\"T_104f5_level0_col1\" class=\"col_heading level0 col1\" >error_abs_mean</th>\n      <th id=\"T_104f5_level0_col2\" class=\"col_heading level0 col2\" >error_mean</th>\n      <th id=\"T_104f5_level0_col3\" class=\"col_heading level0 col3\" >mean_error_diff</th>\n      <th id=\"T_104f5_level0_col4\" class=\"col_heading level0 col4\" >mean_error</th>\n    </tr>\n    <tr>\n      <th class=\"index_name level0\" >price_group</th>\n      <th class=\"blank col0\" >&nbsp;</th>\n      <th class=\"blank col1\" >&nbsp;</th>\n      <th class=\"blank col2\" >&nbsp;</th>\n      <th class=\"blank col3\" >&nbsp;</th>\n      <th class=\"blank col4\" >&nbsp;</th>\n    </tr>\n  </thead>\n  <tbody>\n    <tr>\n      <th id=\"T_104f5_level0_row0\" class=\"row_heading level0 row0\" >(1199.999, 13995.0]</th>\n      <td id=\"T_104f5_row0_col0\" class=\"data row0 col0\" >435</td>\n      <td id=\"T_104f5_row0_col1\" class=\"data row0 col1\" >911.712080</td>\n      <td id=\"T_104f5_row0_col2\" class=\"data row0 col2\" >462.229738</td>\n      <td id=\"T_104f5_row0_col3\" class=\"data row0 col3\" >-625.847985</td>\n      <td id=\"T_104f5_row0_col4\" class=\"data row0 col4\" >1537.560066</td>\n    </tr>\n    <tr>\n      <th id=\"T_104f5_level0_row1\" class=\"row_heading level0 row1\" >(13995.0, 18500.0]</th>\n      <td id=\"T_104f5_row1_col0\" class=\"data row1 col0\" >432</td>\n      <td id=\"T_104f5_row1_col1\" class=\"data row1 col1\" >1151.556512</td>\n      <td id=\"T_104f5_row1_col2\" class=\"data row1 col2\" >281.411969</td>\n      <td id=\"T_104f5_row1_col3\" class=\"data row1 col3\" >-386.003554</td>\n      <td id=\"T_104f5_row1_col4\" class=\"data row1 col4\" >1537.560066</td>\n    </tr>\n    <tr>\n      <th id=\"T_104f5_level0_row2\" class=\"row_heading level0 row2\" >(18500.0, 23131.6]</th>\n      <td id=\"T_104f5_row2_col0\" class=\"data row2 col0\" >427</td>\n      <td id=\"T_104f5_row2_col1\" class=\"data row2 col1\" >1318.846517</td>\n      <td id=\"T_104f5_row2_col2\" class=\"data row2 col2\" >254.475675</td>\n      <td id=\"T_104f5_row2_col3\" class=\"data row2 col3\" >-218.713549</td>\n      <td id=\"T_104f5_row2_col4\" class=\"data row2 col4\" >1537.560066</td>\n    </tr>\n    <tr>\n      <th id=\"T_104f5_level0_row3\" class=\"row_heading level0 row3\" >(23131.6, 29990.0]</th>\n      <td id=\"T_104f5_row3_col0\" class=\"data row3 col0\" >432</td>\n      <td id=\"T_104f5_row3_col1\" class=\"data row3 col1\" >1749.723698</td>\n      <td id=\"T_104f5_row3_col2\" class=\"data row3 col2\" >378.241254</td>\n      <td id=\"T_104f5_row3_col3\" class=\"data row3 col3\" >212.163632</td>\n      <td id=\"T_104f5_row3_col4\" class=\"data row3 col4\" >1537.560066</td>\n    </tr>\n    <tr>\n      <th id=\"T_104f5_level0_row4\" class=\"row_heading level0 row4\" >(29990.0, 74990.0]</th>\n      <td id=\"T_104f5_row4_col0\" class=\"data row4 col0\" >431</td>\n      <td id=\"T_104f5_row4_col1\" class=\"data row4 col1\" >2560.143373</td>\n      <td id=\"T_104f5_row4_col2\" class=\"data row4 col2\" >-768.811293</td>\n      <td id=\"T_104f5_row4_col3\" class=\"data row4 col3\" >1022.583307</td>\n      <td id=\"T_104f5_row4_col4\" class=\"data row4 col4\" >1537.560066</td>\n    </tr>\n  </tbody>\n</table>\n"
     },
     "execution_count": 42,
     "metadata": {},
     "output_type": "execute_result"
    }
   ],
   "source": [
    "t.style.background_gradient(cmap=cm, subset=['mean_error_diff'])  # subset - выбор столбца"
   ],
   "metadata": {
    "collapsed": false,
    "pycharm": {
     "name": "#%%\n"
    }
   }
  },
  {
   "cell_type": "markdown",
   "source": [
    "## Анализ абсолютной ошибки относительно остальных переменных"
   ],
   "metadata": {
    "collapsed": false,
    "pycharm": {
     "name": "#%% md\n"
    }
   }
  },
  {
   "cell_type": "markdown",
   "source": [
    "##### Построим сводник по году"
   ],
   "metadata": {
    "collapsed": false,
    "pycharm": {
     "name": "#%% md\n"
    }
   }
  },
  {
   "cell_type": "code",
   "execution_count": 43,
   "outputs": [],
   "source": [
    "t = test.groupby('year')[['error_abs', 'error']].agg(['count', 'mean'])"
   ],
   "metadata": {
    "collapsed": false,
    "pycharm": {
     "name": "#%%\n"
    }
   }
  },
  {
   "cell_type": "code",
   "execution_count": 44,
   "outputs": [],
   "source": [
    "t.columns = ['_'.join(col).strip() for col in t.columns.values]"
   ],
   "metadata": {
    "collapsed": false,
    "pycharm": {
     "name": "#%%\n"
    }
   }
  },
  {
   "cell_type": "code",
   "execution_count": 45,
   "outputs": [],
   "source": [
    "t = t.drop('error_count', axis=1)"
   ],
   "metadata": {
    "collapsed": false,
    "pycharm": {
     "name": "#%%\n"
    }
   }
  },
  {
   "cell_type": "code",
   "execution_count": 46,
   "outputs": [],
   "source": [
    "t['mean_error_diff'] = t.error_abs_mean - test.error_abs.mean()"
   ],
   "metadata": {
    "collapsed": false,
    "pycharm": {
     "name": "#%%\n"
    }
   }
  },
  {
   "cell_type": "code",
   "execution_count": 47,
   "outputs": [],
   "source": [
    "t['mean_error'] = test['error_abs'].mean()"
   ],
   "metadata": {
    "collapsed": false,
    "pycharm": {
     "name": "#%%\n"
    }
   }
  },
  {
   "cell_type": "code",
   "execution_count": 48,
   "outputs": [
    {
     "data": {
      "text/plain": "      error_abs_count  error_abs_mean   error_mean  mean_error_diff  \\\nyear                                                                  \n1996                1     6339.136209  6339.136209      4801.576144   \n1999                1      890.056901   890.056901      -647.503164   \n2001                1      927.316449   927.316449      -610.243617   \n2002                2     2175.440983 -1069.308819       637.880917   \n2003                1     1482.424637 -1482.424637       -55.135428   \n2004                4     1902.279284  -305.313519       364.719218   \n2006                3     1660.249510   775.274447       122.689445   \n2007                2     1003.062275  1003.062275      -534.497791   \n2008                4     3182.698112  3182.698112      1645.138047   \n2009                6      703.048594    84.183919      -834.511472   \n2010                3     1059.354320   695.204249      -478.205745   \n2011               12      605.873341   428.301728      -931.686725   \n2012               28      888.946275    26.555228      -648.613791   \n2013               73     1032.750273   -18.604265      -504.809793   \n2014               97      880.366289   -63.896372      -657.193777   \n2015              179     1323.045823   260.200329      -214.514242   \n2016              360     1019.401473    60.056974      -518.158592   \n2017              330     1199.555510   -66.371735      -338.004556   \n2018              168     1503.540152   109.813056       -34.019914   \n2019              726     1880.050190   145.897776       342.490124   \n2020              156     2933.862809   457.594366      1396.302744   \n\n       mean_error  \nyear               \n1996  1537.560066  \n1999  1537.560066  \n2001  1537.560066  \n2002  1537.560066  \n2003  1537.560066  \n2004  1537.560066  \n2006  1537.560066  \n2007  1537.560066  \n2008  1537.560066  \n2009  1537.560066  \n2010  1537.560066  \n2011  1537.560066  \n2012  1537.560066  \n2013  1537.560066  \n2014  1537.560066  \n2015  1537.560066  \n2016  1537.560066  \n2017  1537.560066  \n2018  1537.560066  \n2019  1537.560066  \n2020  1537.560066  ",
      "text/html": "<div>\n<style scoped>\n    .dataframe tbody tr th:only-of-type {\n        vertical-align: middle;\n    }\n\n    .dataframe tbody tr th {\n        vertical-align: top;\n    }\n\n    .dataframe thead th {\n        text-align: right;\n    }\n</style>\n<table border=\"1\" class=\"dataframe\">\n  <thead>\n    <tr style=\"text-align: right;\">\n      <th></th>\n      <th>error_abs_count</th>\n      <th>error_abs_mean</th>\n      <th>error_mean</th>\n      <th>mean_error_diff</th>\n      <th>mean_error</th>\n    </tr>\n    <tr>\n      <th>year</th>\n      <th></th>\n      <th></th>\n      <th></th>\n      <th></th>\n      <th></th>\n    </tr>\n  </thead>\n  <tbody>\n    <tr>\n      <th>1996</th>\n      <td>1</td>\n      <td>6339.136209</td>\n      <td>6339.136209</td>\n      <td>4801.576144</td>\n      <td>1537.560066</td>\n    </tr>\n    <tr>\n      <th>1999</th>\n      <td>1</td>\n      <td>890.056901</td>\n      <td>890.056901</td>\n      <td>-647.503164</td>\n      <td>1537.560066</td>\n    </tr>\n    <tr>\n      <th>2001</th>\n      <td>1</td>\n      <td>927.316449</td>\n      <td>927.316449</td>\n      <td>-610.243617</td>\n      <td>1537.560066</td>\n    </tr>\n    <tr>\n      <th>2002</th>\n      <td>2</td>\n      <td>2175.440983</td>\n      <td>-1069.308819</td>\n      <td>637.880917</td>\n      <td>1537.560066</td>\n    </tr>\n    <tr>\n      <th>2003</th>\n      <td>1</td>\n      <td>1482.424637</td>\n      <td>-1482.424637</td>\n      <td>-55.135428</td>\n      <td>1537.560066</td>\n    </tr>\n    <tr>\n      <th>2004</th>\n      <td>4</td>\n      <td>1902.279284</td>\n      <td>-305.313519</td>\n      <td>364.719218</td>\n      <td>1537.560066</td>\n    </tr>\n    <tr>\n      <th>2006</th>\n      <td>3</td>\n      <td>1660.249510</td>\n      <td>775.274447</td>\n      <td>122.689445</td>\n      <td>1537.560066</td>\n    </tr>\n    <tr>\n      <th>2007</th>\n      <td>2</td>\n      <td>1003.062275</td>\n      <td>1003.062275</td>\n      <td>-534.497791</td>\n      <td>1537.560066</td>\n    </tr>\n    <tr>\n      <th>2008</th>\n      <td>4</td>\n      <td>3182.698112</td>\n      <td>3182.698112</td>\n      <td>1645.138047</td>\n      <td>1537.560066</td>\n    </tr>\n    <tr>\n      <th>2009</th>\n      <td>6</td>\n      <td>703.048594</td>\n      <td>84.183919</td>\n      <td>-834.511472</td>\n      <td>1537.560066</td>\n    </tr>\n    <tr>\n      <th>2010</th>\n      <td>3</td>\n      <td>1059.354320</td>\n      <td>695.204249</td>\n      <td>-478.205745</td>\n      <td>1537.560066</td>\n    </tr>\n    <tr>\n      <th>2011</th>\n      <td>12</td>\n      <td>605.873341</td>\n      <td>428.301728</td>\n      <td>-931.686725</td>\n      <td>1537.560066</td>\n    </tr>\n    <tr>\n      <th>2012</th>\n      <td>28</td>\n      <td>888.946275</td>\n      <td>26.555228</td>\n      <td>-648.613791</td>\n      <td>1537.560066</td>\n    </tr>\n    <tr>\n      <th>2013</th>\n      <td>73</td>\n      <td>1032.750273</td>\n      <td>-18.604265</td>\n      <td>-504.809793</td>\n      <td>1537.560066</td>\n    </tr>\n    <tr>\n      <th>2014</th>\n      <td>97</td>\n      <td>880.366289</td>\n      <td>-63.896372</td>\n      <td>-657.193777</td>\n      <td>1537.560066</td>\n    </tr>\n    <tr>\n      <th>2015</th>\n      <td>179</td>\n      <td>1323.045823</td>\n      <td>260.200329</td>\n      <td>-214.514242</td>\n      <td>1537.560066</td>\n    </tr>\n    <tr>\n      <th>2016</th>\n      <td>360</td>\n      <td>1019.401473</td>\n      <td>60.056974</td>\n      <td>-518.158592</td>\n      <td>1537.560066</td>\n    </tr>\n    <tr>\n      <th>2017</th>\n      <td>330</td>\n      <td>1199.555510</td>\n      <td>-66.371735</td>\n      <td>-338.004556</td>\n      <td>1537.560066</td>\n    </tr>\n    <tr>\n      <th>2018</th>\n      <td>168</td>\n      <td>1503.540152</td>\n      <td>109.813056</td>\n      <td>-34.019914</td>\n      <td>1537.560066</td>\n    </tr>\n    <tr>\n      <th>2019</th>\n      <td>726</td>\n      <td>1880.050190</td>\n      <td>145.897776</td>\n      <td>342.490124</td>\n      <td>1537.560066</td>\n    </tr>\n    <tr>\n      <th>2020</th>\n      <td>156</td>\n      <td>2933.862809</td>\n      <td>457.594366</td>\n      <td>1396.302744</td>\n      <td>1537.560066</td>\n    </tr>\n  </tbody>\n</table>\n</div>"
     },
     "execution_count": 48,
     "metadata": {},
     "output_type": "execute_result"
    }
   ],
   "source": [
    "t"
   ],
   "metadata": {
    "collapsed": false,
    "pycharm": {
     "name": "#%%\n"
    }
   }
  },
  {
   "cell_type": "markdown",
   "source": [
    "##### Если отбросить шумовые года, где мало данных +- до 2011 года и смотреть с 2011 до 2017 года, то видно, что ошибка в данных ниже среднего и модель предсказывает лучше среднего\n",
    "##### А на новых автомобилях (18-20 год) ошибка становится выше среднего"
   ],
   "metadata": {
    "collapsed": false,
    "pycharm": {
     "name": "#%% md\n"
    }
   }
  },
  {
   "cell_type": "code",
   "execution_count": 49,
   "outputs": [
    {
     "data": {
      "text/plain": "<pandas.io.formats.style.Styler at 0x1fa8b616250>",
      "text/html": "<style type=\"text/css\">\n#T_2be20_row0_col3 {\n  background-color: #ff0000;\n  color: #f1f1f1;\n}\n#T_2be20_row1_col3, #T_2be20_row12_col3, #T_2be20_row14_col3 {\n  background-color: #3b2020;\n  color: #f1f1f1;\n}\n#T_2be20_row2_col3 {\n  background-color: #3c2020;\n  color: #f1f1f1;\n}\n#T_2be20_row3_col3 {\n  background-color: #6a1919;\n  color: #f1f1f1;\n}\n#T_2be20_row4_col3, #T_2be20_row18_col3 {\n  background-color: #511d1d;\n  color: #f1f1f1;\n}\n#T_2be20_row5_col3 {\n  background-color: #5f1a1a;\n  color: #f1f1f1;\n}\n#T_2be20_row6_col3 {\n  background-color: #571c1c;\n  color: #f1f1f1;\n}\n#T_2be20_row7_col3 {\n  background-color: #3f2020;\n  color: #f1f1f1;\n}\n#T_2be20_row8_col3 {\n  background-color: #8e1313;\n  color: #f1f1f1;\n}\n#T_2be20_row9_col3 {\n  background-color: #342121;\n  color: #f1f1f1;\n}\n#T_2be20_row10_col3 {\n  background-color: #411f1f;\n  color: #f1f1f1;\n}\n#T_2be20_row11_col3 {\n  background-color: #312222;\n  color: #f1f1f1;\n}\n#T_2be20_row13_col3 {\n  background-color: #401f1f;\n  color: #f1f1f1;\n}\n#T_2be20_row15_col3 {\n  background-color: #4b1e1e;\n  color: #f1f1f1;\n}\n#T_2be20_row16_col3 {\n  background-color: #402020;\n  color: #f1f1f1;\n}\n#T_2be20_row17_col3 {\n  background-color: #461e1e;\n  color: #f1f1f1;\n}\n#T_2be20_row19_col3 {\n  background-color: #5e1a1a;\n  color: #f1f1f1;\n}\n#T_2be20_row20_col3 {\n  background-color: #841414;\n  color: #f1f1f1;\n}\n</style>\n<table id=\"T_2be20\">\n  <thead>\n    <tr>\n      <th class=\"blank level0\" >&nbsp;</th>\n      <th id=\"T_2be20_level0_col0\" class=\"col_heading level0 col0\" >error_abs_count</th>\n      <th id=\"T_2be20_level0_col1\" class=\"col_heading level0 col1\" >error_abs_mean</th>\n      <th id=\"T_2be20_level0_col2\" class=\"col_heading level0 col2\" >error_mean</th>\n      <th id=\"T_2be20_level0_col3\" class=\"col_heading level0 col3\" >mean_error_diff</th>\n      <th id=\"T_2be20_level0_col4\" class=\"col_heading level0 col4\" >mean_error</th>\n    </tr>\n    <tr>\n      <th class=\"index_name level0\" >year</th>\n      <th class=\"blank col0\" >&nbsp;</th>\n      <th class=\"blank col1\" >&nbsp;</th>\n      <th class=\"blank col2\" >&nbsp;</th>\n      <th class=\"blank col3\" >&nbsp;</th>\n      <th class=\"blank col4\" >&nbsp;</th>\n    </tr>\n  </thead>\n  <tbody>\n    <tr>\n      <th id=\"T_2be20_level0_row0\" class=\"row_heading level0 row0\" >1996</th>\n      <td id=\"T_2be20_row0_col0\" class=\"data row0 col0\" >1</td>\n      <td id=\"T_2be20_row0_col1\" class=\"data row0 col1\" >6339.136209</td>\n      <td id=\"T_2be20_row0_col2\" class=\"data row0 col2\" >6339.136209</td>\n      <td id=\"T_2be20_row0_col3\" class=\"data row0 col3\" >4801.576144</td>\n      <td id=\"T_2be20_row0_col4\" class=\"data row0 col4\" >1537.560066</td>\n    </tr>\n    <tr>\n      <th id=\"T_2be20_level0_row1\" class=\"row_heading level0 row1\" >1999</th>\n      <td id=\"T_2be20_row1_col0\" class=\"data row1 col0\" >1</td>\n      <td id=\"T_2be20_row1_col1\" class=\"data row1 col1\" >890.056901</td>\n      <td id=\"T_2be20_row1_col2\" class=\"data row1 col2\" >890.056901</td>\n      <td id=\"T_2be20_row1_col3\" class=\"data row1 col3\" >-647.503164</td>\n      <td id=\"T_2be20_row1_col4\" class=\"data row1 col4\" >1537.560066</td>\n    </tr>\n    <tr>\n      <th id=\"T_2be20_level0_row2\" class=\"row_heading level0 row2\" >2001</th>\n      <td id=\"T_2be20_row2_col0\" class=\"data row2 col0\" >1</td>\n      <td id=\"T_2be20_row2_col1\" class=\"data row2 col1\" >927.316449</td>\n      <td id=\"T_2be20_row2_col2\" class=\"data row2 col2\" >927.316449</td>\n      <td id=\"T_2be20_row2_col3\" class=\"data row2 col3\" >-610.243617</td>\n      <td id=\"T_2be20_row2_col4\" class=\"data row2 col4\" >1537.560066</td>\n    </tr>\n    <tr>\n      <th id=\"T_2be20_level0_row3\" class=\"row_heading level0 row3\" >2002</th>\n      <td id=\"T_2be20_row3_col0\" class=\"data row3 col0\" >2</td>\n      <td id=\"T_2be20_row3_col1\" class=\"data row3 col1\" >2175.440983</td>\n      <td id=\"T_2be20_row3_col2\" class=\"data row3 col2\" >-1069.308819</td>\n      <td id=\"T_2be20_row3_col3\" class=\"data row3 col3\" >637.880917</td>\n      <td id=\"T_2be20_row3_col4\" class=\"data row3 col4\" >1537.560066</td>\n    </tr>\n    <tr>\n      <th id=\"T_2be20_level0_row4\" class=\"row_heading level0 row4\" >2003</th>\n      <td id=\"T_2be20_row4_col0\" class=\"data row4 col0\" >1</td>\n      <td id=\"T_2be20_row4_col1\" class=\"data row4 col1\" >1482.424637</td>\n      <td id=\"T_2be20_row4_col2\" class=\"data row4 col2\" >-1482.424637</td>\n      <td id=\"T_2be20_row4_col3\" class=\"data row4 col3\" >-55.135428</td>\n      <td id=\"T_2be20_row4_col4\" class=\"data row4 col4\" >1537.560066</td>\n    </tr>\n    <tr>\n      <th id=\"T_2be20_level0_row5\" class=\"row_heading level0 row5\" >2004</th>\n      <td id=\"T_2be20_row5_col0\" class=\"data row5 col0\" >4</td>\n      <td id=\"T_2be20_row5_col1\" class=\"data row5 col1\" >1902.279284</td>\n      <td id=\"T_2be20_row5_col2\" class=\"data row5 col2\" >-305.313519</td>\n      <td id=\"T_2be20_row5_col3\" class=\"data row5 col3\" >364.719218</td>\n      <td id=\"T_2be20_row5_col4\" class=\"data row5 col4\" >1537.560066</td>\n    </tr>\n    <tr>\n      <th id=\"T_2be20_level0_row6\" class=\"row_heading level0 row6\" >2006</th>\n      <td id=\"T_2be20_row6_col0\" class=\"data row6 col0\" >3</td>\n      <td id=\"T_2be20_row6_col1\" class=\"data row6 col1\" >1660.249510</td>\n      <td id=\"T_2be20_row6_col2\" class=\"data row6 col2\" >775.274447</td>\n      <td id=\"T_2be20_row6_col3\" class=\"data row6 col3\" >122.689445</td>\n      <td id=\"T_2be20_row6_col4\" class=\"data row6 col4\" >1537.560066</td>\n    </tr>\n    <tr>\n      <th id=\"T_2be20_level0_row7\" class=\"row_heading level0 row7\" >2007</th>\n      <td id=\"T_2be20_row7_col0\" class=\"data row7 col0\" >2</td>\n      <td id=\"T_2be20_row7_col1\" class=\"data row7 col1\" >1003.062275</td>\n      <td id=\"T_2be20_row7_col2\" class=\"data row7 col2\" >1003.062275</td>\n      <td id=\"T_2be20_row7_col3\" class=\"data row7 col3\" >-534.497791</td>\n      <td id=\"T_2be20_row7_col4\" class=\"data row7 col4\" >1537.560066</td>\n    </tr>\n    <tr>\n      <th id=\"T_2be20_level0_row8\" class=\"row_heading level0 row8\" >2008</th>\n      <td id=\"T_2be20_row8_col0\" class=\"data row8 col0\" >4</td>\n      <td id=\"T_2be20_row8_col1\" class=\"data row8 col1\" >3182.698112</td>\n      <td id=\"T_2be20_row8_col2\" class=\"data row8 col2\" >3182.698112</td>\n      <td id=\"T_2be20_row8_col3\" class=\"data row8 col3\" >1645.138047</td>\n      <td id=\"T_2be20_row8_col4\" class=\"data row8 col4\" >1537.560066</td>\n    </tr>\n    <tr>\n      <th id=\"T_2be20_level0_row9\" class=\"row_heading level0 row9\" >2009</th>\n      <td id=\"T_2be20_row9_col0\" class=\"data row9 col0\" >6</td>\n      <td id=\"T_2be20_row9_col1\" class=\"data row9 col1\" >703.048594</td>\n      <td id=\"T_2be20_row9_col2\" class=\"data row9 col2\" >84.183919</td>\n      <td id=\"T_2be20_row9_col3\" class=\"data row9 col3\" >-834.511472</td>\n      <td id=\"T_2be20_row9_col4\" class=\"data row9 col4\" >1537.560066</td>\n    </tr>\n    <tr>\n      <th id=\"T_2be20_level0_row10\" class=\"row_heading level0 row10\" >2010</th>\n      <td id=\"T_2be20_row10_col0\" class=\"data row10 col0\" >3</td>\n      <td id=\"T_2be20_row10_col1\" class=\"data row10 col1\" >1059.354320</td>\n      <td id=\"T_2be20_row10_col2\" class=\"data row10 col2\" >695.204249</td>\n      <td id=\"T_2be20_row10_col3\" class=\"data row10 col3\" >-478.205745</td>\n      <td id=\"T_2be20_row10_col4\" class=\"data row10 col4\" >1537.560066</td>\n    </tr>\n    <tr>\n      <th id=\"T_2be20_level0_row11\" class=\"row_heading level0 row11\" >2011</th>\n      <td id=\"T_2be20_row11_col0\" class=\"data row11 col0\" >12</td>\n      <td id=\"T_2be20_row11_col1\" class=\"data row11 col1\" >605.873341</td>\n      <td id=\"T_2be20_row11_col2\" class=\"data row11 col2\" >428.301728</td>\n      <td id=\"T_2be20_row11_col3\" class=\"data row11 col3\" >-931.686725</td>\n      <td id=\"T_2be20_row11_col4\" class=\"data row11 col4\" >1537.560066</td>\n    </tr>\n    <tr>\n      <th id=\"T_2be20_level0_row12\" class=\"row_heading level0 row12\" >2012</th>\n      <td id=\"T_2be20_row12_col0\" class=\"data row12 col0\" >28</td>\n      <td id=\"T_2be20_row12_col1\" class=\"data row12 col1\" >888.946275</td>\n      <td id=\"T_2be20_row12_col2\" class=\"data row12 col2\" >26.555228</td>\n      <td id=\"T_2be20_row12_col3\" class=\"data row12 col3\" >-648.613791</td>\n      <td id=\"T_2be20_row12_col4\" class=\"data row12 col4\" >1537.560066</td>\n    </tr>\n    <tr>\n      <th id=\"T_2be20_level0_row13\" class=\"row_heading level0 row13\" >2013</th>\n      <td id=\"T_2be20_row13_col0\" class=\"data row13 col0\" >73</td>\n      <td id=\"T_2be20_row13_col1\" class=\"data row13 col1\" >1032.750273</td>\n      <td id=\"T_2be20_row13_col2\" class=\"data row13 col2\" >-18.604265</td>\n      <td id=\"T_2be20_row13_col3\" class=\"data row13 col3\" >-504.809793</td>\n      <td id=\"T_2be20_row13_col4\" class=\"data row13 col4\" >1537.560066</td>\n    </tr>\n    <tr>\n      <th id=\"T_2be20_level0_row14\" class=\"row_heading level0 row14\" >2014</th>\n      <td id=\"T_2be20_row14_col0\" class=\"data row14 col0\" >97</td>\n      <td id=\"T_2be20_row14_col1\" class=\"data row14 col1\" >880.366289</td>\n      <td id=\"T_2be20_row14_col2\" class=\"data row14 col2\" >-63.896372</td>\n      <td id=\"T_2be20_row14_col3\" class=\"data row14 col3\" >-657.193777</td>\n      <td id=\"T_2be20_row14_col4\" class=\"data row14 col4\" >1537.560066</td>\n    </tr>\n    <tr>\n      <th id=\"T_2be20_level0_row15\" class=\"row_heading level0 row15\" >2015</th>\n      <td id=\"T_2be20_row15_col0\" class=\"data row15 col0\" >179</td>\n      <td id=\"T_2be20_row15_col1\" class=\"data row15 col1\" >1323.045823</td>\n      <td id=\"T_2be20_row15_col2\" class=\"data row15 col2\" >260.200329</td>\n      <td id=\"T_2be20_row15_col3\" class=\"data row15 col3\" >-214.514242</td>\n      <td id=\"T_2be20_row15_col4\" class=\"data row15 col4\" >1537.560066</td>\n    </tr>\n    <tr>\n      <th id=\"T_2be20_level0_row16\" class=\"row_heading level0 row16\" >2016</th>\n      <td id=\"T_2be20_row16_col0\" class=\"data row16 col0\" >360</td>\n      <td id=\"T_2be20_row16_col1\" class=\"data row16 col1\" >1019.401473</td>\n      <td id=\"T_2be20_row16_col2\" class=\"data row16 col2\" >60.056974</td>\n      <td id=\"T_2be20_row16_col3\" class=\"data row16 col3\" >-518.158592</td>\n      <td id=\"T_2be20_row16_col4\" class=\"data row16 col4\" >1537.560066</td>\n    </tr>\n    <tr>\n      <th id=\"T_2be20_level0_row17\" class=\"row_heading level0 row17\" >2017</th>\n      <td id=\"T_2be20_row17_col0\" class=\"data row17 col0\" >330</td>\n      <td id=\"T_2be20_row17_col1\" class=\"data row17 col1\" >1199.555510</td>\n      <td id=\"T_2be20_row17_col2\" class=\"data row17 col2\" >-66.371735</td>\n      <td id=\"T_2be20_row17_col3\" class=\"data row17 col3\" >-338.004556</td>\n      <td id=\"T_2be20_row17_col4\" class=\"data row17 col4\" >1537.560066</td>\n    </tr>\n    <tr>\n      <th id=\"T_2be20_level0_row18\" class=\"row_heading level0 row18\" >2018</th>\n      <td id=\"T_2be20_row18_col0\" class=\"data row18 col0\" >168</td>\n      <td id=\"T_2be20_row18_col1\" class=\"data row18 col1\" >1503.540152</td>\n      <td id=\"T_2be20_row18_col2\" class=\"data row18 col2\" >109.813056</td>\n      <td id=\"T_2be20_row18_col3\" class=\"data row18 col3\" >-34.019914</td>\n      <td id=\"T_2be20_row18_col4\" class=\"data row18 col4\" >1537.560066</td>\n    </tr>\n    <tr>\n      <th id=\"T_2be20_level0_row19\" class=\"row_heading level0 row19\" >2019</th>\n      <td id=\"T_2be20_row19_col0\" class=\"data row19 col0\" >726</td>\n      <td id=\"T_2be20_row19_col1\" class=\"data row19 col1\" >1880.050190</td>\n      <td id=\"T_2be20_row19_col2\" class=\"data row19 col2\" >145.897776</td>\n      <td id=\"T_2be20_row19_col3\" class=\"data row19 col3\" >342.490124</td>\n      <td id=\"T_2be20_row19_col4\" class=\"data row19 col4\" >1537.560066</td>\n    </tr>\n    <tr>\n      <th id=\"T_2be20_level0_row20\" class=\"row_heading level0 row20\" >2020</th>\n      <td id=\"T_2be20_row20_col0\" class=\"data row20 col0\" >156</td>\n      <td id=\"T_2be20_row20_col1\" class=\"data row20 col1\" >2933.862809</td>\n      <td id=\"T_2be20_row20_col2\" class=\"data row20 col2\" >457.594366</td>\n      <td id=\"T_2be20_row20_col3\" class=\"data row20 col3\" >1396.302744</td>\n      <td id=\"T_2be20_row20_col4\" class=\"data row20 col4\" >1537.560066</td>\n    </tr>\n  </tbody>\n</table>\n"
     },
     "execution_count": 49,
     "metadata": {},
     "output_type": "execute_result"
    }
   ],
   "source": [
    "t.style.background_gradient(cmap=cm, subset=['mean_error_diff'])  # subset - выбор столбца"
   ],
   "metadata": {
    "collapsed": false,
    "pycharm": {
     "name": "#%%\n"
    }
   }
  },
  {
   "cell_type": "markdown",
   "source": [
    "#### Для того, чтобы в дальнейшем не переписывать много одинакового кода, создадим функцию"
   ],
   "metadata": {
    "collapsed": false,
    "pycharm": {
     "name": "#%% md\n"
    }
   }
  },
  {
   "cell_type": "code",
   "execution_count": 50,
   "outputs": [],
   "source": [
    "def print_error(col):\n",
    "    t = test.groupby(col)[['error_abs', 'error']].agg(['count', 'mean'])\n",
    "    t.columns = ['_'.join(col).strip() for col in t.columns.values]\n",
    "    t = t.drop('error_count', axis=1)\n",
    "    t['mean_error_diff'] = t.error_abs_mean - test.error_abs.mean()\n",
    "    t['mean_error'] = test['error_abs'].mean()\n",
    "    display(t.style.background_gradient(cmap=cm, subset=['mean_error_diff']))\n",
    "    print(t)"
   ],
   "metadata": {
    "collapsed": false,
    "pycharm": {
     "name": "#%%\n"
    }
   }
  },
  {
   "cell_type": "markdown",
   "source": [
    "##### Проверим работоспособность функции на уже проанализированных данных по году"
   ],
   "metadata": {
    "collapsed": false,
    "pycharm": {
     "name": "#%% md\n"
    }
   }
  },
  {
   "cell_type": "code",
   "execution_count": 51,
   "outputs": [
    {
     "data": {
      "text/plain": "<pandas.io.formats.style.Styler at 0x1fa8b61b550>",
      "text/html": "<style type=\"text/css\">\n#T_f8f29_row0_col3 {\n  background-color: #ff0000;\n  color: #f1f1f1;\n}\n#T_f8f29_row1_col3, #T_f8f29_row12_col3, #T_f8f29_row14_col3 {\n  background-color: #3b2020;\n  color: #f1f1f1;\n}\n#T_f8f29_row2_col3 {\n  background-color: #3c2020;\n  color: #f1f1f1;\n}\n#T_f8f29_row3_col3 {\n  background-color: #6a1919;\n  color: #f1f1f1;\n}\n#T_f8f29_row4_col3, #T_f8f29_row18_col3 {\n  background-color: #511d1d;\n  color: #f1f1f1;\n}\n#T_f8f29_row5_col3 {\n  background-color: #5f1a1a;\n  color: #f1f1f1;\n}\n#T_f8f29_row6_col3 {\n  background-color: #571c1c;\n  color: #f1f1f1;\n}\n#T_f8f29_row7_col3 {\n  background-color: #3f2020;\n  color: #f1f1f1;\n}\n#T_f8f29_row8_col3 {\n  background-color: #8e1313;\n  color: #f1f1f1;\n}\n#T_f8f29_row9_col3 {\n  background-color: #342121;\n  color: #f1f1f1;\n}\n#T_f8f29_row10_col3 {\n  background-color: #411f1f;\n  color: #f1f1f1;\n}\n#T_f8f29_row11_col3 {\n  background-color: #312222;\n  color: #f1f1f1;\n}\n#T_f8f29_row13_col3 {\n  background-color: #401f1f;\n  color: #f1f1f1;\n}\n#T_f8f29_row15_col3 {\n  background-color: #4b1e1e;\n  color: #f1f1f1;\n}\n#T_f8f29_row16_col3 {\n  background-color: #402020;\n  color: #f1f1f1;\n}\n#T_f8f29_row17_col3 {\n  background-color: #461e1e;\n  color: #f1f1f1;\n}\n#T_f8f29_row19_col3 {\n  background-color: #5e1a1a;\n  color: #f1f1f1;\n}\n#T_f8f29_row20_col3 {\n  background-color: #841414;\n  color: #f1f1f1;\n}\n</style>\n<table id=\"T_f8f29\">\n  <thead>\n    <tr>\n      <th class=\"blank level0\" >&nbsp;</th>\n      <th id=\"T_f8f29_level0_col0\" class=\"col_heading level0 col0\" >error_abs_count</th>\n      <th id=\"T_f8f29_level0_col1\" class=\"col_heading level0 col1\" >error_abs_mean</th>\n      <th id=\"T_f8f29_level0_col2\" class=\"col_heading level0 col2\" >error_mean</th>\n      <th id=\"T_f8f29_level0_col3\" class=\"col_heading level0 col3\" >mean_error_diff</th>\n      <th id=\"T_f8f29_level0_col4\" class=\"col_heading level0 col4\" >mean_error</th>\n    </tr>\n    <tr>\n      <th class=\"index_name level0\" >year</th>\n      <th class=\"blank col0\" >&nbsp;</th>\n      <th class=\"blank col1\" >&nbsp;</th>\n      <th class=\"blank col2\" >&nbsp;</th>\n      <th class=\"blank col3\" >&nbsp;</th>\n      <th class=\"blank col4\" >&nbsp;</th>\n    </tr>\n  </thead>\n  <tbody>\n    <tr>\n      <th id=\"T_f8f29_level0_row0\" class=\"row_heading level0 row0\" >1996</th>\n      <td id=\"T_f8f29_row0_col0\" class=\"data row0 col0\" >1</td>\n      <td id=\"T_f8f29_row0_col1\" class=\"data row0 col1\" >6339.136209</td>\n      <td id=\"T_f8f29_row0_col2\" class=\"data row0 col2\" >6339.136209</td>\n      <td id=\"T_f8f29_row0_col3\" class=\"data row0 col3\" >4801.576144</td>\n      <td id=\"T_f8f29_row0_col4\" class=\"data row0 col4\" >1537.560066</td>\n    </tr>\n    <tr>\n      <th id=\"T_f8f29_level0_row1\" class=\"row_heading level0 row1\" >1999</th>\n      <td id=\"T_f8f29_row1_col0\" class=\"data row1 col0\" >1</td>\n      <td id=\"T_f8f29_row1_col1\" class=\"data row1 col1\" >890.056901</td>\n      <td id=\"T_f8f29_row1_col2\" class=\"data row1 col2\" >890.056901</td>\n      <td id=\"T_f8f29_row1_col3\" class=\"data row1 col3\" >-647.503164</td>\n      <td id=\"T_f8f29_row1_col4\" class=\"data row1 col4\" >1537.560066</td>\n    </tr>\n    <tr>\n      <th id=\"T_f8f29_level0_row2\" class=\"row_heading level0 row2\" >2001</th>\n      <td id=\"T_f8f29_row2_col0\" class=\"data row2 col0\" >1</td>\n      <td id=\"T_f8f29_row2_col1\" class=\"data row2 col1\" >927.316449</td>\n      <td id=\"T_f8f29_row2_col2\" class=\"data row2 col2\" >927.316449</td>\n      <td id=\"T_f8f29_row2_col3\" class=\"data row2 col3\" >-610.243617</td>\n      <td id=\"T_f8f29_row2_col4\" class=\"data row2 col4\" >1537.560066</td>\n    </tr>\n    <tr>\n      <th id=\"T_f8f29_level0_row3\" class=\"row_heading level0 row3\" >2002</th>\n      <td id=\"T_f8f29_row3_col0\" class=\"data row3 col0\" >2</td>\n      <td id=\"T_f8f29_row3_col1\" class=\"data row3 col1\" >2175.440983</td>\n      <td id=\"T_f8f29_row3_col2\" class=\"data row3 col2\" >-1069.308819</td>\n      <td id=\"T_f8f29_row3_col3\" class=\"data row3 col3\" >637.880917</td>\n      <td id=\"T_f8f29_row3_col4\" class=\"data row3 col4\" >1537.560066</td>\n    </tr>\n    <tr>\n      <th id=\"T_f8f29_level0_row4\" class=\"row_heading level0 row4\" >2003</th>\n      <td id=\"T_f8f29_row4_col0\" class=\"data row4 col0\" >1</td>\n      <td id=\"T_f8f29_row4_col1\" class=\"data row4 col1\" >1482.424637</td>\n      <td id=\"T_f8f29_row4_col2\" class=\"data row4 col2\" >-1482.424637</td>\n      <td id=\"T_f8f29_row4_col3\" class=\"data row4 col3\" >-55.135428</td>\n      <td id=\"T_f8f29_row4_col4\" class=\"data row4 col4\" >1537.560066</td>\n    </tr>\n    <tr>\n      <th id=\"T_f8f29_level0_row5\" class=\"row_heading level0 row5\" >2004</th>\n      <td id=\"T_f8f29_row5_col0\" class=\"data row5 col0\" >4</td>\n      <td id=\"T_f8f29_row5_col1\" class=\"data row5 col1\" >1902.279284</td>\n      <td id=\"T_f8f29_row5_col2\" class=\"data row5 col2\" >-305.313519</td>\n      <td id=\"T_f8f29_row5_col3\" class=\"data row5 col3\" >364.719218</td>\n      <td id=\"T_f8f29_row5_col4\" class=\"data row5 col4\" >1537.560066</td>\n    </tr>\n    <tr>\n      <th id=\"T_f8f29_level0_row6\" class=\"row_heading level0 row6\" >2006</th>\n      <td id=\"T_f8f29_row6_col0\" class=\"data row6 col0\" >3</td>\n      <td id=\"T_f8f29_row6_col1\" class=\"data row6 col1\" >1660.249510</td>\n      <td id=\"T_f8f29_row6_col2\" class=\"data row6 col2\" >775.274447</td>\n      <td id=\"T_f8f29_row6_col3\" class=\"data row6 col3\" >122.689445</td>\n      <td id=\"T_f8f29_row6_col4\" class=\"data row6 col4\" >1537.560066</td>\n    </tr>\n    <tr>\n      <th id=\"T_f8f29_level0_row7\" class=\"row_heading level0 row7\" >2007</th>\n      <td id=\"T_f8f29_row7_col0\" class=\"data row7 col0\" >2</td>\n      <td id=\"T_f8f29_row7_col1\" class=\"data row7 col1\" >1003.062275</td>\n      <td id=\"T_f8f29_row7_col2\" class=\"data row7 col2\" >1003.062275</td>\n      <td id=\"T_f8f29_row7_col3\" class=\"data row7 col3\" >-534.497791</td>\n      <td id=\"T_f8f29_row7_col4\" class=\"data row7 col4\" >1537.560066</td>\n    </tr>\n    <tr>\n      <th id=\"T_f8f29_level0_row8\" class=\"row_heading level0 row8\" >2008</th>\n      <td id=\"T_f8f29_row8_col0\" class=\"data row8 col0\" >4</td>\n      <td id=\"T_f8f29_row8_col1\" class=\"data row8 col1\" >3182.698112</td>\n      <td id=\"T_f8f29_row8_col2\" class=\"data row8 col2\" >3182.698112</td>\n      <td id=\"T_f8f29_row8_col3\" class=\"data row8 col3\" >1645.138047</td>\n      <td id=\"T_f8f29_row8_col4\" class=\"data row8 col4\" >1537.560066</td>\n    </tr>\n    <tr>\n      <th id=\"T_f8f29_level0_row9\" class=\"row_heading level0 row9\" >2009</th>\n      <td id=\"T_f8f29_row9_col0\" class=\"data row9 col0\" >6</td>\n      <td id=\"T_f8f29_row9_col1\" class=\"data row9 col1\" >703.048594</td>\n      <td id=\"T_f8f29_row9_col2\" class=\"data row9 col2\" >84.183919</td>\n      <td id=\"T_f8f29_row9_col3\" class=\"data row9 col3\" >-834.511472</td>\n      <td id=\"T_f8f29_row9_col4\" class=\"data row9 col4\" >1537.560066</td>\n    </tr>\n    <tr>\n      <th id=\"T_f8f29_level0_row10\" class=\"row_heading level0 row10\" >2010</th>\n      <td id=\"T_f8f29_row10_col0\" class=\"data row10 col0\" >3</td>\n      <td id=\"T_f8f29_row10_col1\" class=\"data row10 col1\" >1059.354320</td>\n      <td id=\"T_f8f29_row10_col2\" class=\"data row10 col2\" >695.204249</td>\n      <td id=\"T_f8f29_row10_col3\" class=\"data row10 col3\" >-478.205745</td>\n      <td id=\"T_f8f29_row10_col4\" class=\"data row10 col4\" >1537.560066</td>\n    </tr>\n    <tr>\n      <th id=\"T_f8f29_level0_row11\" class=\"row_heading level0 row11\" >2011</th>\n      <td id=\"T_f8f29_row11_col0\" class=\"data row11 col0\" >12</td>\n      <td id=\"T_f8f29_row11_col1\" class=\"data row11 col1\" >605.873341</td>\n      <td id=\"T_f8f29_row11_col2\" class=\"data row11 col2\" >428.301728</td>\n      <td id=\"T_f8f29_row11_col3\" class=\"data row11 col3\" >-931.686725</td>\n      <td id=\"T_f8f29_row11_col4\" class=\"data row11 col4\" >1537.560066</td>\n    </tr>\n    <tr>\n      <th id=\"T_f8f29_level0_row12\" class=\"row_heading level0 row12\" >2012</th>\n      <td id=\"T_f8f29_row12_col0\" class=\"data row12 col0\" >28</td>\n      <td id=\"T_f8f29_row12_col1\" class=\"data row12 col1\" >888.946275</td>\n      <td id=\"T_f8f29_row12_col2\" class=\"data row12 col2\" >26.555228</td>\n      <td id=\"T_f8f29_row12_col3\" class=\"data row12 col3\" >-648.613791</td>\n      <td id=\"T_f8f29_row12_col4\" class=\"data row12 col4\" >1537.560066</td>\n    </tr>\n    <tr>\n      <th id=\"T_f8f29_level0_row13\" class=\"row_heading level0 row13\" >2013</th>\n      <td id=\"T_f8f29_row13_col0\" class=\"data row13 col0\" >73</td>\n      <td id=\"T_f8f29_row13_col1\" class=\"data row13 col1\" >1032.750273</td>\n      <td id=\"T_f8f29_row13_col2\" class=\"data row13 col2\" >-18.604265</td>\n      <td id=\"T_f8f29_row13_col3\" class=\"data row13 col3\" >-504.809793</td>\n      <td id=\"T_f8f29_row13_col4\" class=\"data row13 col4\" >1537.560066</td>\n    </tr>\n    <tr>\n      <th id=\"T_f8f29_level0_row14\" class=\"row_heading level0 row14\" >2014</th>\n      <td id=\"T_f8f29_row14_col0\" class=\"data row14 col0\" >97</td>\n      <td id=\"T_f8f29_row14_col1\" class=\"data row14 col1\" >880.366289</td>\n      <td id=\"T_f8f29_row14_col2\" class=\"data row14 col2\" >-63.896372</td>\n      <td id=\"T_f8f29_row14_col3\" class=\"data row14 col3\" >-657.193777</td>\n      <td id=\"T_f8f29_row14_col4\" class=\"data row14 col4\" >1537.560066</td>\n    </tr>\n    <tr>\n      <th id=\"T_f8f29_level0_row15\" class=\"row_heading level0 row15\" >2015</th>\n      <td id=\"T_f8f29_row15_col0\" class=\"data row15 col0\" >179</td>\n      <td id=\"T_f8f29_row15_col1\" class=\"data row15 col1\" >1323.045823</td>\n      <td id=\"T_f8f29_row15_col2\" class=\"data row15 col2\" >260.200329</td>\n      <td id=\"T_f8f29_row15_col3\" class=\"data row15 col3\" >-214.514242</td>\n      <td id=\"T_f8f29_row15_col4\" class=\"data row15 col4\" >1537.560066</td>\n    </tr>\n    <tr>\n      <th id=\"T_f8f29_level0_row16\" class=\"row_heading level0 row16\" >2016</th>\n      <td id=\"T_f8f29_row16_col0\" class=\"data row16 col0\" >360</td>\n      <td id=\"T_f8f29_row16_col1\" class=\"data row16 col1\" >1019.401473</td>\n      <td id=\"T_f8f29_row16_col2\" class=\"data row16 col2\" >60.056974</td>\n      <td id=\"T_f8f29_row16_col3\" class=\"data row16 col3\" >-518.158592</td>\n      <td id=\"T_f8f29_row16_col4\" class=\"data row16 col4\" >1537.560066</td>\n    </tr>\n    <tr>\n      <th id=\"T_f8f29_level0_row17\" class=\"row_heading level0 row17\" >2017</th>\n      <td id=\"T_f8f29_row17_col0\" class=\"data row17 col0\" >330</td>\n      <td id=\"T_f8f29_row17_col1\" class=\"data row17 col1\" >1199.555510</td>\n      <td id=\"T_f8f29_row17_col2\" class=\"data row17 col2\" >-66.371735</td>\n      <td id=\"T_f8f29_row17_col3\" class=\"data row17 col3\" >-338.004556</td>\n      <td id=\"T_f8f29_row17_col4\" class=\"data row17 col4\" >1537.560066</td>\n    </tr>\n    <tr>\n      <th id=\"T_f8f29_level0_row18\" class=\"row_heading level0 row18\" >2018</th>\n      <td id=\"T_f8f29_row18_col0\" class=\"data row18 col0\" >168</td>\n      <td id=\"T_f8f29_row18_col1\" class=\"data row18 col1\" >1503.540152</td>\n      <td id=\"T_f8f29_row18_col2\" class=\"data row18 col2\" >109.813056</td>\n      <td id=\"T_f8f29_row18_col3\" class=\"data row18 col3\" >-34.019914</td>\n      <td id=\"T_f8f29_row18_col4\" class=\"data row18 col4\" >1537.560066</td>\n    </tr>\n    <tr>\n      <th id=\"T_f8f29_level0_row19\" class=\"row_heading level0 row19\" >2019</th>\n      <td id=\"T_f8f29_row19_col0\" class=\"data row19 col0\" >726</td>\n      <td id=\"T_f8f29_row19_col1\" class=\"data row19 col1\" >1880.050190</td>\n      <td id=\"T_f8f29_row19_col2\" class=\"data row19 col2\" >145.897776</td>\n      <td id=\"T_f8f29_row19_col3\" class=\"data row19 col3\" >342.490124</td>\n      <td id=\"T_f8f29_row19_col4\" class=\"data row19 col4\" >1537.560066</td>\n    </tr>\n    <tr>\n      <th id=\"T_f8f29_level0_row20\" class=\"row_heading level0 row20\" >2020</th>\n      <td id=\"T_f8f29_row20_col0\" class=\"data row20 col0\" >156</td>\n      <td id=\"T_f8f29_row20_col1\" class=\"data row20 col1\" >2933.862809</td>\n      <td id=\"T_f8f29_row20_col2\" class=\"data row20 col2\" >457.594366</td>\n      <td id=\"T_f8f29_row20_col3\" class=\"data row20 col3\" >1396.302744</td>\n      <td id=\"T_f8f29_row20_col4\" class=\"data row20 col4\" >1537.560066</td>\n    </tr>\n  </tbody>\n</table>\n"
     },
     "metadata": {},
     "output_type": "display_data"
    },
    {
     "name": "stdout",
     "output_type": "stream",
     "text": [
      "      error_abs_count  error_abs_mean   error_mean  mean_error_diff  \\\n",
      "year                                                                  \n",
      "1996                1     6339.136209  6339.136209      4801.576144   \n",
      "1999                1      890.056901   890.056901      -647.503164   \n",
      "2001                1      927.316449   927.316449      -610.243617   \n",
      "2002                2     2175.440983 -1069.308819       637.880917   \n",
      "2003                1     1482.424637 -1482.424637       -55.135428   \n",
      "2004                4     1902.279284  -305.313519       364.719218   \n",
      "2006                3     1660.249510   775.274447       122.689445   \n",
      "2007                2     1003.062275  1003.062275      -534.497791   \n",
      "2008                4     3182.698112  3182.698112      1645.138047   \n",
      "2009                6      703.048594    84.183919      -834.511472   \n",
      "2010                3     1059.354320   695.204249      -478.205745   \n",
      "2011               12      605.873341   428.301728      -931.686725   \n",
      "2012               28      888.946275    26.555228      -648.613791   \n",
      "2013               73     1032.750273   -18.604265      -504.809793   \n",
      "2014               97      880.366289   -63.896372      -657.193777   \n",
      "2015              179     1323.045823   260.200329      -214.514242   \n",
      "2016              360     1019.401473    60.056974      -518.158592   \n",
      "2017              330     1199.555510   -66.371735      -338.004556   \n",
      "2018              168     1503.540152   109.813056       -34.019914   \n",
      "2019              726     1880.050190   145.897776       342.490124   \n",
      "2020              156     2933.862809   457.594366      1396.302744   \n",
      "\n",
      "       mean_error  \n",
      "year               \n",
      "1996  1537.560066  \n",
      "1999  1537.560066  \n",
      "2001  1537.560066  \n",
      "2002  1537.560066  \n",
      "2003  1537.560066  \n",
      "2004  1537.560066  \n",
      "2006  1537.560066  \n",
      "2007  1537.560066  \n",
      "2008  1537.560066  \n",
      "2009  1537.560066  \n",
      "2010  1537.560066  \n",
      "2011  1537.560066  \n",
      "2012  1537.560066  \n",
      "2013  1537.560066  \n",
      "2014  1537.560066  \n",
      "2015  1537.560066  \n",
      "2016  1537.560066  \n",
      "2017  1537.560066  \n",
      "2018  1537.560066  \n",
      "2019  1537.560066  \n",
      "2020  1537.560066  \n"
     ]
    }
   ],
   "source": [
    "print_error('year')"
   ],
   "metadata": {
    "collapsed": false,
    "pycharm": {
     "name": "#%%\n"
    }
   }
  },
  {
   "cell_type": "code",
   "execution_count": 54,
   "outputs": [
    {
     "data": {
      "text/plain": "          model  year  price transmission  mileage fuelType  tax   mpg  \\\n4984         X6  2019  52990    Semi-Auto     3086   Diesel  145  34.9   \n4880         X1  2018  24081    Semi-Auto    13245   Diesel  150  60.1   \n9132   1 Series  2016  12999    Automatic    68949   Petrol  200  43.5   \n6451   1 Series  2020  11995    Semi-Auto       10   Petrol  150  34.5   \n7199   3 Series  2020  29875    Semi-Auto      150   Petrol  145  42.2   \n\n      engineSize    price_pred         error     error_abs  \\\n4984         3.0  56789.268481   3799.268481   3799.268481   \n4880         2.0  22236.888207  -1844.111793   1844.111793   \n9132         2.0  13529.705791    530.705791    530.705791   \n6451         2.0  31815.676673  19820.676673  19820.676673   \n7199         2.0  35549.276658   5674.276658   5674.276658   \n\n              price_group  \n4984   (29990.0, 74990.0]  \n4880   (23131.6, 29990.0]  \n9132  (1199.999, 13995.0]  \n6451  (1199.999, 13995.0]  \n7199   (23131.6, 29990.0]  ",
      "text/html": "<div>\n<style scoped>\n    .dataframe tbody tr th:only-of-type {\n        vertical-align: middle;\n    }\n\n    .dataframe tbody tr th {\n        vertical-align: top;\n    }\n\n    .dataframe thead th {\n        text-align: right;\n    }\n</style>\n<table border=\"1\" class=\"dataframe\">\n  <thead>\n    <tr style=\"text-align: right;\">\n      <th></th>\n      <th>model</th>\n      <th>year</th>\n      <th>price</th>\n      <th>transmission</th>\n      <th>mileage</th>\n      <th>fuelType</th>\n      <th>tax</th>\n      <th>mpg</th>\n      <th>engineSize</th>\n      <th>price_pred</th>\n      <th>error</th>\n      <th>error_abs</th>\n      <th>price_group</th>\n    </tr>\n  </thead>\n  <tbody>\n    <tr>\n      <th>4984</th>\n      <td>X6</td>\n      <td>2019</td>\n      <td>52990</td>\n      <td>Semi-Auto</td>\n      <td>3086</td>\n      <td>Diesel</td>\n      <td>145</td>\n      <td>34.9</td>\n      <td>3.0</td>\n      <td>56789.268481</td>\n      <td>3799.268481</td>\n      <td>3799.268481</td>\n      <td>(29990.0, 74990.0]</td>\n    </tr>\n    <tr>\n      <th>4880</th>\n      <td>X1</td>\n      <td>2018</td>\n      <td>24081</td>\n      <td>Semi-Auto</td>\n      <td>13245</td>\n      <td>Diesel</td>\n      <td>150</td>\n      <td>60.1</td>\n      <td>2.0</td>\n      <td>22236.888207</td>\n      <td>-1844.111793</td>\n      <td>1844.111793</td>\n      <td>(23131.6, 29990.0]</td>\n    </tr>\n    <tr>\n      <th>9132</th>\n      <td>1 Series</td>\n      <td>2016</td>\n      <td>12999</td>\n      <td>Automatic</td>\n      <td>68949</td>\n      <td>Petrol</td>\n      <td>200</td>\n      <td>43.5</td>\n      <td>2.0</td>\n      <td>13529.705791</td>\n      <td>530.705791</td>\n      <td>530.705791</td>\n      <td>(1199.999, 13995.0]</td>\n    </tr>\n    <tr>\n      <th>6451</th>\n      <td>1 Series</td>\n      <td>2020</td>\n      <td>11995</td>\n      <td>Semi-Auto</td>\n      <td>10</td>\n      <td>Petrol</td>\n      <td>150</td>\n      <td>34.5</td>\n      <td>2.0</td>\n      <td>31815.676673</td>\n      <td>19820.676673</td>\n      <td>19820.676673</td>\n      <td>(1199.999, 13995.0]</td>\n    </tr>\n    <tr>\n      <th>7199</th>\n      <td>3 Series</td>\n      <td>2020</td>\n      <td>29875</td>\n      <td>Semi-Auto</td>\n      <td>150</td>\n      <td>Petrol</td>\n      <td>145</td>\n      <td>42.2</td>\n      <td>2.0</td>\n      <td>35549.276658</td>\n      <td>5674.276658</td>\n      <td>5674.276658</td>\n      <td>(23131.6, 29990.0]</td>\n    </tr>\n  </tbody>\n</table>\n</div>"
     },
     "execution_count": 54,
     "metadata": {},
     "output_type": "execute_result"
    }
   ],
   "source": [
    "test.head()"
   ],
   "metadata": {
    "collapsed": false,
    "pycharm": {
     "name": "#%%\n"
    }
   }
  },
  {
   "cell_type": "markdown",
   "source": [
    "##### Посмотрим данные по трансмиссии:\n",
    "##### Данные с ручной коробкой показывают лучший результат"
   ],
   "metadata": {
    "collapsed": false,
    "pycharm": {
     "name": "#%% md\n"
    }
   }
  },
  {
   "cell_type": "code",
   "execution_count": 55,
   "outputs": [
    {
     "data": {
      "text/plain": "<pandas.io.formats.style.Styler at 0x1fa8b61d490>",
      "text/html": "<style type=\"text/css\">\n#T_174a9_row0_col3 {\n  background-color: #a60f0f;\n  color: #f1f1f1;\n}\n#T_174a9_row1_col3 {\n  background-color: #312222;\n  color: #f1f1f1;\n}\n#T_174a9_row2_col3 {\n  background-color: #ff0000;\n  color: #f1f1f1;\n}\n</style>\n<table id=\"T_174a9\">\n  <thead>\n    <tr>\n      <th class=\"blank level0\" >&nbsp;</th>\n      <th id=\"T_174a9_level0_col0\" class=\"col_heading level0 col0\" >error_abs_count</th>\n      <th id=\"T_174a9_level0_col1\" class=\"col_heading level0 col1\" >error_abs_mean</th>\n      <th id=\"T_174a9_level0_col2\" class=\"col_heading level0 col2\" >error_mean</th>\n      <th id=\"T_174a9_level0_col3\" class=\"col_heading level0 col3\" >mean_error_diff</th>\n      <th id=\"T_174a9_level0_col4\" class=\"col_heading level0 col4\" >mean_error</th>\n    </tr>\n    <tr>\n      <th class=\"index_name level0\" >transmission</th>\n      <th class=\"blank col0\" >&nbsp;</th>\n      <th class=\"blank col1\" >&nbsp;</th>\n      <th class=\"blank col2\" >&nbsp;</th>\n      <th class=\"blank col3\" >&nbsp;</th>\n      <th class=\"blank col4\" >&nbsp;</th>\n    </tr>\n  </thead>\n  <tbody>\n    <tr>\n      <th id=\"T_174a9_level0_row0\" class=\"row_heading level0 row0\" >Automatic</th>\n      <td id=\"T_174a9_row0_col0\" class=\"data row0 col0\" >695</td>\n      <td id=\"T_174a9_row0_col1\" class=\"data row0 col1\" >1494.208611</td>\n      <td id=\"T_174a9_row0_col2\" class=\"data row0 col2\" >36.406949</td>\n      <td id=\"T_174a9_row0_col3\" class=\"data row0 col3\" >-43.351455</td>\n      <td id=\"T_174a9_row0_col4\" class=\"data row0 col4\" >1537.560066</td>\n    </tr>\n    <tr>\n      <th id=\"T_174a9_level0_row1\" class=\"row_heading level0 row1\" >Manual</th>\n      <td id=\"T_174a9_row1_col0\" class=\"data row1 col0\" >504</td>\n      <td id=\"T_174a9_row1_col1\" class=\"data row1 col1\" >1079.145745</td>\n      <td id=\"T_174a9_row1_col2\" class=\"data row1 col2\" >142.507574</td>\n      <td id=\"T_174a9_row1_col3\" class=\"data row1 col3\" >-458.414320</td>\n      <td id=\"T_174a9_row1_col4\" class=\"data row1 col4\" >1537.560066</td>\n    </tr>\n    <tr>\n      <th id=\"T_174a9_level0_row2\" class=\"row_heading level0 row2\" >Semi-Auto</th>\n      <td id=\"T_174a9_row2_col0\" class=\"data row2 col0\" >958</td>\n      <td id=\"T_174a9_row2_col1\" class=\"data row2 col1\" >1810.180189</td>\n      <td id=\"T_174a9_row2_col2\" class=\"data row2 col2\" >173.504100</td>\n      <td id=\"T_174a9_row2_col3\" class=\"data row2 col3\" >272.620124</td>\n      <td id=\"T_174a9_row2_col4\" class=\"data row2 col4\" >1537.560066</td>\n    </tr>\n  </tbody>\n</table>\n"
     },
     "metadata": {},
     "output_type": "display_data"
    },
    {
     "name": "stdout",
     "output_type": "stream",
     "text": [
      "              error_abs_count  error_abs_mean  error_mean  mean_error_diff  \\\n",
      "transmission                                                                 \n",
      "Automatic                 695     1494.208611   36.406949       -43.351455   \n",
      "Manual                    504     1079.145745  142.507574      -458.414320   \n",
      "Semi-Auto                 958     1810.180189  173.504100       272.620124   \n",
      "\n",
      "               mean_error  \n",
      "transmission               \n",
      "Automatic     1537.560066  \n",
      "Manual        1537.560066  \n",
      "Semi-Auto     1537.560066  \n"
     ]
    }
   ],
   "source": [
    "print_error('transmission')"
   ],
   "metadata": {
    "collapsed": false,
    "pycharm": {
     "name": "#%%\n"
    }
   }
  },
  {
   "cell_type": "markdown",
   "source": [
    "##### Посмотрим на данные по пробегу, но для начала разобьём данные на группы"
   ],
   "metadata": {
    "collapsed": false,
    "pycharm": {
     "name": "#%% md\n"
    }
   }
  },
  {
   "cell_type": "code",
   "execution_count": 58,
   "outputs": [],
   "source": [
    "test['mileage_group'] = pd.qcut(test.mileage, 5)"
   ],
   "metadata": {
    "collapsed": false,
    "pycharm": {
     "name": "#%%\n"
    }
   }
  },
  {
   "cell_type": "code",
   "execution_count": 60,
   "outputs": [
    {
     "data": {
      "text/plain": "          model  year  price transmission  mileage fuelType  tax   mpg  \\\n4984         X6  2019  52990    Semi-Auto     3086   Diesel  145  34.9   \n4880         X1  2018  24081    Semi-Auto    13245   Diesel  150  60.1   \n9132   1 Series  2016  12999    Automatic    68949   Petrol  200  43.5   \n6451   1 Series  2020  11995    Semi-Auto       10   Petrol  150  34.5   \n7199   3 Series  2020  29875    Semi-Auto      150   Petrol  145  42.2   \n\n      engineSize    price_pred         error     error_abs  \\\n4984         3.0  56789.268481   3799.268481   3799.268481   \n4880         2.0  22236.888207  -1844.111793   1844.111793   \n9132         2.0  13529.705791    530.705791    530.705791   \n6451         2.0  31815.676673  19820.676673  19820.676673   \n7199         2.0  35549.276658   5674.276658   5674.276658   \n\n              price_group        mileage_group  \n4984   (29990.0, 74990.0]      (0.999, 4063.2]  \n4880   (23131.6, 29990.0]    (9825.4, 24299.0]  \n9132  (1199.999, 13995.0]  (43519.8, 190000.0]  \n6451  (1199.999, 13995.0]      (0.999, 4063.2]  \n7199   (23131.6, 29990.0]      (0.999, 4063.2]  ",
      "text/html": "<div>\n<style scoped>\n    .dataframe tbody tr th:only-of-type {\n        vertical-align: middle;\n    }\n\n    .dataframe tbody tr th {\n        vertical-align: top;\n    }\n\n    .dataframe thead th {\n        text-align: right;\n    }\n</style>\n<table border=\"1\" class=\"dataframe\">\n  <thead>\n    <tr style=\"text-align: right;\">\n      <th></th>\n      <th>model</th>\n      <th>year</th>\n      <th>price</th>\n      <th>transmission</th>\n      <th>mileage</th>\n      <th>fuelType</th>\n      <th>tax</th>\n      <th>mpg</th>\n      <th>engineSize</th>\n      <th>price_pred</th>\n      <th>error</th>\n      <th>error_abs</th>\n      <th>price_group</th>\n      <th>mileage_group</th>\n    </tr>\n  </thead>\n  <tbody>\n    <tr>\n      <th>4984</th>\n      <td>X6</td>\n      <td>2019</td>\n      <td>52990</td>\n      <td>Semi-Auto</td>\n      <td>3086</td>\n      <td>Diesel</td>\n      <td>145</td>\n      <td>34.9</td>\n      <td>3.0</td>\n      <td>56789.268481</td>\n      <td>3799.268481</td>\n      <td>3799.268481</td>\n      <td>(29990.0, 74990.0]</td>\n      <td>(0.999, 4063.2]</td>\n    </tr>\n    <tr>\n      <th>4880</th>\n      <td>X1</td>\n      <td>2018</td>\n      <td>24081</td>\n      <td>Semi-Auto</td>\n      <td>13245</td>\n      <td>Diesel</td>\n      <td>150</td>\n      <td>60.1</td>\n      <td>2.0</td>\n      <td>22236.888207</td>\n      <td>-1844.111793</td>\n      <td>1844.111793</td>\n      <td>(23131.6, 29990.0]</td>\n      <td>(9825.4, 24299.0]</td>\n    </tr>\n    <tr>\n      <th>9132</th>\n      <td>1 Series</td>\n      <td>2016</td>\n      <td>12999</td>\n      <td>Automatic</td>\n      <td>68949</td>\n      <td>Petrol</td>\n      <td>200</td>\n      <td>43.5</td>\n      <td>2.0</td>\n      <td>13529.705791</td>\n      <td>530.705791</td>\n      <td>530.705791</td>\n      <td>(1199.999, 13995.0]</td>\n      <td>(43519.8, 190000.0]</td>\n    </tr>\n    <tr>\n      <th>6451</th>\n      <td>1 Series</td>\n      <td>2020</td>\n      <td>11995</td>\n      <td>Semi-Auto</td>\n      <td>10</td>\n      <td>Petrol</td>\n      <td>150</td>\n      <td>34.5</td>\n      <td>2.0</td>\n      <td>31815.676673</td>\n      <td>19820.676673</td>\n      <td>19820.676673</td>\n      <td>(1199.999, 13995.0]</td>\n      <td>(0.999, 4063.2]</td>\n    </tr>\n    <tr>\n      <th>7199</th>\n      <td>3 Series</td>\n      <td>2020</td>\n      <td>29875</td>\n      <td>Semi-Auto</td>\n      <td>150</td>\n      <td>Petrol</td>\n      <td>145</td>\n      <td>42.2</td>\n      <td>2.0</td>\n      <td>35549.276658</td>\n      <td>5674.276658</td>\n      <td>5674.276658</td>\n      <td>(23131.6, 29990.0]</td>\n      <td>(0.999, 4063.2]</td>\n    </tr>\n  </tbody>\n</table>\n</div>"
     },
     "execution_count": 60,
     "metadata": {},
     "output_type": "execute_result"
    }
   ],
   "source": [
    "test.head()"
   ],
   "metadata": {
    "collapsed": false,
    "pycharm": {
     "name": "#%%\n"
    }
   }
  },
  {
   "cell_type": "markdown",
   "source": [
    "##### Модель больше всего ошибается на новых машинах, у которых меньше всего пробег"
   ],
   "metadata": {
    "collapsed": false,
    "pycharm": {
     "name": "#%% md\n"
    }
   }
  },
  {
   "cell_type": "code",
   "execution_count": 61,
   "outputs": [
    {
     "data": {
      "text/plain": "<pandas.io.formats.style.Styler at 0x1fad5962790>",
      "text/html": "<style type=\"text/css\">\n#T_bbf50_row0_col3 {\n  background-color: #ff0000;\n  color: #f1f1f1;\n}\n#T_bbf50_row1_col3 {\n  background-color: #9a1111;\n  color: #f1f1f1;\n}\n#T_bbf50_row2_col3 {\n  background-color: #6a1818;\n  color: #f1f1f1;\n}\n#T_bbf50_row3_col3 {\n  background-color: #461e1e;\n  color: #f1f1f1;\n}\n#T_bbf50_row4_col3 {\n  background-color: #312222;\n  color: #f1f1f1;\n}\n</style>\n<table id=\"T_bbf50\">\n  <thead>\n    <tr>\n      <th class=\"blank level0\" >&nbsp;</th>\n      <th id=\"T_bbf50_level0_col0\" class=\"col_heading level0 col0\" >error_abs_count</th>\n      <th id=\"T_bbf50_level0_col1\" class=\"col_heading level0 col1\" >error_abs_mean</th>\n      <th id=\"T_bbf50_level0_col2\" class=\"col_heading level0 col2\" >error_mean</th>\n      <th id=\"T_bbf50_level0_col3\" class=\"col_heading level0 col3\" >mean_error_diff</th>\n      <th id=\"T_bbf50_level0_col4\" class=\"col_heading level0 col4\" >mean_error</th>\n    </tr>\n    <tr>\n      <th class=\"index_name level0\" >mileage_group</th>\n      <th class=\"blank col0\" >&nbsp;</th>\n      <th class=\"blank col1\" >&nbsp;</th>\n      <th class=\"blank col2\" >&nbsp;</th>\n      <th class=\"blank col3\" >&nbsp;</th>\n      <th class=\"blank col4\" >&nbsp;</th>\n    </tr>\n  </thead>\n  <tbody>\n    <tr>\n      <th id=\"T_bbf50_level0_row0\" class=\"row_heading level0 row0\" >(0.999, 4063.2]</th>\n      <td id=\"T_bbf50_row0_col0\" class=\"data row0 col0\" >432</td>\n      <td id=\"T_bbf50_row0_col1\" class=\"data row0 col1\" >2433.845556</td>\n      <td id=\"T_bbf50_row0_col2\" class=\"data row0 col2\" >293.238143</td>\n      <td id=\"T_bbf50_row0_col3\" class=\"data row0 col3\" >896.285490</td>\n      <td id=\"T_bbf50_row0_col4\" class=\"data row0 col4\" >1537.560066</td>\n    </tr>\n    <tr>\n      <th id=\"T_bbf50_level0_row1\" class=\"row_heading level0 row1\" >(4063.2, 9825.4]</th>\n      <td id=\"T_bbf50_row1_col0\" class=\"data row1 col0\" >431</td>\n      <td id=\"T_bbf50_row1_col1\" class=\"data row1 col1\" >1725.080432</td>\n      <td id=\"T_bbf50_row1_col2\" class=\"data row1 col2\" >67.411269</td>\n      <td id=\"T_bbf50_row1_col3\" class=\"data row1 col3\" >187.520367</td>\n      <td id=\"T_bbf50_row1_col4\" class=\"data row1 col4\" >1537.560066</td>\n    </tr>\n    <tr>\n      <th id=\"T_bbf50_level0_row2\" class=\"row_heading level0 row2\" >(9825.4, 24299.0]</th>\n      <td id=\"T_bbf50_row2_col0\" class=\"data row2 col0\" >432</td>\n      <td id=\"T_bbf50_row2_col1\" class=\"data row2 col1\" >1395.285364</td>\n      <td id=\"T_bbf50_row2_col2\" class=\"data row2 col2\" >65.804632</td>\n      <td id=\"T_bbf50_row2_col3\" class=\"data row2 col3\" >-142.274702</td>\n      <td id=\"T_bbf50_row2_col4\" class=\"data row2 col4\" >1537.560066</td>\n    </tr>\n    <tr>\n      <th id=\"T_bbf50_level0_row3\" class=\"row_heading level0 row3\" >(24299.0, 43519.8]</th>\n      <td id=\"T_bbf50_row3_col0\" class=\"data row3 col0\" >430</td>\n      <td id=\"T_bbf50_row3_col1\" class=\"data row3 col1\" >1141.553935</td>\n      <td id=\"T_bbf50_row3_col2\" class=\"data row3 col2\" >13.742028</td>\n      <td id=\"T_bbf50_row3_col3\" class=\"data row3 col3\" >-396.006130</td>\n      <td id=\"T_bbf50_row3_col4\" class=\"data row3 col4\" >1537.560066</td>\n    </tr>\n    <tr>\n      <th id=\"T_bbf50_level0_row4\" class=\"row_heading level0 row4\" >(43519.8, 190000.0]</th>\n      <td id=\"T_bbf50_row4_col0\" class=\"data row4 col0\" >432</td>\n      <td id=\"T_bbf50_row4_col1\" class=\"data row4 col1\" >990.635754</td>\n      <td id=\"T_bbf50_row4_col2\" class=\"data row4 col2\" >169.615201</td>\n      <td id=\"T_bbf50_row4_col3\" class=\"data row4 col3\" >-546.924311</td>\n      <td id=\"T_bbf50_row4_col4\" class=\"data row4 col4\" >1537.560066</td>\n    </tr>\n  </tbody>\n</table>\n"
     },
     "metadata": {},
     "output_type": "display_data"
    },
    {
     "name": "stdout",
     "output_type": "stream",
     "text": [
      "                     error_abs_count  error_abs_mean  error_mean  \\\n",
      "mileage_group                                                      \n",
      "(0.999, 4063.2]                  432     2433.845556  293.238143   \n",
      "(4063.2, 9825.4]                 431     1725.080432   67.411269   \n",
      "(9825.4, 24299.0]                432     1395.285364   65.804632   \n",
      "(24299.0, 43519.8]               430     1141.553935   13.742028   \n",
      "(43519.8, 190000.0]              432      990.635754  169.615201   \n",
      "\n",
      "                     mean_error_diff   mean_error  \n",
      "mileage_group                                      \n",
      "(0.999, 4063.2]           896.285490  1537.560066  \n",
      "(4063.2, 9825.4]          187.520367  1537.560066  \n",
      "(9825.4, 24299.0]        -142.274702  1537.560066  \n",
      "(24299.0, 43519.8]       -396.006130  1537.560066  \n",
      "(43519.8, 190000.0]      -546.924311  1537.560066  \n"
     ]
    }
   ],
   "source": [
    "print_error('mileage_group')"
   ],
   "metadata": {
    "collapsed": false,
    "pycharm": {
     "name": "#%%\n"
    }
   }
  },
  {
   "cell_type": "markdown",
   "source": [
    "##### Посмотрим данные на типе топлива"
   ],
   "metadata": {
    "collapsed": false,
    "pycharm": {
     "name": "#%% md\n"
    }
   }
  },
  {
   "cell_type": "code",
   "execution_count": 62,
   "outputs": [
    {
     "data": {
      "text/plain": "<pandas.io.formats.style.Styler at 0x1fa8b61bc50>",
      "text/html": "<style type=\"text/css\">\n#T_db4ce_row0_col3 {\n  background-color: #b10d0d;\n  color: #f1f1f1;\n}\n#T_db4ce_row1_col3 {\n  background-color: #d00808;\n  color: #f1f1f1;\n}\n#T_db4ce_row2_col3 {\n  background-color: #312222;\n  color: #f1f1f1;\n}\n#T_db4ce_row3_col3 {\n  background-color: #ff0000;\n  color: #f1f1f1;\n}\n</style>\n<table id=\"T_db4ce\">\n  <thead>\n    <tr>\n      <th class=\"blank level0\" >&nbsp;</th>\n      <th id=\"T_db4ce_level0_col0\" class=\"col_heading level0 col0\" >error_abs_count</th>\n      <th id=\"T_db4ce_level0_col1\" class=\"col_heading level0 col1\" >error_abs_mean</th>\n      <th id=\"T_db4ce_level0_col2\" class=\"col_heading level0 col2\" >error_mean</th>\n      <th id=\"T_db4ce_level0_col3\" class=\"col_heading level0 col3\" >mean_error_diff</th>\n      <th id=\"T_db4ce_level0_col4\" class=\"col_heading level0 col4\" >mean_error</th>\n    </tr>\n    <tr>\n      <th class=\"index_name level0\" >fuelType</th>\n      <th class=\"blank col0\" >&nbsp;</th>\n      <th class=\"blank col1\" >&nbsp;</th>\n      <th class=\"blank col2\" >&nbsp;</th>\n      <th class=\"blank col3\" >&nbsp;</th>\n      <th class=\"blank col4\" >&nbsp;</th>\n    </tr>\n  </thead>\n  <tbody>\n    <tr>\n      <th id=\"T_db4ce_level0_row0\" class=\"row_heading level0 row0\" >Diesel</th>\n      <td id=\"T_db4ce_row0_col0\" class=\"data row0 col0\" >1394</td>\n      <td id=\"T_db4ce_row0_col1\" class=\"data row0 col1\" >1437.061117</td>\n      <td id=\"T_db4ce_row0_col2\" class=\"data row0 col2\" >98.276014</td>\n      <td id=\"T_db4ce_row0_col3\" class=\"data row0 col3\" >-100.498949</td>\n      <td id=\"T_db4ce_row0_col4\" class=\"data row0 col4\" >1537.560066</td>\n    </tr>\n    <tr>\n      <th id=\"T_db4ce_level0_row1\" class=\"row_heading level0 row1\" >Hybrid</th>\n      <td id=\"T_db4ce_row1_col0\" class=\"data row1 col0\" >64</td>\n      <td id=\"T_db4ce_row1_col1\" class=\"data row1 col1\" >1558.853198</td>\n      <td id=\"T_db4ce_row1_col2\" class=\"data row1 col2\" >-352.158801</td>\n      <td id=\"T_db4ce_row1_col3\" class=\"data row1 col3\" >21.293132</td>\n      <td id=\"T_db4ce_row1_col4\" class=\"data row1 col4\" >1537.560066</td>\n    </tr>\n    <tr>\n      <th id=\"T_db4ce_level0_row2\" class=\"row_heading level0 row2\" >Other</th>\n      <td id=\"T_db4ce_row2_col0\" class=\"data row2 col0\" >5</td>\n      <td id=\"T_db4ce_row2_col1\" class=\"data row2 col1\" >944.136410</td>\n      <td id=\"T_db4ce_row2_col2\" class=\"data row2 col2\" >-941.902308</td>\n      <td id=\"T_db4ce_row2_col3\" class=\"data row2 col3\" >-593.423655</td>\n      <td id=\"T_db4ce_row2_col4\" class=\"data row2 col4\" >1537.560066</td>\n    </tr>\n    <tr>\n      <th id=\"T_db4ce_level0_row3\" class=\"row_heading level0 row3\" >Petrol</th>\n      <td id=\"T_db4ce_row3_col0\" class=\"data row3 col0\" >694</td>\n      <td id=\"T_db4ce_row3_col1\" class=\"data row3 col1\" >1741.738585</td>\n      <td id=\"T_db4ce_row3_col2\" class=\"data row3 col2\" >221.317702</td>\n      <td id=\"T_db4ce_row3_col3\" class=\"data row3 col3\" >204.178520</td>\n      <td id=\"T_db4ce_row3_col4\" class=\"data row3 col4\" >1537.560066</td>\n    </tr>\n  </tbody>\n</table>\n"
     },
     "metadata": {},
     "output_type": "display_data"
    },
    {
     "name": "stdout",
     "output_type": "stream",
     "text": [
      "          error_abs_count  error_abs_mean  error_mean  mean_error_diff  \\\n",
      "fuelType                                                                 \n",
      "Diesel               1394     1437.061117   98.276014      -100.498949   \n",
      "Hybrid                 64     1558.853198 -352.158801        21.293132   \n",
      "Other                   5      944.136410 -941.902308      -593.423655   \n",
      "Petrol                694     1741.738585  221.317702       204.178520   \n",
      "\n",
      "           mean_error  \n",
      "fuelType               \n",
      "Diesel    1537.560066  \n",
      "Hybrid    1537.560066  \n",
      "Other     1537.560066  \n",
      "Petrol    1537.560066  \n"
     ]
    }
   ],
   "source": [
    "print_error('fuelType')"
   ],
   "metadata": {
    "collapsed": false,
    "pycharm": {
     "name": "#%%\n"
    }
   }
  },
  {
   "cell_type": "markdown",
   "source": [
    "##### Посмотрим данные по налогу"
   ],
   "metadata": {
    "collapsed": false,
    "pycharm": {
     "name": "#%% md\n"
    }
   }
  },
  {
   "cell_type": "code",
   "execution_count": 64,
   "outputs": [],
   "source": [
    "test['tax_group'] = pd.qcut(test.tax, 5, duplicates='drop')  # Выкинем дубликаты для избежания ошибки"
   ],
   "metadata": {
    "collapsed": false,
    "pycharm": {
     "name": "#%%\n"
    }
   }
  },
  {
   "cell_type": "code",
   "execution_count": 65,
   "outputs": [
    {
     "data": {
      "text/plain": "          model  year  price transmission  mileage fuelType  tax   mpg  \\\n4984         X6  2019  52990    Semi-Auto     3086   Diesel  145  34.9   \n4880         X1  2018  24081    Semi-Auto    13245   Diesel  150  60.1   \n9132   1 Series  2016  12999    Automatic    68949   Petrol  200  43.5   \n6451   1 Series  2020  11995    Semi-Auto       10   Petrol  150  34.5   \n7199   3 Series  2020  29875    Semi-Auto      150   Petrol  145  42.2   \n\n      engineSize    price_pred         error     error_abs  \\\n4984         3.0  56789.268481   3799.268481   3799.268481   \n4880         2.0  22236.888207  -1844.111793   1844.111793   \n9132         2.0  13529.705791    530.705791    530.705791   \n6451         2.0  31815.676673  19820.676673  19820.676673   \n7199         2.0  35549.276658   5674.276658   5674.276658   \n\n              price_group        mileage_group       tax_group  \n4984   (29990.0, 74990.0]      (0.999, 4063.2]  (125.0, 145.0]  \n4880   (23131.6, 29990.0]    (9825.4, 24299.0]  (145.0, 150.0]  \n9132  (1199.999, 13995.0]  (43519.8, 190000.0]  (150.0, 580.0]  \n6451  (1199.999, 13995.0]      (0.999, 4063.2]  (145.0, 150.0]  \n7199   (23131.6, 29990.0]      (0.999, 4063.2]  (125.0, 145.0]  ",
      "text/html": "<div>\n<style scoped>\n    .dataframe tbody tr th:only-of-type {\n        vertical-align: middle;\n    }\n\n    .dataframe tbody tr th {\n        vertical-align: top;\n    }\n\n    .dataframe thead th {\n        text-align: right;\n    }\n</style>\n<table border=\"1\" class=\"dataframe\">\n  <thead>\n    <tr style=\"text-align: right;\">\n      <th></th>\n      <th>model</th>\n      <th>year</th>\n      <th>price</th>\n      <th>transmission</th>\n      <th>mileage</th>\n      <th>fuelType</th>\n      <th>tax</th>\n      <th>mpg</th>\n      <th>engineSize</th>\n      <th>price_pred</th>\n      <th>error</th>\n      <th>error_abs</th>\n      <th>price_group</th>\n      <th>mileage_group</th>\n      <th>tax_group</th>\n    </tr>\n  </thead>\n  <tbody>\n    <tr>\n      <th>4984</th>\n      <td>X6</td>\n      <td>2019</td>\n      <td>52990</td>\n      <td>Semi-Auto</td>\n      <td>3086</td>\n      <td>Diesel</td>\n      <td>145</td>\n      <td>34.9</td>\n      <td>3.0</td>\n      <td>56789.268481</td>\n      <td>3799.268481</td>\n      <td>3799.268481</td>\n      <td>(29990.0, 74990.0]</td>\n      <td>(0.999, 4063.2]</td>\n      <td>(125.0, 145.0]</td>\n    </tr>\n    <tr>\n      <th>4880</th>\n      <td>X1</td>\n      <td>2018</td>\n      <td>24081</td>\n      <td>Semi-Auto</td>\n      <td>13245</td>\n      <td>Diesel</td>\n      <td>150</td>\n      <td>60.1</td>\n      <td>2.0</td>\n      <td>22236.888207</td>\n      <td>-1844.111793</td>\n      <td>1844.111793</td>\n      <td>(23131.6, 29990.0]</td>\n      <td>(9825.4, 24299.0]</td>\n      <td>(145.0, 150.0]</td>\n    </tr>\n    <tr>\n      <th>9132</th>\n      <td>1 Series</td>\n      <td>2016</td>\n      <td>12999</td>\n      <td>Automatic</td>\n      <td>68949</td>\n      <td>Petrol</td>\n      <td>200</td>\n      <td>43.5</td>\n      <td>2.0</td>\n      <td>13529.705791</td>\n      <td>530.705791</td>\n      <td>530.705791</td>\n      <td>(1199.999, 13995.0]</td>\n      <td>(43519.8, 190000.0]</td>\n      <td>(150.0, 580.0]</td>\n    </tr>\n    <tr>\n      <th>6451</th>\n      <td>1 Series</td>\n      <td>2020</td>\n      <td>11995</td>\n      <td>Semi-Auto</td>\n      <td>10</td>\n      <td>Petrol</td>\n      <td>150</td>\n      <td>34.5</td>\n      <td>2.0</td>\n      <td>31815.676673</td>\n      <td>19820.676673</td>\n      <td>19820.676673</td>\n      <td>(1199.999, 13995.0]</td>\n      <td>(0.999, 4063.2]</td>\n      <td>(145.0, 150.0]</td>\n    </tr>\n    <tr>\n      <th>7199</th>\n      <td>3 Series</td>\n      <td>2020</td>\n      <td>29875</td>\n      <td>Semi-Auto</td>\n      <td>150</td>\n      <td>Petrol</td>\n      <td>145</td>\n      <td>42.2</td>\n      <td>2.0</td>\n      <td>35549.276658</td>\n      <td>5674.276658</td>\n      <td>5674.276658</td>\n      <td>(23131.6, 29990.0]</td>\n      <td>(0.999, 4063.2]</td>\n      <td>(125.0, 145.0]</td>\n    </tr>\n  </tbody>\n</table>\n</div>"
     },
     "execution_count": 65,
     "metadata": {},
     "output_type": "execute_result"
    }
   ],
   "source": [
    "test.head()"
   ],
   "metadata": {
    "collapsed": false,
    "pycharm": {
     "name": "#%%\n"
    }
   }
  },
  {
   "cell_type": "code",
   "execution_count": 66,
   "outputs": [
    {
     "data": {
      "text/plain": "<pandas.io.formats.style.Styler at 0x1fa8b63edd0>",
      "text/html": "<style type=\"text/css\">\n#T_fef42_row0_col3 {\n  background-color: #312222;\n  color: #f1f1f1;\n}\n#T_fef42_row1_col3 {\n  background-color: #ff0000;\n  color: #f1f1f1;\n}\n#T_fef42_row2_col3 {\n  background-color: #eb0303;\n  color: #f1f1f1;\n}\n#T_fef42_row3_col3 {\n  background-color: #d50707;\n  color: #f1f1f1;\n}\n</style>\n<table id=\"T_fef42\">\n  <thead>\n    <tr>\n      <th class=\"blank level0\" >&nbsp;</th>\n      <th id=\"T_fef42_level0_col0\" class=\"col_heading level0 col0\" >error_abs_count</th>\n      <th id=\"T_fef42_level0_col1\" class=\"col_heading level0 col1\" >error_abs_mean</th>\n      <th id=\"T_fef42_level0_col2\" class=\"col_heading level0 col2\" >error_mean</th>\n      <th id=\"T_fef42_level0_col3\" class=\"col_heading level0 col3\" >mean_error_diff</th>\n      <th id=\"T_fef42_level0_col4\" class=\"col_heading level0 col4\" >mean_error</th>\n    </tr>\n    <tr>\n      <th class=\"index_name level0\" >tax_group</th>\n      <th class=\"blank col0\" >&nbsp;</th>\n      <th class=\"blank col1\" >&nbsp;</th>\n      <th class=\"blank col2\" >&nbsp;</th>\n      <th class=\"blank col3\" >&nbsp;</th>\n      <th class=\"blank col4\" >&nbsp;</th>\n    </tr>\n  </thead>\n  <tbody>\n    <tr>\n      <th id=\"T_fef42_level0_row0\" class=\"row_heading level0 row0\" >(-0.001, 125.0]</th>\n      <td id=\"T_fef42_row0_col0\" class=\"data row0 col0\" >512</td>\n      <td id=\"T_fef42_row0_col1\" class=\"data row0 col1\" >823.722414</td>\n      <td id=\"T_fef42_row0_col2\" class=\"data row0 col2\" >91.176598</td>\n      <td id=\"T_fef42_row0_col3\" class=\"data row0 col3\" >-713.837651</td>\n      <td id=\"T_fef42_row0_col4\" class=\"data row0 col4\" >1537.560066</td>\n    </tr>\n    <tr>\n      <th id=\"T_fef42_level0_row1\" class=\"row_heading level0 row1\" >(125.0, 145.0]</th>\n      <td id=\"T_fef42_row1_col0\" class=\"data row1 col0\" >1131</td>\n      <td id=\"T_fef42_row1_col1\" class=\"data row1 col1\" >1807.424736</td>\n      <td id=\"T_fef42_row1_col2\" class=\"data row1 col2\" >117.301327</td>\n      <td id=\"T_fef42_row1_col3\" class=\"data row1 col3\" >269.864670</td>\n      <td id=\"T_fef42_row1_col4\" class=\"data row1 col4\" >1537.560066</td>\n    </tr>\n    <tr>\n      <th id=\"T_fef42_level0_row2\" class=\"row_heading level0 row2\" >(145.0, 150.0]</th>\n      <td id=\"T_fef42_row2_col0\" class=\"data row2 col0\" >252</td>\n      <td id=\"T_fef42_row2_col1\" class=\"data row2 col1\" >1707.575874</td>\n      <td id=\"T_fef42_row2_col2\" class=\"data row2 col2\" >118.514950</td>\n      <td id=\"T_fef42_row2_col3\" class=\"data row2 col3\" >170.015808</td>\n      <td id=\"T_fef42_row2_col4\" class=\"data row2 col4\" >1537.560066</td>\n    </tr>\n    <tr>\n      <th id=\"T_fef42_level0_row3\" class=\"row_heading level0 row3\" >(150.0, 580.0]</th>\n      <td id=\"T_fef42_row3_col0\" class=\"data row3 col0\" >262</td>\n      <td id=\"T_fef42_row3_col1\" class=\"data row3 col1\" >1604.063700</td>\n      <td id=\"T_fef42_row3_col2\" class=\"data row3 col2\" >206.593848</td>\n      <td id=\"T_fef42_row3_col3\" class=\"data row3 col3\" >66.503634</td>\n      <td id=\"T_fef42_row3_col4\" class=\"data row3 col4\" >1537.560066</td>\n    </tr>\n  </tbody>\n</table>\n"
     },
     "metadata": {},
     "output_type": "display_data"
    },
    {
     "name": "stdout",
     "output_type": "stream",
     "text": [
      "                 error_abs_count  error_abs_mean  error_mean  mean_error_diff  \\\n",
      "tax_group                                                                       \n",
      "(-0.001, 125.0]              512      823.722414   91.176598      -713.837651   \n",
      "(125.0, 145.0]              1131     1807.424736  117.301327       269.864670   \n",
      "(145.0, 150.0]               252     1707.575874  118.514950       170.015808   \n",
      "(150.0, 580.0]               262     1604.063700  206.593848        66.503634   \n",
      "\n",
      "                  mean_error  \n",
      "tax_group                     \n",
      "(-0.001, 125.0]  1537.560066  \n",
      "(125.0, 145.0]   1537.560066  \n",
      "(145.0, 150.0]   1537.560066  \n",
      "(150.0, 580.0]   1537.560066  \n"
     ]
    }
   ],
   "source": [
    "print_error('tax_group')"
   ],
   "metadata": {
    "collapsed": false,
    "pycharm": {
     "name": "#%%\n"
    }
   }
  },
  {
   "cell_type": "markdown",
   "source": [
    "##### Самая большая ошибка получается на самых новых машинах"
   ],
   "metadata": {
    "collapsed": false,
    "pycharm": {
     "name": "#%% md\n"
    }
   }
  },
  {
   "cell_type": "code",
   "execution_count": 68,
   "outputs": [
    {
     "data": {
      "text/plain": "                price                year             \n                count          mean count         mean\ntax_group                                             \n(-0.001, 125.0]   512  13264.859375   512  2015.365234\n(125.0, 145.0]   1131  27536.747126  1131  2018.382847\n(145.0, 150.0]    252  25288.376984   252  2018.166667\n(150.0, 580.0]    262  18207.576336   262  2014.118321",
      "text/html": "<div>\n<style scoped>\n    .dataframe tbody tr th:only-of-type {\n        vertical-align: middle;\n    }\n\n    .dataframe tbody tr th {\n        vertical-align: top;\n    }\n\n    .dataframe thead tr th {\n        text-align: left;\n    }\n\n    .dataframe thead tr:last-of-type th {\n        text-align: right;\n    }\n</style>\n<table border=\"1\" class=\"dataframe\">\n  <thead>\n    <tr>\n      <th></th>\n      <th colspan=\"2\" halign=\"left\">price</th>\n      <th colspan=\"2\" halign=\"left\">year</th>\n    </tr>\n    <tr>\n      <th></th>\n      <th>count</th>\n      <th>mean</th>\n      <th>count</th>\n      <th>mean</th>\n    </tr>\n    <tr>\n      <th>tax_group</th>\n      <th></th>\n      <th></th>\n      <th></th>\n      <th></th>\n    </tr>\n  </thead>\n  <tbody>\n    <tr>\n      <th>(-0.001, 125.0]</th>\n      <td>512</td>\n      <td>13264.859375</td>\n      <td>512</td>\n      <td>2015.365234</td>\n    </tr>\n    <tr>\n      <th>(125.0, 145.0]</th>\n      <td>1131</td>\n      <td>27536.747126</td>\n      <td>1131</td>\n      <td>2018.382847</td>\n    </tr>\n    <tr>\n      <th>(145.0, 150.0]</th>\n      <td>252</td>\n      <td>25288.376984</td>\n      <td>252</td>\n      <td>2018.166667</td>\n    </tr>\n    <tr>\n      <th>(150.0, 580.0]</th>\n      <td>262</td>\n      <td>18207.576336</td>\n      <td>262</td>\n      <td>2014.118321</td>\n    </tr>\n  </tbody>\n</table>\n</div>"
     },
     "execution_count": 68,
     "metadata": {},
     "output_type": "execute_result"
    }
   ],
   "source": [
    "test.groupby('tax_group')[['price', 'year']].agg(['count', 'mean'])"
   ],
   "metadata": {
    "collapsed": false,
    "pycharm": {
     "name": "#%%\n"
    }
   }
  },
  {
   "cell_type": "markdown",
   "source": [
    "##### Посмотрим на данные по расходу (mpg - сколько миль можно проехать на 1 галоне топлива)"
   ],
   "metadata": {
    "collapsed": false,
    "pycharm": {
     "name": "#%% md\n"
    }
   }
  },
  {
   "cell_type": "markdown",
   "source": [
    "##### Чтобы перевести mpg в л/100км нужно: 235.22 / mpg\n",
    "##### Чтобы перевести л/100км в mpg нужно: 235.22 /  л/100км\n",
    "##### Простыми словами, чем меньше mpg, тем выше расход"
   ],
   "metadata": {
    "collapsed": false,
    "pycharm": {
     "name": "#%% md\n"
    }
   }
  },
  {
   "cell_type": "code",
   "execution_count": 70,
   "outputs": [],
   "source": [
    "test['mpg_group'] = pd.qcut(test.mpg, 5)"
   ],
   "metadata": {
    "collapsed": false,
    "pycharm": {
     "name": "#%%\n"
    }
   }
  },
  {
   "cell_type": "code",
   "execution_count": 72,
   "outputs": [
    {
     "data": {
      "text/plain": "          model  year  price transmission  mileage fuelType  tax   mpg  \\\n4984         X6  2019  52990    Semi-Auto     3086   Diesel  145  34.9   \n4880         X1  2018  24081    Semi-Auto    13245   Diesel  150  60.1   \n9132   1 Series  2016  12999    Automatic    68949   Petrol  200  43.5   \n6451   1 Series  2020  11995    Semi-Auto       10   Petrol  150  34.5   \n7199   3 Series  2020  29875    Semi-Auto      150   Petrol  145  42.2   \n\n      engineSize    price_pred         error     error_abs  \\\n4984         3.0  56789.268481   3799.268481   3799.268481   \n4880         2.0  22236.888207  -1844.111793   1844.111793   \n9132         2.0  13529.705791    530.705791    530.705791   \n6451         2.0  31815.676673  19820.676673  19820.676673   \n7199         2.0  35549.276658   5674.276658   5674.276658   \n\n              price_group        mileage_group       tax_group      mpg_group  \n4984   (29990.0, 74990.0]      (0.999, 4063.2]  (125.0, 145.0]  (5.499, 42.2]  \n4880   (23131.6, 29990.0]    (9825.4, 24299.0]  (145.0, 150.0]   (55.4, 64.2]  \n9132  (1199.999, 13995.0]  (43519.8, 190000.0]  (150.0, 580.0]   (42.2, 50.4]  \n6451  (1199.999, 13995.0]      (0.999, 4063.2]  (145.0, 150.0]  (5.499, 42.2]  \n7199   (23131.6, 29990.0]      (0.999, 4063.2]  (125.0, 145.0]  (5.499, 42.2]  ",
      "text/html": "<div>\n<style scoped>\n    .dataframe tbody tr th:only-of-type {\n        vertical-align: middle;\n    }\n\n    .dataframe tbody tr th {\n        vertical-align: top;\n    }\n\n    .dataframe thead th {\n        text-align: right;\n    }\n</style>\n<table border=\"1\" class=\"dataframe\">\n  <thead>\n    <tr style=\"text-align: right;\">\n      <th></th>\n      <th>model</th>\n      <th>year</th>\n      <th>price</th>\n      <th>transmission</th>\n      <th>mileage</th>\n      <th>fuelType</th>\n      <th>tax</th>\n      <th>mpg</th>\n      <th>engineSize</th>\n      <th>price_pred</th>\n      <th>error</th>\n      <th>error_abs</th>\n      <th>price_group</th>\n      <th>mileage_group</th>\n      <th>tax_group</th>\n      <th>mpg_group</th>\n    </tr>\n  </thead>\n  <tbody>\n    <tr>\n      <th>4984</th>\n      <td>X6</td>\n      <td>2019</td>\n      <td>52990</td>\n      <td>Semi-Auto</td>\n      <td>3086</td>\n      <td>Diesel</td>\n      <td>145</td>\n      <td>34.9</td>\n      <td>3.0</td>\n      <td>56789.268481</td>\n      <td>3799.268481</td>\n      <td>3799.268481</td>\n      <td>(29990.0, 74990.0]</td>\n      <td>(0.999, 4063.2]</td>\n      <td>(125.0, 145.0]</td>\n      <td>(5.499, 42.2]</td>\n    </tr>\n    <tr>\n      <th>4880</th>\n      <td>X1</td>\n      <td>2018</td>\n      <td>24081</td>\n      <td>Semi-Auto</td>\n      <td>13245</td>\n      <td>Diesel</td>\n      <td>150</td>\n      <td>60.1</td>\n      <td>2.0</td>\n      <td>22236.888207</td>\n      <td>-1844.111793</td>\n      <td>1844.111793</td>\n      <td>(23131.6, 29990.0]</td>\n      <td>(9825.4, 24299.0]</td>\n      <td>(145.0, 150.0]</td>\n      <td>(55.4, 64.2]</td>\n    </tr>\n    <tr>\n      <th>9132</th>\n      <td>1 Series</td>\n      <td>2016</td>\n      <td>12999</td>\n      <td>Automatic</td>\n      <td>68949</td>\n      <td>Petrol</td>\n      <td>200</td>\n      <td>43.5</td>\n      <td>2.0</td>\n      <td>13529.705791</td>\n      <td>530.705791</td>\n      <td>530.705791</td>\n      <td>(1199.999, 13995.0]</td>\n      <td>(43519.8, 190000.0]</td>\n      <td>(150.0, 580.0]</td>\n      <td>(42.2, 50.4]</td>\n    </tr>\n    <tr>\n      <th>6451</th>\n      <td>1 Series</td>\n      <td>2020</td>\n      <td>11995</td>\n      <td>Semi-Auto</td>\n      <td>10</td>\n      <td>Petrol</td>\n      <td>150</td>\n      <td>34.5</td>\n      <td>2.0</td>\n      <td>31815.676673</td>\n      <td>19820.676673</td>\n      <td>19820.676673</td>\n      <td>(1199.999, 13995.0]</td>\n      <td>(0.999, 4063.2]</td>\n      <td>(145.0, 150.0]</td>\n      <td>(5.499, 42.2]</td>\n    </tr>\n    <tr>\n      <th>7199</th>\n      <td>3 Series</td>\n      <td>2020</td>\n      <td>29875</td>\n      <td>Semi-Auto</td>\n      <td>150</td>\n      <td>Petrol</td>\n      <td>145</td>\n      <td>42.2</td>\n      <td>2.0</td>\n      <td>35549.276658</td>\n      <td>5674.276658</td>\n      <td>5674.276658</td>\n      <td>(23131.6, 29990.0]</td>\n      <td>(0.999, 4063.2]</td>\n      <td>(125.0, 145.0]</td>\n      <td>(5.499, 42.2]</td>\n    </tr>\n  </tbody>\n</table>\n</div>"
     },
     "execution_count": 72,
     "metadata": {},
     "output_type": "execute_result"
    }
   ],
   "source": [
    "test.head()"
   ],
   "metadata": {
    "collapsed": false,
    "pycharm": {
     "name": "#%%\n"
    }
   }
  },
  {
   "cell_type": "code",
   "execution_count": 73,
   "outputs": [
    {
     "data": {
      "text/plain": "<pandas.io.formats.style.Styler at 0x1fa8ae25650>",
      "text/html": "<style type=\"text/css\">\n#T_cb979_row0_col3 {\n  background-color: #ff0000;\n  color: #f1f1f1;\n}\n#T_cb979_row1_col3 {\n  background-color: #a40f0f;\n  color: #f1f1f1;\n}\n#T_cb979_row2_col3 {\n  background-color: #881414;\n  color: #f1f1f1;\n}\n#T_cb979_row3_col3 {\n  background-color: #551c1c;\n  color: #f1f1f1;\n}\n#T_cb979_row4_col3 {\n  background-color: #312222;\n  color: #f1f1f1;\n}\n</style>\n<table id=\"T_cb979\">\n  <thead>\n    <tr>\n      <th class=\"blank level0\" >&nbsp;</th>\n      <th id=\"T_cb979_level0_col0\" class=\"col_heading level0 col0\" >error_abs_count</th>\n      <th id=\"T_cb979_level0_col1\" class=\"col_heading level0 col1\" >error_abs_mean</th>\n      <th id=\"T_cb979_level0_col2\" class=\"col_heading level0 col2\" >error_mean</th>\n      <th id=\"T_cb979_level0_col3\" class=\"col_heading level0 col3\" >mean_error_diff</th>\n      <th id=\"T_cb979_level0_col4\" class=\"col_heading level0 col4\" >mean_error</th>\n    </tr>\n    <tr>\n      <th class=\"index_name level0\" >mpg_group</th>\n      <th class=\"blank col0\" >&nbsp;</th>\n      <th class=\"blank col1\" >&nbsp;</th>\n      <th class=\"blank col2\" >&nbsp;</th>\n      <th class=\"blank col3\" >&nbsp;</th>\n      <th class=\"blank col4\" >&nbsp;</th>\n    </tr>\n  </thead>\n  <tbody>\n    <tr>\n      <th id=\"T_cb979_level0_row0\" class=\"row_heading level0 row0\" >(5.499, 42.2]</th>\n      <td id=\"T_cb979_row0_col0\" class=\"data row0 col0\" >444</td>\n      <td id=\"T_cb979_row0_col1\" class=\"data row0 col1\" >2159.412978</td>\n      <td id=\"T_cb979_row0_col2\" class=\"data row0 col2\" >227.429403</td>\n      <td id=\"T_cb979_row0_col3\" class=\"data row0 col3\" >621.852912</td>\n      <td id=\"T_cb979_row0_col4\" class=\"data row0 col4\" >1537.560066</td>\n    </tr>\n    <tr>\n      <th id=\"T_cb979_level0_row1\" class=\"row_heading level0 row1\" >(42.2, 50.4]</th>\n      <td id=\"T_cb979_row1_col0\" class=\"data row1 col0\" >487</td>\n      <td id=\"T_cb979_row1_col1\" class=\"data row1 col1\" >1664.200649</td>\n      <td id=\"T_cb979_row1_col2\" class=\"data row1 col2\" >361.406267</td>\n      <td id=\"T_cb979_row1_col3\" class=\"data row1 col3\" >126.640583</td>\n      <td id=\"T_cb979_row1_col4\" class=\"data row1 col4\" >1537.560066</td>\n    </tr>\n    <tr>\n      <th id=\"T_cb979_level0_row2\" class=\"row_heading level0 row2\" >(50.4, 55.4]</th>\n      <td id=\"T_cb979_row2_col0\" class=\"data row2 col0\" >380</td>\n      <td id=\"T_cb979_row2_col1\" class=\"data row2 col1\" >1517.852124</td>\n      <td id=\"T_cb979_row2_col2\" class=\"data row2 col2\" >46.756860</td>\n      <td id=\"T_cb979_row2_col3\" class=\"data row2 col3\" >-19.707942</td>\n      <td id=\"T_cb979_row2_col4\" class=\"data row2 col4\" >1537.560066</td>\n    </tr>\n    <tr>\n      <th id=\"T_cb979_level0_row3\" class=\"row_heading level0 row3\" >(55.4, 64.2]</th>\n      <td id=\"T_cb979_row3_col0\" class=\"data row3 col0\" >449</td>\n      <td id=\"T_cb979_row3_col1\" class=\"data row3 col1\" >1238.191642</td>\n      <td id=\"T_cb979_row3_col2\" class=\"data row3 col2\" >-105.163252</td>\n      <td id=\"T_cb979_row3_col3\" class=\"data row3 col3\" >-299.368424</td>\n      <td id=\"T_cb979_row3_col4\" class=\"data row3 col4\" >1537.560066</td>\n    </tr>\n    <tr>\n      <th id=\"T_cb979_level0_row4\" class=\"row_heading level0 row4\" >(64.2, 470.8]</th>\n      <td id=\"T_cb979_row4_col0\" class=\"data row4 col0\" >397</td>\n      <td id=\"T_cb979_row4_col1\" class=\"data row4 col1\" >1044.181685</td>\n      <td id=\"T_cb979_row4_col2\" class=\"data row4 col2\" >39.825594</td>\n      <td id=\"T_cb979_row4_col3\" class=\"data row4 col3\" >-493.378380</td>\n      <td id=\"T_cb979_row4_col4\" class=\"data row4 col4\" >1537.560066</td>\n    </tr>\n  </tbody>\n</table>\n"
     },
     "metadata": {},
     "output_type": "display_data"
    },
    {
     "name": "stdout",
     "output_type": "stream",
     "text": [
      "               error_abs_count  error_abs_mean  error_mean  mean_error_diff  \\\n",
      "mpg_group                                                                     \n",
      "(5.499, 42.2]              444     2159.412978  227.429403       621.852912   \n",
      "(42.2, 50.4]               487     1664.200649  361.406267       126.640583   \n",
      "(50.4, 55.4]               380     1517.852124   46.756860       -19.707942   \n",
      "(55.4, 64.2]               449     1238.191642 -105.163252      -299.368424   \n",
      "(64.2, 470.8]              397     1044.181685   39.825594      -493.378380   \n",
      "\n",
      "                mean_error  \n",
      "mpg_group                   \n",
      "(5.499, 42.2]  1537.560066  \n",
      "(42.2, 50.4]   1537.560066  \n",
      "(50.4, 55.4]   1537.560066  \n",
      "(55.4, 64.2]   1537.560066  \n",
      "(64.2, 470.8]  1537.560066  \n"
     ]
    }
   ],
   "source": [
    "print_error('mpg_group')"
   ],
   "metadata": {
    "collapsed": false,
    "pycharm": {
     "name": "#%%\n"
    }
   }
  },
  {
   "cell_type": "code",
   "execution_count": 74,
   "outputs": [
    {
     "data": {
      "text/plain": "              price                year             \n              count          mean count         mean\nmpg_group                                           \n(5.499, 42.2]   444  32876.211712   444  2017.743243\n(42.2, 50.4]    487  23569.260780   487  2017.451745\n(50.4, 55.4]    380  21489.018421   380  2017.194737\n(55.4, 64.2]    449  18276.222717   449  2016.443207\n(64.2, 470.8]   397  16704.297229   397  2016.727960",
      "text/html": "<div>\n<style scoped>\n    .dataframe tbody tr th:only-of-type {\n        vertical-align: middle;\n    }\n\n    .dataframe tbody tr th {\n        vertical-align: top;\n    }\n\n    .dataframe thead tr th {\n        text-align: left;\n    }\n\n    .dataframe thead tr:last-of-type th {\n        text-align: right;\n    }\n</style>\n<table border=\"1\" class=\"dataframe\">\n  <thead>\n    <tr>\n      <th></th>\n      <th colspan=\"2\" halign=\"left\">price</th>\n      <th colspan=\"2\" halign=\"left\">year</th>\n    </tr>\n    <tr>\n      <th></th>\n      <th>count</th>\n      <th>mean</th>\n      <th>count</th>\n      <th>mean</th>\n    </tr>\n    <tr>\n      <th>mpg_group</th>\n      <th></th>\n      <th></th>\n      <th></th>\n      <th></th>\n    </tr>\n  </thead>\n  <tbody>\n    <tr>\n      <th>(5.499, 42.2]</th>\n      <td>444</td>\n      <td>32876.211712</td>\n      <td>444</td>\n      <td>2017.743243</td>\n    </tr>\n    <tr>\n      <th>(42.2, 50.4]</th>\n      <td>487</td>\n      <td>23569.260780</td>\n      <td>487</td>\n      <td>2017.451745</td>\n    </tr>\n    <tr>\n      <th>(50.4, 55.4]</th>\n      <td>380</td>\n      <td>21489.018421</td>\n      <td>380</td>\n      <td>2017.194737</td>\n    </tr>\n    <tr>\n      <th>(55.4, 64.2]</th>\n      <td>449</td>\n      <td>18276.222717</td>\n      <td>449</td>\n      <td>2016.443207</td>\n    </tr>\n    <tr>\n      <th>(64.2, 470.8]</th>\n      <td>397</td>\n      <td>16704.297229</td>\n      <td>397</td>\n      <td>2016.727960</td>\n    </tr>\n  </tbody>\n</table>\n</div>"
     },
     "execution_count": 74,
     "metadata": {},
     "output_type": "execute_result"
    }
   ],
   "source": [
    "test.groupby('mpg_group')[['price', 'year']].agg(['count', 'mean'])"
   ],
   "metadata": {
    "collapsed": false,
    "pycharm": {
     "name": "#%%\n"
    }
   }
  },
  {
   "cell_type": "code",
   "execution_count": 75,
   "outputs": [
    {
     "data": {
      "text/plain": "      count       mean\nyear                  \n1996      1  26.400000\n1999      1  31.000000\n2001      1  27.700000\n2002      2  28.950000\n2003      1  26.400000\n2004      4  27.125000\n2006      3  37.566667\n2007      2  36.850000\n2008      4  41.075000\n2009      6  42.366667\n2010      3  47.200000\n2011     12  52.791667\n2012     28  56.100000\n2013     73  55.279452\n2014     97  55.529897\n2015    179  60.846927\n2016    360  63.877222\n2017    330  65.586667\n2018    168  50.624405\n2019    726  50.093113\n2020    156  45.766026",
      "text/html": "<div>\n<style scoped>\n    .dataframe tbody tr th:only-of-type {\n        vertical-align: middle;\n    }\n\n    .dataframe tbody tr th {\n        vertical-align: top;\n    }\n\n    .dataframe thead th {\n        text-align: right;\n    }\n</style>\n<table border=\"1\" class=\"dataframe\">\n  <thead>\n    <tr style=\"text-align: right;\">\n      <th></th>\n      <th>count</th>\n      <th>mean</th>\n    </tr>\n    <tr>\n      <th>year</th>\n      <th></th>\n      <th></th>\n    </tr>\n  </thead>\n  <tbody>\n    <tr>\n      <th>1996</th>\n      <td>1</td>\n      <td>26.400000</td>\n    </tr>\n    <tr>\n      <th>1999</th>\n      <td>1</td>\n      <td>31.000000</td>\n    </tr>\n    <tr>\n      <th>2001</th>\n      <td>1</td>\n      <td>27.700000</td>\n    </tr>\n    <tr>\n      <th>2002</th>\n      <td>2</td>\n      <td>28.950000</td>\n    </tr>\n    <tr>\n      <th>2003</th>\n      <td>1</td>\n      <td>26.400000</td>\n    </tr>\n    <tr>\n      <th>2004</th>\n      <td>4</td>\n      <td>27.125000</td>\n    </tr>\n    <tr>\n      <th>2006</th>\n      <td>3</td>\n      <td>37.566667</td>\n    </tr>\n    <tr>\n      <th>2007</th>\n      <td>2</td>\n      <td>36.850000</td>\n    </tr>\n    <tr>\n      <th>2008</th>\n      <td>4</td>\n      <td>41.075000</td>\n    </tr>\n    <tr>\n      <th>2009</th>\n      <td>6</td>\n      <td>42.366667</td>\n    </tr>\n    <tr>\n      <th>2010</th>\n      <td>3</td>\n      <td>47.200000</td>\n    </tr>\n    <tr>\n      <th>2011</th>\n      <td>12</td>\n      <td>52.791667</td>\n    </tr>\n    <tr>\n      <th>2012</th>\n      <td>28</td>\n      <td>56.100000</td>\n    </tr>\n    <tr>\n      <th>2013</th>\n      <td>73</td>\n      <td>55.279452</td>\n    </tr>\n    <tr>\n      <th>2014</th>\n      <td>97</td>\n      <td>55.529897</td>\n    </tr>\n    <tr>\n      <th>2015</th>\n      <td>179</td>\n      <td>60.846927</td>\n    </tr>\n    <tr>\n      <th>2016</th>\n      <td>360</td>\n      <td>63.877222</td>\n    </tr>\n    <tr>\n      <th>2017</th>\n      <td>330</td>\n      <td>65.586667</td>\n    </tr>\n    <tr>\n      <th>2018</th>\n      <td>168</td>\n      <td>50.624405</td>\n    </tr>\n    <tr>\n      <th>2019</th>\n      <td>726</td>\n      <td>50.093113</td>\n    </tr>\n    <tr>\n      <th>2020</th>\n      <td>156</td>\n      <td>45.766026</td>\n    </tr>\n  </tbody>\n</table>\n</div>"
     },
     "execution_count": 75,
     "metadata": {},
     "output_type": "execute_result"
    }
   ],
   "source": [
    "test.groupby('year').mpg.agg(['count', 'mean'])"
   ],
   "metadata": {
    "collapsed": false,
    "pycharm": {
     "name": "#%%\n"
    }
   }
  },
  {
   "cell_type": "markdown",
   "source": [
    "##### В целом тренд идёт на сокращение расхода топлива, но в более поздних машинах попались экземпляры с высоким расходом\n",
    "##### График mpg по годам (чем выше, тем меньше расход)"
   ],
   "metadata": {
    "collapsed": false,
    "pycharm": {
     "name": "#%% md\n"
    }
   }
  },
  {
   "cell_type": "code",
   "execution_count": 77,
   "outputs": [
    {
     "data": {
      "text/plain": "<Figure size 640x480 with 1 Axes>",
      "image/png": "[encoded data removed]"
     },
     "metadata": {},
     "output_type": "display_data"
    }
   ],
   "source": [
    "test.groupby('year').mpg.mean().plot();"
   ],
   "metadata": {
    "collapsed": false,
    "pycharm": {
     "name": "#%%\n"
    }
   }
  },
  {
   "cell_type": "markdown",
   "source": [
    "##### Посмотрим данные по объёму двигателя"
   ],
   "metadata": {
    "collapsed": false,
    "pycharm": {
     "name": "#%% md\n"
    }
   }
  },
  {
   "cell_type": "code",
   "execution_count": 78,
   "outputs": [
    {
     "data": {
      "text/plain": "      count      mean\nyear                 \n1996      1  2.800000\n1999      1  2.800000\n2001      1  3.000000\n2002      2  2.200000\n2003      1  3.000000\n2004      4  2.775000\n2006      3  1.866667\n2007      2  2.500000\n2008      4  2.625000\n2009      6  2.416667\n2010      3  2.800000\n2011     12  2.208333\n2012     28  2.042857\n2013     73  2.123288\n2014     97  2.181443\n2015    179  2.277095\n2016    360  2.131389\n2017    330  2.180303\n2018    168  2.225000\n2019    726  2.147521\n2020    156  2.227564",
      "text/html": "<div>\n<style scoped>\n    .dataframe tbody tr th:only-of-type {\n        vertical-align: middle;\n    }\n\n    .dataframe tbody tr th {\n        vertical-align: top;\n    }\n\n    .dataframe thead th {\n        text-align: right;\n    }\n</style>\n<table border=\"1\" class=\"dataframe\">\n  <thead>\n    <tr style=\"text-align: right;\">\n      <th></th>\n      <th>count</th>\n      <th>mean</th>\n    </tr>\n    <tr>\n      <th>year</th>\n      <th></th>\n      <th></th>\n    </tr>\n  </thead>\n  <tbody>\n    <tr>\n      <th>1996</th>\n      <td>1</td>\n      <td>2.800000</td>\n    </tr>\n    <tr>\n      <th>1999</th>\n      <td>1</td>\n      <td>2.800000</td>\n    </tr>\n    <tr>\n      <th>2001</th>\n      <td>1</td>\n      <td>3.000000</td>\n    </tr>\n    <tr>\n      <th>2002</th>\n      <td>2</td>\n      <td>2.200000</td>\n    </tr>\n    <tr>\n      <th>2003</th>\n      <td>1</td>\n      <td>3.000000</td>\n    </tr>\n    <tr>\n      <th>2004</th>\n      <td>4</td>\n      <td>2.775000</td>\n    </tr>\n    <tr>\n      <th>2006</th>\n      <td>3</td>\n      <td>1.866667</td>\n    </tr>\n    <tr>\n      <th>2007</th>\n      <td>2</td>\n      <td>2.500000</td>\n    </tr>\n    <tr>\n      <th>2008</th>\n      <td>4</td>\n      <td>2.625000</td>\n    </tr>\n    <tr>\n      <th>2009</th>\n      <td>6</td>\n      <td>2.416667</td>\n    </tr>\n    <tr>\n      <th>2010</th>\n      <td>3</td>\n      <td>2.800000</td>\n    </tr>\n    <tr>\n      <th>2011</th>\n      <td>12</td>\n      <td>2.208333</td>\n    </tr>\n    <tr>\n      <th>2012</th>\n      <td>28</td>\n      <td>2.042857</td>\n    </tr>\n    <tr>\n      <th>2013</th>\n      <td>73</td>\n      <td>2.123288</td>\n    </tr>\n    <tr>\n      <th>2014</th>\n      <td>97</td>\n      <td>2.181443</td>\n    </tr>\n    <tr>\n      <th>2015</th>\n      <td>179</td>\n      <td>2.277095</td>\n    </tr>\n    <tr>\n      <th>2016</th>\n      <td>360</td>\n      <td>2.131389</td>\n    </tr>\n    <tr>\n      <th>2017</th>\n      <td>330</td>\n      <td>2.180303</td>\n    </tr>\n    <tr>\n      <th>2018</th>\n      <td>168</td>\n      <td>2.225000</td>\n    </tr>\n    <tr>\n      <th>2019</th>\n      <td>726</td>\n      <td>2.147521</td>\n    </tr>\n    <tr>\n      <th>2020</th>\n      <td>156</td>\n      <td>2.227564</td>\n    </tr>\n  </tbody>\n</table>\n</div>"
     },
     "execution_count": 78,
     "metadata": {},
     "output_type": "execute_result"
    }
   ],
   "source": [
    "test.groupby('year').engineSize.agg(['count', 'mean'])"
   ],
   "metadata": {
    "collapsed": false,
    "pycharm": {
     "name": "#%%\n"
    }
   }
  },
  {
   "cell_type": "markdown",
   "source": [
    "##### График объёма двигателя по годам:"
   ],
   "metadata": {
    "collapsed": false,
    "pycharm": {
     "name": "#%% md\n"
    }
   }
  },
  {
   "cell_type": "code",
   "execution_count": 83,
   "outputs": [
    {
     "data": {
      "text/plain": "2.0    1323\n3.0     495\n1.5     278\n1.6      24\n4.4      15\n0.0       7\n2.5       4\n2.2       3\n2.8       2\n3.2       2\n4.0       2\n0.6       1\n6.6       1\nName: engineSize, dtype: int64"
     },
     "execution_count": 83,
     "metadata": {},
     "output_type": "execute_result"
    }
   ],
   "source": [
    "test.engineSize.value_counts()"
   ],
   "metadata": {
    "collapsed": false,
    "pycharm": {
     "name": "#%%\n"
    }
   }
  },
  {
   "cell_type": "code",
   "execution_count": 85,
   "outputs": [],
   "source": [
    "test['engine_group'] = pd.cut(test.engineSize, [0 ,1.5, 2, float('inf')])"
   ],
   "metadata": {
    "collapsed": false,
    "pycharm": {
     "name": "#%%\n"
    }
   }
  },
  {
   "cell_type": "code",
   "execution_count": 86,
   "outputs": [
    {
     "data": {
      "text/plain": "          model  year  price transmission  mileage fuelType  tax   mpg  \\\n4984         X6  2019  52990    Semi-Auto     3086   Diesel  145  34.9   \n4880         X1  2018  24081    Semi-Auto    13245   Diesel  150  60.1   \n9132   1 Series  2016  12999    Automatic    68949   Petrol  200  43.5   \n6451   1 Series  2020  11995    Semi-Auto       10   Petrol  150  34.5   \n7199   3 Series  2020  29875    Semi-Auto      150   Petrol  145  42.2   \n\n      engineSize    price_pred         error     error_abs  \\\n4984         3.0  56789.268481   3799.268481   3799.268481   \n4880         2.0  22236.888207  -1844.111793   1844.111793   \n9132         2.0  13529.705791    530.705791    530.705791   \n6451         2.0  31815.676673  19820.676673  19820.676673   \n7199         2.0  35549.276658   5674.276658   5674.276658   \n\n              price_group        mileage_group       tax_group      mpg_group  \\\n4984   (29990.0, 74990.0]      (0.999, 4063.2]  (125.0, 145.0]  (5.499, 42.2]   \n4880   (23131.6, 29990.0]    (9825.4, 24299.0]  (145.0, 150.0]   (55.4, 64.2]   \n9132  (1199.999, 13995.0]  (43519.8, 190000.0]  (150.0, 580.0]   (42.2, 50.4]   \n6451  (1199.999, 13995.0]      (0.999, 4063.2]  (145.0, 150.0]  (5.499, 42.2]   \n7199   (23131.6, 29990.0]      (0.999, 4063.2]  (125.0, 145.0]  (5.499, 42.2]   \n\n     engine_group  \n4984   (2.0, inf]  \n4880   (1.5, 2.0]  \n9132   (1.5, 2.0]  \n6451   (1.5, 2.0]  \n7199   (1.5, 2.0]  ",
      "text/html": "<div>\n<style scoped>\n    .dataframe tbody tr th:only-of-type {\n        vertical-align: middle;\n    }\n\n    .dataframe tbody tr th {\n        vertical-align: top;\n    }\n\n    .dataframe thead th {\n        text-align: right;\n    }\n</style>\n<table border=\"1\" class=\"dataframe\">\n  <thead>\n    <tr style=\"text-align: right;\">\n      <th></th>\n      <th>model</th>\n      <th>year</th>\n      <th>price</th>\n      <th>transmission</th>\n      <th>mileage</th>\n      <th>fuelType</th>\n      <th>tax</th>\n      <th>mpg</th>\n      <th>engineSize</th>\n      <th>price_pred</th>\n      <th>error</th>\n      <th>error_abs</th>\n      <th>price_group</th>\n      <th>mileage_group</th>\n      <th>tax_group</th>\n      <th>mpg_group</th>\n      <th>engine_group</th>\n    </tr>\n  </thead>\n  <tbody>\n    <tr>\n      <th>4984</th>\n      <td>X6</td>\n      <td>2019</td>\n      <td>52990</td>\n      <td>Semi-Auto</td>\n      <td>3086</td>\n      <td>Diesel</td>\n      <td>145</td>\n      <td>34.9</td>\n      <td>3.0</td>\n      <td>56789.268481</td>\n      <td>3799.268481</td>\n      <td>3799.268481</td>\n      <td>(29990.0, 74990.0]</td>\n      <td>(0.999, 4063.2]</td>\n      <td>(125.0, 145.0]</td>\n      <td>(5.499, 42.2]</td>\n      <td>(2.0, inf]</td>\n    </tr>\n    <tr>\n      <th>4880</th>\n      <td>X1</td>\n      <td>2018</td>\n      <td>24081</td>\n      <td>Semi-Auto</td>\n      <td>13245</td>\n      <td>Diesel</td>\n      <td>150</td>\n      <td>60.1</td>\n      <td>2.0</td>\n      <td>22236.888207</td>\n      <td>-1844.111793</td>\n      <td>1844.111793</td>\n      <td>(23131.6, 29990.0]</td>\n      <td>(9825.4, 24299.0]</td>\n      <td>(145.0, 150.0]</td>\n      <td>(55.4, 64.2]</td>\n      <td>(1.5, 2.0]</td>\n    </tr>\n    <tr>\n      <th>9132</th>\n      <td>1 Series</td>\n      <td>2016</td>\n      <td>12999</td>\n      <td>Automatic</td>\n      <td>68949</td>\n      <td>Petrol</td>\n      <td>200</td>\n      <td>43.5</td>\n      <td>2.0</td>\n      <td>13529.705791</td>\n      <td>530.705791</td>\n      <td>530.705791</td>\n      <td>(1199.999, 13995.0]</td>\n      <td>(43519.8, 190000.0]</td>\n      <td>(150.0, 580.0]</td>\n      <td>(42.2, 50.4]</td>\n      <td>(1.5, 2.0]</td>\n    </tr>\n    <tr>\n      <th>6451</th>\n      <td>1 Series</td>\n      <td>2020</td>\n      <td>11995</td>\n      <td>Semi-Auto</td>\n      <td>10</td>\n      <td>Petrol</td>\n      <td>150</td>\n      <td>34.5</td>\n      <td>2.0</td>\n      <td>31815.676673</td>\n      <td>19820.676673</td>\n      <td>19820.676673</td>\n      <td>(1199.999, 13995.0]</td>\n      <td>(0.999, 4063.2]</td>\n      <td>(145.0, 150.0]</td>\n      <td>(5.499, 42.2]</td>\n      <td>(1.5, 2.0]</td>\n    </tr>\n    <tr>\n      <th>7199</th>\n      <td>3 Series</td>\n      <td>2020</td>\n      <td>29875</td>\n      <td>Semi-Auto</td>\n      <td>150</td>\n      <td>Petrol</td>\n      <td>145</td>\n      <td>42.2</td>\n      <td>2.0</td>\n      <td>35549.276658</td>\n      <td>5674.276658</td>\n      <td>5674.276658</td>\n      <td>(23131.6, 29990.0]</td>\n      <td>(0.999, 4063.2]</td>\n      <td>(125.0, 145.0]</td>\n      <td>(5.499, 42.2]</td>\n      <td>(1.5, 2.0]</td>\n    </tr>\n  </tbody>\n</table>\n</div>"
     },
     "execution_count": 86,
     "metadata": {},
     "output_type": "execute_result"
    }
   ],
   "source": [
    "test.head()"
   ],
   "metadata": {
    "collapsed": false,
    "pycharm": {
     "name": "#%%\n"
    }
   }
  },
  {
   "cell_type": "markdown",
   "source": [
    "##### Чем больше объём движка, тем модель сильнее ошибается"
   ],
   "metadata": {
    "collapsed": false,
    "pycharm": {
     "name": "#%% md\n"
    }
   }
  },
  {
   "cell_type": "code",
   "execution_count": 87,
   "outputs": [
    {
     "data": {
      "text/plain": "<pandas.io.formats.style.Styler at 0x1fa8aeb2c10>",
      "text/html": "<style type=\"text/css\">\n#T_c22ce_row0_col3 {\n  background-color: #312222;\n  color: #f1f1f1;\n}\n#T_c22ce_row1_col3 {\n  background-color: #721717;\n  color: #f1f1f1;\n}\n#T_c22ce_row2_col3 {\n  background-color: #ff0000;\n  color: #f1f1f1;\n}\n</style>\n<table id=\"T_c22ce\">\n  <thead>\n    <tr>\n      <th class=\"blank level0\" >&nbsp;</th>\n      <th id=\"T_c22ce_level0_col0\" class=\"col_heading level0 col0\" >error_abs_count</th>\n      <th id=\"T_c22ce_level0_col1\" class=\"col_heading level0 col1\" >error_abs_mean</th>\n      <th id=\"T_c22ce_level0_col2\" class=\"col_heading level0 col2\" >error_mean</th>\n      <th id=\"T_c22ce_level0_col3\" class=\"col_heading level0 col3\" >mean_error_diff</th>\n      <th id=\"T_c22ce_level0_col4\" class=\"col_heading level0 col4\" >mean_error</th>\n    </tr>\n    <tr>\n      <th class=\"index_name level0\" >engine_group</th>\n      <th class=\"blank col0\" >&nbsp;</th>\n      <th class=\"blank col1\" >&nbsp;</th>\n      <th class=\"blank col2\" >&nbsp;</th>\n      <th class=\"blank col3\" >&nbsp;</th>\n      <th class=\"blank col4\" >&nbsp;</th>\n    </tr>\n  </thead>\n  <tbody>\n    <tr>\n      <th id=\"T_c22ce_level0_row0\" class=\"row_heading level0 row0\" >(0.0, 1.5]</th>\n      <td id=\"T_c22ce_row0_col0\" class=\"data row0 col0\" >279</td>\n      <td id=\"T_c22ce_row0_col1\" class=\"data row0 col1\" >1135.531674</td>\n      <td id=\"T_c22ce_row0_col2\" class=\"data row0 col2\" >149.248281</td>\n      <td id=\"T_c22ce_row0_col3\" class=\"data row0 col3\" >-402.028392</td>\n      <td id=\"T_c22ce_row0_col4\" class=\"data row0 col4\" >1537.560066</td>\n    </tr>\n    <tr>\n      <th id=\"T_c22ce_level0_row1\" class=\"row_heading level0 row1\" >(1.5, 2.0]</th>\n      <td id=\"T_c22ce_row1_col0\" class=\"data row1 col0\" >1347</td>\n      <td id=\"T_c22ce_row1_col1\" class=\"data row1 col1\" >1423.236324</td>\n      <td id=\"T_c22ce_row1_col2\" class=\"data row1 col2\" >60.610112</td>\n      <td id=\"T_c22ce_row1_col3\" class=\"data row1 col3\" >-114.323742</td>\n      <td id=\"T_c22ce_row1_col4\" class=\"data row1 col4\" >1537.560066</td>\n    </tr>\n    <tr>\n      <th id=\"T_c22ce_level0_row2\" class=\"row_heading level0 row2\" >(2.0, inf]</th>\n      <td id=\"T_c22ce_row2_col0\" class=\"data row2 col0\" >524</td>\n      <td id=\"T_c22ce_row2_col1\" class=\"data row2 col1\" >2049.868683</td>\n      <td id=\"T_c22ce_row2_col2\" class=\"data row2 col2\" >265.297889</td>\n      <td id=\"T_c22ce_row2_col3\" class=\"data row2 col3\" >512.308617</td>\n      <td id=\"T_c22ce_row2_col4\" class=\"data row2 col4\" >1537.560066</td>\n    </tr>\n  </tbody>\n</table>\n"
     },
     "metadata": {},
     "output_type": "display_data"
    },
    {
     "name": "stdout",
     "output_type": "stream",
     "text": [
      "              error_abs_count  error_abs_mean  error_mean  mean_error_diff  \\\n",
      "engine_group                                                                 \n",
      "(0.0, 1.5]                279     1135.531674  149.248281      -402.028392   \n",
      "(1.5, 2.0]               1347     1423.236324   60.610112      -114.323742   \n",
      "(2.0, inf]                524     2049.868683  265.297889       512.308617   \n",
      "\n",
      "               mean_error  \n",
      "engine_group               \n",
      "(0.0, 1.5]    1537.560066  \n",
      "(1.5, 2.0]    1537.560066  \n",
      "(2.0, inf]    1537.560066  \n"
     ]
    }
   ],
   "source": [
    "print_error('engine_group')"
   ],
   "metadata": {
    "collapsed": false,
    "pycharm": {
     "name": "#%%\n"
    }
   }
  },
  {
   "cell_type": "code",
   "execution_count": 89,
   "outputs": [
    {
     "data": {
      "text/plain": "<Figure size 640x480 with 1 Axes>",
      "image/png": "[encoded data removed]"
     },
     "metadata": {},
     "output_type": "display_data"
    }
   ],
   "source": [
    "test.groupby('year').engineSize.mean().plot();"
   ],
   "metadata": {
    "collapsed": false,
    "pycharm": {
     "name": "#%%\n"
    }
   }
  },
  {
   "cell_type": "code",
   "execution_count": null,
   "outputs": [],
   "source": [],
   "metadata": {
    "collapsed": false,
    "pycharm": {
     "name": "#%%\n"
    }
   }
  }
 ],
 "metadata": {
  "kernelspec": {
   "display_name": "Python 3",
   "language": "python",
   "name": "python3"
  },
  "language_info": {
   "codemirror_mode": {
    "name": "ipython",
    "version": 2
   },
   "file_extension": ".py",
   "mimetype": "text/x-python",
   "name": "python",
   "nbconvert_exporter": "python",
   "pygments_lexer": "ipython2",
   "version": "2.7.6"
  }
 },
 "nbformat": 4,
 "nbformat_minor": 0
}